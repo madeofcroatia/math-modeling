{
 "cells": [
  {
   "cell_type": "markdown",
   "metadata": {},
   "source": [
    "The following is the 1-D Linear Convection equation:\n",
    "$$\n",
    "\\begin{equation*}\n",
    "    \\frac{\\partial u}{\\partial t} + c \\frac{\\partial u}{\\partial x} = 0.\n",
    "\\end{equation*}\n",
    "$$\n",
    "This PDE describes the propagation of a wave in one dimension. Let $u_0(x) = u(x, 0)$ describe the initial condition of the equation. The solution to the equation above is $u(x, t) = u_0(x - ct)$. We will try to see how we can recover this through time and space discretization.\n",
    "\n",
    "First, we split "
   ]
  },
  {
   "cell_type": "code",
   "execution_count": 1,
   "metadata": {},
   "outputs": [
    {
     "data": {
      "text/html": [
       "        <script type=\"text/javascript\">\n",
       "        window.PlotlyConfig = {MathJaxConfig: 'local'};\n",
       "        if (window.MathJax && window.MathJax.Hub && window.MathJax.Hub.Config) {window.MathJax.Hub.Config({SVG: {font: \"STIX-Web\"}});}\n",
       "        </script>\n",
       "        <script type=\"module\">import \"https://cdn.plot.ly/plotly-3.0.1.min\"</script>\n",
       "        "
      ]
     },
     "metadata": {},
     "output_type": "display_data"
    }
   ],
   "source": [
    "from plotly.offline import init_notebook_mode\n",
    "import plotly.express as px\n",
    "import numpy as np\n",
    "import plotly.graph_objects as go\n",
    "import pandas as pd\n",
    "import time, sys\n",
    "\n",
    "init_notebook_mode(connected=True)"
   ]
  },
  {
   "cell_type": "code",
   "execution_count": 2,
   "metadata": {},
   "outputs": [],
   "source": [
    "def convection_simulation(u0, Nx, Nt, dt, c=1, boundary_val=1):\n",
    "    dx = 2/(Nx - 1)\n",
    "    u = np.zeros((Nt + 1, Nx))\n",
    "\n",
    "    u[:] = boundary_val\n",
    "    u[0] = u0\n",
    "\n",
    "    for t in range(1, Nt + 1):\n",
    "        u[t][1:] = u[t - 1][1:] - c * dt / dx * (u[t - 1][1:] - u[t - 1][:Nx - 1])\n",
    "    \n",
    "    return u\n",
    "\n",
    "\n",
    "def square_wave_convection(Nx, Nt, dt, c=1, low=1, high=2):\n",
    "    dx = 2/(Nx - 1)\n",
    "    u0 = np.zeros(Nx)\n",
    "\n",
    "    u0[:] = low\n",
    "    u0[int(.5/dx):int(1/dx + 1)]  = high\n",
    "\n",
    "    return convection_simulation(u0, Nx, Nt, dt, c)\n",
    "\n",
    "def make_convection_animation(u, Nx, Nt, min_x, max_x, transition_time=0, frame_time=100):\n",
    "    u_df = pd.DataFrame({\n",
    "        \"x\": np.linspace(min_x, max_x, Nx),\n",
    "    })\n",
    "\n",
    "    for i in range(Nt + 1):\n",
    "        u_df[str(i)] = u[i]\n",
    "\n",
    "    fig = px.line(u_df.melt(\"x\"), x=\"x\", y=\"value\", animation_frame=\"variable\")\n",
    "    fig.layout.updatemenus[0].buttons[0].args[1][\"transition\"][\"duration\"] = transition_time\n",
    "    fig.layout.updatemenus[0].buttons[0].args[1]['frame']['duration'] = frame_time\n",
    "\n",
    "    return fig\n",
    "\n",
    "    \n"
   ]
  },
  {
   "cell_type": "code",
   "execution_count": 3,
   "metadata": {},
   "outputs": [
    {
     "data": {
      "application/vnd.plotly.v1+json": {
       "config": {
        "plotlyServerURL": "https://plot.ly"
       },
       "data": [
        {
         "hovertemplate": "variable=0<br>x=%{x}<br>value=%{y}<extra></extra>",
         "legendgroup": "",
         "line": {
          "color": "#636efa",
          "dash": "solid"
         },
         "marker": {
          "symbol": "circle"
         },
         "mode": "lines",
         "name": "",
         "orientation": "v",
         "showlegend": false,
         "type": "scatter",
         "x": {
          "bdata": "AAAAAAAAAACamZmZmZmpP5qZmZmZmbk/NDMzMzMzwz+amZmZmZnJPwAAAAAAANA/NDMzMzMz0z9nZmZmZmbWP5qZmZmZmdk/zczMzMzM3D8AAAAAAADgP5qZmZmZmeE/NDMzMzMz4z/NzMzMzMzkP2dmZmZmZuY/AAAAAAAA6D+amZmZmZnpPzQzMzMzM+s/zczMzMzM7D9nZmZmZmbuPwAAAAAAAPA/zczMzMzM8D+amZmZmZnxP2dmZmZmZvI/NDMzMzMz8z8AAAAAAAD0P83MzMzMzPQ/mpmZmZmZ9T9nZmZmZmb2PzQzMzMzM/c/AAAAAAAA+D/NzMzMzMz4P5qZmZmZmfk/Z2ZmZmZm+j80MzMzMzP7PwAAAAAAAPw/zczMzMzM/D+amZmZmZn9P2dmZmZmZv4/NDMzMzMz/z8AAAAAAAAAQA==",
          "dtype": "f8"
         },
         "xaxis": "x",
         "y": {
          "bdata": "AAAAAAAA8D8AAAAAAADwPwAAAAAAAPA/AAAAAAAA8D8AAAAAAADwPwAAAAAAAPA/AAAAAAAA8D8AAAAAAADwPwAAAAAAAPA/AAAAAAAA8D8AAAAAAAAAQAAAAAAAAABAAAAAAAAAAEAAAAAAAAAAQAAAAAAAAABAAAAAAAAAAEAAAAAAAAAAQAAAAAAAAABAAAAAAAAAAEAAAAAAAAAAQAAAAAAAAABAAAAAAAAA8D8AAAAAAADwPwAAAAAAAPA/AAAAAAAA8D8AAAAAAADwPwAAAAAAAPA/AAAAAAAA8D8AAAAAAADwPwAAAAAAAPA/AAAAAAAA8D8AAAAAAADwPwAAAAAAAPA/AAAAAAAA8D8AAAAAAADwPwAAAAAAAPA/AAAAAAAA8D8AAAAAAADwPwAAAAAAAPA/AAAAAAAA8D8AAAAAAADwPw==",
          "dtype": "f8"
         },
         "yaxis": "y"
        }
       ],
       "frames": [
        {
         "data": [
          {
           "hovertemplate": "variable=0<br>x=%{x}<br>value=%{y}<extra></extra>",
           "legendgroup": "",
           "line": {
            "color": "#636efa",
            "dash": "solid"
           },
           "marker": {
            "symbol": "circle"
           },
           "mode": "lines",
           "name": "",
           "orientation": "v",
           "showlegend": false,
           "type": "scatter",
           "x": {
            "bdata": "AAAAAAAAAACamZmZmZmpP5qZmZmZmbk/NDMzMzMzwz+amZmZmZnJPwAAAAAAANA/NDMzMzMz0z9nZmZmZmbWP5qZmZmZmdk/zczMzMzM3D8AAAAAAADgP5qZmZmZmeE/NDMzMzMz4z/NzMzMzMzkP2dmZmZmZuY/AAAAAAAA6D+amZmZmZnpPzQzMzMzM+s/zczMzMzM7D9nZmZmZmbuPwAAAAAAAPA/zczMzMzM8D+amZmZmZnxP2dmZmZmZvI/NDMzMzMz8z8AAAAAAAD0P83MzMzMzPQ/mpmZmZmZ9T9nZmZmZmb2PzQzMzMzM/c/AAAAAAAA+D/NzMzMzMz4P5qZmZmZmfk/Z2ZmZmZm+j80MzMzMzP7PwAAAAAAAPw/zczMzMzM/D+amZmZmZn9P2dmZmZmZv4/NDMzMzMz/z8AAAAAAAAAQA==",
            "dtype": "f8"
           },
           "xaxis": "x",
           "y": {
            "bdata": "AAAAAAAA8D8AAAAAAADwPwAAAAAAAPA/AAAAAAAA8D8AAAAAAADwPwAAAAAAAPA/AAAAAAAA8D8AAAAAAADwPwAAAAAAAPA/AAAAAAAA8D8AAAAAAAAAQAAAAAAAAABAAAAAAAAAAEAAAAAAAAAAQAAAAAAAAABAAAAAAAAAAEAAAAAAAAAAQAAAAAAAAABAAAAAAAAAAEAAAAAAAAAAQAAAAAAAAABAAAAAAAAA8D8AAAAAAADwPwAAAAAAAPA/AAAAAAAA8D8AAAAAAADwPwAAAAAAAPA/AAAAAAAA8D8AAAAAAADwPwAAAAAAAPA/AAAAAAAA8D8AAAAAAADwPwAAAAAAAPA/AAAAAAAA8D8AAAAAAADwPwAAAAAAAPA/AAAAAAAA8D8AAAAAAADwPwAAAAAAAPA/AAAAAAAA8D8AAAAAAADwPw==",
            "dtype": "f8"
           },
           "yaxis": "y"
          }
         ],
         "name": "0"
        },
        {
         "data": [
          {
           "hovertemplate": "variable=1<br>x=%{x}<br>value=%{y}<extra></extra>",
           "legendgroup": "",
           "line": {
            "color": "#636efa",
            "dash": "solid"
           },
           "marker": {
            "symbol": "circle"
           },
           "mode": "lines",
           "name": "",
           "orientation": "v",
           "showlegend": false,
           "type": "scatter",
           "x": {
            "bdata": "AAAAAAAAAACamZmZmZmpP5qZmZmZmbk/NDMzMzMzwz+amZmZmZnJPwAAAAAAANA/NDMzMzMz0z9nZmZmZmbWP5qZmZmZmdk/zczMzMzM3D8AAAAAAADgP5qZmZmZmeE/NDMzMzMz4z/NzMzMzMzkP2dmZmZmZuY/AAAAAAAA6D+amZmZmZnpPzQzMzMzM+s/zczMzMzM7D9nZmZmZmbuPwAAAAAAAPA/zczMzMzM8D+amZmZmZnxP2dmZmZmZvI/NDMzMzMz8z8AAAAAAAD0P83MzMzMzPQ/mpmZmZmZ9T9nZmZmZmb2PzQzMzMzM/c/AAAAAAAA+D/NzMzMzMz4P5qZmZmZmfk/Z2ZmZmZm+j80MzMzMzP7PwAAAAAAAPw/zczMzMzM/D+amZmZmZn9P2dmZmZmZv4/NDMzMzMz/z8AAAAAAAAAQA==",
            "dtype": "f8"
           },
           "xaxis": "x",
           "y": {
            "bdata": "AAAAAAAA8D8AAAAAAADwPwAAAAAAAPA/AAAAAAAA8D8AAAAAAADwPwAAAAAAAPA/AAAAAAAA8D8AAAAAAADwPwAAAAAAAPA/AAAAAAAA8D8AAAAAAAD4PwAAAAAAAABAAAAAAAAAAEAAAAAAAAAAQAAAAAAAAABAAAAAAAAAAEAAAAAAAAAAQAAAAAAAAABAAAAAAAAAAEAAAAAAAAAAQAAAAAAAAABAAAAAAAAA+D8AAAAAAADwPwAAAAAAAPA/AAAAAAAA8D8AAAAAAADwPwAAAAAAAPA/AAAAAAAA8D8AAAAAAADwPwAAAAAAAPA/AAAAAAAA8D8AAAAAAADwPwAAAAAAAPA/AAAAAAAA8D8AAAAAAADwPwAAAAAAAPA/AAAAAAAA8D8AAAAAAADwPwAAAAAAAPA/AAAAAAAA8D8AAAAAAADwPw==",
            "dtype": "f8"
           },
           "yaxis": "y"
          }
         ],
         "name": "1"
        },
        {
         "data": [
          {
           "hovertemplate": "variable=2<br>x=%{x}<br>value=%{y}<extra></extra>",
           "legendgroup": "",
           "line": {
            "color": "#636efa",
            "dash": "solid"
           },
           "marker": {
            "symbol": "circle"
           },
           "mode": "lines",
           "name": "",
           "orientation": "v",
           "showlegend": false,
           "type": "scatter",
           "x": {
            "bdata": "AAAAAAAAAACamZmZmZmpP5qZmZmZmbk/NDMzMzMzwz+amZmZmZnJPwAAAAAAANA/NDMzMzMz0z9nZmZmZmbWP5qZmZmZmdk/zczMzMzM3D8AAAAAAADgP5qZmZmZmeE/NDMzMzMz4z/NzMzMzMzkP2dmZmZmZuY/AAAAAAAA6D+amZmZmZnpPzQzMzMzM+s/zczMzMzM7D9nZmZmZmbuPwAAAAAAAPA/zczMzMzM8D+amZmZmZnxP2dmZmZmZvI/NDMzMzMz8z8AAAAAAAD0P83MzMzMzPQ/mpmZmZmZ9T9nZmZmZmb2PzQzMzMzM/c/AAAAAAAA+D/NzMzMzMz4P5qZmZmZmfk/Z2ZmZmZm+j80MzMzMzP7PwAAAAAAAPw/zczMzMzM/D+amZmZmZn9P2dmZmZmZv4/NDMzMzMz/z8AAAAAAAAAQA==",
            "dtype": "f8"
           },
           "xaxis": "x",
           "y": {
            "bdata": "AAAAAAAA8D8AAAAAAADwPwAAAAAAAPA/AAAAAAAA8D8AAAAAAADwPwAAAAAAAPA/AAAAAAAA8D8AAAAAAADwPwAAAAAAAPA/AAAAAAAA8D8AAAAAAAD0PwAAAAAAAPw/AAAAAAAAAEAAAAAAAAAAQAAAAAAAAABAAAAAAAAAAEAAAAAAAAAAQAAAAAAAAABAAAAAAAAAAEAAAAAAAAAAQAAAAAAAAABAAAAAAAAA/D8AAAAAAAD0PwAAAAAAAPA/AAAAAAAA8D8AAAAAAADwPwAAAAAAAPA/AAAAAAAA8D8AAAAAAADwPwAAAAAAAPA/AAAAAAAA8D8AAAAAAADwPwAAAAAAAPA/AAAAAAAA8D8AAAAAAADwPwAAAAAAAPA/AAAAAAAA8D8AAAAAAADwPwAAAAAAAPA/AAAAAAAA8D8AAAAAAADwPw==",
            "dtype": "f8"
           },
           "yaxis": "y"
          }
         ],
         "name": "2"
        },
        {
         "data": [
          {
           "hovertemplate": "variable=3<br>x=%{x}<br>value=%{y}<extra></extra>",
           "legendgroup": "",
           "line": {
            "color": "#636efa",
            "dash": "solid"
           },
           "marker": {
            "symbol": "circle"
           },
           "mode": "lines",
           "name": "",
           "orientation": "v",
           "showlegend": false,
           "type": "scatter",
           "x": {
            "bdata": "AAAAAAAAAACamZmZmZmpP5qZmZmZmbk/NDMzMzMzwz+amZmZmZnJPwAAAAAAANA/NDMzMzMz0z9nZmZmZmbWP5qZmZmZmdk/zczMzMzM3D8AAAAAAADgP5qZmZmZmeE/NDMzMzMz4z/NzMzMzMzkP2dmZmZmZuY/AAAAAAAA6D+amZmZmZnpPzQzMzMzM+s/zczMzMzM7D9nZmZmZmbuPwAAAAAAAPA/zczMzMzM8D+amZmZmZnxP2dmZmZmZvI/NDMzMzMz8z8AAAAAAAD0P83MzMzMzPQ/mpmZmZmZ9T9nZmZmZmb2PzQzMzMzM/c/AAAAAAAA+D/NzMzMzMz4P5qZmZmZmfk/Z2ZmZmZm+j80MzMzMzP7PwAAAAAAAPw/zczMzMzM/D+amZmZmZn9P2dmZmZmZv4/NDMzMzMz/z8AAAAAAAAAQA==",
            "dtype": "f8"
           },
           "xaxis": "x",
           "y": {
            "bdata": "AAAAAAAA8D8AAAAAAADwPwAAAAAAAPA/AAAAAAAA8D8AAAAAAADwPwAAAAAAAPA/AAAAAAAA8D8AAAAAAADwPwAAAAAAAPA/AAAAAAAA8D8AAAAAAADyPwAAAAAAAPg/AAAAAAAA/j8AAAAAAAAAQAAAAAAAAABAAAAAAAAAAEAAAAAAAAAAQAAAAAAAAABAAAAAAAAAAEAAAAAAAAAAQAAAAAAAAABAAAAAAAAA/j8AAAAAAAD4PwAAAAAAAPI/AAAAAAAA8D8AAAAAAADwPwAAAAAAAPA/AAAAAAAA8D8AAAAAAADwPwAAAAAAAPA/AAAAAAAA8D8AAAAAAADwPwAAAAAAAPA/AAAAAAAA8D8AAAAAAADwPwAAAAAAAPA/AAAAAAAA8D8AAAAAAADwPwAAAAAAAPA/AAAAAAAA8D8AAAAAAADwPw==",
            "dtype": "f8"
           },
           "yaxis": "y"
          }
         ],
         "name": "3"
        },
        {
         "data": [
          {
           "hovertemplate": "variable=4<br>x=%{x}<br>value=%{y}<extra></extra>",
           "legendgroup": "",
           "line": {
            "color": "#636efa",
            "dash": "solid"
           },
           "marker": {
            "symbol": "circle"
           },
           "mode": "lines",
           "name": "",
           "orientation": "v",
           "showlegend": false,
           "type": "scatter",
           "x": {
            "bdata": "AAAAAAAAAACamZmZmZmpP5qZmZmZmbk/NDMzMzMzwz+amZmZmZnJPwAAAAAAANA/NDMzMzMz0z9nZmZmZmbWP5qZmZmZmdk/zczMzMzM3D8AAAAAAADgP5qZmZmZmeE/NDMzMzMz4z/NzMzMzMzkP2dmZmZmZuY/AAAAAAAA6D+amZmZmZnpPzQzMzMzM+s/zczMzMzM7D9nZmZmZmbuPwAAAAAAAPA/zczMzMzM8D+amZmZmZnxP2dmZmZmZvI/NDMzMzMz8z8AAAAAAAD0P83MzMzMzPQ/mpmZmZmZ9T9nZmZmZmb2PzQzMzMzM/c/AAAAAAAA+D/NzMzMzMz4P5qZmZmZmfk/Z2ZmZmZm+j80MzMzMzP7PwAAAAAAAPw/zczMzMzM/D+amZmZmZn9P2dmZmZmZv4/NDMzMzMz/z8AAAAAAAAAQA==",
            "dtype": "f8"
           },
           "xaxis": "x",
           "y": {
            "bdata": "AAAAAAAA8D8AAAAAAADwPwAAAAAAAPA/AAAAAAAA8D8AAAAAAADwPwAAAAAAAPA/AAAAAAAA8D8AAAAAAADwPwAAAAAAAPA/AAAAAAAA8D8AAAAAAADxPwAAAAAAAPU/AAAAAAAA+z8AAAAAAAD/PwAAAAAAAABAAAAAAAAAAEAAAAAAAAAAQAAAAAAAAABAAAAAAAAAAEAAAAAAAAAAQAAAAAAAAABAAAAAAAAA/z8AAAAAAAD7PwAAAAAAAPU/AAAAAAAA8T8AAAAAAADwPwAAAAAAAPA/AAAAAAAA8D8AAAAAAADwPwAAAAAAAPA/AAAAAAAA8D8AAAAAAADwPwAAAAAAAPA/AAAAAAAA8D8AAAAAAADwPwAAAAAAAPA/AAAAAAAA8D8AAAAAAADwPwAAAAAAAPA/AAAAAAAA8D8AAAAAAADwPw==",
            "dtype": "f8"
           },
           "yaxis": "y"
          }
         ],
         "name": "4"
        },
        {
         "data": [
          {
           "hovertemplate": "variable=5<br>x=%{x}<br>value=%{y}<extra></extra>",
           "legendgroup": "",
           "line": {
            "color": "#636efa",
            "dash": "solid"
           },
           "marker": {
            "symbol": "circle"
           },
           "mode": "lines",
           "name": "",
           "orientation": "v",
           "showlegend": false,
           "type": "scatter",
           "x": {
            "bdata": "AAAAAAAAAACamZmZmZmpP5qZmZmZmbk/NDMzMzMzwz+amZmZmZnJPwAAAAAAANA/NDMzMzMz0z9nZmZmZmbWP5qZmZmZmdk/zczMzMzM3D8AAAAAAADgP5qZmZmZmeE/NDMzMzMz4z/NzMzMzMzkP2dmZmZmZuY/AAAAAAAA6D+amZmZmZnpPzQzMzMzM+s/zczMzMzM7D9nZmZmZmbuPwAAAAAAAPA/zczMzMzM8D+amZmZmZnxP2dmZmZmZvI/NDMzMzMz8z8AAAAAAAD0P83MzMzMzPQ/mpmZmZmZ9T9nZmZmZmb2PzQzMzMzM/c/AAAAAAAA+D/NzMzMzMz4P5qZmZmZmfk/Z2ZmZmZm+j80MzMzMzP7PwAAAAAAAPw/zczMzMzM/D+amZmZmZn9P2dmZmZmZv4/NDMzMzMz/z8AAAAAAAAAQA==",
            "dtype": "f8"
           },
           "xaxis": "x",
           "y": {
            "bdata": "AAAAAAAA8D8AAAAAAADwPwAAAAAAAPA/AAAAAAAA8D8AAAAAAADwPwAAAAAAAPA/AAAAAAAA8D8AAAAAAADwPwAAAAAAAPA/AAAAAAAA8D8AAAAAAIDwPwAAAAAAAPM/AAAAAAAA+D8AAAAAAAD9PwAAAAAAgP8/AAAAAAAAAEAAAAAAAAAAQAAAAAAAAABAAAAAAAAAAEAAAAAAAAAAQAAAAAAAAABAAAAAAACA/z8AAAAAAAD9PwAAAAAAAPg/AAAAAAAA8z8AAAAAAIDwPwAAAAAAAPA/AAAAAAAA8D8AAAAAAADwPwAAAAAAAPA/AAAAAAAA8D8AAAAAAADwPwAAAAAAAPA/AAAAAAAA8D8AAAAAAADwPwAAAAAAAPA/AAAAAAAA8D8AAAAAAADwPwAAAAAAAPA/AAAAAAAA8D8AAAAAAADwPw==",
            "dtype": "f8"
           },
           "yaxis": "y"
          }
         ],
         "name": "5"
        },
        {
         "data": [
          {
           "hovertemplate": "variable=6<br>x=%{x}<br>value=%{y}<extra></extra>",
           "legendgroup": "",
           "line": {
            "color": "#636efa",
            "dash": "solid"
           },
           "marker": {
            "symbol": "circle"
           },
           "mode": "lines",
           "name": "",
           "orientation": "v",
           "showlegend": false,
           "type": "scatter",
           "x": {
            "bdata": "AAAAAAAAAACamZmZmZmpP5qZmZmZmbk/NDMzMzMzwz+amZmZmZnJPwAAAAAAANA/NDMzMzMz0z9nZmZmZmbWP5qZmZmZmdk/zczMzMzM3D8AAAAAAADgP5qZmZmZmeE/NDMzMzMz4z/NzMzMzMzkP2dmZmZmZuY/AAAAAAAA6D+amZmZmZnpPzQzMzMzM+s/zczMzMzM7D9nZmZmZmbuPwAAAAAAAPA/zczMzMzM8D+amZmZmZnxP2dmZmZmZvI/NDMzMzMz8z8AAAAAAAD0P83MzMzMzPQ/mpmZmZmZ9T9nZmZmZmb2PzQzMzMzM/c/AAAAAAAA+D/NzMzMzMz4P5qZmZmZmfk/Z2ZmZmZm+j80MzMzMzP7PwAAAAAAAPw/zczMzMzM/D+amZmZmZn9P2dmZmZmZv4/NDMzMzMz/z8AAAAAAAAAQA==",
            "dtype": "f8"
           },
           "xaxis": "x",
           "y": {
            "bdata": "AAAAAAAA8D8AAAAAAADwPwAAAAAAAPA/AAAAAAAA8D8AAAAAAADwPwAAAAAAAPA/AAAAAAAA8D8AAAAAAADwPwAAAAAAAPA/AAAAAAAA8D8AAAAAAEDwPwAAAAAAwPE/AAAAAACA9T8AAAAAAID6PwAAAAAAQP4/AAAAAADA/z8AAAAAAAAAQAAAAAAAAABAAAAAAAAAAEAAAAAAAAAAQAAAAAAAAABAAAAAAADA/z8AAAAAAED+PwAAAAAAgPo/AAAAAACA9T8AAAAAAMDxPwAAAAAAQPA/AAAAAAAA8D8AAAAAAADwPwAAAAAAAPA/AAAAAAAA8D8AAAAAAADwPwAAAAAAAPA/AAAAAAAA8D8AAAAAAADwPwAAAAAAAPA/AAAAAAAA8D8AAAAAAADwPwAAAAAAAPA/AAAAAAAA8D8AAAAAAADwPw==",
            "dtype": "f8"
           },
           "yaxis": "y"
          }
         ],
         "name": "6"
        },
        {
         "data": [
          {
           "hovertemplate": "variable=7<br>x=%{x}<br>value=%{y}<extra></extra>",
           "legendgroup": "",
           "line": {
            "color": "#636efa",
            "dash": "solid"
           },
           "marker": {
            "symbol": "circle"
           },
           "mode": "lines",
           "name": "",
           "orientation": "v",
           "showlegend": false,
           "type": "scatter",
           "x": {
            "bdata": "AAAAAAAAAACamZmZmZmpP5qZmZmZmbk/NDMzMzMzwz+amZmZmZnJPwAAAAAAANA/NDMzMzMz0z9nZmZmZmbWP5qZmZmZmdk/zczMzMzM3D8AAAAAAADgP5qZmZmZmeE/NDMzMzMz4z/NzMzMzMzkP2dmZmZmZuY/AAAAAAAA6D+amZmZmZnpPzQzMzMzM+s/zczMzMzM7D9nZmZmZmbuPwAAAAAAAPA/zczMzMzM8D+amZmZmZnxP2dmZmZmZvI/NDMzMzMz8z8AAAAAAAD0P83MzMzMzPQ/mpmZmZmZ9T9nZmZmZmb2PzQzMzMzM/c/AAAAAAAA+D/NzMzMzMz4P5qZmZmZmfk/Z2ZmZmZm+j80MzMzMzP7PwAAAAAAAPw/zczMzMzM/D+amZmZmZn9P2dmZmZmZv4/NDMzMzMz/z8AAAAAAAAAQA==",
            "dtype": "f8"
           },
           "xaxis": "x",
           "y": {
            "bdata": "AAAAAAAA8D8AAAAAAADwPwAAAAAAAPA/AAAAAAAA8D8AAAAAAADwPwAAAAAAAPA/AAAAAAAA8D8AAAAAAADwPwAAAAAAAPA/AAAAAAAA8D8AAAAAACDwPwAAAAAAAPE/AAAAAACg8z8AAAAAAAD4PwAAAAAAYPw/AAAAAAAA/z8AAAAAAOD/PwAAAAAAAABAAAAAAAAAAEAAAAAAAAAAQAAAAAAAAABAAAAAAADg/z8AAAAAAAD/PwAAAAAAYPw/AAAAAAAA+D8AAAAAAKDzPwAAAAAAAPE/AAAAAAAg8D8AAAAAAADwPwAAAAAAAPA/AAAAAAAA8D8AAAAAAADwPwAAAAAAAPA/AAAAAAAA8D8AAAAAAADwPwAAAAAAAPA/AAAAAAAA8D8AAAAAAADwPwAAAAAAAPA/AAAAAAAA8D8AAAAAAADwPw==",
            "dtype": "f8"
           },
           "yaxis": "y"
          }
         ],
         "name": "7"
        },
        {
         "data": [
          {
           "hovertemplate": "variable=8<br>x=%{x}<br>value=%{y}<extra></extra>",
           "legendgroup": "",
           "line": {
            "color": "#636efa",
            "dash": "solid"
           },
           "marker": {
            "symbol": "circle"
           },
           "mode": "lines",
           "name": "",
           "orientation": "v",
           "showlegend": false,
           "type": "scatter",
           "x": {
            "bdata": "AAAAAAAAAACamZmZmZmpP5qZmZmZmbk/NDMzMzMzwz+amZmZmZnJPwAAAAAAANA/NDMzMzMz0z9nZmZmZmbWP5qZmZmZmdk/zczMzMzM3D8AAAAAAADgP5qZmZmZmeE/NDMzMzMz4z/NzMzMzMzkP2dmZmZmZuY/AAAAAAAA6D+amZmZmZnpPzQzMzMzM+s/zczMzMzM7D9nZmZmZmbuPwAAAAAAAPA/zczMzMzM8D+amZmZmZnxP2dmZmZmZvI/NDMzMzMz8z8AAAAAAAD0P83MzMzMzPQ/mpmZmZmZ9T9nZmZmZmb2PzQzMzMzM/c/AAAAAAAA+D/NzMzMzMz4P5qZmZmZmfk/Z2ZmZmZm+j80MzMzMzP7PwAAAAAAAPw/zczMzMzM/D+amZmZmZn9P2dmZmZmZv4/NDMzMzMz/z8AAAAAAAAAQA==",
            "dtype": "f8"
           },
           "xaxis": "x",
           "y": {
            "bdata": "AAAAAAAA8D8AAAAAAADwPwAAAAAAAPA/AAAAAAAA8D8AAAAAAADwPwAAAAAAAPA/AAAAAAAA8D8AAAAAAADwPwAAAAAAAPA/AAAAAAAA8D8AAAAAABDwPwAAAAAAkPA/AAAAAABQ8j8AAAAAAND1PwAAAAAAMPo/AAAAAACw/T8AAAAAAHD/PwAAAAAA8P8/AAAAAAAAAEAAAAAAAAAAQAAAAAAAAABAAAAAAADw/z8AAAAAAHD/PwAAAAAAsP0/AAAAAAAw+j8AAAAAAND1PwAAAAAAUPI/AAAAAACQ8D8AAAAAABDwPwAAAAAAAPA/AAAAAAAA8D8AAAAAAADwPwAAAAAAAPA/AAAAAAAA8D8AAAAAAADwPwAAAAAAAPA/AAAAAAAA8D8AAAAAAADwPwAAAAAAAPA/AAAAAAAA8D8AAAAAAADwPw==",
            "dtype": "f8"
           },
           "yaxis": "y"
          }
         ],
         "name": "8"
        },
        {
         "data": [
          {
           "hovertemplate": "variable=9<br>x=%{x}<br>value=%{y}<extra></extra>",
           "legendgroup": "",
           "line": {
            "color": "#636efa",
            "dash": "solid"
           },
           "marker": {
            "symbol": "circle"
           },
           "mode": "lines",
           "name": "",
           "orientation": "v",
           "showlegend": false,
           "type": "scatter",
           "x": {
            "bdata": "AAAAAAAAAACamZmZmZmpP5qZmZmZmbk/NDMzMzMzwz+amZmZmZnJPwAAAAAAANA/NDMzMzMz0z9nZmZmZmbWP5qZmZmZmdk/zczMzMzM3D8AAAAAAADgP5qZmZmZmeE/NDMzMzMz4z/NzMzMzMzkP2dmZmZmZuY/AAAAAAAA6D+amZmZmZnpPzQzMzMzM+s/zczMzMzM7D9nZmZmZmbuPwAAAAAAAPA/zczMzMzM8D+amZmZmZnxP2dmZmZmZvI/NDMzMzMz8z8AAAAAAAD0P83MzMzMzPQ/mpmZmZmZ9T9nZmZmZmb2PzQzMzMzM/c/AAAAAAAA+D/NzMzMzMz4P5qZmZmZmfk/Z2ZmZmZm+j80MzMzMzP7PwAAAAAAAPw/zczMzMzM/D+amZmZmZn9P2dmZmZmZv4/NDMzMzMz/z8AAAAAAAAAQA==",
            "dtype": "f8"
           },
           "xaxis": "x",
           "y": {
            "bdata": "AAAAAAAA8D8AAAAAAADwPwAAAAAAAPA/AAAAAAAA8D8AAAAAAADwPwAAAAAAAPA/AAAAAAAA8D8AAAAAAADwPwAAAAAAAPA/AAAAAAAA8D8AAAAAAAjwPwAAAAAAUPA/AAAAAABw8T8AAAAAABD0PwAAAAAAAPg/AAAAAADw+z8AAAAAAJD+PwAAAAAAsP8/AAAAAAD4/z8AAAAAAAAAQAAAAAAAAABAAAAAAAD4/z8AAAAAALD/PwAAAAAAkP4/AAAAAADw+z8AAAAAAAD4PwAAAAAAEPQ/AAAAAABw8T8AAAAAAFDwPwAAAAAACPA/AAAAAAAA8D8AAAAAAADwPwAAAAAAAPA/AAAAAAAA8D8AAAAAAADwPwAAAAAAAPA/AAAAAAAA8D8AAAAAAADwPwAAAAAAAPA/AAAAAAAA8D8AAAAAAADwPw==",
            "dtype": "f8"
           },
           "yaxis": "y"
          }
         ],
         "name": "9"
        },
        {
         "data": [
          {
           "hovertemplate": "variable=10<br>x=%{x}<br>value=%{y}<extra></extra>",
           "legendgroup": "",
           "line": {
            "color": "#636efa",
            "dash": "solid"
           },
           "marker": {
            "symbol": "circle"
           },
           "mode": "lines",
           "name": "",
           "orientation": "v",
           "showlegend": false,
           "type": "scatter",
           "x": {
            "bdata": "AAAAAAAAAACamZmZmZmpP5qZmZmZmbk/NDMzMzMzwz+amZmZmZnJPwAAAAAAANA/NDMzMzMz0z9nZmZmZmbWP5qZmZmZmdk/zczMzMzM3D8AAAAAAADgP5qZmZmZmeE/NDMzMzMz4z/NzMzMzMzkP2dmZmZmZuY/AAAAAAAA6D+amZmZmZnpPzQzMzMzM+s/zczMzMzM7D9nZmZmZmbuPwAAAAAAAPA/zczMzMzM8D+amZmZmZnxP2dmZmZmZvI/NDMzMzMz8z8AAAAAAAD0P83MzMzMzPQ/mpmZmZmZ9T9nZmZmZmb2PzQzMzMzM/c/AAAAAAAA+D/NzMzMzMz4P5qZmZmZmfk/Z2ZmZmZm+j80MzMzMzP7PwAAAAAAAPw/zczMzMzM/D+amZmZmZn9P2dmZmZmZv4/NDMzMzMz/z8AAAAAAAAAQA==",
            "dtype": "f8"
           },
           "xaxis": "x",
           "y": {
            "bdata": "AAAAAAAA8D8AAAAAAADwPwAAAAAAAPA/AAAAAAAA8D8AAAAAAADwPwAAAAAAAPA/AAAAAAAA8D8AAAAAAADwPwAAAAAAAPA/AAAAAAAA8D8AAAAAAATwPwAAAAAALPA/AAAAAADg8D8AAAAAAMDyPwAAAAAACPY/AAAAAAD4+T8AAAAAAED9PwAAAAAAIP8/AAAAAADU/z8AAAAAAPz/PwAAAAAAAABAAAAAAAD8/z8AAAAAANT/PwAAAAAAIP8/AAAAAABA/T8AAAAAAPj5PwAAAAAACPY/AAAAAADA8j8AAAAAAODwPwAAAAAALPA/AAAAAAAE8D8AAAAAAADwPwAAAAAAAPA/AAAAAAAA8D8AAAAAAADwPwAAAAAAAPA/AAAAAAAA8D8AAAAAAADwPwAAAAAAAPA/AAAAAAAA8D8AAAAAAADwPw==",
            "dtype": "f8"
           },
           "yaxis": "y"
          }
         ],
         "name": "10"
        },
        {
         "data": [
          {
           "hovertemplate": "variable=11<br>x=%{x}<br>value=%{y}<extra></extra>",
           "legendgroup": "",
           "line": {
            "color": "#636efa",
            "dash": "solid"
           },
           "marker": {
            "symbol": "circle"
           },
           "mode": "lines",
           "name": "",
           "orientation": "v",
           "showlegend": false,
           "type": "scatter",
           "x": {
            "bdata": "AAAAAAAAAACamZmZmZmpP5qZmZmZmbk/NDMzMzMzwz+amZmZmZnJPwAAAAAAANA/NDMzMzMz0z9nZmZmZmbWP5qZmZmZmdk/zczMzMzM3D8AAAAAAADgP5qZmZmZmeE/NDMzMzMz4z/NzMzMzMzkP2dmZmZmZuY/AAAAAAAA6D+amZmZmZnpPzQzMzMzM+s/zczMzMzM7D9nZmZmZmbuPwAAAAAAAPA/zczMzMzM8D+amZmZmZnxP2dmZmZmZvI/NDMzMzMz8z8AAAAAAAD0P83MzMzMzPQ/mpmZmZmZ9T9nZmZmZmb2PzQzMzMzM/c/AAAAAAAA+D/NzMzMzMz4P5qZmZmZmfk/Z2ZmZmZm+j80MzMzMzP7PwAAAAAAAPw/zczMzMzM/D+amZmZmZn9P2dmZmZmZv4/NDMzMzMz/z8AAAAAAAAAQA==",
            "dtype": "f8"
           },
           "xaxis": "x",
           "y": {
            "bdata": "AAAAAAAA8D8AAAAAAADwPwAAAAAAAPA/AAAAAAAA8D8AAAAAAADwPwAAAAAAAPA/AAAAAAAA8D8AAAAAAADwPwAAAAAAAPA/AAAAAAAA8D8AAAAAAALwPwAAAAAAGPA/AAAAAACG8D8AAAAAANDxPwAAAAAAZPQ/AAAAAAAA+D8AAAAAAJz7PwAAAAAAMP4/AAAAAAB6/z8AAAAAAOj/PwAAAAAA/v8/AAAAAAD+/z8AAAAAAOj/PwAAAAAAev8/AAAAAAAw/j8AAAAAAJz7PwAAAAAAAPg/AAAAAABk9D8AAAAAANDxPwAAAAAAhvA/AAAAAAAY8D8AAAAAAALwPwAAAAAAAPA/AAAAAAAA8D8AAAAAAADwPwAAAAAAAPA/AAAAAAAA8D8AAAAAAADwPwAAAAAAAPA/AAAAAAAA8D8AAAAAAADwPw==",
            "dtype": "f8"
           },
           "yaxis": "y"
          }
         ],
         "name": "11"
        },
        {
         "data": [
          {
           "hovertemplate": "variable=12<br>x=%{x}<br>value=%{y}<extra></extra>",
           "legendgroup": "",
           "line": {
            "color": "#636efa",
            "dash": "solid"
           },
           "marker": {
            "symbol": "circle"
           },
           "mode": "lines",
           "name": "",
           "orientation": "v",
           "showlegend": false,
           "type": "scatter",
           "x": {
            "bdata": "AAAAAAAAAACamZmZmZmpP5qZmZmZmbk/NDMzMzMzwz+amZmZmZnJPwAAAAAAANA/NDMzMzMz0z9nZmZmZmbWP5qZmZmZmdk/zczMzMzM3D8AAAAAAADgP5qZmZmZmeE/NDMzMzMz4z/NzMzMzMzkP2dmZmZmZuY/AAAAAAAA6D+amZmZmZnpPzQzMzMzM+s/zczMzMzM7D9nZmZmZmbuPwAAAAAAAPA/zczMzMzM8D+amZmZmZnxP2dmZmZmZvI/NDMzMzMz8z8AAAAAAAD0P83MzMzMzPQ/mpmZmZmZ9T9nZmZmZmb2PzQzMzMzM/c/AAAAAAAA+D/NzMzMzMz4P5qZmZmZmfk/Z2ZmZmZm+j80MzMzMzP7PwAAAAAAAPw/zczMzMzM/D+amZmZmZn9P2dmZmZmZv4/NDMzMzMz/z8AAAAAAAAAQA==",
            "dtype": "f8"
           },
           "xaxis": "x",
           "y": {
            "bdata": "AAAAAAAA8D8AAAAAAADwPwAAAAAAAPA/AAAAAAAA8D8AAAAAAADwPwAAAAAAAPA/AAAAAAAA8D8AAAAAAADwPwAAAAAAAPA/AAAAAAAA8D8AAAAAAAHwPwAAAAAADfA/AAAAAABP8D8AAAAAACvxPwAAAAAAGvM/AAAAAAAy9j8AAAAAAM75PwAAAAAA5vw/AAAAAADV/j8AAAAAALH/PwAAAAAA8/8/AAAAAAD+/z8AAAAAAPP/PwAAAAAAsf8/AAAAAADV/j8AAAAAAOb8PwAAAAAAzvk/AAAAAAAy9j8AAAAAABrzPwAAAAAAK/E/AAAAAABP8D8AAAAAAA3wPwAAAAAAAfA/AAAAAAAA8D8AAAAAAADwPwAAAAAAAPA/AAAAAAAA8D8AAAAAAADwPwAAAAAAAPA/AAAAAAAA8D8AAAAAAADwPw==",
            "dtype": "f8"
           },
           "yaxis": "y"
          }
         ],
         "name": "12"
        },
        {
         "data": [
          {
           "hovertemplate": "variable=13<br>x=%{x}<br>value=%{y}<extra></extra>",
           "legendgroup": "",
           "line": {
            "color": "#636efa",
            "dash": "solid"
           },
           "marker": {
            "symbol": "circle"
           },
           "mode": "lines",
           "name": "",
           "orientation": "v",
           "showlegend": false,
           "type": "scatter",
           "x": {
            "bdata": "AAAAAAAAAACamZmZmZmpP5qZmZmZmbk/NDMzMzMzwz+amZmZmZnJPwAAAAAAANA/NDMzMzMz0z9nZmZmZmbWP5qZmZmZmdk/zczMzMzM3D8AAAAAAADgP5qZmZmZmeE/NDMzMzMz4z/NzMzMzMzkP2dmZmZmZuY/AAAAAAAA6D+amZmZmZnpPzQzMzMzM+s/zczMzMzM7D9nZmZmZmbuPwAAAAAAAPA/zczMzMzM8D+amZmZmZnxP2dmZmZmZvI/NDMzMzMz8z8AAAAAAAD0P83MzMzMzPQ/mpmZmZmZ9T9nZmZmZmb2PzQzMzMzM/c/AAAAAAAA+D/NzMzMzMz4P5qZmZmZmfk/Z2ZmZmZm+j80MzMzMzP7PwAAAAAAAPw/zczMzMzM/D+amZmZmZn9P2dmZmZmZv4/NDMzMzMz/z8AAAAAAAAAQA==",
            "dtype": "f8"
           },
           "xaxis": "x",
           "y": {
            "bdata": "AAAAAAAA8D8AAAAAAADwPwAAAAAAAPA/AAAAAAAA8D8AAAAAAADwPwAAAAAAAPA/AAAAAAAA8D8AAAAAAADwPwAAAAAAAPA/AAAAAAAA8D8AAAAAgADwPwAAAAAAB/A/AAAAAAAu8D8AAAAAAL3wPwAAAACAIvI/AAAAAACm9D8AAAAAAAD4PwAAAAAAWvs/AAAAAIDd/T8AAAAAAEP/PwAAAAAA0v8/AAAAAID4/z8AAAAAgPj/PwAAAAAA0v8/AAAAAABD/z8AAAAAgN39PwAAAAAAWvs/AAAAAAAA+D8AAAAAAKb0PwAAAACAIvI/AAAAAAC98D8AAAAAAC7wPwAAAAAAB/A/AAAAAIAA8D8AAAAAAADwPwAAAAAAAPA/AAAAAAAA8D8AAAAAAADwPwAAAAAAAPA/AAAAAAAA8D8AAAAAAADwPw==",
            "dtype": "f8"
           },
           "yaxis": "y"
          }
         ],
         "name": "13"
        },
        {
         "data": [
          {
           "hovertemplate": "variable=14<br>x=%{x}<br>value=%{y}<extra></extra>",
           "legendgroup": "",
           "line": {
            "color": "#636efa",
            "dash": "solid"
           },
           "marker": {
            "symbol": "circle"
           },
           "mode": "lines",
           "name": "",
           "orientation": "v",
           "showlegend": false,
           "type": "scatter",
           "x": {
            "bdata": "AAAAAAAAAACamZmZmZmpP5qZmZmZmbk/NDMzMzMzwz+amZmZmZnJPwAAAAAAANA/NDMzMzMz0z9nZmZmZmbWP5qZmZmZmdk/zczMzMzM3D8AAAAAAADgP5qZmZmZmeE/NDMzMzMz4z/NzMzMzMzkP2dmZmZmZuY/AAAAAAAA6D+amZmZmZnpPzQzMzMzM+s/zczMzMzM7D9nZmZmZmbuPwAAAAAAAPA/zczMzMzM8D+amZmZmZnxP2dmZmZmZvI/NDMzMzMz8z8AAAAAAAD0P83MzMzMzPQ/mpmZmZmZ9T9nZmZmZmb2PzQzMzMzM/c/AAAAAAAA+D/NzMzMzMz4P5qZmZmZmfk/Z2ZmZmZm+j80MzMzMzP7PwAAAAAAAPw/zczMzMzM/D+amZmZmZn9P2dmZmZmZv4/NDMzMzMz/z8AAAAAAAAAQA==",
            "dtype": "f8"
           },
           "xaxis": "x",
           "y": {
            "bdata": "AAAAAAAA8D8AAAAAAADwPwAAAAAAAPA/AAAAAAAA8D8AAAAAAADwPwAAAAAAAPA/AAAAAAAA8D8AAAAAAADwPwAAAAAAAPA/AAAAAAAA8D8AAAAAQADwPwAAAADAA/A/AAAAAIAa8D8AAAAAgHXwPwAAAADAb/E/AAAAAEBk8z8AAAAAAFP2PwAAAAAArfk/AAAAAMCb/D8AAAAAQJD+PwAAAACAiv8/AAAAAEDl/z8AAAAAgPj/PwAAAABA5f8/AAAAAICK/z8AAAAAQJD+PwAAAADAm/w/AAAAAACt+T8AAAAAAFP2PwAAAABAZPM/AAAAAMBv8T8AAAAAgHXwPwAAAACAGvA/AAAAAMAD8D8AAAAAQADwPwAAAAAAAPA/AAAAAAAA8D8AAAAAAADwPwAAAAAAAPA/AAAAAAAA8D8AAAAAAADwPw==",
            "dtype": "f8"
           },
           "yaxis": "y"
          }
         ],
         "name": "14"
        },
        {
         "data": [
          {
           "hovertemplate": "variable=15<br>x=%{x}<br>value=%{y}<extra></extra>",
           "legendgroup": "",
           "line": {
            "color": "#636efa",
            "dash": "solid"
           },
           "marker": {
            "symbol": "circle"
           },
           "mode": "lines",
           "name": "",
           "orientation": "v",
           "showlegend": false,
           "type": "scatter",
           "x": {
            "bdata": "AAAAAAAAAACamZmZmZmpP5qZmZmZmbk/NDMzMzMzwz+amZmZmZnJPwAAAAAAANA/NDMzMzMz0z9nZmZmZmbWP5qZmZmZmdk/zczMzMzM3D8AAAAAAADgP5qZmZmZmeE/NDMzMzMz4z/NzMzMzMzkP2dmZmZmZuY/AAAAAAAA6D+amZmZmZnpPzQzMzMzM+s/zczMzMzM7D9nZmZmZmbuPwAAAAAAAPA/zczMzMzM8D+amZmZmZnxP2dmZmZmZvI/NDMzMzMz8z8AAAAAAAD0P83MzMzMzPQ/mpmZmZmZ9T9nZmZmZmb2PzQzMzMzM/c/AAAAAAAA+D/NzMzMzMz4P5qZmZmZmfk/Z2ZmZmZm+j80MzMzMzP7PwAAAAAAAPw/zczMzMzM/D+amZmZmZn9P2dmZmZmZv4/NDMzMzMz/z8AAAAAAAAAQA==",
            "dtype": "f8"
           },
           "xaxis": "x",
           "y": {
            "bdata": "AAAAAAAA8D8AAAAAAADwPwAAAAAAAPA/AAAAAAAA8D8AAAAAAADwPwAAAAAAAPA/AAAAAAAA8D8AAAAAAADwPwAAAAAAAPA/AAAAAAAA8D8AAAAAIADwPwAAAAAAAvA/AAAAACAP8D8AAAAAAEjwPwAAAACg8vA/AAAAAABq8j8AAAAAoNv0PwAAAAAAAPg/AAAAAGAk+z8AAAAAAJb9PwAAAABgDf8/AAAAAOC3/z8AAAAA4O7/PwAAAADg7v8/AAAAAOC3/z8AAAAAYA3/PwAAAAAAlv0/AAAAAGAk+z8AAAAAAAD4PwAAAACg2/Q/AAAAAABq8j8AAAAAoPLwPwAAAAAASPA/AAAAACAP8D8AAAAAAALwPwAAAAAgAPA/AAAAAAAA8D8AAAAAAADwPwAAAAAAAPA/AAAAAAAA8D8AAAAAAADwPw==",
            "dtype": "f8"
           },
           "yaxis": "y"
          }
         ],
         "name": "15"
        },
        {
         "data": [
          {
           "hovertemplate": "variable=16<br>x=%{x}<br>value=%{y}<extra></extra>",
           "legendgroup": "",
           "line": {
            "color": "#636efa",
            "dash": "solid"
           },
           "marker": {
            "symbol": "circle"
           },
           "mode": "lines",
           "name": "",
           "orientation": "v",
           "showlegend": false,
           "type": "scatter",
           "x": {
            "bdata": "AAAAAAAAAACamZmZmZmpP5qZmZmZmbk/NDMzMzMzwz+amZmZmZnJPwAAAAAAANA/NDMzMzMz0z9nZmZmZmbWP5qZmZmZmdk/zczMzMzM3D8AAAAAAADgP5qZmZmZmeE/NDMzMzMz4z/NzMzMzMzkP2dmZmZmZuY/AAAAAAAA6D+amZmZmZnpPzQzMzMzM+s/zczMzMzM7D9nZmZmZmbuPwAAAAAAAPA/zczMzMzM8D+amZmZmZnxP2dmZmZmZvI/NDMzMzMz8z8AAAAAAAD0P83MzMzMzPQ/mpmZmZmZ9T9nZmZmZmb2PzQzMzMzM/c/AAAAAAAA+D/NzMzMzMz4P5qZmZmZmfk/Z2ZmZmZm+j80MzMzMzP7PwAAAAAAAPw/zczMzMzM/D+amZmZmZn9P2dmZmZmZv4/NDMzMzMz/z8AAAAAAAAAQA==",
            "dtype": "f8"
           },
           "xaxis": "x",
           "y": {
            "bdata": "AAAAAAAA8D8AAAAAAADwPwAAAAAAAPA/AAAAAAAA8D8AAAAAAADwPwAAAAAAAPA/AAAAAAAA8D8AAAAAAADwPwAAAAAAAPA/AAAAAAAA8D8AAAAAEADwPwAAAAAQAfA/AAAAAJAI8D8AAAAAkCvwPwAAAABQnfA/AAAAAFCu8T8AAAAA0KLzPwAAAADQbfY/AAAAADCS+T8AAAAAMF38PwAAAACwUf4/AAAAAKBi/z8AAAAAYNP/PwAAAADg7v8/AAAAAGDT/z8AAAAAoGL/PwAAAACwUf4/AAAAADBd/D8AAAAAMJL5PwAAAADQbfY/AAAAANCi8z8AAAAAUK7xPwAAAABQnfA/AAAAAJAr8D8AAAAAkAjwPwAAAAAQAfA/AAAAABAA8D8AAAAAAADwPwAAAAAAAPA/AAAAAAAA8D8AAAAAAADwPw==",
            "dtype": "f8"
           },
           "yaxis": "y"
          }
         ],
         "name": "16"
        },
        {
         "data": [
          {
           "hovertemplate": "variable=17<br>x=%{x}<br>value=%{y}<extra></extra>",
           "legendgroup": "",
           "line": {
            "color": "#636efa",
            "dash": "solid"
           },
           "marker": {
            "symbol": "circle"
           },
           "mode": "lines",
           "name": "",
           "orientation": "v",
           "showlegend": false,
           "type": "scatter",
           "x": {
            "bdata": "AAAAAAAAAACamZmZmZmpP5qZmZmZmbk/NDMzMzMzwz+amZmZmZnJPwAAAAAAANA/NDMzMzMz0z9nZmZmZmbWP5qZmZmZmdk/zczMzMzM3D8AAAAAAADgP5qZmZmZmeE/NDMzMzMz4z/NzMzMzMzkP2dmZmZmZuY/AAAAAAAA6D+amZmZmZnpPzQzMzMzM+s/zczMzMzM7D9nZmZmZmbuPwAAAAAAAPA/zczMzMzM8D+amZmZmZnxP2dmZmZmZvI/NDMzMzMz8z8AAAAAAAD0P83MzMzMzPQ/mpmZmZmZ9T9nZmZmZmb2PzQzMzMzM/c/AAAAAAAA+D/NzMzMzMz4P5qZmZmZmfk/Z2ZmZmZm+j80MzMzMzP7PwAAAAAAAPw/zczMzMzM/D+amZmZmZn9P2dmZmZmZv4/NDMzMzMz/z8AAAAAAAAAQA==",
            "dtype": "f8"
           },
           "xaxis": "x",
           "y": {
            "bdata": "AAAAAAAA8D8AAAAAAADwPwAAAAAAAPA/AAAAAAAA8D8AAAAAAADwPwAAAAAAAPA/AAAAAAAA8D8AAAAAAADwPwAAAAAAAPA/AAAAAAAA8D8AAAAACADwPwAAAACQAPA/AAAAANAE8D8AAAAAEBrwPwAAAABwZPA/AAAAANAl8T8AAAAAkKjyPwAAAABQCPU/AAAAAAAA+D8AAAAAsPf6PwAAAABwV/0/AAAAACja/j8AAAAAAJv/PwAAAAAg4f8/AAAAACDh/z8AAAAAAJv/PwAAAAAo2v4/AAAAAHBX/T8AAAAAsPf6PwAAAAAAAPg/AAAAAFAI9T8AAAAAkKjyPwAAAADQJfE/AAAAAHBk8D8AAAAAEBrwPwAAAADQBPA/AAAAAJAA8D8AAAAACADwPwAAAAAAAPA/AAAAAAAA8D8AAAAAAADwPw==",
            "dtype": "f8"
           },
           "yaxis": "y"
          }
         ],
         "name": "17"
        },
        {
         "data": [
          {
           "hovertemplate": "variable=18<br>x=%{x}<br>value=%{y}<extra></extra>",
           "legendgroup": "",
           "line": {
            "color": "#636efa",
            "dash": "solid"
           },
           "marker": {
            "symbol": "circle"
           },
           "mode": "lines",
           "name": "",
           "orientation": "v",
           "showlegend": false,
           "type": "scatter",
           "x": {
            "bdata": "AAAAAAAAAACamZmZmZmpP5qZmZmZmbk/NDMzMzMzwz+amZmZmZnJPwAAAAAAANA/NDMzMzMz0z9nZmZmZmbWP5qZmZmZmdk/zczMzMzM3D8AAAAAAADgP5qZmZmZmeE/NDMzMzMz4z/NzMzMzMzkP2dmZmZmZuY/AAAAAAAA6D+amZmZmZnpPzQzMzMzM+s/zczMzMzM7D9nZmZmZmbuPwAAAAAAAPA/zczMzMzM8D+amZmZmZnxP2dmZmZmZvI/NDMzMzMz8z8AAAAAAAD0P83MzMzMzPQ/mpmZmZmZ9T9nZmZmZmb2PzQzMzMzM/c/AAAAAAAA+D/NzMzMzMz4P5qZmZmZmfk/Z2ZmZmZm+j80MzMzMzP7PwAAAAAAAPw/zczMzMzM/D+amZmZmZn9P2dmZmZmZv4/NDMzMzMz/z8AAAAAAAAAQA==",
            "dtype": "f8"
           },
           "xaxis": "x",
           "y": {
            "bdata": "AAAAAAAA8D8AAAAAAADwPwAAAAAAAPA/AAAAAAAA8D8AAAAAAADwPwAAAAAAAPA/AAAAAAAA8D8AAAAAAADwPwAAAAAAAPA/AAAAAAAA8D8AAAAABADwPwAAAABMAPA/AAAAALAC8D8AAAAAcA/wPwAAAABAP/A/AAAAACDF8D8AAAAAMOfxPwAAAABw2PM/AAAAACiE9j8AAAAA2Hv5PwAAAACQJ/w/AAAAAMwY/j8AAAAAlDr/PwAAAAAQvv8/AAAAACDh/z8AAAAAEL7/PwAAAACUOv8/AAAAAMwY/j8AAAAAkCf8PwAAAADYe/k/AAAAACiE9j8AAAAAcNjzPwAAAAAw5/E/AAAAACDF8D8AAAAAQD/wPwAAAABwD/A/AAAAALAC8D8AAAAATADwPwAAAAAEAPA/AAAAAAAA8D8AAAAAAADwPw==",
            "dtype": "f8"
           },
           "yaxis": "y"
          }
         ],
         "name": "18"
        },
        {
         "data": [
          {
           "hovertemplate": "variable=19<br>x=%{x}<br>value=%{y}<extra></extra>",
           "legendgroup": "",
           "line": {
            "color": "#636efa",
            "dash": "solid"
           },
           "marker": {
            "symbol": "circle"
           },
           "mode": "lines",
           "name": "",
           "orientation": "v",
           "showlegend": false,
           "type": "scatter",
           "x": {
            "bdata": "AAAAAAAAAACamZmZmZmpP5qZmZmZmbk/NDMzMzMzwz+amZmZmZnJPwAAAAAAANA/NDMzMzMz0z9nZmZmZmbWP5qZmZmZmdk/zczMzMzM3D8AAAAAAADgP5qZmZmZmeE/NDMzMzMz4z/NzMzMzMzkP2dmZmZmZuY/AAAAAAAA6D+amZmZmZnpPzQzMzMzM+s/zczMzMzM7D9nZmZmZmbuPwAAAAAAAPA/zczMzMzM8D+amZmZmZnxP2dmZmZmZvI/NDMzMzMz8z8AAAAAAAD0P83MzMzMzPQ/mpmZmZmZ9T9nZmZmZmb2PzQzMzMzM/c/AAAAAAAA+D/NzMzMzMz4P5qZmZmZmfk/Z2ZmZmZm+j80MzMzMzP7PwAAAAAAAPw/zczMzMzM/D+amZmZmZn9P2dmZmZmZv4/NDMzMzMz/z8AAAAAAAAAQA==",
            "dtype": "f8"
           },
           "xaxis": "x",
           "y": {
            "bdata": "AAAAAAAA8D8AAAAAAADwPwAAAAAAAPA/AAAAAAAA8D8AAAAAAADwPwAAAAAAAPA/AAAAAAAA8D8AAAAAAADwPwAAAAAAAPA/AAAAAAAA8D8AAAAAAgDwPwAAAAAoAPA/AAAAAH4B8D8AAAAAEAnwPwAAAABYJ/A/AAAAADCC8D8AAAAAKFbxPwAAAADQ3/I/AAAAAEwu9T8AAAAAAAD4PwAAAAC00fo/AAAAAC4g/T8AAAAAsKn+PwAAAABSfP8/AAAAAJjP/z8AAAAAmM//PwAAAABSfP8/AAAAALCp/j8AAAAALiD9PwAAAAC00fo/AAAAAAAA+D8AAAAATC71PwAAAADQ3/I/AAAAAChW8T8AAAAAMILwPwAAAABYJ/A/AAAAABAJ8D8AAAAAfgHwPwAAAAAoAPA/AAAAAAIA8D8AAAAAAADwPw==",
            "dtype": "f8"
           },
           "yaxis": "y"
          }
         ],
         "name": "19"
        },
        {
         "data": [
          {
           "hovertemplate": "variable=20<br>x=%{x}<br>value=%{y}<extra></extra>",
           "legendgroup": "",
           "line": {
            "color": "#636efa",
            "dash": "solid"
           },
           "marker": {
            "symbol": "circle"
           },
           "mode": "lines",
           "name": "",
           "orientation": "v",
           "showlegend": false,
           "type": "scatter",
           "x": {
            "bdata": "AAAAAAAAAACamZmZmZmpP5qZmZmZmbk/NDMzMzMzwz+amZmZmZnJPwAAAAAAANA/NDMzMzMz0z9nZmZmZmbWP5qZmZmZmdk/zczMzMzM3D8AAAAAAADgP5qZmZmZmeE/NDMzMzMz4z/NzMzMzMzkP2dmZmZmZuY/AAAAAAAA6D+amZmZmZnpPzQzMzMzM+s/zczMzMzM7D9nZmZmZmbuPwAAAAAAAPA/zczMzMzM8D+amZmZmZnxP2dmZmZmZvI/NDMzMzMz8z8AAAAAAAD0P83MzMzMzPQ/mpmZmZmZ9T9nZmZmZmb2PzQzMzMzM/c/AAAAAAAA+D/NzMzMzMz4P5qZmZmZmfk/Z2ZmZmZm+j80MzMzMzP7PwAAAAAAAPw/zczMzMzM/D+amZmZmZn9P2dmZmZmZv4/NDMzMzMz/z8AAAAAAAAAQA==",
            "dtype": "f8"
           },
           "xaxis": "x",
           "y": {
            "bdata": "AAAAAAAA8D8AAAAAAADwPwAAAAAAAPA/AAAAAAAA8D8AAAAAAADwPwAAAAAAAPA/AAAAAAAA8D8AAAAAAADwPwAAAAAAAPA/AAAAAAAA8D8AAAAAAQDwPwAAAAAVAPA/AAAAANMA8D8AAAAARwXwPwAAAAA0GPA/AAAAAMRU8D8AAAAALOzwPwAAAAD8GvI/AAAAAA4H9D8AAAAAJpf2PwAAAADaaPk/AAAAAPH4+z8AAAAA7+T9PwAAAAABE/8/AAAAAPWl/z8AAAAAmM//PwAAAAD1pf8/AAAAAAET/z8AAAAA7+T9PwAAAADx+Ps/AAAAANpo+T8AAAAAJpf2PwAAAAAOB/Q/AAAAAPwa8j8AAAAALOzwPwAAAADEVPA/AAAAADQY8D8AAAAARwXwPwAAAADTAPA/AAAAABUA8D8AAAAAAQDwPw==",
            "dtype": "f8"
           },
           "yaxis": "y"
          }
         ],
         "name": "20"
        },
        {
         "data": [
          {
           "hovertemplate": "variable=21<br>x=%{x}<br>value=%{y}<extra></extra>",
           "legendgroup": "",
           "line": {
            "color": "#636efa",
            "dash": "solid"
           },
           "marker": {
            "symbol": "circle"
           },
           "mode": "lines",
           "name": "",
           "orientation": "v",
           "showlegend": false,
           "type": "scatter",
           "x": {
            "bdata": "AAAAAAAAAACamZmZmZmpP5qZmZmZmbk/NDMzMzMzwz+amZmZmZnJPwAAAAAAANA/NDMzMzMz0z9nZmZmZmbWP5qZmZmZmdk/zczMzMzM3D8AAAAAAADgP5qZmZmZmeE/NDMzMzMz4z/NzMzMzMzkP2dmZmZmZuY/AAAAAAAA6D+amZmZmZnpPzQzMzMzM+s/zczMzMzM7D9nZmZmZmbuPwAAAAAAAPA/zczMzMzM8D+amZmZmZnxP2dmZmZmZvI/NDMzMzMz8z8AAAAAAAD0P83MzMzMzPQ/mpmZmZmZ9T9nZmZmZmb2PzQzMzMzM/c/AAAAAAAA+D/NzMzMzMz4P5qZmZmZmfk/Z2ZmZmZm+j80MzMzMzP7PwAAAAAAAPw/zczMzMzM/D+amZmZmZn9P2dmZmZmZv4/NDMzMzMz/z8AAAAAAAAAQA==",
            "dtype": "f8"
           },
           "xaxis": "x",
           "y": {
            "bdata": "AAAAAAAA8D8AAAAAAADwPwAAAAAAAPA/AAAAAAAA8D8AAAAAAADwPwAAAAAAAPA/AAAAAAAA8D8AAAAAAADwPwAAAAAAAPA/AAAAAAAA8D8AAACAAADwPwAAAAALAPA/AAAAAHQA8D8AAAAADQPwPwAAAIC9DvA/AAAAAHw28D8AAAAAeKDwPwAAAACUg/E/AAAAAAUR8z8AAAAAGk/1PwAAAAAAAPg/AAAAgOWw+j8AAAAA8O78PwAAAAD4e/4/AAAAAHtc/z8AAACAxrr/PwAAAIDGuv8/AAAAAHtc/z8AAAAA+Hv+PwAAAADw7vw/AAAAgOWw+j8AAAAAAAD4PwAAAAAaT/U/AAAAAAUR8z8AAAAAlIPxPwAAAAB4oPA/AAAAAHw28D8AAACAvQ7wPwAAAAANA/A/AAAAAHQA8D8AAAAACwDwPw==",
            "dtype": "f8"
           },
           "yaxis": "y"
          }
         ],
         "name": "21"
        },
        {
         "data": [
          {
           "hovertemplate": "variable=22<br>x=%{x}<br>value=%{y}<extra></extra>",
           "legendgroup": "",
           "line": {
            "color": "#636efa",
            "dash": "solid"
           },
           "marker": {
            "symbol": "circle"
           },
           "mode": "lines",
           "name": "",
           "orientation": "v",
           "showlegend": false,
           "type": "scatter",
           "x": {
            "bdata": "AAAAAAAAAACamZmZmZmpP5qZmZmZmbk/NDMzMzMzwz+amZmZmZnJPwAAAAAAANA/NDMzMzMz0z9nZmZmZmbWP5qZmZmZmdk/zczMzMzM3D8AAAAAAADgP5qZmZmZmeE/NDMzMzMz4z/NzMzMzMzkP2dmZmZmZuY/AAAAAAAA6D+amZmZmZnpPzQzMzMzM+s/zczMzMzM7D9nZmZmZmbuPwAAAAAAAPA/zczMzMzM8D+amZmZmZnxP2dmZmZmZvI/NDMzMzMz8z8AAAAAAAD0P83MzMzMzPQ/mpmZmZmZ9T9nZmZmZmb2PzQzMzMzM/c/AAAAAAAA+D/NzMzMzMz4P5qZmZmZmfk/Z2ZmZmZm+j80MzMzMzP7PwAAAAAAAPw/zczMzMzM/D+amZmZmZn9P2dmZmZmZv4/NDMzMzMz/z8AAAAAAAAAQA==",
            "dtype": "f8"
           },
           "xaxis": "x",
           "y": {
            "bdata": "AAAAAAAA8D8AAAAAAADwPwAAAAAAAPA/AAAAAAAA8D8AAAAAAADwPwAAAAAAAPA/AAAAAAAA8D8AAAAAAADwPwAAAAAAAPA/AAAAAAAA8D8AAABAAADwPwAAAMAFAPA/AAAAgD8A8D8AAACAwAHwPwAAAEDlCPA/AAAAwJwi8D8AAAAAemvwPwAAAAAGEvE/AAAAgExK8j8AAACADzD0PwAAAACNp/Y/AAAAwHJY+T8AAADA6s/7PwAAAAB0tf0/AAAAgDns/j8AAADAoIv/PwAAAIDGuv8/AAAAwKCL/z8AAACAOez+PwAAAAB0tf0/AAAAwOrP+z8AAADAclj5PwAAAACNp/Y/AAAAgA8w9D8AAACATEryPwAAAAAGEvE/AAAAAHpr8D8AAADAnCLwPwAAAEDlCPA/AAAAgMAB8D8AAACAPwDwPw==",
            "dtype": "f8"
           },
           "yaxis": "y"
          }
         ],
         "name": "22"
        },
        {
         "data": [
          {
           "hovertemplate": "variable=23<br>x=%{x}<br>value=%{y}<extra></extra>",
           "legendgroup": "",
           "line": {
            "color": "#636efa",
            "dash": "solid"
           },
           "marker": {
            "symbol": "circle"
           },
           "mode": "lines",
           "name": "",
           "orientation": "v",
           "showlegend": false,
           "type": "scatter",
           "x": {
            "bdata": "AAAAAAAAAACamZmZmZmpP5qZmZmZmbk/NDMzMzMzwz+amZmZmZnJPwAAAAAAANA/NDMzMzMz0z9nZmZmZmbWP5qZmZmZmdk/zczMzMzM3D8AAAAAAADgP5qZmZmZmeE/NDMzMzMz4z/NzMzMzMzkP2dmZmZmZuY/AAAAAAAA6D+amZmZmZnpPzQzMzMzM+s/zczMzMzM7D9nZmZmZmbuPwAAAAAAAPA/zczMzMzM8D+amZmZmZnxP2dmZmZmZvI/NDMzMzMz8z8AAAAAAAD0P83MzMzMzPQ/mpmZmZmZ9T9nZmZmZmb2PzQzMzMzM/c/AAAAAAAA+D/NzMzMzMz4P5qZmZmZmfk/Z2ZmZmZm+j80MzMzMzP7PwAAAAAAAPw/zczMzMzM/D+amZmZmZn9P2dmZmZmZv4/NDMzMzMz/z8AAAAAAAAAQA==",
            "dtype": "f8"
           },
           "xaxis": "x",
           "y": {
            "bdata": "AAAAAAAA8D8AAAAAAADwPwAAAAAAAPA/AAAAAAAA8D8AAAAAAADwPwAAAAAAAPA/AAAAAAAA8D8AAAAAAADwPwAAAAAAAPA/AAAAAAAA8D8AAAAgAADwPwAAAAADAPA/AAAAoCIA8D8AAAAAAAHwPwAAAOBSBfA/AAAAAMEV8D8AAABgC0fwPwAAAADAvvA/AAAAQCmu8T8AAAAALj3zPwAAAEDOa/U/AAAA4P//9z8AAADALpT6PwAAAGCvwvw/AAAAwNZQ/j8AAAAg7Tv/PwAAAKAzo/8/AAAAoDOj/z8AAAAg7Tv/PwAAAMDWUP4/AAAAYK/C/D8AAADALpT6PwAAAOD///c/AAAAQM5r9T8AAAAALj3zPwAAAEAprvE/AAAAAMC+8D8AAABgC0fwPwAAAADBFfA/AAAA4FIF8D8AAAAAAAHwPw==",
            "dtype": "f8"
           },
           "yaxis": "y"
          }
         ],
         "name": "23"
        },
        {
         "data": [
          {
           "hovertemplate": "variable=24<br>x=%{x}<br>value=%{y}<extra></extra>",
           "legendgroup": "",
           "line": {
            "color": "#636efa",
            "dash": "solid"
           },
           "marker": {
            "symbol": "circle"
           },
           "mode": "lines",
           "name": "",
           "orientation": "v",
           "showlegend": false,
           "type": "scatter",
           "x": {
            "bdata": "AAAAAAAAAACamZmZmZmpP5qZmZmZmbk/NDMzMzMzwz+amZmZmZnJPwAAAAAAANA/NDMzMzMz0z9nZmZmZmbWP5qZmZmZmdk/zczMzMzM3D8AAAAAAADgP5qZmZmZmeE/NDMzMzMz4z/NzMzMzMzkP2dmZmZmZuY/AAAAAAAA6D+amZmZmZnpPzQzMzMzM+s/zczMzMzM7D9nZmZmZmbuPwAAAAAAAPA/zczMzMzM8D+amZmZmZnxP2dmZmZmZvI/NDMzMzMz8z8AAAAAAAD0P83MzMzMzPQ/mpmZmZmZ9T9nZmZmZmb2PzQzMzMzM/c/AAAAAAAA+D/NzMzMzMz4P5qZmZmZmfk/Z2ZmZmZm+j80MzMzMzP7PwAAAAAAAPw/zczMzMzM/D+amZmZmZn9P2dmZmZmZv4/NDMzMzMz/z8AAAAAAAAAQA==",
            "dtype": "f8"
           },
           "xaxis": "x",
           "y": {
            "bdata": "AAAAAAAA8D8AAAAAAADwPwAAAAAAAPA/AAAAAAAA8D8AAAAAAADwPwAAAAAAAPA/AAAAAAAA8D8AAAAAAADwPwAAAAAAAPA/AAAAAAAA8D8AAAAQAADwPwAAAJABAPA/AAAA0BIA8D8AAABQkQDwPwAAAHApA/A/AAAA8IkN8D8AAAAwZi7wPwAAALDlgvA/AAAAoHQ28T8AAACgq3XyPwAAACB+VPQ/AAAAEOe19j8AAABQF0r5PwAAABBvq/s/AAAAEMOJ/T8AAADwYcb+PwAAAGCQb/8/AAAAoDOj/z8AAABgkG//PwAAAPBhxv4/AAAAEMOJ/T8AAAAQb6v7PwAAAFAXSvk/AAAAEOe19j8AAAAgflT0PwAAAKCrdfI/AAAAoHQ28T8AAACw5YLwPwAAADBmLvA/AAAA8IkN8D8AAABwKQPwPw==",
            "dtype": "f8"
           },
           "yaxis": "y"
          }
         ],
         "name": "24"
        },
        {
         "data": [
          {
           "hovertemplate": "variable=25<br>x=%{x}<br>value=%{y}<extra></extra>",
           "legendgroup": "",
           "line": {
            "color": "#636efa",
            "dash": "solid"
           },
           "marker": {
            "symbol": "circle"
           },
           "mode": "lines",
           "name": "",
           "orientation": "v",
           "showlegend": false,
           "type": "scatter",
           "x": {
            "bdata": "AAAAAAAAAACamZmZmZmpP5qZmZmZmbk/NDMzMzMzwz+amZmZmZnJPwAAAAAAANA/NDMzMzMz0z9nZmZmZmbWP5qZmZmZmdk/zczMzMzM3D8AAAAAAADgP5qZmZmZmeE/NDMzMzMz4z/NzMzMzMzkP2dmZmZmZuY/AAAAAAAA6D+amZmZmZnpPzQzMzMzM+s/zczMzMzM7D9nZmZmZmbuPwAAAAAAAPA/zczMzMzM8D+amZmZmZnxP2dmZmZmZvI/NDMzMzMz8z8AAAAAAAD0P83MzMzMzPQ/mpmZmZmZ9T9nZmZmZmb2PzQzMzMzM/c/AAAAAAAA+D/NzMzMzMz4P5qZmZmZmfk/Z2ZmZmZm+j80MzMzMzP7PwAAAAAAAPw/zczMzMzM/D+amZmZmZn9P2dmZmZmZv4/NDMzMzMz/z8AAAAAAAAAQA==",
            "dtype": "f8"
           },
           "xaxis": "x",
           "y": {
            "bdata": "AAAAAAAA8D8AAAAAAADwPwAAAAAAAPA/AAAAAAAA8D8AAAAAAADwPwAAAAAAAPA/AAAAAAAA8D8AAAAAAADwPwAAAAAAAPA/AAAAAAAA8D8AAAAIAADwPwAAANAAAPA/AAAAMAoA8D8AAAAQUgDwPwAAAGDdAfA/AAAAsFkI8D8AAAAQ+B3wPwAAAPClWPA/AAAAKK3c8D8AAAAgENbxPwAAAOAUZfM/AAAAmDKF9T8AAAAw///3PwAAADDDevo/AAAAEJma/D8AAACAEij+PwAAACj5Gv8/AAAAAGKJ/z8AAAAAYon/PwAAACj5Gv8/AAAAgBIo/j8AAAAQmZr8PwAAADDDevo/AAAAMP//9z8AAACYMoX1PwAAAOAUZfM/AAAAIBDW8T8AAAAordzwPwAAAPClWPA/AAAAEPgd8D8AAACwWQjwPw==",
            "dtype": "f8"
           },
           "yaxis": "y"
          }
         ],
         "name": "25"
        }
       ],
       "layout": {
        "legend": {
         "tracegroupgap": 0
        },
        "margin": {
         "t": 60
        },
        "sliders": [
         {
          "active": 0,
          "currentvalue": {
           "prefix": "variable="
          },
          "len": 0.9,
          "pad": {
           "b": 10,
           "t": 60
          },
          "steps": [
           {
            "args": [
             [
              "0"
             ],
             {
              "frame": {
               "duration": 0,
               "redraw": false
              },
              "fromcurrent": true,
              "mode": "immediate",
              "transition": {
               "duration": 0,
               "easing": "linear"
              }
             }
            ],
            "label": "0",
            "method": "animate"
           },
           {
            "args": [
             [
              "1"
             ],
             {
              "frame": {
               "duration": 0,
               "redraw": false
              },
              "fromcurrent": true,
              "mode": "immediate",
              "transition": {
               "duration": 0,
               "easing": "linear"
              }
             }
            ],
            "label": "1",
            "method": "animate"
           },
           {
            "args": [
             [
              "2"
             ],
             {
              "frame": {
               "duration": 0,
               "redraw": false
              },
              "fromcurrent": true,
              "mode": "immediate",
              "transition": {
               "duration": 0,
               "easing": "linear"
              }
             }
            ],
            "label": "2",
            "method": "animate"
           },
           {
            "args": [
             [
              "3"
             ],
             {
              "frame": {
               "duration": 0,
               "redraw": false
              },
              "fromcurrent": true,
              "mode": "immediate",
              "transition": {
               "duration": 0,
               "easing": "linear"
              }
             }
            ],
            "label": "3",
            "method": "animate"
           },
           {
            "args": [
             [
              "4"
             ],
             {
              "frame": {
               "duration": 0,
               "redraw": false
              },
              "fromcurrent": true,
              "mode": "immediate",
              "transition": {
               "duration": 0,
               "easing": "linear"
              }
             }
            ],
            "label": "4",
            "method": "animate"
           },
           {
            "args": [
             [
              "5"
             ],
             {
              "frame": {
               "duration": 0,
               "redraw": false
              },
              "fromcurrent": true,
              "mode": "immediate",
              "transition": {
               "duration": 0,
               "easing": "linear"
              }
             }
            ],
            "label": "5",
            "method": "animate"
           },
           {
            "args": [
             [
              "6"
             ],
             {
              "frame": {
               "duration": 0,
               "redraw": false
              },
              "fromcurrent": true,
              "mode": "immediate",
              "transition": {
               "duration": 0,
               "easing": "linear"
              }
             }
            ],
            "label": "6",
            "method": "animate"
           },
           {
            "args": [
             [
              "7"
             ],
             {
              "frame": {
               "duration": 0,
               "redraw": false
              },
              "fromcurrent": true,
              "mode": "immediate",
              "transition": {
               "duration": 0,
               "easing": "linear"
              }
             }
            ],
            "label": "7",
            "method": "animate"
           },
           {
            "args": [
             [
              "8"
             ],
             {
              "frame": {
               "duration": 0,
               "redraw": false
              },
              "fromcurrent": true,
              "mode": "immediate",
              "transition": {
               "duration": 0,
               "easing": "linear"
              }
             }
            ],
            "label": "8",
            "method": "animate"
           },
           {
            "args": [
             [
              "9"
             ],
             {
              "frame": {
               "duration": 0,
               "redraw": false
              },
              "fromcurrent": true,
              "mode": "immediate",
              "transition": {
               "duration": 0,
               "easing": "linear"
              }
             }
            ],
            "label": "9",
            "method": "animate"
           },
           {
            "args": [
             [
              "10"
             ],
             {
              "frame": {
               "duration": 0,
               "redraw": false
              },
              "fromcurrent": true,
              "mode": "immediate",
              "transition": {
               "duration": 0,
               "easing": "linear"
              }
             }
            ],
            "label": "10",
            "method": "animate"
           },
           {
            "args": [
             [
              "11"
             ],
             {
              "frame": {
               "duration": 0,
               "redraw": false
              },
              "fromcurrent": true,
              "mode": "immediate",
              "transition": {
               "duration": 0,
               "easing": "linear"
              }
             }
            ],
            "label": "11",
            "method": "animate"
           },
           {
            "args": [
             [
              "12"
             ],
             {
              "frame": {
               "duration": 0,
               "redraw": false
              },
              "fromcurrent": true,
              "mode": "immediate",
              "transition": {
               "duration": 0,
               "easing": "linear"
              }
             }
            ],
            "label": "12",
            "method": "animate"
           },
           {
            "args": [
             [
              "13"
             ],
             {
              "frame": {
               "duration": 0,
               "redraw": false
              },
              "fromcurrent": true,
              "mode": "immediate",
              "transition": {
               "duration": 0,
               "easing": "linear"
              }
             }
            ],
            "label": "13",
            "method": "animate"
           },
           {
            "args": [
             [
              "14"
             ],
             {
              "frame": {
               "duration": 0,
               "redraw": false
              },
              "fromcurrent": true,
              "mode": "immediate",
              "transition": {
               "duration": 0,
               "easing": "linear"
              }
             }
            ],
            "label": "14",
            "method": "animate"
           },
           {
            "args": [
             [
              "15"
             ],
             {
              "frame": {
               "duration": 0,
               "redraw": false
              },
              "fromcurrent": true,
              "mode": "immediate",
              "transition": {
               "duration": 0,
               "easing": "linear"
              }
             }
            ],
            "label": "15",
            "method": "animate"
           },
           {
            "args": [
             [
              "16"
             ],
             {
              "frame": {
               "duration": 0,
               "redraw": false
              },
              "fromcurrent": true,
              "mode": "immediate",
              "transition": {
               "duration": 0,
               "easing": "linear"
              }
             }
            ],
            "label": "16",
            "method": "animate"
           },
           {
            "args": [
             [
              "17"
             ],
             {
              "frame": {
               "duration": 0,
               "redraw": false
              },
              "fromcurrent": true,
              "mode": "immediate",
              "transition": {
               "duration": 0,
               "easing": "linear"
              }
             }
            ],
            "label": "17",
            "method": "animate"
           },
           {
            "args": [
             [
              "18"
             ],
             {
              "frame": {
               "duration": 0,
               "redraw": false
              },
              "fromcurrent": true,
              "mode": "immediate",
              "transition": {
               "duration": 0,
               "easing": "linear"
              }
             }
            ],
            "label": "18",
            "method": "animate"
           },
           {
            "args": [
             [
              "19"
             ],
             {
              "frame": {
               "duration": 0,
               "redraw": false
              },
              "fromcurrent": true,
              "mode": "immediate",
              "transition": {
               "duration": 0,
               "easing": "linear"
              }
             }
            ],
            "label": "19",
            "method": "animate"
           },
           {
            "args": [
             [
              "20"
             ],
             {
              "frame": {
               "duration": 0,
               "redraw": false
              },
              "fromcurrent": true,
              "mode": "immediate",
              "transition": {
               "duration": 0,
               "easing": "linear"
              }
             }
            ],
            "label": "20",
            "method": "animate"
           },
           {
            "args": [
             [
              "21"
             ],
             {
              "frame": {
               "duration": 0,
               "redraw": false
              },
              "fromcurrent": true,
              "mode": "immediate",
              "transition": {
               "duration": 0,
               "easing": "linear"
              }
             }
            ],
            "label": "21",
            "method": "animate"
           },
           {
            "args": [
             [
              "22"
             ],
             {
              "frame": {
               "duration": 0,
               "redraw": false
              },
              "fromcurrent": true,
              "mode": "immediate",
              "transition": {
               "duration": 0,
               "easing": "linear"
              }
             }
            ],
            "label": "22",
            "method": "animate"
           },
           {
            "args": [
             [
              "23"
             ],
             {
              "frame": {
               "duration": 0,
               "redraw": false
              },
              "fromcurrent": true,
              "mode": "immediate",
              "transition": {
               "duration": 0,
               "easing": "linear"
              }
             }
            ],
            "label": "23",
            "method": "animate"
           },
           {
            "args": [
             [
              "24"
             ],
             {
              "frame": {
               "duration": 0,
               "redraw": false
              },
              "fromcurrent": true,
              "mode": "immediate",
              "transition": {
               "duration": 0,
               "easing": "linear"
              }
             }
            ],
            "label": "24",
            "method": "animate"
           },
           {
            "args": [
             [
              "25"
             ],
             {
              "frame": {
               "duration": 0,
               "redraw": false
              },
              "fromcurrent": true,
              "mode": "immediate",
              "transition": {
               "duration": 0,
               "easing": "linear"
              }
             }
            ],
            "label": "25",
            "method": "animate"
           }
          ],
          "x": 0.1,
          "xanchor": "left",
          "y": 0,
          "yanchor": "top"
         }
        ],
        "template": {
         "data": {
          "bar": [
           {
            "error_x": {
             "color": "#2a3f5f"
            },
            "error_y": {
             "color": "#2a3f5f"
            },
            "marker": {
             "line": {
              "color": "#E5ECF6",
              "width": 0.5
             },
             "pattern": {
              "fillmode": "overlay",
              "size": 10,
              "solidity": 0.2
             }
            },
            "type": "bar"
           }
          ],
          "barpolar": [
           {
            "marker": {
             "line": {
              "color": "#E5ECF6",
              "width": 0.5
             },
             "pattern": {
              "fillmode": "overlay",
              "size": 10,
              "solidity": 0.2
             }
            },
            "type": "barpolar"
           }
          ],
          "carpet": [
           {
            "aaxis": {
             "endlinecolor": "#2a3f5f",
             "gridcolor": "white",
             "linecolor": "white",
             "minorgridcolor": "white",
             "startlinecolor": "#2a3f5f"
            },
            "baxis": {
             "endlinecolor": "#2a3f5f",
             "gridcolor": "white",
             "linecolor": "white",
             "minorgridcolor": "white",
             "startlinecolor": "#2a3f5f"
            },
            "type": "carpet"
           }
          ],
          "choropleth": [
           {
            "colorbar": {
             "outlinewidth": 0,
             "ticks": ""
            },
            "type": "choropleth"
           }
          ],
          "contour": [
           {
            "colorbar": {
             "outlinewidth": 0,
             "ticks": ""
            },
            "colorscale": [
             [
              0,
              "#0d0887"
             ],
             [
              0.1111111111111111,
              "#46039f"
             ],
             [
              0.2222222222222222,
              "#7201a8"
             ],
             [
              0.3333333333333333,
              "#9c179e"
             ],
             [
              0.4444444444444444,
              "#bd3786"
             ],
             [
              0.5555555555555556,
              "#d8576b"
             ],
             [
              0.6666666666666666,
              "#ed7953"
             ],
             [
              0.7777777777777778,
              "#fb9f3a"
             ],
             [
              0.8888888888888888,
              "#fdca26"
             ],
             [
              1,
              "#f0f921"
             ]
            ],
            "type": "contour"
           }
          ],
          "contourcarpet": [
           {
            "colorbar": {
             "outlinewidth": 0,
             "ticks": ""
            },
            "type": "contourcarpet"
           }
          ],
          "heatmap": [
           {
            "colorbar": {
             "outlinewidth": 0,
             "ticks": ""
            },
            "colorscale": [
             [
              0,
              "#0d0887"
             ],
             [
              0.1111111111111111,
              "#46039f"
             ],
             [
              0.2222222222222222,
              "#7201a8"
             ],
             [
              0.3333333333333333,
              "#9c179e"
             ],
             [
              0.4444444444444444,
              "#bd3786"
             ],
             [
              0.5555555555555556,
              "#d8576b"
             ],
             [
              0.6666666666666666,
              "#ed7953"
             ],
             [
              0.7777777777777778,
              "#fb9f3a"
             ],
             [
              0.8888888888888888,
              "#fdca26"
             ],
             [
              1,
              "#f0f921"
             ]
            ],
            "type": "heatmap"
           }
          ],
          "histogram": [
           {
            "marker": {
             "pattern": {
              "fillmode": "overlay",
              "size": 10,
              "solidity": 0.2
             }
            },
            "type": "histogram"
           }
          ],
          "histogram2d": [
           {
            "colorbar": {
             "outlinewidth": 0,
             "ticks": ""
            },
            "colorscale": [
             [
              0,
              "#0d0887"
             ],
             [
              0.1111111111111111,
              "#46039f"
             ],
             [
              0.2222222222222222,
              "#7201a8"
             ],
             [
              0.3333333333333333,
              "#9c179e"
             ],
             [
              0.4444444444444444,
              "#bd3786"
             ],
             [
              0.5555555555555556,
              "#d8576b"
             ],
             [
              0.6666666666666666,
              "#ed7953"
             ],
             [
              0.7777777777777778,
              "#fb9f3a"
             ],
             [
              0.8888888888888888,
              "#fdca26"
             ],
             [
              1,
              "#f0f921"
             ]
            ],
            "type": "histogram2d"
           }
          ],
          "histogram2dcontour": [
           {
            "colorbar": {
             "outlinewidth": 0,
             "ticks": ""
            },
            "colorscale": [
             [
              0,
              "#0d0887"
             ],
             [
              0.1111111111111111,
              "#46039f"
             ],
             [
              0.2222222222222222,
              "#7201a8"
             ],
             [
              0.3333333333333333,
              "#9c179e"
             ],
             [
              0.4444444444444444,
              "#bd3786"
             ],
             [
              0.5555555555555556,
              "#d8576b"
             ],
             [
              0.6666666666666666,
              "#ed7953"
             ],
             [
              0.7777777777777778,
              "#fb9f3a"
             ],
             [
              0.8888888888888888,
              "#fdca26"
             ],
             [
              1,
              "#f0f921"
             ]
            ],
            "type": "histogram2dcontour"
           }
          ],
          "mesh3d": [
           {
            "colorbar": {
             "outlinewidth": 0,
             "ticks": ""
            },
            "type": "mesh3d"
           }
          ],
          "parcoords": [
           {
            "line": {
             "colorbar": {
              "outlinewidth": 0,
              "ticks": ""
             }
            },
            "type": "parcoords"
           }
          ],
          "pie": [
           {
            "automargin": true,
            "type": "pie"
           }
          ],
          "scatter": [
           {
            "fillpattern": {
             "fillmode": "overlay",
             "size": 10,
             "solidity": 0.2
            },
            "type": "scatter"
           }
          ],
          "scatter3d": [
           {
            "line": {
             "colorbar": {
              "outlinewidth": 0,
              "ticks": ""
             }
            },
            "marker": {
             "colorbar": {
              "outlinewidth": 0,
              "ticks": ""
             }
            },
            "type": "scatter3d"
           }
          ],
          "scattercarpet": [
           {
            "marker": {
             "colorbar": {
              "outlinewidth": 0,
              "ticks": ""
             }
            },
            "type": "scattercarpet"
           }
          ],
          "scattergeo": [
           {
            "marker": {
             "colorbar": {
              "outlinewidth": 0,
              "ticks": ""
             }
            },
            "type": "scattergeo"
           }
          ],
          "scattergl": [
           {
            "marker": {
             "colorbar": {
              "outlinewidth": 0,
              "ticks": ""
             }
            },
            "type": "scattergl"
           }
          ],
          "scattermap": [
           {
            "marker": {
             "colorbar": {
              "outlinewidth": 0,
              "ticks": ""
             }
            },
            "type": "scattermap"
           }
          ],
          "scattermapbox": [
           {
            "marker": {
             "colorbar": {
              "outlinewidth": 0,
              "ticks": ""
             }
            },
            "type": "scattermapbox"
           }
          ],
          "scatterpolar": [
           {
            "marker": {
             "colorbar": {
              "outlinewidth": 0,
              "ticks": ""
             }
            },
            "type": "scatterpolar"
           }
          ],
          "scatterpolargl": [
           {
            "marker": {
             "colorbar": {
              "outlinewidth": 0,
              "ticks": ""
             }
            },
            "type": "scatterpolargl"
           }
          ],
          "scatterternary": [
           {
            "marker": {
             "colorbar": {
              "outlinewidth": 0,
              "ticks": ""
             }
            },
            "type": "scatterternary"
           }
          ],
          "surface": [
           {
            "colorbar": {
             "outlinewidth": 0,
             "ticks": ""
            },
            "colorscale": [
             [
              0,
              "#0d0887"
             ],
             [
              0.1111111111111111,
              "#46039f"
             ],
             [
              0.2222222222222222,
              "#7201a8"
             ],
             [
              0.3333333333333333,
              "#9c179e"
             ],
             [
              0.4444444444444444,
              "#bd3786"
             ],
             [
              0.5555555555555556,
              "#d8576b"
             ],
             [
              0.6666666666666666,
              "#ed7953"
             ],
             [
              0.7777777777777778,
              "#fb9f3a"
             ],
             [
              0.8888888888888888,
              "#fdca26"
             ],
             [
              1,
              "#f0f921"
             ]
            ],
            "type": "surface"
           }
          ],
          "table": [
           {
            "cells": {
             "fill": {
              "color": "#EBF0F8"
             },
             "line": {
              "color": "white"
             }
            },
            "header": {
             "fill": {
              "color": "#C8D4E3"
             },
             "line": {
              "color": "white"
             }
            },
            "type": "table"
           }
          ]
         },
         "layout": {
          "annotationdefaults": {
           "arrowcolor": "#2a3f5f",
           "arrowhead": 0,
           "arrowwidth": 1
          },
          "autotypenumbers": "strict",
          "coloraxis": {
           "colorbar": {
            "outlinewidth": 0,
            "ticks": ""
           }
          },
          "colorscale": {
           "diverging": [
            [
             0,
             "#8e0152"
            ],
            [
             0.1,
             "#c51b7d"
            ],
            [
             0.2,
             "#de77ae"
            ],
            [
             0.3,
             "#f1b6da"
            ],
            [
             0.4,
             "#fde0ef"
            ],
            [
             0.5,
             "#f7f7f7"
            ],
            [
             0.6,
             "#e6f5d0"
            ],
            [
             0.7,
             "#b8e186"
            ],
            [
             0.8,
             "#7fbc41"
            ],
            [
             0.9,
             "#4d9221"
            ],
            [
             1,
             "#276419"
            ]
           ],
           "sequential": [
            [
             0,
             "#0d0887"
            ],
            [
             0.1111111111111111,
             "#46039f"
            ],
            [
             0.2222222222222222,
             "#7201a8"
            ],
            [
             0.3333333333333333,
             "#9c179e"
            ],
            [
             0.4444444444444444,
             "#bd3786"
            ],
            [
             0.5555555555555556,
             "#d8576b"
            ],
            [
             0.6666666666666666,
             "#ed7953"
            ],
            [
             0.7777777777777778,
             "#fb9f3a"
            ],
            [
             0.8888888888888888,
             "#fdca26"
            ],
            [
             1,
             "#f0f921"
            ]
           ],
           "sequentialminus": [
            [
             0,
             "#0d0887"
            ],
            [
             0.1111111111111111,
             "#46039f"
            ],
            [
             0.2222222222222222,
             "#7201a8"
            ],
            [
             0.3333333333333333,
             "#9c179e"
            ],
            [
             0.4444444444444444,
             "#bd3786"
            ],
            [
             0.5555555555555556,
             "#d8576b"
            ],
            [
             0.6666666666666666,
             "#ed7953"
            ],
            [
             0.7777777777777778,
             "#fb9f3a"
            ],
            [
             0.8888888888888888,
             "#fdca26"
            ],
            [
             1,
             "#f0f921"
            ]
           ]
          },
          "colorway": [
           "#636efa",
           "#EF553B",
           "#00cc96",
           "#ab63fa",
           "#FFA15A",
           "#19d3f3",
           "#FF6692",
           "#B6E880",
           "#FF97FF",
           "#FECB52"
          ],
          "font": {
           "color": "#2a3f5f"
          },
          "geo": {
           "bgcolor": "white",
           "lakecolor": "white",
           "landcolor": "#E5ECF6",
           "showlakes": true,
           "showland": true,
           "subunitcolor": "white"
          },
          "hoverlabel": {
           "align": "left"
          },
          "hovermode": "closest",
          "mapbox": {
           "style": "light"
          },
          "paper_bgcolor": "white",
          "plot_bgcolor": "#E5ECF6",
          "polar": {
           "angularaxis": {
            "gridcolor": "white",
            "linecolor": "white",
            "ticks": ""
           },
           "bgcolor": "#E5ECF6",
           "radialaxis": {
            "gridcolor": "white",
            "linecolor": "white",
            "ticks": ""
           }
          },
          "scene": {
           "xaxis": {
            "backgroundcolor": "#E5ECF6",
            "gridcolor": "white",
            "gridwidth": 2,
            "linecolor": "white",
            "showbackground": true,
            "ticks": "",
            "zerolinecolor": "white"
           },
           "yaxis": {
            "backgroundcolor": "#E5ECF6",
            "gridcolor": "white",
            "gridwidth": 2,
            "linecolor": "white",
            "showbackground": true,
            "ticks": "",
            "zerolinecolor": "white"
           },
           "zaxis": {
            "backgroundcolor": "#E5ECF6",
            "gridcolor": "white",
            "gridwidth": 2,
            "linecolor": "white",
            "showbackground": true,
            "ticks": "",
            "zerolinecolor": "white"
           }
          },
          "shapedefaults": {
           "line": {
            "color": "#2a3f5f"
           }
          },
          "ternary": {
           "aaxis": {
            "gridcolor": "white",
            "linecolor": "white",
            "ticks": ""
           },
           "baxis": {
            "gridcolor": "white",
            "linecolor": "white",
            "ticks": ""
           },
           "bgcolor": "#E5ECF6",
           "caxis": {
            "gridcolor": "white",
            "linecolor": "white",
            "ticks": ""
           }
          },
          "title": {
           "x": 0.05
          },
          "xaxis": {
           "automargin": true,
           "gridcolor": "white",
           "linecolor": "white",
           "ticks": "",
           "title": {
            "standoff": 15
           },
           "zerolinecolor": "white",
           "zerolinewidth": 2
          },
          "yaxis": {
           "automargin": true,
           "gridcolor": "white",
           "linecolor": "white",
           "ticks": "",
           "title": {
            "standoff": 15
           },
           "zerolinecolor": "white",
           "zerolinewidth": 2
          }
         }
        },
        "updatemenus": [
         {
          "buttons": [
           {
            "args": [
             null,
             {
              "frame": {
               "duration": 100,
               "redraw": false
              },
              "fromcurrent": true,
              "mode": "immediate",
              "transition": {
               "duration": 0,
               "easing": "linear"
              }
             }
            ],
            "label": "&#9654;",
            "method": "animate"
           },
           {
            "args": [
             [
              null
             ],
             {
              "frame": {
               "duration": 0,
               "redraw": false
              },
              "fromcurrent": true,
              "mode": "immediate",
              "transition": {
               "duration": 0,
               "easing": "linear"
              }
             }
            ],
            "label": "&#9724;",
            "method": "animate"
           }
          ],
          "direction": "left",
          "pad": {
           "r": 10,
           "t": 70
          },
          "showactive": false,
          "type": "buttons",
          "x": 0.1,
          "xanchor": "right",
          "y": 0,
          "yanchor": "top"
         }
        ],
        "xaxis": {
         "anchor": "y",
         "domain": [
          0,
          1
         ],
         "title": {
          "text": "x"
         }
        },
        "yaxis": {
         "anchor": "x",
         "domain": [
          0,
          1
         ],
         "title": {
          "text": "value"
         }
        }
       }
      },
      "text/html": [
       "<div>            <script src=\"https://cdnjs.cloudflare.com/ajax/libs/mathjax/2.7.5/MathJax.js?config=TeX-AMS-MML_SVG\"></script><script type=\"text/javascript\">if (window.MathJax && window.MathJax.Hub && window.MathJax.Hub.Config) {window.MathJax.Hub.Config({SVG: {font: \"STIX-Web\"}});}</script>                <script type=\"text/javascript\">window.PlotlyConfig = {MathJaxConfig: 'local'};</script>\n",
       "        <script charset=\"utf-8\" src=\"https://cdn.plot.ly/plotly-3.0.1.min.js\"></script>                <div id=\"06d2cf62-c733-4c3b-8097-3a35ebfd2e62\" class=\"plotly-graph-div\" style=\"height:525px; width:100%;\"></div>            <script type=\"text/javascript\">                window.PLOTLYENV=window.PLOTLYENV || {};                                if (document.getElementById(\"06d2cf62-c733-4c3b-8097-3a35ebfd2e62\")) {                    Plotly.newPlot(                        \"06d2cf62-c733-4c3b-8097-3a35ebfd2e62\",                        [{\"hovertemplate\":\"variable=0\\u003cbr\\u003ex=%{x}\\u003cbr\\u003evalue=%{y}\\u003cextra\\u003e\\u003c\\u002fextra\\u003e\",\"legendgroup\":\"\",\"line\":{\"color\":\"#636efa\",\"dash\":\"solid\"},\"marker\":{\"symbol\":\"circle\"},\"mode\":\"lines\",\"name\":\"\",\"orientation\":\"v\",\"showlegend\":false,\"x\":{\"dtype\":\"f8\",\"bdata\":\"AAAAAAAAAACamZmZmZmpP5qZmZmZmbk\\u002fNDMzMzMzwz+amZmZmZnJPwAAAAAAANA\\u002fNDMzMzMz0z9nZmZmZmbWP5qZmZmZmdk\\u002fzczMzMzM3D8AAAAAAADgP5qZmZmZmeE\\u002fNDMzMzMz4z\\u002fNzMzMzMzkP2dmZmZmZuY\\u002fAAAAAAAA6D+amZmZmZnpPzQzMzMzM+s\\u002fzczMzMzM7D9nZmZmZmbuPwAAAAAAAPA\\u002fzczMzMzM8D+amZmZmZnxP2dmZmZmZvI\\u002fNDMzMzMz8z8AAAAAAAD0P83MzMzMzPQ\\u002fmpmZmZmZ9T9nZmZmZmb2PzQzMzMzM\\u002fc\\u002fAAAAAAAA+D\\u002fNzMzMzMz4P5qZmZmZmfk\\u002fZ2ZmZmZm+j80MzMzMzP7PwAAAAAAAPw\\u002fzczMzMzM\\u002fD+amZmZmZn9P2dmZmZmZv4\\u002fNDMzMzMz\\u002fz8AAAAAAAAAQA==\"},\"xaxis\":\"x\",\"y\":{\"dtype\":\"f8\",\"bdata\":\"AAAAAAAA8D8AAAAAAADwPwAAAAAAAPA\\u002fAAAAAAAA8D8AAAAAAADwPwAAAAAAAPA\\u002fAAAAAAAA8D8AAAAAAADwPwAAAAAAAPA\\u002fAAAAAAAA8D8AAAAAAAAAQAAAAAAAAABAAAAAAAAAAEAAAAAAAAAAQAAAAAAAAABAAAAAAAAAAEAAAAAAAAAAQAAAAAAAAABAAAAAAAAAAEAAAAAAAAAAQAAAAAAAAABAAAAAAAAA8D8AAAAAAADwPwAAAAAAAPA\\u002fAAAAAAAA8D8AAAAAAADwPwAAAAAAAPA\\u002fAAAAAAAA8D8AAAAAAADwPwAAAAAAAPA\\u002fAAAAAAAA8D8AAAAAAADwPwAAAAAAAPA\\u002fAAAAAAAA8D8AAAAAAADwPwAAAAAAAPA\\u002fAAAAAAAA8D8AAAAAAADwPwAAAAAAAPA\\u002fAAAAAAAA8D8AAAAAAADwPw==\"},\"yaxis\":\"y\",\"type\":\"scatter\"}],                        {\"template\":{\"data\":{\"histogram2dcontour\":[{\"type\":\"histogram2dcontour\",\"colorbar\":{\"outlinewidth\":0,\"ticks\":\"\"},\"colorscale\":[[0.0,\"#0d0887\"],[0.1111111111111111,\"#46039f\"],[0.2222222222222222,\"#7201a8\"],[0.3333333333333333,\"#9c179e\"],[0.4444444444444444,\"#bd3786\"],[0.5555555555555556,\"#d8576b\"],[0.6666666666666666,\"#ed7953\"],[0.7777777777777778,\"#fb9f3a\"],[0.8888888888888888,\"#fdca26\"],[1.0,\"#f0f921\"]]}],\"choropleth\":[{\"type\":\"choropleth\",\"colorbar\":{\"outlinewidth\":0,\"ticks\":\"\"}}],\"histogram2d\":[{\"type\":\"histogram2d\",\"colorbar\":{\"outlinewidth\":0,\"ticks\":\"\"},\"colorscale\":[[0.0,\"#0d0887\"],[0.1111111111111111,\"#46039f\"],[0.2222222222222222,\"#7201a8\"],[0.3333333333333333,\"#9c179e\"],[0.4444444444444444,\"#bd3786\"],[0.5555555555555556,\"#d8576b\"],[0.6666666666666666,\"#ed7953\"],[0.7777777777777778,\"#fb9f3a\"],[0.8888888888888888,\"#fdca26\"],[1.0,\"#f0f921\"]]}],\"heatmap\":[{\"type\":\"heatmap\",\"colorbar\":{\"outlinewidth\":0,\"ticks\":\"\"},\"colorscale\":[[0.0,\"#0d0887\"],[0.1111111111111111,\"#46039f\"],[0.2222222222222222,\"#7201a8\"],[0.3333333333333333,\"#9c179e\"],[0.4444444444444444,\"#bd3786\"],[0.5555555555555556,\"#d8576b\"],[0.6666666666666666,\"#ed7953\"],[0.7777777777777778,\"#fb9f3a\"],[0.8888888888888888,\"#fdca26\"],[1.0,\"#f0f921\"]]}],\"contourcarpet\":[{\"type\":\"contourcarpet\",\"colorbar\":{\"outlinewidth\":0,\"ticks\":\"\"}}],\"contour\":[{\"type\":\"contour\",\"colorbar\":{\"outlinewidth\":0,\"ticks\":\"\"},\"colorscale\":[[0.0,\"#0d0887\"],[0.1111111111111111,\"#46039f\"],[0.2222222222222222,\"#7201a8\"],[0.3333333333333333,\"#9c179e\"],[0.4444444444444444,\"#bd3786\"],[0.5555555555555556,\"#d8576b\"],[0.6666666666666666,\"#ed7953\"],[0.7777777777777778,\"#fb9f3a\"],[0.8888888888888888,\"#fdca26\"],[1.0,\"#f0f921\"]]}],\"surface\":[{\"type\":\"surface\",\"colorbar\":{\"outlinewidth\":0,\"ticks\":\"\"},\"colorscale\":[[0.0,\"#0d0887\"],[0.1111111111111111,\"#46039f\"],[0.2222222222222222,\"#7201a8\"],[0.3333333333333333,\"#9c179e\"],[0.4444444444444444,\"#bd3786\"],[0.5555555555555556,\"#d8576b\"],[0.6666666666666666,\"#ed7953\"],[0.7777777777777778,\"#fb9f3a\"],[0.8888888888888888,\"#fdca26\"],[1.0,\"#f0f921\"]]}],\"mesh3d\":[{\"type\":\"mesh3d\",\"colorbar\":{\"outlinewidth\":0,\"ticks\":\"\"}}],\"scatter\":[{\"fillpattern\":{\"fillmode\":\"overlay\",\"size\":10,\"solidity\":0.2},\"type\":\"scatter\"}],\"parcoords\":[{\"type\":\"parcoords\",\"line\":{\"colorbar\":{\"outlinewidth\":0,\"ticks\":\"\"}}}],\"scatterpolargl\":[{\"type\":\"scatterpolargl\",\"marker\":{\"colorbar\":{\"outlinewidth\":0,\"ticks\":\"\"}}}],\"bar\":[{\"error_x\":{\"color\":\"#2a3f5f\"},\"error_y\":{\"color\":\"#2a3f5f\"},\"marker\":{\"line\":{\"color\":\"#E5ECF6\",\"width\":0.5},\"pattern\":{\"fillmode\":\"overlay\",\"size\":10,\"solidity\":0.2}},\"type\":\"bar\"}],\"scattergeo\":[{\"type\":\"scattergeo\",\"marker\":{\"colorbar\":{\"outlinewidth\":0,\"ticks\":\"\"}}}],\"scatterpolar\":[{\"type\":\"scatterpolar\",\"marker\":{\"colorbar\":{\"outlinewidth\":0,\"ticks\":\"\"}}}],\"histogram\":[{\"marker\":{\"pattern\":{\"fillmode\":\"overlay\",\"size\":10,\"solidity\":0.2}},\"type\":\"histogram\"}],\"scattergl\":[{\"type\":\"scattergl\",\"marker\":{\"colorbar\":{\"outlinewidth\":0,\"ticks\":\"\"}}}],\"scatter3d\":[{\"type\":\"scatter3d\",\"line\":{\"colorbar\":{\"outlinewidth\":0,\"ticks\":\"\"}},\"marker\":{\"colorbar\":{\"outlinewidth\":0,\"ticks\":\"\"}}}],\"scattermap\":[{\"type\":\"scattermap\",\"marker\":{\"colorbar\":{\"outlinewidth\":0,\"ticks\":\"\"}}}],\"scattermapbox\":[{\"type\":\"scattermapbox\",\"marker\":{\"colorbar\":{\"outlinewidth\":0,\"ticks\":\"\"}}}],\"scatterternary\":[{\"type\":\"scatterternary\",\"marker\":{\"colorbar\":{\"outlinewidth\":0,\"ticks\":\"\"}}}],\"scattercarpet\":[{\"type\":\"scattercarpet\",\"marker\":{\"colorbar\":{\"outlinewidth\":0,\"ticks\":\"\"}}}],\"carpet\":[{\"aaxis\":{\"endlinecolor\":\"#2a3f5f\",\"gridcolor\":\"white\",\"linecolor\":\"white\",\"minorgridcolor\":\"white\",\"startlinecolor\":\"#2a3f5f\"},\"baxis\":{\"endlinecolor\":\"#2a3f5f\",\"gridcolor\":\"white\",\"linecolor\":\"white\",\"minorgridcolor\":\"white\",\"startlinecolor\":\"#2a3f5f\"},\"type\":\"carpet\"}],\"table\":[{\"cells\":{\"fill\":{\"color\":\"#EBF0F8\"},\"line\":{\"color\":\"white\"}},\"header\":{\"fill\":{\"color\":\"#C8D4E3\"},\"line\":{\"color\":\"white\"}},\"type\":\"table\"}],\"barpolar\":[{\"marker\":{\"line\":{\"color\":\"#E5ECF6\",\"width\":0.5},\"pattern\":{\"fillmode\":\"overlay\",\"size\":10,\"solidity\":0.2}},\"type\":\"barpolar\"}],\"pie\":[{\"automargin\":true,\"type\":\"pie\"}]},\"layout\":{\"autotypenumbers\":\"strict\",\"colorway\":[\"#636efa\",\"#EF553B\",\"#00cc96\",\"#ab63fa\",\"#FFA15A\",\"#19d3f3\",\"#FF6692\",\"#B6E880\",\"#FF97FF\",\"#FECB52\"],\"font\":{\"color\":\"#2a3f5f\"},\"hovermode\":\"closest\",\"hoverlabel\":{\"align\":\"left\"},\"paper_bgcolor\":\"white\",\"plot_bgcolor\":\"#E5ECF6\",\"polar\":{\"bgcolor\":\"#E5ECF6\",\"angularaxis\":{\"gridcolor\":\"white\",\"linecolor\":\"white\",\"ticks\":\"\"},\"radialaxis\":{\"gridcolor\":\"white\",\"linecolor\":\"white\",\"ticks\":\"\"}},\"ternary\":{\"bgcolor\":\"#E5ECF6\",\"aaxis\":{\"gridcolor\":\"white\",\"linecolor\":\"white\",\"ticks\":\"\"},\"baxis\":{\"gridcolor\":\"white\",\"linecolor\":\"white\",\"ticks\":\"\"},\"caxis\":{\"gridcolor\":\"white\",\"linecolor\":\"white\",\"ticks\":\"\"}},\"coloraxis\":{\"colorbar\":{\"outlinewidth\":0,\"ticks\":\"\"}},\"colorscale\":{\"sequential\":[[0.0,\"#0d0887\"],[0.1111111111111111,\"#46039f\"],[0.2222222222222222,\"#7201a8\"],[0.3333333333333333,\"#9c179e\"],[0.4444444444444444,\"#bd3786\"],[0.5555555555555556,\"#d8576b\"],[0.6666666666666666,\"#ed7953\"],[0.7777777777777778,\"#fb9f3a\"],[0.8888888888888888,\"#fdca26\"],[1.0,\"#f0f921\"]],\"sequentialminus\":[[0.0,\"#0d0887\"],[0.1111111111111111,\"#46039f\"],[0.2222222222222222,\"#7201a8\"],[0.3333333333333333,\"#9c179e\"],[0.4444444444444444,\"#bd3786\"],[0.5555555555555556,\"#d8576b\"],[0.6666666666666666,\"#ed7953\"],[0.7777777777777778,\"#fb9f3a\"],[0.8888888888888888,\"#fdca26\"],[1.0,\"#f0f921\"]],\"diverging\":[[0,\"#8e0152\"],[0.1,\"#c51b7d\"],[0.2,\"#de77ae\"],[0.3,\"#f1b6da\"],[0.4,\"#fde0ef\"],[0.5,\"#f7f7f7\"],[0.6,\"#e6f5d0\"],[0.7,\"#b8e186\"],[0.8,\"#7fbc41\"],[0.9,\"#4d9221\"],[1,\"#276419\"]]},\"xaxis\":{\"gridcolor\":\"white\",\"linecolor\":\"white\",\"ticks\":\"\",\"title\":{\"standoff\":15},\"zerolinecolor\":\"white\",\"automargin\":true,\"zerolinewidth\":2},\"yaxis\":{\"gridcolor\":\"white\",\"linecolor\":\"white\",\"ticks\":\"\",\"title\":{\"standoff\":15},\"zerolinecolor\":\"white\",\"automargin\":true,\"zerolinewidth\":2},\"scene\":{\"xaxis\":{\"backgroundcolor\":\"#E5ECF6\",\"gridcolor\":\"white\",\"linecolor\":\"white\",\"showbackground\":true,\"ticks\":\"\",\"zerolinecolor\":\"white\",\"gridwidth\":2},\"yaxis\":{\"backgroundcolor\":\"#E5ECF6\",\"gridcolor\":\"white\",\"linecolor\":\"white\",\"showbackground\":true,\"ticks\":\"\",\"zerolinecolor\":\"white\",\"gridwidth\":2},\"zaxis\":{\"backgroundcolor\":\"#E5ECF6\",\"gridcolor\":\"white\",\"linecolor\":\"white\",\"showbackground\":true,\"ticks\":\"\",\"zerolinecolor\":\"white\",\"gridwidth\":2}},\"shapedefaults\":{\"line\":{\"color\":\"#2a3f5f\"}},\"annotationdefaults\":{\"arrowcolor\":\"#2a3f5f\",\"arrowhead\":0,\"arrowwidth\":1},\"geo\":{\"bgcolor\":\"white\",\"landcolor\":\"#E5ECF6\",\"subunitcolor\":\"white\",\"showland\":true,\"showlakes\":true,\"lakecolor\":\"white\"},\"title\":{\"x\":0.05},\"mapbox\":{\"style\":\"light\"}}},\"xaxis\":{\"anchor\":\"y\",\"domain\":[0.0,1.0],\"title\":{\"text\":\"x\"}},\"yaxis\":{\"anchor\":\"x\",\"domain\":[0.0,1.0],\"title\":{\"text\":\"value\"}},\"legend\":{\"tracegroupgap\":0},\"margin\":{\"t\":60},\"updatemenus\":[{\"buttons\":[{\"args\":[null,{\"frame\":{\"duration\":100,\"redraw\":false},\"mode\":\"immediate\",\"fromcurrent\":true,\"transition\":{\"duration\":0,\"easing\":\"linear\"}}],\"label\":\"&#9654;\",\"method\":\"animate\"},{\"args\":[[null],{\"frame\":{\"duration\":0,\"redraw\":false},\"mode\":\"immediate\",\"fromcurrent\":true,\"transition\":{\"duration\":0,\"easing\":\"linear\"}}],\"label\":\"&#9724;\",\"method\":\"animate\"}],\"direction\":\"left\",\"pad\":{\"r\":10,\"t\":70},\"showactive\":false,\"type\":\"buttons\",\"x\":0.1,\"xanchor\":\"right\",\"y\":0,\"yanchor\":\"top\"}],\"sliders\":[{\"active\":0,\"currentvalue\":{\"prefix\":\"variable=\"},\"len\":0.9,\"pad\":{\"b\":10,\"t\":60},\"steps\":[{\"args\":[[\"0\"],{\"frame\":{\"duration\":0,\"redraw\":false},\"mode\":\"immediate\",\"fromcurrent\":true,\"transition\":{\"duration\":0,\"easing\":\"linear\"}}],\"label\":\"0\",\"method\":\"animate\"},{\"args\":[[\"1\"],{\"frame\":{\"duration\":0,\"redraw\":false},\"mode\":\"immediate\",\"fromcurrent\":true,\"transition\":{\"duration\":0,\"easing\":\"linear\"}}],\"label\":\"1\",\"method\":\"animate\"},{\"args\":[[\"2\"],{\"frame\":{\"duration\":0,\"redraw\":false},\"mode\":\"immediate\",\"fromcurrent\":true,\"transition\":{\"duration\":0,\"easing\":\"linear\"}}],\"label\":\"2\",\"method\":\"animate\"},{\"args\":[[\"3\"],{\"frame\":{\"duration\":0,\"redraw\":false},\"mode\":\"immediate\",\"fromcurrent\":true,\"transition\":{\"duration\":0,\"easing\":\"linear\"}}],\"label\":\"3\",\"method\":\"animate\"},{\"args\":[[\"4\"],{\"frame\":{\"duration\":0,\"redraw\":false},\"mode\":\"immediate\",\"fromcurrent\":true,\"transition\":{\"duration\":0,\"easing\":\"linear\"}}],\"label\":\"4\",\"method\":\"animate\"},{\"args\":[[\"5\"],{\"frame\":{\"duration\":0,\"redraw\":false},\"mode\":\"immediate\",\"fromcurrent\":true,\"transition\":{\"duration\":0,\"easing\":\"linear\"}}],\"label\":\"5\",\"method\":\"animate\"},{\"args\":[[\"6\"],{\"frame\":{\"duration\":0,\"redraw\":false},\"mode\":\"immediate\",\"fromcurrent\":true,\"transition\":{\"duration\":0,\"easing\":\"linear\"}}],\"label\":\"6\",\"method\":\"animate\"},{\"args\":[[\"7\"],{\"frame\":{\"duration\":0,\"redraw\":false},\"mode\":\"immediate\",\"fromcurrent\":true,\"transition\":{\"duration\":0,\"easing\":\"linear\"}}],\"label\":\"7\",\"method\":\"animate\"},{\"args\":[[\"8\"],{\"frame\":{\"duration\":0,\"redraw\":false},\"mode\":\"immediate\",\"fromcurrent\":true,\"transition\":{\"duration\":0,\"easing\":\"linear\"}}],\"label\":\"8\",\"method\":\"animate\"},{\"args\":[[\"9\"],{\"frame\":{\"duration\":0,\"redraw\":false},\"mode\":\"immediate\",\"fromcurrent\":true,\"transition\":{\"duration\":0,\"easing\":\"linear\"}}],\"label\":\"9\",\"method\":\"animate\"},{\"args\":[[\"10\"],{\"frame\":{\"duration\":0,\"redraw\":false},\"mode\":\"immediate\",\"fromcurrent\":true,\"transition\":{\"duration\":0,\"easing\":\"linear\"}}],\"label\":\"10\",\"method\":\"animate\"},{\"args\":[[\"11\"],{\"frame\":{\"duration\":0,\"redraw\":false},\"mode\":\"immediate\",\"fromcurrent\":true,\"transition\":{\"duration\":0,\"easing\":\"linear\"}}],\"label\":\"11\",\"method\":\"animate\"},{\"args\":[[\"12\"],{\"frame\":{\"duration\":0,\"redraw\":false},\"mode\":\"immediate\",\"fromcurrent\":true,\"transition\":{\"duration\":0,\"easing\":\"linear\"}}],\"label\":\"12\",\"method\":\"animate\"},{\"args\":[[\"13\"],{\"frame\":{\"duration\":0,\"redraw\":false},\"mode\":\"immediate\",\"fromcurrent\":true,\"transition\":{\"duration\":0,\"easing\":\"linear\"}}],\"label\":\"13\",\"method\":\"animate\"},{\"args\":[[\"14\"],{\"frame\":{\"duration\":0,\"redraw\":false},\"mode\":\"immediate\",\"fromcurrent\":true,\"transition\":{\"duration\":0,\"easing\":\"linear\"}}],\"label\":\"14\",\"method\":\"animate\"},{\"args\":[[\"15\"],{\"frame\":{\"duration\":0,\"redraw\":false},\"mode\":\"immediate\",\"fromcurrent\":true,\"transition\":{\"duration\":0,\"easing\":\"linear\"}}],\"label\":\"15\",\"method\":\"animate\"},{\"args\":[[\"16\"],{\"frame\":{\"duration\":0,\"redraw\":false},\"mode\":\"immediate\",\"fromcurrent\":true,\"transition\":{\"duration\":0,\"easing\":\"linear\"}}],\"label\":\"16\",\"method\":\"animate\"},{\"args\":[[\"17\"],{\"frame\":{\"duration\":0,\"redraw\":false},\"mode\":\"immediate\",\"fromcurrent\":true,\"transition\":{\"duration\":0,\"easing\":\"linear\"}}],\"label\":\"17\",\"method\":\"animate\"},{\"args\":[[\"18\"],{\"frame\":{\"duration\":0,\"redraw\":false},\"mode\":\"immediate\",\"fromcurrent\":true,\"transition\":{\"duration\":0,\"easing\":\"linear\"}}],\"label\":\"18\",\"method\":\"animate\"},{\"args\":[[\"19\"],{\"frame\":{\"duration\":0,\"redraw\":false},\"mode\":\"immediate\",\"fromcurrent\":true,\"transition\":{\"duration\":0,\"easing\":\"linear\"}}],\"label\":\"19\",\"method\":\"animate\"},{\"args\":[[\"20\"],{\"frame\":{\"duration\":0,\"redraw\":false},\"mode\":\"immediate\",\"fromcurrent\":true,\"transition\":{\"duration\":0,\"easing\":\"linear\"}}],\"label\":\"20\",\"method\":\"animate\"},{\"args\":[[\"21\"],{\"frame\":{\"duration\":0,\"redraw\":false},\"mode\":\"immediate\",\"fromcurrent\":true,\"transition\":{\"duration\":0,\"easing\":\"linear\"}}],\"label\":\"21\",\"method\":\"animate\"},{\"args\":[[\"22\"],{\"frame\":{\"duration\":0,\"redraw\":false},\"mode\":\"immediate\",\"fromcurrent\":true,\"transition\":{\"duration\":0,\"easing\":\"linear\"}}],\"label\":\"22\",\"method\":\"animate\"},{\"args\":[[\"23\"],{\"frame\":{\"duration\":0,\"redraw\":false},\"mode\":\"immediate\",\"fromcurrent\":true,\"transition\":{\"duration\":0,\"easing\":\"linear\"}}],\"label\":\"23\",\"method\":\"animate\"},{\"args\":[[\"24\"],{\"frame\":{\"duration\":0,\"redraw\":false},\"mode\":\"immediate\",\"fromcurrent\":true,\"transition\":{\"duration\":0,\"easing\":\"linear\"}}],\"label\":\"24\",\"method\":\"animate\"},{\"args\":[[\"25\"],{\"frame\":{\"duration\":0,\"redraw\":false},\"mode\":\"immediate\",\"fromcurrent\":true,\"transition\":{\"duration\":0,\"easing\":\"linear\"}}],\"label\":\"25\",\"method\":\"animate\"}],\"x\":0.1,\"xanchor\":\"left\",\"y\":0,\"yanchor\":\"top\"}]},                        {\"responsive\": true}                    ).then(function(){\n",
       "                            Plotly.addFrames('06d2cf62-c733-4c3b-8097-3a35ebfd2e62', [{\"data\":[{\"hovertemplate\":\"variable=0\\u003cbr\\u003ex=%{x}\\u003cbr\\u003evalue=%{y}\\u003cextra\\u003e\\u003c\\u002fextra\\u003e\",\"legendgroup\":\"\",\"line\":{\"color\":\"#636efa\",\"dash\":\"solid\"},\"marker\":{\"symbol\":\"circle\"},\"mode\":\"lines\",\"name\":\"\",\"orientation\":\"v\",\"showlegend\":false,\"x\":{\"dtype\":\"f8\",\"bdata\":\"AAAAAAAAAACamZmZmZmpP5qZmZmZmbk\\u002fNDMzMzMzwz+amZmZmZnJPwAAAAAAANA\\u002fNDMzMzMz0z9nZmZmZmbWP5qZmZmZmdk\\u002fzczMzMzM3D8AAAAAAADgP5qZmZmZmeE\\u002fNDMzMzMz4z\\u002fNzMzMzMzkP2dmZmZmZuY\\u002fAAAAAAAA6D+amZmZmZnpPzQzMzMzM+s\\u002fzczMzMzM7D9nZmZmZmbuPwAAAAAAAPA\\u002fzczMzMzM8D+amZmZmZnxP2dmZmZmZvI\\u002fNDMzMzMz8z8AAAAAAAD0P83MzMzMzPQ\\u002fmpmZmZmZ9T9nZmZmZmb2PzQzMzMzM\\u002fc\\u002fAAAAAAAA+D\\u002fNzMzMzMz4P5qZmZmZmfk\\u002fZ2ZmZmZm+j80MzMzMzP7PwAAAAAAAPw\\u002fzczMzMzM\\u002fD+amZmZmZn9P2dmZmZmZv4\\u002fNDMzMzMz\\u002fz8AAAAAAAAAQA==\"},\"xaxis\":\"x\",\"y\":{\"dtype\":\"f8\",\"bdata\":\"AAAAAAAA8D8AAAAAAADwPwAAAAAAAPA\\u002fAAAAAAAA8D8AAAAAAADwPwAAAAAAAPA\\u002fAAAAAAAA8D8AAAAAAADwPwAAAAAAAPA\\u002fAAAAAAAA8D8AAAAAAAAAQAAAAAAAAABAAAAAAAAAAEAAAAAAAAAAQAAAAAAAAABAAAAAAAAAAEAAAAAAAAAAQAAAAAAAAABAAAAAAAAAAEAAAAAAAAAAQAAAAAAAAABAAAAAAAAA8D8AAAAAAADwPwAAAAAAAPA\\u002fAAAAAAAA8D8AAAAAAADwPwAAAAAAAPA\\u002fAAAAAAAA8D8AAAAAAADwPwAAAAAAAPA\\u002fAAAAAAAA8D8AAAAAAADwPwAAAAAAAPA\\u002fAAAAAAAA8D8AAAAAAADwPwAAAAAAAPA\\u002fAAAAAAAA8D8AAAAAAADwPwAAAAAAAPA\\u002fAAAAAAAA8D8AAAAAAADwPw==\"},\"yaxis\":\"y\",\"type\":\"scatter\"}],\"name\":\"0\"},{\"data\":[{\"hovertemplate\":\"variable=1\\u003cbr\\u003ex=%{x}\\u003cbr\\u003evalue=%{y}\\u003cextra\\u003e\\u003c\\u002fextra\\u003e\",\"legendgroup\":\"\",\"line\":{\"color\":\"#636efa\",\"dash\":\"solid\"},\"marker\":{\"symbol\":\"circle\"},\"mode\":\"lines\",\"name\":\"\",\"orientation\":\"v\",\"showlegend\":false,\"x\":{\"dtype\":\"f8\",\"bdata\":\"AAAAAAAAAACamZmZmZmpP5qZmZmZmbk\\u002fNDMzMzMzwz+amZmZmZnJPwAAAAAAANA\\u002fNDMzMzMz0z9nZmZmZmbWP5qZmZmZmdk\\u002fzczMzMzM3D8AAAAAAADgP5qZmZmZmeE\\u002fNDMzMzMz4z\\u002fNzMzMzMzkP2dmZmZmZuY\\u002fAAAAAAAA6D+amZmZmZnpPzQzMzMzM+s\\u002fzczMzMzM7D9nZmZmZmbuPwAAAAAAAPA\\u002fzczMzMzM8D+amZmZmZnxP2dmZmZmZvI\\u002fNDMzMzMz8z8AAAAAAAD0P83MzMzMzPQ\\u002fmpmZmZmZ9T9nZmZmZmb2PzQzMzMzM\\u002fc\\u002fAAAAAAAA+D\\u002fNzMzMzMz4P5qZmZmZmfk\\u002fZ2ZmZmZm+j80MzMzMzP7PwAAAAAAAPw\\u002fzczMzMzM\\u002fD+amZmZmZn9P2dmZmZmZv4\\u002fNDMzMzMz\\u002fz8AAAAAAAAAQA==\"},\"xaxis\":\"x\",\"y\":{\"dtype\":\"f8\",\"bdata\":\"AAAAAAAA8D8AAAAAAADwPwAAAAAAAPA\\u002fAAAAAAAA8D8AAAAAAADwPwAAAAAAAPA\\u002fAAAAAAAA8D8AAAAAAADwPwAAAAAAAPA\\u002fAAAAAAAA8D8AAAAAAAD4PwAAAAAAAABAAAAAAAAAAEAAAAAAAAAAQAAAAAAAAABAAAAAAAAAAEAAAAAAAAAAQAAAAAAAAABAAAAAAAAAAEAAAAAAAAAAQAAAAAAAAABAAAAAAAAA+D8AAAAAAADwPwAAAAAAAPA\\u002fAAAAAAAA8D8AAAAAAADwPwAAAAAAAPA\\u002fAAAAAAAA8D8AAAAAAADwPwAAAAAAAPA\\u002fAAAAAAAA8D8AAAAAAADwPwAAAAAAAPA\\u002fAAAAAAAA8D8AAAAAAADwPwAAAAAAAPA\\u002fAAAAAAAA8D8AAAAAAADwPwAAAAAAAPA\\u002fAAAAAAAA8D8AAAAAAADwPw==\"},\"yaxis\":\"y\",\"type\":\"scatter\"}],\"name\":\"1\"},{\"data\":[{\"hovertemplate\":\"variable=2\\u003cbr\\u003ex=%{x}\\u003cbr\\u003evalue=%{y}\\u003cextra\\u003e\\u003c\\u002fextra\\u003e\",\"legendgroup\":\"\",\"line\":{\"color\":\"#636efa\",\"dash\":\"solid\"},\"marker\":{\"symbol\":\"circle\"},\"mode\":\"lines\",\"name\":\"\",\"orientation\":\"v\",\"showlegend\":false,\"x\":{\"dtype\":\"f8\",\"bdata\":\"AAAAAAAAAACamZmZmZmpP5qZmZmZmbk\\u002fNDMzMzMzwz+amZmZmZnJPwAAAAAAANA\\u002fNDMzMzMz0z9nZmZmZmbWP5qZmZmZmdk\\u002fzczMzMzM3D8AAAAAAADgP5qZmZmZmeE\\u002fNDMzMzMz4z\\u002fNzMzMzMzkP2dmZmZmZuY\\u002fAAAAAAAA6D+amZmZmZnpPzQzMzMzM+s\\u002fzczMzMzM7D9nZmZmZmbuPwAAAAAAAPA\\u002fzczMzMzM8D+amZmZmZnxP2dmZmZmZvI\\u002fNDMzMzMz8z8AAAAAAAD0P83MzMzMzPQ\\u002fmpmZmZmZ9T9nZmZmZmb2PzQzMzMzM\\u002fc\\u002fAAAAAAAA+D\\u002fNzMzMzMz4P5qZmZmZmfk\\u002fZ2ZmZmZm+j80MzMzMzP7PwAAAAAAAPw\\u002fzczMzMzM\\u002fD+amZmZmZn9P2dmZmZmZv4\\u002fNDMzMzMz\\u002fz8AAAAAAAAAQA==\"},\"xaxis\":\"x\",\"y\":{\"dtype\":\"f8\",\"bdata\":\"AAAAAAAA8D8AAAAAAADwPwAAAAAAAPA\\u002fAAAAAAAA8D8AAAAAAADwPwAAAAAAAPA\\u002fAAAAAAAA8D8AAAAAAADwPwAAAAAAAPA\\u002fAAAAAAAA8D8AAAAAAAD0PwAAAAAAAPw\\u002fAAAAAAAAAEAAAAAAAAAAQAAAAAAAAABAAAAAAAAAAEAAAAAAAAAAQAAAAAAAAABAAAAAAAAAAEAAAAAAAAAAQAAAAAAAAABAAAAAAAAA\\u002fD8AAAAAAAD0PwAAAAAAAPA\\u002fAAAAAAAA8D8AAAAAAADwPwAAAAAAAPA\\u002fAAAAAAAA8D8AAAAAAADwPwAAAAAAAPA\\u002fAAAAAAAA8D8AAAAAAADwPwAAAAAAAPA\\u002fAAAAAAAA8D8AAAAAAADwPwAAAAAAAPA\\u002fAAAAAAAA8D8AAAAAAADwPwAAAAAAAPA\\u002fAAAAAAAA8D8AAAAAAADwPw==\"},\"yaxis\":\"y\",\"type\":\"scatter\"}],\"name\":\"2\"},{\"data\":[{\"hovertemplate\":\"variable=3\\u003cbr\\u003ex=%{x}\\u003cbr\\u003evalue=%{y}\\u003cextra\\u003e\\u003c\\u002fextra\\u003e\",\"legendgroup\":\"\",\"line\":{\"color\":\"#636efa\",\"dash\":\"solid\"},\"marker\":{\"symbol\":\"circle\"},\"mode\":\"lines\",\"name\":\"\",\"orientation\":\"v\",\"showlegend\":false,\"x\":{\"dtype\":\"f8\",\"bdata\":\"AAAAAAAAAACamZmZmZmpP5qZmZmZmbk\\u002fNDMzMzMzwz+amZmZmZnJPwAAAAAAANA\\u002fNDMzMzMz0z9nZmZmZmbWP5qZmZmZmdk\\u002fzczMzMzM3D8AAAAAAADgP5qZmZmZmeE\\u002fNDMzMzMz4z\\u002fNzMzMzMzkP2dmZmZmZuY\\u002fAAAAAAAA6D+amZmZmZnpPzQzMzMzM+s\\u002fzczMzMzM7D9nZmZmZmbuPwAAAAAAAPA\\u002fzczMzMzM8D+amZmZmZnxP2dmZmZmZvI\\u002fNDMzMzMz8z8AAAAAAAD0P83MzMzMzPQ\\u002fmpmZmZmZ9T9nZmZmZmb2PzQzMzMzM\\u002fc\\u002fAAAAAAAA+D\\u002fNzMzMzMz4P5qZmZmZmfk\\u002fZ2ZmZmZm+j80MzMzMzP7PwAAAAAAAPw\\u002fzczMzMzM\\u002fD+amZmZmZn9P2dmZmZmZv4\\u002fNDMzMzMz\\u002fz8AAAAAAAAAQA==\"},\"xaxis\":\"x\",\"y\":{\"dtype\":\"f8\",\"bdata\":\"AAAAAAAA8D8AAAAAAADwPwAAAAAAAPA\\u002fAAAAAAAA8D8AAAAAAADwPwAAAAAAAPA\\u002fAAAAAAAA8D8AAAAAAADwPwAAAAAAAPA\\u002fAAAAAAAA8D8AAAAAAADyPwAAAAAAAPg\\u002fAAAAAAAA\\u002fj8AAAAAAAAAQAAAAAAAAABAAAAAAAAAAEAAAAAAAAAAQAAAAAAAAABAAAAAAAAAAEAAAAAAAAAAQAAAAAAAAABAAAAAAAAA\\u002fj8AAAAAAAD4PwAAAAAAAPI\\u002fAAAAAAAA8D8AAAAAAADwPwAAAAAAAPA\\u002fAAAAAAAA8D8AAAAAAADwPwAAAAAAAPA\\u002fAAAAAAAA8D8AAAAAAADwPwAAAAAAAPA\\u002fAAAAAAAA8D8AAAAAAADwPwAAAAAAAPA\\u002fAAAAAAAA8D8AAAAAAADwPwAAAAAAAPA\\u002fAAAAAAAA8D8AAAAAAADwPw==\"},\"yaxis\":\"y\",\"type\":\"scatter\"}],\"name\":\"3\"},{\"data\":[{\"hovertemplate\":\"variable=4\\u003cbr\\u003ex=%{x}\\u003cbr\\u003evalue=%{y}\\u003cextra\\u003e\\u003c\\u002fextra\\u003e\",\"legendgroup\":\"\",\"line\":{\"color\":\"#636efa\",\"dash\":\"solid\"},\"marker\":{\"symbol\":\"circle\"},\"mode\":\"lines\",\"name\":\"\",\"orientation\":\"v\",\"showlegend\":false,\"x\":{\"dtype\":\"f8\",\"bdata\":\"AAAAAAAAAACamZmZmZmpP5qZmZmZmbk\\u002fNDMzMzMzwz+amZmZmZnJPwAAAAAAANA\\u002fNDMzMzMz0z9nZmZmZmbWP5qZmZmZmdk\\u002fzczMzMzM3D8AAAAAAADgP5qZmZmZmeE\\u002fNDMzMzMz4z\\u002fNzMzMzMzkP2dmZmZmZuY\\u002fAAAAAAAA6D+amZmZmZnpPzQzMzMzM+s\\u002fzczMzMzM7D9nZmZmZmbuPwAAAAAAAPA\\u002fzczMzMzM8D+amZmZmZnxP2dmZmZmZvI\\u002fNDMzMzMz8z8AAAAAAAD0P83MzMzMzPQ\\u002fmpmZmZmZ9T9nZmZmZmb2PzQzMzMzM\\u002fc\\u002fAAAAAAAA+D\\u002fNzMzMzMz4P5qZmZmZmfk\\u002fZ2ZmZmZm+j80MzMzMzP7PwAAAAAAAPw\\u002fzczMzMzM\\u002fD+amZmZmZn9P2dmZmZmZv4\\u002fNDMzMzMz\\u002fz8AAAAAAAAAQA==\"},\"xaxis\":\"x\",\"y\":{\"dtype\":\"f8\",\"bdata\":\"AAAAAAAA8D8AAAAAAADwPwAAAAAAAPA\\u002fAAAAAAAA8D8AAAAAAADwPwAAAAAAAPA\\u002fAAAAAAAA8D8AAAAAAADwPwAAAAAAAPA\\u002fAAAAAAAA8D8AAAAAAADxPwAAAAAAAPU\\u002fAAAAAAAA+z8AAAAAAAD\\u002fPwAAAAAAAABAAAAAAAAAAEAAAAAAAAAAQAAAAAAAAABAAAAAAAAAAEAAAAAAAAAAQAAAAAAAAABAAAAAAAAA\\u002fz8AAAAAAAD7PwAAAAAAAPU\\u002fAAAAAAAA8T8AAAAAAADwPwAAAAAAAPA\\u002fAAAAAAAA8D8AAAAAAADwPwAAAAAAAPA\\u002fAAAAAAAA8D8AAAAAAADwPwAAAAAAAPA\\u002fAAAAAAAA8D8AAAAAAADwPwAAAAAAAPA\\u002fAAAAAAAA8D8AAAAAAADwPwAAAAAAAPA\\u002fAAAAAAAA8D8AAAAAAADwPw==\"},\"yaxis\":\"y\",\"type\":\"scatter\"}],\"name\":\"4\"},{\"data\":[{\"hovertemplate\":\"variable=5\\u003cbr\\u003ex=%{x}\\u003cbr\\u003evalue=%{y}\\u003cextra\\u003e\\u003c\\u002fextra\\u003e\",\"legendgroup\":\"\",\"line\":{\"color\":\"#636efa\",\"dash\":\"solid\"},\"marker\":{\"symbol\":\"circle\"},\"mode\":\"lines\",\"name\":\"\",\"orientation\":\"v\",\"showlegend\":false,\"x\":{\"dtype\":\"f8\",\"bdata\":\"AAAAAAAAAACamZmZmZmpP5qZmZmZmbk\\u002fNDMzMzMzwz+amZmZmZnJPwAAAAAAANA\\u002fNDMzMzMz0z9nZmZmZmbWP5qZmZmZmdk\\u002fzczMzMzM3D8AAAAAAADgP5qZmZmZmeE\\u002fNDMzMzMz4z\\u002fNzMzMzMzkP2dmZmZmZuY\\u002fAAAAAAAA6D+amZmZmZnpPzQzMzMzM+s\\u002fzczMzMzM7D9nZmZmZmbuPwAAAAAAAPA\\u002fzczMzMzM8D+amZmZmZnxP2dmZmZmZvI\\u002fNDMzMzMz8z8AAAAAAAD0P83MzMzMzPQ\\u002fmpmZmZmZ9T9nZmZmZmb2PzQzMzMzM\\u002fc\\u002fAAAAAAAA+D\\u002fNzMzMzMz4P5qZmZmZmfk\\u002fZ2ZmZmZm+j80MzMzMzP7PwAAAAAAAPw\\u002fzczMzMzM\\u002fD+amZmZmZn9P2dmZmZmZv4\\u002fNDMzMzMz\\u002fz8AAAAAAAAAQA==\"},\"xaxis\":\"x\",\"y\":{\"dtype\":\"f8\",\"bdata\":\"AAAAAAAA8D8AAAAAAADwPwAAAAAAAPA\\u002fAAAAAAAA8D8AAAAAAADwPwAAAAAAAPA\\u002fAAAAAAAA8D8AAAAAAADwPwAAAAAAAPA\\u002fAAAAAAAA8D8AAAAAAIDwPwAAAAAAAPM\\u002fAAAAAAAA+D8AAAAAAAD9PwAAAAAAgP8\\u002fAAAAAAAAAEAAAAAAAAAAQAAAAAAAAABAAAAAAAAAAEAAAAAAAAAAQAAAAAAAAABAAAAAAACA\\u002fz8AAAAAAAD9PwAAAAAAAPg\\u002fAAAAAAAA8z8AAAAAAIDwPwAAAAAAAPA\\u002fAAAAAAAA8D8AAAAAAADwPwAAAAAAAPA\\u002fAAAAAAAA8D8AAAAAAADwPwAAAAAAAPA\\u002fAAAAAAAA8D8AAAAAAADwPwAAAAAAAPA\\u002fAAAAAAAA8D8AAAAAAADwPwAAAAAAAPA\\u002fAAAAAAAA8D8AAAAAAADwPw==\"},\"yaxis\":\"y\",\"type\":\"scatter\"}],\"name\":\"5\"},{\"data\":[{\"hovertemplate\":\"variable=6\\u003cbr\\u003ex=%{x}\\u003cbr\\u003evalue=%{y}\\u003cextra\\u003e\\u003c\\u002fextra\\u003e\",\"legendgroup\":\"\",\"line\":{\"color\":\"#636efa\",\"dash\":\"solid\"},\"marker\":{\"symbol\":\"circle\"},\"mode\":\"lines\",\"name\":\"\",\"orientation\":\"v\",\"showlegend\":false,\"x\":{\"dtype\":\"f8\",\"bdata\":\"AAAAAAAAAACamZmZmZmpP5qZmZmZmbk\\u002fNDMzMzMzwz+amZmZmZnJPwAAAAAAANA\\u002fNDMzMzMz0z9nZmZmZmbWP5qZmZmZmdk\\u002fzczMzMzM3D8AAAAAAADgP5qZmZmZmeE\\u002fNDMzMzMz4z\\u002fNzMzMzMzkP2dmZmZmZuY\\u002fAAAAAAAA6D+amZmZmZnpPzQzMzMzM+s\\u002fzczMzMzM7D9nZmZmZmbuPwAAAAAAAPA\\u002fzczMzMzM8D+amZmZmZnxP2dmZmZmZvI\\u002fNDMzMzMz8z8AAAAAAAD0P83MzMzMzPQ\\u002fmpmZmZmZ9T9nZmZmZmb2PzQzMzMzM\\u002fc\\u002fAAAAAAAA+D\\u002fNzMzMzMz4P5qZmZmZmfk\\u002fZ2ZmZmZm+j80MzMzMzP7PwAAAAAAAPw\\u002fzczMzMzM\\u002fD+amZmZmZn9P2dmZmZmZv4\\u002fNDMzMzMz\\u002fz8AAAAAAAAAQA==\"},\"xaxis\":\"x\",\"y\":{\"dtype\":\"f8\",\"bdata\":\"AAAAAAAA8D8AAAAAAADwPwAAAAAAAPA\\u002fAAAAAAAA8D8AAAAAAADwPwAAAAAAAPA\\u002fAAAAAAAA8D8AAAAAAADwPwAAAAAAAPA\\u002fAAAAAAAA8D8AAAAAAEDwPwAAAAAAwPE\\u002fAAAAAACA9T8AAAAAAID6PwAAAAAAQP4\\u002fAAAAAADA\\u002fz8AAAAAAAAAQAAAAAAAAABAAAAAAAAAAEAAAAAAAAAAQAAAAAAAAABAAAAAAADA\\u002fz8AAAAAAED+PwAAAAAAgPo\\u002fAAAAAACA9T8AAAAAAMDxPwAAAAAAQPA\\u002fAAAAAAAA8D8AAAAAAADwPwAAAAAAAPA\\u002fAAAAAAAA8D8AAAAAAADwPwAAAAAAAPA\\u002fAAAAAAAA8D8AAAAAAADwPwAAAAAAAPA\\u002fAAAAAAAA8D8AAAAAAADwPwAAAAAAAPA\\u002fAAAAAAAA8D8AAAAAAADwPw==\"},\"yaxis\":\"y\",\"type\":\"scatter\"}],\"name\":\"6\"},{\"data\":[{\"hovertemplate\":\"variable=7\\u003cbr\\u003ex=%{x}\\u003cbr\\u003evalue=%{y}\\u003cextra\\u003e\\u003c\\u002fextra\\u003e\",\"legendgroup\":\"\",\"line\":{\"color\":\"#636efa\",\"dash\":\"solid\"},\"marker\":{\"symbol\":\"circle\"},\"mode\":\"lines\",\"name\":\"\",\"orientation\":\"v\",\"showlegend\":false,\"x\":{\"dtype\":\"f8\",\"bdata\":\"AAAAAAAAAACamZmZmZmpP5qZmZmZmbk\\u002fNDMzMzMzwz+amZmZmZnJPwAAAAAAANA\\u002fNDMzMzMz0z9nZmZmZmbWP5qZmZmZmdk\\u002fzczMzMzM3D8AAAAAAADgP5qZmZmZmeE\\u002fNDMzMzMz4z\\u002fNzMzMzMzkP2dmZmZmZuY\\u002fAAAAAAAA6D+amZmZmZnpPzQzMzMzM+s\\u002fzczMzMzM7D9nZmZmZmbuPwAAAAAAAPA\\u002fzczMzMzM8D+amZmZmZnxP2dmZmZmZvI\\u002fNDMzMzMz8z8AAAAAAAD0P83MzMzMzPQ\\u002fmpmZmZmZ9T9nZmZmZmb2PzQzMzMzM\\u002fc\\u002fAAAAAAAA+D\\u002fNzMzMzMz4P5qZmZmZmfk\\u002fZ2ZmZmZm+j80MzMzMzP7PwAAAAAAAPw\\u002fzczMzMzM\\u002fD+amZmZmZn9P2dmZmZmZv4\\u002fNDMzMzMz\\u002fz8AAAAAAAAAQA==\"},\"xaxis\":\"x\",\"y\":{\"dtype\":\"f8\",\"bdata\":\"AAAAAAAA8D8AAAAAAADwPwAAAAAAAPA\\u002fAAAAAAAA8D8AAAAAAADwPwAAAAAAAPA\\u002fAAAAAAAA8D8AAAAAAADwPwAAAAAAAPA\\u002fAAAAAAAA8D8AAAAAACDwPwAAAAAAAPE\\u002fAAAAAACg8z8AAAAAAAD4PwAAAAAAYPw\\u002fAAAAAAAA\\u002fz8AAAAAAOD\\u002fPwAAAAAAAABAAAAAAAAAAEAAAAAAAAAAQAAAAAAAAABAAAAAAADg\\u002fz8AAAAAAAD\\u002fPwAAAAAAYPw\\u002fAAAAAAAA+D8AAAAAAKDzPwAAAAAAAPE\\u002fAAAAAAAg8D8AAAAAAADwPwAAAAAAAPA\\u002fAAAAAAAA8D8AAAAAAADwPwAAAAAAAPA\\u002fAAAAAAAA8D8AAAAAAADwPwAAAAAAAPA\\u002fAAAAAAAA8D8AAAAAAADwPwAAAAAAAPA\\u002fAAAAAAAA8D8AAAAAAADwPw==\"},\"yaxis\":\"y\",\"type\":\"scatter\"}],\"name\":\"7\"},{\"data\":[{\"hovertemplate\":\"variable=8\\u003cbr\\u003ex=%{x}\\u003cbr\\u003evalue=%{y}\\u003cextra\\u003e\\u003c\\u002fextra\\u003e\",\"legendgroup\":\"\",\"line\":{\"color\":\"#636efa\",\"dash\":\"solid\"},\"marker\":{\"symbol\":\"circle\"},\"mode\":\"lines\",\"name\":\"\",\"orientation\":\"v\",\"showlegend\":false,\"x\":{\"dtype\":\"f8\",\"bdata\":\"AAAAAAAAAACamZmZmZmpP5qZmZmZmbk\\u002fNDMzMzMzwz+amZmZmZnJPwAAAAAAANA\\u002fNDMzMzMz0z9nZmZmZmbWP5qZmZmZmdk\\u002fzczMzMzM3D8AAAAAAADgP5qZmZmZmeE\\u002fNDMzMzMz4z\\u002fNzMzMzMzkP2dmZmZmZuY\\u002fAAAAAAAA6D+amZmZmZnpPzQzMzMzM+s\\u002fzczMzMzM7D9nZmZmZmbuPwAAAAAAAPA\\u002fzczMzMzM8D+amZmZmZnxP2dmZmZmZvI\\u002fNDMzMzMz8z8AAAAAAAD0P83MzMzMzPQ\\u002fmpmZmZmZ9T9nZmZmZmb2PzQzMzMzM\\u002fc\\u002fAAAAAAAA+D\\u002fNzMzMzMz4P5qZmZmZmfk\\u002fZ2ZmZmZm+j80MzMzMzP7PwAAAAAAAPw\\u002fzczMzMzM\\u002fD+amZmZmZn9P2dmZmZmZv4\\u002fNDMzMzMz\\u002fz8AAAAAAAAAQA==\"},\"xaxis\":\"x\",\"y\":{\"dtype\":\"f8\",\"bdata\":\"AAAAAAAA8D8AAAAAAADwPwAAAAAAAPA\\u002fAAAAAAAA8D8AAAAAAADwPwAAAAAAAPA\\u002fAAAAAAAA8D8AAAAAAADwPwAAAAAAAPA\\u002fAAAAAAAA8D8AAAAAABDwPwAAAAAAkPA\\u002fAAAAAABQ8j8AAAAAAND1PwAAAAAAMPo\\u002fAAAAAACw\\u002fT8AAAAAAHD\\u002fPwAAAAAA8P8\\u002fAAAAAAAAAEAAAAAAAAAAQAAAAAAAAABAAAAAAADw\\u002fz8AAAAAAHD\\u002fPwAAAAAAsP0\\u002fAAAAAAAw+j8AAAAAAND1PwAAAAAAUPI\\u002fAAAAAACQ8D8AAAAAABDwPwAAAAAAAPA\\u002fAAAAAAAA8D8AAAAAAADwPwAAAAAAAPA\\u002fAAAAAAAA8D8AAAAAAADwPwAAAAAAAPA\\u002fAAAAAAAA8D8AAAAAAADwPwAAAAAAAPA\\u002fAAAAAAAA8D8AAAAAAADwPw==\"},\"yaxis\":\"y\",\"type\":\"scatter\"}],\"name\":\"8\"},{\"data\":[{\"hovertemplate\":\"variable=9\\u003cbr\\u003ex=%{x}\\u003cbr\\u003evalue=%{y}\\u003cextra\\u003e\\u003c\\u002fextra\\u003e\",\"legendgroup\":\"\",\"line\":{\"color\":\"#636efa\",\"dash\":\"solid\"},\"marker\":{\"symbol\":\"circle\"},\"mode\":\"lines\",\"name\":\"\",\"orientation\":\"v\",\"showlegend\":false,\"x\":{\"dtype\":\"f8\",\"bdata\":\"AAAAAAAAAACamZmZmZmpP5qZmZmZmbk\\u002fNDMzMzMzwz+amZmZmZnJPwAAAAAAANA\\u002fNDMzMzMz0z9nZmZmZmbWP5qZmZmZmdk\\u002fzczMzMzM3D8AAAAAAADgP5qZmZmZmeE\\u002fNDMzMzMz4z\\u002fNzMzMzMzkP2dmZmZmZuY\\u002fAAAAAAAA6D+amZmZmZnpPzQzMzMzM+s\\u002fzczMzMzM7D9nZmZmZmbuPwAAAAAAAPA\\u002fzczMzMzM8D+amZmZmZnxP2dmZmZmZvI\\u002fNDMzMzMz8z8AAAAAAAD0P83MzMzMzPQ\\u002fmpmZmZmZ9T9nZmZmZmb2PzQzMzMzM\\u002fc\\u002fAAAAAAAA+D\\u002fNzMzMzMz4P5qZmZmZmfk\\u002fZ2ZmZmZm+j80MzMzMzP7PwAAAAAAAPw\\u002fzczMzMzM\\u002fD+amZmZmZn9P2dmZmZmZv4\\u002fNDMzMzMz\\u002fz8AAAAAAAAAQA==\"},\"xaxis\":\"x\",\"y\":{\"dtype\":\"f8\",\"bdata\":\"AAAAAAAA8D8AAAAAAADwPwAAAAAAAPA\\u002fAAAAAAAA8D8AAAAAAADwPwAAAAAAAPA\\u002fAAAAAAAA8D8AAAAAAADwPwAAAAAAAPA\\u002fAAAAAAAA8D8AAAAAAAjwPwAAAAAAUPA\\u002fAAAAAABw8T8AAAAAABD0PwAAAAAAAPg\\u002fAAAAAADw+z8AAAAAAJD+PwAAAAAAsP8\\u002fAAAAAAD4\\u002fz8AAAAAAAAAQAAAAAAAAABAAAAAAAD4\\u002fz8AAAAAALD\\u002fPwAAAAAAkP4\\u002fAAAAAADw+z8AAAAAAAD4PwAAAAAAEPQ\\u002fAAAAAABw8T8AAAAAAFDwPwAAAAAACPA\\u002fAAAAAAAA8D8AAAAAAADwPwAAAAAAAPA\\u002fAAAAAAAA8D8AAAAAAADwPwAAAAAAAPA\\u002fAAAAAAAA8D8AAAAAAADwPwAAAAAAAPA\\u002fAAAAAAAA8D8AAAAAAADwPw==\"},\"yaxis\":\"y\",\"type\":\"scatter\"}],\"name\":\"9\"},{\"data\":[{\"hovertemplate\":\"variable=10\\u003cbr\\u003ex=%{x}\\u003cbr\\u003evalue=%{y}\\u003cextra\\u003e\\u003c\\u002fextra\\u003e\",\"legendgroup\":\"\",\"line\":{\"color\":\"#636efa\",\"dash\":\"solid\"},\"marker\":{\"symbol\":\"circle\"},\"mode\":\"lines\",\"name\":\"\",\"orientation\":\"v\",\"showlegend\":false,\"x\":{\"dtype\":\"f8\",\"bdata\":\"AAAAAAAAAACamZmZmZmpP5qZmZmZmbk\\u002fNDMzMzMzwz+amZmZmZnJPwAAAAAAANA\\u002fNDMzMzMz0z9nZmZmZmbWP5qZmZmZmdk\\u002fzczMzMzM3D8AAAAAAADgP5qZmZmZmeE\\u002fNDMzMzMz4z\\u002fNzMzMzMzkP2dmZmZmZuY\\u002fAAAAAAAA6D+amZmZmZnpPzQzMzMzM+s\\u002fzczMzMzM7D9nZmZmZmbuPwAAAAAAAPA\\u002fzczMzMzM8D+amZmZmZnxP2dmZmZmZvI\\u002fNDMzMzMz8z8AAAAAAAD0P83MzMzMzPQ\\u002fmpmZmZmZ9T9nZmZmZmb2PzQzMzMzM\\u002fc\\u002fAAAAAAAA+D\\u002fNzMzMzMz4P5qZmZmZmfk\\u002fZ2ZmZmZm+j80MzMzMzP7PwAAAAAAAPw\\u002fzczMzMzM\\u002fD+amZmZmZn9P2dmZmZmZv4\\u002fNDMzMzMz\\u002fz8AAAAAAAAAQA==\"},\"xaxis\":\"x\",\"y\":{\"dtype\":\"f8\",\"bdata\":\"AAAAAAAA8D8AAAAAAADwPwAAAAAAAPA\\u002fAAAAAAAA8D8AAAAAAADwPwAAAAAAAPA\\u002fAAAAAAAA8D8AAAAAAADwPwAAAAAAAPA\\u002fAAAAAAAA8D8AAAAAAATwPwAAAAAALPA\\u002fAAAAAADg8D8AAAAAAMDyPwAAAAAACPY\\u002fAAAAAAD4+T8AAAAAAED9PwAAAAAAIP8\\u002fAAAAAADU\\u002fz8AAAAAAPz\\u002fPwAAAAAAAABAAAAAAAD8\\u002fz8AAAAAANT\\u002fPwAAAAAAIP8\\u002fAAAAAABA\\u002fT8AAAAAAPj5PwAAAAAACPY\\u002fAAAAAADA8j8AAAAAAODwPwAAAAAALPA\\u002fAAAAAAAE8D8AAAAAAADwPwAAAAAAAPA\\u002fAAAAAAAA8D8AAAAAAADwPwAAAAAAAPA\\u002fAAAAAAAA8D8AAAAAAADwPwAAAAAAAPA\\u002fAAAAAAAA8D8AAAAAAADwPw==\"},\"yaxis\":\"y\",\"type\":\"scatter\"}],\"name\":\"10\"},{\"data\":[{\"hovertemplate\":\"variable=11\\u003cbr\\u003ex=%{x}\\u003cbr\\u003evalue=%{y}\\u003cextra\\u003e\\u003c\\u002fextra\\u003e\",\"legendgroup\":\"\",\"line\":{\"color\":\"#636efa\",\"dash\":\"solid\"},\"marker\":{\"symbol\":\"circle\"},\"mode\":\"lines\",\"name\":\"\",\"orientation\":\"v\",\"showlegend\":false,\"x\":{\"dtype\":\"f8\",\"bdata\":\"AAAAAAAAAACamZmZmZmpP5qZmZmZmbk\\u002fNDMzMzMzwz+amZmZmZnJPwAAAAAAANA\\u002fNDMzMzMz0z9nZmZmZmbWP5qZmZmZmdk\\u002fzczMzMzM3D8AAAAAAADgP5qZmZmZmeE\\u002fNDMzMzMz4z\\u002fNzMzMzMzkP2dmZmZmZuY\\u002fAAAAAAAA6D+amZmZmZnpPzQzMzMzM+s\\u002fzczMzMzM7D9nZmZmZmbuPwAAAAAAAPA\\u002fzczMzMzM8D+amZmZmZnxP2dmZmZmZvI\\u002fNDMzMzMz8z8AAAAAAAD0P83MzMzMzPQ\\u002fmpmZmZmZ9T9nZmZmZmb2PzQzMzMzM\\u002fc\\u002fAAAAAAAA+D\\u002fNzMzMzMz4P5qZmZmZmfk\\u002fZ2ZmZmZm+j80MzMzMzP7PwAAAAAAAPw\\u002fzczMzMzM\\u002fD+amZmZmZn9P2dmZmZmZv4\\u002fNDMzMzMz\\u002fz8AAAAAAAAAQA==\"},\"xaxis\":\"x\",\"y\":{\"dtype\":\"f8\",\"bdata\":\"AAAAAAAA8D8AAAAAAADwPwAAAAAAAPA\\u002fAAAAAAAA8D8AAAAAAADwPwAAAAAAAPA\\u002fAAAAAAAA8D8AAAAAAADwPwAAAAAAAPA\\u002fAAAAAAAA8D8AAAAAAALwPwAAAAAAGPA\\u002fAAAAAACG8D8AAAAAANDxPwAAAAAAZPQ\\u002fAAAAAAAA+D8AAAAAAJz7PwAAAAAAMP4\\u002fAAAAAAB6\\u002fz8AAAAAAOj\\u002fPwAAAAAA\\u002fv8\\u002fAAAAAAD+\\u002fz8AAAAAAOj\\u002fPwAAAAAAev8\\u002fAAAAAAAw\\u002fj8AAAAAAJz7PwAAAAAAAPg\\u002fAAAAAABk9D8AAAAAANDxPwAAAAAAhvA\\u002fAAAAAAAY8D8AAAAAAALwPwAAAAAAAPA\\u002fAAAAAAAA8D8AAAAAAADwPwAAAAAAAPA\\u002fAAAAAAAA8D8AAAAAAADwPwAAAAAAAPA\\u002fAAAAAAAA8D8AAAAAAADwPw==\"},\"yaxis\":\"y\",\"type\":\"scatter\"}],\"name\":\"11\"},{\"data\":[{\"hovertemplate\":\"variable=12\\u003cbr\\u003ex=%{x}\\u003cbr\\u003evalue=%{y}\\u003cextra\\u003e\\u003c\\u002fextra\\u003e\",\"legendgroup\":\"\",\"line\":{\"color\":\"#636efa\",\"dash\":\"solid\"},\"marker\":{\"symbol\":\"circle\"},\"mode\":\"lines\",\"name\":\"\",\"orientation\":\"v\",\"showlegend\":false,\"x\":{\"dtype\":\"f8\",\"bdata\":\"AAAAAAAAAACamZmZmZmpP5qZmZmZmbk\\u002fNDMzMzMzwz+amZmZmZnJPwAAAAAAANA\\u002fNDMzMzMz0z9nZmZmZmbWP5qZmZmZmdk\\u002fzczMzMzM3D8AAAAAAADgP5qZmZmZmeE\\u002fNDMzMzMz4z\\u002fNzMzMzMzkP2dmZmZmZuY\\u002fAAAAAAAA6D+amZmZmZnpPzQzMzMzM+s\\u002fzczMzMzM7D9nZmZmZmbuPwAAAAAAAPA\\u002fzczMzMzM8D+amZmZmZnxP2dmZmZmZvI\\u002fNDMzMzMz8z8AAAAAAAD0P83MzMzMzPQ\\u002fmpmZmZmZ9T9nZmZmZmb2PzQzMzMzM\\u002fc\\u002fAAAAAAAA+D\\u002fNzMzMzMz4P5qZmZmZmfk\\u002fZ2ZmZmZm+j80MzMzMzP7PwAAAAAAAPw\\u002fzczMzMzM\\u002fD+amZmZmZn9P2dmZmZmZv4\\u002fNDMzMzMz\\u002fz8AAAAAAAAAQA==\"},\"xaxis\":\"x\",\"y\":{\"dtype\":\"f8\",\"bdata\":\"AAAAAAAA8D8AAAAAAADwPwAAAAAAAPA\\u002fAAAAAAAA8D8AAAAAAADwPwAAAAAAAPA\\u002fAAAAAAAA8D8AAAAAAADwPwAAAAAAAPA\\u002fAAAAAAAA8D8AAAAAAAHwPwAAAAAADfA\\u002fAAAAAABP8D8AAAAAACvxPwAAAAAAGvM\\u002fAAAAAAAy9j8AAAAAAM75PwAAAAAA5vw\\u002fAAAAAADV\\u002fj8AAAAAALH\\u002fPwAAAAAA8\\u002f8\\u002fAAAAAAD+\\u002fz8AAAAAAPP\\u002fPwAAAAAAsf8\\u002fAAAAAADV\\u002fj8AAAAAAOb8PwAAAAAAzvk\\u002fAAAAAAAy9j8AAAAAABrzPwAAAAAAK\\u002fE\\u002fAAAAAABP8D8AAAAAAA3wPwAAAAAAAfA\\u002fAAAAAAAA8D8AAAAAAADwPwAAAAAAAPA\\u002fAAAAAAAA8D8AAAAAAADwPwAAAAAAAPA\\u002fAAAAAAAA8D8AAAAAAADwPw==\"},\"yaxis\":\"y\",\"type\":\"scatter\"}],\"name\":\"12\"},{\"data\":[{\"hovertemplate\":\"variable=13\\u003cbr\\u003ex=%{x}\\u003cbr\\u003evalue=%{y}\\u003cextra\\u003e\\u003c\\u002fextra\\u003e\",\"legendgroup\":\"\",\"line\":{\"color\":\"#636efa\",\"dash\":\"solid\"},\"marker\":{\"symbol\":\"circle\"},\"mode\":\"lines\",\"name\":\"\",\"orientation\":\"v\",\"showlegend\":false,\"x\":{\"dtype\":\"f8\",\"bdata\":\"AAAAAAAAAACamZmZmZmpP5qZmZmZmbk\\u002fNDMzMzMzwz+amZmZmZnJPwAAAAAAANA\\u002fNDMzMzMz0z9nZmZmZmbWP5qZmZmZmdk\\u002fzczMzMzM3D8AAAAAAADgP5qZmZmZmeE\\u002fNDMzMzMz4z\\u002fNzMzMzMzkP2dmZmZmZuY\\u002fAAAAAAAA6D+amZmZmZnpPzQzMzMzM+s\\u002fzczMzMzM7D9nZmZmZmbuPwAAAAAAAPA\\u002fzczMzMzM8D+amZmZmZnxP2dmZmZmZvI\\u002fNDMzMzMz8z8AAAAAAAD0P83MzMzMzPQ\\u002fmpmZmZmZ9T9nZmZmZmb2PzQzMzMzM\\u002fc\\u002fAAAAAAAA+D\\u002fNzMzMzMz4P5qZmZmZmfk\\u002fZ2ZmZmZm+j80MzMzMzP7PwAAAAAAAPw\\u002fzczMzMzM\\u002fD+amZmZmZn9P2dmZmZmZv4\\u002fNDMzMzMz\\u002fz8AAAAAAAAAQA==\"},\"xaxis\":\"x\",\"y\":{\"dtype\":\"f8\",\"bdata\":\"AAAAAAAA8D8AAAAAAADwPwAAAAAAAPA\\u002fAAAAAAAA8D8AAAAAAADwPwAAAAAAAPA\\u002fAAAAAAAA8D8AAAAAAADwPwAAAAAAAPA\\u002fAAAAAAAA8D8AAAAAgADwPwAAAAAAB\\u002fA\\u002fAAAAAAAu8D8AAAAAAL3wPwAAAACAIvI\\u002fAAAAAACm9D8AAAAAAAD4PwAAAAAAWvs\\u002fAAAAAIDd\\u002fT8AAAAAAEP\\u002fPwAAAAAA0v8\\u002fAAAAAID4\\u002fz8AAAAAgPj\\u002fPwAAAAAA0v8\\u002fAAAAAABD\\u002fz8AAAAAgN39PwAAAAAAWvs\\u002fAAAAAAAA+D8AAAAAAKb0PwAAAACAIvI\\u002fAAAAAAC98D8AAAAAAC7wPwAAAAAAB\\u002fA\\u002fAAAAAIAA8D8AAAAAAADwPwAAAAAAAPA\\u002fAAAAAAAA8D8AAAAAAADwPwAAAAAAAPA\\u002fAAAAAAAA8D8AAAAAAADwPw==\"},\"yaxis\":\"y\",\"type\":\"scatter\"}],\"name\":\"13\"},{\"data\":[{\"hovertemplate\":\"variable=14\\u003cbr\\u003ex=%{x}\\u003cbr\\u003evalue=%{y}\\u003cextra\\u003e\\u003c\\u002fextra\\u003e\",\"legendgroup\":\"\",\"line\":{\"color\":\"#636efa\",\"dash\":\"solid\"},\"marker\":{\"symbol\":\"circle\"},\"mode\":\"lines\",\"name\":\"\",\"orientation\":\"v\",\"showlegend\":false,\"x\":{\"dtype\":\"f8\",\"bdata\":\"AAAAAAAAAACamZmZmZmpP5qZmZmZmbk\\u002fNDMzMzMzwz+amZmZmZnJPwAAAAAAANA\\u002fNDMzMzMz0z9nZmZmZmbWP5qZmZmZmdk\\u002fzczMzMzM3D8AAAAAAADgP5qZmZmZmeE\\u002fNDMzMzMz4z\\u002fNzMzMzMzkP2dmZmZmZuY\\u002fAAAAAAAA6D+amZmZmZnpPzQzMzMzM+s\\u002fzczMzMzM7D9nZmZmZmbuPwAAAAAAAPA\\u002fzczMzMzM8D+amZmZmZnxP2dmZmZmZvI\\u002fNDMzMzMz8z8AAAAAAAD0P83MzMzMzPQ\\u002fmpmZmZmZ9T9nZmZmZmb2PzQzMzMzM\\u002fc\\u002fAAAAAAAA+D\\u002fNzMzMzMz4P5qZmZmZmfk\\u002fZ2ZmZmZm+j80MzMzMzP7PwAAAAAAAPw\\u002fzczMzMzM\\u002fD+amZmZmZn9P2dmZmZmZv4\\u002fNDMzMzMz\\u002fz8AAAAAAAAAQA==\"},\"xaxis\":\"x\",\"y\":{\"dtype\":\"f8\",\"bdata\":\"AAAAAAAA8D8AAAAAAADwPwAAAAAAAPA\\u002fAAAAAAAA8D8AAAAAAADwPwAAAAAAAPA\\u002fAAAAAAAA8D8AAAAAAADwPwAAAAAAAPA\\u002fAAAAAAAA8D8AAAAAQADwPwAAAADAA\\u002fA\\u002fAAAAAIAa8D8AAAAAgHXwPwAAAADAb\\u002fE\\u002fAAAAAEBk8z8AAAAAAFP2PwAAAAAArfk\\u002fAAAAAMCb\\u002fD8AAAAAQJD+PwAAAACAiv8\\u002fAAAAAEDl\\u002fz8AAAAAgPj\\u002fPwAAAABA5f8\\u002fAAAAAICK\\u002fz8AAAAAQJD+PwAAAADAm\\u002fw\\u002fAAAAAACt+T8AAAAAAFP2PwAAAABAZPM\\u002fAAAAAMBv8T8AAAAAgHXwPwAAAACAGvA\\u002fAAAAAMAD8D8AAAAAQADwPwAAAAAAAPA\\u002fAAAAAAAA8D8AAAAAAADwPwAAAAAAAPA\\u002fAAAAAAAA8D8AAAAAAADwPw==\"},\"yaxis\":\"y\",\"type\":\"scatter\"}],\"name\":\"14\"},{\"data\":[{\"hovertemplate\":\"variable=15\\u003cbr\\u003ex=%{x}\\u003cbr\\u003evalue=%{y}\\u003cextra\\u003e\\u003c\\u002fextra\\u003e\",\"legendgroup\":\"\",\"line\":{\"color\":\"#636efa\",\"dash\":\"solid\"},\"marker\":{\"symbol\":\"circle\"},\"mode\":\"lines\",\"name\":\"\",\"orientation\":\"v\",\"showlegend\":false,\"x\":{\"dtype\":\"f8\",\"bdata\":\"AAAAAAAAAACamZmZmZmpP5qZmZmZmbk\\u002fNDMzMzMzwz+amZmZmZnJPwAAAAAAANA\\u002fNDMzMzMz0z9nZmZmZmbWP5qZmZmZmdk\\u002fzczMzMzM3D8AAAAAAADgP5qZmZmZmeE\\u002fNDMzMzMz4z\\u002fNzMzMzMzkP2dmZmZmZuY\\u002fAAAAAAAA6D+amZmZmZnpPzQzMzMzM+s\\u002fzczMzMzM7D9nZmZmZmbuPwAAAAAAAPA\\u002fzczMzMzM8D+amZmZmZnxP2dmZmZmZvI\\u002fNDMzMzMz8z8AAAAAAAD0P83MzMzMzPQ\\u002fmpmZmZmZ9T9nZmZmZmb2PzQzMzMzM\\u002fc\\u002fAAAAAAAA+D\\u002fNzMzMzMz4P5qZmZmZmfk\\u002fZ2ZmZmZm+j80MzMzMzP7PwAAAAAAAPw\\u002fzczMzMzM\\u002fD+amZmZmZn9P2dmZmZmZv4\\u002fNDMzMzMz\\u002fz8AAAAAAAAAQA==\"},\"xaxis\":\"x\",\"y\":{\"dtype\":\"f8\",\"bdata\":\"AAAAAAAA8D8AAAAAAADwPwAAAAAAAPA\\u002fAAAAAAAA8D8AAAAAAADwPwAAAAAAAPA\\u002fAAAAAAAA8D8AAAAAAADwPwAAAAAAAPA\\u002fAAAAAAAA8D8AAAAAIADwPwAAAAAAAvA\\u002fAAAAACAP8D8AAAAAAEjwPwAAAACg8vA\\u002fAAAAAABq8j8AAAAAoNv0PwAAAAAAAPg\\u002fAAAAAGAk+z8AAAAAAJb9PwAAAABgDf8\\u002fAAAAAOC3\\u002fz8AAAAA4O7\\u002fPwAAAADg7v8\\u002fAAAAAOC3\\u002fz8AAAAAYA3\\u002fPwAAAAAAlv0\\u002fAAAAAGAk+z8AAAAAAAD4PwAAAACg2\\u002fQ\\u002fAAAAAABq8j8AAAAAoPLwPwAAAAAASPA\\u002fAAAAACAP8D8AAAAAAALwPwAAAAAgAPA\\u002fAAAAAAAA8D8AAAAAAADwPwAAAAAAAPA\\u002fAAAAAAAA8D8AAAAAAADwPw==\"},\"yaxis\":\"y\",\"type\":\"scatter\"}],\"name\":\"15\"},{\"data\":[{\"hovertemplate\":\"variable=16\\u003cbr\\u003ex=%{x}\\u003cbr\\u003evalue=%{y}\\u003cextra\\u003e\\u003c\\u002fextra\\u003e\",\"legendgroup\":\"\",\"line\":{\"color\":\"#636efa\",\"dash\":\"solid\"},\"marker\":{\"symbol\":\"circle\"},\"mode\":\"lines\",\"name\":\"\",\"orientation\":\"v\",\"showlegend\":false,\"x\":{\"dtype\":\"f8\",\"bdata\":\"AAAAAAAAAACamZmZmZmpP5qZmZmZmbk\\u002fNDMzMzMzwz+amZmZmZnJPwAAAAAAANA\\u002fNDMzMzMz0z9nZmZmZmbWP5qZmZmZmdk\\u002fzczMzMzM3D8AAAAAAADgP5qZmZmZmeE\\u002fNDMzMzMz4z\\u002fNzMzMzMzkP2dmZmZmZuY\\u002fAAAAAAAA6D+amZmZmZnpPzQzMzMzM+s\\u002fzczMzMzM7D9nZmZmZmbuPwAAAAAAAPA\\u002fzczMzMzM8D+amZmZmZnxP2dmZmZmZvI\\u002fNDMzMzMz8z8AAAAAAAD0P83MzMzMzPQ\\u002fmpmZmZmZ9T9nZmZmZmb2PzQzMzMzM\\u002fc\\u002fAAAAAAAA+D\\u002fNzMzMzMz4P5qZmZmZmfk\\u002fZ2ZmZmZm+j80MzMzMzP7PwAAAAAAAPw\\u002fzczMzMzM\\u002fD+amZmZmZn9P2dmZmZmZv4\\u002fNDMzMzMz\\u002fz8AAAAAAAAAQA==\"},\"xaxis\":\"x\",\"y\":{\"dtype\":\"f8\",\"bdata\":\"AAAAAAAA8D8AAAAAAADwPwAAAAAAAPA\\u002fAAAAAAAA8D8AAAAAAADwPwAAAAAAAPA\\u002fAAAAAAAA8D8AAAAAAADwPwAAAAAAAPA\\u002fAAAAAAAA8D8AAAAAEADwPwAAAAAQAfA\\u002fAAAAAJAI8D8AAAAAkCvwPwAAAABQnfA\\u002fAAAAAFCu8T8AAAAA0KLzPwAAAADQbfY\\u002fAAAAADCS+T8AAAAAMF38PwAAAACwUf4\\u002fAAAAAKBi\\u002fz8AAAAAYNP\\u002fPwAAAADg7v8\\u002fAAAAAGDT\\u002fz8AAAAAoGL\\u002fPwAAAACwUf4\\u002fAAAAADBd\\u002fD8AAAAAMJL5PwAAAADQbfY\\u002fAAAAANCi8z8AAAAAUK7xPwAAAABQnfA\\u002fAAAAAJAr8D8AAAAAkAjwPwAAAAAQAfA\\u002fAAAAABAA8D8AAAAAAADwPwAAAAAAAPA\\u002fAAAAAAAA8D8AAAAAAADwPw==\"},\"yaxis\":\"y\",\"type\":\"scatter\"}],\"name\":\"16\"},{\"data\":[{\"hovertemplate\":\"variable=17\\u003cbr\\u003ex=%{x}\\u003cbr\\u003evalue=%{y}\\u003cextra\\u003e\\u003c\\u002fextra\\u003e\",\"legendgroup\":\"\",\"line\":{\"color\":\"#636efa\",\"dash\":\"solid\"},\"marker\":{\"symbol\":\"circle\"},\"mode\":\"lines\",\"name\":\"\",\"orientation\":\"v\",\"showlegend\":false,\"x\":{\"dtype\":\"f8\",\"bdata\":\"AAAAAAAAAACamZmZmZmpP5qZmZmZmbk\\u002fNDMzMzMzwz+amZmZmZnJPwAAAAAAANA\\u002fNDMzMzMz0z9nZmZmZmbWP5qZmZmZmdk\\u002fzczMzMzM3D8AAAAAAADgP5qZmZmZmeE\\u002fNDMzMzMz4z\\u002fNzMzMzMzkP2dmZmZmZuY\\u002fAAAAAAAA6D+amZmZmZnpPzQzMzMzM+s\\u002fzczMzMzM7D9nZmZmZmbuPwAAAAAAAPA\\u002fzczMzMzM8D+amZmZmZnxP2dmZmZmZvI\\u002fNDMzMzMz8z8AAAAAAAD0P83MzMzMzPQ\\u002fmpmZmZmZ9T9nZmZmZmb2PzQzMzMzM\\u002fc\\u002fAAAAAAAA+D\\u002fNzMzMzMz4P5qZmZmZmfk\\u002fZ2ZmZmZm+j80MzMzMzP7PwAAAAAAAPw\\u002fzczMzMzM\\u002fD+amZmZmZn9P2dmZmZmZv4\\u002fNDMzMzMz\\u002fz8AAAAAAAAAQA==\"},\"xaxis\":\"x\",\"y\":{\"dtype\":\"f8\",\"bdata\":\"AAAAAAAA8D8AAAAAAADwPwAAAAAAAPA\\u002fAAAAAAAA8D8AAAAAAADwPwAAAAAAAPA\\u002fAAAAAAAA8D8AAAAAAADwPwAAAAAAAPA\\u002fAAAAAAAA8D8AAAAACADwPwAAAACQAPA\\u002fAAAAANAE8D8AAAAAEBrwPwAAAABwZPA\\u002fAAAAANAl8T8AAAAAkKjyPwAAAABQCPU\\u002fAAAAAAAA+D8AAAAAsPf6PwAAAABwV\\u002f0\\u002fAAAAACja\\u002fj8AAAAAAJv\\u002fPwAAAAAg4f8\\u002fAAAAACDh\\u002fz8AAAAAAJv\\u002fPwAAAAAo2v4\\u002fAAAAAHBX\\u002fT8AAAAAsPf6PwAAAAAAAPg\\u002fAAAAAFAI9T8AAAAAkKjyPwAAAADQJfE\\u002fAAAAAHBk8D8AAAAAEBrwPwAAAADQBPA\\u002fAAAAAJAA8D8AAAAACADwPwAAAAAAAPA\\u002fAAAAAAAA8D8AAAAAAADwPw==\"},\"yaxis\":\"y\",\"type\":\"scatter\"}],\"name\":\"17\"},{\"data\":[{\"hovertemplate\":\"variable=18\\u003cbr\\u003ex=%{x}\\u003cbr\\u003evalue=%{y}\\u003cextra\\u003e\\u003c\\u002fextra\\u003e\",\"legendgroup\":\"\",\"line\":{\"color\":\"#636efa\",\"dash\":\"solid\"},\"marker\":{\"symbol\":\"circle\"},\"mode\":\"lines\",\"name\":\"\",\"orientation\":\"v\",\"showlegend\":false,\"x\":{\"dtype\":\"f8\",\"bdata\":\"AAAAAAAAAACamZmZmZmpP5qZmZmZmbk\\u002fNDMzMzMzwz+amZmZmZnJPwAAAAAAANA\\u002fNDMzMzMz0z9nZmZmZmbWP5qZmZmZmdk\\u002fzczMzMzM3D8AAAAAAADgP5qZmZmZmeE\\u002fNDMzMzMz4z\\u002fNzMzMzMzkP2dmZmZmZuY\\u002fAAAAAAAA6D+amZmZmZnpPzQzMzMzM+s\\u002fzczMzMzM7D9nZmZmZmbuPwAAAAAAAPA\\u002fzczMzMzM8D+amZmZmZnxP2dmZmZmZvI\\u002fNDMzMzMz8z8AAAAAAAD0P83MzMzMzPQ\\u002fmpmZmZmZ9T9nZmZmZmb2PzQzMzMzM\\u002fc\\u002fAAAAAAAA+D\\u002fNzMzMzMz4P5qZmZmZmfk\\u002fZ2ZmZmZm+j80MzMzMzP7PwAAAAAAAPw\\u002fzczMzMzM\\u002fD+amZmZmZn9P2dmZmZmZv4\\u002fNDMzMzMz\\u002fz8AAAAAAAAAQA==\"},\"xaxis\":\"x\",\"y\":{\"dtype\":\"f8\",\"bdata\":\"AAAAAAAA8D8AAAAAAADwPwAAAAAAAPA\\u002fAAAAAAAA8D8AAAAAAADwPwAAAAAAAPA\\u002fAAAAAAAA8D8AAAAAAADwPwAAAAAAAPA\\u002fAAAAAAAA8D8AAAAABADwPwAAAABMAPA\\u002fAAAAALAC8D8AAAAAcA\\u002fwPwAAAABAP\\u002fA\\u002fAAAAACDF8D8AAAAAMOfxPwAAAABw2PM\\u002fAAAAACiE9j8AAAAA2Hv5PwAAAACQJ\\u002fw\\u002fAAAAAMwY\\u002fj8AAAAAlDr\\u002fPwAAAAAQvv8\\u002fAAAAACDh\\u002fz8AAAAAEL7\\u002fPwAAAACUOv8\\u002fAAAAAMwY\\u002fj8AAAAAkCf8PwAAAADYe\\u002fk\\u002fAAAAACiE9j8AAAAAcNjzPwAAAAAw5\\u002fE\\u002fAAAAACDF8D8AAAAAQD\\u002fwPwAAAABwD\\u002fA\\u002fAAAAALAC8D8AAAAATADwPwAAAAAEAPA\\u002fAAAAAAAA8D8AAAAAAADwPw==\"},\"yaxis\":\"y\",\"type\":\"scatter\"}],\"name\":\"18\"},{\"data\":[{\"hovertemplate\":\"variable=19\\u003cbr\\u003ex=%{x}\\u003cbr\\u003evalue=%{y}\\u003cextra\\u003e\\u003c\\u002fextra\\u003e\",\"legendgroup\":\"\",\"line\":{\"color\":\"#636efa\",\"dash\":\"solid\"},\"marker\":{\"symbol\":\"circle\"},\"mode\":\"lines\",\"name\":\"\",\"orientation\":\"v\",\"showlegend\":false,\"x\":{\"dtype\":\"f8\",\"bdata\":\"AAAAAAAAAACamZmZmZmpP5qZmZmZmbk\\u002fNDMzMzMzwz+amZmZmZnJPwAAAAAAANA\\u002fNDMzMzMz0z9nZmZmZmbWP5qZmZmZmdk\\u002fzczMzMzM3D8AAAAAAADgP5qZmZmZmeE\\u002fNDMzMzMz4z\\u002fNzMzMzMzkP2dmZmZmZuY\\u002fAAAAAAAA6D+amZmZmZnpPzQzMzMzM+s\\u002fzczMzMzM7D9nZmZmZmbuPwAAAAAAAPA\\u002fzczMzMzM8D+amZmZmZnxP2dmZmZmZvI\\u002fNDMzMzMz8z8AAAAAAAD0P83MzMzMzPQ\\u002fmpmZmZmZ9T9nZmZmZmb2PzQzMzMzM\\u002fc\\u002fAAAAAAAA+D\\u002fNzMzMzMz4P5qZmZmZmfk\\u002fZ2ZmZmZm+j80MzMzMzP7PwAAAAAAAPw\\u002fzczMzMzM\\u002fD+amZmZmZn9P2dmZmZmZv4\\u002fNDMzMzMz\\u002fz8AAAAAAAAAQA==\"},\"xaxis\":\"x\",\"y\":{\"dtype\":\"f8\",\"bdata\":\"AAAAAAAA8D8AAAAAAADwPwAAAAAAAPA\\u002fAAAAAAAA8D8AAAAAAADwPwAAAAAAAPA\\u002fAAAAAAAA8D8AAAAAAADwPwAAAAAAAPA\\u002fAAAAAAAA8D8AAAAAAgDwPwAAAAAoAPA\\u002fAAAAAH4B8D8AAAAAEAnwPwAAAABYJ\\u002fA\\u002fAAAAADCC8D8AAAAAKFbxPwAAAADQ3\\u002fI\\u002fAAAAAEwu9T8AAAAAAAD4PwAAAAC00fo\\u002fAAAAAC4g\\u002fT8AAAAAsKn+PwAAAABSfP8\\u002fAAAAAJjP\\u002fz8AAAAAmM\\u002f\\u002fPwAAAABSfP8\\u002fAAAAALCp\\u002fj8AAAAALiD9PwAAAAC00fo\\u002fAAAAAAAA+D8AAAAATC71PwAAAADQ3\\u002fI\\u002fAAAAAChW8T8AAAAAMILwPwAAAABYJ\\u002fA\\u002fAAAAABAJ8D8AAAAAfgHwPwAAAAAoAPA\\u002fAAAAAAIA8D8AAAAAAADwPw==\"},\"yaxis\":\"y\",\"type\":\"scatter\"}],\"name\":\"19\"},{\"data\":[{\"hovertemplate\":\"variable=20\\u003cbr\\u003ex=%{x}\\u003cbr\\u003evalue=%{y}\\u003cextra\\u003e\\u003c\\u002fextra\\u003e\",\"legendgroup\":\"\",\"line\":{\"color\":\"#636efa\",\"dash\":\"solid\"},\"marker\":{\"symbol\":\"circle\"},\"mode\":\"lines\",\"name\":\"\",\"orientation\":\"v\",\"showlegend\":false,\"x\":{\"dtype\":\"f8\",\"bdata\":\"AAAAAAAAAACamZmZmZmpP5qZmZmZmbk\\u002fNDMzMzMzwz+amZmZmZnJPwAAAAAAANA\\u002fNDMzMzMz0z9nZmZmZmbWP5qZmZmZmdk\\u002fzczMzMzM3D8AAAAAAADgP5qZmZmZmeE\\u002fNDMzMzMz4z\\u002fNzMzMzMzkP2dmZmZmZuY\\u002fAAAAAAAA6D+amZmZmZnpPzQzMzMzM+s\\u002fzczMzMzM7D9nZmZmZmbuPwAAAAAAAPA\\u002fzczMzMzM8D+amZmZmZnxP2dmZmZmZvI\\u002fNDMzMzMz8z8AAAAAAAD0P83MzMzMzPQ\\u002fmpmZmZmZ9T9nZmZmZmb2PzQzMzMzM\\u002fc\\u002fAAAAAAAA+D\\u002fNzMzMzMz4P5qZmZmZmfk\\u002fZ2ZmZmZm+j80MzMzMzP7PwAAAAAAAPw\\u002fzczMzMzM\\u002fD+amZmZmZn9P2dmZmZmZv4\\u002fNDMzMzMz\\u002fz8AAAAAAAAAQA==\"},\"xaxis\":\"x\",\"y\":{\"dtype\":\"f8\",\"bdata\":\"AAAAAAAA8D8AAAAAAADwPwAAAAAAAPA\\u002fAAAAAAAA8D8AAAAAAADwPwAAAAAAAPA\\u002fAAAAAAAA8D8AAAAAAADwPwAAAAAAAPA\\u002fAAAAAAAA8D8AAAAAAQDwPwAAAAAVAPA\\u002fAAAAANMA8D8AAAAARwXwPwAAAAA0GPA\\u002fAAAAAMRU8D8AAAAALOzwPwAAAAD8GvI\\u002fAAAAAA4H9D8AAAAAJpf2PwAAAADaaPk\\u002fAAAAAPH4+z8AAAAA7+T9PwAAAAABE\\u002f8\\u002fAAAAAPWl\\u002fz8AAAAAmM\\u002f\\u002fPwAAAAD1pf8\\u002fAAAAAAET\\u002fz8AAAAA7+T9PwAAAADx+Ps\\u002fAAAAANpo+T8AAAAAJpf2PwAAAAAOB\\u002fQ\\u002fAAAAAPwa8j8AAAAALOzwPwAAAADEVPA\\u002fAAAAADQY8D8AAAAARwXwPwAAAADTAPA\\u002fAAAAABUA8D8AAAAAAQDwPw==\"},\"yaxis\":\"y\",\"type\":\"scatter\"}],\"name\":\"20\"},{\"data\":[{\"hovertemplate\":\"variable=21\\u003cbr\\u003ex=%{x}\\u003cbr\\u003evalue=%{y}\\u003cextra\\u003e\\u003c\\u002fextra\\u003e\",\"legendgroup\":\"\",\"line\":{\"color\":\"#636efa\",\"dash\":\"solid\"},\"marker\":{\"symbol\":\"circle\"},\"mode\":\"lines\",\"name\":\"\",\"orientation\":\"v\",\"showlegend\":false,\"x\":{\"dtype\":\"f8\",\"bdata\":\"AAAAAAAAAACamZmZmZmpP5qZmZmZmbk\\u002fNDMzMzMzwz+amZmZmZnJPwAAAAAAANA\\u002fNDMzMzMz0z9nZmZmZmbWP5qZmZmZmdk\\u002fzczMzMzM3D8AAAAAAADgP5qZmZmZmeE\\u002fNDMzMzMz4z\\u002fNzMzMzMzkP2dmZmZmZuY\\u002fAAAAAAAA6D+amZmZmZnpPzQzMzMzM+s\\u002fzczMzMzM7D9nZmZmZmbuPwAAAAAAAPA\\u002fzczMzMzM8D+amZmZmZnxP2dmZmZmZvI\\u002fNDMzMzMz8z8AAAAAAAD0P83MzMzMzPQ\\u002fmpmZmZmZ9T9nZmZmZmb2PzQzMzMzM\\u002fc\\u002fAAAAAAAA+D\\u002fNzMzMzMz4P5qZmZmZmfk\\u002fZ2ZmZmZm+j80MzMzMzP7PwAAAAAAAPw\\u002fzczMzMzM\\u002fD+amZmZmZn9P2dmZmZmZv4\\u002fNDMzMzMz\\u002fz8AAAAAAAAAQA==\"},\"xaxis\":\"x\",\"y\":{\"dtype\":\"f8\",\"bdata\":\"AAAAAAAA8D8AAAAAAADwPwAAAAAAAPA\\u002fAAAAAAAA8D8AAAAAAADwPwAAAAAAAPA\\u002fAAAAAAAA8D8AAAAAAADwPwAAAAAAAPA\\u002fAAAAAAAA8D8AAACAAADwPwAAAAALAPA\\u002fAAAAAHQA8D8AAAAADQPwPwAAAIC9DvA\\u002fAAAAAHw28D8AAAAAeKDwPwAAAACUg\\u002fE\\u002fAAAAAAUR8z8AAAAAGk\\u002f1PwAAAAAAAPg\\u002fAAAAgOWw+j8AAAAA8O78PwAAAAD4e\\u002f4\\u002fAAAAAHtc\\u002fz8AAACAxrr\\u002fPwAAAIDGuv8\\u002fAAAAAHtc\\u002fz8AAAAA+Hv+PwAAAADw7vw\\u002fAAAAgOWw+j8AAAAAAAD4PwAAAAAaT\\u002fU\\u002fAAAAAAUR8z8AAAAAlIPxPwAAAAB4oPA\\u002fAAAAAHw28D8AAACAvQ7wPwAAAAANA\\u002fA\\u002fAAAAAHQA8D8AAAAACwDwPw==\"},\"yaxis\":\"y\",\"type\":\"scatter\"}],\"name\":\"21\"},{\"data\":[{\"hovertemplate\":\"variable=22\\u003cbr\\u003ex=%{x}\\u003cbr\\u003evalue=%{y}\\u003cextra\\u003e\\u003c\\u002fextra\\u003e\",\"legendgroup\":\"\",\"line\":{\"color\":\"#636efa\",\"dash\":\"solid\"},\"marker\":{\"symbol\":\"circle\"},\"mode\":\"lines\",\"name\":\"\",\"orientation\":\"v\",\"showlegend\":false,\"x\":{\"dtype\":\"f8\",\"bdata\":\"AAAAAAAAAACamZmZmZmpP5qZmZmZmbk\\u002fNDMzMzMzwz+amZmZmZnJPwAAAAAAANA\\u002fNDMzMzMz0z9nZmZmZmbWP5qZmZmZmdk\\u002fzczMzMzM3D8AAAAAAADgP5qZmZmZmeE\\u002fNDMzMzMz4z\\u002fNzMzMzMzkP2dmZmZmZuY\\u002fAAAAAAAA6D+amZmZmZnpPzQzMzMzM+s\\u002fzczMzMzM7D9nZmZmZmbuPwAAAAAAAPA\\u002fzczMzMzM8D+amZmZmZnxP2dmZmZmZvI\\u002fNDMzMzMz8z8AAAAAAAD0P83MzMzMzPQ\\u002fmpmZmZmZ9T9nZmZmZmb2PzQzMzMzM\\u002fc\\u002fAAAAAAAA+D\\u002fNzMzMzMz4P5qZmZmZmfk\\u002fZ2ZmZmZm+j80MzMzMzP7PwAAAAAAAPw\\u002fzczMzMzM\\u002fD+amZmZmZn9P2dmZmZmZv4\\u002fNDMzMzMz\\u002fz8AAAAAAAAAQA==\"},\"xaxis\":\"x\",\"y\":{\"dtype\":\"f8\",\"bdata\":\"AAAAAAAA8D8AAAAAAADwPwAAAAAAAPA\\u002fAAAAAAAA8D8AAAAAAADwPwAAAAAAAPA\\u002fAAAAAAAA8D8AAAAAAADwPwAAAAAAAPA\\u002fAAAAAAAA8D8AAABAAADwPwAAAMAFAPA\\u002fAAAAgD8A8D8AAACAwAHwPwAAAEDlCPA\\u002fAAAAwJwi8D8AAAAAemvwPwAAAAAGEvE\\u002fAAAAgExK8j8AAACADzD0PwAAAACNp\\u002fY\\u002fAAAAwHJY+T8AAADA6s\\u002f7PwAAAAB0tf0\\u002fAAAAgDns\\u002fj8AAADAoIv\\u002fPwAAAIDGuv8\\u002fAAAAwKCL\\u002fz8AAACAOez+PwAAAAB0tf0\\u002fAAAAwOrP+z8AAADAclj5PwAAAACNp\\u002fY\\u002fAAAAgA8w9D8AAACATEryPwAAAAAGEvE\\u002fAAAAAHpr8D8AAADAnCLwPwAAAEDlCPA\\u002fAAAAgMAB8D8AAACAPwDwPw==\"},\"yaxis\":\"y\",\"type\":\"scatter\"}],\"name\":\"22\"},{\"data\":[{\"hovertemplate\":\"variable=23\\u003cbr\\u003ex=%{x}\\u003cbr\\u003evalue=%{y}\\u003cextra\\u003e\\u003c\\u002fextra\\u003e\",\"legendgroup\":\"\",\"line\":{\"color\":\"#636efa\",\"dash\":\"solid\"},\"marker\":{\"symbol\":\"circle\"},\"mode\":\"lines\",\"name\":\"\",\"orientation\":\"v\",\"showlegend\":false,\"x\":{\"dtype\":\"f8\",\"bdata\":\"AAAAAAAAAACamZmZmZmpP5qZmZmZmbk\\u002fNDMzMzMzwz+amZmZmZnJPwAAAAAAANA\\u002fNDMzMzMz0z9nZmZmZmbWP5qZmZmZmdk\\u002fzczMzMzM3D8AAAAAAADgP5qZmZmZmeE\\u002fNDMzMzMz4z\\u002fNzMzMzMzkP2dmZmZmZuY\\u002fAAAAAAAA6D+amZmZmZnpPzQzMzMzM+s\\u002fzczMzMzM7D9nZmZmZmbuPwAAAAAAAPA\\u002fzczMzMzM8D+amZmZmZnxP2dmZmZmZvI\\u002fNDMzMzMz8z8AAAAAAAD0P83MzMzMzPQ\\u002fmpmZmZmZ9T9nZmZmZmb2PzQzMzMzM\\u002fc\\u002fAAAAAAAA+D\\u002fNzMzMzMz4P5qZmZmZmfk\\u002fZ2ZmZmZm+j80MzMzMzP7PwAAAAAAAPw\\u002fzczMzMzM\\u002fD+amZmZmZn9P2dmZmZmZv4\\u002fNDMzMzMz\\u002fz8AAAAAAAAAQA==\"},\"xaxis\":\"x\",\"y\":{\"dtype\":\"f8\",\"bdata\":\"AAAAAAAA8D8AAAAAAADwPwAAAAAAAPA\\u002fAAAAAAAA8D8AAAAAAADwPwAAAAAAAPA\\u002fAAAAAAAA8D8AAAAAAADwPwAAAAAAAPA\\u002fAAAAAAAA8D8AAAAgAADwPwAAAAADAPA\\u002fAAAAoCIA8D8AAAAAAAHwPwAAAOBSBfA\\u002fAAAAAMEV8D8AAABgC0fwPwAAAADAvvA\\u002fAAAAQCmu8T8AAAAALj3zPwAAAEDOa\\u002fU\\u002fAAAA4P\\u002f\\u002f9z8AAADALpT6PwAAAGCvwvw\\u002fAAAAwNZQ\\u002fj8AAAAg7Tv\\u002fPwAAAKAzo\\u002f8\\u002fAAAAoDOj\\u002fz8AAAAg7Tv\\u002fPwAAAMDWUP4\\u002fAAAAYK\\u002fC\\u002fD8AAADALpT6PwAAAOD\\u002f\\u002f\\u002fc\\u002fAAAAQM5r9T8AAAAALj3zPwAAAEAprvE\\u002fAAAAAMC+8D8AAABgC0fwPwAAAADBFfA\\u002fAAAA4FIF8D8AAAAAAAHwPw==\"},\"yaxis\":\"y\",\"type\":\"scatter\"}],\"name\":\"23\"},{\"data\":[{\"hovertemplate\":\"variable=24\\u003cbr\\u003ex=%{x}\\u003cbr\\u003evalue=%{y}\\u003cextra\\u003e\\u003c\\u002fextra\\u003e\",\"legendgroup\":\"\",\"line\":{\"color\":\"#636efa\",\"dash\":\"solid\"},\"marker\":{\"symbol\":\"circle\"},\"mode\":\"lines\",\"name\":\"\",\"orientation\":\"v\",\"showlegend\":false,\"x\":{\"dtype\":\"f8\",\"bdata\":\"AAAAAAAAAACamZmZmZmpP5qZmZmZmbk\\u002fNDMzMzMzwz+amZmZmZnJPwAAAAAAANA\\u002fNDMzMzMz0z9nZmZmZmbWP5qZmZmZmdk\\u002fzczMzMzM3D8AAAAAAADgP5qZmZmZmeE\\u002fNDMzMzMz4z\\u002fNzMzMzMzkP2dmZmZmZuY\\u002fAAAAAAAA6D+amZmZmZnpPzQzMzMzM+s\\u002fzczMzMzM7D9nZmZmZmbuPwAAAAAAAPA\\u002fzczMzMzM8D+amZmZmZnxP2dmZmZmZvI\\u002fNDMzMzMz8z8AAAAAAAD0P83MzMzMzPQ\\u002fmpmZmZmZ9T9nZmZmZmb2PzQzMzMzM\\u002fc\\u002fAAAAAAAA+D\\u002fNzMzMzMz4P5qZmZmZmfk\\u002fZ2ZmZmZm+j80MzMzMzP7PwAAAAAAAPw\\u002fzczMzMzM\\u002fD+amZmZmZn9P2dmZmZmZv4\\u002fNDMzMzMz\\u002fz8AAAAAAAAAQA==\"},\"xaxis\":\"x\",\"y\":{\"dtype\":\"f8\",\"bdata\":\"AAAAAAAA8D8AAAAAAADwPwAAAAAAAPA\\u002fAAAAAAAA8D8AAAAAAADwPwAAAAAAAPA\\u002fAAAAAAAA8D8AAAAAAADwPwAAAAAAAPA\\u002fAAAAAAAA8D8AAAAQAADwPwAAAJABAPA\\u002fAAAA0BIA8D8AAABQkQDwPwAAAHApA\\u002fA\\u002fAAAA8IkN8D8AAAAwZi7wPwAAALDlgvA\\u002fAAAAoHQ28T8AAACgq3XyPwAAACB+VPQ\\u002fAAAAEOe19j8AAABQF0r5PwAAABBvq\\u002fs\\u002fAAAAEMOJ\\u002fT8AAADwYcb+PwAAAGCQb\\u002f8\\u002fAAAAoDOj\\u002fz8AAABgkG\\u002f\\u002fPwAAAPBhxv4\\u002fAAAAEMOJ\\u002fT8AAAAQb6v7PwAAAFAXSvk\\u002fAAAAEOe19j8AAAAgflT0PwAAAKCrdfI\\u002fAAAAoHQ28T8AAACw5YLwPwAAADBmLvA\\u002fAAAA8IkN8D8AAABwKQPwPw==\"},\"yaxis\":\"y\",\"type\":\"scatter\"}],\"name\":\"24\"},{\"data\":[{\"hovertemplate\":\"variable=25\\u003cbr\\u003ex=%{x}\\u003cbr\\u003evalue=%{y}\\u003cextra\\u003e\\u003c\\u002fextra\\u003e\",\"legendgroup\":\"\",\"line\":{\"color\":\"#636efa\",\"dash\":\"solid\"},\"marker\":{\"symbol\":\"circle\"},\"mode\":\"lines\",\"name\":\"\",\"orientation\":\"v\",\"showlegend\":false,\"x\":{\"dtype\":\"f8\",\"bdata\":\"AAAAAAAAAACamZmZmZmpP5qZmZmZmbk\\u002fNDMzMzMzwz+amZmZmZnJPwAAAAAAANA\\u002fNDMzMzMz0z9nZmZmZmbWP5qZmZmZmdk\\u002fzczMzMzM3D8AAAAAAADgP5qZmZmZmeE\\u002fNDMzMzMz4z\\u002fNzMzMzMzkP2dmZmZmZuY\\u002fAAAAAAAA6D+amZmZmZnpPzQzMzMzM+s\\u002fzczMzMzM7D9nZmZmZmbuPwAAAAAAAPA\\u002fzczMzMzM8D+amZmZmZnxP2dmZmZmZvI\\u002fNDMzMzMz8z8AAAAAAAD0P83MzMzMzPQ\\u002fmpmZmZmZ9T9nZmZmZmb2PzQzMzMzM\\u002fc\\u002fAAAAAAAA+D\\u002fNzMzMzMz4P5qZmZmZmfk\\u002fZ2ZmZmZm+j80MzMzMzP7PwAAAAAAAPw\\u002fzczMzMzM\\u002fD+amZmZmZn9P2dmZmZmZv4\\u002fNDMzMzMz\\u002fz8AAAAAAAAAQA==\"},\"xaxis\":\"x\",\"y\":{\"dtype\":\"f8\",\"bdata\":\"AAAAAAAA8D8AAAAAAADwPwAAAAAAAPA\\u002fAAAAAAAA8D8AAAAAAADwPwAAAAAAAPA\\u002fAAAAAAAA8D8AAAAAAADwPwAAAAAAAPA\\u002fAAAAAAAA8D8AAAAIAADwPwAAANAAAPA\\u002fAAAAMAoA8D8AAAAQUgDwPwAAAGDdAfA\\u002fAAAAsFkI8D8AAAAQ+B3wPwAAAPClWPA\\u002fAAAAKK3c8D8AAAAgENbxPwAAAOAUZfM\\u002fAAAAmDKF9T8AAAAw\\u002f\\u002f\\u002f3PwAAADDDevo\\u002fAAAAEJma\\u002fD8AAACAEij+PwAAACj5Gv8\\u002fAAAAAGKJ\\u002fz8AAAAAYon\\u002fPwAAACj5Gv8\\u002fAAAAgBIo\\u002fj8AAAAQmZr8PwAAADDDevo\\u002fAAAAMP\\u002f\\u002f9z8AAACYMoX1PwAAAOAUZfM\\u002fAAAAIBDW8T8AAAAordzwPwAAAPClWPA\\u002fAAAAEPgd8D8AAACwWQjwPw==\"},\"yaxis\":\"y\",\"type\":\"scatter\"}],\"name\":\"25\"}]);\n",
       "                        }).then(function(){\n",
       "                            \n",
       "var gd = document.getElementById('06d2cf62-c733-4c3b-8097-3a35ebfd2e62');\n",
       "var x = new MutationObserver(function (mutations, observer) {{\n",
       "        var display = window.getComputedStyle(gd).display;\n",
       "        if (!display || display === 'none') {{\n",
       "            console.log([gd, 'removed!']);\n",
       "            Plotly.purge(gd);\n",
       "            observer.disconnect();\n",
       "        }}\n",
       "}});\n",
       "\n",
       "// Listen for the removal of the full notebook cells\n",
       "var notebookContainer = gd.closest('#notebook-container');\n",
       "if (notebookContainer) {{\n",
       "    x.observe(notebookContainer, {childList: true});\n",
       "}}\n",
       "\n",
       "// Listen for the clearing of the current output cell\n",
       "var outputEl = gd.closest('.output');\n",
       "if (outputEl) {{\n",
       "    x.observe(outputEl, {childList: true});\n",
       "}}\n",
       "\n",
       "                        })                };            </script>        </div>"
      ]
     },
     "metadata": {},
     "output_type": "display_data"
    }
   ],
   "source": [
    "u = square_wave_convection(41, 25, 0.025)\n",
    "\n",
    "make_convection_animation(u, 41, 25, 0, 2)"
   ]
  },
  {
   "cell_type": "code",
   "execution_count": 4,
   "metadata": {},
   "outputs": [
    {
     "data": {
      "application/vnd.plotly.v1+json": {
       "config": {
        "plotlyServerURL": "https://plot.ly"
       },
       "data": [
        {
         "hovertemplate": "variable=0<br>x=%{x}<br>value=%{y}<extra></extra>",
         "legendgroup": "",
         "line": {
          "color": "#636efa",
          "dash": "solid"
         },
         "marker": {
          "symbol": "circle"
         },
         "mode": "lines",
         "name": "",
         "orientation": "v",
         "showlegend": false,
         "type": "scatter",
         "x": {
          "bdata": "AAAAAAAAAACamZmZmZmZP5qZmZmZmak/NDMzMzMzsz+amZmZmZm5PwAAAAAAAMA/NDMzMzMzwz9nZmZmZmbGP5qZmZmZmck/zczMzMzMzD8AAAAAAADQP5qZmZmZmdE/NDMzMzMz0z/NzMzMzMzUP2dmZmZmZtY/AAAAAAAA2D+amZmZmZnZPzQzMzMzM9s/zczMzMzM3D9nZmZmZmbePwAAAAAAAOA/zczMzMzM4D+amZmZmZnhP2dmZmZmZuI/NDMzMzMz4z8AAAAAAADkP83MzMzMzOQ/mpmZmZmZ5T9nZmZmZmbmPzQzMzMzM+c/AAAAAAAA6D/NzMzMzMzoP5qZmZmZmek/Z2ZmZmZm6j80MzMzMzPrPwAAAAAAAOw/zczMzMzM7D+amZmZmZntP2dmZmZmZu4/NDMzMzMz7z8AAAAAAADwP2dmZmZmZvA/zczMzMzM8D8zMzMzMzPxP5qZmZmZmfE/AAAAAAAA8j9nZmZmZmbyP83MzMzMzPI/NDMzMzMz8z+amZmZmZnzPwAAAAAAAPQ/Z2ZmZmZm9D/NzMzMzMz0PzQzMzMzM/U/mpmZmZmZ9T8AAAAAAAD2P2dmZmZmZvY/zczMzMzM9j80MzMzMzP3P5qZmZmZmfc/AAAAAAAA+D9nZmZmZmb4P83MzMzMzPg/NDMzMzMz+T+amZmZmZn5PwAAAAAAAPo/Z2ZmZmZm+j/NzMzMzMz6PzQzMzMzM/s/mpmZmZmZ+z8AAAAAAAD8P2dmZmZmZvw/zczMzMzM/D80MzMzMzP9P5qZmZmZmf0/AAAAAAAA/j9nZmZmZmb+P83MzMzMzP4/NDMzMzMz/z+amZmZmZn/PwAAAAAAAABA",
          "dtype": "f8"
         },
         "xaxis": "x",
         "y": {
          "bdata": "AAAAAAAA8D8AAAAAAADwPwAAAAAAAPA/AAAAAAAA8D8AAAAAAADwPwAAAAAAAPA/AAAAAAAA8D8AAAAAAADwPwAAAAAAAPA/AAAAAAAA8D8AAAAAAADwPwAAAAAAAPA/AAAAAAAA8D8AAAAAAADwPwAAAAAAAPA/AAAAAAAA8D8AAAAAAADwPwAAAAAAAPA/AAAAAAAA8D8AAAAAAADwPwAAAAAAAABAAAAAAAAAAEAAAAAAAAAAQAAAAAAAAABAAAAAAAAAAEAAAAAAAAAAQAAAAAAAAABAAAAAAAAAAEAAAAAAAAAAQAAAAAAAAABAAAAAAAAAAEAAAAAAAAAAQAAAAAAAAABAAAAAAAAAAEAAAAAAAAAAQAAAAAAAAABAAAAAAAAAAEAAAAAAAAAAQAAAAAAAAABAAAAAAAAAAEAAAAAAAAAAQAAAAAAAAPA/AAAAAAAA8D8AAAAAAADwPwAAAAAAAPA/AAAAAAAA8D8AAAAAAADwPwAAAAAAAPA/AAAAAAAA8D8AAAAAAADwPwAAAAAAAPA/AAAAAAAA8D8AAAAAAADwPwAAAAAAAPA/AAAAAAAA8D8AAAAAAADwPwAAAAAAAPA/AAAAAAAA8D8AAAAAAADwPwAAAAAAAPA/AAAAAAAA8D8AAAAAAADwPwAAAAAAAPA/AAAAAAAA8D8AAAAAAADwPwAAAAAAAPA/AAAAAAAA8D8AAAAAAADwPwAAAAAAAPA/AAAAAAAA8D8AAAAAAADwPwAAAAAAAPA/AAAAAAAA8D8AAAAAAADwPwAAAAAAAPA/AAAAAAAA8D8AAAAAAADwPwAAAAAAAPA/AAAAAAAA8D8AAAAAAADwPwAAAAAAAPA/",
          "dtype": "f8"
         },
         "yaxis": "y"
        }
       ],
       "frames": [
        {
         "data": [
          {
           "hovertemplate": "variable=0<br>x=%{x}<br>value=%{y}<extra></extra>",
           "legendgroup": "",
           "line": {
            "color": "#636efa",
            "dash": "solid"
           },
           "marker": {
            "symbol": "circle"
           },
           "mode": "lines",
           "name": "",
           "orientation": "v",
           "showlegend": false,
           "type": "scatter",
           "x": {
            "bdata": "AAAAAAAAAACamZmZmZmZP5qZmZmZmak/NDMzMzMzsz+amZmZmZm5PwAAAAAAAMA/NDMzMzMzwz9nZmZmZmbGP5qZmZmZmck/zczMzMzMzD8AAAAAAADQP5qZmZmZmdE/NDMzMzMz0z/NzMzMzMzUP2dmZmZmZtY/AAAAAAAA2D+amZmZmZnZPzQzMzMzM9s/zczMzMzM3D9nZmZmZmbePwAAAAAAAOA/zczMzMzM4D+amZmZmZnhP2dmZmZmZuI/NDMzMzMz4z8AAAAAAADkP83MzMzMzOQ/mpmZmZmZ5T9nZmZmZmbmPzQzMzMzM+c/AAAAAAAA6D/NzMzMzMzoP5qZmZmZmek/Z2ZmZmZm6j80MzMzMzPrPwAAAAAAAOw/zczMzMzM7D+amZmZmZntP2dmZmZmZu4/NDMzMzMz7z8AAAAAAADwP2dmZmZmZvA/zczMzMzM8D8zMzMzMzPxP5qZmZmZmfE/AAAAAAAA8j9nZmZmZmbyP83MzMzMzPI/NDMzMzMz8z+amZmZmZnzPwAAAAAAAPQ/Z2ZmZmZm9D/NzMzMzMz0PzQzMzMzM/U/mpmZmZmZ9T8AAAAAAAD2P2dmZmZmZvY/zczMzMzM9j80MzMzMzP3P5qZmZmZmfc/AAAAAAAA+D9nZmZmZmb4P83MzMzMzPg/NDMzMzMz+T+amZmZmZn5PwAAAAAAAPo/Z2ZmZmZm+j/NzMzMzMz6PzQzMzMzM/s/mpmZmZmZ+z8AAAAAAAD8P2dmZmZmZvw/zczMzMzM/D80MzMzMzP9P5qZmZmZmf0/AAAAAAAA/j9nZmZmZmb+P83MzMzMzP4/NDMzMzMz/z+amZmZmZn/PwAAAAAAAABA",
            "dtype": "f8"
           },
           "xaxis": "x",
           "y": {
            "bdata": "AAAAAAAA8D8AAAAAAADwPwAAAAAAAPA/AAAAAAAA8D8AAAAAAADwPwAAAAAAAPA/AAAAAAAA8D8AAAAAAADwPwAAAAAAAPA/AAAAAAAA8D8AAAAAAADwPwAAAAAAAPA/AAAAAAAA8D8AAAAAAADwPwAAAAAAAPA/AAAAAAAA8D8AAAAAAADwPwAAAAAAAPA/AAAAAAAA8D8AAAAAAADwPwAAAAAAAABAAAAAAAAAAEAAAAAAAAAAQAAAAAAAAABAAAAAAAAAAEAAAAAAAAAAQAAAAAAAAABAAAAAAAAAAEAAAAAAAAAAQAAAAAAAAABAAAAAAAAAAEAAAAAAAAAAQAAAAAAAAABAAAAAAAAAAEAAAAAAAAAAQAAAAAAAAABAAAAAAAAAAEAAAAAAAAAAQAAAAAAAAABAAAAAAAAAAEAAAAAAAAAAQAAAAAAAAPA/AAAAAAAA8D8AAAAAAADwPwAAAAAAAPA/AAAAAAAA8D8AAAAAAADwPwAAAAAAAPA/AAAAAAAA8D8AAAAAAADwPwAAAAAAAPA/AAAAAAAA8D8AAAAAAADwPwAAAAAAAPA/AAAAAAAA8D8AAAAAAADwPwAAAAAAAPA/AAAAAAAA8D8AAAAAAADwPwAAAAAAAPA/AAAAAAAA8D8AAAAAAADwPwAAAAAAAPA/AAAAAAAA8D8AAAAAAADwPwAAAAAAAPA/AAAAAAAA8D8AAAAAAADwPwAAAAAAAPA/AAAAAAAA8D8AAAAAAADwPwAAAAAAAPA/AAAAAAAA8D8AAAAAAADwPwAAAAAAAPA/AAAAAAAA8D8AAAAAAADwPwAAAAAAAPA/AAAAAAAA8D8AAAAAAADwPwAAAAAAAPA/",
            "dtype": "f8"
           },
           "yaxis": "y"
          }
         ],
         "name": "0"
        },
        {
         "data": [
          {
           "hovertemplate": "variable=1<br>x=%{x}<br>value=%{y}<extra></extra>",
           "legendgroup": "",
           "line": {
            "color": "#636efa",
            "dash": "solid"
           },
           "marker": {
            "symbol": "circle"
           },
           "mode": "lines",
           "name": "",
           "orientation": "v",
           "showlegend": false,
           "type": "scatter",
           "x": {
            "bdata": "AAAAAAAAAACamZmZmZmZP5qZmZmZmak/NDMzMzMzsz+amZmZmZm5PwAAAAAAAMA/NDMzMzMzwz9nZmZmZmbGP5qZmZmZmck/zczMzMzMzD8AAAAAAADQP5qZmZmZmdE/NDMzMzMz0z/NzMzMzMzUP2dmZmZmZtY/AAAAAAAA2D+amZmZmZnZPzQzMzMzM9s/zczMzMzM3D9nZmZmZmbePwAAAAAAAOA/zczMzMzM4D+amZmZmZnhP2dmZmZmZuI/NDMzMzMz4z8AAAAAAADkP83MzMzMzOQ/mpmZmZmZ5T9nZmZmZmbmPzQzMzMzM+c/AAAAAAAA6D/NzMzMzMzoP5qZmZmZmek/Z2ZmZmZm6j80MzMzMzPrPwAAAAAAAOw/zczMzMzM7D+amZmZmZntP2dmZmZmZu4/NDMzMzMz7z8AAAAAAADwP2dmZmZmZvA/zczMzMzM8D8zMzMzMzPxP5qZmZmZmfE/AAAAAAAA8j9nZmZmZmbyP83MzMzMzPI/NDMzMzMz8z+amZmZmZnzPwAAAAAAAPQ/Z2ZmZmZm9D/NzMzMzMz0PzQzMzMzM/U/mpmZmZmZ9T8AAAAAAAD2P2dmZmZmZvY/zczMzMzM9j80MzMzMzP3P5qZmZmZmfc/AAAAAAAA+D9nZmZmZmb4P83MzMzMzPg/NDMzMzMz+T+amZmZmZn5PwAAAAAAAPo/Z2ZmZmZm+j/NzMzMzMz6PzQzMzMzM/s/mpmZmZmZ+z8AAAAAAAD8P2dmZmZmZvw/zczMzMzM/D80MzMzMzP9P5qZmZmZmf0/AAAAAAAA/j9nZmZmZmb+P83MzMzMzP4/NDMzMzMz/z+amZmZmZn/PwAAAAAAAABA",
            "dtype": "f8"
           },
           "xaxis": "x",
           "y": {
            "bdata": "AAAAAAAA8D8AAAAAAADwPwAAAAAAAPA/AAAAAAAA8D8AAAAAAADwPwAAAAAAAPA/AAAAAAAA8D8AAAAAAADwPwAAAAAAAPA/AAAAAAAA8D8AAAAAAADwPwAAAAAAAPA/AAAAAAAA8D8AAAAAAADwPwAAAAAAAPA/AAAAAAAA8D8AAAAAAADwPwAAAAAAAPA/AAAAAAAA8D8AAAAAAADwPwAAAAAAAPA/AAAAAAAAAEAAAAAAAAAAQAAAAAAAAABAAAAAAAAAAEAAAAAAAAAAQAAAAAAAAABAAAAAAAAAAEAAAAAAAAAAQAAAAAAAAABAAAAAAAAAAEAAAAAAAAAAQAAAAAAAAABAAAAAAAAAAEAAAAAAAAAAQAAAAAAAAABAAAAAAAAAAEAAAAAAAAAAQAAAAAAAAABAAAAAAAAAAEAAAAAAAAAAQAAAAAAAAABAAAAAAAAA8D8AAAAAAADwPwAAAAAAAPA/AAAAAAAA8D8AAAAAAADwPwAAAAAAAPA/AAAAAAAA8D8AAAAAAADwPwAAAAAAAPA/AAAAAAAA8D8AAAAAAADwPwAAAAAAAPA/AAAAAAAA8D8AAAAAAADwPwAAAAAAAPA/AAAAAAAA8D8AAAAAAADwPwAAAAAAAPA/AAAAAAAA8D8AAAAAAADwPwAAAAAAAPA/AAAAAAAA8D8AAAAAAADwPwAAAAAAAPA/AAAAAAAA8D8AAAAAAADwPwAAAAAAAPA/AAAAAAAA8D8AAAAAAADwPwAAAAAAAPA/AAAAAAAA8D8AAAAAAADwPwAAAAAAAPA/AAAAAAAA8D8AAAAAAADwPwAAAAAAAPA/AAAAAAAA8D8AAAAAAADwPwAAAAAAAPA/",
            "dtype": "f8"
           },
           "yaxis": "y"
          }
         ],
         "name": "1"
        },
        {
         "data": [
          {
           "hovertemplate": "variable=2<br>x=%{x}<br>value=%{y}<extra></extra>",
           "legendgroup": "",
           "line": {
            "color": "#636efa",
            "dash": "solid"
           },
           "marker": {
            "symbol": "circle"
           },
           "mode": "lines",
           "name": "",
           "orientation": "v",
           "showlegend": false,
           "type": "scatter",
           "x": {
            "bdata": "AAAAAAAAAACamZmZmZmZP5qZmZmZmak/NDMzMzMzsz+amZmZmZm5PwAAAAAAAMA/NDMzMzMzwz9nZmZmZmbGP5qZmZmZmck/zczMzMzMzD8AAAAAAADQP5qZmZmZmdE/NDMzMzMz0z/NzMzMzMzUP2dmZmZmZtY/AAAAAAAA2D+amZmZmZnZPzQzMzMzM9s/zczMzMzM3D9nZmZmZmbePwAAAAAAAOA/zczMzMzM4D+amZmZmZnhP2dmZmZmZuI/NDMzMzMz4z8AAAAAAADkP83MzMzMzOQ/mpmZmZmZ5T9nZmZmZmbmPzQzMzMzM+c/AAAAAAAA6D/NzMzMzMzoP5qZmZmZmek/Z2ZmZmZm6j80MzMzMzPrPwAAAAAAAOw/zczMzMzM7D+amZmZmZntP2dmZmZmZu4/NDMzMzMz7z8AAAAAAADwP2dmZmZmZvA/zczMzMzM8D8zMzMzMzPxP5qZmZmZmfE/AAAAAAAA8j9nZmZmZmbyP83MzMzMzPI/NDMzMzMz8z+amZmZmZnzPwAAAAAAAPQ/Z2ZmZmZm9D/NzMzMzMz0PzQzMzMzM/U/mpmZmZmZ9T8AAAAAAAD2P2dmZmZmZvY/zczMzMzM9j80MzMzMzP3P5qZmZmZmfc/AAAAAAAA+D9nZmZmZmb4P83MzMzMzPg/NDMzMzMz+T+amZmZmZn5PwAAAAAAAPo/Z2ZmZmZm+j/NzMzMzMz6PzQzMzMzM/s/mpmZmZmZ+z8AAAAAAAD8P2dmZmZmZvw/zczMzMzM/D80MzMzMzP9P5qZmZmZmf0/AAAAAAAA/j9nZmZmZmb+P83MzMzMzP4/NDMzMzMz/z+amZmZmZn/PwAAAAAAAABA",
            "dtype": "f8"
           },
           "xaxis": "x",
           "y": {
            "bdata": "AAAAAAAA8D8AAAAAAADwPwAAAAAAAPA/AAAAAAAA8D8AAAAAAADwPwAAAAAAAPA/AAAAAAAA8D8AAAAAAADwPwAAAAAAAPA/AAAAAAAA8D8AAAAAAADwPwAAAAAAAPA/AAAAAAAA8D8AAAAAAADwPwAAAAAAAPA/AAAAAAAA8D8AAAAAAADwPwAAAAAAAPA/AAAAAAAA8D8AAAAAAADwPwAAAAAAAPA/AAAAAAAA8D8AAAAAAAAAQAAAAAAAAABAAAAAAAAAAEAAAAAAAAAAQAAAAAAAAABAAAAAAAAAAEAAAAAAAAAAQAAAAAAAAABAAAAAAAAAAEAAAAAAAAAAQAAAAAAAAABAAAAAAAAAAEAAAAAAAAAAQAAAAAAAAABAAAAAAAAAAEAAAAAAAAAAQAAAAAAAAABAAAAAAAAAAEAAAAAAAAAAQAAAAAAAAABAAAAAAAAAAEAAAAAAAADwPwAAAAAAAPA/AAAAAAAA8D8AAAAAAADwPwAAAAAAAPA/AAAAAAAA8D8AAAAAAADwPwAAAAAAAPA/AAAAAAAA8D8AAAAAAADwPwAAAAAAAPA/AAAAAAAA8D8AAAAAAADwPwAAAAAAAPA/AAAAAAAA8D8AAAAAAADwPwAAAAAAAPA/AAAAAAAA8D8AAAAAAADwPwAAAAAAAPA/AAAAAAAA8D8AAAAAAADwPwAAAAAAAPA/AAAAAAAA8D8AAAAAAADwPwAAAAAAAPA/AAAAAAAA8D8AAAAAAADwPwAAAAAAAPA/AAAAAAAA8D8AAAAAAADwPwAAAAAAAPA/AAAAAAAA8D8AAAAAAADwPwAAAAAAAPA/AAAAAAAA8D8AAAAAAADwPwAAAAAAAPA/",
            "dtype": "f8"
           },
           "yaxis": "y"
          }
         ],
         "name": "2"
        },
        {
         "data": [
          {
           "hovertemplate": "variable=3<br>x=%{x}<br>value=%{y}<extra></extra>",
           "legendgroup": "",
           "line": {
            "color": "#636efa",
            "dash": "solid"
           },
           "marker": {
            "symbol": "circle"
           },
           "mode": "lines",
           "name": "",
           "orientation": "v",
           "showlegend": false,
           "type": "scatter",
           "x": {
            "bdata": "AAAAAAAAAACamZmZmZmZP5qZmZmZmak/NDMzMzMzsz+amZmZmZm5PwAAAAAAAMA/NDMzMzMzwz9nZmZmZmbGP5qZmZmZmck/zczMzMzMzD8AAAAAAADQP5qZmZmZmdE/NDMzMzMz0z/NzMzMzMzUP2dmZmZmZtY/AAAAAAAA2D+amZmZmZnZPzQzMzMzM9s/zczMzMzM3D9nZmZmZmbePwAAAAAAAOA/zczMzMzM4D+amZmZmZnhP2dmZmZmZuI/NDMzMzMz4z8AAAAAAADkP83MzMzMzOQ/mpmZmZmZ5T9nZmZmZmbmPzQzMzMzM+c/AAAAAAAA6D/NzMzMzMzoP5qZmZmZmek/Z2ZmZmZm6j80MzMzMzPrPwAAAAAAAOw/zczMzMzM7D+amZmZmZntP2dmZmZmZu4/NDMzMzMz7z8AAAAAAADwP2dmZmZmZvA/zczMzMzM8D8zMzMzMzPxP5qZmZmZmfE/AAAAAAAA8j9nZmZmZmbyP83MzMzMzPI/NDMzMzMz8z+amZmZmZnzPwAAAAAAAPQ/Z2ZmZmZm9D/NzMzMzMz0PzQzMzMzM/U/mpmZmZmZ9T8AAAAAAAD2P2dmZmZmZvY/zczMzMzM9j80MzMzMzP3P5qZmZmZmfc/AAAAAAAA+D9nZmZmZmb4P83MzMzMzPg/NDMzMzMz+T+amZmZmZn5PwAAAAAAAPo/Z2ZmZmZm+j/NzMzMzMz6PzQzMzMzM/s/mpmZmZmZ+z8AAAAAAAD8P2dmZmZmZvw/zczMzMzM/D80MzMzMzP9P5qZmZmZmf0/AAAAAAAA/j9nZmZmZmb+P83MzMzMzP4/NDMzMzMz/z+amZmZmZn/PwAAAAAAAABA",
            "dtype": "f8"
           },
           "xaxis": "x",
           "y": {
            "bdata": "AAAAAAAA8D8AAAAAAADwPwAAAAAAAPA/AAAAAAAA8D8AAAAAAADwPwAAAAAAAPA/AAAAAAAA8D8AAAAAAADwPwAAAAAAAPA/AAAAAAAA8D8AAAAAAADwPwAAAAAAAPA/AAAAAAAA8D8AAAAAAADwPwAAAAAAAPA/AAAAAAAA8D8AAAAAAADwPwAAAAAAAPA/AAAAAAAA8D8AAAAAAADwPwAAAAAAAPA/AAAAAAAA8D8AAAAAAADwPwAAAAAAAABAAAAAAAAAAEAAAAAAAAAAQAAAAAAAAABAAAAAAAAAAEAAAAAAAAAAQAAAAAAAAABAAAAAAAAAAEAAAAAAAAAAQAAAAAAAAABAAAAAAAAAAEAAAAAAAAAAQAAAAAAAAABAAAAAAAAAAEAAAAAAAAAAQAAAAAAAAABAAAAAAAAAAEAAAAAAAAAAQAAAAAAAAABAAAAAAAAAAEAAAAAAAAAAQAAAAAAAAPA/AAAAAAAA8D8AAAAAAADwPwAAAAAAAPA/AAAAAAAA8D8AAAAAAADwPwAAAAAAAPA/AAAAAAAA8D8AAAAAAADwPwAAAAAAAPA/AAAAAAAA8D8AAAAAAADwPwAAAAAAAPA/AAAAAAAA8D8AAAAAAADwPwAAAAAAAPA/AAAAAAAA8D8AAAAAAADwPwAAAAAAAPA/AAAAAAAA8D8AAAAAAADwPwAAAAAAAPA/AAAAAAAA8D8AAAAAAADwPwAAAAAAAPA/AAAAAAAA8D8AAAAAAADwPwAAAAAAAPA/AAAAAAAA8D8AAAAAAADwPwAAAAAAAPA/AAAAAAAA8D8AAAAAAADwPwAAAAAAAPA/AAAAAAAA8D8AAAAAAADwPwAAAAAAAPA/",
            "dtype": "f8"
           },
           "yaxis": "y"
          }
         ],
         "name": "3"
        },
        {
         "data": [
          {
           "hovertemplate": "variable=4<br>x=%{x}<br>value=%{y}<extra></extra>",
           "legendgroup": "",
           "line": {
            "color": "#636efa",
            "dash": "solid"
           },
           "marker": {
            "symbol": "circle"
           },
           "mode": "lines",
           "name": "",
           "orientation": "v",
           "showlegend": false,
           "type": "scatter",
           "x": {
            "bdata": "AAAAAAAAAACamZmZmZmZP5qZmZmZmak/NDMzMzMzsz+amZmZmZm5PwAAAAAAAMA/NDMzMzMzwz9nZmZmZmbGP5qZmZmZmck/zczMzMzMzD8AAAAAAADQP5qZmZmZmdE/NDMzMzMz0z/NzMzMzMzUP2dmZmZmZtY/AAAAAAAA2D+amZmZmZnZPzQzMzMzM9s/zczMzMzM3D9nZmZmZmbePwAAAAAAAOA/zczMzMzM4D+amZmZmZnhP2dmZmZmZuI/NDMzMzMz4z8AAAAAAADkP83MzMzMzOQ/mpmZmZmZ5T9nZmZmZmbmPzQzMzMzM+c/AAAAAAAA6D/NzMzMzMzoP5qZmZmZmek/Z2ZmZmZm6j80MzMzMzPrPwAAAAAAAOw/zczMzMzM7D+amZmZmZntP2dmZmZmZu4/NDMzMzMz7z8AAAAAAADwP2dmZmZmZvA/zczMzMzM8D8zMzMzMzPxP5qZmZmZmfE/AAAAAAAA8j9nZmZmZmbyP83MzMzMzPI/NDMzMzMz8z+amZmZmZnzPwAAAAAAAPQ/Z2ZmZmZm9D/NzMzMzMz0PzQzMzMzM/U/mpmZmZmZ9T8AAAAAAAD2P2dmZmZmZvY/zczMzMzM9j80MzMzMzP3P5qZmZmZmfc/AAAAAAAA+D9nZmZmZmb4P83MzMzMzPg/NDMzMzMz+T+amZmZmZn5PwAAAAAAAPo/Z2ZmZmZm+j/NzMzMzMz6PzQzMzMzM/s/mpmZmZmZ+z8AAAAAAAD8P2dmZmZmZvw/zczMzMzM/D80MzMzMzP9P5qZmZmZmf0/AAAAAAAA/j9nZmZmZmb+P83MzMzMzP4/NDMzMzMz/z+amZmZmZn/PwAAAAAAAABA",
            "dtype": "f8"
           },
           "xaxis": "x",
           "y": {
            "bdata": "AAAAAAAA8D8AAAAAAADwPwAAAAAAAPA/AAAAAAAA8D8AAAAAAADwPwAAAAAAAPA/AAAAAAAA8D8AAAAAAADwPwAAAAAAAPA/AAAAAAAA8D8AAAAAAADwPwAAAAAAAPA/AAAAAAAA8D8AAAAAAADwPwAAAAAAAPA/AAAAAAAA8D8AAAAAAADwPwAAAAAAAPA/AAAAAAAA8D8AAAAAAADwPwAAAAAAAPA/AAAAAAAA8D8AAAAAAADwPwAAAAAAAPA/AAAAAAAAAEAAAAAAAAAAQAAAAAAAAABAAAAAAAAAAEAAAAAAAAAAQAAAAAAAAABAAAAAAAAAAEAAAAAAAAAAQAAAAAAAAABAAAAAAAAAAEAAAAAAAAAAQAAAAAAAAABAAAAAAAAAAEAAAAAAAAAAQAAAAAAAAABAAAAAAAAAAEAAAAAAAAAAQAAAAAAAAABAAAAAAAAAAEAAAAAAAAAAQAAAAAAAAABAAAAAAAAA8D8AAAAAAADwPwAAAAAAAPA/AAAAAAAA8D8AAAAAAADwPwAAAAAAAPA/AAAAAAAA8D8AAAAAAADwPwAAAAAAAPA/AAAAAAAA8D8AAAAAAADwPwAAAAAAAPA/AAAAAAAA8D8AAAAAAADwPwAAAAAAAPA/AAAAAAAA8D8AAAAAAADwPwAAAAAAAPA/AAAAAAAA8D8AAAAAAADwPwAAAAAAAPA/AAAAAAAA8D8AAAAAAADwPwAAAAAAAPA/AAAAAAAA8D8AAAAAAADwPwAAAAAAAPA/AAAAAAAA8D8AAAAAAADwPwAAAAAAAPA/AAAAAAAA8D8AAAAAAADwPwAAAAAAAPA/AAAAAAAA8D8AAAAAAADwPwAAAAAAAPA/",
            "dtype": "f8"
           },
           "yaxis": "y"
          }
         ],
         "name": "4"
        },
        {
         "data": [
          {
           "hovertemplate": "variable=5<br>x=%{x}<br>value=%{y}<extra></extra>",
           "legendgroup": "",
           "line": {
            "color": "#636efa",
            "dash": "solid"
           },
           "marker": {
            "symbol": "circle"
           },
           "mode": "lines",
           "name": "",
           "orientation": "v",
           "showlegend": false,
           "type": "scatter",
           "x": {
            "bdata": "AAAAAAAAAACamZmZmZmZP5qZmZmZmak/NDMzMzMzsz+amZmZmZm5PwAAAAAAAMA/NDMzMzMzwz9nZmZmZmbGP5qZmZmZmck/zczMzMzMzD8AAAAAAADQP5qZmZmZmdE/NDMzMzMz0z/NzMzMzMzUP2dmZmZmZtY/AAAAAAAA2D+amZmZmZnZPzQzMzMzM9s/zczMzMzM3D9nZmZmZmbePwAAAAAAAOA/zczMzMzM4D+amZmZmZnhP2dmZmZmZuI/NDMzMzMz4z8AAAAAAADkP83MzMzMzOQ/mpmZmZmZ5T9nZmZmZmbmPzQzMzMzM+c/AAAAAAAA6D/NzMzMzMzoP5qZmZmZmek/Z2ZmZmZm6j80MzMzMzPrPwAAAAAAAOw/zczMzMzM7D+amZmZmZntP2dmZmZmZu4/NDMzMzMz7z8AAAAAAADwP2dmZmZmZvA/zczMzMzM8D8zMzMzMzPxP5qZmZmZmfE/AAAAAAAA8j9nZmZmZmbyP83MzMzMzPI/NDMzMzMz8z+amZmZmZnzPwAAAAAAAPQ/Z2ZmZmZm9D/NzMzMzMz0PzQzMzMzM/U/mpmZmZmZ9T8AAAAAAAD2P2dmZmZmZvY/zczMzMzM9j80MzMzMzP3P5qZmZmZmfc/AAAAAAAA+D9nZmZmZmb4P83MzMzMzPg/NDMzMzMz+T+amZmZmZn5PwAAAAAAAPo/Z2ZmZmZm+j/NzMzMzMz6PzQzMzMzM/s/mpmZmZmZ+z8AAAAAAAD8P2dmZmZmZvw/zczMzMzM/D80MzMzMzP9P5qZmZmZmf0/AAAAAAAA/j9nZmZmZmb+P83MzMzMzP4/NDMzMzMz/z+amZmZmZn/PwAAAAAAAABA",
            "dtype": "f8"
           },
           "xaxis": "x",
           "y": {
            "bdata": "AAAAAAAA8D8AAAAAAADwPwAAAAAAAPA/AAAAAAAA8D8AAAAAAADwPwAAAAAAAPA/AAAAAAAA8D8AAAAAAADwPwAAAAAAAPA/AAAAAAAA8D8AAAAAAADwPwAAAAAAAPA/AAAAAAAA8D8AAAAAAADwPwAAAAAAAPA/AAAAAAAA8D8AAAAAAADwPwAAAAAAAPA/AAAAAAAA8D8AAAAAAADwPwAAAAAAAPA/AAAAAAAA8D8AAAAAAADwPwAAAAAAAPA/AAAAAAAA8D8AAAAAAAAAQAAAAAAAAABAAAAAAAAAAEAAAAAAAAAAQAAAAAAAAABAAAAAAAAAAEAAAAAAAAAAQAAAAAAAAABAAAAAAAAAAEAAAAAAAAAAQAAAAAAAAABAAAAAAAAAAEAAAAAAAAAAQAAAAAAAAABAAAAAAAAAAEAAAAAAAAAAQAAAAAAAAABAAAAAAAAAAEAAAAAAAAAAQAAAAAAAAABAAAAAAAAAAEAAAAAAAADwPwAAAAAAAPA/AAAAAAAA8D8AAAAAAADwPwAAAAAAAPA/AAAAAAAA8D8AAAAAAADwPwAAAAAAAPA/AAAAAAAA8D8AAAAAAADwPwAAAAAAAPA/AAAAAAAA8D8AAAAAAADwPwAAAAAAAPA/AAAAAAAA8D8AAAAAAADwPwAAAAAAAPA/AAAAAAAA8D8AAAAAAADwPwAAAAAAAPA/AAAAAAAA8D8AAAAAAADwPwAAAAAAAPA/AAAAAAAA8D8AAAAAAADwPwAAAAAAAPA/AAAAAAAA8D8AAAAAAADwPwAAAAAAAPA/AAAAAAAA8D8AAAAAAADwPwAAAAAAAPA/AAAAAAAA8D8AAAAAAADwPwAAAAAAAPA/",
            "dtype": "f8"
           },
           "yaxis": "y"
          }
         ],
         "name": "5"
        },
        {
         "data": [
          {
           "hovertemplate": "variable=6<br>x=%{x}<br>value=%{y}<extra></extra>",
           "legendgroup": "",
           "line": {
            "color": "#636efa",
            "dash": "solid"
           },
           "marker": {
            "symbol": "circle"
           },
           "mode": "lines",
           "name": "",
           "orientation": "v",
           "showlegend": false,
           "type": "scatter",
           "x": {
            "bdata": "AAAAAAAAAACamZmZmZmZP5qZmZmZmak/NDMzMzMzsz+amZmZmZm5PwAAAAAAAMA/NDMzMzMzwz9nZmZmZmbGP5qZmZmZmck/zczMzMzMzD8AAAAAAADQP5qZmZmZmdE/NDMzMzMz0z/NzMzMzMzUP2dmZmZmZtY/AAAAAAAA2D+amZmZmZnZPzQzMzMzM9s/zczMzMzM3D9nZmZmZmbePwAAAAAAAOA/zczMzMzM4D+amZmZmZnhP2dmZmZmZuI/NDMzMzMz4z8AAAAAAADkP83MzMzMzOQ/mpmZmZmZ5T9nZmZmZmbmPzQzMzMzM+c/AAAAAAAA6D/NzMzMzMzoP5qZmZmZmek/Z2ZmZmZm6j80MzMzMzPrPwAAAAAAAOw/zczMzMzM7D+amZmZmZntP2dmZmZmZu4/NDMzMzMz7z8AAAAAAADwP2dmZmZmZvA/zczMzMzM8D8zMzMzMzPxP5qZmZmZmfE/AAAAAAAA8j9nZmZmZmbyP83MzMzMzPI/NDMzMzMz8z+amZmZmZnzPwAAAAAAAPQ/Z2ZmZmZm9D/NzMzMzMz0PzQzMzMzM/U/mpmZmZmZ9T8AAAAAAAD2P2dmZmZmZvY/zczMzMzM9j80MzMzMzP3P5qZmZmZmfc/AAAAAAAA+D9nZmZmZmb4P83MzMzMzPg/NDMzMzMz+T+amZmZmZn5PwAAAAAAAPo/Z2ZmZmZm+j/NzMzMzMz6PzQzMzMzM/s/mpmZmZmZ+z8AAAAAAAD8P2dmZmZmZvw/zczMzMzM/D80MzMzMzP9P5qZmZmZmf0/AAAAAAAA/j9nZmZmZmb+P83MzMzMzP4/NDMzMzMz/z+amZmZmZn/PwAAAAAAAABA",
            "dtype": "f8"
           },
           "xaxis": "x",
           "y": {
            "bdata": "AAAAAAAA8D8AAAAAAADwPwAAAAAAAPA/AAAAAAAA8D8AAAAAAADwPwAAAAAAAPA/AAAAAAAA8D8AAAAAAADwPwAAAAAAAPA/AAAAAAAA8D8AAAAAAADwPwAAAAAAAPA/AAAAAAAA8D8AAAAAAADwPwAAAAAAAPA/AAAAAAAA8D8AAAAAAADwPwAAAAAAAPA/AAAAAAAA8D8AAAAAAADwPwAAAAAAAPA/AAAAAAAA8D8AAAAAAADwPwAAAAAAAPA/AAAAAAAA8D8AAAAAAADwPwAAAAAAAABAAAAAAAAAAEAAAAAAAAAAQAAAAAAAAABAAAAAAAAAAEAAAAAAAAAAQAAAAAAAAABAAAAAAAAAAEAAAAAAAAAAQAAAAAAAAABAAAAAAAAAAEAAAAAAAAAAQAAAAAAAAABAAAAAAAAAAEAAAAAAAAAAQAAAAAAAAABAAAAAAAAAAEAAAAAAAAAAQAAAAAAAAABAAAAAAAAAAEAAAAAAAAAAQAAAAAAAAPA/AAAAAAAA8D8AAAAAAADwPwAAAAAAAPA/AAAAAAAA8D8AAAAAAADwPwAAAAAAAPA/AAAAAAAA8D8AAAAAAADwPwAAAAAAAPA/AAAAAAAA8D8AAAAAAADwPwAAAAAAAPA/AAAAAAAA8D8AAAAAAADwPwAAAAAAAPA/AAAAAAAA8D8AAAAAAADwPwAAAAAAAPA/AAAAAAAA8D8AAAAAAADwPwAAAAAAAPA/AAAAAAAA8D8AAAAAAADwPwAAAAAAAPA/AAAAAAAA8D8AAAAAAADwPwAAAAAAAPA/AAAAAAAA8D8AAAAAAADwPwAAAAAAAPA/AAAAAAAA8D8AAAAAAADwPwAAAAAAAPA/",
            "dtype": "f8"
           },
           "yaxis": "y"
          }
         ],
         "name": "6"
        },
        {
         "data": [
          {
           "hovertemplate": "variable=7<br>x=%{x}<br>value=%{y}<extra></extra>",
           "legendgroup": "",
           "line": {
            "color": "#636efa",
            "dash": "solid"
           },
           "marker": {
            "symbol": "circle"
           },
           "mode": "lines",
           "name": "",
           "orientation": "v",
           "showlegend": false,
           "type": "scatter",
           "x": {
            "bdata": "AAAAAAAAAACamZmZmZmZP5qZmZmZmak/NDMzMzMzsz+amZmZmZm5PwAAAAAAAMA/NDMzMzMzwz9nZmZmZmbGP5qZmZmZmck/zczMzMzMzD8AAAAAAADQP5qZmZmZmdE/NDMzMzMz0z/NzMzMzMzUP2dmZmZmZtY/AAAAAAAA2D+amZmZmZnZPzQzMzMzM9s/zczMzMzM3D9nZmZmZmbePwAAAAAAAOA/zczMzMzM4D+amZmZmZnhP2dmZmZmZuI/NDMzMzMz4z8AAAAAAADkP83MzMzMzOQ/mpmZmZmZ5T9nZmZmZmbmPzQzMzMzM+c/AAAAAAAA6D/NzMzMzMzoP5qZmZmZmek/Z2ZmZmZm6j80MzMzMzPrPwAAAAAAAOw/zczMzMzM7D+amZmZmZntP2dmZmZmZu4/NDMzMzMz7z8AAAAAAADwP2dmZmZmZvA/zczMzMzM8D8zMzMzMzPxP5qZmZmZmfE/AAAAAAAA8j9nZmZmZmbyP83MzMzMzPI/NDMzMzMz8z+amZmZmZnzPwAAAAAAAPQ/Z2ZmZmZm9D/NzMzMzMz0PzQzMzMzM/U/mpmZmZmZ9T8AAAAAAAD2P2dmZmZmZvY/zczMzMzM9j80MzMzMzP3P5qZmZmZmfc/AAAAAAAA+D9nZmZmZmb4P83MzMzMzPg/NDMzMzMz+T+amZmZmZn5PwAAAAAAAPo/Z2ZmZmZm+j/NzMzMzMz6PzQzMzMzM/s/mpmZmZmZ+z8AAAAAAAD8P2dmZmZmZvw/zczMzMzM/D80MzMzMzP9P5qZmZmZmf0/AAAAAAAA/j9nZmZmZmb+P83MzMzMzP4/NDMzMzMz/z+amZmZmZn/PwAAAAAAAABA",
            "dtype": "f8"
           },
           "xaxis": "x",
           "y": {
            "bdata": "AAAAAAAA8D8AAAAAAADwPwAAAAAAAPA/AAAAAAAA8D8AAAAAAADwPwAAAAAAAPA/AAAAAAAA8D8AAAAAAADwPwAAAAAAAPA/AAAAAAAA8D8AAAAAAADwPwAAAAAAAPA/AAAAAAAA8D8AAAAAAADwPwAAAAAAAPA/AAAAAAAA8D8AAAAAAADwPwAAAAAAAPA/AAAAAAAA8D8AAAAAAADwPwAAAAAAAPA/AAAAAAAA8D8AAAAAAADwPwAAAAAAAPA/AAAAAAAA8D8AAAAAAADwPwAAAAAAAPA/AAAAAAAAAEAAAAAAAAAAQAAAAAAAAABAAAAAAAAAAEAAAAAAAAAAQAAAAAAAAABAAAAAAAAAAEAAAAAAAAAAQAAAAAAAAABAAAAAAAAAAEAAAAAAAAAAQAAAAAAAAABAAAAAAAAAAEAAAAAAAAAAQAAAAAAAAABAAAAAAAAAAEAAAAAAAAAAQAAAAAAAAABAAAAAAAAAAEAAAAAAAAAAQAAAAAAAAABAAAAAAAAA8D8AAAAAAADwPwAAAAAAAPA/AAAAAAAA8D8AAAAAAADwPwAAAAAAAPA/AAAAAAAA8D8AAAAAAADwPwAAAAAAAPA/AAAAAAAA8D8AAAAAAADwPwAAAAAAAPA/AAAAAAAA8D8AAAAAAADwPwAAAAAAAPA/AAAAAAAA8D8AAAAAAADwPwAAAAAAAPA/AAAAAAAA8D8AAAAAAADwPwAAAAAAAPA/AAAAAAAA8D8AAAAAAADwPwAAAAAAAPA/AAAAAAAA8D8AAAAAAADwPwAAAAAAAPA/AAAAAAAA8D8AAAAAAADwPwAAAAAAAPA/AAAAAAAA8D8AAAAAAADwPwAAAAAAAPA/",
            "dtype": "f8"
           },
           "yaxis": "y"
          }
         ],
         "name": "7"
        },
        {
         "data": [
          {
           "hovertemplate": "variable=8<br>x=%{x}<br>value=%{y}<extra></extra>",
           "legendgroup": "",
           "line": {
            "color": "#636efa",
            "dash": "solid"
           },
           "marker": {
            "symbol": "circle"
           },
           "mode": "lines",
           "name": "",
           "orientation": "v",
           "showlegend": false,
           "type": "scatter",
           "x": {
            "bdata": "AAAAAAAAAACamZmZmZmZP5qZmZmZmak/NDMzMzMzsz+amZmZmZm5PwAAAAAAAMA/NDMzMzMzwz9nZmZmZmbGP5qZmZmZmck/zczMzMzMzD8AAAAAAADQP5qZmZmZmdE/NDMzMzMz0z/NzMzMzMzUP2dmZmZmZtY/AAAAAAAA2D+amZmZmZnZPzQzMzMzM9s/zczMzMzM3D9nZmZmZmbePwAAAAAAAOA/zczMzMzM4D+amZmZmZnhP2dmZmZmZuI/NDMzMzMz4z8AAAAAAADkP83MzMzMzOQ/mpmZmZmZ5T9nZmZmZmbmPzQzMzMzM+c/AAAAAAAA6D/NzMzMzMzoP5qZmZmZmek/Z2ZmZmZm6j80MzMzMzPrPwAAAAAAAOw/zczMzMzM7D+amZmZmZntP2dmZmZmZu4/NDMzMzMz7z8AAAAAAADwP2dmZmZmZvA/zczMzMzM8D8zMzMzMzPxP5qZmZmZmfE/AAAAAAAA8j9nZmZmZmbyP83MzMzMzPI/NDMzMzMz8z+amZmZmZnzPwAAAAAAAPQ/Z2ZmZmZm9D/NzMzMzMz0PzQzMzMzM/U/mpmZmZmZ9T8AAAAAAAD2P2dmZmZmZvY/zczMzMzM9j80MzMzMzP3P5qZmZmZmfc/AAAAAAAA+D9nZmZmZmb4P83MzMzMzPg/NDMzMzMz+T+amZmZmZn5PwAAAAAAAPo/Z2ZmZmZm+j/NzMzMzMz6PzQzMzMzM/s/mpmZmZmZ+z8AAAAAAAD8P2dmZmZmZvw/zczMzMzM/D80MzMzMzP9P5qZmZmZmf0/AAAAAAAA/j9nZmZmZmb+P83MzMzMzP4/NDMzMzMz/z+amZmZmZn/PwAAAAAAAABA",
            "dtype": "f8"
           },
           "xaxis": "x",
           "y": {
            "bdata": "AAAAAAAA8D8AAAAAAADwPwAAAAAAAPA/AAAAAAAA8D8AAAAAAADwPwAAAAAAAPA/AAAAAAAA8D8AAAAAAADwPwAAAAAAAPA/AAAAAAAA8D8AAAAAAADwPwAAAAAAAPA/AAAAAAAA8D8AAAAAAADwPwAAAAAAAPA/AAAAAAAA8D8AAAAAAADwPwAAAAAAAPA/AAAAAAAA8D8AAAAAAADwPwAAAAAAAPA/AAAAAAAA8D8AAAAAAADwPwAAAAAAAPA/AAAAAAAA8D8AAAAAAADwPwAAAAAAAPA/AAAAAAAA8D8AAAAAAAAAQAAAAAAAAABAAAAAAAAAAEAAAAAAAAAAQAAAAAAAAABAAAAAAAAAAEAAAAAAAAAAQAAAAAAAAABAAAAAAAAAAEAAAAAAAAAAQAAAAAAAAABAAAAAAAAAAEAAAAAAAAAAQAAAAAAAAABAAAAAAAAAAEAAAAAAAAAAQAAAAAAAAABAAAAAAAAAAEAAAAAAAAAAQAAAAAAAAABAAAAAAAAAAEAAAAAAAADwPwAAAAAAAPA/AAAAAAAA8D8AAAAAAADwPwAAAAAAAPA/AAAAAAAA8D8AAAAAAADwPwAAAAAAAPA/AAAAAAAA8D8AAAAAAADwPwAAAAAAAPA/AAAAAAAA8D8AAAAAAADwPwAAAAAAAPA/AAAAAAAA8D8AAAAAAADwPwAAAAAAAPA/AAAAAAAA8D8AAAAAAADwPwAAAAAAAPA/AAAAAAAA8D8AAAAAAADwPwAAAAAAAPA/AAAAAAAA8D8AAAAAAADwPwAAAAAAAPA/AAAAAAAA8D8AAAAAAADwPwAAAAAAAPA/AAAAAAAA8D8AAAAAAADwPwAAAAAAAPA/",
            "dtype": "f8"
           },
           "yaxis": "y"
          }
         ],
         "name": "8"
        },
        {
         "data": [
          {
           "hovertemplate": "variable=9<br>x=%{x}<br>value=%{y}<extra></extra>",
           "legendgroup": "",
           "line": {
            "color": "#636efa",
            "dash": "solid"
           },
           "marker": {
            "symbol": "circle"
           },
           "mode": "lines",
           "name": "",
           "orientation": "v",
           "showlegend": false,
           "type": "scatter",
           "x": {
            "bdata": "AAAAAAAAAACamZmZmZmZP5qZmZmZmak/NDMzMzMzsz+amZmZmZm5PwAAAAAAAMA/NDMzMzMzwz9nZmZmZmbGP5qZmZmZmck/zczMzMzMzD8AAAAAAADQP5qZmZmZmdE/NDMzMzMz0z/NzMzMzMzUP2dmZmZmZtY/AAAAAAAA2D+amZmZmZnZPzQzMzMzM9s/zczMzMzM3D9nZmZmZmbePwAAAAAAAOA/zczMzMzM4D+amZmZmZnhP2dmZmZmZuI/NDMzMzMz4z8AAAAAAADkP83MzMzMzOQ/mpmZmZmZ5T9nZmZmZmbmPzQzMzMzM+c/AAAAAAAA6D/NzMzMzMzoP5qZmZmZmek/Z2ZmZmZm6j80MzMzMzPrPwAAAAAAAOw/zczMzMzM7D+amZmZmZntP2dmZmZmZu4/NDMzMzMz7z8AAAAAAADwP2dmZmZmZvA/zczMzMzM8D8zMzMzMzPxP5qZmZmZmfE/AAAAAAAA8j9nZmZmZmbyP83MzMzMzPI/NDMzMzMz8z+amZmZmZnzPwAAAAAAAPQ/Z2ZmZmZm9D/NzMzMzMz0PzQzMzMzM/U/mpmZmZmZ9T8AAAAAAAD2P2dmZmZmZvY/zczMzMzM9j80MzMzMzP3P5qZmZmZmfc/AAAAAAAA+D9nZmZmZmb4P83MzMzMzPg/NDMzMzMz+T+amZmZmZn5PwAAAAAAAPo/Z2ZmZmZm+j/NzMzMzMz6PzQzMzMzM/s/mpmZmZmZ+z8AAAAAAAD8P2dmZmZmZvw/zczMzMzM/D80MzMzMzP9P5qZmZmZmf0/AAAAAAAA/j9nZmZmZmb+P83MzMzMzP4/NDMzMzMz/z+amZmZmZn/PwAAAAAAAABA",
            "dtype": "f8"
           },
           "xaxis": "x",
           "y": {
            "bdata": "AAAAAAAA8D8AAAAAAADwPwAAAAAAAPA/AAAAAAAA8D8AAAAAAADwPwAAAAAAAPA/AAAAAAAA8D8AAAAAAADwPwAAAAAAAPA/AAAAAAAA8D8AAAAAAADwPwAAAAAAAPA/AAAAAAAA8D8AAAAAAADwPwAAAAAAAPA/AAAAAAAA8D8AAAAAAADwPwAAAAAAAPA/AAAAAAAA8D8AAAAAAADwPwAAAAAAAPA/AAAAAAAA8D8AAAAAAADwPwAAAAAAAPA/AAAAAAAA8D8AAAAAAADwPwAAAAAAAPA/AAAAAAAA8D8AAAAAAADwPwAAAAAAAABAAAAAAAAAAEAAAAAAAAAAQAAAAAAAAABAAAAAAAAAAEAAAAAAAAAAQAAAAAAAAABAAAAAAAAAAEAAAAAAAAAAQAAAAAAAAABAAAAAAAAAAEAAAAAAAAAAQAAAAAAAAABAAAAAAAAAAEAAAAAAAAAAQAAAAAAAAABAAAAAAAAAAEAAAAAAAAAAQAAAAAAAAABAAAAAAAAAAEAAAAAAAAAAQAAAAAAAAPA/AAAAAAAA8D8AAAAAAADwPwAAAAAAAPA/AAAAAAAA8D8AAAAAAADwPwAAAAAAAPA/AAAAAAAA8D8AAAAAAADwPwAAAAAAAPA/AAAAAAAA8D8AAAAAAADwPwAAAAAAAPA/AAAAAAAA8D8AAAAAAADwPwAAAAAAAPA/AAAAAAAA8D8AAAAAAADwPwAAAAAAAPA/AAAAAAAA8D8AAAAAAADwPwAAAAAAAPA/AAAAAAAA8D8AAAAAAADwPwAAAAAAAPA/AAAAAAAA8D8AAAAAAADwPwAAAAAAAPA/AAAAAAAA8D8AAAAAAADwPwAAAAAAAPA/",
            "dtype": "f8"
           },
           "yaxis": "y"
          }
         ],
         "name": "9"
        },
        {
         "data": [
          {
           "hovertemplate": "variable=10<br>x=%{x}<br>value=%{y}<extra></extra>",
           "legendgroup": "",
           "line": {
            "color": "#636efa",
            "dash": "solid"
           },
           "marker": {
            "symbol": "circle"
           },
           "mode": "lines",
           "name": "",
           "orientation": "v",
           "showlegend": false,
           "type": "scatter",
           "x": {
            "bdata": "AAAAAAAAAACamZmZmZmZP5qZmZmZmak/NDMzMzMzsz+amZmZmZm5PwAAAAAAAMA/NDMzMzMzwz9nZmZmZmbGP5qZmZmZmck/zczMzMzMzD8AAAAAAADQP5qZmZmZmdE/NDMzMzMz0z/NzMzMzMzUP2dmZmZmZtY/AAAAAAAA2D+amZmZmZnZPzQzMzMzM9s/zczMzMzM3D9nZmZmZmbePwAAAAAAAOA/zczMzMzM4D+amZmZmZnhP2dmZmZmZuI/NDMzMzMz4z8AAAAAAADkP83MzMzMzOQ/mpmZmZmZ5T9nZmZmZmbmPzQzMzMzM+c/AAAAAAAA6D/NzMzMzMzoP5qZmZmZmek/Z2ZmZmZm6j80MzMzMzPrPwAAAAAAAOw/zczMzMzM7D+amZmZmZntP2dmZmZmZu4/NDMzMzMz7z8AAAAAAADwP2dmZmZmZvA/zczMzMzM8D8zMzMzMzPxP5qZmZmZmfE/AAAAAAAA8j9nZmZmZmbyP83MzMzMzPI/NDMzMzMz8z+amZmZmZnzPwAAAAAAAPQ/Z2ZmZmZm9D/NzMzMzMz0PzQzMzMzM/U/mpmZmZmZ9T8AAAAAAAD2P2dmZmZmZvY/zczMzMzM9j80MzMzMzP3P5qZmZmZmfc/AAAAAAAA+D9nZmZmZmb4P83MzMzMzPg/NDMzMzMz+T+amZmZmZn5PwAAAAAAAPo/Z2ZmZmZm+j/NzMzMzMz6PzQzMzMzM/s/mpmZmZmZ+z8AAAAAAAD8P2dmZmZmZvw/zczMzMzM/D80MzMzMzP9P5qZmZmZmf0/AAAAAAAA/j9nZmZmZmb+P83MzMzMzP4/NDMzMzMz/z+amZmZmZn/PwAAAAAAAABA",
            "dtype": "f8"
           },
           "xaxis": "x",
           "y": {
            "bdata": "AAAAAAAA8D8AAAAAAADwPwAAAAAAAPA/AAAAAAAA8D8AAAAAAADwPwAAAAAAAPA/AAAAAAAA8D8AAAAAAADwPwAAAAAAAPA/AAAAAAAA8D8AAAAAAADwPwAAAAAAAPA/AAAAAAAA8D8AAAAAAADwPwAAAAAAAPA/AAAAAAAA8D8AAAAAAADwPwAAAAAAAPA/AAAAAAAA8D8AAAAAAADwPwAAAAAAAPA/AAAAAAAA8D8AAAAAAADwPwAAAAAAAPA/AAAAAAAA8D8AAAAAAADwPwAAAAAAAPA/AAAAAAAA8D8AAAAAAADwPwAAAAAAAPA/AAAAAAAAAEAAAAAAAAAAQAAAAAAAAABAAAAAAAAAAEAAAAAAAAAAQAAAAAAAAABAAAAAAAAAAEAAAAAAAAAAQAAAAAAAAABAAAAAAAAAAEAAAAAAAAAAQAAAAAAAAABAAAAAAAAAAEAAAAAAAAAAQAAAAAAAAABAAAAAAAAAAEAAAAAAAAAAQAAAAAAAAABAAAAAAAAAAEAAAAAAAAAAQAAAAAAAAABAAAAAAAAA8D8AAAAAAADwPwAAAAAAAPA/AAAAAAAA8D8AAAAAAADwPwAAAAAAAPA/AAAAAAAA8D8AAAAAAADwPwAAAAAAAPA/AAAAAAAA8D8AAAAAAADwPwAAAAAAAPA/AAAAAAAA8D8AAAAAAADwPwAAAAAAAPA/AAAAAAAA8D8AAAAAAADwPwAAAAAAAPA/AAAAAAAA8D8AAAAAAADwPwAAAAAAAPA/AAAAAAAA8D8AAAAAAADwPwAAAAAAAPA/AAAAAAAA8D8AAAAAAADwPwAAAAAAAPA/AAAAAAAA8D8AAAAAAADwPwAAAAAAAPA/",
            "dtype": "f8"
           },
           "yaxis": "y"
          }
         ],
         "name": "10"
        },
        {
         "data": [
          {
           "hovertemplate": "variable=11<br>x=%{x}<br>value=%{y}<extra></extra>",
           "legendgroup": "",
           "line": {
            "color": "#636efa",
            "dash": "solid"
           },
           "marker": {
            "symbol": "circle"
           },
           "mode": "lines",
           "name": "",
           "orientation": "v",
           "showlegend": false,
           "type": "scatter",
           "x": {
            "bdata": "AAAAAAAAAACamZmZmZmZP5qZmZmZmak/NDMzMzMzsz+amZmZmZm5PwAAAAAAAMA/NDMzMzMzwz9nZmZmZmbGP5qZmZmZmck/zczMzMzMzD8AAAAAAADQP5qZmZmZmdE/NDMzMzMz0z/NzMzMzMzUP2dmZmZmZtY/AAAAAAAA2D+amZmZmZnZPzQzMzMzM9s/zczMzMzM3D9nZmZmZmbePwAAAAAAAOA/zczMzMzM4D+amZmZmZnhP2dmZmZmZuI/NDMzMzMz4z8AAAAAAADkP83MzMzMzOQ/mpmZmZmZ5T9nZmZmZmbmPzQzMzMzM+c/AAAAAAAA6D/NzMzMzMzoP5qZmZmZmek/Z2ZmZmZm6j80MzMzMzPrPwAAAAAAAOw/zczMzMzM7D+amZmZmZntP2dmZmZmZu4/NDMzMzMz7z8AAAAAAADwP2dmZmZmZvA/zczMzMzM8D8zMzMzMzPxP5qZmZmZmfE/AAAAAAAA8j9nZmZmZmbyP83MzMzMzPI/NDMzMzMz8z+amZmZmZnzPwAAAAAAAPQ/Z2ZmZmZm9D/NzMzMzMz0PzQzMzMzM/U/mpmZmZmZ9T8AAAAAAAD2P2dmZmZmZvY/zczMzMzM9j80MzMzMzP3P5qZmZmZmfc/AAAAAAAA+D9nZmZmZmb4P83MzMzMzPg/NDMzMzMz+T+amZmZmZn5PwAAAAAAAPo/Z2ZmZmZm+j/NzMzMzMz6PzQzMzMzM/s/mpmZmZmZ+z8AAAAAAAD8P2dmZmZmZvw/zczMzMzM/D80MzMzMzP9P5qZmZmZmf0/AAAAAAAA/j9nZmZmZmb+P83MzMzMzP4/NDMzMzMz/z+amZmZmZn/PwAAAAAAAABA",
            "dtype": "f8"
           },
           "xaxis": "x",
           "y": {
            "bdata": "AAAAAAAA8D8AAAAAAADwPwAAAAAAAPA/AAAAAAAA8D8AAAAAAADwPwAAAAAAAPA/AAAAAAAA8D8AAAAAAADwPwAAAAAAAPA/AAAAAAAA8D8AAAAAAADwPwAAAAAAAPA/AAAAAAAA8D8AAAAAAADwPwAAAAAAAPA/AAAAAAAA8D8AAAAAAADwPwAAAAAAAPA/AAAAAAAA8D8AAAAAAADwPwAAAAAAAPA/AAAAAAAA8D8AAAAAAADwPwAAAAAAAPA/AAAAAAAA8D8AAAAAAADwPwAAAAAAAPA/AAAAAAAA8D8AAAAAAADwPwAAAAAAAPA/AAAAAAAA8D8AAAAAAAAAQAAAAAAAAABAAAAAAAAAAEAAAAAAAAAAQAAAAAAAAABAAAAAAAAAAEAAAAAAAAAAQAAAAAAAAABAAAAAAAAAAEAAAAAAAAAAQAAAAAAAAABAAAAAAAAAAEAAAAAAAAAAQAAAAAAAAABAAAAAAAAAAEAAAAAAAAAAQAAAAAAAAABAAAAAAAAAAEAAAAAAAAAAQAAAAAAAAABAAAAAAAAAAEAAAAAAAADwPwAAAAAAAPA/AAAAAAAA8D8AAAAAAADwPwAAAAAAAPA/AAAAAAAA8D8AAAAAAADwPwAAAAAAAPA/AAAAAAAA8D8AAAAAAADwPwAAAAAAAPA/AAAAAAAA8D8AAAAAAADwPwAAAAAAAPA/AAAAAAAA8D8AAAAAAADwPwAAAAAAAPA/AAAAAAAA8D8AAAAAAADwPwAAAAAAAPA/AAAAAAAA8D8AAAAAAADwPwAAAAAAAPA/AAAAAAAA8D8AAAAAAADwPwAAAAAAAPA/AAAAAAAA8D8AAAAAAADwPwAAAAAAAPA/",
            "dtype": "f8"
           },
           "yaxis": "y"
          }
         ],
         "name": "11"
        },
        {
         "data": [
          {
           "hovertemplate": "variable=12<br>x=%{x}<br>value=%{y}<extra></extra>",
           "legendgroup": "",
           "line": {
            "color": "#636efa",
            "dash": "solid"
           },
           "marker": {
            "symbol": "circle"
           },
           "mode": "lines",
           "name": "",
           "orientation": "v",
           "showlegend": false,
           "type": "scatter",
           "x": {
            "bdata": "AAAAAAAAAACamZmZmZmZP5qZmZmZmak/NDMzMzMzsz+amZmZmZm5PwAAAAAAAMA/NDMzMzMzwz9nZmZmZmbGP5qZmZmZmck/zczMzMzMzD8AAAAAAADQP5qZmZmZmdE/NDMzMzMz0z/NzMzMzMzUP2dmZmZmZtY/AAAAAAAA2D+amZmZmZnZPzQzMzMzM9s/zczMzMzM3D9nZmZmZmbePwAAAAAAAOA/zczMzMzM4D+amZmZmZnhP2dmZmZmZuI/NDMzMzMz4z8AAAAAAADkP83MzMzMzOQ/mpmZmZmZ5T9nZmZmZmbmPzQzMzMzM+c/AAAAAAAA6D/NzMzMzMzoP5qZmZmZmek/Z2ZmZmZm6j80MzMzMzPrPwAAAAAAAOw/zczMzMzM7D+amZmZmZntP2dmZmZmZu4/NDMzMzMz7z8AAAAAAADwP2dmZmZmZvA/zczMzMzM8D8zMzMzMzPxP5qZmZmZmfE/AAAAAAAA8j9nZmZmZmbyP83MzMzMzPI/NDMzMzMz8z+amZmZmZnzPwAAAAAAAPQ/Z2ZmZmZm9D/NzMzMzMz0PzQzMzMzM/U/mpmZmZmZ9T8AAAAAAAD2P2dmZmZmZvY/zczMzMzM9j80MzMzMzP3P5qZmZmZmfc/AAAAAAAA+D9nZmZmZmb4P83MzMzMzPg/NDMzMzMz+T+amZmZmZn5PwAAAAAAAPo/Z2ZmZmZm+j/NzMzMzMz6PzQzMzMzM/s/mpmZmZmZ+z8AAAAAAAD8P2dmZmZmZvw/zczMzMzM/D80MzMzMzP9P5qZmZmZmf0/AAAAAAAA/j9nZmZmZmb+P83MzMzMzP4/NDMzMzMz/z+amZmZmZn/PwAAAAAAAABA",
            "dtype": "f8"
           },
           "xaxis": "x",
           "y": {
            "bdata": "AAAAAAAA8D8AAAAAAADwPwAAAAAAAPA/AAAAAAAA8D8AAAAAAADwPwAAAAAAAPA/AAAAAAAA8D8AAAAAAADwPwAAAAAAAPA/AAAAAAAA8D8AAAAAAADwPwAAAAAAAPA/AAAAAAAA8D8AAAAAAADwPwAAAAAAAPA/AAAAAAAA8D8AAAAAAADwPwAAAAAAAPA/AAAAAAAA8D8AAAAAAADwPwAAAAAAAPA/AAAAAAAA8D8AAAAAAADwPwAAAAAAAPA/AAAAAAAA8D8AAAAAAADwPwAAAAAAAPA/AAAAAAAA8D8AAAAAAADwPwAAAAAAAPA/AAAAAAAA8D8AAAAAAADwPwAAAAAAAABAAAAAAAAAAEAAAAAAAAAAQAAAAAAAAABAAAAAAAAAAEAAAAAAAAAAQAAAAAAAAABAAAAAAAAAAEAAAAAAAAAAQAAAAAAAAABAAAAAAAAAAEAAAAAAAAAAQAAAAAAAAABAAAAAAAAAAEAAAAAAAAAAQAAAAAAAAABAAAAAAAAAAEAAAAAAAAAAQAAAAAAAAABAAAAAAAAAAEAAAAAAAAAAQAAAAAAAAPA/AAAAAAAA8D8AAAAAAADwPwAAAAAAAPA/AAAAAAAA8D8AAAAAAADwPwAAAAAAAPA/AAAAAAAA8D8AAAAAAADwPwAAAAAAAPA/AAAAAAAA8D8AAAAAAADwPwAAAAAAAPA/AAAAAAAA8D8AAAAAAADwPwAAAAAAAPA/AAAAAAAA8D8AAAAAAADwPwAAAAAAAPA/AAAAAAAA8D8AAAAAAADwPwAAAAAAAPA/AAAAAAAA8D8AAAAAAADwPwAAAAAAAPA/AAAAAAAA8D8AAAAAAADwPwAAAAAAAPA/",
            "dtype": "f8"
           },
           "yaxis": "y"
          }
         ],
         "name": "12"
        },
        {
         "data": [
          {
           "hovertemplate": "variable=13<br>x=%{x}<br>value=%{y}<extra></extra>",
           "legendgroup": "",
           "line": {
            "color": "#636efa",
            "dash": "solid"
           },
           "marker": {
            "symbol": "circle"
           },
           "mode": "lines",
           "name": "",
           "orientation": "v",
           "showlegend": false,
           "type": "scatter",
           "x": {
            "bdata": "AAAAAAAAAACamZmZmZmZP5qZmZmZmak/NDMzMzMzsz+amZmZmZm5PwAAAAAAAMA/NDMzMzMzwz9nZmZmZmbGP5qZmZmZmck/zczMzMzMzD8AAAAAAADQP5qZmZmZmdE/NDMzMzMz0z/NzMzMzMzUP2dmZmZmZtY/AAAAAAAA2D+amZmZmZnZPzQzMzMzM9s/zczMzMzM3D9nZmZmZmbePwAAAAAAAOA/zczMzMzM4D+amZmZmZnhP2dmZmZmZuI/NDMzMzMz4z8AAAAAAADkP83MzMzMzOQ/mpmZmZmZ5T9nZmZmZmbmPzQzMzMzM+c/AAAAAAAA6D/NzMzMzMzoP5qZmZmZmek/Z2ZmZmZm6j80MzMzMzPrPwAAAAAAAOw/zczMzMzM7D+amZmZmZntP2dmZmZmZu4/NDMzMzMz7z8AAAAAAADwP2dmZmZmZvA/zczMzMzM8D8zMzMzMzPxP5qZmZmZmfE/AAAAAAAA8j9nZmZmZmbyP83MzMzMzPI/NDMzMzMz8z+amZmZmZnzPwAAAAAAAPQ/Z2ZmZmZm9D/NzMzMzMz0PzQzMzMzM/U/mpmZmZmZ9T8AAAAAAAD2P2dmZmZmZvY/zczMzMzM9j80MzMzMzP3P5qZmZmZmfc/AAAAAAAA+D9nZmZmZmb4P83MzMzMzPg/NDMzMzMz+T+amZmZmZn5PwAAAAAAAPo/Z2ZmZmZm+j/NzMzMzMz6PzQzMzMzM/s/mpmZmZmZ+z8AAAAAAAD8P2dmZmZmZvw/zczMzMzM/D80MzMzMzP9P5qZmZmZmf0/AAAAAAAA/j9nZmZmZmb+P83MzMzMzP4/NDMzMzMz/z+amZmZmZn/PwAAAAAAAABA",
            "dtype": "f8"
           },
           "xaxis": "x",
           "y": {
            "bdata": "AAAAAAAA8D8AAAAAAADwPwAAAAAAAPA/AAAAAAAA8D8AAAAAAADwPwAAAAAAAPA/AAAAAAAA8D8AAAAAAADwPwAAAAAAAPA/AAAAAAAA8D8AAAAAAADwPwAAAAAAAPA/AAAAAAAA8D8AAAAAAADwPwAAAAAAAPA/AAAAAAAA8D8AAAAAAADwPwAAAAAAAPA/AAAAAAAA8D8AAAAAAADwPwAAAAAAAPA/AAAAAAAA8D8AAAAAAADwPwAAAAAAAPA/AAAAAAAA8D8AAAAAAADwPwAAAAAAAPA/AAAAAAAA8D8AAAAAAADwPwAAAAAAAPA/AAAAAAAA8D8AAAAAAADwPwAAAAAAAPA/AAAAAAAAAEAAAAAAAAAAQAAAAAAAAABAAAAAAAAAAEAAAAAAAAAAQAAAAAAAAABAAAAAAAAAAEAAAAAAAAAAQAAAAAAAAABAAAAAAAAAAEAAAAAAAAAAQAAAAAAAAABAAAAAAAAAAEAAAAAAAAAAQAAAAAAAAABAAAAAAAAAAEAAAAAAAAAAQAAAAAAAAABAAAAAAAAAAEAAAAAAAAAAQAAAAAAAAABAAAAAAAAA8D8AAAAAAADwPwAAAAAAAPA/AAAAAAAA8D8AAAAAAADwPwAAAAAAAPA/AAAAAAAA8D8AAAAAAADwPwAAAAAAAPA/AAAAAAAA8D8AAAAAAADwPwAAAAAAAPA/AAAAAAAA8D8AAAAAAADwPwAAAAAAAPA/AAAAAAAA8D8AAAAAAADwPwAAAAAAAPA/AAAAAAAA8D8AAAAAAADwPwAAAAAAAPA/AAAAAAAA8D8AAAAAAADwPwAAAAAAAPA/AAAAAAAA8D8AAAAAAADwPwAAAAAAAPA/",
            "dtype": "f8"
           },
           "yaxis": "y"
          }
         ],
         "name": "13"
        },
        {
         "data": [
          {
           "hovertemplate": "variable=14<br>x=%{x}<br>value=%{y}<extra></extra>",
           "legendgroup": "",
           "line": {
            "color": "#636efa",
            "dash": "solid"
           },
           "marker": {
            "symbol": "circle"
           },
           "mode": "lines",
           "name": "",
           "orientation": "v",
           "showlegend": false,
           "type": "scatter",
           "x": {
            "bdata": "AAAAAAAAAACamZmZmZmZP5qZmZmZmak/NDMzMzMzsz+amZmZmZm5PwAAAAAAAMA/NDMzMzMzwz9nZmZmZmbGP5qZmZmZmck/zczMzMzMzD8AAAAAAADQP5qZmZmZmdE/NDMzMzMz0z/NzMzMzMzUP2dmZmZmZtY/AAAAAAAA2D+amZmZmZnZPzQzMzMzM9s/zczMzMzM3D9nZmZmZmbePwAAAAAAAOA/zczMzMzM4D+amZmZmZnhP2dmZmZmZuI/NDMzMzMz4z8AAAAAAADkP83MzMzMzOQ/mpmZmZmZ5T9nZmZmZmbmPzQzMzMzM+c/AAAAAAAA6D/NzMzMzMzoP5qZmZmZmek/Z2ZmZmZm6j80MzMzMzPrPwAAAAAAAOw/zczMzMzM7D+amZmZmZntP2dmZmZmZu4/NDMzMzMz7z8AAAAAAADwP2dmZmZmZvA/zczMzMzM8D8zMzMzMzPxP5qZmZmZmfE/AAAAAAAA8j9nZmZmZmbyP83MzMzMzPI/NDMzMzMz8z+amZmZmZnzPwAAAAAAAPQ/Z2ZmZmZm9D/NzMzMzMz0PzQzMzMzM/U/mpmZmZmZ9T8AAAAAAAD2P2dmZmZmZvY/zczMzMzM9j80MzMzMzP3P5qZmZmZmfc/AAAAAAAA+D9nZmZmZmb4P83MzMzMzPg/NDMzMzMz+T+amZmZmZn5PwAAAAAAAPo/Z2ZmZmZm+j/NzMzMzMz6PzQzMzMzM/s/mpmZmZmZ+z8AAAAAAAD8P2dmZmZmZvw/zczMzMzM/D80MzMzMzP9P5qZmZmZmf0/AAAAAAAA/j9nZmZmZmb+P83MzMzMzP4/NDMzMzMz/z+amZmZmZn/PwAAAAAAAABA",
            "dtype": "f8"
           },
           "xaxis": "x",
           "y": {
            "bdata": "AAAAAAAA8D8AAAAAAADwPwAAAAAAAPA/AAAAAAAA8D8AAAAAAADwPwAAAAAAAPA/AAAAAAAA8D8AAAAAAADwPwAAAAAAAPA/AAAAAAAA8D8AAAAAAADwPwAAAAAAAPA/AAAAAAAA8D8AAAAAAADwPwAAAAAAAPA/AAAAAAAA8D8AAAAAAADwPwAAAAAAAPA/AAAAAAAA8D8AAAAAAADwPwAAAAAAAPA/AAAAAAAA8D8AAAAAAADwPwAAAAAAAPA/AAAAAAAA8D8AAAAAAADwPwAAAAAAAPA/AAAAAAAA8D8AAAAAAADwPwAAAAAAAPA/AAAAAAAA8D8AAAAAAADwPwAAAAAAAPA/AAAAAAAA8D8AAAAAAAAAQAAAAAAAAABAAAAAAAAAAEAAAAAAAAAAQAAAAAAAAABAAAAAAAAAAEAAAAAAAAAAQAAAAAAAAABAAAAAAAAAAEAAAAAAAAAAQAAAAAAAAABAAAAAAAAAAEAAAAAAAAAAQAAAAAAAAABAAAAAAAAAAEAAAAAAAAAAQAAAAAAAAABAAAAAAAAAAEAAAAAAAAAAQAAAAAAAAABAAAAAAAAAAEAAAAAAAADwPwAAAAAAAPA/AAAAAAAA8D8AAAAAAADwPwAAAAAAAPA/AAAAAAAA8D8AAAAAAADwPwAAAAAAAPA/AAAAAAAA8D8AAAAAAADwPwAAAAAAAPA/AAAAAAAA8D8AAAAAAADwPwAAAAAAAPA/AAAAAAAA8D8AAAAAAADwPwAAAAAAAPA/AAAAAAAA8D8AAAAAAADwPwAAAAAAAPA/AAAAAAAA8D8AAAAAAADwPwAAAAAAAPA/AAAAAAAA8D8AAAAAAADwPwAAAAAAAPA/",
            "dtype": "f8"
           },
           "yaxis": "y"
          }
         ],
         "name": "14"
        },
        {
         "data": [
          {
           "hovertemplate": "variable=15<br>x=%{x}<br>value=%{y}<extra></extra>",
           "legendgroup": "",
           "line": {
            "color": "#636efa",
            "dash": "solid"
           },
           "marker": {
            "symbol": "circle"
           },
           "mode": "lines",
           "name": "",
           "orientation": "v",
           "showlegend": false,
           "type": "scatter",
           "x": {
            "bdata": "AAAAAAAAAACamZmZmZmZP5qZmZmZmak/NDMzMzMzsz+amZmZmZm5PwAAAAAAAMA/NDMzMzMzwz9nZmZmZmbGP5qZmZmZmck/zczMzMzMzD8AAAAAAADQP5qZmZmZmdE/NDMzMzMz0z/NzMzMzMzUP2dmZmZmZtY/AAAAAAAA2D+amZmZmZnZPzQzMzMzM9s/zczMzMzM3D9nZmZmZmbePwAAAAAAAOA/zczMzMzM4D+amZmZmZnhP2dmZmZmZuI/NDMzMzMz4z8AAAAAAADkP83MzMzMzOQ/mpmZmZmZ5T9nZmZmZmbmPzQzMzMzM+c/AAAAAAAA6D/NzMzMzMzoP5qZmZmZmek/Z2ZmZmZm6j80MzMzMzPrPwAAAAAAAOw/zczMzMzM7D+amZmZmZntP2dmZmZmZu4/NDMzMzMz7z8AAAAAAADwP2dmZmZmZvA/zczMzMzM8D8zMzMzMzPxP5qZmZmZmfE/AAAAAAAA8j9nZmZmZmbyP83MzMzMzPI/NDMzMzMz8z+amZmZmZnzPwAAAAAAAPQ/Z2ZmZmZm9D/NzMzMzMz0PzQzMzMzM/U/mpmZmZmZ9T8AAAAAAAD2P2dmZmZmZvY/zczMzMzM9j80MzMzMzP3P5qZmZmZmfc/AAAAAAAA+D9nZmZmZmb4P83MzMzMzPg/NDMzMzMz+T+amZmZmZn5PwAAAAAAAPo/Z2ZmZmZm+j/NzMzMzMz6PzQzMzMzM/s/mpmZmZmZ+z8AAAAAAAD8P2dmZmZmZvw/zczMzMzM/D80MzMzMzP9P5qZmZmZmf0/AAAAAAAA/j9nZmZmZmb+P83MzMzMzP4/NDMzMzMz/z+amZmZmZn/PwAAAAAAAABA",
            "dtype": "f8"
           },
           "xaxis": "x",
           "y": {
            "bdata": "AAAAAAAA8D8AAAAAAADwPwAAAAAAAPA/AAAAAAAA8D8AAAAAAADwPwAAAAAAAPA/AAAAAAAA8D8AAAAAAADwPwAAAAAAAPA/AAAAAAAA8D8AAAAAAADwPwAAAAAAAPA/AAAAAAAA8D8AAAAAAADwPwAAAAAAAPA/AAAAAAAA8D8AAAAAAADwPwAAAAAAAPA/AAAAAAAA8D8AAAAAAADwPwAAAAAAAPA/AAAAAAAA8D8AAAAAAADwPwAAAAAAAPA/AAAAAAAA8D8AAAAAAADwPwAAAAAAAPA/AAAAAAAA8D8AAAAAAADwPwAAAAAAAPA/AAAAAAAA8D8AAAAAAADwPwAAAAAAAPA/AAAAAAAA8D8AAAAAAADwPwAAAAAAAABAAAAAAAAAAEAAAAAAAAAAQAAAAAAAAABAAAAAAAAAAEAAAAAAAAAAQAAAAAAAAABAAAAAAAAAAEAAAAAAAAAAQAAAAAAAAABAAAAAAAAAAEAAAAAAAAAAQAAAAAAAAABAAAAAAAAAAEAAAAAAAAAAQAAAAAAAAABAAAAAAAAAAEAAAAAAAAAAQAAAAAAAAABAAAAAAAAAAEAAAAAAAAAAQAAAAAAAAPA/AAAAAAAA8D8AAAAAAADwPwAAAAAAAPA/AAAAAAAA8D8AAAAAAADwPwAAAAAAAPA/AAAAAAAA8D8AAAAAAADwPwAAAAAAAPA/AAAAAAAA8D8AAAAAAADwPwAAAAAAAPA/AAAAAAAA8D8AAAAAAADwPwAAAAAAAPA/AAAAAAAA8D8AAAAAAADwPwAAAAAAAPA/AAAAAAAA8D8AAAAAAADwPwAAAAAAAPA/AAAAAAAA8D8AAAAAAADwPwAAAAAAAPA/",
            "dtype": "f8"
           },
           "yaxis": "y"
          }
         ],
         "name": "15"
        },
        {
         "data": [
          {
           "hovertemplate": "variable=16<br>x=%{x}<br>value=%{y}<extra></extra>",
           "legendgroup": "",
           "line": {
            "color": "#636efa",
            "dash": "solid"
           },
           "marker": {
            "symbol": "circle"
           },
           "mode": "lines",
           "name": "",
           "orientation": "v",
           "showlegend": false,
           "type": "scatter",
           "x": {
            "bdata": "AAAAAAAAAACamZmZmZmZP5qZmZmZmak/NDMzMzMzsz+amZmZmZm5PwAAAAAAAMA/NDMzMzMzwz9nZmZmZmbGP5qZmZmZmck/zczMzMzMzD8AAAAAAADQP5qZmZmZmdE/NDMzMzMz0z/NzMzMzMzUP2dmZmZmZtY/AAAAAAAA2D+amZmZmZnZPzQzMzMzM9s/zczMzMzM3D9nZmZmZmbePwAAAAAAAOA/zczMzMzM4D+amZmZmZnhP2dmZmZmZuI/NDMzMzMz4z8AAAAAAADkP83MzMzMzOQ/mpmZmZmZ5T9nZmZmZmbmPzQzMzMzM+c/AAAAAAAA6D/NzMzMzMzoP5qZmZmZmek/Z2ZmZmZm6j80MzMzMzPrPwAAAAAAAOw/zczMzMzM7D+amZmZmZntP2dmZmZmZu4/NDMzMzMz7z8AAAAAAADwP2dmZmZmZvA/zczMzMzM8D8zMzMzMzPxP5qZmZmZmfE/AAAAAAAA8j9nZmZmZmbyP83MzMzMzPI/NDMzMzMz8z+amZmZmZnzPwAAAAAAAPQ/Z2ZmZmZm9D/NzMzMzMz0PzQzMzMzM/U/mpmZmZmZ9T8AAAAAAAD2P2dmZmZmZvY/zczMzMzM9j80MzMzMzP3P5qZmZmZmfc/AAAAAAAA+D9nZmZmZmb4P83MzMzMzPg/NDMzMzMz+T+amZmZmZn5PwAAAAAAAPo/Z2ZmZmZm+j/NzMzMzMz6PzQzMzMzM/s/mpmZmZmZ+z8AAAAAAAD8P2dmZmZmZvw/zczMzMzM/D80MzMzMzP9P5qZmZmZmf0/AAAAAAAA/j9nZmZmZmb+P83MzMzMzP4/NDMzMzMz/z+amZmZmZn/PwAAAAAAAABA",
            "dtype": "f8"
           },
           "xaxis": "x",
           "y": {
            "bdata": "AAAAAAAA8D8AAAAAAADwPwAAAAAAAPA/AAAAAAAA8D8AAAAAAADwPwAAAAAAAPA/AAAAAAAA8D8AAAAAAADwPwAAAAAAAPA/AAAAAAAA8D8AAAAAAADwPwAAAAAAAPA/AAAAAAAA8D8AAAAAAADwPwAAAAAAAPA/AAAAAAAA8D8AAAAAAADwPwAAAAAAAPA/AAAAAAAA8D8AAAAAAADwPwAAAAAAAPA/AAAAAAAA8D8AAAAAAADwPwAAAAAAAPA/AAAAAAAA8D8AAAAAAADwPwAAAAAAAPA/AAAAAAAA8D8AAAAAAADwPwAAAAAAAPA/AAAAAAAA8D8AAAAAAADwPwAAAAAAAPA/AAAAAAAA8D8AAAAAAADwPwAAAAAAAPA/AAAAAAAAAEAAAAAAAAAAQAAAAAAAAABAAAAAAAAAAEAAAAAAAAAAQAAAAAAAAABAAAAAAAAAAEAAAAAAAAAAQAAAAAAAAABAAAAAAAAAAEAAAAAAAAAAQAAAAAAAAABAAAAAAAAAAEAAAAAAAAAAQAAAAAAAAABAAAAAAAAAAEAAAAAAAAAAQAAAAAAAAABAAAAAAAAAAEAAAAAAAAAAQAAAAAAAAABAAAAAAAAA8D8AAAAAAADwPwAAAAAAAPA/AAAAAAAA8D8AAAAAAADwPwAAAAAAAPA/AAAAAAAA8D8AAAAAAADwPwAAAAAAAPA/AAAAAAAA8D8AAAAAAADwPwAAAAAAAPA/AAAAAAAA8D8AAAAAAADwPwAAAAAAAPA/AAAAAAAA8D8AAAAAAADwPwAAAAAAAPA/AAAAAAAA8D8AAAAAAADwPwAAAAAAAPA/AAAAAAAA8D8AAAAAAADwPwAAAAAAAPA/",
            "dtype": "f8"
           },
           "yaxis": "y"
          }
         ],
         "name": "16"
        },
        {
         "data": [
          {
           "hovertemplate": "variable=17<br>x=%{x}<br>value=%{y}<extra></extra>",
           "legendgroup": "",
           "line": {
            "color": "#636efa",
            "dash": "solid"
           },
           "marker": {
            "symbol": "circle"
           },
           "mode": "lines",
           "name": "",
           "orientation": "v",
           "showlegend": false,
           "type": "scatter",
           "x": {
            "bdata": "AAAAAAAAAACamZmZmZmZP5qZmZmZmak/NDMzMzMzsz+amZmZmZm5PwAAAAAAAMA/NDMzMzMzwz9nZmZmZmbGP5qZmZmZmck/zczMzMzMzD8AAAAAAADQP5qZmZmZmdE/NDMzMzMz0z/NzMzMzMzUP2dmZmZmZtY/AAAAAAAA2D+amZmZmZnZPzQzMzMzM9s/zczMzMzM3D9nZmZmZmbePwAAAAAAAOA/zczMzMzM4D+amZmZmZnhP2dmZmZmZuI/NDMzMzMz4z8AAAAAAADkP83MzMzMzOQ/mpmZmZmZ5T9nZmZmZmbmPzQzMzMzM+c/AAAAAAAA6D/NzMzMzMzoP5qZmZmZmek/Z2ZmZmZm6j80MzMzMzPrPwAAAAAAAOw/zczMzMzM7D+amZmZmZntP2dmZmZmZu4/NDMzMzMz7z8AAAAAAADwP2dmZmZmZvA/zczMzMzM8D8zMzMzMzPxP5qZmZmZmfE/AAAAAAAA8j9nZmZmZmbyP83MzMzMzPI/NDMzMzMz8z+amZmZmZnzPwAAAAAAAPQ/Z2ZmZmZm9D/NzMzMzMz0PzQzMzMzM/U/mpmZmZmZ9T8AAAAAAAD2P2dmZmZmZvY/zczMzMzM9j80MzMzMzP3P5qZmZmZmfc/AAAAAAAA+D9nZmZmZmb4P83MzMzMzPg/NDMzMzMz+T+amZmZmZn5PwAAAAAAAPo/Z2ZmZmZm+j/NzMzMzMz6PzQzMzMzM/s/mpmZmZmZ+z8AAAAAAAD8P2dmZmZmZvw/zczMzMzM/D80MzMzMzP9P5qZmZmZmf0/AAAAAAAA/j9nZmZmZmb+P83MzMzMzP4/NDMzMzMz/z+amZmZmZn/PwAAAAAAAABA",
            "dtype": "f8"
           },
           "xaxis": "x",
           "y": {
            "bdata": "AAAAAAAA8D8AAAAAAADwPwAAAAAAAPA/AAAAAAAA8D8AAAAAAADwPwAAAAAAAPA/AAAAAAAA8D8AAAAAAADwPwAAAAAAAPA/AAAAAAAA8D8AAAAAAADwPwAAAAAAAPA/AAAAAAAA8D8AAAAAAADwPwAAAAAAAPA/AAAAAAAA8D8AAAAAAADwPwAAAAAAAPA/AAAAAAAA8D8AAAAAAADwPwAAAAAAAPA/AAAAAAAA8D8AAAAAAADwPwAAAAAAAPA/AAAAAAAA8D8AAAAAAADwPwAAAAAAAPA/AAAAAAAA8D8AAAAAAADwPwAAAAAAAPA/AAAAAAAA8D8AAAAAAADwPwAAAAAAAPA/AAAAAAAA8D8AAAAAAADwPwAAAAAAAPA/AAAAAAAA8D8AAAAAAAAAQAAAAAAAAABAAAAAAAAAAEAAAAAAAAAAQAAAAAAAAABAAAAAAAAAAEAAAAAAAAAAQAAAAAAAAABAAAAAAAAAAEAAAAAAAAAAQAAAAAAAAABAAAAAAAAAAEAAAAAAAAAAQAAAAAAAAABAAAAAAAAAAEAAAAAAAAAAQAAAAAAAAABAAAAAAAAAAEAAAAAAAAAAQAAAAAAAAABAAAAAAAAAAEAAAAAAAADwPwAAAAAAAPA/AAAAAAAA8D8AAAAAAADwPwAAAAAAAPA/AAAAAAAA8D8AAAAAAADwPwAAAAAAAPA/AAAAAAAA8D8AAAAAAADwPwAAAAAAAPA/AAAAAAAA8D8AAAAAAADwPwAAAAAAAPA/AAAAAAAA8D8AAAAAAADwPwAAAAAAAPA/AAAAAAAA8D8AAAAAAADwPwAAAAAAAPA/AAAAAAAA8D8AAAAAAADwPwAAAAAAAPA/",
            "dtype": "f8"
           },
           "yaxis": "y"
          }
         ],
         "name": "17"
        },
        {
         "data": [
          {
           "hovertemplate": "variable=18<br>x=%{x}<br>value=%{y}<extra></extra>",
           "legendgroup": "",
           "line": {
            "color": "#636efa",
            "dash": "solid"
           },
           "marker": {
            "symbol": "circle"
           },
           "mode": "lines",
           "name": "",
           "orientation": "v",
           "showlegend": false,
           "type": "scatter",
           "x": {
            "bdata": "AAAAAAAAAACamZmZmZmZP5qZmZmZmak/NDMzMzMzsz+amZmZmZm5PwAAAAAAAMA/NDMzMzMzwz9nZmZmZmbGP5qZmZmZmck/zczMzMzMzD8AAAAAAADQP5qZmZmZmdE/NDMzMzMz0z/NzMzMzMzUP2dmZmZmZtY/AAAAAAAA2D+amZmZmZnZPzQzMzMzM9s/zczMzMzM3D9nZmZmZmbePwAAAAAAAOA/zczMzMzM4D+amZmZmZnhP2dmZmZmZuI/NDMzMzMz4z8AAAAAAADkP83MzMzMzOQ/mpmZmZmZ5T9nZmZmZmbmPzQzMzMzM+c/AAAAAAAA6D/NzMzMzMzoP5qZmZmZmek/Z2ZmZmZm6j80MzMzMzPrPwAAAAAAAOw/zczMzMzM7D+amZmZmZntP2dmZmZmZu4/NDMzMzMz7z8AAAAAAADwP2dmZmZmZvA/zczMzMzM8D8zMzMzMzPxP5qZmZmZmfE/AAAAAAAA8j9nZmZmZmbyP83MzMzMzPI/NDMzMzMz8z+amZmZmZnzPwAAAAAAAPQ/Z2ZmZmZm9D/NzMzMzMz0PzQzMzMzM/U/mpmZmZmZ9T8AAAAAAAD2P2dmZmZmZvY/zczMzMzM9j80MzMzMzP3P5qZmZmZmfc/AAAAAAAA+D9nZmZmZmb4P83MzMzMzPg/NDMzMzMz+T+amZmZmZn5PwAAAAAAAPo/Z2ZmZmZm+j/NzMzMzMz6PzQzMzMzM/s/mpmZmZmZ+z8AAAAAAAD8P2dmZmZmZvw/zczMzMzM/D80MzMzMzP9P5qZmZmZmf0/AAAAAAAA/j9nZmZmZmb+P83MzMzMzP4/NDMzMzMz/z+amZmZmZn/PwAAAAAAAABA",
            "dtype": "f8"
           },
           "xaxis": "x",
           "y": {
            "bdata": "AAAAAAAA8D8AAAAAAADwPwAAAAAAAPA/AAAAAAAA8D8AAAAAAADwPwAAAAAAAPA/AAAAAAAA8D8AAAAAAADwPwAAAAAAAPA/AAAAAAAA8D8AAAAAAADwPwAAAAAAAPA/AAAAAAAA8D8AAAAAAADwPwAAAAAAAPA/AAAAAAAA8D8AAAAAAADwPwAAAAAAAPA/AAAAAAAA8D8AAAAAAADwPwAAAAAAAPA/AAAAAAAA8D8AAAAAAADwPwAAAAAAAPA/AAAAAAAA8D8AAAAAAADwPwAAAAAAAPA/AAAAAAAA8D8AAAAAAADwPwAAAAAAAPA/AAAAAAAA8D8AAAAAAADwPwAAAAAAAPA/AAAAAAAA8D8AAAAAAADwPwAAAAAAAPA/AAAAAAAA8D8AAAAAAADwPwAAAAAAAABAAAAAAAAAAEAAAAAAAAAAQAAAAAAAAABAAAAAAAAAAEAAAAAAAAAAQAAAAAAAAABAAAAAAAAAAEAAAAAAAAAAQAAAAAAAAABAAAAAAAAAAEAAAAAAAAAAQAAAAAAAAABAAAAAAAAAAEAAAAAAAAAAQAAAAAAAAABAAAAAAAAAAEAAAAAAAAAAQAAAAAAAAABAAAAAAAAAAEAAAAAAAAAAQAAAAAAAAPA/AAAAAAAA8D8AAAAAAADwPwAAAAAAAPA/AAAAAAAA8D8AAAAAAADwPwAAAAAAAPA/AAAAAAAA8D8AAAAAAADwPwAAAAAAAPA/AAAAAAAA8D8AAAAAAADwPwAAAAAAAPA/AAAAAAAA8D8AAAAAAADwPwAAAAAAAPA/AAAAAAAA8D8AAAAAAADwPwAAAAAAAPA/AAAAAAAA8D8AAAAAAADwPwAAAAAAAPA/",
            "dtype": "f8"
           },
           "yaxis": "y"
          }
         ],
         "name": "18"
        },
        {
         "data": [
          {
           "hovertemplate": "variable=19<br>x=%{x}<br>value=%{y}<extra></extra>",
           "legendgroup": "",
           "line": {
            "color": "#636efa",
            "dash": "solid"
           },
           "marker": {
            "symbol": "circle"
           },
           "mode": "lines",
           "name": "",
           "orientation": "v",
           "showlegend": false,
           "type": "scatter",
           "x": {
            "bdata": "AAAAAAAAAACamZmZmZmZP5qZmZmZmak/NDMzMzMzsz+amZmZmZm5PwAAAAAAAMA/NDMzMzMzwz9nZmZmZmbGP5qZmZmZmck/zczMzMzMzD8AAAAAAADQP5qZmZmZmdE/NDMzMzMz0z/NzMzMzMzUP2dmZmZmZtY/AAAAAAAA2D+amZmZmZnZPzQzMzMzM9s/zczMzMzM3D9nZmZmZmbePwAAAAAAAOA/zczMzMzM4D+amZmZmZnhP2dmZmZmZuI/NDMzMzMz4z8AAAAAAADkP83MzMzMzOQ/mpmZmZmZ5T9nZmZmZmbmPzQzMzMzM+c/AAAAAAAA6D/NzMzMzMzoP5qZmZmZmek/Z2ZmZmZm6j80MzMzMzPrPwAAAAAAAOw/zczMzMzM7D+amZmZmZntP2dmZmZmZu4/NDMzMzMz7z8AAAAAAADwP2dmZmZmZvA/zczMzMzM8D8zMzMzMzPxP5qZmZmZmfE/AAAAAAAA8j9nZmZmZmbyP83MzMzMzPI/NDMzMzMz8z+amZmZmZnzPwAAAAAAAPQ/Z2ZmZmZm9D/NzMzMzMz0PzQzMzMzM/U/mpmZmZmZ9T8AAAAAAAD2P2dmZmZmZvY/zczMzMzM9j80MzMzMzP3P5qZmZmZmfc/AAAAAAAA+D9nZmZmZmb4P83MzMzMzPg/NDMzMzMz+T+amZmZmZn5PwAAAAAAAPo/Z2ZmZmZm+j/NzMzMzMz6PzQzMzMzM/s/mpmZmZmZ+z8AAAAAAAD8P2dmZmZmZvw/zczMzMzM/D80MzMzMzP9P5qZmZmZmf0/AAAAAAAA/j9nZmZmZmb+P83MzMzMzP4/NDMzMzMz/z+amZmZmZn/PwAAAAAAAABA",
            "dtype": "f8"
           },
           "xaxis": "x",
           "y": {
            "bdata": "AAAAAAAA8D8AAAAAAADwPwAAAAAAAPA/AAAAAAAA8D8AAAAAAADwPwAAAAAAAPA/AAAAAAAA8D8AAAAAAADwPwAAAAAAAPA/AAAAAAAA8D8AAAAAAADwPwAAAAAAAPA/AAAAAAAA8D8AAAAAAADwPwAAAAAAAPA/AAAAAAAA8D8AAAAAAADwPwAAAAAAAPA/AAAAAAAA8D8AAAAAAADwPwAAAAAAAPA/AAAAAAAA8D8AAAAAAADwPwAAAAAAAPA/AAAAAAAA8D8AAAAAAADwPwAAAAAAAPA/AAAAAAAA8D8AAAAAAADwPwAAAAAAAPA/AAAAAAAA8D8AAAAAAADwPwAAAAAAAPA/AAAAAAAA8D8AAAAAAADwPwAAAAAAAPA/AAAAAAAA8D8AAAAAAADwPwAAAAAAAPA/AAAAAAAAAEAAAAAAAAAAQAAAAAAAAABAAAAAAAAAAEAAAAAAAAAAQAAAAAAAAABAAAAAAAAAAEAAAAAAAAAAQAAAAAAAAABAAAAAAAAAAEAAAAAAAAAAQAAAAAAAAABAAAAAAAAAAEAAAAAAAAAAQAAAAAAAAABAAAAAAAAAAEAAAAAAAAAAQAAAAAAAAABAAAAAAAAAAEAAAAAAAAAAQAAAAAAAAABAAAAAAAAA8D8AAAAAAADwPwAAAAAAAPA/AAAAAAAA8D8AAAAAAADwPwAAAAAAAPA/AAAAAAAA8D8AAAAAAADwPwAAAAAAAPA/AAAAAAAA8D8AAAAAAADwPwAAAAAAAPA/AAAAAAAA8D8AAAAAAADwPwAAAAAAAPA/AAAAAAAA8D8AAAAAAADwPwAAAAAAAPA/AAAAAAAA8D8AAAAAAADwPwAAAAAAAPA/",
            "dtype": "f8"
           },
           "yaxis": "y"
          }
         ],
         "name": "19"
        },
        {
         "data": [
          {
           "hovertemplate": "variable=20<br>x=%{x}<br>value=%{y}<extra></extra>",
           "legendgroup": "",
           "line": {
            "color": "#636efa",
            "dash": "solid"
           },
           "marker": {
            "symbol": "circle"
           },
           "mode": "lines",
           "name": "",
           "orientation": "v",
           "showlegend": false,
           "type": "scatter",
           "x": {
            "bdata": "AAAAAAAAAACamZmZmZmZP5qZmZmZmak/NDMzMzMzsz+amZmZmZm5PwAAAAAAAMA/NDMzMzMzwz9nZmZmZmbGP5qZmZmZmck/zczMzMzMzD8AAAAAAADQP5qZmZmZmdE/NDMzMzMz0z/NzMzMzMzUP2dmZmZmZtY/AAAAAAAA2D+amZmZmZnZPzQzMzMzM9s/zczMzMzM3D9nZmZmZmbePwAAAAAAAOA/zczMzMzM4D+amZmZmZnhP2dmZmZmZuI/NDMzMzMz4z8AAAAAAADkP83MzMzMzOQ/mpmZmZmZ5T9nZmZmZmbmPzQzMzMzM+c/AAAAAAAA6D/NzMzMzMzoP5qZmZmZmek/Z2ZmZmZm6j80MzMzMzPrPwAAAAAAAOw/zczMzMzM7D+amZmZmZntP2dmZmZmZu4/NDMzMzMz7z8AAAAAAADwP2dmZmZmZvA/zczMzMzM8D8zMzMzMzPxP5qZmZmZmfE/AAAAAAAA8j9nZmZmZmbyP83MzMzMzPI/NDMzMzMz8z+amZmZmZnzPwAAAAAAAPQ/Z2ZmZmZm9D/NzMzMzMz0PzQzMzMzM/U/mpmZmZmZ9T8AAAAAAAD2P2dmZmZmZvY/zczMzMzM9j80MzMzMzP3P5qZmZmZmfc/AAAAAAAA+D9nZmZmZmb4P83MzMzMzPg/NDMzMzMz+T+amZmZmZn5PwAAAAAAAPo/Z2ZmZmZm+j/NzMzMzMz6PzQzMzMzM/s/mpmZmZmZ+z8AAAAAAAD8P2dmZmZmZvw/zczMzMzM/D80MzMzMzP9P5qZmZmZmf0/AAAAAAAA/j9nZmZmZmb+P83MzMzMzP4/NDMzMzMz/z+amZmZmZn/PwAAAAAAAABA",
            "dtype": "f8"
           },
           "xaxis": "x",
           "y": {
            "bdata": "AAAAAAAA8D8AAAAAAADwPwAAAAAAAPA/AAAAAAAA8D8AAAAAAADwPwAAAAAAAPA/AAAAAAAA8D8AAAAAAADwPwAAAAAAAPA/AAAAAAAA8D8AAAAAAADwPwAAAAAAAPA/AAAAAAAA8D8AAAAAAADwPwAAAAAAAPA/AAAAAAAA8D8AAAAAAADwPwAAAAAAAPA/AAAAAAAA8D8AAAAAAADwPwAAAAAAAPA/AAAAAAAA8D8AAAAAAADwPwAAAAAAAPA/AAAAAAAA8D8AAAAAAADwPwAAAAAAAPA/AAAAAAAA8D8AAAAAAADwPwAAAAAAAPA/AAAAAAAA8D8AAAAAAADwPwAAAAAAAPA/AAAAAAAA8D8AAAAAAADwPwAAAAAAAPA/AAAAAAAA8D8AAAAAAADwPwAAAAAAAPA/AAAAAAAA8D8AAAAAAAAAQAAAAAAAAABAAAAAAAAAAEAAAAAAAAAAQAAAAAAAAABAAAAAAAAAAEAAAAAAAAAAQAAAAAAAAABAAAAAAAAAAEAAAAAAAAAAQAAAAAAAAABAAAAAAAAAAEAAAAAAAAAAQAAAAAAAAABAAAAAAAAAAEAAAAAAAAAAQAAAAAAAAABAAAAAAAAAAEAAAAAAAAAAQAAAAAAAAABAAAAAAAAAAEAAAAAAAADwPwAAAAAAAPA/AAAAAAAA8D8AAAAAAADwPwAAAAAAAPA/AAAAAAAA8D8AAAAAAADwPwAAAAAAAPA/AAAAAAAA8D8AAAAAAADwPwAAAAAAAPA/AAAAAAAA8D8AAAAAAADwPwAAAAAAAPA/AAAAAAAA8D8AAAAAAADwPwAAAAAAAPA/AAAAAAAA8D8AAAAAAADwPwAAAAAAAPA/",
            "dtype": "f8"
           },
           "yaxis": "y"
          }
         ],
         "name": "20"
        },
        {
         "data": [
          {
           "hovertemplate": "variable=21<br>x=%{x}<br>value=%{y}<extra></extra>",
           "legendgroup": "",
           "line": {
            "color": "#636efa",
            "dash": "solid"
           },
           "marker": {
            "symbol": "circle"
           },
           "mode": "lines",
           "name": "",
           "orientation": "v",
           "showlegend": false,
           "type": "scatter",
           "x": {
            "bdata": "AAAAAAAAAACamZmZmZmZP5qZmZmZmak/NDMzMzMzsz+amZmZmZm5PwAAAAAAAMA/NDMzMzMzwz9nZmZmZmbGP5qZmZmZmck/zczMzMzMzD8AAAAAAADQP5qZmZmZmdE/NDMzMzMz0z/NzMzMzMzUP2dmZmZmZtY/AAAAAAAA2D+amZmZmZnZPzQzMzMzM9s/zczMzMzM3D9nZmZmZmbePwAAAAAAAOA/zczMzMzM4D+amZmZmZnhP2dmZmZmZuI/NDMzMzMz4z8AAAAAAADkP83MzMzMzOQ/mpmZmZmZ5T9nZmZmZmbmPzQzMzMzM+c/AAAAAAAA6D/NzMzMzMzoP5qZmZmZmek/Z2ZmZmZm6j80MzMzMzPrPwAAAAAAAOw/zczMzMzM7D+amZmZmZntP2dmZmZmZu4/NDMzMzMz7z8AAAAAAADwP2dmZmZmZvA/zczMzMzM8D8zMzMzMzPxP5qZmZmZmfE/AAAAAAAA8j9nZmZmZmbyP83MzMzMzPI/NDMzMzMz8z+amZmZmZnzPwAAAAAAAPQ/Z2ZmZmZm9D/NzMzMzMz0PzQzMzMzM/U/mpmZmZmZ9T8AAAAAAAD2P2dmZmZmZvY/zczMzMzM9j80MzMzMzP3P5qZmZmZmfc/AAAAAAAA+D9nZmZmZmb4P83MzMzMzPg/NDMzMzMz+T+amZmZmZn5PwAAAAAAAPo/Z2ZmZmZm+j/NzMzMzMz6PzQzMzMzM/s/mpmZmZmZ+z8AAAAAAAD8P2dmZmZmZvw/zczMzMzM/D80MzMzMzP9P5qZmZmZmf0/AAAAAAAA/j9nZmZmZmb+P83MzMzMzP4/NDMzMzMz/z+amZmZmZn/PwAAAAAAAABA",
            "dtype": "f8"
           },
           "xaxis": "x",
           "y": {
            "bdata": "AAAAAAAA8D8AAAAAAADwPwAAAAAAAPA/AAAAAAAA8D8AAAAAAADwPwAAAAAAAPA/AAAAAAAA8D8AAAAAAADwPwAAAAAAAPA/AAAAAAAA8D8AAAAAAADwPwAAAAAAAPA/AAAAAAAA8D8AAAAAAADwPwAAAAAAAPA/AAAAAAAA8D8AAAAAAADwPwAAAAAAAPA/AAAAAAAA8D8AAAAAAADwPwAAAAAAAPA/AAAAAAAA8D8AAAAAAADwPwAAAAAAAPA/AAAAAAAA8D8AAAAAAADwPwAAAAAAAPA/AAAAAAAA8D8AAAAAAADwPwAAAAAAAPA/AAAAAAAA8D8AAAAAAADwPwAAAAAAAPA/AAAAAAAA8D8AAAAAAADwPwAAAAAAAPA/AAAAAAAA8D8AAAAAAADwPwAAAAAAAPA/AAAAAAAA8D8AAAAAAADwPwAAAAAAAABAAAAAAAAAAEAAAAAAAAAAQAAAAAAAAABAAAAAAAAAAEAAAAAAAAAAQAAAAAAAAABAAAAAAAAAAEAAAAAAAAAAQAAAAAAAAABAAAAAAAAAAEAAAAAAAAAAQAAAAAAAAABAAAAAAAAAAEAAAAAAAAAAQAAAAAAAAABAAAAAAAAAAEAAAAAAAAAAQAAAAAAAAABAAAAAAAAAAEAAAAAAAAAAQAAAAAAAAPA/AAAAAAAA8D8AAAAAAADwPwAAAAAAAPA/AAAAAAAA8D8AAAAAAADwPwAAAAAAAPA/AAAAAAAA8D8AAAAAAADwPwAAAAAAAPA/AAAAAAAA8D8AAAAAAADwPwAAAAAAAPA/AAAAAAAA8D8AAAAAAADwPwAAAAAAAPA/AAAAAAAA8D8AAAAAAADwPwAAAAAAAPA/",
            "dtype": "f8"
           },
           "yaxis": "y"
          }
         ],
         "name": "21"
        },
        {
         "data": [
          {
           "hovertemplate": "variable=22<br>x=%{x}<br>value=%{y}<extra></extra>",
           "legendgroup": "",
           "line": {
            "color": "#636efa",
            "dash": "solid"
           },
           "marker": {
            "symbol": "circle"
           },
           "mode": "lines",
           "name": "",
           "orientation": "v",
           "showlegend": false,
           "type": "scatter",
           "x": {
            "bdata": "AAAAAAAAAACamZmZmZmZP5qZmZmZmak/NDMzMzMzsz+amZmZmZm5PwAAAAAAAMA/NDMzMzMzwz9nZmZmZmbGP5qZmZmZmck/zczMzMzMzD8AAAAAAADQP5qZmZmZmdE/NDMzMzMz0z/NzMzMzMzUP2dmZmZmZtY/AAAAAAAA2D+amZmZmZnZPzQzMzMzM9s/zczMzMzM3D9nZmZmZmbePwAAAAAAAOA/zczMzMzM4D+amZmZmZnhP2dmZmZmZuI/NDMzMzMz4z8AAAAAAADkP83MzMzMzOQ/mpmZmZmZ5T9nZmZmZmbmPzQzMzMzM+c/AAAAAAAA6D/NzMzMzMzoP5qZmZmZmek/Z2ZmZmZm6j80MzMzMzPrPwAAAAAAAOw/zczMzMzM7D+amZmZmZntP2dmZmZmZu4/NDMzMzMz7z8AAAAAAADwP2dmZmZmZvA/zczMzMzM8D8zMzMzMzPxP5qZmZmZmfE/AAAAAAAA8j9nZmZmZmbyP83MzMzMzPI/NDMzMzMz8z+amZmZmZnzPwAAAAAAAPQ/Z2ZmZmZm9D/NzMzMzMz0PzQzMzMzM/U/mpmZmZmZ9T8AAAAAAAD2P2dmZmZmZvY/zczMzMzM9j80MzMzMzP3P5qZmZmZmfc/AAAAAAAA+D9nZmZmZmb4P83MzMzMzPg/NDMzMzMz+T+amZmZmZn5PwAAAAAAAPo/Z2ZmZmZm+j/NzMzMzMz6PzQzMzMzM/s/mpmZmZmZ+z8AAAAAAAD8P2dmZmZmZvw/zczMzMzM/D80MzMzMzP9P5qZmZmZmf0/AAAAAAAA/j9nZmZmZmb+P83MzMzMzP4/NDMzMzMz/z+amZmZmZn/PwAAAAAAAABA",
            "dtype": "f8"
           },
           "xaxis": "x",
           "y": {
            "bdata": "AAAAAAAA8D8AAAAAAADwPwAAAAAAAPA/AAAAAAAA8D8AAAAAAADwPwAAAAAAAPA/AAAAAAAA8D8AAAAAAADwPwAAAAAAAPA/AAAAAAAA8D8AAAAAAADwPwAAAAAAAPA/AAAAAAAA8D8AAAAAAADwPwAAAAAAAPA/AAAAAAAA8D8AAAAAAADwPwAAAAAAAPA/AAAAAAAA8D8AAAAAAADwPwAAAAAAAPA/AAAAAAAA8D8AAAAAAADwPwAAAAAAAPA/AAAAAAAA8D8AAAAAAADwPwAAAAAAAPA/AAAAAAAA8D8AAAAAAADwPwAAAAAAAPA/AAAAAAAA8D8AAAAAAADwPwAAAAAAAPA/AAAAAAAA8D8AAAAAAADwPwAAAAAAAPA/AAAAAAAA8D8AAAAAAADwPwAAAAAAAPA/AAAAAAAA8D8AAAAAAADwPwAAAAAAAPA/AAAAAAAAAEAAAAAAAAAAQAAAAAAAAABAAAAAAAAAAEAAAAAAAAAAQAAAAAAAAABAAAAAAAAAAEAAAAAAAAAAQAAAAAAAAABAAAAAAAAAAEAAAAAAAAAAQAAAAAAAAABAAAAAAAAAAEAAAAAAAAAAQAAAAAAAAABAAAAAAAAAAEAAAAAAAAAAQAAAAAAAAABAAAAAAAAAAEAAAAAAAAAAQAAAAAAAAABAAAAAAAAA8D8AAAAAAADwPwAAAAAAAPA/AAAAAAAA8D8AAAAAAADwPwAAAAAAAPA/AAAAAAAA8D8AAAAAAADwPwAAAAAAAPA/AAAAAAAA8D8AAAAAAADwPwAAAAAAAPA/AAAAAAAA8D8AAAAAAADwPwAAAAAAAPA/AAAAAAAA8D8AAAAAAADwPwAAAAAAAPA/",
            "dtype": "f8"
           },
           "yaxis": "y"
          }
         ],
         "name": "22"
        },
        {
         "data": [
          {
           "hovertemplate": "variable=23<br>x=%{x}<br>value=%{y}<extra></extra>",
           "legendgroup": "",
           "line": {
            "color": "#636efa",
            "dash": "solid"
           },
           "marker": {
            "symbol": "circle"
           },
           "mode": "lines",
           "name": "",
           "orientation": "v",
           "showlegend": false,
           "type": "scatter",
           "x": {
            "bdata": "AAAAAAAAAACamZmZmZmZP5qZmZmZmak/NDMzMzMzsz+amZmZmZm5PwAAAAAAAMA/NDMzMzMzwz9nZmZmZmbGP5qZmZmZmck/zczMzMzMzD8AAAAAAADQP5qZmZmZmdE/NDMzMzMz0z/NzMzMzMzUP2dmZmZmZtY/AAAAAAAA2D+amZmZmZnZPzQzMzMzM9s/zczMzMzM3D9nZmZmZmbePwAAAAAAAOA/zczMzMzM4D+amZmZmZnhP2dmZmZmZuI/NDMzMzMz4z8AAAAAAADkP83MzMzMzOQ/mpmZmZmZ5T9nZmZmZmbmPzQzMzMzM+c/AAAAAAAA6D/NzMzMzMzoP5qZmZmZmek/Z2ZmZmZm6j80MzMzMzPrPwAAAAAAAOw/zczMzMzM7D+amZmZmZntP2dmZmZmZu4/NDMzMzMz7z8AAAAAAADwP2dmZmZmZvA/zczMzMzM8D8zMzMzMzPxP5qZmZmZmfE/AAAAAAAA8j9nZmZmZmbyP83MzMzMzPI/NDMzMzMz8z+amZmZmZnzPwAAAAAAAPQ/Z2ZmZmZm9D/NzMzMzMz0PzQzMzMzM/U/mpmZmZmZ9T8AAAAAAAD2P2dmZmZmZvY/zczMzMzM9j80MzMzMzP3P5qZmZmZmfc/AAAAAAAA+D9nZmZmZmb4P83MzMzMzPg/NDMzMzMz+T+amZmZmZn5PwAAAAAAAPo/Z2ZmZmZm+j/NzMzMzMz6PzQzMzMzM/s/mpmZmZmZ+z8AAAAAAAD8P2dmZmZmZvw/zczMzMzM/D80MzMzMzP9P5qZmZmZmf0/AAAAAAAA/j9nZmZmZmb+P83MzMzMzP4/NDMzMzMz/z+amZmZmZn/PwAAAAAAAABA",
            "dtype": "f8"
           },
           "xaxis": "x",
           "y": {
            "bdata": "AAAAAAAA8D8AAAAAAADwPwAAAAAAAPA/AAAAAAAA8D8AAAAAAADwPwAAAAAAAPA/AAAAAAAA8D8AAAAAAADwPwAAAAAAAPA/AAAAAAAA8D8AAAAAAADwPwAAAAAAAPA/AAAAAAAA8D8AAAAAAADwPwAAAAAAAPA/AAAAAAAA8D8AAAAAAADwPwAAAAAAAPA/AAAAAAAA8D8AAAAAAADwPwAAAAAAAPA/AAAAAAAA8D8AAAAAAADwPwAAAAAAAPA/AAAAAAAA8D8AAAAAAADwPwAAAAAAAPA/AAAAAAAA8D8AAAAAAADwPwAAAAAAAPA/AAAAAAAA8D8AAAAAAADwPwAAAAAAAPA/AAAAAAAA8D8AAAAAAADwPwAAAAAAAPA/AAAAAAAA8D8AAAAAAADwPwAAAAAAAPA/AAAAAAAA8D8AAAAAAADwPwAAAAAAAPA/AAAAAAAA8D8AAAAAAAAAQAAAAAAAAABAAAAAAAAAAEAAAAAAAAAAQAAAAAAAAABAAAAAAAAAAEAAAAAAAAAAQAAAAAAAAABAAAAAAAAAAEAAAAAAAAAAQAAAAAAAAABAAAAAAAAAAEAAAAAAAAAAQAAAAAAAAABAAAAAAAAAAEAAAAAAAAAAQAAAAAAAAABAAAAAAAAAAEAAAAAAAAAAQAAAAAAAAABAAAAAAAAAAEAAAAAAAADwPwAAAAAAAPA/AAAAAAAA8D8AAAAAAADwPwAAAAAAAPA/AAAAAAAA8D8AAAAAAADwPwAAAAAAAPA/AAAAAAAA8D8AAAAAAADwPwAAAAAAAPA/AAAAAAAA8D8AAAAAAADwPwAAAAAAAPA/AAAAAAAA8D8AAAAAAADwPwAAAAAAAPA/",
            "dtype": "f8"
           },
           "yaxis": "y"
          }
         ],
         "name": "23"
        },
        {
         "data": [
          {
           "hovertemplate": "variable=24<br>x=%{x}<br>value=%{y}<extra></extra>",
           "legendgroup": "",
           "line": {
            "color": "#636efa",
            "dash": "solid"
           },
           "marker": {
            "symbol": "circle"
           },
           "mode": "lines",
           "name": "",
           "orientation": "v",
           "showlegend": false,
           "type": "scatter",
           "x": {
            "bdata": "AAAAAAAAAACamZmZmZmZP5qZmZmZmak/NDMzMzMzsz+amZmZmZm5PwAAAAAAAMA/NDMzMzMzwz9nZmZmZmbGP5qZmZmZmck/zczMzMzMzD8AAAAAAADQP5qZmZmZmdE/NDMzMzMz0z/NzMzMzMzUP2dmZmZmZtY/AAAAAAAA2D+amZmZmZnZPzQzMzMzM9s/zczMzMzM3D9nZmZmZmbePwAAAAAAAOA/zczMzMzM4D+amZmZmZnhP2dmZmZmZuI/NDMzMzMz4z8AAAAAAADkP83MzMzMzOQ/mpmZmZmZ5T9nZmZmZmbmPzQzMzMzM+c/AAAAAAAA6D/NzMzMzMzoP5qZmZmZmek/Z2ZmZmZm6j80MzMzMzPrPwAAAAAAAOw/zczMzMzM7D+amZmZmZntP2dmZmZmZu4/NDMzMzMz7z8AAAAAAADwP2dmZmZmZvA/zczMzMzM8D8zMzMzMzPxP5qZmZmZmfE/AAAAAAAA8j9nZmZmZmbyP83MzMzMzPI/NDMzMzMz8z+amZmZmZnzPwAAAAAAAPQ/Z2ZmZmZm9D/NzMzMzMz0PzQzMzMzM/U/mpmZmZmZ9T8AAAAAAAD2P2dmZmZmZvY/zczMzMzM9j80MzMzMzP3P5qZmZmZmfc/AAAAAAAA+D9nZmZmZmb4P83MzMzMzPg/NDMzMzMz+T+amZmZmZn5PwAAAAAAAPo/Z2ZmZmZm+j/NzMzMzMz6PzQzMzMzM/s/mpmZmZmZ+z8AAAAAAAD8P2dmZmZmZvw/zczMzMzM/D80MzMzMzP9P5qZmZmZmf0/AAAAAAAA/j9nZmZmZmb+P83MzMzMzP4/NDMzMzMz/z+amZmZmZn/PwAAAAAAAABA",
            "dtype": "f8"
           },
           "xaxis": "x",
           "y": {
            "bdata": "AAAAAAAA8D8AAAAAAADwPwAAAAAAAPA/AAAAAAAA8D8AAAAAAADwPwAAAAAAAPA/AAAAAAAA8D8AAAAAAADwPwAAAAAAAPA/AAAAAAAA8D8AAAAAAADwPwAAAAAAAPA/AAAAAAAA8D8AAAAAAADwPwAAAAAAAPA/AAAAAAAA8D8AAAAAAADwPwAAAAAAAPA/AAAAAAAA8D8AAAAAAADwPwAAAAAAAPA/AAAAAAAA8D8AAAAAAADwPwAAAAAAAPA/AAAAAAAA8D8AAAAAAADwPwAAAAAAAPA/AAAAAAAA8D8AAAAAAADwPwAAAAAAAPA/AAAAAAAA8D8AAAAAAADwPwAAAAAAAPA/AAAAAAAA8D8AAAAAAADwPwAAAAAAAPA/AAAAAAAA8D8AAAAAAADwPwAAAAAAAPA/AAAAAAAA8D8AAAAAAADwPwAAAAAAAPA/AAAAAAAA8D8AAAAAAADwPwAAAAAAAABAAAAAAAAAAEAAAAAAAAAAQAAAAAAAAABAAAAAAAAAAEAAAAAAAAAAQAAAAAAAAABAAAAAAAAAAEAAAAAAAAAAQAAAAAAAAABAAAAAAAAAAEAAAAAAAAAAQAAAAAAAAABAAAAAAAAAAEAAAAAAAAAAQAAAAAAAAABAAAAAAAAAAEAAAAAAAAAAQAAAAAAAAABAAAAAAAAAAEAAAAAAAAAAQAAAAAAAAPA/AAAAAAAA8D8AAAAAAADwPwAAAAAAAPA/AAAAAAAA8D8AAAAAAADwPwAAAAAAAPA/AAAAAAAA8D8AAAAAAADwPwAAAAAAAPA/AAAAAAAA8D8AAAAAAADwPwAAAAAAAPA/AAAAAAAA8D8AAAAAAADwPwAAAAAAAPA/",
            "dtype": "f8"
           },
           "yaxis": "y"
          }
         ],
         "name": "24"
        },
        {
         "data": [
          {
           "hovertemplate": "variable=25<br>x=%{x}<br>value=%{y}<extra></extra>",
           "legendgroup": "",
           "line": {
            "color": "#636efa",
            "dash": "solid"
           },
           "marker": {
            "symbol": "circle"
           },
           "mode": "lines",
           "name": "",
           "orientation": "v",
           "showlegend": false,
           "type": "scatter",
           "x": {
            "bdata": "AAAAAAAAAACamZmZmZmZP5qZmZmZmak/NDMzMzMzsz+amZmZmZm5PwAAAAAAAMA/NDMzMzMzwz9nZmZmZmbGP5qZmZmZmck/zczMzMzMzD8AAAAAAADQP5qZmZmZmdE/NDMzMzMz0z/NzMzMzMzUP2dmZmZmZtY/AAAAAAAA2D+amZmZmZnZPzQzMzMzM9s/zczMzMzM3D9nZmZmZmbePwAAAAAAAOA/zczMzMzM4D+amZmZmZnhP2dmZmZmZuI/NDMzMzMz4z8AAAAAAADkP83MzMzMzOQ/mpmZmZmZ5T9nZmZmZmbmPzQzMzMzM+c/AAAAAAAA6D/NzMzMzMzoP5qZmZmZmek/Z2ZmZmZm6j80MzMzMzPrPwAAAAAAAOw/zczMzMzM7D+amZmZmZntP2dmZmZmZu4/NDMzMzMz7z8AAAAAAADwP2dmZmZmZvA/zczMzMzM8D8zMzMzMzPxP5qZmZmZmfE/AAAAAAAA8j9nZmZmZmbyP83MzMzMzPI/NDMzMzMz8z+amZmZmZnzPwAAAAAAAPQ/Z2ZmZmZm9D/NzMzMzMz0PzQzMzMzM/U/mpmZmZmZ9T8AAAAAAAD2P2dmZmZmZvY/zczMzMzM9j80MzMzMzP3P5qZmZmZmfc/AAAAAAAA+D9nZmZmZmb4P83MzMzMzPg/NDMzMzMz+T+amZmZmZn5PwAAAAAAAPo/Z2ZmZmZm+j/NzMzMzMz6PzQzMzMzM/s/mpmZmZmZ+z8AAAAAAAD8P2dmZmZmZvw/zczMzMzM/D80MzMzMzP9P5qZmZmZmf0/AAAAAAAA/j9nZmZmZmb+P83MzMzMzP4/NDMzMzMz/z+amZmZmZn/PwAAAAAAAABA",
            "dtype": "f8"
           },
           "xaxis": "x",
           "y": {
            "bdata": "AAAAAAAA8D8AAAAAAADwPwAAAAAAAPA/AAAAAAAA8D8AAAAAAADwPwAAAAAAAPA/AAAAAAAA8D8AAAAAAADwPwAAAAAAAPA/AAAAAAAA8D8AAAAAAADwPwAAAAAAAPA/AAAAAAAA8D8AAAAAAADwPwAAAAAAAPA/AAAAAAAA8D8AAAAAAADwPwAAAAAAAPA/AAAAAAAA8D8AAAAAAADwPwAAAAAAAPA/AAAAAAAA8D8AAAAAAADwPwAAAAAAAPA/AAAAAAAA8D8AAAAAAADwPwAAAAAAAPA/AAAAAAAA8D8AAAAAAADwPwAAAAAAAPA/AAAAAAAA8D8AAAAAAADwPwAAAAAAAPA/AAAAAAAA8D8AAAAAAADwPwAAAAAAAPA/AAAAAAAA8D8AAAAAAADwPwAAAAAAAPA/AAAAAAAA8D8AAAAAAADwPwAAAAAAAPA/AAAAAAAA8D8AAAAAAADwPwAAAAAAAPA/AAAAAAAAAEAAAAAAAAAAQAAAAAAAAABAAAAAAAAAAEAAAAAAAAAAQAAAAAAAAABAAAAAAAAAAEAAAAAAAAAAQAAAAAAAAABAAAAAAAAAAEAAAAAAAAAAQAAAAAAAAABAAAAAAAAAAEAAAAAAAAAAQAAAAAAAAABAAAAAAAAAAEAAAAAAAAAAQAAAAAAAAABAAAAAAAAAAEAAAAAAAAAAQAAAAAAAAABAAAAAAAAA8D8AAAAAAADwPwAAAAAAAPA/AAAAAAAA8D8AAAAAAADwPwAAAAAAAPA/AAAAAAAA8D8AAAAAAADwPwAAAAAAAPA/AAAAAAAA8D8AAAAAAADwPwAAAAAAAPA/AAAAAAAA8D8AAAAAAADwPwAAAAAAAPA/",
            "dtype": "f8"
           },
           "yaxis": "y"
          }
         ],
         "name": "25"
        }
       ],
       "layout": {
        "legend": {
         "tracegroupgap": 0
        },
        "margin": {
         "t": 60
        },
        "sliders": [
         {
          "active": 0,
          "currentvalue": {
           "prefix": "variable="
          },
          "len": 0.9,
          "pad": {
           "b": 10,
           "t": 60
          },
          "steps": [
           {
            "args": [
             [
              "0"
             ],
             {
              "frame": {
               "duration": 0,
               "redraw": false
              },
              "fromcurrent": true,
              "mode": "immediate",
              "transition": {
               "duration": 0,
               "easing": "linear"
              }
             }
            ],
            "label": "0",
            "method": "animate"
           },
           {
            "args": [
             [
              "1"
             ],
             {
              "frame": {
               "duration": 0,
               "redraw": false
              },
              "fromcurrent": true,
              "mode": "immediate",
              "transition": {
               "duration": 0,
               "easing": "linear"
              }
             }
            ],
            "label": "1",
            "method": "animate"
           },
           {
            "args": [
             [
              "2"
             ],
             {
              "frame": {
               "duration": 0,
               "redraw": false
              },
              "fromcurrent": true,
              "mode": "immediate",
              "transition": {
               "duration": 0,
               "easing": "linear"
              }
             }
            ],
            "label": "2",
            "method": "animate"
           },
           {
            "args": [
             [
              "3"
             ],
             {
              "frame": {
               "duration": 0,
               "redraw": false
              },
              "fromcurrent": true,
              "mode": "immediate",
              "transition": {
               "duration": 0,
               "easing": "linear"
              }
             }
            ],
            "label": "3",
            "method": "animate"
           },
           {
            "args": [
             [
              "4"
             ],
             {
              "frame": {
               "duration": 0,
               "redraw": false
              },
              "fromcurrent": true,
              "mode": "immediate",
              "transition": {
               "duration": 0,
               "easing": "linear"
              }
             }
            ],
            "label": "4",
            "method": "animate"
           },
           {
            "args": [
             [
              "5"
             ],
             {
              "frame": {
               "duration": 0,
               "redraw": false
              },
              "fromcurrent": true,
              "mode": "immediate",
              "transition": {
               "duration": 0,
               "easing": "linear"
              }
             }
            ],
            "label": "5",
            "method": "animate"
           },
           {
            "args": [
             [
              "6"
             ],
             {
              "frame": {
               "duration": 0,
               "redraw": false
              },
              "fromcurrent": true,
              "mode": "immediate",
              "transition": {
               "duration": 0,
               "easing": "linear"
              }
             }
            ],
            "label": "6",
            "method": "animate"
           },
           {
            "args": [
             [
              "7"
             ],
             {
              "frame": {
               "duration": 0,
               "redraw": false
              },
              "fromcurrent": true,
              "mode": "immediate",
              "transition": {
               "duration": 0,
               "easing": "linear"
              }
             }
            ],
            "label": "7",
            "method": "animate"
           },
           {
            "args": [
             [
              "8"
             ],
             {
              "frame": {
               "duration": 0,
               "redraw": false
              },
              "fromcurrent": true,
              "mode": "immediate",
              "transition": {
               "duration": 0,
               "easing": "linear"
              }
             }
            ],
            "label": "8",
            "method": "animate"
           },
           {
            "args": [
             [
              "9"
             ],
             {
              "frame": {
               "duration": 0,
               "redraw": false
              },
              "fromcurrent": true,
              "mode": "immediate",
              "transition": {
               "duration": 0,
               "easing": "linear"
              }
             }
            ],
            "label": "9",
            "method": "animate"
           },
           {
            "args": [
             [
              "10"
             ],
             {
              "frame": {
               "duration": 0,
               "redraw": false
              },
              "fromcurrent": true,
              "mode": "immediate",
              "transition": {
               "duration": 0,
               "easing": "linear"
              }
             }
            ],
            "label": "10",
            "method": "animate"
           },
           {
            "args": [
             [
              "11"
             ],
             {
              "frame": {
               "duration": 0,
               "redraw": false
              },
              "fromcurrent": true,
              "mode": "immediate",
              "transition": {
               "duration": 0,
               "easing": "linear"
              }
             }
            ],
            "label": "11",
            "method": "animate"
           },
           {
            "args": [
             [
              "12"
             ],
             {
              "frame": {
               "duration": 0,
               "redraw": false
              },
              "fromcurrent": true,
              "mode": "immediate",
              "transition": {
               "duration": 0,
               "easing": "linear"
              }
             }
            ],
            "label": "12",
            "method": "animate"
           },
           {
            "args": [
             [
              "13"
             ],
             {
              "frame": {
               "duration": 0,
               "redraw": false
              },
              "fromcurrent": true,
              "mode": "immediate",
              "transition": {
               "duration": 0,
               "easing": "linear"
              }
             }
            ],
            "label": "13",
            "method": "animate"
           },
           {
            "args": [
             [
              "14"
             ],
             {
              "frame": {
               "duration": 0,
               "redraw": false
              },
              "fromcurrent": true,
              "mode": "immediate",
              "transition": {
               "duration": 0,
               "easing": "linear"
              }
             }
            ],
            "label": "14",
            "method": "animate"
           },
           {
            "args": [
             [
              "15"
             ],
             {
              "frame": {
               "duration": 0,
               "redraw": false
              },
              "fromcurrent": true,
              "mode": "immediate",
              "transition": {
               "duration": 0,
               "easing": "linear"
              }
             }
            ],
            "label": "15",
            "method": "animate"
           },
           {
            "args": [
             [
              "16"
             ],
             {
              "frame": {
               "duration": 0,
               "redraw": false
              },
              "fromcurrent": true,
              "mode": "immediate",
              "transition": {
               "duration": 0,
               "easing": "linear"
              }
             }
            ],
            "label": "16",
            "method": "animate"
           },
           {
            "args": [
             [
              "17"
             ],
             {
              "frame": {
               "duration": 0,
               "redraw": false
              },
              "fromcurrent": true,
              "mode": "immediate",
              "transition": {
               "duration": 0,
               "easing": "linear"
              }
             }
            ],
            "label": "17",
            "method": "animate"
           },
           {
            "args": [
             [
              "18"
             ],
             {
              "frame": {
               "duration": 0,
               "redraw": false
              },
              "fromcurrent": true,
              "mode": "immediate",
              "transition": {
               "duration": 0,
               "easing": "linear"
              }
             }
            ],
            "label": "18",
            "method": "animate"
           },
           {
            "args": [
             [
              "19"
             ],
             {
              "frame": {
               "duration": 0,
               "redraw": false
              },
              "fromcurrent": true,
              "mode": "immediate",
              "transition": {
               "duration": 0,
               "easing": "linear"
              }
             }
            ],
            "label": "19",
            "method": "animate"
           },
           {
            "args": [
             [
              "20"
             ],
             {
              "frame": {
               "duration": 0,
               "redraw": false
              },
              "fromcurrent": true,
              "mode": "immediate",
              "transition": {
               "duration": 0,
               "easing": "linear"
              }
             }
            ],
            "label": "20",
            "method": "animate"
           },
           {
            "args": [
             [
              "21"
             ],
             {
              "frame": {
               "duration": 0,
               "redraw": false
              },
              "fromcurrent": true,
              "mode": "immediate",
              "transition": {
               "duration": 0,
               "easing": "linear"
              }
             }
            ],
            "label": "21",
            "method": "animate"
           },
           {
            "args": [
             [
              "22"
             ],
             {
              "frame": {
               "duration": 0,
               "redraw": false
              },
              "fromcurrent": true,
              "mode": "immediate",
              "transition": {
               "duration": 0,
               "easing": "linear"
              }
             }
            ],
            "label": "22",
            "method": "animate"
           },
           {
            "args": [
             [
              "23"
             ],
             {
              "frame": {
               "duration": 0,
               "redraw": false
              },
              "fromcurrent": true,
              "mode": "immediate",
              "transition": {
               "duration": 0,
               "easing": "linear"
              }
             }
            ],
            "label": "23",
            "method": "animate"
           },
           {
            "args": [
             [
              "24"
             ],
             {
              "frame": {
               "duration": 0,
               "redraw": false
              },
              "fromcurrent": true,
              "mode": "immediate",
              "transition": {
               "duration": 0,
               "easing": "linear"
              }
             }
            ],
            "label": "24",
            "method": "animate"
           },
           {
            "args": [
             [
              "25"
             ],
             {
              "frame": {
               "duration": 0,
               "redraw": false
              },
              "fromcurrent": true,
              "mode": "immediate",
              "transition": {
               "duration": 0,
               "easing": "linear"
              }
             }
            ],
            "label": "25",
            "method": "animate"
           }
          ],
          "x": 0.1,
          "xanchor": "left",
          "y": 0,
          "yanchor": "top"
         }
        ],
        "template": {
         "data": {
          "bar": [
           {
            "error_x": {
             "color": "#2a3f5f"
            },
            "error_y": {
             "color": "#2a3f5f"
            },
            "marker": {
             "line": {
              "color": "#E5ECF6",
              "width": 0.5
             },
             "pattern": {
              "fillmode": "overlay",
              "size": 10,
              "solidity": 0.2
             }
            },
            "type": "bar"
           }
          ],
          "barpolar": [
           {
            "marker": {
             "line": {
              "color": "#E5ECF6",
              "width": 0.5
             },
             "pattern": {
              "fillmode": "overlay",
              "size": 10,
              "solidity": 0.2
             }
            },
            "type": "barpolar"
           }
          ],
          "carpet": [
           {
            "aaxis": {
             "endlinecolor": "#2a3f5f",
             "gridcolor": "white",
             "linecolor": "white",
             "minorgridcolor": "white",
             "startlinecolor": "#2a3f5f"
            },
            "baxis": {
             "endlinecolor": "#2a3f5f",
             "gridcolor": "white",
             "linecolor": "white",
             "minorgridcolor": "white",
             "startlinecolor": "#2a3f5f"
            },
            "type": "carpet"
           }
          ],
          "choropleth": [
           {
            "colorbar": {
             "outlinewidth": 0,
             "ticks": ""
            },
            "type": "choropleth"
           }
          ],
          "contour": [
           {
            "colorbar": {
             "outlinewidth": 0,
             "ticks": ""
            },
            "colorscale": [
             [
              0,
              "#0d0887"
             ],
             [
              0.1111111111111111,
              "#46039f"
             ],
             [
              0.2222222222222222,
              "#7201a8"
             ],
             [
              0.3333333333333333,
              "#9c179e"
             ],
             [
              0.4444444444444444,
              "#bd3786"
             ],
             [
              0.5555555555555556,
              "#d8576b"
             ],
             [
              0.6666666666666666,
              "#ed7953"
             ],
             [
              0.7777777777777778,
              "#fb9f3a"
             ],
             [
              0.8888888888888888,
              "#fdca26"
             ],
             [
              1,
              "#f0f921"
             ]
            ],
            "type": "contour"
           }
          ],
          "contourcarpet": [
           {
            "colorbar": {
             "outlinewidth": 0,
             "ticks": ""
            },
            "type": "contourcarpet"
           }
          ],
          "heatmap": [
           {
            "colorbar": {
             "outlinewidth": 0,
             "ticks": ""
            },
            "colorscale": [
             [
              0,
              "#0d0887"
             ],
             [
              0.1111111111111111,
              "#46039f"
             ],
             [
              0.2222222222222222,
              "#7201a8"
             ],
             [
              0.3333333333333333,
              "#9c179e"
             ],
             [
              0.4444444444444444,
              "#bd3786"
             ],
             [
              0.5555555555555556,
              "#d8576b"
             ],
             [
              0.6666666666666666,
              "#ed7953"
             ],
             [
              0.7777777777777778,
              "#fb9f3a"
             ],
             [
              0.8888888888888888,
              "#fdca26"
             ],
             [
              1,
              "#f0f921"
             ]
            ],
            "type": "heatmap"
           }
          ],
          "histogram": [
           {
            "marker": {
             "pattern": {
              "fillmode": "overlay",
              "size": 10,
              "solidity": 0.2
             }
            },
            "type": "histogram"
           }
          ],
          "histogram2d": [
           {
            "colorbar": {
             "outlinewidth": 0,
             "ticks": ""
            },
            "colorscale": [
             [
              0,
              "#0d0887"
             ],
             [
              0.1111111111111111,
              "#46039f"
             ],
             [
              0.2222222222222222,
              "#7201a8"
             ],
             [
              0.3333333333333333,
              "#9c179e"
             ],
             [
              0.4444444444444444,
              "#bd3786"
             ],
             [
              0.5555555555555556,
              "#d8576b"
             ],
             [
              0.6666666666666666,
              "#ed7953"
             ],
             [
              0.7777777777777778,
              "#fb9f3a"
             ],
             [
              0.8888888888888888,
              "#fdca26"
             ],
             [
              1,
              "#f0f921"
             ]
            ],
            "type": "histogram2d"
           }
          ],
          "histogram2dcontour": [
           {
            "colorbar": {
             "outlinewidth": 0,
             "ticks": ""
            },
            "colorscale": [
             [
              0,
              "#0d0887"
             ],
             [
              0.1111111111111111,
              "#46039f"
             ],
             [
              0.2222222222222222,
              "#7201a8"
             ],
             [
              0.3333333333333333,
              "#9c179e"
             ],
             [
              0.4444444444444444,
              "#bd3786"
             ],
             [
              0.5555555555555556,
              "#d8576b"
             ],
             [
              0.6666666666666666,
              "#ed7953"
             ],
             [
              0.7777777777777778,
              "#fb9f3a"
             ],
             [
              0.8888888888888888,
              "#fdca26"
             ],
             [
              1,
              "#f0f921"
             ]
            ],
            "type": "histogram2dcontour"
           }
          ],
          "mesh3d": [
           {
            "colorbar": {
             "outlinewidth": 0,
             "ticks": ""
            },
            "type": "mesh3d"
           }
          ],
          "parcoords": [
           {
            "line": {
             "colorbar": {
              "outlinewidth": 0,
              "ticks": ""
             }
            },
            "type": "parcoords"
           }
          ],
          "pie": [
           {
            "automargin": true,
            "type": "pie"
           }
          ],
          "scatter": [
           {
            "fillpattern": {
             "fillmode": "overlay",
             "size": 10,
             "solidity": 0.2
            },
            "type": "scatter"
           }
          ],
          "scatter3d": [
           {
            "line": {
             "colorbar": {
              "outlinewidth": 0,
              "ticks": ""
             }
            },
            "marker": {
             "colorbar": {
              "outlinewidth": 0,
              "ticks": ""
             }
            },
            "type": "scatter3d"
           }
          ],
          "scattercarpet": [
           {
            "marker": {
             "colorbar": {
              "outlinewidth": 0,
              "ticks": ""
             }
            },
            "type": "scattercarpet"
           }
          ],
          "scattergeo": [
           {
            "marker": {
             "colorbar": {
              "outlinewidth": 0,
              "ticks": ""
             }
            },
            "type": "scattergeo"
           }
          ],
          "scattergl": [
           {
            "marker": {
             "colorbar": {
              "outlinewidth": 0,
              "ticks": ""
             }
            },
            "type": "scattergl"
           }
          ],
          "scattermap": [
           {
            "marker": {
             "colorbar": {
              "outlinewidth": 0,
              "ticks": ""
             }
            },
            "type": "scattermap"
           }
          ],
          "scattermapbox": [
           {
            "marker": {
             "colorbar": {
              "outlinewidth": 0,
              "ticks": ""
             }
            },
            "type": "scattermapbox"
           }
          ],
          "scatterpolar": [
           {
            "marker": {
             "colorbar": {
              "outlinewidth": 0,
              "ticks": ""
             }
            },
            "type": "scatterpolar"
           }
          ],
          "scatterpolargl": [
           {
            "marker": {
             "colorbar": {
              "outlinewidth": 0,
              "ticks": ""
             }
            },
            "type": "scatterpolargl"
           }
          ],
          "scatterternary": [
           {
            "marker": {
             "colorbar": {
              "outlinewidth": 0,
              "ticks": ""
             }
            },
            "type": "scatterternary"
           }
          ],
          "surface": [
           {
            "colorbar": {
             "outlinewidth": 0,
             "ticks": ""
            },
            "colorscale": [
             [
              0,
              "#0d0887"
             ],
             [
              0.1111111111111111,
              "#46039f"
             ],
             [
              0.2222222222222222,
              "#7201a8"
             ],
             [
              0.3333333333333333,
              "#9c179e"
             ],
             [
              0.4444444444444444,
              "#bd3786"
             ],
             [
              0.5555555555555556,
              "#d8576b"
             ],
             [
              0.6666666666666666,
              "#ed7953"
             ],
             [
              0.7777777777777778,
              "#fb9f3a"
             ],
             [
              0.8888888888888888,
              "#fdca26"
             ],
             [
              1,
              "#f0f921"
             ]
            ],
            "type": "surface"
           }
          ],
          "table": [
           {
            "cells": {
             "fill": {
              "color": "#EBF0F8"
             },
             "line": {
              "color": "white"
             }
            },
            "header": {
             "fill": {
              "color": "#C8D4E3"
             },
             "line": {
              "color": "white"
             }
            },
            "type": "table"
           }
          ]
         },
         "layout": {
          "annotationdefaults": {
           "arrowcolor": "#2a3f5f",
           "arrowhead": 0,
           "arrowwidth": 1
          },
          "autotypenumbers": "strict",
          "coloraxis": {
           "colorbar": {
            "outlinewidth": 0,
            "ticks": ""
           }
          },
          "colorscale": {
           "diverging": [
            [
             0,
             "#8e0152"
            ],
            [
             0.1,
             "#c51b7d"
            ],
            [
             0.2,
             "#de77ae"
            ],
            [
             0.3,
             "#f1b6da"
            ],
            [
             0.4,
             "#fde0ef"
            ],
            [
             0.5,
             "#f7f7f7"
            ],
            [
             0.6,
             "#e6f5d0"
            ],
            [
             0.7,
             "#b8e186"
            ],
            [
             0.8,
             "#7fbc41"
            ],
            [
             0.9,
             "#4d9221"
            ],
            [
             1,
             "#276419"
            ]
           ],
           "sequential": [
            [
             0,
             "#0d0887"
            ],
            [
             0.1111111111111111,
             "#46039f"
            ],
            [
             0.2222222222222222,
             "#7201a8"
            ],
            [
             0.3333333333333333,
             "#9c179e"
            ],
            [
             0.4444444444444444,
             "#bd3786"
            ],
            [
             0.5555555555555556,
             "#d8576b"
            ],
            [
             0.6666666666666666,
             "#ed7953"
            ],
            [
             0.7777777777777778,
             "#fb9f3a"
            ],
            [
             0.8888888888888888,
             "#fdca26"
            ],
            [
             1,
             "#f0f921"
            ]
           ],
           "sequentialminus": [
            [
             0,
             "#0d0887"
            ],
            [
             0.1111111111111111,
             "#46039f"
            ],
            [
             0.2222222222222222,
             "#7201a8"
            ],
            [
             0.3333333333333333,
             "#9c179e"
            ],
            [
             0.4444444444444444,
             "#bd3786"
            ],
            [
             0.5555555555555556,
             "#d8576b"
            ],
            [
             0.6666666666666666,
             "#ed7953"
            ],
            [
             0.7777777777777778,
             "#fb9f3a"
            ],
            [
             0.8888888888888888,
             "#fdca26"
            ],
            [
             1,
             "#f0f921"
            ]
           ]
          },
          "colorway": [
           "#636efa",
           "#EF553B",
           "#00cc96",
           "#ab63fa",
           "#FFA15A",
           "#19d3f3",
           "#FF6692",
           "#B6E880",
           "#FF97FF",
           "#FECB52"
          ],
          "font": {
           "color": "#2a3f5f"
          },
          "geo": {
           "bgcolor": "white",
           "lakecolor": "white",
           "landcolor": "#E5ECF6",
           "showlakes": true,
           "showland": true,
           "subunitcolor": "white"
          },
          "hoverlabel": {
           "align": "left"
          },
          "hovermode": "closest",
          "mapbox": {
           "style": "light"
          },
          "paper_bgcolor": "white",
          "plot_bgcolor": "#E5ECF6",
          "polar": {
           "angularaxis": {
            "gridcolor": "white",
            "linecolor": "white",
            "ticks": ""
           },
           "bgcolor": "#E5ECF6",
           "radialaxis": {
            "gridcolor": "white",
            "linecolor": "white",
            "ticks": ""
           }
          },
          "scene": {
           "xaxis": {
            "backgroundcolor": "#E5ECF6",
            "gridcolor": "white",
            "gridwidth": 2,
            "linecolor": "white",
            "showbackground": true,
            "ticks": "",
            "zerolinecolor": "white"
           },
           "yaxis": {
            "backgroundcolor": "#E5ECF6",
            "gridcolor": "white",
            "gridwidth": 2,
            "linecolor": "white",
            "showbackground": true,
            "ticks": "",
            "zerolinecolor": "white"
           },
           "zaxis": {
            "backgroundcolor": "#E5ECF6",
            "gridcolor": "white",
            "gridwidth": 2,
            "linecolor": "white",
            "showbackground": true,
            "ticks": "",
            "zerolinecolor": "white"
           }
          },
          "shapedefaults": {
           "line": {
            "color": "#2a3f5f"
           }
          },
          "ternary": {
           "aaxis": {
            "gridcolor": "white",
            "linecolor": "white",
            "ticks": ""
           },
           "baxis": {
            "gridcolor": "white",
            "linecolor": "white",
            "ticks": ""
           },
           "bgcolor": "#E5ECF6",
           "caxis": {
            "gridcolor": "white",
            "linecolor": "white",
            "ticks": ""
           }
          },
          "title": {
           "x": 0.05
          },
          "xaxis": {
           "automargin": true,
           "gridcolor": "white",
           "linecolor": "white",
           "ticks": "",
           "title": {
            "standoff": 15
           },
           "zerolinecolor": "white",
           "zerolinewidth": 2
          },
          "yaxis": {
           "automargin": true,
           "gridcolor": "white",
           "linecolor": "white",
           "ticks": "",
           "title": {
            "standoff": 15
           },
           "zerolinecolor": "white",
           "zerolinewidth": 2
          }
         }
        },
        "updatemenus": [
         {
          "buttons": [
           {
            "args": [
             null,
             {
              "frame": {
               "duration": 100,
               "redraw": false
              },
              "fromcurrent": true,
              "mode": "immediate",
              "transition": {
               "duration": 0,
               "easing": "linear"
              }
             }
            ],
            "label": "&#9654;",
            "method": "animate"
           },
           {
            "args": [
             [
              null
             ],
             {
              "frame": {
               "duration": 0,
               "redraw": false
              },
              "fromcurrent": true,
              "mode": "immediate",
              "transition": {
               "duration": 0,
               "easing": "linear"
              }
             }
            ],
            "label": "&#9724;",
            "method": "animate"
           }
          ],
          "direction": "left",
          "pad": {
           "r": 10,
           "t": 70
          },
          "showactive": false,
          "type": "buttons",
          "x": 0.1,
          "xanchor": "right",
          "y": 0,
          "yanchor": "top"
         }
        ],
        "xaxis": {
         "anchor": "y",
         "domain": [
          0,
          1
         ],
         "title": {
          "text": "x"
         }
        },
        "yaxis": {
         "anchor": "x",
         "domain": [
          0,
          1
         ],
         "title": {
          "text": "value"
         }
        }
       }
      },
      "text/html": [
       "<div>            <script src=\"https://cdnjs.cloudflare.com/ajax/libs/mathjax/2.7.5/MathJax.js?config=TeX-AMS-MML_SVG\"></script><script type=\"text/javascript\">if (window.MathJax && window.MathJax.Hub && window.MathJax.Hub.Config) {window.MathJax.Hub.Config({SVG: {font: \"STIX-Web\"}});}</script>                <script type=\"text/javascript\">window.PlotlyConfig = {MathJaxConfig: 'local'};</script>\n",
       "        <script charset=\"utf-8\" src=\"https://cdn.plot.ly/plotly-3.0.1.min.js\"></script>                <div id=\"f1cf7d57-ea94-4876-a02a-53e61c8b4fdb\" class=\"plotly-graph-div\" style=\"height:525px; width:100%;\"></div>            <script type=\"text/javascript\">                window.PLOTLYENV=window.PLOTLYENV || {};                                if (document.getElementById(\"f1cf7d57-ea94-4876-a02a-53e61c8b4fdb\")) {                    Plotly.newPlot(                        \"f1cf7d57-ea94-4876-a02a-53e61c8b4fdb\",                        [{\"hovertemplate\":\"variable=0\\u003cbr\\u003ex=%{x}\\u003cbr\\u003evalue=%{y}\\u003cextra\\u003e\\u003c\\u002fextra\\u003e\",\"legendgroup\":\"\",\"line\":{\"color\":\"#636efa\",\"dash\":\"solid\"},\"marker\":{\"symbol\":\"circle\"},\"mode\":\"lines\",\"name\":\"\",\"orientation\":\"v\",\"showlegend\":false,\"x\":{\"dtype\":\"f8\",\"bdata\":\"AAAAAAAAAACamZmZmZmZP5qZmZmZmak\\u002fNDMzMzMzsz+amZmZmZm5PwAAAAAAAMA\\u002fNDMzMzMzwz9nZmZmZmbGP5qZmZmZmck\\u002fzczMzMzMzD8AAAAAAADQP5qZmZmZmdE\\u002fNDMzMzMz0z\\u002fNzMzMzMzUP2dmZmZmZtY\\u002fAAAAAAAA2D+amZmZmZnZPzQzMzMzM9s\\u002fzczMzMzM3D9nZmZmZmbePwAAAAAAAOA\\u002fzczMzMzM4D+amZmZmZnhP2dmZmZmZuI\\u002fNDMzMzMz4z8AAAAAAADkP83MzMzMzOQ\\u002fmpmZmZmZ5T9nZmZmZmbmPzQzMzMzM+c\\u002fAAAAAAAA6D\\u002fNzMzMzMzoP5qZmZmZmek\\u002fZ2ZmZmZm6j80MzMzMzPrPwAAAAAAAOw\\u002fzczMzMzM7D+amZmZmZntP2dmZmZmZu4\\u002fNDMzMzMz7z8AAAAAAADwP2dmZmZmZvA\\u002fzczMzMzM8D8zMzMzMzPxP5qZmZmZmfE\\u002fAAAAAAAA8j9nZmZmZmbyP83MzMzMzPI\\u002fNDMzMzMz8z+amZmZmZnzPwAAAAAAAPQ\\u002fZ2ZmZmZm9D\\u002fNzMzMzMz0PzQzMzMzM\\u002fU\\u002fmpmZmZmZ9T8AAAAAAAD2P2dmZmZmZvY\\u002fzczMzMzM9j80MzMzMzP3P5qZmZmZmfc\\u002fAAAAAAAA+D9nZmZmZmb4P83MzMzMzPg\\u002fNDMzMzMz+T+amZmZmZn5PwAAAAAAAPo\\u002fZ2ZmZmZm+j\\u002fNzMzMzMz6PzQzMzMzM\\u002fs\\u002fmpmZmZmZ+z8AAAAAAAD8P2dmZmZmZvw\\u002fzczMzMzM\\u002fD80MzMzMzP9P5qZmZmZmf0\\u002fAAAAAAAA\\u002fj9nZmZmZmb+P83MzMzMzP4\\u002fNDMzMzMz\\u002fz+amZmZmZn\\u002fPwAAAAAAAABA\"},\"xaxis\":\"x\",\"y\":{\"dtype\":\"f8\",\"bdata\":\"AAAAAAAA8D8AAAAAAADwPwAAAAAAAPA\\u002fAAAAAAAA8D8AAAAAAADwPwAAAAAAAPA\\u002fAAAAAAAA8D8AAAAAAADwPwAAAAAAAPA\\u002fAAAAAAAA8D8AAAAAAADwPwAAAAAAAPA\\u002fAAAAAAAA8D8AAAAAAADwPwAAAAAAAPA\\u002fAAAAAAAA8D8AAAAAAADwPwAAAAAAAPA\\u002fAAAAAAAA8D8AAAAAAADwPwAAAAAAAABAAAAAAAAAAEAAAAAAAAAAQAAAAAAAAABAAAAAAAAAAEAAAAAAAAAAQAAAAAAAAABAAAAAAAAAAEAAAAAAAAAAQAAAAAAAAABAAAAAAAAAAEAAAAAAAAAAQAAAAAAAAABAAAAAAAAAAEAAAAAAAAAAQAAAAAAAAABAAAAAAAAAAEAAAAAAAAAAQAAAAAAAAABAAAAAAAAAAEAAAAAAAAAAQAAAAAAAAPA\\u002fAAAAAAAA8D8AAAAAAADwPwAAAAAAAPA\\u002fAAAAAAAA8D8AAAAAAADwPwAAAAAAAPA\\u002fAAAAAAAA8D8AAAAAAADwPwAAAAAAAPA\\u002fAAAAAAAA8D8AAAAAAADwPwAAAAAAAPA\\u002fAAAAAAAA8D8AAAAAAADwPwAAAAAAAPA\\u002fAAAAAAAA8D8AAAAAAADwPwAAAAAAAPA\\u002fAAAAAAAA8D8AAAAAAADwPwAAAAAAAPA\\u002fAAAAAAAA8D8AAAAAAADwPwAAAAAAAPA\\u002fAAAAAAAA8D8AAAAAAADwPwAAAAAAAPA\\u002fAAAAAAAA8D8AAAAAAADwPwAAAAAAAPA\\u002fAAAAAAAA8D8AAAAAAADwPwAAAAAAAPA\\u002fAAAAAAAA8D8AAAAAAADwPwAAAAAAAPA\\u002fAAAAAAAA8D8AAAAAAADwPwAAAAAAAPA\\u002f\"},\"yaxis\":\"y\",\"type\":\"scatter\"}],                        {\"template\":{\"data\":{\"histogram2dcontour\":[{\"type\":\"histogram2dcontour\",\"colorbar\":{\"outlinewidth\":0,\"ticks\":\"\"},\"colorscale\":[[0.0,\"#0d0887\"],[0.1111111111111111,\"#46039f\"],[0.2222222222222222,\"#7201a8\"],[0.3333333333333333,\"#9c179e\"],[0.4444444444444444,\"#bd3786\"],[0.5555555555555556,\"#d8576b\"],[0.6666666666666666,\"#ed7953\"],[0.7777777777777778,\"#fb9f3a\"],[0.8888888888888888,\"#fdca26\"],[1.0,\"#f0f921\"]]}],\"choropleth\":[{\"type\":\"choropleth\",\"colorbar\":{\"outlinewidth\":0,\"ticks\":\"\"}}],\"histogram2d\":[{\"type\":\"histogram2d\",\"colorbar\":{\"outlinewidth\":0,\"ticks\":\"\"},\"colorscale\":[[0.0,\"#0d0887\"],[0.1111111111111111,\"#46039f\"],[0.2222222222222222,\"#7201a8\"],[0.3333333333333333,\"#9c179e\"],[0.4444444444444444,\"#bd3786\"],[0.5555555555555556,\"#d8576b\"],[0.6666666666666666,\"#ed7953\"],[0.7777777777777778,\"#fb9f3a\"],[0.8888888888888888,\"#fdca26\"],[1.0,\"#f0f921\"]]}],\"heatmap\":[{\"type\":\"heatmap\",\"colorbar\":{\"outlinewidth\":0,\"ticks\":\"\"},\"colorscale\":[[0.0,\"#0d0887\"],[0.1111111111111111,\"#46039f\"],[0.2222222222222222,\"#7201a8\"],[0.3333333333333333,\"#9c179e\"],[0.4444444444444444,\"#bd3786\"],[0.5555555555555556,\"#d8576b\"],[0.6666666666666666,\"#ed7953\"],[0.7777777777777778,\"#fb9f3a\"],[0.8888888888888888,\"#fdca26\"],[1.0,\"#f0f921\"]]}],\"contourcarpet\":[{\"type\":\"contourcarpet\",\"colorbar\":{\"outlinewidth\":0,\"ticks\":\"\"}}],\"contour\":[{\"type\":\"contour\",\"colorbar\":{\"outlinewidth\":0,\"ticks\":\"\"},\"colorscale\":[[0.0,\"#0d0887\"],[0.1111111111111111,\"#46039f\"],[0.2222222222222222,\"#7201a8\"],[0.3333333333333333,\"#9c179e\"],[0.4444444444444444,\"#bd3786\"],[0.5555555555555556,\"#d8576b\"],[0.6666666666666666,\"#ed7953\"],[0.7777777777777778,\"#fb9f3a\"],[0.8888888888888888,\"#fdca26\"],[1.0,\"#f0f921\"]]}],\"surface\":[{\"type\":\"surface\",\"colorbar\":{\"outlinewidth\":0,\"ticks\":\"\"},\"colorscale\":[[0.0,\"#0d0887\"],[0.1111111111111111,\"#46039f\"],[0.2222222222222222,\"#7201a8\"],[0.3333333333333333,\"#9c179e\"],[0.4444444444444444,\"#bd3786\"],[0.5555555555555556,\"#d8576b\"],[0.6666666666666666,\"#ed7953\"],[0.7777777777777778,\"#fb9f3a\"],[0.8888888888888888,\"#fdca26\"],[1.0,\"#f0f921\"]]}],\"mesh3d\":[{\"type\":\"mesh3d\",\"colorbar\":{\"outlinewidth\":0,\"ticks\":\"\"}}],\"scatter\":[{\"fillpattern\":{\"fillmode\":\"overlay\",\"size\":10,\"solidity\":0.2},\"type\":\"scatter\"}],\"parcoords\":[{\"type\":\"parcoords\",\"line\":{\"colorbar\":{\"outlinewidth\":0,\"ticks\":\"\"}}}],\"scatterpolargl\":[{\"type\":\"scatterpolargl\",\"marker\":{\"colorbar\":{\"outlinewidth\":0,\"ticks\":\"\"}}}],\"bar\":[{\"error_x\":{\"color\":\"#2a3f5f\"},\"error_y\":{\"color\":\"#2a3f5f\"},\"marker\":{\"line\":{\"color\":\"#E5ECF6\",\"width\":0.5},\"pattern\":{\"fillmode\":\"overlay\",\"size\":10,\"solidity\":0.2}},\"type\":\"bar\"}],\"scattergeo\":[{\"type\":\"scattergeo\",\"marker\":{\"colorbar\":{\"outlinewidth\":0,\"ticks\":\"\"}}}],\"scatterpolar\":[{\"type\":\"scatterpolar\",\"marker\":{\"colorbar\":{\"outlinewidth\":0,\"ticks\":\"\"}}}],\"histogram\":[{\"marker\":{\"pattern\":{\"fillmode\":\"overlay\",\"size\":10,\"solidity\":0.2}},\"type\":\"histogram\"}],\"scattergl\":[{\"type\":\"scattergl\",\"marker\":{\"colorbar\":{\"outlinewidth\":0,\"ticks\":\"\"}}}],\"scatter3d\":[{\"type\":\"scatter3d\",\"line\":{\"colorbar\":{\"outlinewidth\":0,\"ticks\":\"\"}},\"marker\":{\"colorbar\":{\"outlinewidth\":0,\"ticks\":\"\"}}}],\"scattermap\":[{\"type\":\"scattermap\",\"marker\":{\"colorbar\":{\"outlinewidth\":0,\"ticks\":\"\"}}}],\"scattermapbox\":[{\"type\":\"scattermapbox\",\"marker\":{\"colorbar\":{\"outlinewidth\":0,\"ticks\":\"\"}}}],\"scatterternary\":[{\"type\":\"scatterternary\",\"marker\":{\"colorbar\":{\"outlinewidth\":0,\"ticks\":\"\"}}}],\"scattercarpet\":[{\"type\":\"scattercarpet\",\"marker\":{\"colorbar\":{\"outlinewidth\":0,\"ticks\":\"\"}}}],\"carpet\":[{\"aaxis\":{\"endlinecolor\":\"#2a3f5f\",\"gridcolor\":\"white\",\"linecolor\":\"white\",\"minorgridcolor\":\"white\",\"startlinecolor\":\"#2a3f5f\"},\"baxis\":{\"endlinecolor\":\"#2a3f5f\",\"gridcolor\":\"white\",\"linecolor\":\"white\",\"minorgridcolor\":\"white\",\"startlinecolor\":\"#2a3f5f\"},\"type\":\"carpet\"}],\"table\":[{\"cells\":{\"fill\":{\"color\":\"#EBF0F8\"},\"line\":{\"color\":\"white\"}},\"header\":{\"fill\":{\"color\":\"#C8D4E3\"},\"line\":{\"color\":\"white\"}},\"type\":\"table\"}],\"barpolar\":[{\"marker\":{\"line\":{\"color\":\"#E5ECF6\",\"width\":0.5},\"pattern\":{\"fillmode\":\"overlay\",\"size\":10,\"solidity\":0.2}},\"type\":\"barpolar\"}],\"pie\":[{\"automargin\":true,\"type\":\"pie\"}]},\"layout\":{\"autotypenumbers\":\"strict\",\"colorway\":[\"#636efa\",\"#EF553B\",\"#00cc96\",\"#ab63fa\",\"#FFA15A\",\"#19d3f3\",\"#FF6692\",\"#B6E880\",\"#FF97FF\",\"#FECB52\"],\"font\":{\"color\":\"#2a3f5f\"},\"hovermode\":\"closest\",\"hoverlabel\":{\"align\":\"left\"},\"paper_bgcolor\":\"white\",\"plot_bgcolor\":\"#E5ECF6\",\"polar\":{\"bgcolor\":\"#E5ECF6\",\"angularaxis\":{\"gridcolor\":\"white\",\"linecolor\":\"white\",\"ticks\":\"\"},\"radialaxis\":{\"gridcolor\":\"white\",\"linecolor\":\"white\",\"ticks\":\"\"}},\"ternary\":{\"bgcolor\":\"#E5ECF6\",\"aaxis\":{\"gridcolor\":\"white\",\"linecolor\":\"white\",\"ticks\":\"\"},\"baxis\":{\"gridcolor\":\"white\",\"linecolor\":\"white\",\"ticks\":\"\"},\"caxis\":{\"gridcolor\":\"white\",\"linecolor\":\"white\",\"ticks\":\"\"}},\"coloraxis\":{\"colorbar\":{\"outlinewidth\":0,\"ticks\":\"\"}},\"colorscale\":{\"sequential\":[[0.0,\"#0d0887\"],[0.1111111111111111,\"#46039f\"],[0.2222222222222222,\"#7201a8\"],[0.3333333333333333,\"#9c179e\"],[0.4444444444444444,\"#bd3786\"],[0.5555555555555556,\"#d8576b\"],[0.6666666666666666,\"#ed7953\"],[0.7777777777777778,\"#fb9f3a\"],[0.8888888888888888,\"#fdca26\"],[1.0,\"#f0f921\"]],\"sequentialminus\":[[0.0,\"#0d0887\"],[0.1111111111111111,\"#46039f\"],[0.2222222222222222,\"#7201a8\"],[0.3333333333333333,\"#9c179e\"],[0.4444444444444444,\"#bd3786\"],[0.5555555555555556,\"#d8576b\"],[0.6666666666666666,\"#ed7953\"],[0.7777777777777778,\"#fb9f3a\"],[0.8888888888888888,\"#fdca26\"],[1.0,\"#f0f921\"]],\"diverging\":[[0,\"#8e0152\"],[0.1,\"#c51b7d\"],[0.2,\"#de77ae\"],[0.3,\"#f1b6da\"],[0.4,\"#fde0ef\"],[0.5,\"#f7f7f7\"],[0.6,\"#e6f5d0\"],[0.7,\"#b8e186\"],[0.8,\"#7fbc41\"],[0.9,\"#4d9221\"],[1,\"#276419\"]]},\"xaxis\":{\"gridcolor\":\"white\",\"linecolor\":\"white\",\"ticks\":\"\",\"title\":{\"standoff\":15},\"zerolinecolor\":\"white\",\"automargin\":true,\"zerolinewidth\":2},\"yaxis\":{\"gridcolor\":\"white\",\"linecolor\":\"white\",\"ticks\":\"\",\"title\":{\"standoff\":15},\"zerolinecolor\":\"white\",\"automargin\":true,\"zerolinewidth\":2},\"scene\":{\"xaxis\":{\"backgroundcolor\":\"#E5ECF6\",\"gridcolor\":\"white\",\"linecolor\":\"white\",\"showbackground\":true,\"ticks\":\"\",\"zerolinecolor\":\"white\",\"gridwidth\":2},\"yaxis\":{\"backgroundcolor\":\"#E5ECF6\",\"gridcolor\":\"white\",\"linecolor\":\"white\",\"showbackground\":true,\"ticks\":\"\",\"zerolinecolor\":\"white\",\"gridwidth\":2},\"zaxis\":{\"backgroundcolor\":\"#E5ECF6\",\"gridcolor\":\"white\",\"linecolor\":\"white\",\"showbackground\":true,\"ticks\":\"\",\"zerolinecolor\":\"white\",\"gridwidth\":2}},\"shapedefaults\":{\"line\":{\"color\":\"#2a3f5f\"}},\"annotationdefaults\":{\"arrowcolor\":\"#2a3f5f\",\"arrowhead\":0,\"arrowwidth\":1},\"geo\":{\"bgcolor\":\"white\",\"landcolor\":\"#E5ECF6\",\"subunitcolor\":\"white\",\"showland\":true,\"showlakes\":true,\"lakecolor\":\"white\"},\"title\":{\"x\":0.05},\"mapbox\":{\"style\":\"light\"}}},\"xaxis\":{\"anchor\":\"y\",\"domain\":[0.0,1.0],\"title\":{\"text\":\"x\"}},\"yaxis\":{\"anchor\":\"x\",\"domain\":[0.0,1.0],\"title\":{\"text\":\"value\"}},\"legend\":{\"tracegroupgap\":0},\"margin\":{\"t\":60},\"updatemenus\":[{\"buttons\":[{\"args\":[null,{\"frame\":{\"duration\":100,\"redraw\":false},\"mode\":\"immediate\",\"fromcurrent\":true,\"transition\":{\"duration\":0,\"easing\":\"linear\"}}],\"label\":\"&#9654;\",\"method\":\"animate\"},{\"args\":[[null],{\"frame\":{\"duration\":0,\"redraw\":false},\"mode\":\"immediate\",\"fromcurrent\":true,\"transition\":{\"duration\":0,\"easing\":\"linear\"}}],\"label\":\"&#9724;\",\"method\":\"animate\"}],\"direction\":\"left\",\"pad\":{\"r\":10,\"t\":70},\"showactive\":false,\"type\":\"buttons\",\"x\":0.1,\"xanchor\":\"right\",\"y\":0,\"yanchor\":\"top\"}],\"sliders\":[{\"active\":0,\"currentvalue\":{\"prefix\":\"variable=\"},\"len\":0.9,\"pad\":{\"b\":10,\"t\":60},\"steps\":[{\"args\":[[\"0\"],{\"frame\":{\"duration\":0,\"redraw\":false},\"mode\":\"immediate\",\"fromcurrent\":true,\"transition\":{\"duration\":0,\"easing\":\"linear\"}}],\"label\":\"0\",\"method\":\"animate\"},{\"args\":[[\"1\"],{\"frame\":{\"duration\":0,\"redraw\":false},\"mode\":\"immediate\",\"fromcurrent\":true,\"transition\":{\"duration\":0,\"easing\":\"linear\"}}],\"label\":\"1\",\"method\":\"animate\"},{\"args\":[[\"2\"],{\"frame\":{\"duration\":0,\"redraw\":false},\"mode\":\"immediate\",\"fromcurrent\":true,\"transition\":{\"duration\":0,\"easing\":\"linear\"}}],\"label\":\"2\",\"method\":\"animate\"},{\"args\":[[\"3\"],{\"frame\":{\"duration\":0,\"redraw\":false},\"mode\":\"immediate\",\"fromcurrent\":true,\"transition\":{\"duration\":0,\"easing\":\"linear\"}}],\"label\":\"3\",\"method\":\"animate\"},{\"args\":[[\"4\"],{\"frame\":{\"duration\":0,\"redraw\":false},\"mode\":\"immediate\",\"fromcurrent\":true,\"transition\":{\"duration\":0,\"easing\":\"linear\"}}],\"label\":\"4\",\"method\":\"animate\"},{\"args\":[[\"5\"],{\"frame\":{\"duration\":0,\"redraw\":false},\"mode\":\"immediate\",\"fromcurrent\":true,\"transition\":{\"duration\":0,\"easing\":\"linear\"}}],\"label\":\"5\",\"method\":\"animate\"},{\"args\":[[\"6\"],{\"frame\":{\"duration\":0,\"redraw\":false},\"mode\":\"immediate\",\"fromcurrent\":true,\"transition\":{\"duration\":0,\"easing\":\"linear\"}}],\"label\":\"6\",\"method\":\"animate\"},{\"args\":[[\"7\"],{\"frame\":{\"duration\":0,\"redraw\":false},\"mode\":\"immediate\",\"fromcurrent\":true,\"transition\":{\"duration\":0,\"easing\":\"linear\"}}],\"label\":\"7\",\"method\":\"animate\"},{\"args\":[[\"8\"],{\"frame\":{\"duration\":0,\"redraw\":false},\"mode\":\"immediate\",\"fromcurrent\":true,\"transition\":{\"duration\":0,\"easing\":\"linear\"}}],\"label\":\"8\",\"method\":\"animate\"},{\"args\":[[\"9\"],{\"frame\":{\"duration\":0,\"redraw\":false},\"mode\":\"immediate\",\"fromcurrent\":true,\"transition\":{\"duration\":0,\"easing\":\"linear\"}}],\"label\":\"9\",\"method\":\"animate\"},{\"args\":[[\"10\"],{\"frame\":{\"duration\":0,\"redraw\":false},\"mode\":\"immediate\",\"fromcurrent\":true,\"transition\":{\"duration\":0,\"easing\":\"linear\"}}],\"label\":\"10\",\"method\":\"animate\"},{\"args\":[[\"11\"],{\"frame\":{\"duration\":0,\"redraw\":false},\"mode\":\"immediate\",\"fromcurrent\":true,\"transition\":{\"duration\":0,\"easing\":\"linear\"}}],\"label\":\"11\",\"method\":\"animate\"},{\"args\":[[\"12\"],{\"frame\":{\"duration\":0,\"redraw\":false},\"mode\":\"immediate\",\"fromcurrent\":true,\"transition\":{\"duration\":0,\"easing\":\"linear\"}}],\"label\":\"12\",\"method\":\"animate\"},{\"args\":[[\"13\"],{\"frame\":{\"duration\":0,\"redraw\":false},\"mode\":\"immediate\",\"fromcurrent\":true,\"transition\":{\"duration\":0,\"easing\":\"linear\"}}],\"label\":\"13\",\"method\":\"animate\"},{\"args\":[[\"14\"],{\"frame\":{\"duration\":0,\"redraw\":false},\"mode\":\"immediate\",\"fromcurrent\":true,\"transition\":{\"duration\":0,\"easing\":\"linear\"}}],\"label\":\"14\",\"method\":\"animate\"},{\"args\":[[\"15\"],{\"frame\":{\"duration\":0,\"redraw\":false},\"mode\":\"immediate\",\"fromcurrent\":true,\"transition\":{\"duration\":0,\"easing\":\"linear\"}}],\"label\":\"15\",\"method\":\"animate\"},{\"args\":[[\"16\"],{\"frame\":{\"duration\":0,\"redraw\":false},\"mode\":\"immediate\",\"fromcurrent\":true,\"transition\":{\"duration\":0,\"easing\":\"linear\"}}],\"label\":\"16\",\"method\":\"animate\"},{\"args\":[[\"17\"],{\"frame\":{\"duration\":0,\"redraw\":false},\"mode\":\"immediate\",\"fromcurrent\":true,\"transition\":{\"duration\":0,\"easing\":\"linear\"}}],\"label\":\"17\",\"method\":\"animate\"},{\"args\":[[\"18\"],{\"frame\":{\"duration\":0,\"redraw\":false},\"mode\":\"immediate\",\"fromcurrent\":true,\"transition\":{\"duration\":0,\"easing\":\"linear\"}}],\"label\":\"18\",\"method\":\"animate\"},{\"args\":[[\"19\"],{\"frame\":{\"duration\":0,\"redraw\":false},\"mode\":\"immediate\",\"fromcurrent\":true,\"transition\":{\"duration\":0,\"easing\":\"linear\"}}],\"label\":\"19\",\"method\":\"animate\"},{\"args\":[[\"20\"],{\"frame\":{\"duration\":0,\"redraw\":false},\"mode\":\"immediate\",\"fromcurrent\":true,\"transition\":{\"duration\":0,\"easing\":\"linear\"}}],\"label\":\"20\",\"method\":\"animate\"},{\"args\":[[\"21\"],{\"frame\":{\"duration\":0,\"redraw\":false},\"mode\":\"immediate\",\"fromcurrent\":true,\"transition\":{\"duration\":0,\"easing\":\"linear\"}}],\"label\":\"21\",\"method\":\"animate\"},{\"args\":[[\"22\"],{\"frame\":{\"duration\":0,\"redraw\":false},\"mode\":\"immediate\",\"fromcurrent\":true,\"transition\":{\"duration\":0,\"easing\":\"linear\"}}],\"label\":\"22\",\"method\":\"animate\"},{\"args\":[[\"23\"],{\"frame\":{\"duration\":0,\"redraw\":false},\"mode\":\"immediate\",\"fromcurrent\":true,\"transition\":{\"duration\":0,\"easing\":\"linear\"}}],\"label\":\"23\",\"method\":\"animate\"},{\"args\":[[\"24\"],{\"frame\":{\"duration\":0,\"redraw\":false},\"mode\":\"immediate\",\"fromcurrent\":true,\"transition\":{\"duration\":0,\"easing\":\"linear\"}}],\"label\":\"24\",\"method\":\"animate\"},{\"args\":[[\"25\"],{\"frame\":{\"duration\":0,\"redraw\":false},\"mode\":\"immediate\",\"fromcurrent\":true,\"transition\":{\"duration\":0,\"easing\":\"linear\"}}],\"label\":\"25\",\"method\":\"animate\"}],\"x\":0.1,\"xanchor\":\"left\",\"y\":0,\"yanchor\":\"top\"}]},                        {\"responsive\": true}                    ).then(function(){\n",
       "                            Plotly.addFrames('f1cf7d57-ea94-4876-a02a-53e61c8b4fdb', [{\"data\":[{\"hovertemplate\":\"variable=0\\u003cbr\\u003ex=%{x}\\u003cbr\\u003evalue=%{y}\\u003cextra\\u003e\\u003c\\u002fextra\\u003e\",\"legendgroup\":\"\",\"line\":{\"color\":\"#636efa\",\"dash\":\"solid\"},\"marker\":{\"symbol\":\"circle\"},\"mode\":\"lines\",\"name\":\"\",\"orientation\":\"v\",\"showlegend\":false,\"x\":{\"dtype\":\"f8\",\"bdata\":\"AAAAAAAAAACamZmZmZmZP5qZmZmZmak\\u002fNDMzMzMzsz+amZmZmZm5PwAAAAAAAMA\\u002fNDMzMzMzwz9nZmZmZmbGP5qZmZmZmck\\u002fzczMzMzMzD8AAAAAAADQP5qZmZmZmdE\\u002fNDMzMzMz0z\\u002fNzMzMzMzUP2dmZmZmZtY\\u002fAAAAAAAA2D+amZmZmZnZPzQzMzMzM9s\\u002fzczMzMzM3D9nZmZmZmbePwAAAAAAAOA\\u002fzczMzMzM4D+amZmZmZnhP2dmZmZmZuI\\u002fNDMzMzMz4z8AAAAAAADkP83MzMzMzOQ\\u002fmpmZmZmZ5T9nZmZmZmbmPzQzMzMzM+c\\u002fAAAAAAAA6D\\u002fNzMzMzMzoP5qZmZmZmek\\u002fZ2ZmZmZm6j80MzMzMzPrPwAAAAAAAOw\\u002fzczMzMzM7D+amZmZmZntP2dmZmZmZu4\\u002fNDMzMzMz7z8AAAAAAADwP2dmZmZmZvA\\u002fzczMzMzM8D8zMzMzMzPxP5qZmZmZmfE\\u002fAAAAAAAA8j9nZmZmZmbyP83MzMzMzPI\\u002fNDMzMzMz8z+amZmZmZnzPwAAAAAAAPQ\\u002fZ2ZmZmZm9D\\u002fNzMzMzMz0PzQzMzMzM\\u002fU\\u002fmpmZmZmZ9T8AAAAAAAD2P2dmZmZmZvY\\u002fzczMzMzM9j80MzMzMzP3P5qZmZmZmfc\\u002fAAAAAAAA+D9nZmZmZmb4P83MzMzMzPg\\u002fNDMzMzMz+T+amZmZmZn5PwAAAAAAAPo\\u002fZ2ZmZmZm+j\\u002fNzMzMzMz6PzQzMzMzM\\u002fs\\u002fmpmZmZmZ+z8AAAAAAAD8P2dmZmZmZvw\\u002fzczMzMzM\\u002fD80MzMzMzP9P5qZmZmZmf0\\u002fAAAAAAAA\\u002fj9nZmZmZmb+P83MzMzMzP4\\u002fNDMzMzMz\\u002fz+amZmZmZn\\u002fPwAAAAAAAABA\"},\"xaxis\":\"x\",\"y\":{\"dtype\":\"f8\",\"bdata\":\"AAAAAAAA8D8AAAAAAADwPwAAAAAAAPA\\u002fAAAAAAAA8D8AAAAAAADwPwAAAAAAAPA\\u002fAAAAAAAA8D8AAAAAAADwPwAAAAAAAPA\\u002fAAAAAAAA8D8AAAAAAADwPwAAAAAAAPA\\u002fAAAAAAAA8D8AAAAAAADwPwAAAAAAAPA\\u002fAAAAAAAA8D8AAAAAAADwPwAAAAAAAPA\\u002fAAAAAAAA8D8AAAAAAADwPwAAAAAAAABAAAAAAAAAAEAAAAAAAAAAQAAAAAAAAABAAAAAAAAAAEAAAAAAAAAAQAAAAAAAAABAAAAAAAAAAEAAAAAAAAAAQAAAAAAAAABAAAAAAAAAAEAAAAAAAAAAQAAAAAAAAABAAAAAAAAAAEAAAAAAAAAAQAAAAAAAAABAAAAAAAAAAEAAAAAAAAAAQAAAAAAAAABAAAAAAAAAAEAAAAAAAAAAQAAAAAAAAPA\\u002fAAAAAAAA8D8AAAAAAADwPwAAAAAAAPA\\u002fAAAAAAAA8D8AAAAAAADwPwAAAAAAAPA\\u002fAAAAAAAA8D8AAAAAAADwPwAAAAAAAPA\\u002fAAAAAAAA8D8AAAAAAADwPwAAAAAAAPA\\u002fAAAAAAAA8D8AAAAAAADwPwAAAAAAAPA\\u002fAAAAAAAA8D8AAAAAAADwPwAAAAAAAPA\\u002fAAAAAAAA8D8AAAAAAADwPwAAAAAAAPA\\u002fAAAAAAAA8D8AAAAAAADwPwAAAAAAAPA\\u002fAAAAAAAA8D8AAAAAAADwPwAAAAAAAPA\\u002fAAAAAAAA8D8AAAAAAADwPwAAAAAAAPA\\u002fAAAAAAAA8D8AAAAAAADwPwAAAAAAAPA\\u002fAAAAAAAA8D8AAAAAAADwPwAAAAAAAPA\\u002fAAAAAAAA8D8AAAAAAADwPwAAAAAAAPA\\u002f\"},\"yaxis\":\"y\",\"type\":\"scatter\"}],\"name\":\"0\"},{\"data\":[{\"hovertemplate\":\"variable=1\\u003cbr\\u003ex=%{x}\\u003cbr\\u003evalue=%{y}\\u003cextra\\u003e\\u003c\\u002fextra\\u003e\",\"legendgroup\":\"\",\"line\":{\"color\":\"#636efa\",\"dash\":\"solid\"},\"marker\":{\"symbol\":\"circle\"},\"mode\":\"lines\",\"name\":\"\",\"orientation\":\"v\",\"showlegend\":false,\"x\":{\"dtype\":\"f8\",\"bdata\":\"AAAAAAAAAACamZmZmZmZP5qZmZmZmak\\u002fNDMzMzMzsz+amZmZmZm5PwAAAAAAAMA\\u002fNDMzMzMzwz9nZmZmZmbGP5qZmZmZmck\\u002fzczMzMzMzD8AAAAAAADQP5qZmZmZmdE\\u002fNDMzMzMz0z\\u002fNzMzMzMzUP2dmZmZmZtY\\u002fAAAAAAAA2D+amZmZmZnZPzQzMzMzM9s\\u002fzczMzMzM3D9nZmZmZmbePwAAAAAAAOA\\u002fzczMzMzM4D+amZmZmZnhP2dmZmZmZuI\\u002fNDMzMzMz4z8AAAAAAADkP83MzMzMzOQ\\u002fmpmZmZmZ5T9nZmZmZmbmPzQzMzMzM+c\\u002fAAAAAAAA6D\\u002fNzMzMzMzoP5qZmZmZmek\\u002fZ2ZmZmZm6j80MzMzMzPrPwAAAAAAAOw\\u002fzczMzMzM7D+amZmZmZntP2dmZmZmZu4\\u002fNDMzMzMz7z8AAAAAAADwP2dmZmZmZvA\\u002fzczMzMzM8D8zMzMzMzPxP5qZmZmZmfE\\u002fAAAAAAAA8j9nZmZmZmbyP83MzMzMzPI\\u002fNDMzMzMz8z+amZmZmZnzPwAAAAAAAPQ\\u002fZ2ZmZmZm9D\\u002fNzMzMzMz0PzQzMzMzM\\u002fU\\u002fmpmZmZmZ9T8AAAAAAAD2P2dmZmZmZvY\\u002fzczMzMzM9j80MzMzMzP3P5qZmZmZmfc\\u002fAAAAAAAA+D9nZmZmZmb4P83MzMzMzPg\\u002fNDMzMzMz+T+amZmZmZn5PwAAAAAAAPo\\u002fZ2ZmZmZm+j\\u002fNzMzMzMz6PzQzMzMzM\\u002fs\\u002fmpmZmZmZ+z8AAAAAAAD8P2dmZmZmZvw\\u002fzczMzMzM\\u002fD80MzMzMzP9P5qZmZmZmf0\\u002fAAAAAAAA\\u002fj9nZmZmZmb+P83MzMzMzP4\\u002fNDMzMzMz\\u002fz+amZmZmZn\\u002fPwAAAAAAAABA\"},\"xaxis\":\"x\",\"y\":{\"dtype\":\"f8\",\"bdata\":\"AAAAAAAA8D8AAAAAAADwPwAAAAAAAPA\\u002fAAAAAAAA8D8AAAAAAADwPwAAAAAAAPA\\u002fAAAAAAAA8D8AAAAAAADwPwAAAAAAAPA\\u002fAAAAAAAA8D8AAAAAAADwPwAAAAAAAPA\\u002fAAAAAAAA8D8AAAAAAADwPwAAAAAAAPA\\u002fAAAAAAAA8D8AAAAAAADwPwAAAAAAAPA\\u002fAAAAAAAA8D8AAAAAAADwPwAAAAAAAPA\\u002fAAAAAAAAAEAAAAAAAAAAQAAAAAAAAABAAAAAAAAAAEAAAAAAAAAAQAAAAAAAAABAAAAAAAAAAEAAAAAAAAAAQAAAAAAAAABAAAAAAAAAAEAAAAAAAAAAQAAAAAAAAABAAAAAAAAAAEAAAAAAAAAAQAAAAAAAAABAAAAAAAAAAEAAAAAAAAAAQAAAAAAAAABAAAAAAAAAAEAAAAAAAAAAQAAAAAAAAABAAAAAAAAA8D8AAAAAAADwPwAAAAAAAPA\\u002fAAAAAAAA8D8AAAAAAADwPwAAAAAAAPA\\u002fAAAAAAAA8D8AAAAAAADwPwAAAAAAAPA\\u002fAAAAAAAA8D8AAAAAAADwPwAAAAAAAPA\\u002fAAAAAAAA8D8AAAAAAADwPwAAAAAAAPA\\u002fAAAAAAAA8D8AAAAAAADwPwAAAAAAAPA\\u002fAAAAAAAA8D8AAAAAAADwPwAAAAAAAPA\\u002fAAAAAAAA8D8AAAAAAADwPwAAAAAAAPA\\u002fAAAAAAAA8D8AAAAAAADwPwAAAAAAAPA\\u002fAAAAAAAA8D8AAAAAAADwPwAAAAAAAPA\\u002fAAAAAAAA8D8AAAAAAADwPwAAAAAAAPA\\u002fAAAAAAAA8D8AAAAAAADwPwAAAAAAAPA\\u002fAAAAAAAA8D8AAAAAAADwPwAAAAAAAPA\\u002f\"},\"yaxis\":\"y\",\"type\":\"scatter\"}],\"name\":\"1\"},{\"data\":[{\"hovertemplate\":\"variable=2\\u003cbr\\u003ex=%{x}\\u003cbr\\u003evalue=%{y}\\u003cextra\\u003e\\u003c\\u002fextra\\u003e\",\"legendgroup\":\"\",\"line\":{\"color\":\"#636efa\",\"dash\":\"solid\"},\"marker\":{\"symbol\":\"circle\"},\"mode\":\"lines\",\"name\":\"\",\"orientation\":\"v\",\"showlegend\":false,\"x\":{\"dtype\":\"f8\",\"bdata\":\"AAAAAAAAAACamZmZmZmZP5qZmZmZmak\\u002fNDMzMzMzsz+amZmZmZm5PwAAAAAAAMA\\u002fNDMzMzMzwz9nZmZmZmbGP5qZmZmZmck\\u002fzczMzMzMzD8AAAAAAADQP5qZmZmZmdE\\u002fNDMzMzMz0z\\u002fNzMzMzMzUP2dmZmZmZtY\\u002fAAAAAAAA2D+amZmZmZnZPzQzMzMzM9s\\u002fzczMzMzM3D9nZmZmZmbePwAAAAAAAOA\\u002fzczMzMzM4D+amZmZmZnhP2dmZmZmZuI\\u002fNDMzMzMz4z8AAAAAAADkP83MzMzMzOQ\\u002fmpmZmZmZ5T9nZmZmZmbmPzQzMzMzM+c\\u002fAAAAAAAA6D\\u002fNzMzMzMzoP5qZmZmZmek\\u002fZ2ZmZmZm6j80MzMzMzPrPwAAAAAAAOw\\u002fzczMzMzM7D+amZmZmZntP2dmZmZmZu4\\u002fNDMzMzMz7z8AAAAAAADwP2dmZmZmZvA\\u002fzczMzMzM8D8zMzMzMzPxP5qZmZmZmfE\\u002fAAAAAAAA8j9nZmZmZmbyP83MzMzMzPI\\u002fNDMzMzMz8z+amZmZmZnzPwAAAAAAAPQ\\u002fZ2ZmZmZm9D\\u002fNzMzMzMz0PzQzMzMzM\\u002fU\\u002fmpmZmZmZ9T8AAAAAAAD2P2dmZmZmZvY\\u002fzczMzMzM9j80MzMzMzP3P5qZmZmZmfc\\u002fAAAAAAAA+D9nZmZmZmb4P83MzMzMzPg\\u002fNDMzMzMz+T+amZmZmZn5PwAAAAAAAPo\\u002fZ2ZmZmZm+j\\u002fNzMzMzMz6PzQzMzMzM\\u002fs\\u002fmpmZmZmZ+z8AAAAAAAD8P2dmZmZmZvw\\u002fzczMzMzM\\u002fD80MzMzMzP9P5qZmZmZmf0\\u002fAAAAAAAA\\u002fj9nZmZmZmb+P83MzMzMzP4\\u002fNDMzMzMz\\u002fz+amZmZmZn\\u002fPwAAAAAAAABA\"},\"xaxis\":\"x\",\"y\":{\"dtype\":\"f8\",\"bdata\":\"AAAAAAAA8D8AAAAAAADwPwAAAAAAAPA\\u002fAAAAAAAA8D8AAAAAAADwPwAAAAAAAPA\\u002fAAAAAAAA8D8AAAAAAADwPwAAAAAAAPA\\u002fAAAAAAAA8D8AAAAAAADwPwAAAAAAAPA\\u002fAAAAAAAA8D8AAAAAAADwPwAAAAAAAPA\\u002fAAAAAAAA8D8AAAAAAADwPwAAAAAAAPA\\u002fAAAAAAAA8D8AAAAAAADwPwAAAAAAAPA\\u002fAAAAAAAA8D8AAAAAAAAAQAAAAAAAAABAAAAAAAAAAEAAAAAAAAAAQAAAAAAAAABAAAAAAAAAAEAAAAAAAAAAQAAAAAAAAABAAAAAAAAAAEAAAAAAAAAAQAAAAAAAAABAAAAAAAAAAEAAAAAAAAAAQAAAAAAAAABAAAAAAAAAAEAAAAAAAAAAQAAAAAAAAABAAAAAAAAAAEAAAAAAAAAAQAAAAAAAAABAAAAAAAAAAEAAAAAAAADwPwAAAAAAAPA\\u002fAAAAAAAA8D8AAAAAAADwPwAAAAAAAPA\\u002fAAAAAAAA8D8AAAAAAADwPwAAAAAAAPA\\u002fAAAAAAAA8D8AAAAAAADwPwAAAAAAAPA\\u002fAAAAAAAA8D8AAAAAAADwPwAAAAAAAPA\\u002fAAAAAAAA8D8AAAAAAADwPwAAAAAAAPA\\u002fAAAAAAAA8D8AAAAAAADwPwAAAAAAAPA\\u002fAAAAAAAA8D8AAAAAAADwPwAAAAAAAPA\\u002fAAAAAAAA8D8AAAAAAADwPwAAAAAAAPA\\u002fAAAAAAAA8D8AAAAAAADwPwAAAAAAAPA\\u002fAAAAAAAA8D8AAAAAAADwPwAAAAAAAPA\\u002fAAAAAAAA8D8AAAAAAADwPwAAAAAAAPA\\u002fAAAAAAAA8D8AAAAAAADwPwAAAAAAAPA\\u002f\"},\"yaxis\":\"y\",\"type\":\"scatter\"}],\"name\":\"2\"},{\"data\":[{\"hovertemplate\":\"variable=3\\u003cbr\\u003ex=%{x}\\u003cbr\\u003evalue=%{y}\\u003cextra\\u003e\\u003c\\u002fextra\\u003e\",\"legendgroup\":\"\",\"line\":{\"color\":\"#636efa\",\"dash\":\"solid\"},\"marker\":{\"symbol\":\"circle\"},\"mode\":\"lines\",\"name\":\"\",\"orientation\":\"v\",\"showlegend\":false,\"x\":{\"dtype\":\"f8\",\"bdata\":\"AAAAAAAAAACamZmZmZmZP5qZmZmZmak\\u002fNDMzMzMzsz+amZmZmZm5PwAAAAAAAMA\\u002fNDMzMzMzwz9nZmZmZmbGP5qZmZmZmck\\u002fzczMzMzMzD8AAAAAAADQP5qZmZmZmdE\\u002fNDMzMzMz0z\\u002fNzMzMzMzUP2dmZmZmZtY\\u002fAAAAAAAA2D+amZmZmZnZPzQzMzMzM9s\\u002fzczMzMzM3D9nZmZmZmbePwAAAAAAAOA\\u002fzczMzMzM4D+amZmZmZnhP2dmZmZmZuI\\u002fNDMzMzMz4z8AAAAAAADkP83MzMzMzOQ\\u002fmpmZmZmZ5T9nZmZmZmbmPzQzMzMzM+c\\u002fAAAAAAAA6D\\u002fNzMzMzMzoP5qZmZmZmek\\u002fZ2ZmZmZm6j80MzMzMzPrPwAAAAAAAOw\\u002fzczMzMzM7D+amZmZmZntP2dmZmZmZu4\\u002fNDMzMzMz7z8AAAAAAADwP2dmZmZmZvA\\u002fzczMzMzM8D8zMzMzMzPxP5qZmZmZmfE\\u002fAAAAAAAA8j9nZmZmZmbyP83MzMzMzPI\\u002fNDMzMzMz8z+amZmZmZnzPwAAAAAAAPQ\\u002fZ2ZmZmZm9D\\u002fNzMzMzMz0PzQzMzMzM\\u002fU\\u002fmpmZmZmZ9T8AAAAAAAD2P2dmZmZmZvY\\u002fzczMzMzM9j80MzMzMzP3P5qZmZmZmfc\\u002fAAAAAAAA+D9nZmZmZmb4P83MzMzMzPg\\u002fNDMzMzMz+T+amZmZmZn5PwAAAAAAAPo\\u002fZ2ZmZmZm+j\\u002fNzMzMzMz6PzQzMzMzM\\u002fs\\u002fmpmZmZmZ+z8AAAAAAAD8P2dmZmZmZvw\\u002fzczMzMzM\\u002fD80MzMzMzP9P5qZmZmZmf0\\u002fAAAAAAAA\\u002fj9nZmZmZmb+P83MzMzMzP4\\u002fNDMzMzMz\\u002fz+amZmZmZn\\u002fPwAAAAAAAABA\"},\"xaxis\":\"x\",\"y\":{\"dtype\":\"f8\",\"bdata\":\"AAAAAAAA8D8AAAAAAADwPwAAAAAAAPA\\u002fAAAAAAAA8D8AAAAAAADwPwAAAAAAAPA\\u002fAAAAAAAA8D8AAAAAAADwPwAAAAAAAPA\\u002fAAAAAAAA8D8AAAAAAADwPwAAAAAAAPA\\u002fAAAAAAAA8D8AAAAAAADwPwAAAAAAAPA\\u002fAAAAAAAA8D8AAAAAAADwPwAAAAAAAPA\\u002fAAAAAAAA8D8AAAAAAADwPwAAAAAAAPA\\u002fAAAAAAAA8D8AAAAAAADwPwAAAAAAAABAAAAAAAAAAEAAAAAAAAAAQAAAAAAAAABAAAAAAAAAAEAAAAAAAAAAQAAAAAAAAABAAAAAAAAAAEAAAAAAAAAAQAAAAAAAAABAAAAAAAAAAEAAAAAAAAAAQAAAAAAAAABAAAAAAAAAAEAAAAAAAAAAQAAAAAAAAABAAAAAAAAAAEAAAAAAAAAAQAAAAAAAAABAAAAAAAAAAEAAAAAAAAAAQAAAAAAAAPA\\u002fAAAAAAAA8D8AAAAAAADwPwAAAAAAAPA\\u002fAAAAAAAA8D8AAAAAAADwPwAAAAAAAPA\\u002fAAAAAAAA8D8AAAAAAADwPwAAAAAAAPA\\u002fAAAAAAAA8D8AAAAAAADwPwAAAAAAAPA\\u002fAAAAAAAA8D8AAAAAAADwPwAAAAAAAPA\\u002fAAAAAAAA8D8AAAAAAADwPwAAAAAAAPA\\u002fAAAAAAAA8D8AAAAAAADwPwAAAAAAAPA\\u002fAAAAAAAA8D8AAAAAAADwPwAAAAAAAPA\\u002fAAAAAAAA8D8AAAAAAADwPwAAAAAAAPA\\u002fAAAAAAAA8D8AAAAAAADwPwAAAAAAAPA\\u002fAAAAAAAA8D8AAAAAAADwPwAAAAAAAPA\\u002fAAAAAAAA8D8AAAAAAADwPwAAAAAAAPA\\u002f\"},\"yaxis\":\"y\",\"type\":\"scatter\"}],\"name\":\"3\"},{\"data\":[{\"hovertemplate\":\"variable=4\\u003cbr\\u003ex=%{x}\\u003cbr\\u003evalue=%{y}\\u003cextra\\u003e\\u003c\\u002fextra\\u003e\",\"legendgroup\":\"\",\"line\":{\"color\":\"#636efa\",\"dash\":\"solid\"},\"marker\":{\"symbol\":\"circle\"},\"mode\":\"lines\",\"name\":\"\",\"orientation\":\"v\",\"showlegend\":false,\"x\":{\"dtype\":\"f8\",\"bdata\":\"AAAAAAAAAACamZmZmZmZP5qZmZmZmak\\u002fNDMzMzMzsz+amZmZmZm5PwAAAAAAAMA\\u002fNDMzMzMzwz9nZmZmZmbGP5qZmZmZmck\\u002fzczMzMzMzD8AAAAAAADQP5qZmZmZmdE\\u002fNDMzMzMz0z\\u002fNzMzMzMzUP2dmZmZmZtY\\u002fAAAAAAAA2D+amZmZmZnZPzQzMzMzM9s\\u002fzczMzMzM3D9nZmZmZmbePwAAAAAAAOA\\u002fzczMzMzM4D+amZmZmZnhP2dmZmZmZuI\\u002fNDMzMzMz4z8AAAAAAADkP83MzMzMzOQ\\u002fmpmZmZmZ5T9nZmZmZmbmPzQzMzMzM+c\\u002fAAAAAAAA6D\\u002fNzMzMzMzoP5qZmZmZmek\\u002fZ2ZmZmZm6j80MzMzMzPrPwAAAAAAAOw\\u002fzczMzMzM7D+amZmZmZntP2dmZmZmZu4\\u002fNDMzMzMz7z8AAAAAAADwP2dmZmZmZvA\\u002fzczMzMzM8D8zMzMzMzPxP5qZmZmZmfE\\u002fAAAAAAAA8j9nZmZmZmbyP83MzMzMzPI\\u002fNDMzMzMz8z+amZmZmZnzPwAAAAAAAPQ\\u002fZ2ZmZmZm9D\\u002fNzMzMzMz0PzQzMzMzM\\u002fU\\u002fmpmZmZmZ9T8AAAAAAAD2P2dmZmZmZvY\\u002fzczMzMzM9j80MzMzMzP3P5qZmZmZmfc\\u002fAAAAAAAA+D9nZmZmZmb4P83MzMzMzPg\\u002fNDMzMzMz+T+amZmZmZn5PwAAAAAAAPo\\u002fZ2ZmZmZm+j\\u002fNzMzMzMz6PzQzMzMzM\\u002fs\\u002fmpmZmZmZ+z8AAAAAAAD8P2dmZmZmZvw\\u002fzczMzMzM\\u002fD80MzMzMzP9P5qZmZmZmf0\\u002fAAAAAAAA\\u002fj9nZmZmZmb+P83MzMzMzP4\\u002fNDMzMzMz\\u002fz+amZmZmZn\\u002fPwAAAAAAAABA\"},\"xaxis\":\"x\",\"y\":{\"dtype\":\"f8\",\"bdata\":\"AAAAAAAA8D8AAAAAAADwPwAAAAAAAPA\\u002fAAAAAAAA8D8AAAAAAADwPwAAAAAAAPA\\u002fAAAAAAAA8D8AAAAAAADwPwAAAAAAAPA\\u002fAAAAAAAA8D8AAAAAAADwPwAAAAAAAPA\\u002fAAAAAAAA8D8AAAAAAADwPwAAAAAAAPA\\u002fAAAAAAAA8D8AAAAAAADwPwAAAAAAAPA\\u002fAAAAAAAA8D8AAAAAAADwPwAAAAAAAPA\\u002fAAAAAAAA8D8AAAAAAADwPwAAAAAAAPA\\u002fAAAAAAAAAEAAAAAAAAAAQAAAAAAAAABAAAAAAAAAAEAAAAAAAAAAQAAAAAAAAABAAAAAAAAAAEAAAAAAAAAAQAAAAAAAAABAAAAAAAAAAEAAAAAAAAAAQAAAAAAAAABAAAAAAAAAAEAAAAAAAAAAQAAAAAAAAABAAAAAAAAAAEAAAAAAAAAAQAAAAAAAAABAAAAAAAAAAEAAAAAAAAAAQAAAAAAAAABAAAAAAAAA8D8AAAAAAADwPwAAAAAAAPA\\u002fAAAAAAAA8D8AAAAAAADwPwAAAAAAAPA\\u002fAAAAAAAA8D8AAAAAAADwPwAAAAAAAPA\\u002fAAAAAAAA8D8AAAAAAADwPwAAAAAAAPA\\u002fAAAAAAAA8D8AAAAAAADwPwAAAAAAAPA\\u002fAAAAAAAA8D8AAAAAAADwPwAAAAAAAPA\\u002fAAAAAAAA8D8AAAAAAADwPwAAAAAAAPA\\u002fAAAAAAAA8D8AAAAAAADwPwAAAAAAAPA\\u002fAAAAAAAA8D8AAAAAAADwPwAAAAAAAPA\\u002fAAAAAAAA8D8AAAAAAADwPwAAAAAAAPA\\u002fAAAAAAAA8D8AAAAAAADwPwAAAAAAAPA\\u002fAAAAAAAA8D8AAAAAAADwPwAAAAAAAPA\\u002f\"},\"yaxis\":\"y\",\"type\":\"scatter\"}],\"name\":\"4\"},{\"data\":[{\"hovertemplate\":\"variable=5\\u003cbr\\u003ex=%{x}\\u003cbr\\u003evalue=%{y}\\u003cextra\\u003e\\u003c\\u002fextra\\u003e\",\"legendgroup\":\"\",\"line\":{\"color\":\"#636efa\",\"dash\":\"solid\"},\"marker\":{\"symbol\":\"circle\"},\"mode\":\"lines\",\"name\":\"\",\"orientation\":\"v\",\"showlegend\":false,\"x\":{\"dtype\":\"f8\",\"bdata\":\"AAAAAAAAAACamZmZmZmZP5qZmZmZmak\\u002fNDMzMzMzsz+amZmZmZm5PwAAAAAAAMA\\u002fNDMzMzMzwz9nZmZmZmbGP5qZmZmZmck\\u002fzczMzMzMzD8AAAAAAADQP5qZmZmZmdE\\u002fNDMzMzMz0z\\u002fNzMzMzMzUP2dmZmZmZtY\\u002fAAAAAAAA2D+amZmZmZnZPzQzMzMzM9s\\u002fzczMzMzM3D9nZmZmZmbePwAAAAAAAOA\\u002fzczMzMzM4D+amZmZmZnhP2dmZmZmZuI\\u002fNDMzMzMz4z8AAAAAAADkP83MzMzMzOQ\\u002fmpmZmZmZ5T9nZmZmZmbmPzQzMzMzM+c\\u002fAAAAAAAA6D\\u002fNzMzMzMzoP5qZmZmZmek\\u002fZ2ZmZmZm6j80MzMzMzPrPwAAAAAAAOw\\u002fzczMzMzM7D+amZmZmZntP2dmZmZmZu4\\u002fNDMzMzMz7z8AAAAAAADwP2dmZmZmZvA\\u002fzczMzMzM8D8zMzMzMzPxP5qZmZmZmfE\\u002fAAAAAAAA8j9nZmZmZmbyP83MzMzMzPI\\u002fNDMzMzMz8z+amZmZmZnzPwAAAAAAAPQ\\u002fZ2ZmZmZm9D\\u002fNzMzMzMz0PzQzMzMzM\\u002fU\\u002fmpmZmZmZ9T8AAAAAAAD2P2dmZmZmZvY\\u002fzczMzMzM9j80MzMzMzP3P5qZmZmZmfc\\u002fAAAAAAAA+D9nZmZmZmb4P83MzMzMzPg\\u002fNDMzMzMz+T+amZmZmZn5PwAAAAAAAPo\\u002fZ2ZmZmZm+j\\u002fNzMzMzMz6PzQzMzMzM\\u002fs\\u002fmpmZmZmZ+z8AAAAAAAD8P2dmZmZmZvw\\u002fzczMzMzM\\u002fD80MzMzMzP9P5qZmZmZmf0\\u002fAAAAAAAA\\u002fj9nZmZmZmb+P83MzMzMzP4\\u002fNDMzMzMz\\u002fz+amZmZmZn\\u002fPwAAAAAAAABA\"},\"xaxis\":\"x\",\"y\":{\"dtype\":\"f8\",\"bdata\":\"AAAAAAAA8D8AAAAAAADwPwAAAAAAAPA\\u002fAAAAAAAA8D8AAAAAAADwPwAAAAAAAPA\\u002fAAAAAAAA8D8AAAAAAADwPwAAAAAAAPA\\u002fAAAAAAAA8D8AAAAAAADwPwAAAAAAAPA\\u002fAAAAAAAA8D8AAAAAAADwPwAAAAAAAPA\\u002fAAAAAAAA8D8AAAAAAADwPwAAAAAAAPA\\u002fAAAAAAAA8D8AAAAAAADwPwAAAAAAAPA\\u002fAAAAAAAA8D8AAAAAAADwPwAAAAAAAPA\\u002fAAAAAAAA8D8AAAAAAAAAQAAAAAAAAABAAAAAAAAAAEAAAAAAAAAAQAAAAAAAAABAAAAAAAAAAEAAAAAAAAAAQAAAAAAAAABAAAAAAAAAAEAAAAAAAAAAQAAAAAAAAABAAAAAAAAAAEAAAAAAAAAAQAAAAAAAAABAAAAAAAAAAEAAAAAAAAAAQAAAAAAAAABAAAAAAAAAAEAAAAAAAAAAQAAAAAAAAABAAAAAAAAAAEAAAAAAAADwPwAAAAAAAPA\\u002fAAAAAAAA8D8AAAAAAADwPwAAAAAAAPA\\u002fAAAAAAAA8D8AAAAAAADwPwAAAAAAAPA\\u002fAAAAAAAA8D8AAAAAAADwPwAAAAAAAPA\\u002fAAAAAAAA8D8AAAAAAADwPwAAAAAAAPA\\u002fAAAAAAAA8D8AAAAAAADwPwAAAAAAAPA\\u002fAAAAAAAA8D8AAAAAAADwPwAAAAAAAPA\\u002fAAAAAAAA8D8AAAAAAADwPwAAAAAAAPA\\u002fAAAAAAAA8D8AAAAAAADwPwAAAAAAAPA\\u002fAAAAAAAA8D8AAAAAAADwPwAAAAAAAPA\\u002fAAAAAAAA8D8AAAAAAADwPwAAAAAAAPA\\u002fAAAAAAAA8D8AAAAAAADwPwAAAAAAAPA\\u002f\"},\"yaxis\":\"y\",\"type\":\"scatter\"}],\"name\":\"5\"},{\"data\":[{\"hovertemplate\":\"variable=6\\u003cbr\\u003ex=%{x}\\u003cbr\\u003evalue=%{y}\\u003cextra\\u003e\\u003c\\u002fextra\\u003e\",\"legendgroup\":\"\",\"line\":{\"color\":\"#636efa\",\"dash\":\"solid\"},\"marker\":{\"symbol\":\"circle\"},\"mode\":\"lines\",\"name\":\"\",\"orientation\":\"v\",\"showlegend\":false,\"x\":{\"dtype\":\"f8\",\"bdata\":\"AAAAAAAAAACamZmZmZmZP5qZmZmZmak\\u002fNDMzMzMzsz+amZmZmZm5PwAAAAAAAMA\\u002fNDMzMzMzwz9nZmZmZmbGP5qZmZmZmck\\u002fzczMzMzMzD8AAAAAAADQP5qZmZmZmdE\\u002fNDMzMzMz0z\\u002fNzMzMzMzUP2dmZmZmZtY\\u002fAAAAAAAA2D+amZmZmZnZPzQzMzMzM9s\\u002fzczMzMzM3D9nZmZmZmbePwAAAAAAAOA\\u002fzczMzMzM4D+amZmZmZnhP2dmZmZmZuI\\u002fNDMzMzMz4z8AAAAAAADkP83MzMzMzOQ\\u002fmpmZmZmZ5T9nZmZmZmbmPzQzMzMzM+c\\u002fAAAAAAAA6D\\u002fNzMzMzMzoP5qZmZmZmek\\u002fZ2ZmZmZm6j80MzMzMzPrPwAAAAAAAOw\\u002fzczMzMzM7D+amZmZmZntP2dmZmZmZu4\\u002fNDMzMzMz7z8AAAAAAADwP2dmZmZmZvA\\u002fzczMzMzM8D8zMzMzMzPxP5qZmZmZmfE\\u002fAAAAAAAA8j9nZmZmZmbyP83MzMzMzPI\\u002fNDMzMzMz8z+amZmZmZnzPwAAAAAAAPQ\\u002fZ2ZmZmZm9D\\u002fNzMzMzMz0PzQzMzMzM\\u002fU\\u002fmpmZmZmZ9T8AAAAAAAD2P2dmZmZmZvY\\u002fzczMzMzM9j80MzMzMzP3P5qZmZmZmfc\\u002fAAAAAAAA+D9nZmZmZmb4P83MzMzMzPg\\u002fNDMzMzMz+T+amZmZmZn5PwAAAAAAAPo\\u002fZ2ZmZmZm+j\\u002fNzMzMzMz6PzQzMzMzM\\u002fs\\u002fmpmZmZmZ+z8AAAAAAAD8P2dmZmZmZvw\\u002fzczMzMzM\\u002fD80MzMzMzP9P5qZmZmZmf0\\u002fAAAAAAAA\\u002fj9nZmZmZmb+P83MzMzMzP4\\u002fNDMzMzMz\\u002fz+amZmZmZn\\u002fPwAAAAAAAABA\"},\"xaxis\":\"x\",\"y\":{\"dtype\":\"f8\",\"bdata\":\"AAAAAAAA8D8AAAAAAADwPwAAAAAAAPA\\u002fAAAAAAAA8D8AAAAAAADwPwAAAAAAAPA\\u002fAAAAAAAA8D8AAAAAAADwPwAAAAAAAPA\\u002fAAAAAAAA8D8AAAAAAADwPwAAAAAAAPA\\u002fAAAAAAAA8D8AAAAAAADwPwAAAAAAAPA\\u002fAAAAAAAA8D8AAAAAAADwPwAAAAAAAPA\\u002fAAAAAAAA8D8AAAAAAADwPwAAAAAAAPA\\u002fAAAAAAAA8D8AAAAAAADwPwAAAAAAAPA\\u002fAAAAAAAA8D8AAAAAAADwPwAAAAAAAABAAAAAAAAAAEAAAAAAAAAAQAAAAAAAAABAAAAAAAAAAEAAAAAAAAAAQAAAAAAAAABAAAAAAAAAAEAAAAAAAAAAQAAAAAAAAABAAAAAAAAAAEAAAAAAAAAAQAAAAAAAAABAAAAAAAAAAEAAAAAAAAAAQAAAAAAAAABAAAAAAAAAAEAAAAAAAAAAQAAAAAAAAABAAAAAAAAAAEAAAAAAAAAAQAAAAAAAAPA\\u002fAAAAAAAA8D8AAAAAAADwPwAAAAAAAPA\\u002fAAAAAAAA8D8AAAAAAADwPwAAAAAAAPA\\u002fAAAAAAAA8D8AAAAAAADwPwAAAAAAAPA\\u002fAAAAAAAA8D8AAAAAAADwPwAAAAAAAPA\\u002fAAAAAAAA8D8AAAAAAADwPwAAAAAAAPA\\u002fAAAAAAAA8D8AAAAAAADwPwAAAAAAAPA\\u002fAAAAAAAA8D8AAAAAAADwPwAAAAAAAPA\\u002fAAAAAAAA8D8AAAAAAADwPwAAAAAAAPA\\u002fAAAAAAAA8D8AAAAAAADwPwAAAAAAAPA\\u002fAAAAAAAA8D8AAAAAAADwPwAAAAAAAPA\\u002fAAAAAAAA8D8AAAAAAADwPwAAAAAAAPA\\u002f\"},\"yaxis\":\"y\",\"type\":\"scatter\"}],\"name\":\"6\"},{\"data\":[{\"hovertemplate\":\"variable=7\\u003cbr\\u003ex=%{x}\\u003cbr\\u003evalue=%{y}\\u003cextra\\u003e\\u003c\\u002fextra\\u003e\",\"legendgroup\":\"\",\"line\":{\"color\":\"#636efa\",\"dash\":\"solid\"},\"marker\":{\"symbol\":\"circle\"},\"mode\":\"lines\",\"name\":\"\",\"orientation\":\"v\",\"showlegend\":false,\"x\":{\"dtype\":\"f8\",\"bdata\":\"AAAAAAAAAACamZmZmZmZP5qZmZmZmak\\u002fNDMzMzMzsz+amZmZmZm5PwAAAAAAAMA\\u002fNDMzMzMzwz9nZmZmZmbGP5qZmZmZmck\\u002fzczMzMzMzD8AAAAAAADQP5qZmZmZmdE\\u002fNDMzMzMz0z\\u002fNzMzMzMzUP2dmZmZmZtY\\u002fAAAAAAAA2D+amZmZmZnZPzQzMzMzM9s\\u002fzczMzMzM3D9nZmZmZmbePwAAAAAAAOA\\u002fzczMzMzM4D+amZmZmZnhP2dmZmZmZuI\\u002fNDMzMzMz4z8AAAAAAADkP83MzMzMzOQ\\u002fmpmZmZmZ5T9nZmZmZmbmPzQzMzMzM+c\\u002fAAAAAAAA6D\\u002fNzMzMzMzoP5qZmZmZmek\\u002fZ2ZmZmZm6j80MzMzMzPrPwAAAAAAAOw\\u002fzczMzMzM7D+amZmZmZntP2dmZmZmZu4\\u002fNDMzMzMz7z8AAAAAAADwP2dmZmZmZvA\\u002fzczMzMzM8D8zMzMzMzPxP5qZmZmZmfE\\u002fAAAAAAAA8j9nZmZmZmbyP83MzMzMzPI\\u002fNDMzMzMz8z+amZmZmZnzPwAAAAAAAPQ\\u002fZ2ZmZmZm9D\\u002fNzMzMzMz0PzQzMzMzM\\u002fU\\u002fmpmZmZmZ9T8AAAAAAAD2P2dmZmZmZvY\\u002fzczMzMzM9j80MzMzMzP3P5qZmZmZmfc\\u002fAAAAAAAA+D9nZmZmZmb4P83MzMzMzPg\\u002fNDMzMzMz+T+amZmZmZn5PwAAAAAAAPo\\u002fZ2ZmZmZm+j\\u002fNzMzMzMz6PzQzMzMzM\\u002fs\\u002fmpmZmZmZ+z8AAAAAAAD8P2dmZmZmZvw\\u002fzczMzMzM\\u002fD80MzMzMzP9P5qZmZmZmf0\\u002fAAAAAAAA\\u002fj9nZmZmZmb+P83MzMzMzP4\\u002fNDMzMzMz\\u002fz+amZmZmZn\\u002fPwAAAAAAAABA\"},\"xaxis\":\"x\",\"y\":{\"dtype\":\"f8\",\"bdata\":\"AAAAAAAA8D8AAAAAAADwPwAAAAAAAPA\\u002fAAAAAAAA8D8AAAAAAADwPwAAAAAAAPA\\u002fAAAAAAAA8D8AAAAAAADwPwAAAAAAAPA\\u002fAAAAAAAA8D8AAAAAAADwPwAAAAAAAPA\\u002fAAAAAAAA8D8AAAAAAADwPwAAAAAAAPA\\u002fAAAAAAAA8D8AAAAAAADwPwAAAAAAAPA\\u002fAAAAAAAA8D8AAAAAAADwPwAAAAAAAPA\\u002fAAAAAAAA8D8AAAAAAADwPwAAAAAAAPA\\u002fAAAAAAAA8D8AAAAAAADwPwAAAAAAAPA\\u002fAAAAAAAAAEAAAAAAAAAAQAAAAAAAAABAAAAAAAAAAEAAAAAAAAAAQAAAAAAAAABAAAAAAAAAAEAAAAAAAAAAQAAAAAAAAABAAAAAAAAAAEAAAAAAAAAAQAAAAAAAAABAAAAAAAAAAEAAAAAAAAAAQAAAAAAAAABAAAAAAAAAAEAAAAAAAAAAQAAAAAAAAABAAAAAAAAAAEAAAAAAAAAAQAAAAAAAAABAAAAAAAAA8D8AAAAAAADwPwAAAAAAAPA\\u002fAAAAAAAA8D8AAAAAAADwPwAAAAAAAPA\\u002fAAAAAAAA8D8AAAAAAADwPwAAAAAAAPA\\u002fAAAAAAAA8D8AAAAAAADwPwAAAAAAAPA\\u002fAAAAAAAA8D8AAAAAAADwPwAAAAAAAPA\\u002fAAAAAAAA8D8AAAAAAADwPwAAAAAAAPA\\u002fAAAAAAAA8D8AAAAAAADwPwAAAAAAAPA\\u002fAAAAAAAA8D8AAAAAAADwPwAAAAAAAPA\\u002fAAAAAAAA8D8AAAAAAADwPwAAAAAAAPA\\u002fAAAAAAAA8D8AAAAAAADwPwAAAAAAAPA\\u002fAAAAAAAA8D8AAAAAAADwPwAAAAAAAPA\\u002f\"},\"yaxis\":\"y\",\"type\":\"scatter\"}],\"name\":\"7\"},{\"data\":[{\"hovertemplate\":\"variable=8\\u003cbr\\u003ex=%{x}\\u003cbr\\u003evalue=%{y}\\u003cextra\\u003e\\u003c\\u002fextra\\u003e\",\"legendgroup\":\"\",\"line\":{\"color\":\"#636efa\",\"dash\":\"solid\"},\"marker\":{\"symbol\":\"circle\"},\"mode\":\"lines\",\"name\":\"\",\"orientation\":\"v\",\"showlegend\":false,\"x\":{\"dtype\":\"f8\",\"bdata\":\"AAAAAAAAAACamZmZmZmZP5qZmZmZmak\\u002fNDMzMzMzsz+amZmZmZm5PwAAAAAAAMA\\u002fNDMzMzMzwz9nZmZmZmbGP5qZmZmZmck\\u002fzczMzMzMzD8AAAAAAADQP5qZmZmZmdE\\u002fNDMzMzMz0z\\u002fNzMzMzMzUP2dmZmZmZtY\\u002fAAAAAAAA2D+amZmZmZnZPzQzMzMzM9s\\u002fzczMzMzM3D9nZmZmZmbePwAAAAAAAOA\\u002fzczMzMzM4D+amZmZmZnhP2dmZmZmZuI\\u002fNDMzMzMz4z8AAAAAAADkP83MzMzMzOQ\\u002fmpmZmZmZ5T9nZmZmZmbmPzQzMzMzM+c\\u002fAAAAAAAA6D\\u002fNzMzMzMzoP5qZmZmZmek\\u002fZ2ZmZmZm6j80MzMzMzPrPwAAAAAAAOw\\u002fzczMzMzM7D+amZmZmZntP2dmZmZmZu4\\u002fNDMzMzMz7z8AAAAAAADwP2dmZmZmZvA\\u002fzczMzMzM8D8zMzMzMzPxP5qZmZmZmfE\\u002fAAAAAAAA8j9nZmZmZmbyP83MzMzMzPI\\u002fNDMzMzMz8z+amZmZmZnzPwAAAAAAAPQ\\u002fZ2ZmZmZm9D\\u002fNzMzMzMz0PzQzMzMzM\\u002fU\\u002fmpmZmZmZ9T8AAAAAAAD2P2dmZmZmZvY\\u002fzczMzMzM9j80MzMzMzP3P5qZmZmZmfc\\u002fAAAAAAAA+D9nZmZmZmb4P83MzMzMzPg\\u002fNDMzMzMz+T+amZmZmZn5PwAAAAAAAPo\\u002fZ2ZmZmZm+j\\u002fNzMzMzMz6PzQzMzMzM\\u002fs\\u002fmpmZmZmZ+z8AAAAAAAD8P2dmZmZmZvw\\u002fzczMzMzM\\u002fD80MzMzMzP9P5qZmZmZmf0\\u002fAAAAAAAA\\u002fj9nZmZmZmb+P83MzMzMzP4\\u002fNDMzMzMz\\u002fz+amZmZmZn\\u002fPwAAAAAAAABA\"},\"xaxis\":\"x\",\"y\":{\"dtype\":\"f8\",\"bdata\":\"AAAAAAAA8D8AAAAAAADwPwAAAAAAAPA\\u002fAAAAAAAA8D8AAAAAAADwPwAAAAAAAPA\\u002fAAAAAAAA8D8AAAAAAADwPwAAAAAAAPA\\u002fAAAAAAAA8D8AAAAAAADwPwAAAAAAAPA\\u002fAAAAAAAA8D8AAAAAAADwPwAAAAAAAPA\\u002fAAAAAAAA8D8AAAAAAADwPwAAAAAAAPA\\u002fAAAAAAAA8D8AAAAAAADwPwAAAAAAAPA\\u002fAAAAAAAA8D8AAAAAAADwPwAAAAAAAPA\\u002fAAAAAAAA8D8AAAAAAADwPwAAAAAAAPA\\u002fAAAAAAAA8D8AAAAAAAAAQAAAAAAAAABAAAAAAAAAAEAAAAAAAAAAQAAAAAAAAABAAAAAAAAAAEAAAAAAAAAAQAAAAAAAAABAAAAAAAAAAEAAAAAAAAAAQAAAAAAAAABAAAAAAAAAAEAAAAAAAAAAQAAAAAAAAABAAAAAAAAAAEAAAAAAAAAAQAAAAAAAAABAAAAAAAAAAEAAAAAAAAAAQAAAAAAAAABAAAAAAAAAAEAAAAAAAADwPwAAAAAAAPA\\u002fAAAAAAAA8D8AAAAAAADwPwAAAAAAAPA\\u002fAAAAAAAA8D8AAAAAAADwPwAAAAAAAPA\\u002fAAAAAAAA8D8AAAAAAADwPwAAAAAAAPA\\u002fAAAAAAAA8D8AAAAAAADwPwAAAAAAAPA\\u002fAAAAAAAA8D8AAAAAAADwPwAAAAAAAPA\\u002fAAAAAAAA8D8AAAAAAADwPwAAAAAAAPA\\u002fAAAAAAAA8D8AAAAAAADwPwAAAAAAAPA\\u002fAAAAAAAA8D8AAAAAAADwPwAAAAAAAPA\\u002fAAAAAAAA8D8AAAAAAADwPwAAAAAAAPA\\u002fAAAAAAAA8D8AAAAAAADwPwAAAAAAAPA\\u002f\"},\"yaxis\":\"y\",\"type\":\"scatter\"}],\"name\":\"8\"},{\"data\":[{\"hovertemplate\":\"variable=9\\u003cbr\\u003ex=%{x}\\u003cbr\\u003evalue=%{y}\\u003cextra\\u003e\\u003c\\u002fextra\\u003e\",\"legendgroup\":\"\",\"line\":{\"color\":\"#636efa\",\"dash\":\"solid\"},\"marker\":{\"symbol\":\"circle\"},\"mode\":\"lines\",\"name\":\"\",\"orientation\":\"v\",\"showlegend\":false,\"x\":{\"dtype\":\"f8\",\"bdata\":\"AAAAAAAAAACamZmZmZmZP5qZmZmZmak\\u002fNDMzMzMzsz+amZmZmZm5PwAAAAAAAMA\\u002fNDMzMzMzwz9nZmZmZmbGP5qZmZmZmck\\u002fzczMzMzMzD8AAAAAAADQP5qZmZmZmdE\\u002fNDMzMzMz0z\\u002fNzMzMzMzUP2dmZmZmZtY\\u002fAAAAAAAA2D+amZmZmZnZPzQzMzMzM9s\\u002fzczMzMzM3D9nZmZmZmbePwAAAAAAAOA\\u002fzczMzMzM4D+amZmZmZnhP2dmZmZmZuI\\u002fNDMzMzMz4z8AAAAAAADkP83MzMzMzOQ\\u002fmpmZmZmZ5T9nZmZmZmbmPzQzMzMzM+c\\u002fAAAAAAAA6D\\u002fNzMzMzMzoP5qZmZmZmek\\u002fZ2ZmZmZm6j80MzMzMzPrPwAAAAAAAOw\\u002fzczMzMzM7D+amZmZmZntP2dmZmZmZu4\\u002fNDMzMzMz7z8AAAAAAADwP2dmZmZmZvA\\u002fzczMzMzM8D8zMzMzMzPxP5qZmZmZmfE\\u002fAAAAAAAA8j9nZmZmZmbyP83MzMzMzPI\\u002fNDMzMzMz8z+amZmZmZnzPwAAAAAAAPQ\\u002fZ2ZmZmZm9D\\u002fNzMzMzMz0PzQzMzMzM\\u002fU\\u002fmpmZmZmZ9T8AAAAAAAD2P2dmZmZmZvY\\u002fzczMzMzM9j80MzMzMzP3P5qZmZmZmfc\\u002fAAAAAAAA+D9nZmZmZmb4P83MzMzMzPg\\u002fNDMzMzMz+T+amZmZmZn5PwAAAAAAAPo\\u002fZ2ZmZmZm+j\\u002fNzMzMzMz6PzQzMzMzM\\u002fs\\u002fmpmZmZmZ+z8AAAAAAAD8P2dmZmZmZvw\\u002fzczMzMzM\\u002fD80MzMzMzP9P5qZmZmZmf0\\u002fAAAAAAAA\\u002fj9nZmZmZmb+P83MzMzMzP4\\u002fNDMzMzMz\\u002fz+amZmZmZn\\u002fPwAAAAAAAABA\"},\"xaxis\":\"x\",\"y\":{\"dtype\":\"f8\",\"bdata\":\"AAAAAAAA8D8AAAAAAADwPwAAAAAAAPA\\u002fAAAAAAAA8D8AAAAAAADwPwAAAAAAAPA\\u002fAAAAAAAA8D8AAAAAAADwPwAAAAAAAPA\\u002fAAAAAAAA8D8AAAAAAADwPwAAAAAAAPA\\u002fAAAAAAAA8D8AAAAAAADwPwAAAAAAAPA\\u002fAAAAAAAA8D8AAAAAAADwPwAAAAAAAPA\\u002fAAAAAAAA8D8AAAAAAADwPwAAAAAAAPA\\u002fAAAAAAAA8D8AAAAAAADwPwAAAAAAAPA\\u002fAAAAAAAA8D8AAAAAAADwPwAAAAAAAPA\\u002fAAAAAAAA8D8AAAAAAADwPwAAAAAAAABAAAAAAAAAAEAAAAAAAAAAQAAAAAAAAABAAAAAAAAAAEAAAAAAAAAAQAAAAAAAAABAAAAAAAAAAEAAAAAAAAAAQAAAAAAAAABAAAAAAAAAAEAAAAAAAAAAQAAAAAAAAABAAAAAAAAAAEAAAAAAAAAAQAAAAAAAAABAAAAAAAAAAEAAAAAAAAAAQAAAAAAAAABAAAAAAAAAAEAAAAAAAAAAQAAAAAAAAPA\\u002fAAAAAAAA8D8AAAAAAADwPwAAAAAAAPA\\u002fAAAAAAAA8D8AAAAAAADwPwAAAAAAAPA\\u002fAAAAAAAA8D8AAAAAAADwPwAAAAAAAPA\\u002fAAAAAAAA8D8AAAAAAADwPwAAAAAAAPA\\u002fAAAAAAAA8D8AAAAAAADwPwAAAAAAAPA\\u002fAAAAAAAA8D8AAAAAAADwPwAAAAAAAPA\\u002fAAAAAAAA8D8AAAAAAADwPwAAAAAAAPA\\u002fAAAAAAAA8D8AAAAAAADwPwAAAAAAAPA\\u002fAAAAAAAA8D8AAAAAAADwPwAAAAAAAPA\\u002fAAAAAAAA8D8AAAAAAADwPwAAAAAAAPA\\u002f\"},\"yaxis\":\"y\",\"type\":\"scatter\"}],\"name\":\"9\"},{\"data\":[{\"hovertemplate\":\"variable=10\\u003cbr\\u003ex=%{x}\\u003cbr\\u003evalue=%{y}\\u003cextra\\u003e\\u003c\\u002fextra\\u003e\",\"legendgroup\":\"\",\"line\":{\"color\":\"#636efa\",\"dash\":\"solid\"},\"marker\":{\"symbol\":\"circle\"},\"mode\":\"lines\",\"name\":\"\",\"orientation\":\"v\",\"showlegend\":false,\"x\":{\"dtype\":\"f8\",\"bdata\":\"AAAAAAAAAACamZmZmZmZP5qZmZmZmak\\u002fNDMzMzMzsz+amZmZmZm5PwAAAAAAAMA\\u002fNDMzMzMzwz9nZmZmZmbGP5qZmZmZmck\\u002fzczMzMzMzD8AAAAAAADQP5qZmZmZmdE\\u002fNDMzMzMz0z\\u002fNzMzMzMzUP2dmZmZmZtY\\u002fAAAAAAAA2D+amZmZmZnZPzQzMzMzM9s\\u002fzczMzMzM3D9nZmZmZmbePwAAAAAAAOA\\u002fzczMzMzM4D+amZmZmZnhP2dmZmZmZuI\\u002fNDMzMzMz4z8AAAAAAADkP83MzMzMzOQ\\u002fmpmZmZmZ5T9nZmZmZmbmPzQzMzMzM+c\\u002fAAAAAAAA6D\\u002fNzMzMzMzoP5qZmZmZmek\\u002fZ2ZmZmZm6j80MzMzMzPrPwAAAAAAAOw\\u002fzczMzMzM7D+amZmZmZntP2dmZmZmZu4\\u002fNDMzMzMz7z8AAAAAAADwP2dmZmZmZvA\\u002fzczMzMzM8D8zMzMzMzPxP5qZmZmZmfE\\u002fAAAAAAAA8j9nZmZmZmbyP83MzMzMzPI\\u002fNDMzMzMz8z+amZmZmZnzPwAAAAAAAPQ\\u002fZ2ZmZmZm9D\\u002fNzMzMzMz0PzQzMzMzM\\u002fU\\u002fmpmZmZmZ9T8AAAAAAAD2P2dmZmZmZvY\\u002fzczMzMzM9j80MzMzMzP3P5qZmZmZmfc\\u002fAAAAAAAA+D9nZmZmZmb4P83MzMzMzPg\\u002fNDMzMzMz+T+amZmZmZn5PwAAAAAAAPo\\u002fZ2ZmZmZm+j\\u002fNzMzMzMz6PzQzMzMzM\\u002fs\\u002fmpmZmZmZ+z8AAAAAAAD8P2dmZmZmZvw\\u002fzczMzMzM\\u002fD80MzMzMzP9P5qZmZmZmf0\\u002fAAAAAAAA\\u002fj9nZmZmZmb+P83MzMzMzP4\\u002fNDMzMzMz\\u002fz+amZmZmZn\\u002fPwAAAAAAAABA\"},\"xaxis\":\"x\",\"y\":{\"dtype\":\"f8\",\"bdata\":\"AAAAAAAA8D8AAAAAAADwPwAAAAAAAPA\\u002fAAAAAAAA8D8AAAAAAADwPwAAAAAAAPA\\u002fAAAAAAAA8D8AAAAAAADwPwAAAAAAAPA\\u002fAAAAAAAA8D8AAAAAAADwPwAAAAAAAPA\\u002fAAAAAAAA8D8AAAAAAADwPwAAAAAAAPA\\u002fAAAAAAAA8D8AAAAAAADwPwAAAAAAAPA\\u002fAAAAAAAA8D8AAAAAAADwPwAAAAAAAPA\\u002fAAAAAAAA8D8AAAAAAADwPwAAAAAAAPA\\u002fAAAAAAAA8D8AAAAAAADwPwAAAAAAAPA\\u002fAAAAAAAA8D8AAAAAAADwPwAAAAAAAPA\\u002fAAAAAAAAAEAAAAAAAAAAQAAAAAAAAABAAAAAAAAAAEAAAAAAAAAAQAAAAAAAAABAAAAAAAAAAEAAAAAAAAAAQAAAAAAAAABAAAAAAAAAAEAAAAAAAAAAQAAAAAAAAABAAAAAAAAAAEAAAAAAAAAAQAAAAAAAAABAAAAAAAAAAEAAAAAAAAAAQAAAAAAAAABAAAAAAAAAAEAAAAAAAAAAQAAAAAAAAABAAAAAAAAA8D8AAAAAAADwPwAAAAAAAPA\\u002fAAAAAAAA8D8AAAAAAADwPwAAAAAAAPA\\u002fAAAAAAAA8D8AAAAAAADwPwAAAAAAAPA\\u002fAAAAAAAA8D8AAAAAAADwPwAAAAAAAPA\\u002fAAAAAAAA8D8AAAAAAADwPwAAAAAAAPA\\u002fAAAAAAAA8D8AAAAAAADwPwAAAAAAAPA\\u002fAAAAAAAA8D8AAAAAAADwPwAAAAAAAPA\\u002fAAAAAAAA8D8AAAAAAADwPwAAAAAAAPA\\u002fAAAAAAAA8D8AAAAAAADwPwAAAAAAAPA\\u002fAAAAAAAA8D8AAAAAAADwPwAAAAAAAPA\\u002f\"},\"yaxis\":\"y\",\"type\":\"scatter\"}],\"name\":\"10\"},{\"data\":[{\"hovertemplate\":\"variable=11\\u003cbr\\u003ex=%{x}\\u003cbr\\u003evalue=%{y}\\u003cextra\\u003e\\u003c\\u002fextra\\u003e\",\"legendgroup\":\"\",\"line\":{\"color\":\"#636efa\",\"dash\":\"solid\"},\"marker\":{\"symbol\":\"circle\"},\"mode\":\"lines\",\"name\":\"\",\"orientation\":\"v\",\"showlegend\":false,\"x\":{\"dtype\":\"f8\",\"bdata\":\"AAAAAAAAAACamZmZmZmZP5qZmZmZmak\\u002fNDMzMzMzsz+amZmZmZm5PwAAAAAAAMA\\u002fNDMzMzMzwz9nZmZmZmbGP5qZmZmZmck\\u002fzczMzMzMzD8AAAAAAADQP5qZmZmZmdE\\u002fNDMzMzMz0z\\u002fNzMzMzMzUP2dmZmZmZtY\\u002fAAAAAAAA2D+amZmZmZnZPzQzMzMzM9s\\u002fzczMzMzM3D9nZmZmZmbePwAAAAAAAOA\\u002fzczMzMzM4D+amZmZmZnhP2dmZmZmZuI\\u002fNDMzMzMz4z8AAAAAAADkP83MzMzMzOQ\\u002fmpmZmZmZ5T9nZmZmZmbmPzQzMzMzM+c\\u002fAAAAAAAA6D\\u002fNzMzMzMzoP5qZmZmZmek\\u002fZ2ZmZmZm6j80MzMzMzPrPwAAAAAAAOw\\u002fzczMzMzM7D+amZmZmZntP2dmZmZmZu4\\u002fNDMzMzMz7z8AAAAAAADwP2dmZmZmZvA\\u002fzczMzMzM8D8zMzMzMzPxP5qZmZmZmfE\\u002fAAAAAAAA8j9nZmZmZmbyP83MzMzMzPI\\u002fNDMzMzMz8z+amZmZmZnzPwAAAAAAAPQ\\u002fZ2ZmZmZm9D\\u002fNzMzMzMz0PzQzMzMzM\\u002fU\\u002fmpmZmZmZ9T8AAAAAAAD2P2dmZmZmZvY\\u002fzczMzMzM9j80MzMzMzP3P5qZmZmZmfc\\u002fAAAAAAAA+D9nZmZmZmb4P83MzMzMzPg\\u002fNDMzMzMz+T+amZmZmZn5PwAAAAAAAPo\\u002fZ2ZmZmZm+j\\u002fNzMzMzMz6PzQzMzMzM\\u002fs\\u002fmpmZmZmZ+z8AAAAAAAD8P2dmZmZmZvw\\u002fzczMzMzM\\u002fD80MzMzMzP9P5qZmZmZmf0\\u002fAAAAAAAA\\u002fj9nZmZmZmb+P83MzMzMzP4\\u002fNDMzMzMz\\u002fz+amZmZmZn\\u002fPwAAAAAAAABA\"},\"xaxis\":\"x\",\"y\":{\"dtype\":\"f8\",\"bdata\":\"AAAAAAAA8D8AAAAAAADwPwAAAAAAAPA\\u002fAAAAAAAA8D8AAAAAAADwPwAAAAAAAPA\\u002fAAAAAAAA8D8AAAAAAADwPwAAAAAAAPA\\u002fAAAAAAAA8D8AAAAAAADwPwAAAAAAAPA\\u002fAAAAAAAA8D8AAAAAAADwPwAAAAAAAPA\\u002fAAAAAAAA8D8AAAAAAADwPwAAAAAAAPA\\u002fAAAAAAAA8D8AAAAAAADwPwAAAAAAAPA\\u002fAAAAAAAA8D8AAAAAAADwPwAAAAAAAPA\\u002fAAAAAAAA8D8AAAAAAADwPwAAAAAAAPA\\u002fAAAAAAAA8D8AAAAAAADwPwAAAAAAAPA\\u002fAAAAAAAA8D8AAAAAAAAAQAAAAAAAAABAAAAAAAAAAEAAAAAAAAAAQAAAAAAAAABAAAAAAAAAAEAAAAAAAAAAQAAAAAAAAABAAAAAAAAAAEAAAAAAAAAAQAAAAAAAAABAAAAAAAAAAEAAAAAAAAAAQAAAAAAAAABAAAAAAAAAAEAAAAAAAAAAQAAAAAAAAABAAAAAAAAAAEAAAAAAAAAAQAAAAAAAAABAAAAAAAAAAEAAAAAAAADwPwAAAAAAAPA\\u002fAAAAAAAA8D8AAAAAAADwPwAAAAAAAPA\\u002fAAAAAAAA8D8AAAAAAADwPwAAAAAAAPA\\u002fAAAAAAAA8D8AAAAAAADwPwAAAAAAAPA\\u002fAAAAAAAA8D8AAAAAAADwPwAAAAAAAPA\\u002fAAAAAAAA8D8AAAAAAADwPwAAAAAAAPA\\u002fAAAAAAAA8D8AAAAAAADwPwAAAAAAAPA\\u002fAAAAAAAA8D8AAAAAAADwPwAAAAAAAPA\\u002fAAAAAAAA8D8AAAAAAADwPwAAAAAAAPA\\u002fAAAAAAAA8D8AAAAAAADwPwAAAAAAAPA\\u002f\"},\"yaxis\":\"y\",\"type\":\"scatter\"}],\"name\":\"11\"},{\"data\":[{\"hovertemplate\":\"variable=12\\u003cbr\\u003ex=%{x}\\u003cbr\\u003evalue=%{y}\\u003cextra\\u003e\\u003c\\u002fextra\\u003e\",\"legendgroup\":\"\",\"line\":{\"color\":\"#636efa\",\"dash\":\"solid\"},\"marker\":{\"symbol\":\"circle\"},\"mode\":\"lines\",\"name\":\"\",\"orientation\":\"v\",\"showlegend\":false,\"x\":{\"dtype\":\"f8\",\"bdata\":\"AAAAAAAAAACamZmZmZmZP5qZmZmZmak\\u002fNDMzMzMzsz+amZmZmZm5PwAAAAAAAMA\\u002fNDMzMzMzwz9nZmZmZmbGP5qZmZmZmck\\u002fzczMzMzMzD8AAAAAAADQP5qZmZmZmdE\\u002fNDMzMzMz0z\\u002fNzMzMzMzUP2dmZmZmZtY\\u002fAAAAAAAA2D+amZmZmZnZPzQzMzMzM9s\\u002fzczMzMzM3D9nZmZmZmbePwAAAAAAAOA\\u002fzczMzMzM4D+amZmZmZnhP2dmZmZmZuI\\u002fNDMzMzMz4z8AAAAAAADkP83MzMzMzOQ\\u002fmpmZmZmZ5T9nZmZmZmbmPzQzMzMzM+c\\u002fAAAAAAAA6D\\u002fNzMzMzMzoP5qZmZmZmek\\u002fZ2ZmZmZm6j80MzMzMzPrPwAAAAAAAOw\\u002fzczMzMzM7D+amZmZmZntP2dmZmZmZu4\\u002fNDMzMzMz7z8AAAAAAADwP2dmZmZmZvA\\u002fzczMzMzM8D8zMzMzMzPxP5qZmZmZmfE\\u002fAAAAAAAA8j9nZmZmZmbyP83MzMzMzPI\\u002fNDMzMzMz8z+amZmZmZnzPwAAAAAAAPQ\\u002fZ2ZmZmZm9D\\u002fNzMzMzMz0PzQzMzMzM\\u002fU\\u002fmpmZmZmZ9T8AAAAAAAD2P2dmZmZmZvY\\u002fzczMzMzM9j80MzMzMzP3P5qZmZmZmfc\\u002fAAAAAAAA+D9nZmZmZmb4P83MzMzMzPg\\u002fNDMzMzMz+T+amZmZmZn5PwAAAAAAAPo\\u002fZ2ZmZmZm+j\\u002fNzMzMzMz6PzQzMzMzM\\u002fs\\u002fmpmZmZmZ+z8AAAAAAAD8P2dmZmZmZvw\\u002fzczMzMzM\\u002fD80MzMzMzP9P5qZmZmZmf0\\u002fAAAAAAAA\\u002fj9nZmZmZmb+P83MzMzMzP4\\u002fNDMzMzMz\\u002fz+amZmZmZn\\u002fPwAAAAAAAABA\"},\"xaxis\":\"x\",\"y\":{\"dtype\":\"f8\",\"bdata\":\"AAAAAAAA8D8AAAAAAADwPwAAAAAAAPA\\u002fAAAAAAAA8D8AAAAAAADwPwAAAAAAAPA\\u002fAAAAAAAA8D8AAAAAAADwPwAAAAAAAPA\\u002fAAAAAAAA8D8AAAAAAADwPwAAAAAAAPA\\u002fAAAAAAAA8D8AAAAAAADwPwAAAAAAAPA\\u002fAAAAAAAA8D8AAAAAAADwPwAAAAAAAPA\\u002fAAAAAAAA8D8AAAAAAADwPwAAAAAAAPA\\u002fAAAAAAAA8D8AAAAAAADwPwAAAAAAAPA\\u002fAAAAAAAA8D8AAAAAAADwPwAAAAAAAPA\\u002fAAAAAAAA8D8AAAAAAADwPwAAAAAAAPA\\u002fAAAAAAAA8D8AAAAAAADwPwAAAAAAAABAAAAAAAAAAEAAAAAAAAAAQAAAAAAAAABAAAAAAAAAAEAAAAAAAAAAQAAAAAAAAABAAAAAAAAAAEAAAAAAAAAAQAAAAAAAAABAAAAAAAAAAEAAAAAAAAAAQAAAAAAAAABAAAAAAAAAAEAAAAAAAAAAQAAAAAAAAABAAAAAAAAAAEAAAAAAAAAAQAAAAAAAAABAAAAAAAAAAEAAAAAAAAAAQAAAAAAAAPA\\u002fAAAAAAAA8D8AAAAAAADwPwAAAAAAAPA\\u002fAAAAAAAA8D8AAAAAAADwPwAAAAAAAPA\\u002fAAAAAAAA8D8AAAAAAADwPwAAAAAAAPA\\u002fAAAAAAAA8D8AAAAAAADwPwAAAAAAAPA\\u002fAAAAAAAA8D8AAAAAAADwPwAAAAAAAPA\\u002fAAAAAAAA8D8AAAAAAADwPwAAAAAAAPA\\u002fAAAAAAAA8D8AAAAAAADwPwAAAAAAAPA\\u002fAAAAAAAA8D8AAAAAAADwPwAAAAAAAPA\\u002fAAAAAAAA8D8AAAAAAADwPwAAAAAAAPA\\u002f\"},\"yaxis\":\"y\",\"type\":\"scatter\"}],\"name\":\"12\"},{\"data\":[{\"hovertemplate\":\"variable=13\\u003cbr\\u003ex=%{x}\\u003cbr\\u003evalue=%{y}\\u003cextra\\u003e\\u003c\\u002fextra\\u003e\",\"legendgroup\":\"\",\"line\":{\"color\":\"#636efa\",\"dash\":\"solid\"},\"marker\":{\"symbol\":\"circle\"},\"mode\":\"lines\",\"name\":\"\",\"orientation\":\"v\",\"showlegend\":false,\"x\":{\"dtype\":\"f8\",\"bdata\":\"AAAAAAAAAACamZmZmZmZP5qZmZmZmak\\u002fNDMzMzMzsz+amZmZmZm5PwAAAAAAAMA\\u002fNDMzMzMzwz9nZmZmZmbGP5qZmZmZmck\\u002fzczMzMzMzD8AAAAAAADQP5qZmZmZmdE\\u002fNDMzMzMz0z\\u002fNzMzMzMzUP2dmZmZmZtY\\u002fAAAAAAAA2D+amZmZmZnZPzQzMzMzM9s\\u002fzczMzMzM3D9nZmZmZmbePwAAAAAAAOA\\u002fzczMzMzM4D+amZmZmZnhP2dmZmZmZuI\\u002fNDMzMzMz4z8AAAAAAADkP83MzMzMzOQ\\u002fmpmZmZmZ5T9nZmZmZmbmPzQzMzMzM+c\\u002fAAAAAAAA6D\\u002fNzMzMzMzoP5qZmZmZmek\\u002fZ2ZmZmZm6j80MzMzMzPrPwAAAAAAAOw\\u002fzczMzMzM7D+amZmZmZntP2dmZmZmZu4\\u002fNDMzMzMz7z8AAAAAAADwP2dmZmZmZvA\\u002fzczMzMzM8D8zMzMzMzPxP5qZmZmZmfE\\u002fAAAAAAAA8j9nZmZmZmbyP83MzMzMzPI\\u002fNDMzMzMz8z+amZmZmZnzPwAAAAAAAPQ\\u002fZ2ZmZmZm9D\\u002fNzMzMzMz0PzQzMzMzM\\u002fU\\u002fmpmZmZmZ9T8AAAAAAAD2P2dmZmZmZvY\\u002fzczMzMzM9j80MzMzMzP3P5qZmZmZmfc\\u002fAAAAAAAA+D9nZmZmZmb4P83MzMzMzPg\\u002fNDMzMzMz+T+amZmZmZn5PwAAAAAAAPo\\u002fZ2ZmZmZm+j\\u002fNzMzMzMz6PzQzMzMzM\\u002fs\\u002fmpmZmZmZ+z8AAAAAAAD8P2dmZmZmZvw\\u002fzczMzMzM\\u002fD80MzMzMzP9P5qZmZmZmf0\\u002fAAAAAAAA\\u002fj9nZmZmZmb+P83MzMzMzP4\\u002fNDMzMzMz\\u002fz+amZmZmZn\\u002fPwAAAAAAAABA\"},\"xaxis\":\"x\",\"y\":{\"dtype\":\"f8\",\"bdata\":\"AAAAAAAA8D8AAAAAAADwPwAAAAAAAPA\\u002fAAAAAAAA8D8AAAAAAADwPwAAAAAAAPA\\u002fAAAAAAAA8D8AAAAAAADwPwAAAAAAAPA\\u002fAAAAAAAA8D8AAAAAAADwPwAAAAAAAPA\\u002fAAAAAAAA8D8AAAAAAADwPwAAAAAAAPA\\u002fAAAAAAAA8D8AAAAAAADwPwAAAAAAAPA\\u002fAAAAAAAA8D8AAAAAAADwPwAAAAAAAPA\\u002fAAAAAAAA8D8AAAAAAADwPwAAAAAAAPA\\u002fAAAAAAAA8D8AAAAAAADwPwAAAAAAAPA\\u002fAAAAAAAA8D8AAAAAAADwPwAAAAAAAPA\\u002fAAAAAAAA8D8AAAAAAADwPwAAAAAAAPA\\u002fAAAAAAAAAEAAAAAAAAAAQAAAAAAAAABAAAAAAAAAAEAAAAAAAAAAQAAAAAAAAABAAAAAAAAAAEAAAAAAAAAAQAAAAAAAAABAAAAAAAAAAEAAAAAAAAAAQAAAAAAAAABAAAAAAAAAAEAAAAAAAAAAQAAAAAAAAABAAAAAAAAAAEAAAAAAAAAAQAAAAAAAAABAAAAAAAAAAEAAAAAAAAAAQAAAAAAAAABAAAAAAAAA8D8AAAAAAADwPwAAAAAAAPA\\u002fAAAAAAAA8D8AAAAAAADwPwAAAAAAAPA\\u002fAAAAAAAA8D8AAAAAAADwPwAAAAAAAPA\\u002fAAAAAAAA8D8AAAAAAADwPwAAAAAAAPA\\u002fAAAAAAAA8D8AAAAAAADwPwAAAAAAAPA\\u002fAAAAAAAA8D8AAAAAAADwPwAAAAAAAPA\\u002fAAAAAAAA8D8AAAAAAADwPwAAAAAAAPA\\u002fAAAAAAAA8D8AAAAAAADwPwAAAAAAAPA\\u002fAAAAAAAA8D8AAAAAAADwPwAAAAAAAPA\\u002f\"},\"yaxis\":\"y\",\"type\":\"scatter\"}],\"name\":\"13\"},{\"data\":[{\"hovertemplate\":\"variable=14\\u003cbr\\u003ex=%{x}\\u003cbr\\u003evalue=%{y}\\u003cextra\\u003e\\u003c\\u002fextra\\u003e\",\"legendgroup\":\"\",\"line\":{\"color\":\"#636efa\",\"dash\":\"solid\"},\"marker\":{\"symbol\":\"circle\"},\"mode\":\"lines\",\"name\":\"\",\"orientation\":\"v\",\"showlegend\":false,\"x\":{\"dtype\":\"f8\",\"bdata\":\"AAAAAAAAAACamZmZmZmZP5qZmZmZmak\\u002fNDMzMzMzsz+amZmZmZm5PwAAAAAAAMA\\u002fNDMzMzMzwz9nZmZmZmbGP5qZmZmZmck\\u002fzczMzMzMzD8AAAAAAADQP5qZmZmZmdE\\u002fNDMzMzMz0z\\u002fNzMzMzMzUP2dmZmZmZtY\\u002fAAAAAAAA2D+amZmZmZnZPzQzMzMzM9s\\u002fzczMzMzM3D9nZmZmZmbePwAAAAAAAOA\\u002fzczMzMzM4D+amZmZmZnhP2dmZmZmZuI\\u002fNDMzMzMz4z8AAAAAAADkP83MzMzMzOQ\\u002fmpmZmZmZ5T9nZmZmZmbmPzQzMzMzM+c\\u002fAAAAAAAA6D\\u002fNzMzMzMzoP5qZmZmZmek\\u002fZ2ZmZmZm6j80MzMzMzPrPwAAAAAAAOw\\u002fzczMzMzM7D+amZmZmZntP2dmZmZmZu4\\u002fNDMzMzMz7z8AAAAAAADwP2dmZmZmZvA\\u002fzczMzMzM8D8zMzMzMzPxP5qZmZmZmfE\\u002fAAAAAAAA8j9nZmZmZmbyP83MzMzMzPI\\u002fNDMzMzMz8z+amZmZmZnzPwAAAAAAAPQ\\u002fZ2ZmZmZm9D\\u002fNzMzMzMz0PzQzMzMzM\\u002fU\\u002fmpmZmZmZ9T8AAAAAAAD2P2dmZmZmZvY\\u002fzczMzMzM9j80MzMzMzP3P5qZmZmZmfc\\u002fAAAAAAAA+D9nZmZmZmb4P83MzMzMzPg\\u002fNDMzMzMz+T+amZmZmZn5PwAAAAAAAPo\\u002fZ2ZmZmZm+j\\u002fNzMzMzMz6PzQzMzMzM\\u002fs\\u002fmpmZmZmZ+z8AAAAAAAD8P2dmZmZmZvw\\u002fzczMzMzM\\u002fD80MzMzMzP9P5qZmZmZmf0\\u002fAAAAAAAA\\u002fj9nZmZmZmb+P83MzMzMzP4\\u002fNDMzMzMz\\u002fz+amZmZmZn\\u002fPwAAAAAAAABA\"},\"xaxis\":\"x\",\"y\":{\"dtype\":\"f8\",\"bdata\":\"AAAAAAAA8D8AAAAAAADwPwAAAAAAAPA\\u002fAAAAAAAA8D8AAAAAAADwPwAAAAAAAPA\\u002fAAAAAAAA8D8AAAAAAADwPwAAAAAAAPA\\u002fAAAAAAAA8D8AAAAAAADwPwAAAAAAAPA\\u002fAAAAAAAA8D8AAAAAAADwPwAAAAAAAPA\\u002fAAAAAAAA8D8AAAAAAADwPwAAAAAAAPA\\u002fAAAAAAAA8D8AAAAAAADwPwAAAAAAAPA\\u002fAAAAAAAA8D8AAAAAAADwPwAAAAAAAPA\\u002fAAAAAAAA8D8AAAAAAADwPwAAAAAAAPA\\u002fAAAAAAAA8D8AAAAAAADwPwAAAAAAAPA\\u002fAAAAAAAA8D8AAAAAAADwPwAAAAAAAPA\\u002fAAAAAAAA8D8AAAAAAAAAQAAAAAAAAABAAAAAAAAAAEAAAAAAAAAAQAAAAAAAAABAAAAAAAAAAEAAAAAAAAAAQAAAAAAAAABAAAAAAAAAAEAAAAAAAAAAQAAAAAAAAABAAAAAAAAAAEAAAAAAAAAAQAAAAAAAAABAAAAAAAAAAEAAAAAAAAAAQAAAAAAAAABAAAAAAAAAAEAAAAAAAAAAQAAAAAAAAABAAAAAAAAAAEAAAAAAAADwPwAAAAAAAPA\\u002fAAAAAAAA8D8AAAAAAADwPwAAAAAAAPA\\u002fAAAAAAAA8D8AAAAAAADwPwAAAAAAAPA\\u002fAAAAAAAA8D8AAAAAAADwPwAAAAAAAPA\\u002fAAAAAAAA8D8AAAAAAADwPwAAAAAAAPA\\u002fAAAAAAAA8D8AAAAAAADwPwAAAAAAAPA\\u002fAAAAAAAA8D8AAAAAAADwPwAAAAAAAPA\\u002fAAAAAAAA8D8AAAAAAADwPwAAAAAAAPA\\u002fAAAAAAAA8D8AAAAAAADwPwAAAAAAAPA\\u002f\"},\"yaxis\":\"y\",\"type\":\"scatter\"}],\"name\":\"14\"},{\"data\":[{\"hovertemplate\":\"variable=15\\u003cbr\\u003ex=%{x}\\u003cbr\\u003evalue=%{y}\\u003cextra\\u003e\\u003c\\u002fextra\\u003e\",\"legendgroup\":\"\",\"line\":{\"color\":\"#636efa\",\"dash\":\"solid\"},\"marker\":{\"symbol\":\"circle\"},\"mode\":\"lines\",\"name\":\"\",\"orientation\":\"v\",\"showlegend\":false,\"x\":{\"dtype\":\"f8\",\"bdata\":\"AAAAAAAAAACamZmZmZmZP5qZmZmZmak\\u002fNDMzMzMzsz+amZmZmZm5PwAAAAAAAMA\\u002fNDMzMzMzwz9nZmZmZmbGP5qZmZmZmck\\u002fzczMzMzMzD8AAAAAAADQP5qZmZmZmdE\\u002fNDMzMzMz0z\\u002fNzMzMzMzUP2dmZmZmZtY\\u002fAAAAAAAA2D+amZmZmZnZPzQzMzMzM9s\\u002fzczMzMzM3D9nZmZmZmbePwAAAAAAAOA\\u002fzczMzMzM4D+amZmZmZnhP2dmZmZmZuI\\u002fNDMzMzMz4z8AAAAAAADkP83MzMzMzOQ\\u002fmpmZmZmZ5T9nZmZmZmbmPzQzMzMzM+c\\u002fAAAAAAAA6D\\u002fNzMzMzMzoP5qZmZmZmek\\u002fZ2ZmZmZm6j80MzMzMzPrPwAAAAAAAOw\\u002fzczMzMzM7D+amZmZmZntP2dmZmZmZu4\\u002fNDMzMzMz7z8AAAAAAADwP2dmZmZmZvA\\u002fzczMzMzM8D8zMzMzMzPxP5qZmZmZmfE\\u002fAAAAAAAA8j9nZmZmZmbyP83MzMzMzPI\\u002fNDMzMzMz8z+amZmZmZnzPwAAAAAAAPQ\\u002fZ2ZmZmZm9D\\u002fNzMzMzMz0PzQzMzMzM\\u002fU\\u002fmpmZmZmZ9T8AAAAAAAD2P2dmZmZmZvY\\u002fzczMzMzM9j80MzMzMzP3P5qZmZmZmfc\\u002fAAAAAAAA+D9nZmZmZmb4P83MzMzMzPg\\u002fNDMzMzMz+T+amZmZmZn5PwAAAAAAAPo\\u002fZ2ZmZmZm+j\\u002fNzMzMzMz6PzQzMzMzM\\u002fs\\u002fmpmZmZmZ+z8AAAAAAAD8P2dmZmZmZvw\\u002fzczMzMzM\\u002fD80MzMzMzP9P5qZmZmZmf0\\u002fAAAAAAAA\\u002fj9nZmZmZmb+P83MzMzMzP4\\u002fNDMzMzMz\\u002fz+amZmZmZn\\u002fPwAAAAAAAABA\"},\"xaxis\":\"x\",\"y\":{\"dtype\":\"f8\",\"bdata\":\"AAAAAAAA8D8AAAAAAADwPwAAAAAAAPA\\u002fAAAAAAAA8D8AAAAAAADwPwAAAAAAAPA\\u002fAAAAAAAA8D8AAAAAAADwPwAAAAAAAPA\\u002fAAAAAAAA8D8AAAAAAADwPwAAAAAAAPA\\u002fAAAAAAAA8D8AAAAAAADwPwAAAAAAAPA\\u002fAAAAAAAA8D8AAAAAAADwPwAAAAAAAPA\\u002fAAAAAAAA8D8AAAAAAADwPwAAAAAAAPA\\u002fAAAAAAAA8D8AAAAAAADwPwAAAAAAAPA\\u002fAAAAAAAA8D8AAAAAAADwPwAAAAAAAPA\\u002fAAAAAAAA8D8AAAAAAADwPwAAAAAAAPA\\u002fAAAAAAAA8D8AAAAAAADwPwAAAAAAAPA\\u002fAAAAAAAA8D8AAAAAAADwPwAAAAAAAABAAAAAAAAAAEAAAAAAAAAAQAAAAAAAAABAAAAAAAAAAEAAAAAAAAAAQAAAAAAAAABAAAAAAAAAAEAAAAAAAAAAQAAAAAAAAABAAAAAAAAAAEAAAAAAAAAAQAAAAAAAAABAAAAAAAAAAEAAAAAAAAAAQAAAAAAAAABAAAAAAAAAAEAAAAAAAAAAQAAAAAAAAABAAAAAAAAAAEAAAAAAAAAAQAAAAAAAAPA\\u002fAAAAAAAA8D8AAAAAAADwPwAAAAAAAPA\\u002fAAAAAAAA8D8AAAAAAADwPwAAAAAAAPA\\u002fAAAAAAAA8D8AAAAAAADwPwAAAAAAAPA\\u002fAAAAAAAA8D8AAAAAAADwPwAAAAAAAPA\\u002fAAAAAAAA8D8AAAAAAADwPwAAAAAAAPA\\u002fAAAAAAAA8D8AAAAAAADwPwAAAAAAAPA\\u002fAAAAAAAA8D8AAAAAAADwPwAAAAAAAPA\\u002fAAAAAAAA8D8AAAAAAADwPwAAAAAAAPA\\u002f\"},\"yaxis\":\"y\",\"type\":\"scatter\"}],\"name\":\"15\"},{\"data\":[{\"hovertemplate\":\"variable=16\\u003cbr\\u003ex=%{x}\\u003cbr\\u003evalue=%{y}\\u003cextra\\u003e\\u003c\\u002fextra\\u003e\",\"legendgroup\":\"\",\"line\":{\"color\":\"#636efa\",\"dash\":\"solid\"},\"marker\":{\"symbol\":\"circle\"},\"mode\":\"lines\",\"name\":\"\",\"orientation\":\"v\",\"showlegend\":false,\"x\":{\"dtype\":\"f8\",\"bdata\":\"AAAAAAAAAACamZmZmZmZP5qZmZmZmak\\u002fNDMzMzMzsz+amZmZmZm5PwAAAAAAAMA\\u002fNDMzMzMzwz9nZmZmZmbGP5qZmZmZmck\\u002fzczMzMzMzD8AAAAAAADQP5qZmZmZmdE\\u002fNDMzMzMz0z\\u002fNzMzMzMzUP2dmZmZmZtY\\u002fAAAAAAAA2D+amZmZmZnZPzQzMzMzM9s\\u002fzczMzMzM3D9nZmZmZmbePwAAAAAAAOA\\u002fzczMzMzM4D+amZmZmZnhP2dmZmZmZuI\\u002fNDMzMzMz4z8AAAAAAADkP83MzMzMzOQ\\u002fmpmZmZmZ5T9nZmZmZmbmPzQzMzMzM+c\\u002fAAAAAAAA6D\\u002fNzMzMzMzoP5qZmZmZmek\\u002fZ2ZmZmZm6j80MzMzMzPrPwAAAAAAAOw\\u002fzczMzMzM7D+amZmZmZntP2dmZmZmZu4\\u002fNDMzMzMz7z8AAAAAAADwP2dmZmZmZvA\\u002fzczMzMzM8D8zMzMzMzPxP5qZmZmZmfE\\u002fAAAAAAAA8j9nZmZmZmbyP83MzMzMzPI\\u002fNDMzMzMz8z+amZmZmZnzPwAAAAAAAPQ\\u002fZ2ZmZmZm9D\\u002fNzMzMzMz0PzQzMzMzM\\u002fU\\u002fmpmZmZmZ9T8AAAAAAAD2P2dmZmZmZvY\\u002fzczMzMzM9j80MzMzMzP3P5qZmZmZmfc\\u002fAAAAAAAA+D9nZmZmZmb4P83MzMzMzPg\\u002fNDMzMzMz+T+amZmZmZn5PwAAAAAAAPo\\u002fZ2ZmZmZm+j\\u002fNzMzMzMz6PzQzMzMzM\\u002fs\\u002fmpmZmZmZ+z8AAAAAAAD8P2dmZmZmZvw\\u002fzczMzMzM\\u002fD80MzMzMzP9P5qZmZmZmf0\\u002fAAAAAAAA\\u002fj9nZmZmZmb+P83MzMzMzP4\\u002fNDMzMzMz\\u002fz+amZmZmZn\\u002fPwAAAAAAAABA\"},\"xaxis\":\"x\",\"y\":{\"dtype\":\"f8\",\"bdata\":\"AAAAAAAA8D8AAAAAAADwPwAAAAAAAPA\\u002fAAAAAAAA8D8AAAAAAADwPwAAAAAAAPA\\u002fAAAAAAAA8D8AAAAAAADwPwAAAAAAAPA\\u002fAAAAAAAA8D8AAAAAAADwPwAAAAAAAPA\\u002fAAAAAAAA8D8AAAAAAADwPwAAAAAAAPA\\u002fAAAAAAAA8D8AAAAAAADwPwAAAAAAAPA\\u002fAAAAAAAA8D8AAAAAAADwPwAAAAAAAPA\\u002fAAAAAAAA8D8AAAAAAADwPwAAAAAAAPA\\u002fAAAAAAAA8D8AAAAAAADwPwAAAAAAAPA\\u002fAAAAAAAA8D8AAAAAAADwPwAAAAAAAPA\\u002fAAAAAAAA8D8AAAAAAADwPwAAAAAAAPA\\u002fAAAAAAAA8D8AAAAAAADwPwAAAAAAAPA\\u002fAAAAAAAAAEAAAAAAAAAAQAAAAAAAAABAAAAAAAAAAEAAAAAAAAAAQAAAAAAAAABAAAAAAAAAAEAAAAAAAAAAQAAAAAAAAABAAAAAAAAAAEAAAAAAAAAAQAAAAAAAAABAAAAAAAAAAEAAAAAAAAAAQAAAAAAAAABAAAAAAAAAAEAAAAAAAAAAQAAAAAAAAABAAAAAAAAAAEAAAAAAAAAAQAAAAAAAAABAAAAAAAAA8D8AAAAAAADwPwAAAAAAAPA\\u002fAAAAAAAA8D8AAAAAAADwPwAAAAAAAPA\\u002fAAAAAAAA8D8AAAAAAADwPwAAAAAAAPA\\u002fAAAAAAAA8D8AAAAAAADwPwAAAAAAAPA\\u002fAAAAAAAA8D8AAAAAAADwPwAAAAAAAPA\\u002fAAAAAAAA8D8AAAAAAADwPwAAAAAAAPA\\u002fAAAAAAAA8D8AAAAAAADwPwAAAAAAAPA\\u002fAAAAAAAA8D8AAAAAAADwPwAAAAAAAPA\\u002f\"},\"yaxis\":\"y\",\"type\":\"scatter\"}],\"name\":\"16\"},{\"data\":[{\"hovertemplate\":\"variable=17\\u003cbr\\u003ex=%{x}\\u003cbr\\u003evalue=%{y}\\u003cextra\\u003e\\u003c\\u002fextra\\u003e\",\"legendgroup\":\"\",\"line\":{\"color\":\"#636efa\",\"dash\":\"solid\"},\"marker\":{\"symbol\":\"circle\"},\"mode\":\"lines\",\"name\":\"\",\"orientation\":\"v\",\"showlegend\":false,\"x\":{\"dtype\":\"f8\",\"bdata\":\"AAAAAAAAAACamZmZmZmZP5qZmZmZmak\\u002fNDMzMzMzsz+amZmZmZm5PwAAAAAAAMA\\u002fNDMzMzMzwz9nZmZmZmbGP5qZmZmZmck\\u002fzczMzMzMzD8AAAAAAADQP5qZmZmZmdE\\u002fNDMzMzMz0z\\u002fNzMzMzMzUP2dmZmZmZtY\\u002fAAAAAAAA2D+amZmZmZnZPzQzMzMzM9s\\u002fzczMzMzM3D9nZmZmZmbePwAAAAAAAOA\\u002fzczMzMzM4D+amZmZmZnhP2dmZmZmZuI\\u002fNDMzMzMz4z8AAAAAAADkP83MzMzMzOQ\\u002fmpmZmZmZ5T9nZmZmZmbmPzQzMzMzM+c\\u002fAAAAAAAA6D\\u002fNzMzMzMzoP5qZmZmZmek\\u002fZ2ZmZmZm6j80MzMzMzPrPwAAAAAAAOw\\u002fzczMzMzM7D+amZmZmZntP2dmZmZmZu4\\u002fNDMzMzMz7z8AAAAAAADwP2dmZmZmZvA\\u002fzczMzMzM8D8zMzMzMzPxP5qZmZmZmfE\\u002fAAAAAAAA8j9nZmZmZmbyP83MzMzMzPI\\u002fNDMzMzMz8z+amZmZmZnzPwAAAAAAAPQ\\u002fZ2ZmZmZm9D\\u002fNzMzMzMz0PzQzMzMzM\\u002fU\\u002fmpmZmZmZ9T8AAAAAAAD2P2dmZmZmZvY\\u002fzczMzMzM9j80MzMzMzP3P5qZmZmZmfc\\u002fAAAAAAAA+D9nZmZmZmb4P83MzMzMzPg\\u002fNDMzMzMz+T+amZmZmZn5PwAAAAAAAPo\\u002fZ2ZmZmZm+j\\u002fNzMzMzMz6PzQzMzMzM\\u002fs\\u002fmpmZmZmZ+z8AAAAAAAD8P2dmZmZmZvw\\u002fzczMzMzM\\u002fD80MzMzMzP9P5qZmZmZmf0\\u002fAAAAAAAA\\u002fj9nZmZmZmb+P83MzMzMzP4\\u002fNDMzMzMz\\u002fz+amZmZmZn\\u002fPwAAAAAAAABA\"},\"xaxis\":\"x\",\"y\":{\"dtype\":\"f8\",\"bdata\":\"AAAAAAAA8D8AAAAAAADwPwAAAAAAAPA\\u002fAAAAAAAA8D8AAAAAAADwPwAAAAAAAPA\\u002fAAAAAAAA8D8AAAAAAADwPwAAAAAAAPA\\u002fAAAAAAAA8D8AAAAAAADwPwAAAAAAAPA\\u002fAAAAAAAA8D8AAAAAAADwPwAAAAAAAPA\\u002fAAAAAAAA8D8AAAAAAADwPwAAAAAAAPA\\u002fAAAAAAAA8D8AAAAAAADwPwAAAAAAAPA\\u002fAAAAAAAA8D8AAAAAAADwPwAAAAAAAPA\\u002fAAAAAAAA8D8AAAAAAADwPwAAAAAAAPA\\u002fAAAAAAAA8D8AAAAAAADwPwAAAAAAAPA\\u002fAAAAAAAA8D8AAAAAAADwPwAAAAAAAPA\\u002fAAAAAAAA8D8AAAAAAADwPwAAAAAAAPA\\u002fAAAAAAAA8D8AAAAAAAAAQAAAAAAAAABAAAAAAAAAAEAAAAAAAAAAQAAAAAAAAABAAAAAAAAAAEAAAAAAAAAAQAAAAAAAAABAAAAAAAAAAEAAAAAAAAAAQAAAAAAAAABAAAAAAAAAAEAAAAAAAAAAQAAAAAAAAABAAAAAAAAAAEAAAAAAAAAAQAAAAAAAAABAAAAAAAAAAEAAAAAAAAAAQAAAAAAAAABAAAAAAAAAAEAAAAAAAADwPwAAAAAAAPA\\u002fAAAAAAAA8D8AAAAAAADwPwAAAAAAAPA\\u002fAAAAAAAA8D8AAAAAAADwPwAAAAAAAPA\\u002fAAAAAAAA8D8AAAAAAADwPwAAAAAAAPA\\u002fAAAAAAAA8D8AAAAAAADwPwAAAAAAAPA\\u002fAAAAAAAA8D8AAAAAAADwPwAAAAAAAPA\\u002fAAAAAAAA8D8AAAAAAADwPwAAAAAAAPA\\u002fAAAAAAAA8D8AAAAAAADwPwAAAAAAAPA\\u002f\"},\"yaxis\":\"y\",\"type\":\"scatter\"}],\"name\":\"17\"},{\"data\":[{\"hovertemplate\":\"variable=18\\u003cbr\\u003ex=%{x}\\u003cbr\\u003evalue=%{y}\\u003cextra\\u003e\\u003c\\u002fextra\\u003e\",\"legendgroup\":\"\",\"line\":{\"color\":\"#636efa\",\"dash\":\"solid\"},\"marker\":{\"symbol\":\"circle\"},\"mode\":\"lines\",\"name\":\"\",\"orientation\":\"v\",\"showlegend\":false,\"x\":{\"dtype\":\"f8\",\"bdata\":\"AAAAAAAAAACamZmZmZmZP5qZmZmZmak\\u002fNDMzMzMzsz+amZmZmZm5PwAAAAAAAMA\\u002fNDMzMzMzwz9nZmZmZmbGP5qZmZmZmck\\u002fzczMzMzMzD8AAAAAAADQP5qZmZmZmdE\\u002fNDMzMzMz0z\\u002fNzMzMzMzUP2dmZmZmZtY\\u002fAAAAAAAA2D+amZmZmZnZPzQzMzMzM9s\\u002fzczMzMzM3D9nZmZmZmbePwAAAAAAAOA\\u002fzczMzMzM4D+amZmZmZnhP2dmZmZmZuI\\u002fNDMzMzMz4z8AAAAAAADkP83MzMzMzOQ\\u002fmpmZmZmZ5T9nZmZmZmbmPzQzMzMzM+c\\u002fAAAAAAAA6D\\u002fNzMzMzMzoP5qZmZmZmek\\u002fZ2ZmZmZm6j80MzMzMzPrPwAAAAAAAOw\\u002fzczMzMzM7D+amZmZmZntP2dmZmZmZu4\\u002fNDMzMzMz7z8AAAAAAADwP2dmZmZmZvA\\u002fzczMzMzM8D8zMzMzMzPxP5qZmZmZmfE\\u002fAAAAAAAA8j9nZmZmZmbyP83MzMzMzPI\\u002fNDMzMzMz8z+amZmZmZnzPwAAAAAAAPQ\\u002fZ2ZmZmZm9D\\u002fNzMzMzMz0PzQzMzMzM\\u002fU\\u002fmpmZmZmZ9T8AAAAAAAD2P2dmZmZmZvY\\u002fzczMzMzM9j80MzMzMzP3P5qZmZmZmfc\\u002fAAAAAAAA+D9nZmZmZmb4P83MzMzMzPg\\u002fNDMzMzMz+T+amZmZmZn5PwAAAAAAAPo\\u002fZ2ZmZmZm+j\\u002fNzMzMzMz6PzQzMzMzM\\u002fs\\u002fmpmZmZmZ+z8AAAAAAAD8P2dmZmZmZvw\\u002fzczMzMzM\\u002fD80MzMzMzP9P5qZmZmZmf0\\u002fAAAAAAAA\\u002fj9nZmZmZmb+P83MzMzMzP4\\u002fNDMzMzMz\\u002fz+amZmZmZn\\u002fPwAAAAAAAABA\"},\"xaxis\":\"x\",\"y\":{\"dtype\":\"f8\",\"bdata\":\"AAAAAAAA8D8AAAAAAADwPwAAAAAAAPA\\u002fAAAAAAAA8D8AAAAAAADwPwAAAAAAAPA\\u002fAAAAAAAA8D8AAAAAAADwPwAAAAAAAPA\\u002fAAAAAAAA8D8AAAAAAADwPwAAAAAAAPA\\u002fAAAAAAAA8D8AAAAAAADwPwAAAAAAAPA\\u002fAAAAAAAA8D8AAAAAAADwPwAAAAAAAPA\\u002fAAAAAAAA8D8AAAAAAADwPwAAAAAAAPA\\u002fAAAAAAAA8D8AAAAAAADwPwAAAAAAAPA\\u002fAAAAAAAA8D8AAAAAAADwPwAAAAAAAPA\\u002fAAAAAAAA8D8AAAAAAADwPwAAAAAAAPA\\u002fAAAAAAAA8D8AAAAAAADwPwAAAAAAAPA\\u002fAAAAAAAA8D8AAAAAAADwPwAAAAAAAPA\\u002fAAAAAAAA8D8AAAAAAADwPwAAAAAAAABAAAAAAAAAAEAAAAAAAAAAQAAAAAAAAABAAAAAAAAAAEAAAAAAAAAAQAAAAAAAAABAAAAAAAAAAEAAAAAAAAAAQAAAAAAAAABAAAAAAAAAAEAAAAAAAAAAQAAAAAAAAABAAAAAAAAAAEAAAAAAAAAAQAAAAAAAAABAAAAAAAAAAEAAAAAAAAAAQAAAAAAAAABAAAAAAAAAAEAAAAAAAAAAQAAAAAAAAPA\\u002fAAAAAAAA8D8AAAAAAADwPwAAAAAAAPA\\u002fAAAAAAAA8D8AAAAAAADwPwAAAAAAAPA\\u002fAAAAAAAA8D8AAAAAAADwPwAAAAAAAPA\\u002fAAAAAAAA8D8AAAAAAADwPwAAAAAAAPA\\u002fAAAAAAAA8D8AAAAAAADwPwAAAAAAAPA\\u002fAAAAAAAA8D8AAAAAAADwPwAAAAAAAPA\\u002fAAAAAAAA8D8AAAAAAADwPwAAAAAAAPA\\u002f\"},\"yaxis\":\"y\",\"type\":\"scatter\"}],\"name\":\"18\"},{\"data\":[{\"hovertemplate\":\"variable=19\\u003cbr\\u003ex=%{x}\\u003cbr\\u003evalue=%{y}\\u003cextra\\u003e\\u003c\\u002fextra\\u003e\",\"legendgroup\":\"\",\"line\":{\"color\":\"#636efa\",\"dash\":\"solid\"},\"marker\":{\"symbol\":\"circle\"},\"mode\":\"lines\",\"name\":\"\",\"orientation\":\"v\",\"showlegend\":false,\"x\":{\"dtype\":\"f8\",\"bdata\":\"AAAAAAAAAACamZmZmZmZP5qZmZmZmak\\u002fNDMzMzMzsz+amZmZmZm5PwAAAAAAAMA\\u002fNDMzMzMzwz9nZmZmZmbGP5qZmZmZmck\\u002fzczMzMzMzD8AAAAAAADQP5qZmZmZmdE\\u002fNDMzMzMz0z\\u002fNzMzMzMzUP2dmZmZmZtY\\u002fAAAAAAAA2D+amZmZmZnZPzQzMzMzM9s\\u002fzczMzMzM3D9nZmZmZmbePwAAAAAAAOA\\u002fzczMzMzM4D+amZmZmZnhP2dmZmZmZuI\\u002fNDMzMzMz4z8AAAAAAADkP83MzMzMzOQ\\u002fmpmZmZmZ5T9nZmZmZmbmPzQzMzMzM+c\\u002fAAAAAAAA6D\\u002fNzMzMzMzoP5qZmZmZmek\\u002fZ2ZmZmZm6j80MzMzMzPrPwAAAAAAAOw\\u002fzczMzMzM7D+amZmZmZntP2dmZmZmZu4\\u002fNDMzMzMz7z8AAAAAAADwP2dmZmZmZvA\\u002fzczMzMzM8D8zMzMzMzPxP5qZmZmZmfE\\u002fAAAAAAAA8j9nZmZmZmbyP83MzMzMzPI\\u002fNDMzMzMz8z+amZmZmZnzPwAAAAAAAPQ\\u002fZ2ZmZmZm9D\\u002fNzMzMzMz0PzQzMzMzM\\u002fU\\u002fmpmZmZmZ9T8AAAAAAAD2P2dmZmZmZvY\\u002fzczMzMzM9j80MzMzMzP3P5qZmZmZmfc\\u002fAAAAAAAA+D9nZmZmZmb4P83MzMzMzPg\\u002fNDMzMzMz+T+amZmZmZn5PwAAAAAAAPo\\u002fZ2ZmZmZm+j\\u002fNzMzMzMz6PzQzMzMzM\\u002fs\\u002fmpmZmZmZ+z8AAAAAAAD8P2dmZmZmZvw\\u002fzczMzMzM\\u002fD80MzMzMzP9P5qZmZmZmf0\\u002fAAAAAAAA\\u002fj9nZmZmZmb+P83MzMzMzP4\\u002fNDMzMzMz\\u002fz+amZmZmZn\\u002fPwAAAAAAAABA\"},\"xaxis\":\"x\",\"y\":{\"dtype\":\"f8\",\"bdata\":\"AAAAAAAA8D8AAAAAAADwPwAAAAAAAPA\\u002fAAAAAAAA8D8AAAAAAADwPwAAAAAAAPA\\u002fAAAAAAAA8D8AAAAAAADwPwAAAAAAAPA\\u002fAAAAAAAA8D8AAAAAAADwPwAAAAAAAPA\\u002fAAAAAAAA8D8AAAAAAADwPwAAAAAAAPA\\u002fAAAAAAAA8D8AAAAAAADwPwAAAAAAAPA\\u002fAAAAAAAA8D8AAAAAAADwPwAAAAAAAPA\\u002fAAAAAAAA8D8AAAAAAADwPwAAAAAAAPA\\u002fAAAAAAAA8D8AAAAAAADwPwAAAAAAAPA\\u002fAAAAAAAA8D8AAAAAAADwPwAAAAAAAPA\\u002fAAAAAAAA8D8AAAAAAADwPwAAAAAAAPA\\u002fAAAAAAAA8D8AAAAAAADwPwAAAAAAAPA\\u002fAAAAAAAA8D8AAAAAAADwPwAAAAAAAPA\\u002fAAAAAAAAAEAAAAAAAAAAQAAAAAAAAABAAAAAAAAAAEAAAAAAAAAAQAAAAAAAAABAAAAAAAAAAEAAAAAAAAAAQAAAAAAAAABAAAAAAAAAAEAAAAAAAAAAQAAAAAAAAABAAAAAAAAAAEAAAAAAAAAAQAAAAAAAAABAAAAAAAAAAEAAAAAAAAAAQAAAAAAAAABAAAAAAAAAAEAAAAAAAAAAQAAAAAAAAABAAAAAAAAA8D8AAAAAAADwPwAAAAAAAPA\\u002fAAAAAAAA8D8AAAAAAADwPwAAAAAAAPA\\u002fAAAAAAAA8D8AAAAAAADwPwAAAAAAAPA\\u002fAAAAAAAA8D8AAAAAAADwPwAAAAAAAPA\\u002fAAAAAAAA8D8AAAAAAADwPwAAAAAAAPA\\u002fAAAAAAAA8D8AAAAAAADwPwAAAAAAAPA\\u002fAAAAAAAA8D8AAAAAAADwPwAAAAAAAPA\\u002f\"},\"yaxis\":\"y\",\"type\":\"scatter\"}],\"name\":\"19\"},{\"data\":[{\"hovertemplate\":\"variable=20\\u003cbr\\u003ex=%{x}\\u003cbr\\u003evalue=%{y}\\u003cextra\\u003e\\u003c\\u002fextra\\u003e\",\"legendgroup\":\"\",\"line\":{\"color\":\"#636efa\",\"dash\":\"solid\"},\"marker\":{\"symbol\":\"circle\"},\"mode\":\"lines\",\"name\":\"\",\"orientation\":\"v\",\"showlegend\":false,\"x\":{\"dtype\":\"f8\",\"bdata\":\"AAAAAAAAAACamZmZmZmZP5qZmZmZmak\\u002fNDMzMzMzsz+amZmZmZm5PwAAAAAAAMA\\u002fNDMzMzMzwz9nZmZmZmbGP5qZmZmZmck\\u002fzczMzMzMzD8AAAAAAADQP5qZmZmZmdE\\u002fNDMzMzMz0z\\u002fNzMzMzMzUP2dmZmZmZtY\\u002fAAAAAAAA2D+amZmZmZnZPzQzMzMzM9s\\u002fzczMzMzM3D9nZmZmZmbePwAAAAAAAOA\\u002fzczMzMzM4D+amZmZmZnhP2dmZmZmZuI\\u002fNDMzMzMz4z8AAAAAAADkP83MzMzMzOQ\\u002fmpmZmZmZ5T9nZmZmZmbmPzQzMzMzM+c\\u002fAAAAAAAA6D\\u002fNzMzMzMzoP5qZmZmZmek\\u002fZ2ZmZmZm6j80MzMzMzPrPwAAAAAAAOw\\u002fzczMzMzM7D+amZmZmZntP2dmZmZmZu4\\u002fNDMzMzMz7z8AAAAAAADwP2dmZmZmZvA\\u002fzczMzMzM8D8zMzMzMzPxP5qZmZmZmfE\\u002fAAAAAAAA8j9nZmZmZmbyP83MzMzMzPI\\u002fNDMzMzMz8z+amZmZmZnzPwAAAAAAAPQ\\u002fZ2ZmZmZm9D\\u002fNzMzMzMz0PzQzMzMzM\\u002fU\\u002fmpmZmZmZ9T8AAAAAAAD2P2dmZmZmZvY\\u002fzczMzMzM9j80MzMzMzP3P5qZmZmZmfc\\u002fAAAAAAAA+D9nZmZmZmb4P83MzMzMzPg\\u002fNDMzMzMz+T+amZmZmZn5PwAAAAAAAPo\\u002fZ2ZmZmZm+j\\u002fNzMzMzMz6PzQzMzMzM\\u002fs\\u002fmpmZmZmZ+z8AAAAAAAD8P2dmZmZmZvw\\u002fzczMzMzM\\u002fD80MzMzMzP9P5qZmZmZmf0\\u002fAAAAAAAA\\u002fj9nZmZmZmb+P83MzMzMzP4\\u002fNDMzMzMz\\u002fz+amZmZmZn\\u002fPwAAAAAAAABA\"},\"xaxis\":\"x\",\"y\":{\"dtype\":\"f8\",\"bdata\":\"AAAAAAAA8D8AAAAAAADwPwAAAAAAAPA\\u002fAAAAAAAA8D8AAAAAAADwPwAAAAAAAPA\\u002fAAAAAAAA8D8AAAAAAADwPwAAAAAAAPA\\u002fAAAAAAAA8D8AAAAAAADwPwAAAAAAAPA\\u002fAAAAAAAA8D8AAAAAAADwPwAAAAAAAPA\\u002fAAAAAAAA8D8AAAAAAADwPwAAAAAAAPA\\u002fAAAAAAAA8D8AAAAAAADwPwAAAAAAAPA\\u002fAAAAAAAA8D8AAAAAAADwPwAAAAAAAPA\\u002fAAAAAAAA8D8AAAAAAADwPwAAAAAAAPA\\u002fAAAAAAAA8D8AAAAAAADwPwAAAAAAAPA\\u002fAAAAAAAA8D8AAAAAAADwPwAAAAAAAPA\\u002fAAAAAAAA8D8AAAAAAADwPwAAAAAAAPA\\u002fAAAAAAAA8D8AAAAAAADwPwAAAAAAAPA\\u002fAAAAAAAA8D8AAAAAAAAAQAAAAAAAAABAAAAAAAAAAEAAAAAAAAAAQAAAAAAAAABAAAAAAAAAAEAAAAAAAAAAQAAAAAAAAABAAAAAAAAAAEAAAAAAAAAAQAAAAAAAAABAAAAAAAAAAEAAAAAAAAAAQAAAAAAAAABAAAAAAAAAAEAAAAAAAAAAQAAAAAAAAABAAAAAAAAAAEAAAAAAAAAAQAAAAAAAAABAAAAAAAAAAEAAAAAAAADwPwAAAAAAAPA\\u002fAAAAAAAA8D8AAAAAAADwPwAAAAAAAPA\\u002fAAAAAAAA8D8AAAAAAADwPwAAAAAAAPA\\u002fAAAAAAAA8D8AAAAAAADwPwAAAAAAAPA\\u002fAAAAAAAA8D8AAAAAAADwPwAAAAAAAPA\\u002fAAAAAAAA8D8AAAAAAADwPwAAAAAAAPA\\u002fAAAAAAAA8D8AAAAAAADwPwAAAAAAAPA\\u002f\"},\"yaxis\":\"y\",\"type\":\"scatter\"}],\"name\":\"20\"},{\"data\":[{\"hovertemplate\":\"variable=21\\u003cbr\\u003ex=%{x}\\u003cbr\\u003evalue=%{y}\\u003cextra\\u003e\\u003c\\u002fextra\\u003e\",\"legendgroup\":\"\",\"line\":{\"color\":\"#636efa\",\"dash\":\"solid\"},\"marker\":{\"symbol\":\"circle\"},\"mode\":\"lines\",\"name\":\"\",\"orientation\":\"v\",\"showlegend\":false,\"x\":{\"dtype\":\"f8\",\"bdata\":\"AAAAAAAAAACamZmZmZmZP5qZmZmZmak\\u002fNDMzMzMzsz+amZmZmZm5PwAAAAAAAMA\\u002fNDMzMzMzwz9nZmZmZmbGP5qZmZmZmck\\u002fzczMzMzMzD8AAAAAAADQP5qZmZmZmdE\\u002fNDMzMzMz0z\\u002fNzMzMzMzUP2dmZmZmZtY\\u002fAAAAAAAA2D+amZmZmZnZPzQzMzMzM9s\\u002fzczMzMzM3D9nZmZmZmbePwAAAAAAAOA\\u002fzczMzMzM4D+amZmZmZnhP2dmZmZmZuI\\u002fNDMzMzMz4z8AAAAAAADkP83MzMzMzOQ\\u002fmpmZmZmZ5T9nZmZmZmbmPzQzMzMzM+c\\u002fAAAAAAAA6D\\u002fNzMzMzMzoP5qZmZmZmek\\u002fZ2ZmZmZm6j80MzMzMzPrPwAAAAAAAOw\\u002fzczMzMzM7D+amZmZmZntP2dmZmZmZu4\\u002fNDMzMzMz7z8AAAAAAADwP2dmZmZmZvA\\u002fzczMzMzM8D8zMzMzMzPxP5qZmZmZmfE\\u002fAAAAAAAA8j9nZmZmZmbyP83MzMzMzPI\\u002fNDMzMzMz8z+amZmZmZnzPwAAAAAAAPQ\\u002fZ2ZmZmZm9D\\u002fNzMzMzMz0PzQzMzMzM\\u002fU\\u002fmpmZmZmZ9T8AAAAAAAD2P2dmZmZmZvY\\u002fzczMzMzM9j80MzMzMzP3P5qZmZmZmfc\\u002fAAAAAAAA+D9nZmZmZmb4P83MzMzMzPg\\u002fNDMzMzMz+T+amZmZmZn5PwAAAAAAAPo\\u002fZ2ZmZmZm+j\\u002fNzMzMzMz6PzQzMzMzM\\u002fs\\u002fmpmZmZmZ+z8AAAAAAAD8P2dmZmZmZvw\\u002fzczMzMzM\\u002fD80MzMzMzP9P5qZmZmZmf0\\u002fAAAAAAAA\\u002fj9nZmZmZmb+P83MzMzMzP4\\u002fNDMzMzMz\\u002fz+amZmZmZn\\u002fPwAAAAAAAABA\"},\"xaxis\":\"x\",\"y\":{\"dtype\":\"f8\",\"bdata\":\"AAAAAAAA8D8AAAAAAADwPwAAAAAAAPA\\u002fAAAAAAAA8D8AAAAAAADwPwAAAAAAAPA\\u002fAAAAAAAA8D8AAAAAAADwPwAAAAAAAPA\\u002fAAAAAAAA8D8AAAAAAADwPwAAAAAAAPA\\u002fAAAAAAAA8D8AAAAAAADwPwAAAAAAAPA\\u002fAAAAAAAA8D8AAAAAAADwPwAAAAAAAPA\\u002fAAAAAAAA8D8AAAAAAADwPwAAAAAAAPA\\u002fAAAAAAAA8D8AAAAAAADwPwAAAAAAAPA\\u002fAAAAAAAA8D8AAAAAAADwPwAAAAAAAPA\\u002fAAAAAAAA8D8AAAAAAADwPwAAAAAAAPA\\u002fAAAAAAAA8D8AAAAAAADwPwAAAAAAAPA\\u002fAAAAAAAA8D8AAAAAAADwPwAAAAAAAPA\\u002fAAAAAAAA8D8AAAAAAADwPwAAAAAAAPA\\u002fAAAAAAAA8D8AAAAAAADwPwAAAAAAAABAAAAAAAAAAEAAAAAAAAAAQAAAAAAAAABAAAAAAAAAAEAAAAAAAAAAQAAAAAAAAABAAAAAAAAAAEAAAAAAAAAAQAAAAAAAAABAAAAAAAAAAEAAAAAAAAAAQAAAAAAAAABAAAAAAAAAAEAAAAAAAAAAQAAAAAAAAABAAAAAAAAAAEAAAAAAAAAAQAAAAAAAAABAAAAAAAAAAEAAAAAAAAAAQAAAAAAAAPA\\u002fAAAAAAAA8D8AAAAAAADwPwAAAAAAAPA\\u002fAAAAAAAA8D8AAAAAAADwPwAAAAAAAPA\\u002fAAAAAAAA8D8AAAAAAADwPwAAAAAAAPA\\u002fAAAAAAAA8D8AAAAAAADwPwAAAAAAAPA\\u002fAAAAAAAA8D8AAAAAAADwPwAAAAAAAPA\\u002fAAAAAAAA8D8AAAAAAADwPwAAAAAAAPA\\u002f\"},\"yaxis\":\"y\",\"type\":\"scatter\"}],\"name\":\"21\"},{\"data\":[{\"hovertemplate\":\"variable=22\\u003cbr\\u003ex=%{x}\\u003cbr\\u003evalue=%{y}\\u003cextra\\u003e\\u003c\\u002fextra\\u003e\",\"legendgroup\":\"\",\"line\":{\"color\":\"#636efa\",\"dash\":\"solid\"},\"marker\":{\"symbol\":\"circle\"},\"mode\":\"lines\",\"name\":\"\",\"orientation\":\"v\",\"showlegend\":false,\"x\":{\"dtype\":\"f8\",\"bdata\":\"AAAAAAAAAACamZmZmZmZP5qZmZmZmak\\u002fNDMzMzMzsz+amZmZmZm5PwAAAAAAAMA\\u002fNDMzMzMzwz9nZmZmZmbGP5qZmZmZmck\\u002fzczMzMzMzD8AAAAAAADQP5qZmZmZmdE\\u002fNDMzMzMz0z\\u002fNzMzMzMzUP2dmZmZmZtY\\u002fAAAAAAAA2D+amZmZmZnZPzQzMzMzM9s\\u002fzczMzMzM3D9nZmZmZmbePwAAAAAAAOA\\u002fzczMzMzM4D+amZmZmZnhP2dmZmZmZuI\\u002fNDMzMzMz4z8AAAAAAADkP83MzMzMzOQ\\u002fmpmZmZmZ5T9nZmZmZmbmPzQzMzMzM+c\\u002fAAAAAAAA6D\\u002fNzMzMzMzoP5qZmZmZmek\\u002fZ2ZmZmZm6j80MzMzMzPrPwAAAAAAAOw\\u002fzczMzMzM7D+amZmZmZntP2dmZmZmZu4\\u002fNDMzMzMz7z8AAAAAAADwP2dmZmZmZvA\\u002fzczMzMzM8D8zMzMzMzPxP5qZmZmZmfE\\u002fAAAAAAAA8j9nZmZmZmbyP83MzMzMzPI\\u002fNDMzMzMz8z+amZmZmZnzPwAAAAAAAPQ\\u002fZ2ZmZmZm9D\\u002fNzMzMzMz0PzQzMzMzM\\u002fU\\u002fmpmZmZmZ9T8AAAAAAAD2P2dmZmZmZvY\\u002fzczMzMzM9j80MzMzMzP3P5qZmZmZmfc\\u002fAAAAAAAA+D9nZmZmZmb4P83MzMzMzPg\\u002fNDMzMzMz+T+amZmZmZn5PwAAAAAAAPo\\u002fZ2ZmZmZm+j\\u002fNzMzMzMz6PzQzMzMzM\\u002fs\\u002fmpmZmZmZ+z8AAAAAAAD8P2dmZmZmZvw\\u002fzczMzMzM\\u002fD80MzMzMzP9P5qZmZmZmf0\\u002fAAAAAAAA\\u002fj9nZmZmZmb+P83MzMzMzP4\\u002fNDMzMzMz\\u002fz+amZmZmZn\\u002fPwAAAAAAAABA\"},\"xaxis\":\"x\",\"y\":{\"dtype\":\"f8\",\"bdata\":\"AAAAAAAA8D8AAAAAAADwPwAAAAAAAPA\\u002fAAAAAAAA8D8AAAAAAADwPwAAAAAAAPA\\u002fAAAAAAAA8D8AAAAAAADwPwAAAAAAAPA\\u002fAAAAAAAA8D8AAAAAAADwPwAAAAAAAPA\\u002fAAAAAAAA8D8AAAAAAADwPwAAAAAAAPA\\u002fAAAAAAAA8D8AAAAAAADwPwAAAAAAAPA\\u002fAAAAAAAA8D8AAAAAAADwPwAAAAAAAPA\\u002fAAAAAAAA8D8AAAAAAADwPwAAAAAAAPA\\u002fAAAAAAAA8D8AAAAAAADwPwAAAAAAAPA\\u002fAAAAAAAA8D8AAAAAAADwPwAAAAAAAPA\\u002fAAAAAAAA8D8AAAAAAADwPwAAAAAAAPA\\u002fAAAAAAAA8D8AAAAAAADwPwAAAAAAAPA\\u002fAAAAAAAA8D8AAAAAAADwPwAAAAAAAPA\\u002fAAAAAAAA8D8AAAAAAADwPwAAAAAAAPA\\u002fAAAAAAAAAEAAAAAAAAAAQAAAAAAAAABAAAAAAAAAAEAAAAAAAAAAQAAAAAAAAABAAAAAAAAAAEAAAAAAAAAAQAAAAAAAAABAAAAAAAAAAEAAAAAAAAAAQAAAAAAAAABAAAAAAAAAAEAAAAAAAAAAQAAAAAAAAABAAAAAAAAAAEAAAAAAAAAAQAAAAAAAAABAAAAAAAAAAEAAAAAAAAAAQAAAAAAAAABAAAAAAAAA8D8AAAAAAADwPwAAAAAAAPA\\u002fAAAAAAAA8D8AAAAAAADwPwAAAAAAAPA\\u002fAAAAAAAA8D8AAAAAAADwPwAAAAAAAPA\\u002fAAAAAAAA8D8AAAAAAADwPwAAAAAAAPA\\u002fAAAAAAAA8D8AAAAAAADwPwAAAAAAAPA\\u002fAAAAAAAA8D8AAAAAAADwPwAAAAAAAPA\\u002f\"},\"yaxis\":\"y\",\"type\":\"scatter\"}],\"name\":\"22\"},{\"data\":[{\"hovertemplate\":\"variable=23\\u003cbr\\u003ex=%{x}\\u003cbr\\u003evalue=%{y}\\u003cextra\\u003e\\u003c\\u002fextra\\u003e\",\"legendgroup\":\"\",\"line\":{\"color\":\"#636efa\",\"dash\":\"solid\"},\"marker\":{\"symbol\":\"circle\"},\"mode\":\"lines\",\"name\":\"\",\"orientation\":\"v\",\"showlegend\":false,\"x\":{\"dtype\":\"f8\",\"bdata\":\"AAAAAAAAAACamZmZmZmZP5qZmZmZmak\\u002fNDMzMzMzsz+amZmZmZm5PwAAAAAAAMA\\u002fNDMzMzMzwz9nZmZmZmbGP5qZmZmZmck\\u002fzczMzMzMzD8AAAAAAADQP5qZmZmZmdE\\u002fNDMzMzMz0z\\u002fNzMzMzMzUP2dmZmZmZtY\\u002fAAAAAAAA2D+amZmZmZnZPzQzMzMzM9s\\u002fzczMzMzM3D9nZmZmZmbePwAAAAAAAOA\\u002fzczMzMzM4D+amZmZmZnhP2dmZmZmZuI\\u002fNDMzMzMz4z8AAAAAAADkP83MzMzMzOQ\\u002fmpmZmZmZ5T9nZmZmZmbmPzQzMzMzM+c\\u002fAAAAAAAA6D\\u002fNzMzMzMzoP5qZmZmZmek\\u002fZ2ZmZmZm6j80MzMzMzPrPwAAAAAAAOw\\u002fzczMzMzM7D+amZmZmZntP2dmZmZmZu4\\u002fNDMzMzMz7z8AAAAAAADwP2dmZmZmZvA\\u002fzczMzMzM8D8zMzMzMzPxP5qZmZmZmfE\\u002fAAAAAAAA8j9nZmZmZmbyP83MzMzMzPI\\u002fNDMzMzMz8z+amZmZmZnzPwAAAAAAAPQ\\u002fZ2ZmZmZm9D\\u002fNzMzMzMz0PzQzMzMzM\\u002fU\\u002fmpmZmZmZ9T8AAAAAAAD2P2dmZmZmZvY\\u002fzczMzMzM9j80MzMzMzP3P5qZmZmZmfc\\u002fAAAAAAAA+D9nZmZmZmb4P83MzMzMzPg\\u002fNDMzMzMz+T+amZmZmZn5PwAAAAAAAPo\\u002fZ2ZmZmZm+j\\u002fNzMzMzMz6PzQzMzMzM\\u002fs\\u002fmpmZmZmZ+z8AAAAAAAD8P2dmZmZmZvw\\u002fzczMzMzM\\u002fD80MzMzMzP9P5qZmZmZmf0\\u002fAAAAAAAA\\u002fj9nZmZmZmb+P83MzMzMzP4\\u002fNDMzMzMz\\u002fz+amZmZmZn\\u002fPwAAAAAAAABA\"},\"xaxis\":\"x\",\"y\":{\"dtype\":\"f8\",\"bdata\":\"AAAAAAAA8D8AAAAAAADwPwAAAAAAAPA\\u002fAAAAAAAA8D8AAAAAAADwPwAAAAAAAPA\\u002fAAAAAAAA8D8AAAAAAADwPwAAAAAAAPA\\u002fAAAAAAAA8D8AAAAAAADwPwAAAAAAAPA\\u002fAAAAAAAA8D8AAAAAAADwPwAAAAAAAPA\\u002fAAAAAAAA8D8AAAAAAADwPwAAAAAAAPA\\u002fAAAAAAAA8D8AAAAAAADwPwAAAAAAAPA\\u002fAAAAAAAA8D8AAAAAAADwPwAAAAAAAPA\\u002fAAAAAAAA8D8AAAAAAADwPwAAAAAAAPA\\u002fAAAAAAAA8D8AAAAAAADwPwAAAAAAAPA\\u002fAAAAAAAA8D8AAAAAAADwPwAAAAAAAPA\\u002fAAAAAAAA8D8AAAAAAADwPwAAAAAAAPA\\u002fAAAAAAAA8D8AAAAAAADwPwAAAAAAAPA\\u002fAAAAAAAA8D8AAAAAAADwPwAAAAAAAPA\\u002fAAAAAAAA8D8AAAAAAAAAQAAAAAAAAABAAAAAAAAAAEAAAAAAAAAAQAAAAAAAAABAAAAAAAAAAEAAAAAAAAAAQAAAAAAAAABAAAAAAAAAAEAAAAAAAAAAQAAAAAAAAABAAAAAAAAAAEAAAAAAAAAAQAAAAAAAAABAAAAAAAAAAEAAAAAAAAAAQAAAAAAAAABAAAAAAAAAAEAAAAAAAAAAQAAAAAAAAABAAAAAAAAAAEAAAAAAAADwPwAAAAAAAPA\\u002fAAAAAAAA8D8AAAAAAADwPwAAAAAAAPA\\u002fAAAAAAAA8D8AAAAAAADwPwAAAAAAAPA\\u002fAAAAAAAA8D8AAAAAAADwPwAAAAAAAPA\\u002fAAAAAAAA8D8AAAAAAADwPwAAAAAAAPA\\u002fAAAAAAAA8D8AAAAAAADwPwAAAAAAAPA\\u002f\"},\"yaxis\":\"y\",\"type\":\"scatter\"}],\"name\":\"23\"},{\"data\":[{\"hovertemplate\":\"variable=24\\u003cbr\\u003ex=%{x}\\u003cbr\\u003evalue=%{y}\\u003cextra\\u003e\\u003c\\u002fextra\\u003e\",\"legendgroup\":\"\",\"line\":{\"color\":\"#636efa\",\"dash\":\"solid\"},\"marker\":{\"symbol\":\"circle\"},\"mode\":\"lines\",\"name\":\"\",\"orientation\":\"v\",\"showlegend\":false,\"x\":{\"dtype\":\"f8\",\"bdata\":\"AAAAAAAAAACamZmZmZmZP5qZmZmZmak\\u002fNDMzMzMzsz+amZmZmZm5PwAAAAAAAMA\\u002fNDMzMzMzwz9nZmZmZmbGP5qZmZmZmck\\u002fzczMzMzMzD8AAAAAAADQP5qZmZmZmdE\\u002fNDMzMzMz0z\\u002fNzMzMzMzUP2dmZmZmZtY\\u002fAAAAAAAA2D+amZmZmZnZPzQzMzMzM9s\\u002fzczMzMzM3D9nZmZmZmbePwAAAAAAAOA\\u002fzczMzMzM4D+amZmZmZnhP2dmZmZmZuI\\u002fNDMzMzMz4z8AAAAAAADkP83MzMzMzOQ\\u002fmpmZmZmZ5T9nZmZmZmbmPzQzMzMzM+c\\u002fAAAAAAAA6D\\u002fNzMzMzMzoP5qZmZmZmek\\u002fZ2ZmZmZm6j80MzMzMzPrPwAAAAAAAOw\\u002fzczMzMzM7D+amZmZmZntP2dmZmZmZu4\\u002fNDMzMzMz7z8AAAAAAADwP2dmZmZmZvA\\u002fzczMzMzM8D8zMzMzMzPxP5qZmZmZmfE\\u002fAAAAAAAA8j9nZmZmZmbyP83MzMzMzPI\\u002fNDMzMzMz8z+amZmZmZnzPwAAAAAAAPQ\\u002fZ2ZmZmZm9D\\u002fNzMzMzMz0PzQzMzMzM\\u002fU\\u002fmpmZmZmZ9T8AAAAAAAD2P2dmZmZmZvY\\u002fzczMzMzM9j80MzMzMzP3P5qZmZmZmfc\\u002fAAAAAAAA+D9nZmZmZmb4P83MzMzMzPg\\u002fNDMzMzMz+T+amZmZmZn5PwAAAAAAAPo\\u002fZ2ZmZmZm+j\\u002fNzMzMzMz6PzQzMzMzM\\u002fs\\u002fmpmZmZmZ+z8AAAAAAAD8P2dmZmZmZvw\\u002fzczMzMzM\\u002fD80MzMzMzP9P5qZmZmZmf0\\u002fAAAAAAAA\\u002fj9nZmZmZmb+P83MzMzMzP4\\u002fNDMzMzMz\\u002fz+amZmZmZn\\u002fPwAAAAAAAABA\"},\"xaxis\":\"x\",\"y\":{\"dtype\":\"f8\",\"bdata\":\"AAAAAAAA8D8AAAAAAADwPwAAAAAAAPA\\u002fAAAAAAAA8D8AAAAAAADwPwAAAAAAAPA\\u002fAAAAAAAA8D8AAAAAAADwPwAAAAAAAPA\\u002fAAAAAAAA8D8AAAAAAADwPwAAAAAAAPA\\u002fAAAAAAAA8D8AAAAAAADwPwAAAAAAAPA\\u002fAAAAAAAA8D8AAAAAAADwPwAAAAAAAPA\\u002fAAAAAAAA8D8AAAAAAADwPwAAAAAAAPA\\u002fAAAAAAAA8D8AAAAAAADwPwAAAAAAAPA\\u002fAAAAAAAA8D8AAAAAAADwPwAAAAAAAPA\\u002fAAAAAAAA8D8AAAAAAADwPwAAAAAAAPA\\u002fAAAAAAAA8D8AAAAAAADwPwAAAAAAAPA\\u002fAAAAAAAA8D8AAAAAAADwPwAAAAAAAPA\\u002fAAAAAAAA8D8AAAAAAADwPwAAAAAAAPA\\u002fAAAAAAAA8D8AAAAAAADwPwAAAAAAAPA\\u002fAAAAAAAA8D8AAAAAAADwPwAAAAAAAABAAAAAAAAAAEAAAAAAAAAAQAAAAAAAAABAAAAAAAAAAEAAAAAAAAAAQAAAAAAAAABAAAAAAAAAAEAAAAAAAAAAQAAAAAAAAABAAAAAAAAAAEAAAAAAAAAAQAAAAAAAAABAAAAAAAAAAEAAAAAAAAAAQAAAAAAAAABAAAAAAAAAAEAAAAAAAAAAQAAAAAAAAABAAAAAAAAAAEAAAAAAAAAAQAAAAAAAAPA\\u002fAAAAAAAA8D8AAAAAAADwPwAAAAAAAPA\\u002fAAAAAAAA8D8AAAAAAADwPwAAAAAAAPA\\u002fAAAAAAAA8D8AAAAAAADwPwAAAAAAAPA\\u002fAAAAAAAA8D8AAAAAAADwPwAAAAAAAPA\\u002fAAAAAAAA8D8AAAAAAADwPwAAAAAAAPA\\u002f\"},\"yaxis\":\"y\",\"type\":\"scatter\"}],\"name\":\"24\"},{\"data\":[{\"hovertemplate\":\"variable=25\\u003cbr\\u003ex=%{x}\\u003cbr\\u003evalue=%{y}\\u003cextra\\u003e\\u003c\\u002fextra\\u003e\",\"legendgroup\":\"\",\"line\":{\"color\":\"#636efa\",\"dash\":\"solid\"},\"marker\":{\"symbol\":\"circle\"},\"mode\":\"lines\",\"name\":\"\",\"orientation\":\"v\",\"showlegend\":false,\"x\":{\"dtype\":\"f8\",\"bdata\":\"AAAAAAAAAACamZmZmZmZP5qZmZmZmak\\u002fNDMzMzMzsz+amZmZmZm5PwAAAAAAAMA\\u002fNDMzMzMzwz9nZmZmZmbGP5qZmZmZmck\\u002fzczMzMzMzD8AAAAAAADQP5qZmZmZmdE\\u002fNDMzMzMz0z\\u002fNzMzMzMzUP2dmZmZmZtY\\u002fAAAAAAAA2D+amZmZmZnZPzQzMzMzM9s\\u002fzczMzMzM3D9nZmZmZmbePwAAAAAAAOA\\u002fzczMzMzM4D+amZmZmZnhP2dmZmZmZuI\\u002fNDMzMzMz4z8AAAAAAADkP83MzMzMzOQ\\u002fmpmZmZmZ5T9nZmZmZmbmPzQzMzMzM+c\\u002fAAAAAAAA6D\\u002fNzMzMzMzoP5qZmZmZmek\\u002fZ2ZmZmZm6j80MzMzMzPrPwAAAAAAAOw\\u002fzczMzMzM7D+amZmZmZntP2dmZmZmZu4\\u002fNDMzMzMz7z8AAAAAAADwP2dmZmZmZvA\\u002fzczMzMzM8D8zMzMzMzPxP5qZmZmZmfE\\u002fAAAAAAAA8j9nZmZmZmbyP83MzMzMzPI\\u002fNDMzMzMz8z+amZmZmZnzPwAAAAAAAPQ\\u002fZ2ZmZmZm9D\\u002fNzMzMzMz0PzQzMzMzM\\u002fU\\u002fmpmZmZmZ9T8AAAAAAAD2P2dmZmZmZvY\\u002fzczMzMzM9j80MzMzMzP3P5qZmZmZmfc\\u002fAAAAAAAA+D9nZmZmZmb4P83MzMzMzPg\\u002fNDMzMzMz+T+amZmZmZn5PwAAAAAAAPo\\u002fZ2ZmZmZm+j\\u002fNzMzMzMz6PzQzMzMzM\\u002fs\\u002fmpmZmZmZ+z8AAAAAAAD8P2dmZmZmZvw\\u002fzczMzMzM\\u002fD80MzMzMzP9P5qZmZmZmf0\\u002fAAAAAAAA\\u002fj9nZmZmZmb+P83MzMzMzP4\\u002fNDMzMzMz\\u002fz+amZmZmZn\\u002fPwAAAAAAAABA\"},\"xaxis\":\"x\",\"y\":{\"dtype\":\"f8\",\"bdata\":\"AAAAAAAA8D8AAAAAAADwPwAAAAAAAPA\\u002fAAAAAAAA8D8AAAAAAADwPwAAAAAAAPA\\u002fAAAAAAAA8D8AAAAAAADwPwAAAAAAAPA\\u002fAAAAAAAA8D8AAAAAAADwPwAAAAAAAPA\\u002fAAAAAAAA8D8AAAAAAADwPwAAAAAAAPA\\u002fAAAAAAAA8D8AAAAAAADwPwAAAAAAAPA\\u002fAAAAAAAA8D8AAAAAAADwPwAAAAAAAPA\\u002fAAAAAAAA8D8AAAAAAADwPwAAAAAAAPA\\u002fAAAAAAAA8D8AAAAAAADwPwAAAAAAAPA\\u002fAAAAAAAA8D8AAAAAAADwPwAAAAAAAPA\\u002fAAAAAAAA8D8AAAAAAADwPwAAAAAAAPA\\u002fAAAAAAAA8D8AAAAAAADwPwAAAAAAAPA\\u002fAAAAAAAA8D8AAAAAAADwPwAAAAAAAPA\\u002fAAAAAAAA8D8AAAAAAADwPwAAAAAAAPA\\u002fAAAAAAAA8D8AAAAAAADwPwAAAAAAAPA\\u002fAAAAAAAAAEAAAAAAAAAAQAAAAAAAAABAAAAAAAAAAEAAAAAAAAAAQAAAAAAAAABAAAAAAAAAAEAAAAAAAAAAQAAAAAAAAABAAAAAAAAAAEAAAAAAAAAAQAAAAAAAAABAAAAAAAAAAEAAAAAAAAAAQAAAAAAAAABAAAAAAAAAAEAAAAAAAAAAQAAAAAAAAABAAAAAAAAAAEAAAAAAAAAAQAAAAAAAAABAAAAAAAAA8D8AAAAAAADwPwAAAAAAAPA\\u002fAAAAAAAA8D8AAAAAAADwPwAAAAAAAPA\\u002fAAAAAAAA8D8AAAAAAADwPwAAAAAAAPA\\u002fAAAAAAAA8D8AAAAAAADwPwAAAAAAAPA\\u002fAAAAAAAA8D8AAAAAAADwPwAAAAAAAPA\\u002f\"},\"yaxis\":\"y\",\"type\":\"scatter\"}],\"name\":\"25\"}]);\n",
       "                        }).then(function(){\n",
       "                            \n",
       "var gd = document.getElementById('f1cf7d57-ea94-4876-a02a-53e61c8b4fdb');\n",
       "var x = new MutationObserver(function (mutations, observer) {{\n",
       "        var display = window.getComputedStyle(gd).display;\n",
       "        if (!display || display === 'none') {{\n",
       "            console.log([gd, 'removed!']);\n",
       "            Plotly.purge(gd);\n",
       "            observer.disconnect();\n",
       "        }}\n",
       "}});\n",
       "\n",
       "// Listen for the removal of the full notebook cells\n",
       "var notebookContainer = gd.closest('#notebook-container');\n",
       "if (notebookContainer) {{\n",
       "    x.observe(notebookContainer, {childList: true});\n",
       "}}\n",
       "\n",
       "// Listen for the clearing of the current output cell\n",
       "var outputEl = gd.closest('.output');\n",
       "if (outputEl) {{\n",
       "    x.observe(outputEl, {childList: true});\n",
       "}}\n",
       "\n",
       "                        })                };            </script>        </div>"
      ]
     },
     "metadata": {},
     "output_type": "display_data"
    }
   ],
   "source": [
    "u = square_wave_convection(81, 25, 0.025)\n",
    "\n",
    "make_convection_animation(u, 81, 25, 0, 2)"
   ]
  },
  {
   "cell_type": "markdown",
   "metadata": {},
   "source": [
    "Why do we have such a different behavior? When $N_x = 81$, we have $\\Delta x = 0.025$ and thus our transition equation\n",
    "$$\n",
    "\\begin{equation*}\n",
    "    u_i^{n+1} = u_i^n - c \\frac{\\Delta t}{\\Delta x}\\left(u_i^n - u_{i-1}^n\\right)\n",
    "\\end{equation*}\n",
    "$$\n",
    "becomes\n",
    "$$\n",
    "\\begin{equation*}\n",
    "    u_i^{n+1} = u_i^n - \\left(u_i^n - u_{i-1}^n\\right) = u_{i-1}^n,\n",
    "\\end{equation*}\n",
    "$$\n",
    "which is reminiscent of the analytical solution to the original equation. This happens whenever $c\\cdot\\frac{\\Delta t}{\\Delta x} = 1$."
   ]
  },
  {
   "cell_type": "code",
   "execution_count": 6,
   "metadata": {},
   "outputs": [
    {
     "data": {
      "application/vnd.plotly.v1+json": {
       "config": {
        "plotlyServerURL": "https://plot.ly"
       },
       "data": [
        {
         "hovertemplate": "variable=0<br>x=%{x}<br>value=%{y}<extra></extra>",
         "legendgroup": "",
         "line": {
          "color": "#636efa",
          "dash": "solid"
         },
         "marker": {
          "symbol": "circle"
         },
         "mode": "lines",
         "name": "",
         "orientation": "v",
         "showlegend": false,
         "type": "scatter",
         "x": {
          "bdata": "AAAAAAAAAAARERERERGRPxEREREREaE/mpmZmZmZqT8RERERERGxP1VVVVVVVbU/mpmZmZmZuT/e3d3d3d29PxEREREREcE/MzMzMzMzwz9VVVVVVVXFP3d3d3d3d8c/mpmZmZmZyT+8u7u7u7vLP97d3d3d3c0/AAAAAAAA0D8RERERERHRPyIiIiIiItI/MzMzMzMz0z9ERERERETUP1VVVVVVVdU/ZmZmZmZm1j93d3d3d3fXP4iIiIiIiNg/mpmZmZmZ2T+rqqqqqqraP7y7u7u7u9s/zczMzMzM3D/e3d3d3d3dP+/u7u7u7t4/AAAAAAAA4D+IiIiIiIjgPxEREREREeE/mpmZmZmZ4T8iIiIiIiLiP6uqqqqqquI/MzMzMzMz4z+8u7u7u7vjP0REREREROQ/zczMzMzM5D9VVVVVVVXlP97d3d3d3eU/ZmZmZmZm5j/v7u7u7u7mP3d3d3d3d+c/AAAAAAAA6D+IiIiIiIjoPxEREREREek/mpmZmZmZ6T8iIiIiIiLqP6uqqqqqquo/MzMzMzMz6z+8u7u7u7vrP0REREREROw/zczMzMzM7D9VVVVVVVXtP97d3d3d3e0/ZmZmZmZm7j/v7u7u7u7uP3d3d3d3d+8/AAAAAAAA8D9ERERERETwP4iIiIiIiPA/zczMzMzM8D8RERERERHxP1VVVVVVVfE/mpmZmZmZ8T/e3d3d3d3xPyIiIiIiIvI/ZmZmZmZm8j+rqqqqqqryP+/u7u7u7vI/MzMzMzMz8z93d3d3d3fzP7y7u7u7u/M/AAAAAAAA9D9ERERERET0P4iIiIiIiPQ/zczMzMzM9D8RERERERH1P1VVVVVVVfU/mpmZmZmZ9T/e3d3d3d31PyIiIiIiIvY/ZmZmZmZm9j+rqqqqqqr2P+/u7u7u7vY/MzMzMzMz9z93d3d3d3f3P7y7u7u7u/c/AAAAAAAA+D9ERERERET4P4iIiIiIiPg/zczMzMzM+D8RERERERH5P1VVVVVVVfk/mpmZmZmZ+T/e3d3d3d35PyIiIiIiIvo/ZmZmZmZm+j+rqqqqqqr6P+/u7u7u7vo/MzMzMzMz+z93d3d3d3f7P7y7u7u7u/s/AAAAAAAA/D9ERERERET8P4iIiIiIiPw/zczMzMzM/D8RERERERH9P1VVVVVVVf0/mZmZmZmZ/T/e3d3d3d39PyIiIiIiIv4/ZmZmZmZm/j+rqqqqqqr+P+/u7u7u7v4/MzMzMzMz/z93d3d3d3f/P7y7u7u7u/8/AAAAAAAAAEA=",
          "dtype": "f8"
         },
         "xaxis": "x",
         "y": {
          "bdata": "AAAAAAAA8D8AAAAAAADwPwAAAAAAAPA/AAAAAAAA8D8AAAAAAADwPwAAAAAAAPA/AAAAAAAA8D8AAAAAAADwPwAAAAAAAPA/AAAAAAAA8D8AAAAAAADwPwAAAAAAAPA/AAAAAAAA8D8AAAAAAADwPwAAAAAAAPA/AAAAAAAA8D8AAAAAAADwPwAAAAAAAPA/AAAAAAAA8D8AAAAAAADwPwAAAAAAAPA/AAAAAAAA8D8AAAAAAADwPwAAAAAAAPA/AAAAAAAA8D8AAAAAAADwPwAAAAAAAPA/AAAAAAAA8D8AAAAAAADwPwAAAAAAAPA/AAAAAAAAAEAAAAAAAAAAQAAAAAAAAABAAAAAAAAAAEAAAAAAAAAAQAAAAAAAAABAAAAAAAAAAEAAAAAAAAAAQAAAAAAAAABAAAAAAAAAAEAAAAAAAAAAQAAAAAAAAABAAAAAAAAAAEAAAAAAAAAAQAAAAAAAAABAAAAAAAAAAEAAAAAAAAAAQAAAAAAAAABAAAAAAAAAAEAAAAAAAAAAQAAAAAAAAABAAAAAAAAAAEAAAAAAAAAAQAAAAAAAAABAAAAAAAAAAEAAAAAAAAAAQAAAAAAAAABAAAAAAAAAAEAAAAAAAAAAQAAAAAAAAABAAAAAAAAAAEAAAAAAAADwPwAAAAAAAPA/AAAAAAAA8D8AAAAAAADwPwAAAAAAAPA/AAAAAAAA8D8AAAAAAADwPwAAAAAAAPA/AAAAAAAA8D8AAAAAAADwPwAAAAAAAPA/AAAAAAAA8D8AAAAAAADwPwAAAAAAAPA/AAAAAAAA8D8AAAAAAADwPwAAAAAAAPA/AAAAAAAA8D8AAAAAAADwPwAAAAAAAPA/AAAAAAAA8D8AAAAAAADwPwAAAAAAAPA/AAAAAAAA8D8AAAAAAADwPwAAAAAAAPA/AAAAAAAA8D8AAAAAAADwPwAAAAAAAPA/AAAAAAAA8D8AAAAAAADwPwAAAAAAAPA/AAAAAAAA8D8AAAAAAADwPwAAAAAAAPA/AAAAAAAA8D8AAAAAAADwPwAAAAAAAPA/AAAAAAAA8D8AAAAAAADwPwAAAAAAAPA/AAAAAAAA8D8AAAAAAADwPwAAAAAAAPA/AAAAAAAA8D8AAAAAAADwPwAAAAAAAPA/AAAAAAAA8D8AAAAAAADwPwAAAAAAAPA/AAAAAAAA8D8AAAAAAADwPwAAAAAAAPA/AAAAAAAA8D8AAAAAAADwPwAAAAAAAPA/AAAAAAAA8D8AAAAAAADwPwAAAAAAAPA/AAAAAAAA8D8=",
          "dtype": "f8"
         },
         "yaxis": "y"
        }
       ],
       "frames": [
        {
         "data": [
          {
           "hovertemplate": "variable=0<br>x=%{x}<br>value=%{y}<extra></extra>",
           "legendgroup": "",
           "line": {
            "color": "#636efa",
            "dash": "solid"
           },
           "marker": {
            "symbol": "circle"
           },
           "mode": "lines",
           "name": "",
           "orientation": "v",
           "showlegend": false,
           "type": "scatter",
           "x": {
            "bdata": "AAAAAAAAAAARERERERGRPxEREREREaE/mpmZmZmZqT8RERERERGxP1VVVVVVVbU/mpmZmZmZuT/e3d3d3d29PxEREREREcE/MzMzMzMzwz9VVVVVVVXFP3d3d3d3d8c/mpmZmZmZyT+8u7u7u7vLP97d3d3d3c0/AAAAAAAA0D8RERERERHRPyIiIiIiItI/MzMzMzMz0z9ERERERETUP1VVVVVVVdU/ZmZmZmZm1j93d3d3d3fXP4iIiIiIiNg/mpmZmZmZ2T+rqqqqqqraP7y7u7u7u9s/zczMzMzM3D/e3d3d3d3dP+/u7u7u7t4/AAAAAAAA4D+IiIiIiIjgPxEREREREeE/mpmZmZmZ4T8iIiIiIiLiP6uqqqqqquI/MzMzMzMz4z+8u7u7u7vjP0REREREROQ/zczMzMzM5D9VVVVVVVXlP97d3d3d3eU/ZmZmZmZm5j/v7u7u7u7mP3d3d3d3d+c/AAAAAAAA6D+IiIiIiIjoPxEREREREek/mpmZmZmZ6T8iIiIiIiLqP6uqqqqqquo/MzMzMzMz6z+8u7u7u7vrP0REREREROw/zczMzMzM7D9VVVVVVVXtP97d3d3d3e0/ZmZmZmZm7j/v7u7u7u7uP3d3d3d3d+8/AAAAAAAA8D9ERERERETwP4iIiIiIiPA/zczMzMzM8D8RERERERHxP1VVVVVVVfE/mpmZmZmZ8T/e3d3d3d3xPyIiIiIiIvI/ZmZmZmZm8j+rqqqqqqryP+/u7u7u7vI/MzMzMzMz8z93d3d3d3fzP7y7u7u7u/M/AAAAAAAA9D9ERERERET0P4iIiIiIiPQ/zczMzMzM9D8RERERERH1P1VVVVVVVfU/mpmZmZmZ9T/e3d3d3d31PyIiIiIiIvY/ZmZmZmZm9j+rqqqqqqr2P+/u7u7u7vY/MzMzMzMz9z93d3d3d3f3P7y7u7u7u/c/AAAAAAAA+D9ERERERET4P4iIiIiIiPg/zczMzMzM+D8RERERERH5P1VVVVVVVfk/mpmZmZmZ+T/e3d3d3d35PyIiIiIiIvo/ZmZmZmZm+j+rqqqqqqr6P+/u7u7u7vo/MzMzMzMz+z93d3d3d3f7P7y7u7u7u/s/AAAAAAAA/D9ERERERET8P4iIiIiIiPw/zczMzMzM/D8RERERERH9P1VVVVVVVf0/mZmZmZmZ/T/e3d3d3d39PyIiIiIiIv4/ZmZmZmZm/j+rqqqqqqr+P+/u7u7u7v4/MzMzMzMz/z93d3d3d3f/P7y7u7u7u/8/AAAAAAAAAEA=",
            "dtype": "f8"
           },
           "xaxis": "x",
           "y": {
            "bdata": "AAAAAAAA8D8AAAAAAADwPwAAAAAAAPA/AAAAAAAA8D8AAAAAAADwPwAAAAAAAPA/AAAAAAAA8D8AAAAAAADwPwAAAAAAAPA/AAAAAAAA8D8AAAAAAADwPwAAAAAAAPA/AAAAAAAA8D8AAAAAAADwPwAAAAAAAPA/AAAAAAAA8D8AAAAAAADwPwAAAAAAAPA/AAAAAAAA8D8AAAAAAADwPwAAAAAAAPA/AAAAAAAA8D8AAAAAAADwPwAAAAAAAPA/AAAAAAAA8D8AAAAAAADwPwAAAAAAAPA/AAAAAAAA8D8AAAAAAADwPwAAAAAAAPA/AAAAAAAAAEAAAAAAAAAAQAAAAAAAAABAAAAAAAAAAEAAAAAAAAAAQAAAAAAAAABAAAAAAAAAAEAAAAAAAAAAQAAAAAAAAABAAAAAAAAAAEAAAAAAAAAAQAAAAAAAAABAAAAAAAAAAEAAAAAAAAAAQAAAAAAAAABAAAAAAAAAAEAAAAAAAAAAQAAAAAAAAABAAAAAAAAAAEAAAAAAAAAAQAAAAAAAAABAAAAAAAAAAEAAAAAAAAAAQAAAAAAAAABAAAAAAAAAAEAAAAAAAAAAQAAAAAAAAABAAAAAAAAAAEAAAAAAAAAAQAAAAAAAAABAAAAAAAAAAEAAAAAAAADwPwAAAAAAAPA/AAAAAAAA8D8AAAAAAADwPwAAAAAAAPA/AAAAAAAA8D8AAAAAAADwPwAAAAAAAPA/AAAAAAAA8D8AAAAAAADwPwAAAAAAAPA/AAAAAAAA8D8AAAAAAADwPwAAAAAAAPA/AAAAAAAA8D8AAAAAAADwPwAAAAAAAPA/AAAAAAAA8D8AAAAAAADwPwAAAAAAAPA/AAAAAAAA8D8AAAAAAADwPwAAAAAAAPA/AAAAAAAA8D8AAAAAAADwPwAAAAAAAPA/AAAAAAAA8D8AAAAAAADwPwAAAAAAAPA/AAAAAAAA8D8AAAAAAADwPwAAAAAAAPA/AAAAAAAA8D8AAAAAAADwPwAAAAAAAPA/AAAAAAAA8D8AAAAAAADwPwAAAAAAAPA/AAAAAAAA8D8AAAAAAADwPwAAAAAAAPA/AAAAAAAA8D8AAAAAAADwPwAAAAAAAPA/AAAAAAAA8D8AAAAAAADwPwAAAAAAAPA/AAAAAAAA8D8AAAAAAADwPwAAAAAAAPA/AAAAAAAA8D8AAAAAAADwPwAAAAAAAPA/AAAAAAAA8D8AAAAAAADwPwAAAAAAAPA/AAAAAAAA8D8AAAAAAADwPwAAAAAAAPA/AAAAAAAA8D8=",
            "dtype": "f8"
           },
           "yaxis": "y"
          }
         ],
         "name": "0"
        },
        {
         "data": [
          {
           "hovertemplate": "variable=1<br>x=%{x}<br>value=%{y}<extra></extra>",
           "legendgroup": "",
           "line": {
            "color": "#636efa",
            "dash": "solid"
           },
           "marker": {
            "symbol": "circle"
           },
           "mode": "lines",
           "name": "",
           "orientation": "v",
           "showlegend": false,
           "type": "scatter",
           "x": {
            "bdata": "AAAAAAAAAAARERERERGRPxEREREREaE/mpmZmZmZqT8RERERERGxP1VVVVVVVbU/mpmZmZmZuT/e3d3d3d29PxEREREREcE/MzMzMzMzwz9VVVVVVVXFP3d3d3d3d8c/mpmZmZmZyT+8u7u7u7vLP97d3d3d3c0/AAAAAAAA0D8RERERERHRPyIiIiIiItI/MzMzMzMz0z9ERERERETUP1VVVVVVVdU/ZmZmZmZm1j93d3d3d3fXP4iIiIiIiNg/mpmZmZmZ2T+rqqqqqqraP7y7u7u7u9s/zczMzMzM3D/e3d3d3d3dP+/u7u7u7t4/AAAAAAAA4D+IiIiIiIjgPxEREREREeE/mpmZmZmZ4T8iIiIiIiLiP6uqqqqqquI/MzMzMzMz4z+8u7u7u7vjP0REREREROQ/zczMzMzM5D9VVVVVVVXlP97d3d3d3eU/ZmZmZmZm5j/v7u7u7u7mP3d3d3d3d+c/AAAAAAAA6D+IiIiIiIjoPxEREREREek/mpmZmZmZ6T8iIiIiIiLqP6uqqqqqquo/MzMzMzMz6z+8u7u7u7vrP0REREREROw/zczMzMzM7D9VVVVVVVXtP97d3d3d3e0/ZmZmZmZm7j/v7u7u7u7uP3d3d3d3d+8/AAAAAAAA8D9ERERERETwP4iIiIiIiPA/zczMzMzM8D8RERERERHxP1VVVVVVVfE/mpmZmZmZ8T/e3d3d3d3xPyIiIiIiIvI/ZmZmZmZm8j+rqqqqqqryP+/u7u7u7vI/MzMzMzMz8z93d3d3d3fzP7y7u7u7u/M/AAAAAAAA9D9ERERERET0P4iIiIiIiPQ/zczMzMzM9D8RERERERH1P1VVVVVVVfU/mpmZmZmZ9T/e3d3d3d31PyIiIiIiIvY/ZmZmZmZm9j+rqqqqqqr2P+/u7u7u7vY/MzMzMzMz9z93d3d3d3f3P7y7u7u7u/c/AAAAAAAA+D9ERERERET4P4iIiIiIiPg/zczMzMzM+D8RERERERH5P1VVVVVVVfk/mpmZmZmZ+T/e3d3d3d35PyIiIiIiIvo/ZmZmZmZm+j+rqqqqqqr6P+/u7u7u7vo/MzMzMzMz+z93d3d3d3f7P7y7u7u7u/s/AAAAAAAA/D9ERERERET8P4iIiIiIiPw/zczMzMzM/D8RERERERH9P1VVVVVVVf0/mZmZmZmZ/T/e3d3d3d39PyIiIiIiIv4/ZmZmZmZm/j+rqqqqqqr+P+/u7u7u7v4/MzMzMzMz/z93d3d3d3f/P7y7u7u7u/8/AAAAAAAAAEA=",
            "dtype": "f8"
           },
           "xaxis": "x",
           "y": {
            "bdata": "AAAAAAAA8D8AAAAAAADwPwAAAAAAAPA/AAAAAAAA8D8AAAAAAADwPwAAAAAAAPA/AAAAAAAA8D8AAAAAAADwPwAAAAAAAPA/AAAAAAAA8D8AAAAAAADwPwAAAAAAAPA/AAAAAAAA8D8AAAAAAADwPwAAAAAAAPA/AAAAAAAA8D8AAAAAAADwPwAAAAAAAPA/AAAAAAAA8D8AAAAAAADwPwAAAAAAAPA/AAAAAAAA8D8AAAAAAADwPwAAAAAAAPA/AAAAAAAA8D8AAAAAAADwPwAAAAAAAPA/AAAAAAAA8D8AAAAAAADwPwAAAAAAAPA/AAAAAAAA4D8AAAAAAAAAQAAAAAAAAABAAAAAAAAAAEAAAAAAAAAAQAAAAAAAAABAAAAAAAAAAEAAAAAAAAAAQAAAAAAAAABAAAAAAAAAAEAAAAAAAAAAQAAAAAAAAABAAAAAAAAAAEAAAAAAAAAAQAAAAAAAAABAAAAAAAAAAEAAAAAAAAAAQAAAAAAAAABAAAAAAAAAAEAAAAAAAAAAQAAAAAAAAABAAAAAAAAAAEAAAAAAAAAAQAAAAAAAAABAAAAAAAAAAEAAAAAAAAAAQAAAAAAAAABAAAAAAAAAAEAAAAAAAAAAQAAAAAAAAABAAAAAAAAAAEAAAAAAAAAEQAAAAAAAAPA/AAAAAAAA8D8AAAAAAADwPwAAAAAAAPA/AAAAAAAA8D8AAAAAAADwPwAAAAAAAPA/AAAAAAAA8D8AAAAAAADwPwAAAAAAAPA/AAAAAAAA8D8AAAAAAADwPwAAAAAAAPA/AAAAAAAA8D8AAAAAAADwPwAAAAAAAPA/AAAAAAAA8D8AAAAAAADwPwAAAAAAAPA/AAAAAAAA8D8AAAAAAADwPwAAAAAAAPA/AAAAAAAA8D8AAAAAAADwPwAAAAAAAPA/AAAAAAAA8D8AAAAAAADwPwAAAAAAAPA/AAAAAAAA8D8AAAAAAADwPwAAAAAAAPA/AAAAAAAA8D8AAAAAAADwPwAAAAAAAPA/AAAAAAAA8D8AAAAAAADwPwAAAAAAAPA/AAAAAAAA8D8AAAAAAADwPwAAAAAAAPA/AAAAAAAA8D8AAAAAAADwPwAAAAAAAPA/AAAAAAAA8D8AAAAAAADwPwAAAAAAAPA/AAAAAAAA8D8AAAAAAADwPwAAAAAAAPA/AAAAAAAA8D8AAAAAAADwPwAAAAAAAPA/AAAAAAAA8D8AAAAAAADwPwAAAAAAAPA/AAAAAAAA8D8AAAAAAADwPwAAAAAAAPA/AAAAAAAA8D8=",
            "dtype": "f8"
           },
           "yaxis": "y"
          }
         ],
         "name": "1"
        },
        {
         "data": [
          {
           "hovertemplate": "variable=2<br>x=%{x}<br>value=%{y}<extra></extra>",
           "legendgroup": "",
           "line": {
            "color": "#636efa",
            "dash": "solid"
           },
           "marker": {
            "symbol": "circle"
           },
           "mode": "lines",
           "name": "",
           "orientation": "v",
           "showlegend": false,
           "type": "scatter",
           "x": {
            "bdata": "AAAAAAAAAAARERERERGRPxEREREREaE/mpmZmZmZqT8RERERERGxP1VVVVVVVbU/mpmZmZmZuT/e3d3d3d29PxEREREREcE/MzMzMzMzwz9VVVVVVVXFP3d3d3d3d8c/mpmZmZmZyT+8u7u7u7vLP97d3d3d3c0/AAAAAAAA0D8RERERERHRPyIiIiIiItI/MzMzMzMz0z9ERERERETUP1VVVVVVVdU/ZmZmZmZm1j93d3d3d3fXP4iIiIiIiNg/mpmZmZmZ2T+rqqqqqqraP7y7u7u7u9s/zczMzMzM3D/e3d3d3d3dP+/u7u7u7t4/AAAAAAAA4D+IiIiIiIjgPxEREREREeE/mpmZmZmZ4T8iIiIiIiLiP6uqqqqqquI/MzMzMzMz4z+8u7u7u7vjP0REREREROQ/zczMzMzM5D9VVVVVVVXlP97d3d3d3eU/ZmZmZmZm5j/v7u7u7u7mP3d3d3d3d+c/AAAAAAAA6D+IiIiIiIjoPxEREREREek/mpmZmZmZ6T8iIiIiIiLqP6uqqqqqquo/MzMzMzMz6z+8u7u7u7vrP0REREREROw/zczMzMzM7D9VVVVVVVXtP97d3d3d3e0/ZmZmZmZm7j/v7u7u7u7uP3d3d3d3d+8/AAAAAAAA8D9ERERERETwP4iIiIiIiPA/zczMzMzM8D8RERERERHxP1VVVVVVVfE/mpmZmZmZ8T/e3d3d3d3xPyIiIiIiIvI/ZmZmZmZm8j+rqqqqqqryP+/u7u7u7vI/MzMzMzMz8z93d3d3d3fzP7y7u7u7u/M/AAAAAAAA9D9ERERERET0P4iIiIiIiPQ/zczMzMzM9D8RERERERH1P1VVVVVVVfU/mpmZmZmZ9T/e3d3d3d31PyIiIiIiIvY/ZmZmZmZm9j+rqqqqqqr2P+/u7u7u7vY/MzMzMzMz9z93d3d3d3f3P7y7u7u7u/c/AAAAAAAA+D9ERERERET4P4iIiIiIiPg/zczMzMzM+D8RERERERH5P1VVVVVVVfk/mpmZmZmZ+T/e3d3d3d35PyIiIiIiIvo/ZmZmZmZm+j+rqqqqqqr6P+/u7u7u7vo/MzMzMzMz+z93d3d3d3f7P7y7u7u7u/s/AAAAAAAA/D9ERERERET8P4iIiIiIiPw/zczMzMzM/D8RERERERH9P1VVVVVVVf0/mZmZmZmZ/T/e3d3d3d39PyIiIiIiIv4/ZmZmZmZm/j+rqqqqqqr+P+/u7u7u7v4/MzMzMzMz/z93d3d3d3f/P7y7u7u7u/8/AAAAAAAAAEA=",
            "dtype": "f8"
           },
           "xaxis": "x",
           "y": {
            "bdata": "AAAAAAAA8D8AAAAAAADwPwAAAAAAAPA/AAAAAAAA8D8AAAAAAADwPwAAAAAAAPA/AAAAAAAA8D8AAAAAAADwPwAAAAAAAPA/AAAAAAAA8D8AAAAAAADwPwAAAAAAAPA/AAAAAAAA8D8AAAAAAADwPwAAAAAAAPA/AAAAAAAA8D8AAAAAAADwPwAAAAAAAPA/AAAAAAAA8D8AAAAAAADwPwAAAAAAAPA/AAAAAAAA8D8AAAAAAADwPwAAAAAAAPA/AAAAAAAA8D8AAAAAAADwPwAAAAAAAPA/AAAAAAAA8D8AAAAAAADwPwAAAAAAAPA/AAAAAAAA9D8AAAAAAADQvwAAAAAAAABAAAAAAAAAAEAAAAAAAAAAQAAAAAAAAABAAAAAAAAAAEAAAAAAAAAAQAAAAAAAAABAAAAAAAAAAEAAAAAAAAAAQAAAAAAAAABAAAAAAAAAAEAAAAAAAAAAQAAAAAAAAABAAAAAAAAAAEAAAAAAAAAAQAAAAAAAAABAAAAAAAAAAEAAAAAAAAAAQAAAAAAAAABAAAAAAAAAAEAAAAAAAAAAQAAAAAAAAABAAAAAAAAAAEAAAAAAAAAAQAAAAAAAAABAAAAAAAAAAEAAAAAAAAAAQAAAAAAAAABAAAAAAAAAAEAAAAAAAAD8PwAAAAAAAApAAAAAAAAA8D8AAAAAAADwPwAAAAAAAPA/AAAAAAAA8D8AAAAAAADwPwAAAAAAAPA/AAAAAAAA8D8AAAAAAADwPwAAAAAAAPA/AAAAAAAA8D8AAAAAAADwPwAAAAAAAPA/AAAAAAAA8D8AAAAAAADwPwAAAAAAAPA/AAAAAAAA8D8AAAAAAADwPwAAAAAAAPA/AAAAAAAA8D8AAAAAAADwPwAAAAAAAPA/AAAAAAAA8D8AAAAAAADwPwAAAAAAAPA/AAAAAAAA8D8AAAAAAADwPwAAAAAAAPA/AAAAAAAA8D8AAAAAAADwPwAAAAAAAPA/AAAAAAAA8D8AAAAAAADwPwAAAAAAAPA/AAAAAAAA8D8AAAAAAADwPwAAAAAAAPA/AAAAAAAA8D8AAAAAAADwPwAAAAAAAPA/AAAAAAAA8D8AAAAAAADwPwAAAAAAAPA/AAAAAAAA8D8AAAAAAADwPwAAAAAAAPA/AAAAAAAA8D8AAAAAAADwPwAAAAAAAPA/AAAAAAAA8D8AAAAAAADwPwAAAAAAAPA/AAAAAAAA8D8AAAAAAADwPwAAAAAAAPA/AAAAAAAA8D8AAAAAAADwPwAAAAAAAPA/AAAAAAAA8D8=",
            "dtype": "f8"
           },
           "yaxis": "y"
          }
         ],
         "name": "2"
        },
        {
         "data": [
          {
           "hovertemplate": "variable=3<br>x=%{x}<br>value=%{y}<extra></extra>",
           "legendgroup": "",
           "line": {
            "color": "#636efa",
            "dash": "solid"
           },
           "marker": {
            "symbol": "circle"
           },
           "mode": "lines",
           "name": "",
           "orientation": "v",
           "showlegend": false,
           "type": "scatter",
           "x": {
            "bdata": "AAAAAAAAAAARERERERGRPxEREREREaE/mpmZmZmZqT8RERERERGxP1VVVVVVVbU/mpmZmZmZuT/e3d3d3d29PxEREREREcE/MzMzMzMzwz9VVVVVVVXFP3d3d3d3d8c/mpmZmZmZyT+8u7u7u7vLP97d3d3d3c0/AAAAAAAA0D8RERERERHRPyIiIiIiItI/MzMzMzMz0z9ERERERETUP1VVVVVVVdU/ZmZmZmZm1j93d3d3d3fXP4iIiIiIiNg/mpmZmZmZ2T+rqqqqqqraP7y7u7u7u9s/zczMzMzM3D/e3d3d3d3dP+/u7u7u7t4/AAAAAAAA4D+IiIiIiIjgPxEREREREeE/mpmZmZmZ4T8iIiIiIiLiP6uqqqqqquI/MzMzMzMz4z+8u7u7u7vjP0REREREROQ/zczMzMzM5D9VVVVVVVXlP97d3d3d3eU/ZmZmZmZm5j/v7u7u7u7mP3d3d3d3d+c/AAAAAAAA6D+IiIiIiIjoPxEREREREek/mpmZmZmZ6T8iIiIiIiLqP6uqqqqqquo/MzMzMzMz6z+8u7u7u7vrP0REREREROw/zczMzMzM7D9VVVVVVVXtP97d3d3d3e0/ZmZmZmZm7j/v7u7u7u7uP3d3d3d3d+8/AAAAAAAA8D9ERERERETwP4iIiIiIiPA/zczMzMzM8D8RERERERHxP1VVVVVVVfE/mpmZmZmZ8T/e3d3d3d3xPyIiIiIiIvI/ZmZmZmZm8j+rqqqqqqryP+/u7u7u7vI/MzMzMzMz8z93d3d3d3fzP7y7u7u7u/M/AAAAAAAA9D9ERERERET0P4iIiIiIiPQ/zczMzMzM9D8RERERERH1P1VVVVVVVfU/mpmZmZmZ9T/e3d3d3d31PyIiIiIiIvY/ZmZmZmZm9j+rqqqqqqr2P+/u7u7u7vY/MzMzMzMz9z93d3d3d3f3P7y7u7u7u/c/AAAAAAAA+D9ERERERET4P4iIiIiIiPg/zczMzMzM+D8RERERERH5P1VVVVVVVfk/mpmZmZmZ+T/e3d3d3d35PyIiIiIiIvo/ZmZmZmZm+j+rqqqqqqr6P+/u7u7u7vo/MzMzMzMz+z93d3d3d3f7P7y7u7u7u/s/AAAAAAAA/D9ERERERET8P4iIiIiIiPw/zczMzMzM/D8RERERERH9P1VVVVVVVf0/mZmZmZmZ/T/e3d3d3d39PyIiIiIiIv4/ZmZmZmZm/j+rqqqqqqr+P+/u7u7u7v4/MzMzMzMz/z93d3d3d3f/P7y7u7u7u/8/AAAAAAAAAEA=",
            "dtype": "f8"
           },
           "xaxis": "x",
           "y": {
            "bdata": "AAAAAAAA8D8AAAAAAADwPwAAAAAAAPA/AAAAAAAA8D8AAAAAAADwPwAAAAAAAPA/AAAAAAAA8D8AAAAAAADwPwAAAAAAAPA/AAAAAAAA8D8AAAAAAADwPwAAAAAAAPA/AAAAAAAA8D8AAAAAAADwPwAAAAAAAPA/AAAAAAAA8D8AAAAAAADwPwAAAAAAAPA/AAAAAAAA8D8AAAAAAADwPwAAAAAAAPA/AAAAAAAA8D8AAAAAAADwPwAAAAAAAPA/AAAAAAAA8D8AAAAAAADwPwAAAAAAAPA/AAAAAAAA8D8AAAAAAADwPwAAAAAAAPA/AAAAAAAA7D8AAAAAAAAAQAAAAAAAAPa/AAAAAAAAAEAAAAAAAAAAQAAAAAAAAABAAAAAAAAAAEAAAAAAAAAAQAAAAAAAAABAAAAAAAAAAEAAAAAAAAAAQAAAAAAAAABAAAAAAAAAAEAAAAAAAAAAQAAAAAAAAABAAAAAAAAAAEAAAAAAAAAAQAAAAAAAAABAAAAAAAAAAEAAAAAAAAAAQAAAAAAAAABAAAAAAAAAAEAAAAAAAAAAQAAAAAAAAABAAAAAAAAAAEAAAAAAAAAAQAAAAAAAAABAAAAAAAAAAEAAAAAAAAAAQAAAAAAAAABAAAAAAAAAAEAAAAAAAAABQAAAAAAAAPA/AAAAAACAEUAAAAAAAADwPwAAAAAAAPA/AAAAAAAA8D8AAAAAAADwPwAAAAAAAPA/AAAAAAAA8D8AAAAAAADwPwAAAAAAAPA/AAAAAAAA8D8AAAAAAADwPwAAAAAAAPA/AAAAAAAA8D8AAAAAAADwPwAAAAAAAPA/AAAAAAAA8D8AAAAAAADwPwAAAAAAAPA/AAAAAAAA8D8AAAAAAADwPwAAAAAAAPA/AAAAAAAA8D8AAAAAAADwPwAAAAAAAPA/AAAAAAAA8D8AAAAAAADwPwAAAAAAAPA/AAAAAAAA8D8AAAAAAADwPwAAAAAAAPA/AAAAAAAA8D8AAAAAAADwPwAAAAAAAPA/AAAAAAAA8D8AAAAAAADwPwAAAAAAAPA/AAAAAAAA8D8AAAAAAADwPwAAAAAAAPA/AAAAAAAA8D8AAAAAAADwPwAAAAAAAPA/AAAAAAAA8D8AAAAAAADwPwAAAAAAAPA/AAAAAAAA8D8AAAAAAADwPwAAAAAAAPA/AAAAAAAA8D8AAAAAAADwPwAAAAAAAPA/AAAAAAAA8D8AAAAAAADwPwAAAAAAAPA/AAAAAAAA8D8AAAAAAADwPwAAAAAAAPA/AAAAAAAA8D8=",
            "dtype": "f8"
           },
           "yaxis": "y"
          }
         ],
         "name": "3"
        },
        {
         "data": [
          {
           "hovertemplate": "variable=4<br>x=%{x}<br>value=%{y}<extra></extra>",
           "legendgroup": "",
           "line": {
            "color": "#636efa",
            "dash": "solid"
           },
           "marker": {
            "symbol": "circle"
           },
           "mode": "lines",
           "name": "",
           "orientation": "v",
           "showlegend": false,
           "type": "scatter",
           "x": {
            "bdata": "AAAAAAAAAAARERERERGRPxEREREREaE/mpmZmZmZqT8RERERERGxP1VVVVVVVbU/mpmZmZmZuT/e3d3d3d29PxEREREREcE/MzMzMzMzwz9VVVVVVVXFP3d3d3d3d8c/mpmZmZmZyT+8u7u7u7vLP97d3d3d3c0/AAAAAAAA0D8RERERERHRPyIiIiIiItI/MzMzMzMz0z9ERERERETUP1VVVVVVVdU/ZmZmZmZm1j93d3d3d3fXP4iIiIiIiNg/mpmZmZmZ2T+rqqqqqqraP7y7u7u7u9s/zczMzMzM3D/e3d3d3d3dP+/u7u7u7t4/AAAAAAAA4D+IiIiIiIjgPxEREREREeE/mpmZmZmZ4T8iIiIiIiLiP6uqqqqqquI/MzMzMzMz4z+8u7u7u7vjP0REREREROQ/zczMzMzM5D9VVVVVVVXlP97d3d3d3eU/ZmZmZmZm5j/v7u7u7u7mP3d3d3d3d+c/AAAAAAAA6D+IiIiIiIjoPxEREREREek/mpmZmZmZ6T8iIiIiIiLqP6uqqqqqquo/MzMzMzMz6z+8u7u7u7vrP0REREREROw/zczMzMzM7D9VVVVVVVXtP97d3d3d3e0/ZmZmZmZm7j/v7u7u7u7uP3d3d3d3d+8/AAAAAAAA8D9ERERERETwP4iIiIiIiPA/zczMzMzM8D8RERERERHxP1VVVVVVVfE/mpmZmZmZ8T/e3d3d3d3xPyIiIiIiIvI/ZmZmZmZm8j+rqqqqqqryP+/u7u7u7vI/MzMzMzMz8z93d3d3d3fzP7y7u7u7u/M/AAAAAAAA9D9ERERERET0P4iIiIiIiPQ/zczMzMzM9D8RERERERH1P1VVVVVVVfU/mpmZmZmZ9T/e3d3d3d31PyIiIiIiIvY/ZmZmZmZm9j+rqqqqqqr2P+/u7u7u7vY/MzMzMzMz9z93d3d3d3f3P7y7u7u7u/c/AAAAAAAA+D9ERERERET4P4iIiIiIiPg/zczMzMzM+D8RERERERH5P1VVVVVVVfk/mpmZmZmZ+T/e3d3d3d35PyIiIiIiIvo/ZmZmZmZm+j+rqqqqqqr6P+/u7u7u7vo/MzMzMzMz+z93d3d3d3f7P7y7u7u7u/s/AAAAAAAA/D9ERERERET8P4iIiIiIiPw/zczMzMzM/D8RERERERH9P1VVVVVVVf0/mZmZmZmZ/T/e3d3d3d39PyIiIiIiIv4/ZmZmZmZm/j+rqqqqqqr+P+/u7u7u7v4/MzMzMzMz/z93d3d3d3f/P7y7u7u7u/8/AAAAAAAAAEA=",
            "dtype": "f8"
           },
           "xaxis": "x",
           "y": {
            "bdata": "AAAAAAAA8D8AAAAAAADwPwAAAAAAAPA/AAAAAAAA8D8AAAAAAADwPwAAAAAAAPA/AAAAAAAA8D8AAAAAAADwPwAAAAAAAPA/AAAAAAAA8D8AAAAAAADwPwAAAAAAAPA/AAAAAAAA8D8AAAAAAADwPwAAAAAAAPA/AAAAAAAA8D8AAAAAAADwPwAAAAAAAPA/AAAAAAAA8D8AAAAAAADwPwAAAAAAAPA/AAAAAAAA8D8AAAAAAADwPwAAAAAAAPA/AAAAAAAA8D8AAAAAAADwPwAAAAAAAPA/AAAAAAAA8D8AAAAAAADwPwAAAAAAAPA/AAAAAAAA8T8AAAAAAADUPwAAAAAAgA1AAAAAAACACMAAAAAAAAAAQAAAAAAAAABAAAAAAAAAAEAAAAAAAAAAQAAAAAAAAABAAAAAAAAAAEAAAAAAAAAAQAAAAAAAAABAAAAAAAAAAEAAAAAAAAAAQAAAAAAAAABAAAAAAAAAAEAAAAAAAAAAQAAAAAAAAABAAAAAAAAAAEAAAAAAAAAAQAAAAAAAAABAAAAAAAAAAEAAAAAAAAAAQAAAAAAAAABAAAAAAAAAAEAAAAAAAAAAQAAAAAAAAABAAAAAAAAAAEAAAAAAAAAAQAAAAAAAAABAAAAAAAAAAEAAAAAAAAD/PwAAAAAAgAVAAAAAAAAA5r8AAAAAAEAYQAAAAAAAAPA/AAAAAAAA8D8AAAAAAADwPwAAAAAAAPA/AAAAAAAA8D8AAAAAAADwPwAAAAAAAPA/AAAAAAAA8D8AAAAAAADwPwAAAAAAAPA/AAAAAAAA8D8AAAAAAADwPwAAAAAAAPA/AAAAAAAA8D8AAAAAAADwPwAAAAAAAPA/AAAAAAAA8D8AAAAAAADwPwAAAAAAAPA/AAAAAAAA8D8AAAAAAADwPwAAAAAAAPA/AAAAAAAA8D8AAAAAAADwPwAAAAAAAPA/AAAAAAAA8D8AAAAAAADwPwAAAAAAAPA/AAAAAAAA8D8AAAAAAADwPwAAAAAAAPA/AAAAAAAA8D8AAAAAAADwPwAAAAAAAPA/AAAAAAAA8D8AAAAAAADwPwAAAAAAAPA/AAAAAAAA8D8AAAAAAADwPwAAAAAAAPA/AAAAAAAA8D8AAAAAAADwPwAAAAAAAPA/AAAAAAAA8D8AAAAAAADwPwAAAAAAAPA/AAAAAAAA8D8AAAAAAADwPwAAAAAAAPA/AAAAAAAA8D8AAAAAAADwPwAAAAAAAPA/AAAAAAAA8D8AAAAAAADwPwAAAAAAAPA/AAAAAAAA8D8=",
            "dtype": "f8"
           },
           "yaxis": "y"
          }
         ],
         "name": "4"
        },
        {
         "data": [
          {
           "hovertemplate": "variable=5<br>x=%{x}<br>value=%{y}<extra></extra>",
           "legendgroup": "",
           "line": {
            "color": "#636efa",
            "dash": "solid"
           },
           "marker": {
            "symbol": "circle"
           },
           "mode": "lines",
           "name": "",
           "orientation": "v",
           "showlegend": false,
           "type": "scatter",
           "x": {
            "bdata": "AAAAAAAAAAARERERERGRPxEREREREaE/mpmZmZmZqT8RERERERGxP1VVVVVVVbU/mpmZmZmZuT/e3d3d3d29PxEREREREcE/MzMzMzMzwz9VVVVVVVXFP3d3d3d3d8c/mpmZmZmZyT+8u7u7u7vLP97d3d3d3c0/AAAAAAAA0D8RERERERHRPyIiIiIiItI/MzMzMzMz0z9ERERERETUP1VVVVVVVdU/ZmZmZmZm1j93d3d3d3fXP4iIiIiIiNg/mpmZmZmZ2T+rqqqqqqraP7y7u7u7u9s/zczMzMzM3D/e3d3d3d3dP+/u7u7u7t4/AAAAAAAA4D+IiIiIiIjgPxEREREREeE/mpmZmZmZ4T8iIiIiIiLiP6uqqqqqquI/MzMzMzMz4z+8u7u7u7vjP0REREREROQ/zczMzMzM5D9VVVVVVVXlP97d3d3d3eU/ZmZmZmZm5j/v7u7u7u7mP3d3d3d3d+c/AAAAAAAA6D+IiIiIiIjoPxEREREREek/mpmZmZmZ6T8iIiIiIiLqP6uqqqqqquo/MzMzMzMz6z+8u7u7u7vrP0REREREROw/zczMzMzM7D9VVVVVVVXtP97d3d3d3e0/ZmZmZmZm7j/v7u7u7u7uP3d3d3d3d+8/AAAAAAAA8D9ERERERETwP4iIiIiIiPA/zczMzMzM8D8RERERERHxP1VVVVVVVfE/mpmZmZmZ8T/e3d3d3d3xPyIiIiIiIvI/ZmZmZmZm8j+rqqqqqqryP+/u7u7u7vI/MzMzMzMz8z93d3d3d3fzP7y7u7u7u/M/AAAAAAAA9D9ERERERET0P4iIiIiIiPQ/zczMzMzM9D8RERERERH1P1VVVVVVVfU/mpmZmZmZ9T/e3d3d3d31PyIiIiIiIvY/ZmZmZmZm9j+rqqqqqqr2P+/u7u7u7vY/MzMzMzMz9z93d3d3d3f3P7y7u7u7u/c/AAAAAAAA+D9ERERERET4P4iIiIiIiPg/zczMzMzM+D8RERERERH5P1VVVVVVVfk/mpmZmZmZ+T/e3d3d3d35PyIiIiIiIvo/ZmZmZmZm+j+rqqqqqqr6P+/u7u7u7vo/MzMzMzMz+z93d3d3d3f7P7y7u7u7u/s/AAAAAAAA/D9ERERERET8P4iIiIiIiPw/zczMzMzM/D8RERERERH9P1VVVVVVVf0/mZmZmZmZ/T/e3d3d3d39PyIiIiIiIv4/ZmZmZmZm/j+rqqqqqqr+P+/u7u7u7v4/MzMzMzMz/z93d3d3d3f/P7y7u7u7u/8/AAAAAAAAAEA=",
            "dtype": "f8"
           },
           "xaxis": "x",
           "y": {
            "bdata": "AAAAAAAA8D8AAAAAAADwPwAAAAAAAPA/AAAAAAAA8D8AAAAAAADwPwAAAAAAAPA/AAAAAAAA8D8AAAAAAADwPwAAAAAAAPA/AAAAAAAA8D8AAAAAAADwPwAAAAAAAPA/AAAAAAAA8D8AAAAAAADwPwAAAAAAAPA/AAAAAAAA8D8AAAAAAADwPwAAAAAAAPA/AAAAAAAA8D8AAAAAAADwPwAAAAAAAPA/AAAAAAAA8D8AAAAAAADwPwAAAAAAAPA/AAAAAAAA8D8AAAAAAADwPwAAAAAAAPA/AAAAAAAA8D8AAAAAAADwPwAAAAAAAPA/AAAAAAAA7z8AAAAAAAD3PwAAAAAAAPa/AAAAAABAHEAAAAAAAGAWwAAAAAAAAABAAAAAAAAAAEAAAAAAAAAAQAAAAAAAAABAAAAAAAAAAEAAAAAAAAAAQAAAAAAAAABAAAAAAAAAAEAAAAAAAAAAQAAAAAAAAABAAAAAAAAAAEAAAAAAAAAAQAAAAAAAAABAAAAAAAAAAEAAAAAAAAAAQAAAAAAAAABAAAAAAAAAAEAAAAAAAAAAQAAAAAAAAABAAAAAAAAAAEAAAAAAAAAAQAAAAAAAAABAAAAAAAAAAEAAAAAAAAAAQAAAAAAAAABAAAAAAAAAAEAAAAAAAEAAQAAAAAAAAPk/AAAAAACAEUAAAAAAAEAQwAAAAAAAMCFAAAAAAAAA8D8AAAAAAADwPwAAAAAAAPA/AAAAAAAA8D8AAAAAAADwPwAAAAAAAPA/AAAAAAAA8D8AAAAAAADwPwAAAAAAAPA/AAAAAAAA8D8AAAAAAADwPwAAAAAAAPA/AAAAAAAA8D8AAAAAAADwPwAAAAAAAPA/AAAAAAAA8D8AAAAAAADwPwAAAAAAAPA/AAAAAAAA8D8AAAAAAADwPwAAAAAAAPA/AAAAAAAA8D8AAAAAAADwPwAAAAAAAPA/AAAAAAAA8D8AAAAAAADwPwAAAAAAAPA/AAAAAAAA8D8AAAAAAADwPwAAAAAAAPA/AAAAAAAA8D8AAAAAAADwPwAAAAAAAPA/AAAAAAAA8D8AAAAAAADwPwAAAAAAAPA/AAAAAAAA8D8AAAAAAADwPwAAAAAAAPA/AAAAAAAA8D8AAAAAAADwPwAAAAAAAPA/AAAAAAAA8D8AAAAAAADwPwAAAAAAAPA/AAAAAAAA8D8AAAAAAADwPwAAAAAAAPA/AAAAAAAA8D8AAAAAAADwPwAAAAAAAPA/AAAAAAAA8D8AAAAAAADwPwAAAAAAAPA/AAAAAAAA8D8=",
            "dtype": "f8"
           },
           "yaxis": "y"
          }
         ],
         "name": "5"
        },
        {
         "data": [
          {
           "hovertemplate": "variable=6<br>x=%{x}<br>value=%{y}<extra></extra>",
           "legendgroup": "",
           "line": {
            "color": "#636efa",
            "dash": "solid"
           },
           "marker": {
            "symbol": "circle"
           },
           "mode": "lines",
           "name": "",
           "orientation": "v",
           "showlegend": false,
           "type": "scatter",
           "x": {
            "bdata": "AAAAAAAAAAARERERERGRPxEREREREaE/mpmZmZmZqT8RERERERGxP1VVVVVVVbU/mpmZmZmZuT/e3d3d3d29PxEREREREcE/MzMzMzMzwz9VVVVVVVXFP3d3d3d3d8c/mpmZmZmZyT+8u7u7u7vLP97d3d3d3c0/AAAAAAAA0D8RERERERHRPyIiIiIiItI/MzMzMzMz0z9ERERERETUP1VVVVVVVdU/ZmZmZmZm1j93d3d3d3fXP4iIiIiIiNg/mpmZmZmZ2T+rqqqqqqraP7y7u7u7u9s/zczMzMzM3D/e3d3d3d3dP+/u7u7u7t4/AAAAAAAA4D+IiIiIiIjgPxEREREREeE/mpmZmZmZ4T8iIiIiIiLiP6uqqqqqquI/MzMzMzMz4z+8u7u7u7vjP0REREREROQ/zczMzMzM5D9VVVVVVVXlP97d3d3d3eU/ZmZmZmZm5j/v7u7u7u7mP3d3d3d3d+c/AAAAAAAA6D+IiIiIiIjoPxEREREREek/mpmZmZmZ6T8iIiIiIiLqP6uqqqqqquo/MzMzMzMz6z+8u7u7u7vrP0REREREROw/zczMzMzM7D9VVVVVVVXtP97d3d3d3e0/ZmZmZmZm7j/v7u7u7u7uP3d3d3d3d+8/AAAAAAAA8D9ERERERETwP4iIiIiIiPA/zczMzMzM8D8RERERERHxP1VVVVVVVfE/mpmZmZmZ8T/e3d3d3d3xPyIiIiIiIvI/ZmZmZmZm8j+rqqqqqqryP+/u7u7u7vI/MzMzMzMz8z93d3d3d3fzP7y7u7u7u/M/AAAAAAAA9D9ERERERET0P4iIiIiIiPQ/zczMzMzM9D8RERERERH1P1VVVVVVVfU/mpmZmZmZ9T/e3d3d3d31PyIiIiIiIvY/ZmZmZmZm9j+rqqqqqqr2P+/u7u7u7vY/MzMzMzMz9z93d3d3d3f3P7y7u7u7u/c/AAAAAAAA+D9ERERERET4P4iIiIiIiPg/zczMzMzM+D8RERERERH5P1VVVVVVVfk/mpmZmZmZ+T/e3d3d3d35PyIiIiIiIvo/ZmZmZmZm+j+rqqqqqqr6P+/u7u7u7vo/MzMzMzMz+z93d3d3d3f7P7y7u7u7u/s/AAAAAAAA/D9ERERERET8P4iIiIiIiPw/zczMzMzM/D8RERERERH9P1VVVVVVVf0/mZmZmZmZ/T/e3d3d3d39PyIiIiIiIv4/ZmZmZmZm/j+rqqqqqqr+P+/u7u7u7v4/MzMzMzMz/z93d3d3d3f/P7y7u7u7u/8/AAAAAAAAAEA=",
            "dtype": "f8"
           },
           "xaxis": "x",
           "y": {
            "bdata": "AAAAAAAA8D8AAAAAAADwPwAAAAAAAPA/AAAAAAAA8D8AAAAAAADwPwAAAAAAAPA/AAAAAAAA8D8AAAAAAADwPwAAAAAAAPA/AAAAAAAA8D8AAAAAAADwPwAAAAAAAPA/AAAAAAAA8D8AAAAAAADwPwAAAAAAAPA/AAAAAAAA8D8AAAAAAADwPwAAAAAAAPA/AAAAAAAA8D8AAAAAAADwPwAAAAAAAPA/AAAAAAAA8D8AAAAAAADwPwAAAAAAAPA/AAAAAAAA8D8AAAAAAADwPwAAAAAAAPA/AAAAAAAA8D8AAAAAAADwPwAAAAAAAPA/AAAAAABA8D8AAAAAAIDnPwAAAAAAwAZAAAAAAABgFsAAAAAAAMgqQAAAAAAAyCLAAAAAAAAAAEAAAAAAAAAAQAAAAAAAAABAAAAAAAAAAEAAAAAAAAAAQAAAAAAAAABAAAAAAAAAAEAAAAAAAAAAQAAAAAAAAABAAAAAAAAAAEAAAAAAAAAAQAAAAAAAAABAAAAAAAAAAEAAAAAAAAAAQAAAAAAAAABAAAAAAAAAAEAAAAAAAAAAQAAAAAAAAABAAAAAAAAAAEAAAAAAAAAAQAAAAAAAAABAAAAAAAAAAEAAAAAAAAAAQAAAAAAAAABAAAAAAAAAAEAAAAAAAMD/PwAAAAAAIAJAAAAAAAAAxD8AAAAAADAhQAAAAAAAyCTAAAAAAADIKEAAAAAAAADwPwAAAAAAAPA/AAAAAAAA8D8AAAAAAADwPwAAAAAAAPA/AAAAAAAA8D8AAAAAAADwPwAAAAAAAPA/AAAAAAAA8D8AAAAAAADwPwAAAAAAAPA/AAAAAAAA8D8AAAAAAADwPwAAAAAAAPA/AAAAAAAA8D8AAAAAAADwPwAAAAAAAPA/AAAAAAAA8D8AAAAAAADwPwAAAAAAAPA/AAAAAAAA8D8AAAAAAADwPwAAAAAAAPA/AAAAAAAA8D8AAAAAAADwPwAAAAAAAPA/AAAAAAAA8D8AAAAAAADwPwAAAAAAAPA/AAAAAAAA8D8AAAAAAADwPwAAAAAAAPA/AAAAAAAA8D8AAAAAAADwPwAAAAAAAPA/AAAAAAAA8D8AAAAAAADwPwAAAAAAAPA/AAAAAAAA8D8AAAAAAADwPwAAAAAAAPA/AAAAAAAA8D8AAAAAAADwPwAAAAAAAPA/AAAAAAAA8D8AAAAAAADwPwAAAAAAAPA/AAAAAAAA8D8AAAAAAADwPwAAAAAAAPA/AAAAAAAA8D8AAAAAAADwPwAAAAAAAPA/AAAAAAAA8D8=",
            "dtype": "f8"
           },
           "yaxis": "y"
          }
         ],
         "name": "6"
        },
        {
         "data": [
          {
           "hovertemplate": "variable=7<br>x=%{x}<br>value=%{y}<extra></extra>",
           "legendgroup": "",
           "line": {
            "color": "#636efa",
            "dash": "solid"
           },
           "marker": {
            "symbol": "circle"
           },
           "mode": "lines",
           "name": "",
           "orientation": "v",
           "showlegend": false,
           "type": "scatter",
           "x": {
            "bdata": "AAAAAAAAAAARERERERGRPxEREREREaE/mpmZmZmZqT8RERERERGxP1VVVVVVVbU/mpmZmZmZuT/e3d3d3d29PxEREREREcE/MzMzMzMzwz9VVVVVVVXFP3d3d3d3d8c/mpmZmZmZyT+8u7u7u7vLP97d3d3d3c0/AAAAAAAA0D8RERERERHRPyIiIiIiItI/MzMzMzMz0z9ERERERETUP1VVVVVVVdU/ZmZmZmZm1j93d3d3d3fXP4iIiIiIiNg/mpmZmZmZ2T+rqqqqqqraP7y7u7u7u9s/zczMzMzM3D/e3d3d3d3dP+/u7u7u7t4/AAAAAAAA4D+IiIiIiIjgPxEREREREeE/mpmZmZmZ4T8iIiIiIiLiP6uqqqqqquI/MzMzMzMz4z+8u7u7u7vjP0REREREROQ/zczMzMzM5D9VVVVVVVXlP97d3d3d3eU/ZmZmZmZm5j/v7u7u7u7mP3d3d3d3d+c/AAAAAAAA6D+IiIiIiIjoPxEREREREek/mpmZmZmZ6T8iIiIiIiLqP6uqqqqqquo/MzMzMzMz6z+8u7u7u7vrP0REREREROw/zczMzMzM7D9VVVVVVVXtP97d3d3d3e0/ZmZmZmZm7j/v7u7u7u7uP3d3d3d3d+8/AAAAAAAA8D9ERERERETwP4iIiIiIiPA/zczMzMzM8D8RERERERHxP1VVVVVVVfE/mpmZmZmZ8T/e3d3d3d3xPyIiIiIiIvI/ZmZmZmZm8j+rqqqqqqryP+/u7u7u7vI/MzMzMzMz8z93d3d3d3fzP7y7u7u7u/M/AAAAAAAA9D9ERERERET0P4iIiIiIiPQ/zczMzMzM9D8RERERERH1P1VVVVVVVfU/mpmZmZmZ9T/e3d3d3d31PyIiIiIiIvY/ZmZmZmZm9j+rqqqqqqr2P+/u7u7u7vY/MzMzMzMz9z93d3d3d3f3P7y7u7u7u/c/AAAAAAAA+D9ERERERET4P4iIiIiIiPg/zczMzMzM+D8RERERERH5P1VVVVVVVfk/mpmZmZmZ+T/e3d3d3d35PyIiIiIiIvo/ZmZmZmZm+j+rqqqqqqr6P+/u7u7u7vo/MzMzMzMz+z93d3d3d3f7P7y7u7u7u/s/AAAAAAAA/D9ERERERET8P4iIiIiIiPw/zczMzMzM/D8RERERERH9P1VVVVVVVf0/mZmZmZmZ/T/e3d3d3d39PyIiIiIiIv4/ZmZmZmZm/j+rqqqqqqr+P+/u7u7u7v4/MzMzMzMz/z93d3d3d3f/P7y7u7u7u/8/AAAAAAAAAEA=",
            "dtype": "f8"
           },
           "xaxis": "x",
           "y": {
            "bdata": "AAAAAAAA8D8AAAAAAADwPwAAAAAAAPA/AAAAAAAA8D8AAAAAAADwPwAAAAAAAPA/AAAAAAAA8D8AAAAAAADwPwAAAAAAAPA/AAAAAAAA8D8AAAAAAADwPwAAAAAAAPA/AAAAAAAA8D8AAAAAAADwPwAAAAAAAPA/AAAAAAAA8D8AAAAAAADwPwAAAAAAAPA/AAAAAAAA8D8AAAAAAADwPwAAAAAAAPA/AAAAAAAA8D8AAAAAAADwPwAAAAAAAPA/AAAAAAAA8D8AAAAAAADwPwAAAAAAAPA/AAAAAAAA8D8AAAAAAADwPwAAAAAAAPA/AAAAAADA7z8AAAAAAIDyPwAAAAAAgNS/AAAAAABAHEAAAAAAACwuwAAAAAAAyDhAAAAAAAAsLsAAAAAAAAAAQAAAAAAAAABAAAAAAAAAAEAAAAAAAAAAQAAAAAAAAABAAAAAAAAAAEAAAAAAAAAAQAAAAAAAAABAAAAAAAAAAEAAAAAAAAAAQAAAAAAAAABAAAAAAAAAAEAAAAAAAAAAQAAAAAAAAABAAAAAAAAAAEAAAAAAAAAAQAAAAAAAAABAAAAAAAAAAEAAAAAAAAAAQAAAAAAAAABAAAAAAAAAAEAAAAAAAAAAQAAAAAAAAABAAAAAAAAAAEAAAAAAABAAQAAAAAAAgP0/AAAAAACQCkAAAAAAAEAQwAAAAAAAFjJAAAAAAADINcAAAAAAABYyQAAAAAAAAPA/AAAAAAAA8D8AAAAAAADwPwAAAAAAAPA/AAAAAAAA8D8AAAAAAADwPwAAAAAAAPA/AAAAAAAA8D8AAAAAAADwPwAAAAAAAPA/AAAAAAAA8D8AAAAAAADwPwAAAAAAAPA/AAAAAAAA8D8AAAAAAADwPwAAAAAAAPA/AAAAAAAA8D8AAAAAAADwPwAAAAAAAPA/AAAAAAAA8D8AAAAAAADwPwAAAAAAAPA/AAAAAAAA8D8AAAAAAADwPwAAAAAAAPA/AAAAAAAA8D8AAAAAAADwPwAAAAAAAPA/AAAAAAAA8D8AAAAAAADwPwAAAAAAAPA/AAAAAAAA8D8AAAAAAADwPwAAAAAAAPA/AAAAAAAA8D8AAAAAAADwPwAAAAAAAPA/AAAAAAAA8D8AAAAAAADwPwAAAAAAAPA/AAAAAAAA8D8AAAAAAADwPwAAAAAAAPA/AAAAAAAA8D8AAAAAAADwPwAAAAAAAPA/AAAAAAAA8D8AAAAAAADwPwAAAAAAAPA/AAAAAAAA8D8AAAAAAADwPwAAAAAAAPA/AAAAAAAA8D8=",
            "dtype": "f8"
           },
           "yaxis": "y"
          }
         ],
         "name": "7"
        },
        {
         "data": [
          {
           "hovertemplate": "variable=8<br>x=%{x}<br>value=%{y}<extra></extra>",
           "legendgroup": "",
           "line": {
            "color": "#636efa",
            "dash": "solid"
           },
           "marker": {
            "symbol": "circle"
           },
           "mode": "lines",
           "name": "",
           "orientation": "v",
           "showlegend": false,
           "type": "scatter",
           "x": {
            "bdata": "AAAAAAAAAAARERERERGRPxEREREREaE/mpmZmZmZqT8RERERERGxP1VVVVVVVbU/mpmZmZmZuT/e3d3d3d29PxEREREREcE/MzMzMzMzwz9VVVVVVVXFP3d3d3d3d8c/mpmZmZmZyT+8u7u7u7vLP97d3d3d3c0/AAAAAAAA0D8RERERERHRPyIiIiIiItI/MzMzMzMz0z9ERERERETUP1VVVVVVVdU/ZmZmZmZm1j93d3d3d3fXP4iIiIiIiNg/mpmZmZmZ2T+rqqqqqqraP7y7u7u7u9s/zczMzMzM3D/e3d3d3d3dP+/u7u7u7t4/AAAAAAAA4D+IiIiIiIjgPxEREREREeE/mpmZmZmZ4T8iIiIiIiLiP6uqqqqqquI/MzMzMzMz4z+8u7u7u7vjP0REREREROQ/zczMzMzM5D9VVVVVVVXlP97d3d3d3eU/ZmZmZmZm5j/v7u7u7u7mP3d3d3d3d+c/AAAAAAAA6D+IiIiIiIjoPxEREREREek/mpmZmZmZ6T8iIiIiIiLqP6uqqqqqquo/MzMzMzMz6z+8u7u7u7vrP0REREREROw/zczMzMzM7D9VVVVVVVXtP97d3d3d3e0/ZmZmZmZm7j/v7u7u7u7uP3d3d3d3d+8/AAAAAAAA8D9ERERERETwP4iIiIiIiPA/zczMzMzM8D8RERERERHxP1VVVVVVVfE/mpmZmZmZ8T/e3d3d3d3xPyIiIiIiIvI/ZmZmZmZm8j+rqqqqqqryP+/u7u7u7vI/MzMzMzMz8z93d3d3d3fzP7y7u7u7u/M/AAAAAAAA9D9ERERERET0P4iIiIiIiPQ/zczMzMzM9D8RERERERH1P1VVVVVVVfU/mpmZmZmZ9T/e3d3d3d31PyIiIiIiIvY/ZmZmZmZm9j+rqqqqqqr2P+/u7u7u7vY/MzMzMzMz9z93d3d3d3f3P7y7u7u7u/c/AAAAAAAA+D9ERERERET4P4iIiIiIiPg/zczMzMzM+D8RERERERH5P1VVVVVVVfk/mpmZmZmZ+T/e3d3d3d35PyIiIiIiIvo/ZmZmZmZm+j+rqqqqqqr6P+/u7u7u7vo/MzMzMzMz+z93d3d3d3f7P7y7u7u7u/s/AAAAAAAA/D9ERERERET8P4iIiIiIiPw/zczMzMzM/D8RERERERH9P1VVVVVVVf0/mZmZmZmZ/T/e3d3d3d39PyIiIiIiIv4/ZmZmZmZm/j+rqqqqqqr+P+/u7u7u7v4/MzMzMzMz/z93d3d3d3f/P7y7u7u7u/8/AAAAAAAAAEA=",
            "dtype": "f8"
           },
           "xaxis": "x",
           "y": {
            "bdata": "AAAAAAAA8D8AAAAAAADwPwAAAAAAAPA/AAAAAAAA8D8AAAAAAADwPwAAAAAAAPA/AAAAAAAA8D8AAAAAAADwPwAAAAAAAPA/AAAAAAAA8D8AAAAAAADwPwAAAAAAAPA/AAAAAAAA8D8AAAAAAADwPwAAAAAAAPA/AAAAAAAA8D8AAAAAAADwPwAAAAAAAPA/AAAAAAAA8D8AAAAAAADwPwAAAAAAAPA/AAAAAAAA8D8AAAAAAADwPwAAAAAAAPA/AAAAAAAA8D8AAAAAAADwPwAAAAAAAPA/AAAAAAAA8D8AAAAAAADwPwAAAAAAAPA/AAAAAAAQ8D8AAAAAACDtPwAAAAAAUP4/AAAAAAAMEMAAAAAAACMyQAAAAACAgkHAAAAAAIBbRkAAAAAAAKE3wAAAAAAAAABAAAAAAAAAAEAAAAAAAAAAQAAAAAAAAABAAAAAAAAAAEAAAAAAAAAAQAAAAAAAAABAAAAAAAAAAEAAAAAAAAAAQAAAAAAAAABAAAAAAAAAAEAAAAAAAAAAQAAAAAAAAABAAAAAAAAAAEAAAAAAAAAAQAAAAAAAAABAAAAAAAAAAEAAAAAAAAAAQAAAAAAAAABAAAAAAAAAAEAAAAAAAAAAQAAAAAAAAABAAAAAAAAAAEAAAAAAAPD/PwAAAAAAuABAAAAAAACw8T8AAAAAAAwcQAAAAAAARi7AAAAAAIACQ0AAAAAAgNtEwAAAAAAAoTpAAAAAAAAA8D8AAAAAAADwPwAAAAAAAPA/AAAAAAAA8D8AAAAAAADwPwAAAAAAAPA/AAAAAAAA8D8AAAAAAADwPwAAAAAAAPA/AAAAAAAA8D8AAAAAAADwPwAAAAAAAPA/AAAAAAAA8D8AAAAAAADwPwAAAAAAAPA/AAAAAAAA8D8AAAAAAADwPwAAAAAAAPA/AAAAAAAA8D8AAAAAAADwPwAAAAAAAPA/AAAAAAAA8D8AAAAAAADwPwAAAAAAAPA/AAAAAAAA8D8AAAAAAADwPwAAAAAAAPA/AAAAAAAA8D8AAAAAAADwPwAAAAAAAPA/AAAAAAAA8D8AAAAAAADwPwAAAAAAAPA/AAAAAAAA8D8AAAAAAADwPwAAAAAAAPA/AAAAAAAA8D8AAAAAAADwPwAAAAAAAPA/AAAAAAAA8D8AAAAAAADwPwAAAAAAAPA/AAAAAAAA8D8AAAAAAADwPwAAAAAAAPA/AAAAAAAA8D8AAAAAAADwPwAAAAAAAPA/AAAAAAAA8D8AAAAAAADwPwAAAAAAAPA/AAAAAAAA8D8=",
            "dtype": "f8"
           },
           "yaxis": "y"
          }
         ],
         "name": "8"
        },
        {
         "data": [
          {
           "hovertemplate": "variable=9<br>x=%{x}<br>value=%{y}<extra></extra>",
           "legendgroup": "",
           "line": {
            "color": "#636efa",
            "dash": "solid"
           },
           "marker": {
            "symbol": "circle"
           },
           "mode": "lines",
           "name": "",
           "orientation": "v",
           "showlegend": false,
           "type": "scatter",
           "x": {
            "bdata": "AAAAAAAAAAARERERERGRPxEREREREaE/mpmZmZmZqT8RERERERGxP1VVVVVVVbU/mpmZmZmZuT/e3d3d3d29PxEREREREcE/MzMzMzMzwz9VVVVVVVXFP3d3d3d3d8c/mpmZmZmZyT+8u7u7u7vLP97d3d3d3c0/AAAAAAAA0D8RERERERHRPyIiIiIiItI/MzMzMzMz0z9ERERERETUP1VVVVVVVdU/ZmZmZmZm1j93d3d3d3fXP4iIiIiIiNg/mpmZmZmZ2T+rqqqqqqraP7y7u7u7u9s/zczMzMzM3D/e3d3d3d3dP+/u7u7u7t4/AAAAAAAA4D+IiIiIiIjgPxEREREREeE/mpmZmZmZ4T8iIiIiIiLiP6uqqqqqquI/MzMzMzMz4z+8u7u7u7vjP0REREREROQ/zczMzMzM5D9VVVVVVVXlP97d3d3d3eU/ZmZmZmZm5j/v7u7u7u7mP3d3d3d3d+c/AAAAAAAA6D+IiIiIiIjoPxEREREREek/mpmZmZmZ6T8iIiIiIiLqP6uqqqqqquo/MzMzMzMz6z+8u7u7u7vrP0REREREROw/zczMzMzM7D9VVVVVVVXtP97d3d3d3e0/ZmZmZmZm7j/v7u7u7u7uP3d3d3d3d+8/AAAAAAAA8D9ERERERETwP4iIiIiIiPA/zczMzMzM8D8RERERERHxP1VVVVVVVfE/mpmZmZmZ8T/e3d3d3d3xPyIiIiIiIvI/ZmZmZmZm8j+rqqqqqqryP+/u7u7u7vI/MzMzMzMz8z93d3d3d3fzP7y7u7u7u/M/AAAAAAAA9D9ERERERET0P4iIiIiIiPQ/zczMzMzM9D8RERERERH1P1VVVVVVVfU/mpmZmZmZ9T/e3d3d3d31PyIiIiIiIvY/ZmZmZmZm9j+rqqqqqqr2P+/u7u7u7vY/MzMzMzMz9z93d3d3d3f3P7y7u7u7u/c/AAAAAAAA+D9ERERERET4P4iIiIiIiPg/zczMzMzM+D8RERERERH5P1VVVVVVVfk/mpmZmZmZ+T/e3d3d3d35PyIiIiIiIvo/ZmZmZmZm+j+rqqqqqqr6P+/u7u7u7vo/MzMzMzMz+z93d3d3d3f7P7y7u7u7u/s/AAAAAAAA/D9ERERERET8P4iIiIiIiPw/zczMzMzM/D8RERERERH9P1VVVVVVVf0/mZmZmZmZ/T/e3d3d3d39PyIiIiIiIv4/ZmZmZmZm/j+rqqqqqqr+P+/u7u7u7v4/MzMzMzMz/z93d3d3d3f/P7y7u7u7u/8/AAAAAAAAAEA=",
            "dtype": "f8"
           },
           "xaxis": "x",
           "y": {
            "bdata": "AAAAAAAA8D8AAAAAAADwPwAAAAAAAPA/AAAAAAAA8D8AAAAAAADwPwAAAAAAAPA/AAAAAAAA8D8AAAAAAADwPwAAAAAAAPA/AAAAAAAA8D8AAAAAAADwPwAAAAAAAPA/AAAAAAAA8D8AAAAAAADwPwAAAAAAAPA/AAAAAAAA8D8AAAAAAADwPwAAAAAAAPA/AAAAAAAA8D8AAAAAAADwPwAAAAAAAPA/AAAAAAAA8D8AAAAAAADwPwAAAAAAAPA/AAAAAAAA8D8AAAAAAADwPwAAAAAAAPA/AAAAAAAA8D8AAAAAAADwPwAAAAAAAPA/AAAAAADw7z8AAAAAANDwPwAAAAAAwNo/AAAAAABkE0AAAAAAACwuwAAAAACAW0ZAAAAAAMC4UsAAAAAAwLhTQAAAAADAOELAAAAAAAAAAEAAAAAAAAAAQAAAAAAAAABAAAAAAAAAAEAAAAAAAAAAQAAAAAAAAABAAAAAAAAAAEAAAAAAAAAAQAAAAAAAAABAAAAAAAAAAEAAAAAAAAAAQAAAAAAAAABAAAAAAAAAAEAAAAAAAAAAQAAAAAAAAABAAAAAAAAAAEAAAAAAAAAAQAAAAAAAAABAAAAAAAAAAEAAAAAAAAAAQAAAAAAAAABAAAAAAAAAAEAAAAAAAAQAQAAAAAAAMP8/AAAAAACoBEAAAAAAAJD9vwAAAAAAFjJAAAAAAIDbRMAAAAAAwHhTQAAAAADA+FLAAAAAAMC4Q0AAAAAAAADwPwAAAAAAAPA/AAAAAAAA8D8AAAAAAADwPwAAAAAAAPA/AAAAAAAA8D8AAAAAAADwPwAAAAAAAPA/AAAAAAAA8D8AAAAAAADwPwAAAAAAAPA/AAAAAAAA8D8AAAAAAADwPwAAAAAAAPA/AAAAAAAA8D8AAAAAAADwPwAAAAAAAPA/AAAAAAAA8D8AAAAAAADwPwAAAAAAAPA/AAAAAAAA8D8AAAAAAADwPwAAAAAAAPA/AAAAAAAA8D8AAAAAAADwPwAAAAAAAPA/AAAAAAAA8D8AAAAAAADwPwAAAAAAAPA/AAAAAAAA8D8AAAAAAADwPwAAAAAAAPA/AAAAAAAA8D8AAAAAAADwPwAAAAAAAPA/AAAAAAAA8D8AAAAAAADwPwAAAAAAAPA/AAAAAAAA8D8AAAAAAADwPwAAAAAAAPA/AAAAAAAA8D8AAAAAAADwPwAAAAAAAPA/AAAAAAAA8D8AAAAAAADwPwAAAAAAAPA/AAAAAAAA8D8AAAAAAADwPwAAAAAAAPA/AAAAAAAA8D8=",
            "dtype": "f8"
           },
           "yaxis": "y"
          }
         ],
         "name": "9"
        },
        {
         "data": [
          {
           "hovertemplate": "variable=10<br>x=%{x}<br>value=%{y}<extra></extra>",
           "legendgroup": "",
           "line": {
            "color": "#636efa",
            "dash": "solid"
           },
           "marker": {
            "symbol": "circle"
           },
           "mode": "lines",
           "name": "",
           "orientation": "v",
           "showlegend": false,
           "type": "scatter",
           "x": {
            "bdata": "AAAAAAAAAAARERERERGRPxEREREREaE/mpmZmZmZqT8RERERERGxP1VVVVVVVbU/mpmZmZmZuT/e3d3d3d29PxEREREREcE/MzMzMzMzwz9VVVVVVVXFP3d3d3d3d8c/mpmZmZmZyT+8u7u7u7vLP97d3d3d3c0/AAAAAAAA0D8RERERERHRPyIiIiIiItI/MzMzMzMz0z9ERERERETUP1VVVVVVVdU/ZmZmZmZm1j93d3d3d3fXP4iIiIiIiNg/mpmZmZmZ2T+rqqqqqqraP7y7u7u7u9s/zczMzMzM3D/e3d3d3d3dP+/u7u7u7t4/AAAAAAAA4D+IiIiIiIjgPxEREREREeE/mpmZmZmZ4T8iIiIiIiLiP6uqqqqqquI/MzMzMzMz4z+8u7u7u7vjP0REREREROQ/zczMzMzM5D9VVVVVVVXlP97d3d3d3eU/ZmZmZmZm5j/v7u7u7u7mP3d3d3d3d+c/AAAAAAAA6D+IiIiIiIjoPxEREREREek/mpmZmZmZ6T8iIiIiIiLqP6uqqqqqquo/MzMzMzMz6z+8u7u7u7vrP0REREREROw/zczMzMzM7D9VVVVVVVXtP97d3d3d3e0/ZmZmZmZm7j/v7u7u7u7uP3d3d3d3d+8/AAAAAAAA8D9ERERERETwP4iIiIiIiPA/zczMzMzM8D8RERERERHxP1VVVVVVVfE/mpmZmZmZ8T/e3d3d3d3xPyIiIiIiIvI/ZmZmZmZm8j+rqqqqqqryP+/u7u7u7vI/MzMzMzMz8z93d3d3d3fzP7y7u7u7u/M/AAAAAAAA9D9ERERERET0P4iIiIiIiPQ/zczMzMzM9D8RERERERH1P1VVVVVVVfU/mpmZmZmZ9T/e3d3d3d31PyIiIiIiIvY/ZmZmZmZm9j+rqqqqqqr2P+/u7u7u7vY/MzMzMzMz9z93d3d3d3f3P7y7u7u7u/c/AAAAAAAA+D9ERERERET4P4iIiIiIiPg/zczMzMzM+D8RERERERH5P1VVVVVVVfk/mpmZmZmZ+T/e3d3d3d35PyIiIiIiIvo/ZmZmZmZm+j+rqqqqqqr6P+/u7u7u7vo/MzMzMzMz+z93d3d3d3f7P7y7u7u7u/s/AAAAAAAA/D9ERERERET8P4iIiIiIiPw/zczMzMzM/D8RERERERH9P1VVVVVVVf0/mZmZmZmZ/T/e3d3d3d39PyIiIiIiIv4/ZmZmZmZm/j+rqqqqqqr+P+/u7u7u7v4/MzMzMzMz/z93d3d3d3f/P7y7u7u7u/8/AAAAAAAAAEA=",
            "dtype": "f8"
           },
           "xaxis": "x",
           "y": {
            "bdata": "AAAAAAAA8D8AAAAAAADwPwAAAAAAAPA/AAAAAAAA8D8AAAAAAADwPwAAAAAAAPA/AAAAAAAA8D8AAAAAAADwPwAAAAAAAPA/AAAAAAAA8D8AAAAAAADwPwAAAAAAAPA/AAAAAAAA8D8AAAAAAADwPwAAAAAAAPA/AAAAAAAA8D8AAAAAAADwPwAAAAAAAPA/AAAAAAAA8D8AAAAAAADwPwAAAAAAAPA/AAAAAAAA8D8AAAAAAADwPwAAAAAAAPA/AAAAAAAA8D8AAAAAAADwPwAAAAAAAPA/AAAAAAAA8D8AAAAAAADwPwAAAAAAAPA/AAAAAAAE8D8AAAAAABjvPwAAAAAA4PU/AAAAAADA/L8AAAAAAKEtQAAAAABAfkbAAAAAAAAhWkAAAAAAwPhiwAAAAACoEWFAAAAAACDVS8AAAAAAAAAAQAAAAAAAAABAAAAAAAAAAEAAAAAAAAAAQAAAAAAAAABAAAAAAAAAAEAAAAAAAAAAQAAAAAAAAABAAAAAAAAAAEAAAAAAAAAAQAAAAAAAAABAAAAAAAAAAEAAAAAAAAAAQAAAAAAAAABAAAAAAAAAAEAAAAAAAAAAQAAAAAAAAABAAAAAAAAAAEAAAAAAAAAAQAAAAAAAAABAAAAAAAAAAEAAAAAAAPz/PwAAAAAAOgBAAAAAAAAg+j8AAAAAADATQAAAAAAAoSfAAAAAAED+R0AAAAAAAGFZwAAAAADAWGNAAAAAAKixYMAAAAAAIFVNQAAAAAAAAPA/AAAAAAAA8D8AAAAAAADwPwAAAAAAAPA/AAAAAAAA8D8AAAAAAADwPwAAAAAAAPA/AAAAAAAA8D8AAAAAAADwPwAAAAAAAPA/AAAAAAAA8D8AAAAAAADwPwAAAAAAAPA/AAAAAAAA8D8AAAAAAADwPwAAAAAAAPA/AAAAAAAA8D8AAAAAAADwPwAAAAAAAPA/AAAAAAAA8D8AAAAAAADwPwAAAAAAAPA/AAAAAAAA8D8AAAAAAADwPwAAAAAAAPA/AAAAAAAA8D8AAAAAAADwPwAAAAAAAPA/AAAAAAAA8D8AAAAAAADwPwAAAAAAAPA/AAAAAAAA8D8AAAAAAADwPwAAAAAAAPA/AAAAAAAA8D8AAAAAAADwPwAAAAAAAPA/AAAAAAAA8D8AAAAAAADwPwAAAAAAAPA/AAAAAAAA8D8AAAAAAADwPwAAAAAAAPA/AAAAAAAA8D8AAAAAAADwPwAAAAAAAPA/AAAAAAAA8D8AAAAAAADwPwAAAAAAAPA/AAAAAAAA8D8=",
            "dtype": "f8"
           },
           "yaxis": "y"
          }
         ],
         "name": "10"
        },
        {
         "data": [
          {
           "hovertemplate": "variable=11<br>x=%{x}<br>value=%{y}<extra></extra>",
           "legendgroup": "",
           "line": {
            "color": "#636efa",
            "dash": "solid"
           },
           "marker": {
            "symbol": "circle"
           },
           "mode": "lines",
           "name": "",
           "orientation": "v",
           "showlegend": false,
           "type": "scatter",
           "x": {
            "bdata": "AAAAAAAAAAARERERERGRPxEREREREaE/mpmZmZmZqT8RERERERGxP1VVVVVVVbU/mpmZmZmZuT/e3d3d3d29PxEREREREcE/MzMzMzMzwz9VVVVVVVXFP3d3d3d3d8c/mpmZmZmZyT+8u7u7u7vLP97d3d3d3c0/AAAAAAAA0D8RERERERHRPyIiIiIiItI/MzMzMzMz0z9ERERERETUP1VVVVVVVdU/ZmZmZmZm1j93d3d3d3fXP4iIiIiIiNg/mpmZmZmZ2T+rqqqqqqraP7y7u7u7u9s/zczMzMzM3D/e3d3d3d3dP+/u7u7u7t4/AAAAAAAA4D+IiIiIiIjgPxEREREREeE/mpmZmZmZ4T8iIiIiIiLiP6uqqqqqquI/MzMzMzMz4z+8u7u7u7vjP0REREREROQ/zczMzMzM5D9VVVVVVVXlP97d3d3d3eU/ZmZmZmZm5j/v7u7u7u7mP3d3d3d3d+c/AAAAAAAA6D+IiIiIiIjoPxEREREREek/mpmZmZmZ6T8iIiIiIiLqP6uqqqqqquo/MzMzMzMz6z+8u7u7u7vrP0REREREROw/zczMzMzM7D9VVVVVVVXtP97d3d3d3e0/ZmZmZmZm7j/v7u7u7u7uP3d3d3d3d+8/AAAAAAAA8D9ERERERETwP4iIiIiIiPA/zczMzMzM8D8RERERERHxP1VVVVVVVfE/mpmZmZmZ8T/e3d3d3d3xPyIiIiIiIvI/ZmZmZmZm8j+rqqqqqqryP+/u7u7u7vI/MzMzMzMz8z93d3d3d3fzP7y7u7u7u/M/AAAAAAAA9D9ERERERET0P4iIiIiIiPQ/zczMzMzM9D8RERERERH1P1VVVVVVVfU/mpmZmZmZ9T/e3d3d3d31PyIiIiIiIvY/ZmZmZmZm9j+rqqqqqqr2P+/u7u7u7vY/MzMzMzMz9z93d3d3d3f3P7y7u7u7u/c/AAAAAAAA+D9ERERERET4P4iIiIiIiPg/zczMzMzM+D8RERERERH5P1VVVVVVVfk/mpmZmZmZ+T/e3d3d3d35PyIiIiIiIvo/ZmZmZmZm+j+rqqqqqqr6P+/u7u7u7vo/MzMzMzMz+z93d3d3d3f7P7y7u7u7u/s/AAAAAAAA/D9ERERERET8P4iIiIiIiPw/zczMzMzM/D8RERERERH9P1VVVVVVVf0/mZmZmZmZ/T/e3d3d3d39PyIiIiIiIv4/ZmZmZmZm/j+rqqqqqqr+P+/u7u7u7v4/MzMzMzMz/z93d3d3d3f/P7y7u7u7u/8/AAAAAAAAAEA=",
            "dtype": "f8"
           },
           "xaxis": "x",
           "y": {
            "bdata": "AAAAAAAA8D8AAAAAAADwPwAAAAAAAPA/AAAAAAAA8D8AAAAAAADwPwAAAAAAAPA/AAAAAAAA8D8AAAAAAADwPwAAAAAAAPA/AAAAAAAA8D8AAAAAAADwPwAAAAAAAPA/AAAAAAAA8D8AAAAAAADwPwAAAAAAAPA/AAAAAAAA8D8AAAAAAADwPwAAAAAAAPA/AAAAAAAA8D8AAAAAAADwPwAAAAAAAPA/AAAAAAAA8D8AAAAAAADwPwAAAAAAAPA/AAAAAAAA8D8AAAAAAADwPwAAAAAAAPA/AAAAAAAA8D8AAAAAAADwPwAAAAAAAPA/AAAAAAD87z8AAAAAAEDwPwAAAAAAxOg/AAAAAACYB0AAAAAAgDQkwAAAAACAW0ZAAAAAADDvXcAAAAAAIBVtQAAAAAD6fnLAAAAAACAVbUAAAAAA2B9VwAAAAAAAAABAAAAAAAAAAEAAAAAAAAAAQAAAAAAAAABAAAAAAAAAAEAAAAAAAAAAQAAAAAAAAABAAAAAAAAAAEAAAAAAAAAAQAAAAAAAAABAAAAAAAAAAEAAAAAAAAAAQAAAAAAAAABAAAAAAAAAAEAAAAAAAAAAQAAAAAAAAABAAAAAAAAAAEAAAAAAAAAAQAAAAAAAAABAAAAAAAAAAEAAAAAAAAEAQAAAAAAAwP8/AAAAAADPAUAAAAAAAACqPwAAAACANCpAAAAAAIDbRMAAAAAAMK9eQAAAAAAgtWzAAAAAAPquckAAAAAAILVswAAAAADY31VAAAAAAAAA8D8AAAAAAADwPwAAAAAAAPA/AAAAAAAA8D8AAAAAAADwPwAAAAAAAPA/AAAAAAAA8D8AAAAAAADwPwAAAAAAAPA/AAAAAAAA8D8AAAAAAADwPwAAAAAAAPA/AAAAAAAA8D8AAAAAAADwPwAAAAAAAPA/AAAAAAAA8D8AAAAAAADwPwAAAAAAAPA/AAAAAAAA8D8AAAAAAADwPwAAAAAAAPA/AAAAAAAA8D8AAAAAAADwPwAAAAAAAPA/AAAAAAAA8D8AAAAAAADwPwAAAAAAAPA/AAAAAAAA8D8AAAAAAADwPwAAAAAAAPA/AAAAAAAA8D8AAAAAAADwPwAAAAAAAPA/AAAAAAAA8D8AAAAAAADwPwAAAAAAAPA/AAAAAAAA8D8AAAAAAADwPwAAAAAAAPA/AAAAAAAA8D8AAAAAAADwPwAAAAAAAPA/AAAAAAAA8D8AAAAAAADwPwAAAAAAAPA/AAAAAAAA8D8AAAAAAADwPwAAAAAAAPA/AAAAAAAA8D8=",
            "dtype": "f8"
           },
           "yaxis": "y"
          }
         ],
         "name": "11"
        },
        {
         "data": [
          {
           "hovertemplate": "variable=12<br>x=%{x}<br>value=%{y}<extra></extra>",
           "legendgroup": "",
           "line": {
            "color": "#636efa",
            "dash": "solid"
           },
           "marker": {
            "symbol": "circle"
           },
           "mode": "lines",
           "name": "",
           "orientation": "v",
           "showlegend": false,
           "type": "scatter",
           "x": {
            "bdata": "AAAAAAAAAAARERERERGRPxEREREREaE/mpmZmZmZqT8RERERERGxP1VVVVVVVbU/mpmZmZmZuT/e3d3d3d29PxEREREREcE/MzMzMzMzwz9VVVVVVVXFP3d3d3d3d8c/mpmZmZmZyT+8u7u7u7vLP97d3d3d3c0/AAAAAAAA0D8RERERERHRPyIiIiIiItI/MzMzMzMz0z9ERERERETUP1VVVVVVVdU/ZmZmZmZm1j93d3d3d3fXP4iIiIiIiNg/mpmZmZmZ2T+rqqqqqqraP7y7u7u7u9s/zczMzMzM3D/e3d3d3d3dP+/u7u7u7t4/AAAAAAAA4D+IiIiIiIjgPxEREREREeE/mpmZmZmZ4T8iIiIiIiLiP6uqqqqqquI/MzMzMzMz4z+8u7u7u7vjP0REREREROQ/zczMzMzM5D9VVVVVVVXlP97d3d3d3eU/ZmZmZmZm5j/v7u7u7u7mP3d3d3d3d+c/AAAAAAAA6D+IiIiIiIjoPxEREREREek/mpmZmZmZ6T8iIiIiIiLqP6uqqqqqquo/MzMzMzMz6z+8u7u7u7vrP0REREREROw/zczMzMzM7D9VVVVVVVXtP97d3d3d3e0/ZmZmZmZm7j/v7u7u7u7uP3d3d3d3d+8/AAAAAAAA8D9ERERERETwP4iIiIiIiPA/zczMzMzM8D8RERERERHxP1VVVVVVVfE/mpmZmZmZ8T/e3d3d3d3xPyIiIiIiIvI/ZmZmZmZm8j+rqqqqqqryP+/u7u7u7vI/MzMzMzMz8z93d3d3d3fzP7y7u7u7u/M/AAAAAAAA9D9ERERERET0P4iIiIiIiPQ/zczMzMzM9D8RERERERH1P1VVVVVVVfU/mpmZmZmZ9T/e3d3d3d31PyIiIiIiIvY/ZmZmZmZm9j+rqqqqqqr2P+/u7u7u7vY/MzMzMzMz9z93d3d3d3f3P7y7u7u7u/c/AAAAAAAA+D9ERERERET4P4iIiIiIiPg/zczMzMzM+D8RERERERH5P1VVVVVVVfk/mpmZmZmZ+T/e3d3d3d35PyIiIiIiIvo/ZmZmZmZm+j+rqqqqqqr6P+/u7u7u7vo/MzMzMzMz+z93d3d3d3f7P7y7u7u7u/s/AAAAAAAA/D9ERERERET8P4iIiIiIiPw/zczMzMzM/D8RERERERH9P1VVVVVVVf0/mZmZmZmZ/T/e3d3d3d39PyIiIiIiIv4/ZmZmZmZm/j+rqqqqqqr+P+/u7u7u7v4/MzMzMzMz/z93d3d3d3f/P7y7u7u7u/8/AAAAAAAAAEA=",
            "dtype": "f8"
           },
           "xaxis": "x",
           "y": {
            "bdata": "AAAAAAAA8D8AAAAAAADwPwAAAAAAAPA/AAAAAAAA8D8AAAAAAADwPwAAAAAAAPA/AAAAAAAA8D8AAAAAAADwPwAAAAAAAPA/AAAAAAAA8D8AAAAAAADwPwAAAAAAAPA/AAAAAAAA8D8AAAAAAADwPwAAAAAAAPA/AAAAAAAA8D8AAAAAAADwPwAAAAAAAPA/AAAAAAAA8D8AAAAAAADwPwAAAAAAAPA/AAAAAAAA8D8AAAAAAADwPwAAAAAAAPA/AAAAAAAA8D8AAAAAAADwPwAAAAAAAPA/AAAAAAAA8D8AAAAAAADwPwAAAAAAAPA/AAAAAAAB8D8AAAAAALrvPwAAAAAAL/I/AAAAAAAU1L8AAAAAQPMiQAAAAABwwULAAAAAADi8X0AAAAAA+n5ywAAAAABVD39AAAAAgN+BgcAAAAAA03N4QAAAAADE71/AAAAAAAAAAEAAAAAAAAAAQAAAAAAAAABAAAAAAAAAAEAAAAAAAAAAQAAAAAAAAABAAAAAAAAAAEAAAAAAAAAAQAAAAAAAAABAAAAAAAAAAEAAAAAAAAAAQAAAAAAAAABAAAAAAAAAAEAAAAAAAAAAQAAAAAAAAABAAAAAAAAAAEAAAAAAAAAAQAAAAAAAAABAAAAAAAAAAEAAAAAAAP//PwAAAACAEQBAAAAAAADR/T8AAAAAgIIKQAAAAACA5hnAAAAAAHBBREAAAAAAOPxewAAAAAD6rnJAAAAAAFXffsAAAACA35mBQAAAAADTQ3jAAAAAAOJXYEAAAAAAAADwPwAAAAAAAPA/AAAAAAAA8D8AAAAAAADwPwAAAAAAAPA/AAAAAAAA8D8AAAAAAADwPwAAAAAAAPA/AAAAAAAA8D8AAAAAAADwPwAAAAAAAPA/AAAAAAAA8D8AAAAAAADwPwAAAAAAAPA/AAAAAAAA8D8AAAAAAADwPwAAAAAAAPA/AAAAAAAA8D8AAAAAAADwPwAAAAAAAPA/AAAAAAAA8D8AAAAAAADwPwAAAAAAAPA/AAAAAAAA8D8AAAAAAADwPwAAAAAAAPA/AAAAAAAA8D8AAAAAAADwPwAAAAAAAPA/AAAAAAAA8D8AAAAAAADwPwAAAAAAAPA/AAAAAAAA8D8AAAAAAADwPwAAAAAAAPA/AAAAAAAA8D8AAAAAAADwPwAAAAAAAPA/AAAAAAAA8D8AAAAAAADwPwAAAAAAAPA/AAAAAAAA8D8AAAAAAADwPwAAAAAAAPA/AAAAAAAA8D8AAAAAAADwPwAAAAAAAPA/AAAAAAAA8D8=",
            "dtype": "f8"
           },
           "yaxis": "y"
          }
         ],
         "name": "12"
        },
        {
         "data": [
          {
           "hovertemplate": "variable=13<br>x=%{x}<br>value=%{y}<extra></extra>",
           "legendgroup": "",
           "line": {
            "color": "#636efa",
            "dash": "solid"
           },
           "marker": {
            "symbol": "circle"
           },
           "mode": "lines",
           "name": "",
           "orientation": "v",
           "showlegend": false,
           "type": "scatter",
           "x": {
            "bdata": "AAAAAAAAAAARERERERGRPxEREREREaE/mpmZmZmZqT8RERERERGxP1VVVVVVVbU/mpmZmZmZuT/e3d3d3d29PxEREREREcE/MzMzMzMzwz9VVVVVVVXFP3d3d3d3d8c/mpmZmZmZyT+8u7u7u7vLP97d3d3d3c0/AAAAAAAA0D8RERERERHRPyIiIiIiItI/MzMzMzMz0z9ERERERETUP1VVVVVVVdU/ZmZmZmZm1j93d3d3d3fXP4iIiIiIiNg/mpmZmZmZ2T+rqqqqqqraP7y7u7u7u9s/zczMzMzM3D/e3d3d3d3dP+/u7u7u7t4/AAAAAAAA4D+IiIiIiIjgPxEREREREeE/mpmZmZmZ4T8iIiIiIiLiP6uqqqqqquI/MzMzMzMz4z+8u7u7u7vjP0REREREROQ/zczMzMzM5D9VVVVVVVXlP97d3d3d3eU/ZmZmZmZm5j/v7u7u7u7mP3d3d3d3d+c/AAAAAAAA6D+IiIiIiIjoPxEREREREek/mpmZmZmZ6T8iIiIiIiLqP6uqqqqqquo/MzMzMzMz6z+8u7u7u7vrP0REREREROw/zczMzMzM7D9VVVVVVVXtP97d3d3d3e0/ZmZmZmZm7j/v7u7u7u7uP3d3d3d3d+8/AAAAAAAA8D9ERERERETwP4iIiIiIiPA/zczMzMzM8D8RERERERHxP1VVVVVVVfE/mpmZmZmZ8T/e3d3d3d3xPyIiIiIiIvI/ZmZmZmZm8j+rqqqqqqryP+/u7u7u7vI/MzMzMzMz8z93d3d3d3fzP7y7u7u7u/M/AAAAAAAA9D9ERERERET0P4iIiIiIiPQ/zczMzMzM9D8RERERERH1P1VVVVVVVfU/mpmZmZmZ9T/e3d3d3d31PyIiIiIiIvY/ZmZmZmZm9j+rqqqqqqr2P+/u7u7u7vY/MzMzMzMz9z93d3d3d3f3P7y7u7u7u/c/AAAAAAAA+D9ERERERET4P4iIiIiIiPg/zczMzMzM+D8RERERERH5P1VVVVVVVfk/mpmZmZmZ+T/e3d3d3d35PyIiIiIiIvo/ZmZmZmZm+j+rqqqqqqr6P+/u7u7u7vo/MzMzMzMz+z93d3d3d3f7P7y7u7u7u/s/AAAAAAAA/D9ERERERET8P4iIiIiIiPw/zczMzMzM/D8RERERERH9P1VVVVVVVf0/mZmZmZmZ/T/e3d3d3d39PyIiIiIiIv4/ZmZmZmZm/j+rqqqqqqr+P+/u7u7u7v4/MzMzMzMz/z93d3d3d3f/P7y7u7u7u/8/AAAAAAAAAEA=",
            "dtype": "f8"
           },
           "xaxis": "x",
           "y": {
            "bdata": "AAAAAAAA8D8AAAAAAADwPwAAAAAAAPA/AAAAAAAA8D8AAAAAAADwPwAAAAAAAPA/AAAAAAAA8D8AAAAAAADwPwAAAAAAAPA/AAAAAAAA8D8AAAAAAADwPwAAAAAAAPA/AAAAAAAA8D8AAAAAAADwPwAAAAAAAPA/AAAAAAAA8D8AAAAAAADwPwAAAAAAAPA/AAAAAAAA8D8AAAAAAADwPwAAAAAAAPA/AAAAAAAA8D8AAAAAAADwPwAAAAAAAPA/AAAAAAAA8D8AAAAAAADwPwAAAAAAAPA/AAAAAAAA8D8AAAAAAADwPwAAAAAAAPA/AAAAAAD/7z8AAAAAABPwPwAAAAAAaO0/AAAAAADJ/T8AAAAAINUUwAAAAADwe0BAAAAAADDvXcAAAAAAEiZ1QAAAAMAQo4XAAAAAwDcGkEAAAAAA4i+QwAAAAIDaVYRAAAAAANMTaMAAAAAAAAAAQAAAAAAAAABAAAAAAAAAAEAAAAAAAAAAQAAAAAAAAABAAAAAAAAAAEAAAAAAAAAAQAAAAAAAAABAAAAAAAAAAEAAAAAAAAAAQAAAAAAAAABAAAAAAAAAAEAAAAAAAAAAQAAAAAAAAABAAAAAAAAAAEAAAAAAAAAAQAAAAAAAAABAAAAAAAAAAEAAAAAAQAAAQAAAAAAA7f8/AAAAAACmAEAAAAAAADfyPwAAAACQaiBAAAAAAOD3PcAAAAAAMK9eQAAAAAAS9nTAAAAAwBC7hUAAAACAb/SPwAAAAADiO5BAAAAAgNo9hMAAAAAA03NoQAAAAAAAAPA/AAAAAAAA8D8AAAAAAADwPwAAAAAAAPA/AAAAAAAA8D8AAAAAAADwPwAAAAAAAPA/AAAAAAAA8D8AAAAAAADwPwAAAAAAAPA/AAAAAAAA8D8AAAAAAADwPwAAAAAAAPA/AAAAAAAA8D8AAAAAAADwPwAAAAAAAPA/AAAAAAAA8D8AAAAAAADwPwAAAAAAAPA/AAAAAAAA8D8AAAAAAADwPwAAAAAAAPA/AAAAAAAA8D8AAAAAAADwPwAAAAAAAPA/AAAAAAAA8D8AAAAAAADwPwAAAAAAAPA/AAAAAAAA8D8AAAAAAADwPwAAAAAAAPA/AAAAAAAA8D8AAAAAAADwPwAAAAAAAPA/AAAAAAAA8D8AAAAAAADwPwAAAAAAAPA/AAAAAAAA8D8AAAAAAADwPwAAAAAAAPA/AAAAAAAA8D8AAAAAAADwPwAAAAAAAPA/AAAAAAAA8D8AAAAAAADwPwAAAAAAAPA/AAAAAAAA8D8=",
            "dtype": "f8"
           },
           "yaxis": "y"
          }
         ],
         "name": "13"
        },
        {
         "data": [
          {
           "hovertemplate": "variable=14<br>x=%{x}<br>value=%{y}<extra></extra>",
           "legendgroup": "",
           "line": {
            "color": "#636efa",
            "dash": "solid"
           },
           "marker": {
            "symbol": "circle"
           },
           "mode": "lines",
           "name": "",
           "orientation": "v",
           "showlegend": false,
           "type": "scatter",
           "x": {
            "bdata": "AAAAAAAAAAARERERERGRPxEREREREaE/mpmZmZmZqT8RERERERGxP1VVVVVVVbU/mpmZmZmZuT/e3d3d3d29PxEREREREcE/MzMzMzMzwz9VVVVVVVXFP3d3d3d3d8c/mpmZmZmZyT+8u7u7u7vLP97d3d3d3c0/AAAAAAAA0D8RERERERHRPyIiIiIiItI/MzMzMzMz0z9ERERERETUP1VVVVVVVdU/ZmZmZmZm1j93d3d3d3fXP4iIiIiIiNg/mpmZmZmZ2T+rqqqqqqraP7y7u7u7u9s/zczMzMzM3D/e3d3d3d3dP+/u7u7u7t4/AAAAAAAA4D+IiIiIiIjgPxEREREREeE/mpmZmZmZ4T8iIiIiIiLiP6uqqqqqquI/MzMzMzMz4z+8u7u7u7vjP0REREREROQ/zczMzMzM5D9VVVVVVVXlP97d3d3d3eU/ZmZmZmZm5j/v7u7u7u7mP3d3d3d3d+c/AAAAAAAA6D+IiIiIiIjoPxEREREREek/mpmZmZmZ6T8iIiIiIiLqP6uqqqqqquo/MzMzMzMz6z+8u7u7u7vrP0REREREROw/zczMzMzM7D9VVVVVVVXtP97d3d3d3e0/ZmZmZmZm7j/v7u7u7u7uP3d3d3d3d+8/AAAAAAAA8D9ERERERETwP4iIiIiIiPA/zczMzMzM8D8RERERERHxP1VVVVVVVfE/mpmZmZmZ8T/e3d3d3d3xPyIiIiIiIvI/ZmZmZmZm8j+rqqqqqqryP+/u7u7u7vI/MzMzMzMz8z93d3d3d3fzP7y7u7u7u/M/AAAAAAAA9D9ERERERET0P4iIiIiIiPQ/zczMzMzM9D8RERERERH1P1VVVVVVVfU/mpmZmZmZ9T/e3d3d3d31PyIiIiIiIvY/ZmZmZmZm9j+rqqqqqqr2P+/u7u7u7vY/MzMzMzMz9z93d3d3d3f3P7y7u7u7u/c/AAAAAAAA+D9ERERERET4P4iIiIiIiPg/zczMzMzM+D8RERERERH5P1VVVVVVVfk/mpmZmZmZ+T/e3d3d3d35PyIiIiIiIvo/ZmZmZmZm+j+rqqqqqqr6P+/u7u7u7vo/MzMzMzMz+z93d3d3d3f7P7y7u7u7u/s/AAAAAAAA/D9ERERERET8P4iIiIiIiPw/zczMzMzM/D8RERERERH9P1VVVVVVVf0/mZmZmZmZ/T/e3d3d3d39PyIiIiIiIv4/ZmZmZmZm/j+rqqqqqqr+P+/u7u7u7v4/MzMzMzMz/z93d3d3d3f/P7y7u7u7u/8/AAAAAAAAAEA=",
            "dtype": "f8"
           },
           "xaxis": "x",
           "y": {
            "bdata": "AAAAAAAA8D8AAAAAAADwPwAAAAAAAPA/AAAAAAAA8D8AAAAAAADwPwAAAAAAAPA/AAAAAAAA8D8AAAAAAADwPwAAAAAAAPA/AAAAAAAA8D8AAAAAAADwPwAAAAAAAPA/AAAAAAAA8D8AAAAAAADwPwAAAAAAAPA/AAAAAAAA8D8AAAAAAADwPwAAAAAAAPA/AAAAAAAA8D8AAAAAAADwPwAAAAAAAPA/AAAAAAAA8D8AAAAAAADwPwAAAAAAAPA/AAAAAAAA8D8AAAAAAADwPwAAAAAAAPA/AAAAAAAA8D8AAAAAAADwPwAAAAAAAPA/AAAAAEAA8D8AAAAAgOvvPwAAAACAwvA/AAAAAACm3D8AAAAA8JUVQAAAAADcSzjAAAAAAIxUW0AAAAAAu8x1wAAAAOAVropAAAAAcGg9mMAAAABQohCgQAAAAKBJXZ3AAAAAEKHBkEAAAABA3h5ywAAAAAAAAABAAAAAAAAAAEAAAAAAAAAAQAAAAAAAAABAAAAAAAAAAEAAAAAAAAAAQAAAAAAAAABAAAAAAAAAAEAAAAAAAAAAQAAAAAAAAABAAAAAAAAAAEAAAAAAAAAAQAAAAAAAAABAAAAAAAAAAEAAAAAAAAAAQAAAAAAAAABAAAAAAAAAAEAAAAAAwP//PwAAAAAgBQBAAAAAAIA9/z8AAAAAQGsEQAAAAADgKwPAAAAAANxLO0AAAAAAjJRawAAAAAC7/HVAAAAA4BWWisAAAABwaEmYQAAAAFCiCqDAAAAAoElpnUAAAAAQobWQwAAAAEDeTnJAAAAAAAAA8D8AAAAAAADwPwAAAAAAAPA/AAAAAAAA8D8AAAAAAADwPwAAAAAAAPA/AAAAAAAA8D8AAAAAAADwPwAAAAAAAPA/AAAAAAAA8D8AAAAAAADwPwAAAAAAAPA/AAAAAAAA8D8AAAAAAADwPwAAAAAAAPA/AAAAAAAA8D8AAAAAAADwPwAAAAAAAPA/AAAAAAAA8D8AAAAAAADwPwAAAAAAAPA/AAAAAAAA8D8AAAAAAADwPwAAAAAAAPA/AAAAAAAA8D8AAAAAAADwPwAAAAAAAPA/AAAAAAAA8D8AAAAAAADwPwAAAAAAAPA/AAAAAAAA8D8AAAAAAADwPwAAAAAAAPA/AAAAAAAA8D8AAAAAAADwPwAAAAAAAPA/AAAAAAAA8D8AAAAAAADwPwAAAAAAAPA/AAAAAAAA8D8AAAAAAADwPwAAAAAAAPA/AAAAAAAA8D8AAAAAAADwPwAAAAAAAPA/AAAAAAAA8D8=",
            "dtype": "f8"
           },
           "yaxis": "y"
          }
         ],
         "name": "14"
        },
        {
         "data": [
          {
           "hovertemplate": "variable=15<br>x=%{x}<br>value=%{y}<extra></extra>",
           "legendgroup": "",
           "line": {
            "color": "#636efa",
            "dash": "solid"
           },
           "marker": {
            "symbol": "circle"
           },
           "mode": "lines",
           "name": "",
           "orientation": "v",
           "showlegend": false,
           "type": "scatter",
           "x": {
            "bdata": "AAAAAAAAAAARERERERGRPxEREREREaE/mpmZmZmZqT8RERERERGxP1VVVVVVVbU/mpmZmZmZuT/e3d3d3d29PxEREREREcE/MzMzMzMzwz9VVVVVVVXFP3d3d3d3d8c/mpmZmZmZyT+8u7u7u7vLP97d3d3d3c0/AAAAAAAA0D8RERERERHRPyIiIiIiItI/MzMzMzMz0z9ERERERETUP1VVVVVVVdU/ZmZmZmZm1j93d3d3d3fXP4iIiIiIiNg/mpmZmZmZ2T+rqqqqqqraP7y7u7u7u9s/zczMzMzM3D/e3d3d3d3dP+/u7u7u7t4/AAAAAAAA4D+IiIiIiIjgPxEREREREeE/mpmZmZmZ4T8iIiIiIiLiP6uqqqqqquI/MzMzMzMz4z+8u7u7u7vjP0REREREROQ/zczMzMzM5D9VVVVVVVXlP97d3d3d3eU/ZmZmZmZm5j/v7u7u7u7mP3d3d3d3d+c/AAAAAAAA6D+IiIiIiIjoPxEREREREek/mpmZmZmZ6T8iIiIiIiLqP6uqqqqqquo/MzMzMzMz6z+8u7u7u7vrP0REREREROw/zczMzMzM7D9VVVVVVVXtP97d3d3d3e0/ZmZmZmZm7j/v7u7u7u7uP3d3d3d3d+8/AAAAAAAA8D9ERERERETwP4iIiIiIiPA/zczMzMzM8D8RERERERHxP1VVVVVVVfE/mpmZmZmZ8T/e3d3d3d3xPyIiIiIiIvI/ZmZmZmZm8j+rqqqqqqryP+/u7u7u7vI/MzMzMzMz8z93d3d3d3fzP7y7u7u7u/M/AAAAAAAA9D9ERERERET0P4iIiIiIiPQ/zczMzMzM9D8RERERERH1P1VVVVVVVfU/mpmZmZmZ9T/e3d3d3d31PyIiIiIiIvY/ZmZmZmZm9j+rqqqqqqr2P+/u7u7u7vY/MzMzMzMz9z93d3d3d3f3P7y7u7u7u/c/AAAAAAAA+D9ERERERET4P4iIiIiIiPg/zczMzMzM+D8RERERERH5P1VVVVVVVfk/mpmZmZmZ+T/e3d3d3d35PyIiIiIiIvo/ZmZmZmZm+j+rqqqqqqr6P+/u7u7u7vo/MzMzMzMz+z93d3d3d3f7P7y7u7u7u/s/AAAAAAAA/D9ERERERET8P4iIiIiIiPw/zczMzMzM/D8RERERERH9P1VVVVVVVf0/mZmZmZmZ/T/e3d3d3d39PyIiIiIiIv4/ZmZmZmZm/j+rqqqqqqr+P+/u7u7u7v4/MzMzMzMz/z93d3d3d3f/P7y7u7u7u/8/AAAAAAAAAEA=",
            "dtype": "f8"
           },
           "xaxis": "x",
           "y": {
            "bdata": "AAAAAAAA8D8AAAAAAADwPwAAAAAAAPA/AAAAAAAA8D8AAAAAAADwPwAAAAAAAPA/AAAAAAAA8D8AAAAAAADwPwAAAAAAAPA/AAAAAAAA8D8AAAAAAADwPwAAAAAAAPA/AAAAAAAA8D8AAAAAAADwPwAAAAAAAPA/AAAAAAAA8D8AAAAAAADwPwAAAAAAAPA/AAAAAAAA8D8AAAAAAADwPwAAAAAAAPA/AAAAAAAA8D8AAAAAAADwPwAAAAAAAPA/AAAAAAAA8D8AAAAAAADwPwAAAAAAAPA/AAAAAAAA8D8AAAAAAADwPwAAAAAAAPA/AAAAAMD/7z8AAAAAgAXwPwAAAADAHu8/AAAAAACP9T8AAAAA0DYAwAAAAAAoPjRAAAAAgLjGVsAAAAAAEiZ1QAAAADCXsI3AAAAAUKIQoEAAAAB8XzaqwAAAAOBFcK9AAAAAfF82qsAAAABgTWabQAAAAGBNPnvAAAAAAAAAAEAAAAAAAAAAQAAAAAAAAABAAAAAAAAAAEAAAAAAAAAAQAAAAAAAAABAAAAAAAAAAEAAAAAAAAAAQAAAAAAAAABAAAAAAAAAAEAAAAAAAAAAQAAAAAAAAABAAAAAAAAAAEAAAAAAAAAAQAAAAAAAAABAAAAAAAAAAEAAAAAAEAAAQAAAAACA+v8/AAAAAFA4AEAAAAAAAHH6PwAAAABoGxRAAAAAACg+McAAAACAuIZXQAAAAAAS9nTAAAAAMJfIjUAAAABQogqgwAAAAHxfPKpAAAAA4EVqr8AAAAB8XzyqQAAAAGBNWpvAAAAAYE1ue0AAAAAAAADwPwAAAAAAAPA/AAAAAAAA8D8AAAAAAADwPwAAAAAAAPA/AAAAAAAA8D8AAAAAAADwPwAAAAAAAPA/AAAAAAAA8D8AAAAAAADwPwAAAAAAAPA/AAAAAAAA8D8AAAAAAADwPwAAAAAAAPA/AAAAAAAA8D8AAAAAAADwPwAAAAAAAPA/AAAAAAAA8D8AAAAAAADwPwAAAAAAAPA/AAAAAAAA8D8AAAAAAADwPwAAAAAAAPA/AAAAAAAA8D8AAAAAAADwPwAAAAAAAPA/AAAAAAAA8D8AAAAAAADwPwAAAAAAAPA/AAAAAAAA8D8AAAAAAADwPwAAAAAAAPA/AAAAAAAA8D8AAAAAAADwPwAAAAAAAPA/AAAAAAAA8D8AAAAAAADwPwAAAAAAAPA/AAAAAAAA8D8AAAAAAADwPwAAAAAAAPA/AAAAAAAA8D8AAAAAAADwPwAAAAAAAPA/AAAAAAAA8D8=",
            "dtype": "f8"
           },
           "yaxis": "y"
          }
         ],
         "name": "15"
        },
        {
         "data": [
          {
           "hovertemplate": "variable=16<br>x=%{x}<br>value=%{y}<extra></extra>",
           "legendgroup": "",
           "line": {
            "color": "#636efa",
            "dash": "solid"
           },
           "marker": {
            "symbol": "circle"
           },
           "mode": "lines",
           "name": "",
           "orientation": "v",
           "showlegend": false,
           "type": "scatter",
           "x": {
            "bdata": "AAAAAAAAAAARERERERGRPxEREREREaE/mpmZmZmZqT8RERERERGxP1VVVVVVVbU/mpmZmZmZuT/e3d3d3d29PxEREREREcE/MzMzMzMzwz9VVVVVVVXFP3d3d3d3d8c/mpmZmZmZyT+8u7u7u7vLP97d3d3d3c0/AAAAAAAA0D8RERERERHRPyIiIiIiItI/MzMzMzMz0z9ERERERETUP1VVVVVVVdU/ZmZmZmZm1j93d3d3d3fXP4iIiIiIiNg/mpmZmZmZ2T+rqqqqqqraP7y7u7u7u9s/zczMzMzM3D/e3d3d3d3dP+/u7u7u7t4/AAAAAAAA4D+IiIiIiIjgPxEREREREeE/mpmZmZmZ4T8iIiIiIiLiP6uqqqqqquI/MzMzMzMz4z+8u7u7u7vjP0REREREROQ/zczMzMzM5D9VVVVVVVXlP97d3d3d3eU/ZmZmZmZm5j/v7u7u7u7mP3d3d3d3d+c/AAAAAAAA6D+IiIiIiIjoPxEREREREek/mpmZmZmZ6T8iIiIiIiLqP6uqqqqqquo/MzMzMzMz6z+8u7u7u7vrP0REREREROw/zczMzMzM7D9VVVVVVVXtP97d3d3d3e0/ZmZmZmZm7j/v7u7u7u7uP3d3d3d3d+8/AAAAAAAA8D9ERERERETwP4iIiIiIiPA/zczMzMzM8D8RERERERHxP1VVVVVVVfE/mpmZmZmZ8T/e3d3d3d3xPyIiIiIiIvI/ZmZmZmZm8j+rqqqqqqryP+/u7u7u7vI/MzMzMzMz8z93d3d3d3fzP7y7u7u7u/M/AAAAAAAA9D9ERERERET0P4iIiIiIiPQ/zczMzMzM9D8RERERERH1P1VVVVVVVfU/mpmZmZmZ9T/e3d3d3d31PyIiIiIiIvY/ZmZmZmZm9j+rqqqqqqr2P+/u7u7u7vY/MzMzMzMz9z93d3d3d3f3P7y7u7u7u/c/AAAAAAAA+D9ERERERET4P4iIiIiIiPg/zczMzMzM+D8RERERERH5P1VVVVVVVfk/mpmZmZmZ+T/e3d3d3d35PyIiIiIiIvo/ZmZmZmZm+j+rqqqqqqr6P+/u7u7u7vo/MzMzMzMz+z93d3d3d3f7P7y7u7u7u/s/AAAAAAAA/D9ERERERET8P4iIiIiIiPw/zczMzMzM/D8RERERERH9P1VVVVVVVf0/mZmZmZmZ/T/e3d3d3d39PyIiIiIiIv4/ZmZmZmZm/j+rqqqqqqr+P+/u7u7u7v4/MzMzMzMz/z93d3d3d3f/P7y7u7u7u/8/AAAAAAAAAEA=",
            "dtype": "f8"
           },
           "xaxis": "x",
           "y": {
            "bdata": "AAAAAAAA8D8AAAAAAADwPwAAAAAAAPA/AAAAAAAA8D8AAAAAAADwPwAAAAAAAPA/AAAAAAAA8D8AAAAAAADwPwAAAAAAAPA/AAAAAAAA8D8AAAAAAADwPwAAAAAAAPA/AAAAAAAA8D8AAAAAAADwPwAAAAAAAPA/AAAAAAAA8D8AAAAAAADwPwAAAAAAAPA/AAAAAAAA8D8AAAAAAADwPwAAAAAAAPA/AAAAAAAA8D8AAAAAAADwPwAAAAAAAPA/AAAAAAAA8D8AAAAAAADwPwAAAAAAAPA/AAAAAAAA8D8AAAAAAADwPwAAAAAAAPA/AAAAABAA8D8AAAAAIPrvPwAAAACQQPA/AAAAACAf6T8AAAAAqEYIQAAAAAC2UirAAAAAQKv6UkAAAAAwjh1zwAAAABjZtI5AAAAA2okqo8AAAACbEZqyQAAAABXZhLvAAAAAR8whvkAAAABJkRW3wAAAAN6eQKZAAAAACLp2hMAAAAAAAAAAQAAAAAAAAABAAAAAAAAAAEAAAAAAAAAAQAAAAAAAAABAAAAAAAAAAEAAAAAAAAAAQAAAAAAAAABAAAAAAAAAAEAAAAAAAAAAQAAAAAAAAABAAAAAAAAAAEAAAAAAAAAAQAAAAAAAAABAAAAAAAAAAEAAAAAA8P//PwAAAAB4AQBAAAAAAHC//z8AAAAAOLgBQAAAAAAAqqG/AAAAAFspMEAAAABAqzpSwAAAADCOTXNAAAAAGNmcjsAAAADaiTCjQAAAAJsRl7LAAAAAFdmHu0AAAABHzB6+wAAAAEmRGLdAAAAA3p46psAAAAAIuo6EQAAAAAAAAPA/AAAAAAAA8D8AAAAAAADwPwAAAAAAAPA/AAAAAAAA8D8AAAAAAADwPwAAAAAAAPA/AAAAAAAA8D8AAAAAAADwPwAAAAAAAPA/AAAAAAAA8D8AAAAAAADwPwAAAAAAAPA/AAAAAAAA8D8AAAAAAADwPwAAAAAAAPA/AAAAAAAA8D8AAAAAAADwPwAAAAAAAPA/AAAAAAAA8D8AAAAAAADwPwAAAAAAAPA/AAAAAAAA8D8AAAAAAADwPwAAAAAAAPA/AAAAAAAA8D8AAAAAAADwPwAAAAAAAPA/AAAAAAAA8D8AAAAAAADwPwAAAAAAAPA/AAAAAAAA8D8AAAAAAADwPwAAAAAAAPA/AAAAAAAA8D8AAAAAAADwPwAAAAAAAPA/AAAAAAAA8D8AAAAAAADwPwAAAAAAAPA/AAAAAAAA8D8AAAAAAADwPwAAAAAAAPA/AAAAAAAA8D8=",
            "dtype": "f8"
           },
           "yaxis": "y"
          }
         ],
         "name": "16"
        },
        {
         "data": [
          {
           "hovertemplate": "variable=17<br>x=%{x}<br>value=%{y}<extra></extra>",
           "legendgroup": "",
           "line": {
            "color": "#636efa",
            "dash": "solid"
           },
           "marker": {
            "symbol": "circle"
           },
           "mode": "lines",
           "name": "",
           "orientation": "v",
           "showlegend": false,
           "type": "scatter",
           "x": {
            "bdata": "AAAAAAAAAAARERERERGRPxEREREREaE/mpmZmZmZqT8RERERERGxP1VVVVVVVbU/mpmZmZmZuT/e3d3d3d29PxEREREREcE/MzMzMzMzwz9VVVVVVVXFP3d3d3d3d8c/mpmZmZmZyT+8u7u7u7vLP97d3d3d3c0/AAAAAAAA0D8RERERERHRPyIiIiIiItI/MzMzMzMz0z9ERERERETUP1VVVVVVVdU/ZmZmZmZm1j93d3d3d3fXP4iIiIiIiNg/mpmZmZmZ2T+rqqqqqqraP7y7u7u7u9s/zczMzMzM3D/e3d3d3d3dP+/u7u7u7t4/AAAAAAAA4D+IiIiIiIjgPxEREREREeE/mpmZmZmZ4T8iIiIiIiLiP6uqqqqqquI/MzMzMzMz4z+8u7u7u7vjP0REREREROQ/zczMzMzM5D9VVVVVVVXlP97d3d3d3eU/ZmZmZmZm5j/v7u7u7u7mP3d3d3d3d+c/AAAAAAAA6D+IiIiIiIjoPxEREREREek/mpmZmZmZ6T8iIiIiIiLqP6uqqqqqquo/MzMzMzMz6z+8u7u7u7vrP0REREREROw/zczMzMzM7D9VVVVVVVXtP97d3d3d3e0/ZmZmZmZm7j/v7u7u7u7uP3d3d3d3d+8/AAAAAAAA8D9ERERERETwP4iIiIiIiPA/zczMzMzM8D8RERERERHxP1VVVVVVVfE/mpmZmZmZ8T/e3d3d3d3xPyIiIiIiIvI/ZmZmZmZm8j+rqqqqqqryP+/u7u7u7vI/MzMzMzMz8z93d3d3d3fzP7y7u7u7u/M/AAAAAAAA9D9ERERERET0P4iIiIiIiPQ/zczMzMzM9D8RERERERH1P1VVVVVVVfU/mpmZmZmZ9T/e3d3d3d31PyIiIiIiIvY/ZmZmZmZm9j+rqqqqqqr2P+/u7u7u7vY/MzMzMzMz9z93d3d3d3f3P7y7u7u7u/c/AAAAAAAA+D9ERERERET4P4iIiIiIiPg/zczMzMzM+D8RERERERH5P1VVVVVVVfk/mpmZmZmZ+T/e3d3d3d35PyIiIiIiIvo/ZmZmZmZm+j+rqqqqqqr6P+/u7u7u7vo/MzMzMzMz+z93d3d3d3f7P7y7u7u7u/s/AAAAAAAA/D9ERERERET8P4iIiIiIiPw/zczMzMzM/D8RERERERH9P1VVVVVVVf0/mZmZmZmZ/T/e3d3d3d39PyIiIiIiIv4/ZmZmZmZm/j+rqqqqqqr+P+/u7u7u7v4/MzMzMzMz/z93d3d3d3f/P7y7u7u7u/8/AAAAAAAAAEA=",
            "dtype": "f8"
           },
           "xaxis": "x",
           "y": {
            "bdata": "AAAAAAAA8D8AAAAAAADwPwAAAAAAAPA/AAAAAAAA8D8AAAAAAADwPwAAAAAAAPA/AAAAAAAA8D8AAAAAAADwPwAAAAAAAPA/AAAAAAAA8D8AAAAAAADwPwAAAAAAAPA/AAAAAAAA8D8AAAAAAADwPwAAAAAAAPA/AAAAAAAA8D8AAAAAAADwPwAAAAAAAPA/AAAAAAAA8D8AAAAAAADwPwAAAAAAAPA/AAAAAAAA8D8AAAAAAADwPwAAAAAAAPA/AAAAAAAA8D8AAAAAAADwPwAAAAAAAPA/AAAAAAAA8D8AAAAAAADwPwAAAAAAAPA/AAAAAPD/7z8AAAAAkAHwPwAAAACgtu8/AAAAABAZ8j8AAAAAQL3VvwAAAADaQyZAAAAAgK/ZTMAAAABQx6xwQAAAADCXsI3AAAAAVhYZpUAAAAAx8Ky3wAAAgHnD1MRAAACA4RUszMAAAICHvV7MQAAAgNJAGMTAAAAAx+L3sUAAAAAMF7qOwAAAAAAAAABAAAAAAAAAAEAAAAAAAAAAQAAAAAAAAABAAAAAAAAAAEAAAAAAAAAAQAAAAAAAAABAAAAAAAAAAEAAAAAAAAAAQAAAAAAAAABAAAAAAAAAAEAAAAAAAAAAQAAAAAAAAABAAAAAAAAAAEAAAAAABAAAQAAAAABw/v8/AAAAAFgSAEAAAAAA8Ob9PwAAAACotwpAAAAAANpDIMAAAACAr1lOQAAAAFDHfHDAAAAAMJfIjUAAAABWFhOlwAAAADHwr7dAAACAeUPTxMAAAIDhlS3MQAAAgIc9XczAAACA0sAZxEAAAADH4vSxwAAAAAwX0o5AAAAAAAAA8D8AAAAAAADwPwAAAAAAAPA/AAAAAAAA8D8AAAAAAADwPwAAAAAAAPA/AAAAAAAA8D8AAAAAAADwPwAAAAAAAPA/AAAAAAAA8D8AAAAAAADwPwAAAAAAAPA/AAAAAAAA8D8AAAAAAADwPwAAAAAAAPA/AAAAAAAA8D8AAAAAAADwPwAAAAAAAPA/AAAAAAAA8D8AAAAAAADwPwAAAAAAAPA/AAAAAAAA8D8AAAAAAADwPwAAAAAAAPA/AAAAAAAA8D8AAAAAAADwPwAAAAAAAPA/AAAAAAAA8D8AAAAAAADwPwAAAAAAAPA/AAAAAAAA8D8AAAAAAADwPwAAAAAAAPA/AAAAAAAA8D8AAAAAAADwPwAAAAAAAPA/AAAAAAAA8D8AAAAAAADwPwAAAAAAAPA/AAAAAAAA8D8AAAAAAADwPwAAAAAAAPA/AAAAAAAA8D8=",
            "dtype": "f8"
           },
           "yaxis": "y"
          }
         ],
         "name": "17"
        },
        {
         "data": [
          {
           "hovertemplate": "variable=18<br>x=%{x}<br>value=%{y}<extra></extra>",
           "legendgroup": "",
           "line": {
            "color": "#636efa",
            "dash": "solid"
           },
           "marker": {
            "symbol": "circle"
           },
           "mode": "lines",
           "name": "",
           "orientation": "v",
           "showlegend": false,
           "type": "scatter",
           "x": {
            "bdata": "AAAAAAAAAAARERERERGRPxEREREREaE/mpmZmZmZqT8RERERERGxP1VVVVVVVbU/mpmZmZmZuT/e3d3d3d29PxEREREREcE/MzMzMzMzwz9VVVVVVVXFP3d3d3d3d8c/mpmZmZmZyT+8u7u7u7vLP97d3d3d3c0/AAAAAAAA0D8RERERERHRPyIiIiIiItI/MzMzMzMz0z9ERERERETUP1VVVVVVVdU/ZmZmZmZm1j93d3d3d3fXP4iIiIiIiNg/mpmZmZmZ2T+rqqqqqqraP7y7u7u7u9s/zczMzMzM3D/e3d3d3d3dP+/u7u7u7t4/AAAAAAAA4D+IiIiIiIjgPxEREREREeE/mpmZmZmZ4T8iIiIiIiLiP6uqqqqqquI/MzMzMzMz4z+8u7u7u7vjP0REREREROQ/zczMzMzM5D9VVVVVVVXlP97d3d3d3eU/ZmZmZmZm5j/v7u7u7u7mP3d3d3d3d+c/AAAAAAAA6D+IiIiIiIjoPxEREREREek/mpmZmZmZ6T8iIiIiIiLqP6uqqqqqquo/MzMzMzMz6z+8u7u7u7vrP0REREREROw/zczMzMzM7D9VVVVVVVXtP97d3d3d3e0/ZmZmZmZm7j/v7u7u7u7uP3d3d3d3d+8/AAAAAAAA8D9ERERERETwP4iIiIiIiPA/zczMzMzM8D8RERERERHxP1VVVVVVVfE/mpmZmZmZ8T/e3d3d3d3xPyIiIiIiIvI/ZmZmZmZm8j+rqqqqqqryP+/u7u7u7vI/MzMzMzMz8z93d3d3d3fzP7y7u7u7u/M/AAAAAAAA9D9ERERERET0P4iIiIiIiPQ/zczMzMzM9D8RERERERH1P1VVVVVVVfU/mpmZmZmZ9T/e3d3d3d31PyIiIiIiIvY/ZmZmZmZm9j+rqqqqqqr2P+/u7u7u7vY/MzMzMzMz9z93d3d3d3f3P7y7u7u7u/c/AAAAAAAA+D9ERERERET4P4iIiIiIiPg/zczMzMzM+D8RERERERH5P1VVVVVVVfk/mpmZmZmZ+T/e3d3d3d35PyIiIiIiIvo/ZmZmZmZm+j+rqqqqqqr6P+/u7u7u7vo/MzMzMzMz+z93d3d3d3f7P7y7u7u7u/s/AAAAAAAA/D9ERERERET8P4iIiIiIiPw/zczMzMzM/D8RERERERH9P1VVVVVVVf0/mZmZmZmZ/T/e3d3d3d39PyIiIiIiIv4/ZmZmZmZm/j+rqqqqqqr+P+/u7u7u7v4/MzMzMzMz/z93d3d3d3f/P7y7u7u7u/8/AAAAAAAAAEA=",
            "dtype": "f8"
           },
           "xaxis": "x",
           "y": {
            "bdata": "AAAAAAAA8D8AAAAAAADwPwAAAAAAAPA/AAAAAAAA8D8AAAAAAADwPwAAAAAAAPA/AAAAAAAA8D8AAAAAAADwPwAAAAAAAPA/AAAAAAAA8D8AAAAAAADwPwAAAAAAAPA/AAAAAAAA8D8AAAAAAADwPwAAAAAAAPA/AAAAAAAA8D8AAAAAAADwPwAAAAAAAPA/AAAAAAAA8D8AAAAAAADwPwAAAAAAAPA/AAAAAAAA8D8AAAAAAADwPwAAAAAAAPA/AAAAAAAA8D8AAAAAAADwPwAAAAAAAPA/AAAAAAAA8D8AAAAAAADwPwAAAAAAAPA/AAAAAAQA8D8AAAAAWP7vPwAAAACwFPA/AAAAAOB47T8AAAAAQN39PwAAAACYTRjAAAAAgEnGRkAAAAAgaX5rwAAAABThWYtAAAAA3cOupcAAAADZSKm7QAAAgOEVLMzAAACAE5iq1kAAAADLvzjcwAAAQFoeTdpAAADA9ixR0cAAAECbdd+8QAAAAEmRD5fAAAAAAAAAAEAAAAAAAAAAQAAAAAAAAABAAAAAAAAAAEAAAAAAAAAAQAAAAAAAAABAAAAAAAAAAEAAAAAAAAAAQAAAAAAAAABAAAAAAAAAAEAAAAAAAAAAQAAAAAAAAABAAAAAAAAAAEAAAAAA/P//PwAAAABqAABAAAAAAFDr/z8AAAAAyKEAQAAAAADAIvI/AAAAAMwmIkAAAACASUZFwAAAACBp3mtAAAAAFOFBi8AAAADdw7SlQAAAANlIprvAAACA4ZUtzEAAAIAT2KnWwAAAAMt/OdxAAABAWl5M2sAAAMD27FHRQAAAQJt13LzAAAAASZEbl0AAAAAAAADwPwAAAAAAAPA/AAAAAAAA8D8AAAAAAADwPwAAAAAAAPA/AAAAAAAA8D8AAAAAAADwPwAAAAAAAPA/AAAAAAAA8D8AAAAAAADwPwAAAAAAAPA/AAAAAAAA8D8AAAAAAADwPwAAAAAAAPA/AAAAAAAA8D8AAAAAAADwPwAAAAAAAPA/AAAAAAAA8D8AAAAAAADwPwAAAAAAAPA/AAAAAAAA8D8AAAAAAADwPwAAAAAAAPA/AAAAAAAA8D8AAAAAAADwPwAAAAAAAPA/AAAAAAAA8D8AAAAAAADwPwAAAAAAAPA/AAAAAAAA8D8AAAAAAADwPwAAAAAAAPA/AAAAAAAA8D8AAAAAAADwPwAAAAAAAPA/AAAAAAAA8D8AAAAAAADwPwAAAAAAAPA/AAAAAAAA8D8AAAAAAADwPwAAAAAAAPA/AAAAAAAA8D8=",
            "dtype": "f8"
           },
           "yaxis": "y"
          }
         ],
         "name": "18"
        },
        {
         "data": [
          {
           "hovertemplate": "variable=19<br>x=%{x}<br>value=%{y}<extra></extra>",
           "legendgroup": "",
           "line": {
            "color": "#636efa",
            "dash": "solid"
           },
           "marker": {
            "symbol": "circle"
           },
           "mode": "lines",
           "name": "",
           "orientation": "v",
           "showlegend": false,
           "type": "scatter",
           "x": {
            "bdata": "AAAAAAAAAAARERERERGRPxEREREREaE/mpmZmZmZqT8RERERERGxP1VVVVVVVbU/mpmZmZmZuT/e3d3d3d29PxEREREREcE/MzMzMzMzwz9VVVVVVVXFP3d3d3d3d8c/mpmZmZmZyT+8u7u7u7vLP97d3d3d3c0/AAAAAAAA0D8RERERERHRPyIiIiIiItI/MzMzMzMz0z9ERERERETUP1VVVVVVVdU/ZmZmZmZm1j93d3d3d3fXP4iIiIiIiNg/mpmZmZmZ2T+rqqqqqqraP7y7u7u7u9s/zczMzMzM3D/e3d3d3d3dP+/u7u7u7t4/AAAAAAAA4D+IiIiIiIjgPxEREREREeE/mpmZmZmZ4T8iIiIiIiLiP6uqqqqqquI/MzMzMzMz4z+8u7u7u7vjP0REREREROQ/zczMzMzM5D9VVVVVVVXlP97d3d3d3eU/ZmZmZmZm5j/v7u7u7u7mP3d3d3d3d+c/AAAAAAAA6D+IiIiIiIjoPxEREREREek/mpmZmZmZ6T8iIiIiIiLqP6uqqqqqquo/MzMzMzMz6z+8u7u7u7vrP0REREREROw/zczMzMzM7D9VVVVVVVXtP97d3d3d3e0/ZmZmZmZm7j/v7u7u7u7uP3d3d3d3d+8/AAAAAAAA8D9ERERERETwP4iIiIiIiPA/zczMzMzM8D8RERERERHxP1VVVVVVVfE/mpmZmZmZ8T/e3d3d3d3xPyIiIiIiIvI/ZmZmZmZm8j+rqqqqqqryP+/u7u7u7vI/MzMzMzMz8z93d3d3d3fzP7y7u7u7u/M/AAAAAAAA9D9ERERERET0P4iIiIiIiPQ/zczMzMzM9D8RERERERH1P1VVVVVVVfU/mpmZmZmZ9T/e3d3d3d31PyIiIiIiIvY/ZmZmZmZm9j+rqqqqqqr2P+/u7u7u7vY/MzMzMzMz9z93d3d3d3f3P7y7u7u7u/c/AAAAAAAA+D9ERERERET4P4iIiIiIiPg/zczMzMzM+D8RERERERH5P1VVVVVVVfk/mpmZmZmZ+T/e3d3d3d35PyIiIiIiIvo/ZmZmZmZm+j+rqqqqqqr6P+/u7u7u7vo/MzMzMzMz+z93d3d3d3f7P7y7u7u7u/s/AAAAAAAA/D9ERERERET8P4iIiIiIiPw/zczMzMzM/D8RERERERH9P1VVVVVVVf0/mZmZmZmZ/T/e3d3d3d39PyIiIiIiIv4/ZmZmZmZm/j+rqqqqqqr+P+/u7u7u7v4/MzMzMzMz/z93d3d3d3f/P7y7u7u7u/8/AAAAAAAAAEA=",
            "dtype": "f8"
           },
           "xaxis": "x",
           "y": {
            "bdata": "AAAAAAAA8D8AAAAAAADwPwAAAAAAAPA/AAAAAAAA8D8AAAAAAADwPwAAAAAAAPA/AAAAAAAA8D8AAAAAAADwPwAAAAAAAPA/AAAAAAAA8D8AAAAAAADwPwAAAAAAAPA/AAAAAAAA8D8AAAAAAADwPwAAAAAAAPA/AAAAAAAA8D8AAAAAAADwPwAAAAAAAPA/AAAAAAAA8D8AAAAAAADwPwAAAAAAAPA/AAAAAAAA8D8AAAAAAADwPwAAAAAAAPA/AAAAAAAA8D8AAAAAAADwPwAAAAAAAPA/AAAAAAAA8D8AAAAAAADwPwAAAAAAAPA/AAAAAPz/7z8AAAAAcADwPwAAAADU6O8/AAAAANDA8D8AAAAAILDcPwAAAADEWRdAAAAAgGLjP8AAAAAgkElmQAAAAPZX/IfAAAAAVhYZpUAAAEBStxe+wAAAwMmAatFAAABwOS474MAAAGABIg7oQAAA0G7XvevAAABgASIO6EAAAIglspXdwAAAAEmRGMdAAADA9qxNocAAAAAAAAAAQAAAAAAAAABAAAAAAAAAAEAAAAAAAAAAQAAAAAAAAABAAAAAAAAAAEAAAAAAAAAAQAAAAAAAAABAAAAAAAAAAEAAAAAAAAAAQAAAAAAAAABAAAAAAAAAAEAAAAAAAQAAQAAAAACQ//8/AAAAAMsFAEAAAAAAMD//PwAAAAD8aQRAAAAAAIizBsAAAABAsXFBQAAAACCQ6WXAAAAA9lcUiEAAAABWFhOlwAAAQFK3Gr5AAADAycBp0cAAAHA5jjvgQAAAYAHCDejAAADQbje+60AAAGABwg3owAAAiCVylt1AAAAASREXx8AAAMD2rFOhQAAAAAAAAPA/AAAAAAAA8D8AAAAAAADwPwAAAAAAAPA/AAAAAAAA8D8AAAAAAADwPwAAAAAAAPA/AAAAAAAA8D8AAAAAAADwPwAAAAAAAPA/AAAAAAAA8D8AAAAAAADwPwAAAAAAAPA/AAAAAAAA8D8AAAAAAADwPwAAAAAAAPA/AAAAAAAA8D8AAAAAAADwPwAAAAAAAPA/AAAAAAAA8D8AAAAAAADwPwAAAAAAAPA/AAAAAAAA8D8AAAAAAADwPwAAAAAAAPA/AAAAAAAA8D8AAAAAAADwPwAAAAAAAPA/AAAAAAAA8D8AAAAAAADwPwAAAAAAAPA/AAAAAAAA8D8AAAAAAADwPwAAAAAAAPA/AAAAAAAA8D8AAAAAAADwPwAAAAAAAPA/AAAAAAAA8D8AAAAAAADwPwAAAAAAAPA/AAAAAAAA8D8=",
            "dtype": "f8"
           },
           "yaxis": "y"
          }
         ],
         "name": "19"
        },
        {
         "data": [
          {
           "hovertemplate": "variable=20<br>x=%{x}<br>value=%{y}<extra></extra>",
           "legendgroup": "",
           "line": {
            "color": "#636efa",
            "dash": "solid"
           },
           "marker": {
            "symbol": "circle"
           },
           "mode": "lines",
           "name": "",
           "orientation": "v",
           "showlegend": false,
           "type": "scatter",
           "x": {
            "bdata": "AAAAAAAAAAARERERERGRPxEREREREaE/mpmZmZmZqT8RERERERGxP1VVVVVVVbU/mpmZmZmZuT/e3d3d3d29PxEREREREcE/MzMzMzMzwz9VVVVVVVXFP3d3d3d3d8c/mpmZmZmZyT+8u7u7u7vLP97d3d3d3c0/AAAAAAAA0D8RERERERHRPyIiIiIiItI/MzMzMzMz0z9ERERERETUP1VVVVVVVdU/ZmZmZmZm1j93d3d3d3fXP4iIiIiIiNg/mpmZmZmZ2T+rqqqqqqraP7y7u7u7u9s/zczMzMzM3D/e3d3d3d3dP+/u7u7u7t4/AAAAAAAA4D+IiIiIiIjgPxEREREREeE/mpmZmZmZ4T8iIiIiIiLiP6uqqqqqquI/MzMzMzMz4z+8u7u7u7vjP0REREREROQ/zczMzMzM5D9VVVVVVVXlP97d3d3d3eU/ZmZmZmZm5j/v7u7u7u7mP3d3d3d3d+c/AAAAAAAA6D+IiIiIiIjoPxEREREREek/mpmZmZmZ6T8iIiIiIiLqP6uqqqqqquo/MzMzMzMz6z+8u7u7u7vrP0REREREROw/zczMzMzM7D9VVVVVVVXtP97d3d3d3e0/ZmZmZmZm7j/v7u7u7u7uP3d3d3d3d+8/AAAAAAAA8D9ERERERETwP4iIiIiIiPA/zczMzMzM8D8RERERERHxP1VVVVVVVfE/mpmZmZmZ8T/e3d3d3d3xPyIiIiIiIvI/ZmZmZmZm8j+rqqqqqqryP+/u7u7u7vI/MzMzMzMz8z93d3d3d3fzP7y7u7u7u/M/AAAAAAAA9D9ERERERET0P4iIiIiIiPQ/zczMzMzM9D8RERERERH1P1VVVVVVVfU/mpmZmZmZ9T/e3d3d3d31PyIiIiIiIvY/ZmZmZmZm9j+rqqqqqqr2P+/u7u7u7vY/MzMzMzMz9z93d3d3d3f3P7y7u7u7u/c/AAAAAAAA+D9ERERERET4P4iIiIiIiPg/zczMzMzM+D8RERERERH5P1VVVVVVVfk/mpmZmZmZ+T/e3d3d3d35PyIiIiIiIvo/ZmZmZmZm+j+rqqqqqqr6P+/u7u7u7vo/MzMzMzMz+z93d3d3d3f7P7y7u7u7u/s/AAAAAAAA/D9ERERERET8P4iIiIiIiPw/zczMzMzM/D8RERERERH9P1VVVVVVVf0/mZmZmZmZ/T/e3d3d3d39PyIiIiIiIv4/ZmZmZmZm/j+rqqqqqqr+P+/u7u7u7v4/MzMzMzMz/z93d3d3d3f/P7y7u7u7u/8/AAAAAAAAAEA=",
            "dtype": "f8"
           },
           "xaxis": "x",
           "y": {
            "bdata": "AAAAAAAA8D8AAAAAAADwPwAAAAAAAPA/AAAAAAAA8D8AAAAAAADwPwAAAAAAAPA/AAAAAAAA8D8AAAAAAADwPwAAAAAAAPA/AAAAAAAA8D8AAAAAAADwPwAAAAAAAPA/AAAAAAAA8D8AAAAAAADwPwAAAAAAAPA/AAAAAAAA8D8AAAAAAADwPwAAAAAAAPA/AAAAAAAA8D8AAAAAAADwPwAAAAAAAPA/AAAAAAAA8D8AAAAAAADwPwAAAAAAAPA/AAAAAAAA8D8AAAAAAADwPwAAAAAAAPA/AAAAAAAA8D8AAAAAAADwPwAAAAAAAPA/AAAAAAEA8D8AAAAAiv/vPwAAAABzBvA/AAAAAG4c7z8AAAAANIv1PwAAAAC++AHAAAAAwFqzOEAAAACIah9hwAAAAAfCWYRAAABAJyyLo8AAAKBprN6+QAAAuCMl/tPAAAAItHct5UAAAGwr6y/ywAAAvFwP+vhAAAB0E+rR+sAAALnFT731QAAARsVXE+nAAAAsxkdn0kAAACByg/apwAAAAAAAAABAAAAAAAAAAEAAAAAAAAAAQAAAAAAAAABAAAAAAAAAAEAAAAAAAAAAQAAAAAAAAABAAAAAAAAAAEAAAAAAAAAAQAAAAAAAAABAAAAAAAAAAEAAAAAA////PwAAAIAdAABAAAAAAI35/z8AAACA5DgAQAAAAADMdPo/AAAAAF/8FEAAAADAWrM1wAAAAIhqf2FAAAAAB8JBhMAAAEAnLJGjQAAAoGms277AAAC4I+X+00AAAAi0Fy3lwAAAbCsbMPJAAAC8XN/5+MAAAHQTGtL6QAAAucUfvfXAAABGxbcT6UAAACzGh2bSwAAAIHKD/KlAAAAAAAAA8D8AAAAAAADwPwAAAAAAAPA/AAAAAAAA8D8AAAAAAADwPwAAAAAAAPA/AAAAAAAA8D8AAAAAAADwPwAAAAAAAPA/AAAAAAAA8D8AAAAAAADwPwAAAAAAAPA/AAAAAAAA8D8AAAAAAADwPwAAAAAAAPA/AAAAAAAA8D8AAAAAAADwPwAAAAAAAPA/AAAAAAAA8D8AAAAAAADwPwAAAAAAAPA/AAAAAAAA8D8AAAAAAADwPwAAAAAAAPA/AAAAAAAA8D8AAAAAAADwPwAAAAAAAPA/AAAAAAAA8D8AAAAAAADwPwAAAAAAAPA/AAAAAAAA8D8AAAAAAADwPwAAAAAAAPA/AAAAAAAA8D8AAAAAAADwPwAAAAAAAPA/AAAAAAAA8D8AAAAAAADwPwAAAAAAAPA/AAAAAAAA8D8=",
            "dtype": "f8"
           },
           "yaxis": "y"
          }
         ],
         "name": "20"
        },
        {
         "data": [
          {
           "hovertemplate": "variable=21<br>x=%{x}<br>value=%{y}<extra></extra>",
           "legendgroup": "",
           "line": {
            "color": "#636efa",
            "dash": "solid"
           },
           "marker": {
            "symbol": "circle"
           },
           "mode": "lines",
           "name": "",
           "orientation": "v",
           "showlegend": false,
           "type": "scatter",
           "x": {
            "bdata": "AAAAAAAAAAARERERERGRPxEREREREaE/mpmZmZmZqT8RERERERGxP1VVVVVVVbU/mpmZmZmZuT/e3d3d3d29PxEREREREcE/MzMzMzMzwz9VVVVVVVXFP3d3d3d3d8c/mpmZmZmZyT+8u7u7u7vLP97d3d3d3c0/AAAAAAAA0D8RERERERHRPyIiIiIiItI/MzMzMzMz0z9ERERERETUP1VVVVVVVdU/ZmZmZmZm1j93d3d3d3fXP4iIiIiIiNg/mpmZmZmZ2T+rqqqqqqraP7y7u7u7u9s/zczMzMzM3D/e3d3d3d3dP+/u7u7u7t4/AAAAAAAA4D+IiIiIiIjgPxEREREREeE/mpmZmZmZ4T8iIiIiIiLiP6uqqqqqquI/MzMzMzMz4z+8u7u7u7vjP0REREREROQ/zczMzMzM5D9VVVVVVVXlP97d3d3d3eU/ZmZmZmZm5j/v7u7u7u7mP3d3d3d3d+c/AAAAAAAA6D+IiIiIiIjoPxEREREREek/mpmZmZmZ6T8iIiIiIiLqP6uqqqqqquo/MzMzMzMz6z+8u7u7u7vrP0REREREROw/zczMzMzM7D9VVVVVVVXtP97d3d3d3e0/ZmZmZmZm7j/v7u7u7u7uP3d3d3d3d+8/AAAAAAAA8D9ERERERETwP4iIiIiIiPA/zczMzMzM8D8RERERERHxP1VVVVVVVfE/mpmZmZmZ8T/e3d3d3d3xPyIiIiIiIvI/ZmZmZmZm8j+rqqqqqqryP+/u7u7u7vI/MzMzMzMz8z93d3d3d3fzP7y7u7u7u/M/AAAAAAAA9D9ERERERET0P4iIiIiIiPQ/zczMzMzM9D8RERERERH1P1VVVVVVVfU/mpmZmZmZ9T/e3d3d3d31PyIiIiIiIvY/ZmZmZmZm9j+rqqqqqqr2P+/u7u7u7vY/MzMzMzMz9z93d3d3d3f3P7y7u7u7u/c/AAAAAAAA+D9ERERERET4P4iIiIiIiPg/zczMzMzM+D8RERERERH5P1VVVVVVVfk/mpmZmZmZ+T/e3d3d3d35PyIiIiIiIvo/ZmZmZmZm+j+rqqqqqqr6P+/u7u7u7vo/MzMzMzMz+z93d3d3d3f7P7y7u7u7u/s/AAAAAAAA/D9ERERERET8P4iIiIiIiPw/zczMzMzM/D8RERERERH9P1VVVVVVVf0/mZmZmZmZ/T/e3d3d3d39PyIiIiIiIv4/ZmZmZmZm/j+rqqqqqqr+P+/u7u7u7v4/MzMzMzMz/z93d3d3d3f/P7y7u7u7u/8/AAAAAAAAAEA=",
            "dtype": "f8"
           },
           "xaxis": "x",
           "y": {
            "bdata": "AAAAAAAA8D8AAAAAAADwPwAAAAAAAPA/AAAAAAAA8D8AAAAAAADwPwAAAAAAAPA/AAAAAAAA8D8AAAAAAADwPwAAAAAAAPA/AAAAAAAA8D8AAAAAAADwPwAAAAAAAPA/AAAAAAAA8D8AAAAAAADwPwAAAAAAAPA/AAAAAAAA8D8AAAAAAADwPwAAAAAAAPA/AAAAAAAA8D8AAAAAAADwPwAAAAAAAPA/AAAAAAAA8D8AAAAAAADwPwAAAAAAAPA/AAAAAAAA8D8AAAAAAADwPwAAAAAAAPA/AAAAAAAA8D8AAAAAAADwPwAAAAAAAPA/AAAAAP//7z8AAAAAHwDwPwAAAADc+O8/AAAAAJFC8D8AAAAAcR/pPwAAAADGJAlAAAAAAKJwL8AAAACQrGJaQAAAgPaomIDAAABA1j5noUAAAEBStxe+wAAAeDmTktVAAADOtFeV6cAAALxcD/r4QAAAwDd04gPBAABqCgZwCUEAQAWAw4wJwQCA88xmcANBAAC6zGob9cAAAGTgUzrdQAAAmJXiebPAAAAAAAAAAEAAAAAAAAAAQAAAAAAAAABAAAAAAAAAAEAAAAAAAAAAQAAAAAAAAABAAAAAAAAAAEAAAAAAAAAAQAAAAAAAAABAAAAAAAAAAEAAAABAAAAAQAAAAADh//8/AAAAAMkBAEAAAAAAb73/PwAAAMAjuAFAAAAAAGBMwr8AAAAAUbgyQAAAAJCsolnAAACA9qiwgEAAAEDWPmGhwAAAQFK3Gr5AAAB4OdOR1cAAAM60t5XpQAAAvFzf+fjAAADAN4ziA0EAAGoK7m8JwQBABYDbjAlBAIDzzE5wA8EAALrMmhv1QAAAZOCTOd3AAACYleJ8s0AAAAAAAADwPwAAAAAAAPA/AAAAAAAA8D8AAAAAAADwPwAAAAAAAPA/AAAAAAAA8D8AAAAAAADwPwAAAAAAAPA/AAAAAAAA8D8AAAAAAADwPwAAAAAAAPA/AAAAAAAA8D8AAAAAAADwPwAAAAAAAPA/AAAAAAAA8D8AAAAAAADwPwAAAAAAAPA/AAAAAAAA8D8AAAAAAADwPwAAAAAAAPA/AAAAAAAA8D8AAAAAAADwPwAAAAAAAPA/AAAAAAAA8D8AAAAAAADwPwAAAAAAAPA/AAAAAAAA8D8AAAAAAADwPwAAAAAAAPA/AAAAAAAA8D8AAAAAAADwPwAAAAAAAPA/AAAAAAAA8D8AAAAAAADwPwAAAAAAAPA/AAAAAAAA8D8AAAAAAADwPwAAAAAAAPA/AAAAAAAA8D8=",
            "dtype": "f8"
           },
           "yaxis": "y"
          }
         ],
         "name": "21"
        },
        {
         "data": [
          {
           "hovertemplate": "variable=22<br>x=%{x}<br>value=%{y}<extra></extra>",
           "legendgroup": "",
           "line": {
            "color": "#636efa",
            "dash": "solid"
           },
           "marker": {
            "symbol": "circle"
           },
           "mode": "lines",
           "name": "",
           "orientation": "v",
           "showlegend": false,
           "type": "scatter",
           "x": {
            "bdata": "AAAAAAAAAAARERERERGRPxEREREREaE/mpmZmZmZqT8RERERERGxP1VVVVVVVbU/mpmZmZmZuT/e3d3d3d29PxEREREREcE/MzMzMzMzwz9VVVVVVVXFP3d3d3d3d8c/mpmZmZmZyT+8u7u7u7vLP97d3d3d3c0/AAAAAAAA0D8RERERERHRPyIiIiIiItI/MzMzMzMz0z9ERERERETUP1VVVVVVVdU/ZmZmZmZm1j93d3d3d3fXP4iIiIiIiNg/mpmZmZmZ2T+rqqqqqqraP7y7u7u7u9s/zczMzMzM3D/e3d3d3d3dP+/u7u7u7t4/AAAAAAAA4D+IiIiIiIjgPxEREREREeE/mpmZmZmZ4T8iIiIiIiLiP6uqqqqqquI/MzMzMzMz4z+8u7u7u7vjP0REREREROQ/zczMzMzM5D9VVVVVVVXlP97d3d3d3eU/ZmZmZmZm5j/v7u7u7u7mP3d3d3d3d+c/AAAAAAAA6D+IiIiIiIjoPxEREREREek/mpmZmZmZ6T8iIiIiIiLqP6uqqqqqquo/MzMzMzMz6z+8u7u7u7vrP0REREREROw/zczMzMzM7D9VVVVVVVXtP97d3d3d3e0/ZmZmZmZm7j/v7u7u7u7uP3d3d3d3d+8/AAAAAAAA8D9ERERERETwP4iIiIiIiPA/zczMzMzM8D8RERERERHxP1VVVVVVVfE/mpmZmZmZ8T/e3d3d3d3xPyIiIiIiIvI/ZmZmZmZm8j+rqqqqqqryP+/u7u7u7vI/MzMzMzMz8z93d3d3d3fzP7y7u7u7u/M/AAAAAAAA9D9ERERERET0P4iIiIiIiPQ/zczMzMzM9D8RERERERH1P1VVVVVVVfU/mpmZmZmZ9T/e3d3d3d31PyIiIiIiIvY/ZmZmZmZm9j+rqqqqqqr2P+/u7u7u7vY/MzMzMzMz9z93d3d3d3f3P7y7u7u7u/c/AAAAAAAA+D9ERERERET4P4iIiIiIiPg/zczMzMzM+D8RERERERH5P1VVVVVVVfk/mpmZmZmZ+T/e3d3d3d35PyIiIiIiIvo/ZmZmZmZm+j+rqqqqqqr6P+/u7u7u7vo/MzMzMzMz+z93d3d3d3f7P7y7u7u7u/s/AAAAAAAA/D9ERERERET8P4iIiIiIiPw/zczMzMzM/D8RERERERH9P1VVVVVVVf0/mZmZmZmZ/T/e3d3d3d39PyIiIiIiIv4/ZmZmZmZm/j+rqqqqqqr+P+/u7u7u7v4/MzMzMzMz/z93d3d3d3f/P7y7u7u7u/8/AAAAAAAAAEA=",
            "dtype": "f8"
           },
           "xaxis": "x",
           "y": {
            "bdata": "AAAAAAAA8D8AAAAAAADwPwAAAAAAAPA/AAAAAAAA8D8AAAAAAADwPwAAAAAAAPA/AAAAAAAA8D8AAAAAAADwPwAAAAAAAPA/AAAAAAAA8D8AAAAAAADwPwAAAAAAAPA/AAAAAAAA8D8AAAAAAADwPwAAAAAAAPA/AAAAAAAA8D8AAAAAAADwPwAAAAAAAPA/AAAAAAAA8D8AAAAAAADwPwAAAAAAAPA/AAAAAAAA8D8AAAAAAADwPwAAAAAAAPA/AAAAAAAA8D8AAAAAAADwPwAAAAAAAPA/AAAAAAAA8D8AAAAAAADwPwAAAAAAAPA/AAAAQAAA8D8AAACA3//vPwAAAID3AfA/AAAAALmy7z8AAABA/RvyPwAAAADFNNm/AAAAQBsmKUAAAACodBZTwAAAgKypfXpAAAAgj73ZncAAANDJShm8QAAAlFsuEtbAAACBRZr47EAAgPh1Ca3/wAAAbaHFrAxBAIBqrNhFFcEA0NBnNXcZQQDQQFOsBRjBAOBNc7o3EUEAwJFXNagBwQCApBFdI+dAAABk4NM3vcAAAAAAAAAAQAAAAAAAAABAAAAAAAAAAEAAAAAAAAAAQAAAAAAAAABAAAAAAAAAAEAAAAAAAAAAQAAAAAAAAABAAAAAAAAAAEAAAADA////PwAAACAIAABAAAAAgAj+/z8AAADAURMAQAAAAMAC5P0/AAAAoJgmC0AAAABAGyYjwAAAAKh01lNAAACArKlNesAAACCPveWdQAAA0MlKFrzAAACUW+4S1kAAAIFFOvjswACA+HU5rf9AAABtoa2sDMEAgGqs5EUVQQDQ0GcpdxnBANBAU7gFGEEA4E1zrjcRwQDAkVdNqAFBAICkEf0i58AAAGTg0zq9QAAAAAAAAPA/AAAAAAAA8D8AAAAAAADwPwAAAAAAAPA/AAAAAAAA8D8AAAAAAADwPwAAAAAAAPA/AAAAAAAA8D8AAAAAAADwPwAAAAAAAPA/AAAAAAAA8D8AAAAAAADwPwAAAAAAAPA/AAAAAAAA8D8AAAAAAADwPwAAAAAAAPA/AAAAAAAA8D8AAAAAAADwPwAAAAAAAPA/AAAAAAAA8D8AAAAAAADwPwAAAAAAAPA/AAAAAAAA8D8AAAAAAADwPwAAAAAAAPA/AAAAAAAA8D8AAAAAAADwPwAAAAAAAPA/AAAAAAAA8D8AAAAAAADwPwAAAAAAAPA/AAAAAAAA8D8AAAAAAADwPwAAAAAAAPA/AAAAAAAA8D8AAAAAAADwPwAAAAAAAPA/AAAAAAAA8D8=",
            "dtype": "f8"
           },
           "yaxis": "y"
          }
         ],
         "name": "22"
        },
        {
         "data": [
          {
           "hovertemplate": "variable=23<br>x=%{x}<br>value=%{y}<extra></extra>",
           "legendgroup": "",
           "line": {
            "color": "#636efa",
            "dash": "solid"
           },
           "marker": {
            "symbol": "circle"
           },
           "mode": "lines",
           "name": "",
           "orientation": "v",
           "showlegend": false,
           "type": "scatter",
           "x": {
            "bdata": "AAAAAAAAAAARERERERGRPxEREREREaE/mpmZmZmZqT8RERERERGxP1VVVVVVVbU/mpmZmZmZuT/e3d3d3d29PxEREREREcE/MzMzMzMzwz9VVVVVVVXFP3d3d3d3d8c/mpmZmZmZyT+8u7u7u7vLP97d3d3d3c0/AAAAAAAA0D8RERERERHRPyIiIiIiItI/MzMzMzMz0z9ERERERETUP1VVVVVVVdU/ZmZmZmZm1j93d3d3d3fXP4iIiIiIiNg/mpmZmZmZ2T+rqqqqqqraP7y7u7u7u9s/zczMzMzM3D/e3d3d3d3dP+/u7u7u7t4/AAAAAAAA4D+IiIiIiIjgPxEREREREeE/mpmZmZmZ4T8iIiIiIiLiP6uqqqqqquI/MzMzMzMz4z+8u7u7u7vjP0REREREROQ/zczMzMzM5D9VVVVVVVXlP97d3d3d3eU/ZmZmZmZm5j/v7u7u7u7mP3d3d3d3d+c/AAAAAAAA6D+IiIiIiIjoPxEREREREek/mpmZmZmZ6T8iIiIiIiLqP6uqqqqqquo/MzMzMzMz6z+8u7u7u7vrP0REREREROw/zczMzMzM7D9VVVVVVVXtP97d3d3d3e0/ZmZmZmZm7j/v7u7u7u7uP3d3d3d3d+8/AAAAAAAA8D9ERERERETwP4iIiIiIiPA/zczMzMzM8D8RERERERHxP1VVVVVVVfE/mpmZmZmZ8T/e3d3d3d3xPyIiIiIiIvI/ZmZmZmZm8j+rqqqqqqryP+/u7u7u7vI/MzMzMzMz8z93d3d3d3fzP7y7u7u7u/M/AAAAAAAA9D9ERERERET0P4iIiIiIiPQ/zczMzMzM9D8RERERERH1P1VVVVVVVfU/mpmZmZmZ9T/e3d3d3d31PyIiIiIiIvY/ZmZmZmZm9j+rqqqqqqr2P+/u7u7u7vY/MzMzMzMz9z93d3d3d3f3P7y7u7u7u/c/AAAAAAAA+D9ERERERET4P4iIiIiIiPg/zczMzMzM+D8RERERERH5P1VVVVVVVfk/mpmZmZmZ+T/e3d3d3d35PyIiIiIiIvo/ZmZmZmZm+j+rqqqqqqr6P+/u7u7u7vo/MzMzMzMz+z93d3d3d3f7P7y7u7u7u/s/AAAAAAAA/D9ERERERET8P4iIiIiIiPw/zczMzMzM/D8RERERERH9P1VVVVVVVf0/mZmZmZmZ/T/e3d3d3d39PyIiIiIiIv4/ZmZmZmZm/j+rqqqqqqr+P+/u7u7u7v4/MzMzMzMz/z93d3d3d3f/P7y7u7u7u/8/AAAAAAAAAEA=",
            "dtype": "f8"
           },
           "xaxis": "x",
           "y": {
            "bdata": "AAAAAAAA8D8AAAAAAADwPwAAAAAAAPA/AAAAAAAA8D8AAAAAAADwPwAAAAAAAPA/AAAAAAAA8D8AAAAAAADwPwAAAAAAAPA/AAAAAAAA8D8AAAAAAADwPwAAAAAAAPA/AAAAAAAA8D8AAAAAAADwPwAAAAAAAPA/AAAAAAAA8D8AAAAAAADwPwAAAAAAAPA/AAAAAAAA8D8AAAAAAADwPwAAAAAAAPA/AAAAAAAA8D8AAAAAAADwPwAAAAAAAPA/AAAAAAAA8D8AAAAAAADwPwAAAAAAAPA/AAAAAAAA8D8AAAAAAADwPwAAAAAAAPA/AAAAwP//7z8AAACACADwPwAAAMDX/e8/AAAAAEUW8D8AAABAGHDtPwAAAICUUP4/AAAAuA2DG8AAAADgvoRMQAAAQJVAZ3TAAABAaP7bmEAAAJR6TD65wAAAeDmTktVAAIBv5+8J78AAgI43fMgCQQBwmPQUDBPBAICjR0ASIEEAFETbL1ImwQDQrCLTGilBABRE2y9SJsEAQNkCpT0eQQAwj6W7YA3BAIA+bERE8kAAAEvoXurFwAAAAAAAAABAAAAAAAAAAEAAAAAAAAAAQAAAAAAAAABAAAAAAAAAAEAAAAAAAAAAQAAAAAAAAABAAAAAAAAAAEAAAAAQAAAAQAAAAID3//8/AAAAEIoAAEAAAAAAu+n/PwAAAPD5owBAAAAAgGuv8T8AAADchsEjQAAAAOC+BEvAAABAlUCXdEAAAEBo/s+YwAAAlHpMQblAAAB4OdOR1cAAgG/nTwrvQACAjjdkyALBAHCY9CAME0EAgKNHOhIgwQAURNs1UiZBANCsIs0aKcEAFETbNVImQQBA2QKZPR7BADCPpdNgDUEAgD5sFETywAAAS+je68VAAAAAAAAA8D8AAAAAAADwPwAAAAAAAPA/AAAAAAAA8D8AAAAAAADwPwAAAAAAAPA/AAAAAAAA8D8AAAAAAADwPwAAAAAAAPA/AAAAAAAA8D8AAAAAAADwPwAAAAAAAPA/AAAAAAAA8D8AAAAAAADwPwAAAAAAAPA/AAAAAAAA8D8AAAAAAADwPwAAAAAAAPA/AAAAAAAA8D8AAAAAAADwPwAAAAAAAPA/AAAAAAAA8D8AAAAAAADwPwAAAAAAAPA/AAAAAAAA8D8AAAAAAADwPwAAAAAAAPA/AAAAAAAA8D8AAAAAAADwPwAAAAAAAPA/AAAAAAAA8D8AAAAAAADwPwAAAAAAAPA/AAAAAAAA8D8AAAAAAADwPwAAAAAAAPA/AAAAAAAA8D8=",
            "dtype": "f8"
           },
           "yaxis": "y"
          }
         ],
         "name": "23"
        },
        {
         "data": [
          {
           "hovertemplate": "variable=24<br>x=%{x}<br>value=%{y}<extra></extra>",
           "legendgroup": "",
           "line": {
            "color": "#636efa",
            "dash": "solid"
           },
           "marker": {
            "symbol": "circle"
           },
           "mode": "lines",
           "name": "",
           "orientation": "v",
           "showlegend": false,
           "type": "scatter",
           "x": {
            "bdata": "AAAAAAAAAAARERERERGRPxEREREREaE/mpmZmZmZqT8RERERERGxP1VVVVVVVbU/mpmZmZmZuT/e3d3d3d29PxEREREREcE/MzMzMzMzwz9VVVVVVVXFP3d3d3d3d8c/mpmZmZmZyT+8u7u7u7vLP97d3d3d3c0/AAAAAAAA0D8RERERERHRPyIiIiIiItI/MzMzMzMz0z9ERERERETUP1VVVVVVVdU/ZmZmZmZm1j93d3d3d3fXP4iIiIiIiNg/mpmZmZmZ2T+rqqqqqqraP7y7u7u7u9s/zczMzMzM3D/e3d3d3d3dP+/u7u7u7t4/AAAAAAAA4D+IiIiIiIjgPxEREREREeE/mpmZmZmZ4T8iIiIiIiLiP6uqqqqqquI/MzMzMzMz4z+8u7u7u7vjP0REREREROQ/zczMzMzM5D9VVVVVVVXlP97d3d3d3eU/ZmZmZmZm5j/v7u7u7u7mP3d3d3d3d+c/AAAAAAAA6D+IiIiIiIjoPxEREREREek/mpmZmZmZ6T8iIiIiIiLqP6uqqqqqquo/MzMzMzMz6z+8u7u7u7vrP0REREREROw/zczMzMzM7D9VVVVVVVXtP97d3d3d3e0/ZmZmZmZm7j/v7u7u7u7uP3d3d3d3d+8/AAAAAAAA8D9ERERERETwP4iIiIiIiPA/zczMzMzM8D8RERERERHxP1VVVVVVVfE/mpmZmZmZ8T/e3d3d3d3xPyIiIiIiIvI/ZmZmZmZm8j+rqqqqqqryP+/u7u7u7vI/MzMzMzMz8z93d3d3d3fzP7y7u7u7u/M/AAAAAAAA9D9ERERERET0P4iIiIiIiPQ/zczMzMzM9D8RERERERH1P1VVVVVVVfU/mpmZmZmZ9T/e3d3d3d31PyIiIiIiIvY/ZmZmZmZm9j+rqqqqqqr2P+/u7u7u7vY/MzMzMzMz9z93d3d3d3f3P7y7u7u7u/c/AAAAAAAA+D9ERERERET4P4iIiIiIiPg/zczMzMzM+D8RERERERH5P1VVVVVVVfk/mpmZmZmZ+T/e3d3d3d35PyIiIiIiIvo/ZmZmZmZm+j+rqqqqqqr6P+/u7u7u7vo/MzMzMzMz+z93d3d3d3f7P7y7u7u7u/s/AAAAAAAA/D9ERERERET8P4iIiIiIiPw/zczMzMzM/D8RERERERH9P1VVVVVVVf0/mZmZmZmZ/T/e3d3d3d39PyIiIiIiIv4/ZmZmZmZm/j+rqqqqqqr+P+/u7u7u7v4/MzMzMzMz/z93d3d3d3f/P7y7u7u7u/8/AAAAAAAAAEA=",
            "dtype": "f8"
           },
           "xaxis": "x",
           "y": {
            "bdata": "AAAAAAAA8D8AAAAAAADwPwAAAAAAAPA/AAAAAAAA8D8AAAAAAADwPwAAAAAAAPA/AAAAAAAA8D8AAAAAAADwPwAAAAAAAPA/AAAAAAAA8D8AAAAAAADwPwAAAAAAAPA/AAAAAAAA8D8AAAAAAADwPwAAAAAAAPA/AAAAAAAA8D8AAAAAAADwPwAAAAAAAPA/AAAAAAAA8D8AAAAAAADwPwAAAAAAAPA/AAAAAAAA8D8AAAAAAADwPwAAAAAAAPA/AAAAAAAA8D8AAAAAAADwPwAAAAAAAPA/AAAAAAAA8D8AAAAAAADwPwAAAAAAAPA/AAAAEAAA8D8AAAAg9//vPwAAANCWAPA/AAAAoH7m7z8AAABwYcXwPwAAAMAfr9s/AAAAjL4fGUAAAIAC8mpDwAAAQCkIGW9AAAAYbLcUlMAAAGKkpfG1QACAs0qmQNTAAMDRXuay70AAEJES+AcFwQAY96NnnBdBABRE2y9SJsEApYssPKIxQQBDHq1YBDfBAKHSUKpoOEEAN86EWIU0wQDW1DZTWipBADSzSRVRGMEAcOKQDMX8QABAOC4HcNDAAAAAAAAAAEAAAAAAAAAAQAAAAAAAAABAAAAAAAAAAEAAAAAAAAAAQAAAAAAAAABAAAAAAAAAAEAAAADw////PwAAADgCAABAAAAAMGn//z8AAABYYAYAQAAAAJCeOv8/AAAACByKBEAAAAAYfT8KwAAAgALy6kRAAABAKQi5bsAAABhstyCUQAAAYqSl7rXAAICzSmZB1EAAwNFehrLvwAAQkRIQCAVBABj3o1ucF8EAFETbNVImQQCliyw5ojHBAEMerVsEN0EAodJQp2g4wQA3zoRbhTRBANbUNk1aKsEANLNJIVEYQQBw4pDcxPzAAEA4Lsdw0EAAAAAAAADwPwAAAAAAAPA/AAAAAAAA8D8AAAAAAADwPwAAAAAAAPA/AAAAAAAA8D8AAAAAAADwPwAAAAAAAPA/AAAAAAAA8D8AAAAAAADwPwAAAAAAAPA/AAAAAAAA8D8AAAAAAADwPwAAAAAAAPA/AAAAAAAA8D8AAAAAAADwPwAAAAAAAPA/AAAAAAAA8D8AAAAAAADwPwAAAAAAAPA/AAAAAAAA8D8AAAAAAADwPwAAAAAAAPA/AAAAAAAA8D8AAAAAAADwPwAAAAAAAPA/AAAAAAAA8D8AAAAAAADwPwAAAAAAAPA/AAAAAAAA8D8AAAAAAADwPwAAAAAAAPA/AAAAAAAA8D8AAAAAAADwPwAAAAAAAPA/AAAAAAAA8D8=",
            "dtype": "f8"
           },
           "yaxis": "y"
          }
         ],
         "name": "24"
        },
        {
         "data": [
          {
           "hovertemplate": "variable=25<br>x=%{x}<br>value=%{y}<extra></extra>",
           "legendgroup": "",
           "line": {
            "color": "#636efa",
            "dash": "solid"
           },
           "marker": {
            "symbol": "circle"
           },
           "mode": "lines",
           "name": "",
           "orientation": "v",
           "showlegend": false,
           "type": "scatter",
           "x": {
            "bdata": "AAAAAAAAAAARERERERGRPxEREREREaE/mpmZmZmZqT8RERERERGxP1VVVVVVVbU/mpmZmZmZuT/e3d3d3d29PxEREREREcE/MzMzMzMzwz9VVVVVVVXFP3d3d3d3d8c/mpmZmZmZyT+8u7u7u7vLP97d3d3d3c0/AAAAAAAA0D8RERERERHRPyIiIiIiItI/MzMzMzMz0z9ERERERETUP1VVVVVVVdU/ZmZmZmZm1j93d3d3d3fXP4iIiIiIiNg/mpmZmZmZ2T+rqqqqqqraP7y7u7u7u9s/zczMzMzM3D/e3d3d3d3dP+/u7u7u7t4/AAAAAAAA4D+IiIiIiIjgPxEREREREeE/mpmZmZmZ4T8iIiIiIiLiP6uqqqqqquI/MzMzMzMz4z+8u7u7u7vjP0REREREROQ/zczMzMzM5D9VVVVVVVXlP97d3d3d3eU/ZmZmZmZm5j/v7u7u7u7mP3d3d3d3d+c/AAAAAAAA6D+IiIiIiIjoPxEREREREek/mpmZmZmZ6T8iIiIiIiLqP6uqqqqqquo/MzMzMzMz6z+8u7u7u7vrP0REREREROw/zczMzMzM7D9VVVVVVVXtP97d3d3d3e0/ZmZmZmZm7j/v7u7u7u7uP3d3d3d3d+8/AAAAAAAA8D9ERERERETwP4iIiIiIiPA/zczMzMzM8D8RERERERHxP1VVVVVVVfE/mpmZmZmZ8T/e3d3d3d3xPyIiIiIiIvI/ZmZmZmZm8j+rqqqqqqryP+/u7u7u7vI/MzMzMzMz8z93d3d3d3fzP7y7u7u7u/M/AAAAAAAA9D9ERERERET0P4iIiIiIiPQ/zczMzMzM9D8RERERERH1P1VVVVVVVfU/mpmZmZmZ9T/e3d3d3d31PyIiIiIiIvY/ZmZmZmZm9j+rqqqqqqr2P+/u7u7u7vY/MzMzMzMz9z93d3d3d3f3P7y7u7u7u/c/AAAAAAAA+D9ERERERET4P4iIiIiIiPg/zczMzMzM+D8RERERERH5P1VVVVVVVfk/mpmZmZmZ+T/e3d3d3d35PyIiIiIiIvo/ZmZmZmZm+j+rqqqqqqr6P+/u7u7u7vo/MzMzMzMz+z93d3d3d3f7P7y7u7u7u/s/AAAAAAAA/D9ERERERET8P4iIiIiIiPw/zczMzMzM/D8RERERERH9P1VVVVVVVf0/mZmZmZmZ/T/e3d3d3d39PyIiIiIiIv4/ZmZmZmZm/j+rqqqqqqr+P+/u7u7u7v4/MzMzMzMz/z93d3d3d3f/P7y7u7u7u/8/AAAAAAAAAEA=",
            "dtype": "f8"
           },
           "xaxis": "x",
           "y": {
            "bdata": "AAAAAAAA8D8AAAAAAADwPwAAAAAAAPA/AAAAAAAA8D8AAAAAAADwPwAAAAAAAPA/AAAAAAAA8D8AAAAAAADwPwAAAAAAAPA/AAAAAAAA8D8AAAAAAADwPwAAAAAAAPA/AAAAAAAA8D8AAAAAAADwPwAAAAAAAPA/AAAAAAAA8D8AAAAAAADwPwAAAAAAAPA/AAAAAAAA8D8AAAAAAADwPwAAAAAAAPA/AAAAAAAA8D8AAAAAAADwPwAAAAAAAPA/AAAAAAAA8D8AAAAAAADwPwAAAAAAAPA/AAAAAAAA8D8AAAAAAADwPwAAAAAAAPA/AAAA8P//7z8AAABQAgDwPwAAAOBb/+8/AAAAkEIH8D8AAACAXBTvPwAAADAusvU/AAAAmOjuA8AAAAB32dY8QAAAkNWe1GbAAACQexq+j0AAALqal4CywACA/kLxWtJAAIBv5+8J78AAMNdsEmcGQQBY6N8tlBvBAFybqGXeLEGA4bj6wY45wYBMsEzD+kJBgFoLFm1dR8GAhtHd1W9HQQBEdcpMr0LBAAdWEuHNNkEAjlTAIAkkwQBYjd/JmgZBAGBUxUqo2MAAAAAAAAAAQAAAAAAAAABAAAAAAAAAAEAAAAAAAAAAQAAAAAAAAABAAAAAAAAAAEAAAAAEAAAAQAAAALD9//8/AAAACCkAAEAAAABwvfj/PwAAAODoOgBAAAAA0NFN+j8AAABMdPcVQAAAAHfZ1jnAAACQ1Z40Z0AAAJB7GqaPwAAAupqXg7JAAID+QjFa0sAAgG/nTwrvQAAw12z6ZgbBAFjo3zmUG0EAXJuoX94swYDhuPrEjjlBgEywzMH6QsGAWguWbl1HQYCG0V3Ub0fBAER1Sk6vQkEAB1YS3s02wQCOVMAmCSRBAFiN37GaBsEAYFTFCqnYQAAAAAAAAPA/AAAAAAAA8D8AAAAAAADwPwAAAAAAAPA/AAAAAAAA8D8AAAAAAADwPwAAAAAAAPA/AAAAAAAA8D8AAAAAAADwPwAAAAAAAPA/AAAAAAAA8D8AAAAAAADwPwAAAAAAAPA/AAAAAAAA8D8AAAAAAADwPwAAAAAAAPA/AAAAAAAA8D8AAAAAAADwPwAAAAAAAPA/AAAAAAAA8D8AAAAAAADwPwAAAAAAAPA/AAAAAAAA8D8AAAAAAADwPwAAAAAAAPA/AAAAAAAA8D8AAAAAAADwPwAAAAAAAPA/AAAAAAAA8D8AAAAAAADwPwAAAAAAAPA/AAAAAAAA8D8AAAAAAADwPwAAAAAAAPA/AAAAAAAA8D8=",
            "dtype": "f8"
           },
           "yaxis": "y"
          }
         ],
         "name": "25"
        }
       ],
       "layout": {
        "legend": {
         "tracegroupgap": 0
        },
        "margin": {
         "t": 60
        },
        "sliders": [
         {
          "active": 0,
          "currentvalue": {
           "prefix": "variable="
          },
          "len": 0.9,
          "pad": {
           "b": 10,
           "t": 60
          },
          "steps": [
           {
            "args": [
             [
              "0"
             ],
             {
              "frame": {
               "duration": 0,
               "redraw": false
              },
              "fromcurrent": true,
              "mode": "immediate",
              "transition": {
               "duration": 0,
               "easing": "linear"
              }
             }
            ],
            "label": "0",
            "method": "animate"
           },
           {
            "args": [
             [
              "1"
             ],
             {
              "frame": {
               "duration": 0,
               "redraw": false
              },
              "fromcurrent": true,
              "mode": "immediate",
              "transition": {
               "duration": 0,
               "easing": "linear"
              }
             }
            ],
            "label": "1",
            "method": "animate"
           },
           {
            "args": [
             [
              "2"
             ],
             {
              "frame": {
               "duration": 0,
               "redraw": false
              },
              "fromcurrent": true,
              "mode": "immediate",
              "transition": {
               "duration": 0,
               "easing": "linear"
              }
             }
            ],
            "label": "2",
            "method": "animate"
           },
           {
            "args": [
             [
              "3"
             ],
             {
              "frame": {
               "duration": 0,
               "redraw": false
              },
              "fromcurrent": true,
              "mode": "immediate",
              "transition": {
               "duration": 0,
               "easing": "linear"
              }
             }
            ],
            "label": "3",
            "method": "animate"
           },
           {
            "args": [
             [
              "4"
             ],
             {
              "frame": {
               "duration": 0,
               "redraw": false
              },
              "fromcurrent": true,
              "mode": "immediate",
              "transition": {
               "duration": 0,
               "easing": "linear"
              }
             }
            ],
            "label": "4",
            "method": "animate"
           },
           {
            "args": [
             [
              "5"
             ],
             {
              "frame": {
               "duration": 0,
               "redraw": false
              },
              "fromcurrent": true,
              "mode": "immediate",
              "transition": {
               "duration": 0,
               "easing": "linear"
              }
             }
            ],
            "label": "5",
            "method": "animate"
           },
           {
            "args": [
             [
              "6"
             ],
             {
              "frame": {
               "duration": 0,
               "redraw": false
              },
              "fromcurrent": true,
              "mode": "immediate",
              "transition": {
               "duration": 0,
               "easing": "linear"
              }
             }
            ],
            "label": "6",
            "method": "animate"
           },
           {
            "args": [
             [
              "7"
             ],
             {
              "frame": {
               "duration": 0,
               "redraw": false
              },
              "fromcurrent": true,
              "mode": "immediate",
              "transition": {
               "duration": 0,
               "easing": "linear"
              }
             }
            ],
            "label": "7",
            "method": "animate"
           },
           {
            "args": [
             [
              "8"
             ],
             {
              "frame": {
               "duration": 0,
               "redraw": false
              },
              "fromcurrent": true,
              "mode": "immediate",
              "transition": {
               "duration": 0,
               "easing": "linear"
              }
             }
            ],
            "label": "8",
            "method": "animate"
           },
           {
            "args": [
             [
              "9"
             ],
             {
              "frame": {
               "duration": 0,
               "redraw": false
              },
              "fromcurrent": true,
              "mode": "immediate",
              "transition": {
               "duration": 0,
               "easing": "linear"
              }
             }
            ],
            "label": "9",
            "method": "animate"
           },
           {
            "args": [
             [
              "10"
             ],
             {
              "frame": {
               "duration": 0,
               "redraw": false
              },
              "fromcurrent": true,
              "mode": "immediate",
              "transition": {
               "duration": 0,
               "easing": "linear"
              }
             }
            ],
            "label": "10",
            "method": "animate"
           },
           {
            "args": [
             [
              "11"
             ],
             {
              "frame": {
               "duration": 0,
               "redraw": false
              },
              "fromcurrent": true,
              "mode": "immediate",
              "transition": {
               "duration": 0,
               "easing": "linear"
              }
             }
            ],
            "label": "11",
            "method": "animate"
           },
           {
            "args": [
             [
              "12"
             ],
             {
              "frame": {
               "duration": 0,
               "redraw": false
              },
              "fromcurrent": true,
              "mode": "immediate",
              "transition": {
               "duration": 0,
               "easing": "linear"
              }
             }
            ],
            "label": "12",
            "method": "animate"
           },
           {
            "args": [
             [
              "13"
             ],
             {
              "frame": {
               "duration": 0,
               "redraw": false
              },
              "fromcurrent": true,
              "mode": "immediate",
              "transition": {
               "duration": 0,
               "easing": "linear"
              }
             }
            ],
            "label": "13",
            "method": "animate"
           },
           {
            "args": [
             [
              "14"
             ],
             {
              "frame": {
               "duration": 0,
               "redraw": false
              },
              "fromcurrent": true,
              "mode": "immediate",
              "transition": {
               "duration": 0,
               "easing": "linear"
              }
             }
            ],
            "label": "14",
            "method": "animate"
           },
           {
            "args": [
             [
              "15"
             ],
             {
              "frame": {
               "duration": 0,
               "redraw": false
              },
              "fromcurrent": true,
              "mode": "immediate",
              "transition": {
               "duration": 0,
               "easing": "linear"
              }
             }
            ],
            "label": "15",
            "method": "animate"
           },
           {
            "args": [
             [
              "16"
             ],
             {
              "frame": {
               "duration": 0,
               "redraw": false
              },
              "fromcurrent": true,
              "mode": "immediate",
              "transition": {
               "duration": 0,
               "easing": "linear"
              }
             }
            ],
            "label": "16",
            "method": "animate"
           },
           {
            "args": [
             [
              "17"
             ],
             {
              "frame": {
               "duration": 0,
               "redraw": false
              },
              "fromcurrent": true,
              "mode": "immediate",
              "transition": {
               "duration": 0,
               "easing": "linear"
              }
             }
            ],
            "label": "17",
            "method": "animate"
           },
           {
            "args": [
             [
              "18"
             ],
             {
              "frame": {
               "duration": 0,
               "redraw": false
              },
              "fromcurrent": true,
              "mode": "immediate",
              "transition": {
               "duration": 0,
               "easing": "linear"
              }
             }
            ],
            "label": "18",
            "method": "animate"
           },
           {
            "args": [
             [
              "19"
             ],
             {
              "frame": {
               "duration": 0,
               "redraw": false
              },
              "fromcurrent": true,
              "mode": "immediate",
              "transition": {
               "duration": 0,
               "easing": "linear"
              }
             }
            ],
            "label": "19",
            "method": "animate"
           },
           {
            "args": [
             [
              "20"
             ],
             {
              "frame": {
               "duration": 0,
               "redraw": false
              },
              "fromcurrent": true,
              "mode": "immediate",
              "transition": {
               "duration": 0,
               "easing": "linear"
              }
             }
            ],
            "label": "20",
            "method": "animate"
           },
           {
            "args": [
             [
              "21"
             ],
             {
              "frame": {
               "duration": 0,
               "redraw": false
              },
              "fromcurrent": true,
              "mode": "immediate",
              "transition": {
               "duration": 0,
               "easing": "linear"
              }
             }
            ],
            "label": "21",
            "method": "animate"
           },
           {
            "args": [
             [
              "22"
             ],
             {
              "frame": {
               "duration": 0,
               "redraw": false
              },
              "fromcurrent": true,
              "mode": "immediate",
              "transition": {
               "duration": 0,
               "easing": "linear"
              }
             }
            ],
            "label": "22",
            "method": "animate"
           },
           {
            "args": [
             [
              "23"
             ],
             {
              "frame": {
               "duration": 0,
               "redraw": false
              },
              "fromcurrent": true,
              "mode": "immediate",
              "transition": {
               "duration": 0,
               "easing": "linear"
              }
             }
            ],
            "label": "23",
            "method": "animate"
           },
           {
            "args": [
             [
              "24"
             ],
             {
              "frame": {
               "duration": 0,
               "redraw": false
              },
              "fromcurrent": true,
              "mode": "immediate",
              "transition": {
               "duration": 0,
               "easing": "linear"
              }
             }
            ],
            "label": "24",
            "method": "animate"
           },
           {
            "args": [
             [
              "25"
             ],
             {
              "frame": {
               "duration": 0,
               "redraw": false
              },
              "fromcurrent": true,
              "mode": "immediate",
              "transition": {
               "duration": 0,
               "easing": "linear"
              }
             }
            ],
            "label": "25",
            "method": "animate"
           }
          ],
          "x": 0.1,
          "xanchor": "left",
          "y": 0,
          "yanchor": "top"
         }
        ],
        "template": {
         "data": {
          "bar": [
           {
            "error_x": {
             "color": "#2a3f5f"
            },
            "error_y": {
             "color": "#2a3f5f"
            },
            "marker": {
             "line": {
              "color": "#E5ECF6",
              "width": 0.5
             },
             "pattern": {
              "fillmode": "overlay",
              "size": 10,
              "solidity": 0.2
             }
            },
            "type": "bar"
           }
          ],
          "barpolar": [
           {
            "marker": {
             "line": {
              "color": "#E5ECF6",
              "width": 0.5
             },
             "pattern": {
              "fillmode": "overlay",
              "size": 10,
              "solidity": 0.2
             }
            },
            "type": "barpolar"
           }
          ],
          "carpet": [
           {
            "aaxis": {
             "endlinecolor": "#2a3f5f",
             "gridcolor": "white",
             "linecolor": "white",
             "minorgridcolor": "white",
             "startlinecolor": "#2a3f5f"
            },
            "baxis": {
             "endlinecolor": "#2a3f5f",
             "gridcolor": "white",
             "linecolor": "white",
             "minorgridcolor": "white",
             "startlinecolor": "#2a3f5f"
            },
            "type": "carpet"
           }
          ],
          "choropleth": [
           {
            "colorbar": {
             "outlinewidth": 0,
             "ticks": ""
            },
            "type": "choropleth"
           }
          ],
          "contour": [
           {
            "colorbar": {
             "outlinewidth": 0,
             "ticks": ""
            },
            "colorscale": [
             [
              0,
              "#0d0887"
             ],
             [
              0.1111111111111111,
              "#46039f"
             ],
             [
              0.2222222222222222,
              "#7201a8"
             ],
             [
              0.3333333333333333,
              "#9c179e"
             ],
             [
              0.4444444444444444,
              "#bd3786"
             ],
             [
              0.5555555555555556,
              "#d8576b"
             ],
             [
              0.6666666666666666,
              "#ed7953"
             ],
             [
              0.7777777777777778,
              "#fb9f3a"
             ],
             [
              0.8888888888888888,
              "#fdca26"
             ],
             [
              1,
              "#f0f921"
             ]
            ],
            "type": "contour"
           }
          ],
          "contourcarpet": [
           {
            "colorbar": {
             "outlinewidth": 0,
             "ticks": ""
            },
            "type": "contourcarpet"
           }
          ],
          "heatmap": [
           {
            "colorbar": {
             "outlinewidth": 0,
             "ticks": ""
            },
            "colorscale": [
             [
              0,
              "#0d0887"
             ],
             [
              0.1111111111111111,
              "#46039f"
             ],
             [
              0.2222222222222222,
              "#7201a8"
             ],
             [
              0.3333333333333333,
              "#9c179e"
             ],
             [
              0.4444444444444444,
              "#bd3786"
             ],
             [
              0.5555555555555556,
              "#d8576b"
             ],
             [
              0.6666666666666666,
              "#ed7953"
             ],
             [
              0.7777777777777778,
              "#fb9f3a"
             ],
             [
              0.8888888888888888,
              "#fdca26"
             ],
             [
              1,
              "#f0f921"
             ]
            ],
            "type": "heatmap"
           }
          ],
          "histogram": [
           {
            "marker": {
             "pattern": {
              "fillmode": "overlay",
              "size": 10,
              "solidity": 0.2
             }
            },
            "type": "histogram"
           }
          ],
          "histogram2d": [
           {
            "colorbar": {
             "outlinewidth": 0,
             "ticks": ""
            },
            "colorscale": [
             [
              0,
              "#0d0887"
             ],
             [
              0.1111111111111111,
              "#46039f"
             ],
             [
              0.2222222222222222,
              "#7201a8"
             ],
             [
              0.3333333333333333,
              "#9c179e"
             ],
             [
              0.4444444444444444,
              "#bd3786"
             ],
             [
              0.5555555555555556,
              "#d8576b"
             ],
             [
              0.6666666666666666,
              "#ed7953"
             ],
             [
              0.7777777777777778,
              "#fb9f3a"
             ],
             [
              0.8888888888888888,
              "#fdca26"
             ],
             [
              1,
              "#f0f921"
             ]
            ],
            "type": "histogram2d"
           }
          ],
          "histogram2dcontour": [
           {
            "colorbar": {
             "outlinewidth": 0,
             "ticks": ""
            },
            "colorscale": [
             [
              0,
              "#0d0887"
             ],
             [
              0.1111111111111111,
              "#46039f"
             ],
             [
              0.2222222222222222,
              "#7201a8"
             ],
             [
              0.3333333333333333,
              "#9c179e"
             ],
             [
              0.4444444444444444,
              "#bd3786"
             ],
             [
              0.5555555555555556,
              "#d8576b"
             ],
             [
              0.6666666666666666,
              "#ed7953"
             ],
             [
              0.7777777777777778,
              "#fb9f3a"
             ],
             [
              0.8888888888888888,
              "#fdca26"
             ],
             [
              1,
              "#f0f921"
             ]
            ],
            "type": "histogram2dcontour"
           }
          ],
          "mesh3d": [
           {
            "colorbar": {
             "outlinewidth": 0,
             "ticks": ""
            },
            "type": "mesh3d"
           }
          ],
          "parcoords": [
           {
            "line": {
             "colorbar": {
              "outlinewidth": 0,
              "ticks": ""
             }
            },
            "type": "parcoords"
           }
          ],
          "pie": [
           {
            "automargin": true,
            "type": "pie"
           }
          ],
          "scatter": [
           {
            "fillpattern": {
             "fillmode": "overlay",
             "size": 10,
             "solidity": 0.2
            },
            "type": "scatter"
           }
          ],
          "scatter3d": [
           {
            "line": {
             "colorbar": {
              "outlinewidth": 0,
              "ticks": ""
             }
            },
            "marker": {
             "colorbar": {
              "outlinewidth": 0,
              "ticks": ""
             }
            },
            "type": "scatter3d"
           }
          ],
          "scattercarpet": [
           {
            "marker": {
             "colorbar": {
              "outlinewidth": 0,
              "ticks": ""
             }
            },
            "type": "scattercarpet"
           }
          ],
          "scattergeo": [
           {
            "marker": {
             "colorbar": {
              "outlinewidth": 0,
              "ticks": ""
             }
            },
            "type": "scattergeo"
           }
          ],
          "scattergl": [
           {
            "marker": {
             "colorbar": {
              "outlinewidth": 0,
              "ticks": ""
             }
            },
            "type": "scattergl"
           }
          ],
          "scattermap": [
           {
            "marker": {
             "colorbar": {
              "outlinewidth": 0,
              "ticks": ""
             }
            },
            "type": "scattermap"
           }
          ],
          "scattermapbox": [
           {
            "marker": {
             "colorbar": {
              "outlinewidth": 0,
              "ticks": ""
             }
            },
            "type": "scattermapbox"
           }
          ],
          "scatterpolar": [
           {
            "marker": {
             "colorbar": {
              "outlinewidth": 0,
              "ticks": ""
             }
            },
            "type": "scatterpolar"
           }
          ],
          "scatterpolargl": [
           {
            "marker": {
             "colorbar": {
              "outlinewidth": 0,
              "ticks": ""
             }
            },
            "type": "scatterpolargl"
           }
          ],
          "scatterternary": [
           {
            "marker": {
             "colorbar": {
              "outlinewidth": 0,
              "ticks": ""
             }
            },
            "type": "scatterternary"
           }
          ],
          "surface": [
           {
            "colorbar": {
             "outlinewidth": 0,
             "ticks": ""
            },
            "colorscale": [
             [
              0,
              "#0d0887"
             ],
             [
              0.1111111111111111,
              "#46039f"
             ],
             [
              0.2222222222222222,
              "#7201a8"
             ],
             [
              0.3333333333333333,
              "#9c179e"
             ],
             [
              0.4444444444444444,
              "#bd3786"
             ],
             [
              0.5555555555555556,
              "#d8576b"
             ],
             [
              0.6666666666666666,
              "#ed7953"
             ],
             [
              0.7777777777777778,
              "#fb9f3a"
             ],
             [
              0.8888888888888888,
              "#fdca26"
             ],
             [
              1,
              "#f0f921"
             ]
            ],
            "type": "surface"
           }
          ],
          "table": [
           {
            "cells": {
             "fill": {
              "color": "#EBF0F8"
             },
             "line": {
              "color": "white"
             }
            },
            "header": {
             "fill": {
              "color": "#C8D4E3"
             },
             "line": {
              "color": "white"
             }
            },
            "type": "table"
           }
          ]
         },
         "layout": {
          "annotationdefaults": {
           "arrowcolor": "#2a3f5f",
           "arrowhead": 0,
           "arrowwidth": 1
          },
          "autotypenumbers": "strict",
          "coloraxis": {
           "colorbar": {
            "outlinewidth": 0,
            "ticks": ""
           }
          },
          "colorscale": {
           "diverging": [
            [
             0,
             "#8e0152"
            ],
            [
             0.1,
             "#c51b7d"
            ],
            [
             0.2,
             "#de77ae"
            ],
            [
             0.3,
             "#f1b6da"
            ],
            [
             0.4,
             "#fde0ef"
            ],
            [
             0.5,
             "#f7f7f7"
            ],
            [
             0.6,
             "#e6f5d0"
            ],
            [
             0.7,
             "#b8e186"
            ],
            [
             0.8,
             "#7fbc41"
            ],
            [
             0.9,
             "#4d9221"
            ],
            [
             1,
             "#276419"
            ]
           ],
           "sequential": [
            [
             0,
             "#0d0887"
            ],
            [
             0.1111111111111111,
             "#46039f"
            ],
            [
             0.2222222222222222,
             "#7201a8"
            ],
            [
             0.3333333333333333,
             "#9c179e"
            ],
            [
             0.4444444444444444,
             "#bd3786"
            ],
            [
             0.5555555555555556,
             "#d8576b"
            ],
            [
             0.6666666666666666,
             "#ed7953"
            ],
            [
             0.7777777777777778,
             "#fb9f3a"
            ],
            [
             0.8888888888888888,
             "#fdca26"
            ],
            [
             1,
             "#f0f921"
            ]
           ],
           "sequentialminus": [
            [
             0,
             "#0d0887"
            ],
            [
             0.1111111111111111,
             "#46039f"
            ],
            [
             0.2222222222222222,
             "#7201a8"
            ],
            [
             0.3333333333333333,
             "#9c179e"
            ],
            [
             0.4444444444444444,
             "#bd3786"
            ],
            [
             0.5555555555555556,
             "#d8576b"
            ],
            [
             0.6666666666666666,
             "#ed7953"
            ],
            [
             0.7777777777777778,
             "#fb9f3a"
            ],
            [
             0.8888888888888888,
             "#fdca26"
            ],
            [
             1,
             "#f0f921"
            ]
           ]
          },
          "colorway": [
           "#636efa",
           "#EF553B",
           "#00cc96",
           "#ab63fa",
           "#FFA15A",
           "#19d3f3",
           "#FF6692",
           "#B6E880",
           "#FF97FF",
           "#FECB52"
          ],
          "font": {
           "color": "#2a3f5f"
          },
          "geo": {
           "bgcolor": "white",
           "lakecolor": "white",
           "landcolor": "#E5ECF6",
           "showlakes": true,
           "showland": true,
           "subunitcolor": "white"
          },
          "hoverlabel": {
           "align": "left"
          },
          "hovermode": "closest",
          "mapbox": {
           "style": "light"
          },
          "paper_bgcolor": "white",
          "plot_bgcolor": "#E5ECF6",
          "polar": {
           "angularaxis": {
            "gridcolor": "white",
            "linecolor": "white",
            "ticks": ""
           },
           "bgcolor": "#E5ECF6",
           "radialaxis": {
            "gridcolor": "white",
            "linecolor": "white",
            "ticks": ""
           }
          },
          "scene": {
           "xaxis": {
            "backgroundcolor": "#E5ECF6",
            "gridcolor": "white",
            "gridwidth": 2,
            "linecolor": "white",
            "showbackground": true,
            "ticks": "",
            "zerolinecolor": "white"
           },
           "yaxis": {
            "backgroundcolor": "#E5ECF6",
            "gridcolor": "white",
            "gridwidth": 2,
            "linecolor": "white",
            "showbackground": true,
            "ticks": "",
            "zerolinecolor": "white"
           },
           "zaxis": {
            "backgroundcolor": "#E5ECF6",
            "gridcolor": "white",
            "gridwidth": 2,
            "linecolor": "white",
            "showbackground": true,
            "ticks": "",
            "zerolinecolor": "white"
           }
          },
          "shapedefaults": {
           "line": {
            "color": "#2a3f5f"
           }
          },
          "ternary": {
           "aaxis": {
            "gridcolor": "white",
            "linecolor": "white",
            "ticks": ""
           },
           "baxis": {
            "gridcolor": "white",
            "linecolor": "white",
            "ticks": ""
           },
           "bgcolor": "#E5ECF6",
           "caxis": {
            "gridcolor": "white",
            "linecolor": "white",
            "ticks": ""
           }
          },
          "title": {
           "x": 0.05
          },
          "xaxis": {
           "automargin": true,
           "gridcolor": "white",
           "linecolor": "white",
           "ticks": "",
           "title": {
            "standoff": 15
           },
           "zerolinecolor": "white",
           "zerolinewidth": 2
          },
          "yaxis": {
           "automargin": true,
           "gridcolor": "white",
           "linecolor": "white",
           "ticks": "",
           "title": {
            "standoff": 15
           },
           "zerolinecolor": "white",
           "zerolinewidth": 2
          }
         }
        },
        "updatemenus": [
         {
          "buttons": [
           {
            "args": [
             null,
             {
              "frame": {
               "duration": 100,
               "redraw": false
              },
              "fromcurrent": true,
              "mode": "immediate",
              "transition": {
               "duration": 0,
               "easing": "linear"
              }
             }
            ],
            "label": "&#9654;",
            "method": "animate"
           },
           {
            "args": [
             [
              null
             ],
             {
              "frame": {
               "duration": 0,
               "redraw": false
              },
              "fromcurrent": true,
              "mode": "immediate",
              "transition": {
               "duration": 0,
               "easing": "linear"
              }
             }
            ],
            "label": "&#9724;",
            "method": "animate"
           }
          ],
          "direction": "left",
          "pad": {
           "r": 10,
           "t": 70
          },
          "showactive": false,
          "type": "buttons",
          "x": 0.1,
          "xanchor": "right",
          "y": 0,
          "yanchor": "top"
         }
        ],
        "xaxis": {
         "anchor": "y",
         "domain": [
          0,
          1
         ],
         "title": {
          "text": "x"
         }
        },
        "yaxis": {
         "anchor": "x",
         "domain": [
          0,
          1
         ],
         "title": {
          "text": "value"
         }
        }
       }
      },
      "text/html": [
       "<div>            <script src=\"https://cdnjs.cloudflare.com/ajax/libs/mathjax/2.7.5/MathJax.js?config=TeX-AMS-MML_SVG\"></script><script type=\"text/javascript\">if (window.MathJax && window.MathJax.Hub && window.MathJax.Hub.Config) {window.MathJax.Hub.Config({SVG: {font: \"STIX-Web\"}});}</script>                <script type=\"text/javascript\">window.PlotlyConfig = {MathJaxConfig: 'local'};</script>\n",
       "        <script charset=\"utf-8\" src=\"https://cdn.plot.ly/plotly-3.0.1.min.js\"></script>                <div id=\"c66ff393-6f7d-424f-8991-cc74525858da\" class=\"plotly-graph-div\" style=\"height:525px; width:100%;\"></div>            <script type=\"text/javascript\">                window.PLOTLYENV=window.PLOTLYENV || {};                                if (document.getElementById(\"c66ff393-6f7d-424f-8991-cc74525858da\")) {                    Plotly.newPlot(                        \"c66ff393-6f7d-424f-8991-cc74525858da\",                        [{\"hovertemplate\":\"variable=0\\u003cbr\\u003ex=%{x}\\u003cbr\\u003evalue=%{y}\\u003cextra\\u003e\\u003c\\u002fextra\\u003e\",\"legendgroup\":\"\",\"line\":{\"color\":\"#636efa\",\"dash\":\"solid\"},\"marker\":{\"symbol\":\"circle\"},\"mode\":\"lines\",\"name\":\"\",\"orientation\":\"v\",\"showlegend\":false,\"x\":{\"dtype\":\"f8\",\"bdata\":\"AAAAAAAAAAARERERERGRPxEREREREaE\\u002fmpmZmZmZqT8RERERERGxP1VVVVVVVbU\\u002fmpmZmZmZuT\\u002fe3d3d3d29PxEREREREcE\\u002fMzMzMzMzwz9VVVVVVVXFP3d3d3d3d8c\\u002fmpmZmZmZyT+8u7u7u7vLP97d3d3d3c0\\u002fAAAAAAAA0D8RERERERHRPyIiIiIiItI\\u002fMzMzMzMz0z9ERERERETUP1VVVVVVVdU\\u002fZmZmZmZm1j93d3d3d3fXP4iIiIiIiNg\\u002fmpmZmZmZ2T+rqqqqqqraP7y7u7u7u9s\\u002fzczMzMzM3D\\u002fe3d3d3d3dP+\\u002fu7u7u7t4\\u002fAAAAAAAA4D+IiIiIiIjgPxEREREREeE\\u002fmpmZmZmZ4T8iIiIiIiLiP6uqqqqqquI\\u002fMzMzMzMz4z+8u7u7u7vjP0REREREROQ\\u002fzczMzMzM5D9VVVVVVVXlP97d3d3d3eU\\u002fZmZmZmZm5j\\u002fv7u7u7u7mP3d3d3d3d+c\\u002fAAAAAAAA6D+IiIiIiIjoPxEREREREek\\u002fmpmZmZmZ6T8iIiIiIiLqP6uqqqqqquo\\u002fMzMzMzMz6z+8u7u7u7vrP0REREREROw\\u002fzczMzMzM7D9VVVVVVVXtP97d3d3d3e0\\u002fZmZmZmZm7j\\u002fv7u7u7u7uP3d3d3d3d+8\\u002fAAAAAAAA8D9ERERERETwP4iIiIiIiPA\\u002fzczMzMzM8D8RERERERHxP1VVVVVVVfE\\u002fmpmZmZmZ8T\\u002fe3d3d3d3xPyIiIiIiIvI\\u002fZmZmZmZm8j+rqqqqqqryP+\\u002fu7u7u7vI\\u002fMzMzMzMz8z93d3d3d3fzP7y7u7u7u\\u002fM\\u002fAAAAAAAA9D9ERERERET0P4iIiIiIiPQ\\u002fzczMzMzM9D8RERERERH1P1VVVVVVVfU\\u002fmpmZmZmZ9T\\u002fe3d3d3d31PyIiIiIiIvY\\u002fZmZmZmZm9j+rqqqqqqr2P+\\u002fu7u7u7vY\\u002fMzMzMzMz9z93d3d3d3f3P7y7u7u7u\\u002fc\\u002fAAAAAAAA+D9ERERERET4P4iIiIiIiPg\\u002fzczMzMzM+D8RERERERH5P1VVVVVVVfk\\u002fmpmZmZmZ+T\\u002fe3d3d3d35PyIiIiIiIvo\\u002fZmZmZmZm+j+rqqqqqqr6P+\\u002fu7u7u7vo\\u002fMzMzMzMz+z93d3d3d3f7P7y7u7u7u\\u002fs\\u002fAAAAAAAA\\u002fD9ERERERET8P4iIiIiIiPw\\u002fzczMzMzM\\u002fD8RERERERH9P1VVVVVVVf0\\u002fmZmZmZmZ\\u002fT\\u002fe3d3d3d39PyIiIiIiIv4\\u002fZmZmZmZm\\u002fj+rqqqqqqr+P+\\u002fu7u7u7v4\\u002fMzMzMzMz\\u002fz93d3d3d3f\\u002fP7y7u7u7u\\u002f8\\u002fAAAAAAAAAEA=\"},\"xaxis\":\"x\",\"y\":{\"dtype\":\"f8\",\"bdata\":\"AAAAAAAA8D8AAAAAAADwPwAAAAAAAPA\\u002fAAAAAAAA8D8AAAAAAADwPwAAAAAAAPA\\u002fAAAAAAAA8D8AAAAAAADwPwAAAAAAAPA\\u002fAAAAAAAA8D8AAAAAAADwPwAAAAAAAPA\\u002fAAAAAAAA8D8AAAAAAADwPwAAAAAAAPA\\u002fAAAAAAAA8D8AAAAAAADwPwAAAAAAAPA\\u002fAAAAAAAA8D8AAAAAAADwPwAAAAAAAPA\\u002fAAAAAAAA8D8AAAAAAADwPwAAAAAAAPA\\u002fAAAAAAAA8D8AAAAAAADwPwAAAAAAAPA\\u002fAAAAAAAA8D8AAAAAAADwPwAAAAAAAPA\\u002fAAAAAAAAAEAAAAAAAAAAQAAAAAAAAABAAAAAAAAAAEAAAAAAAAAAQAAAAAAAAABAAAAAAAAAAEAAAAAAAAAAQAAAAAAAAABAAAAAAAAAAEAAAAAAAAAAQAAAAAAAAABAAAAAAAAAAEAAAAAAAAAAQAAAAAAAAABAAAAAAAAAAEAAAAAAAAAAQAAAAAAAAABAAAAAAAAAAEAAAAAAAAAAQAAAAAAAAABAAAAAAAAAAEAAAAAAAAAAQAAAAAAAAABAAAAAAAAAAEAAAAAAAAAAQAAAAAAAAABAAAAAAAAAAEAAAAAAAAAAQAAAAAAAAABAAAAAAAAAAEAAAAAAAADwPwAAAAAAAPA\\u002fAAAAAAAA8D8AAAAAAADwPwAAAAAAAPA\\u002fAAAAAAAA8D8AAAAAAADwPwAAAAAAAPA\\u002fAAAAAAAA8D8AAAAAAADwPwAAAAAAAPA\\u002fAAAAAAAA8D8AAAAAAADwPwAAAAAAAPA\\u002fAAAAAAAA8D8AAAAAAADwPwAAAAAAAPA\\u002fAAAAAAAA8D8AAAAAAADwPwAAAAAAAPA\\u002fAAAAAAAA8D8AAAAAAADwPwAAAAAAAPA\\u002fAAAAAAAA8D8AAAAAAADwPwAAAAAAAPA\\u002fAAAAAAAA8D8AAAAAAADwPwAAAAAAAPA\\u002fAAAAAAAA8D8AAAAAAADwPwAAAAAAAPA\\u002fAAAAAAAA8D8AAAAAAADwPwAAAAAAAPA\\u002fAAAAAAAA8D8AAAAAAADwPwAAAAAAAPA\\u002fAAAAAAAA8D8AAAAAAADwPwAAAAAAAPA\\u002fAAAAAAAA8D8AAAAAAADwPwAAAAAAAPA\\u002fAAAAAAAA8D8AAAAAAADwPwAAAAAAAPA\\u002fAAAAAAAA8D8AAAAAAADwPwAAAAAAAPA\\u002fAAAAAAAA8D8AAAAAAADwPwAAAAAAAPA\\u002fAAAAAAAA8D8AAAAAAADwPwAAAAAAAPA\\u002fAAAAAAAA8D8AAAAAAADwPwAAAAAAAPA\\u002fAAAAAAAA8D8=\"},\"yaxis\":\"y\",\"type\":\"scatter\"}],                        {\"template\":{\"data\":{\"histogram2dcontour\":[{\"type\":\"histogram2dcontour\",\"colorbar\":{\"outlinewidth\":0,\"ticks\":\"\"},\"colorscale\":[[0.0,\"#0d0887\"],[0.1111111111111111,\"#46039f\"],[0.2222222222222222,\"#7201a8\"],[0.3333333333333333,\"#9c179e\"],[0.4444444444444444,\"#bd3786\"],[0.5555555555555556,\"#d8576b\"],[0.6666666666666666,\"#ed7953\"],[0.7777777777777778,\"#fb9f3a\"],[0.8888888888888888,\"#fdca26\"],[1.0,\"#f0f921\"]]}],\"choropleth\":[{\"type\":\"choropleth\",\"colorbar\":{\"outlinewidth\":0,\"ticks\":\"\"}}],\"histogram2d\":[{\"type\":\"histogram2d\",\"colorbar\":{\"outlinewidth\":0,\"ticks\":\"\"},\"colorscale\":[[0.0,\"#0d0887\"],[0.1111111111111111,\"#46039f\"],[0.2222222222222222,\"#7201a8\"],[0.3333333333333333,\"#9c179e\"],[0.4444444444444444,\"#bd3786\"],[0.5555555555555556,\"#d8576b\"],[0.6666666666666666,\"#ed7953\"],[0.7777777777777778,\"#fb9f3a\"],[0.8888888888888888,\"#fdca26\"],[1.0,\"#f0f921\"]]}],\"heatmap\":[{\"type\":\"heatmap\",\"colorbar\":{\"outlinewidth\":0,\"ticks\":\"\"},\"colorscale\":[[0.0,\"#0d0887\"],[0.1111111111111111,\"#46039f\"],[0.2222222222222222,\"#7201a8\"],[0.3333333333333333,\"#9c179e\"],[0.4444444444444444,\"#bd3786\"],[0.5555555555555556,\"#d8576b\"],[0.6666666666666666,\"#ed7953\"],[0.7777777777777778,\"#fb9f3a\"],[0.8888888888888888,\"#fdca26\"],[1.0,\"#f0f921\"]]}],\"contourcarpet\":[{\"type\":\"contourcarpet\",\"colorbar\":{\"outlinewidth\":0,\"ticks\":\"\"}}],\"contour\":[{\"type\":\"contour\",\"colorbar\":{\"outlinewidth\":0,\"ticks\":\"\"},\"colorscale\":[[0.0,\"#0d0887\"],[0.1111111111111111,\"#46039f\"],[0.2222222222222222,\"#7201a8\"],[0.3333333333333333,\"#9c179e\"],[0.4444444444444444,\"#bd3786\"],[0.5555555555555556,\"#d8576b\"],[0.6666666666666666,\"#ed7953\"],[0.7777777777777778,\"#fb9f3a\"],[0.8888888888888888,\"#fdca26\"],[1.0,\"#f0f921\"]]}],\"surface\":[{\"type\":\"surface\",\"colorbar\":{\"outlinewidth\":0,\"ticks\":\"\"},\"colorscale\":[[0.0,\"#0d0887\"],[0.1111111111111111,\"#46039f\"],[0.2222222222222222,\"#7201a8\"],[0.3333333333333333,\"#9c179e\"],[0.4444444444444444,\"#bd3786\"],[0.5555555555555556,\"#d8576b\"],[0.6666666666666666,\"#ed7953\"],[0.7777777777777778,\"#fb9f3a\"],[0.8888888888888888,\"#fdca26\"],[1.0,\"#f0f921\"]]}],\"mesh3d\":[{\"type\":\"mesh3d\",\"colorbar\":{\"outlinewidth\":0,\"ticks\":\"\"}}],\"scatter\":[{\"fillpattern\":{\"fillmode\":\"overlay\",\"size\":10,\"solidity\":0.2},\"type\":\"scatter\"}],\"parcoords\":[{\"type\":\"parcoords\",\"line\":{\"colorbar\":{\"outlinewidth\":0,\"ticks\":\"\"}}}],\"scatterpolargl\":[{\"type\":\"scatterpolargl\",\"marker\":{\"colorbar\":{\"outlinewidth\":0,\"ticks\":\"\"}}}],\"bar\":[{\"error_x\":{\"color\":\"#2a3f5f\"},\"error_y\":{\"color\":\"#2a3f5f\"},\"marker\":{\"line\":{\"color\":\"#E5ECF6\",\"width\":0.5},\"pattern\":{\"fillmode\":\"overlay\",\"size\":10,\"solidity\":0.2}},\"type\":\"bar\"}],\"scattergeo\":[{\"type\":\"scattergeo\",\"marker\":{\"colorbar\":{\"outlinewidth\":0,\"ticks\":\"\"}}}],\"scatterpolar\":[{\"type\":\"scatterpolar\",\"marker\":{\"colorbar\":{\"outlinewidth\":0,\"ticks\":\"\"}}}],\"histogram\":[{\"marker\":{\"pattern\":{\"fillmode\":\"overlay\",\"size\":10,\"solidity\":0.2}},\"type\":\"histogram\"}],\"scattergl\":[{\"type\":\"scattergl\",\"marker\":{\"colorbar\":{\"outlinewidth\":0,\"ticks\":\"\"}}}],\"scatter3d\":[{\"type\":\"scatter3d\",\"line\":{\"colorbar\":{\"outlinewidth\":0,\"ticks\":\"\"}},\"marker\":{\"colorbar\":{\"outlinewidth\":0,\"ticks\":\"\"}}}],\"scattermap\":[{\"type\":\"scattermap\",\"marker\":{\"colorbar\":{\"outlinewidth\":0,\"ticks\":\"\"}}}],\"scattermapbox\":[{\"type\":\"scattermapbox\",\"marker\":{\"colorbar\":{\"outlinewidth\":0,\"ticks\":\"\"}}}],\"scatterternary\":[{\"type\":\"scatterternary\",\"marker\":{\"colorbar\":{\"outlinewidth\":0,\"ticks\":\"\"}}}],\"scattercarpet\":[{\"type\":\"scattercarpet\",\"marker\":{\"colorbar\":{\"outlinewidth\":0,\"ticks\":\"\"}}}],\"carpet\":[{\"aaxis\":{\"endlinecolor\":\"#2a3f5f\",\"gridcolor\":\"white\",\"linecolor\":\"white\",\"minorgridcolor\":\"white\",\"startlinecolor\":\"#2a3f5f\"},\"baxis\":{\"endlinecolor\":\"#2a3f5f\",\"gridcolor\":\"white\",\"linecolor\":\"white\",\"minorgridcolor\":\"white\",\"startlinecolor\":\"#2a3f5f\"},\"type\":\"carpet\"}],\"table\":[{\"cells\":{\"fill\":{\"color\":\"#EBF0F8\"},\"line\":{\"color\":\"white\"}},\"header\":{\"fill\":{\"color\":\"#C8D4E3\"},\"line\":{\"color\":\"white\"}},\"type\":\"table\"}],\"barpolar\":[{\"marker\":{\"line\":{\"color\":\"#E5ECF6\",\"width\":0.5},\"pattern\":{\"fillmode\":\"overlay\",\"size\":10,\"solidity\":0.2}},\"type\":\"barpolar\"}],\"pie\":[{\"automargin\":true,\"type\":\"pie\"}]},\"layout\":{\"autotypenumbers\":\"strict\",\"colorway\":[\"#636efa\",\"#EF553B\",\"#00cc96\",\"#ab63fa\",\"#FFA15A\",\"#19d3f3\",\"#FF6692\",\"#B6E880\",\"#FF97FF\",\"#FECB52\"],\"font\":{\"color\":\"#2a3f5f\"},\"hovermode\":\"closest\",\"hoverlabel\":{\"align\":\"left\"},\"paper_bgcolor\":\"white\",\"plot_bgcolor\":\"#E5ECF6\",\"polar\":{\"bgcolor\":\"#E5ECF6\",\"angularaxis\":{\"gridcolor\":\"white\",\"linecolor\":\"white\",\"ticks\":\"\"},\"radialaxis\":{\"gridcolor\":\"white\",\"linecolor\":\"white\",\"ticks\":\"\"}},\"ternary\":{\"bgcolor\":\"#E5ECF6\",\"aaxis\":{\"gridcolor\":\"white\",\"linecolor\":\"white\",\"ticks\":\"\"},\"baxis\":{\"gridcolor\":\"white\",\"linecolor\":\"white\",\"ticks\":\"\"},\"caxis\":{\"gridcolor\":\"white\",\"linecolor\":\"white\",\"ticks\":\"\"}},\"coloraxis\":{\"colorbar\":{\"outlinewidth\":0,\"ticks\":\"\"}},\"colorscale\":{\"sequential\":[[0.0,\"#0d0887\"],[0.1111111111111111,\"#46039f\"],[0.2222222222222222,\"#7201a8\"],[0.3333333333333333,\"#9c179e\"],[0.4444444444444444,\"#bd3786\"],[0.5555555555555556,\"#d8576b\"],[0.6666666666666666,\"#ed7953\"],[0.7777777777777778,\"#fb9f3a\"],[0.8888888888888888,\"#fdca26\"],[1.0,\"#f0f921\"]],\"sequentialminus\":[[0.0,\"#0d0887\"],[0.1111111111111111,\"#46039f\"],[0.2222222222222222,\"#7201a8\"],[0.3333333333333333,\"#9c179e\"],[0.4444444444444444,\"#bd3786\"],[0.5555555555555556,\"#d8576b\"],[0.6666666666666666,\"#ed7953\"],[0.7777777777777778,\"#fb9f3a\"],[0.8888888888888888,\"#fdca26\"],[1.0,\"#f0f921\"]],\"diverging\":[[0,\"#8e0152\"],[0.1,\"#c51b7d\"],[0.2,\"#de77ae\"],[0.3,\"#f1b6da\"],[0.4,\"#fde0ef\"],[0.5,\"#f7f7f7\"],[0.6,\"#e6f5d0\"],[0.7,\"#b8e186\"],[0.8,\"#7fbc41\"],[0.9,\"#4d9221\"],[1,\"#276419\"]]},\"xaxis\":{\"gridcolor\":\"white\",\"linecolor\":\"white\",\"ticks\":\"\",\"title\":{\"standoff\":15},\"zerolinecolor\":\"white\",\"automargin\":true,\"zerolinewidth\":2},\"yaxis\":{\"gridcolor\":\"white\",\"linecolor\":\"white\",\"ticks\":\"\",\"title\":{\"standoff\":15},\"zerolinecolor\":\"white\",\"automargin\":true,\"zerolinewidth\":2},\"scene\":{\"xaxis\":{\"backgroundcolor\":\"#E5ECF6\",\"gridcolor\":\"white\",\"linecolor\":\"white\",\"showbackground\":true,\"ticks\":\"\",\"zerolinecolor\":\"white\",\"gridwidth\":2},\"yaxis\":{\"backgroundcolor\":\"#E5ECF6\",\"gridcolor\":\"white\",\"linecolor\":\"white\",\"showbackground\":true,\"ticks\":\"\",\"zerolinecolor\":\"white\",\"gridwidth\":2},\"zaxis\":{\"backgroundcolor\":\"#E5ECF6\",\"gridcolor\":\"white\",\"linecolor\":\"white\",\"showbackground\":true,\"ticks\":\"\",\"zerolinecolor\":\"white\",\"gridwidth\":2}},\"shapedefaults\":{\"line\":{\"color\":\"#2a3f5f\"}},\"annotationdefaults\":{\"arrowcolor\":\"#2a3f5f\",\"arrowhead\":0,\"arrowwidth\":1},\"geo\":{\"bgcolor\":\"white\",\"landcolor\":\"#E5ECF6\",\"subunitcolor\":\"white\",\"showland\":true,\"showlakes\":true,\"lakecolor\":\"white\"},\"title\":{\"x\":0.05},\"mapbox\":{\"style\":\"light\"}}},\"xaxis\":{\"anchor\":\"y\",\"domain\":[0.0,1.0],\"title\":{\"text\":\"x\"}},\"yaxis\":{\"anchor\":\"x\",\"domain\":[0.0,1.0],\"title\":{\"text\":\"value\"}},\"legend\":{\"tracegroupgap\":0},\"margin\":{\"t\":60},\"updatemenus\":[{\"buttons\":[{\"args\":[null,{\"frame\":{\"duration\":100,\"redraw\":false},\"mode\":\"immediate\",\"fromcurrent\":true,\"transition\":{\"duration\":0,\"easing\":\"linear\"}}],\"label\":\"&#9654;\",\"method\":\"animate\"},{\"args\":[[null],{\"frame\":{\"duration\":0,\"redraw\":false},\"mode\":\"immediate\",\"fromcurrent\":true,\"transition\":{\"duration\":0,\"easing\":\"linear\"}}],\"label\":\"&#9724;\",\"method\":\"animate\"}],\"direction\":\"left\",\"pad\":{\"r\":10,\"t\":70},\"showactive\":false,\"type\":\"buttons\",\"x\":0.1,\"xanchor\":\"right\",\"y\":0,\"yanchor\":\"top\"}],\"sliders\":[{\"active\":0,\"currentvalue\":{\"prefix\":\"variable=\"},\"len\":0.9,\"pad\":{\"b\":10,\"t\":60},\"steps\":[{\"args\":[[\"0\"],{\"frame\":{\"duration\":0,\"redraw\":false},\"mode\":\"immediate\",\"fromcurrent\":true,\"transition\":{\"duration\":0,\"easing\":\"linear\"}}],\"label\":\"0\",\"method\":\"animate\"},{\"args\":[[\"1\"],{\"frame\":{\"duration\":0,\"redraw\":false},\"mode\":\"immediate\",\"fromcurrent\":true,\"transition\":{\"duration\":0,\"easing\":\"linear\"}}],\"label\":\"1\",\"method\":\"animate\"},{\"args\":[[\"2\"],{\"frame\":{\"duration\":0,\"redraw\":false},\"mode\":\"immediate\",\"fromcurrent\":true,\"transition\":{\"duration\":0,\"easing\":\"linear\"}}],\"label\":\"2\",\"method\":\"animate\"},{\"args\":[[\"3\"],{\"frame\":{\"duration\":0,\"redraw\":false},\"mode\":\"immediate\",\"fromcurrent\":true,\"transition\":{\"duration\":0,\"easing\":\"linear\"}}],\"label\":\"3\",\"method\":\"animate\"},{\"args\":[[\"4\"],{\"frame\":{\"duration\":0,\"redraw\":false},\"mode\":\"immediate\",\"fromcurrent\":true,\"transition\":{\"duration\":0,\"easing\":\"linear\"}}],\"label\":\"4\",\"method\":\"animate\"},{\"args\":[[\"5\"],{\"frame\":{\"duration\":0,\"redraw\":false},\"mode\":\"immediate\",\"fromcurrent\":true,\"transition\":{\"duration\":0,\"easing\":\"linear\"}}],\"label\":\"5\",\"method\":\"animate\"},{\"args\":[[\"6\"],{\"frame\":{\"duration\":0,\"redraw\":false},\"mode\":\"immediate\",\"fromcurrent\":true,\"transition\":{\"duration\":0,\"easing\":\"linear\"}}],\"label\":\"6\",\"method\":\"animate\"},{\"args\":[[\"7\"],{\"frame\":{\"duration\":0,\"redraw\":false},\"mode\":\"immediate\",\"fromcurrent\":true,\"transition\":{\"duration\":0,\"easing\":\"linear\"}}],\"label\":\"7\",\"method\":\"animate\"},{\"args\":[[\"8\"],{\"frame\":{\"duration\":0,\"redraw\":false},\"mode\":\"immediate\",\"fromcurrent\":true,\"transition\":{\"duration\":0,\"easing\":\"linear\"}}],\"label\":\"8\",\"method\":\"animate\"},{\"args\":[[\"9\"],{\"frame\":{\"duration\":0,\"redraw\":false},\"mode\":\"immediate\",\"fromcurrent\":true,\"transition\":{\"duration\":0,\"easing\":\"linear\"}}],\"label\":\"9\",\"method\":\"animate\"},{\"args\":[[\"10\"],{\"frame\":{\"duration\":0,\"redraw\":false},\"mode\":\"immediate\",\"fromcurrent\":true,\"transition\":{\"duration\":0,\"easing\":\"linear\"}}],\"label\":\"10\",\"method\":\"animate\"},{\"args\":[[\"11\"],{\"frame\":{\"duration\":0,\"redraw\":false},\"mode\":\"immediate\",\"fromcurrent\":true,\"transition\":{\"duration\":0,\"easing\":\"linear\"}}],\"label\":\"11\",\"method\":\"animate\"},{\"args\":[[\"12\"],{\"frame\":{\"duration\":0,\"redraw\":false},\"mode\":\"immediate\",\"fromcurrent\":true,\"transition\":{\"duration\":0,\"easing\":\"linear\"}}],\"label\":\"12\",\"method\":\"animate\"},{\"args\":[[\"13\"],{\"frame\":{\"duration\":0,\"redraw\":false},\"mode\":\"immediate\",\"fromcurrent\":true,\"transition\":{\"duration\":0,\"easing\":\"linear\"}}],\"label\":\"13\",\"method\":\"animate\"},{\"args\":[[\"14\"],{\"frame\":{\"duration\":0,\"redraw\":false},\"mode\":\"immediate\",\"fromcurrent\":true,\"transition\":{\"duration\":0,\"easing\":\"linear\"}}],\"label\":\"14\",\"method\":\"animate\"},{\"args\":[[\"15\"],{\"frame\":{\"duration\":0,\"redraw\":false},\"mode\":\"immediate\",\"fromcurrent\":true,\"transition\":{\"duration\":0,\"easing\":\"linear\"}}],\"label\":\"15\",\"method\":\"animate\"},{\"args\":[[\"16\"],{\"frame\":{\"duration\":0,\"redraw\":false},\"mode\":\"immediate\",\"fromcurrent\":true,\"transition\":{\"duration\":0,\"easing\":\"linear\"}}],\"label\":\"16\",\"method\":\"animate\"},{\"args\":[[\"17\"],{\"frame\":{\"duration\":0,\"redraw\":false},\"mode\":\"immediate\",\"fromcurrent\":true,\"transition\":{\"duration\":0,\"easing\":\"linear\"}}],\"label\":\"17\",\"method\":\"animate\"},{\"args\":[[\"18\"],{\"frame\":{\"duration\":0,\"redraw\":false},\"mode\":\"immediate\",\"fromcurrent\":true,\"transition\":{\"duration\":0,\"easing\":\"linear\"}}],\"label\":\"18\",\"method\":\"animate\"},{\"args\":[[\"19\"],{\"frame\":{\"duration\":0,\"redraw\":false},\"mode\":\"immediate\",\"fromcurrent\":true,\"transition\":{\"duration\":0,\"easing\":\"linear\"}}],\"label\":\"19\",\"method\":\"animate\"},{\"args\":[[\"20\"],{\"frame\":{\"duration\":0,\"redraw\":false},\"mode\":\"immediate\",\"fromcurrent\":true,\"transition\":{\"duration\":0,\"easing\":\"linear\"}}],\"label\":\"20\",\"method\":\"animate\"},{\"args\":[[\"21\"],{\"frame\":{\"duration\":0,\"redraw\":false},\"mode\":\"immediate\",\"fromcurrent\":true,\"transition\":{\"duration\":0,\"easing\":\"linear\"}}],\"label\":\"21\",\"method\":\"animate\"},{\"args\":[[\"22\"],{\"frame\":{\"duration\":0,\"redraw\":false},\"mode\":\"immediate\",\"fromcurrent\":true,\"transition\":{\"duration\":0,\"easing\":\"linear\"}}],\"label\":\"22\",\"method\":\"animate\"},{\"args\":[[\"23\"],{\"frame\":{\"duration\":0,\"redraw\":false},\"mode\":\"immediate\",\"fromcurrent\":true,\"transition\":{\"duration\":0,\"easing\":\"linear\"}}],\"label\":\"23\",\"method\":\"animate\"},{\"args\":[[\"24\"],{\"frame\":{\"duration\":0,\"redraw\":false},\"mode\":\"immediate\",\"fromcurrent\":true,\"transition\":{\"duration\":0,\"easing\":\"linear\"}}],\"label\":\"24\",\"method\":\"animate\"},{\"args\":[[\"25\"],{\"frame\":{\"duration\":0,\"redraw\":false},\"mode\":\"immediate\",\"fromcurrent\":true,\"transition\":{\"duration\":0,\"easing\":\"linear\"}}],\"label\":\"25\",\"method\":\"animate\"}],\"x\":0.1,\"xanchor\":\"left\",\"y\":0,\"yanchor\":\"top\"}]},                        {\"responsive\": true}                    ).then(function(){\n",
       "                            Plotly.addFrames('c66ff393-6f7d-424f-8991-cc74525858da', [{\"data\":[{\"hovertemplate\":\"variable=0\\u003cbr\\u003ex=%{x}\\u003cbr\\u003evalue=%{y}\\u003cextra\\u003e\\u003c\\u002fextra\\u003e\",\"legendgroup\":\"\",\"line\":{\"color\":\"#636efa\",\"dash\":\"solid\"},\"marker\":{\"symbol\":\"circle\"},\"mode\":\"lines\",\"name\":\"\",\"orientation\":\"v\",\"showlegend\":false,\"x\":{\"dtype\":\"f8\",\"bdata\":\"AAAAAAAAAAARERERERGRPxEREREREaE\\u002fmpmZmZmZqT8RERERERGxP1VVVVVVVbU\\u002fmpmZmZmZuT\\u002fe3d3d3d29PxEREREREcE\\u002fMzMzMzMzwz9VVVVVVVXFP3d3d3d3d8c\\u002fmpmZmZmZyT+8u7u7u7vLP97d3d3d3c0\\u002fAAAAAAAA0D8RERERERHRPyIiIiIiItI\\u002fMzMzMzMz0z9ERERERETUP1VVVVVVVdU\\u002fZmZmZmZm1j93d3d3d3fXP4iIiIiIiNg\\u002fmpmZmZmZ2T+rqqqqqqraP7y7u7u7u9s\\u002fzczMzMzM3D\\u002fe3d3d3d3dP+\\u002fu7u7u7t4\\u002fAAAAAAAA4D+IiIiIiIjgPxEREREREeE\\u002fmpmZmZmZ4T8iIiIiIiLiP6uqqqqqquI\\u002fMzMzMzMz4z+8u7u7u7vjP0REREREROQ\\u002fzczMzMzM5D9VVVVVVVXlP97d3d3d3eU\\u002fZmZmZmZm5j\\u002fv7u7u7u7mP3d3d3d3d+c\\u002fAAAAAAAA6D+IiIiIiIjoPxEREREREek\\u002fmpmZmZmZ6T8iIiIiIiLqP6uqqqqqquo\\u002fMzMzMzMz6z+8u7u7u7vrP0REREREROw\\u002fzczMzMzM7D9VVVVVVVXtP97d3d3d3e0\\u002fZmZmZmZm7j\\u002fv7u7u7u7uP3d3d3d3d+8\\u002fAAAAAAAA8D9ERERERETwP4iIiIiIiPA\\u002fzczMzMzM8D8RERERERHxP1VVVVVVVfE\\u002fmpmZmZmZ8T\\u002fe3d3d3d3xPyIiIiIiIvI\\u002fZmZmZmZm8j+rqqqqqqryP+\\u002fu7u7u7vI\\u002fMzMzMzMz8z93d3d3d3fzP7y7u7u7u\\u002fM\\u002fAAAAAAAA9D9ERERERET0P4iIiIiIiPQ\\u002fzczMzMzM9D8RERERERH1P1VVVVVVVfU\\u002fmpmZmZmZ9T\\u002fe3d3d3d31PyIiIiIiIvY\\u002fZmZmZmZm9j+rqqqqqqr2P+\\u002fu7u7u7vY\\u002fMzMzMzMz9z93d3d3d3f3P7y7u7u7u\\u002fc\\u002fAAAAAAAA+D9ERERERET4P4iIiIiIiPg\\u002fzczMzMzM+D8RERERERH5P1VVVVVVVfk\\u002fmpmZmZmZ+T\\u002fe3d3d3d35PyIiIiIiIvo\\u002fZmZmZmZm+j+rqqqqqqr6P+\\u002fu7u7u7vo\\u002fMzMzMzMz+z93d3d3d3f7P7y7u7u7u\\u002fs\\u002fAAAAAAAA\\u002fD9ERERERET8P4iIiIiIiPw\\u002fzczMzMzM\\u002fD8RERERERH9P1VVVVVVVf0\\u002fmZmZmZmZ\\u002fT\\u002fe3d3d3d39PyIiIiIiIv4\\u002fZmZmZmZm\\u002fj+rqqqqqqr+P+\\u002fu7u7u7v4\\u002fMzMzMzMz\\u002fz93d3d3d3f\\u002fP7y7u7u7u\\u002f8\\u002fAAAAAAAAAEA=\"},\"xaxis\":\"x\",\"y\":{\"dtype\":\"f8\",\"bdata\":\"AAAAAAAA8D8AAAAAAADwPwAAAAAAAPA\\u002fAAAAAAAA8D8AAAAAAADwPwAAAAAAAPA\\u002fAAAAAAAA8D8AAAAAAADwPwAAAAAAAPA\\u002fAAAAAAAA8D8AAAAAAADwPwAAAAAAAPA\\u002fAAAAAAAA8D8AAAAAAADwPwAAAAAAAPA\\u002fAAAAAAAA8D8AAAAAAADwPwAAAAAAAPA\\u002fAAAAAAAA8D8AAAAAAADwPwAAAAAAAPA\\u002fAAAAAAAA8D8AAAAAAADwPwAAAAAAAPA\\u002fAAAAAAAA8D8AAAAAAADwPwAAAAAAAPA\\u002fAAAAAAAA8D8AAAAAAADwPwAAAAAAAPA\\u002fAAAAAAAAAEAAAAAAAAAAQAAAAAAAAABAAAAAAAAAAEAAAAAAAAAAQAAAAAAAAABAAAAAAAAAAEAAAAAAAAAAQAAAAAAAAABAAAAAAAAAAEAAAAAAAAAAQAAAAAAAAABAAAAAAAAAAEAAAAAAAAAAQAAAAAAAAABAAAAAAAAAAEAAAAAAAAAAQAAAAAAAAABAAAAAAAAAAEAAAAAAAAAAQAAAAAAAAABAAAAAAAAAAEAAAAAAAAAAQAAAAAAAAABAAAAAAAAAAEAAAAAAAAAAQAAAAAAAAABAAAAAAAAAAEAAAAAAAAAAQAAAAAAAAABAAAAAAAAAAEAAAAAAAADwPwAAAAAAAPA\\u002fAAAAAAAA8D8AAAAAAADwPwAAAAAAAPA\\u002fAAAAAAAA8D8AAAAAAADwPwAAAAAAAPA\\u002fAAAAAAAA8D8AAAAAAADwPwAAAAAAAPA\\u002fAAAAAAAA8D8AAAAAAADwPwAAAAAAAPA\\u002fAAAAAAAA8D8AAAAAAADwPwAAAAAAAPA\\u002fAAAAAAAA8D8AAAAAAADwPwAAAAAAAPA\\u002fAAAAAAAA8D8AAAAAAADwPwAAAAAAAPA\\u002fAAAAAAAA8D8AAAAAAADwPwAAAAAAAPA\\u002fAAAAAAAA8D8AAAAAAADwPwAAAAAAAPA\\u002fAAAAAAAA8D8AAAAAAADwPwAAAAAAAPA\\u002fAAAAAAAA8D8AAAAAAADwPwAAAAAAAPA\\u002fAAAAAAAA8D8AAAAAAADwPwAAAAAAAPA\\u002fAAAAAAAA8D8AAAAAAADwPwAAAAAAAPA\\u002fAAAAAAAA8D8AAAAAAADwPwAAAAAAAPA\\u002fAAAAAAAA8D8AAAAAAADwPwAAAAAAAPA\\u002fAAAAAAAA8D8AAAAAAADwPwAAAAAAAPA\\u002fAAAAAAAA8D8AAAAAAADwPwAAAAAAAPA\\u002fAAAAAAAA8D8AAAAAAADwPwAAAAAAAPA\\u002fAAAAAAAA8D8AAAAAAADwPwAAAAAAAPA\\u002fAAAAAAAA8D8=\"},\"yaxis\":\"y\",\"type\":\"scatter\"}],\"name\":\"0\"},{\"data\":[{\"hovertemplate\":\"variable=1\\u003cbr\\u003ex=%{x}\\u003cbr\\u003evalue=%{y}\\u003cextra\\u003e\\u003c\\u002fextra\\u003e\",\"legendgroup\":\"\",\"line\":{\"color\":\"#636efa\",\"dash\":\"solid\"},\"marker\":{\"symbol\":\"circle\"},\"mode\":\"lines\",\"name\":\"\",\"orientation\":\"v\",\"showlegend\":false,\"x\":{\"dtype\":\"f8\",\"bdata\":\"AAAAAAAAAAARERERERGRPxEREREREaE\\u002fmpmZmZmZqT8RERERERGxP1VVVVVVVbU\\u002fmpmZmZmZuT\\u002fe3d3d3d29PxEREREREcE\\u002fMzMzMzMzwz9VVVVVVVXFP3d3d3d3d8c\\u002fmpmZmZmZyT+8u7u7u7vLP97d3d3d3c0\\u002fAAAAAAAA0D8RERERERHRPyIiIiIiItI\\u002fMzMzMzMz0z9ERERERETUP1VVVVVVVdU\\u002fZmZmZmZm1j93d3d3d3fXP4iIiIiIiNg\\u002fmpmZmZmZ2T+rqqqqqqraP7y7u7u7u9s\\u002fzczMzMzM3D\\u002fe3d3d3d3dP+\\u002fu7u7u7t4\\u002fAAAAAAAA4D+IiIiIiIjgPxEREREREeE\\u002fmpmZmZmZ4T8iIiIiIiLiP6uqqqqqquI\\u002fMzMzMzMz4z+8u7u7u7vjP0REREREROQ\\u002fzczMzMzM5D9VVVVVVVXlP97d3d3d3eU\\u002fZmZmZmZm5j\\u002fv7u7u7u7mP3d3d3d3d+c\\u002fAAAAAAAA6D+IiIiIiIjoPxEREREREek\\u002fmpmZmZmZ6T8iIiIiIiLqP6uqqqqqquo\\u002fMzMzMzMz6z+8u7u7u7vrP0REREREROw\\u002fzczMzMzM7D9VVVVVVVXtP97d3d3d3e0\\u002fZmZmZmZm7j\\u002fv7u7u7u7uP3d3d3d3d+8\\u002fAAAAAAAA8D9ERERERETwP4iIiIiIiPA\\u002fzczMzMzM8D8RERERERHxP1VVVVVVVfE\\u002fmpmZmZmZ8T\\u002fe3d3d3d3xPyIiIiIiIvI\\u002fZmZmZmZm8j+rqqqqqqryP+\\u002fu7u7u7vI\\u002fMzMzMzMz8z93d3d3d3fzP7y7u7u7u\\u002fM\\u002fAAAAAAAA9D9ERERERET0P4iIiIiIiPQ\\u002fzczMzMzM9D8RERERERH1P1VVVVVVVfU\\u002fmpmZmZmZ9T\\u002fe3d3d3d31PyIiIiIiIvY\\u002fZmZmZmZm9j+rqqqqqqr2P+\\u002fu7u7u7vY\\u002fMzMzMzMz9z93d3d3d3f3P7y7u7u7u\\u002fc\\u002fAAAAAAAA+D9ERERERET4P4iIiIiIiPg\\u002fzczMzMzM+D8RERERERH5P1VVVVVVVfk\\u002fmpmZmZmZ+T\\u002fe3d3d3d35PyIiIiIiIvo\\u002fZmZmZmZm+j+rqqqqqqr6P+\\u002fu7u7u7vo\\u002fMzMzMzMz+z93d3d3d3f7P7y7u7u7u\\u002fs\\u002fAAAAAAAA\\u002fD9ERERERET8P4iIiIiIiPw\\u002fzczMzMzM\\u002fD8RERERERH9P1VVVVVVVf0\\u002fmZmZmZmZ\\u002fT\\u002fe3d3d3d39PyIiIiIiIv4\\u002fZmZmZmZm\\u002fj+rqqqqqqr+P+\\u002fu7u7u7v4\\u002fMzMzMzMz\\u002fz93d3d3d3f\\u002fP7y7u7u7u\\u002f8\\u002fAAAAAAAAAEA=\"},\"xaxis\":\"x\",\"y\":{\"dtype\":\"f8\",\"bdata\":\"AAAAAAAA8D8AAAAAAADwPwAAAAAAAPA\\u002fAAAAAAAA8D8AAAAAAADwPwAAAAAAAPA\\u002fAAAAAAAA8D8AAAAAAADwPwAAAAAAAPA\\u002fAAAAAAAA8D8AAAAAAADwPwAAAAAAAPA\\u002fAAAAAAAA8D8AAAAAAADwPwAAAAAAAPA\\u002fAAAAAAAA8D8AAAAAAADwPwAAAAAAAPA\\u002fAAAAAAAA8D8AAAAAAADwPwAAAAAAAPA\\u002fAAAAAAAA8D8AAAAAAADwPwAAAAAAAPA\\u002fAAAAAAAA8D8AAAAAAADwPwAAAAAAAPA\\u002fAAAAAAAA8D8AAAAAAADwPwAAAAAAAPA\\u002fAAAAAAAA4D8AAAAAAAAAQAAAAAAAAABAAAAAAAAAAEAAAAAAAAAAQAAAAAAAAABAAAAAAAAAAEAAAAAAAAAAQAAAAAAAAABAAAAAAAAAAEAAAAAAAAAAQAAAAAAAAABAAAAAAAAAAEAAAAAAAAAAQAAAAAAAAABAAAAAAAAAAEAAAAAAAAAAQAAAAAAAAABAAAAAAAAAAEAAAAAAAAAAQAAAAAAAAABAAAAAAAAAAEAAAAAAAAAAQAAAAAAAAABAAAAAAAAAAEAAAAAAAAAAQAAAAAAAAABAAAAAAAAAAEAAAAAAAAAAQAAAAAAAAABAAAAAAAAAAEAAAAAAAAAEQAAAAAAAAPA\\u002fAAAAAAAA8D8AAAAAAADwPwAAAAAAAPA\\u002fAAAAAAAA8D8AAAAAAADwPwAAAAAAAPA\\u002fAAAAAAAA8D8AAAAAAADwPwAAAAAAAPA\\u002fAAAAAAAA8D8AAAAAAADwPwAAAAAAAPA\\u002fAAAAAAAA8D8AAAAAAADwPwAAAAAAAPA\\u002fAAAAAAAA8D8AAAAAAADwPwAAAAAAAPA\\u002fAAAAAAAA8D8AAAAAAADwPwAAAAAAAPA\\u002fAAAAAAAA8D8AAAAAAADwPwAAAAAAAPA\\u002fAAAAAAAA8D8AAAAAAADwPwAAAAAAAPA\\u002fAAAAAAAA8D8AAAAAAADwPwAAAAAAAPA\\u002fAAAAAAAA8D8AAAAAAADwPwAAAAAAAPA\\u002fAAAAAAAA8D8AAAAAAADwPwAAAAAAAPA\\u002fAAAAAAAA8D8AAAAAAADwPwAAAAAAAPA\\u002fAAAAAAAA8D8AAAAAAADwPwAAAAAAAPA\\u002fAAAAAAAA8D8AAAAAAADwPwAAAAAAAPA\\u002fAAAAAAAA8D8AAAAAAADwPwAAAAAAAPA\\u002fAAAAAAAA8D8AAAAAAADwPwAAAAAAAPA\\u002fAAAAAAAA8D8AAAAAAADwPwAAAAAAAPA\\u002fAAAAAAAA8D8AAAAAAADwPwAAAAAAAPA\\u002fAAAAAAAA8D8=\"},\"yaxis\":\"y\",\"type\":\"scatter\"}],\"name\":\"1\"},{\"data\":[{\"hovertemplate\":\"variable=2\\u003cbr\\u003ex=%{x}\\u003cbr\\u003evalue=%{y}\\u003cextra\\u003e\\u003c\\u002fextra\\u003e\",\"legendgroup\":\"\",\"line\":{\"color\":\"#636efa\",\"dash\":\"solid\"},\"marker\":{\"symbol\":\"circle\"},\"mode\":\"lines\",\"name\":\"\",\"orientation\":\"v\",\"showlegend\":false,\"x\":{\"dtype\":\"f8\",\"bdata\":\"AAAAAAAAAAARERERERGRPxEREREREaE\\u002fmpmZmZmZqT8RERERERGxP1VVVVVVVbU\\u002fmpmZmZmZuT\\u002fe3d3d3d29PxEREREREcE\\u002fMzMzMzMzwz9VVVVVVVXFP3d3d3d3d8c\\u002fmpmZmZmZyT+8u7u7u7vLP97d3d3d3c0\\u002fAAAAAAAA0D8RERERERHRPyIiIiIiItI\\u002fMzMzMzMz0z9ERERERETUP1VVVVVVVdU\\u002fZmZmZmZm1j93d3d3d3fXP4iIiIiIiNg\\u002fmpmZmZmZ2T+rqqqqqqraP7y7u7u7u9s\\u002fzczMzMzM3D\\u002fe3d3d3d3dP+\\u002fu7u7u7t4\\u002fAAAAAAAA4D+IiIiIiIjgPxEREREREeE\\u002fmpmZmZmZ4T8iIiIiIiLiP6uqqqqqquI\\u002fMzMzMzMz4z+8u7u7u7vjP0REREREROQ\\u002fzczMzMzM5D9VVVVVVVXlP97d3d3d3eU\\u002fZmZmZmZm5j\\u002fv7u7u7u7mP3d3d3d3d+c\\u002fAAAAAAAA6D+IiIiIiIjoPxEREREREek\\u002fmpmZmZmZ6T8iIiIiIiLqP6uqqqqqquo\\u002fMzMzMzMz6z+8u7u7u7vrP0REREREROw\\u002fzczMzMzM7D9VVVVVVVXtP97d3d3d3e0\\u002fZmZmZmZm7j\\u002fv7u7u7u7uP3d3d3d3d+8\\u002fAAAAAAAA8D9ERERERETwP4iIiIiIiPA\\u002fzczMzMzM8D8RERERERHxP1VVVVVVVfE\\u002fmpmZmZmZ8T\\u002fe3d3d3d3xPyIiIiIiIvI\\u002fZmZmZmZm8j+rqqqqqqryP+\\u002fu7u7u7vI\\u002fMzMzMzMz8z93d3d3d3fzP7y7u7u7u\\u002fM\\u002fAAAAAAAA9D9ERERERET0P4iIiIiIiPQ\\u002fzczMzMzM9D8RERERERH1P1VVVVVVVfU\\u002fmpmZmZmZ9T\\u002fe3d3d3d31PyIiIiIiIvY\\u002fZmZmZmZm9j+rqqqqqqr2P+\\u002fu7u7u7vY\\u002fMzMzMzMz9z93d3d3d3f3P7y7u7u7u\\u002fc\\u002fAAAAAAAA+D9ERERERET4P4iIiIiIiPg\\u002fzczMzMzM+D8RERERERH5P1VVVVVVVfk\\u002fmpmZmZmZ+T\\u002fe3d3d3d35PyIiIiIiIvo\\u002fZmZmZmZm+j+rqqqqqqr6P+\\u002fu7u7u7vo\\u002fMzMzMzMz+z93d3d3d3f7P7y7u7u7u\\u002fs\\u002fAAAAAAAA\\u002fD9ERERERET8P4iIiIiIiPw\\u002fzczMzMzM\\u002fD8RERERERH9P1VVVVVVVf0\\u002fmZmZmZmZ\\u002fT\\u002fe3d3d3d39PyIiIiIiIv4\\u002fZmZmZmZm\\u002fj+rqqqqqqr+P+\\u002fu7u7u7v4\\u002fMzMzMzMz\\u002fz93d3d3d3f\\u002fP7y7u7u7u\\u002f8\\u002fAAAAAAAAAEA=\"},\"xaxis\":\"x\",\"y\":{\"dtype\":\"f8\",\"bdata\":\"AAAAAAAA8D8AAAAAAADwPwAAAAAAAPA\\u002fAAAAAAAA8D8AAAAAAADwPwAAAAAAAPA\\u002fAAAAAAAA8D8AAAAAAADwPwAAAAAAAPA\\u002fAAAAAAAA8D8AAAAAAADwPwAAAAAAAPA\\u002fAAAAAAAA8D8AAAAAAADwPwAAAAAAAPA\\u002fAAAAAAAA8D8AAAAAAADwPwAAAAAAAPA\\u002fAAAAAAAA8D8AAAAAAADwPwAAAAAAAPA\\u002fAAAAAAAA8D8AAAAAAADwPwAAAAAAAPA\\u002fAAAAAAAA8D8AAAAAAADwPwAAAAAAAPA\\u002fAAAAAAAA8D8AAAAAAADwPwAAAAAAAPA\\u002fAAAAAAAA9D8AAAAAAADQvwAAAAAAAABAAAAAAAAAAEAAAAAAAAAAQAAAAAAAAABAAAAAAAAAAEAAAAAAAAAAQAAAAAAAAABAAAAAAAAAAEAAAAAAAAAAQAAAAAAAAABAAAAAAAAAAEAAAAAAAAAAQAAAAAAAAABAAAAAAAAAAEAAAAAAAAAAQAAAAAAAAABAAAAAAAAAAEAAAAAAAAAAQAAAAAAAAABAAAAAAAAAAEAAAAAAAAAAQAAAAAAAAABAAAAAAAAAAEAAAAAAAAAAQAAAAAAAAABAAAAAAAAAAEAAAAAAAAAAQAAAAAAAAABAAAAAAAAAAEAAAAAAAAD8PwAAAAAAAApAAAAAAAAA8D8AAAAAAADwPwAAAAAAAPA\\u002fAAAAAAAA8D8AAAAAAADwPwAAAAAAAPA\\u002fAAAAAAAA8D8AAAAAAADwPwAAAAAAAPA\\u002fAAAAAAAA8D8AAAAAAADwPwAAAAAAAPA\\u002fAAAAAAAA8D8AAAAAAADwPwAAAAAAAPA\\u002fAAAAAAAA8D8AAAAAAADwPwAAAAAAAPA\\u002fAAAAAAAA8D8AAAAAAADwPwAAAAAAAPA\\u002fAAAAAAAA8D8AAAAAAADwPwAAAAAAAPA\\u002fAAAAAAAA8D8AAAAAAADwPwAAAAAAAPA\\u002fAAAAAAAA8D8AAAAAAADwPwAAAAAAAPA\\u002fAAAAAAAA8D8AAAAAAADwPwAAAAAAAPA\\u002fAAAAAAAA8D8AAAAAAADwPwAAAAAAAPA\\u002fAAAAAAAA8D8AAAAAAADwPwAAAAAAAPA\\u002fAAAAAAAA8D8AAAAAAADwPwAAAAAAAPA\\u002fAAAAAAAA8D8AAAAAAADwPwAAAAAAAPA\\u002fAAAAAAAA8D8AAAAAAADwPwAAAAAAAPA\\u002fAAAAAAAA8D8AAAAAAADwPwAAAAAAAPA\\u002fAAAAAAAA8D8AAAAAAADwPwAAAAAAAPA\\u002fAAAAAAAA8D8AAAAAAADwPwAAAAAAAPA\\u002fAAAAAAAA8D8=\"},\"yaxis\":\"y\",\"type\":\"scatter\"}],\"name\":\"2\"},{\"data\":[{\"hovertemplate\":\"variable=3\\u003cbr\\u003ex=%{x}\\u003cbr\\u003evalue=%{y}\\u003cextra\\u003e\\u003c\\u002fextra\\u003e\",\"legendgroup\":\"\",\"line\":{\"color\":\"#636efa\",\"dash\":\"solid\"},\"marker\":{\"symbol\":\"circle\"},\"mode\":\"lines\",\"name\":\"\",\"orientation\":\"v\",\"showlegend\":false,\"x\":{\"dtype\":\"f8\",\"bdata\":\"AAAAAAAAAAARERERERGRPxEREREREaE\\u002fmpmZmZmZqT8RERERERGxP1VVVVVVVbU\\u002fmpmZmZmZuT\\u002fe3d3d3d29PxEREREREcE\\u002fMzMzMzMzwz9VVVVVVVXFP3d3d3d3d8c\\u002fmpmZmZmZyT+8u7u7u7vLP97d3d3d3c0\\u002fAAAAAAAA0D8RERERERHRPyIiIiIiItI\\u002fMzMzMzMz0z9ERERERETUP1VVVVVVVdU\\u002fZmZmZmZm1j93d3d3d3fXP4iIiIiIiNg\\u002fmpmZmZmZ2T+rqqqqqqraP7y7u7u7u9s\\u002fzczMzMzM3D\\u002fe3d3d3d3dP+\\u002fu7u7u7t4\\u002fAAAAAAAA4D+IiIiIiIjgPxEREREREeE\\u002fmpmZmZmZ4T8iIiIiIiLiP6uqqqqqquI\\u002fMzMzMzMz4z+8u7u7u7vjP0REREREROQ\\u002fzczMzMzM5D9VVVVVVVXlP97d3d3d3eU\\u002fZmZmZmZm5j\\u002fv7u7u7u7mP3d3d3d3d+c\\u002fAAAAAAAA6D+IiIiIiIjoPxEREREREek\\u002fmpmZmZmZ6T8iIiIiIiLqP6uqqqqqquo\\u002fMzMzMzMz6z+8u7u7u7vrP0REREREROw\\u002fzczMzMzM7D9VVVVVVVXtP97d3d3d3e0\\u002fZmZmZmZm7j\\u002fv7u7u7u7uP3d3d3d3d+8\\u002fAAAAAAAA8D9ERERERETwP4iIiIiIiPA\\u002fzczMzMzM8D8RERERERHxP1VVVVVVVfE\\u002fmpmZmZmZ8T\\u002fe3d3d3d3xPyIiIiIiIvI\\u002fZmZmZmZm8j+rqqqqqqryP+\\u002fu7u7u7vI\\u002fMzMzMzMz8z93d3d3d3fzP7y7u7u7u\\u002fM\\u002fAAAAAAAA9D9ERERERET0P4iIiIiIiPQ\\u002fzczMzMzM9D8RERERERH1P1VVVVVVVfU\\u002fmpmZmZmZ9T\\u002fe3d3d3d31PyIiIiIiIvY\\u002fZmZmZmZm9j+rqqqqqqr2P+\\u002fu7u7u7vY\\u002fMzMzMzMz9z93d3d3d3f3P7y7u7u7u\\u002fc\\u002fAAAAAAAA+D9ERERERET4P4iIiIiIiPg\\u002fzczMzMzM+D8RERERERH5P1VVVVVVVfk\\u002fmpmZmZmZ+T\\u002fe3d3d3d35PyIiIiIiIvo\\u002fZmZmZmZm+j+rqqqqqqr6P+\\u002fu7u7u7vo\\u002fMzMzMzMz+z93d3d3d3f7P7y7u7u7u\\u002fs\\u002fAAAAAAAA\\u002fD9ERERERET8P4iIiIiIiPw\\u002fzczMzMzM\\u002fD8RERERERH9P1VVVVVVVf0\\u002fmZmZmZmZ\\u002fT\\u002fe3d3d3d39PyIiIiIiIv4\\u002fZmZmZmZm\\u002fj+rqqqqqqr+P+\\u002fu7u7u7v4\\u002fMzMzMzMz\\u002fz93d3d3d3f\\u002fP7y7u7u7u\\u002f8\\u002fAAAAAAAAAEA=\"},\"xaxis\":\"x\",\"y\":{\"dtype\":\"f8\",\"bdata\":\"AAAAAAAA8D8AAAAAAADwPwAAAAAAAPA\\u002fAAAAAAAA8D8AAAAAAADwPwAAAAAAAPA\\u002fAAAAAAAA8D8AAAAAAADwPwAAAAAAAPA\\u002fAAAAAAAA8D8AAAAAAADwPwAAAAAAAPA\\u002fAAAAAAAA8D8AAAAAAADwPwAAAAAAAPA\\u002fAAAAAAAA8D8AAAAAAADwPwAAAAAAAPA\\u002fAAAAAAAA8D8AAAAAAADwPwAAAAAAAPA\\u002fAAAAAAAA8D8AAAAAAADwPwAAAAAAAPA\\u002fAAAAAAAA8D8AAAAAAADwPwAAAAAAAPA\\u002fAAAAAAAA8D8AAAAAAADwPwAAAAAAAPA\\u002fAAAAAAAA7D8AAAAAAAAAQAAAAAAAAPa\\u002fAAAAAAAAAEAAAAAAAAAAQAAAAAAAAABAAAAAAAAAAEAAAAAAAAAAQAAAAAAAAABAAAAAAAAAAEAAAAAAAAAAQAAAAAAAAABAAAAAAAAAAEAAAAAAAAAAQAAAAAAAAABAAAAAAAAAAEAAAAAAAAAAQAAAAAAAAABAAAAAAAAAAEAAAAAAAAAAQAAAAAAAAABAAAAAAAAAAEAAAAAAAAAAQAAAAAAAAABAAAAAAAAAAEAAAAAAAAAAQAAAAAAAAABAAAAAAAAAAEAAAAAAAAAAQAAAAAAAAABAAAAAAAAAAEAAAAAAAAABQAAAAAAAAPA\\u002fAAAAAACAEUAAAAAAAADwPwAAAAAAAPA\\u002fAAAAAAAA8D8AAAAAAADwPwAAAAAAAPA\\u002fAAAAAAAA8D8AAAAAAADwPwAAAAAAAPA\\u002fAAAAAAAA8D8AAAAAAADwPwAAAAAAAPA\\u002fAAAAAAAA8D8AAAAAAADwPwAAAAAAAPA\\u002fAAAAAAAA8D8AAAAAAADwPwAAAAAAAPA\\u002fAAAAAAAA8D8AAAAAAADwPwAAAAAAAPA\\u002fAAAAAAAA8D8AAAAAAADwPwAAAAAAAPA\\u002fAAAAAAAA8D8AAAAAAADwPwAAAAAAAPA\\u002fAAAAAAAA8D8AAAAAAADwPwAAAAAAAPA\\u002fAAAAAAAA8D8AAAAAAADwPwAAAAAAAPA\\u002fAAAAAAAA8D8AAAAAAADwPwAAAAAAAPA\\u002fAAAAAAAA8D8AAAAAAADwPwAAAAAAAPA\\u002fAAAAAAAA8D8AAAAAAADwPwAAAAAAAPA\\u002fAAAAAAAA8D8AAAAAAADwPwAAAAAAAPA\\u002fAAAAAAAA8D8AAAAAAADwPwAAAAAAAPA\\u002fAAAAAAAA8D8AAAAAAADwPwAAAAAAAPA\\u002fAAAAAAAA8D8AAAAAAADwPwAAAAAAAPA\\u002fAAAAAAAA8D8AAAAAAADwPwAAAAAAAPA\\u002fAAAAAAAA8D8=\"},\"yaxis\":\"y\",\"type\":\"scatter\"}],\"name\":\"3\"},{\"data\":[{\"hovertemplate\":\"variable=4\\u003cbr\\u003ex=%{x}\\u003cbr\\u003evalue=%{y}\\u003cextra\\u003e\\u003c\\u002fextra\\u003e\",\"legendgroup\":\"\",\"line\":{\"color\":\"#636efa\",\"dash\":\"solid\"},\"marker\":{\"symbol\":\"circle\"},\"mode\":\"lines\",\"name\":\"\",\"orientation\":\"v\",\"showlegend\":false,\"x\":{\"dtype\":\"f8\",\"bdata\":\"AAAAAAAAAAARERERERGRPxEREREREaE\\u002fmpmZmZmZqT8RERERERGxP1VVVVVVVbU\\u002fmpmZmZmZuT\\u002fe3d3d3d29PxEREREREcE\\u002fMzMzMzMzwz9VVVVVVVXFP3d3d3d3d8c\\u002fmpmZmZmZyT+8u7u7u7vLP97d3d3d3c0\\u002fAAAAAAAA0D8RERERERHRPyIiIiIiItI\\u002fMzMzMzMz0z9ERERERETUP1VVVVVVVdU\\u002fZmZmZmZm1j93d3d3d3fXP4iIiIiIiNg\\u002fmpmZmZmZ2T+rqqqqqqraP7y7u7u7u9s\\u002fzczMzMzM3D\\u002fe3d3d3d3dP+\\u002fu7u7u7t4\\u002fAAAAAAAA4D+IiIiIiIjgPxEREREREeE\\u002fmpmZmZmZ4T8iIiIiIiLiP6uqqqqqquI\\u002fMzMzMzMz4z+8u7u7u7vjP0REREREROQ\\u002fzczMzMzM5D9VVVVVVVXlP97d3d3d3eU\\u002fZmZmZmZm5j\\u002fv7u7u7u7mP3d3d3d3d+c\\u002fAAAAAAAA6D+IiIiIiIjoPxEREREREek\\u002fmpmZmZmZ6T8iIiIiIiLqP6uqqqqqquo\\u002fMzMzMzMz6z+8u7u7u7vrP0REREREROw\\u002fzczMzMzM7D9VVVVVVVXtP97d3d3d3e0\\u002fZmZmZmZm7j\\u002fv7u7u7u7uP3d3d3d3d+8\\u002fAAAAAAAA8D9ERERERETwP4iIiIiIiPA\\u002fzczMzMzM8D8RERERERHxP1VVVVVVVfE\\u002fmpmZmZmZ8T\\u002fe3d3d3d3xPyIiIiIiIvI\\u002fZmZmZmZm8j+rqqqqqqryP+\\u002fu7u7u7vI\\u002fMzMzMzMz8z93d3d3d3fzP7y7u7u7u\\u002fM\\u002fAAAAAAAA9D9ERERERET0P4iIiIiIiPQ\\u002fzczMzMzM9D8RERERERH1P1VVVVVVVfU\\u002fmpmZmZmZ9T\\u002fe3d3d3d31PyIiIiIiIvY\\u002fZmZmZmZm9j+rqqqqqqr2P+\\u002fu7u7u7vY\\u002fMzMzMzMz9z93d3d3d3f3P7y7u7u7u\\u002fc\\u002fAAAAAAAA+D9ERERERET4P4iIiIiIiPg\\u002fzczMzMzM+D8RERERERH5P1VVVVVVVfk\\u002fmpmZmZmZ+T\\u002fe3d3d3d35PyIiIiIiIvo\\u002fZmZmZmZm+j+rqqqqqqr6P+\\u002fu7u7u7vo\\u002fMzMzMzMz+z93d3d3d3f7P7y7u7u7u\\u002fs\\u002fAAAAAAAA\\u002fD9ERERERET8P4iIiIiIiPw\\u002fzczMzMzM\\u002fD8RERERERH9P1VVVVVVVf0\\u002fmZmZmZmZ\\u002fT\\u002fe3d3d3d39PyIiIiIiIv4\\u002fZmZmZmZm\\u002fj+rqqqqqqr+P+\\u002fu7u7u7v4\\u002fMzMzMzMz\\u002fz93d3d3d3f\\u002fP7y7u7u7u\\u002f8\\u002fAAAAAAAAAEA=\"},\"xaxis\":\"x\",\"y\":{\"dtype\":\"f8\",\"bdata\":\"AAAAAAAA8D8AAAAAAADwPwAAAAAAAPA\\u002fAAAAAAAA8D8AAAAAAADwPwAAAAAAAPA\\u002fAAAAAAAA8D8AAAAAAADwPwAAAAAAAPA\\u002fAAAAAAAA8D8AAAAAAADwPwAAAAAAAPA\\u002fAAAAAAAA8D8AAAAAAADwPwAAAAAAAPA\\u002fAAAAAAAA8D8AAAAAAADwPwAAAAAAAPA\\u002fAAAAAAAA8D8AAAAAAADwPwAAAAAAAPA\\u002fAAAAAAAA8D8AAAAAAADwPwAAAAAAAPA\\u002fAAAAAAAA8D8AAAAAAADwPwAAAAAAAPA\\u002fAAAAAAAA8D8AAAAAAADwPwAAAAAAAPA\\u002fAAAAAAAA8T8AAAAAAADUPwAAAAAAgA1AAAAAAACACMAAAAAAAAAAQAAAAAAAAABAAAAAAAAAAEAAAAAAAAAAQAAAAAAAAABAAAAAAAAAAEAAAAAAAAAAQAAAAAAAAABAAAAAAAAAAEAAAAAAAAAAQAAAAAAAAABAAAAAAAAAAEAAAAAAAAAAQAAAAAAAAABAAAAAAAAAAEAAAAAAAAAAQAAAAAAAAABAAAAAAAAAAEAAAAAAAAAAQAAAAAAAAABAAAAAAAAAAEAAAAAAAAAAQAAAAAAAAABAAAAAAAAAAEAAAAAAAAAAQAAAAAAAAABAAAAAAAAAAEAAAAAAAAD\\u002fPwAAAAAAgAVAAAAAAAAA5r8AAAAAAEAYQAAAAAAAAPA\\u002fAAAAAAAA8D8AAAAAAADwPwAAAAAAAPA\\u002fAAAAAAAA8D8AAAAAAADwPwAAAAAAAPA\\u002fAAAAAAAA8D8AAAAAAADwPwAAAAAAAPA\\u002fAAAAAAAA8D8AAAAAAADwPwAAAAAAAPA\\u002fAAAAAAAA8D8AAAAAAADwPwAAAAAAAPA\\u002fAAAAAAAA8D8AAAAAAADwPwAAAAAAAPA\\u002fAAAAAAAA8D8AAAAAAADwPwAAAAAAAPA\\u002fAAAAAAAA8D8AAAAAAADwPwAAAAAAAPA\\u002fAAAAAAAA8D8AAAAAAADwPwAAAAAAAPA\\u002fAAAAAAAA8D8AAAAAAADwPwAAAAAAAPA\\u002fAAAAAAAA8D8AAAAAAADwPwAAAAAAAPA\\u002fAAAAAAAA8D8AAAAAAADwPwAAAAAAAPA\\u002fAAAAAAAA8D8AAAAAAADwPwAAAAAAAPA\\u002fAAAAAAAA8D8AAAAAAADwPwAAAAAAAPA\\u002fAAAAAAAA8D8AAAAAAADwPwAAAAAAAPA\\u002fAAAAAAAA8D8AAAAAAADwPwAAAAAAAPA\\u002fAAAAAAAA8D8AAAAAAADwPwAAAAAAAPA\\u002fAAAAAAAA8D8AAAAAAADwPwAAAAAAAPA\\u002fAAAAAAAA8D8=\"},\"yaxis\":\"y\",\"type\":\"scatter\"}],\"name\":\"4\"},{\"data\":[{\"hovertemplate\":\"variable=5\\u003cbr\\u003ex=%{x}\\u003cbr\\u003evalue=%{y}\\u003cextra\\u003e\\u003c\\u002fextra\\u003e\",\"legendgroup\":\"\",\"line\":{\"color\":\"#636efa\",\"dash\":\"solid\"},\"marker\":{\"symbol\":\"circle\"},\"mode\":\"lines\",\"name\":\"\",\"orientation\":\"v\",\"showlegend\":false,\"x\":{\"dtype\":\"f8\",\"bdata\":\"AAAAAAAAAAARERERERGRPxEREREREaE\\u002fmpmZmZmZqT8RERERERGxP1VVVVVVVbU\\u002fmpmZmZmZuT\\u002fe3d3d3d29PxEREREREcE\\u002fMzMzMzMzwz9VVVVVVVXFP3d3d3d3d8c\\u002fmpmZmZmZyT+8u7u7u7vLP97d3d3d3c0\\u002fAAAAAAAA0D8RERERERHRPyIiIiIiItI\\u002fMzMzMzMz0z9ERERERETUP1VVVVVVVdU\\u002fZmZmZmZm1j93d3d3d3fXP4iIiIiIiNg\\u002fmpmZmZmZ2T+rqqqqqqraP7y7u7u7u9s\\u002fzczMzMzM3D\\u002fe3d3d3d3dP+\\u002fu7u7u7t4\\u002fAAAAAAAA4D+IiIiIiIjgPxEREREREeE\\u002fmpmZmZmZ4T8iIiIiIiLiP6uqqqqqquI\\u002fMzMzMzMz4z+8u7u7u7vjP0REREREROQ\\u002fzczMzMzM5D9VVVVVVVXlP97d3d3d3eU\\u002fZmZmZmZm5j\\u002fv7u7u7u7mP3d3d3d3d+c\\u002fAAAAAAAA6D+IiIiIiIjoPxEREREREek\\u002fmpmZmZmZ6T8iIiIiIiLqP6uqqqqqquo\\u002fMzMzMzMz6z+8u7u7u7vrP0REREREROw\\u002fzczMzMzM7D9VVVVVVVXtP97d3d3d3e0\\u002fZmZmZmZm7j\\u002fv7u7u7u7uP3d3d3d3d+8\\u002fAAAAAAAA8D9ERERERETwP4iIiIiIiPA\\u002fzczMzMzM8D8RERERERHxP1VVVVVVVfE\\u002fmpmZmZmZ8T\\u002fe3d3d3d3xPyIiIiIiIvI\\u002fZmZmZmZm8j+rqqqqqqryP+\\u002fu7u7u7vI\\u002fMzMzMzMz8z93d3d3d3fzP7y7u7u7u\\u002fM\\u002fAAAAAAAA9D9ERERERET0P4iIiIiIiPQ\\u002fzczMzMzM9D8RERERERH1P1VVVVVVVfU\\u002fmpmZmZmZ9T\\u002fe3d3d3d31PyIiIiIiIvY\\u002fZmZmZmZm9j+rqqqqqqr2P+\\u002fu7u7u7vY\\u002fMzMzMzMz9z93d3d3d3f3P7y7u7u7u\\u002fc\\u002fAAAAAAAA+D9ERERERET4P4iIiIiIiPg\\u002fzczMzMzM+D8RERERERH5P1VVVVVVVfk\\u002fmpmZmZmZ+T\\u002fe3d3d3d35PyIiIiIiIvo\\u002fZmZmZmZm+j+rqqqqqqr6P+\\u002fu7u7u7vo\\u002fMzMzMzMz+z93d3d3d3f7P7y7u7u7u\\u002fs\\u002fAAAAAAAA\\u002fD9ERERERET8P4iIiIiIiPw\\u002fzczMzMzM\\u002fD8RERERERH9P1VVVVVVVf0\\u002fmZmZmZmZ\\u002fT\\u002fe3d3d3d39PyIiIiIiIv4\\u002fZmZmZmZm\\u002fj+rqqqqqqr+P+\\u002fu7u7u7v4\\u002fMzMzMzMz\\u002fz93d3d3d3f\\u002fP7y7u7u7u\\u002f8\\u002fAAAAAAAAAEA=\"},\"xaxis\":\"x\",\"y\":{\"dtype\":\"f8\",\"bdata\":\"AAAAAAAA8D8AAAAAAADwPwAAAAAAAPA\\u002fAAAAAAAA8D8AAAAAAADwPwAAAAAAAPA\\u002fAAAAAAAA8D8AAAAAAADwPwAAAAAAAPA\\u002fAAAAAAAA8D8AAAAAAADwPwAAAAAAAPA\\u002fAAAAAAAA8D8AAAAAAADwPwAAAAAAAPA\\u002fAAAAAAAA8D8AAAAAAADwPwAAAAAAAPA\\u002fAAAAAAAA8D8AAAAAAADwPwAAAAAAAPA\\u002fAAAAAAAA8D8AAAAAAADwPwAAAAAAAPA\\u002fAAAAAAAA8D8AAAAAAADwPwAAAAAAAPA\\u002fAAAAAAAA8D8AAAAAAADwPwAAAAAAAPA\\u002fAAAAAAAA7z8AAAAAAAD3PwAAAAAAAPa\\u002fAAAAAABAHEAAAAAAAGAWwAAAAAAAAABAAAAAAAAAAEAAAAAAAAAAQAAAAAAAAABAAAAAAAAAAEAAAAAAAAAAQAAAAAAAAABAAAAAAAAAAEAAAAAAAAAAQAAAAAAAAABAAAAAAAAAAEAAAAAAAAAAQAAAAAAAAABAAAAAAAAAAEAAAAAAAAAAQAAAAAAAAABAAAAAAAAAAEAAAAAAAAAAQAAAAAAAAABAAAAAAAAAAEAAAAAAAAAAQAAAAAAAAABAAAAAAAAAAEAAAAAAAAAAQAAAAAAAAABAAAAAAAAAAEAAAAAAAEAAQAAAAAAAAPk\\u002fAAAAAACAEUAAAAAAAEAQwAAAAAAAMCFAAAAAAAAA8D8AAAAAAADwPwAAAAAAAPA\\u002fAAAAAAAA8D8AAAAAAADwPwAAAAAAAPA\\u002fAAAAAAAA8D8AAAAAAADwPwAAAAAAAPA\\u002fAAAAAAAA8D8AAAAAAADwPwAAAAAAAPA\\u002fAAAAAAAA8D8AAAAAAADwPwAAAAAAAPA\\u002fAAAAAAAA8D8AAAAAAADwPwAAAAAAAPA\\u002fAAAAAAAA8D8AAAAAAADwPwAAAAAAAPA\\u002fAAAAAAAA8D8AAAAAAADwPwAAAAAAAPA\\u002fAAAAAAAA8D8AAAAAAADwPwAAAAAAAPA\\u002fAAAAAAAA8D8AAAAAAADwPwAAAAAAAPA\\u002fAAAAAAAA8D8AAAAAAADwPwAAAAAAAPA\\u002fAAAAAAAA8D8AAAAAAADwPwAAAAAAAPA\\u002fAAAAAAAA8D8AAAAAAADwPwAAAAAAAPA\\u002fAAAAAAAA8D8AAAAAAADwPwAAAAAAAPA\\u002fAAAAAAAA8D8AAAAAAADwPwAAAAAAAPA\\u002fAAAAAAAA8D8AAAAAAADwPwAAAAAAAPA\\u002fAAAAAAAA8D8AAAAAAADwPwAAAAAAAPA\\u002fAAAAAAAA8D8AAAAAAADwPwAAAAAAAPA\\u002fAAAAAAAA8D8=\"},\"yaxis\":\"y\",\"type\":\"scatter\"}],\"name\":\"5\"},{\"data\":[{\"hovertemplate\":\"variable=6\\u003cbr\\u003ex=%{x}\\u003cbr\\u003evalue=%{y}\\u003cextra\\u003e\\u003c\\u002fextra\\u003e\",\"legendgroup\":\"\",\"line\":{\"color\":\"#636efa\",\"dash\":\"solid\"},\"marker\":{\"symbol\":\"circle\"},\"mode\":\"lines\",\"name\":\"\",\"orientation\":\"v\",\"showlegend\":false,\"x\":{\"dtype\":\"f8\",\"bdata\":\"AAAAAAAAAAARERERERGRPxEREREREaE\\u002fmpmZmZmZqT8RERERERGxP1VVVVVVVbU\\u002fmpmZmZmZuT\\u002fe3d3d3d29PxEREREREcE\\u002fMzMzMzMzwz9VVVVVVVXFP3d3d3d3d8c\\u002fmpmZmZmZyT+8u7u7u7vLP97d3d3d3c0\\u002fAAAAAAAA0D8RERERERHRPyIiIiIiItI\\u002fMzMzMzMz0z9ERERERETUP1VVVVVVVdU\\u002fZmZmZmZm1j93d3d3d3fXP4iIiIiIiNg\\u002fmpmZmZmZ2T+rqqqqqqraP7y7u7u7u9s\\u002fzczMzMzM3D\\u002fe3d3d3d3dP+\\u002fu7u7u7t4\\u002fAAAAAAAA4D+IiIiIiIjgPxEREREREeE\\u002fmpmZmZmZ4T8iIiIiIiLiP6uqqqqqquI\\u002fMzMzMzMz4z+8u7u7u7vjP0REREREROQ\\u002fzczMzMzM5D9VVVVVVVXlP97d3d3d3eU\\u002fZmZmZmZm5j\\u002fv7u7u7u7mP3d3d3d3d+c\\u002fAAAAAAAA6D+IiIiIiIjoPxEREREREek\\u002fmpmZmZmZ6T8iIiIiIiLqP6uqqqqqquo\\u002fMzMzMzMz6z+8u7u7u7vrP0REREREROw\\u002fzczMzMzM7D9VVVVVVVXtP97d3d3d3e0\\u002fZmZmZmZm7j\\u002fv7u7u7u7uP3d3d3d3d+8\\u002fAAAAAAAA8D9ERERERETwP4iIiIiIiPA\\u002fzczMzMzM8D8RERERERHxP1VVVVVVVfE\\u002fmpmZmZmZ8T\\u002fe3d3d3d3xPyIiIiIiIvI\\u002fZmZmZmZm8j+rqqqqqqryP+\\u002fu7u7u7vI\\u002fMzMzMzMz8z93d3d3d3fzP7y7u7u7u\\u002fM\\u002fAAAAAAAA9D9ERERERET0P4iIiIiIiPQ\\u002fzczMzMzM9D8RERERERH1P1VVVVVVVfU\\u002fmpmZmZmZ9T\\u002fe3d3d3d31PyIiIiIiIvY\\u002fZmZmZmZm9j+rqqqqqqr2P+\\u002fu7u7u7vY\\u002fMzMzMzMz9z93d3d3d3f3P7y7u7u7u\\u002fc\\u002fAAAAAAAA+D9ERERERET4P4iIiIiIiPg\\u002fzczMzMzM+D8RERERERH5P1VVVVVVVfk\\u002fmpmZmZmZ+T\\u002fe3d3d3d35PyIiIiIiIvo\\u002fZmZmZmZm+j+rqqqqqqr6P+\\u002fu7u7u7vo\\u002fMzMzMzMz+z93d3d3d3f7P7y7u7u7u\\u002fs\\u002fAAAAAAAA\\u002fD9ERERERET8P4iIiIiIiPw\\u002fzczMzMzM\\u002fD8RERERERH9P1VVVVVVVf0\\u002fmZmZmZmZ\\u002fT\\u002fe3d3d3d39PyIiIiIiIv4\\u002fZmZmZmZm\\u002fj+rqqqqqqr+P+\\u002fu7u7u7v4\\u002fMzMzMzMz\\u002fz93d3d3d3f\\u002fP7y7u7u7u\\u002f8\\u002fAAAAAAAAAEA=\"},\"xaxis\":\"x\",\"y\":{\"dtype\":\"f8\",\"bdata\":\"AAAAAAAA8D8AAAAAAADwPwAAAAAAAPA\\u002fAAAAAAAA8D8AAAAAAADwPwAAAAAAAPA\\u002fAAAAAAAA8D8AAAAAAADwPwAAAAAAAPA\\u002fAAAAAAAA8D8AAAAAAADwPwAAAAAAAPA\\u002fAAAAAAAA8D8AAAAAAADwPwAAAAAAAPA\\u002fAAAAAAAA8D8AAAAAAADwPwAAAAAAAPA\\u002fAAAAAAAA8D8AAAAAAADwPwAAAAAAAPA\\u002fAAAAAAAA8D8AAAAAAADwPwAAAAAAAPA\\u002fAAAAAAAA8D8AAAAAAADwPwAAAAAAAPA\\u002fAAAAAAAA8D8AAAAAAADwPwAAAAAAAPA\\u002fAAAAAABA8D8AAAAAAIDnPwAAAAAAwAZAAAAAAABgFsAAAAAAAMgqQAAAAAAAyCLAAAAAAAAAAEAAAAAAAAAAQAAAAAAAAABAAAAAAAAAAEAAAAAAAAAAQAAAAAAAAABAAAAAAAAAAEAAAAAAAAAAQAAAAAAAAABAAAAAAAAAAEAAAAAAAAAAQAAAAAAAAABAAAAAAAAAAEAAAAAAAAAAQAAAAAAAAABAAAAAAAAAAEAAAAAAAAAAQAAAAAAAAABAAAAAAAAAAEAAAAAAAAAAQAAAAAAAAABAAAAAAAAAAEAAAAAAAAAAQAAAAAAAAABAAAAAAAAAAEAAAAAAAMD\\u002fPwAAAAAAIAJAAAAAAAAAxD8AAAAAADAhQAAAAAAAyCTAAAAAAADIKEAAAAAAAADwPwAAAAAAAPA\\u002fAAAAAAAA8D8AAAAAAADwPwAAAAAAAPA\\u002fAAAAAAAA8D8AAAAAAADwPwAAAAAAAPA\\u002fAAAAAAAA8D8AAAAAAADwPwAAAAAAAPA\\u002fAAAAAAAA8D8AAAAAAADwPwAAAAAAAPA\\u002fAAAAAAAA8D8AAAAAAADwPwAAAAAAAPA\\u002fAAAAAAAA8D8AAAAAAADwPwAAAAAAAPA\\u002fAAAAAAAA8D8AAAAAAADwPwAAAAAAAPA\\u002fAAAAAAAA8D8AAAAAAADwPwAAAAAAAPA\\u002fAAAAAAAA8D8AAAAAAADwPwAAAAAAAPA\\u002fAAAAAAAA8D8AAAAAAADwPwAAAAAAAPA\\u002fAAAAAAAA8D8AAAAAAADwPwAAAAAAAPA\\u002fAAAAAAAA8D8AAAAAAADwPwAAAAAAAPA\\u002fAAAAAAAA8D8AAAAAAADwPwAAAAAAAPA\\u002fAAAAAAAA8D8AAAAAAADwPwAAAAAAAPA\\u002fAAAAAAAA8D8AAAAAAADwPwAAAAAAAPA\\u002fAAAAAAAA8D8AAAAAAADwPwAAAAAAAPA\\u002fAAAAAAAA8D8AAAAAAADwPwAAAAAAAPA\\u002fAAAAAAAA8D8=\"},\"yaxis\":\"y\",\"type\":\"scatter\"}],\"name\":\"6\"},{\"data\":[{\"hovertemplate\":\"variable=7\\u003cbr\\u003ex=%{x}\\u003cbr\\u003evalue=%{y}\\u003cextra\\u003e\\u003c\\u002fextra\\u003e\",\"legendgroup\":\"\",\"line\":{\"color\":\"#636efa\",\"dash\":\"solid\"},\"marker\":{\"symbol\":\"circle\"},\"mode\":\"lines\",\"name\":\"\",\"orientation\":\"v\",\"showlegend\":false,\"x\":{\"dtype\":\"f8\",\"bdata\":\"AAAAAAAAAAARERERERGRPxEREREREaE\\u002fmpmZmZmZqT8RERERERGxP1VVVVVVVbU\\u002fmpmZmZmZuT\\u002fe3d3d3d29PxEREREREcE\\u002fMzMzMzMzwz9VVVVVVVXFP3d3d3d3d8c\\u002fmpmZmZmZyT+8u7u7u7vLP97d3d3d3c0\\u002fAAAAAAAA0D8RERERERHRPyIiIiIiItI\\u002fMzMzMzMz0z9ERERERETUP1VVVVVVVdU\\u002fZmZmZmZm1j93d3d3d3fXP4iIiIiIiNg\\u002fmpmZmZmZ2T+rqqqqqqraP7y7u7u7u9s\\u002fzczMzMzM3D\\u002fe3d3d3d3dP+\\u002fu7u7u7t4\\u002fAAAAAAAA4D+IiIiIiIjgPxEREREREeE\\u002fmpmZmZmZ4T8iIiIiIiLiP6uqqqqqquI\\u002fMzMzMzMz4z+8u7u7u7vjP0REREREROQ\\u002fzczMzMzM5D9VVVVVVVXlP97d3d3d3eU\\u002fZmZmZmZm5j\\u002fv7u7u7u7mP3d3d3d3d+c\\u002fAAAAAAAA6D+IiIiIiIjoPxEREREREek\\u002fmpmZmZmZ6T8iIiIiIiLqP6uqqqqqquo\\u002fMzMzMzMz6z+8u7u7u7vrP0REREREROw\\u002fzczMzMzM7D9VVVVVVVXtP97d3d3d3e0\\u002fZmZmZmZm7j\\u002fv7u7u7u7uP3d3d3d3d+8\\u002fAAAAAAAA8D9ERERERETwP4iIiIiIiPA\\u002fzczMzMzM8D8RERERERHxP1VVVVVVVfE\\u002fmpmZmZmZ8T\\u002fe3d3d3d3xPyIiIiIiIvI\\u002fZmZmZmZm8j+rqqqqqqryP+\\u002fu7u7u7vI\\u002fMzMzMzMz8z93d3d3d3fzP7y7u7u7u\\u002fM\\u002fAAAAAAAA9D9ERERERET0P4iIiIiIiPQ\\u002fzczMzMzM9D8RERERERH1P1VVVVVVVfU\\u002fmpmZmZmZ9T\\u002fe3d3d3d31PyIiIiIiIvY\\u002fZmZmZmZm9j+rqqqqqqr2P+\\u002fu7u7u7vY\\u002fMzMzMzMz9z93d3d3d3f3P7y7u7u7u\\u002fc\\u002fAAAAAAAA+D9ERERERET4P4iIiIiIiPg\\u002fzczMzMzM+D8RERERERH5P1VVVVVVVfk\\u002fmpmZmZmZ+T\\u002fe3d3d3d35PyIiIiIiIvo\\u002fZmZmZmZm+j+rqqqqqqr6P+\\u002fu7u7u7vo\\u002fMzMzMzMz+z93d3d3d3f7P7y7u7u7u\\u002fs\\u002fAAAAAAAA\\u002fD9ERERERET8P4iIiIiIiPw\\u002fzczMzMzM\\u002fD8RERERERH9P1VVVVVVVf0\\u002fmZmZmZmZ\\u002fT\\u002fe3d3d3d39PyIiIiIiIv4\\u002fZmZmZmZm\\u002fj+rqqqqqqr+P+\\u002fu7u7u7v4\\u002fMzMzMzMz\\u002fz93d3d3d3f\\u002fP7y7u7u7u\\u002f8\\u002fAAAAAAAAAEA=\"},\"xaxis\":\"x\",\"y\":{\"dtype\":\"f8\",\"bdata\":\"AAAAAAAA8D8AAAAAAADwPwAAAAAAAPA\\u002fAAAAAAAA8D8AAAAAAADwPwAAAAAAAPA\\u002fAAAAAAAA8D8AAAAAAADwPwAAAAAAAPA\\u002fAAAAAAAA8D8AAAAAAADwPwAAAAAAAPA\\u002fAAAAAAAA8D8AAAAAAADwPwAAAAAAAPA\\u002fAAAAAAAA8D8AAAAAAADwPwAAAAAAAPA\\u002fAAAAAAAA8D8AAAAAAADwPwAAAAAAAPA\\u002fAAAAAAAA8D8AAAAAAADwPwAAAAAAAPA\\u002fAAAAAAAA8D8AAAAAAADwPwAAAAAAAPA\\u002fAAAAAAAA8D8AAAAAAADwPwAAAAAAAPA\\u002fAAAAAADA7z8AAAAAAIDyPwAAAAAAgNS\\u002fAAAAAABAHEAAAAAAACwuwAAAAAAAyDhAAAAAAAAsLsAAAAAAAAAAQAAAAAAAAABAAAAAAAAAAEAAAAAAAAAAQAAAAAAAAABAAAAAAAAAAEAAAAAAAAAAQAAAAAAAAABAAAAAAAAAAEAAAAAAAAAAQAAAAAAAAABAAAAAAAAAAEAAAAAAAAAAQAAAAAAAAABAAAAAAAAAAEAAAAAAAAAAQAAAAAAAAABAAAAAAAAAAEAAAAAAAAAAQAAAAAAAAABAAAAAAAAAAEAAAAAAAAAAQAAAAAAAAABAAAAAAAAAAEAAAAAAABAAQAAAAAAAgP0\\u002fAAAAAACQCkAAAAAAAEAQwAAAAAAAFjJAAAAAAADINcAAAAAAABYyQAAAAAAAAPA\\u002fAAAAAAAA8D8AAAAAAADwPwAAAAAAAPA\\u002fAAAAAAAA8D8AAAAAAADwPwAAAAAAAPA\\u002fAAAAAAAA8D8AAAAAAADwPwAAAAAAAPA\\u002fAAAAAAAA8D8AAAAAAADwPwAAAAAAAPA\\u002fAAAAAAAA8D8AAAAAAADwPwAAAAAAAPA\\u002fAAAAAAAA8D8AAAAAAADwPwAAAAAAAPA\\u002fAAAAAAAA8D8AAAAAAADwPwAAAAAAAPA\\u002fAAAAAAAA8D8AAAAAAADwPwAAAAAAAPA\\u002fAAAAAAAA8D8AAAAAAADwPwAAAAAAAPA\\u002fAAAAAAAA8D8AAAAAAADwPwAAAAAAAPA\\u002fAAAAAAAA8D8AAAAAAADwPwAAAAAAAPA\\u002fAAAAAAAA8D8AAAAAAADwPwAAAAAAAPA\\u002fAAAAAAAA8D8AAAAAAADwPwAAAAAAAPA\\u002fAAAAAAAA8D8AAAAAAADwPwAAAAAAAPA\\u002fAAAAAAAA8D8AAAAAAADwPwAAAAAAAPA\\u002fAAAAAAAA8D8AAAAAAADwPwAAAAAAAPA\\u002fAAAAAAAA8D8AAAAAAADwPwAAAAAAAPA\\u002fAAAAAAAA8D8=\"},\"yaxis\":\"y\",\"type\":\"scatter\"}],\"name\":\"7\"},{\"data\":[{\"hovertemplate\":\"variable=8\\u003cbr\\u003ex=%{x}\\u003cbr\\u003evalue=%{y}\\u003cextra\\u003e\\u003c\\u002fextra\\u003e\",\"legendgroup\":\"\",\"line\":{\"color\":\"#636efa\",\"dash\":\"solid\"},\"marker\":{\"symbol\":\"circle\"},\"mode\":\"lines\",\"name\":\"\",\"orientation\":\"v\",\"showlegend\":false,\"x\":{\"dtype\":\"f8\",\"bdata\":\"AAAAAAAAAAARERERERGRPxEREREREaE\\u002fmpmZmZmZqT8RERERERGxP1VVVVVVVbU\\u002fmpmZmZmZuT\\u002fe3d3d3d29PxEREREREcE\\u002fMzMzMzMzwz9VVVVVVVXFP3d3d3d3d8c\\u002fmpmZmZmZyT+8u7u7u7vLP97d3d3d3c0\\u002fAAAAAAAA0D8RERERERHRPyIiIiIiItI\\u002fMzMzMzMz0z9ERERERETUP1VVVVVVVdU\\u002fZmZmZmZm1j93d3d3d3fXP4iIiIiIiNg\\u002fmpmZmZmZ2T+rqqqqqqraP7y7u7u7u9s\\u002fzczMzMzM3D\\u002fe3d3d3d3dP+\\u002fu7u7u7t4\\u002fAAAAAAAA4D+IiIiIiIjgPxEREREREeE\\u002fmpmZmZmZ4T8iIiIiIiLiP6uqqqqqquI\\u002fMzMzMzMz4z+8u7u7u7vjP0REREREROQ\\u002fzczMzMzM5D9VVVVVVVXlP97d3d3d3eU\\u002fZmZmZmZm5j\\u002fv7u7u7u7mP3d3d3d3d+c\\u002fAAAAAAAA6D+IiIiIiIjoPxEREREREek\\u002fmpmZmZmZ6T8iIiIiIiLqP6uqqqqqquo\\u002fMzMzMzMz6z+8u7u7u7vrP0REREREROw\\u002fzczMzMzM7D9VVVVVVVXtP97d3d3d3e0\\u002fZmZmZmZm7j\\u002fv7u7u7u7uP3d3d3d3d+8\\u002fAAAAAAAA8D9ERERERETwP4iIiIiIiPA\\u002fzczMzMzM8D8RERERERHxP1VVVVVVVfE\\u002fmpmZmZmZ8T\\u002fe3d3d3d3xPyIiIiIiIvI\\u002fZmZmZmZm8j+rqqqqqqryP+\\u002fu7u7u7vI\\u002fMzMzMzMz8z93d3d3d3fzP7y7u7u7u\\u002fM\\u002fAAAAAAAA9D9ERERERET0P4iIiIiIiPQ\\u002fzczMzMzM9D8RERERERH1P1VVVVVVVfU\\u002fmpmZmZmZ9T\\u002fe3d3d3d31PyIiIiIiIvY\\u002fZmZmZmZm9j+rqqqqqqr2P+\\u002fu7u7u7vY\\u002fMzMzMzMz9z93d3d3d3f3P7y7u7u7u\\u002fc\\u002fAAAAAAAA+D9ERERERET4P4iIiIiIiPg\\u002fzczMzMzM+D8RERERERH5P1VVVVVVVfk\\u002fmpmZmZmZ+T\\u002fe3d3d3d35PyIiIiIiIvo\\u002fZmZmZmZm+j+rqqqqqqr6P+\\u002fu7u7u7vo\\u002fMzMzMzMz+z93d3d3d3f7P7y7u7u7u\\u002fs\\u002fAAAAAAAA\\u002fD9ERERERET8P4iIiIiIiPw\\u002fzczMzMzM\\u002fD8RERERERH9P1VVVVVVVf0\\u002fmZmZmZmZ\\u002fT\\u002fe3d3d3d39PyIiIiIiIv4\\u002fZmZmZmZm\\u002fj+rqqqqqqr+P+\\u002fu7u7u7v4\\u002fMzMzMzMz\\u002fz93d3d3d3f\\u002fP7y7u7u7u\\u002f8\\u002fAAAAAAAAAEA=\"},\"xaxis\":\"x\",\"y\":{\"dtype\":\"f8\",\"bdata\":\"AAAAAAAA8D8AAAAAAADwPwAAAAAAAPA\\u002fAAAAAAAA8D8AAAAAAADwPwAAAAAAAPA\\u002fAAAAAAAA8D8AAAAAAADwPwAAAAAAAPA\\u002fAAAAAAAA8D8AAAAAAADwPwAAAAAAAPA\\u002fAAAAAAAA8D8AAAAAAADwPwAAAAAAAPA\\u002fAAAAAAAA8D8AAAAAAADwPwAAAAAAAPA\\u002fAAAAAAAA8D8AAAAAAADwPwAAAAAAAPA\\u002fAAAAAAAA8D8AAAAAAADwPwAAAAAAAPA\\u002fAAAAAAAA8D8AAAAAAADwPwAAAAAAAPA\\u002fAAAAAAAA8D8AAAAAAADwPwAAAAAAAPA\\u002fAAAAAAAQ8D8AAAAAACDtPwAAAAAAUP4\\u002fAAAAAAAMEMAAAAAAACMyQAAAAACAgkHAAAAAAIBbRkAAAAAAAKE3wAAAAAAAAABAAAAAAAAAAEAAAAAAAAAAQAAAAAAAAABAAAAAAAAAAEAAAAAAAAAAQAAAAAAAAABAAAAAAAAAAEAAAAAAAAAAQAAAAAAAAABAAAAAAAAAAEAAAAAAAAAAQAAAAAAAAABAAAAAAAAAAEAAAAAAAAAAQAAAAAAAAABAAAAAAAAAAEAAAAAAAAAAQAAAAAAAAABAAAAAAAAAAEAAAAAAAAAAQAAAAAAAAABAAAAAAAAAAEAAAAAAAPD\\u002fPwAAAAAAuABAAAAAAACw8T8AAAAAAAwcQAAAAAAARi7AAAAAAIACQ0AAAAAAgNtEwAAAAAAAoTpAAAAAAAAA8D8AAAAAAADwPwAAAAAAAPA\\u002fAAAAAAAA8D8AAAAAAADwPwAAAAAAAPA\\u002fAAAAAAAA8D8AAAAAAADwPwAAAAAAAPA\\u002fAAAAAAAA8D8AAAAAAADwPwAAAAAAAPA\\u002fAAAAAAAA8D8AAAAAAADwPwAAAAAAAPA\\u002fAAAAAAAA8D8AAAAAAADwPwAAAAAAAPA\\u002fAAAAAAAA8D8AAAAAAADwPwAAAAAAAPA\\u002fAAAAAAAA8D8AAAAAAADwPwAAAAAAAPA\\u002fAAAAAAAA8D8AAAAAAADwPwAAAAAAAPA\\u002fAAAAAAAA8D8AAAAAAADwPwAAAAAAAPA\\u002fAAAAAAAA8D8AAAAAAADwPwAAAAAAAPA\\u002fAAAAAAAA8D8AAAAAAADwPwAAAAAAAPA\\u002fAAAAAAAA8D8AAAAAAADwPwAAAAAAAPA\\u002fAAAAAAAA8D8AAAAAAADwPwAAAAAAAPA\\u002fAAAAAAAA8D8AAAAAAADwPwAAAAAAAPA\\u002fAAAAAAAA8D8AAAAAAADwPwAAAAAAAPA\\u002fAAAAAAAA8D8AAAAAAADwPwAAAAAAAPA\\u002fAAAAAAAA8D8=\"},\"yaxis\":\"y\",\"type\":\"scatter\"}],\"name\":\"8\"},{\"data\":[{\"hovertemplate\":\"variable=9\\u003cbr\\u003ex=%{x}\\u003cbr\\u003evalue=%{y}\\u003cextra\\u003e\\u003c\\u002fextra\\u003e\",\"legendgroup\":\"\",\"line\":{\"color\":\"#636efa\",\"dash\":\"solid\"},\"marker\":{\"symbol\":\"circle\"},\"mode\":\"lines\",\"name\":\"\",\"orientation\":\"v\",\"showlegend\":false,\"x\":{\"dtype\":\"f8\",\"bdata\":\"AAAAAAAAAAARERERERGRPxEREREREaE\\u002fmpmZmZmZqT8RERERERGxP1VVVVVVVbU\\u002fmpmZmZmZuT\\u002fe3d3d3d29PxEREREREcE\\u002fMzMzMzMzwz9VVVVVVVXFP3d3d3d3d8c\\u002fmpmZmZmZyT+8u7u7u7vLP97d3d3d3c0\\u002fAAAAAAAA0D8RERERERHRPyIiIiIiItI\\u002fMzMzMzMz0z9ERERERETUP1VVVVVVVdU\\u002fZmZmZmZm1j93d3d3d3fXP4iIiIiIiNg\\u002fmpmZmZmZ2T+rqqqqqqraP7y7u7u7u9s\\u002fzczMzMzM3D\\u002fe3d3d3d3dP+\\u002fu7u7u7t4\\u002fAAAAAAAA4D+IiIiIiIjgPxEREREREeE\\u002fmpmZmZmZ4T8iIiIiIiLiP6uqqqqqquI\\u002fMzMzMzMz4z+8u7u7u7vjP0REREREROQ\\u002fzczMzMzM5D9VVVVVVVXlP97d3d3d3eU\\u002fZmZmZmZm5j\\u002fv7u7u7u7mP3d3d3d3d+c\\u002fAAAAAAAA6D+IiIiIiIjoPxEREREREek\\u002fmpmZmZmZ6T8iIiIiIiLqP6uqqqqqquo\\u002fMzMzMzMz6z+8u7u7u7vrP0REREREROw\\u002fzczMzMzM7D9VVVVVVVXtP97d3d3d3e0\\u002fZmZmZmZm7j\\u002fv7u7u7u7uP3d3d3d3d+8\\u002fAAAAAAAA8D9ERERERETwP4iIiIiIiPA\\u002fzczMzMzM8D8RERERERHxP1VVVVVVVfE\\u002fmpmZmZmZ8T\\u002fe3d3d3d3xPyIiIiIiIvI\\u002fZmZmZmZm8j+rqqqqqqryP+\\u002fu7u7u7vI\\u002fMzMzMzMz8z93d3d3d3fzP7y7u7u7u\\u002fM\\u002fAAAAAAAA9D9ERERERET0P4iIiIiIiPQ\\u002fzczMzMzM9D8RERERERH1P1VVVVVVVfU\\u002fmpmZmZmZ9T\\u002fe3d3d3d31PyIiIiIiIvY\\u002fZmZmZmZm9j+rqqqqqqr2P+\\u002fu7u7u7vY\\u002fMzMzMzMz9z93d3d3d3f3P7y7u7u7u\\u002fc\\u002fAAAAAAAA+D9ERERERET4P4iIiIiIiPg\\u002fzczMzMzM+D8RERERERH5P1VVVVVVVfk\\u002fmpmZmZmZ+T\\u002fe3d3d3d35PyIiIiIiIvo\\u002fZmZmZmZm+j+rqqqqqqr6P+\\u002fu7u7u7vo\\u002fMzMzMzMz+z93d3d3d3f7P7y7u7u7u\\u002fs\\u002fAAAAAAAA\\u002fD9ERERERET8P4iIiIiIiPw\\u002fzczMzMzM\\u002fD8RERERERH9P1VVVVVVVf0\\u002fmZmZmZmZ\\u002fT\\u002fe3d3d3d39PyIiIiIiIv4\\u002fZmZmZmZm\\u002fj+rqqqqqqr+P+\\u002fu7u7u7v4\\u002fMzMzMzMz\\u002fz93d3d3d3f\\u002fP7y7u7u7u\\u002f8\\u002fAAAAAAAAAEA=\"},\"xaxis\":\"x\",\"y\":{\"dtype\":\"f8\",\"bdata\":\"AAAAAAAA8D8AAAAAAADwPwAAAAAAAPA\\u002fAAAAAAAA8D8AAAAAAADwPwAAAAAAAPA\\u002fAAAAAAAA8D8AAAAAAADwPwAAAAAAAPA\\u002fAAAAAAAA8D8AAAAAAADwPwAAAAAAAPA\\u002fAAAAAAAA8D8AAAAAAADwPwAAAAAAAPA\\u002fAAAAAAAA8D8AAAAAAADwPwAAAAAAAPA\\u002fAAAAAAAA8D8AAAAAAADwPwAAAAAAAPA\\u002fAAAAAAAA8D8AAAAAAADwPwAAAAAAAPA\\u002fAAAAAAAA8D8AAAAAAADwPwAAAAAAAPA\\u002fAAAAAAAA8D8AAAAAAADwPwAAAAAAAPA\\u002fAAAAAADw7z8AAAAAANDwPwAAAAAAwNo\\u002fAAAAAABkE0AAAAAAACwuwAAAAACAW0ZAAAAAAMC4UsAAAAAAwLhTQAAAAADAOELAAAAAAAAAAEAAAAAAAAAAQAAAAAAAAABAAAAAAAAAAEAAAAAAAAAAQAAAAAAAAABAAAAAAAAAAEAAAAAAAAAAQAAAAAAAAABAAAAAAAAAAEAAAAAAAAAAQAAAAAAAAABAAAAAAAAAAEAAAAAAAAAAQAAAAAAAAABAAAAAAAAAAEAAAAAAAAAAQAAAAAAAAABAAAAAAAAAAEAAAAAAAAAAQAAAAAAAAABAAAAAAAAAAEAAAAAAAAQAQAAAAAAAMP8\\u002fAAAAAACoBEAAAAAAAJD9vwAAAAAAFjJAAAAAAIDbRMAAAAAAwHhTQAAAAADA+FLAAAAAAMC4Q0AAAAAAAADwPwAAAAAAAPA\\u002fAAAAAAAA8D8AAAAAAADwPwAAAAAAAPA\\u002fAAAAAAAA8D8AAAAAAADwPwAAAAAAAPA\\u002fAAAAAAAA8D8AAAAAAADwPwAAAAAAAPA\\u002fAAAAAAAA8D8AAAAAAADwPwAAAAAAAPA\\u002fAAAAAAAA8D8AAAAAAADwPwAAAAAAAPA\\u002fAAAAAAAA8D8AAAAAAADwPwAAAAAAAPA\\u002fAAAAAAAA8D8AAAAAAADwPwAAAAAAAPA\\u002fAAAAAAAA8D8AAAAAAADwPwAAAAAAAPA\\u002fAAAAAAAA8D8AAAAAAADwPwAAAAAAAPA\\u002fAAAAAAAA8D8AAAAAAADwPwAAAAAAAPA\\u002fAAAAAAAA8D8AAAAAAADwPwAAAAAAAPA\\u002fAAAAAAAA8D8AAAAAAADwPwAAAAAAAPA\\u002fAAAAAAAA8D8AAAAAAADwPwAAAAAAAPA\\u002fAAAAAAAA8D8AAAAAAADwPwAAAAAAAPA\\u002fAAAAAAAA8D8AAAAAAADwPwAAAAAAAPA\\u002fAAAAAAAA8D8AAAAAAADwPwAAAAAAAPA\\u002fAAAAAAAA8D8=\"},\"yaxis\":\"y\",\"type\":\"scatter\"}],\"name\":\"9\"},{\"data\":[{\"hovertemplate\":\"variable=10\\u003cbr\\u003ex=%{x}\\u003cbr\\u003evalue=%{y}\\u003cextra\\u003e\\u003c\\u002fextra\\u003e\",\"legendgroup\":\"\",\"line\":{\"color\":\"#636efa\",\"dash\":\"solid\"},\"marker\":{\"symbol\":\"circle\"},\"mode\":\"lines\",\"name\":\"\",\"orientation\":\"v\",\"showlegend\":false,\"x\":{\"dtype\":\"f8\",\"bdata\":\"AAAAAAAAAAARERERERGRPxEREREREaE\\u002fmpmZmZmZqT8RERERERGxP1VVVVVVVbU\\u002fmpmZmZmZuT\\u002fe3d3d3d29PxEREREREcE\\u002fMzMzMzMzwz9VVVVVVVXFP3d3d3d3d8c\\u002fmpmZmZmZyT+8u7u7u7vLP97d3d3d3c0\\u002fAAAAAAAA0D8RERERERHRPyIiIiIiItI\\u002fMzMzMzMz0z9ERERERETUP1VVVVVVVdU\\u002fZmZmZmZm1j93d3d3d3fXP4iIiIiIiNg\\u002fmpmZmZmZ2T+rqqqqqqraP7y7u7u7u9s\\u002fzczMzMzM3D\\u002fe3d3d3d3dP+\\u002fu7u7u7t4\\u002fAAAAAAAA4D+IiIiIiIjgPxEREREREeE\\u002fmpmZmZmZ4T8iIiIiIiLiP6uqqqqqquI\\u002fMzMzMzMz4z+8u7u7u7vjP0REREREROQ\\u002fzczMzMzM5D9VVVVVVVXlP97d3d3d3eU\\u002fZmZmZmZm5j\\u002fv7u7u7u7mP3d3d3d3d+c\\u002fAAAAAAAA6D+IiIiIiIjoPxEREREREek\\u002fmpmZmZmZ6T8iIiIiIiLqP6uqqqqqquo\\u002fMzMzMzMz6z+8u7u7u7vrP0REREREROw\\u002fzczMzMzM7D9VVVVVVVXtP97d3d3d3e0\\u002fZmZmZmZm7j\\u002fv7u7u7u7uP3d3d3d3d+8\\u002fAAAAAAAA8D9ERERERETwP4iIiIiIiPA\\u002fzczMzMzM8D8RERERERHxP1VVVVVVVfE\\u002fmpmZmZmZ8T\\u002fe3d3d3d3xPyIiIiIiIvI\\u002fZmZmZmZm8j+rqqqqqqryP+\\u002fu7u7u7vI\\u002fMzMzMzMz8z93d3d3d3fzP7y7u7u7u\\u002fM\\u002fAAAAAAAA9D9ERERERET0P4iIiIiIiPQ\\u002fzczMzMzM9D8RERERERH1P1VVVVVVVfU\\u002fmpmZmZmZ9T\\u002fe3d3d3d31PyIiIiIiIvY\\u002fZmZmZmZm9j+rqqqqqqr2P+\\u002fu7u7u7vY\\u002fMzMzMzMz9z93d3d3d3f3P7y7u7u7u\\u002fc\\u002fAAAAAAAA+D9ERERERET4P4iIiIiIiPg\\u002fzczMzMzM+D8RERERERH5P1VVVVVVVfk\\u002fmpmZmZmZ+T\\u002fe3d3d3d35PyIiIiIiIvo\\u002fZmZmZmZm+j+rqqqqqqr6P+\\u002fu7u7u7vo\\u002fMzMzMzMz+z93d3d3d3f7P7y7u7u7u\\u002fs\\u002fAAAAAAAA\\u002fD9ERERERET8P4iIiIiIiPw\\u002fzczMzMzM\\u002fD8RERERERH9P1VVVVVVVf0\\u002fmZmZmZmZ\\u002fT\\u002fe3d3d3d39PyIiIiIiIv4\\u002fZmZmZmZm\\u002fj+rqqqqqqr+P+\\u002fu7u7u7v4\\u002fMzMzMzMz\\u002fz93d3d3d3f\\u002fP7y7u7u7u\\u002f8\\u002fAAAAAAAAAEA=\"},\"xaxis\":\"x\",\"y\":{\"dtype\":\"f8\",\"bdata\":\"AAAAAAAA8D8AAAAAAADwPwAAAAAAAPA\\u002fAAAAAAAA8D8AAAAAAADwPwAAAAAAAPA\\u002fAAAAAAAA8D8AAAAAAADwPwAAAAAAAPA\\u002fAAAAAAAA8D8AAAAAAADwPwAAAAAAAPA\\u002fAAAAAAAA8D8AAAAAAADwPwAAAAAAAPA\\u002fAAAAAAAA8D8AAAAAAADwPwAAAAAAAPA\\u002fAAAAAAAA8D8AAAAAAADwPwAAAAAAAPA\\u002fAAAAAAAA8D8AAAAAAADwPwAAAAAAAPA\\u002fAAAAAAAA8D8AAAAAAADwPwAAAAAAAPA\\u002fAAAAAAAA8D8AAAAAAADwPwAAAAAAAPA\\u002fAAAAAAAE8D8AAAAAABjvPwAAAAAA4PU\\u002fAAAAAADA\\u002fL8AAAAAAKEtQAAAAABAfkbAAAAAAAAhWkAAAAAAwPhiwAAAAACoEWFAAAAAACDVS8AAAAAAAAAAQAAAAAAAAABAAAAAAAAAAEAAAAAAAAAAQAAAAAAAAABAAAAAAAAAAEAAAAAAAAAAQAAAAAAAAABAAAAAAAAAAEAAAAAAAAAAQAAAAAAAAABAAAAAAAAAAEAAAAAAAAAAQAAAAAAAAABAAAAAAAAAAEAAAAAAAAAAQAAAAAAAAABAAAAAAAAAAEAAAAAAAAAAQAAAAAAAAABAAAAAAAAAAEAAAAAAAPz\\u002fPwAAAAAAOgBAAAAAAAAg+j8AAAAAADATQAAAAAAAoSfAAAAAAED+R0AAAAAAAGFZwAAAAADAWGNAAAAAAKixYMAAAAAAIFVNQAAAAAAAAPA\\u002fAAAAAAAA8D8AAAAAAADwPwAAAAAAAPA\\u002fAAAAAAAA8D8AAAAAAADwPwAAAAAAAPA\\u002fAAAAAAAA8D8AAAAAAADwPwAAAAAAAPA\\u002fAAAAAAAA8D8AAAAAAADwPwAAAAAAAPA\\u002fAAAAAAAA8D8AAAAAAADwPwAAAAAAAPA\\u002fAAAAAAAA8D8AAAAAAADwPwAAAAAAAPA\\u002fAAAAAAAA8D8AAAAAAADwPwAAAAAAAPA\\u002fAAAAAAAA8D8AAAAAAADwPwAAAAAAAPA\\u002fAAAAAAAA8D8AAAAAAADwPwAAAAAAAPA\\u002fAAAAAAAA8D8AAAAAAADwPwAAAAAAAPA\\u002fAAAAAAAA8D8AAAAAAADwPwAAAAAAAPA\\u002fAAAAAAAA8D8AAAAAAADwPwAAAAAAAPA\\u002fAAAAAAAA8D8AAAAAAADwPwAAAAAAAPA\\u002fAAAAAAAA8D8AAAAAAADwPwAAAAAAAPA\\u002fAAAAAAAA8D8AAAAAAADwPwAAAAAAAPA\\u002fAAAAAAAA8D8AAAAAAADwPwAAAAAAAPA\\u002fAAAAAAAA8D8=\"},\"yaxis\":\"y\",\"type\":\"scatter\"}],\"name\":\"10\"},{\"data\":[{\"hovertemplate\":\"variable=11\\u003cbr\\u003ex=%{x}\\u003cbr\\u003evalue=%{y}\\u003cextra\\u003e\\u003c\\u002fextra\\u003e\",\"legendgroup\":\"\",\"line\":{\"color\":\"#636efa\",\"dash\":\"solid\"},\"marker\":{\"symbol\":\"circle\"},\"mode\":\"lines\",\"name\":\"\",\"orientation\":\"v\",\"showlegend\":false,\"x\":{\"dtype\":\"f8\",\"bdata\":\"AAAAAAAAAAARERERERGRPxEREREREaE\\u002fmpmZmZmZqT8RERERERGxP1VVVVVVVbU\\u002fmpmZmZmZuT\\u002fe3d3d3d29PxEREREREcE\\u002fMzMzMzMzwz9VVVVVVVXFP3d3d3d3d8c\\u002fmpmZmZmZyT+8u7u7u7vLP97d3d3d3c0\\u002fAAAAAAAA0D8RERERERHRPyIiIiIiItI\\u002fMzMzMzMz0z9ERERERETUP1VVVVVVVdU\\u002fZmZmZmZm1j93d3d3d3fXP4iIiIiIiNg\\u002fmpmZmZmZ2T+rqqqqqqraP7y7u7u7u9s\\u002fzczMzMzM3D\\u002fe3d3d3d3dP+\\u002fu7u7u7t4\\u002fAAAAAAAA4D+IiIiIiIjgPxEREREREeE\\u002fmpmZmZmZ4T8iIiIiIiLiP6uqqqqqquI\\u002fMzMzMzMz4z+8u7u7u7vjP0REREREROQ\\u002fzczMzMzM5D9VVVVVVVXlP97d3d3d3eU\\u002fZmZmZmZm5j\\u002fv7u7u7u7mP3d3d3d3d+c\\u002fAAAAAAAA6D+IiIiIiIjoPxEREREREek\\u002fmpmZmZmZ6T8iIiIiIiLqP6uqqqqqquo\\u002fMzMzMzMz6z+8u7u7u7vrP0REREREROw\\u002fzczMzMzM7D9VVVVVVVXtP97d3d3d3e0\\u002fZmZmZmZm7j\\u002fv7u7u7u7uP3d3d3d3d+8\\u002fAAAAAAAA8D9ERERERETwP4iIiIiIiPA\\u002fzczMzMzM8D8RERERERHxP1VVVVVVVfE\\u002fmpmZmZmZ8T\\u002fe3d3d3d3xPyIiIiIiIvI\\u002fZmZmZmZm8j+rqqqqqqryP+\\u002fu7u7u7vI\\u002fMzMzMzMz8z93d3d3d3fzP7y7u7u7u\\u002fM\\u002fAAAAAAAA9D9ERERERET0P4iIiIiIiPQ\\u002fzczMzMzM9D8RERERERH1P1VVVVVVVfU\\u002fmpmZmZmZ9T\\u002fe3d3d3d31PyIiIiIiIvY\\u002fZmZmZmZm9j+rqqqqqqr2P+\\u002fu7u7u7vY\\u002fMzMzMzMz9z93d3d3d3f3P7y7u7u7u\\u002fc\\u002fAAAAAAAA+D9ERERERET4P4iIiIiIiPg\\u002fzczMzMzM+D8RERERERH5P1VVVVVVVfk\\u002fmpmZmZmZ+T\\u002fe3d3d3d35PyIiIiIiIvo\\u002fZmZmZmZm+j+rqqqqqqr6P+\\u002fu7u7u7vo\\u002fMzMzMzMz+z93d3d3d3f7P7y7u7u7u\\u002fs\\u002fAAAAAAAA\\u002fD9ERERERET8P4iIiIiIiPw\\u002fzczMzMzM\\u002fD8RERERERH9P1VVVVVVVf0\\u002fmZmZmZmZ\\u002fT\\u002fe3d3d3d39PyIiIiIiIv4\\u002fZmZmZmZm\\u002fj+rqqqqqqr+P+\\u002fu7u7u7v4\\u002fMzMzMzMz\\u002fz93d3d3d3f\\u002fP7y7u7u7u\\u002f8\\u002fAAAAAAAAAEA=\"},\"xaxis\":\"x\",\"y\":{\"dtype\":\"f8\",\"bdata\":\"AAAAAAAA8D8AAAAAAADwPwAAAAAAAPA\\u002fAAAAAAAA8D8AAAAAAADwPwAAAAAAAPA\\u002fAAAAAAAA8D8AAAAAAADwPwAAAAAAAPA\\u002fAAAAAAAA8D8AAAAAAADwPwAAAAAAAPA\\u002fAAAAAAAA8D8AAAAAAADwPwAAAAAAAPA\\u002fAAAAAAAA8D8AAAAAAADwPwAAAAAAAPA\\u002fAAAAAAAA8D8AAAAAAADwPwAAAAAAAPA\\u002fAAAAAAAA8D8AAAAAAADwPwAAAAAAAPA\\u002fAAAAAAAA8D8AAAAAAADwPwAAAAAAAPA\\u002fAAAAAAAA8D8AAAAAAADwPwAAAAAAAPA\\u002fAAAAAAD87z8AAAAAAEDwPwAAAAAAxOg\\u002fAAAAAACYB0AAAAAAgDQkwAAAAACAW0ZAAAAAADDvXcAAAAAAIBVtQAAAAAD6fnLAAAAAACAVbUAAAAAA2B9VwAAAAAAAAABAAAAAAAAAAEAAAAAAAAAAQAAAAAAAAABAAAAAAAAAAEAAAAAAAAAAQAAAAAAAAABAAAAAAAAAAEAAAAAAAAAAQAAAAAAAAABAAAAAAAAAAEAAAAAAAAAAQAAAAAAAAABAAAAAAAAAAEAAAAAAAAAAQAAAAAAAAABAAAAAAAAAAEAAAAAAAAAAQAAAAAAAAABAAAAAAAAAAEAAAAAAAAEAQAAAAAAAwP8\\u002fAAAAAADPAUAAAAAAAACqPwAAAACANCpAAAAAAIDbRMAAAAAAMK9eQAAAAAAgtWzAAAAAAPquckAAAAAAILVswAAAAADY31VAAAAAAAAA8D8AAAAAAADwPwAAAAAAAPA\\u002fAAAAAAAA8D8AAAAAAADwPwAAAAAAAPA\\u002fAAAAAAAA8D8AAAAAAADwPwAAAAAAAPA\\u002fAAAAAAAA8D8AAAAAAADwPwAAAAAAAPA\\u002fAAAAAAAA8D8AAAAAAADwPwAAAAAAAPA\\u002fAAAAAAAA8D8AAAAAAADwPwAAAAAAAPA\\u002fAAAAAAAA8D8AAAAAAADwPwAAAAAAAPA\\u002fAAAAAAAA8D8AAAAAAADwPwAAAAAAAPA\\u002fAAAAAAAA8D8AAAAAAADwPwAAAAAAAPA\\u002fAAAAAAAA8D8AAAAAAADwPwAAAAAAAPA\\u002fAAAAAAAA8D8AAAAAAADwPwAAAAAAAPA\\u002fAAAAAAAA8D8AAAAAAADwPwAAAAAAAPA\\u002fAAAAAAAA8D8AAAAAAADwPwAAAAAAAPA\\u002fAAAAAAAA8D8AAAAAAADwPwAAAAAAAPA\\u002fAAAAAAAA8D8AAAAAAADwPwAAAAAAAPA\\u002fAAAAAAAA8D8AAAAAAADwPwAAAAAAAPA\\u002fAAAAAAAA8D8=\"},\"yaxis\":\"y\",\"type\":\"scatter\"}],\"name\":\"11\"},{\"data\":[{\"hovertemplate\":\"variable=12\\u003cbr\\u003ex=%{x}\\u003cbr\\u003evalue=%{y}\\u003cextra\\u003e\\u003c\\u002fextra\\u003e\",\"legendgroup\":\"\",\"line\":{\"color\":\"#636efa\",\"dash\":\"solid\"},\"marker\":{\"symbol\":\"circle\"},\"mode\":\"lines\",\"name\":\"\",\"orientation\":\"v\",\"showlegend\":false,\"x\":{\"dtype\":\"f8\",\"bdata\":\"AAAAAAAAAAARERERERGRPxEREREREaE\\u002fmpmZmZmZqT8RERERERGxP1VVVVVVVbU\\u002fmpmZmZmZuT\\u002fe3d3d3d29PxEREREREcE\\u002fMzMzMzMzwz9VVVVVVVXFP3d3d3d3d8c\\u002fmpmZmZmZyT+8u7u7u7vLP97d3d3d3c0\\u002fAAAAAAAA0D8RERERERHRPyIiIiIiItI\\u002fMzMzMzMz0z9ERERERETUP1VVVVVVVdU\\u002fZmZmZmZm1j93d3d3d3fXP4iIiIiIiNg\\u002fmpmZmZmZ2T+rqqqqqqraP7y7u7u7u9s\\u002fzczMzMzM3D\\u002fe3d3d3d3dP+\\u002fu7u7u7t4\\u002fAAAAAAAA4D+IiIiIiIjgPxEREREREeE\\u002fmpmZmZmZ4T8iIiIiIiLiP6uqqqqqquI\\u002fMzMzMzMz4z+8u7u7u7vjP0REREREROQ\\u002fzczMzMzM5D9VVVVVVVXlP97d3d3d3eU\\u002fZmZmZmZm5j\\u002fv7u7u7u7mP3d3d3d3d+c\\u002fAAAAAAAA6D+IiIiIiIjoPxEREREREek\\u002fmpmZmZmZ6T8iIiIiIiLqP6uqqqqqquo\\u002fMzMzMzMz6z+8u7u7u7vrP0REREREROw\\u002fzczMzMzM7D9VVVVVVVXtP97d3d3d3e0\\u002fZmZmZmZm7j\\u002fv7u7u7u7uP3d3d3d3d+8\\u002fAAAAAAAA8D9ERERERETwP4iIiIiIiPA\\u002fzczMzMzM8D8RERERERHxP1VVVVVVVfE\\u002fmpmZmZmZ8T\\u002fe3d3d3d3xPyIiIiIiIvI\\u002fZmZmZmZm8j+rqqqqqqryP+\\u002fu7u7u7vI\\u002fMzMzMzMz8z93d3d3d3fzP7y7u7u7u\\u002fM\\u002fAAAAAAAA9D9ERERERET0P4iIiIiIiPQ\\u002fzczMzMzM9D8RERERERH1P1VVVVVVVfU\\u002fmpmZmZmZ9T\\u002fe3d3d3d31PyIiIiIiIvY\\u002fZmZmZmZm9j+rqqqqqqr2P+\\u002fu7u7u7vY\\u002fMzMzMzMz9z93d3d3d3f3P7y7u7u7u\\u002fc\\u002fAAAAAAAA+D9ERERERET4P4iIiIiIiPg\\u002fzczMzMzM+D8RERERERH5P1VVVVVVVfk\\u002fmpmZmZmZ+T\\u002fe3d3d3d35PyIiIiIiIvo\\u002fZmZmZmZm+j+rqqqqqqr6P+\\u002fu7u7u7vo\\u002fMzMzMzMz+z93d3d3d3f7P7y7u7u7u\\u002fs\\u002fAAAAAAAA\\u002fD9ERERERET8P4iIiIiIiPw\\u002fzczMzMzM\\u002fD8RERERERH9P1VVVVVVVf0\\u002fmZmZmZmZ\\u002fT\\u002fe3d3d3d39PyIiIiIiIv4\\u002fZmZmZmZm\\u002fj+rqqqqqqr+P+\\u002fu7u7u7v4\\u002fMzMzMzMz\\u002fz93d3d3d3f\\u002fP7y7u7u7u\\u002f8\\u002fAAAAAAAAAEA=\"},\"xaxis\":\"x\",\"y\":{\"dtype\":\"f8\",\"bdata\":\"AAAAAAAA8D8AAAAAAADwPwAAAAAAAPA\\u002fAAAAAAAA8D8AAAAAAADwPwAAAAAAAPA\\u002fAAAAAAAA8D8AAAAAAADwPwAAAAAAAPA\\u002fAAAAAAAA8D8AAAAAAADwPwAAAAAAAPA\\u002fAAAAAAAA8D8AAAAAAADwPwAAAAAAAPA\\u002fAAAAAAAA8D8AAAAAAADwPwAAAAAAAPA\\u002fAAAAAAAA8D8AAAAAAADwPwAAAAAAAPA\\u002fAAAAAAAA8D8AAAAAAADwPwAAAAAAAPA\\u002fAAAAAAAA8D8AAAAAAADwPwAAAAAAAPA\\u002fAAAAAAAA8D8AAAAAAADwPwAAAAAAAPA\\u002fAAAAAAAB8D8AAAAAALrvPwAAAAAAL\\u002fI\\u002fAAAAAAAU1L8AAAAAQPMiQAAAAABwwULAAAAAADi8X0AAAAAA+n5ywAAAAABVD39AAAAAgN+BgcAAAAAA03N4QAAAAADE71\\u002fAAAAAAAAAAEAAAAAAAAAAQAAAAAAAAABAAAAAAAAAAEAAAAAAAAAAQAAAAAAAAABAAAAAAAAAAEAAAAAAAAAAQAAAAAAAAABAAAAAAAAAAEAAAAAAAAAAQAAAAAAAAABAAAAAAAAAAEAAAAAAAAAAQAAAAAAAAABAAAAAAAAAAEAAAAAAAAAAQAAAAAAAAABAAAAAAAAAAEAAAAAAAP\\u002f\\u002fPwAAAACAEQBAAAAAAADR\\u002fT8AAAAAgIIKQAAAAACA5hnAAAAAAHBBREAAAAAAOPxewAAAAAD6rnJAAAAAAFXffsAAAACA35mBQAAAAADTQ3jAAAAAAOJXYEAAAAAAAADwPwAAAAAAAPA\\u002fAAAAAAAA8D8AAAAAAADwPwAAAAAAAPA\\u002fAAAAAAAA8D8AAAAAAADwPwAAAAAAAPA\\u002fAAAAAAAA8D8AAAAAAADwPwAAAAAAAPA\\u002fAAAAAAAA8D8AAAAAAADwPwAAAAAAAPA\\u002fAAAAAAAA8D8AAAAAAADwPwAAAAAAAPA\\u002fAAAAAAAA8D8AAAAAAADwPwAAAAAAAPA\\u002fAAAAAAAA8D8AAAAAAADwPwAAAAAAAPA\\u002fAAAAAAAA8D8AAAAAAADwPwAAAAAAAPA\\u002fAAAAAAAA8D8AAAAAAADwPwAAAAAAAPA\\u002fAAAAAAAA8D8AAAAAAADwPwAAAAAAAPA\\u002fAAAAAAAA8D8AAAAAAADwPwAAAAAAAPA\\u002fAAAAAAAA8D8AAAAAAADwPwAAAAAAAPA\\u002fAAAAAAAA8D8AAAAAAADwPwAAAAAAAPA\\u002fAAAAAAAA8D8AAAAAAADwPwAAAAAAAPA\\u002fAAAAAAAA8D8AAAAAAADwPwAAAAAAAPA\\u002fAAAAAAAA8D8=\"},\"yaxis\":\"y\",\"type\":\"scatter\"}],\"name\":\"12\"},{\"data\":[{\"hovertemplate\":\"variable=13\\u003cbr\\u003ex=%{x}\\u003cbr\\u003evalue=%{y}\\u003cextra\\u003e\\u003c\\u002fextra\\u003e\",\"legendgroup\":\"\",\"line\":{\"color\":\"#636efa\",\"dash\":\"solid\"},\"marker\":{\"symbol\":\"circle\"},\"mode\":\"lines\",\"name\":\"\",\"orientation\":\"v\",\"showlegend\":false,\"x\":{\"dtype\":\"f8\",\"bdata\":\"AAAAAAAAAAARERERERGRPxEREREREaE\\u002fmpmZmZmZqT8RERERERGxP1VVVVVVVbU\\u002fmpmZmZmZuT\\u002fe3d3d3d29PxEREREREcE\\u002fMzMzMzMzwz9VVVVVVVXFP3d3d3d3d8c\\u002fmpmZmZmZyT+8u7u7u7vLP97d3d3d3c0\\u002fAAAAAAAA0D8RERERERHRPyIiIiIiItI\\u002fMzMzMzMz0z9ERERERETUP1VVVVVVVdU\\u002fZmZmZmZm1j93d3d3d3fXP4iIiIiIiNg\\u002fmpmZmZmZ2T+rqqqqqqraP7y7u7u7u9s\\u002fzczMzMzM3D\\u002fe3d3d3d3dP+\\u002fu7u7u7t4\\u002fAAAAAAAA4D+IiIiIiIjgPxEREREREeE\\u002fmpmZmZmZ4T8iIiIiIiLiP6uqqqqqquI\\u002fMzMzMzMz4z+8u7u7u7vjP0REREREROQ\\u002fzczMzMzM5D9VVVVVVVXlP97d3d3d3eU\\u002fZmZmZmZm5j\\u002fv7u7u7u7mP3d3d3d3d+c\\u002fAAAAAAAA6D+IiIiIiIjoPxEREREREek\\u002fmpmZmZmZ6T8iIiIiIiLqP6uqqqqqquo\\u002fMzMzMzMz6z+8u7u7u7vrP0REREREROw\\u002fzczMzMzM7D9VVVVVVVXtP97d3d3d3e0\\u002fZmZmZmZm7j\\u002fv7u7u7u7uP3d3d3d3d+8\\u002fAAAAAAAA8D9ERERERETwP4iIiIiIiPA\\u002fzczMzMzM8D8RERERERHxP1VVVVVVVfE\\u002fmpmZmZmZ8T\\u002fe3d3d3d3xPyIiIiIiIvI\\u002fZmZmZmZm8j+rqqqqqqryP+\\u002fu7u7u7vI\\u002fMzMzMzMz8z93d3d3d3fzP7y7u7u7u\\u002fM\\u002fAAAAAAAA9D9ERERERET0P4iIiIiIiPQ\\u002fzczMzMzM9D8RERERERH1P1VVVVVVVfU\\u002fmpmZmZmZ9T\\u002fe3d3d3d31PyIiIiIiIvY\\u002fZmZmZmZm9j+rqqqqqqr2P+\\u002fu7u7u7vY\\u002fMzMzMzMz9z93d3d3d3f3P7y7u7u7u\\u002fc\\u002fAAAAAAAA+D9ERERERET4P4iIiIiIiPg\\u002fzczMzMzM+D8RERERERH5P1VVVVVVVfk\\u002fmpmZmZmZ+T\\u002fe3d3d3d35PyIiIiIiIvo\\u002fZmZmZmZm+j+rqqqqqqr6P+\\u002fu7u7u7vo\\u002fMzMzMzMz+z93d3d3d3f7P7y7u7u7u\\u002fs\\u002fAAAAAAAA\\u002fD9ERERERET8P4iIiIiIiPw\\u002fzczMzMzM\\u002fD8RERERERH9P1VVVVVVVf0\\u002fmZmZmZmZ\\u002fT\\u002fe3d3d3d39PyIiIiIiIv4\\u002fZmZmZmZm\\u002fj+rqqqqqqr+P+\\u002fu7u7u7v4\\u002fMzMzMzMz\\u002fz93d3d3d3f\\u002fP7y7u7u7u\\u002f8\\u002fAAAAAAAAAEA=\"},\"xaxis\":\"x\",\"y\":{\"dtype\":\"f8\",\"bdata\":\"AAAAAAAA8D8AAAAAAADwPwAAAAAAAPA\\u002fAAAAAAAA8D8AAAAAAADwPwAAAAAAAPA\\u002fAAAAAAAA8D8AAAAAAADwPwAAAAAAAPA\\u002fAAAAAAAA8D8AAAAAAADwPwAAAAAAAPA\\u002fAAAAAAAA8D8AAAAAAADwPwAAAAAAAPA\\u002fAAAAAAAA8D8AAAAAAADwPwAAAAAAAPA\\u002fAAAAAAAA8D8AAAAAAADwPwAAAAAAAPA\\u002fAAAAAAAA8D8AAAAAAADwPwAAAAAAAPA\\u002fAAAAAAAA8D8AAAAAAADwPwAAAAAAAPA\\u002fAAAAAAAA8D8AAAAAAADwPwAAAAAAAPA\\u002fAAAAAAD\\u002f7z8AAAAAABPwPwAAAAAAaO0\\u002fAAAAAADJ\\u002fT8AAAAAINUUwAAAAADwe0BAAAAAADDvXcAAAAAAEiZ1QAAAAMAQo4XAAAAAwDcGkEAAAAAA4i+QwAAAAIDaVYRAAAAAANMTaMAAAAAAAAAAQAAAAAAAAABAAAAAAAAAAEAAAAAAAAAAQAAAAAAAAABAAAAAAAAAAEAAAAAAAAAAQAAAAAAAAABAAAAAAAAAAEAAAAAAAAAAQAAAAAAAAABAAAAAAAAAAEAAAAAAAAAAQAAAAAAAAABAAAAAAAAAAEAAAAAAAAAAQAAAAAAAAABAAAAAAAAAAEAAAAAAQAAAQAAAAAAA7f8\\u002fAAAAAACmAEAAAAAAADfyPwAAAACQaiBAAAAAAOD3PcAAAAAAMK9eQAAAAAAS9nTAAAAAwBC7hUAAAACAb\\u002fSPwAAAAADiO5BAAAAAgNo9hMAAAAAA03NoQAAAAAAAAPA\\u002fAAAAAAAA8D8AAAAAAADwPwAAAAAAAPA\\u002fAAAAAAAA8D8AAAAAAADwPwAAAAAAAPA\\u002fAAAAAAAA8D8AAAAAAADwPwAAAAAAAPA\\u002fAAAAAAAA8D8AAAAAAADwPwAAAAAAAPA\\u002fAAAAAAAA8D8AAAAAAADwPwAAAAAAAPA\\u002fAAAAAAAA8D8AAAAAAADwPwAAAAAAAPA\\u002fAAAAAAAA8D8AAAAAAADwPwAAAAAAAPA\\u002fAAAAAAAA8D8AAAAAAADwPwAAAAAAAPA\\u002fAAAAAAAA8D8AAAAAAADwPwAAAAAAAPA\\u002fAAAAAAAA8D8AAAAAAADwPwAAAAAAAPA\\u002fAAAAAAAA8D8AAAAAAADwPwAAAAAAAPA\\u002fAAAAAAAA8D8AAAAAAADwPwAAAAAAAPA\\u002fAAAAAAAA8D8AAAAAAADwPwAAAAAAAPA\\u002fAAAAAAAA8D8AAAAAAADwPwAAAAAAAPA\\u002fAAAAAAAA8D8AAAAAAADwPwAAAAAAAPA\\u002fAAAAAAAA8D8=\"},\"yaxis\":\"y\",\"type\":\"scatter\"}],\"name\":\"13\"},{\"data\":[{\"hovertemplate\":\"variable=14\\u003cbr\\u003ex=%{x}\\u003cbr\\u003evalue=%{y}\\u003cextra\\u003e\\u003c\\u002fextra\\u003e\",\"legendgroup\":\"\",\"line\":{\"color\":\"#636efa\",\"dash\":\"solid\"},\"marker\":{\"symbol\":\"circle\"},\"mode\":\"lines\",\"name\":\"\",\"orientation\":\"v\",\"showlegend\":false,\"x\":{\"dtype\":\"f8\",\"bdata\":\"AAAAAAAAAAARERERERGRPxEREREREaE\\u002fmpmZmZmZqT8RERERERGxP1VVVVVVVbU\\u002fmpmZmZmZuT\\u002fe3d3d3d29PxEREREREcE\\u002fMzMzMzMzwz9VVVVVVVXFP3d3d3d3d8c\\u002fmpmZmZmZyT+8u7u7u7vLP97d3d3d3c0\\u002fAAAAAAAA0D8RERERERHRPyIiIiIiItI\\u002fMzMzMzMz0z9ERERERETUP1VVVVVVVdU\\u002fZmZmZmZm1j93d3d3d3fXP4iIiIiIiNg\\u002fmpmZmZmZ2T+rqqqqqqraP7y7u7u7u9s\\u002fzczMzMzM3D\\u002fe3d3d3d3dP+\\u002fu7u7u7t4\\u002fAAAAAAAA4D+IiIiIiIjgPxEREREREeE\\u002fmpmZmZmZ4T8iIiIiIiLiP6uqqqqqquI\\u002fMzMzMzMz4z+8u7u7u7vjP0REREREROQ\\u002fzczMzMzM5D9VVVVVVVXlP97d3d3d3eU\\u002fZmZmZmZm5j\\u002fv7u7u7u7mP3d3d3d3d+c\\u002fAAAAAAAA6D+IiIiIiIjoPxEREREREek\\u002fmpmZmZmZ6T8iIiIiIiLqP6uqqqqqquo\\u002fMzMzMzMz6z+8u7u7u7vrP0REREREROw\\u002fzczMzMzM7D9VVVVVVVXtP97d3d3d3e0\\u002fZmZmZmZm7j\\u002fv7u7u7u7uP3d3d3d3d+8\\u002fAAAAAAAA8D9ERERERETwP4iIiIiIiPA\\u002fzczMzMzM8D8RERERERHxP1VVVVVVVfE\\u002fmpmZmZmZ8T\\u002fe3d3d3d3xPyIiIiIiIvI\\u002fZmZmZmZm8j+rqqqqqqryP+\\u002fu7u7u7vI\\u002fMzMzMzMz8z93d3d3d3fzP7y7u7u7u\\u002fM\\u002fAAAAAAAA9D9ERERERET0P4iIiIiIiPQ\\u002fzczMzMzM9D8RERERERH1P1VVVVVVVfU\\u002fmpmZmZmZ9T\\u002fe3d3d3d31PyIiIiIiIvY\\u002fZmZmZmZm9j+rqqqqqqr2P+\\u002fu7u7u7vY\\u002fMzMzMzMz9z93d3d3d3f3P7y7u7u7u\\u002fc\\u002fAAAAAAAA+D9ERERERET4P4iIiIiIiPg\\u002fzczMzMzM+D8RERERERH5P1VVVVVVVfk\\u002fmpmZmZmZ+T\\u002fe3d3d3d35PyIiIiIiIvo\\u002fZmZmZmZm+j+rqqqqqqr6P+\\u002fu7u7u7vo\\u002fMzMzMzMz+z93d3d3d3f7P7y7u7u7u\\u002fs\\u002fAAAAAAAA\\u002fD9ERERERET8P4iIiIiIiPw\\u002fzczMzMzM\\u002fD8RERERERH9P1VVVVVVVf0\\u002fmZmZmZmZ\\u002fT\\u002fe3d3d3d39PyIiIiIiIv4\\u002fZmZmZmZm\\u002fj+rqqqqqqr+P+\\u002fu7u7u7v4\\u002fMzMzMzMz\\u002fz93d3d3d3f\\u002fP7y7u7u7u\\u002f8\\u002fAAAAAAAAAEA=\"},\"xaxis\":\"x\",\"y\":{\"dtype\":\"f8\",\"bdata\":\"AAAAAAAA8D8AAAAAAADwPwAAAAAAAPA\\u002fAAAAAAAA8D8AAAAAAADwPwAAAAAAAPA\\u002fAAAAAAAA8D8AAAAAAADwPwAAAAAAAPA\\u002fAAAAAAAA8D8AAAAAAADwPwAAAAAAAPA\\u002fAAAAAAAA8D8AAAAAAADwPwAAAAAAAPA\\u002fAAAAAAAA8D8AAAAAAADwPwAAAAAAAPA\\u002fAAAAAAAA8D8AAAAAAADwPwAAAAAAAPA\\u002fAAAAAAAA8D8AAAAAAADwPwAAAAAAAPA\\u002fAAAAAAAA8D8AAAAAAADwPwAAAAAAAPA\\u002fAAAAAAAA8D8AAAAAAADwPwAAAAAAAPA\\u002fAAAAAEAA8D8AAAAAgOvvPwAAAACAwvA\\u002fAAAAAACm3D8AAAAA8JUVQAAAAADcSzjAAAAAAIxUW0AAAAAAu8x1wAAAAOAVropAAAAAcGg9mMAAAABQohCgQAAAAKBJXZ3AAAAAEKHBkEAAAABA3h5ywAAAAAAAAABAAAAAAAAAAEAAAAAAAAAAQAAAAAAAAABAAAAAAAAAAEAAAAAAAAAAQAAAAAAAAABAAAAAAAAAAEAAAAAAAAAAQAAAAAAAAABAAAAAAAAAAEAAAAAAAAAAQAAAAAAAAABAAAAAAAAAAEAAAAAAAAAAQAAAAAAAAABAAAAAAAAAAEAAAAAAwP\\u002f\\u002fPwAAAAAgBQBAAAAAAIA9\\u002fz8AAAAAQGsEQAAAAADgKwPAAAAAANxLO0AAAAAAjJRawAAAAAC7\\u002fHVAAAAA4BWWisAAAABwaEmYQAAAAFCiCqDAAAAAoElpnUAAAAAQobWQwAAAAEDeTnJAAAAAAAAA8D8AAAAAAADwPwAAAAAAAPA\\u002fAAAAAAAA8D8AAAAAAADwPwAAAAAAAPA\\u002fAAAAAAAA8D8AAAAAAADwPwAAAAAAAPA\\u002fAAAAAAAA8D8AAAAAAADwPwAAAAAAAPA\\u002fAAAAAAAA8D8AAAAAAADwPwAAAAAAAPA\\u002fAAAAAAAA8D8AAAAAAADwPwAAAAAAAPA\\u002fAAAAAAAA8D8AAAAAAADwPwAAAAAAAPA\\u002fAAAAAAAA8D8AAAAAAADwPwAAAAAAAPA\\u002fAAAAAAAA8D8AAAAAAADwPwAAAAAAAPA\\u002fAAAAAAAA8D8AAAAAAADwPwAAAAAAAPA\\u002fAAAAAAAA8D8AAAAAAADwPwAAAAAAAPA\\u002fAAAAAAAA8D8AAAAAAADwPwAAAAAAAPA\\u002fAAAAAAAA8D8AAAAAAADwPwAAAAAAAPA\\u002fAAAAAAAA8D8AAAAAAADwPwAAAAAAAPA\\u002fAAAAAAAA8D8AAAAAAADwPwAAAAAAAPA\\u002fAAAAAAAA8D8=\"},\"yaxis\":\"y\",\"type\":\"scatter\"}],\"name\":\"14\"},{\"data\":[{\"hovertemplate\":\"variable=15\\u003cbr\\u003ex=%{x}\\u003cbr\\u003evalue=%{y}\\u003cextra\\u003e\\u003c\\u002fextra\\u003e\",\"legendgroup\":\"\",\"line\":{\"color\":\"#636efa\",\"dash\":\"solid\"},\"marker\":{\"symbol\":\"circle\"},\"mode\":\"lines\",\"name\":\"\",\"orientation\":\"v\",\"showlegend\":false,\"x\":{\"dtype\":\"f8\",\"bdata\":\"AAAAAAAAAAARERERERGRPxEREREREaE\\u002fmpmZmZmZqT8RERERERGxP1VVVVVVVbU\\u002fmpmZmZmZuT\\u002fe3d3d3d29PxEREREREcE\\u002fMzMzMzMzwz9VVVVVVVXFP3d3d3d3d8c\\u002fmpmZmZmZyT+8u7u7u7vLP97d3d3d3c0\\u002fAAAAAAAA0D8RERERERHRPyIiIiIiItI\\u002fMzMzMzMz0z9ERERERETUP1VVVVVVVdU\\u002fZmZmZmZm1j93d3d3d3fXP4iIiIiIiNg\\u002fmpmZmZmZ2T+rqqqqqqraP7y7u7u7u9s\\u002fzczMzMzM3D\\u002fe3d3d3d3dP+\\u002fu7u7u7t4\\u002fAAAAAAAA4D+IiIiIiIjgPxEREREREeE\\u002fmpmZmZmZ4T8iIiIiIiLiP6uqqqqqquI\\u002fMzMzMzMz4z+8u7u7u7vjP0REREREROQ\\u002fzczMzMzM5D9VVVVVVVXlP97d3d3d3eU\\u002fZmZmZmZm5j\\u002fv7u7u7u7mP3d3d3d3d+c\\u002fAAAAAAAA6D+IiIiIiIjoPxEREREREek\\u002fmpmZmZmZ6T8iIiIiIiLqP6uqqqqqquo\\u002fMzMzMzMz6z+8u7u7u7vrP0REREREROw\\u002fzczMzMzM7D9VVVVVVVXtP97d3d3d3e0\\u002fZmZmZmZm7j\\u002fv7u7u7u7uP3d3d3d3d+8\\u002fAAAAAAAA8D9ERERERETwP4iIiIiIiPA\\u002fzczMzMzM8D8RERERERHxP1VVVVVVVfE\\u002fmpmZmZmZ8T\\u002fe3d3d3d3xPyIiIiIiIvI\\u002fZmZmZmZm8j+rqqqqqqryP+\\u002fu7u7u7vI\\u002fMzMzMzMz8z93d3d3d3fzP7y7u7u7u\\u002fM\\u002fAAAAAAAA9D9ERERERET0P4iIiIiIiPQ\\u002fzczMzMzM9D8RERERERH1P1VVVVVVVfU\\u002fmpmZmZmZ9T\\u002fe3d3d3d31PyIiIiIiIvY\\u002fZmZmZmZm9j+rqqqqqqr2P+\\u002fu7u7u7vY\\u002fMzMzMzMz9z93d3d3d3f3P7y7u7u7u\\u002fc\\u002fAAAAAAAA+D9ERERERET4P4iIiIiIiPg\\u002fzczMzMzM+D8RERERERH5P1VVVVVVVfk\\u002fmpmZmZmZ+T\\u002fe3d3d3d35PyIiIiIiIvo\\u002fZmZmZmZm+j+rqqqqqqr6P+\\u002fu7u7u7vo\\u002fMzMzMzMz+z93d3d3d3f7P7y7u7u7u\\u002fs\\u002fAAAAAAAA\\u002fD9ERERERET8P4iIiIiIiPw\\u002fzczMzMzM\\u002fD8RERERERH9P1VVVVVVVf0\\u002fmZmZmZmZ\\u002fT\\u002fe3d3d3d39PyIiIiIiIv4\\u002fZmZmZmZm\\u002fj+rqqqqqqr+P+\\u002fu7u7u7v4\\u002fMzMzMzMz\\u002fz93d3d3d3f\\u002fP7y7u7u7u\\u002f8\\u002fAAAAAAAAAEA=\"},\"xaxis\":\"x\",\"y\":{\"dtype\":\"f8\",\"bdata\":\"AAAAAAAA8D8AAAAAAADwPwAAAAAAAPA\\u002fAAAAAAAA8D8AAAAAAADwPwAAAAAAAPA\\u002fAAAAAAAA8D8AAAAAAADwPwAAAAAAAPA\\u002fAAAAAAAA8D8AAAAAAADwPwAAAAAAAPA\\u002fAAAAAAAA8D8AAAAAAADwPwAAAAAAAPA\\u002fAAAAAAAA8D8AAAAAAADwPwAAAAAAAPA\\u002fAAAAAAAA8D8AAAAAAADwPwAAAAAAAPA\\u002fAAAAAAAA8D8AAAAAAADwPwAAAAAAAPA\\u002fAAAAAAAA8D8AAAAAAADwPwAAAAAAAPA\\u002fAAAAAAAA8D8AAAAAAADwPwAAAAAAAPA\\u002fAAAAAMD\\u002f7z8AAAAAgAXwPwAAAADAHu8\\u002fAAAAAACP9T8AAAAA0DYAwAAAAAAoPjRAAAAAgLjGVsAAAAAAEiZ1QAAAADCXsI3AAAAAUKIQoEAAAAB8XzaqwAAAAOBFcK9AAAAAfF82qsAAAABgTWabQAAAAGBNPnvAAAAAAAAAAEAAAAAAAAAAQAAAAAAAAABAAAAAAAAAAEAAAAAAAAAAQAAAAAAAAABAAAAAAAAAAEAAAAAAAAAAQAAAAAAAAABAAAAAAAAAAEAAAAAAAAAAQAAAAAAAAABAAAAAAAAAAEAAAAAAAAAAQAAAAAAAAABAAAAAAAAAAEAAAAAAEAAAQAAAAACA+v8\\u002fAAAAAFA4AEAAAAAAAHH6PwAAAABoGxRAAAAAACg+McAAAACAuIZXQAAAAAAS9nTAAAAAMJfIjUAAAABQogqgwAAAAHxfPKpAAAAA4EVqr8AAAAB8XzyqQAAAAGBNWpvAAAAAYE1ue0AAAAAAAADwPwAAAAAAAPA\\u002fAAAAAAAA8D8AAAAAAADwPwAAAAAAAPA\\u002fAAAAAAAA8D8AAAAAAADwPwAAAAAAAPA\\u002fAAAAAAAA8D8AAAAAAADwPwAAAAAAAPA\\u002fAAAAAAAA8D8AAAAAAADwPwAAAAAAAPA\\u002fAAAAAAAA8D8AAAAAAADwPwAAAAAAAPA\\u002fAAAAAAAA8D8AAAAAAADwPwAAAAAAAPA\\u002fAAAAAAAA8D8AAAAAAADwPwAAAAAAAPA\\u002fAAAAAAAA8D8AAAAAAADwPwAAAAAAAPA\\u002fAAAAAAAA8D8AAAAAAADwPwAAAAAAAPA\\u002fAAAAAAAA8D8AAAAAAADwPwAAAAAAAPA\\u002fAAAAAAAA8D8AAAAAAADwPwAAAAAAAPA\\u002fAAAAAAAA8D8AAAAAAADwPwAAAAAAAPA\\u002fAAAAAAAA8D8AAAAAAADwPwAAAAAAAPA\\u002fAAAAAAAA8D8AAAAAAADwPwAAAAAAAPA\\u002fAAAAAAAA8D8=\"},\"yaxis\":\"y\",\"type\":\"scatter\"}],\"name\":\"15\"},{\"data\":[{\"hovertemplate\":\"variable=16\\u003cbr\\u003ex=%{x}\\u003cbr\\u003evalue=%{y}\\u003cextra\\u003e\\u003c\\u002fextra\\u003e\",\"legendgroup\":\"\",\"line\":{\"color\":\"#636efa\",\"dash\":\"solid\"},\"marker\":{\"symbol\":\"circle\"},\"mode\":\"lines\",\"name\":\"\",\"orientation\":\"v\",\"showlegend\":false,\"x\":{\"dtype\":\"f8\",\"bdata\":\"AAAAAAAAAAARERERERGRPxEREREREaE\\u002fmpmZmZmZqT8RERERERGxP1VVVVVVVbU\\u002fmpmZmZmZuT\\u002fe3d3d3d29PxEREREREcE\\u002fMzMzMzMzwz9VVVVVVVXFP3d3d3d3d8c\\u002fmpmZmZmZyT+8u7u7u7vLP97d3d3d3c0\\u002fAAAAAAAA0D8RERERERHRPyIiIiIiItI\\u002fMzMzMzMz0z9ERERERETUP1VVVVVVVdU\\u002fZmZmZmZm1j93d3d3d3fXP4iIiIiIiNg\\u002fmpmZmZmZ2T+rqqqqqqraP7y7u7u7u9s\\u002fzczMzMzM3D\\u002fe3d3d3d3dP+\\u002fu7u7u7t4\\u002fAAAAAAAA4D+IiIiIiIjgPxEREREREeE\\u002fmpmZmZmZ4T8iIiIiIiLiP6uqqqqqquI\\u002fMzMzMzMz4z+8u7u7u7vjP0REREREROQ\\u002fzczMzMzM5D9VVVVVVVXlP97d3d3d3eU\\u002fZmZmZmZm5j\\u002fv7u7u7u7mP3d3d3d3d+c\\u002fAAAAAAAA6D+IiIiIiIjoPxEREREREek\\u002fmpmZmZmZ6T8iIiIiIiLqP6uqqqqqquo\\u002fMzMzMzMz6z+8u7u7u7vrP0REREREROw\\u002fzczMzMzM7D9VVVVVVVXtP97d3d3d3e0\\u002fZmZmZmZm7j\\u002fv7u7u7u7uP3d3d3d3d+8\\u002fAAAAAAAA8D9ERERERETwP4iIiIiIiPA\\u002fzczMzMzM8D8RERERERHxP1VVVVVVVfE\\u002fmpmZmZmZ8T\\u002fe3d3d3d3xPyIiIiIiIvI\\u002fZmZmZmZm8j+rqqqqqqryP+\\u002fu7u7u7vI\\u002fMzMzMzMz8z93d3d3d3fzP7y7u7u7u\\u002fM\\u002fAAAAAAAA9D9ERERERET0P4iIiIiIiPQ\\u002fzczMzMzM9D8RERERERH1P1VVVVVVVfU\\u002fmpmZmZmZ9T\\u002fe3d3d3d31PyIiIiIiIvY\\u002fZmZmZmZm9j+rqqqqqqr2P+\\u002fu7u7u7vY\\u002fMzMzMzMz9z93d3d3d3f3P7y7u7u7u\\u002fc\\u002fAAAAAAAA+D9ERERERET4P4iIiIiIiPg\\u002fzczMzMzM+D8RERERERH5P1VVVVVVVfk\\u002fmpmZmZmZ+T\\u002fe3d3d3d35PyIiIiIiIvo\\u002fZmZmZmZm+j+rqqqqqqr6P+\\u002fu7u7u7vo\\u002fMzMzMzMz+z93d3d3d3f7P7y7u7u7u\\u002fs\\u002fAAAAAAAA\\u002fD9ERERERET8P4iIiIiIiPw\\u002fzczMzMzM\\u002fD8RERERERH9P1VVVVVVVf0\\u002fmZmZmZmZ\\u002fT\\u002fe3d3d3d39PyIiIiIiIv4\\u002fZmZmZmZm\\u002fj+rqqqqqqr+P+\\u002fu7u7u7v4\\u002fMzMzMzMz\\u002fz93d3d3d3f\\u002fP7y7u7u7u\\u002f8\\u002fAAAAAAAAAEA=\"},\"xaxis\":\"x\",\"y\":{\"dtype\":\"f8\",\"bdata\":\"AAAAAAAA8D8AAAAAAADwPwAAAAAAAPA\\u002fAAAAAAAA8D8AAAAAAADwPwAAAAAAAPA\\u002fAAAAAAAA8D8AAAAAAADwPwAAAAAAAPA\\u002fAAAAAAAA8D8AAAAAAADwPwAAAAAAAPA\\u002fAAAAAAAA8D8AAAAAAADwPwAAAAAAAPA\\u002fAAAAAAAA8D8AAAAAAADwPwAAAAAAAPA\\u002fAAAAAAAA8D8AAAAAAADwPwAAAAAAAPA\\u002fAAAAAAAA8D8AAAAAAADwPwAAAAAAAPA\\u002fAAAAAAAA8D8AAAAAAADwPwAAAAAAAPA\\u002fAAAAAAAA8D8AAAAAAADwPwAAAAAAAPA\\u002fAAAAABAA8D8AAAAAIPrvPwAAAACQQPA\\u002fAAAAACAf6T8AAAAAqEYIQAAAAAC2UirAAAAAQKv6UkAAAAAwjh1zwAAAABjZtI5AAAAA2okqo8AAAACbEZqyQAAAABXZhLvAAAAAR8whvkAAAABJkRW3wAAAAN6eQKZAAAAACLp2hMAAAAAAAAAAQAAAAAAAAABAAAAAAAAAAEAAAAAAAAAAQAAAAAAAAABAAAAAAAAAAEAAAAAAAAAAQAAAAAAAAABAAAAAAAAAAEAAAAAAAAAAQAAAAAAAAABAAAAAAAAAAEAAAAAAAAAAQAAAAAAAAABAAAAAAAAAAEAAAAAA8P\\u002f\\u002fPwAAAAB4AQBAAAAAAHC\\u002f\\u002fz8AAAAAOLgBQAAAAAAAqqG\\u002fAAAAAFspMEAAAABAqzpSwAAAADCOTXNAAAAAGNmcjsAAAADaiTCjQAAAAJsRl7LAAAAAFdmHu0AAAABHzB6+wAAAAEmRGLdAAAAA3p46psAAAAAIuo6EQAAAAAAAAPA\\u002fAAAAAAAA8D8AAAAAAADwPwAAAAAAAPA\\u002fAAAAAAAA8D8AAAAAAADwPwAAAAAAAPA\\u002fAAAAAAAA8D8AAAAAAADwPwAAAAAAAPA\\u002fAAAAAAAA8D8AAAAAAADwPwAAAAAAAPA\\u002fAAAAAAAA8D8AAAAAAADwPwAAAAAAAPA\\u002fAAAAAAAA8D8AAAAAAADwPwAAAAAAAPA\\u002fAAAAAAAA8D8AAAAAAADwPwAAAAAAAPA\\u002fAAAAAAAA8D8AAAAAAADwPwAAAAAAAPA\\u002fAAAAAAAA8D8AAAAAAADwPwAAAAAAAPA\\u002fAAAAAAAA8D8AAAAAAADwPwAAAAAAAPA\\u002fAAAAAAAA8D8AAAAAAADwPwAAAAAAAPA\\u002fAAAAAAAA8D8AAAAAAADwPwAAAAAAAPA\\u002fAAAAAAAA8D8AAAAAAADwPwAAAAAAAPA\\u002fAAAAAAAA8D8AAAAAAADwPwAAAAAAAPA\\u002fAAAAAAAA8D8=\"},\"yaxis\":\"y\",\"type\":\"scatter\"}],\"name\":\"16\"},{\"data\":[{\"hovertemplate\":\"variable=17\\u003cbr\\u003ex=%{x}\\u003cbr\\u003evalue=%{y}\\u003cextra\\u003e\\u003c\\u002fextra\\u003e\",\"legendgroup\":\"\",\"line\":{\"color\":\"#636efa\",\"dash\":\"solid\"},\"marker\":{\"symbol\":\"circle\"},\"mode\":\"lines\",\"name\":\"\",\"orientation\":\"v\",\"showlegend\":false,\"x\":{\"dtype\":\"f8\",\"bdata\":\"AAAAAAAAAAARERERERGRPxEREREREaE\\u002fmpmZmZmZqT8RERERERGxP1VVVVVVVbU\\u002fmpmZmZmZuT\\u002fe3d3d3d29PxEREREREcE\\u002fMzMzMzMzwz9VVVVVVVXFP3d3d3d3d8c\\u002fmpmZmZmZyT+8u7u7u7vLP97d3d3d3c0\\u002fAAAAAAAA0D8RERERERHRPyIiIiIiItI\\u002fMzMzMzMz0z9ERERERETUP1VVVVVVVdU\\u002fZmZmZmZm1j93d3d3d3fXP4iIiIiIiNg\\u002fmpmZmZmZ2T+rqqqqqqraP7y7u7u7u9s\\u002fzczMzMzM3D\\u002fe3d3d3d3dP+\\u002fu7u7u7t4\\u002fAAAAAAAA4D+IiIiIiIjgPxEREREREeE\\u002fmpmZmZmZ4T8iIiIiIiLiP6uqqqqqquI\\u002fMzMzMzMz4z+8u7u7u7vjP0REREREROQ\\u002fzczMzMzM5D9VVVVVVVXlP97d3d3d3eU\\u002fZmZmZmZm5j\\u002fv7u7u7u7mP3d3d3d3d+c\\u002fAAAAAAAA6D+IiIiIiIjoPxEREREREek\\u002fmpmZmZmZ6T8iIiIiIiLqP6uqqqqqquo\\u002fMzMzMzMz6z+8u7u7u7vrP0REREREROw\\u002fzczMzMzM7D9VVVVVVVXtP97d3d3d3e0\\u002fZmZmZmZm7j\\u002fv7u7u7u7uP3d3d3d3d+8\\u002fAAAAAAAA8D9ERERERETwP4iIiIiIiPA\\u002fzczMzMzM8D8RERERERHxP1VVVVVVVfE\\u002fmpmZmZmZ8T\\u002fe3d3d3d3xPyIiIiIiIvI\\u002fZmZmZmZm8j+rqqqqqqryP+\\u002fu7u7u7vI\\u002fMzMzMzMz8z93d3d3d3fzP7y7u7u7u\\u002fM\\u002fAAAAAAAA9D9ERERERET0P4iIiIiIiPQ\\u002fzczMzMzM9D8RERERERH1P1VVVVVVVfU\\u002fmpmZmZmZ9T\\u002fe3d3d3d31PyIiIiIiIvY\\u002fZmZmZmZm9j+rqqqqqqr2P+\\u002fu7u7u7vY\\u002fMzMzMzMz9z93d3d3d3f3P7y7u7u7u\\u002fc\\u002fAAAAAAAA+D9ERERERET4P4iIiIiIiPg\\u002fzczMzMzM+D8RERERERH5P1VVVVVVVfk\\u002fmpmZmZmZ+T\\u002fe3d3d3d35PyIiIiIiIvo\\u002fZmZmZmZm+j+rqqqqqqr6P+\\u002fu7u7u7vo\\u002fMzMzMzMz+z93d3d3d3f7P7y7u7u7u\\u002fs\\u002fAAAAAAAA\\u002fD9ERERERET8P4iIiIiIiPw\\u002fzczMzMzM\\u002fD8RERERERH9P1VVVVVVVf0\\u002fmZmZmZmZ\\u002fT\\u002fe3d3d3d39PyIiIiIiIv4\\u002fZmZmZmZm\\u002fj+rqqqqqqr+P+\\u002fu7u7u7v4\\u002fMzMzMzMz\\u002fz93d3d3d3f\\u002fP7y7u7u7u\\u002f8\\u002fAAAAAAAAAEA=\"},\"xaxis\":\"x\",\"y\":{\"dtype\":\"f8\",\"bdata\":\"AAAAAAAA8D8AAAAAAADwPwAAAAAAAPA\\u002fAAAAAAAA8D8AAAAAAADwPwAAAAAAAPA\\u002fAAAAAAAA8D8AAAAAAADwPwAAAAAAAPA\\u002fAAAAAAAA8D8AAAAAAADwPwAAAAAAAPA\\u002fAAAAAAAA8D8AAAAAAADwPwAAAAAAAPA\\u002fAAAAAAAA8D8AAAAAAADwPwAAAAAAAPA\\u002fAAAAAAAA8D8AAAAAAADwPwAAAAAAAPA\\u002fAAAAAAAA8D8AAAAAAADwPwAAAAAAAPA\\u002fAAAAAAAA8D8AAAAAAADwPwAAAAAAAPA\\u002fAAAAAAAA8D8AAAAAAADwPwAAAAAAAPA\\u002fAAAAAPD\\u002f7z8AAAAAkAHwPwAAAACgtu8\\u002fAAAAABAZ8j8AAAAAQL3VvwAAAADaQyZAAAAAgK\\u002fZTMAAAABQx6xwQAAAADCXsI3AAAAAVhYZpUAAAAAx8Ky3wAAAgHnD1MRAAACA4RUszMAAAICHvV7MQAAAgNJAGMTAAAAAx+L3sUAAAAAMF7qOwAAAAAAAAABAAAAAAAAAAEAAAAAAAAAAQAAAAAAAAABAAAAAAAAAAEAAAAAAAAAAQAAAAAAAAABAAAAAAAAAAEAAAAAAAAAAQAAAAAAAAABAAAAAAAAAAEAAAAAAAAAAQAAAAAAAAABAAAAAAAAAAEAAAAAABAAAQAAAAABw\\u002fv8\\u002fAAAAAFgSAEAAAAAA8Ob9PwAAAACotwpAAAAAANpDIMAAAACAr1lOQAAAAFDHfHDAAAAAMJfIjUAAAABWFhOlwAAAADHwr7dAAACAeUPTxMAAAIDhlS3MQAAAgIc9XczAAACA0sAZxEAAAADH4vSxwAAAAAwX0o5AAAAAAAAA8D8AAAAAAADwPwAAAAAAAPA\\u002fAAAAAAAA8D8AAAAAAADwPwAAAAAAAPA\\u002fAAAAAAAA8D8AAAAAAADwPwAAAAAAAPA\\u002fAAAAAAAA8D8AAAAAAADwPwAAAAAAAPA\\u002fAAAAAAAA8D8AAAAAAADwPwAAAAAAAPA\\u002fAAAAAAAA8D8AAAAAAADwPwAAAAAAAPA\\u002fAAAAAAAA8D8AAAAAAADwPwAAAAAAAPA\\u002fAAAAAAAA8D8AAAAAAADwPwAAAAAAAPA\\u002fAAAAAAAA8D8AAAAAAADwPwAAAAAAAPA\\u002fAAAAAAAA8D8AAAAAAADwPwAAAAAAAPA\\u002fAAAAAAAA8D8AAAAAAADwPwAAAAAAAPA\\u002fAAAAAAAA8D8AAAAAAADwPwAAAAAAAPA\\u002fAAAAAAAA8D8AAAAAAADwPwAAAAAAAPA\\u002fAAAAAAAA8D8AAAAAAADwPwAAAAAAAPA\\u002fAAAAAAAA8D8=\"},\"yaxis\":\"y\",\"type\":\"scatter\"}],\"name\":\"17\"},{\"data\":[{\"hovertemplate\":\"variable=18\\u003cbr\\u003ex=%{x}\\u003cbr\\u003evalue=%{y}\\u003cextra\\u003e\\u003c\\u002fextra\\u003e\",\"legendgroup\":\"\",\"line\":{\"color\":\"#636efa\",\"dash\":\"solid\"},\"marker\":{\"symbol\":\"circle\"},\"mode\":\"lines\",\"name\":\"\",\"orientation\":\"v\",\"showlegend\":false,\"x\":{\"dtype\":\"f8\",\"bdata\":\"AAAAAAAAAAARERERERGRPxEREREREaE\\u002fmpmZmZmZqT8RERERERGxP1VVVVVVVbU\\u002fmpmZmZmZuT\\u002fe3d3d3d29PxEREREREcE\\u002fMzMzMzMzwz9VVVVVVVXFP3d3d3d3d8c\\u002fmpmZmZmZyT+8u7u7u7vLP97d3d3d3c0\\u002fAAAAAAAA0D8RERERERHRPyIiIiIiItI\\u002fMzMzMzMz0z9ERERERETUP1VVVVVVVdU\\u002fZmZmZmZm1j93d3d3d3fXP4iIiIiIiNg\\u002fmpmZmZmZ2T+rqqqqqqraP7y7u7u7u9s\\u002fzczMzMzM3D\\u002fe3d3d3d3dP+\\u002fu7u7u7t4\\u002fAAAAAAAA4D+IiIiIiIjgPxEREREREeE\\u002fmpmZmZmZ4T8iIiIiIiLiP6uqqqqqquI\\u002fMzMzMzMz4z+8u7u7u7vjP0REREREROQ\\u002fzczMzMzM5D9VVVVVVVXlP97d3d3d3eU\\u002fZmZmZmZm5j\\u002fv7u7u7u7mP3d3d3d3d+c\\u002fAAAAAAAA6D+IiIiIiIjoPxEREREREek\\u002fmpmZmZmZ6T8iIiIiIiLqP6uqqqqqquo\\u002fMzMzMzMz6z+8u7u7u7vrP0REREREROw\\u002fzczMzMzM7D9VVVVVVVXtP97d3d3d3e0\\u002fZmZmZmZm7j\\u002fv7u7u7u7uP3d3d3d3d+8\\u002fAAAAAAAA8D9ERERERETwP4iIiIiIiPA\\u002fzczMzMzM8D8RERERERHxP1VVVVVVVfE\\u002fmpmZmZmZ8T\\u002fe3d3d3d3xPyIiIiIiIvI\\u002fZmZmZmZm8j+rqqqqqqryP+\\u002fu7u7u7vI\\u002fMzMzMzMz8z93d3d3d3fzP7y7u7u7u\\u002fM\\u002fAAAAAAAA9D9ERERERET0P4iIiIiIiPQ\\u002fzczMzMzM9D8RERERERH1P1VVVVVVVfU\\u002fmpmZmZmZ9T\\u002fe3d3d3d31PyIiIiIiIvY\\u002fZmZmZmZm9j+rqqqqqqr2P+\\u002fu7u7u7vY\\u002fMzMzMzMz9z93d3d3d3f3P7y7u7u7u\\u002fc\\u002fAAAAAAAA+D9ERERERET4P4iIiIiIiPg\\u002fzczMzMzM+D8RERERERH5P1VVVVVVVfk\\u002fmpmZmZmZ+T\\u002fe3d3d3d35PyIiIiIiIvo\\u002fZmZmZmZm+j+rqqqqqqr6P+\\u002fu7u7u7vo\\u002fMzMzMzMz+z93d3d3d3f7P7y7u7u7u\\u002fs\\u002fAAAAAAAA\\u002fD9ERERERET8P4iIiIiIiPw\\u002fzczMzMzM\\u002fD8RERERERH9P1VVVVVVVf0\\u002fmZmZmZmZ\\u002fT\\u002fe3d3d3d39PyIiIiIiIv4\\u002fZmZmZmZm\\u002fj+rqqqqqqr+P+\\u002fu7u7u7v4\\u002fMzMzMzMz\\u002fz93d3d3d3f\\u002fP7y7u7u7u\\u002f8\\u002fAAAAAAAAAEA=\"},\"xaxis\":\"x\",\"y\":{\"dtype\":\"f8\",\"bdata\":\"AAAAAAAA8D8AAAAAAADwPwAAAAAAAPA\\u002fAAAAAAAA8D8AAAAAAADwPwAAAAAAAPA\\u002fAAAAAAAA8D8AAAAAAADwPwAAAAAAAPA\\u002fAAAAAAAA8D8AAAAAAADwPwAAAAAAAPA\\u002fAAAAAAAA8D8AAAAAAADwPwAAAAAAAPA\\u002fAAAAAAAA8D8AAAAAAADwPwAAAAAAAPA\\u002fAAAAAAAA8D8AAAAAAADwPwAAAAAAAPA\\u002fAAAAAAAA8D8AAAAAAADwPwAAAAAAAPA\\u002fAAAAAAAA8D8AAAAAAADwPwAAAAAAAPA\\u002fAAAAAAAA8D8AAAAAAADwPwAAAAAAAPA\\u002fAAAAAAQA8D8AAAAAWP7vPwAAAACwFPA\\u002fAAAAAOB47T8AAAAAQN39PwAAAACYTRjAAAAAgEnGRkAAAAAgaX5rwAAAABThWYtAAAAA3cOupcAAAADZSKm7QAAAgOEVLMzAAACAE5iq1kAAAADLvzjcwAAAQFoeTdpAAADA9ixR0cAAAECbdd+8QAAAAEmRD5fAAAAAAAAAAEAAAAAAAAAAQAAAAAAAAABAAAAAAAAAAEAAAAAAAAAAQAAAAAAAAABAAAAAAAAAAEAAAAAAAAAAQAAAAAAAAABAAAAAAAAAAEAAAAAAAAAAQAAAAAAAAABAAAAAAAAAAEAAAAAA\\u002fP\\u002f\\u002fPwAAAABqAABAAAAAAFDr\\u002fz8AAAAAyKEAQAAAAADAIvI\\u002fAAAAAMwmIkAAAACASUZFwAAAACBp3mtAAAAAFOFBi8AAAADdw7SlQAAAANlIprvAAACA4ZUtzEAAAIAT2KnWwAAAAMt\\u002fOdxAAABAWl5M2sAAAMD27FHRQAAAQJt13LzAAAAASZEbl0AAAAAAAADwPwAAAAAAAPA\\u002fAAAAAAAA8D8AAAAAAADwPwAAAAAAAPA\\u002fAAAAAAAA8D8AAAAAAADwPwAAAAAAAPA\\u002fAAAAAAAA8D8AAAAAAADwPwAAAAAAAPA\\u002fAAAAAAAA8D8AAAAAAADwPwAAAAAAAPA\\u002fAAAAAAAA8D8AAAAAAADwPwAAAAAAAPA\\u002fAAAAAAAA8D8AAAAAAADwPwAAAAAAAPA\\u002fAAAAAAAA8D8AAAAAAADwPwAAAAAAAPA\\u002fAAAAAAAA8D8AAAAAAADwPwAAAAAAAPA\\u002fAAAAAAAA8D8AAAAAAADwPwAAAAAAAPA\\u002fAAAAAAAA8D8AAAAAAADwPwAAAAAAAPA\\u002fAAAAAAAA8D8AAAAAAADwPwAAAAAAAPA\\u002fAAAAAAAA8D8AAAAAAADwPwAAAAAAAPA\\u002fAAAAAAAA8D8AAAAAAADwPwAAAAAAAPA\\u002fAAAAAAAA8D8=\"},\"yaxis\":\"y\",\"type\":\"scatter\"}],\"name\":\"18\"},{\"data\":[{\"hovertemplate\":\"variable=19\\u003cbr\\u003ex=%{x}\\u003cbr\\u003evalue=%{y}\\u003cextra\\u003e\\u003c\\u002fextra\\u003e\",\"legendgroup\":\"\",\"line\":{\"color\":\"#636efa\",\"dash\":\"solid\"},\"marker\":{\"symbol\":\"circle\"},\"mode\":\"lines\",\"name\":\"\",\"orientation\":\"v\",\"showlegend\":false,\"x\":{\"dtype\":\"f8\",\"bdata\":\"AAAAAAAAAAARERERERGRPxEREREREaE\\u002fmpmZmZmZqT8RERERERGxP1VVVVVVVbU\\u002fmpmZmZmZuT\\u002fe3d3d3d29PxEREREREcE\\u002fMzMzMzMzwz9VVVVVVVXFP3d3d3d3d8c\\u002fmpmZmZmZyT+8u7u7u7vLP97d3d3d3c0\\u002fAAAAAAAA0D8RERERERHRPyIiIiIiItI\\u002fMzMzMzMz0z9ERERERETUP1VVVVVVVdU\\u002fZmZmZmZm1j93d3d3d3fXP4iIiIiIiNg\\u002fmpmZmZmZ2T+rqqqqqqraP7y7u7u7u9s\\u002fzczMzMzM3D\\u002fe3d3d3d3dP+\\u002fu7u7u7t4\\u002fAAAAAAAA4D+IiIiIiIjgPxEREREREeE\\u002fmpmZmZmZ4T8iIiIiIiLiP6uqqqqqquI\\u002fMzMzMzMz4z+8u7u7u7vjP0REREREROQ\\u002fzczMzMzM5D9VVVVVVVXlP97d3d3d3eU\\u002fZmZmZmZm5j\\u002fv7u7u7u7mP3d3d3d3d+c\\u002fAAAAAAAA6D+IiIiIiIjoPxEREREREek\\u002fmpmZmZmZ6T8iIiIiIiLqP6uqqqqqquo\\u002fMzMzMzMz6z+8u7u7u7vrP0REREREROw\\u002fzczMzMzM7D9VVVVVVVXtP97d3d3d3e0\\u002fZmZmZmZm7j\\u002fv7u7u7u7uP3d3d3d3d+8\\u002fAAAAAAAA8D9ERERERETwP4iIiIiIiPA\\u002fzczMzMzM8D8RERERERHxP1VVVVVVVfE\\u002fmpmZmZmZ8T\\u002fe3d3d3d3xPyIiIiIiIvI\\u002fZmZmZmZm8j+rqqqqqqryP+\\u002fu7u7u7vI\\u002fMzMzMzMz8z93d3d3d3fzP7y7u7u7u\\u002fM\\u002fAAAAAAAA9D9ERERERET0P4iIiIiIiPQ\\u002fzczMzMzM9D8RERERERH1P1VVVVVVVfU\\u002fmpmZmZmZ9T\\u002fe3d3d3d31PyIiIiIiIvY\\u002fZmZmZmZm9j+rqqqqqqr2P+\\u002fu7u7u7vY\\u002fMzMzMzMz9z93d3d3d3f3P7y7u7u7u\\u002fc\\u002fAAAAAAAA+D9ERERERET4P4iIiIiIiPg\\u002fzczMzMzM+D8RERERERH5P1VVVVVVVfk\\u002fmpmZmZmZ+T\\u002fe3d3d3d35PyIiIiIiIvo\\u002fZmZmZmZm+j+rqqqqqqr6P+\\u002fu7u7u7vo\\u002fMzMzMzMz+z93d3d3d3f7P7y7u7u7u\\u002fs\\u002fAAAAAAAA\\u002fD9ERERERET8P4iIiIiIiPw\\u002fzczMzMzM\\u002fD8RERERERH9P1VVVVVVVf0\\u002fmZmZmZmZ\\u002fT\\u002fe3d3d3d39PyIiIiIiIv4\\u002fZmZmZmZm\\u002fj+rqqqqqqr+P+\\u002fu7u7u7v4\\u002fMzMzMzMz\\u002fz93d3d3d3f\\u002fP7y7u7u7u\\u002f8\\u002fAAAAAAAAAEA=\"},\"xaxis\":\"x\",\"y\":{\"dtype\":\"f8\",\"bdata\":\"AAAAAAAA8D8AAAAAAADwPwAAAAAAAPA\\u002fAAAAAAAA8D8AAAAAAADwPwAAAAAAAPA\\u002fAAAAAAAA8D8AAAAAAADwPwAAAAAAAPA\\u002fAAAAAAAA8D8AAAAAAADwPwAAAAAAAPA\\u002fAAAAAAAA8D8AAAAAAADwPwAAAAAAAPA\\u002fAAAAAAAA8D8AAAAAAADwPwAAAAAAAPA\\u002fAAAAAAAA8D8AAAAAAADwPwAAAAAAAPA\\u002fAAAAAAAA8D8AAAAAAADwPwAAAAAAAPA\\u002fAAAAAAAA8D8AAAAAAADwPwAAAAAAAPA\\u002fAAAAAAAA8D8AAAAAAADwPwAAAAAAAPA\\u002fAAAAAPz\\u002f7z8AAAAAcADwPwAAAADU6O8\\u002fAAAAANDA8D8AAAAAILDcPwAAAADEWRdAAAAAgGLjP8AAAAAgkElmQAAAAPZX\\u002fIfAAAAAVhYZpUAAAEBStxe+wAAAwMmAatFAAABwOS474MAAAGABIg7oQAAA0G7XvevAAABgASIO6EAAAIglspXdwAAAAEmRGMdAAADA9qxNocAAAAAAAAAAQAAAAAAAAABAAAAAAAAAAEAAAAAAAAAAQAAAAAAAAABAAAAAAAAAAEAAAAAAAAAAQAAAAAAAAABAAAAAAAAAAEAAAAAAAAAAQAAAAAAAAABAAAAAAAAAAEAAAAAAAQAAQAAAAACQ\\u002f\\u002f8\\u002fAAAAAMsFAEAAAAAAMD\\u002f\\u002fPwAAAAD8aQRAAAAAAIizBsAAAABAsXFBQAAAACCQ6WXAAAAA9lcUiEAAAABWFhOlwAAAQFK3Gr5AAADAycBp0cAAAHA5jjvgQAAAYAHCDejAAADQbje+60AAAGABwg3owAAAiCVylt1AAAAASREXx8AAAMD2rFOhQAAAAAAAAPA\\u002fAAAAAAAA8D8AAAAAAADwPwAAAAAAAPA\\u002fAAAAAAAA8D8AAAAAAADwPwAAAAAAAPA\\u002fAAAAAAAA8D8AAAAAAADwPwAAAAAAAPA\\u002fAAAAAAAA8D8AAAAAAADwPwAAAAAAAPA\\u002fAAAAAAAA8D8AAAAAAADwPwAAAAAAAPA\\u002fAAAAAAAA8D8AAAAAAADwPwAAAAAAAPA\\u002fAAAAAAAA8D8AAAAAAADwPwAAAAAAAPA\\u002fAAAAAAAA8D8AAAAAAADwPwAAAAAAAPA\\u002fAAAAAAAA8D8AAAAAAADwPwAAAAAAAPA\\u002fAAAAAAAA8D8AAAAAAADwPwAAAAAAAPA\\u002fAAAAAAAA8D8AAAAAAADwPwAAAAAAAPA\\u002fAAAAAAAA8D8AAAAAAADwPwAAAAAAAPA\\u002fAAAAAAAA8D8AAAAAAADwPwAAAAAAAPA\\u002fAAAAAAAA8D8=\"},\"yaxis\":\"y\",\"type\":\"scatter\"}],\"name\":\"19\"},{\"data\":[{\"hovertemplate\":\"variable=20\\u003cbr\\u003ex=%{x}\\u003cbr\\u003evalue=%{y}\\u003cextra\\u003e\\u003c\\u002fextra\\u003e\",\"legendgroup\":\"\",\"line\":{\"color\":\"#636efa\",\"dash\":\"solid\"},\"marker\":{\"symbol\":\"circle\"},\"mode\":\"lines\",\"name\":\"\",\"orientation\":\"v\",\"showlegend\":false,\"x\":{\"dtype\":\"f8\",\"bdata\":\"AAAAAAAAAAARERERERGRPxEREREREaE\\u002fmpmZmZmZqT8RERERERGxP1VVVVVVVbU\\u002fmpmZmZmZuT\\u002fe3d3d3d29PxEREREREcE\\u002fMzMzMzMzwz9VVVVVVVXFP3d3d3d3d8c\\u002fmpmZmZmZyT+8u7u7u7vLP97d3d3d3c0\\u002fAAAAAAAA0D8RERERERHRPyIiIiIiItI\\u002fMzMzMzMz0z9ERERERETUP1VVVVVVVdU\\u002fZmZmZmZm1j93d3d3d3fXP4iIiIiIiNg\\u002fmpmZmZmZ2T+rqqqqqqraP7y7u7u7u9s\\u002fzczMzMzM3D\\u002fe3d3d3d3dP+\\u002fu7u7u7t4\\u002fAAAAAAAA4D+IiIiIiIjgPxEREREREeE\\u002fmpmZmZmZ4T8iIiIiIiLiP6uqqqqqquI\\u002fMzMzMzMz4z+8u7u7u7vjP0REREREROQ\\u002fzczMzMzM5D9VVVVVVVXlP97d3d3d3eU\\u002fZmZmZmZm5j\\u002fv7u7u7u7mP3d3d3d3d+c\\u002fAAAAAAAA6D+IiIiIiIjoPxEREREREek\\u002fmpmZmZmZ6T8iIiIiIiLqP6uqqqqqquo\\u002fMzMzMzMz6z+8u7u7u7vrP0REREREROw\\u002fzczMzMzM7D9VVVVVVVXtP97d3d3d3e0\\u002fZmZmZmZm7j\\u002fv7u7u7u7uP3d3d3d3d+8\\u002fAAAAAAAA8D9ERERERETwP4iIiIiIiPA\\u002fzczMzMzM8D8RERERERHxP1VVVVVVVfE\\u002fmpmZmZmZ8T\\u002fe3d3d3d3xPyIiIiIiIvI\\u002fZmZmZmZm8j+rqqqqqqryP+\\u002fu7u7u7vI\\u002fMzMzMzMz8z93d3d3d3fzP7y7u7u7u\\u002fM\\u002fAAAAAAAA9D9ERERERET0P4iIiIiIiPQ\\u002fzczMzMzM9D8RERERERH1P1VVVVVVVfU\\u002fmpmZmZmZ9T\\u002fe3d3d3d31PyIiIiIiIvY\\u002fZmZmZmZm9j+rqqqqqqr2P+\\u002fu7u7u7vY\\u002fMzMzMzMz9z93d3d3d3f3P7y7u7u7u\\u002fc\\u002fAAAAAAAA+D9ERERERET4P4iIiIiIiPg\\u002fzczMzMzM+D8RERERERH5P1VVVVVVVfk\\u002fmpmZmZmZ+T\\u002fe3d3d3d35PyIiIiIiIvo\\u002fZmZmZmZm+j+rqqqqqqr6P+\\u002fu7u7u7vo\\u002fMzMzMzMz+z93d3d3d3f7P7y7u7u7u\\u002fs\\u002fAAAAAAAA\\u002fD9ERERERET8P4iIiIiIiPw\\u002fzczMzMzM\\u002fD8RERERERH9P1VVVVVVVf0\\u002fmZmZmZmZ\\u002fT\\u002fe3d3d3d39PyIiIiIiIv4\\u002fZmZmZmZm\\u002fj+rqqqqqqr+P+\\u002fu7u7u7v4\\u002fMzMzMzMz\\u002fz93d3d3d3f\\u002fP7y7u7u7u\\u002f8\\u002fAAAAAAAAAEA=\"},\"xaxis\":\"x\",\"y\":{\"dtype\":\"f8\",\"bdata\":\"AAAAAAAA8D8AAAAAAADwPwAAAAAAAPA\\u002fAAAAAAAA8D8AAAAAAADwPwAAAAAAAPA\\u002fAAAAAAAA8D8AAAAAAADwPwAAAAAAAPA\\u002fAAAAAAAA8D8AAAAAAADwPwAAAAAAAPA\\u002fAAAAAAAA8D8AAAAAAADwPwAAAAAAAPA\\u002fAAAAAAAA8D8AAAAAAADwPwAAAAAAAPA\\u002fAAAAAAAA8D8AAAAAAADwPwAAAAAAAPA\\u002fAAAAAAAA8D8AAAAAAADwPwAAAAAAAPA\\u002fAAAAAAAA8D8AAAAAAADwPwAAAAAAAPA\\u002fAAAAAAAA8D8AAAAAAADwPwAAAAAAAPA\\u002fAAAAAAEA8D8AAAAAiv\\u002fvPwAAAABzBvA\\u002fAAAAAG4c7z8AAAAANIv1PwAAAAC++AHAAAAAwFqzOEAAAACIah9hwAAAAAfCWYRAAABAJyyLo8AAAKBprN6+QAAAuCMl\\u002ftPAAAAItHct5UAAAGwr6y\\u002fywAAAvFwP+vhAAAB0E+rR+sAAALnFT731QAAARsVXE+nAAAAsxkdn0kAAACByg\\u002fapwAAAAAAAAABAAAAAAAAAAEAAAAAAAAAAQAAAAAAAAABAAAAAAAAAAEAAAAAAAAAAQAAAAAAAAABAAAAAAAAAAEAAAAAAAAAAQAAAAAAAAABAAAAAAAAAAEAAAAAA\\u002f\\u002f\\u002f\\u002fPwAAAIAdAABAAAAAAI35\\u002fz8AAACA5DgAQAAAAADMdPo\\u002fAAAAAF\\u002f8FEAAAADAWrM1wAAAAIhqf2FAAAAAB8JBhMAAAEAnLJGjQAAAoGms277AAAC4I+X+00AAAAi0Fy3lwAAAbCsbMPJAAAC8XN\\u002f5+MAAAHQTGtL6QAAAucUfvfXAAABGxbcT6UAAACzGh2bSwAAAIHKD\\u002fKlAAAAAAAAA8D8AAAAAAADwPwAAAAAAAPA\\u002fAAAAAAAA8D8AAAAAAADwPwAAAAAAAPA\\u002fAAAAAAAA8D8AAAAAAADwPwAAAAAAAPA\\u002fAAAAAAAA8D8AAAAAAADwPwAAAAAAAPA\\u002fAAAAAAAA8D8AAAAAAADwPwAAAAAAAPA\\u002fAAAAAAAA8D8AAAAAAADwPwAAAAAAAPA\\u002fAAAAAAAA8D8AAAAAAADwPwAAAAAAAPA\\u002fAAAAAAAA8D8AAAAAAADwPwAAAAAAAPA\\u002fAAAAAAAA8D8AAAAAAADwPwAAAAAAAPA\\u002fAAAAAAAA8D8AAAAAAADwPwAAAAAAAPA\\u002fAAAAAAAA8D8AAAAAAADwPwAAAAAAAPA\\u002fAAAAAAAA8D8AAAAAAADwPwAAAAAAAPA\\u002fAAAAAAAA8D8AAAAAAADwPwAAAAAAAPA\\u002fAAAAAAAA8D8=\"},\"yaxis\":\"y\",\"type\":\"scatter\"}],\"name\":\"20\"},{\"data\":[{\"hovertemplate\":\"variable=21\\u003cbr\\u003ex=%{x}\\u003cbr\\u003evalue=%{y}\\u003cextra\\u003e\\u003c\\u002fextra\\u003e\",\"legendgroup\":\"\",\"line\":{\"color\":\"#636efa\",\"dash\":\"solid\"},\"marker\":{\"symbol\":\"circle\"},\"mode\":\"lines\",\"name\":\"\",\"orientation\":\"v\",\"showlegend\":false,\"x\":{\"dtype\":\"f8\",\"bdata\":\"AAAAAAAAAAARERERERGRPxEREREREaE\\u002fmpmZmZmZqT8RERERERGxP1VVVVVVVbU\\u002fmpmZmZmZuT\\u002fe3d3d3d29PxEREREREcE\\u002fMzMzMzMzwz9VVVVVVVXFP3d3d3d3d8c\\u002fmpmZmZmZyT+8u7u7u7vLP97d3d3d3c0\\u002fAAAAAAAA0D8RERERERHRPyIiIiIiItI\\u002fMzMzMzMz0z9ERERERETUP1VVVVVVVdU\\u002fZmZmZmZm1j93d3d3d3fXP4iIiIiIiNg\\u002fmpmZmZmZ2T+rqqqqqqraP7y7u7u7u9s\\u002fzczMzMzM3D\\u002fe3d3d3d3dP+\\u002fu7u7u7t4\\u002fAAAAAAAA4D+IiIiIiIjgPxEREREREeE\\u002fmpmZmZmZ4T8iIiIiIiLiP6uqqqqqquI\\u002fMzMzMzMz4z+8u7u7u7vjP0REREREROQ\\u002fzczMzMzM5D9VVVVVVVXlP97d3d3d3eU\\u002fZmZmZmZm5j\\u002fv7u7u7u7mP3d3d3d3d+c\\u002fAAAAAAAA6D+IiIiIiIjoPxEREREREek\\u002fmpmZmZmZ6T8iIiIiIiLqP6uqqqqqquo\\u002fMzMzMzMz6z+8u7u7u7vrP0REREREROw\\u002fzczMzMzM7D9VVVVVVVXtP97d3d3d3e0\\u002fZmZmZmZm7j\\u002fv7u7u7u7uP3d3d3d3d+8\\u002fAAAAAAAA8D9ERERERETwP4iIiIiIiPA\\u002fzczMzMzM8D8RERERERHxP1VVVVVVVfE\\u002fmpmZmZmZ8T\\u002fe3d3d3d3xPyIiIiIiIvI\\u002fZmZmZmZm8j+rqqqqqqryP+\\u002fu7u7u7vI\\u002fMzMzMzMz8z93d3d3d3fzP7y7u7u7u\\u002fM\\u002fAAAAAAAA9D9ERERERET0P4iIiIiIiPQ\\u002fzczMzMzM9D8RERERERH1P1VVVVVVVfU\\u002fmpmZmZmZ9T\\u002fe3d3d3d31PyIiIiIiIvY\\u002fZmZmZmZm9j+rqqqqqqr2P+\\u002fu7u7u7vY\\u002fMzMzMzMz9z93d3d3d3f3P7y7u7u7u\\u002fc\\u002fAAAAAAAA+D9ERERERET4P4iIiIiIiPg\\u002fzczMzMzM+D8RERERERH5P1VVVVVVVfk\\u002fmpmZmZmZ+T\\u002fe3d3d3d35PyIiIiIiIvo\\u002fZmZmZmZm+j+rqqqqqqr6P+\\u002fu7u7u7vo\\u002fMzMzMzMz+z93d3d3d3f7P7y7u7u7u\\u002fs\\u002fAAAAAAAA\\u002fD9ERERERET8P4iIiIiIiPw\\u002fzczMzMzM\\u002fD8RERERERH9P1VVVVVVVf0\\u002fmZmZmZmZ\\u002fT\\u002fe3d3d3d39PyIiIiIiIv4\\u002fZmZmZmZm\\u002fj+rqqqqqqr+P+\\u002fu7u7u7v4\\u002fMzMzMzMz\\u002fz93d3d3d3f\\u002fP7y7u7u7u\\u002f8\\u002fAAAAAAAAAEA=\"},\"xaxis\":\"x\",\"y\":{\"dtype\":\"f8\",\"bdata\":\"AAAAAAAA8D8AAAAAAADwPwAAAAAAAPA\\u002fAAAAAAAA8D8AAAAAAADwPwAAAAAAAPA\\u002fAAAAAAAA8D8AAAAAAADwPwAAAAAAAPA\\u002fAAAAAAAA8D8AAAAAAADwPwAAAAAAAPA\\u002fAAAAAAAA8D8AAAAAAADwPwAAAAAAAPA\\u002fAAAAAAAA8D8AAAAAAADwPwAAAAAAAPA\\u002fAAAAAAAA8D8AAAAAAADwPwAAAAAAAPA\\u002fAAAAAAAA8D8AAAAAAADwPwAAAAAAAPA\\u002fAAAAAAAA8D8AAAAAAADwPwAAAAAAAPA\\u002fAAAAAAAA8D8AAAAAAADwPwAAAAAAAPA\\u002fAAAAAP\\u002f\\u002f7z8AAAAAHwDwPwAAAADc+O8\\u002fAAAAAJFC8D8AAAAAcR\\u002fpPwAAAADGJAlAAAAAAKJwL8AAAACQrGJaQAAAgPaomIDAAABA1j5noUAAAEBStxe+wAAAeDmTktVAAADOtFeV6cAAALxcD\\u002fr4QAAAwDd04gPBAABqCgZwCUEAQAWAw4wJwQCA88xmcANBAAC6zGob9cAAAGTgUzrdQAAAmJXiebPAAAAAAAAAAEAAAAAAAAAAQAAAAAAAAABAAAAAAAAAAEAAAAAAAAAAQAAAAAAAAABAAAAAAAAAAEAAAAAAAAAAQAAAAAAAAABAAAAAAAAAAEAAAABAAAAAQAAAAADh\\u002f\\u002f8\\u002fAAAAAMkBAEAAAAAAb73\\u002fPwAAAMAjuAFAAAAAAGBMwr8AAAAAUbgyQAAAAJCsolnAAACA9qiwgEAAAEDWPmGhwAAAQFK3Gr5AAAB4OdOR1cAAAM60t5XpQAAAvFzf+fjAAADAN4ziA0EAAGoK7m8JwQBABYDbjAlBAIDzzE5wA8EAALrMmhv1QAAAZOCTOd3AAACYleJ8s0AAAAAAAADwPwAAAAAAAPA\\u002fAAAAAAAA8D8AAAAAAADwPwAAAAAAAPA\\u002fAAAAAAAA8D8AAAAAAADwPwAAAAAAAPA\\u002fAAAAAAAA8D8AAAAAAADwPwAAAAAAAPA\\u002fAAAAAAAA8D8AAAAAAADwPwAAAAAAAPA\\u002fAAAAAAAA8D8AAAAAAADwPwAAAAAAAPA\\u002fAAAAAAAA8D8AAAAAAADwPwAAAAAAAPA\\u002fAAAAAAAA8D8AAAAAAADwPwAAAAAAAPA\\u002fAAAAAAAA8D8AAAAAAADwPwAAAAAAAPA\\u002fAAAAAAAA8D8AAAAAAADwPwAAAAAAAPA\\u002fAAAAAAAA8D8AAAAAAADwPwAAAAAAAPA\\u002fAAAAAAAA8D8AAAAAAADwPwAAAAAAAPA\\u002fAAAAAAAA8D8AAAAAAADwPwAAAAAAAPA\\u002fAAAAAAAA8D8=\"},\"yaxis\":\"y\",\"type\":\"scatter\"}],\"name\":\"21\"},{\"data\":[{\"hovertemplate\":\"variable=22\\u003cbr\\u003ex=%{x}\\u003cbr\\u003evalue=%{y}\\u003cextra\\u003e\\u003c\\u002fextra\\u003e\",\"legendgroup\":\"\",\"line\":{\"color\":\"#636efa\",\"dash\":\"solid\"},\"marker\":{\"symbol\":\"circle\"},\"mode\":\"lines\",\"name\":\"\",\"orientation\":\"v\",\"showlegend\":false,\"x\":{\"dtype\":\"f8\",\"bdata\":\"AAAAAAAAAAARERERERGRPxEREREREaE\\u002fmpmZmZmZqT8RERERERGxP1VVVVVVVbU\\u002fmpmZmZmZuT\\u002fe3d3d3d29PxEREREREcE\\u002fMzMzMzMzwz9VVVVVVVXFP3d3d3d3d8c\\u002fmpmZmZmZyT+8u7u7u7vLP97d3d3d3c0\\u002fAAAAAAAA0D8RERERERHRPyIiIiIiItI\\u002fMzMzMzMz0z9ERERERETUP1VVVVVVVdU\\u002fZmZmZmZm1j93d3d3d3fXP4iIiIiIiNg\\u002fmpmZmZmZ2T+rqqqqqqraP7y7u7u7u9s\\u002fzczMzMzM3D\\u002fe3d3d3d3dP+\\u002fu7u7u7t4\\u002fAAAAAAAA4D+IiIiIiIjgPxEREREREeE\\u002fmpmZmZmZ4T8iIiIiIiLiP6uqqqqqquI\\u002fMzMzMzMz4z+8u7u7u7vjP0REREREROQ\\u002fzczMzMzM5D9VVVVVVVXlP97d3d3d3eU\\u002fZmZmZmZm5j\\u002fv7u7u7u7mP3d3d3d3d+c\\u002fAAAAAAAA6D+IiIiIiIjoPxEREREREek\\u002fmpmZmZmZ6T8iIiIiIiLqP6uqqqqqquo\\u002fMzMzMzMz6z+8u7u7u7vrP0REREREROw\\u002fzczMzMzM7D9VVVVVVVXtP97d3d3d3e0\\u002fZmZmZmZm7j\\u002fv7u7u7u7uP3d3d3d3d+8\\u002fAAAAAAAA8D9ERERERETwP4iIiIiIiPA\\u002fzczMzMzM8D8RERERERHxP1VVVVVVVfE\\u002fmpmZmZmZ8T\\u002fe3d3d3d3xPyIiIiIiIvI\\u002fZmZmZmZm8j+rqqqqqqryP+\\u002fu7u7u7vI\\u002fMzMzMzMz8z93d3d3d3fzP7y7u7u7u\\u002fM\\u002fAAAAAAAA9D9ERERERET0P4iIiIiIiPQ\\u002fzczMzMzM9D8RERERERH1P1VVVVVVVfU\\u002fmpmZmZmZ9T\\u002fe3d3d3d31PyIiIiIiIvY\\u002fZmZmZmZm9j+rqqqqqqr2P+\\u002fu7u7u7vY\\u002fMzMzMzMz9z93d3d3d3f3P7y7u7u7u\\u002fc\\u002fAAAAAAAA+D9ERERERET4P4iIiIiIiPg\\u002fzczMzMzM+D8RERERERH5P1VVVVVVVfk\\u002fmpmZmZmZ+T\\u002fe3d3d3d35PyIiIiIiIvo\\u002fZmZmZmZm+j+rqqqqqqr6P+\\u002fu7u7u7vo\\u002fMzMzMzMz+z93d3d3d3f7P7y7u7u7u\\u002fs\\u002fAAAAAAAA\\u002fD9ERERERET8P4iIiIiIiPw\\u002fzczMzMzM\\u002fD8RERERERH9P1VVVVVVVf0\\u002fmZmZmZmZ\\u002fT\\u002fe3d3d3d39PyIiIiIiIv4\\u002fZmZmZmZm\\u002fj+rqqqqqqr+P+\\u002fu7u7u7v4\\u002fMzMzMzMz\\u002fz93d3d3d3f\\u002fP7y7u7u7u\\u002f8\\u002fAAAAAAAAAEA=\"},\"xaxis\":\"x\",\"y\":{\"dtype\":\"f8\",\"bdata\":\"AAAAAAAA8D8AAAAAAADwPwAAAAAAAPA\\u002fAAAAAAAA8D8AAAAAAADwPwAAAAAAAPA\\u002fAAAAAAAA8D8AAAAAAADwPwAAAAAAAPA\\u002fAAAAAAAA8D8AAAAAAADwPwAAAAAAAPA\\u002fAAAAAAAA8D8AAAAAAADwPwAAAAAAAPA\\u002fAAAAAAAA8D8AAAAAAADwPwAAAAAAAPA\\u002fAAAAAAAA8D8AAAAAAADwPwAAAAAAAPA\\u002fAAAAAAAA8D8AAAAAAADwPwAAAAAAAPA\\u002fAAAAAAAA8D8AAAAAAADwPwAAAAAAAPA\\u002fAAAAAAAA8D8AAAAAAADwPwAAAAAAAPA\\u002fAAAAQAAA8D8AAACA3\\u002f\\u002fvPwAAAID3AfA\\u002fAAAAALmy7z8AAABA\\u002fRvyPwAAAADFNNm\\u002fAAAAQBsmKUAAAACodBZTwAAAgKypfXpAAAAgj73ZncAAANDJShm8QAAAlFsuEtbAAACBRZr47EAAgPh1Ca3\\u002fwAAAbaHFrAxBAIBqrNhFFcEA0NBnNXcZQQDQQFOsBRjBAOBNc7o3EUEAwJFXNagBwQCApBFdI+dAAABk4NM3vcAAAAAAAAAAQAAAAAAAAABAAAAAAAAAAEAAAAAAAAAAQAAAAAAAAABAAAAAAAAAAEAAAAAAAAAAQAAAAAAAAABAAAAAAAAAAEAAAADA\\u002f\\u002f\\u002f\\u002fPwAAACAIAABAAAAAgAj+\\u002fz8AAADAURMAQAAAAMAC5P0\\u002fAAAAoJgmC0AAAABAGyYjwAAAAKh01lNAAACArKlNesAAACCPveWdQAAA0MlKFrzAAACUW+4S1kAAAIFFOvjswACA+HU5rf9AAABtoa2sDMEAgGqs5EUVQQDQ0GcpdxnBANBAU7gFGEEA4E1zrjcRwQDAkVdNqAFBAICkEf0i58AAAGTg0zq9QAAAAAAAAPA\\u002fAAAAAAAA8D8AAAAAAADwPwAAAAAAAPA\\u002fAAAAAAAA8D8AAAAAAADwPwAAAAAAAPA\\u002fAAAAAAAA8D8AAAAAAADwPwAAAAAAAPA\\u002fAAAAAAAA8D8AAAAAAADwPwAAAAAAAPA\\u002fAAAAAAAA8D8AAAAAAADwPwAAAAAAAPA\\u002fAAAAAAAA8D8AAAAAAADwPwAAAAAAAPA\\u002fAAAAAAAA8D8AAAAAAADwPwAAAAAAAPA\\u002fAAAAAAAA8D8AAAAAAADwPwAAAAAAAPA\\u002fAAAAAAAA8D8AAAAAAADwPwAAAAAAAPA\\u002fAAAAAAAA8D8AAAAAAADwPwAAAAAAAPA\\u002fAAAAAAAA8D8AAAAAAADwPwAAAAAAAPA\\u002fAAAAAAAA8D8AAAAAAADwPwAAAAAAAPA\\u002fAAAAAAAA8D8=\"},\"yaxis\":\"y\",\"type\":\"scatter\"}],\"name\":\"22\"},{\"data\":[{\"hovertemplate\":\"variable=23\\u003cbr\\u003ex=%{x}\\u003cbr\\u003evalue=%{y}\\u003cextra\\u003e\\u003c\\u002fextra\\u003e\",\"legendgroup\":\"\",\"line\":{\"color\":\"#636efa\",\"dash\":\"solid\"},\"marker\":{\"symbol\":\"circle\"},\"mode\":\"lines\",\"name\":\"\",\"orientation\":\"v\",\"showlegend\":false,\"x\":{\"dtype\":\"f8\",\"bdata\":\"AAAAAAAAAAARERERERGRPxEREREREaE\\u002fmpmZmZmZqT8RERERERGxP1VVVVVVVbU\\u002fmpmZmZmZuT\\u002fe3d3d3d29PxEREREREcE\\u002fMzMzMzMzwz9VVVVVVVXFP3d3d3d3d8c\\u002fmpmZmZmZyT+8u7u7u7vLP97d3d3d3c0\\u002fAAAAAAAA0D8RERERERHRPyIiIiIiItI\\u002fMzMzMzMz0z9ERERERETUP1VVVVVVVdU\\u002fZmZmZmZm1j93d3d3d3fXP4iIiIiIiNg\\u002fmpmZmZmZ2T+rqqqqqqraP7y7u7u7u9s\\u002fzczMzMzM3D\\u002fe3d3d3d3dP+\\u002fu7u7u7t4\\u002fAAAAAAAA4D+IiIiIiIjgPxEREREREeE\\u002fmpmZmZmZ4T8iIiIiIiLiP6uqqqqqquI\\u002fMzMzMzMz4z+8u7u7u7vjP0REREREROQ\\u002fzczMzMzM5D9VVVVVVVXlP97d3d3d3eU\\u002fZmZmZmZm5j\\u002fv7u7u7u7mP3d3d3d3d+c\\u002fAAAAAAAA6D+IiIiIiIjoPxEREREREek\\u002fmpmZmZmZ6T8iIiIiIiLqP6uqqqqqquo\\u002fMzMzMzMz6z+8u7u7u7vrP0REREREROw\\u002fzczMzMzM7D9VVVVVVVXtP97d3d3d3e0\\u002fZmZmZmZm7j\\u002fv7u7u7u7uP3d3d3d3d+8\\u002fAAAAAAAA8D9ERERERETwP4iIiIiIiPA\\u002fzczMzMzM8D8RERERERHxP1VVVVVVVfE\\u002fmpmZmZmZ8T\\u002fe3d3d3d3xPyIiIiIiIvI\\u002fZmZmZmZm8j+rqqqqqqryP+\\u002fu7u7u7vI\\u002fMzMzMzMz8z93d3d3d3fzP7y7u7u7u\\u002fM\\u002fAAAAAAAA9D9ERERERET0P4iIiIiIiPQ\\u002fzczMzMzM9D8RERERERH1P1VVVVVVVfU\\u002fmpmZmZmZ9T\\u002fe3d3d3d31PyIiIiIiIvY\\u002fZmZmZmZm9j+rqqqqqqr2P+\\u002fu7u7u7vY\\u002fMzMzMzMz9z93d3d3d3f3P7y7u7u7u\\u002fc\\u002fAAAAAAAA+D9ERERERET4P4iIiIiIiPg\\u002fzczMzMzM+D8RERERERH5P1VVVVVVVfk\\u002fmpmZmZmZ+T\\u002fe3d3d3d35PyIiIiIiIvo\\u002fZmZmZmZm+j+rqqqqqqr6P+\\u002fu7u7u7vo\\u002fMzMzMzMz+z93d3d3d3f7P7y7u7u7u\\u002fs\\u002fAAAAAAAA\\u002fD9ERERERET8P4iIiIiIiPw\\u002fzczMzMzM\\u002fD8RERERERH9P1VVVVVVVf0\\u002fmZmZmZmZ\\u002fT\\u002fe3d3d3d39PyIiIiIiIv4\\u002fZmZmZmZm\\u002fj+rqqqqqqr+P+\\u002fu7u7u7v4\\u002fMzMzMzMz\\u002fz93d3d3d3f\\u002fP7y7u7u7u\\u002f8\\u002fAAAAAAAAAEA=\"},\"xaxis\":\"x\",\"y\":{\"dtype\":\"f8\",\"bdata\":\"AAAAAAAA8D8AAAAAAADwPwAAAAAAAPA\\u002fAAAAAAAA8D8AAAAAAADwPwAAAAAAAPA\\u002fAAAAAAAA8D8AAAAAAADwPwAAAAAAAPA\\u002fAAAAAAAA8D8AAAAAAADwPwAAAAAAAPA\\u002fAAAAAAAA8D8AAAAAAADwPwAAAAAAAPA\\u002fAAAAAAAA8D8AAAAAAADwPwAAAAAAAPA\\u002fAAAAAAAA8D8AAAAAAADwPwAAAAAAAPA\\u002fAAAAAAAA8D8AAAAAAADwPwAAAAAAAPA\\u002fAAAAAAAA8D8AAAAAAADwPwAAAAAAAPA\\u002fAAAAAAAA8D8AAAAAAADwPwAAAAAAAPA\\u002fAAAAwP\\u002f\\u002f7z8AAACACADwPwAAAMDX\\u002fe8\\u002fAAAAAEUW8D8AAABAGHDtPwAAAICUUP4\\u002fAAAAuA2DG8AAAADgvoRMQAAAQJVAZ3TAAABAaP7bmEAAAJR6TD65wAAAeDmTktVAAIBv5+8J78AAgI43fMgCQQBwmPQUDBPBAICjR0ASIEEAFETbL1ImwQDQrCLTGilBABRE2y9SJsEAQNkCpT0eQQAwj6W7YA3BAIA+bERE8kAAAEvoXurFwAAAAAAAAABAAAAAAAAAAEAAAAAAAAAAQAAAAAAAAABAAAAAAAAAAEAAAAAAAAAAQAAAAAAAAABAAAAAAAAAAEAAAAAQAAAAQAAAAID3\\u002f\\u002f8\\u002fAAAAEIoAAEAAAAAAu+n\\u002fPwAAAPD5owBAAAAAgGuv8T8AAADchsEjQAAAAOC+BEvAAABAlUCXdEAAAEBo\\u002fs+YwAAAlHpMQblAAAB4OdOR1cAAgG\\u002fnTwrvQACAjjdkyALBAHCY9CAME0EAgKNHOhIgwQAURNs1UiZBANCsIs0aKcEAFETbNVImQQBA2QKZPR7BADCPpdNgDUEAgD5sFETywAAAS+je68VAAAAAAAAA8D8AAAAAAADwPwAAAAAAAPA\\u002fAAAAAAAA8D8AAAAAAADwPwAAAAAAAPA\\u002fAAAAAAAA8D8AAAAAAADwPwAAAAAAAPA\\u002fAAAAAAAA8D8AAAAAAADwPwAAAAAAAPA\\u002fAAAAAAAA8D8AAAAAAADwPwAAAAAAAPA\\u002fAAAAAAAA8D8AAAAAAADwPwAAAAAAAPA\\u002fAAAAAAAA8D8AAAAAAADwPwAAAAAAAPA\\u002fAAAAAAAA8D8AAAAAAADwPwAAAAAAAPA\\u002fAAAAAAAA8D8AAAAAAADwPwAAAAAAAPA\\u002fAAAAAAAA8D8AAAAAAADwPwAAAAAAAPA\\u002fAAAAAAAA8D8AAAAAAADwPwAAAAAAAPA\\u002fAAAAAAAA8D8AAAAAAADwPwAAAAAAAPA\\u002fAAAAAAAA8D8=\"},\"yaxis\":\"y\",\"type\":\"scatter\"}],\"name\":\"23\"},{\"data\":[{\"hovertemplate\":\"variable=24\\u003cbr\\u003ex=%{x}\\u003cbr\\u003evalue=%{y}\\u003cextra\\u003e\\u003c\\u002fextra\\u003e\",\"legendgroup\":\"\",\"line\":{\"color\":\"#636efa\",\"dash\":\"solid\"},\"marker\":{\"symbol\":\"circle\"},\"mode\":\"lines\",\"name\":\"\",\"orientation\":\"v\",\"showlegend\":false,\"x\":{\"dtype\":\"f8\",\"bdata\":\"AAAAAAAAAAARERERERGRPxEREREREaE\\u002fmpmZmZmZqT8RERERERGxP1VVVVVVVbU\\u002fmpmZmZmZuT\\u002fe3d3d3d29PxEREREREcE\\u002fMzMzMzMzwz9VVVVVVVXFP3d3d3d3d8c\\u002fmpmZmZmZyT+8u7u7u7vLP97d3d3d3c0\\u002fAAAAAAAA0D8RERERERHRPyIiIiIiItI\\u002fMzMzMzMz0z9ERERERETUP1VVVVVVVdU\\u002fZmZmZmZm1j93d3d3d3fXP4iIiIiIiNg\\u002fmpmZmZmZ2T+rqqqqqqraP7y7u7u7u9s\\u002fzczMzMzM3D\\u002fe3d3d3d3dP+\\u002fu7u7u7t4\\u002fAAAAAAAA4D+IiIiIiIjgPxEREREREeE\\u002fmpmZmZmZ4T8iIiIiIiLiP6uqqqqqquI\\u002fMzMzMzMz4z+8u7u7u7vjP0REREREROQ\\u002fzczMzMzM5D9VVVVVVVXlP97d3d3d3eU\\u002fZmZmZmZm5j\\u002fv7u7u7u7mP3d3d3d3d+c\\u002fAAAAAAAA6D+IiIiIiIjoPxEREREREek\\u002fmpmZmZmZ6T8iIiIiIiLqP6uqqqqqquo\\u002fMzMzMzMz6z+8u7u7u7vrP0REREREROw\\u002fzczMzMzM7D9VVVVVVVXtP97d3d3d3e0\\u002fZmZmZmZm7j\\u002fv7u7u7u7uP3d3d3d3d+8\\u002fAAAAAAAA8D9ERERERETwP4iIiIiIiPA\\u002fzczMzMzM8D8RERERERHxP1VVVVVVVfE\\u002fmpmZmZmZ8T\\u002fe3d3d3d3xPyIiIiIiIvI\\u002fZmZmZmZm8j+rqqqqqqryP+\\u002fu7u7u7vI\\u002fMzMzMzMz8z93d3d3d3fzP7y7u7u7u\\u002fM\\u002fAAAAAAAA9D9ERERERET0P4iIiIiIiPQ\\u002fzczMzMzM9D8RERERERH1P1VVVVVVVfU\\u002fmpmZmZmZ9T\\u002fe3d3d3d31PyIiIiIiIvY\\u002fZmZmZmZm9j+rqqqqqqr2P+\\u002fu7u7u7vY\\u002fMzMzMzMz9z93d3d3d3f3P7y7u7u7u\\u002fc\\u002fAAAAAAAA+D9ERERERET4P4iIiIiIiPg\\u002fzczMzMzM+D8RERERERH5P1VVVVVVVfk\\u002fmpmZmZmZ+T\\u002fe3d3d3d35PyIiIiIiIvo\\u002fZmZmZmZm+j+rqqqqqqr6P+\\u002fu7u7u7vo\\u002fMzMzMzMz+z93d3d3d3f7P7y7u7u7u\\u002fs\\u002fAAAAAAAA\\u002fD9ERERERET8P4iIiIiIiPw\\u002fzczMzMzM\\u002fD8RERERERH9P1VVVVVVVf0\\u002fmZmZmZmZ\\u002fT\\u002fe3d3d3d39PyIiIiIiIv4\\u002fZmZmZmZm\\u002fj+rqqqqqqr+P+\\u002fu7u7u7v4\\u002fMzMzMzMz\\u002fz93d3d3d3f\\u002fP7y7u7u7u\\u002f8\\u002fAAAAAAAAAEA=\"},\"xaxis\":\"x\",\"y\":{\"dtype\":\"f8\",\"bdata\":\"AAAAAAAA8D8AAAAAAADwPwAAAAAAAPA\\u002fAAAAAAAA8D8AAAAAAADwPwAAAAAAAPA\\u002fAAAAAAAA8D8AAAAAAADwPwAAAAAAAPA\\u002fAAAAAAAA8D8AAAAAAADwPwAAAAAAAPA\\u002fAAAAAAAA8D8AAAAAAADwPwAAAAAAAPA\\u002fAAAAAAAA8D8AAAAAAADwPwAAAAAAAPA\\u002fAAAAAAAA8D8AAAAAAADwPwAAAAAAAPA\\u002fAAAAAAAA8D8AAAAAAADwPwAAAAAAAPA\\u002fAAAAAAAA8D8AAAAAAADwPwAAAAAAAPA\\u002fAAAAAAAA8D8AAAAAAADwPwAAAAAAAPA\\u002fAAAAEAAA8D8AAAAg9\\u002f\\u002fvPwAAANCWAPA\\u002fAAAAoH7m7z8AAABwYcXwPwAAAMAfr9s\\u002fAAAAjL4fGUAAAIAC8mpDwAAAQCkIGW9AAAAYbLcUlMAAAGKkpfG1QACAs0qmQNTAAMDRXuay70AAEJES+AcFwQAY96NnnBdBABRE2y9SJsEApYssPKIxQQBDHq1YBDfBAKHSUKpoOEEAN86EWIU0wQDW1DZTWipBADSzSRVRGMEAcOKQDMX8QABAOC4HcNDAAAAAAAAAAEAAAAAAAAAAQAAAAAAAAABAAAAAAAAAAEAAAAAAAAAAQAAAAAAAAABAAAAAAAAAAEAAAADw\\u002f\\u002f\\u002f\\u002fPwAAADgCAABAAAAAMGn\\u002f\\u002fz8AAABYYAYAQAAAAJCeOv8\\u002fAAAACByKBEAAAAAYfT8KwAAAgALy6kRAAABAKQi5bsAAABhstyCUQAAAYqSl7rXAAICzSmZB1EAAwNFehrLvwAAQkRIQCAVBABj3o1ucF8EAFETbNVImQQCliyw5ojHBAEMerVsEN0EAodJQp2g4wQA3zoRbhTRBANbUNk1aKsEANLNJIVEYQQBw4pDcxPzAAEA4Lsdw0EAAAAAAAADwPwAAAAAAAPA\\u002fAAAAAAAA8D8AAAAAAADwPwAAAAAAAPA\\u002fAAAAAAAA8D8AAAAAAADwPwAAAAAAAPA\\u002fAAAAAAAA8D8AAAAAAADwPwAAAAAAAPA\\u002fAAAAAAAA8D8AAAAAAADwPwAAAAAAAPA\\u002fAAAAAAAA8D8AAAAAAADwPwAAAAAAAPA\\u002fAAAAAAAA8D8AAAAAAADwPwAAAAAAAPA\\u002fAAAAAAAA8D8AAAAAAADwPwAAAAAAAPA\\u002fAAAAAAAA8D8AAAAAAADwPwAAAAAAAPA\\u002fAAAAAAAA8D8AAAAAAADwPwAAAAAAAPA\\u002fAAAAAAAA8D8AAAAAAADwPwAAAAAAAPA\\u002fAAAAAAAA8D8AAAAAAADwPwAAAAAAAPA\\u002fAAAAAAAA8D8=\"},\"yaxis\":\"y\",\"type\":\"scatter\"}],\"name\":\"24\"},{\"data\":[{\"hovertemplate\":\"variable=25\\u003cbr\\u003ex=%{x}\\u003cbr\\u003evalue=%{y}\\u003cextra\\u003e\\u003c\\u002fextra\\u003e\",\"legendgroup\":\"\",\"line\":{\"color\":\"#636efa\",\"dash\":\"solid\"},\"marker\":{\"symbol\":\"circle\"},\"mode\":\"lines\",\"name\":\"\",\"orientation\":\"v\",\"showlegend\":false,\"x\":{\"dtype\":\"f8\",\"bdata\":\"AAAAAAAAAAARERERERGRPxEREREREaE\\u002fmpmZmZmZqT8RERERERGxP1VVVVVVVbU\\u002fmpmZmZmZuT\\u002fe3d3d3d29PxEREREREcE\\u002fMzMzMzMzwz9VVVVVVVXFP3d3d3d3d8c\\u002fmpmZmZmZyT+8u7u7u7vLP97d3d3d3c0\\u002fAAAAAAAA0D8RERERERHRPyIiIiIiItI\\u002fMzMzMzMz0z9ERERERETUP1VVVVVVVdU\\u002fZmZmZmZm1j93d3d3d3fXP4iIiIiIiNg\\u002fmpmZmZmZ2T+rqqqqqqraP7y7u7u7u9s\\u002fzczMzMzM3D\\u002fe3d3d3d3dP+\\u002fu7u7u7t4\\u002fAAAAAAAA4D+IiIiIiIjgPxEREREREeE\\u002fmpmZmZmZ4T8iIiIiIiLiP6uqqqqqquI\\u002fMzMzMzMz4z+8u7u7u7vjP0REREREROQ\\u002fzczMzMzM5D9VVVVVVVXlP97d3d3d3eU\\u002fZmZmZmZm5j\\u002fv7u7u7u7mP3d3d3d3d+c\\u002fAAAAAAAA6D+IiIiIiIjoPxEREREREek\\u002fmpmZmZmZ6T8iIiIiIiLqP6uqqqqqquo\\u002fMzMzMzMz6z+8u7u7u7vrP0REREREROw\\u002fzczMzMzM7D9VVVVVVVXtP97d3d3d3e0\\u002fZmZmZmZm7j\\u002fv7u7u7u7uP3d3d3d3d+8\\u002fAAAAAAAA8D9ERERERETwP4iIiIiIiPA\\u002fzczMzMzM8D8RERERERHxP1VVVVVVVfE\\u002fmpmZmZmZ8T\\u002fe3d3d3d3xPyIiIiIiIvI\\u002fZmZmZmZm8j+rqqqqqqryP+\\u002fu7u7u7vI\\u002fMzMzMzMz8z93d3d3d3fzP7y7u7u7u\\u002fM\\u002fAAAAAAAA9D9ERERERET0P4iIiIiIiPQ\\u002fzczMzMzM9D8RERERERH1P1VVVVVVVfU\\u002fmpmZmZmZ9T\\u002fe3d3d3d31PyIiIiIiIvY\\u002fZmZmZmZm9j+rqqqqqqr2P+\\u002fu7u7u7vY\\u002fMzMzMzMz9z93d3d3d3f3P7y7u7u7u\\u002fc\\u002fAAAAAAAA+D9ERERERET4P4iIiIiIiPg\\u002fzczMzMzM+D8RERERERH5P1VVVVVVVfk\\u002fmpmZmZmZ+T\\u002fe3d3d3d35PyIiIiIiIvo\\u002fZmZmZmZm+j+rqqqqqqr6P+\\u002fu7u7u7vo\\u002fMzMzMzMz+z93d3d3d3f7P7y7u7u7u\\u002fs\\u002fAAAAAAAA\\u002fD9ERERERET8P4iIiIiIiPw\\u002fzczMzMzM\\u002fD8RERERERH9P1VVVVVVVf0\\u002fmZmZmZmZ\\u002fT\\u002fe3d3d3d39PyIiIiIiIv4\\u002fZmZmZmZm\\u002fj+rqqqqqqr+P+\\u002fu7u7u7v4\\u002fMzMzMzMz\\u002fz93d3d3d3f\\u002fP7y7u7u7u\\u002f8\\u002fAAAAAAAAAEA=\"},\"xaxis\":\"x\",\"y\":{\"dtype\":\"f8\",\"bdata\":\"AAAAAAAA8D8AAAAAAADwPwAAAAAAAPA\\u002fAAAAAAAA8D8AAAAAAADwPwAAAAAAAPA\\u002fAAAAAAAA8D8AAAAAAADwPwAAAAAAAPA\\u002fAAAAAAAA8D8AAAAAAADwPwAAAAAAAPA\\u002fAAAAAAAA8D8AAAAAAADwPwAAAAAAAPA\\u002fAAAAAAAA8D8AAAAAAADwPwAAAAAAAPA\\u002fAAAAAAAA8D8AAAAAAADwPwAAAAAAAPA\\u002fAAAAAAAA8D8AAAAAAADwPwAAAAAAAPA\\u002fAAAAAAAA8D8AAAAAAADwPwAAAAAAAPA\\u002fAAAAAAAA8D8AAAAAAADwPwAAAAAAAPA\\u002fAAAA8P\\u002f\\u002f7z8AAABQAgDwPwAAAOBb\\u002f+8\\u002fAAAAkEIH8D8AAACAXBTvPwAAADAusvU\\u002fAAAAmOjuA8AAAAB32dY8QAAAkNWe1GbAAACQexq+j0AAALqal4CywACA\\u002fkLxWtJAAIBv5+8J78AAMNdsEmcGQQBY6N8tlBvBAFybqGXeLEGA4bj6wY45wYBMsEzD+kJBgFoLFm1dR8GAhtHd1W9HQQBEdcpMr0LBAAdWEuHNNkEAjlTAIAkkwQBYjd\\u002fJmgZBAGBUxUqo2MAAAAAAAAAAQAAAAAAAAABAAAAAAAAAAEAAAAAAAAAAQAAAAAAAAABAAAAAAAAAAEAAAAAEAAAAQAAAALD9\\u002f\\u002f8\\u002fAAAACCkAAEAAAABwvfj\\u002fPwAAAODoOgBAAAAA0NFN+j8AAABMdPcVQAAAAHfZ1jnAAACQ1Z40Z0AAAJB7GqaPwAAAupqXg7JAAID+QjFa0sAAgG\\u002fnTwrvQAAw12z6ZgbBAFjo3zmUG0EAXJuoX94swYDhuPrEjjlBgEywzMH6QsGAWguWbl1HQYCG0V3Ub0fBAER1Sk6vQkEAB1YS3s02wQCOVMAmCSRBAFiN37GaBsEAYFTFCqnYQAAAAAAAAPA\\u002fAAAAAAAA8D8AAAAAAADwPwAAAAAAAPA\\u002fAAAAAAAA8D8AAAAAAADwPwAAAAAAAPA\\u002fAAAAAAAA8D8AAAAAAADwPwAAAAAAAPA\\u002fAAAAAAAA8D8AAAAAAADwPwAAAAAAAPA\\u002fAAAAAAAA8D8AAAAAAADwPwAAAAAAAPA\\u002fAAAAAAAA8D8AAAAAAADwPwAAAAAAAPA\\u002fAAAAAAAA8D8AAAAAAADwPwAAAAAAAPA\\u002fAAAAAAAA8D8AAAAAAADwPwAAAAAAAPA\\u002fAAAAAAAA8D8AAAAAAADwPwAAAAAAAPA\\u002fAAAAAAAA8D8AAAAAAADwPwAAAAAAAPA\\u002fAAAAAAAA8D8AAAAAAADwPwAAAAAAAPA\\u002fAAAAAAAA8D8=\"},\"yaxis\":\"y\",\"type\":\"scatter\"}],\"name\":\"25\"}]);\n",
       "                        }).then(function(){\n",
       "                            \n",
       "var gd = document.getElementById('c66ff393-6f7d-424f-8991-cc74525858da');\n",
       "var x = new MutationObserver(function (mutations, observer) {{\n",
       "        var display = window.getComputedStyle(gd).display;\n",
       "        if (!display || display === 'none') {{\n",
       "            console.log([gd, 'removed!']);\n",
       "            Plotly.purge(gd);\n",
       "            observer.disconnect();\n",
       "        }}\n",
       "}});\n",
       "\n",
       "// Listen for the removal of the full notebook cells\n",
       "var notebookContainer = gd.closest('#notebook-container');\n",
       "if (notebookContainer) {{\n",
       "    x.observe(notebookContainer, {childList: true});\n",
       "}}\n",
       "\n",
       "// Listen for the clearing of the current output cell\n",
       "var outputEl = gd.closest('.output');\n",
       "if (outputEl) {{\n",
       "    x.observe(outputEl, {childList: true});\n",
       "}}\n",
       "\n",
       "                        })                };            </script>        </div>"
      ]
     },
     "metadata": {},
     "output_type": "display_data"
    }
   ],
   "source": [
    "u = square_wave_convection(121, 25, 0.025)\n",
    "make_convection_animation(u, 121, 25, 0, 2)"
   ]
  }
 ],
 "metadata": {
  "kernelspec": {
   "display_name": "sci.venv",
   "language": "python",
   "name": "python3"
  },
  "language_info": {
   "codemirror_mode": {
    "name": "ipython",
    "version": 3
   },
   "file_extension": ".py",
   "mimetype": "text/x-python",
   "name": "python",
   "nbconvert_exporter": "python",
   "pygments_lexer": "ipython3",
   "version": "3.11.5"
  }
 },
 "nbformat": 4,
 "nbformat_minor": 2
}
