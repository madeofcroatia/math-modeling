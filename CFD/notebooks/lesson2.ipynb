{
 "cells": [
  {
   "cell_type": "markdown",
   "metadata": {},
   "source": [
    "## Introducing non-linearity\n",
    "We introduce non-linearity through replacing the constant velocity factor with $u$\n",
    "$$\n",
    "\\begin{equation*}\n",
    "    \\frac{\\partial u}{\\partial t} + u\\cdot\\frac{\\partial u}{\\partial x} = 0.\n",
    "\\end{equation*}\n",
    "$$\n",
    "Using same discretization of the space into segments of length $\\Delta x$ and time into $\\Delta t$, as well as forward difference for partial with respect to time and backward difference for the partial with respect to space, we get\n",
    "$$\n",
    "\\begin{equation*}\n",
    "    \\frac{u_i^{n + 1} - u_i^n}{\\Delta t} + u_i^n\\cdot\\frac{u_i^n - u_{i-1}^n}{\\Delta x} = 0.\n",
    "\\end{equation*}\n",
    "$$\n",
    "From this, we isolate the equation for $u_i^{n+1}$:\n",
    "$$\n",
    "\\begin{equation*}\n",
    "    u_i^{n + 1} = u_i^n \\cdot\\left(1 - \\frac{\\Delta t}{\\Delta x}\\left(u_i^n - u_{i-1}^n\\right)\\right).\n",
    "\\end{equation*}\n",
    "$$"
   ]
  },
  {
   "cell_type": "code",
   "execution_count": 1,
   "metadata": {},
   "outputs": [
    {
     "data": {
      "text/html": [
       "        <script type=\"text/javascript\">\n",
       "        window.PlotlyConfig = {MathJaxConfig: 'local'};\n",
       "        if (window.MathJax && window.MathJax.Hub && window.MathJax.Hub.Config) {window.MathJax.Hub.Config({SVG: {font: \"STIX-Web\"}});}\n",
       "        </script>\n",
       "        <script type=\"module\">import \"https://cdn.plot.ly/plotly-3.0.1.min\"</script>\n",
       "        "
      ]
     },
     "metadata": {},
     "output_type": "display_data"
    }
   ],
   "source": [
    "from plotly.offline import init_notebook_mode\n",
    "import plotly.express as px\n",
    "import numpy as np\n",
    "import pandas as pd\n",
    "import time, sys\n",
    "\n",
    "init_notebook_mode(connected=True)"
   ]
  },
  {
   "cell_type": "code",
   "execution_count": 3,
   "metadata": {},
   "outputs": [],
   "source": [
    "a = np.array([1, 2, 3])\n"
   ]
  },
  {
   "cell_type": "code",
   "execution_count": 84,
   "metadata": {},
   "outputs": [],
   "source": [
    "def transition(u0, dt):\n",
    "    Nx = u0.shape[0]\n",
    "    dx = 2 / (Nx - 1)\n",
    "\n",
    "    u1 = u0.copy()\n",
    "    u1[1:] = u0[1:] * (1 - dt/dx * (u0[1:] - u0[:Nx - 1]))\n",
    "    return u1\n",
    "\n",
    "\n",
    "def nonlinear_convection_simulation(u0, Nt, dt):\n",
    "    Nx = u0.shape[0]\n",
    "    #dx = 2 / (Nx - 1)\n",
    "\n",
    "    u = np.zeros(shape=(Nt + 1, Nx))\n",
    "    u[:] = u0\n",
    "    \n",
    "    for t in range(1, Nt + 1):\n",
    "        u[t] = transition(u[t - 1], dt)#u[t - 1][1:] * (1 - dt/dx * (u[t - 1][1:] - u[t - 1][:Nx - 1]))\n",
    "        if np.max(u[t]) > 100 or np.min(u[t]) < -100:\n",
    "            print(t)\n",
    "\n",
    "    return u\n",
    "\n",
    "\n",
    "def square_wave_convection(Nx, Nt, dt, low=1, high=2):\n",
    "    dx = 2/(Nx - 1)\n",
    "    u0 = np.zeros(Nx)\n",
    "\n",
    "    u0[:] = low\n",
    "    u0[int(.5/dx):int(1/dx + 1)]  = high\n",
    "\n",
    "    return nonlinear_convection_simulation(u0, Nt, dt)\n",
    "\n",
    "\n",
    "def make_convection_animation(u, Nx, Nt, min_x, max_x, transition_time=0, frame_time=100):\n",
    "    u_df = pd.DataFrame({\n",
    "        \"x\": np.linspace(min_x, max_x, Nx),\n",
    "    })\n",
    "    \n",
    "    for i in range(Nt + 1):\n",
    "        print(u_df.shape, u[i].shape, i)\n",
    "        u_df[str(i)] = u[i]\n",
    "\n",
    "    fig = px.line(u_df.melt(\"x\"), x=\"x\", y=\"value\", animation_frame=\"variable\")\n",
    "    fig.layout.updatemenus[0].buttons[0].args[1][\"transition\"][\"duration\"] = transition_time\n",
    "    fig.layout.updatemenus[0].buttons[0].args[1]['frame']['duration'] = frame_time\n",
    "    \n",
    "    return fig\n",
    "\n",
    "\n",
    "def experiment(Nx, Nt, dt):\n",
    "    u = square_wave_convection(Nx, Nt, dt)\n",
    "    print(1)\n",
    "    return make_convection_animation(u, Nx, Nt, 0, 2)"
   ]
  },
  {
   "cell_type": "code",
   "execution_count": 79,
   "metadata": {},
   "outputs": [
    {
     "name": "stdout",
     "output_type": "stream",
     "text": [
      "4\n",
      "5\n",
      "6\n",
      "7\n",
      "8\n",
      "9\n",
      "10\n",
      "11\n"
     ]
    },
    {
     "name": "stderr",
     "output_type": "stream",
     "text": [
      "/var/folders/5k/jthrmhld0q919b4jn2g5mzs00000gn/T/ipykernel_66456/1613115723.py:6: RuntimeWarning:\n",
      "\n",
      "overflow encountered in multiply\n",
      "\n",
      "/var/folders/5k/jthrmhld0q919b4jn2g5mzs00000gn/T/ipykernel_66456/1613115723.py:6: RuntimeWarning:\n",
      "\n",
      "invalid value encountered in subtract\n",
      "\n"
     ]
    },
    {
     "data": {
      "application/vnd.plotly.v1+json": {
       "config": {
        "plotlyServerURL": "https://plot.ly"
       },
       "data": [
        {
         "hovertemplate": "variable=0<br>x=%{x}<br>value=%{y}<extra></extra>",
         "legendgroup": "",
         "line": {
          "color": "#636efa",
          "dash": "solid"
         },
         "marker": {
          "symbol": "circle"
         },
         "mode": "lines",
         "name": "",
         "orientation": "v",
         "showlegend": false,
         "type": "scatter",
         "x": {
          "bdata": "AAAAAAAAAABbv1Kg1q+UP1u/UqDWr6Q/CB988MEHrz9bv1Kg1q+0PzJvZ0jM27k/CB988MEHvz9wZ0jM2xnCP1u/UqDWr8Q/RhdddNFFxz8yb2dIzNvJPx3HcRzHccw/CB988MEHzz96O0Ni3s7QP3BnSMzbGdI/ZZNNNtlk0z9bv1Kg1q/UP1HrVwrU+tU/RhdddNFF1z88Q2LezpDYPzJvZ0jM29k/J5tssskm2z8dx3Ecx3HcPxPzdobEvN0/CB988MEH3z9/pUCtXyngP3o7Q2LezuA/ddFFF1104T9wZ0jM2xniP2r9SoFav+I/ZZNNNtlk4z9gKVDrVwrkP1u/UqDWr+Q/VlVVVVVV5T9R61cK1PrlP0yBWr9SoOY/RhdddNFF5z9BrV8pUOvnPzxDYt7OkOg/N9lkk0026T8yb2dIzNvpPy0Fav1Kgeo/J5tssskm6z8iMW9nSMzrPx3HcRzHcew/GF100UUX7T8T83aGxLztPw6JeTtDYu4/CB988MEH7z8DtX6lQK3vP3+lQK1fKfA/ffDBBx988D96O0Ni3s7wP3eGxLydIfE/ddFFF1108T9yHMdxHMfxP3BnSMzbGfI/bbLJJpts8j9q/UqBWr/yP2hIzNsZEvM/ZZNNNtlk8z9j3s6QmLfzP2ApUOtXCvQ/XnTRRRdd9D9bv1Kg1q/0P1gK1PqVAvU/VlVVVVVV9T9ToNavFKj1P1HrVwrU+vU/TjbZZJNN9j9MgVq/UqD2P0nM2xkS8/Y/RhdddNFF9z9EYt7OkJj3P0GtXylQ6/c/P/jggw8++D88Q2LezpD4PzmO4ziO4/g/N9lkk002+T80JObtDIn5PzJvZ0jM2/k/L7rooosu+j8tBWr9SoH6PypQ61cK1Po/J5tssskm+z8l5u0MiXn7PyIxb2dIzPs/IHzwwQcf/D8dx3Ecx3H8PxsS83aGxPw/GF100UUX/T8VqPUrBWr9PxPzdobEvP0/ED744IMP/j8OiXk7Q2L+PwvU+pUCtf4/CB988MEH/z8Gav1KgVr/PwO1fqVArf8/AAAAAAAAAEA=",
          "dtype": "f8"
         },
         "xaxis": "x",
         "y": {
          "bdata": "AAAAAAAA8D8AAAAAAADwPwAAAAAAAPA/AAAAAAAA8D8AAAAAAADwPwAAAAAAAPA/AAAAAAAA8D8AAAAAAADwPwAAAAAAAPA/AAAAAAAA8D8AAAAAAADwPwAAAAAAAPA/AAAAAAAA8D8AAAAAAADwPwAAAAAAAPA/AAAAAAAA8D8AAAAAAADwPwAAAAAAAPA/AAAAAAAA8D8AAAAAAADwPwAAAAAAAPA/AAAAAAAA8D8AAAAAAADwPwAAAAAAAPA/AAAAAAAAAEAAAAAAAAAAQAAAAAAAAABAAAAAAAAAAEAAAAAAAAAAQAAAAAAAAABAAAAAAAAAAEAAAAAAAAAAQAAAAAAAAABAAAAAAAAAAEAAAAAAAAAAQAAAAAAAAABAAAAAAAAAAEAAAAAAAAAAQAAAAAAAAABAAAAAAAAAAEAAAAAAAAAAQAAAAAAAAABAAAAAAAAAAEAAAAAAAAAAQAAAAAAAAABAAAAAAAAAAEAAAAAAAAAAQAAAAAAAAABAAAAAAAAAAEAAAAAAAAAAQAAAAAAAAPA/AAAAAAAA8D8AAAAAAADwPwAAAAAAAPA/AAAAAAAA8D8AAAAAAADwPwAAAAAAAPA/AAAAAAAA8D8AAAAAAADwPwAAAAAAAPA/AAAAAAAA8D8AAAAAAADwPwAAAAAAAPA/AAAAAAAA8D8AAAAAAADwPwAAAAAAAPA/AAAAAAAA8D8AAAAAAADwPwAAAAAAAPA/AAAAAAAA8D8AAAAAAADwPwAAAAAAAPA/AAAAAAAA8D8AAAAAAADwPwAAAAAAAPA/AAAAAAAA8D8AAAAAAADwPwAAAAAAAPA/AAAAAAAA8D8AAAAAAADwPwAAAAAAAPA/AAAAAAAA8D8AAAAAAADwPwAAAAAAAPA/AAAAAAAA8D8AAAAAAADwPwAAAAAAAPA/AAAAAAAA8D8AAAAAAADwPwAAAAAAAPA/AAAAAAAA8D8AAAAAAADwPwAAAAAAAPA/AAAAAAAA8D8AAAAAAADwPwAAAAAAAPA/AAAAAAAA8D8AAAAAAADwPwAAAAAAAPA/AAAAAAAA8D8=",
          "dtype": "f8"
         },
         "yaxis": "y"
        }
       ],
       "frames": [
        {
         "data": [
          {
           "hovertemplate": "variable=0<br>x=%{x}<br>value=%{y}<extra></extra>",
           "legendgroup": "",
           "line": {
            "color": "#636efa",
            "dash": "solid"
           },
           "marker": {
            "symbol": "circle"
           },
           "mode": "lines",
           "name": "",
           "orientation": "v",
           "showlegend": false,
           "type": "scatter",
           "x": {
            "bdata": "AAAAAAAAAABbv1Kg1q+UP1u/UqDWr6Q/CB988MEHrz9bv1Kg1q+0PzJvZ0jM27k/CB988MEHvz9wZ0jM2xnCP1u/UqDWr8Q/RhdddNFFxz8yb2dIzNvJPx3HcRzHccw/CB988MEHzz96O0Ni3s7QP3BnSMzbGdI/ZZNNNtlk0z9bv1Kg1q/UP1HrVwrU+tU/RhdddNFF1z88Q2LezpDYPzJvZ0jM29k/J5tssskm2z8dx3Ecx3HcPxPzdobEvN0/CB988MEH3z9/pUCtXyngP3o7Q2LezuA/ddFFF1104T9wZ0jM2xniP2r9SoFav+I/ZZNNNtlk4z9gKVDrVwrkP1u/UqDWr+Q/VlVVVVVV5T9R61cK1PrlP0yBWr9SoOY/RhdddNFF5z9BrV8pUOvnPzxDYt7OkOg/N9lkk0026T8yb2dIzNvpPy0Fav1Kgeo/J5tssskm6z8iMW9nSMzrPx3HcRzHcew/GF100UUX7T8T83aGxLztPw6JeTtDYu4/CB988MEH7z8DtX6lQK3vP3+lQK1fKfA/ffDBBx988D96O0Ni3s7wP3eGxLydIfE/ddFFF1108T9yHMdxHMfxP3BnSMzbGfI/bbLJJpts8j9q/UqBWr/yP2hIzNsZEvM/ZZNNNtlk8z9j3s6QmLfzP2ApUOtXCvQ/XnTRRRdd9D9bv1Kg1q/0P1gK1PqVAvU/VlVVVVVV9T9ToNavFKj1P1HrVwrU+vU/TjbZZJNN9j9MgVq/UqD2P0nM2xkS8/Y/RhdddNFF9z9EYt7OkJj3P0GtXylQ6/c/P/jggw8++D88Q2LezpD4PzmO4ziO4/g/N9lkk002+T80JObtDIn5PzJvZ0jM2/k/L7rooosu+j8tBWr9SoH6PypQ61cK1Po/J5tssskm+z8l5u0MiXn7PyIxb2dIzPs/IHzwwQcf/D8dx3Ecx3H8PxsS83aGxPw/GF100UUX/T8VqPUrBWr9PxPzdobEvP0/ED744IMP/j8OiXk7Q2L+PwvU+pUCtf4/CB988MEH/z8Gav1KgVr/PwO1fqVArf8/AAAAAAAAAEA=",
            "dtype": "f8"
           },
           "xaxis": "x",
           "y": {
            "bdata": "AAAAAAAA8D8AAAAAAADwPwAAAAAAAPA/AAAAAAAA8D8AAAAAAADwPwAAAAAAAPA/AAAAAAAA8D8AAAAAAADwPwAAAAAAAPA/AAAAAAAA8D8AAAAAAADwPwAAAAAAAPA/AAAAAAAA8D8AAAAAAADwPwAAAAAAAPA/AAAAAAAA8D8AAAAAAADwPwAAAAAAAPA/AAAAAAAA8D8AAAAAAADwPwAAAAAAAPA/AAAAAAAA8D8AAAAAAADwPwAAAAAAAPA/AAAAAAAAAEAAAAAAAAAAQAAAAAAAAABAAAAAAAAAAEAAAAAAAAAAQAAAAAAAAABAAAAAAAAAAEAAAAAAAAAAQAAAAAAAAABAAAAAAAAAAEAAAAAAAAAAQAAAAAAAAABAAAAAAAAAAEAAAAAAAAAAQAAAAAAAAABAAAAAAAAAAEAAAAAAAAAAQAAAAAAAAABAAAAAAAAAAEAAAAAAAAAAQAAAAAAAAABAAAAAAAAAAEAAAAAAAAAAQAAAAAAAAABAAAAAAAAAAEAAAAAAAAAAQAAAAAAAAPA/AAAAAAAA8D8AAAAAAADwPwAAAAAAAPA/AAAAAAAA8D8AAAAAAADwPwAAAAAAAPA/AAAAAAAA8D8AAAAAAADwPwAAAAAAAPA/AAAAAAAA8D8AAAAAAADwPwAAAAAAAPA/AAAAAAAA8D8AAAAAAADwPwAAAAAAAPA/AAAAAAAA8D8AAAAAAADwPwAAAAAAAPA/AAAAAAAA8D8AAAAAAADwPwAAAAAAAPA/AAAAAAAA8D8AAAAAAADwPwAAAAAAAPA/AAAAAAAA8D8AAAAAAADwPwAAAAAAAPA/AAAAAAAA8D8AAAAAAADwPwAAAAAAAPA/AAAAAAAA8D8AAAAAAADwPwAAAAAAAPA/AAAAAAAA8D8AAAAAAADwPwAAAAAAAPA/AAAAAAAA8D8AAAAAAADwPwAAAAAAAPA/AAAAAAAA8D8AAAAAAADwPwAAAAAAAPA/AAAAAAAA8D8AAAAAAADwPwAAAAAAAPA/AAAAAAAA8D8AAAAAAADwPwAAAAAAAPA/AAAAAAAA8D8=",
            "dtype": "f8"
           },
           "yaxis": "y"
          }
         ],
         "name": "0"
        },
        {
         "data": [
          {
           "hovertemplate": "variable=1<br>x=%{x}<br>value=%{y}<extra></extra>",
           "legendgroup": "",
           "line": {
            "color": "#636efa",
            "dash": "solid"
           },
           "marker": {
            "symbol": "circle"
           },
           "mode": "lines",
           "name": "",
           "orientation": "v",
           "showlegend": false,
           "type": "scatter",
           "x": {
            "bdata": "AAAAAAAAAABbv1Kg1q+UP1u/UqDWr6Q/CB988MEHrz9bv1Kg1q+0PzJvZ0jM27k/CB988MEHvz9wZ0jM2xnCP1u/UqDWr8Q/RhdddNFFxz8yb2dIzNvJPx3HcRzHccw/CB988MEHzz96O0Ni3s7QP3BnSMzbGdI/ZZNNNtlk0z9bv1Kg1q/UP1HrVwrU+tU/RhdddNFF1z88Q2LezpDYPzJvZ0jM29k/J5tssskm2z8dx3Ecx3HcPxPzdobEvN0/CB988MEH3z9/pUCtXyngP3o7Q2LezuA/ddFFF1104T9wZ0jM2xniP2r9SoFav+I/ZZNNNtlk4z9gKVDrVwrkP1u/UqDWr+Q/VlVVVVVV5T9R61cK1PrlP0yBWr9SoOY/RhdddNFF5z9BrV8pUOvnPzxDYt7OkOg/N9lkk0026T8yb2dIzNvpPy0Fav1Kgeo/J5tssskm6z8iMW9nSMzrPx3HcRzHcew/GF100UUX7T8T83aGxLztPw6JeTtDYu4/CB988MEH7z8DtX6lQK3vP3+lQK1fKfA/ffDBBx988D96O0Ni3s7wP3eGxLydIfE/ddFFF1108T9yHMdxHMfxP3BnSMzbGfI/bbLJJpts8j9q/UqBWr/yP2hIzNsZEvM/ZZNNNtlk8z9j3s6QmLfzP2ApUOtXCvQ/XnTRRRdd9D9bv1Kg1q/0P1gK1PqVAvU/VlVVVVVV9T9ToNavFKj1P1HrVwrU+vU/TjbZZJNN9j9MgVq/UqD2P0nM2xkS8/Y/RhdddNFF9z9EYt7OkJj3P0GtXylQ6/c/P/jggw8++D88Q2LezpD4PzmO4ziO4/g/N9lkk002+T80JObtDIn5PzJvZ0jM2/k/L7rooosu+j8tBWr9SoH6PypQ61cK1Po/J5tssskm+z8l5u0MiXn7PyIxb2dIzPs/IHzwwQcf/D8dx3Ecx3H8PxsS83aGxPw/GF100UUX/T8VqPUrBWr9PxPzdobEvP0/ED744IMP/j8OiXk7Q2L+PwvU+pUCtf4/CB988MEH/z8Gav1KgVr/PwO1fqVArf8/AAAAAAAAAEA=",
            "dtype": "f8"
           },
           "xaxis": "x",
           "y": {
            "bdata": "AAAAAAAA8D8AAAAAAADwPwAAAAAAAPA/AAAAAAAA8D8AAAAAAADwPwAAAAAAAPA/AAAAAAAA8D8AAAAAAADwPwAAAAAAAPA/AAAAAAAA8D8AAAAAAADwPwAAAAAAAPA/AAAAAAAA8D8AAAAAAADwPwAAAAAAAPA/AAAAAAAA8D8AAAAAAADwPwAAAAAAAPA/AAAAAAAA8D8AAAAAAADwPwAAAAAAAPA/AAAAAAAA8D8AAAAAAADwPwAAAAAAAPA/aGZmZmZm3r8AAAAAAAAAQAAAAAAAAABAAAAAAAAAAEAAAAAAAAAAQAAAAAAAAABAAAAAAAAAAEAAAAAAAAAAQAAAAAAAAABAAAAAAAAAAEAAAAAAAAAAQAAAAAAAAABAAAAAAAAAAEAAAAAAAAAAQAAAAAAAAABAAAAAAAAAAEAAAAAAAAAAQAAAAAAAAABAAAAAAAAAAEAAAAAAAAAAQAAAAAAAAABAAAAAAAAAAEAAAAAAAAAAQAAAAAAAAABAAAAAAAAAAEAAAAAAAAAAQGZmZmZm5gFAAAAAAAAA8D8AAAAAAADwPwAAAAAAAPA/AAAAAAAA8D8AAAAAAADwPwAAAAAAAPA/AAAAAAAA8D8AAAAAAADwPwAAAAAAAPA/AAAAAAAA8D8AAAAAAADwPwAAAAAAAPA/AAAAAAAA8D8AAAAAAADwPwAAAAAAAPA/AAAAAAAA8D8AAAAAAADwPwAAAAAAAPA/AAAAAAAA8D8AAAAAAADwPwAAAAAAAPA/AAAAAAAA8D8AAAAAAADwPwAAAAAAAPA/AAAAAAAA8D8AAAAAAADwPwAAAAAAAPA/AAAAAAAA8D8AAAAAAADwPwAAAAAAAPA/AAAAAAAA8D8AAAAAAADwPwAAAAAAAPA/AAAAAAAA8D8AAAAAAADwPwAAAAAAAPA/AAAAAAAA8D8AAAAAAADwPwAAAAAAAPA/AAAAAAAA8D8AAAAAAADwPwAAAAAAAPA/AAAAAAAA8D8AAAAAAADwPwAAAAAAAPA/AAAAAAAA8D8AAAAAAADwPwAAAAAAAPA/AAAAAAAA8D8=",
            "dtype": "f8"
           },
           "yaxis": "y"
          }
         ],
         "name": "1"
        },
        {
         "data": [
          {
           "hovertemplate": "variable=2<br>x=%{x}<br>value=%{y}<extra></extra>",
           "legendgroup": "",
           "line": {
            "color": "#636efa",
            "dash": "solid"
           },
           "marker": {
            "symbol": "circle"
           },
           "mode": "lines",
           "name": "",
           "orientation": "v",
           "showlegend": false,
           "type": "scatter",
           "x": {
            "bdata": "AAAAAAAAAABbv1Kg1q+UP1u/UqDWr6Q/CB988MEHrz9bv1Kg1q+0PzJvZ0jM27k/CB988MEHvz9wZ0jM2xnCP1u/UqDWr8Q/RhdddNFFxz8yb2dIzNvJPx3HcRzHccw/CB988MEHzz96O0Ni3s7QP3BnSMzbGdI/ZZNNNtlk0z9bv1Kg1q/UP1HrVwrU+tU/RhdddNFF1z88Q2LezpDYPzJvZ0jM29k/J5tssskm2z8dx3Ecx3HcPxPzdobEvN0/CB988MEH3z9/pUCtXyngP3o7Q2LezuA/ddFFF1104T9wZ0jM2xniP2r9SoFav+I/ZZNNNtlk4z9gKVDrVwrkP1u/UqDWr+Q/VlVVVVVV5T9R61cK1PrlP0yBWr9SoOY/RhdddNFF5z9BrV8pUOvnPzxDYt7OkOg/N9lkk0026T8yb2dIzNvpPy0Fav1Kgeo/J5tssskm6z8iMW9nSMzrPx3HcRzHcew/GF100UUX7T8T83aGxLztPw6JeTtDYu4/CB988MEH7z8DtX6lQK3vP3+lQK1fKfA/ffDBBx988D96O0Ni3s7wP3eGxLydIfE/ddFFF1108T9yHMdxHMfxP3BnSMzbGfI/bbLJJpts8j9q/UqBWr/yP2hIzNsZEvM/ZZNNNtlk8z9j3s6QmLfzP2ApUOtXCvQ/XnTRRRdd9D9bv1Kg1q/0P1gK1PqVAvU/VlVVVVVV9T9ToNavFKj1P1HrVwrU+vU/TjbZZJNN9j9MgVq/UqD2P0nM2xkS8/Y/RhdddNFF9z9EYt7OkJj3P0GtXylQ6/c/P/jggw8++D88Q2LezpD4PzmO4ziO4/g/N9lkk002+T80JObtDIn5PzJvZ0jM2/k/L7rooosu+j8tBWr9SoH6PypQ61cK1Po/J5tssskm+z8l5u0MiXn7PyIxb2dIzPs/IHzwwQcf/D8dx3Ecx3H8PxsS83aGxPw/GF100UUX/T8VqPUrBWr9PxPzdobEvP0/ED744IMP/j8OiXk7Q2L+PwvU+pUCtf4/CB988MEH/z8Gav1KgVr/PwO1fqVArf8/AAAAAAAAAEA=",
            "dtype": "f8"
           },
           "xaxis": "x",
           "y": {
            "bdata": "AAAAAAAA8D8AAAAAAADwPwAAAAAAAPA/AAAAAAAA8D8AAAAAAADwPwAAAAAAAPA/AAAAAAAA8D8AAAAAAADwPwAAAAAAAPA/AAAAAAAA8D8AAAAAAADwPwAAAAAAAPA/AAAAAAAA8D8AAAAAAADwPwAAAAAAAPA/AAAAAAAA8D8AAAAAAADwPwAAAAAAAPA/AAAAAAAA8D8AAAAAAADwPwAAAAAAAPA/AAAAAAAA8D8AAAAAAADwPwAAAAAAAPA/sXJoke149b9xPQrXo4AQwAAAAAAAAABAAAAAAAAAAEAAAAAAAAAAQAAAAAAAAABAAAAAAAAAAEAAAAAAAAAAQAAAAAAAAABAAAAAAAAAAEAAAAAAAAAAQAAAAAAAAABAAAAAAAAAAEAAAAAAAAAAQAAAAAAAAABAAAAAAAAAAEAAAAAAAAAAQAAAAAAAAABAAAAAAAAAAEAAAAAAAAAAQAAAAAAAAABAAAAAAAAAAEAAAAAAAAAAQAAAAAAAAABAAAAAAAAAAEAAAAAAAAAAQJPtfD81R/k/uB6F61FABEAAAAAAAADwPwAAAAAAAPA/AAAAAAAA8D8AAAAAAADwPwAAAAAAAPA/AAAAAAAA8D8AAAAAAADwPwAAAAAAAPA/AAAAAAAA8D8AAAAAAADwPwAAAAAAAPA/AAAAAAAA8D8AAAAAAADwPwAAAAAAAPA/AAAAAAAA8D8AAAAAAADwPwAAAAAAAPA/AAAAAAAA8D8AAAAAAADwPwAAAAAAAPA/AAAAAAAA8D8AAAAAAADwPwAAAAAAAPA/AAAAAAAA8D8AAAAAAADwPwAAAAAAAPA/AAAAAAAA8D8AAAAAAADwPwAAAAAAAPA/AAAAAAAA8D8AAAAAAADwPwAAAAAAAPA/AAAAAAAA8D8AAAAAAADwPwAAAAAAAPA/AAAAAAAA8D8AAAAAAADwPwAAAAAAAPA/AAAAAAAA8D8AAAAAAADwPwAAAAAAAPA/AAAAAAAA8D8AAAAAAADwPwAAAAAAAPA/AAAAAAAA8D8AAAAAAADwPwAAAAAAAPA/AAAAAAAA8D8=",
            "dtype": "f8"
           },
           "yaxis": "y"
          }
         ],
         "name": "2"
        },
        {
         "data": [
          {
           "hovertemplate": "variable=3<br>x=%{x}<br>value=%{y}<extra></extra>",
           "legendgroup": "",
           "line": {
            "color": "#636efa",
            "dash": "solid"
           },
           "marker": {
            "symbol": "circle"
           },
           "mode": "lines",
           "name": "",
           "orientation": "v",
           "showlegend": false,
           "type": "scatter",
           "x": {
            "bdata": "AAAAAAAAAABbv1Kg1q+UP1u/UqDWr6Q/CB988MEHrz9bv1Kg1q+0PzJvZ0jM27k/CB988MEHvz9wZ0jM2xnCP1u/UqDWr8Q/RhdddNFFxz8yb2dIzNvJPx3HcRzHccw/CB988MEHzz96O0Ni3s7QP3BnSMzbGdI/ZZNNNtlk0z9bv1Kg1q/UP1HrVwrU+tU/RhdddNFF1z88Q2LezpDYPzJvZ0jM29k/J5tssskm2z8dx3Ecx3HcPxPzdobEvN0/CB988MEH3z9/pUCtXyngP3o7Q2LezuA/ddFFF1104T9wZ0jM2xniP2r9SoFav+I/ZZNNNtlk4z9gKVDrVwrkP1u/UqDWr+Q/VlVVVVVV5T9R61cK1PrlP0yBWr9SoOY/RhdddNFF5z9BrV8pUOvnPzxDYt7OkOg/N9lkk0026T8yb2dIzNvpPy0Fav1Kgeo/J5tssskm6z8iMW9nSMzrPx3HcRzHcew/GF100UUX7T8T83aGxLztPw6JeTtDYu4/CB988MEH7z8DtX6lQK3vP3+lQK1fKfA/ffDBBx988D96O0Ni3s7wP3eGxLydIfE/ddFFF1108T9yHMdxHMfxP3BnSMzbGfI/bbLJJpts8j9q/UqBWr/yP2hIzNsZEvM/ZZNNNtlk8z9j3s6QmLfzP2ApUOtXCvQ/XnTRRRdd9D9bv1Kg1q/0P1gK1PqVAvU/VlVVVVVV9T9ToNavFKj1P1HrVwrU+vU/TjbZZJNN9j9MgVq/UqD2P0nM2xkS8/Y/RhdddNFF9z9EYt7OkJj3P0GtXylQ6/c/P/jggw8++D88Q2LezpD4PzmO4ziO4/g/N9lkk002+T80JObtDIn5PzJvZ0jM2/k/L7rooosu+j8tBWr9SoH6PypQ61cK1Po/J5tssskm+z8l5u0MiXn7PyIxb2dIzPs/IHzwwQcf/D8dx3Ecx3H8PxsS83aGxPw/GF100UUX/T8VqPUrBWr9PxPzdobEvP0/ED744IMP/j8OiXk7Q2L+PwvU+pUCtf4/CB988MEH/z8Gav1KgVr/PwO1fqVArf8/AAAAAAAAAEA=",
            "dtype": "f8"
           },
           "xaxis": "x",
           "y": {
            "bdata": "AAAAAAAA8D8AAAAAAADwPwAAAAAAAPA/AAAAAAAA8D8AAAAAAADwPwAAAAAAAPA/AAAAAAAA8D8AAAAAAADwPwAAAAAAAPA/AAAAAAAA8D8AAAAAAADwPwAAAAAAAPA/AAAAAAAA8D8AAAAAAADwPwAAAAAAAPA/AAAAAAAA8D8AAAAAAADwPwAAAAAAAPA/AAAAAAAA8D8AAAAAAADwPwAAAAAAAPA/AAAAAAAA8D8AAAAAAADwPwAAAAAAAPA/2WxA+xrtFMDVsUpZUlYywAmsHFpkUirAAAAAAAAAAEAAAAAAAAAAQAAAAAAAAABAAAAAAAAAAEAAAAAAAAAAQAAAAAAAAABAAAAAAAAAAEAAAAAAAAAAQAAAAAAAAABAAAAAAAAAAEAAAAAAAAAAQAAAAAAAAABAAAAAAAAAAEAAAAAAAAAAQAAAAAAAAABAAAAAAAAAAEAAAAAAAAAAQAAAAAAAAABAAAAAAAAAAEAAAAAAAAAAQAAAAAAAAABAAAAAAAAAAEAAAAAAAAAAQAYEBEXFNQNAJvD4Ng/C3L8EVg4tMikHQAAAAAAAAPA/AAAAAAAA8D8AAAAAAADwPwAAAAAAAPA/AAAAAAAA8D8AAAAAAADwPwAAAAAAAPA/AAAAAAAA8D8AAAAAAADwPwAAAAAAAPA/AAAAAAAA8D8AAAAAAADwPwAAAAAAAPA/AAAAAAAA8D8AAAAAAADwPwAAAAAAAPA/AAAAAAAA8D8AAAAAAADwPwAAAAAAAPA/AAAAAAAA8D8AAAAAAADwPwAAAAAAAPA/AAAAAAAA8D8AAAAAAADwPwAAAAAAAPA/AAAAAAAA8D8AAAAAAADwPwAAAAAAAPA/AAAAAAAA8D8AAAAAAADwPwAAAAAAAPA/AAAAAAAA8D8AAAAAAADwPwAAAAAAAPA/AAAAAAAA8D8AAAAAAADwPwAAAAAAAPA/AAAAAAAA8D8AAAAAAADwPwAAAAAAAPA/AAAAAAAA8D8AAAAAAADwPwAAAAAAAPA/AAAAAAAA8D8AAAAAAADwPwAAAAAAAPA/AAAAAAAA8D8=",
            "dtype": "f8"
           },
           "yaxis": "y"
          }
         ],
         "name": "3"
        },
        {
         "data": [
          {
           "hovertemplate": "variable=4<br>x=%{x}<br>value=%{y}<extra></extra>",
           "legendgroup": "",
           "line": {
            "color": "#636efa",
            "dash": "solid"
           },
           "marker": {
            "symbol": "circle"
           },
           "mode": "lines",
           "name": "",
           "orientation": "v",
           "showlegend": false,
           "type": "scatter",
           "x": {
            "bdata": "AAAAAAAAAABbv1Kg1q+UP1u/UqDWr6Q/CB988MEHrz9bv1Kg1q+0PzJvZ0jM27k/CB988MEHvz9wZ0jM2xnCP1u/UqDWr8Q/RhdddNFFxz8yb2dIzNvJPx3HcRzHccw/CB988MEHzz96O0Ni3s7QP3BnSMzbGdI/ZZNNNtlk0z9bv1Kg1q/UP1HrVwrU+tU/RhdddNFF1z88Q2LezpDYPzJvZ0jM29k/J5tssskm2z8dx3Ecx3HcPxPzdobEvN0/CB988MEH3z9/pUCtXyngP3o7Q2LezuA/ddFFF1104T9wZ0jM2xniP2r9SoFav+I/ZZNNNtlk4z9gKVDrVwrkP1u/UqDWr+Q/VlVVVVVV5T9R61cK1PrlP0yBWr9SoOY/RhdddNFF5z9BrV8pUOvnPzxDYt7OkOg/N9lkk0026T8yb2dIzNvpPy0Fav1Kgeo/J5tssskm6z8iMW9nSMzrPx3HcRzHcew/GF100UUX7T8T83aGxLztPw6JeTtDYu4/CB988MEH7z8DtX6lQK3vP3+lQK1fKfA/ffDBBx988D96O0Ni3s7wP3eGxLydIfE/ddFFF1108T9yHMdxHMfxP3BnSMzbGfI/bbLJJpts8j9q/UqBWr/yP2hIzNsZEvM/ZZNNNtlk8z9j3s6QmLfzP2ApUOtXCvQ/XnTRRRdd9D9bv1Kg1q/0P1gK1PqVAvU/VlVVVVVV9T9ToNavFKj1P1HrVwrU+vU/TjbZZJNN9j9MgVq/UqD2P0nM2xkS8/Y/RhdddNFF9z9EYt7OkJj3P0GtXylQ6/c/P/jggw8++D88Q2LezpD4PzmO4ziO4/g/N9lkk002+T80JObtDIn5PzJvZ0jM2/k/L7rooosu+j8tBWr9SoH6PypQ61cK1Po/J5tssskm+z8l5u0MiXn7PyIxb2dIzPs/IHzwwQcf/D8dx3Ecx3H8PxsS83aGxPw/GF100UUX/T8VqPUrBWr9PxPzdobEvP0/ED744IMP/j8OiXk7Q2L+PwvU+pUCtf4/CB988MEH/z8Gav1KgVr/PwO1fqVArf8/AAAAAAAAAEA=",
            "dtype": "f8"
           },
           "xaxis": "x",
           "y": {
            "bdata": "AAAAAAAA8D8AAAAAAADwPwAAAAAAAPA/AAAAAAAA8D8AAAAAAADwPwAAAAAAAPA/AAAAAAAA8D8AAAAAAADwPwAAAAAAAPA/AAAAAAAA8D8AAAAAAADwPwAAAAAAAPA/AAAAAAAA8D8AAAAAAADwPwAAAAAAAPA/AAAAAAAA8D8AAAAAAADwPwAAAAAAAPA/AAAAAAAA8D8AAAAAAADwPwAAAAAAAPA/AAAAAAAA8D8AAAAAAADwPwAAAAAAAPA/jP2Ek5TJRsDfuw8Rv7tzwI4jIZgpyVFAc4qO5PrCQcAAAAAAAAAAQAAAAAAAAABAAAAAAAAAAEAAAAAAAAAAQAAAAAAAAABAAAAAAAAAAEAAAAAAAAAAQAAAAAAAAABAAAAAAAAAAEAAAAAAAAAAQAAAAAAAAABAAAAAAAAAAEAAAAAAAAAAQAAAAAAAAABAAAAAAAAAAEAAAAAAAAAAQAAAAAAAAABAAAAAAAAAAEAAAAAAAAAAQAAAAAAAAABAAAAAAAAAAEAAAAAAAAAAQDzM2sirV/M/yxZuvZJGAMBfc0kMmCwiwHKKjuT6wgpAAAAAAAAA8D8AAAAAAADwPwAAAAAAAPA/AAAAAAAA8D8AAAAAAADwPwAAAAAAAPA/AAAAAAAA8D8AAAAAAADwPwAAAAAAAPA/AAAAAAAA8D8AAAAAAADwPwAAAAAAAPA/AAAAAAAA8D8AAAAAAADwPwAAAAAAAPA/AAAAAAAA8D8AAAAAAADwPwAAAAAAAPA/AAAAAAAA8D8AAAAAAADwPwAAAAAAAPA/AAAAAAAA8D8AAAAAAADwPwAAAAAAAPA/AAAAAAAA8D8AAAAAAADwPwAAAAAAAPA/AAAAAAAA8D8AAAAAAADwPwAAAAAAAPA/AAAAAAAA8D8AAAAAAADwPwAAAAAAAPA/AAAAAAAA8D8AAAAAAADwPwAAAAAAAPA/AAAAAAAA8D8AAAAAAADwPwAAAAAAAPA/AAAAAAAA8D8AAAAAAADwPwAAAAAAAPA/AAAAAAAA8D8AAAAAAADwPwAAAAAAAPA/AAAAAAAA8D8=",
            "dtype": "f8"
           },
           "yaxis": "y"
          }
         ],
         "name": "4"
        },
        {
         "data": [
          {
           "hovertemplate": "variable=5<br>x=%{x}<br>value=%{y}<extra></extra>",
           "legendgroup": "",
           "line": {
            "color": "#636efa",
            "dash": "solid"
           },
           "marker": {
            "symbol": "circle"
           },
           "mode": "lines",
           "name": "",
           "orientation": "v",
           "showlegend": false,
           "type": "scatter",
           "x": {
            "bdata": "AAAAAAAAAABbv1Kg1q+UP1u/UqDWr6Q/CB988MEHrz9bv1Kg1q+0PzJvZ0jM27k/CB988MEHvz9wZ0jM2xnCP1u/UqDWr8Q/RhdddNFFxz8yb2dIzNvJPx3HcRzHccw/CB988MEHzz96O0Ni3s7QP3BnSMzbGdI/ZZNNNtlk0z9bv1Kg1q/UP1HrVwrU+tU/RhdddNFF1z88Q2LezpDYPzJvZ0jM29k/J5tssskm2z8dx3Ecx3HcPxPzdobEvN0/CB988MEH3z9/pUCtXyngP3o7Q2LezuA/ddFFF1104T9wZ0jM2xniP2r9SoFav+I/ZZNNNtlk4z9gKVDrVwrkP1u/UqDWr+Q/VlVVVVVV5T9R61cK1PrlP0yBWr9SoOY/RhdddNFF5z9BrV8pUOvnPzxDYt7OkOg/N9lkk0026T8yb2dIzNvpPy0Fav1Kgeo/J5tssskm6z8iMW9nSMzrPx3HcRzHcew/GF100UUX7T8T83aGxLztPw6JeTtDYu4/CB988MEH7z8DtX6lQK3vP3+lQK1fKfA/ffDBBx988D96O0Ni3s7wP3eGxLydIfE/ddFFF1108T9yHMdxHMfxP3BnSMzbGfI/bbLJJpts8j9q/UqBWr/yP2hIzNsZEvM/ZZNNNtlk8z9j3s6QmLfzP2ApUOtXCvQ/XnTRRRdd9D9bv1Kg1q/0P1gK1PqVAvU/VlVVVVVV9T9ToNavFKj1P1HrVwrU+vU/TjbZZJNN9j9MgVq/UqD2P0nM2xkS8/Y/RhdddNFF9z9EYt7OkJj3P0GtXylQ6/c/P/jggw8++D88Q2LezpD4PzmO4ziO4/g/N9lkk002+T80JObtDIn5PzJvZ0jM2/k/L7rooosu+j8tBWr9SoH6PypQ61cK1Po/J5tssskm+z8l5u0MiXn7PyIxb2dIzPs/IHzwwQcf/D8dx3Ecx3H8PxsS83aGxPw/GF100UUX/T8VqPUrBWr9PxPzdobEvP0/ED744IMP/j8OiXk7Q2L+PwvU+pUCtf4/CB988MEH/z8Gav1KgVr/PwO1fqVArf8/AAAAAAAAAEA=",
            "dtype": "f8"
           },
           "xaxis": "x",
           "y": {
            "bdata": "AAAAAAAA8D8AAAAAAADwPwAAAAAAAPA/AAAAAAAA8D8AAAAAAADwPwAAAAAAAPA/AAAAAAAA8D8AAAAAAADwPwAAAAAAAPA/AAAAAAAA8D8AAAAAAADwPwAAAAAAAPA/AAAAAAAA8D8AAAAAAADwPwAAAAAAAPA/AAAAAAAA8D8AAAAAAADwPwAAAAAAAPA/AAAAAAAA8D8AAAAAAADwPwAAAAAAAPA/AAAAAAAA8D8AAAAAAADwPwAAAAAAAPA/GdJi+a/gpMDYJJBeCtn5wOxAnvusmODACNriM5Z0ssDvZHAUsLdWwAAAAAAAAABAAAAAAAAAAEAAAAAAAAAAQAAAAAAAAABAAAAAAAAAAEAAAAAAAAAAQAAAAAAAAABAAAAAAAAAAEAAAAAAAAAAQAAAAAAAAABAAAAAAAAAAEAAAAAAAAAAQAAAAAAAAABAAAAAAAAAAEAAAAAAAAAAQAAAAAAAAABAAAAAAAAAAEAAAAAAAAAAQAAAAAAAAABAAAAAAAAAAEAAAAAAAAAAQDRL8cqhIwNA0pLjrHJmJMCc2vI0WBlWwAcVR8ZyD0jA7WRwFLA3D0AAAAAAAADwPwAAAAAAAPA/AAAAAAAA8D8AAAAAAADwPwAAAAAAAPA/AAAAAAAA8D8AAAAAAADwPwAAAAAAAPA/AAAAAAAA8D8AAAAAAADwPwAAAAAAAPA/AAAAAAAA8D8AAAAAAADwPwAAAAAAAPA/AAAAAAAA8D8AAAAAAADwPwAAAAAAAPA/AAAAAAAA8D8AAAAAAADwPwAAAAAAAPA/AAAAAAAA8D8AAAAAAADwPwAAAAAAAPA/AAAAAAAA8D8AAAAAAADwPwAAAAAAAPA/AAAAAAAA8D8AAAAAAADwPwAAAAAAAPA/AAAAAAAA8D8AAAAAAADwPwAAAAAAAPA/AAAAAAAA8D8AAAAAAADwPwAAAAAAAPA/AAAAAAAA8D8AAAAAAADwPwAAAAAAAPA/AAAAAAAA8D8AAAAAAADwPwAAAAAAAPA/AAAAAAAA8D8AAAAAAADwPwAAAAAAAPA/AAAAAAAA8D8=",
            "dtype": "f8"
           },
           "yaxis": "y"
          }
         ],
         "name": "5"
        },
        {
         "data": [
          {
           "hovertemplate": "variable=6<br>x=%{x}<br>value=%{y}<extra></extra>",
           "legendgroup": "",
           "line": {
            "color": "#636efa",
            "dash": "solid"
           },
           "marker": {
            "symbol": "circle"
           },
           "mode": "lines",
           "name": "",
           "orientation": "v",
           "showlegend": false,
           "type": "scatter",
           "x": {
            "bdata": "AAAAAAAAAABbv1Kg1q+UP1u/UqDWr6Q/CB988MEHrz9bv1Kg1q+0PzJvZ0jM27k/CB988MEHvz9wZ0jM2xnCP1u/UqDWr8Q/RhdddNFFxz8yb2dIzNvJPx3HcRzHccw/CB988MEHzz96O0Ni3s7QP3BnSMzbGdI/ZZNNNtlk0z9bv1Kg1q/UP1HrVwrU+tU/RhdddNFF1z88Q2LezpDYPzJvZ0jM29k/J5tssskm2z8dx3Ecx3HcPxPzdobEvN0/CB988MEH3z9/pUCtXyngP3o7Q2LezuA/ddFFF1104T9wZ0jM2xniP2r9SoFav+I/ZZNNNtlk4z9gKVDrVwrkP1u/UqDWr+Q/VlVVVVVV5T9R61cK1PrlP0yBWr9SoOY/RhdddNFF5z9BrV8pUOvnPzxDYt7OkOg/N9lkk0026T8yb2dIzNvpPy0Fav1Kgeo/J5tssskm6z8iMW9nSMzrPx3HcRzHcew/GF100UUX7T8T83aGxLztPw6JeTtDYu4/CB988MEH7z8DtX6lQK3vP3+lQK1fKfA/ffDBBx988D96O0Ni3s7wP3eGxLydIfE/ddFFF1108T9yHMdxHMfxP3BnSMzbGfI/bbLJJpts8j9q/UqBWr/yP2hIzNsZEvM/ZZNNNtlk8z9j3s6QmLfzP2ApUOtXCvQ/XnTRRRdd9D9bv1Kg1q/0P1gK1PqVAvU/VlVVVVVV9T9ToNavFKj1P1HrVwrU+vU/TjbZZJNN9j9MgVq/UqD2P0nM2xkS8/Y/RhdddNFF9z9EYt7OkJj3P0GtXylQ6/c/P/jggw8++D88Q2LezpD4PzmO4ziO4/g/N9lkk002+T80JObtDIn5PzJvZ0jM2/k/L7rooosu+j8tBWr9SoH6PypQ61cK1Po/J5tssskm+z8l5u0MiXn7PyIxb2dIzPs/IHzwwQcf/D8dx3Ecx3H8PxsS83aGxPw/GF100UUX/T8VqPUrBWr9PxPzdobEvP0/ED744IMP/j8OiXk7Q2L+PwvU+pUCtf4/CB988MEH/z8Gav1KgVr/PwO1fqVArf8/AAAAAAAAAEA=",
            "dtype": "f8"
           },
           "xaxis": "x",
           "y": {
            "bdata": "AAAAAAAA8D8AAAAAAADwPwAAAAAAAPA/AAAAAAAA8D8AAAAAAADwPwAAAAAAAPA/AAAAAAAA8D8AAAAAAADwPwAAAAAAAPA/AAAAAAAA8D8AAAAAAADwPwAAAAAAAPA/AAAAAAAA8D8AAAAAAADwPwAAAAAAAPA/AAAAAAAA8D8AAAAAAADwPwAAAAAAAPA/AAAAAAAA8D8AAAAAAADwPwAAAAAAAPA/AAAAAAAA8D8AAAAAAADwPwAAAAAAAPA/3H9o9RveYMFVfj78YS8Jwt7IqrzjhuZBV7/50HhlpEHbFxMrS8wfQbVJfkxQe2zAAAAAAAAAAEAAAAAAAAAAQAAAAAAAAABAAAAAAAAAAEAAAAAAAAAAQAAAAAAAAABAAAAAAAAAAEAAAAAAAAAAQAAAAAAAAABAAAAAAAAAAEAAAAAAAAAAQAAAAAAAAABAAAAAAAAAAEAAAAAAAAAAQAAAAAAAAABAAAAAAAAAAEAAAAAAAAAAQAAAAAAAAABAAAAAAAAAAEAAAAAAAAAAQC47WTDPsPM/15l2Ic8kZcDbcJ4+IOHAwBvdYz1/XKJAfo8N2w7qbsDZJD8mqF0SQAAAAAAAAPA/AAAAAAAA8D8AAAAAAADwPwAAAAAAAPA/AAAAAAAA8D8AAAAAAADwPwAAAAAAAPA/AAAAAAAA8D8AAAAAAADwPwAAAAAAAPA/AAAAAAAA8D8AAAAAAADwPwAAAAAAAPA/AAAAAAAA8D8AAAAAAADwPwAAAAAAAPA/AAAAAAAA8D8AAAAAAADwPwAAAAAAAPA/AAAAAAAA8D8AAAAAAADwPwAAAAAAAPA/AAAAAAAA8D8AAAAAAADwPwAAAAAAAPA/AAAAAAAA8D8AAAAAAADwPwAAAAAAAPA/AAAAAAAA8D8AAAAAAADwPwAAAAAAAPA/AAAAAAAA8D8AAAAAAADwPwAAAAAAAPA/AAAAAAAA8D8AAAAAAADwPwAAAAAAAPA/AAAAAAAA8D8AAAAAAADwPwAAAAAAAPA/AAAAAAAA8D8AAAAAAADwPwAAAAAAAPA/AAAAAAAA8D8=",
            "dtype": "f8"
           },
           "yaxis": "y"
          }
         ],
         "name": "6"
        },
        {
         "data": [
          {
           "hovertemplate": "variable=7<br>x=%{x}<br>value=%{y}<extra></extra>",
           "legendgroup": "",
           "line": {
            "color": "#636efa",
            "dash": "solid"
           },
           "marker": {
            "symbol": "circle"
           },
           "mode": "lines",
           "name": "",
           "orientation": "v",
           "showlegend": false,
           "type": "scatter",
           "x": {
            "bdata": "AAAAAAAAAABbv1Kg1q+UP1u/UqDWr6Q/CB988MEHrz9bv1Kg1q+0PzJvZ0jM27k/CB988MEHvz9wZ0jM2xnCP1u/UqDWr8Q/RhdddNFFxz8yb2dIzNvJPx3HcRzHccw/CB988MEHzz96O0Ni3s7QP3BnSMzbGdI/ZZNNNtlk0z9bv1Kg1q/UP1HrVwrU+tU/RhdddNFF1z88Q2LezpDYPzJvZ0jM29k/J5tssskm2z8dx3Ecx3HcPxPzdobEvN0/CB988MEH3z9/pUCtXyngP3o7Q2LezuA/ddFFF1104T9wZ0jM2xniP2r9SoFav+I/ZZNNNtlk4z9gKVDrVwrkP1u/UqDWr+Q/VlVVVVVV5T9R61cK1PrlP0yBWr9SoOY/RhdddNFF5z9BrV8pUOvnPzxDYt7OkOg/N9lkk0026T8yb2dIzNvpPy0Fav1Kgeo/J5tssskm6z8iMW9nSMzrPx3HcRzHcew/GF100UUX7T8T83aGxLztPw6JeTtDYu4/CB988MEH7z8DtX6lQK3vP3+lQK1fKfA/ffDBBx988D96O0Ni3s7wP3eGxLydIfE/ddFFF1108T9yHMdxHMfxP3BnSMzbGfI/bbLJJpts8j9q/UqBWr/yP2hIzNsZEvM/ZZNNNtlk8z9j3s6QmLfzP2ApUOtXCvQ/XnTRRRdd9D9bv1Kg1q/0P1gK1PqVAvU/VlVVVVVV9T9ToNavFKj1P1HrVwrU+vU/TjbZZJNN9j9MgVq/UqD2P0nM2xkS8/Y/RhdddNFF9z9EYt7OkJj3P0GtXylQ6/c/P/jggw8++D88Q2LezpD4PzmO4ziO4/g/N9lkk002+T80JObtDIn5PzJvZ0jM2/k/L7rooosu+j8tBWr9SoH6PypQ61cK1Po/J5tssskm+z8l5u0MiXn7PyIxb2dIzPs/IHzwwQcf/D8dx3Ecx3H8PxsS83aGxPw/GF100UUX/T8VqPUrBWr9PxPzdobEvP0/ED744IMP/j8OiXk7Q2L+PwvU+pUCtf4/CB988MEH/z8Gav1KgVr/PwO1fqVArf8/AAAAAAAAAEA=",
            "dtype": "f8"
           },
           "xaxis": "x",
           "y": {
            "bdata": "AAAAAAAA8D8AAAAAAADwPwAAAAAAAPA/AAAAAAAA8D8AAAAAAADwPwAAAAAAAPA/AAAAAAAA8D8AAAAAAADwPwAAAAAAAPA/AAAAAAAA8D8AAAAAAADwPwAAAAAAAPA/AAAAAAAA8D8AAAAAAADwPwAAAAAAAPA/AAAAAAAA8D8AAAAAAADwPwAAAAAAAPA/AAAAAAAA8D8AAAAAAADwPwAAAAAAAPA/AAAAAAAA8D8AAAAAAADwPwAAAAAAAPA/geeeDW0B1sJRjWTgWYMoxNaSohio2ArEDJK8u1HDoEPiIQKKPAHZQqi3BQL+hKHBaIpUrxm3gcAAAAAAAAAAQAAAAAAAAABAAAAAAAAAAEAAAAAAAAAAQAAAAAAAAABAAAAAAAAAAEAAAAAAAAAAQAAAAAAAAABAAAAAAAAAAEAAAAAAAAAAQAAAAAAAAABAAAAAAAAAAEAAAAAAAAAAQAAAAAAAAABAAAAAAAAAAEAAAAAAAAAAQAAAAAAAAABAAAAAAAAAAEAAAAAAAAAAQBQXUPr0NwNAgL5dRDx/4cADCrCEaZuVwWvZkjrVfH7BWBOXb8ZEKMGOqWjM4UqWwGaKVK8ZxxVAAAAAAAAA8D8AAAAAAADwPwAAAAAAAPA/AAAAAAAA8D8AAAAAAADwPwAAAAAAAPA/AAAAAAAA8D8AAAAAAADwPwAAAAAAAPA/AAAAAAAA8D8AAAAAAADwPwAAAAAAAPA/AAAAAAAA8D8AAAAAAADwPwAAAAAAAPA/AAAAAAAA8D8AAAAAAADwPwAAAAAAAPA/AAAAAAAA8D8AAAAAAADwPwAAAAAAAPA/AAAAAAAA8D8AAAAAAADwPwAAAAAAAPA/AAAAAAAA8D8AAAAAAADwPwAAAAAAAPA/AAAAAAAA8D8AAAAAAADwPwAAAAAAAPA/AAAAAAAA8D8AAAAAAADwPwAAAAAAAPA/AAAAAAAA8D8AAAAAAADwPwAAAAAAAPA/AAAAAAAA8D8AAAAAAADwPwAAAAAAAPA/AAAAAAAA8D8AAAAAAADwPwAAAAAAAPA/AAAAAAAA8D8=",
            "dtype": "f8"
           },
           "yaxis": "y"
          }
         ],
         "name": "7"
        },
        {
         "data": [
          {
           "hovertemplate": "variable=8<br>x=%{x}<br>value=%{y}<extra></extra>",
           "legendgroup": "",
           "line": {
            "color": "#636efa",
            "dash": "solid"
           },
           "marker": {
            "symbol": "circle"
           },
           "mode": "lines",
           "name": "",
           "orientation": "v",
           "showlegend": false,
           "type": "scatter",
           "x": {
            "bdata": "AAAAAAAAAABbv1Kg1q+UP1u/UqDWr6Q/CB988MEHrz9bv1Kg1q+0PzJvZ0jM27k/CB988MEHvz9wZ0jM2xnCP1u/UqDWr8Q/RhdddNFFxz8yb2dIzNvJPx3HcRzHccw/CB988MEHzz96O0Ni3s7QP3BnSMzbGdI/ZZNNNtlk0z9bv1Kg1q/UP1HrVwrU+tU/RhdddNFF1z88Q2LezpDYPzJvZ0jM29k/J5tssskm2z8dx3Ecx3HcPxPzdobEvN0/CB988MEH3z9/pUCtXyngP3o7Q2LezuA/ddFFF1104T9wZ0jM2xniP2r9SoFav+I/ZZNNNtlk4z9gKVDrVwrkP1u/UqDWr+Q/VlVVVVVV5T9R61cK1PrlP0yBWr9SoOY/RhdddNFF5z9BrV8pUOvnPzxDYt7OkOg/N9lkk0026T8yb2dIzNvpPy0Fav1Kgeo/J5tssskm6z8iMW9nSMzrPx3HcRzHcew/GF100UUX7T8T83aGxLztPw6JeTtDYu4/CB988MEH7z8DtX6lQK3vP3+lQK1fKfA/ffDBBx988D96O0Ni3s7wP3eGxLydIfE/ddFFF1108T9yHMdxHMfxP3BnSMzbGfI/bbLJJpts8j9q/UqBWr/yP2hIzNsZEvM/ZZNNNtlk8z9j3s6QmLfzP2ApUOtXCvQ/XnTRRRdd9D9bv1Kg1q/0P1gK1PqVAvU/VlVVVVVV9T9ToNavFKj1P1HrVwrU+vU/TjbZZJNN9j9MgVq/UqD2P0nM2xkS8/Y/RhdddNFF9z9EYt7OkJj3P0GtXylQ6/c/P/jggw8++D88Q2LezpD4PzmO4ziO4/g/N9lkk002+T80JObtDIn5PzJvZ0jM2/k/L7rooosu+j8tBWr9SoH6PypQ61cK1Po/J5tssskm+z8l5u0MiXn7PyIxb2dIzPs/IHzwwQcf/D8dx3Ecx3H8PxsS83aGxPw/GF100UUX/T8VqPUrBWr9PxPzdobEvP0/ED744IMP/j8OiXk7Q2L+PwvU+pUCtf4/CB988MEH/z8Gav1KgVr/PwO1fqVArf8/AAAAAAAAAEA=",
            "dtype": "f8"
           },
           "xaxis": "x",
           "y": {
            "bdata": "AAAAAAAA8D8AAAAAAADwPwAAAAAAAPA/AAAAAAAA8D8AAAAAAADwPwAAAAAAAPA/AAAAAAAA8D8AAAAAAADwPwAAAAAAAPA/AAAAAAAA8D8AAAAAAADwPwAAAAAAAPA/AAAAAAAA8D8AAAAAAADwPwAAAAAAAPA/AAAAAAAA8D8AAAAAAADwPwAAAAAAAPA/AAAAAAAA8D8AAAAAAADwPwAAAAAAAPA/AAAAAAAA8D8AAAAAAADwPwAAAAAAAPA/jVno1ga6wsUQ98v90jxnyOlr+mJCe0JIYZ9G9bOSwceOBppI4TSQRuEdS4Tr8JDEyWNSRCUBOEJHa8WV/PeVwAAAAAAAAABAAAAAAAAAAEAAAAAAAAAAQAAAAAAAAABAAAAAAAAAAEAAAAAAAAAAQAAAAAAAAABAAAAAAAAAAEAAAAAAAAAAQAAAAAAAAABAAAAAAAAAAEAAAAAAAAAAQAAAAAAAAABAAAAAAAAAAEAAAAAAAAAAQAAAAAAAAABAAAAAAAAAAEAAAAAAAAAAQJy9gXffTPM/qv6FNzmu18HdJpT8JAxCw7+rdxMcfSBDR1I/Qrzmu0K+QBA7YOLUQZPn0sTf1cLARWvFlfz/GUAAAAAAAADwPwAAAAAAAPA/AAAAAAAA8D8AAAAAAADwPwAAAAAAAPA/AAAAAAAA8D8AAAAAAADwPwAAAAAAAPA/AAAAAAAA8D8AAAAAAADwPwAAAAAAAPA/AAAAAAAA8D8AAAAAAADwPwAAAAAAAPA/AAAAAAAA8D8AAAAAAADwPwAAAAAAAPA/AAAAAAAA8D8AAAAAAADwPwAAAAAAAPA/AAAAAAAA8D8AAAAAAADwPwAAAAAAAPA/AAAAAAAA8D8AAAAAAADwPwAAAAAAAPA/AAAAAAAA8D8AAAAAAADwPwAAAAAAAPA/AAAAAAAA8D8AAAAAAADwPwAAAAAAAPA/AAAAAAAA8D8AAAAAAADwPwAAAAAAAPA/AAAAAAAA8D8AAAAAAADwPwAAAAAAAPA/AAAAAAAA8D8AAAAAAADwPwAAAAAAAPA/AAAAAAAA8D8=",
            "dtype": "f8"
           },
           "yaxis": "y"
          }
         ],
         "name": "8"
        },
        {
         "data": [
          {
           "hovertemplate": "variable=9<br>x=%{x}<br>value=%{y}<extra></extra>",
           "legendgroup": "",
           "line": {
            "color": "#636efa",
            "dash": "solid"
           },
           "marker": {
            "symbol": "circle"
           },
           "mode": "lines",
           "name": "",
           "orientation": "v",
           "showlegend": false,
           "type": "scatter",
           "x": {
            "bdata": "AAAAAAAAAABbv1Kg1q+UP1u/UqDWr6Q/CB988MEHrz9bv1Kg1q+0PzJvZ0jM27k/CB988MEHvz9wZ0jM2xnCP1u/UqDWr8Q/RhdddNFFxz8yb2dIzNvJPx3HcRzHccw/CB988MEHzz96O0Ni3s7QP3BnSMzbGdI/ZZNNNtlk0z9bv1Kg1q/UP1HrVwrU+tU/RhdddNFF1z88Q2LezpDYPzJvZ0jM29k/J5tssskm2z8dx3Ecx3HcPxPzdobEvN0/CB988MEH3z9/pUCtXyngP3o7Q2LezuA/ddFFF1104T9wZ0jM2xniP2r9SoFav+I/ZZNNNtlk4z9gKVDrVwrkP1u/UqDWr+Q/VlVVVVVV5T9R61cK1PrlP0yBWr9SoOY/RhdddNFF5z9BrV8pUOvnPzxDYt7OkOg/N9lkk0026T8yb2dIzNvpPy0Fav1Kgeo/J5tssskm6z8iMW9nSMzrPx3HcRzHcew/GF100UUX7T8T83aGxLztPw6JeTtDYu4/CB988MEH7z8DtX6lQK3vP3+lQK1fKfA/ffDBBx988D96O0Ni3s7wP3eGxLydIfE/ddFFF1108T9yHMdxHMfxP3BnSMzbGfI/bbLJJpts8j9q/UqBWr/yP2hIzNsZEvM/ZZNNNtlk8z9j3s6QmLfzP2ApUOtXCvQ/XnTRRRdd9D9bv1Kg1q/0P1gK1PqVAvU/VlVVVVVV9T9ToNavFKj1P1HrVwrU+vU/TjbZZJNN9j9MgVq/UqD2P0nM2xkS8/Y/RhdddNFF9z9EYt7OkJj3P0GtXylQ6/c/P/jggw8++D88Q2LezpD4PzmO4ziO4/g/N9lkk002+T80JObtDIn5PzJvZ0jM2/k/L7rooosu+j8tBWr9SoH6PypQ61cK1Po/J5tssskm+z8l5u0MiXn7PyIxb2dIzPs/IHzwwQcf/D8dx3Ecx3H8PxsS83aGxPw/GF100UUX/T8VqPUrBWr9PxPzdobEvP0/ED744IMP/j8OiXk7Q2L+PwvU+pUCtf4/CB988MEH/z8Gav1KgVr/PwO1fqVArf8/AAAAAAAAAEA=",
            "dtype": "f8"
           },
           "xaxis": "x",
           "y": {
            "bdata": "AAAAAAAA8D8AAAAAAADwPwAAAAAAAPA/AAAAAAAA8D8AAAAAAADwPwAAAAAAAPA/AAAAAAAA8D8AAAAAAADwPwAAAAAAAPA/AAAAAAAA8D8AAAAAAADwPwAAAAAAAPA/AAAAAAAA8D8AAAAAAADwPwAAAAAAAPA/AAAAAAAA8D8AAAAAAADwPwAAAAAAAPA/AAAAAAAA8D8AAAAAAADwPwAAAAAAAPA/AAAAAAAA8D8AAAAAAADwPwAAAAAAAPA/GkPImJ8fm8vD9u8A3OHk0LYkcjwU6cPQ0Xqr4HM2GdBblmoOBwdmzqDOHv05PDXLG8papOhz38YbPVJmvGTkwvXnvV+VNavAAAAAAAAAAEAAAAAAAAAAQAAAAAAAAABAAAAAAAAAAEAAAAAAAAAAQAAAAAAAAABAAAAAAAAAAEAAAAAAAAAAQAAAAAAAAABAAAAAAAAAAEAAAAAAAAAAQAAAAAAAAABAAAAAAAAAAEAAAAAAAAAAQAAAAAAAAABAAAAAAAAAAEAAAAAAAAAAQLXqtsABIQNA8Qwk05yvxcPYxgjvDjGZxtekmZnbRXzGIFcdfFmO8UU80ttcdIimRK3+r+esbK7Ch4S0cxjz8sDy571flTkfQAAAAAAAAPA/AAAAAAAA8D8AAAAAAADwPwAAAAAAAPA/AAAAAAAA8D8AAAAAAADwPwAAAAAAAPA/AAAAAAAA8D8AAAAAAADwPwAAAAAAAPA/AAAAAAAA8D8AAAAAAADwPwAAAAAAAPA/AAAAAAAA8D8AAAAAAADwPwAAAAAAAPA/AAAAAAAA8D8AAAAAAADwPwAAAAAAAPA/AAAAAAAA8D8AAAAAAADwPwAAAAAAAPA/AAAAAAAA8D8AAAAAAADwPwAAAAAAAPA/AAAAAAAA8D8AAAAAAADwPwAAAAAAAPA/AAAAAAAA8D8AAAAAAADwPwAAAAAAAPA/AAAAAAAA8D8AAAAAAADwPwAAAAAAAPA/AAAAAAAA8D8AAAAAAADwPwAAAAAAAPA/AAAAAAAA8D8AAAAAAADwPwAAAAAAAPA/AAAAAAAA8D8=",
            "dtype": "f8"
           },
           "yaxis": "y"
          }
         ],
         "name": "9"
        },
        {
         "data": [
          {
           "hovertemplate": "variable=10<br>x=%{x}<br>value=%{y}<extra></extra>",
           "legendgroup": "",
           "line": {
            "color": "#636efa",
            "dash": "solid"
           },
           "marker": {
            "symbol": "circle"
           },
           "mode": "lines",
           "name": "",
           "orientation": "v",
           "showlegend": false,
           "type": "scatter",
           "x": {
            "bdata": "AAAAAAAAAABbv1Kg1q+UP1u/UqDWr6Q/CB988MEHrz9bv1Kg1q+0PzJvZ0jM27k/CB988MEHvz9wZ0jM2xnCP1u/UqDWr8Q/RhdddNFFxz8yb2dIzNvJPx3HcRzHccw/CB988MEHzz96O0Ni3s7QP3BnSMzbGdI/ZZNNNtlk0z9bv1Kg1q/UP1HrVwrU+tU/RhdddNFF1z88Q2LezpDYPzJvZ0jM29k/J5tssskm2z8dx3Ecx3HcPxPzdobEvN0/CB988MEH3z9/pUCtXyngP3o7Q2LezuA/ddFFF1104T9wZ0jM2xniP2r9SoFav+I/ZZNNNtlk4z9gKVDrVwrkP1u/UqDWr+Q/VlVVVVVV5T9R61cK1PrlP0yBWr9SoOY/RhdddNFF5z9BrV8pUOvnPzxDYt7OkOg/N9lkk0026T8yb2dIzNvpPy0Fav1Kgeo/J5tssskm6z8iMW9nSMzrPx3HcRzHcew/GF100UUX7T8T83aGxLztPw6JeTtDYu4/CB988MEH7z8DtX6lQK3vP3+lQK1fKfA/ffDBBx988D96O0Ni3s7wP3eGxLydIfE/ddFFF1108T9yHMdxHMfxP3BnSMzbGfI/bbLJJpts8j9q/UqBWr/yP2hIzNsZEvM/ZZNNNtlk8z9j3s6QmLfzP2ApUOtXCvQ/XnTRRRdd9D9bv1Kg1q/0P1gK1PqVAvU/VlVVVVVV9T9ToNavFKj1P1HrVwrU+vU/TjbZZJNN9j9MgVq/UqD2P0nM2xkS8/Y/RhdddNFF9z9EYt7OkJj3P0GtXylQ6/c/P/jggw8++D88Q2LezpD4PzmO4ziO4/g/N9lkk002+T80JObtDIn5PzJvZ0jM2/k/L7rooosu+j8tBWr9SoH6PypQ61cK1Po/J5tssskm+z8l5u0MiXn7PyIxb2dIzPs/IHzwwQcf/D8dx3Ecx3H8PxsS83aGxPw/GF100UUX/T8VqPUrBWr9PxPzdobEvP0/ED744IMP/j8OiXk7Q2L+PwvU+pUCtf4/CB988MEH/z8Gav1KgVr/PwO1fqVArf8/AAAAAAAAAEA=",
            "dtype": "f8"
           },
           "xaxis": "x",
           "y": {
            "bdata": "AAAAAAAA8D8AAAAAAADwPwAAAAAAAPA/AAAAAAAA8D8AAAAAAADwPwAAAAAAAPA/AAAAAAAA8D8AAAAAAADwPwAAAAAAAPA/AAAAAAAA8D8AAAAAAADwPwAAAAAAAPA/AAAAAAAA8D8AAAAAAADwPwAAAAAAAPA/AAAAAAAA8D8AAAAAAADwPwAAAAAAAPA/AAAAAAAA8D8AAAAAAADwPwAAAAAAAPA/AAAAAAAA8D8AAAAAAADwPwAAAAAAAPA/lfAOKEpzTNeYSdcQFd3g4UkXwWgLfrhhKohcxLFm82DkVt3lLXqVXmWqsIjPFrJZ8jcnT0nUKVITbSNVLc7YSYPVVf1wdaVDU7RwBm7XwMAAAAAAAAAAQAAAAAAAAABAAAAAAAAAAEAAAAAAAAAAQAAAAAAAAABAAAAAAAAAAEAAAAAAAAAAQAAAAAAAAABAAAAAAAAAAEAAAAAAAAAAQAAAAAAAAABAAAAAAAAAAEAAAAAAAAAAQAAAAAAAAABAAAAAAAAAAEAAAAAAAAAAQK8dLO2kvfM/c3kAwMovosfzsbnyuIpIzeH2J3DF0CNNx1/Qp+I9g8z5HCBhspiuShb8l/oBg2rHf4r5+KpLtkMKCbAjW+ImwVG0cAZu2CJAAAAAAAAA8D8AAAAAAADwPwAAAAAAAPA/AAAAAAAA8D8AAAAAAADwPwAAAAAAAPA/AAAAAAAA8D8AAAAAAADwPwAAAAAAAPA/AAAAAAAA8D8AAAAAAADwPwAAAAAAAPA/AAAAAAAA8D8AAAAAAADwPwAAAAAAAPA/AAAAAAAA8D8AAAAAAADwPwAAAAAAAPA/AAAAAAAA8D8AAAAAAADwPwAAAAAAAPA/AAAAAAAA8D8AAAAAAADwPwAAAAAAAPA/AAAAAAAA8D8AAAAAAADwPwAAAAAAAPA/AAAAAAAA8D8AAAAAAADwPwAAAAAAAPA/AAAAAAAA8D8AAAAAAADwPwAAAAAAAPA/AAAAAAAA8D8AAAAAAADwPwAAAAAAAPA/AAAAAAAA8D8AAAAAAADwPwAAAAAAAPA/AAAAAAAA8D8=",
            "dtype": "f8"
           },
           "yaxis": "y"
          }
         ],
         "name": "10"
        },
        {
         "data": [
          {
           "hovertemplate": "variable=11<br>x=%{x}<br>value=%{y}<extra></extra>",
           "legendgroup": "",
           "line": {
            "color": "#636efa",
            "dash": "solid"
           },
           "marker": {
            "symbol": "circle"
           },
           "mode": "lines",
           "name": "",
           "orientation": "v",
           "showlegend": false,
           "type": "scatter",
           "x": {
            "bdata": "AAAAAAAAAABbv1Kg1q+UP1u/UqDWr6Q/CB988MEHrz9bv1Kg1q+0PzJvZ0jM27k/CB988MEHvz9wZ0jM2xnCP1u/UqDWr8Q/RhdddNFFxz8yb2dIzNvJPx3HcRzHccw/CB988MEHzz96O0Ni3s7QP3BnSMzbGdI/ZZNNNtlk0z9bv1Kg1q/UP1HrVwrU+tU/RhdddNFF1z88Q2LezpDYPzJvZ0jM29k/J5tssskm2z8dx3Ecx3HcPxPzdobEvN0/CB988MEH3z9/pUCtXyngP3o7Q2LezuA/ddFFF1104T9wZ0jM2xniP2r9SoFav+I/ZZNNNtlk4z9gKVDrVwrkP1u/UqDWr+Q/VlVVVVVV5T9R61cK1PrlP0yBWr9SoOY/RhdddNFF5z9BrV8pUOvnPzxDYt7OkOg/N9lkk0026T8yb2dIzNvpPy0Fav1Kgeo/J5tssskm6z8iMW9nSMzrPx3HcRzHcew/GF100UUX7T8T83aGxLztPw6JeTtDYu4/CB988MEH7z8DtX6lQK3vP3+lQK1fKfA/ffDBBx988D96O0Ni3s7wP3eGxLydIfE/ddFFF1108T9yHMdxHMfxP3BnSMzbGfI/bbLJJpts8j9q/UqBWr/yP2hIzNsZEvM/ZZNNNtlk8z9j3s6QmLfzP2ApUOtXCvQ/XnTRRRdd9D9bv1Kg1q/0P1gK1PqVAvU/VlVVVVVV9T9ToNavFKj1P1HrVwrU+vU/TjbZZJNN9j9MgVq/UqD2P0nM2xkS8/Y/RhdddNFF9z9EYt7OkJj3P0GtXylQ6/c/P/jggw8++D88Q2LezpD4PzmO4ziO4/g/N9lkk002+T80JObtDIn5PzJvZ0jM2/k/L7rooosu+j8tBWr9SoH6PypQ61cK1Po/J5tssskm+z8l5u0MiXn7PyIxb2dIzPs/IHzwwQcf/D8dx3Ecx3H8PxsS83aGxPw/GF100UUX/T8VqPUrBWr9PxPzdobEvP0/ED744IMP/j8OiXk7Q2L+PwvU+pUCtf4/CB988MEH/z8Gav1KgVr/PwO1fqVArf8/AAAAAAAAAEA=",
            "dtype": "f8"
           },
           "xaxis": "x",
           "y": {
            "bdata": "AAAAAAAA8D8AAAAAAADwPwAAAAAAAPA/AAAAAAAA8D8AAAAAAADwPwAAAAAAAPA/AAAAAAAA8D8AAAAAAADwPwAAAAAAAPA/AAAAAAAA8D8AAAAAAADwPwAAAAAAAPA/AAAAAAAA8D8AAAAAAADwPwAAAAAAAPA/AAAAAAAA8D8AAAAAAADwPwAAAAAAAPA/AAAAAAAA8D8AAAAAAADwPwAAAAAAAPA/AAAAAAAA8D8AAAAAAADwPwAAAAAAAPA/nITeNUhNr+4AAAAAAADw/wAAAAAAAPD/AAAAAAAA8H9zEFfpKh2gfyry4VVjDF54rNh4Vo4R8mvCoj6u+MYYXLO0+UWylZRNrPVAwa7ze8Qn35HBIdjUwAAAAAAAAABAAAAAAAAAAEAAAAAAAAAAQAAAAAAAAABAAAAAAAAAAEAAAAAAAAAAQAAAAAAAAABAAAAAAAAAAEAAAAAAAAAAQAAAAAAAAABAAAAAAAAAAEAAAAAAAAAAQAAAAAAAAABAAAAAAAAAAEAAAAAAAAAAQGSKQZCvOgNAaD+u/fWUWc8cnSiCz0qn2j/fgAtKmobaNJNDzZmEvdkau6Gpa8RG1/3sig+LXi/SboZgjNbbNsubUVrEJLvzxPqPMoyMrWDBJN+RwaHYJkAAAAAAAADwPwAAAAAAAPA/AAAAAAAA8D8AAAAAAADwPwAAAAAAAPA/AAAAAAAA8D8AAAAAAADwPwAAAAAAAPA/AAAAAAAA8D8AAAAAAADwPwAAAAAAAPA/AAAAAAAA8D8AAAAAAADwPwAAAAAAAPA/AAAAAAAA8D8AAAAAAADwPwAAAAAAAPA/AAAAAAAA8D8AAAAAAADwPwAAAAAAAPA/AAAAAAAA8D8AAAAAAADwPwAAAAAAAPA/AAAAAAAA8D8AAAAAAADwPwAAAAAAAPA/AAAAAAAA8D8AAAAAAADwPwAAAAAAAPA/AAAAAAAA8D8AAAAAAADwPwAAAAAAAPA/AAAAAAAA8D8AAAAAAADwPwAAAAAAAPA/AAAAAAAA8D8AAAAAAADwPwAAAAAAAPA/AAAAAAAA8D8=",
            "dtype": "f8"
           },
           "yaxis": "y"
          }
         ],
         "name": "11"
        },
        {
         "data": [
          {
           "hovertemplate": "variable=12<br>x=%{x}<br>value=%{y}<extra></extra>",
           "legendgroup": "",
           "line": {
            "color": "#636efa",
            "dash": "solid"
           },
           "marker": {
            "symbol": "circle"
           },
           "mode": "lines",
           "name": "",
           "orientation": "v",
           "showlegend": false,
           "type": "scatter",
           "x": {
            "bdata": "AAAAAAAAAABbv1Kg1q+UP1u/UqDWr6Q/CB988MEHrz9bv1Kg1q+0PzJvZ0jM27k/CB988MEHvz9wZ0jM2xnCP1u/UqDWr8Q/RhdddNFFxz8yb2dIzNvJPx3HcRzHccw/CB988MEHzz96O0Ni3s7QP3BnSMzbGdI/ZZNNNtlk0z9bv1Kg1q/UP1HrVwrU+tU/RhdddNFF1z88Q2LezpDYPzJvZ0jM29k/J5tssskm2z8dx3Ecx3HcPxPzdobEvN0/CB988MEH3z9/pUCtXyngP3o7Q2LezuA/ddFFF1104T9wZ0jM2xniP2r9SoFav+I/ZZNNNtlk4z9gKVDrVwrkP1u/UqDWr+Q/VlVVVVVV5T9R61cK1PrlP0yBWr9SoOY/RhdddNFF5z9BrV8pUOvnPzxDYt7OkOg/N9lkk0026T8yb2dIzNvpPy0Fav1Kgeo/J5tssskm6z8iMW9nSMzrPx3HcRzHcew/GF100UUX7T8T83aGxLztPw6JeTtDYu4/CB988MEH7z8DtX6lQK3vP3+lQK1fKfA/ffDBBx988D96O0Ni3s7wP3eGxLydIfE/ddFFF1108T9yHMdxHMfxP3BnSMzbGfI/bbLJJpts8j9q/UqBWr/yP2hIzNsZEvM/ZZNNNtlk8z9j3s6QmLfzP2ApUOtXCvQ/XnTRRRdd9D9bv1Kg1q/0P1gK1PqVAvU/VlVVVVVV9T9ToNavFKj1P1HrVwrU+vU/TjbZZJNN9j9MgVq/UqD2P0nM2xkS8/Y/RhdddNFF9z9EYt7OkJj3P0GtXylQ6/c/P/jggw8++D88Q2LezpD4PzmO4ziO4/g/N9lkk002+T80JObtDIn5PzJvZ0jM2/k/L7rooosu+j8tBWr9SoH6PypQ61cK1Po/J5tssskm+z8l5u0MiXn7PyIxb2dIzPs/IHzwwQcf/D8dx3Ecx3H8PxsS83aGxPw/GF100UUX/T8VqPUrBWr9PxPzdobEvP0/ED744IMP/j8OiXk7Q2L+PwvU+pUCtf4/CB988MEH/z8Gav1KgVr/PwO1fqVArf8/AAAAAAAAAEA=",
            "dtype": "f8"
           },
           "xaxis": "x",
           "y": {
            "bdata": "AAAAAAAA8D8AAAAAAADwPwAAAAAAAPA/AAAAAAAA8D8AAAAAAADwPwAAAAAAAPA/AAAAAAAA8D8AAAAAAADwPwAAAAAAAPA/AAAAAAAA8D8AAAAAAADwPwAAAAAAAPA/AAAAAAAA8D8AAAAAAADwPwAAAAAAAPA/AAAAAAAA8D8AAAAAAADwPwAAAAAAAPA/AAAAAAAA8D8AAAAAAADwPwAAAAAAAPA/AAAAAAAA8D8AAAAAAADwPwAAAAAAAPA/AAAAAAAA8P8AAAAAAADw/wAAAAAAAPh/AAAAAAAA8P8AAAAAAADwfwAAAAAAAPB/AAAAAAAA8H8AAAAAAADwf+VEYQ1UucNpbfxgsUlAJtLR+lb2GYhmRSeEJPnUy+nAAAAAAAAAAEAAAAAAAAAAQAAAAAAAAABAAAAAAAAAAEAAAAAAAAAAQAAAAAAAAABAAAAAAAAAAEAAAAAAAAAAQAAAAAAAAABAAAAAAAAAAEAAAAAAAAAAQAAAAAAAAABAAAAAAAAAAEAAAAAAAAAAQJpIfBphP/M/RHgVwOFOyd5BNBvFBvtk9QYh0Q0v1z51+PmWthXMWXTcUgc5O/0ZcTVpwOyDnotpF7l1Yey6e126HWmiKXFBUMj0T3Sjc2lGpL77s1p4ncEjhCT5FMwrQAAAAAAAAPA/AAAAAAAA8D8AAAAAAADwPwAAAAAAAPA/AAAAAAAA8D8AAAAAAADwPwAAAAAAAPA/AAAAAAAA8D8AAAAAAADwPwAAAAAAAPA/AAAAAAAA8D8AAAAAAADwPwAAAAAAAPA/AAAAAAAA8D8AAAAAAADwPwAAAAAAAPA/AAAAAAAA8D8AAAAAAADwPwAAAAAAAPA/AAAAAAAA8D8AAAAAAADwPwAAAAAAAPA/AAAAAAAA8D8AAAAAAADwPwAAAAAAAPA/AAAAAAAA8D8AAAAAAADwPwAAAAAAAPA/AAAAAAAA8D8AAAAAAADwPwAAAAAAAPA/AAAAAAAA8D8AAAAAAADwPwAAAAAAAPA/AAAAAAAA8D8AAAAAAADwPwAAAAAAAPA/AAAAAAAA8D8=",
            "dtype": "f8"
           },
           "yaxis": "y"
          }
         ],
         "name": "12"
        },
        {
         "data": [
          {
           "hovertemplate": "variable=13<br>x=%{x}<br>value=%{y}<extra></extra>",
           "legendgroup": "",
           "line": {
            "color": "#636efa",
            "dash": "solid"
           },
           "marker": {
            "symbol": "circle"
           },
           "mode": "lines",
           "name": "",
           "orientation": "v",
           "showlegend": false,
           "type": "scatter",
           "x": {
            "bdata": "AAAAAAAAAABbv1Kg1q+UP1u/UqDWr6Q/CB988MEHrz9bv1Kg1q+0PzJvZ0jM27k/CB988MEHvz9wZ0jM2xnCP1u/UqDWr8Q/RhdddNFFxz8yb2dIzNvJPx3HcRzHccw/CB988MEHzz96O0Ni3s7QP3BnSMzbGdI/ZZNNNtlk0z9bv1Kg1q/UP1HrVwrU+tU/RhdddNFF1z88Q2LezpDYPzJvZ0jM29k/J5tssskm2z8dx3Ecx3HcPxPzdobEvN0/CB988MEH3z9/pUCtXyngP3o7Q2LezuA/ddFFF1104T9wZ0jM2xniP2r9SoFav+I/ZZNNNtlk4z9gKVDrVwrkP1u/UqDWr+Q/VlVVVVVV5T9R61cK1PrlP0yBWr9SoOY/RhdddNFF5z9BrV8pUOvnPzxDYt7OkOg/N9lkk0026T8yb2dIzNvpPy0Fav1Kgeo/J5tssskm6z8iMW9nSMzrPx3HcRzHcew/GF100UUX7T8T83aGxLztPw6JeTtDYu4/CB988MEH7z8DtX6lQK3vP3+lQK1fKfA/ffDBBx988D96O0Ni3s7wP3eGxLydIfE/ddFFF1108T9yHMdxHMfxP3BnSMzbGfI/bbLJJpts8j9q/UqBWr/yP2hIzNsZEvM/ZZNNNtlk8z9j3s6QmLfzP2ApUOtXCvQ/XnTRRRdd9D9bv1Kg1q/0P1gK1PqVAvU/VlVVVVVV9T9ToNavFKj1P1HrVwrU+vU/TjbZZJNN9j9MgVq/UqD2P0nM2xkS8/Y/RhdddNFF9z9EYt7OkJj3P0GtXylQ6/c/P/jggw8++D88Q2LezpD4PzmO4ziO4/g/N9lkk002+T80JObtDIn5PzJvZ0jM2/k/L7rooosu+j8tBWr9SoH6PypQ61cK1Po/J5tssskm+z8l5u0MiXn7PyIxb2dIzPs/IHzwwQcf/D8dx3Ecx3H8PxsS83aGxPw/GF100UUX/T8VqPUrBWr9PxPzdobEvP0/ED744IMP/j8OiXk7Q2L+PwvU+pUCtf4/CB988MEH/z8Gav1KgVr/PwO1fqVArf8/AAAAAAAAAEA=",
            "dtype": "f8"
           },
           "xaxis": "x",
           "y": {
            "bdata": "AAAAAAAA8D8AAAAAAADwPwAAAAAAAPA/AAAAAAAA8D8AAAAAAADwPwAAAAAAAPA/AAAAAAAA8D8AAAAAAADwPwAAAAAAAPA/AAAAAAAA8D8AAAAAAADwPwAAAAAAAPA/AAAAAAAA8D8AAAAAAADwPwAAAAAAAPA/AAAAAAAA8D8AAAAAAADwPwAAAAAAAPA/AAAAAAAA8D8AAAAAAADwPwAAAAAAAPA/AAAAAAAA8D8AAAAAAADwPwAAAAAAAPA/AAAAAAAA8P8AAAAAAAD4fwAAAAAAAPh/AAAAAAAA+H8AAAAAAADw/wAAAAAAAPh/AAAAAAAA+H8AAAAAAAD4fwAAAAAAAPB/7kkAAun4APy6SzfAaGOj11jilIUwembGvZaDJ23s/8AAAAAAAAAAQAAAAAAAAABAAAAAAAAAAEAAAAAAAAAAQAAAAAAAAABAAAAAAAAAAEAAAAAAAAAAQAAAAAAAAABAAAAAAAAAAEAAAAAAAAAAQAAAAAAAAABAAAAAAAAAAEAAAAAAAAAAQPSbOEetHQNAQMOeI/fEqP0AAAAAAADw/wAAAAAAAPD/AAAAAAAA8H8AAAAAAADwfwAAAAAAAPB/AAAAAAAA8H+Iv60wV7TSbXq52sTnKsFWQ37muKUBHcikSWfp863fwVzLwZNG9jBAAAAAAAAA8D8AAAAAAADwPwAAAAAAAPA/AAAAAAAA8D8AAAAAAADwPwAAAAAAAPA/AAAAAAAA8D8AAAAAAADwPwAAAAAAAPA/AAAAAAAA8D8AAAAAAADwPwAAAAAAAPA/AAAAAAAA8D8AAAAAAADwPwAAAAAAAPA/AAAAAAAA8D8AAAAAAADwPwAAAAAAAPA/AAAAAAAA8D8AAAAAAADwPwAAAAAAAPA/AAAAAAAA8D8AAAAAAADwPwAAAAAAAPA/AAAAAAAA8D8AAAAAAADwPwAAAAAAAPA/AAAAAAAA8D8AAAAAAADwPwAAAAAAAPA/AAAAAAAA8D8AAAAAAADwPwAAAAAAAPA/AAAAAAAA8D8AAAAAAADwPwAAAAAAAPA/AAAAAAAA8D8=",
            "dtype": "f8"
           },
           "yaxis": "y"
          }
         ],
         "name": "13"
        },
        {
         "data": [
          {
           "hovertemplate": "variable=14<br>x=%{x}<br>value=%{y}<extra></extra>",
           "legendgroup": "",
           "line": {
            "color": "#636efa",
            "dash": "solid"
           },
           "marker": {
            "symbol": "circle"
           },
           "mode": "lines",
           "name": "",
           "orientation": "v",
           "showlegend": false,
           "type": "scatter",
           "x": {
            "bdata": "AAAAAAAAAABbv1Kg1q+UP1u/UqDWr6Q/CB988MEHrz9bv1Kg1q+0PzJvZ0jM27k/CB988MEHvz9wZ0jM2xnCP1u/UqDWr8Q/RhdddNFFxz8yb2dIzNvJPx3HcRzHccw/CB988MEHzz96O0Ni3s7QP3BnSMzbGdI/ZZNNNtlk0z9bv1Kg1q/UP1HrVwrU+tU/RhdddNFF1z88Q2LezpDYPzJvZ0jM29k/J5tssskm2z8dx3Ecx3HcPxPzdobEvN0/CB988MEH3z9/pUCtXyngP3o7Q2LezuA/ddFFF1104T9wZ0jM2xniP2r9SoFav+I/ZZNNNtlk4z9gKVDrVwrkP1u/UqDWr+Q/VlVVVVVV5T9R61cK1PrlP0yBWr9SoOY/RhdddNFF5z9BrV8pUOvnPzxDYt7OkOg/N9lkk0026T8yb2dIzNvpPy0Fav1Kgeo/J5tssskm6z8iMW9nSMzrPx3HcRzHcew/GF100UUX7T8T83aGxLztPw6JeTtDYu4/CB988MEH7z8DtX6lQK3vP3+lQK1fKfA/ffDBBx988D96O0Ni3s7wP3eGxLydIfE/ddFFF1108T9yHMdxHMfxP3BnSMzbGfI/bbLJJpts8j9q/UqBWr/yP2hIzNsZEvM/ZZNNNtlk8z9j3s6QmLfzP2ApUOtXCvQ/XnTRRRdd9D9bv1Kg1q/0P1gK1PqVAvU/VlVVVVVV9T9ToNavFKj1P1HrVwrU+vU/TjbZZJNN9j9MgVq/UqD2P0nM2xkS8/Y/RhdddNFF9z9EYt7OkJj3P0GtXylQ6/c/P/jggw8++D88Q2LezpD4PzmO4ziO4/g/N9lkk002+T80JObtDIn5PzJvZ0jM2/k/L7rooosu+j8tBWr9SoH6PypQ61cK1Po/J5tssskm+z8l5u0MiXn7PyIxb2dIzPs/IHzwwQcf/D8dx3Ecx3H8PxsS83aGxPw/GF100UUX/T8VqPUrBWr9PxPzdobEvP0/ED744IMP/j8OiXk7Q2L+PwvU+pUCtf4/CB988MEH/z8Gav1KgVr/PwO1fqVArf8/AAAAAAAAAEA=",
            "dtype": "f8"
           },
           "xaxis": "x",
           "y": {
            "bdata": "AAAAAAAA8D8AAAAAAADwPwAAAAAAAPA/AAAAAAAA8D8AAAAAAADwPwAAAAAAAPA/AAAAAAAA8D8AAAAAAADwPwAAAAAAAPA/AAAAAAAA8D8AAAAAAADwPwAAAAAAAPA/AAAAAAAA8D8AAAAAAADwPwAAAAAAAPA/AAAAAAAA8D8AAAAAAADwPwAAAAAAAPA/AAAAAAAA8D8AAAAAAADwPwAAAAAAAPA/AAAAAAAA8D8AAAAAAADwPwAAAAAAAPA/AAAAAAAA8P8AAAAAAAD4fwAAAAAAAPh/AAAAAAAA+H8AAAAAAAD4fwAAAAAAAPh/AAAAAAAA+H8AAAAAAAD4fwAAAAAAAPh/AAAAAAAA8P8AAAAAAADwf0H8Ohxk2iBeDLr7nsu/e0d4OKYjvMATwQAAAAAAAABAAAAAAAAAAEAAAAAAAAAAQAAAAAAAAABAAAAAAAAAAEAAAAAAAAAAQAAAAAAAAABAAAAAAAAAAEAAAAAAAAAAQAAAAAAAAABAAAAAAAAAAEAAAAAAAAAAQF1Cv7XmzfM/AAAAAAAA8P8AAAAAAADw/wAAAAAAAPh/AAAAAAAA8P8AAAAAAAD4fwAAAAAAAPh/AAAAAAAA+H8AAAAAAADwfwAAAAAAAPB/5mrcTulB894MpX0MmsQRShstyEG/xyTCdTimI8TANEAAAAAAAADwPwAAAAAAAPA/AAAAAAAA8D8AAAAAAADwPwAAAAAAAPA/AAAAAAAA8D8AAAAAAADwPwAAAAAAAPA/AAAAAAAA8D8AAAAAAADwPwAAAAAAAPA/AAAAAAAA8D8AAAAAAADwPwAAAAAAAPA/AAAAAAAA8D8AAAAAAADwPwAAAAAAAPA/AAAAAAAA8D8AAAAAAADwPwAAAAAAAPA/AAAAAAAA8D8AAAAAAADwPwAAAAAAAPA/AAAAAAAA8D8AAAAAAADwPwAAAAAAAPA/AAAAAAAA8D8AAAAAAADwPwAAAAAAAPA/AAAAAAAA8D8AAAAAAADwPwAAAAAAAPA/AAAAAAAA8D8AAAAAAADwPwAAAAAAAPA/AAAAAAAA8D8=",
            "dtype": "f8"
           },
           "yaxis": "y"
          }
         ],
         "name": "14"
        },
        {
         "data": [
          {
           "hovertemplate": "variable=15<br>x=%{x}<br>value=%{y}<extra></extra>",
           "legendgroup": "",
           "line": {
            "color": "#636efa",
            "dash": "solid"
           },
           "marker": {
            "symbol": "circle"
           },
           "mode": "lines",
           "name": "",
           "orientation": "v",
           "showlegend": false,
           "type": "scatter",
           "x": {
            "bdata": "AAAAAAAAAABbv1Kg1q+UP1u/UqDWr6Q/CB988MEHrz9bv1Kg1q+0PzJvZ0jM27k/CB988MEHvz9wZ0jM2xnCP1u/UqDWr8Q/RhdddNFFxz8yb2dIzNvJPx3HcRzHccw/CB988MEHzz96O0Ni3s7QP3BnSMzbGdI/ZZNNNtlk0z9bv1Kg1q/UP1HrVwrU+tU/RhdddNFF1z88Q2LezpDYPzJvZ0jM29k/J5tssskm2z8dx3Ecx3HcPxPzdobEvN0/CB988MEH3z9/pUCtXyngP3o7Q2LezuA/ddFFF1104T9wZ0jM2xniP2r9SoFav+I/ZZNNNtlk4z9gKVDrVwrkP1u/UqDWr+Q/VlVVVVVV5T9R61cK1PrlP0yBWr9SoOY/RhdddNFF5z9BrV8pUOvnPzxDYt7OkOg/N9lkk0026T8yb2dIzNvpPy0Fav1Kgeo/J5tssskm6z8iMW9nSMzrPx3HcRzHcew/GF100UUX7T8T83aGxLztPw6JeTtDYu4/CB988MEH7z8DtX6lQK3vP3+lQK1fKfA/ffDBBx988D96O0Ni3s7wP3eGxLydIfE/ddFFF1108T9yHMdxHMfxP3BnSMzbGfI/bbLJJpts8j9q/UqBWr/yP2hIzNsZEvM/ZZNNNtlk8z9j3s6QmLfzP2ApUOtXCvQ/XnTRRRdd9D9bv1Kg1q/0P1gK1PqVAvU/VlVVVVVV9T9ToNavFKj1P1HrVwrU+vU/TjbZZJNN9j9MgVq/UqD2P0nM2xkS8/Y/RhdddNFF9z9EYt7OkJj3P0GtXylQ6/c/P/jggw8++D88Q2LezpD4PzmO4ziO4/g/N9lkk002+T80JObtDIn5PzJvZ0jM2/k/L7rooosu+j8tBWr9SoH6PypQ61cK1Po/J5tssskm+z8l5u0MiXn7PyIxb2dIzPs/IHzwwQcf/D8dx3Ecx3H8PxsS83aGxPw/GF100UUX/T8VqPUrBWr9PxPzdobEvP0/ED744IMP/j8OiXk7Q2L+PwvU+pUCtf4/CB988MEH/z8Gav1KgVr/PwO1fqVArf8/AAAAAAAAAEA=",
            "dtype": "f8"
           },
           "xaxis": "x",
           "y": {
            "bdata": "AAAAAAAA8D8AAAAAAADwPwAAAAAAAPA/AAAAAAAA8D8AAAAAAADwPwAAAAAAAPA/AAAAAAAA8D8AAAAAAADwPwAAAAAAAPA/AAAAAAAA8D8AAAAAAADwPwAAAAAAAPA/AAAAAAAA8D8AAAAAAADwPwAAAAAAAPA/AAAAAAAA8D8AAAAAAADwPwAAAAAAAPA/AAAAAAAA8D8AAAAAAADwPwAAAAAAAPA/AAAAAAAA8D8AAAAAAADwPwAAAAAAAPA/AAAAAAAA8P8AAAAAAAD4fwAAAAAAAPh/AAAAAAAA+H8AAAAAAAD4fwAAAAAAAPh/AAAAAAAA+H8AAAAAAAD4fwAAAAAAAPh/AAAAAAAA+H8AAAAAAADw/wAAAAAAAPB/SK3+8dQVsmVFEkV9czKlyEhMt4W7cSjBAAAAAAAAAEAAAAAAAAAAQAAAAAAAAABAAAAAAAAAAEAAAAAAAAAAQAAAAAAAAABAAAAAAAAAAEAAAAAAAAAAQAAAAAAAAABAAAAAAAAAAEAAAAAAAAAAQC6T8h0SPgNAAAAAAAAA8P8AAAAAAAD4fwAAAAAAAPh/AAAAAAAA+H8AAAAAAAD4fwAAAAAAAPh/AAAAAAAA+H8AAAAAAAD4fwAAAAAAAPh/AAAAAAAA8P+oVF3843Ya6bSXR4GejkzMX3n0qmatcMJETLeFv3E5QAAAAAAAAPA/AAAAAAAA8D8AAAAAAADwPwAAAAAAAPA/AAAAAAAA8D8AAAAAAADwPwAAAAAAAPA/AAAAAAAA8D8AAAAAAADwPwAAAAAAAPA/AAAAAAAA8D8AAAAAAADwPwAAAAAAAPA/AAAAAAAA8D8AAAAAAADwPwAAAAAAAPA/AAAAAAAA8D8AAAAAAADwPwAAAAAAAPA/AAAAAAAA8D8AAAAAAADwPwAAAAAAAPA/AAAAAAAA8D8AAAAAAADwPwAAAAAAAPA/AAAAAAAA8D8AAAAAAADwPwAAAAAAAPA/AAAAAAAA8D8AAAAAAADwPwAAAAAAAPA/AAAAAAAA8D8AAAAAAADwPwAAAAAAAPA/AAAAAAAA8D8=",
            "dtype": "f8"
           },
           "yaxis": "y"
          }
         ],
         "name": "15"
        },
        {
         "data": [
          {
           "hovertemplate": "variable=16<br>x=%{x}<br>value=%{y}<extra></extra>",
           "legendgroup": "",
           "line": {
            "color": "#636efa",
            "dash": "solid"
           },
           "marker": {
            "symbol": "circle"
           },
           "mode": "lines",
           "name": "",
           "orientation": "v",
           "showlegend": false,
           "type": "scatter",
           "x": {
            "bdata": "AAAAAAAAAABbv1Kg1q+UP1u/UqDWr6Q/CB988MEHrz9bv1Kg1q+0PzJvZ0jM27k/CB988MEHvz9wZ0jM2xnCP1u/UqDWr8Q/RhdddNFFxz8yb2dIzNvJPx3HcRzHccw/CB988MEHzz96O0Ni3s7QP3BnSMzbGdI/ZZNNNtlk0z9bv1Kg1q/UP1HrVwrU+tU/RhdddNFF1z88Q2LezpDYPzJvZ0jM29k/J5tssskm2z8dx3Ecx3HcPxPzdobEvN0/CB988MEH3z9/pUCtXyngP3o7Q2LezuA/ddFFF1104T9wZ0jM2xniP2r9SoFav+I/ZZNNNtlk4z9gKVDrVwrkP1u/UqDWr+Q/VlVVVVVV5T9R61cK1PrlP0yBWr9SoOY/RhdddNFF5z9BrV8pUOvnPzxDYt7OkOg/N9lkk0026T8yb2dIzNvpPy0Fav1Kgeo/J5tssskm6z8iMW9nSMzrPx3HcRzHcew/GF100UUX7T8T83aGxLztPw6JeTtDYu4/CB988MEH7z8DtX6lQK3vP3+lQK1fKfA/ffDBBx988D96O0Ni3s7wP3eGxLydIfE/ddFFF1108T9yHMdxHMfxP3BnSMzbGfI/bbLJJpts8j9q/UqBWr/yP2hIzNsZEvM/ZZNNNtlk8z9j3s6QmLfzP2ApUOtXCvQ/XnTRRRdd9D9bv1Kg1q/0P1gK1PqVAvU/VlVVVVVV9T9ToNavFKj1P1HrVwrU+vU/TjbZZJNN9j9MgVq/UqD2P0nM2xkS8/Y/RhdddNFF9z9EYt7OkJj3P0GtXylQ6/c/P/jggw8++D88Q2LezpD4PzmO4ziO4/g/N9lkk002+T80JObtDIn5PzJvZ0jM2/k/L7rooosu+j8tBWr9SoH6PypQ61cK1Po/J5tssskm+z8l5u0MiXn7PyIxb2dIzPs/IHzwwQcf/D8dx3Ecx3H8PxsS83aGxPw/GF100UUX/T8VqPUrBWr9PxPzdobEvP0/ED744IMP/j8OiXk7Q2L+PwvU+pUCtf4/CB988MEH/z8Gav1KgVr/PwO1fqVArf8/AAAAAAAAAEA=",
            "dtype": "f8"
           },
           "xaxis": "x",
           "y": {
            "bdata": "AAAAAAAA8D8AAAAAAADwPwAAAAAAAPA/AAAAAAAA8D8AAAAAAADwPwAAAAAAAPA/AAAAAAAA8D8AAAAAAADwPwAAAAAAAPA/AAAAAAAA8D8AAAAAAADwPwAAAAAAAPA/AAAAAAAA8D8AAAAAAADwPwAAAAAAAPA/AAAAAAAA8D8AAAAAAADwPwAAAAAAAPA/AAAAAAAA8D8AAAAAAADwPwAAAAAAAPA/AAAAAAAA8D8AAAAAAADwPwAAAAAAAPA/AAAAAAAA8P8AAAAAAAD4fwAAAAAAAPh/AAAAAAAA+H8AAAAAAAD4fwAAAAAAAPh/AAAAAAAA+H8AAAAAAAD4fwAAAAAAAPh/AAAAAAAA+H8AAAAAAAD4fwAAAAAAAPD/AAAAAAAA8H/60sIKbqZt7iw/gKynCeRJmaHfm/Q/PsEAAAAAAAAAQAAAAAAAAABAAAAAAAAAAEAAAAAAAAAAQAAAAAAAAABAAAAAAAAAAEAAAAAAAAAAQAAAAAAAAABAAAAAAAAAAEAAAAAAAAAAQDaEdMWdLvM/AAAAAAAA8P8AAAAAAAD4fwAAAAAAAPh/AAAAAAAA+H8AAAAAAAD4fwAAAAAAAPh/AAAAAAAA+H8AAAAAAAD4fwAAAAAAAPh/AAAAAAAA+H8AAAAAAADwf9AZk4/lOX116m5jNvFq0k7E2as6AWnAwpSh35v2Pz9AAAAAAAAA8D8AAAAAAADwPwAAAAAAAPA/AAAAAAAA8D8AAAAAAADwPwAAAAAAAPA/AAAAAAAA8D8AAAAAAADwPwAAAAAAAPA/AAAAAAAA8D8AAAAAAADwPwAAAAAAAPA/AAAAAAAA8D8AAAAAAADwPwAAAAAAAPA/AAAAAAAA8D8AAAAAAADwPwAAAAAAAPA/AAAAAAAA8D8AAAAAAADwPwAAAAAAAPA/AAAAAAAA8D8AAAAAAADwPwAAAAAAAPA/AAAAAAAA8D8AAAAAAADwPwAAAAAAAPA/AAAAAAAA8D8AAAAAAADwPwAAAAAAAPA/AAAAAAAA8D8AAAAAAADwPwAAAAAAAPA/AAAAAAAA8D8=",
            "dtype": "f8"
           },
           "yaxis": "y"
          }
         ],
         "name": "16"
        },
        {
         "data": [
          {
           "hovertemplate": "variable=17<br>x=%{x}<br>value=%{y}<extra></extra>",
           "legendgroup": "",
           "line": {
            "color": "#636efa",
            "dash": "solid"
           },
           "marker": {
            "symbol": "circle"
           },
           "mode": "lines",
           "name": "",
           "orientation": "v",
           "showlegend": false,
           "type": "scatter",
           "x": {
            "bdata": "AAAAAAAAAABbv1Kg1q+UP1u/UqDWr6Q/CB988MEHrz9bv1Kg1q+0PzJvZ0jM27k/CB988MEHvz9wZ0jM2xnCP1u/UqDWr8Q/RhdddNFFxz8yb2dIzNvJPx3HcRzHccw/CB988MEHzz96O0Ni3s7QP3BnSMzbGdI/ZZNNNtlk0z9bv1Kg1q/UP1HrVwrU+tU/RhdddNFF1z88Q2LezpDYPzJvZ0jM29k/J5tssskm2z8dx3Ecx3HcPxPzdobEvN0/CB988MEH3z9/pUCtXyngP3o7Q2LezuA/ddFFF1104T9wZ0jM2xniP2r9SoFav+I/ZZNNNtlk4z9gKVDrVwrkP1u/UqDWr+Q/VlVVVVVV5T9R61cK1PrlP0yBWr9SoOY/RhdddNFF5z9BrV8pUOvnPzxDYt7OkOg/N9lkk0026T8yb2dIzNvpPy0Fav1Kgeo/J5tssskm6z8iMW9nSMzrPx3HcRzHcew/GF100UUX7T8T83aGxLztPw6JeTtDYu4/CB988MEH7z8DtX6lQK3vP3+lQK1fKfA/ffDBBx988D96O0Ni3s7wP3eGxLydIfE/ddFFF1108T9yHMdxHMfxP3BnSMzbGfI/bbLJJpts8j9q/UqBWr/yP2hIzNsZEvM/ZZNNNtlk8z9j3s6QmLfzP2ApUOtXCvQ/XnTRRRdd9D9bv1Kg1q/0P1gK1PqVAvU/VlVVVVVV9T9ToNavFKj1P1HrVwrU+vU/TjbZZJNN9j9MgVq/UqD2P0nM2xkS8/Y/RhdddNFF9z9EYt7OkJj3P0GtXylQ6/c/P/jggw8++D88Q2LezpD4PzmO4ziO4/g/N9lkk002+T80JObtDIn5PzJvZ0jM2/k/L7rooosu+j8tBWr9SoH6PypQ61cK1Po/J5tssskm+z8l5u0MiXn7PyIxb2dIzPs/IHzwwQcf/D8dx3Ecx3H8PxsS83aGxPw/GF100UUX/T8VqPUrBWr9PxPzdobEvP0/ED744IMP/j8OiXk7Q2L+PwvU+pUCtf4/CB988MEH/z8Gav1KgVr/PwO1fqVArf8/AAAAAAAAAEA=",
            "dtype": "f8"
           },
           "xaxis": "x",
           "y": {
            "bdata": "AAAAAAAA8D8AAAAAAADwPwAAAAAAAPA/AAAAAAAA8D8AAAAAAADwPwAAAAAAAPA/AAAAAAAA8D8AAAAAAADwPwAAAAAAAPA/AAAAAAAA8D8AAAAAAADwPwAAAAAAAPA/AAAAAAAA8D8AAAAAAADwPwAAAAAAAPA/AAAAAAAA8D8AAAAAAADwPwAAAAAAAPA/AAAAAAAA8D8AAAAAAADwPwAAAAAAAPA/AAAAAAAA8D8AAAAAAADwPwAAAAAAAPA/AAAAAAAA8P8AAAAAAAD4fwAAAAAAAPh/AAAAAAAA+H8AAAAAAAD4fwAAAAAAAPh/AAAAAAAA+H8AAAAAAAD4fwAAAAAAAPh/AAAAAAAA+H8AAAAAAAD4fwAAAAAAAPh/AAAAAAAA8P8AAAAAAADw/39f9DHL+Wb4snrTmMJwN8vK+AtKk7dSwQAAAAAAAABAAAAAAAAAAEAAAAAAAAAAQAAAAAAAAABAAAAAAAAAAEAAAAAAAAAAQAAAAAAAAABAAAAAAAAAAEAAAAAAAAAAQAHnB6R2GQNAAAAAAAAA8P8AAAAAAAD4fwAAAAAAAPh/AAAAAAAA+H8AAAAAAAD4fwAAAAAAAPh/AAAAAAAA+H8AAAAAAAD4fwAAAAAAAPh/AAAAAAAA+H8AAAAAAAD4fwAAAAAAAPB/AAAAAAAA8H8JiXbwUWCn0SZcl+bf1BPDx/gLypM3Q0AAAAAAAADwPwAAAAAAAPA/AAAAAAAA8D8AAAAAAADwPwAAAAAAAPA/AAAAAAAA8D8AAAAAAADwPwAAAAAAAPA/AAAAAAAA8D8AAAAAAADwPwAAAAAAAPA/AAAAAAAA8D8AAAAAAADwPwAAAAAAAPA/AAAAAAAA8D8AAAAAAADwPwAAAAAAAPA/AAAAAAAA8D8AAAAAAADwPwAAAAAAAPA/AAAAAAAA8D8AAAAAAADwPwAAAAAAAPA/AAAAAAAA8D8AAAAAAADwPwAAAAAAAPA/AAAAAAAA8D8AAAAAAADwPwAAAAAAAPA/AAAAAAAA8D8AAAAAAADwPwAAAAAAAPA/AAAAAAAA8D8=",
            "dtype": "f8"
           },
           "yaxis": "y"
          }
         ],
         "name": "17"
        },
        {
         "data": [
          {
           "hovertemplate": "variable=18<br>x=%{x}<br>value=%{y}<extra></extra>",
           "legendgroup": "",
           "line": {
            "color": "#636efa",
            "dash": "solid"
           },
           "marker": {
            "symbol": "circle"
           },
           "mode": "lines",
           "name": "",
           "orientation": "v",
           "showlegend": false,
           "type": "scatter",
           "x": {
            "bdata": "AAAAAAAAAABbv1Kg1q+UP1u/UqDWr6Q/CB988MEHrz9bv1Kg1q+0PzJvZ0jM27k/CB988MEHvz9wZ0jM2xnCP1u/UqDWr8Q/RhdddNFFxz8yb2dIzNvJPx3HcRzHccw/CB988MEHzz96O0Ni3s7QP3BnSMzbGdI/ZZNNNtlk0z9bv1Kg1q/UP1HrVwrU+tU/RhdddNFF1z88Q2LezpDYPzJvZ0jM29k/J5tssskm2z8dx3Ecx3HcPxPzdobEvN0/CB988MEH3z9/pUCtXyngP3o7Q2LezuA/ddFFF1104T9wZ0jM2xniP2r9SoFav+I/ZZNNNtlk4z9gKVDrVwrkP1u/UqDWr+Q/VlVVVVVV5T9R61cK1PrlP0yBWr9SoOY/RhdddNFF5z9BrV8pUOvnPzxDYt7OkOg/N9lkk0026T8yb2dIzNvpPy0Fav1Kgeo/J5tssskm6z8iMW9nSMzrPx3HcRzHcew/GF100UUX7T8T83aGxLztPw6JeTtDYu4/CB988MEH7z8DtX6lQK3vP3+lQK1fKfA/ffDBBx988D96O0Ni3s7wP3eGxLydIfE/ddFFF1108T9yHMdxHMfxP3BnSMzbGfI/bbLJJpts8j9q/UqBWr/yP2hIzNsZEvM/ZZNNNtlk8z9j3s6QmLfzP2ApUOtXCvQ/XnTRRRdd9D9bv1Kg1q/0P1gK1PqVAvU/VlVVVVVV9T9ToNavFKj1P1HrVwrU+vU/TjbZZJNN9j9MgVq/UqD2P0nM2xkS8/Y/RhdddNFF9z9EYt7OkJj3P0GtXylQ6/c/P/jggw8++D88Q2LezpD4PzmO4ziO4/g/N9lkk002+T80JObtDIn5PzJvZ0jM2/k/L7rooosu+j8tBWr9SoH6PypQ61cK1Po/J5tssskm+z8l5u0MiXn7PyIxb2dIzPs/IHzwwQcf/D8dx3Ecx3H8PxsS83aGxPw/GF100UUX/T8VqPUrBWr9PxPzdobEvP0/ED744IMP/j8OiXk7Q2L+PwvU+pUCtf4/CB988MEH/z8Gav1KgVr/PwO1fqVArf8/AAAAAAAAAEA=",
            "dtype": "f8"
           },
           "xaxis": "x",
           "y": {
            "bdata": "AAAAAAAA8D8AAAAAAADwPwAAAAAAAPA/AAAAAAAA8D8AAAAAAADwPwAAAAAAAPA/AAAAAAAA8D8AAAAAAADwPwAAAAAAAPA/AAAAAAAA8D8AAAAAAADwPwAAAAAAAPA/AAAAAAAA8D8AAAAAAADwPwAAAAAAAPA/AAAAAAAA8D8AAAAAAADwPwAAAAAAAPA/AAAAAAAA8D8AAAAAAADwPwAAAAAAAPA/AAAAAAAA8D8AAAAAAADwPwAAAAAAAPA/AAAAAAAA8P8AAAAAAAD4fwAAAAAAAPh/AAAAAAAA+H8AAAAAAAD4fwAAAAAAAPh/AAAAAAAA+H8AAAAAAAD4fwAAAAAAAPh/AAAAAAAA+H8AAAAAAAD4fwAAAAAAAPh/AAAAAAAA+H8AAAAAAAD4fwAAAAAAAPB/AAAAAAAA8H+xVF8SgPegTK3QbnCTKWfBAAAAAAAAAEAAAAAAAAAAQAAAAAAAAABAAAAAAAAAAEAAAAAAAAAAQAAAAAAAAABAAAAAAAAAAEAAAAAAAAAAQOHRyslu4vM/AAAAAAAA8P8AAAAAAAD4fwAAAAAAAPh/AAAAAAAA+H8AAAAAAAD4fwAAAAAAAPh/AAAAAAAA+H8AAAAAAAD4fwAAAAAAAPh/AAAAAAAA+H8AAAAAAAD4fwAAAAAAAPh/AAAAAAAA+H8AAAAAAADw/8Z/XBaD7dFU3/y0dt95bcOq0G6wk6lHQAAAAAAAAPA/AAAAAAAA8D8AAAAAAADwPwAAAAAAAPA/AAAAAAAA8D8AAAAAAADwPwAAAAAAAPA/AAAAAAAA8D8AAAAAAADwPwAAAAAAAPA/AAAAAAAA8D8AAAAAAADwPwAAAAAAAPA/AAAAAAAA8D8AAAAAAADwPwAAAAAAAPA/AAAAAAAA8D8AAAAAAADwPwAAAAAAAPA/AAAAAAAA8D8AAAAAAADwPwAAAAAAAPA/AAAAAAAA8D8AAAAAAADwPwAAAAAAAPA/AAAAAAAA8D8AAAAAAADwPwAAAAAAAPA/AAAAAAAA8D8AAAAAAADwPwAAAAAAAPA/AAAAAAAA8D8=",
            "dtype": "f8"
           },
           "yaxis": "y"
          }
         ],
         "name": "18"
        },
        {
         "data": [
          {
           "hovertemplate": "variable=19<br>x=%{x}<br>value=%{y}<extra></extra>",
           "legendgroup": "",
           "line": {
            "color": "#636efa",
            "dash": "solid"
           },
           "marker": {
            "symbol": "circle"
           },
           "mode": "lines",
           "name": "",
           "orientation": "v",
           "showlegend": false,
           "type": "scatter",
           "x": {
            "bdata": "AAAAAAAAAABbv1Kg1q+UP1u/UqDWr6Q/CB988MEHrz9bv1Kg1q+0PzJvZ0jM27k/CB988MEHvz9wZ0jM2xnCP1u/UqDWr8Q/RhdddNFFxz8yb2dIzNvJPx3HcRzHccw/CB988MEHzz96O0Ni3s7QP3BnSMzbGdI/ZZNNNtlk0z9bv1Kg1q/UP1HrVwrU+tU/RhdddNFF1z88Q2LezpDYPzJvZ0jM29k/J5tssskm2z8dx3Ecx3HcPxPzdobEvN0/CB988MEH3z9/pUCtXyngP3o7Q2LezuA/ddFFF1104T9wZ0jM2xniP2r9SoFav+I/ZZNNNtlk4z9gKVDrVwrkP1u/UqDWr+Q/VlVVVVVV5T9R61cK1PrlP0yBWr9SoOY/RhdddNFF5z9BrV8pUOvnPzxDYt7OkOg/N9lkk0026T8yb2dIzNvpPy0Fav1Kgeo/J5tssskm6z8iMW9nSMzrPx3HcRzHcew/GF100UUX7T8T83aGxLztPw6JeTtDYu4/CB988MEH7z8DtX6lQK3vP3+lQK1fKfA/ffDBBx988D96O0Ni3s7wP3eGxLydIfE/ddFFF1108T9yHMdxHMfxP3BnSMzbGfI/bbLJJpts8j9q/UqBWr/yP2hIzNsZEvM/ZZNNNtlk8z9j3s6QmLfzP2ApUOtXCvQ/XnTRRRdd9D9bv1Kg1q/0P1gK1PqVAvU/VlVVVVVV9T9ToNavFKj1P1HrVwrU+vU/TjbZZJNN9j9MgVq/UqD2P0nM2xkS8/Y/RhdddNFF9z9EYt7OkJj3P0GtXylQ6/c/P/jggw8++D88Q2LezpD4PzmO4ziO4/g/N9lkk002+T80JObtDIn5PzJvZ0jM2/k/L7rooosu+j8tBWr9SoH6PypQ61cK1Po/J5tssskm+z8l5u0MiXn7PyIxb2dIzPs/IHzwwQcf/D8dx3Ecx3H8PxsS83aGxPw/GF100UUX/T8VqPUrBWr9PxPzdobEvP0/ED744IMP/j8OiXk7Q2L+PwvU+pUCtf4/CB988MEH/z8Gav1KgVr/PwO1fqVArf8/AAAAAAAAAEA=",
            "dtype": "f8"
           },
           "xaxis": "x",
           "y": {
            "bdata": "AAAAAAAA8D8AAAAAAADwPwAAAAAAAPA/AAAAAAAA8D8AAAAAAADwPwAAAAAAAPA/AAAAAAAA8D8AAAAAAADwPwAAAAAAAPA/AAAAAAAA8D8AAAAAAADwPwAAAAAAAPA/AAAAAAAA8D8AAAAAAADwPwAAAAAAAPA/AAAAAAAA8D8AAAAAAADwPwAAAAAAAPA/AAAAAAAA8D8AAAAAAADwPwAAAAAAAPA/AAAAAAAA8D8AAAAAAADwPwAAAAAAAPA/AAAAAAAA8P8AAAAAAAD4fwAAAAAAAPh/AAAAAAAA+H8AAAAAAAD4fwAAAAAAAPh/AAAAAAAA+H8AAAAAAAD4fwAAAAAAAPh/AAAAAAAA+H8AAAAAAAD4fwAAAAAAAPh/AAAAAAAA+H8AAAAAAAD4fwAAAAAAAPh/AAAAAAAA+H8AAAAAAADwf/8mtyc9ZR7O1rsi19mpfMEAAAAAAAAAQAAAAAAAAABAAAAAAAAAAEAAAAAAAAAAQAAAAAAAAABAAAAAAAAAAEAAAAAAAAAAQA0GrU87QgNAAAAAAAAA8P8AAAAAAAD4fwAAAAAAAPh/AAAAAAAA+H8AAAAAAAD4fwAAAAAAAPh/AAAAAAAA+H8AAAAAAAD4fwAAAAAAAPh/AAAAAAAA+H8AAAAAAAD4fwAAAAAAAPh/AAAAAAAA+H8AAAAAAAD4fwAAAAAAAPD/R4+Jh49vVNiOjEYEAPnKw9O7IvfZKU1AAAAAAAAA8D8AAAAAAADwPwAAAAAAAPA/AAAAAAAA8D8AAAAAAADwPwAAAAAAAPA/AAAAAAAA8D8AAAAAAADwPwAAAAAAAPA/AAAAAAAA8D8AAAAAAADwPwAAAAAAAPA/AAAAAAAA8D8AAAAAAADwPwAAAAAAAPA/AAAAAAAA8D8AAAAAAADwPwAAAAAAAPA/AAAAAAAA8D8AAAAAAADwPwAAAAAAAPA/AAAAAAAA8D8AAAAAAADwPwAAAAAAAPA/AAAAAAAA8D8AAAAAAADwPwAAAAAAAPA/AAAAAAAA8D8AAAAAAADwPwAAAAAAAPA/AAAAAAAA8D8=",
            "dtype": "f8"
           },
           "yaxis": "y"
          }
         ],
         "name": "19"
        },
        {
         "data": [
          {
           "hovertemplate": "variable=20<br>x=%{x}<br>value=%{y}<extra></extra>",
           "legendgroup": "",
           "line": {
            "color": "#636efa",
            "dash": "solid"
           },
           "marker": {
            "symbol": "circle"
           },
           "mode": "lines",
           "name": "",
           "orientation": "v",
           "showlegend": false,
           "type": "scatter",
           "x": {
            "bdata": "AAAAAAAAAABbv1Kg1q+UP1u/UqDWr6Q/CB988MEHrz9bv1Kg1q+0PzJvZ0jM27k/CB988MEHvz9wZ0jM2xnCP1u/UqDWr8Q/RhdddNFFxz8yb2dIzNvJPx3HcRzHccw/CB988MEHzz96O0Ni3s7QP3BnSMzbGdI/ZZNNNtlk0z9bv1Kg1q/UP1HrVwrU+tU/RhdddNFF1z88Q2LezpDYPzJvZ0jM29k/J5tssskm2z8dx3Ecx3HcPxPzdobEvN0/CB988MEH3z9/pUCtXyngP3o7Q2LezuA/ddFFF1104T9wZ0jM2xniP2r9SoFav+I/ZZNNNtlk4z9gKVDrVwrkP1u/UqDWr+Q/VlVVVVVV5T9R61cK1PrlP0yBWr9SoOY/RhdddNFF5z9BrV8pUOvnPzxDYt7OkOg/N9lkk0026T8yb2dIzNvpPy0Fav1Kgeo/J5tssskm6z8iMW9nSMzrPx3HcRzHcew/GF100UUX7T8T83aGxLztPw6JeTtDYu4/CB988MEH7z8DtX6lQK3vP3+lQK1fKfA/ffDBBx988D96O0Ni3s7wP3eGxLydIfE/ddFFF1108T9yHMdxHMfxP3BnSMzbGfI/bbLJJpts8j9q/UqBWr/yP2hIzNsZEvM/ZZNNNtlk8z9j3s6QmLfzP2ApUOtXCvQ/XnTRRRdd9D9bv1Kg1q/0P1gK1PqVAvU/VlVVVVVV9T9ToNavFKj1P1HrVwrU+vU/TjbZZJNN9j9MgVq/UqD2P0nM2xkS8/Y/RhdddNFF9z9EYt7OkJj3P0GtXylQ6/c/P/jggw8++D88Q2LezpD4PzmO4ziO4/g/N9lkk002+T80JObtDIn5PzJvZ0jM2/k/L7rooosu+j8tBWr9SoH6PypQ61cK1Po/J5tssskm+z8l5u0MiXn7PyIxb2dIzPs/IHzwwQcf/D8dx3Ecx3H8PxsS83aGxPw/GF100UUX/T8VqPUrBWr9PxPzdobEvP0/ED744IMP/j8OiXk7Q2L+PwvU+pUCtf4/CB988MEH/z8Gav1KgVr/PwO1fqVArf8/AAAAAAAAAEA=",
            "dtype": "f8"
           },
           "xaxis": "x",
           "y": {
            "bdata": "AAAAAAAA8D8AAAAAAADwPwAAAAAAAPA/AAAAAAAA8D8AAAAAAADwPwAAAAAAAPA/AAAAAAAA8D8AAAAAAADwPwAAAAAAAPA/AAAAAAAA8D8AAAAAAADwPwAAAAAAAPA/AAAAAAAA8D8AAAAAAADwPwAAAAAAAPA/AAAAAAAA8D8AAAAAAADwPwAAAAAAAPA/AAAAAAAA8D8AAAAAAADwPwAAAAAAAPA/AAAAAAAA8D8AAAAAAADwPwAAAAAAAPA/AAAAAAAA8P8AAAAAAAD4fwAAAAAAAPh/AAAAAAAA+H8AAAAAAAD4fwAAAAAAAPh/AAAAAAAA+H8AAAAAAAD4fwAAAAAAAPh/AAAAAAAA+H8AAAAAAAD4fwAAAAAAAPh/AAAAAAAA+H8AAAAAAAD4fwAAAAAAAPh/AAAAAAAA+H8AAAAAAAD4fwAAAAAAAPD/sm3SEKPYsE855IOiS7yRwQAAAAAAAABAAAAAAAAAAEAAAAAAAAAAQAAAAAAAAABAAAAAAAAAAEAAAAAAAAAAQO2DFQX5GfM/AAAAAAAA8P8AAAAAAAD4fwAAAAAAAPh/AAAAAAAA+H8AAAAAAAD4fwAAAAAAAPh/AAAAAAAA+H8AAAAAAAD4fwAAAAAAAPh/AAAAAAAA+H8AAAAAAAD4fwAAAAAAAPh/AAAAAAAA+H8AAAAAAAD4fwAAAAAAAPh/AAAAAAAA8H/Y83H681A1XPJndhOBay7EOOSDqkv8UUAAAAAAAADwPwAAAAAAAPA/AAAAAAAA8D8AAAAAAADwPwAAAAAAAPA/AAAAAAAA8D8AAAAAAADwPwAAAAAAAPA/AAAAAAAA8D8AAAAAAADwPwAAAAAAAPA/AAAAAAAA8D8AAAAAAADwPwAAAAAAAPA/AAAAAAAA8D8AAAAAAADwPwAAAAAAAPA/AAAAAAAA8D8AAAAAAADwPwAAAAAAAPA/AAAAAAAA8D8AAAAAAADwPwAAAAAAAPA/AAAAAAAA8D8AAAAAAADwPwAAAAAAAPA/AAAAAAAA8D8AAAAAAADwPwAAAAAAAPA/AAAAAAAA8D8=",
            "dtype": "f8"
           },
           "yaxis": "y"
          }
         ],
         "name": "20"
        },
        {
         "data": [
          {
           "hovertemplate": "variable=21<br>x=%{x}<br>value=%{y}<extra></extra>",
           "legendgroup": "",
           "line": {
            "color": "#636efa",
            "dash": "solid"
           },
           "marker": {
            "symbol": "circle"
           },
           "mode": "lines",
           "name": "",
           "orientation": "v",
           "showlegend": false,
           "type": "scatter",
           "x": {
            "bdata": "AAAAAAAAAABbv1Kg1q+UP1u/UqDWr6Q/CB988MEHrz9bv1Kg1q+0PzJvZ0jM27k/CB988MEHvz9wZ0jM2xnCP1u/UqDWr8Q/RhdddNFFxz8yb2dIzNvJPx3HcRzHccw/CB988MEHzz96O0Ni3s7QP3BnSMzbGdI/ZZNNNtlk0z9bv1Kg1q/UP1HrVwrU+tU/RhdddNFF1z88Q2LezpDYPzJvZ0jM29k/J5tssskm2z8dx3Ecx3HcPxPzdobEvN0/CB988MEH3z9/pUCtXyngP3o7Q2LezuA/ddFFF1104T9wZ0jM2xniP2r9SoFav+I/ZZNNNtlk4z9gKVDrVwrkP1u/UqDWr+Q/VlVVVVVV5T9R61cK1PrlP0yBWr9SoOY/RhdddNFF5z9BrV8pUOvnPzxDYt7OkOg/N9lkk0026T8yb2dIzNvpPy0Fav1Kgeo/J5tssskm6z8iMW9nSMzrPx3HcRzHcew/GF100UUX7T8T83aGxLztPw6JeTtDYu4/CB988MEH7z8DtX6lQK3vP3+lQK1fKfA/ffDBBx988D96O0Ni3s7wP3eGxLydIfE/ddFFF1108T9yHMdxHMfxP3BnSMzbGfI/bbLJJpts8j9q/UqBWr/yP2hIzNsZEvM/ZZNNNtlk8z9j3s6QmLfzP2ApUOtXCvQ/XnTRRRdd9D9bv1Kg1q/0P1gK1PqVAvU/VlVVVVVV9T9ToNavFKj1P1HrVwrU+vU/TjbZZJNN9j9MgVq/UqD2P0nM2xkS8/Y/RhdddNFF9z9EYt7OkJj3P0GtXylQ6/c/P/jggw8++D88Q2LezpD4PzmO4ziO4/g/N9lkk002+T80JObtDIn5PzJvZ0jM2/k/L7rooosu+j8tBWr9SoH6PypQ61cK1Po/J5tssskm+z8l5u0MiXn7PyIxb2dIzPs/IHzwwQcf/D8dx3Ecx3H8PxsS83aGxPw/GF100UUX/T8VqPUrBWr9PxPzdobEvP0/ED744IMP/j8OiXk7Q2L+PwvU+pUCtf4/CB988MEH/z8Gav1KgVr/PwO1fqVArf8/AAAAAAAAAEA=",
            "dtype": "f8"
           },
           "xaxis": "x",
           "y": {
            "bdata": "AAAAAAAA8D8AAAAAAADwPwAAAAAAAPA/AAAAAAAA8D8AAAAAAADwPwAAAAAAAPA/AAAAAAAA8D8AAAAAAADwPwAAAAAAAPA/AAAAAAAA8D8AAAAAAADwPwAAAAAAAPA/AAAAAAAA8D8AAAAAAADwPwAAAAAAAPA/AAAAAAAA8D8AAAAAAADwPwAAAAAAAPA/AAAAAAAA8D8AAAAAAADwPwAAAAAAAPA/AAAAAAAA8D8AAAAAAADwPwAAAAAAAPA/AAAAAAAA8P8AAAAAAAD4fwAAAAAAAPh/AAAAAAAA+H8AAAAAAAD4fwAAAAAAAPh/AAAAAAAA+H8AAAAAAAD4fwAAAAAAAPh/AAAAAAAA+H8AAAAAAAD4fwAAAAAAAPh/AAAAAAAA+H8AAAAAAAD4fwAAAAAAAPh/AAAAAAAA+H8AAAAAAAD4fwAAAAAAAPh/AAAAAAAA8P8SomiXyBtX0To3A5+d8qXBAAAAAAAAAEAAAAAAAAAAQAAAAAAAAABAAAAAAAAAAEAAAAAAAAAAQLwOMXEoFANAAAAAAAAA8P8AAAAAAAD4fwAAAAAAAPh/AAAAAAAA+H8AAAAAAAD4fwAAAAAAAPh/AAAAAAAA+H8AAAAAAAD4fwAAAAAAAPh/AAAAAAAA+H8AAAAAAAD4fwAAAAAAAPh/AAAAAAAA+H8AAAAAAAD4fwAAAAAAAPh/AAAAAAAA+H8AAAAAAADwfxMi57qJE3ngQZj6oXkolcQ5NwOjnTJWQAAAAAAAAPA/AAAAAAAA8D8AAAAAAADwPwAAAAAAAPA/AAAAAAAA8D8AAAAAAADwPwAAAAAAAPA/AAAAAAAA8D8AAAAAAADwPwAAAAAAAPA/AAAAAAAA8D8AAAAAAADwPwAAAAAAAPA/AAAAAAAA8D8AAAAAAADwPwAAAAAAAPA/AAAAAAAA8D8AAAAAAADwPwAAAAAAAPA/AAAAAAAA8D8AAAAAAADwPwAAAAAAAPA/AAAAAAAA8D8AAAAAAADwPwAAAAAAAPA/AAAAAAAA8D8AAAAAAADwPwAAAAAAAPA/AAAAAAAA8D8=",
            "dtype": "f8"
           },
           "yaxis": "y"
          }
         ],
         "name": "21"
        },
        {
         "data": [
          {
           "hovertemplate": "variable=22<br>x=%{x}<br>value=%{y}<extra></extra>",
           "legendgroup": "",
           "line": {
            "color": "#636efa",
            "dash": "solid"
           },
           "marker": {
            "symbol": "circle"
           },
           "mode": "lines",
           "name": "",
           "orientation": "v",
           "showlegend": false,
           "type": "scatter",
           "x": {
            "bdata": "AAAAAAAAAABbv1Kg1q+UP1u/UqDWr6Q/CB988MEHrz9bv1Kg1q+0PzJvZ0jM27k/CB988MEHvz9wZ0jM2xnCP1u/UqDWr8Q/RhdddNFFxz8yb2dIzNvJPx3HcRzHccw/CB988MEHzz96O0Ni3s7QP3BnSMzbGdI/ZZNNNtlk0z9bv1Kg1q/UP1HrVwrU+tU/RhdddNFF1z88Q2LezpDYPzJvZ0jM29k/J5tssskm2z8dx3Ecx3HcPxPzdobEvN0/CB988MEH3z9/pUCtXyngP3o7Q2LezuA/ddFFF1104T9wZ0jM2xniP2r9SoFav+I/ZZNNNtlk4z9gKVDrVwrkP1u/UqDWr+Q/VlVVVVVV5T9R61cK1PrlP0yBWr9SoOY/RhdddNFF5z9BrV8pUOvnPzxDYt7OkOg/N9lkk0026T8yb2dIzNvpPy0Fav1Kgeo/J5tssskm6z8iMW9nSMzrPx3HcRzHcew/GF100UUX7T8T83aGxLztPw6JeTtDYu4/CB988MEH7z8DtX6lQK3vP3+lQK1fKfA/ffDBBx988D96O0Ni3s7wP3eGxLydIfE/ddFFF1108T9yHMdxHMfxP3BnSMzbGfI/bbLJJpts8j9q/UqBWr/yP2hIzNsZEvM/ZZNNNtlk8z9j3s6QmLfzP2ApUOtXCvQ/XnTRRRdd9D9bv1Kg1q/0P1gK1PqVAvU/VlVVVVVV9T9ToNavFKj1P1HrVwrU+vU/TjbZZJNN9j9MgVq/UqD2P0nM2xkS8/Y/RhdddNFF9z9EYt7OkJj3P0GtXylQ6/c/P/jggw8++D88Q2LezpD4PzmO4ziO4/g/N9lkk002+T80JObtDIn5PzJvZ0jM2/k/L7rooosu+j8tBWr9SoH6PypQ61cK1Po/J5tssskm+z8l5u0MiXn7PyIxb2dIzPs/IHzwwQcf/D8dx3Ecx3H8PxsS83aGxPw/GF100UUX/T8VqPUrBWr9PxPzdobEvP0/ED744IMP/j8OiXk7Q2L+PwvU+pUCtf4/CB988MEH/z8Gav1KgVr/PwO1fqVArf8/AAAAAAAAAEA=",
            "dtype": "f8"
           },
           "xaxis": "x",
           "y": {
            "bdata": "AAAAAAAA8D8AAAAAAADwPwAAAAAAAPA/AAAAAAAA8D8AAAAAAADwPwAAAAAAAPA/AAAAAAAA8D8AAAAAAADwPwAAAAAAAPA/AAAAAAAA8D8AAAAAAADwPwAAAAAAAPA/AAAAAAAA8D8AAAAAAADwPwAAAAAAAPA/AAAAAAAA8D8AAAAAAADwPwAAAAAAAPA/AAAAAAAA8D8AAAAAAADwPwAAAAAAAPA/AAAAAAAA8D8AAAAAAADwPwAAAAAAAPA/AAAAAAAA8P8AAAAAAAD4fwAAAAAAAPh/AAAAAAAA+H8AAAAAAAD4fwAAAAAAAPh/AAAAAAAA+H8AAAAAAAD4fwAAAAAAAPh/AAAAAAAA+H8AAAAAAAD4fwAAAAAAAPh/AAAAAAAA+H8AAAAAAAD4fwAAAAAAAPh/AAAAAAAA+H8AAAAAAAD4fwAAAAAAAPh/AAAAAAAA+H8AAAAAAADwf34+56wTnRNTJWG6dwkpu8EAAAAAAAAAQAAAAAAAAABAAAAAAAAAAEAAAAAAAAAAQOvdH4M5/PM/AAAAAAAA8P8AAAAAAAD4fwAAAAAAAPh/AAAAAAAA+H8AAAAAAAD4fwAAAAAAAPh/AAAAAAAA+H8AAAAAAAD4fwAAAAAAAPh/AAAAAAAA+H8AAAAAAAD4fwAAAAAAAPh/AAAAAAAA+H8AAAAAAAD4fwAAAAAAAPh/AAAAAAAA+H8AAAAAAAD4fwAAAAAAAPD/jVy9IJ6EJGWIjwWHpikCxSRhunkJaVtAAAAAAAAA8D8AAAAAAADwPwAAAAAAAPA/AAAAAAAA8D8AAAAAAADwPwAAAAAAAPA/AAAAAAAA8D8AAAAAAADwPwAAAAAAAPA/AAAAAAAA8D8AAAAAAADwPwAAAAAAAPA/AAAAAAAA8D8AAAAAAADwPwAAAAAAAPA/AAAAAAAA8D8AAAAAAADwPwAAAAAAAPA/AAAAAAAA8D8AAAAAAADwPwAAAAAAAPA/AAAAAAAA8D8AAAAAAADwPwAAAAAAAPA/AAAAAAAA8D8AAAAAAADwPwAAAAAAAPA/AAAAAAAA8D8=",
            "dtype": "f8"
           },
           "yaxis": "y"
          }
         ],
         "name": "22"
        },
        {
         "data": [
          {
           "hovertemplate": "variable=23<br>x=%{x}<br>value=%{y}<extra></extra>",
           "legendgroup": "",
           "line": {
            "color": "#636efa",
            "dash": "solid"
           },
           "marker": {
            "symbol": "circle"
           },
           "mode": "lines",
           "name": "",
           "orientation": "v",
           "showlegend": false,
           "type": "scatter",
           "x": {
            "bdata": "AAAAAAAAAABbv1Kg1q+UP1u/UqDWr6Q/CB988MEHrz9bv1Kg1q+0PzJvZ0jM27k/CB988MEHvz9wZ0jM2xnCP1u/UqDWr8Q/RhdddNFFxz8yb2dIzNvJPx3HcRzHccw/CB988MEHzz96O0Ni3s7QP3BnSMzbGdI/ZZNNNtlk0z9bv1Kg1q/UP1HrVwrU+tU/RhdddNFF1z88Q2LezpDYPzJvZ0jM29k/J5tssskm2z8dx3Ecx3HcPxPzdobEvN0/CB988MEH3z9/pUCtXyngP3o7Q2LezuA/ddFFF1104T9wZ0jM2xniP2r9SoFav+I/ZZNNNtlk4z9gKVDrVwrkP1u/UqDWr+Q/VlVVVVVV5T9R61cK1PrlP0yBWr9SoOY/RhdddNFF5z9BrV8pUOvnPzxDYt7OkOg/N9lkk0026T8yb2dIzNvpPy0Fav1Kgeo/J5tssskm6z8iMW9nSMzrPx3HcRzHcew/GF100UUX7T8T83aGxLztPw6JeTtDYu4/CB988MEH7z8DtX6lQK3vP3+lQK1fKfA/ffDBBx988D96O0Ni3s7wP3eGxLydIfE/ddFFF1108T9yHMdxHMfxP3BnSMzbGfI/bbLJJpts8j9q/UqBWr/yP2hIzNsZEvM/ZZNNNtlk8z9j3s6QmLfzP2ApUOtXCvQ/XnTRRRdd9D9bv1Kg1q/0P1gK1PqVAvU/VlVVVVVV9T9ToNavFKj1P1HrVwrU+vU/TjbZZJNN9j9MgVq/UqD2P0nM2xkS8/Y/RhdddNFF9z9EYt7OkJj3P0GtXylQ6/c/P/jggw8++D88Q2LezpD4PzmO4ziO4/g/N9lkk002+T80JObtDIn5PzJvZ0jM2/k/L7rooosu+j8tBWr9SoH6PypQ61cK1Po/J5tssskm+z8l5u0MiXn7PyIxb2dIzPs/IHzwwQcf/D8dx3Ecx3H8PxsS83aGxPw/GF100UUX/T8VqPUrBWr9PxPzdobEvP0/ED744IMP/j8OiXk7Q2L+PwvU+pUCtf4/CB988MEH/z8Gav1KgVr/PwO1fqVArf8/AAAAAAAAAEA=",
            "dtype": "f8"
           },
           "xaxis": "x",
           "y": {
            "bdata": "AAAAAAAA8D8AAAAAAADwPwAAAAAAAPA/AAAAAAAA8D8AAAAAAADwPwAAAAAAAPA/AAAAAAAA8D8AAAAAAADwPwAAAAAAAPA/AAAAAAAA8D8AAAAAAADwPwAAAAAAAPA/AAAAAAAA8D8AAAAAAADwPwAAAAAAAPA/AAAAAAAA8D8AAAAAAADwPwAAAAAAAPA/AAAAAAAA8D8AAAAAAADwPwAAAAAAAPA/AAAAAAAA8D8AAAAAAADwPwAAAAAAAPA/AAAAAAAA8P8AAAAAAAD4fwAAAAAAAPh/AAAAAAAA+H8AAAAAAAD4fwAAAAAAAPh/AAAAAAAA+H8AAAAAAAD4fwAAAAAAAPh/AAAAAAAA+H8AAAAAAAD4fwAAAAAAAPh/AAAAAAAA+H8AAAAAAAD4fwAAAAAAAPh/AAAAAAAA+H8AAAAAAAD4fwAAAAAAAPh/AAAAAAAA+H8AAAAAAAD4fwAAAAAAAPB/DsaDLdaZ5NS1hZ4PMc7QwQAAAAAAAABAAAAAAAAAAEAAAAAAAAAAQJftSTZHRwNAAAAAAAAA8P8AAAAAAAD4fwAAAAAAAPh/AAAAAAAA+H8AAAAAAAD4fwAAAAAAAPh/AAAAAAAA+H8AAAAAAAD4fwAAAAAAAPh/AAAAAAAA+H8AAAAAAAD4fwAAAAAAAPh/AAAAAAAA+H8AAAAAAAD4fwAAAAAAAPh/AAAAAAAA+H8AAAAAAAD4fwAAAAAAAPh/AAAAAAAA8P/RmZPBudI86stueFuqQHPFtYUeEDHuYEAAAAAAAADwPwAAAAAAAPA/AAAAAAAA8D8AAAAAAADwPwAAAAAAAPA/AAAAAAAA8D8AAAAAAADwPwAAAAAAAPA/AAAAAAAA8D8AAAAAAADwPwAAAAAAAPA/AAAAAAAA8D8AAAAAAADwPwAAAAAAAPA/AAAAAAAA8D8AAAAAAADwPwAAAAAAAPA/AAAAAAAA8D8AAAAAAADwPwAAAAAAAPA/AAAAAAAA8D8AAAAAAADwPwAAAAAAAPA/AAAAAAAA8D8AAAAAAADwPwAAAAAAAPA/AAAAAAAA8D8=",
            "dtype": "f8"
           },
           "yaxis": "y"
          }
         ],
         "name": "23"
        },
        {
         "data": [
          {
           "hovertemplate": "variable=24<br>x=%{x}<br>value=%{y}<extra></extra>",
           "legendgroup": "",
           "line": {
            "color": "#636efa",
            "dash": "solid"
           },
           "marker": {
            "symbol": "circle"
           },
           "mode": "lines",
           "name": "",
           "orientation": "v",
           "showlegend": false,
           "type": "scatter",
           "x": {
            "bdata": "AAAAAAAAAABbv1Kg1q+UP1u/UqDWr6Q/CB988MEHrz9bv1Kg1q+0PzJvZ0jM27k/CB988MEHvz9wZ0jM2xnCP1u/UqDWr8Q/RhdddNFFxz8yb2dIzNvJPx3HcRzHccw/CB988MEHzz96O0Ni3s7QP3BnSMzbGdI/ZZNNNtlk0z9bv1Kg1q/UP1HrVwrU+tU/RhdddNFF1z88Q2LezpDYPzJvZ0jM29k/J5tssskm2z8dx3Ecx3HcPxPzdobEvN0/CB988MEH3z9/pUCtXyngP3o7Q2LezuA/ddFFF1104T9wZ0jM2xniP2r9SoFav+I/ZZNNNtlk4z9gKVDrVwrkP1u/UqDWr+Q/VlVVVVVV5T9R61cK1PrlP0yBWr9SoOY/RhdddNFF5z9BrV8pUOvnPzxDYt7OkOg/N9lkk0026T8yb2dIzNvpPy0Fav1Kgeo/J5tssskm6z8iMW9nSMzrPx3HcRzHcew/GF100UUX7T8T83aGxLztPw6JeTtDYu4/CB988MEH7z8DtX6lQK3vP3+lQK1fKfA/ffDBBx988D96O0Ni3s7wP3eGxLydIfE/ddFFF1108T9yHMdxHMfxP3BnSMzbGfI/bbLJJpts8j9q/UqBWr/yP2hIzNsZEvM/ZZNNNtlk8z9j3s6QmLfzP2ApUOtXCvQ/XnTRRRdd9D9bv1Kg1q/0P1gK1PqVAvU/VlVVVVVV9T9ToNavFKj1P1HrVwrU+vU/TjbZZJNN9j9MgVq/UqD2P0nM2xkS8/Y/RhdddNFF9z9EYt7OkJj3P0GtXylQ6/c/P/jggw8++D88Q2LezpD4PzmO4ziO4/g/N9lkk002+T80JObtDIn5PzJvZ0jM2/k/L7rooosu+j8tBWr9SoH6PypQ61cK1Po/J5tssskm+z8l5u0MiXn7PyIxb2dIzPs/IHzwwQcf/D8dx3Ecx3H8PxsS83aGxPw/GF100UUX/T8VqPUrBWr9PxPzdobEvP0/ED744IMP/j8OiXk7Q2L+PwvU+pUCtf4/CB988MEH/z8Gav1KgVr/PwO1fqVArf8/AAAAAAAAAEA=",
            "dtype": "f8"
           },
           "xaxis": "x",
           "y": {
            "bdata": "AAAAAAAA8D8AAAAAAADwPwAAAAAAAPA/AAAAAAAA8D8AAAAAAADwPwAAAAAAAPA/AAAAAAAA8D8AAAAAAADwPwAAAAAAAPA/AAAAAAAA8D8AAAAAAADwPwAAAAAAAPA/AAAAAAAA8D8AAAAAAADwPwAAAAAAAPA/AAAAAAAA8D8AAAAAAADwPwAAAAAAAPA/AAAAAAAA8D8AAAAAAADwPwAAAAAAAPA/AAAAAAAA8D8AAAAAAADwPwAAAAAAAPA/AAAAAAAA8P8AAAAAAAD4fwAAAAAAAPh/AAAAAAAA+H8AAAAAAAD4fwAAAAAAAPh/AAAAAAAA+H8AAAAAAAD4fwAAAAAAAPh/AAAAAAAA+H8AAAAAAAD4fwAAAAAAAPh/AAAAAAAA+H8AAAAAAAD4fwAAAAAAAPh/AAAAAAAA+H8AAAAAAAD4fwAAAAAAAPh/AAAAAAAA+H8AAAAAAAD4fwAAAAAAAPh/AAAAAAAA8P/3za6q6MbKVhBff1D2y+TBAAAAAAAAAEAAAAAAAAAAQGVrHCLhAPM/AAAAAAAA8P8AAAAAAAD4fwAAAAAAAPh/AAAAAAAA+H8AAAAAAAD4fwAAAAAAAPh/AAAAAAAA+H8AAAAAAAD4fwAAAAAAAPh/AAAAAAAA+H8AAAAAAAD4fwAAAAAAAPh/AAAAAAAA+H8AAAAAAAD4fwAAAAAAAPh/AAAAAAAA+H8AAAAAAAD4fwAAAAAAAPh/AAAAAAAA+H8AAAAAAADwfySrZIW2dcVvbxuTOeg16cUQX79Q9utkQAAAAAAAAPA/AAAAAAAA8D8AAAAAAADwPwAAAAAAAPA/AAAAAAAA8D8AAAAAAADwPwAAAAAAAPA/AAAAAAAA8D8AAAAAAADwPwAAAAAAAPA/AAAAAAAA8D8AAAAAAADwPwAAAAAAAPA/AAAAAAAA8D8AAAAAAADwPwAAAAAAAPA/AAAAAAAA8D8AAAAAAADwPwAAAAAAAPA/AAAAAAAA8D8AAAAAAADwPwAAAAAAAPA/AAAAAAAA8D8AAAAAAADwPwAAAAAAAPA/AAAAAAAA8D8=",
            "dtype": "f8"
           },
           "yaxis": "y"
          }
         ],
         "name": "24"
        },
        {
         "data": [
          {
           "hovertemplate": "variable=25<br>x=%{x}<br>value=%{y}<extra></extra>",
           "legendgroup": "",
           "line": {
            "color": "#636efa",
            "dash": "solid"
           },
           "marker": {
            "symbol": "circle"
           },
           "mode": "lines",
           "name": "",
           "orientation": "v",
           "showlegend": false,
           "type": "scatter",
           "x": {
            "bdata": "AAAAAAAAAABbv1Kg1q+UP1u/UqDWr6Q/CB988MEHrz9bv1Kg1q+0PzJvZ0jM27k/CB988MEHvz9wZ0jM2xnCP1u/UqDWr8Q/RhdddNFFxz8yb2dIzNvJPx3HcRzHccw/CB988MEHzz96O0Ni3s7QP3BnSMzbGdI/ZZNNNtlk0z9bv1Kg1q/UP1HrVwrU+tU/RhdddNFF1z88Q2LezpDYPzJvZ0jM29k/J5tssskm2z8dx3Ecx3HcPxPzdobEvN0/CB988MEH3z9/pUCtXyngP3o7Q2LezuA/ddFFF1104T9wZ0jM2xniP2r9SoFav+I/ZZNNNtlk4z9gKVDrVwrkP1u/UqDWr+Q/VlVVVVVV5T9R61cK1PrlP0yBWr9SoOY/RhdddNFF5z9BrV8pUOvnPzxDYt7OkOg/N9lkk0026T8yb2dIzNvpPy0Fav1Kgeo/J5tssskm6z8iMW9nSMzrPx3HcRzHcew/GF100UUX7T8T83aGxLztPw6JeTtDYu4/CB988MEH7z8DtX6lQK3vP3+lQK1fKfA/ffDBBx988D96O0Ni3s7wP3eGxLydIfE/ddFFF1108T9yHMdxHMfxP3BnSMzbGfI/bbLJJpts8j9q/UqBWr/yP2hIzNsZEvM/ZZNNNtlk8z9j3s6QmLfzP2ApUOtXCvQ/XnTRRRdd9D9bv1Kg1q/0P1gK1PqVAvU/VlVVVVVV9T9ToNavFKj1P1HrVwrU+vU/TjbZZJNN9j9MgVq/UqD2P0nM2xkS8/Y/RhdddNFF9z9EYt7OkJj3P0GtXylQ6/c/P/jggw8++D88Q2LezpD4PzmO4ziO4/g/N9lkk002+T80JObtDIn5PzJvZ0jM2/k/L7rooosu+j8tBWr9SoH6PypQ61cK1Po/J5tssskm+z8l5u0MiXn7PyIxb2dIzPs/IHzwwQcf/D8dx3Ecx3H8PxsS83aGxPw/GF100UUX/T8VqPUrBWr9PxPzdobEvP0/ED744IMP/j8OiXk7Q2L+PwvU+pUCtf4/CB988MEH/z8Gav1KgVr/PwO1fqVArf8/AAAAAAAAAEA=",
            "dtype": "f8"
           },
           "xaxis": "x",
           "y": {
            "bdata": "AAAAAAAA8D8AAAAAAADwPwAAAAAAAPA/AAAAAAAA8D8AAAAAAADwPwAAAAAAAPA/AAAAAAAA8D8AAAAAAADwPwAAAAAAAPA/AAAAAAAA8D8AAAAAAADwPwAAAAAAAPA/AAAAAAAA8D8AAAAAAADwPwAAAAAAAPA/AAAAAAAA8D8AAAAAAADwPwAAAAAAAPA/AAAAAAAA8D8AAAAAAADwPwAAAAAAAPA/AAAAAAAA8D8AAAAAAADwPwAAAAAAAPA/AAAAAAAA8P8AAAAAAAD4fwAAAAAAAPh/AAAAAAAA+H8AAAAAAAD4fwAAAAAAAPh/AAAAAAAA+H8AAAAAAAD4fwAAAAAAAPh/AAAAAAAA+H8AAAAAAAD4fwAAAAAAAPh/AAAAAAAA+H8AAAAAAAD4fwAAAAAAAPh/AAAAAAAA+H8AAAAAAAD4fwAAAAAAAPh/AAAAAAAA+H8AAAAAAAD4fwAAAAAAAPh/AAAAAAAA+H8AAAAAAADw/+aeXroMicXYpAUAN2e8+cEAAAAAAAAAQH67SBmJDQNAAAAAAAAA8P8AAAAAAAD4fwAAAAAAAPh/AAAAAAAA+H8AAAAAAAD4fwAAAAAAAPh/AAAAAAAA+H8AAAAAAAD4fwAAAAAAAPh/AAAAAAAA+H8AAAAAAAD4fwAAAAAAAPh/AAAAAAAA+H8AAAAAAAD4fwAAAAAAAPh/AAAAAAAA+H8AAAAAAAD4fwAAAAAAAPh/AAAAAAAA+H8AAAAAAAD4fwAAAAAAAPB/JQvZpQrsxPUjyAUovmVkxqQFIDdn3GlAAAAAAAAA8D8AAAAAAADwPwAAAAAAAPA/AAAAAAAA8D8AAAAAAADwPwAAAAAAAPA/AAAAAAAA8D8AAAAAAADwPwAAAAAAAPA/AAAAAAAA8D8AAAAAAADwPwAAAAAAAPA/AAAAAAAA8D8AAAAAAADwPwAAAAAAAPA/AAAAAAAA8D8AAAAAAADwPwAAAAAAAPA/AAAAAAAA8D8AAAAAAADwPwAAAAAAAPA/AAAAAAAA8D8AAAAAAADwPwAAAAAAAPA/AAAAAAAA8D8=",
            "dtype": "f8"
           },
           "yaxis": "y"
          }
         ],
         "name": "25"
        }
       ],
       "layout": {
        "legend": {
         "tracegroupgap": 0
        },
        "margin": {
         "t": 60
        },
        "sliders": [
         {
          "active": 0,
          "currentvalue": {
           "prefix": "variable="
          },
          "len": 0.9,
          "pad": {
           "b": 10,
           "t": 60
          },
          "steps": [
           {
            "args": [
             [
              "0"
             ],
             {
              "frame": {
               "duration": 0,
               "redraw": false
              },
              "fromcurrent": true,
              "mode": "immediate",
              "transition": {
               "duration": 0,
               "easing": "linear"
              }
             }
            ],
            "label": "0",
            "method": "animate"
           },
           {
            "args": [
             [
              "1"
             ],
             {
              "frame": {
               "duration": 0,
               "redraw": false
              },
              "fromcurrent": true,
              "mode": "immediate",
              "transition": {
               "duration": 0,
               "easing": "linear"
              }
             }
            ],
            "label": "1",
            "method": "animate"
           },
           {
            "args": [
             [
              "2"
             ],
             {
              "frame": {
               "duration": 0,
               "redraw": false
              },
              "fromcurrent": true,
              "mode": "immediate",
              "transition": {
               "duration": 0,
               "easing": "linear"
              }
             }
            ],
            "label": "2",
            "method": "animate"
           },
           {
            "args": [
             [
              "3"
             ],
             {
              "frame": {
               "duration": 0,
               "redraw": false
              },
              "fromcurrent": true,
              "mode": "immediate",
              "transition": {
               "duration": 0,
               "easing": "linear"
              }
             }
            ],
            "label": "3",
            "method": "animate"
           },
           {
            "args": [
             [
              "4"
             ],
             {
              "frame": {
               "duration": 0,
               "redraw": false
              },
              "fromcurrent": true,
              "mode": "immediate",
              "transition": {
               "duration": 0,
               "easing": "linear"
              }
             }
            ],
            "label": "4",
            "method": "animate"
           },
           {
            "args": [
             [
              "5"
             ],
             {
              "frame": {
               "duration": 0,
               "redraw": false
              },
              "fromcurrent": true,
              "mode": "immediate",
              "transition": {
               "duration": 0,
               "easing": "linear"
              }
             }
            ],
            "label": "5",
            "method": "animate"
           },
           {
            "args": [
             [
              "6"
             ],
             {
              "frame": {
               "duration": 0,
               "redraw": false
              },
              "fromcurrent": true,
              "mode": "immediate",
              "transition": {
               "duration": 0,
               "easing": "linear"
              }
             }
            ],
            "label": "6",
            "method": "animate"
           },
           {
            "args": [
             [
              "7"
             ],
             {
              "frame": {
               "duration": 0,
               "redraw": false
              },
              "fromcurrent": true,
              "mode": "immediate",
              "transition": {
               "duration": 0,
               "easing": "linear"
              }
             }
            ],
            "label": "7",
            "method": "animate"
           },
           {
            "args": [
             [
              "8"
             ],
             {
              "frame": {
               "duration": 0,
               "redraw": false
              },
              "fromcurrent": true,
              "mode": "immediate",
              "transition": {
               "duration": 0,
               "easing": "linear"
              }
             }
            ],
            "label": "8",
            "method": "animate"
           },
           {
            "args": [
             [
              "9"
             ],
             {
              "frame": {
               "duration": 0,
               "redraw": false
              },
              "fromcurrent": true,
              "mode": "immediate",
              "transition": {
               "duration": 0,
               "easing": "linear"
              }
             }
            ],
            "label": "9",
            "method": "animate"
           },
           {
            "args": [
             [
              "10"
             ],
             {
              "frame": {
               "duration": 0,
               "redraw": false
              },
              "fromcurrent": true,
              "mode": "immediate",
              "transition": {
               "duration": 0,
               "easing": "linear"
              }
             }
            ],
            "label": "10",
            "method": "animate"
           },
           {
            "args": [
             [
              "11"
             ],
             {
              "frame": {
               "duration": 0,
               "redraw": false
              },
              "fromcurrent": true,
              "mode": "immediate",
              "transition": {
               "duration": 0,
               "easing": "linear"
              }
             }
            ],
            "label": "11",
            "method": "animate"
           },
           {
            "args": [
             [
              "12"
             ],
             {
              "frame": {
               "duration": 0,
               "redraw": false
              },
              "fromcurrent": true,
              "mode": "immediate",
              "transition": {
               "duration": 0,
               "easing": "linear"
              }
             }
            ],
            "label": "12",
            "method": "animate"
           },
           {
            "args": [
             [
              "13"
             ],
             {
              "frame": {
               "duration": 0,
               "redraw": false
              },
              "fromcurrent": true,
              "mode": "immediate",
              "transition": {
               "duration": 0,
               "easing": "linear"
              }
             }
            ],
            "label": "13",
            "method": "animate"
           },
           {
            "args": [
             [
              "14"
             ],
             {
              "frame": {
               "duration": 0,
               "redraw": false
              },
              "fromcurrent": true,
              "mode": "immediate",
              "transition": {
               "duration": 0,
               "easing": "linear"
              }
             }
            ],
            "label": "14",
            "method": "animate"
           },
           {
            "args": [
             [
              "15"
             ],
             {
              "frame": {
               "duration": 0,
               "redraw": false
              },
              "fromcurrent": true,
              "mode": "immediate",
              "transition": {
               "duration": 0,
               "easing": "linear"
              }
             }
            ],
            "label": "15",
            "method": "animate"
           },
           {
            "args": [
             [
              "16"
             ],
             {
              "frame": {
               "duration": 0,
               "redraw": false
              },
              "fromcurrent": true,
              "mode": "immediate",
              "transition": {
               "duration": 0,
               "easing": "linear"
              }
             }
            ],
            "label": "16",
            "method": "animate"
           },
           {
            "args": [
             [
              "17"
             ],
             {
              "frame": {
               "duration": 0,
               "redraw": false
              },
              "fromcurrent": true,
              "mode": "immediate",
              "transition": {
               "duration": 0,
               "easing": "linear"
              }
             }
            ],
            "label": "17",
            "method": "animate"
           },
           {
            "args": [
             [
              "18"
             ],
             {
              "frame": {
               "duration": 0,
               "redraw": false
              },
              "fromcurrent": true,
              "mode": "immediate",
              "transition": {
               "duration": 0,
               "easing": "linear"
              }
             }
            ],
            "label": "18",
            "method": "animate"
           },
           {
            "args": [
             [
              "19"
             ],
             {
              "frame": {
               "duration": 0,
               "redraw": false
              },
              "fromcurrent": true,
              "mode": "immediate",
              "transition": {
               "duration": 0,
               "easing": "linear"
              }
             }
            ],
            "label": "19",
            "method": "animate"
           },
           {
            "args": [
             [
              "20"
             ],
             {
              "frame": {
               "duration": 0,
               "redraw": false
              },
              "fromcurrent": true,
              "mode": "immediate",
              "transition": {
               "duration": 0,
               "easing": "linear"
              }
             }
            ],
            "label": "20",
            "method": "animate"
           },
           {
            "args": [
             [
              "21"
             ],
             {
              "frame": {
               "duration": 0,
               "redraw": false
              },
              "fromcurrent": true,
              "mode": "immediate",
              "transition": {
               "duration": 0,
               "easing": "linear"
              }
             }
            ],
            "label": "21",
            "method": "animate"
           },
           {
            "args": [
             [
              "22"
             ],
             {
              "frame": {
               "duration": 0,
               "redraw": false
              },
              "fromcurrent": true,
              "mode": "immediate",
              "transition": {
               "duration": 0,
               "easing": "linear"
              }
             }
            ],
            "label": "22",
            "method": "animate"
           },
           {
            "args": [
             [
              "23"
             ],
             {
              "frame": {
               "duration": 0,
               "redraw": false
              },
              "fromcurrent": true,
              "mode": "immediate",
              "transition": {
               "duration": 0,
               "easing": "linear"
              }
             }
            ],
            "label": "23",
            "method": "animate"
           },
           {
            "args": [
             [
              "24"
             ],
             {
              "frame": {
               "duration": 0,
               "redraw": false
              },
              "fromcurrent": true,
              "mode": "immediate",
              "transition": {
               "duration": 0,
               "easing": "linear"
              }
             }
            ],
            "label": "24",
            "method": "animate"
           },
           {
            "args": [
             [
              "25"
             ],
             {
              "frame": {
               "duration": 0,
               "redraw": false
              },
              "fromcurrent": true,
              "mode": "immediate",
              "transition": {
               "duration": 0,
               "easing": "linear"
              }
             }
            ],
            "label": "25",
            "method": "animate"
           }
          ],
          "x": 0.1,
          "xanchor": "left",
          "y": 0,
          "yanchor": "top"
         }
        ],
        "template": {
         "data": {
          "bar": [
           {
            "error_x": {
             "color": "#2a3f5f"
            },
            "error_y": {
             "color": "#2a3f5f"
            },
            "marker": {
             "line": {
              "color": "#E5ECF6",
              "width": 0.5
             },
             "pattern": {
              "fillmode": "overlay",
              "size": 10,
              "solidity": 0.2
             }
            },
            "type": "bar"
           }
          ],
          "barpolar": [
           {
            "marker": {
             "line": {
              "color": "#E5ECF6",
              "width": 0.5
             },
             "pattern": {
              "fillmode": "overlay",
              "size": 10,
              "solidity": 0.2
             }
            },
            "type": "barpolar"
           }
          ],
          "carpet": [
           {
            "aaxis": {
             "endlinecolor": "#2a3f5f",
             "gridcolor": "white",
             "linecolor": "white",
             "minorgridcolor": "white",
             "startlinecolor": "#2a3f5f"
            },
            "baxis": {
             "endlinecolor": "#2a3f5f",
             "gridcolor": "white",
             "linecolor": "white",
             "minorgridcolor": "white",
             "startlinecolor": "#2a3f5f"
            },
            "type": "carpet"
           }
          ],
          "choropleth": [
           {
            "colorbar": {
             "outlinewidth": 0,
             "ticks": ""
            },
            "type": "choropleth"
           }
          ],
          "contour": [
           {
            "colorbar": {
             "outlinewidth": 0,
             "ticks": ""
            },
            "colorscale": [
             [
              0,
              "#0d0887"
             ],
             [
              0.1111111111111111,
              "#46039f"
             ],
             [
              0.2222222222222222,
              "#7201a8"
             ],
             [
              0.3333333333333333,
              "#9c179e"
             ],
             [
              0.4444444444444444,
              "#bd3786"
             ],
             [
              0.5555555555555556,
              "#d8576b"
             ],
             [
              0.6666666666666666,
              "#ed7953"
             ],
             [
              0.7777777777777778,
              "#fb9f3a"
             ],
             [
              0.8888888888888888,
              "#fdca26"
             ],
             [
              1,
              "#f0f921"
             ]
            ],
            "type": "contour"
           }
          ],
          "contourcarpet": [
           {
            "colorbar": {
             "outlinewidth": 0,
             "ticks": ""
            },
            "type": "contourcarpet"
           }
          ],
          "heatmap": [
           {
            "colorbar": {
             "outlinewidth": 0,
             "ticks": ""
            },
            "colorscale": [
             [
              0,
              "#0d0887"
             ],
             [
              0.1111111111111111,
              "#46039f"
             ],
             [
              0.2222222222222222,
              "#7201a8"
             ],
             [
              0.3333333333333333,
              "#9c179e"
             ],
             [
              0.4444444444444444,
              "#bd3786"
             ],
             [
              0.5555555555555556,
              "#d8576b"
             ],
             [
              0.6666666666666666,
              "#ed7953"
             ],
             [
              0.7777777777777778,
              "#fb9f3a"
             ],
             [
              0.8888888888888888,
              "#fdca26"
             ],
             [
              1,
              "#f0f921"
             ]
            ],
            "type": "heatmap"
           }
          ],
          "histogram": [
           {
            "marker": {
             "pattern": {
              "fillmode": "overlay",
              "size": 10,
              "solidity": 0.2
             }
            },
            "type": "histogram"
           }
          ],
          "histogram2d": [
           {
            "colorbar": {
             "outlinewidth": 0,
             "ticks": ""
            },
            "colorscale": [
             [
              0,
              "#0d0887"
             ],
             [
              0.1111111111111111,
              "#46039f"
             ],
             [
              0.2222222222222222,
              "#7201a8"
             ],
             [
              0.3333333333333333,
              "#9c179e"
             ],
             [
              0.4444444444444444,
              "#bd3786"
             ],
             [
              0.5555555555555556,
              "#d8576b"
             ],
             [
              0.6666666666666666,
              "#ed7953"
             ],
             [
              0.7777777777777778,
              "#fb9f3a"
             ],
             [
              0.8888888888888888,
              "#fdca26"
             ],
             [
              1,
              "#f0f921"
             ]
            ],
            "type": "histogram2d"
           }
          ],
          "histogram2dcontour": [
           {
            "colorbar": {
             "outlinewidth": 0,
             "ticks": ""
            },
            "colorscale": [
             [
              0,
              "#0d0887"
             ],
             [
              0.1111111111111111,
              "#46039f"
             ],
             [
              0.2222222222222222,
              "#7201a8"
             ],
             [
              0.3333333333333333,
              "#9c179e"
             ],
             [
              0.4444444444444444,
              "#bd3786"
             ],
             [
              0.5555555555555556,
              "#d8576b"
             ],
             [
              0.6666666666666666,
              "#ed7953"
             ],
             [
              0.7777777777777778,
              "#fb9f3a"
             ],
             [
              0.8888888888888888,
              "#fdca26"
             ],
             [
              1,
              "#f0f921"
             ]
            ],
            "type": "histogram2dcontour"
           }
          ],
          "mesh3d": [
           {
            "colorbar": {
             "outlinewidth": 0,
             "ticks": ""
            },
            "type": "mesh3d"
           }
          ],
          "parcoords": [
           {
            "line": {
             "colorbar": {
              "outlinewidth": 0,
              "ticks": ""
             }
            },
            "type": "parcoords"
           }
          ],
          "pie": [
           {
            "automargin": true,
            "type": "pie"
           }
          ],
          "scatter": [
           {
            "fillpattern": {
             "fillmode": "overlay",
             "size": 10,
             "solidity": 0.2
            },
            "type": "scatter"
           }
          ],
          "scatter3d": [
           {
            "line": {
             "colorbar": {
              "outlinewidth": 0,
              "ticks": ""
             }
            },
            "marker": {
             "colorbar": {
              "outlinewidth": 0,
              "ticks": ""
             }
            },
            "type": "scatter3d"
           }
          ],
          "scattercarpet": [
           {
            "marker": {
             "colorbar": {
              "outlinewidth": 0,
              "ticks": ""
             }
            },
            "type": "scattercarpet"
           }
          ],
          "scattergeo": [
           {
            "marker": {
             "colorbar": {
              "outlinewidth": 0,
              "ticks": ""
             }
            },
            "type": "scattergeo"
           }
          ],
          "scattergl": [
           {
            "marker": {
             "colorbar": {
              "outlinewidth": 0,
              "ticks": ""
             }
            },
            "type": "scattergl"
           }
          ],
          "scattermap": [
           {
            "marker": {
             "colorbar": {
              "outlinewidth": 0,
              "ticks": ""
             }
            },
            "type": "scattermap"
           }
          ],
          "scattermapbox": [
           {
            "marker": {
             "colorbar": {
              "outlinewidth": 0,
              "ticks": ""
             }
            },
            "type": "scattermapbox"
           }
          ],
          "scatterpolar": [
           {
            "marker": {
             "colorbar": {
              "outlinewidth": 0,
              "ticks": ""
             }
            },
            "type": "scatterpolar"
           }
          ],
          "scatterpolargl": [
           {
            "marker": {
             "colorbar": {
              "outlinewidth": 0,
              "ticks": ""
             }
            },
            "type": "scatterpolargl"
           }
          ],
          "scatterternary": [
           {
            "marker": {
             "colorbar": {
              "outlinewidth": 0,
              "ticks": ""
             }
            },
            "type": "scatterternary"
           }
          ],
          "surface": [
           {
            "colorbar": {
             "outlinewidth": 0,
             "ticks": ""
            },
            "colorscale": [
             [
              0,
              "#0d0887"
             ],
             [
              0.1111111111111111,
              "#46039f"
             ],
             [
              0.2222222222222222,
              "#7201a8"
             ],
             [
              0.3333333333333333,
              "#9c179e"
             ],
             [
              0.4444444444444444,
              "#bd3786"
             ],
             [
              0.5555555555555556,
              "#d8576b"
             ],
             [
              0.6666666666666666,
              "#ed7953"
             ],
             [
              0.7777777777777778,
              "#fb9f3a"
             ],
             [
              0.8888888888888888,
              "#fdca26"
             ],
             [
              1,
              "#f0f921"
             ]
            ],
            "type": "surface"
           }
          ],
          "table": [
           {
            "cells": {
             "fill": {
              "color": "#EBF0F8"
             },
             "line": {
              "color": "white"
             }
            },
            "header": {
             "fill": {
              "color": "#C8D4E3"
             },
             "line": {
              "color": "white"
             }
            },
            "type": "table"
           }
          ]
         },
         "layout": {
          "annotationdefaults": {
           "arrowcolor": "#2a3f5f",
           "arrowhead": 0,
           "arrowwidth": 1
          },
          "autotypenumbers": "strict",
          "coloraxis": {
           "colorbar": {
            "outlinewidth": 0,
            "ticks": ""
           }
          },
          "colorscale": {
           "diverging": [
            [
             0,
             "#8e0152"
            ],
            [
             0.1,
             "#c51b7d"
            ],
            [
             0.2,
             "#de77ae"
            ],
            [
             0.3,
             "#f1b6da"
            ],
            [
             0.4,
             "#fde0ef"
            ],
            [
             0.5,
             "#f7f7f7"
            ],
            [
             0.6,
             "#e6f5d0"
            ],
            [
             0.7,
             "#b8e186"
            ],
            [
             0.8,
             "#7fbc41"
            ],
            [
             0.9,
             "#4d9221"
            ],
            [
             1,
             "#276419"
            ]
           ],
           "sequential": [
            [
             0,
             "#0d0887"
            ],
            [
             0.1111111111111111,
             "#46039f"
            ],
            [
             0.2222222222222222,
             "#7201a8"
            ],
            [
             0.3333333333333333,
             "#9c179e"
            ],
            [
             0.4444444444444444,
             "#bd3786"
            ],
            [
             0.5555555555555556,
             "#d8576b"
            ],
            [
             0.6666666666666666,
             "#ed7953"
            ],
            [
             0.7777777777777778,
             "#fb9f3a"
            ],
            [
             0.8888888888888888,
             "#fdca26"
            ],
            [
             1,
             "#f0f921"
            ]
           ],
           "sequentialminus": [
            [
             0,
             "#0d0887"
            ],
            [
             0.1111111111111111,
             "#46039f"
            ],
            [
             0.2222222222222222,
             "#7201a8"
            ],
            [
             0.3333333333333333,
             "#9c179e"
            ],
            [
             0.4444444444444444,
             "#bd3786"
            ],
            [
             0.5555555555555556,
             "#d8576b"
            ],
            [
             0.6666666666666666,
             "#ed7953"
            ],
            [
             0.7777777777777778,
             "#fb9f3a"
            ],
            [
             0.8888888888888888,
             "#fdca26"
            ],
            [
             1,
             "#f0f921"
            ]
           ]
          },
          "colorway": [
           "#636efa",
           "#EF553B",
           "#00cc96",
           "#ab63fa",
           "#FFA15A",
           "#19d3f3",
           "#FF6692",
           "#B6E880",
           "#FF97FF",
           "#FECB52"
          ],
          "font": {
           "color": "#2a3f5f"
          },
          "geo": {
           "bgcolor": "white",
           "lakecolor": "white",
           "landcolor": "#E5ECF6",
           "showlakes": true,
           "showland": true,
           "subunitcolor": "white"
          },
          "hoverlabel": {
           "align": "left"
          },
          "hovermode": "closest",
          "mapbox": {
           "style": "light"
          },
          "paper_bgcolor": "white",
          "plot_bgcolor": "#E5ECF6",
          "polar": {
           "angularaxis": {
            "gridcolor": "white",
            "linecolor": "white",
            "ticks": ""
           },
           "bgcolor": "#E5ECF6",
           "radialaxis": {
            "gridcolor": "white",
            "linecolor": "white",
            "ticks": ""
           }
          },
          "scene": {
           "xaxis": {
            "backgroundcolor": "#E5ECF6",
            "gridcolor": "white",
            "gridwidth": 2,
            "linecolor": "white",
            "showbackground": true,
            "ticks": "",
            "zerolinecolor": "white"
           },
           "yaxis": {
            "backgroundcolor": "#E5ECF6",
            "gridcolor": "white",
            "gridwidth": 2,
            "linecolor": "white",
            "showbackground": true,
            "ticks": "",
            "zerolinecolor": "white"
           },
           "zaxis": {
            "backgroundcolor": "#E5ECF6",
            "gridcolor": "white",
            "gridwidth": 2,
            "linecolor": "white",
            "showbackground": true,
            "ticks": "",
            "zerolinecolor": "white"
           }
          },
          "shapedefaults": {
           "line": {
            "color": "#2a3f5f"
           }
          },
          "ternary": {
           "aaxis": {
            "gridcolor": "white",
            "linecolor": "white",
            "ticks": ""
           },
           "baxis": {
            "gridcolor": "white",
            "linecolor": "white",
            "ticks": ""
           },
           "bgcolor": "#E5ECF6",
           "caxis": {
            "gridcolor": "white",
            "linecolor": "white",
            "ticks": ""
           }
          },
          "title": {
           "x": 0.05
          },
          "xaxis": {
           "automargin": true,
           "gridcolor": "white",
           "linecolor": "white",
           "ticks": "",
           "title": {
            "standoff": 15
           },
           "zerolinecolor": "white",
           "zerolinewidth": 2
          },
          "yaxis": {
           "automargin": true,
           "gridcolor": "white",
           "linecolor": "white",
           "ticks": "",
           "title": {
            "standoff": 15
           },
           "zerolinecolor": "white",
           "zerolinewidth": 2
          }
         }
        },
        "updatemenus": [
         {
          "buttons": [
           {
            "args": [
             null,
             {
              "frame": {
               "duration": 100,
               "redraw": false
              },
              "fromcurrent": true,
              "mode": "immediate",
              "transition": {
               "duration": 0,
               "easing": "linear"
              }
             }
            ],
            "label": "&#9654;",
            "method": "animate"
           },
           {
            "args": [
             [
              null
             ],
             {
              "frame": {
               "duration": 0,
               "redraw": false
              },
              "fromcurrent": true,
              "mode": "immediate",
              "transition": {
               "duration": 0,
               "easing": "linear"
              }
             }
            ],
            "label": "&#9724;",
            "method": "animate"
           }
          ],
          "direction": "left",
          "pad": {
           "r": 10,
           "t": 70
          },
          "showactive": false,
          "type": "buttons",
          "x": 0.1,
          "xanchor": "right",
          "y": 0,
          "yanchor": "top"
         }
        ],
        "xaxis": {
         "anchor": "y",
         "domain": [
          0,
          1
         ],
         "title": {
          "text": "x"
         }
        },
        "yaxis": {
         "anchor": "x",
         "domain": [
          0,
          1
         ],
         "title": {
          "text": "value"
         }
        }
       }
      },
      "text/html": [
       "<div>            <script src=\"https://cdnjs.cloudflare.com/ajax/libs/mathjax/2.7.5/MathJax.js?config=TeX-AMS-MML_SVG\"></script><script type=\"text/javascript\">if (window.MathJax && window.MathJax.Hub && window.MathJax.Hub.Config) {window.MathJax.Hub.Config({SVG: {font: \"STIX-Web\"}});}</script>                <script type=\"text/javascript\">window.PlotlyConfig = {MathJaxConfig: 'local'};</script>\n",
       "        <script charset=\"utf-8\" src=\"https://cdn.plot.ly/plotly-3.0.1.min.js\"></script>                <div id=\"dfe9f7f5-8679-418d-baf8-e725d65b3546\" class=\"plotly-graph-div\" style=\"height:525px; width:100%;\"></div>            <script type=\"text/javascript\">                window.PLOTLYENV=window.PLOTLYENV || {};                                if (document.getElementById(\"dfe9f7f5-8679-418d-baf8-e725d65b3546\")) {                    Plotly.newPlot(                        \"dfe9f7f5-8679-418d-baf8-e725d65b3546\",                        [{\"hovertemplate\":\"variable=0\\u003cbr\\u003ex=%{x}\\u003cbr\\u003evalue=%{y}\\u003cextra\\u003e\\u003c\\u002fextra\\u003e\",\"legendgroup\":\"\",\"line\":{\"color\":\"#636efa\",\"dash\":\"solid\"},\"marker\":{\"symbol\":\"circle\"},\"mode\":\"lines\",\"name\":\"\",\"orientation\":\"v\",\"showlegend\":false,\"x\":{\"dtype\":\"f8\",\"bdata\":\"AAAAAAAAAABbv1Kg1q+UP1u\\u002fUqDWr6Q\\u002fCB988MEHrz9bv1Kg1q+0PzJvZ0jM27k\\u002fCB988MEHvz9wZ0jM2xnCP1u\\u002fUqDWr8Q\\u002fRhdddNFFxz8yb2dIzNvJPx3HcRzHccw\\u002fCB988MEHzz96O0Ni3s7QP3BnSMzbGdI\\u002fZZNNNtlk0z9bv1Kg1q\\u002fUP1HrVwrU+tU\\u002fRhdddNFF1z88Q2LezpDYPzJvZ0jM29k\\u002fJ5tssskm2z8dx3Ecx3HcPxPzdobEvN0\\u002fCB988MEH3z9\\u002fpUCtXyngP3o7Q2LezuA\\u002fddFFF1104T9wZ0jM2xniP2r9SoFav+I\\u002fZZNNNtlk4z9gKVDrVwrkP1u\\u002fUqDWr+Q\\u002fVlVVVVVV5T9R61cK1PrlP0yBWr9SoOY\\u002fRhdddNFF5z9BrV8pUOvnPzxDYt7OkOg\\u002fN9lkk0026T8yb2dIzNvpPy0Fav1Kgeo\\u002fJ5tssskm6z8iMW9nSMzrPx3HcRzHcew\\u002fGF100UUX7T8T83aGxLztPw6JeTtDYu4\\u002fCB988MEH7z8DtX6lQK3vP3+lQK1fKfA\\u002fffDBBx988D96O0Ni3s7wP3eGxLydIfE\\u002fddFFF1108T9yHMdxHMfxP3BnSMzbGfI\\u002fbbLJJpts8j9q\\u002fUqBWr\\u002fyP2hIzNsZEvM\\u002fZZNNNtlk8z9j3s6QmLfzP2ApUOtXCvQ\\u002fXnTRRRdd9D9bv1Kg1q\\u002f0P1gK1PqVAvU\\u002fVlVVVVVV9T9ToNavFKj1P1HrVwrU+vU\\u002fTjbZZJNN9j9MgVq\\u002fUqD2P0nM2xkS8\\u002fY\\u002fRhdddNFF9z9EYt7OkJj3P0GtXylQ6\\u002fc\\u002fP\\u002fjggw8++D88Q2LezpD4PzmO4ziO4\\u002fg\\u002fN9lkk002+T80JObtDIn5PzJvZ0jM2\\u002fk\\u002fL7rooosu+j8tBWr9SoH6PypQ61cK1Po\\u002fJ5tssskm+z8l5u0MiXn7PyIxb2dIzPs\\u002fIHzwwQcf\\u002fD8dx3Ecx3H8PxsS83aGxPw\\u002fGF100UUX\\u002fT8VqPUrBWr9PxPzdobEvP0\\u002fED744IMP\\u002fj8OiXk7Q2L+PwvU+pUCtf4\\u002fCB988MEH\\u002fz8Gav1KgVr\\u002fPwO1fqVArf8\\u002fAAAAAAAAAEA=\"},\"xaxis\":\"x\",\"y\":{\"dtype\":\"f8\",\"bdata\":\"AAAAAAAA8D8AAAAAAADwPwAAAAAAAPA\\u002fAAAAAAAA8D8AAAAAAADwPwAAAAAAAPA\\u002fAAAAAAAA8D8AAAAAAADwPwAAAAAAAPA\\u002fAAAAAAAA8D8AAAAAAADwPwAAAAAAAPA\\u002fAAAAAAAA8D8AAAAAAADwPwAAAAAAAPA\\u002fAAAAAAAA8D8AAAAAAADwPwAAAAAAAPA\\u002fAAAAAAAA8D8AAAAAAADwPwAAAAAAAPA\\u002fAAAAAAAA8D8AAAAAAADwPwAAAAAAAPA\\u002fAAAAAAAAAEAAAAAAAAAAQAAAAAAAAABAAAAAAAAAAEAAAAAAAAAAQAAAAAAAAABAAAAAAAAAAEAAAAAAAAAAQAAAAAAAAABAAAAAAAAAAEAAAAAAAAAAQAAAAAAAAABAAAAAAAAAAEAAAAAAAAAAQAAAAAAAAABAAAAAAAAAAEAAAAAAAAAAQAAAAAAAAABAAAAAAAAAAEAAAAAAAAAAQAAAAAAAAABAAAAAAAAAAEAAAAAAAAAAQAAAAAAAAABAAAAAAAAAAEAAAAAAAAAAQAAAAAAAAPA\\u002fAAAAAAAA8D8AAAAAAADwPwAAAAAAAPA\\u002fAAAAAAAA8D8AAAAAAADwPwAAAAAAAPA\\u002fAAAAAAAA8D8AAAAAAADwPwAAAAAAAPA\\u002fAAAAAAAA8D8AAAAAAADwPwAAAAAAAPA\\u002fAAAAAAAA8D8AAAAAAADwPwAAAAAAAPA\\u002fAAAAAAAA8D8AAAAAAADwPwAAAAAAAPA\\u002fAAAAAAAA8D8AAAAAAADwPwAAAAAAAPA\\u002fAAAAAAAA8D8AAAAAAADwPwAAAAAAAPA\\u002fAAAAAAAA8D8AAAAAAADwPwAAAAAAAPA\\u002fAAAAAAAA8D8AAAAAAADwPwAAAAAAAPA\\u002fAAAAAAAA8D8AAAAAAADwPwAAAAAAAPA\\u002fAAAAAAAA8D8AAAAAAADwPwAAAAAAAPA\\u002fAAAAAAAA8D8AAAAAAADwPwAAAAAAAPA\\u002fAAAAAAAA8D8AAAAAAADwPwAAAAAAAPA\\u002fAAAAAAAA8D8AAAAAAADwPwAAAAAAAPA\\u002fAAAAAAAA8D8AAAAAAADwPwAAAAAAAPA\\u002fAAAAAAAA8D8=\"},\"yaxis\":\"y\",\"type\":\"scatter\"}],                        {\"template\":{\"data\":{\"histogram2dcontour\":[{\"type\":\"histogram2dcontour\",\"colorbar\":{\"outlinewidth\":0,\"ticks\":\"\"},\"colorscale\":[[0.0,\"#0d0887\"],[0.1111111111111111,\"#46039f\"],[0.2222222222222222,\"#7201a8\"],[0.3333333333333333,\"#9c179e\"],[0.4444444444444444,\"#bd3786\"],[0.5555555555555556,\"#d8576b\"],[0.6666666666666666,\"#ed7953\"],[0.7777777777777778,\"#fb9f3a\"],[0.8888888888888888,\"#fdca26\"],[1.0,\"#f0f921\"]]}],\"choropleth\":[{\"type\":\"choropleth\",\"colorbar\":{\"outlinewidth\":0,\"ticks\":\"\"}}],\"histogram2d\":[{\"type\":\"histogram2d\",\"colorbar\":{\"outlinewidth\":0,\"ticks\":\"\"},\"colorscale\":[[0.0,\"#0d0887\"],[0.1111111111111111,\"#46039f\"],[0.2222222222222222,\"#7201a8\"],[0.3333333333333333,\"#9c179e\"],[0.4444444444444444,\"#bd3786\"],[0.5555555555555556,\"#d8576b\"],[0.6666666666666666,\"#ed7953\"],[0.7777777777777778,\"#fb9f3a\"],[0.8888888888888888,\"#fdca26\"],[1.0,\"#f0f921\"]]}],\"heatmap\":[{\"type\":\"heatmap\",\"colorbar\":{\"outlinewidth\":0,\"ticks\":\"\"},\"colorscale\":[[0.0,\"#0d0887\"],[0.1111111111111111,\"#46039f\"],[0.2222222222222222,\"#7201a8\"],[0.3333333333333333,\"#9c179e\"],[0.4444444444444444,\"#bd3786\"],[0.5555555555555556,\"#d8576b\"],[0.6666666666666666,\"#ed7953\"],[0.7777777777777778,\"#fb9f3a\"],[0.8888888888888888,\"#fdca26\"],[1.0,\"#f0f921\"]]}],\"contourcarpet\":[{\"type\":\"contourcarpet\",\"colorbar\":{\"outlinewidth\":0,\"ticks\":\"\"}}],\"contour\":[{\"type\":\"contour\",\"colorbar\":{\"outlinewidth\":0,\"ticks\":\"\"},\"colorscale\":[[0.0,\"#0d0887\"],[0.1111111111111111,\"#46039f\"],[0.2222222222222222,\"#7201a8\"],[0.3333333333333333,\"#9c179e\"],[0.4444444444444444,\"#bd3786\"],[0.5555555555555556,\"#d8576b\"],[0.6666666666666666,\"#ed7953\"],[0.7777777777777778,\"#fb9f3a\"],[0.8888888888888888,\"#fdca26\"],[1.0,\"#f0f921\"]]}],\"surface\":[{\"type\":\"surface\",\"colorbar\":{\"outlinewidth\":0,\"ticks\":\"\"},\"colorscale\":[[0.0,\"#0d0887\"],[0.1111111111111111,\"#46039f\"],[0.2222222222222222,\"#7201a8\"],[0.3333333333333333,\"#9c179e\"],[0.4444444444444444,\"#bd3786\"],[0.5555555555555556,\"#d8576b\"],[0.6666666666666666,\"#ed7953\"],[0.7777777777777778,\"#fb9f3a\"],[0.8888888888888888,\"#fdca26\"],[1.0,\"#f0f921\"]]}],\"mesh3d\":[{\"type\":\"mesh3d\",\"colorbar\":{\"outlinewidth\":0,\"ticks\":\"\"}}],\"scatter\":[{\"fillpattern\":{\"fillmode\":\"overlay\",\"size\":10,\"solidity\":0.2},\"type\":\"scatter\"}],\"parcoords\":[{\"type\":\"parcoords\",\"line\":{\"colorbar\":{\"outlinewidth\":0,\"ticks\":\"\"}}}],\"scatterpolargl\":[{\"type\":\"scatterpolargl\",\"marker\":{\"colorbar\":{\"outlinewidth\":0,\"ticks\":\"\"}}}],\"bar\":[{\"error_x\":{\"color\":\"#2a3f5f\"},\"error_y\":{\"color\":\"#2a3f5f\"},\"marker\":{\"line\":{\"color\":\"#E5ECF6\",\"width\":0.5},\"pattern\":{\"fillmode\":\"overlay\",\"size\":10,\"solidity\":0.2}},\"type\":\"bar\"}],\"scattergeo\":[{\"type\":\"scattergeo\",\"marker\":{\"colorbar\":{\"outlinewidth\":0,\"ticks\":\"\"}}}],\"scatterpolar\":[{\"type\":\"scatterpolar\",\"marker\":{\"colorbar\":{\"outlinewidth\":0,\"ticks\":\"\"}}}],\"histogram\":[{\"marker\":{\"pattern\":{\"fillmode\":\"overlay\",\"size\":10,\"solidity\":0.2}},\"type\":\"histogram\"}],\"scattergl\":[{\"type\":\"scattergl\",\"marker\":{\"colorbar\":{\"outlinewidth\":0,\"ticks\":\"\"}}}],\"scatter3d\":[{\"type\":\"scatter3d\",\"line\":{\"colorbar\":{\"outlinewidth\":0,\"ticks\":\"\"}},\"marker\":{\"colorbar\":{\"outlinewidth\":0,\"ticks\":\"\"}}}],\"scattermap\":[{\"type\":\"scattermap\",\"marker\":{\"colorbar\":{\"outlinewidth\":0,\"ticks\":\"\"}}}],\"scattermapbox\":[{\"type\":\"scattermapbox\",\"marker\":{\"colorbar\":{\"outlinewidth\":0,\"ticks\":\"\"}}}],\"scatterternary\":[{\"type\":\"scatterternary\",\"marker\":{\"colorbar\":{\"outlinewidth\":0,\"ticks\":\"\"}}}],\"scattercarpet\":[{\"type\":\"scattercarpet\",\"marker\":{\"colorbar\":{\"outlinewidth\":0,\"ticks\":\"\"}}}],\"carpet\":[{\"aaxis\":{\"endlinecolor\":\"#2a3f5f\",\"gridcolor\":\"white\",\"linecolor\":\"white\",\"minorgridcolor\":\"white\",\"startlinecolor\":\"#2a3f5f\"},\"baxis\":{\"endlinecolor\":\"#2a3f5f\",\"gridcolor\":\"white\",\"linecolor\":\"white\",\"minorgridcolor\":\"white\",\"startlinecolor\":\"#2a3f5f\"},\"type\":\"carpet\"}],\"table\":[{\"cells\":{\"fill\":{\"color\":\"#EBF0F8\"},\"line\":{\"color\":\"white\"}},\"header\":{\"fill\":{\"color\":\"#C8D4E3\"},\"line\":{\"color\":\"white\"}},\"type\":\"table\"}],\"barpolar\":[{\"marker\":{\"line\":{\"color\":\"#E5ECF6\",\"width\":0.5},\"pattern\":{\"fillmode\":\"overlay\",\"size\":10,\"solidity\":0.2}},\"type\":\"barpolar\"}],\"pie\":[{\"automargin\":true,\"type\":\"pie\"}]},\"layout\":{\"autotypenumbers\":\"strict\",\"colorway\":[\"#636efa\",\"#EF553B\",\"#00cc96\",\"#ab63fa\",\"#FFA15A\",\"#19d3f3\",\"#FF6692\",\"#B6E880\",\"#FF97FF\",\"#FECB52\"],\"font\":{\"color\":\"#2a3f5f\"},\"hovermode\":\"closest\",\"hoverlabel\":{\"align\":\"left\"},\"paper_bgcolor\":\"white\",\"plot_bgcolor\":\"#E5ECF6\",\"polar\":{\"bgcolor\":\"#E5ECF6\",\"angularaxis\":{\"gridcolor\":\"white\",\"linecolor\":\"white\",\"ticks\":\"\"},\"radialaxis\":{\"gridcolor\":\"white\",\"linecolor\":\"white\",\"ticks\":\"\"}},\"ternary\":{\"bgcolor\":\"#E5ECF6\",\"aaxis\":{\"gridcolor\":\"white\",\"linecolor\":\"white\",\"ticks\":\"\"},\"baxis\":{\"gridcolor\":\"white\",\"linecolor\":\"white\",\"ticks\":\"\"},\"caxis\":{\"gridcolor\":\"white\",\"linecolor\":\"white\",\"ticks\":\"\"}},\"coloraxis\":{\"colorbar\":{\"outlinewidth\":0,\"ticks\":\"\"}},\"colorscale\":{\"sequential\":[[0.0,\"#0d0887\"],[0.1111111111111111,\"#46039f\"],[0.2222222222222222,\"#7201a8\"],[0.3333333333333333,\"#9c179e\"],[0.4444444444444444,\"#bd3786\"],[0.5555555555555556,\"#d8576b\"],[0.6666666666666666,\"#ed7953\"],[0.7777777777777778,\"#fb9f3a\"],[0.8888888888888888,\"#fdca26\"],[1.0,\"#f0f921\"]],\"sequentialminus\":[[0.0,\"#0d0887\"],[0.1111111111111111,\"#46039f\"],[0.2222222222222222,\"#7201a8\"],[0.3333333333333333,\"#9c179e\"],[0.4444444444444444,\"#bd3786\"],[0.5555555555555556,\"#d8576b\"],[0.6666666666666666,\"#ed7953\"],[0.7777777777777778,\"#fb9f3a\"],[0.8888888888888888,\"#fdca26\"],[1.0,\"#f0f921\"]],\"diverging\":[[0,\"#8e0152\"],[0.1,\"#c51b7d\"],[0.2,\"#de77ae\"],[0.3,\"#f1b6da\"],[0.4,\"#fde0ef\"],[0.5,\"#f7f7f7\"],[0.6,\"#e6f5d0\"],[0.7,\"#b8e186\"],[0.8,\"#7fbc41\"],[0.9,\"#4d9221\"],[1,\"#276419\"]]},\"xaxis\":{\"gridcolor\":\"white\",\"linecolor\":\"white\",\"ticks\":\"\",\"title\":{\"standoff\":15},\"zerolinecolor\":\"white\",\"automargin\":true,\"zerolinewidth\":2},\"yaxis\":{\"gridcolor\":\"white\",\"linecolor\":\"white\",\"ticks\":\"\",\"title\":{\"standoff\":15},\"zerolinecolor\":\"white\",\"automargin\":true,\"zerolinewidth\":2},\"scene\":{\"xaxis\":{\"backgroundcolor\":\"#E5ECF6\",\"gridcolor\":\"white\",\"linecolor\":\"white\",\"showbackground\":true,\"ticks\":\"\",\"zerolinecolor\":\"white\",\"gridwidth\":2},\"yaxis\":{\"backgroundcolor\":\"#E5ECF6\",\"gridcolor\":\"white\",\"linecolor\":\"white\",\"showbackground\":true,\"ticks\":\"\",\"zerolinecolor\":\"white\",\"gridwidth\":2},\"zaxis\":{\"backgroundcolor\":\"#E5ECF6\",\"gridcolor\":\"white\",\"linecolor\":\"white\",\"showbackground\":true,\"ticks\":\"\",\"zerolinecolor\":\"white\",\"gridwidth\":2}},\"shapedefaults\":{\"line\":{\"color\":\"#2a3f5f\"}},\"annotationdefaults\":{\"arrowcolor\":\"#2a3f5f\",\"arrowhead\":0,\"arrowwidth\":1},\"geo\":{\"bgcolor\":\"white\",\"landcolor\":\"#E5ECF6\",\"subunitcolor\":\"white\",\"showland\":true,\"showlakes\":true,\"lakecolor\":\"white\"},\"title\":{\"x\":0.05},\"mapbox\":{\"style\":\"light\"}}},\"xaxis\":{\"anchor\":\"y\",\"domain\":[0.0,1.0],\"title\":{\"text\":\"x\"}},\"yaxis\":{\"anchor\":\"x\",\"domain\":[0.0,1.0],\"title\":{\"text\":\"value\"}},\"legend\":{\"tracegroupgap\":0},\"margin\":{\"t\":60},\"updatemenus\":[{\"buttons\":[{\"args\":[null,{\"frame\":{\"duration\":100,\"redraw\":false},\"mode\":\"immediate\",\"fromcurrent\":true,\"transition\":{\"duration\":0,\"easing\":\"linear\"}}],\"label\":\"&#9654;\",\"method\":\"animate\"},{\"args\":[[null],{\"frame\":{\"duration\":0,\"redraw\":false},\"mode\":\"immediate\",\"fromcurrent\":true,\"transition\":{\"duration\":0,\"easing\":\"linear\"}}],\"label\":\"&#9724;\",\"method\":\"animate\"}],\"direction\":\"left\",\"pad\":{\"r\":10,\"t\":70},\"showactive\":false,\"type\":\"buttons\",\"x\":0.1,\"xanchor\":\"right\",\"y\":0,\"yanchor\":\"top\"}],\"sliders\":[{\"active\":0,\"currentvalue\":{\"prefix\":\"variable=\"},\"len\":0.9,\"pad\":{\"b\":10,\"t\":60},\"steps\":[{\"args\":[[\"0\"],{\"frame\":{\"duration\":0,\"redraw\":false},\"mode\":\"immediate\",\"fromcurrent\":true,\"transition\":{\"duration\":0,\"easing\":\"linear\"}}],\"label\":\"0\",\"method\":\"animate\"},{\"args\":[[\"1\"],{\"frame\":{\"duration\":0,\"redraw\":false},\"mode\":\"immediate\",\"fromcurrent\":true,\"transition\":{\"duration\":0,\"easing\":\"linear\"}}],\"label\":\"1\",\"method\":\"animate\"},{\"args\":[[\"2\"],{\"frame\":{\"duration\":0,\"redraw\":false},\"mode\":\"immediate\",\"fromcurrent\":true,\"transition\":{\"duration\":0,\"easing\":\"linear\"}}],\"label\":\"2\",\"method\":\"animate\"},{\"args\":[[\"3\"],{\"frame\":{\"duration\":0,\"redraw\":false},\"mode\":\"immediate\",\"fromcurrent\":true,\"transition\":{\"duration\":0,\"easing\":\"linear\"}}],\"label\":\"3\",\"method\":\"animate\"},{\"args\":[[\"4\"],{\"frame\":{\"duration\":0,\"redraw\":false},\"mode\":\"immediate\",\"fromcurrent\":true,\"transition\":{\"duration\":0,\"easing\":\"linear\"}}],\"label\":\"4\",\"method\":\"animate\"},{\"args\":[[\"5\"],{\"frame\":{\"duration\":0,\"redraw\":false},\"mode\":\"immediate\",\"fromcurrent\":true,\"transition\":{\"duration\":0,\"easing\":\"linear\"}}],\"label\":\"5\",\"method\":\"animate\"},{\"args\":[[\"6\"],{\"frame\":{\"duration\":0,\"redraw\":false},\"mode\":\"immediate\",\"fromcurrent\":true,\"transition\":{\"duration\":0,\"easing\":\"linear\"}}],\"label\":\"6\",\"method\":\"animate\"},{\"args\":[[\"7\"],{\"frame\":{\"duration\":0,\"redraw\":false},\"mode\":\"immediate\",\"fromcurrent\":true,\"transition\":{\"duration\":0,\"easing\":\"linear\"}}],\"label\":\"7\",\"method\":\"animate\"},{\"args\":[[\"8\"],{\"frame\":{\"duration\":0,\"redraw\":false},\"mode\":\"immediate\",\"fromcurrent\":true,\"transition\":{\"duration\":0,\"easing\":\"linear\"}}],\"label\":\"8\",\"method\":\"animate\"},{\"args\":[[\"9\"],{\"frame\":{\"duration\":0,\"redraw\":false},\"mode\":\"immediate\",\"fromcurrent\":true,\"transition\":{\"duration\":0,\"easing\":\"linear\"}}],\"label\":\"9\",\"method\":\"animate\"},{\"args\":[[\"10\"],{\"frame\":{\"duration\":0,\"redraw\":false},\"mode\":\"immediate\",\"fromcurrent\":true,\"transition\":{\"duration\":0,\"easing\":\"linear\"}}],\"label\":\"10\",\"method\":\"animate\"},{\"args\":[[\"11\"],{\"frame\":{\"duration\":0,\"redraw\":false},\"mode\":\"immediate\",\"fromcurrent\":true,\"transition\":{\"duration\":0,\"easing\":\"linear\"}}],\"label\":\"11\",\"method\":\"animate\"},{\"args\":[[\"12\"],{\"frame\":{\"duration\":0,\"redraw\":false},\"mode\":\"immediate\",\"fromcurrent\":true,\"transition\":{\"duration\":0,\"easing\":\"linear\"}}],\"label\":\"12\",\"method\":\"animate\"},{\"args\":[[\"13\"],{\"frame\":{\"duration\":0,\"redraw\":false},\"mode\":\"immediate\",\"fromcurrent\":true,\"transition\":{\"duration\":0,\"easing\":\"linear\"}}],\"label\":\"13\",\"method\":\"animate\"},{\"args\":[[\"14\"],{\"frame\":{\"duration\":0,\"redraw\":false},\"mode\":\"immediate\",\"fromcurrent\":true,\"transition\":{\"duration\":0,\"easing\":\"linear\"}}],\"label\":\"14\",\"method\":\"animate\"},{\"args\":[[\"15\"],{\"frame\":{\"duration\":0,\"redraw\":false},\"mode\":\"immediate\",\"fromcurrent\":true,\"transition\":{\"duration\":0,\"easing\":\"linear\"}}],\"label\":\"15\",\"method\":\"animate\"},{\"args\":[[\"16\"],{\"frame\":{\"duration\":0,\"redraw\":false},\"mode\":\"immediate\",\"fromcurrent\":true,\"transition\":{\"duration\":0,\"easing\":\"linear\"}}],\"label\":\"16\",\"method\":\"animate\"},{\"args\":[[\"17\"],{\"frame\":{\"duration\":0,\"redraw\":false},\"mode\":\"immediate\",\"fromcurrent\":true,\"transition\":{\"duration\":0,\"easing\":\"linear\"}}],\"label\":\"17\",\"method\":\"animate\"},{\"args\":[[\"18\"],{\"frame\":{\"duration\":0,\"redraw\":false},\"mode\":\"immediate\",\"fromcurrent\":true,\"transition\":{\"duration\":0,\"easing\":\"linear\"}}],\"label\":\"18\",\"method\":\"animate\"},{\"args\":[[\"19\"],{\"frame\":{\"duration\":0,\"redraw\":false},\"mode\":\"immediate\",\"fromcurrent\":true,\"transition\":{\"duration\":0,\"easing\":\"linear\"}}],\"label\":\"19\",\"method\":\"animate\"},{\"args\":[[\"20\"],{\"frame\":{\"duration\":0,\"redraw\":false},\"mode\":\"immediate\",\"fromcurrent\":true,\"transition\":{\"duration\":0,\"easing\":\"linear\"}}],\"label\":\"20\",\"method\":\"animate\"},{\"args\":[[\"21\"],{\"frame\":{\"duration\":0,\"redraw\":false},\"mode\":\"immediate\",\"fromcurrent\":true,\"transition\":{\"duration\":0,\"easing\":\"linear\"}}],\"label\":\"21\",\"method\":\"animate\"},{\"args\":[[\"22\"],{\"frame\":{\"duration\":0,\"redraw\":false},\"mode\":\"immediate\",\"fromcurrent\":true,\"transition\":{\"duration\":0,\"easing\":\"linear\"}}],\"label\":\"22\",\"method\":\"animate\"},{\"args\":[[\"23\"],{\"frame\":{\"duration\":0,\"redraw\":false},\"mode\":\"immediate\",\"fromcurrent\":true,\"transition\":{\"duration\":0,\"easing\":\"linear\"}}],\"label\":\"23\",\"method\":\"animate\"},{\"args\":[[\"24\"],{\"frame\":{\"duration\":0,\"redraw\":false},\"mode\":\"immediate\",\"fromcurrent\":true,\"transition\":{\"duration\":0,\"easing\":\"linear\"}}],\"label\":\"24\",\"method\":\"animate\"},{\"args\":[[\"25\"],{\"frame\":{\"duration\":0,\"redraw\":false},\"mode\":\"immediate\",\"fromcurrent\":true,\"transition\":{\"duration\":0,\"easing\":\"linear\"}}],\"label\":\"25\",\"method\":\"animate\"}],\"x\":0.1,\"xanchor\":\"left\",\"y\":0,\"yanchor\":\"top\"}]},                        {\"responsive\": true}                    ).then(function(){\n",
       "                            Plotly.addFrames('dfe9f7f5-8679-418d-baf8-e725d65b3546', [{\"data\":[{\"hovertemplate\":\"variable=0\\u003cbr\\u003ex=%{x}\\u003cbr\\u003evalue=%{y}\\u003cextra\\u003e\\u003c\\u002fextra\\u003e\",\"legendgroup\":\"\",\"line\":{\"color\":\"#636efa\",\"dash\":\"solid\"},\"marker\":{\"symbol\":\"circle\"},\"mode\":\"lines\",\"name\":\"\",\"orientation\":\"v\",\"showlegend\":false,\"x\":{\"dtype\":\"f8\",\"bdata\":\"AAAAAAAAAABbv1Kg1q+UP1u\\u002fUqDWr6Q\\u002fCB988MEHrz9bv1Kg1q+0PzJvZ0jM27k\\u002fCB988MEHvz9wZ0jM2xnCP1u\\u002fUqDWr8Q\\u002fRhdddNFFxz8yb2dIzNvJPx3HcRzHccw\\u002fCB988MEHzz96O0Ni3s7QP3BnSMzbGdI\\u002fZZNNNtlk0z9bv1Kg1q\\u002fUP1HrVwrU+tU\\u002fRhdddNFF1z88Q2LezpDYPzJvZ0jM29k\\u002fJ5tssskm2z8dx3Ecx3HcPxPzdobEvN0\\u002fCB988MEH3z9\\u002fpUCtXyngP3o7Q2LezuA\\u002fddFFF1104T9wZ0jM2xniP2r9SoFav+I\\u002fZZNNNtlk4z9gKVDrVwrkP1u\\u002fUqDWr+Q\\u002fVlVVVVVV5T9R61cK1PrlP0yBWr9SoOY\\u002fRhdddNFF5z9BrV8pUOvnPzxDYt7OkOg\\u002fN9lkk0026T8yb2dIzNvpPy0Fav1Kgeo\\u002fJ5tssskm6z8iMW9nSMzrPx3HcRzHcew\\u002fGF100UUX7T8T83aGxLztPw6JeTtDYu4\\u002fCB988MEH7z8DtX6lQK3vP3+lQK1fKfA\\u002fffDBBx988D96O0Ni3s7wP3eGxLydIfE\\u002fddFFF1108T9yHMdxHMfxP3BnSMzbGfI\\u002fbbLJJpts8j9q\\u002fUqBWr\\u002fyP2hIzNsZEvM\\u002fZZNNNtlk8z9j3s6QmLfzP2ApUOtXCvQ\\u002fXnTRRRdd9D9bv1Kg1q\\u002f0P1gK1PqVAvU\\u002fVlVVVVVV9T9ToNavFKj1P1HrVwrU+vU\\u002fTjbZZJNN9j9MgVq\\u002fUqD2P0nM2xkS8\\u002fY\\u002fRhdddNFF9z9EYt7OkJj3P0GtXylQ6\\u002fc\\u002fP\\u002fjggw8++D88Q2LezpD4PzmO4ziO4\\u002fg\\u002fN9lkk002+T80JObtDIn5PzJvZ0jM2\\u002fk\\u002fL7rooosu+j8tBWr9SoH6PypQ61cK1Po\\u002fJ5tssskm+z8l5u0MiXn7PyIxb2dIzPs\\u002fIHzwwQcf\\u002fD8dx3Ecx3H8PxsS83aGxPw\\u002fGF100UUX\\u002fT8VqPUrBWr9PxPzdobEvP0\\u002fED744IMP\\u002fj8OiXk7Q2L+PwvU+pUCtf4\\u002fCB988MEH\\u002fz8Gav1KgVr\\u002fPwO1fqVArf8\\u002fAAAAAAAAAEA=\"},\"xaxis\":\"x\",\"y\":{\"dtype\":\"f8\",\"bdata\":\"AAAAAAAA8D8AAAAAAADwPwAAAAAAAPA\\u002fAAAAAAAA8D8AAAAAAADwPwAAAAAAAPA\\u002fAAAAAAAA8D8AAAAAAADwPwAAAAAAAPA\\u002fAAAAAAAA8D8AAAAAAADwPwAAAAAAAPA\\u002fAAAAAAAA8D8AAAAAAADwPwAAAAAAAPA\\u002fAAAAAAAA8D8AAAAAAADwPwAAAAAAAPA\\u002fAAAAAAAA8D8AAAAAAADwPwAAAAAAAPA\\u002fAAAAAAAA8D8AAAAAAADwPwAAAAAAAPA\\u002fAAAAAAAAAEAAAAAAAAAAQAAAAAAAAABAAAAAAAAAAEAAAAAAAAAAQAAAAAAAAABAAAAAAAAAAEAAAAAAAAAAQAAAAAAAAABAAAAAAAAAAEAAAAAAAAAAQAAAAAAAAABAAAAAAAAAAEAAAAAAAAAAQAAAAAAAAABAAAAAAAAAAEAAAAAAAAAAQAAAAAAAAABAAAAAAAAAAEAAAAAAAAAAQAAAAAAAAABAAAAAAAAAAEAAAAAAAAAAQAAAAAAAAABAAAAAAAAAAEAAAAAAAAAAQAAAAAAAAPA\\u002fAAAAAAAA8D8AAAAAAADwPwAAAAAAAPA\\u002fAAAAAAAA8D8AAAAAAADwPwAAAAAAAPA\\u002fAAAAAAAA8D8AAAAAAADwPwAAAAAAAPA\\u002fAAAAAAAA8D8AAAAAAADwPwAAAAAAAPA\\u002fAAAAAAAA8D8AAAAAAADwPwAAAAAAAPA\\u002fAAAAAAAA8D8AAAAAAADwPwAAAAAAAPA\\u002fAAAAAAAA8D8AAAAAAADwPwAAAAAAAPA\\u002fAAAAAAAA8D8AAAAAAADwPwAAAAAAAPA\\u002fAAAAAAAA8D8AAAAAAADwPwAAAAAAAPA\\u002fAAAAAAAA8D8AAAAAAADwPwAAAAAAAPA\\u002fAAAAAAAA8D8AAAAAAADwPwAAAAAAAPA\\u002fAAAAAAAA8D8AAAAAAADwPwAAAAAAAPA\\u002fAAAAAAAA8D8AAAAAAADwPwAAAAAAAPA\\u002fAAAAAAAA8D8AAAAAAADwPwAAAAAAAPA\\u002fAAAAAAAA8D8AAAAAAADwPwAAAAAAAPA\\u002fAAAAAAAA8D8AAAAAAADwPwAAAAAAAPA\\u002fAAAAAAAA8D8=\"},\"yaxis\":\"y\",\"type\":\"scatter\"}],\"name\":\"0\"},{\"data\":[{\"hovertemplate\":\"variable=1\\u003cbr\\u003ex=%{x}\\u003cbr\\u003evalue=%{y}\\u003cextra\\u003e\\u003c\\u002fextra\\u003e\",\"legendgroup\":\"\",\"line\":{\"color\":\"#636efa\",\"dash\":\"solid\"},\"marker\":{\"symbol\":\"circle\"},\"mode\":\"lines\",\"name\":\"\",\"orientation\":\"v\",\"showlegend\":false,\"x\":{\"dtype\":\"f8\",\"bdata\":\"AAAAAAAAAABbv1Kg1q+UP1u\\u002fUqDWr6Q\\u002fCB988MEHrz9bv1Kg1q+0PzJvZ0jM27k\\u002fCB988MEHvz9wZ0jM2xnCP1u\\u002fUqDWr8Q\\u002fRhdddNFFxz8yb2dIzNvJPx3HcRzHccw\\u002fCB988MEHzz96O0Ni3s7QP3BnSMzbGdI\\u002fZZNNNtlk0z9bv1Kg1q\\u002fUP1HrVwrU+tU\\u002fRhdddNFF1z88Q2LezpDYPzJvZ0jM29k\\u002fJ5tssskm2z8dx3Ecx3HcPxPzdobEvN0\\u002fCB988MEH3z9\\u002fpUCtXyngP3o7Q2LezuA\\u002fddFFF1104T9wZ0jM2xniP2r9SoFav+I\\u002fZZNNNtlk4z9gKVDrVwrkP1u\\u002fUqDWr+Q\\u002fVlVVVVVV5T9R61cK1PrlP0yBWr9SoOY\\u002fRhdddNFF5z9BrV8pUOvnPzxDYt7OkOg\\u002fN9lkk0026T8yb2dIzNvpPy0Fav1Kgeo\\u002fJ5tssskm6z8iMW9nSMzrPx3HcRzHcew\\u002fGF100UUX7T8T83aGxLztPw6JeTtDYu4\\u002fCB988MEH7z8DtX6lQK3vP3+lQK1fKfA\\u002fffDBBx988D96O0Ni3s7wP3eGxLydIfE\\u002fddFFF1108T9yHMdxHMfxP3BnSMzbGfI\\u002fbbLJJpts8j9q\\u002fUqBWr\\u002fyP2hIzNsZEvM\\u002fZZNNNtlk8z9j3s6QmLfzP2ApUOtXCvQ\\u002fXnTRRRdd9D9bv1Kg1q\\u002f0P1gK1PqVAvU\\u002fVlVVVVVV9T9ToNavFKj1P1HrVwrU+vU\\u002fTjbZZJNN9j9MgVq\\u002fUqD2P0nM2xkS8\\u002fY\\u002fRhdddNFF9z9EYt7OkJj3P0GtXylQ6\\u002fc\\u002fP\\u002fjggw8++D88Q2LezpD4PzmO4ziO4\\u002fg\\u002fN9lkk002+T80JObtDIn5PzJvZ0jM2\\u002fk\\u002fL7rooosu+j8tBWr9SoH6PypQ61cK1Po\\u002fJ5tssskm+z8l5u0MiXn7PyIxb2dIzPs\\u002fIHzwwQcf\\u002fD8dx3Ecx3H8PxsS83aGxPw\\u002fGF100UUX\\u002fT8VqPUrBWr9PxPzdobEvP0\\u002fED744IMP\\u002fj8OiXk7Q2L+PwvU+pUCtf4\\u002fCB988MEH\\u002fz8Gav1KgVr\\u002fPwO1fqVArf8\\u002fAAAAAAAAAEA=\"},\"xaxis\":\"x\",\"y\":{\"dtype\":\"f8\",\"bdata\":\"AAAAAAAA8D8AAAAAAADwPwAAAAAAAPA\\u002fAAAAAAAA8D8AAAAAAADwPwAAAAAAAPA\\u002fAAAAAAAA8D8AAAAAAADwPwAAAAAAAPA\\u002fAAAAAAAA8D8AAAAAAADwPwAAAAAAAPA\\u002fAAAAAAAA8D8AAAAAAADwPwAAAAAAAPA\\u002fAAAAAAAA8D8AAAAAAADwPwAAAAAAAPA\\u002fAAAAAAAA8D8AAAAAAADwPwAAAAAAAPA\\u002fAAAAAAAA8D8AAAAAAADwPwAAAAAAAPA\\u002faGZmZmZm3r8AAAAAAAAAQAAAAAAAAABAAAAAAAAAAEAAAAAAAAAAQAAAAAAAAABAAAAAAAAAAEAAAAAAAAAAQAAAAAAAAABAAAAAAAAAAEAAAAAAAAAAQAAAAAAAAABAAAAAAAAAAEAAAAAAAAAAQAAAAAAAAABAAAAAAAAAAEAAAAAAAAAAQAAAAAAAAABAAAAAAAAAAEAAAAAAAAAAQAAAAAAAAABAAAAAAAAAAEAAAAAAAAAAQAAAAAAAAABAAAAAAAAAAEAAAAAAAAAAQGZmZmZm5gFAAAAAAAAA8D8AAAAAAADwPwAAAAAAAPA\\u002fAAAAAAAA8D8AAAAAAADwPwAAAAAAAPA\\u002fAAAAAAAA8D8AAAAAAADwPwAAAAAAAPA\\u002fAAAAAAAA8D8AAAAAAADwPwAAAAAAAPA\\u002fAAAAAAAA8D8AAAAAAADwPwAAAAAAAPA\\u002fAAAAAAAA8D8AAAAAAADwPwAAAAAAAPA\\u002fAAAAAAAA8D8AAAAAAADwPwAAAAAAAPA\\u002fAAAAAAAA8D8AAAAAAADwPwAAAAAAAPA\\u002fAAAAAAAA8D8AAAAAAADwPwAAAAAAAPA\\u002fAAAAAAAA8D8AAAAAAADwPwAAAAAAAPA\\u002fAAAAAAAA8D8AAAAAAADwPwAAAAAAAPA\\u002fAAAAAAAA8D8AAAAAAADwPwAAAAAAAPA\\u002fAAAAAAAA8D8AAAAAAADwPwAAAAAAAPA\\u002fAAAAAAAA8D8AAAAAAADwPwAAAAAAAPA\\u002fAAAAAAAA8D8AAAAAAADwPwAAAAAAAPA\\u002fAAAAAAAA8D8AAAAAAADwPwAAAAAAAPA\\u002fAAAAAAAA8D8=\"},\"yaxis\":\"y\",\"type\":\"scatter\"}],\"name\":\"1\"},{\"data\":[{\"hovertemplate\":\"variable=2\\u003cbr\\u003ex=%{x}\\u003cbr\\u003evalue=%{y}\\u003cextra\\u003e\\u003c\\u002fextra\\u003e\",\"legendgroup\":\"\",\"line\":{\"color\":\"#636efa\",\"dash\":\"solid\"},\"marker\":{\"symbol\":\"circle\"},\"mode\":\"lines\",\"name\":\"\",\"orientation\":\"v\",\"showlegend\":false,\"x\":{\"dtype\":\"f8\",\"bdata\":\"AAAAAAAAAABbv1Kg1q+UP1u\\u002fUqDWr6Q\\u002fCB988MEHrz9bv1Kg1q+0PzJvZ0jM27k\\u002fCB988MEHvz9wZ0jM2xnCP1u\\u002fUqDWr8Q\\u002fRhdddNFFxz8yb2dIzNvJPx3HcRzHccw\\u002fCB988MEHzz96O0Ni3s7QP3BnSMzbGdI\\u002fZZNNNtlk0z9bv1Kg1q\\u002fUP1HrVwrU+tU\\u002fRhdddNFF1z88Q2LezpDYPzJvZ0jM29k\\u002fJ5tssskm2z8dx3Ecx3HcPxPzdobEvN0\\u002fCB988MEH3z9\\u002fpUCtXyngP3o7Q2LezuA\\u002fddFFF1104T9wZ0jM2xniP2r9SoFav+I\\u002fZZNNNtlk4z9gKVDrVwrkP1u\\u002fUqDWr+Q\\u002fVlVVVVVV5T9R61cK1PrlP0yBWr9SoOY\\u002fRhdddNFF5z9BrV8pUOvnPzxDYt7OkOg\\u002fN9lkk0026T8yb2dIzNvpPy0Fav1Kgeo\\u002fJ5tssskm6z8iMW9nSMzrPx3HcRzHcew\\u002fGF100UUX7T8T83aGxLztPw6JeTtDYu4\\u002fCB988MEH7z8DtX6lQK3vP3+lQK1fKfA\\u002fffDBBx988D96O0Ni3s7wP3eGxLydIfE\\u002fddFFF1108T9yHMdxHMfxP3BnSMzbGfI\\u002fbbLJJpts8j9q\\u002fUqBWr\\u002fyP2hIzNsZEvM\\u002fZZNNNtlk8z9j3s6QmLfzP2ApUOtXCvQ\\u002fXnTRRRdd9D9bv1Kg1q\\u002f0P1gK1PqVAvU\\u002fVlVVVVVV9T9ToNavFKj1P1HrVwrU+vU\\u002fTjbZZJNN9j9MgVq\\u002fUqD2P0nM2xkS8\\u002fY\\u002fRhdddNFF9z9EYt7OkJj3P0GtXylQ6\\u002fc\\u002fP\\u002fjggw8++D88Q2LezpD4PzmO4ziO4\\u002fg\\u002fN9lkk002+T80JObtDIn5PzJvZ0jM2\\u002fk\\u002fL7rooosu+j8tBWr9SoH6PypQ61cK1Po\\u002fJ5tssskm+z8l5u0MiXn7PyIxb2dIzPs\\u002fIHzwwQcf\\u002fD8dx3Ecx3H8PxsS83aGxPw\\u002fGF100UUX\\u002fT8VqPUrBWr9PxPzdobEvP0\\u002fED744IMP\\u002fj8OiXk7Q2L+PwvU+pUCtf4\\u002fCB988MEH\\u002fz8Gav1KgVr\\u002fPwO1fqVArf8\\u002fAAAAAAAAAEA=\"},\"xaxis\":\"x\",\"y\":{\"dtype\":\"f8\",\"bdata\":\"AAAAAAAA8D8AAAAAAADwPwAAAAAAAPA\\u002fAAAAAAAA8D8AAAAAAADwPwAAAAAAAPA\\u002fAAAAAAAA8D8AAAAAAADwPwAAAAAAAPA\\u002fAAAAAAAA8D8AAAAAAADwPwAAAAAAAPA\\u002fAAAAAAAA8D8AAAAAAADwPwAAAAAAAPA\\u002fAAAAAAAA8D8AAAAAAADwPwAAAAAAAPA\\u002fAAAAAAAA8D8AAAAAAADwPwAAAAAAAPA\\u002fAAAAAAAA8D8AAAAAAADwPwAAAAAAAPA\\u002fsXJoke149b9xPQrXo4AQwAAAAAAAAABAAAAAAAAAAEAAAAAAAAAAQAAAAAAAAABAAAAAAAAAAEAAAAAAAAAAQAAAAAAAAABAAAAAAAAAAEAAAAAAAAAAQAAAAAAAAABAAAAAAAAAAEAAAAAAAAAAQAAAAAAAAABAAAAAAAAAAEAAAAAAAAAAQAAAAAAAAABAAAAAAAAAAEAAAAAAAAAAQAAAAAAAAABAAAAAAAAAAEAAAAAAAAAAQAAAAAAAAABAAAAAAAAAAEAAAAAAAAAAQJPtfD81R\\u002fk\\u002fuB6F61FABEAAAAAAAADwPwAAAAAAAPA\\u002fAAAAAAAA8D8AAAAAAADwPwAAAAAAAPA\\u002fAAAAAAAA8D8AAAAAAADwPwAAAAAAAPA\\u002fAAAAAAAA8D8AAAAAAADwPwAAAAAAAPA\\u002fAAAAAAAA8D8AAAAAAADwPwAAAAAAAPA\\u002fAAAAAAAA8D8AAAAAAADwPwAAAAAAAPA\\u002fAAAAAAAA8D8AAAAAAADwPwAAAAAAAPA\\u002fAAAAAAAA8D8AAAAAAADwPwAAAAAAAPA\\u002fAAAAAAAA8D8AAAAAAADwPwAAAAAAAPA\\u002fAAAAAAAA8D8AAAAAAADwPwAAAAAAAPA\\u002fAAAAAAAA8D8AAAAAAADwPwAAAAAAAPA\\u002fAAAAAAAA8D8AAAAAAADwPwAAAAAAAPA\\u002fAAAAAAAA8D8AAAAAAADwPwAAAAAAAPA\\u002fAAAAAAAA8D8AAAAAAADwPwAAAAAAAPA\\u002fAAAAAAAA8D8AAAAAAADwPwAAAAAAAPA\\u002fAAAAAAAA8D8AAAAAAADwPwAAAAAAAPA\\u002fAAAAAAAA8D8=\"},\"yaxis\":\"y\",\"type\":\"scatter\"}],\"name\":\"2\"},{\"data\":[{\"hovertemplate\":\"variable=3\\u003cbr\\u003ex=%{x}\\u003cbr\\u003evalue=%{y}\\u003cextra\\u003e\\u003c\\u002fextra\\u003e\",\"legendgroup\":\"\",\"line\":{\"color\":\"#636efa\",\"dash\":\"solid\"},\"marker\":{\"symbol\":\"circle\"},\"mode\":\"lines\",\"name\":\"\",\"orientation\":\"v\",\"showlegend\":false,\"x\":{\"dtype\":\"f8\",\"bdata\":\"AAAAAAAAAABbv1Kg1q+UP1u\\u002fUqDWr6Q\\u002fCB988MEHrz9bv1Kg1q+0PzJvZ0jM27k\\u002fCB988MEHvz9wZ0jM2xnCP1u\\u002fUqDWr8Q\\u002fRhdddNFFxz8yb2dIzNvJPx3HcRzHccw\\u002fCB988MEHzz96O0Ni3s7QP3BnSMzbGdI\\u002fZZNNNtlk0z9bv1Kg1q\\u002fUP1HrVwrU+tU\\u002fRhdddNFF1z88Q2LezpDYPzJvZ0jM29k\\u002fJ5tssskm2z8dx3Ecx3HcPxPzdobEvN0\\u002fCB988MEH3z9\\u002fpUCtXyngP3o7Q2LezuA\\u002fddFFF1104T9wZ0jM2xniP2r9SoFav+I\\u002fZZNNNtlk4z9gKVDrVwrkP1u\\u002fUqDWr+Q\\u002fVlVVVVVV5T9R61cK1PrlP0yBWr9SoOY\\u002fRhdddNFF5z9BrV8pUOvnPzxDYt7OkOg\\u002fN9lkk0026T8yb2dIzNvpPy0Fav1Kgeo\\u002fJ5tssskm6z8iMW9nSMzrPx3HcRzHcew\\u002fGF100UUX7T8T83aGxLztPw6JeTtDYu4\\u002fCB988MEH7z8DtX6lQK3vP3+lQK1fKfA\\u002fffDBBx988D96O0Ni3s7wP3eGxLydIfE\\u002fddFFF1108T9yHMdxHMfxP3BnSMzbGfI\\u002fbbLJJpts8j9q\\u002fUqBWr\\u002fyP2hIzNsZEvM\\u002fZZNNNtlk8z9j3s6QmLfzP2ApUOtXCvQ\\u002fXnTRRRdd9D9bv1Kg1q\\u002f0P1gK1PqVAvU\\u002fVlVVVVVV9T9ToNavFKj1P1HrVwrU+vU\\u002fTjbZZJNN9j9MgVq\\u002fUqD2P0nM2xkS8\\u002fY\\u002fRhdddNFF9z9EYt7OkJj3P0GtXylQ6\\u002fc\\u002fP\\u002fjggw8++D88Q2LezpD4PzmO4ziO4\\u002fg\\u002fN9lkk002+T80JObtDIn5PzJvZ0jM2\\u002fk\\u002fL7rooosu+j8tBWr9SoH6PypQ61cK1Po\\u002fJ5tssskm+z8l5u0MiXn7PyIxb2dIzPs\\u002fIHzwwQcf\\u002fD8dx3Ecx3H8PxsS83aGxPw\\u002fGF100UUX\\u002fT8VqPUrBWr9PxPzdobEvP0\\u002fED744IMP\\u002fj8OiXk7Q2L+PwvU+pUCtf4\\u002fCB988MEH\\u002fz8Gav1KgVr\\u002fPwO1fqVArf8\\u002fAAAAAAAAAEA=\"},\"xaxis\":\"x\",\"y\":{\"dtype\":\"f8\",\"bdata\":\"AAAAAAAA8D8AAAAAAADwPwAAAAAAAPA\\u002fAAAAAAAA8D8AAAAAAADwPwAAAAAAAPA\\u002fAAAAAAAA8D8AAAAAAADwPwAAAAAAAPA\\u002fAAAAAAAA8D8AAAAAAADwPwAAAAAAAPA\\u002fAAAAAAAA8D8AAAAAAADwPwAAAAAAAPA\\u002fAAAAAAAA8D8AAAAAAADwPwAAAAAAAPA\\u002fAAAAAAAA8D8AAAAAAADwPwAAAAAAAPA\\u002fAAAAAAAA8D8AAAAAAADwPwAAAAAAAPA\\u002f2WxA+xrtFMDVsUpZUlYywAmsHFpkUirAAAAAAAAAAEAAAAAAAAAAQAAAAAAAAABAAAAAAAAAAEAAAAAAAAAAQAAAAAAAAABAAAAAAAAAAEAAAAAAAAAAQAAAAAAAAABAAAAAAAAAAEAAAAAAAAAAQAAAAAAAAABAAAAAAAAAAEAAAAAAAAAAQAAAAAAAAABAAAAAAAAAAEAAAAAAAAAAQAAAAAAAAABAAAAAAAAAAEAAAAAAAAAAQAAAAAAAAABAAAAAAAAAAEAAAAAAAAAAQAYEBEXFNQNAJvD4Ng\\u002fC3L8EVg4tMikHQAAAAAAAAPA\\u002fAAAAAAAA8D8AAAAAAADwPwAAAAAAAPA\\u002fAAAAAAAA8D8AAAAAAADwPwAAAAAAAPA\\u002fAAAAAAAA8D8AAAAAAADwPwAAAAAAAPA\\u002fAAAAAAAA8D8AAAAAAADwPwAAAAAAAPA\\u002fAAAAAAAA8D8AAAAAAADwPwAAAAAAAPA\\u002fAAAAAAAA8D8AAAAAAADwPwAAAAAAAPA\\u002fAAAAAAAA8D8AAAAAAADwPwAAAAAAAPA\\u002fAAAAAAAA8D8AAAAAAADwPwAAAAAAAPA\\u002fAAAAAAAA8D8AAAAAAADwPwAAAAAAAPA\\u002fAAAAAAAA8D8AAAAAAADwPwAAAAAAAPA\\u002fAAAAAAAA8D8AAAAAAADwPwAAAAAAAPA\\u002fAAAAAAAA8D8AAAAAAADwPwAAAAAAAPA\\u002fAAAAAAAA8D8AAAAAAADwPwAAAAAAAPA\\u002fAAAAAAAA8D8AAAAAAADwPwAAAAAAAPA\\u002fAAAAAAAA8D8AAAAAAADwPwAAAAAAAPA\\u002fAAAAAAAA8D8=\"},\"yaxis\":\"y\",\"type\":\"scatter\"}],\"name\":\"3\"},{\"data\":[{\"hovertemplate\":\"variable=4\\u003cbr\\u003ex=%{x}\\u003cbr\\u003evalue=%{y}\\u003cextra\\u003e\\u003c\\u002fextra\\u003e\",\"legendgroup\":\"\",\"line\":{\"color\":\"#636efa\",\"dash\":\"solid\"},\"marker\":{\"symbol\":\"circle\"},\"mode\":\"lines\",\"name\":\"\",\"orientation\":\"v\",\"showlegend\":false,\"x\":{\"dtype\":\"f8\",\"bdata\":\"AAAAAAAAAABbv1Kg1q+UP1u\\u002fUqDWr6Q\\u002fCB988MEHrz9bv1Kg1q+0PzJvZ0jM27k\\u002fCB988MEHvz9wZ0jM2xnCP1u\\u002fUqDWr8Q\\u002fRhdddNFFxz8yb2dIzNvJPx3HcRzHccw\\u002fCB988MEHzz96O0Ni3s7QP3BnSMzbGdI\\u002fZZNNNtlk0z9bv1Kg1q\\u002fUP1HrVwrU+tU\\u002fRhdddNFF1z88Q2LezpDYPzJvZ0jM29k\\u002fJ5tssskm2z8dx3Ecx3HcPxPzdobEvN0\\u002fCB988MEH3z9\\u002fpUCtXyngP3o7Q2LezuA\\u002fddFFF1104T9wZ0jM2xniP2r9SoFav+I\\u002fZZNNNtlk4z9gKVDrVwrkP1u\\u002fUqDWr+Q\\u002fVlVVVVVV5T9R61cK1PrlP0yBWr9SoOY\\u002fRhdddNFF5z9BrV8pUOvnPzxDYt7OkOg\\u002fN9lkk0026T8yb2dIzNvpPy0Fav1Kgeo\\u002fJ5tssskm6z8iMW9nSMzrPx3HcRzHcew\\u002fGF100UUX7T8T83aGxLztPw6JeTtDYu4\\u002fCB988MEH7z8DtX6lQK3vP3+lQK1fKfA\\u002fffDBBx988D96O0Ni3s7wP3eGxLydIfE\\u002fddFFF1108T9yHMdxHMfxP3BnSMzbGfI\\u002fbbLJJpts8j9q\\u002fUqBWr\\u002fyP2hIzNsZEvM\\u002fZZNNNtlk8z9j3s6QmLfzP2ApUOtXCvQ\\u002fXnTRRRdd9D9bv1Kg1q\\u002f0P1gK1PqVAvU\\u002fVlVVVVVV9T9ToNavFKj1P1HrVwrU+vU\\u002fTjbZZJNN9j9MgVq\\u002fUqD2P0nM2xkS8\\u002fY\\u002fRhdddNFF9z9EYt7OkJj3P0GtXylQ6\\u002fc\\u002fP\\u002fjggw8++D88Q2LezpD4PzmO4ziO4\\u002fg\\u002fN9lkk002+T80JObtDIn5PzJvZ0jM2\\u002fk\\u002fL7rooosu+j8tBWr9SoH6PypQ61cK1Po\\u002fJ5tssskm+z8l5u0MiXn7PyIxb2dIzPs\\u002fIHzwwQcf\\u002fD8dx3Ecx3H8PxsS83aGxPw\\u002fGF100UUX\\u002fT8VqPUrBWr9PxPzdobEvP0\\u002fED744IMP\\u002fj8OiXk7Q2L+PwvU+pUCtf4\\u002fCB988MEH\\u002fz8Gav1KgVr\\u002fPwO1fqVArf8\\u002fAAAAAAAAAEA=\"},\"xaxis\":\"x\",\"y\":{\"dtype\":\"f8\",\"bdata\":\"AAAAAAAA8D8AAAAAAADwPwAAAAAAAPA\\u002fAAAAAAAA8D8AAAAAAADwPwAAAAAAAPA\\u002fAAAAAAAA8D8AAAAAAADwPwAAAAAAAPA\\u002fAAAAAAAA8D8AAAAAAADwPwAAAAAAAPA\\u002fAAAAAAAA8D8AAAAAAADwPwAAAAAAAPA\\u002fAAAAAAAA8D8AAAAAAADwPwAAAAAAAPA\\u002fAAAAAAAA8D8AAAAAAADwPwAAAAAAAPA\\u002fAAAAAAAA8D8AAAAAAADwPwAAAAAAAPA\\u002fjP2Ek5TJRsDfuw8Rv7tzwI4jIZgpyVFAc4qO5PrCQcAAAAAAAAAAQAAAAAAAAABAAAAAAAAAAEAAAAAAAAAAQAAAAAAAAABAAAAAAAAAAEAAAAAAAAAAQAAAAAAAAABAAAAAAAAAAEAAAAAAAAAAQAAAAAAAAABAAAAAAAAAAEAAAAAAAAAAQAAAAAAAAABAAAAAAAAAAEAAAAAAAAAAQAAAAAAAAABAAAAAAAAAAEAAAAAAAAAAQAAAAAAAAABAAAAAAAAAAEAAAAAAAAAAQDzM2sirV\\u002fM\\u002fyxZuvZJGAMBfc0kMmCwiwHKKjuT6wgpAAAAAAAAA8D8AAAAAAADwPwAAAAAAAPA\\u002fAAAAAAAA8D8AAAAAAADwPwAAAAAAAPA\\u002fAAAAAAAA8D8AAAAAAADwPwAAAAAAAPA\\u002fAAAAAAAA8D8AAAAAAADwPwAAAAAAAPA\\u002fAAAAAAAA8D8AAAAAAADwPwAAAAAAAPA\\u002fAAAAAAAA8D8AAAAAAADwPwAAAAAAAPA\\u002fAAAAAAAA8D8AAAAAAADwPwAAAAAAAPA\\u002fAAAAAAAA8D8AAAAAAADwPwAAAAAAAPA\\u002fAAAAAAAA8D8AAAAAAADwPwAAAAAAAPA\\u002fAAAAAAAA8D8AAAAAAADwPwAAAAAAAPA\\u002fAAAAAAAA8D8AAAAAAADwPwAAAAAAAPA\\u002fAAAAAAAA8D8AAAAAAADwPwAAAAAAAPA\\u002fAAAAAAAA8D8AAAAAAADwPwAAAAAAAPA\\u002fAAAAAAAA8D8AAAAAAADwPwAAAAAAAPA\\u002fAAAAAAAA8D8AAAAAAADwPwAAAAAAAPA\\u002fAAAAAAAA8D8=\"},\"yaxis\":\"y\",\"type\":\"scatter\"}],\"name\":\"4\"},{\"data\":[{\"hovertemplate\":\"variable=5\\u003cbr\\u003ex=%{x}\\u003cbr\\u003evalue=%{y}\\u003cextra\\u003e\\u003c\\u002fextra\\u003e\",\"legendgroup\":\"\",\"line\":{\"color\":\"#636efa\",\"dash\":\"solid\"},\"marker\":{\"symbol\":\"circle\"},\"mode\":\"lines\",\"name\":\"\",\"orientation\":\"v\",\"showlegend\":false,\"x\":{\"dtype\":\"f8\",\"bdata\":\"AAAAAAAAAABbv1Kg1q+UP1u\\u002fUqDWr6Q\\u002fCB988MEHrz9bv1Kg1q+0PzJvZ0jM27k\\u002fCB988MEHvz9wZ0jM2xnCP1u\\u002fUqDWr8Q\\u002fRhdddNFFxz8yb2dIzNvJPx3HcRzHccw\\u002fCB988MEHzz96O0Ni3s7QP3BnSMzbGdI\\u002fZZNNNtlk0z9bv1Kg1q\\u002fUP1HrVwrU+tU\\u002fRhdddNFF1z88Q2LezpDYPzJvZ0jM29k\\u002fJ5tssskm2z8dx3Ecx3HcPxPzdobEvN0\\u002fCB988MEH3z9\\u002fpUCtXyngP3o7Q2LezuA\\u002fddFFF1104T9wZ0jM2xniP2r9SoFav+I\\u002fZZNNNtlk4z9gKVDrVwrkP1u\\u002fUqDWr+Q\\u002fVlVVVVVV5T9R61cK1PrlP0yBWr9SoOY\\u002fRhdddNFF5z9BrV8pUOvnPzxDYt7OkOg\\u002fN9lkk0026T8yb2dIzNvpPy0Fav1Kgeo\\u002fJ5tssskm6z8iMW9nSMzrPx3HcRzHcew\\u002fGF100UUX7T8T83aGxLztPw6JeTtDYu4\\u002fCB988MEH7z8DtX6lQK3vP3+lQK1fKfA\\u002fffDBBx988D96O0Ni3s7wP3eGxLydIfE\\u002fddFFF1108T9yHMdxHMfxP3BnSMzbGfI\\u002fbbLJJpts8j9q\\u002fUqBWr\\u002fyP2hIzNsZEvM\\u002fZZNNNtlk8z9j3s6QmLfzP2ApUOtXCvQ\\u002fXnTRRRdd9D9bv1Kg1q\\u002f0P1gK1PqVAvU\\u002fVlVVVVVV9T9ToNavFKj1P1HrVwrU+vU\\u002fTjbZZJNN9j9MgVq\\u002fUqD2P0nM2xkS8\\u002fY\\u002fRhdddNFF9z9EYt7OkJj3P0GtXylQ6\\u002fc\\u002fP\\u002fjggw8++D88Q2LezpD4PzmO4ziO4\\u002fg\\u002fN9lkk002+T80JObtDIn5PzJvZ0jM2\\u002fk\\u002fL7rooosu+j8tBWr9SoH6PypQ61cK1Po\\u002fJ5tssskm+z8l5u0MiXn7PyIxb2dIzPs\\u002fIHzwwQcf\\u002fD8dx3Ecx3H8PxsS83aGxPw\\u002fGF100UUX\\u002fT8VqPUrBWr9PxPzdobEvP0\\u002fED744IMP\\u002fj8OiXk7Q2L+PwvU+pUCtf4\\u002fCB988MEH\\u002fz8Gav1KgVr\\u002fPwO1fqVArf8\\u002fAAAAAAAAAEA=\"},\"xaxis\":\"x\",\"y\":{\"dtype\":\"f8\",\"bdata\":\"AAAAAAAA8D8AAAAAAADwPwAAAAAAAPA\\u002fAAAAAAAA8D8AAAAAAADwPwAAAAAAAPA\\u002fAAAAAAAA8D8AAAAAAADwPwAAAAAAAPA\\u002fAAAAAAAA8D8AAAAAAADwPwAAAAAAAPA\\u002fAAAAAAAA8D8AAAAAAADwPwAAAAAAAPA\\u002fAAAAAAAA8D8AAAAAAADwPwAAAAAAAPA\\u002fAAAAAAAA8D8AAAAAAADwPwAAAAAAAPA\\u002fAAAAAAAA8D8AAAAAAADwPwAAAAAAAPA\\u002fGdJi+a\\u002fgpMDYJJBeCtn5wOxAnvusmODACNriM5Z0ssDvZHAUsLdWwAAAAAAAAABAAAAAAAAAAEAAAAAAAAAAQAAAAAAAAABAAAAAAAAAAEAAAAAAAAAAQAAAAAAAAABAAAAAAAAAAEAAAAAAAAAAQAAAAAAAAABAAAAAAAAAAEAAAAAAAAAAQAAAAAAAAABAAAAAAAAAAEAAAAAAAAAAQAAAAAAAAABAAAAAAAAAAEAAAAAAAAAAQAAAAAAAAABAAAAAAAAAAEAAAAAAAAAAQDRL8cqhIwNA0pLjrHJmJMCc2vI0WBlWwAcVR8ZyD0jA7WRwFLA3D0AAAAAAAADwPwAAAAAAAPA\\u002fAAAAAAAA8D8AAAAAAADwPwAAAAAAAPA\\u002fAAAAAAAA8D8AAAAAAADwPwAAAAAAAPA\\u002fAAAAAAAA8D8AAAAAAADwPwAAAAAAAPA\\u002fAAAAAAAA8D8AAAAAAADwPwAAAAAAAPA\\u002fAAAAAAAA8D8AAAAAAADwPwAAAAAAAPA\\u002fAAAAAAAA8D8AAAAAAADwPwAAAAAAAPA\\u002fAAAAAAAA8D8AAAAAAADwPwAAAAAAAPA\\u002fAAAAAAAA8D8AAAAAAADwPwAAAAAAAPA\\u002fAAAAAAAA8D8AAAAAAADwPwAAAAAAAPA\\u002fAAAAAAAA8D8AAAAAAADwPwAAAAAAAPA\\u002fAAAAAAAA8D8AAAAAAADwPwAAAAAAAPA\\u002fAAAAAAAA8D8AAAAAAADwPwAAAAAAAPA\\u002fAAAAAAAA8D8AAAAAAADwPwAAAAAAAPA\\u002fAAAAAAAA8D8AAAAAAADwPwAAAAAAAPA\\u002fAAAAAAAA8D8=\"},\"yaxis\":\"y\",\"type\":\"scatter\"}],\"name\":\"5\"},{\"data\":[{\"hovertemplate\":\"variable=6\\u003cbr\\u003ex=%{x}\\u003cbr\\u003evalue=%{y}\\u003cextra\\u003e\\u003c\\u002fextra\\u003e\",\"legendgroup\":\"\",\"line\":{\"color\":\"#636efa\",\"dash\":\"solid\"},\"marker\":{\"symbol\":\"circle\"},\"mode\":\"lines\",\"name\":\"\",\"orientation\":\"v\",\"showlegend\":false,\"x\":{\"dtype\":\"f8\",\"bdata\":\"AAAAAAAAAABbv1Kg1q+UP1u\\u002fUqDWr6Q\\u002fCB988MEHrz9bv1Kg1q+0PzJvZ0jM27k\\u002fCB988MEHvz9wZ0jM2xnCP1u\\u002fUqDWr8Q\\u002fRhdddNFFxz8yb2dIzNvJPx3HcRzHccw\\u002fCB988MEHzz96O0Ni3s7QP3BnSMzbGdI\\u002fZZNNNtlk0z9bv1Kg1q\\u002fUP1HrVwrU+tU\\u002fRhdddNFF1z88Q2LezpDYPzJvZ0jM29k\\u002fJ5tssskm2z8dx3Ecx3HcPxPzdobEvN0\\u002fCB988MEH3z9\\u002fpUCtXyngP3o7Q2LezuA\\u002fddFFF1104T9wZ0jM2xniP2r9SoFav+I\\u002fZZNNNtlk4z9gKVDrVwrkP1u\\u002fUqDWr+Q\\u002fVlVVVVVV5T9R61cK1PrlP0yBWr9SoOY\\u002fRhdddNFF5z9BrV8pUOvnPzxDYt7OkOg\\u002fN9lkk0026T8yb2dIzNvpPy0Fav1Kgeo\\u002fJ5tssskm6z8iMW9nSMzrPx3HcRzHcew\\u002fGF100UUX7T8T83aGxLztPw6JeTtDYu4\\u002fCB988MEH7z8DtX6lQK3vP3+lQK1fKfA\\u002fffDBBx988D96O0Ni3s7wP3eGxLydIfE\\u002fddFFF1108T9yHMdxHMfxP3BnSMzbGfI\\u002fbbLJJpts8j9q\\u002fUqBWr\\u002fyP2hIzNsZEvM\\u002fZZNNNtlk8z9j3s6QmLfzP2ApUOtXCvQ\\u002fXnTRRRdd9D9bv1Kg1q\\u002f0P1gK1PqVAvU\\u002fVlVVVVVV9T9ToNavFKj1P1HrVwrU+vU\\u002fTjbZZJNN9j9MgVq\\u002fUqD2P0nM2xkS8\\u002fY\\u002fRhdddNFF9z9EYt7OkJj3P0GtXylQ6\\u002fc\\u002fP\\u002fjggw8++D88Q2LezpD4PzmO4ziO4\\u002fg\\u002fN9lkk002+T80JObtDIn5PzJvZ0jM2\\u002fk\\u002fL7rooosu+j8tBWr9SoH6PypQ61cK1Po\\u002fJ5tssskm+z8l5u0MiXn7PyIxb2dIzPs\\u002fIHzwwQcf\\u002fD8dx3Ecx3H8PxsS83aGxPw\\u002fGF100UUX\\u002fT8VqPUrBWr9PxPzdobEvP0\\u002fED744IMP\\u002fj8OiXk7Q2L+PwvU+pUCtf4\\u002fCB988MEH\\u002fz8Gav1KgVr\\u002fPwO1fqVArf8\\u002fAAAAAAAAAEA=\"},\"xaxis\":\"x\",\"y\":{\"dtype\":\"f8\",\"bdata\":\"AAAAAAAA8D8AAAAAAADwPwAAAAAAAPA\\u002fAAAAAAAA8D8AAAAAAADwPwAAAAAAAPA\\u002fAAAAAAAA8D8AAAAAAADwPwAAAAAAAPA\\u002fAAAAAAAA8D8AAAAAAADwPwAAAAAAAPA\\u002fAAAAAAAA8D8AAAAAAADwPwAAAAAAAPA\\u002fAAAAAAAA8D8AAAAAAADwPwAAAAAAAPA\\u002fAAAAAAAA8D8AAAAAAADwPwAAAAAAAPA\\u002fAAAAAAAA8D8AAAAAAADwPwAAAAAAAPA\\u002f3H9o9RveYMFVfj78YS8Jwt7IqrzjhuZBV7\\u002f50HhlpEHbFxMrS8wfQbVJfkxQe2zAAAAAAAAAAEAAAAAAAAAAQAAAAAAAAABAAAAAAAAAAEAAAAAAAAAAQAAAAAAAAABAAAAAAAAAAEAAAAAAAAAAQAAAAAAAAABAAAAAAAAAAEAAAAAAAAAAQAAAAAAAAABAAAAAAAAAAEAAAAAAAAAAQAAAAAAAAABAAAAAAAAAAEAAAAAAAAAAQAAAAAAAAABAAAAAAAAAAEAAAAAAAAAAQC47WTDPsPM\\u002f15l2Ic8kZcDbcJ4+IOHAwBvdYz1\\u002fXKJAfo8N2w7qbsDZJD8mqF0SQAAAAAAAAPA\\u002fAAAAAAAA8D8AAAAAAADwPwAAAAAAAPA\\u002fAAAAAAAA8D8AAAAAAADwPwAAAAAAAPA\\u002fAAAAAAAA8D8AAAAAAADwPwAAAAAAAPA\\u002fAAAAAAAA8D8AAAAAAADwPwAAAAAAAPA\\u002fAAAAAAAA8D8AAAAAAADwPwAAAAAAAPA\\u002fAAAAAAAA8D8AAAAAAADwPwAAAAAAAPA\\u002fAAAAAAAA8D8AAAAAAADwPwAAAAAAAPA\\u002fAAAAAAAA8D8AAAAAAADwPwAAAAAAAPA\\u002fAAAAAAAA8D8AAAAAAADwPwAAAAAAAPA\\u002fAAAAAAAA8D8AAAAAAADwPwAAAAAAAPA\\u002fAAAAAAAA8D8AAAAAAADwPwAAAAAAAPA\\u002fAAAAAAAA8D8AAAAAAADwPwAAAAAAAPA\\u002fAAAAAAAA8D8AAAAAAADwPwAAAAAAAPA\\u002fAAAAAAAA8D8AAAAAAADwPwAAAAAAAPA\\u002fAAAAAAAA8D8=\"},\"yaxis\":\"y\",\"type\":\"scatter\"}],\"name\":\"6\"},{\"data\":[{\"hovertemplate\":\"variable=7\\u003cbr\\u003ex=%{x}\\u003cbr\\u003evalue=%{y}\\u003cextra\\u003e\\u003c\\u002fextra\\u003e\",\"legendgroup\":\"\",\"line\":{\"color\":\"#636efa\",\"dash\":\"solid\"},\"marker\":{\"symbol\":\"circle\"},\"mode\":\"lines\",\"name\":\"\",\"orientation\":\"v\",\"showlegend\":false,\"x\":{\"dtype\":\"f8\",\"bdata\":\"AAAAAAAAAABbv1Kg1q+UP1u\\u002fUqDWr6Q\\u002fCB988MEHrz9bv1Kg1q+0PzJvZ0jM27k\\u002fCB988MEHvz9wZ0jM2xnCP1u\\u002fUqDWr8Q\\u002fRhdddNFFxz8yb2dIzNvJPx3HcRzHccw\\u002fCB988MEHzz96O0Ni3s7QP3BnSMzbGdI\\u002fZZNNNtlk0z9bv1Kg1q\\u002fUP1HrVwrU+tU\\u002fRhdddNFF1z88Q2LezpDYPzJvZ0jM29k\\u002fJ5tssskm2z8dx3Ecx3HcPxPzdobEvN0\\u002fCB988MEH3z9\\u002fpUCtXyngP3o7Q2LezuA\\u002fddFFF1104T9wZ0jM2xniP2r9SoFav+I\\u002fZZNNNtlk4z9gKVDrVwrkP1u\\u002fUqDWr+Q\\u002fVlVVVVVV5T9R61cK1PrlP0yBWr9SoOY\\u002fRhdddNFF5z9BrV8pUOvnPzxDYt7OkOg\\u002fN9lkk0026T8yb2dIzNvpPy0Fav1Kgeo\\u002fJ5tssskm6z8iMW9nSMzrPx3HcRzHcew\\u002fGF100UUX7T8T83aGxLztPw6JeTtDYu4\\u002fCB988MEH7z8DtX6lQK3vP3+lQK1fKfA\\u002fffDBBx988D96O0Ni3s7wP3eGxLydIfE\\u002fddFFF1108T9yHMdxHMfxP3BnSMzbGfI\\u002fbbLJJpts8j9q\\u002fUqBWr\\u002fyP2hIzNsZEvM\\u002fZZNNNtlk8z9j3s6QmLfzP2ApUOtXCvQ\\u002fXnTRRRdd9D9bv1Kg1q\\u002f0P1gK1PqVAvU\\u002fVlVVVVVV9T9ToNavFKj1P1HrVwrU+vU\\u002fTjbZZJNN9j9MgVq\\u002fUqD2P0nM2xkS8\\u002fY\\u002fRhdddNFF9z9EYt7OkJj3P0GtXylQ6\\u002fc\\u002fP\\u002fjggw8++D88Q2LezpD4PzmO4ziO4\\u002fg\\u002fN9lkk002+T80JObtDIn5PzJvZ0jM2\\u002fk\\u002fL7rooosu+j8tBWr9SoH6PypQ61cK1Po\\u002fJ5tssskm+z8l5u0MiXn7PyIxb2dIzPs\\u002fIHzwwQcf\\u002fD8dx3Ecx3H8PxsS83aGxPw\\u002fGF100UUX\\u002fT8VqPUrBWr9PxPzdobEvP0\\u002fED744IMP\\u002fj8OiXk7Q2L+PwvU+pUCtf4\\u002fCB988MEH\\u002fz8Gav1KgVr\\u002fPwO1fqVArf8\\u002fAAAAAAAAAEA=\"},\"xaxis\":\"x\",\"y\":{\"dtype\":\"f8\",\"bdata\":\"AAAAAAAA8D8AAAAAAADwPwAAAAAAAPA\\u002fAAAAAAAA8D8AAAAAAADwPwAAAAAAAPA\\u002fAAAAAAAA8D8AAAAAAADwPwAAAAAAAPA\\u002fAAAAAAAA8D8AAAAAAADwPwAAAAAAAPA\\u002fAAAAAAAA8D8AAAAAAADwPwAAAAAAAPA\\u002fAAAAAAAA8D8AAAAAAADwPwAAAAAAAPA\\u002fAAAAAAAA8D8AAAAAAADwPwAAAAAAAPA\\u002fAAAAAAAA8D8AAAAAAADwPwAAAAAAAPA\\u002fgeeeDW0B1sJRjWTgWYMoxNaSohio2ArEDJK8u1HDoEPiIQKKPAHZQqi3BQL+hKHBaIpUrxm3gcAAAAAAAAAAQAAAAAAAAABAAAAAAAAAAEAAAAAAAAAAQAAAAAAAAABAAAAAAAAAAEAAAAAAAAAAQAAAAAAAAABAAAAAAAAAAEAAAAAAAAAAQAAAAAAAAABAAAAAAAAAAEAAAAAAAAAAQAAAAAAAAABAAAAAAAAAAEAAAAAAAAAAQAAAAAAAAABAAAAAAAAAAEAAAAAAAAAAQBQXUPr0NwNAgL5dRDx\\u002f4cADCrCEaZuVwWvZkjrVfH7BWBOXb8ZEKMGOqWjM4UqWwGaKVK8ZxxVAAAAAAAAA8D8AAAAAAADwPwAAAAAAAPA\\u002fAAAAAAAA8D8AAAAAAADwPwAAAAAAAPA\\u002fAAAAAAAA8D8AAAAAAADwPwAAAAAAAPA\\u002fAAAAAAAA8D8AAAAAAADwPwAAAAAAAPA\\u002fAAAAAAAA8D8AAAAAAADwPwAAAAAAAPA\\u002fAAAAAAAA8D8AAAAAAADwPwAAAAAAAPA\\u002fAAAAAAAA8D8AAAAAAADwPwAAAAAAAPA\\u002fAAAAAAAA8D8AAAAAAADwPwAAAAAAAPA\\u002fAAAAAAAA8D8AAAAAAADwPwAAAAAAAPA\\u002fAAAAAAAA8D8AAAAAAADwPwAAAAAAAPA\\u002fAAAAAAAA8D8AAAAAAADwPwAAAAAAAPA\\u002fAAAAAAAA8D8AAAAAAADwPwAAAAAAAPA\\u002fAAAAAAAA8D8AAAAAAADwPwAAAAAAAPA\\u002fAAAAAAAA8D8AAAAAAADwPwAAAAAAAPA\\u002fAAAAAAAA8D8=\"},\"yaxis\":\"y\",\"type\":\"scatter\"}],\"name\":\"7\"},{\"data\":[{\"hovertemplate\":\"variable=8\\u003cbr\\u003ex=%{x}\\u003cbr\\u003evalue=%{y}\\u003cextra\\u003e\\u003c\\u002fextra\\u003e\",\"legendgroup\":\"\",\"line\":{\"color\":\"#636efa\",\"dash\":\"solid\"},\"marker\":{\"symbol\":\"circle\"},\"mode\":\"lines\",\"name\":\"\",\"orientation\":\"v\",\"showlegend\":false,\"x\":{\"dtype\":\"f8\",\"bdata\":\"AAAAAAAAAABbv1Kg1q+UP1u\\u002fUqDWr6Q\\u002fCB988MEHrz9bv1Kg1q+0PzJvZ0jM27k\\u002fCB988MEHvz9wZ0jM2xnCP1u\\u002fUqDWr8Q\\u002fRhdddNFFxz8yb2dIzNvJPx3HcRzHccw\\u002fCB988MEHzz96O0Ni3s7QP3BnSMzbGdI\\u002fZZNNNtlk0z9bv1Kg1q\\u002fUP1HrVwrU+tU\\u002fRhdddNFF1z88Q2LezpDYPzJvZ0jM29k\\u002fJ5tssskm2z8dx3Ecx3HcPxPzdobEvN0\\u002fCB988MEH3z9\\u002fpUCtXyngP3o7Q2LezuA\\u002fddFFF1104T9wZ0jM2xniP2r9SoFav+I\\u002fZZNNNtlk4z9gKVDrVwrkP1u\\u002fUqDWr+Q\\u002fVlVVVVVV5T9R61cK1PrlP0yBWr9SoOY\\u002fRhdddNFF5z9BrV8pUOvnPzxDYt7OkOg\\u002fN9lkk0026T8yb2dIzNvpPy0Fav1Kgeo\\u002fJ5tssskm6z8iMW9nSMzrPx3HcRzHcew\\u002fGF100UUX7T8T83aGxLztPw6JeTtDYu4\\u002fCB988MEH7z8DtX6lQK3vP3+lQK1fKfA\\u002fffDBBx988D96O0Ni3s7wP3eGxLydIfE\\u002fddFFF1108T9yHMdxHMfxP3BnSMzbGfI\\u002fbbLJJpts8j9q\\u002fUqBWr\\u002fyP2hIzNsZEvM\\u002fZZNNNtlk8z9j3s6QmLfzP2ApUOtXCvQ\\u002fXnTRRRdd9D9bv1Kg1q\\u002f0P1gK1PqVAvU\\u002fVlVVVVVV9T9ToNavFKj1P1HrVwrU+vU\\u002fTjbZZJNN9j9MgVq\\u002fUqD2P0nM2xkS8\\u002fY\\u002fRhdddNFF9z9EYt7OkJj3P0GtXylQ6\\u002fc\\u002fP\\u002fjggw8++D88Q2LezpD4PzmO4ziO4\\u002fg\\u002fN9lkk002+T80JObtDIn5PzJvZ0jM2\\u002fk\\u002fL7rooosu+j8tBWr9SoH6PypQ61cK1Po\\u002fJ5tssskm+z8l5u0MiXn7PyIxb2dIzPs\\u002fIHzwwQcf\\u002fD8dx3Ecx3H8PxsS83aGxPw\\u002fGF100UUX\\u002fT8VqPUrBWr9PxPzdobEvP0\\u002fED744IMP\\u002fj8OiXk7Q2L+PwvU+pUCtf4\\u002fCB988MEH\\u002fz8Gav1KgVr\\u002fPwO1fqVArf8\\u002fAAAAAAAAAEA=\"},\"xaxis\":\"x\",\"y\":{\"dtype\":\"f8\",\"bdata\":\"AAAAAAAA8D8AAAAAAADwPwAAAAAAAPA\\u002fAAAAAAAA8D8AAAAAAADwPwAAAAAAAPA\\u002fAAAAAAAA8D8AAAAAAADwPwAAAAAAAPA\\u002fAAAAAAAA8D8AAAAAAADwPwAAAAAAAPA\\u002fAAAAAAAA8D8AAAAAAADwPwAAAAAAAPA\\u002fAAAAAAAA8D8AAAAAAADwPwAAAAAAAPA\\u002fAAAAAAAA8D8AAAAAAADwPwAAAAAAAPA\\u002fAAAAAAAA8D8AAAAAAADwPwAAAAAAAPA\\u002fjVno1ga6wsUQ98v90jxnyOlr+mJCe0JIYZ9G9bOSwceOBppI4TSQRuEdS4Tr8JDEyWNSRCUBOEJHa8WV\\u002fPeVwAAAAAAAAABAAAAAAAAAAEAAAAAAAAAAQAAAAAAAAABAAAAAAAAAAEAAAAAAAAAAQAAAAAAAAABAAAAAAAAAAEAAAAAAAAAAQAAAAAAAAABAAAAAAAAAAEAAAAAAAAAAQAAAAAAAAABAAAAAAAAAAEAAAAAAAAAAQAAAAAAAAABAAAAAAAAAAEAAAAAAAAAAQJy9gXffTPM\\u002fqv6FNzmu18HdJpT8JAxCw7+rdxMcfSBDR1I\\u002fQrzmu0K+QBA7YOLUQZPn0sTf1cLARWvFlfz\\u002fGUAAAAAAAADwPwAAAAAAAPA\\u002fAAAAAAAA8D8AAAAAAADwPwAAAAAAAPA\\u002fAAAAAAAA8D8AAAAAAADwPwAAAAAAAPA\\u002fAAAAAAAA8D8AAAAAAADwPwAAAAAAAPA\\u002fAAAAAAAA8D8AAAAAAADwPwAAAAAAAPA\\u002fAAAAAAAA8D8AAAAAAADwPwAAAAAAAPA\\u002fAAAAAAAA8D8AAAAAAADwPwAAAAAAAPA\\u002fAAAAAAAA8D8AAAAAAADwPwAAAAAAAPA\\u002fAAAAAAAA8D8AAAAAAADwPwAAAAAAAPA\\u002fAAAAAAAA8D8AAAAAAADwPwAAAAAAAPA\\u002fAAAAAAAA8D8AAAAAAADwPwAAAAAAAPA\\u002fAAAAAAAA8D8AAAAAAADwPwAAAAAAAPA\\u002fAAAAAAAA8D8AAAAAAADwPwAAAAAAAPA\\u002fAAAAAAAA8D8AAAAAAADwPwAAAAAAAPA\\u002fAAAAAAAA8D8=\"},\"yaxis\":\"y\",\"type\":\"scatter\"}],\"name\":\"8\"},{\"data\":[{\"hovertemplate\":\"variable=9\\u003cbr\\u003ex=%{x}\\u003cbr\\u003evalue=%{y}\\u003cextra\\u003e\\u003c\\u002fextra\\u003e\",\"legendgroup\":\"\",\"line\":{\"color\":\"#636efa\",\"dash\":\"solid\"},\"marker\":{\"symbol\":\"circle\"},\"mode\":\"lines\",\"name\":\"\",\"orientation\":\"v\",\"showlegend\":false,\"x\":{\"dtype\":\"f8\",\"bdata\":\"AAAAAAAAAABbv1Kg1q+UP1u\\u002fUqDWr6Q\\u002fCB988MEHrz9bv1Kg1q+0PzJvZ0jM27k\\u002fCB988MEHvz9wZ0jM2xnCP1u\\u002fUqDWr8Q\\u002fRhdddNFFxz8yb2dIzNvJPx3HcRzHccw\\u002fCB988MEHzz96O0Ni3s7QP3BnSMzbGdI\\u002fZZNNNtlk0z9bv1Kg1q\\u002fUP1HrVwrU+tU\\u002fRhdddNFF1z88Q2LezpDYPzJvZ0jM29k\\u002fJ5tssskm2z8dx3Ecx3HcPxPzdobEvN0\\u002fCB988MEH3z9\\u002fpUCtXyngP3o7Q2LezuA\\u002fddFFF1104T9wZ0jM2xniP2r9SoFav+I\\u002fZZNNNtlk4z9gKVDrVwrkP1u\\u002fUqDWr+Q\\u002fVlVVVVVV5T9R61cK1PrlP0yBWr9SoOY\\u002fRhdddNFF5z9BrV8pUOvnPzxDYt7OkOg\\u002fN9lkk0026T8yb2dIzNvpPy0Fav1Kgeo\\u002fJ5tssskm6z8iMW9nSMzrPx3HcRzHcew\\u002fGF100UUX7T8T83aGxLztPw6JeTtDYu4\\u002fCB988MEH7z8DtX6lQK3vP3+lQK1fKfA\\u002fffDBBx988D96O0Ni3s7wP3eGxLydIfE\\u002fddFFF1108T9yHMdxHMfxP3BnSMzbGfI\\u002fbbLJJpts8j9q\\u002fUqBWr\\u002fyP2hIzNsZEvM\\u002fZZNNNtlk8z9j3s6QmLfzP2ApUOtXCvQ\\u002fXnTRRRdd9D9bv1Kg1q\\u002f0P1gK1PqVAvU\\u002fVlVVVVVV9T9ToNavFKj1P1HrVwrU+vU\\u002fTjbZZJNN9j9MgVq\\u002fUqD2P0nM2xkS8\\u002fY\\u002fRhdddNFF9z9EYt7OkJj3P0GtXylQ6\\u002fc\\u002fP\\u002fjggw8++D88Q2LezpD4PzmO4ziO4\\u002fg\\u002fN9lkk002+T80JObtDIn5PzJvZ0jM2\\u002fk\\u002fL7rooosu+j8tBWr9SoH6PypQ61cK1Po\\u002fJ5tssskm+z8l5u0MiXn7PyIxb2dIzPs\\u002fIHzwwQcf\\u002fD8dx3Ecx3H8PxsS83aGxPw\\u002fGF100UUX\\u002fT8VqPUrBWr9PxPzdobEvP0\\u002fED744IMP\\u002fj8OiXk7Q2L+PwvU+pUCtf4\\u002fCB988MEH\\u002fz8Gav1KgVr\\u002fPwO1fqVArf8\\u002fAAAAAAAAAEA=\"},\"xaxis\":\"x\",\"y\":{\"dtype\":\"f8\",\"bdata\":\"AAAAAAAA8D8AAAAAAADwPwAAAAAAAPA\\u002fAAAAAAAA8D8AAAAAAADwPwAAAAAAAPA\\u002fAAAAAAAA8D8AAAAAAADwPwAAAAAAAPA\\u002fAAAAAAAA8D8AAAAAAADwPwAAAAAAAPA\\u002fAAAAAAAA8D8AAAAAAADwPwAAAAAAAPA\\u002fAAAAAAAA8D8AAAAAAADwPwAAAAAAAPA\\u002fAAAAAAAA8D8AAAAAAADwPwAAAAAAAPA\\u002fAAAAAAAA8D8AAAAAAADwPwAAAAAAAPA\\u002fGkPImJ8fm8vD9u8A3OHk0LYkcjwU6cPQ0Xqr4HM2GdBblmoOBwdmzqDOHv05PDXLG8papOhz38YbPVJmvGTkwvXnvV+VNavAAAAAAAAAAEAAAAAAAAAAQAAAAAAAAABAAAAAAAAAAEAAAAAAAAAAQAAAAAAAAABAAAAAAAAAAEAAAAAAAAAAQAAAAAAAAABAAAAAAAAAAEAAAAAAAAAAQAAAAAAAAABAAAAAAAAAAEAAAAAAAAAAQAAAAAAAAABAAAAAAAAAAEAAAAAAAAAAQLXqtsABIQNA8Qwk05yvxcPYxgjvDjGZxtekmZnbRXzGIFcdfFmO8UU80ttcdIimRK3+r+esbK7Ch4S0cxjz8sDy571flTkfQAAAAAAAAPA\\u002fAAAAAAAA8D8AAAAAAADwPwAAAAAAAPA\\u002fAAAAAAAA8D8AAAAAAADwPwAAAAAAAPA\\u002fAAAAAAAA8D8AAAAAAADwPwAAAAAAAPA\\u002fAAAAAAAA8D8AAAAAAADwPwAAAAAAAPA\\u002fAAAAAAAA8D8AAAAAAADwPwAAAAAAAPA\\u002fAAAAAAAA8D8AAAAAAADwPwAAAAAAAPA\\u002fAAAAAAAA8D8AAAAAAADwPwAAAAAAAPA\\u002fAAAAAAAA8D8AAAAAAADwPwAAAAAAAPA\\u002fAAAAAAAA8D8AAAAAAADwPwAAAAAAAPA\\u002fAAAAAAAA8D8AAAAAAADwPwAAAAAAAPA\\u002fAAAAAAAA8D8AAAAAAADwPwAAAAAAAPA\\u002fAAAAAAAA8D8AAAAAAADwPwAAAAAAAPA\\u002fAAAAAAAA8D8AAAAAAADwPwAAAAAAAPA\\u002fAAAAAAAA8D8=\"},\"yaxis\":\"y\",\"type\":\"scatter\"}],\"name\":\"9\"},{\"data\":[{\"hovertemplate\":\"variable=10\\u003cbr\\u003ex=%{x}\\u003cbr\\u003evalue=%{y}\\u003cextra\\u003e\\u003c\\u002fextra\\u003e\",\"legendgroup\":\"\",\"line\":{\"color\":\"#636efa\",\"dash\":\"solid\"},\"marker\":{\"symbol\":\"circle\"},\"mode\":\"lines\",\"name\":\"\",\"orientation\":\"v\",\"showlegend\":false,\"x\":{\"dtype\":\"f8\",\"bdata\":\"AAAAAAAAAABbv1Kg1q+UP1u\\u002fUqDWr6Q\\u002fCB988MEHrz9bv1Kg1q+0PzJvZ0jM27k\\u002fCB988MEHvz9wZ0jM2xnCP1u\\u002fUqDWr8Q\\u002fRhdddNFFxz8yb2dIzNvJPx3HcRzHccw\\u002fCB988MEHzz96O0Ni3s7QP3BnSMzbGdI\\u002fZZNNNtlk0z9bv1Kg1q\\u002fUP1HrVwrU+tU\\u002fRhdddNFF1z88Q2LezpDYPzJvZ0jM29k\\u002fJ5tssskm2z8dx3Ecx3HcPxPzdobEvN0\\u002fCB988MEH3z9\\u002fpUCtXyngP3o7Q2LezuA\\u002fddFFF1104T9wZ0jM2xniP2r9SoFav+I\\u002fZZNNNtlk4z9gKVDrVwrkP1u\\u002fUqDWr+Q\\u002fVlVVVVVV5T9R61cK1PrlP0yBWr9SoOY\\u002fRhdddNFF5z9BrV8pUOvnPzxDYt7OkOg\\u002fN9lkk0026T8yb2dIzNvpPy0Fav1Kgeo\\u002fJ5tssskm6z8iMW9nSMzrPx3HcRzHcew\\u002fGF100UUX7T8T83aGxLztPw6JeTtDYu4\\u002fCB988MEH7z8DtX6lQK3vP3+lQK1fKfA\\u002fffDBBx988D96O0Ni3s7wP3eGxLydIfE\\u002fddFFF1108T9yHMdxHMfxP3BnSMzbGfI\\u002fbbLJJpts8j9q\\u002fUqBWr\\u002fyP2hIzNsZEvM\\u002fZZNNNtlk8z9j3s6QmLfzP2ApUOtXCvQ\\u002fXnTRRRdd9D9bv1Kg1q\\u002f0P1gK1PqVAvU\\u002fVlVVVVVV9T9ToNavFKj1P1HrVwrU+vU\\u002fTjbZZJNN9j9MgVq\\u002fUqD2P0nM2xkS8\\u002fY\\u002fRhdddNFF9z9EYt7OkJj3P0GtXylQ6\\u002fc\\u002fP\\u002fjggw8++D88Q2LezpD4PzmO4ziO4\\u002fg\\u002fN9lkk002+T80JObtDIn5PzJvZ0jM2\\u002fk\\u002fL7rooosu+j8tBWr9SoH6PypQ61cK1Po\\u002fJ5tssskm+z8l5u0MiXn7PyIxb2dIzPs\\u002fIHzwwQcf\\u002fD8dx3Ecx3H8PxsS83aGxPw\\u002fGF100UUX\\u002fT8VqPUrBWr9PxPzdobEvP0\\u002fED744IMP\\u002fj8OiXk7Q2L+PwvU+pUCtf4\\u002fCB988MEH\\u002fz8Gav1KgVr\\u002fPwO1fqVArf8\\u002fAAAAAAAAAEA=\"},\"xaxis\":\"x\",\"y\":{\"dtype\":\"f8\",\"bdata\":\"AAAAAAAA8D8AAAAAAADwPwAAAAAAAPA\\u002fAAAAAAAA8D8AAAAAAADwPwAAAAAAAPA\\u002fAAAAAAAA8D8AAAAAAADwPwAAAAAAAPA\\u002fAAAAAAAA8D8AAAAAAADwPwAAAAAAAPA\\u002fAAAAAAAA8D8AAAAAAADwPwAAAAAAAPA\\u002fAAAAAAAA8D8AAAAAAADwPwAAAAAAAPA\\u002fAAAAAAAA8D8AAAAAAADwPwAAAAAAAPA\\u002fAAAAAAAA8D8AAAAAAADwPwAAAAAAAPA\\u002flfAOKEpzTNeYSdcQFd3g4UkXwWgLfrhhKohcxLFm82DkVt3lLXqVXmWqsIjPFrJZ8jcnT0nUKVITbSNVLc7YSYPVVf1wdaVDU7RwBm7XwMAAAAAAAAAAQAAAAAAAAABAAAAAAAAAAEAAAAAAAAAAQAAAAAAAAABAAAAAAAAAAEAAAAAAAAAAQAAAAAAAAABAAAAAAAAAAEAAAAAAAAAAQAAAAAAAAABAAAAAAAAAAEAAAAAAAAAAQAAAAAAAAABAAAAAAAAAAEAAAAAAAAAAQK8dLO2kvfM\\u002fc3kAwMovosfzsbnyuIpIzeH2J3DF0CNNx1\\u002fQp+I9g8z5HCBhspiuShb8l\\u002foBg2rHf4r5+KpLtkMKCbAjW+ImwVG0cAZu2CJAAAAAAAAA8D8AAAAAAADwPwAAAAAAAPA\\u002fAAAAAAAA8D8AAAAAAADwPwAAAAAAAPA\\u002fAAAAAAAA8D8AAAAAAADwPwAAAAAAAPA\\u002fAAAAAAAA8D8AAAAAAADwPwAAAAAAAPA\\u002fAAAAAAAA8D8AAAAAAADwPwAAAAAAAPA\\u002fAAAAAAAA8D8AAAAAAADwPwAAAAAAAPA\\u002fAAAAAAAA8D8AAAAAAADwPwAAAAAAAPA\\u002fAAAAAAAA8D8AAAAAAADwPwAAAAAAAPA\\u002fAAAAAAAA8D8AAAAAAADwPwAAAAAAAPA\\u002fAAAAAAAA8D8AAAAAAADwPwAAAAAAAPA\\u002fAAAAAAAA8D8AAAAAAADwPwAAAAAAAPA\\u002fAAAAAAAA8D8AAAAAAADwPwAAAAAAAPA\\u002fAAAAAAAA8D8AAAAAAADwPwAAAAAAAPA\\u002fAAAAAAAA8D8=\"},\"yaxis\":\"y\",\"type\":\"scatter\"}],\"name\":\"10\"},{\"data\":[{\"hovertemplate\":\"variable=11\\u003cbr\\u003ex=%{x}\\u003cbr\\u003evalue=%{y}\\u003cextra\\u003e\\u003c\\u002fextra\\u003e\",\"legendgroup\":\"\",\"line\":{\"color\":\"#636efa\",\"dash\":\"solid\"},\"marker\":{\"symbol\":\"circle\"},\"mode\":\"lines\",\"name\":\"\",\"orientation\":\"v\",\"showlegend\":false,\"x\":{\"dtype\":\"f8\",\"bdata\":\"AAAAAAAAAABbv1Kg1q+UP1u\\u002fUqDWr6Q\\u002fCB988MEHrz9bv1Kg1q+0PzJvZ0jM27k\\u002fCB988MEHvz9wZ0jM2xnCP1u\\u002fUqDWr8Q\\u002fRhdddNFFxz8yb2dIzNvJPx3HcRzHccw\\u002fCB988MEHzz96O0Ni3s7QP3BnSMzbGdI\\u002fZZNNNtlk0z9bv1Kg1q\\u002fUP1HrVwrU+tU\\u002fRhdddNFF1z88Q2LezpDYPzJvZ0jM29k\\u002fJ5tssskm2z8dx3Ecx3HcPxPzdobEvN0\\u002fCB988MEH3z9\\u002fpUCtXyngP3o7Q2LezuA\\u002fddFFF1104T9wZ0jM2xniP2r9SoFav+I\\u002fZZNNNtlk4z9gKVDrVwrkP1u\\u002fUqDWr+Q\\u002fVlVVVVVV5T9R61cK1PrlP0yBWr9SoOY\\u002fRhdddNFF5z9BrV8pUOvnPzxDYt7OkOg\\u002fN9lkk0026T8yb2dIzNvpPy0Fav1Kgeo\\u002fJ5tssskm6z8iMW9nSMzrPx3HcRzHcew\\u002fGF100UUX7T8T83aGxLztPw6JeTtDYu4\\u002fCB988MEH7z8DtX6lQK3vP3+lQK1fKfA\\u002fffDBBx988D96O0Ni3s7wP3eGxLydIfE\\u002fddFFF1108T9yHMdxHMfxP3BnSMzbGfI\\u002fbbLJJpts8j9q\\u002fUqBWr\\u002fyP2hIzNsZEvM\\u002fZZNNNtlk8z9j3s6QmLfzP2ApUOtXCvQ\\u002fXnTRRRdd9D9bv1Kg1q\\u002f0P1gK1PqVAvU\\u002fVlVVVVVV9T9ToNavFKj1P1HrVwrU+vU\\u002fTjbZZJNN9j9MgVq\\u002fUqD2P0nM2xkS8\\u002fY\\u002fRhdddNFF9z9EYt7OkJj3P0GtXylQ6\\u002fc\\u002fP\\u002fjggw8++D88Q2LezpD4PzmO4ziO4\\u002fg\\u002fN9lkk002+T80JObtDIn5PzJvZ0jM2\\u002fk\\u002fL7rooosu+j8tBWr9SoH6PypQ61cK1Po\\u002fJ5tssskm+z8l5u0MiXn7PyIxb2dIzPs\\u002fIHzwwQcf\\u002fD8dx3Ecx3H8PxsS83aGxPw\\u002fGF100UUX\\u002fT8VqPUrBWr9PxPzdobEvP0\\u002fED744IMP\\u002fj8OiXk7Q2L+PwvU+pUCtf4\\u002fCB988MEH\\u002fz8Gav1KgVr\\u002fPwO1fqVArf8\\u002fAAAAAAAAAEA=\"},\"xaxis\":\"x\",\"y\":{\"dtype\":\"f8\",\"bdata\":\"AAAAAAAA8D8AAAAAAADwPwAAAAAAAPA\\u002fAAAAAAAA8D8AAAAAAADwPwAAAAAAAPA\\u002fAAAAAAAA8D8AAAAAAADwPwAAAAAAAPA\\u002fAAAAAAAA8D8AAAAAAADwPwAAAAAAAPA\\u002fAAAAAAAA8D8AAAAAAADwPwAAAAAAAPA\\u002fAAAAAAAA8D8AAAAAAADwPwAAAAAAAPA\\u002fAAAAAAAA8D8AAAAAAADwPwAAAAAAAPA\\u002fAAAAAAAA8D8AAAAAAADwPwAAAAAAAPA\\u002fnITeNUhNr+4AAAAAAADw\\u002fwAAAAAAAPD\\u002fAAAAAAAA8H9zEFfpKh2gfyry4VVjDF54rNh4Vo4R8mvCoj6u+MYYXLO0+UWylZRNrPVAwa7ze8Qn35HBIdjUwAAAAAAAAABAAAAAAAAAAEAAAAAAAAAAQAAAAAAAAABAAAAAAAAAAEAAAAAAAAAAQAAAAAAAAABAAAAAAAAAAEAAAAAAAAAAQAAAAAAAAABAAAAAAAAAAEAAAAAAAAAAQAAAAAAAAABAAAAAAAAAAEAAAAAAAAAAQGSKQZCvOgNAaD+u\\u002ffWUWc8cnSiCz0qn2j\\u002ffgAtKmobaNJNDzZmEvdkau6Gpa8RG1\\u002f3sig+LXi\\u002fSboZgjNbbNsubUVrEJLvzxPqPMoyMrWDBJN+RwaHYJkAAAAAAAADwPwAAAAAAAPA\\u002fAAAAAAAA8D8AAAAAAADwPwAAAAAAAPA\\u002fAAAAAAAA8D8AAAAAAADwPwAAAAAAAPA\\u002fAAAAAAAA8D8AAAAAAADwPwAAAAAAAPA\\u002fAAAAAAAA8D8AAAAAAADwPwAAAAAAAPA\\u002fAAAAAAAA8D8AAAAAAADwPwAAAAAAAPA\\u002fAAAAAAAA8D8AAAAAAADwPwAAAAAAAPA\\u002fAAAAAAAA8D8AAAAAAADwPwAAAAAAAPA\\u002fAAAAAAAA8D8AAAAAAADwPwAAAAAAAPA\\u002fAAAAAAAA8D8AAAAAAADwPwAAAAAAAPA\\u002fAAAAAAAA8D8AAAAAAADwPwAAAAAAAPA\\u002fAAAAAAAA8D8AAAAAAADwPwAAAAAAAPA\\u002fAAAAAAAA8D8AAAAAAADwPwAAAAAAAPA\\u002fAAAAAAAA8D8=\"},\"yaxis\":\"y\",\"type\":\"scatter\"}],\"name\":\"11\"},{\"data\":[{\"hovertemplate\":\"variable=12\\u003cbr\\u003ex=%{x}\\u003cbr\\u003evalue=%{y}\\u003cextra\\u003e\\u003c\\u002fextra\\u003e\",\"legendgroup\":\"\",\"line\":{\"color\":\"#636efa\",\"dash\":\"solid\"},\"marker\":{\"symbol\":\"circle\"},\"mode\":\"lines\",\"name\":\"\",\"orientation\":\"v\",\"showlegend\":false,\"x\":{\"dtype\":\"f8\",\"bdata\":\"AAAAAAAAAABbv1Kg1q+UP1u\\u002fUqDWr6Q\\u002fCB988MEHrz9bv1Kg1q+0PzJvZ0jM27k\\u002fCB988MEHvz9wZ0jM2xnCP1u\\u002fUqDWr8Q\\u002fRhdddNFFxz8yb2dIzNvJPx3HcRzHccw\\u002fCB988MEHzz96O0Ni3s7QP3BnSMzbGdI\\u002fZZNNNtlk0z9bv1Kg1q\\u002fUP1HrVwrU+tU\\u002fRhdddNFF1z88Q2LezpDYPzJvZ0jM29k\\u002fJ5tssskm2z8dx3Ecx3HcPxPzdobEvN0\\u002fCB988MEH3z9\\u002fpUCtXyngP3o7Q2LezuA\\u002fddFFF1104T9wZ0jM2xniP2r9SoFav+I\\u002fZZNNNtlk4z9gKVDrVwrkP1u\\u002fUqDWr+Q\\u002fVlVVVVVV5T9R61cK1PrlP0yBWr9SoOY\\u002fRhdddNFF5z9BrV8pUOvnPzxDYt7OkOg\\u002fN9lkk0026T8yb2dIzNvpPy0Fav1Kgeo\\u002fJ5tssskm6z8iMW9nSMzrPx3HcRzHcew\\u002fGF100UUX7T8T83aGxLztPw6JeTtDYu4\\u002fCB988MEH7z8DtX6lQK3vP3+lQK1fKfA\\u002fffDBBx988D96O0Ni3s7wP3eGxLydIfE\\u002fddFFF1108T9yHMdxHMfxP3BnSMzbGfI\\u002fbbLJJpts8j9q\\u002fUqBWr\\u002fyP2hIzNsZEvM\\u002fZZNNNtlk8z9j3s6QmLfzP2ApUOtXCvQ\\u002fXnTRRRdd9D9bv1Kg1q\\u002f0P1gK1PqVAvU\\u002fVlVVVVVV9T9ToNavFKj1P1HrVwrU+vU\\u002fTjbZZJNN9j9MgVq\\u002fUqD2P0nM2xkS8\\u002fY\\u002fRhdddNFF9z9EYt7OkJj3P0GtXylQ6\\u002fc\\u002fP\\u002fjggw8++D88Q2LezpD4PzmO4ziO4\\u002fg\\u002fN9lkk002+T80JObtDIn5PzJvZ0jM2\\u002fk\\u002fL7rooosu+j8tBWr9SoH6PypQ61cK1Po\\u002fJ5tssskm+z8l5u0MiXn7PyIxb2dIzPs\\u002fIHzwwQcf\\u002fD8dx3Ecx3H8PxsS83aGxPw\\u002fGF100UUX\\u002fT8VqPUrBWr9PxPzdobEvP0\\u002fED744IMP\\u002fj8OiXk7Q2L+PwvU+pUCtf4\\u002fCB988MEH\\u002fz8Gav1KgVr\\u002fPwO1fqVArf8\\u002fAAAAAAAAAEA=\"},\"xaxis\":\"x\",\"y\":{\"dtype\":\"f8\",\"bdata\":\"AAAAAAAA8D8AAAAAAADwPwAAAAAAAPA\\u002fAAAAAAAA8D8AAAAAAADwPwAAAAAAAPA\\u002fAAAAAAAA8D8AAAAAAADwPwAAAAAAAPA\\u002fAAAAAAAA8D8AAAAAAADwPwAAAAAAAPA\\u002fAAAAAAAA8D8AAAAAAADwPwAAAAAAAPA\\u002fAAAAAAAA8D8AAAAAAADwPwAAAAAAAPA\\u002fAAAAAAAA8D8AAAAAAADwPwAAAAAAAPA\\u002fAAAAAAAA8D8AAAAAAADwPwAAAAAAAPA\\u002fAAAAAAAA8P8AAAAAAADw\\u002fwAAAAAAAPh\\u002fAAAAAAAA8P8AAAAAAADwfwAAAAAAAPB\\u002fAAAAAAAA8H8AAAAAAADwf+VEYQ1UucNpbfxgsUlAJtLR+lb2GYhmRSeEJPnUy+nAAAAAAAAAAEAAAAAAAAAAQAAAAAAAAABAAAAAAAAAAEAAAAAAAAAAQAAAAAAAAABAAAAAAAAAAEAAAAAAAAAAQAAAAAAAAABAAAAAAAAAAEAAAAAAAAAAQAAAAAAAAABAAAAAAAAAAEAAAAAAAAAAQJpIfBphP\\u002fM\\u002fRHgVwOFOyd5BNBvFBvtk9QYh0Q0v1z51+PmWthXMWXTcUgc5O\\u002f0ZcTVpwOyDnotpF7l1Yey6e126HWmiKXFBUMj0T3Sjc2lGpL77s1p4ncEjhCT5FMwrQAAAAAAAAPA\\u002fAAAAAAAA8D8AAAAAAADwPwAAAAAAAPA\\u002fAAAAAAAA8D8AAAAAAADwPwAAAAAAAPA\\u002fAAAAAAAA8D8AAAAAAADwPwAAAAAAAPA\\u002fAAAAAAAA8D8AAAAAAADwPwAAAAAAAPA\\u002fAAAAAAAA8D8AAAAAAADwPwAAAAAAAPA\\u002fAAAAAAAA8D8AAAAAAADwPwAAAAAAAPA\\u002fAAAAAAAA8D8AAAAAAADwPwAAAAAAAPA\\u002fAAAAAAAA8D8AAAAAAADwPwAAAAAAAPA\\u002fAAAAAAAA8D8AAAAAAADwPwAAAAAAAPA\\u002fAAAAAAAA8D8AAAAAAADwPwAAAAAAAPA\\u002fAAAAAAAA8D8AAAAAAADwPwAAAAAAAPA\\u002fAAAAAAAA8D8AAAAAAADwPwAAAAAAAPA\\u002fAAAAAAAA8D8=\"},\"yaxis\":\"y\",\"type\":\"scatter\"}],\"name\":\"12\"},{\"data\":[{\"hovertemplate\":\"variable=13\\u003cbr\\u003ex=%{x}\\u003cbr\\u003evalue=%{y}\\u003cextra\\u003e\\u003c\\u002fextra\\u003e\",\"legendgroup\":\"\",\"line\":{\"color\":\"#636efa\",\"dash\":\"solid\"},\"marker\":{\"symbol\":\"circle\"},\"mode\":\"lines\",\"name\":\"\",\"orientation\":\"v\",\"showlegend\":false,\"x\":{\"dtype\":\"f8\",\"bdata\":\"AAAAAAAAAABbv1Kg1q+UP1u\\u002fUqDWr6Q\\u002fCB988MEHrz9bv1Kg1q+0PzJvZ0jM27k\\u002fCB988MEHvz9wZ0jM2xnCP1u\\u002fUqDWr8Q\\u002fRhdddNFFxz8yb2dIzNvJPx3HcRzHccw\\u002fCB988MEHzz96O0Ni3s7QP3BnSMzbGdI\\u002fZZNNNtlk0z9bv1Kg1q\\u002fUP1HrVwrU+tU\\u002fRhdddNFF1z88Q2LezpDYPzJvZ0jM29k\\u002fJ5tssskm2z8dx3Ecx3HcPxPzdobEvN0\\u002fCB988MEH3z9\\u002fpUCtXyngP3o7Q2LezuA\\u002fddFFF1104T9wZ0jM2xniP2r9SoFav+I\\u002fZZNNNtlk4z9gKVDrVwrkP1u\\u002fUqDWr+Q\\u002fVlVVVVVV5T9R61cK1PrlP0yBWr9SoOY\\u002fRhdddNFF5z9BrV8pUOvnPzxDYt7OkOg\\u002fN9lkk0026T8yb2dIzNvpPy0Fav1Kgeo\\u002fJ5tssskm6z8iMW9nSMzrPx3HcRzHcew\\u002fGF100UUX7T8T83aGxLztPw6JeTtDYu4\\u002fCB988MEH7z8DtX6lQK3vP3+lQK1fKfA\\u002fffDBBx988D96O0Ni3s7wP3eGxLydIfE\\u002fddFFF1108T9yHMdxHMfxP3BnSMzbGfI\\u002fbbLJJpts8j9q\\u002fUqBWr\\u002fyP2hIzNsZEvM\\u002fZZNNNtlk8z9j3s6QmLfzP2ApUOtXCvQ\\u002fXnTRRRdd9D9bv1Kg1q\\u002f0P1gK1PqVAvU\\u002fVlVVVVVV9T9ToNavFKj1P1HrVwrU+vU\\u002fTjbZZJNN9j9MgVq\\u002fUqD2P0nM2xkS8\\u002fY\\u002fRhdddNFF9z9EYt7OkJj3P0GtXylQ6\\u002fc\\u002fP\\u002fjggw8++D88Q2LezpD4PzmO4ziO4\\u002fg\\u002fN9lkk002+T80JObtDIn5PzJvZ0jM2\\u002fk\\u002fL7rooosu+j8tBWr9SoH6PypQ61cK1Po\\u002fJ5tssskm+z8l5u0MiXn7PyIxb2dIzPs\\u002fIHzwwQcf\\u002fD8dx3Ecx3H8PxsS83aGxPw\\u002fGF100UUX\\u002fT8VqPUrBWr9PxPzdobEvP0\\u002fED744IMP\\u002fj8OiXk7Q2L+PwvU+pUCtf4\\u002fCB988MEH\\u002fz8Gav1KgVr\\u002fPwO1fqVArf8\\u002fAAAAAAAAAEA=\"},\"xaxis\":\"x\",\"y\":{\"dtype\":\"f8\",\"bdata\":\"AAAAAAAA8D8AAAAAAADwPwAAAAAAAPA\\u002fAAAAAAAA8D8AAAAAAADwPwAAAAAAAPA\\u002fAAAAAAAA8D8AAAAAAADwPwAAAAAAAPA\\u002fAAAAAAAA8D8AAAAAAADwPwAAAAAAAPA\\u002fAAAAAAAA8D8AAAAAAADwPwAAAAAAAPA\\u002fAAAAAAAA8D8AAAAAAADwPwAAAAAAAPA\\u002fAAAAAAAA8D8AAAAAAADwPwAAAAAAAPA\\u002fAAAAAAAA8D8AAAAAAADwPwAAAAAAAPA\\u002fAAAAAAAA8P8AAAAAAAD4fwAAAAAAAPh\\u002fAAAAAAAA+H8AAAAAAADw\\u002fwAAAAAAAPh\\u002fAAAAAAAA+H8AAAAAAAD4fwAAAAAAAPB\\u002f7kkAAun4APy6SzfAaGOj11jilIUwembGvZaDJ23s\\u002f8AAAAAAAAAAQAAAAAAAAABAAAAAAAAAAEAAAAAAAAAAQAAAAAAAAABAAAAAAAAAAEAAAAAAAAAAQAAAAAAAAABAAAAAAAAAAEAAAAAAAAAAQAAAAAAAAABAAAAAAAAAAEAAAAAAAAAAQPSbOEetHQNAQMOeI\\u002ffEqP0AAAAAAADw\\u002fwAAAAAAAPD\\u002fAAAAAAAA8H8AAAAAAADwfwAAAAAAAPB\\u002fAAAAAAAA8H+Iv60wV7TSbXq52sTnKsFWQ37muKUBHcikSWfp863fwVzLwZNG9jBAAAAAAAAA8D8AAAAAAADwPwAAAAAAAPA\\u002fAAAAAAAA8D8AAAAAAADwPwAAAAAAAPA\\u002fAAAAAAAA8D8AAAAAAADwPwAAAAAAAPA\\u002fAAAAAAAA8D8AAAAAAADwPwAAAAAAAPA\\u002fAAAAAAAA8D8AAAAAAADwPwAAAAAAAPA\\u002fAAAAAAAA8D8AAAAAAADwPwAAAAAAAPA\\u002fAAAAAAAA8D8AAAAAAADwPwAAAAAAAPA\\u002fAAAAAAAA8D8AAAAAAADwPwAAAAAAAPA\\u002fAAAAAAAA8D8AAAAAAADwPwAAAAAAAPA\\u002fAAAAAAAA8D8AAAAAAADwPwAAAAAAAPA\\u002fAAAAAAAA8D8AAAAAAADwPwAAAAAAAPA\\u002fAAAAAAAA8D8AAAAAAADwPwAAAAAAAPA\\u002fAAAAAAAA8D8=\"},\"yaxis\":\"y\",\"type\":\"scatter\"}],\"name\":\"13\"},{\"data\":[{\"hovertemplate\":\"variable=14\\u003cbr\\u003ex=%{x}\\u003cbr\\u003evalue=%{y}\\u003cextra\\u003e\\u003c\\u002fextra\\u003e\",\"legendgroup\":\"\",\"line\":{\"color\":\"#636efa\",\"dash\":\"solid\"},\"marker\":{\"symbol\":\"circle\"},\"mode\":\"lines\",\"name\":\"\",\"orientation\":\"v\",\"showlegend\":false,\"x\":{\"dtype\":\"f8\",\"bdata\":\"AAAAAAAAAABbv1Kg1q+UP1u\\u002fUqDWr6Q\\u002fCB988MEHrz9bv1Kg1q+0PzJvZ0jM27k\\u002fCB988MEHvz9wZ0jM2xnCP1u\\u002fUqDWr8Q\\u002fRhdddNFFxz8yb2dIzNvJPx3HcRzHccw\\u002fCB988MEHzz96O0Ni3s7QP3BnSMzbGdI\\u002fZZNNNtlk0z9bv1Kg1q\\u002fUP1HrVwrU+tU\\u002fRhdddNFF1z88Q2LezpDYPzJvZ0jM29k\\u002fJ5tssskm2z8dx3Ecx3HcPxPzdobEvN0\\u002fCB988MEH3z9\\u002fpUCtXyngP3o7Q2LezuA\\u002fddFFF1104T9wZ0jM2xniP2r9SoFav+I\\u002fZZNNNtlk4z9gKVDrVwrkP1u\\u002fUqDWr+Q\\u002fVlVVVVVV5T9R61cK1PrlP0yBWr9SoOY\\u002fRhdddNFF5z9BrV8pUOvnPzxDYt7OkOg\\u002fN9lkk0026T8yb2dIzNvpPy0Fav1Kgeo\\u002fJ5tssskm6z8iMW9nSMzrPx3HcRzHcew\\u002fGF100UUX7T8T83aGxLztPw6JeTtDYu4\\u002fCB988MEH7z8DtX6lQK3vP3+lQK1fKfA\\u002fffDBBx988D96O0Ni3s7wP3eGxLydIfE\\u002fddFFF1108T9yHMdxHMfxP3BnSMzbGfI\\u002fbbLJJpts8j9q\\u002fUqBWr\\u002fyP2hIzNsZEvM\\u002fZZNNNtlk8z9j3s6QmLfzP2ApUOtXCvQ\\u002fXnTRRRdd9D9bv1Kg1q\\u002f0P1gK1PqVAvU\\u002fVlVVVVVV9T9ToNavFKj1P1HrVwrU+vU\\u002fTjbZZJNN9j9MgVq\\u002fUqD2P0nM2xkS8\\u002fY\\u002fRhdddNFF9z9EYt7OkJj3P0GtXylQ6\\u002fc\\u002fP\\u002fjggw8++D88Q2LezpD4PzmO4ziO4\\u002fg\\u002fN9lkk002+T80JObtDIn5PzJvZ0jM2\\u002fk\\u002fL7rooosu+j8tBWr9SoH6PypQ61cK1Po\\u002fJ5tssskm+z8l5u0MiXn7PyIxb2dIzPs\\u002fIHzwwQcf\\u002fD8dx3Ecx3H8PxsS83aGxPw\\u002fGF100UUX\\u002fT8VqPUrBWr9PxPzdobEvP0\\u002fED744IMP\\u002fj8OiXk7Q2L+PwvU+pUCtf4\\u002fCB988MEH\\u002fz8Gav1KgVr\\u002fPwO1fqVArf8\\u002fAAAAAAAAAEA=\"},\"xaxis\":\"x\",\"y\":{\"dtype\":\"f8\",\"bdata\":\"AAAAAAAA8D8AAAAAAADwPwAAAAAAAPA\\u002fAAAAAAAA8D8AAAAAAADwPwAAAAAAAPA\\u002fAAAAAAAA8D8AAAAAAADwPwAAAAAAAPA\\u002fAAAAAAAA8D8AAAAAAADwPwAAAAAAAPA\\u002fAAAAAAAA8D8AAAAAAADwPwAAAAAAAPA\\u002fAAAAAAAA8D8AAAAAAADwPwAAAAAAAPA\\u002fAAAAAAAA8D8AAAAAAADwPwAAAAAAAPA\\u002fAAAAAAAA8D8AAAAAAADwPwAAAAAAAPA\\u002fAAAAAAAA8P8AAAAAAAD4fwAAAAAAAPh\\u002fAAAAAAAA+H8AAAAAAAD4fwAAAAAAAPh\\u002fAAAAAAAA+H8AAAAAAAD4fwAAAAAAAPh\\u002fAAAAAAAA8P8AAAAAAADwf0H8Ohxk2iBeDLr7nsu\\u002fe0d4OKYjvMATwQAAAAAAAABAAAAAAAAAAEAAAAAAAAAAQAAAAAAAAABAAAAAAAAAAEAAAAAAAAAAQAAAAAAAAABAAAAAAAAAAEAAAAAAAAAAQAAAAAAAAABAAAAAAAAAAEAAAAAAAAAAQF1Cv7XmzfM\\u002fAAAAAAAA8P8AAAAAAADw\\u002fwAAAAAAAPh\\u002fAAAAAAAA8P8AAAAAAAD4fwAAAAAAAPh\\u002fAAAAAAAA+H8AAAAAAADwfwAAAAAAAPB\\u002f5mrcTulB894MpX0MmsQRShstyEG\\u002fxyTCdTimI8TANEAAAAAAAADwPwAAAAAAAPA\\u002fAAAAAAAA8D8AAAAAAADwPwAAAAAAAPA\\u002fAAAAAAAA8D8AAAAAAADwPwAAAAAAAPA\\u002fAAAAAAAA8D8AAAAAAADwPwAAAAAAAPA\\u002fAAAAAAAA8D8AAAAAAADwPwAAAAAAAPA\\u002fAAAAAAAA8D8AAAAAAADwPwAAAAAAAPA\\u002fAAAAAAAA8D8AAAAAAADwPwAAAAAAAPA\\u002fAAAAAAAA8D8AAAAAAADwPwAAAAAAAPA\\u002fAAAAAAAA8D8AAAAAAADwPwAAAAAAAPA\\u002fAAAAAAAA8D8AAAAAAADwPwAAAAAAAPA\\u002fAAAAAAAA8D8AAAAAAADwPwAAAAAAAPA\\u002fAAAAAAAA8D8AAAAAAADwPwAAAAAAAPA\\u002fAAAAAAAA8D8=\"},\"yaxis\":\"y\",\"type\":\"scatter\"}],\"name\":\"14\"},{\"data\":[{\"hovertemplate\":\"variable=15\\u003cbr\\u003ex=%{x}\\u003cbr\\u003evalue=%{y}\\u003cextra\\u003e\\u003c\\u002fextra\\u003e\",\"legendgroup\":\"\",\"line\":{\"color\":\"#636efa\",\"dash\":\"solid\"},\"marker\":{\"symbol\":\"circle\"},\"mode\":\"lines\",\"name\":\"\",\"orientation\":\"v\",\"showlegend\":false,\"x\":{\"dtype\":\"f8\",\"bdata\":\"AAAAAAAAAABbv1Kg1q+UP1u\\u002fUqDWr6Q\\u002fCB988MEHrz9bv1Kg1q+0PzJvZ0jM27k\\u002fCB988MEHvz9wZ0jM2xnCP1u\\u002fUqDWr8Q\\u002fRhdddNFFxz8yb2dIzNvJPx3HcRzHccw\\u002fCB988MEHzz96O0Ni3s7QP3BnSMzbGdI\\u002fZZNNNtlk0z9bv1Kg1q\\u002fUP1HrVwrU+tU\\u002fRhdddNFF1z88Q2LezpDYPzJvZ0jM29k\\u002fJ5tssskm2z8dx3Ecx3HcPxPzdobEvN0\\u002fCB988MEH3z9\\u002fpUCtXyngP3o7Q2LezuA\\u002fddFFF1104T9wZ0jM2xniP2r9SoFav+I\\u002fZZNNNtlk4z9gKVDrVwrkP1u\\u002fUqDWr+Q\\u002fVlVVVVVV5T9R61cK1PrlP0yBWr9SoOY\\u002fRhdddNFF5z9BrV8pUOvnPzxDYt7OkOg\\u002fN9lkk0026T8yb2dIzNvpPy0Fav1Kgeo\\u002fJ5tssskm6z8iMW9nSMzrPx3HcRzHcew\\u002fGF100UUX7T8T83aGxLztPw6JeTtDYu4\\u002fCB988MEH7z8DtX6lQK3vP3+lQK1fKfA\\u002fffDBBx988D96O0Ni3s7wP3eGxLydIfE\\u002fddFFF1108T9yHMdxHMfxP3BnSMzbGfI\\u002fbbLJJpts8j9q\\u002fUqBWr\\u002fyP2hIzNsZEvM\\u002fZZNNNtlk8z9j3s6QmLfzP2ApUOtXCvQ\\u002fXnTRRRdd9D9bv1Kg1q\\u002f0P1gK1PqVAvU\\u002fVlVVVVVV9T9ToNavFKj1P1HrVwrU+vU\\u002fTjbZZJNN9j9MgVq\\u002fUqD2P0nM2xkS8\\u002fY\\u002fRhdddNFF9z9EYt7OkJj3P0GtXylQ6\\u002fc\\u002fP\\u002fjggw8++D88Q2LezpD4PzmO4ziO4\\u002fg\\u002fN9lkk002+T80JObtDIn5PzJvZ0jM2\\u002fk\\u002fL7rooosu+j8tBWr9SoH6PypQ61cK1Po\\u002fJ5tssskm+z8l5u0MiXn7PyIxb2dIzPs\\u002fIHzwwQcf\\u002fD8dx3Ecx3H8PxsS83aGxPw\\u002fGF100UUX\\u002fT8VqPUrBWr9PxPzdobEvP0\\u002fED744IMP\\u002fj8OiXk7Q2L+PwvU+pUCtf4\\u002fCB988MEH\\u002fz8Gav1KgVr\\u002fPwO1fqVArf8\\u002fAAAAAAAAAEA=\"},\"xaxis\":\"x\",\"y\":{\"dtype\":\"f8\",\"bdata\":\"AAAAAAAA8D8AAAAAAADwPwAAAAAAAPA\\u002fAAAAAAAA8D8AAAAAAADwPwAAAAAAAPA\\u002fAAAAAAAA8D8AAAAAAADwPwAAAAAAAPA\\u002fAAAAAAAA8D8AAAAAAADwPwAAAAAAAPA\\u002fAAAAAAAA8D8AAAAAAADwPwAAAAAAAPA\\u002fAAAAAAAA8D8AAAAAAADwPwAAAAAAAPA\\u002fAAAAAAAA8D8AAAAAAADwPwAAAAAAAPA\\u002fAAAAAAAA8D8AAAAAAADwPwAAAAAAAPA\\u002fAAAAAAAA8P8AAAAAAAD4fwAAAAAAAPh\\u002fAAAAAAAA+H8AAAAAAAD4fwAAAAAAAPh\\u002fAAAAAAAA+H8AAAAAAAD4fwAAAAAAAPh\\u002fAAAAAAAA+H8AAAAAAADw\\u002fwAAAAAAAPB\\u002fSK3+8dQVsmVFEkV9czKlyEhMt4W7cSjBAAAAAAAAAEAAAAAAAAAAQAAAAAAAAABAAAAAAAAAAEAAAAAAAAAAQAAAAAAAAABAAAAAAAAAAEAAAAAAAAAAQAAAAAAAAABAAAAAAAAAAEAAAAAAAAAAQC6T8h0SPgNAAAAAAAAA8P8AAAAAAAD4fwAAAAAAAPh\\u002fAAAAAAAA+H8AAAAAAAD4fwAAAAAAAPh\\u002fAAAAAAAA+H8AAAAAAAD4fwAAAAAAAPh\\u002fAAAAAAAA8P+oVF3843Ya6bSXR4GejkzMX3n0qmatcMJETLeFv3E5QAAAAAAAAPA\\u002fAAAAAAAA8D8AAAAAAADwPwAAAAAAAPA\\u002fAAAAAAAA8D8AAAAAAADwPwAAAAAAAPA\\u002fAAAAAAAA8D8AAAAAAADwPwAAAAAAAPA\\u002fAAAAAAAA8D8AAAAAAADwPwAAAAAAAPA\\u002fAAAAAAAA8D8AAAAAAADwPwAAAAAAAPA\\u002fAAAAAAAA8D8AAAAAAADwPwAAAAAAAPA\\u002fAAAAAAAA8D8AAAAAAADwPwAAAAAAAPA\\u002fAAAAAAAA8D8AAAAAAADwPwAAAAAAAPA\\u002fAAAAAAAA8D8AAAAAAADwPwAAAAAAAPA\\u002fAAAAAAAA8D8AAAAAAADwPwAAAAAAAPA\\u002fAAAAAAAA8D8AAAAAAADwPwAAAAAAAPA\\u002fAAAAAAAA8D8=\"},\"yaxis\":\"y\",\"type\":\"scatter\"}],\"name\":\"15\"},{\"data\":[{\"hovertemplate\":\"variable=16\\u003cbr\\u003ex=%{x}\\u003cbr\\u003evalue=%{y}\\u003cextra\\u003e\\u003c\\u002fextra\\u003e\",\"legendgroup\":\"\",\"line\":{\"color\":\"#636efa\",\"dash\":\"solid\"},\"marker\":{\"symbol\":\"circle\"},\"mode\":\"lines\",\"name\":\"\",\"orientation\":\"v\",\"showlegend\":false,\"x\":{\"dtype\":\"f8\",\"bdata\":\"AAAAAAAAAABbv1Kg1q+UP1u\\u002fUqDWr6Q\\u002fCB988MEHrz9bv1Kg1q+0PzJvZ0jM27k\\u002fCB988MEHvz9wZ0jM2xnCP1u\\u002fUqDWr8Q\\u002fRhdddNFFxz8yb2dIzNvJPx3HcRzHccw\\u002fCB988MEHzz96O0Ni3s7QP3BnSMzbGdI\\u002fZZNNNtlk0z9bv1Kg1q\\u002fUP1HrVwrU+tU\\u002fRhdddNFF1z88Q2LezpDYPzJvZ0jM29k\\u002fJ5tssskm2z8dx3Ecx3HcPxPzdobEvN0\\u002fCB988MEH3z9\\u002fpUCtXyngP3o7Q2LezuA\\u002fddFFF1104T9wZ0jM2xniP2r9SoFav+I\\u002fZZNNNtlk4z9gKVDrVwrkP1u\\u002fUqDWr+Q\\u002fVlVVVVVV5T9R61cK1PrlP0yBWr9SoOY\\u002fRhdddNFF5z9BrV8pUOvnPzxDYt7OkOg\\u002fN9lkk0026T8yb2dIzNvpPy0Fav1Kgeo\\u002fJ5tssskm6z8iMW9nSMzrPx3HcRzHcew\\u002fGF100UUX7T8T83aGxLztPw6JeTtDYu4\\u002fCB988MEH7z8DtX6lQK3vP3+lQK1fKfA\\u002fffDBBx988D96O0Ni3s7wP3eGxLydIfE\\u002fddFFF1108T9yHMdxHMfxP3BnSMzbGfI\\u002fbbLJJpts8j9q\\u002fUqBWr\\u002fyP2hIzNsZEvM\\u002fZZNNNtlk8z9j3s6QmLfzP2ApUOtXCvQ\\u002fXnTRRRdd9D9bv1Kg1q\\u002f0P1gK1PqVAvU\\u002fVlVVVVVV9T9ToNavFKj1P1HrVwrU+vU\\u002fTjbZZJNN9j9MgVq\\u002fUqD2P0nM2xkS8\\u002fY\\u002fRhdddNFF9z9EYt7OkJj3P0GtXylQ6\\u002fc\\u002fP\\u002fjggw8++D88Q2LezpD4PzmO4ziO4\\u002fg\\u002fN9lkk002+T80JObtDIn5PzJvZ0jM2\\u002fk\\u002fL7rooosu+j8tBWr9SoH6PypQ61cK1Po\\u002fJ5tssskm+z8l5u0MiXn7PyIxb2dIzPs\\u002fIHzwwQcf\\u002fD8dx3Ecx3H8PxsS83aGxPw\\u002fGF100UUX\\u002fT8VqPUrBWr9PxPzdobEvP0\\u002fED744IMP\\u002fj8OiXk7Q2L+PwvU+pUCtf4\\u002fCB988MEH\\u002fz8Gav1KgVr\\u002fPwO1fqVArf8\\u002fAAAAAAAAAEA=\"},\"xaxis\":\"x\",\"y\":{\"dtype\":\"f8\",\"bdata\":\"AAAAAAAA8D8AAAAAAADwPwAAAAAAAPA\\u002fAAAAAAAA8D8AAAAAAADwPwAAAAAAAPA\\u002fAAAAAAAA8D8AAAAAAADwPwAAAAAAAPA\\u002fAAAAAAAA8D8AAAAAAADwPwAAAAAAAPA\\u002fAAAAAAAA8D8AAAAAAADwPwAAAAAAAPA\\u002fAAAAAAAA8D8AAAAAAADwPwAAAAAAAPA\\u002fAAAAAAAA8D8AAAAAAADwPwAAAAAAAPA\\u002fAAAAAAAA8D8AAAAAAADwPwAAAAAAAPA\\u002fAAAAAAAA8P8AAAAAAAD4fwAAAAAAAPh\\u002fAAAAAAAA+H8AAAAAAAD4fwAAAAAAAPh\\u002fAAAAAAAA+H8AAAAAAAD4fwAAAAAAAPh\\u002fAAAAAAAA+H8AAAAAAAD4fwAAAAAAAPD\\u002fAAAAAAAA8H\\u002f60sIKbqZt7iw\\u002fgKynCeRJmaHfm\\u002fQ\\u002fPsEAAAAAAAAAQAAAAAAAAABAAAAAAAAAAEAAAAAAAAAAQAAAAAAAAABAAAAAAAAAAEAAAAAAAAAAQAAAAAAAAABAAAAAAAAAAEAAAAAAAAAAQDaEdMWdLvM\\u002fAAAAAAAA8P8AAAAAAAD4fwAAAAAAAPh\\u002fAAAAAAAA+H8AAAAAAAD4fwAAAAAAAPh\\u002fAAAAAAAA+H8AAAAAAAD4fwAAAAAAAPh\\u002fAAAAAAAA+H8AAAAAAADwf9AZk4\\u002flOX116m5jNvFq0k7E2as6AWnAwpSh35v2Pz9AAAAAAAAA8D8AAAAAAADwPwAAAAAAAPA\\u002fAAAAAAAA8D8AAAAAAADwPwAAAAAAAPA\\u002fAAAAAAAA8D8AAAAAAADwPwAAAAAAAPA\\u002fAAAAAAAA8D8AAAAAAADwPwAAAAAAAPA\\u002fAAAAAAAA8D8AAAAAAADwPwAAAAAAAPA\\u002fAAAAAAAA8D8AAAAAAADwPwAAAAAAAPA\\u002fAAAAAAAA8D8AAAAAAADwPwAAAAAAAPA\\u002fAAAAAAAA8D8AAAAAAADwPwAAAAAAAPA\\u002fAAAAAAAA8D8AAAAAAADwPwAAAAAAAPA\\u002fAAAAAAAA8D8AAAAAAADwPwAAAAAAAPA\\u002fAAAAAAAA8D8AAAAAAADwPwAAAAAAAPA\\u002fAAAAAAAA8D8=\"},\"yaxis\":\"y\",\"type\":\"scatter\"}],\"name\":\"16\"},{\"data\":[{\"hovertemplate\":\"variable=17\\u003cbr\\u003ex=%{x}\\u003cbr\\u003evalue=%{y}\\u003cextra\\u003e\\u003c\\u002fextra\\u003e\",\"legendgroup\":\"\",\"line\":{\"color\":\"#636efa\",\"dash\":\"solid\"},\"marker\":{\"symbol\":\"circle\"},\"mode\":\"lines\",\"name\":\"\",\"orientation\":\"v\",\"showlegend\":false,\"x\":{\"dtype\":\"f8\",\"bdata\":\"AAAAAAAAAABbv1Kg1q+UP1u\\u002fUqDWr6Q\\u002fCB988MEHrz9bv1Kg1q+0PzJvZ0jM27k\\u002fCB988MEHvz9wZ0jM2xnCP1u\\u002fUqDWr8Q\\u002fRhdddNFFxz8yb2dIzNvJPx3HcRzHccw\\u002fCB988MEHzz96O0Ni3s7QP3BnSMzbGdI\\u002fZZNNNtlk0z9bv1Kg1q\\u002fUP1HrVwrU+tU\\u002fRhdddNFF1z88Q2LezpDYPzJvZ0jM29k\\u002fJ5tssskm2z8dx3Ecx3HcPxPzdobEvN0\\u002fCB988MEH3z9\\u002fpUCtXyngP3o7Q2LezuA\\u002fddFFF1104T9wZ0jM2xniP2r9SoFav+I\\u002fZZNNNtlk4z9gKVDrVwrkP1u\\u002fUqDWr+Q\\u002fVlVVVVVV5T9R61cK1PrlP0yBWr9SoOY\\u002fRhdddNFF5z9BrV8pUOvnPzxDYt7OkOg\\u002fN9lkk0026T8yb2dIzNvpPy0Fav1Kgeo\\u002fJ5tssskm6z8iMW9nSMzrPx3HcRzHcew\\u002fGF100UUX7T8T83aGxLztPw6JeTtDYu4\\u002fCB988MEH7z8DtX6lQK3vP3+lQK1fKfA\\u002fffDBBx988D96O0Ni3s7wP3eGxLydIfE\\u002fddFFF1108T9yHMdxHMfxP3BnSMzbGfI\\u002fbbLJJpts8j9q\\u002fUqBWr\\u002fyP2hIzNsZEvM\\u002fZZNNNtlk8z9j3s6QmLfzP2ApUOtXCvQ\\u002fXnTRRRdd9D9bv1Kg1q\\u002f0P1gK1PqVAvU\\u002fVlVVVVVV9T9ToNavFKj1P1HrVwrU+vU\\u002fTjbZZJNN9j9MgVq\\u002fUqD2P0nM2xkS8\\u002fY\\u002fRhdddNFF9z9EYt7OkJj3P0GtXylQ6\\u002fc\\u002fP\\u002fjggw8++D88Q2LezpD4PzmO4ziO4\\u002fg\\u002fN9lkk002+T80JObtDIn5PzJvZ0jM2\\u002fk\\u002fL7rooosu+j8tBWr9SoH6PypQ61cK1Po\\u002fJ5tssskm+z8l5u0MiXn7PyIxb2dIzPs\\u002fIHzwwQcf\\u002fD8dx3Ecx3H8PxsS83aGxPw\\u002fGF100UUX\\u002fT8VqPUrBWr9PxPzdobEvP0\\u002fED744IMP\\u002fj8OiXk7Q2L+PwvU+pUCtf4\\u002fCB988MEH\\u002fz8Gav1KgVr\\u002fPwO1fqVArf8\\u002fAAAAAAAAAEA=\"},\"xaxis\":\"x\",\"y\":{\"dtype\":\"f8\",\"bdata\":\"AAAAAAAA8D8AAAAAAADwPwAAAAAAAPA\\u002fAAAAAAAA8D8AAAAAAADwPwAAAAAAAPA\\u002fAAAAAAAA8D8AAAAAAADwPwAAAAAAAPA\\u002fAAAAAAAA8D8AAAAAAADwPwAAAAAAAPA\\u002fAAAAAAAA8D8AAAAAAADwPwAAAAAAAPA\\u002fAAAAAAAA8D8AAAAAAADwPwAAAAAAAPA\\u002fAAAAAAAA8D8AAAAAAADwPwAAAAAAAPA\\u002fAAAAAAAA8D8AAAAAAADwPwAAAAAAAPA\\u002fAAAAAAAA8P8AAAAAAAD4fwAAAAAAAPh\\u002fAAAAAAAA+H8AAAAAAAD4fwAAAAAAAPh\\u002fAAAAAAAA+H8AAAAAAAD4fwAAAAAAAPh\\u002fAAAAAAAA+H8AAAAAAAD4fwAAAAAAAPh\\u002fAAAAAAAA8P8AAAAAAADw\\u002f39f9DHL+Wb4snrTmMJwN8vK+AtKk7dSwQAAAAAAAABAAAAAAAAAAEAAAAAAAAAAQAAAAAAAAABAAAAAAAAAAEAAAAAAAAAAQAAAAAAAAABAAAAAAAAAAEAAAAAAAAAAQAHnB6R2GQNAAAAAAAAA8P8AAAAAAAD4fwAAAAAAAPh\\u002fAAAAAAAA+H8AAAAAAAD4fwAAAAAAAPh\\u002fAAAAAAAA+H8AAAAAAAD4fwAAAAAAAPh\\u002fAAAAAAAA+H8AAAAAAAD4fwAAAAAAAPB\\u002fAAAAAAAA8H8JiXbwUWCn0SZcl+bf1BPDx\\u002fgLypM3Q0AAAAAAAADwPwAAAAAAAPA\\u002fAAAAAAAA8D8AAAAAAADwPwAAAAAAAPA\\u002fAAAAAAAA8D8AAAAAAADwPwAAAAAAAPA\\u002fAAAAAAAA8D8AAAAAAADwPwAAAAAAAPA\\u002fAAAAAAAA8D8AAAAAAADwPwAAAAAAAPA\\u002fAAAAAAAA8D8AAAAAAADwPwAAAAAAAPA\\u002fAAAAAAAA8D8AAAAAAADwPwAAAAAAAPA\\u002fAAAAAAAA8D8AAAAAAADwPwAAAAAAAPA\\u002fAAAAAAAA8D8AAAAAAADwPwAAAAAAAPA\\u002fAAAAAAAA8D8AAAAAAADwPwAAAAAAAPA\\u002fAAAAAAAA8D8AAAAAAADwPwAAAAAAAPA\\u002fAAAAAAAA8D8=\"},\"yaxis\":\"y\",\"type\":\"scatter\"}],\"name\":\"17\"},{\"data\":[{\"hovertemplate\":\"variable=18\\u003cbr\\u003ex=%{x}\\u003cbr\\u003evalue=%{y}\\u003cextra\\u003e\\u003c\\u002fextra\\u003e\",\"legendgroup\":\"\",\"line\":{\"color\":\"#636efa\",\"dash\":\"solid\"},\"marker\":{\"symbol\":\"circle\"},\"mode\":\"lines\",\"name\":\"\",\"orientation\":\"v\",\"showlegend\":false,\"x\":{\"dtype\":\"f8\",\"bdata\":\"AAAAAAAAAABbv1Kg1q+UP1u\\u002fUqDWr6Q\\u002fCB988MEHrz9bv1Kg1q+0PzJvZ0jM27k\\u002fCB988MEHvz9wZ0jM2xnCP1u\\u002fUqDWr8Q\\u002fRhdddNFFxz8yb2dIzNvJPx3HcRzHccw\\u002fCB988MEHzz96O0Ni3s7QP3BnSMzbGdI\\u002fZZNNNtlk0z9bv1Kg1q\\u002fUP1HrVwrU+tU\\u002fRhdddNFF1z88Q2LezpDYPzJvZ0jM29k\\u002fJ5tssskm2z8dx3Ecx3HcPxPzdobEvN0\\u002fCB988MEH3z9\\u002fpUCtXyngP3o7Q2LezuA\\u002fddFFF1104T9wZ0jM2xniP2r9SoFav+I\\u002fZZNNNtlk4z9gKVDrVwrkP1u\\u002fUqDWr+Q\\u002fVlVVVVVV5T9R61cK1PrlP0yBWr9SoOY\\u002fRhdddNFF5z9BrV8pUOvnPzxDYt7OkOg\\u002fN9lkk0026T8yb2dIzNvpPy0Fav1Kgeo\\u002fJ5tssskm6z8iMW9nSMzrPx3HcRzHcew\\u002fGF100UUX7T8T83aGxLztPw6JeTtDYu4\\u002fCB988MEH7z8DtX6lQK3vP3+lQK1fKfA\\u002fffDBBx988D96O0Ni3s7wP3eGxLydIfE\\u002fddFFF1108T9yHMdxHMfxP3BnSMzbGfI\\u002fbbLJJpts8j9q\\u002fUqBWr\\u002fyP2hIzNsZEvM\\u002fZZNNNtlk8z9j3s6QmLfzP2ApUOtXCvQ\\u002fXnTRRRdd9D9bv1Kg1q\\u002f0P1gK1PqVAvU\\u002fVlVVVVVV9T9ToNavFKj1P1HrVwrU+vU\\u002fTjbZZJNN9j9MgVq\\u002fUqD2P0nM2xkS8\\u002fY\\u002fRhdddNFF9z9EYt7OkJj3P0GtXylQ6\\u002fc\\u002fP\\u002fjggw8++D88Q2LezpD4PzmO4ziO4\\u002fg\\u002fN9lkk002+T80JObtDIn5PzJvZ0jM2\\u002fk\\u002fL7rooosu+j8tBWr9SoH6PypQ61cK1Po\\u002fJ5tssskm+z8l5u0MiXn7PyIxb2dIzPs\\u002fIHzwwQcf\\u002fD8dx3Ecx3H8PxsS83aGxPw\\u002fGF100UUX\\u002fT8VqPUrBWr9PxPzdobEvP0\\u002fED744IMP\\u002fj8OiXk7Q2L+PwvU+pUCtf4\\u002fCB988MEH\\u002fz8Gav1KgVr\\u002fPwO1fqVArf8\\u002fAAAAAAAAAEA=\"},\"xaxis\":\"x\",\"y\":{\"dtype\":\"f8\",\"bdata\":\"AAAAAAAA8D8AAAAAAADwPwAAAAAAAPA\\u002fAAAAAAAA8D8AAAAAAADwPwAAAAAAAPA\\u002fAAAAAAAA8D8AAAAAAADwPwAAAAAAAPA\\u002fAAAAAAAA8D8AAAAAAADwPwAAAAAAAPA\\u002fAAAAAAAA8D8AAAAAAADwPwAAAAAAAPA\\u002fAAAAAAAA8D8AAAAAAADwPwAAAAAAAPA\\u002fAAAAAAAA8D8AAAAAAADwPwAAAAAAAPA\\u002fAAAAAAAA8D8AAAAAAADwPwAAAAAAAPA\\u002fAAAAAAAA8P8AAAAAAAD4fwAAAAAAAPh\\u002fAAAAAAAA+H8AAAAAAAD4fwAAAAAAAPh\\u002fAAAAAAAA+H8AAAAAAAD4fwAAAAAAAPh\\u002fAAAAAAAA+H8AAAAAAAD4fwAAAAAAAPh\\u002fAAAAAAAA+H8AAAAAAAD4fwAAAAAAAPB\\u002fAAAAAAAA8H+xVF8SgPegTK3QbnCTKWfBAAAAAAAAAEAAAAAAAAAAQAAAAAAAAABAAAAAAAAAAEAAAAAAAAAAQAAAAAAAAABAAAAAAAAAAEAAAAAAAAAAQOHRyslu4vM\\u002fAAAAAAAA8P8AAAAAAAD4fwAAAAAAAPh\\u002fAAAAAAAA+H8AAAAAAAD4fwAAAAAAAPh\\u002fAAAAAAAA+H8AAAAAAAD4fwAAAAAAAPh\\u002fAAAAAAAA+H8AAAAAAAD4fwAAAAAAAPh\\u002fAAAAAAAA+H8AAAAAAADw\\u002f8Z\\u002fXBaD7dFU3\\u002fy0dt95bcOq0G6wk6lHQAAAAAAAAPA\\u002fAAAAAAAA8D8AAAAAAADwPwAAAAAAAPA\\u002fAAAAAAAA8D8AAAAAAADwPwAAAAAAAPA\\u002fAAAAAAAA8D8AAAAAAADwPwAAAAAAAPA\\u002fAAAAAAAA8D8AAAAAAADwPwAAAAAAAPA\\u002fAAAAAAAA8D8AAAAAAADwPwAAAAAAAPA\\u002fAAAAAAAA8D8AAAAAAADwPwAAAAAAAPA\\u002fAAAAAAAA8D8AAAAAAADwPwAAAAAAAPA\\u002fAAAAAAAA8D8AAAAAAADwPwAAAAAAAPA\\u002fAAAAAAAA8D8AAAAAAADwPwAAAAAAAPA\\u002fAAAAAAAA8D8AAAAAAADwPwAAAAAAAPA\\u002fAAAAAAAA8D8=\"},\"yaxis\":\"y\",\"type\":\"scatter\"}],\"name\":\"18\"},{\"data\":[{\"hovertemplate\":\"variable=19\\u003cbr\\u003ex=%{x}\\u003cbr\\u003evalue=%{y}\\u003cextra\\u003e\\u003c\\u002fextra\\u003e\",\"legendgroup\":\"\",\"line\":{\"color\":\"#636efa\",\"dash\":\"solid\"},\"marker\":{\"symbol\":\"circle\"},\"mode\":\"lines\",\"name\":\"\",\"orientation\":\"v\",\"showlegend\":false,\"x\":{\"dtype\":\"f8\",\"bdata\":\"AAAAAAAAAABbv1Kg1q+UP1u\\u002fUqDWr6Q\\u002fCB988MEHrz9bv1Kg1q+0PzJvZ0jM27k\\u002fCB988MEHvz9wZ0jM2xnCP1u\\u002fUqDWr8Q\\u002fRhdddNFFxz8yb2dIzNvJPx3HcRzHccw\\u002fCB988MEHzz96O0Ni3s7QP3BnSMzbGdI\\u002fZZNNNtlk0z9bv1Kg1q\\u002fUP1HrVwrU+tU\\u002fRhdddNFF1z88Q2LezpDYPzJvZ0jM29k\\u002fJ5tssskm2z8dx3Ecx3HcPxPzdobEvN0\\u002fCB988MEH3z9\\u002fpUCtXyngP3o7Q2LezuA\\u002fddFFF1104T9wZ0jM2xniP2r9SoFav+I\\u002fZZNNNtlk4z9gKVDrVwrkP1u\\u002fUqDWr+Q\\u002fVlVVVVVV5T9R61cK1PrlP0yBWr9SoOY\\u002fRhdddNFF5z9BrV8pUOvnPzxDYt7OkOg\\u002fN9lkk0026T8yb2dIzNvpPy0Fav1Kgeo\\u002fJ5tssskm6z8iMW9nSMzrPx3HcRzHcew\\u002fGF100UUX7T8T83aGxLztPw6JeTtDYu4\\u002fCB988MEH7z8DtX6lQK3vP3+lQK1fKfA\\u002fffDBBx988D96O0Ni3s7wP3eGxLydIfE\\u002fddFFF1108T9yHMdxHMfxP3BnSMzbGfI\\u002fbbLJJpts8j9q\\u002fUqBWr\\u002fyP2hIzNsZEvM\\u002fZZNNNtlk8z9j3s6QmLfzP2ApUOtXCvQ\\u002fXnTRRRdd9D9bv1Kg1q\\u002f0P1gK1PqVAvU\\u002fVlVVVVVV9T9ToNavFKj1P1HrVwrU+vU\\u002fTjbZZJNN9j9MgVq\\u002fUqD2P0nM2xkS8\\u002fY\\u002fRhdddNFF9z9EYt7OkJj3P0GtXylQ6\\u002fc\\u002fP\\u002fjggw8++D88Q2LezpD4PzmO4ziO4\\u002fg\\u002fN9lkk002+T80JObtDIn5PzJvZ0jM2\\u002fk\\u002fL7rooosu+j8tBWr9SoH6PypQ61cK1Po\\u002fJ5tssskm+z8l5u0MiXn7PyIxb2dIzPs\\u002fIHzwwQcf\\u002fD8dx3Ecx3H8PxsS83aGxPw\\u002fGF100UUX\\u002fT8VqPUrBWr9PxPzdobEvP0\\u002fED744IMP\\u002fj8OiXk7Q2L+PwvU+pUCtf4\\u002fCB988MEH\\u002fz8Gav1KgVr\\u002fPwO1fqVArf8\\u002fAAAAAAAAAEA=\"},\"xaxis\":\"x\",\"y\":{\"dtype\":\"f8\",\"bdata\":\"AAAAAAAA8D8AAAAAAADwPwAAAAAAAPA\\u002fAAAAAAAA8D8AAAAAAADwPwAAAAAAAPA\\u002fAAAAAAAA8D8AAAAAAADwPwAAAAAAAPA\\u002fAAAAAAAA8D8AAAAAAADwPwAAAAAAAPA\\u002fAAAAAAAA8D8AAAAAAADwPwAAAAAAAPA\\u002fAAAAAAAA8D8AAAAAAADwPwAAAAAAAPA\\u002fAAAAAAAA8D8AAAAAAADwPwAAAAAAAPA\\u002fAAAAAAAA8D8AAAAAAADwPwAAAAAAAPA\\u002fAAAAAAAA8P8AAAAAAAD4fwAAAAAAAPh\\u002fAAAAAAAA+H8AAAAAAAD4fwAAAAAAAPh\\u002fAAAAAAAA+H8AAAAAAAD4fwAAAAAAAPh\\u002fAAAAAAAA+H8AAAAAAAD4fwAAAAAAAPh\\u002fAAAAAAAA+H8AAAAAAAD4fwAAAAAAAPh\\u002fAAAAAAAA+H8AAAAAAADwf\\u002f8mtyc9ZR7O1rsi19mpfMEAAAAAAAAAQAAAAAAAAABAAAAAAAAAAEAAAAAAAAAAQAAAAAAAAABAAAAAAAAAAEAAAAAAAAAAQA0GrU87QgNAAAAAAAAA8P8AAAAAAAD4fwAAAAAAAPh\\u002fAAAAAAAA+H8AAAAAAAD4fwAAAAAAAPh\\u002fAAAAAAAA+H8AAAAAAAD4fwAAAAAAAPh\\u002fAAAAAAAA+H8AAAAAAAD4fwAAAAAAAPh\\u002fAAAAAAAA+H8AAAAAAAD4fwAAAAAAAPD\\u002fR4+Jh49vVNiOjEYEAPnKw9O7IvfZKU1AAAAAAAAA8D8AAAAAAADwPwAAAAAAAPA\\u002fAAAAAAAA8D8AAAAAAADwPwAAAAAAAPA\\u002fAAAAAAAA8D8AAAAAAADwPwAAAAAAAPA\\u002fAAAAAAAA8D8AAAAAAADwPwAAAAAAAPA\\u002fAAAAAAAA8D8AAAAAAADwPwAAAAAAAPA\\u002fAAAAAAAA8D8AAAAAAADwPwAAAAAAAPA\\u002fAAAAAAAA8D8AAAAAAADwPwAAAAAAAPA\\u002fAAAAAAAA8D8AAAAAAADwPwAAAAAAAPA\\u002fAAAAAAAA8D8AAAAAAADwPwAAAAAAAPA\\u002fAAAAAAAA8D8AAAAAAADwPwAAAAAAAPA\\u002fAAAAAAAA8D8=\"},\"yaxis\":\"y\",\"type\":\"scatter\"}],\"name\":\"19\"},{\"data\":[{\"hovertemplate\":\"variable=20\\u003cbr\\u003ex=%{x}\\u003cbr\\u003evalue=%{y}\\u003cextra\\u003e\\u003c\\u002fextra\\u003e\",\"legendgroup\":\"\",\"line\":{\"color\":\"#636efa\",\"dash\":\"solid\"},\"marker\":{\"symbol\":\"circle\"},\"mode\":\"lines\",\"name\":\"\",\"orientation\":\"v\",\"showlegend\":false,\"x\":{\"dtype\":\"f8\",\"bdata\":\"AAAAAAAAAABbv1Kg1q+UP1u\\u002fUqDWr6Q\\u002fCB988MEHrz9bv1Kg1q+0PzJvZ0jM27k\\u002fCB988MEHvz9wZ0jM2xnCP1u\\u002fUqDWr8Q\\u002fRhdddNFFxz8yb2dIzNvJPx3HcRzHccw\\u002fCB988MEHzz96O0Ni3s7QP3BnSMzbGdI\\u002fZZNNNtlk0z9bv1Kg1q\\u002fUP1HrVwrU+tU\\u002fRhdddNFF1z88Q2LezpDYPzJvZ0jM29k\\u002fJ5tssskm2z8dx3Ecx3HcPxPzdobEvN0\\u002fCB988MEH3z9\\u002fpUCtXyngP3o7Q2LezuA\\u002fddFFF1104T9wZ0jM2xniP2r9SoFav+I\\u002fZZNNNtlk4z9gKVDrVwrkP1u\\u002fUqDWr+Q\\u002fVlVVVVVV5T9R61cK1PrlP0yBWr9SoOY\\u002fRhdddNFF5z9BrV8pUOvnPzxDYt7OkOg\\u002fN9lkk0026T8yb2dIzNvpPy0Fav1Kgeo\\u002fJ5tssskm6z8iMW9nSMzrPx3HcRzHcew\\u002fGF100UUX7T8T83aGxLztPw6JeTtDYu4\\u002fCB988MEH7z8DtX6lQK3vP3+lQK1fKfA\\u002fffDBBx988D96O0Ni3s7wP3eGxLydIfE\\u002fddFFF1108T9yHMdxHMfxP3BnSMzbGfI\\u002fbbLJJpts8j9q\\u002fUqBWr\\u002fyP2hIzNsZEvM\\u002fZZNNNtlk8z9j3s6QmLfzP2ApUOtXCvQ\\u002fXnTRRRdd9D9bv1Kg1q\\u002f0P1gK1PqVAvU\\u002fVlVVVVVV9T9ToNavFKj1P1HrVwrU+vU\\u002fTjbZZJNN9j9MgVq\\u002fUqD2P0nM2xkS8\\u002fY\\u002fRhdddNFF9z9EYt7OkJj3P0GtXylQ6\\u002fc\\u002fP\\u002fjggw8++D88Q2LezpD4PzmO4ziO4\\u002fg\\u002fN9lkk002+T80JObtDIn5PzJvZ0jM2\\u002fk\\u002fL7rooosu+j8tBWr9SoH6PypQ61cK1Po\\u002fJ5tssskm+z8l5u0MiXn7PyIxb2dIzPs\\u002fIHzwwQcf\\u002fD8dx3Ecx3H8PxsS83aGxPw\\u002fGF100UUX\\u002fT8VqPUrBWr9PxPzdobEvP0\\u002fED744IMP\\u002fj8OiXk7Q2L+PwvU+pUCtf4\\u002fCB988MEH\\u002fz8Gav1KgVr\\u002fPwO1fqVArf8\\u002fAAAAAAAAAEA=\"},\"xaxis\":\"x\",\"y\":{\"dtype\":\"f8\",\"bdata\":\"AAAAAAAA8D8AAAAAAADwPwAAAAAAAPA\\u002fAAAAAAAA8D8AAAAAAADwPwAAAAAAAPA\\u002fAAAAAAAA8D8AAAAAAADwPwAAAAAAAPA\\u002fAAAAAAAA8D8AAAAAAADwPwAAAAAAAPA\\u002fAAAAAAAA8D8AAAAAAADwPwAAAAAAAPA\\u002fAAAAAAAA8D8AAAAAAADwPwAAAAAAAPA\\u002fAAAAAAAA8D8AAAAAAADwPwAAAAAAAPA\\u002fAAAAAAAA8D8AAAAAAADwPwAAAAAAAPA\\u002fAAAAAAAA8P8AAAAAAAD4fwAAAAAAAPh\\u002fAAAAAAAA+H8AAAAAAAD4fwAAAAAAAPh\\u002fAAAAAAAA+H8AAAAAAAD4fwAAAAAAAPh\\u002fAAAAAAAA+H8AAAAAAAD4fwAAAAAAAPh\\u002fAAAAAAAA+H8AAAAAAAD4fwAAAAAAAPh\\u002fAAAAAAAA+H8AAAAAAAD4fwAAAAAAAPD\\u002fsm3SEKPYsE855IOiS7yRwQAAAAAAAABAAAAAAAAAAEAAAAAAAAAAQAAAAAAAAABAAAAAAAAAAEAAAAAAAAAAQO2DFQX5GfM\\u002fAAAAAAAA8P8AAAAAAAD4fwAAAAAAAPh\\u002fAAAAAAAA+H8AAAAAAAD4fwAAAAAAAPh\\u002fAAAAAAAA+H8AAAAAAAD4fwAAAAAAAPh\\u002fAAAAAAAA+H8AAAAAAAD4fwAAAAAAAPh\\u002fAAAAAAAA+H8AAAAAAAD4fwAAAAAAAPh\\u002fAAAAAAAA8H\\u002fY83H681A1XPJndhOBay7EOOSDqkv8UUAAAAAAAADwPwAAAAAAAPA\\u002fAAAAAAAA8D8AAAAAAADwPwAAAAAAAPA\\u002fAAAAAAAA8D8AAAAAAADwPwAAAAAAAPA\\u002fAAAAAAAA8D8AAAAAAADwPwAAAAAAAPA\\u002fAAAAAAAA8D8AAAAAAADwPwAAAAAAAPA\\u002fAAAAAAAA8D8AAAAAAADwPwAAAAAAAPA\\u002fAAAAAAAA8D8AAAAAAADwPwAAAAAAAPA\\u002fAAAAAAAA8D8AAAAAAADwPwAAAAAAAPA\\u002fAAAAAAAA8D8AAAAAAADwPwAAAAAAAPA\\u002fAAAAAAAA8D8AAAAAAADwPwAAAAAAAPA\\u002fAAAAAAAA8D8=\"},\"yaxis\":\"y\",\"type\":\"scatter\"}],\"name\":\"20\"},{\"data\":[{\"hovertemplate\":\"variable=21\\u003cbr\\u003ex=%{x}\\u003cbr\\u003evalue=%{y}\\u003cextra\\u003e\\u003c\\u002fextra\\u003e\",\"legendgroup\":\"\",\"line\":{\"color\":\"#636efa\",\"dash\":\"solid\"},\"marker\":{\"symbol\":\"circle\"},\"mode\":\"lines\",\"name\":\"\",\"orientation\":\"v\",\"showlegend\":false,\"x\":{\"dtype\":\"f8\",\"bdata\":\"AAAAAAAAAABbv1Kg1q+UP1u\\u002fUqDWr6Q\\u002fCB988MEHrz9bv1Kg1q+0PzJvZ0jM27k\\u002fCB988MEHvz9wZ0jM2xnCP1u\\u002fUqDWr8Q\\u002fRhdddNFFxz8yb2dIzNvJPx3HcRzHccw\\u002fCB988MEHzz96O0Ni3s7QP3BnSMzbGdI\\u002fZZNNNtlk0z9bv1Kg1q\\u002fUP1HrVwrU+tU\\u002fRhdddNFF1z88Q2LezpDYPzJvZ0jM29k\\u002fJ5tssskm2z8dx3Ecx3HcPxPzdobEvN0\\u002fCB988MEH3z9\\u002fpUCtXyngP3o7Q2LezuA\\u002fddFFF1104T9wZ0jM2xniP2r9SoFav+I\\u002fZZNNNtlk4z9gKVDrVwrkP1u\\u002fUqDWr+Q\\u002fVlVVVVVV5T9R61cK1PrlP0yBWr9SoOY\\u002fRhdddNFF5z9BrV8pUOvnPzxDYt7OkOg\\u002fN9lkk0026T8yb2dIzNvpPy0Fav1Kgeo\\u002fJ5tssskm6z8iMW9nSMzrPx3HcRzHcew\\u002fGF100UUX7T8T83aGxLztPw6JeTtDYu4\\u002fCB988MEH7z8DtX6lQK3vP3+lQK1fKfA\\u002fffDBBx988D96O0Ni3s7wP3eGxLydIfE\\u002fddFFF1108T9yHMdxHMfxP3BnSMzbGfI\\u002fbbLJJpts8j9q\\u002fUqBWr\\u002fyP2hIzNsZEvM\\u002fZZNNNtlk8z9j3s6QmLfzP2ApUOtXCvQ\\u002fXnTRRRdd9D9bv1Kg1q\\u002f0P1gK1PqVAvU\\u002fVlVVVVVV9T9ToNavFKj1P1HrVwrU+vU\\u002fTjbZZJNN9j9MgVq\\u002fUqD2P0nM2xkS8\\u002fY\\u002fRhdddNFF9z9EYt7OkJj3P0GtXylQ6\\u002fc\\u002fP\\u002fjggw8++D88Q2LezpD4PzmO4ziO4\\u002fg\\u002fN9lkk002+T80JObtDIn5PzJvZ0jM2\\u002fk\\u002fL7rooosu+j8tBWr9SoH6PypQ61cK1Po\\u002fJ5tssskm+z8l5u0MiXn7PyIxb2dIzPs\\u002fIHzwwQcf\\u002fD8dx3Ecx3H8PxsS83aGxPw\\u002fGF100UUX\\u002fT8VqPUrBWr9PxPzdobEvP0\\u002fED744IMP\\u002fj8OiXk7Q2L+PwvU+pUCtf4\\u002fCB988MEH\\u002fz8Gav1KgVr\\u002fPwO1fqVArf8\\u002fAAAAAAAAAEA=\"},\"xaxis\":\"x\",\"y\":{\"dtype\":\"f8\",\"bdata\":\"AAAAAAAA8D8AAAAAAADwPwAAAAAAAPA\\u002fAAAAAAAA8D8AAAAAAADwPwAAAAAAAPA\\u002fAAAAAAAA8D8AAAAAAADwPwAAAAAAAPA\\u002fAAAAAAAA8D8AAAAAAADwPwAAAAAAAPA\\u002fAAAAAAAA8D8AAAAAAADwPwAAAAAAAPA\\u002fAAAAAAAA8D8AAAAAAADwPwAAAAAAAPA\\u002fAAAAAAAA8D8AAAAAAADwPwAAAAAAAPA\\u002fAAAAAAAA8D8AAAAAAADwPwAAAAAAAPA\\u002fAAAAAAAA8P8AAAAAAAD4fwAAAAAAAPh\\u002fAAAAAAAA+H8AAAAAAAD4fwAAAAAAAPh\\u002fAAAAAAAA+H8AAAAAAAD4fwAAAAAAAPh\\u002fAAAAAAAA+H8AAAAAAAD4fwAAAAAAAPh\\u002fAAAAAAAA+H8AAAAAAAD4fwAAAAAAAPh\\u002fAAAAAAAA+H8AAAAAAAD4fwAAAAAAAPh\\u002fAAAAAAAA8P8SomiXyBtX0To3A5+d8qXBAAAAAAAAAEAAAAAAAAAAQAAAAAAAAABAAAAAAAAAAEAAAAAAAAAAQLwOMXEoFANAAAAAAAAA8P8AAAAAAAD4fwAAAAAAAPh\\u002fAAAAAAAA+H8AAAAAAAD4fwAAAAAAAPh\\u002fAAAAAAAA+H8AAAAAAAD4fwAAAAAAAPh\\u002fAAAAAAAA+H8AAAAAAAD4fwAAAAAAAPh\\u002fAAAAAAAA+H8AAAAAAAD4fwAAAAAAAPh\\u002fAAAAAAAA+H8AAAAAAADwfxMi57qJE3ngQZj6oXkolcQ5NwOjnTJWQAAAAAAAAPA\\u002fAAAAAAAA8D8AAAAAAADwPwAAAAAAAPA\\u002fAAAAAAAA8D8AAAAAAADwPwAAAAAAAPA\\u002fAAAAAAAA8D8AAAAAAADwPwAAAAAAAPA\\u002fAAAAAAAA8D8AAAAAAADwPwAAAAAAAPA\\u002fAAAAAAAA8D8AAAAAAADwPwAAAAAAAPA\\u002fAAAAAAAA8D8AAAAAAADwPwAAAAAAAPA\\u002fAAAAAAAA8D8AAAAAAADwPwAAAAAAAPA\\u002fAAAAAAAA8D8AAAAAAADwPwAAAAAAAPA\\u002fAAAAAAAA8D8AAAAAAADwPwAAAAAAAPA\\u002fAAAAAAAA8D8=\"},\"yaxis\":\"y\",\"type\":\"scatter\"}],\"name\":\"21\"},{\"data\":[{\"hovertemplate\":\"variable=22\\u003cbr\\u003ex=%{x}\\u003cbr\\u003evalue=%{y}\\u003cextra\\u003e\\u003c\\u002fextra\\u003e\",\"legendgroup\":\"\",\"line\":{\"color\":\"#636efa\",\"dash\":\"solid\"},\"marker\":{\"symbol\":\"circle\"},\"mode\":\"lines\",\"name\":\"\",\"orientation\":\"v\",\"showlegend\":false,\"x\":{\"dtype\":\"f8\",\"bdata\":\"AAAAAAAAAABbv1Kg1q+UP1u\\u002fUqDWr6Q\\u002fCB988MEHrz9bv1Kg1q+0PzJvZ0jM27k\\u002fCB988MEHvz9wZ0jM2xnCP1u\\u002fUqDWr8Q\\u002fRhdddNFFxz8yb2dIzNvJPx3HcRzHccw\\u002fCB988MEHzz96O0Ni3s7QP3BnSMzbGdI\\u002fZZNNNtlk0z9bv1Kg1q\\u002fUP1HrVwrU+tU\\u002fRhdddNFF1z88Q2LezpDYPzJvZ0jM29k\\u002fJ5tssskm2z8dx3Ecx3HcPxPzdobEvN0\\u002fCB988MEH3z9\\u002fpUCtXyngP3o7Q2LezuA\\u002fddFFF1104T9wZ0jM2xniP2r9SoFav+I\\u002fZZNNNtlk4z9gKVDrVwrkP1u\\u002fUqDWr+Q\\u002fVlVVVVVV5T9R61cK1PrlP0yBWr9SoOY\\u002fRhdddNFF5z9BrV8pUOvnPzxDYt7OkOg\\u002fN9lkk0026T8yb2dIzNvpPy0Fav1Kgeo\\u002fJ5tssskm6z8iMW9nSMzrPx3HcRzHcew\\u002fGF100UUX7T8T83aGxLztPw6JeTtDYu4\\u002fCB988MEH7z8DtX6lQK3vP3+lQK1fKfA\\u002fffDBBx988D96O0Ni3s7wP3eGxLydIfE\\u002fddFFF1108T9yHMdxHMfxP3BnSMzbGfI\\u002fbbLJJpts8j9q\\u002fUqBWr\\u002fyP2hIzNsZEvM\\u002fZZNNNtlk8z9j3s6QmLfzP2ApUOtXCvQ\\u002fXnTRRRdd9D9bv1Kg1q\\u002f0P1gK1PqVAvU\\u002fVlVVVVVV9T9ToNavFKj1P1HrVwrU+vU\\u002fTjbZZJNN9j9MgVq\\u002fUqD2P0nM2xkS8\\u002fY\\u002fRhdddNFF9z9EYt7OkJj3P0GtXylQ6\\u002fc\\u002fP\\u002fjggw8++D88Q2LezpD4PzmO4ziO4\\u002fg\\u002fN9lkk002+T80JObtDIn5PzJvZ0jM2\\u002fk\\u002fL7rooosu+j8tBWr9SoH6PypQ61cK1Po\\u002fJ5tssskm+z8l5u0MiXn7PyIxb2dIzPs\\u002fIHzwwQcf\\u002fD8dx3Ecx3H8PxsS83aGxPw\\u002fGF100UUX\\u002fT8VqPUrBWr9PxPzdobEvP0\\u002fED744IMP\\u002fj8OiXk7Q2L+PwvU+pUCtf4\\u002fCB988MEH\\u002fz8Gav1KgVr\\u002fPwO1fqVArf8\\u002fAAAAAAAAAEA=\"},\"xaxis\":\"x\",\"y\":{\"dtype\":\"f8\",\"bdata\":\"AAAAAAAA8D8AAAAAAADwPwAAAAAAAPA\\u002fAAAAAAAA8D8AAAAAAADwPwAAAAAAAPA\\u002fAAAAAAAA8D8AAAAAAADwPwAAAAAAAPA\\u002fAAAAAAAA8D8AAAAAAADwPwAAAAAAAPA\\u002fAAAAAAAA8D8AAAAAAADwPwAAAAAAAPA\\u002fAAAAAAAA8D8AAAAAAADwPwAAAAAAAPA\\u002fAAAAAAAA8D8AAAAAAADwPwAAAAAAAPA\\u002fAAAAAAAA8D8AAAAAAADwPwAAAAAAAPA\\u002fAAAAAAAA8P8AAAAAAAD4fwAAAAAAAPh\\u002fAAAAAAAA+H8AAAAAAAD4fwAAAAAAAPh\\u002fAAAAAAAA+H8AAAAAAAD4fwAAAAAAAPh\\u002fAAAAAAAA+H8AAAAAAAD4fwAAAAAAAPh\\u002fAAAAAAAA+H8AAAAAAAD4fwAAAAAAAPh\\u002fAAAAAAAA+H8AAAAAAAD4fwAAAAAAAPh\\u002fAAAAAAAA+H8AAAAAAADwf34+56wTnRNTJWG6dwkpu8EAAAAAAAAAQAAAAAAAAABAAAAAAAAAAEAAAAAAAAAAQOvdH4M5\\u002fPM\\u002fAAAAAAAA8P8AAAAAAAD4fwAAAAAAAPh\\u002fAAAAAAAA+H8AAAAAAAD4fwAAAAAAAPh\\u002fAAAAAAAA+H8AAAAAAAD4fwAAAAAAAPh\\u002fAAAAAAAA+H8AAAAAAAD4fwAAAAAAAPh\\u002fAAAAAAAA+H8AAAAAAAD4fwAAAAAAAPh\\u002fAAAAAAAA+H8AAAAAAAD4fwAAAAAAAPD\\u002fjVy9IJ6EJGWIjwWHpikCxSRhunkJaVtAAAAAAAAA8D8AAAAAAADwPwAAAAAAAPA\\u002fAAAAAAAA8D8AAAAAAADwPwAAAAAAAPA\\u002fAAAAAAAA8D8AAAAAAADwPwAAAAAAAPA\\u002fAAAAAAAA8D8AAAAAAADwPwAAAAAAAPA\\u002fAAAAAAAA8D8AAAAAAADwPwAAAAAAAPA\\u002fAAAAAAAA8D8AAAAAAADwPwAAAAAAAPA\\u002fAAAAAAAA8D8AAAAAAADwPwAAAAAAAPA\\u002fAAAAAAAA8D8AAAAAAADwPwAAAAAAAPA\\u002fAAAAAAAA8D8AAAAAAADwPwAAAAAAAPA\\u002fAAAAAAAA8D8=\"},\"yaxis\":\"y\",\"type\":\"scatter\"}],\"name\":\"22\"},{\"data\":[{\"hovertemplate\":\"variable=23\\u003cbr\\u003ex=%{x}\\u003cbr\\u003evalue=%{y}\\u003cextra\\u003e\\u003c\\u002fextra\\u003e\",\"legendgroup\":\"\",\"line\":{\"color\":\"#636efa\",\"dash\":\"solid\"},\"marker\":{\"symbol\":\"circle\"},\"mode\":\"lines\",\"name\":\"\",\"orientation\":\"v\",\"showlegend\":false,\"x\":{\"dtype\":\"f8\",\"bdata\":\"AAAAAAAAAABbv1Kg1q+UP1u\\u002fUqDWr6Q\\u002fCB988MEHrz9bv1Kg1q+0PzJvZ0jM27k\\u002fCB988MEHvz9wZ0jM2xnCP1u\\u002fUqDWr8Q\\u002fRhdddNFFxz8yb2dIzNvJPx3HcRzHccw\\u002fCB988MEHzz96O0Ni3s7QP3BnSMzbGdI\\u002fZZNNNtlk0z9bv1Kg1q\\u002fUP1HrVwrU+tU\\u002fRhdddNFF1z88Q2LezpDYPzJvZ0jM29k\\u002fJ5tssskm2z8dx3Ecx3HcPxPzdobEvN0\\u002fCB988MEH3z9\\u002fpUCtXyngP3o7Q2LezuA\\u002fddFFF1104T9wZ0jM2xniP2r9SoFav+I\\u002fZZNNNtlk4z9gKVDrVwrkP1u\\u002fUqDWr+Q\\u002fVlVVVVVV5T9R61cK1PrlP0yBWr9SoOY\\u002fRhdddNFF5z9BrV8pUOvnPzxDYt7OkOg\\u002fN9lkk0026T8yb2dIzNvpPy0Fav1Kgeo\\u002fJ5tssskm6z8iMW9nSMzrPx3HcRzHcew\\u002fGF100UUX7T8T83aGxLztPw6JeTtDYu4\\u002fCB988MEH7z8DtX6lQK3vP3+lQK1fKfA\\u002fffDBBx988D96O0Ni3s7wP3eGxLydIfE\\u002fddFFF1108T9yHMdxHMfxP3BnSMzbGfI\\u002fbbLJJpts8j9q\\u002fUqBWr\\u002fyP2hIzNsZEvM\\u002fZZNNNtlk8z9j3s6QmLfzP2ApUOtXCvQ\\u002fXnTRRRdd9D9bv1Kg1q\\u002f0P1gK1PqVAvU\\u002fVlVVVVVV9T9ToNavFKj1P1HrVwrU+vU\\u002fTjbZZJNN9j9MgVq\\u002fUqD2P0nM2xkS8\\u002fY\\u002fRhdddNFF9z9EYt7OkJj3P0GtXylQ6\\u002fc\\u002fP\\u002fjggw8++D88Q2LezpD4PzmO4ziO4\\u002fg\\u002fN9lkk002+T80JObtDIn5PzJvZ0jM2\\u002fk\\u002fL7rooosu+j8tBWr9SoH6PypQ61cK1Po\\u002fJ5tssskm+z8l5u0MiXn7PyIxb2dIzPs\\u002fIHzwwQcf\\u002fD8dx3Ecx3H8PxsS83aGxPw\\u002fGF100UUX\\u002fT8VqPUrBWr9PxPzdobEvP0\\u002fED744IMP\\u002fj8OiXk7Q2L+PwvU+pUCtf4\\u002fCB988MEH\\u002fz8Gav1KgVr\\u002fPwO1fqVArf8\\u002fAAAAAAAAAEA=\"},\"xaxis\":\"x\",\"y\":{\"dtype\":\"f8\",\"bdata\":\"AAAAAAAA8D8AAAAAAADwPwAAAAAAAPA\\u002fAAAAAAAA8D8AAAAAAADwPwAAAAAAAPA\\u002fAAAAAAAA8D8AAAAAAADwPwAAAAAAAPA\\u002fAAAAAAAA8D8AAAAAAADwPwAAAAAAAPA\\u002fAAAAAAAA8D8AAAAAAADwPwAAAAAAAPA\\u002fAAAAAAAA8D8AAAAAAADwPwAAAAAAAPA\\u002fAAAAAAAA8D8AAAAAAADwPwAAAAAAAPA\\u002fAAAAAAAA8D8AAAAAAADwPwAAAAAAAPA\\u002fAAAAAAAA8P8AAAAAAAD4fwAAAAAAAPh\\u002fAAAAAAAA+H8AAAAAAAD4fwAAAAAAAPh\\u002fAAAAAAAA+H8AAAAAAAD4fwAAAAAAAPh\\u002fAAAAAAAA+H8AAAAAAAD4fwAAAAAAAPh\\u002fAAAAAAAA+H8AAAAAAAD4fwAAAAAAAPh\\u002fAAAAAAAA+H8AAAAAAAD4fwAAAAAAAPh\\u002fAAAAAAAA+H8AAAAAAAD4fwAAAAAAAPB\\u002fDsaDLdaZ5NS1hZ4PMc7QwQAAAAAAAABAAAAAAAAAAEAAAAAAAAAAQJftSTZHRwNAAAAAAAAA8P8AAAAAAAD4fwAAAAAAAPh\\u002fAAAAAAAA+H8AAAAAAAD4fwAAAAAAAPh\\u002fAAAAAAAA+H8AAAAAAAD4fwAAAAAAAPh\\u002fAAAAAAAA+H8AAAAAAAD4fwAAAAAAAPh\\u002fAAAAAAAA+H8AAAAAAAD4fwAAAAAAAPh\\u002fAAAAAAAA+H8AAAAAAAD4fwAAAAAAAPh\\u002fAAAAAAAA8P\\u002fRmZPBudI86stueFuqQHPFtYUeEDHuYEAAAAAAAADwPwAAAAAAAPA\\u002fAAAAAAAA8D8AAAAAAADwPwAAAAAAAPA\\u002fAAAAAAAA8D8AAAAAAADwPwAAAAAAAPA\\u002fAAAAAAAA8D8AAAAAAADwPwAAAAAAAPA\\u002fAAAAAAAA8D8AAAAAAADwPwAAAAAAAPA\\u002fAAAAAAAA8D8AAAAAAADwPwAAAAAAAPA\\u002fAAAAAAAA8D8AAAAAAADwPwAAAAAAAPA\\u002fAAAAAAAA8D8AAAAAAADwPwAAAAAAAPA\\u002fAAAAAAAA8D8AAAAAAADwPwAAAAAAAPA\\u002fAAAAAAAA8D8=\"},\"yaxis\":\"y\",\"type\":\"scatter\"}],\"name\":\"23\"},{\"data\":[{\"hovertemplate\":\"variable=24\\u003cbr\\u003ex=%{x}\\u003cbr\\u003evalue=%{y}\\u003cextra\\u003e\\u003c\\u002fextra\\u003e\",\"legendgroup\":\"\",\"line\":{\"color\":\"#636efa\",\"dash\":\"solid\"},\"marker\":{\"symbol\":\"circle\"},\"mode\":\"lines\",\"name\":\"\",\"orientation\":\"v\",\"showlegend\":false,\"x\":{\"dtype\":\"f8\",\"bdata\":\"AAAAAAAAAABbv1Kg1q+UP1u\\u002fUqDWr6Q\\u002fCB988MEHrz9bv1Kg1q+0PzJvZ0jM27k\\u002fCB988MEHvz9wZ0jM2xnCP1u\\u002fUqDWr8Q\\u002fRhdddNFFxz8yb2dIzNvJPx3HcRzHccw\\u002fCB988MEHzz96O0Ni3s7QP3BnSMzbGdI\\u002fZZNNNtlk0z9bv1Kg1q\\u002fUP1HrVwrU+tU\\u002fRhdddNFF1z88Q2LezpDYPzJvZ0jM29k\\u002fJ5tssskm2z8dx3Ecx3HcPxPzdobEvN0\\u002fCB988MEH3z9\\u002fpUCtXyngP3o7Q2LezuA\\u002fddFFF1104T9wZ0jM2xniP2r9SoFav+I\\u002fZZNNNtlk4z9gKVDrVwrkP1u\\u002fUqDWr+Q\\u002fVlVVVVVV5T9R61cK1PrlP0yBWr9SoOY\\u002fRhdddNFF5z9BrV8pUOvnPzxDYt7OkOg\\u002fN9lkk0026T8yb2dIzNvpPy0Fav1Kgeo\\u002fJ5tssskm6z8iMW9nSMzrPx3HcRzHcew\\u002fGF100UUX7T8T83aGxLztPw6JeTtDYu4\\u002fCB988MEH7z8DtX6lQK3vP3+lQK1fKfA\\u002fffDBBx988D96O0Ni3s7wP3eGxLydIfE\\u002fddFFF1108T9yHMdxHMfxP3BnSMzbGfI\\u002fbbLJJpts8j9q\\u002fUqBWr\\u002fyP2hIzNsZEvM\\u002fZZNNNtlk8z9j3s6QmLfzP2ApUOtXCvQ\\u002fXnTRRRdd9D9bv1Kg1q\\u002f0P1gK1PqVAvU\\u002fVlVVVVVV9T9ToNavFKj1P1HrVwrU+vU\\u002fTjbZZJNN9j9MgVq\\u002fUqD2P0nM2xkS8\\u002fY\\u002fRhdddNFF9z9EYt7OkJj3P0GtXylQ6\\u002fc\\u002fP\\u002fjggw8++D88Q2LezpD4PzmO4ziO4\\u002fg\\u002fN9lkk002+T80JObtDIn5PzJvZ0jM2\\u002fk\\u002fL7rooosu+j8tBWr9SoH6PypQ61cK1Po\\u002fJ5tssskm+z8l5u0MiXn7PyIxb2dIzPs\\u002fIHzwwQcf\\u002fD8dx3Ecx3H8PxsS83aGxPw\\u002fGF100UUX\\u002fT8VqPUrBWr9PxPzdobEvP0\\u002fED744IMP\\u002fj8OiXk7Q2L+PwvU+pUCtf4\\u002fCB988MEH\\u002fz8Gav1KgVr\\u002fPwO1fqVArf8\\u002fAAAAAAAAAEA=\"},\"xaxis\":\"x\",\"y\":{\"dtype\":\"f8\",\"bdata\":\"AAAAAAAA8D8AAAAAAADwPwAAAAAAAPA\\u002fAAAAAAAA8D8AAAAAAADwPwAAAAAAAPA\\u002fAAAAAAAA8D8AAAAAAADwPwAAAAAAAPA\\u002fAAAAAAAA8D8AAAAAAADwPwAAAAAAAPA\\u002fAAAAAAAA8D8AAAAAAADwPwAAAAAAAPA\\u002fAAAAAAAA8D8AAAAAAADwPwAAAAAAAPA\\u002fAAAAAAAA8D8AAAAAAADwPwAAAAAAAPA\\u002fAAAAAAAA8D8AAAAAAADwPwAAAAAAAPA\\u002fAAAAAAAA8P8AAAAAAAD4fwAAAAAAAPh\\u002fAAAAAAAA+H8AAAAAAAD4fwAAAAAAAPh\\u002fAAAAAAAA+H8AAAAAAAD4fwAAAAAAAPh\\u002fAAAAAAAA+H8AAAAAAAD4fwAAAAAAAPh\\u002fAAAAAAAA+H8AAAAAAAD4fwAAAAAAAPh\\u002fAAAAAAAA+H8AAAAAAAD4fwAAAAAAAPh\\u002fAAAAAAAA+H8AAAAAAAD4fwAAAAAAAPh\\u002fAAAAAAAA8P\\u002f3za6q6MbKVhBff1D2y+TBAAAAAAAAAEAAAAAAAAAAQGVrHCLhAPM\\u002fAAAAAAAA8P8AAAAAAAD4fwAAAAAAAPh\\u002fAAAAAAAA+H8AAAAAAAD4fwAAAAAAAPh\\u002fAAAAAAAA+H8AAAAAAAD4fwAAAAAAAPh\\u002fAAAAAAAA+H8AAAAAAAD4fwAAAAAAAPh\\u002fAAAAAAAA+H8AAAAAAAD4fwAAAAAAAPh\\u002fAAAAAAAA+H8AAAAAAAD4fwAAAAAAAPh\\u002fAAAAAAAA+H8AAAAAAADwfySrZIW2dcVvbxuTOeg16cUQX79Q9utkQAAAAAAAAPA\\u002fAAAAAAAA8D8AAAAAAADwPwAAAAAAAPA\\u002fAAAAAAAA8D8AAAAAAADwPwAAAAAAAPA\\u002fAAAAAAAA8D8AAAAAAADwPwAAAAAAAPA\\u002fAAAAAAAA8D8AAAAAAADwPwAAAAAAAPA\\u002fAAAAAAAA8D8AAAAAAADwPwAAAAAAAPA\\u002fAAAAAAAA8D8AAAAAAADwPwAAAAAAAPA\\u002fAAAAAAAA8D8AAAAAAADwPwAAAAAAAPA\\u002fAAAAAAAA8D8AAAAAAADwPwAAAAAAAPA\\u002fAAAAAAAA8D8=\"},\"yaxis\":\"y\",\"type\":\"scatter\"}],\"name\":\"24\"},{\"data\":[{\"hovertemplate\":\"variable=25\\u003cbr\\u003ex=%{x}\\u003cbr\\u003evalue=%{y}\\u003cextra\\u003e\\u003c\\u002fextra\\u003e\",\"legendgroup\":\"\",\"line\":{\"color\":\"#636efa\",\"dash\":\"solid\"},\"marker\":{\"symbol\":\"circle\"},\"mode\":\"lines\",\"name\":\"\",\"orientation\":\"v\",\"showlegend\":false,\"x\":{\"dtype\":\"f8\",\"bdata\":\"AAAAAAAAAABbv1Kg1q+UP1u\\u002fUqDWr6Q\\u002fCB988MEHrz9bv1Kg1q+0PzJvZ0jM27k\\u002fCB988MEHvz9wZ0jM2xnCP1u\\u002fUqDWr8Q\\u002fRhdddNFFxz8yb2dIzNvJPx3HcRzHccw\\u002fCB988MEHzz96O0Ni3s7QP3BnSMzbGdI\\u002fZZNNNtlk0z9bv1Kg1q\\u002fUP1HrVwrU+tU\\u002fRhdddNFF1z88Q2LezpDYPzJvZ0jM29k\\u002fJ5tssskm2z8dx3Ecx3HcPxPzdobEvN0\\u002fCB988MEH3z9\\u002fpUCtXyngP3o7Q2LezuA\\u002fddFFF1104T9wZ0jM2xniP2r9SoFav+I\\u002fZZNNNtlk4z9gKVDrVwrkP1u\\u002fUqDWr+Q\\u002fVlVVVVVV5T9R61cK1PrlP0yBWr9SoOY\\u002fRhdddNFF5z9BrV8pUOvnPzxDYt7OkOg\\u002fN9lkk0026T8yb2dIzNvpPy0Fav1Kgeo\\u002fJ5tssskm6z8iMW9nSMzrPx3HcRzHcew\\u002fGF100UUX7T8T83aGxLztPw6JeTtDYu4\\u002fCB988MEH7z8DtX6lQK3vP3+lQK1fKfA\\u002fffDBBx988D96O0Ni3s7wP3eGxLydIfE\\u002fddFFF1108T9yHMdxHMfxP3BnSMzbGfI\\u002fbbLJJpts8j9q\\u002fUqBWr\\u002fyP2hIzNsZEvM\\u002fZZNNNtlk8z9j3s6QmLfzP2ApUOtXCvQ\\u002fXnTRRRdd9D9bv1Kg1q\\u002f0P1gK1PqVAvU\\u002fVlVVVVVV9T9ToNavFKj1P1HrVwrU+vU\\u002fTjbZZJNN9j9MgVq\\u002fUqD2P0nM2xkS8\\u002fY\\u002fRhdddNFF9z9EYt7OkJj3P0GtXylQ6\\u002fc\\u002fP\\u002fjggw8++D88Q2LezpD4PzmO4ziO4\\u002fg\\u002fN9lkk002+T80JObtDIn5PzJvZ0jM2\\u002fk\\u002fL7rooosu+j8tBWr9SoH6PypQ61cK1Po\\u002fJ5tssskm+z8l5u0MiXn7PyIxb2dIzPs\\u002fIHzwwQcf\\u002fD8dx3Ecx3H8PxsS83aGxPw\\u002fGF100UUX\\u002fT8VqPUrBWr9PxPzdobEvP0\\u002fED744IMP\\u002fj8OiXk7Q2L+PwvU+pUCtf4\\u002fCB988MEH\\u002fz8Gav1KgVr\\u002fPwO1fqVArf8\\u002fAAAAAAAAAEA=\"},\"xaxis\":\"x\",\"y\":{\"dtype\":\"f8\",\"bdata\":\"AAAAAAAA8D8AAAAAAADwPwAAAAAAAPA\\u002fAAAAAAAA8D8AAAAAAADwPwAAAAAAAPA\\u002fAAAAAAAA8D8AAAAAAADwPwAAAAAAAPA\\u002fAAAAAAAA8D8AAAAAAADwPwAAAAAAAPA\\u002fAAAAAAAA8D8AAAAAAADwPwAAAAAAAPA\\u002fAAAAAAAA8D8AAAAAAADwPwAAAAAAAPA\\u002fAAAAAAAA8D8AAAAAAADwPwAAAAAAAPA\\u002fAAAAAAAA8D8AAAAAAADwPwAAAAAAAPA\\u002fAAAAAAAA8P8AAAAAAAD4fwAAAAAAAPh\\u002fAAAAAAAA+H8AAAAAAAD4fwAAAAAAAPh\\u002fAAAAAAAA+H8AAAAAAAD4fwAAAAAAAPh\\u002fAAAAAAAA+H8AAAAAAAD4fwAAAAAAAPh\\u002fAAAAAAAA+H8AAAAAAAD4fwAAAAAAAPh\\u002fAAAAAAAA+H8AAAAAAAD4fwAAAAAAAPh\\u002fAAAAAAAA+H8AAAAAAAD4fwAAAAAAAPh\\u002fAAAAAAAA+H8AAAAAAADw\\u002f+aeXroMicXYpAUAN2e8+cEAAAAAAAAAQH67SBmJDQNAAAAAAAAA8P8AAAAAAAD4fwAAAAAAAPh\\u002fAAAAAAAA+H8AAAAAAAD4fwAAAAAAAPh\\u002fAAAAAAAA+H8AAAAAAAD4fwAAAAAAAPh\\u002fAAAAAAAA+H8AAAAAAAD4fwAAAAAAAPh\\u002fAAAAAAAA+H8AAAAAAAD4fwAAAAAAAPh\\u002fAAAAAAAA+H8AAAAAAAD4fwAAAAAAAPh\\u002fAAAAAAAA+H8AAAAAAAD4fwAAAAAAAPB\\u002fJQvZpQrsxPUjyAUovmVkxqQFIDdn3GlAAAAAAAAA8D8AAAAAAADwPwAAAAAAAPA\\u002fAAAAAAAA8D8AAAAAAADwPwAAAAAAAPA\\u002fAAAAAAAA8D8AAAAAAADwPwAAAAAAAPA\\u002fAAAAAAAA8D8AAAAAAADwPwAAAAAAAPA\\u002fAAAAAAAA8D8AAAAAAADwPwAAAAAAAPA\\u002fAAAAAAAA8D8AAAAAAADwPwAAAAAAAPA\\u002fAAAAAAAA8D8AAAAAAADwPwAAAAAAAPA\\u002fAAAAAAAA8D8AAAAAAADwPwAAAAAAAPA\\u002fAAAAAAAA8D8=\"},\"yaxis\":\"y\",\"type\":\"scatter\"}],\"name\":\"25\"}]);\n",
       "                        }).then(function(){\n",
       "                            \n",
       "var gd = document.getElementById('dfe9f7f5-8679-418d-baf8-e725d65b3546');\n",
       "var x = new MutationObserver(function (mutations, observer) {{\n",
       "        var display = window.getComputedStyle(gd).display;\n",
       "        if (!display || display === 'none') {{\n",
       "            console.log([gd, 'removed!']);\n",
       "            Plotly.purge(gd);\n",
       "            observer.disconnect();\n",
       "        }}\n",
       "}});\n",
       "\n",
       "// Listen for the removal of the full notebook cells\n",
       "var notebookContainer = gd.closest('#notebook-container');\n",
       "if (notebookContainer) {{\n",
       "    x.observe(notebookContainer, {childList: true});\n",
       "}}\n",
       "\n",
       "// Listen for the clearing of the current output cell\n",
       "var outputEl = gd.closest('.output');\n",
       "if (outputEl) {{\n",
       "    x.observe(outputEl, {childList: true});\n",
       "}}\n",
       "\n",
       "                        })                };            </script>        </div>"
      ]
     },
     "metadata": {},
     "output_type": "display_data"
    }
   ],
   "source": [
    "u = square_wave_convection(100, 25, 0.025)\n",
    "\n",
    "make_convection_animation(u, 100, 25, 0, 2)"
   ]
  },
  {
   "cell_type": "code",
   "execution_count": 80,
   "metadata": {},
   "outputs": [
    {
     "data": {
      "text/plain": [
       "(26, 100)"
      ]
     },
     "execution_count": 80,
     "metadata": {},
     "output_type": "execute_result"
    }
   ],
   "source": [
    "u.shape"
   ]
  },
  {
   "cell_type": "code",
   "execution_count": 70,
   "metadata": {},
   "outputs": [],
   "source": [
    "u,x = convection(151, 51, 0.5, 2.0, 0.5)"
   ]
  },
  {
   "cell_type": "code",
   "execution_count": null,
   "metadata": {},
   "outputs": [],
   "source": [
    "u"
   ]
  },
  {
   "cell_type": "code",
   "execution_count": 86,
   "metadata": {},
   "outputs": [],
   "source": [
    "def convection(nt, nx, tmax, xmax, c):\n",
    "   \"\"\"\n",
    "   Returns the velocity field and distance for 1D linear convection\n",
    "   \"\"\"\n",
    "   # Increments\n",
    "   dt = tmax/(nt-1)\n",
    "   dx = xmax/(nx-1)\n",
    "\n",
    "   # Initialise data structures\n",
    "   import numpy as np\n",
    "   u = np.zeros((nx,nt))\n",
    "   x = np.zeros(nx)\n",
    "\n",
    "   # Boundary conditions\n",
    "   u[0,:] = u[nx-1,:] = 1\n",
    "\n",
    "   # Initial conditions\n",
    "   for i in range(1,nx-1):\n",
    "      if(i > (nx-1)/4 and i < (nx-1)/2):\n",
    "         u[i,0] = 2\n",
    "      else:\n",
    "         u[i,0] = 1\n",
    "\n",
    "   # Loop\n",
    "   for n in range(0,nt-1):\n",
    "      for i in range(1,nx-1):\n",
    "         u[i,n+1] = u[i,n]-u[i,n]*(dt/dx)*(u[i,n]-u[i-1,n])\n",
    "\n",
    "   # X Loop\n",
    "   for i in range(0,nx):\n",
    "      x[i] = i*dx\n",
    "\n",
    "   return u, x\n",
    "\n",
    "u,x = convection(151, 51, 0.5, 2.0, 0.5)\n",
    "#plot_convection(u,x,151,'Figure 1: c=0.5m/s, nt=151, nx=51, tmax=0.5s')\n",
    "\n",
    "#u,x = convection(151, 302, 0.5, 2.0, 0.5)\n",
    "#plot_convection(u,x,151,'Figure 2: c=0.5m/s, nt=151, nx=302, tmax=0.5s')\n",
    "\n",
    "#u,x = convection(151, 51, 2.0, 2.0, 0.5)\n",
    "#plot_convection(u,x,151,'Figure 3: c=0.5m/s, nt=151, nx=51, tmax=2s')"
   ]
  },
  {
   "cell_type": "code",
   "execution_count": 78,
   "metadata": {},
   "outputs": [
    {
     "data": {
      "text/plain": [
       "(51, 151)"
      ]
     },
     "execution_count": 78,
     "metadata": {},
     "output_type": "execute_result"
    }
   ],
   "source": [
    "u.shape"
   ]
  },
  {
   "cell_type": "code",
   "execution_count": 90,
   "metadata": {},
   "outputs": [
    {
     "name": "stdout",
     "output_type": "stream",
     "text": [
      "(51, 1) (51,) 0\n",
      "(51, 2) (51,) 1\n",
      "(51, 3) (51,) 2\n",
      "(51, 4) (51,) 3\n",
      "(51, 5) (51,) 4\n",
      "(51, 6) (51,) 5\n",
      "(51, 7) (51,) 6\n",
      "(51, 8) (51,) 7\n",
      "(51, 9) (51,) 8\n",
      "(51, 10) (51,) 9\n",
      "(51, 11) (51,) 10\n",
      "(51, 12) (51,) 11\n",
      "(51, 13) (51,) 12\n",
      "(51, 14) (51,) 13\n",
      "(51, 15) (51,) 14\n",
      "(51, 16) (51,) 15\n",
      "(51, 17) (51,) 16\n",
      "(51, 18) (51,) 17\n",
      "(51, 19) (51,) 18\n",
      "(51, 20) (51,) 19\n",
      "(51, 21) (51,) 20\n",
      "(51, 22) (51,) 21\n",
      "(51, 23) (51,) 22\n",
      "(51, 24) (51,) 23\n",
      "(51, 25) (51,) 24\n",
      "(51, 26) (51,) 25\n",
      "(51, 27) (51,) 26\n",
      "(51, 28) (51,) 27\n",
      "(51, 29) (51,) 28\n",
      "(51, 30) (51,) 29\n",
      "(51, 31) (51,) 30\n",
      "(51, 32) (51,) 31\n",
      "(51, 33) (51,) 32\n",
      "(51, 34) (51,) 33\n",
      "(51, 35) (51,) 34\n",
      "(51, 36) (51,) 35\n",
      "(51, 37) (51,) 36\n",
      "(51, 38) (51,) 37\n",
      "(51, 39) (51,) 38\n",
      "(51, 40) (51,) 39\n",
      "(51, 41) (51,) 40\n",
      "(51, 42) (51,) 41\n",
      "(51, 43) (51,) 42\n",
      "(51, 44) (51,) 43\n",
      "(51, 45) (51,) 44\n",
      "(51, 46) (51,) 45\n",
      "(51, 47) (51,) 46\n",
      "(51, 48) (51,) 47\n",
      "(51, 49) (51,) 48\n",
      "(51, 50) (51,) 49\n",
      "(51, 51) (51,) 50\n",
      "(51, 52) (51,) 51\n",
      "(51, 53) (51,) 52\n",
      "(51, 54) (51,) 53\n",
      "(51, 55) (51,) 54\n",
      "(51, 56) (51,) 55\n",
      "(51, 57) (51,) 56\n",
      "(51, 58) (51,) 57\n",
      "(51, 59) (51,) 58\n",
      "(51, 60) (51,) 59\n",
      "(51, 61) (51,) 60\n",
      "(51, 62) (51,) 61\n",
      "(51, 63) (51,) 62\n",
      "(51, 64) (51,) 63\n",
      "(51, 65) (51,) 64\n",
      "(51, 66) (51,) 65\n",
      "(51, 67) (51,) 66\n",
      "(51, 68) (51,) 67\n",
      "(51, 69) (51,) 68\n",
      "(51, 70) (51,) 69\n",
      "(51, 71) (51,) 70\n",
      "(51, 72) (51,) 71\n",
      "(51, 73) (51,) 72\n",
      "(51, 74) (51,) 73\n",
      "(51, 75) (51,) 74\n",
      "(51, 76) (51,) 75\n",
      "(51, 77) (51,) 76\n",
      "(51, 78) (51,) 77\n",
      "(51, 79) (51,) 78\n",
      "(51, 80) (51,) 79\n",
      "(51, 81) (51,) 80\n",
      "(51, 82) (51,) 81\n",
      "(51, 83) (51,) 82\n",
      "(51, 84) (51,) 83\n",
      "(51, 85) (51,) 84\n",
      "(51, 86) (51,) 85\n",
      "(51, 87) (51,) 86\n",
      "(51, 88) (51,) 87\n",
      "(51, 89) (51,) 88\n",
      "(51, 90) (51,) 89\n",
      "(51, 91) (51,) 90\n",
      "(51, 92) (51,) 91\n",
      "(51, 93) (51,) 92\n",
      "(51, 94) (51,) 93\n",
      "(51, 95) (51,) 94\n",
      "(51, 96) (51,) 95\n",
      "(51, 97) (51,) 96\n",
      "(51, 98) (51,) 97\n",
      "(51, 99) (51,) 98\n",
      "(51, 100) (51,) 99\n",
      "(51, 101) (51,) 100\n",
      "(51, 102) (51,) 101\n",
      "(51, 103) (51,) 102\n",
      "(51, 104) (51,) 103\n",
      "(51, 105) (51,) 104\n",
      "(51, 106) (51,) 105\n",
      "(51, 107) (51,) 106\n",
      "(51, 108) (51,) 107\n",
      "(51, 109) (51,) 108\n",
      "(51, 110) (51,) 109\n",
      "(51, 111) (51,) 110\n",
      "(51, 112) (51,) 111\n",
      "(51, 113) (51,) 112\n",
      "(51, 114) (51,) 113\n",
      "(51, 115) (51,) 114\n",
      "(51, 116) (51,) 115\n",
      "(51, 117) (51,) 116\n",
      "(51, 118) (51,) 117\n",
      "(51, 119) (51,) 118\n",
      "(51, 120) (51,) 119\n",
      "(51, 121) (51,) 120\n",
      "(51, 122) (51,) 121\n",
      "(51, 123) (51,) 122\n",
      "(51, 124) (51,) 123\n",
      "(51, 125) (51,) 124\n",
      "(51, 126) (51,) 125\n",
      "(51, 127) (51,) 126\n",
      "(51, 128) (51,) 127\n",
      "(51, 129) (51,) 128\n",
      "(51, 130) (51,) 129\n",
      "(51, 131) (51,) 130\n",
      "(51, 132) (51,) 131\n",
      "(51, 133) (51,) 132\n",
      "(51, 134) (51,) 133\n",
      "(51, 135) (51,) 134\n",
      "(51, 136) (51,) 135\n",
      "(51, 137) (51,) 136\n",
      "(51, 138) (51,) 137\n",
      "(51, 139) (51,) 138\n",
      "(51, 140) (51,) 139\n",
      "(51, 141) (51,) 140\n",
      "(51, 142) (51,) 141\n",
      "(51, 143) (51,) 142\n",
      "(51, 144) (51,) 143\n",
      "(51, 145) (51,) 144\n",
      "(51, 146) (51,) 145\n",
      "(51, 147) (51,) 146\n",
      "(51, 148) (51,) 147\n",
      "(51, 149) (51,) 148\n",
      "(51, 150) (51,) 149\n",
      "(51, 151) (51,) 150\n"
     ]
    },
    {
     "name": "stderr",
     "output_type": "stream",
     "text": [
      "/var/folders/5k/jthrmhld0q919b4jn2g5mzs00000gn/T/ipykernel_66456/1284276192.py:42: PerformanceWarning:\n",
      "\n",
      "DataFrame is highly fragmented.  This is usually the result of calling `frame.insert` many times, which has poor performance.  Consider joining all columns at once using pd.concat(axis=1) instead. To get a de-fragmented frame, use `newframe = frame.copy()`\n",
      "\n",
      "/var/folders/5k/jthrmhld0q919b4jn2g5mzs00000gn/T/ipykernel_66456/1284276192.py:42: PerformanceWarning:\n",
      "\n",
      "DataFrame is highly fragmented.  This is usually the result of calling `frame.insert` many times, which has poor performance.  Consider joining all columns at once using pd.concat(axis=1) instead. To get a de-fragmented frame, use `newframe = frame.copy()`\n",
      "\n",
      "/var/folders/5k/jthrmhld0q919b4jn2g5mzs00000gn/T/ipykernel_66456/1284276192.py:42: PerformanceWarning:\n",
      "\n",
      "DataFrame is highly fragmented.  This is usually the result of calling `frame.insert` many times, which has poor performance.  Consider joining all columns at once using pd.concat(axis=1) instead. To get a de-fragmented frame, use `newframe = frame.copy()`\n",
      "\n",
      "/var/folders/5k/jthrmhld0q919b4jn2g5mzs00000gn/T/ipykernel_66456/1284276192.py:42: PerformanceWarning:\n",
      "\n",
      "DataFrame is highly fragmented.  This is usually the result of calling `frame.insert` many times, which has poor performance.  Consider joining all columns at once using pd.concat(axis=1) instead. To get a de-fragmented frame, use `newframe = frame.copy()`\n",
      "\n",
      "/var/folders/5k/jthrmhld0q919b4jn2g5mzs00000gn/T/ipykernel_66456/1284276192.py:42: PerformanceWarning:\n",
      "\n",
      "DataFrame is highly fragmented.  This is usually the result of calling `frame.insert` many times, which has poor performance.  Consider joining all columns at once using pd.concat(axis=1) instead. To get a de-fragmented frame, use `newframe = frame.copy()`\n",
      "\n",
      "/var/folders/5k/jthrmhld0q919b4jn2g5mzs00000gn/T/ipykernel_66456/1284276192.py:42: PerformanceWarning:\n",
      "\n",
      "DataFrame is highly fragmented.  This is usually the result of calling `frame.insert` many times, which has poor performance.  Consider joining all columns at once using pd.concat(axis=1) instead. To get a de-fragmented frame, use `newframe = frame.copy()`\n",
      "\n",
      "/var/folders/5k/jthrmhld0q919b4jn2g5mzs00000gn/T/ipykernel_66456/1284276192.py:42: PerformanceWarning:\n",
      "\n",
      "DataFrame is highly fragmented.  This is usually the result of calling `frame.insert` many times, which has poor performance.  Consider joining all columns at once using pd.concat(axis=1) instead. To get a de-fragmented frame, use `newframe = frame.copy()`\n",
      "\n",
      "/var/folders/5k/jthrmhld0q919b4jn2g5mzs00000gn/T/ipykernel_66456/1284276192.py:42: PerformanceWarning:\n",
      "\n",
      "DataFrame is highly fragmented.  This is usually the result of calling `frame.insert` many times, which has poor performance.  Consider joining all columns at once using pd.concat(axis=1) instead. To get a de-fragmented frame, use `newframe = frame.copy()`\n",
      "\n",
      "/var/folders/5k/jthrmhld0q919b4jn2g5mzs00000gn/T/ipykernel_66456/1284276192.py:42: PerformanceWarning:\n",
      "\n",
      "DataFrame is highly fragmented.  This is usually the result of calling `frame.insert` many times, which has poor performance.  Consider joining all columns at once using pd.concat(axis=1) instead. To get a de-fragmented frame, use `newframe = frame.copy()`\n",
      "\n",
      "/var/folders/5k/jthrmhld0q919b4jn2g5mzs00000gn/T/ipykernel_66456/1284276192.py:42: PerformanceWarning:\n",
      "\n",
      "DataFrame is highly fragmented.  This is usually the result of calling `frame.insert` many times, which has poor performance.  Consider joining all columns at once using pd.concat(axis=1) instead. To get a de-fragmented frame, use `newframe = frame.copy()`\n",
      "\n",
      "/var/folders/5k/jthrmhld0q919b4jn2g5mzs00000gn/T/ipykernel_66456/1284276192.py:42: PerformanceWarning:\n",
      "\n",
      "DataFrame is highly fragmented.  This is usually the result of calling `frame.insert` many times, which has poor performance.  Consider joining all columns at once using pd.concat(axis=1) instead. To get a de-fragmented frame, use `newframe = frame.copy()`\n",
      "\n",
      "/var/folders/5k/jthrmhld0q919b4jn2g5mzs00000gn/T/ipykernel_66456/1284276192.py:42: PerformanceWarning:\n",
      "\n",
      "DataFrame is highly fragmented.  This is usually the result of calling `frame.insert` many times, which has poor performance.  Consider joining all columns at once using pd.concat(axis=1) instead. To get a de-fragmented frame, use `newframe = frame.copy()`\n",
      "\n",
      "/var/folders/5k/jthrmhld0q919b4jn2g5mzs00000gn/T/ipykernel_66456/1284276192.py:42: PerformanceWarning:\n",
      "\n",
      "DataFrame is highly fragmented.  This is usually the result of calling `frame.insert` many times, which has poor performance.  Consider joining all columns at once using pd.concat(axis=1) instead. To get a de-fragmented frame, use `newframe = frame.copy()`\n",
      "\n",
      "/var/folders/5k/jthrmhld0q919b4jn2g5mzs00000gn/T/ipykernel_66456/1284276192.py:42: PerformanceWarning:\n",
      "\n",
      "DataFrame is highly fragmented.  This is usually the result of calling `frame.insert` many times, which has poor performance.  Consider joining all columns at once using pd.concat(axis=1) instead. To get a de-fragmented frame, use `newframe = frame.copy()`\n",
      "\n",
      "/var/folders/5k/jthrmhld0q919b4jn2g5mzs00000gn/T/ipykernel_66456/1284276192.py:42: PerformanceWarning:\n",
      "\n",
      "DataFrame is highly fragmented.  This is usually the result of calling `frame.insert` many times, which has poor performance.  Consider joining all columns at once using pd.concat(axis=1) instead. To get a de-fragmented frame, use `newframe = frame.copy()`\n",
      "\n",
      "/var/folders/5k/jthrmhld0q919b4jn2g5mzs00000gn/T/ipykernel_66456/1284276192.py:42: PerformanceWarning:\n",
      "\n",
      "DataFrame is highly fragmented.  This is usually the result of calling `frame.insert` many times, which has poor performance.  Consider joining all columns at once using pd.concat(axis=1) instead. To get a de-fragmented frame, use `newframe = frame.copy()`\n",
      "\n",
      "/var/folders/5k/jthrmhld0q919b4jn2g5mzs00000gn/T/ipykernel_66456/1284276192.py:42: PerformanceWarning:\n",
      "\n",
      "DataFrame is highly fragmented.  This is usually the result of calling `frame.insert` many times, which has poor performance.  Consider joining all columns at once using pd.concat(axis=1) instead. To get a de-fragmented frame, use `newframe = frame.copy()`\n",
      "\n",
      "/var/folders/5k/jthrmhld0q919b4jn2g5mzs00000gn/T/ipykernel_66456/1284276192.py:42: PerformanceWarning:\n",
      "\n",
      "DataFrame is highly fragmented.  This is usually the result of calling `frame.insert` many times, which has poor performance.  Consider joining all columns at once using pd.concat(axis=1) instead. To get a de-fragmented frame, use `newframe = frame.copy()`\n",
      "\n",
      "/var/folders/5k/jthrmhld0q919b4jn2g5mzs00000gn/T/ipykernel_66456/1284276192.py:42: PerformanceWarning:\n",
      "\n",
      "DataFrame is highly fragmented.  This is usually the result of calling `frame.insert` many times, which has poor performance.  Consider joining all columns at once using pd.concat(axis=1) instead. To get a de-fragmented frame, use `newframe = frame.copy()`\n",
      "\n",
      "/var/folders/5k/jthrmhld0q919b4jn2g5mzs00000gn/T/ipykernel_66456/1284276192.py:42: PerformanceWarning:\n",
      "\n",
      "DataFrame is highly fragmented.  This is usually the result of calling `frame.insert` many times, which has poor performance.  Consider joining all columns at once using pd.concat(axis=1) instead. To get a de-fragmented frame, use `newframe = frame.copy()`\n",
      "\n",
      "/var/folders/5k/jthrmhld0q919b4jn2g5mzs00000gn/T/ipykernel_66456/1284276192.py:42: PerformanceWarning:\n",
      "\n",
      "DataFrame is highly fragmented.  This is usually the result of calling `frame.insert` many times, which has poor performance.  Consider joining all columns at once using pd.concat(axis=1) instead. To get a de-fragmented frame, use `newframe = frame.copy()`\n",
      "\n",
      "/var/folders/5k/jthrmhld0q919b4jn2g5mzs00000gn/T/ipykernel_66456/1284276192.py:42: PerformanceWarning:\n",
      "\n",
      "DataFrame is highly fragmented.  This is usually the result of calling `frame.insert` many times, which has poor performance.  Consider joining all columns at once using pd.concat(axis=1) instead. To get a de-fragmented frame, use `newframe = frame.copy()`\n",
      "\n",
      "/var/folders/5k/jthrmhld0q919b4jn2g5mzs00000gn/T/ipykernel_66456/1284276192.py:42: PerformanceWarning:\n",
      "\n",
      "DataFrame is highly fragmented.  This is usually the result of calling `frame.insert` many times, which has poor performance.  Consider joining all columns at once using pd.concat(axis=1) instead. To get a de-fragmented frame, use `newframe = frame.copy()`\n",
      "\n",
      "/var/folders/5k/jthrmhld0q919b4jn2g5mzs00000gn/T/ipykernel_66456/1284276192.py:42: PerformanceWarning:\n",
      "\n",
      "DataFrame is highly fragmented.  This is usually the result of calling `frame.insert` many times, which has poor performance.  Consider joining all columns at once using pd.concat(axis=1) instead. To get a de-fragmented frame, use `newframe = frame.copy()`\n",
      "\n",
      "/var/folders/5k/jthrmhld0q919b4jn2g5mzs00000gn/T/ipykernel_66456/1284276192.py:42: PerformanceWarning:\n",
      "\n",
      "DataFrame is highly fragmented.  This is usually the result of calling `frame.insert` many times, which has poor performance.  Consider joining all columns at once using pd.concat(axis=1) instead. To get a de-fragmented frame, use `newframe = frame.copy()`\n",
      "\n",
      "/var/folders/5k/jthrmhld0q919b4jn2g5mzs00000gn/T/ipykernel_66456/1284276192.py:42: PerformanceWarning:\n",
      "\n",
      "DataFrame is highly fragmented.  This is usually the result of calling `frame.insert` many times, which has poor performance.  Consider joining all columns at once using pd.concat(axis=1) instead. To get a de-fragmented frame, use `newframe = frame.copy()`\n",
      "\n",
      "/var/folders/5k/jthrmhld0q919b4jn2g5mzs00000gn/T/ipykernel_66456/1284276192.py:42: PerformanceWarning:\n",
      "\n",
      "DataFrame is highly fragmented.  This is usually the result of calling `frame.insert` many times, which has poor performance.  Consider joining all columns at once using pd.concat(axis=1) instead. To get a de-fragmented frame, use `newframe = frame.copy()`\n",
      "\n",
      "/var/folders/5k/jthrmhld0q919b4jn2g5mzs00000gn/T/ipykernel_66456/1284276192.py:42: PerformanceWarning:\n",
      "\n",
      "DataFrame is highly fragmented.  This is usually the result of calling `frame.insert` many times, which has poor performance.  Consider joining all columns at once using pd.concat(axis=1) instead. To get a de-fragmented frame, use `newframe = frame.copy()`\n",
      "\n",
      "/var/folders/5k/jthrmhld0q919b4jn2g5mzs00000gn/T/ipykernel_66456/1284276192.py:42: PerformanceWarning:\n",
      "\n",
      "DataFrame is highly fragmented.  This is usually the result of calling `frame.insert` many times, which has poor performance.  Consider joining all columns at once using pd.concat(axis=1) instead. To get a de-fragmented frame, use `newframe = frame.copy()`\n",
      "\n",
      "/var/folders/5k/jthrmhld0q919b4jn2g5mzs00000gn/T/ipykernel_66456/1284276192.py:42: PerformanceWarning:\n",
      "\n",
      "DataFrame is highly fragmented.  This is usually the result of calling `frame.insert` many times, which has poor performance.  Consider joining all columns at once using pd.concat(axis=1) instead. To get a de-fragmented frame, use `newframe = frame.copy()`\n",
      "\n",
      "/var/folders/5k/jthrmhld0q919b4jn2g5mzs00000gn/T/ipykernel_66456/1284276192.py:42: PerformanceWarning:\n",
      "\n",
      "DataFrame is highly fragmented.  This is usually the result of calling `frame.insert` many times, which has poor performance.  Consider joining all columns at once using pd.concat(axis=1) instead. To get a de-fragmented frame, use `newframe = frame.copy()`\n",
      "\n",
      "/var/folders/5k/jthrmhld0q919b4jn2g5mzs00000gn/T/ipykernel_66456/1284276192.py:42: PerformanceWarning:\n",
      "\n",
      "DataFrame is highly fragmented.  This is usually the result of calling `frame.insert` many times, which has poor performance.  Consider joining all columns at once using pd.concat(axis=1) instead. To get a de-fragmented frame, use `newframe = frame.copy()`\n",
      "\n",
      "/var/folders/5k/jthrmhld0q919b4jn2g5mzs00000gn/T/ipykernel_66456/1284276192.py:42: PerformanceWarning:\n",
      "\n",
      "DataFrame is highly fragmented.  This is usually the result of calling `frame.insert` many times, which has poor performance.  Consider joining all columns at once using pd.concat(axis=1) instead. To get a de-fragmented frame, use `newframe = frame.copy()`\n",
      "\n",
      "/var/folders/5k/jthrmhld0q919b4jn2g5mzs00000gn/T/ipykernel_66456/1284276192.py:42: PerformanceWarning:\n",
      "\n",
      "DataFrame is highly fragmented.  This is usually the result of calling `frame.insert` many times, which has poor performance.  Consider joining all columns at once using pd.concat(axis=1) instead. To get a de-fragmented frame, use `newframe = frame.copy()`\n",
      "\n",
      "/var/folders/5k/jthrmhld0q919b4jn2g5mzs00000gn/T/ipykernel_66456/1284276192.py:42: PerformanceWarning:\n",
      "\n",
      "DataFrame is highly fragmented.  This is usually the result of calling `frame.insert` many times, which has poor performance.  Consider joining all columns at once using pd.concat(axis=1) instead. To get a de-fragmented frame, use `newframe = frame.copy()`\n",
      "\n",
      "/var/folders/5k/jthrmhld0q919b4jn2g5mzs00000gn/T/ipykernel_66456/1284276192.py:42: PerformanceWarning:\n",
      "\n",
      "DataFrame is highly fragmented.  This is usually the result of calling `frame.insert` many times, which has poor performance.  Consider joining all columns at once using pd.concat(axis=1) instead. To get a de-fragmented frame, use `newframe = frame.copy()`\n",
      "\n",
      "/var/folders/5k/jthrmhld0q919b4jn2g5mzs00000gn/T/ipykernel_66456/1284276192.py:42: PerformanceWarning:\n",
      "\n",
      "DataFrame is highly fragmented.  This is usually the result of calling `frame.insert` many times, which has poor performance.  Consider joining all columns at once using pd.concat(axis=1) instead. To get a de-fragmented frame, use `newframe = frame.copy()`\n",
      "\n",
      "/var/folders/5k/jthrmhld0q919b4jn2g5mzs00000gn/T/ipykernel_66456/1284276192.py:42: PerformanceWarning:\n",
      "\n",
      "DataFrame is highly fragmented.  This is usually the result of calling `frame.insert` many times, which has poor performance.  Consider joining all columns at once using pd.concat(axis=1) instead. To get a de-fragmented frame, use `newframe = frame.copy()`\n",
      "\n",
      "/var/folders/5k/jthrmhld0q919b4jn2g5mzs00000gn/T/ipykernel_66456/1284276192.py:42: PerformanceWarning:\n",
      "\n",
      "DataFrame is highly fragmented.  This is usually the result of calling `frame.insert` many times, which has poor performance.  Consider joining all columns at once using pd.concat(axis=1) instead. To get a de-fragmented frame, use `newframe = frame.copy()`\n",
      "\n",
      "/var/folders/5k/jthrmhld0q919b4jn2g5mzs00000gn/T/ipykernel_66456/1284276192.py:42: PerformanceWarning:\n",
      "\n",
      "DataFrame is highly fragmented.  This is usually the result of calling `frame.insert` many times, which has poor performance.  Consider joining all columns at once using pd.concat(axis=1) instead. To get a de-fragmented frame, use `newframe = frame.copy()`\n",
      "\n",
      "/var/folders/5k/jthrmhld0q919b4jn2g5mzs00000gn/T/ipykernel_66456/1284276192.py:42: PerformanceWarning:\n",
      "\n",
      "DataFrame is highly fragmented.  This is usually the result of calling `frame.insert` many times, which has poor performance.  Consider joining all columns at once using pd.concat(axis=1) instead. To get a de-fragmented frame, use `newframe = frame.copy()`\n",
      "\n",
      "/var/folders/5k/jthrmhld0q919b4jn2g5mzs00000gn/T/ipykernel_66456/1284276192.py:42: PerformanceWarning:\n",
      "\n",
      "DataFrame is highly fragmented.  This is usually the result of calling `frame.insert` many times, which has poor performance.  Consider joining all columns at once using pd.concat(axis=1) instead. To get a de-fragmented frame, use `newframe = frame.copy()`\n",
      "\n",
      "/var/folders/5k/jthrmhld0q919b4jn2g5mzs00000gn/T/ipykernel_66456/1284276192.py:42: PerformanceWarning:\n",
      "\n",
      "DataFrame is highly fragmented.  This is usually the result of calling `frame.insert` many times, which has poor performance.  Consider joining all columns at once using pd.concat(axis=1) instead. To get a de-fragmented frame, use `newframe = frame.copy()`\n",
      "\n",
      "/var/folders/5k/jthrmhld0q919b4jn2g5mzs00000gn/T/ipykernel_66456/1284276192.py:42: PerformanceWarning:\n",
      "\n",
      "DataFrame is highly fragmented.  This is usually the result of calling `frame.insert` many times, which has poor performance.  Consider joining all columns at once using pd.concat(axis=1) instead. To get a de-fragmented frame, use `newframe = frame.copy()`\n",
      "\n",
      "/var/folders/5k/jthrmhld0q919b4jn2g5mzs00000gn/T/ipykernel_66456/1284276192.py:42: PerformanceWarning:\n",
      "\n",
      "DataFrame is highly fragmented.  This is usually the result of calling `frame.insert` many times, which has poor performance.  Consider joining all columns at once using pd.concat(axis=1) instead. To get a de-fragmented frame, use `newframe = frame.copy()`\n",
      "\n",
      "/var/folders/5k/jthrmhld0q919b4jn2g5mzs00000gn/T/ipykernel_66456/1284276192.py:42: PerformanceWarning:\n",
      "\n",
      "DataFrame is highly fragmented.  This is usually the result of calling `frame.insert` many times, which has poor performance.  Consider joining all columns at once using pd.concat(axis=1) instead. To get a de-fragmented frame, use `newframe = frame.copy()`\n",
      "\n",
      "/var/folders/5k/jthrmhld0q919b4jn2g5mzs00000gn/T/ipykernel_66456/1284276192.py:42: PerformanceWarning:\n",
      "\n",
      "DataFrame is highly fragmented.  This is usually the result of calling `frame.insert` many times, which has poor performance.  Consider joining all columns at once using pd.concat(axis=1) instead. To get a de-fragmented frame, use `newframe = frame.copy()`\n",
      "\n",
      "/var/folders/5k/jthrmhld0q919b4jn2g5mzs00000gn/T/ipykernel_66456/1284276192.py:42: PerformanceWarning:\n",
      "\n",
      "DataFrame is highly fragmented.  This is usually the result of calling `frame.insert` many times, which has poor performance.  Consider joining all columns at once using pd.concat(axis=1) instead. To get a de-fragmented frame, use `newframe = frame.copy()`\n",
      "\n",
      "/var/folders/5k/jthrmhld0q919b4jn2g5mzs00000gn/T/ipykernel_66456/1284276192.py:42: PerformanceWarning:\n",
      "\n",
      "DataFrame is highly fragmented.  This is usually the result of calling `frame.insert` many times, which has poor performance.  Consider joining all columns at once using pd.concat(axis=1) instead. To get a de-fragmented frame, use `newframe = frame.copy()`\n",
      "\n",
      "/var/folders/5k/jthrmhld0q919b4jn2g5mzs00000gn/T/ipykernel_66456/1284276192.py:42: PerformanceWarning:\n",
      "\n",
      "DataFrame is highly fragmented.  This is usually the result of calling `frame.insert` many times, which has poor performance.  Consider joining all columns at once using pd.concat(axis=1) instead. To get a de-fragmented frame, use `newframe = frame.copy()`\n",
      "\n",
      "/var/folders/5k/jthrmhld0q919b4jn2g5mzs00000gn/T/ipykernel_66456/1284276192.py:42: PerformanceWarning:\n",
      "\n",
      "DataFrame is highly fragmented.  This is usually the result of calling `frame.insert` many times, which has poor performance.  Consider joining all columns at once using pd.concat(axis=1) instead. To get a de-fragmented frame, use `newframe = frame.copy()`\n",
      "\n",
      "/var/folders/5k/jthrmhld0q919b4jn2g5mzs00000gn/T/ipykernel_66456/1284276192.py:42: PerformanceWarning:\n",
      "\n",
      "DataFrame is highly fragmented.  This is usually the result of calling `frame.insert` many times, which has poor performance.  Consider joining all columns at once using pd.concat(axis=1) instead. To get a de-fragmented frame, use `newframe = frame.copy()`\n",
      "\n"
     ]
    },
    {
     "data": {
      "application/vnd.plotly.v1+json": {
       "config": {
        "plotlyServerURL": "https://plot.ly"
       },
       "data": [
        {
         "hovertemplate": "variable=0<br>x=%{x}<br>value=%{y}<extra></extra>",
         "legendgroup": "",
         "line": {
          "color": "#636efa",
          "dash": "solid"
         },
         "marker": {
          "symbol": "circle"
         },
         "mode": "lines",
         "name": "",
         "orientation": "v",
         "showlegend": false,
         "type": "scatter",
         "x": {
          "bdata": "AAAAAAAAAAB7FK5H4XqkP3sUrkfherQ/uB6F61G4vj97FK5H4XrEP5qZmZmZmck/uB6F61G4zj/sUbgehevRP3sUrkfhetQ/CtejcD0K1z+amZmZmZnZPylcj8L1KNw/uB6F61G43j+kcD0K16PgP+xRuB6F6+E/MzMzMzMz4z97FK5H4XrkP8P1KFyPwuU/CtejcD0K5z9SuB6F61HoP5qZmZmZmek/4XoUrkfh6j8pXI/C9SjsP3E9CtejcO0/uB6F61G47j8AAAAAAADwP6RwPQrXo/A/SOF6FK5H8T/sUbgehevxP4/C9Shcj/I/MzMzMzMz8z/Xo3A9CtfzP3sUrkfhevQ/H4XrUbge9T/D9Shcj8L1P2dmZmZmZvY/CtejcD0K9z+uR+F6FK73P1K4HoXrUfg/9ihcj8L1+D+amZmZmZn5Pz4K16NwPfo/4XoUrkfh+j+F61G4HoX7Pylcj8L1KPw/zczMzMzM/D9xPQrXo3D9PxWuR+F6FP4/uB6F61G4/j9cj8L1KFz/PwAAAAAAAABA",
          "dtype": "f8"
         },
         "xaxis": "x",
         "y": {
          "bdata": "AAAAAAAA8D8AAAAAAADwPwAAAAAAAPA/AAAAAAAA8D8AAAAAAADwPwAAAAAAAPA/AAAAAAAA8D8AAAAAAADwPwAAAAAAAPA/AAAAAAAA8D8AAAAAAADwPwAAAAAAAPA/AAAAAAAA8D8AAAAAAAAAQAAAAAAAAABAAAAAAAAAAEAAAAAAAAAAQAAAAAAAAABAAAAAAAAAAEAAAAAAAAAAQAAAAAAAAABAAAAAAAAAAEAAAAAAAAAAQAAAAAAAAABAAAAAAAAAAEAAAAAAAADwPwAAAAAAAPA/AAAAAAAA8D8AAAAAAADwPwAAAAAAAPA/AAAAAAAA8D8AAAAAAADwPwAAAAAAAPA/AAAAAAAA8D8AAAAAAADwPwAAAAAAAPA/AAAAAAAA8D8AAAAAAADwPwAAAAAAAPA/AAAAAAAA8D8AAAAAAADwPwAAAAAAAPA/AAAAAAAA8D8AAAAAAADwPwAAAAAAAPA/AAAAAAAA8D8AAAAAAADwPwAAAAAAAPA/AAAAAAAA8D8AAAAAAADwPwAAAAAAAPA/",
          "dtype": "f8"
         },
         "yaxis": "y"
        }
       ],
       "frames": [
        {
         "data": [
          {
           "hovertemplate": "variable=0<br>x=%{x}<br>value=%{y}<extra></extra>",
           "legendgroup": "",
           "line": {
            "color": "#636efa",
            "dash": "solid"
           },
           "marker": {
            "symbol": "circle"
           },
           "mode": "lines",
           "name": "",
           "orientation": "v",
           "showlegend": false,
           "type": "scatter",
           "x": {
            "bdata": "AAAAAAAAAAB7FK5H4XqkP3sUrkfherQ/uB6F61G4vj97FK5H4XrEP5qZmZmZmck/uB6F61G4zj/sUbgehevRP3sUrkfhetQ/CtejcD0K1z+amZmZmZnZPylcj8L1KNw/uB6F61G43j+kcD0K16PgP+xRuB6F6+E/MzMzMzMz4z97FK5H4XrkP8P1KFyPwuU/CtejcD0K5z9SuB6F61HoP5qZmZmZmek/4XoUrkfh6j8pXI/C9SjsP3E9CtejcO0/uB6F61G47j8AAAAAAADwP6RwPQrXo/A/SOF6FK5H8T/sUbgehevxP4/C9Shcj/I/MzMzMzMz8z/Xo3A9CtfzP3sUrkfhevQ/H4XrUbge9T/D9Shcj8L1P2dmZmZmZvY/CtejcD0K9z+uR+F6FK73P1K4HoXrUfg/9ihcj8L1+D+amZmZmZn5Pz4K16NwPfo/4XoUrkfh+j+F61G4HoX7Pylcj8L1KPw/zczMzMzM/D9xPQrXo3D9PxWuR+F6FP4/uB6F61G4/j9cj8L1KFz/PwAAAAAAAABA",
            "dtype": "f8"
           },
           "xaxis": "x",
           "y": {
            "bdata": "AAAAAAAA8D8AAAAAAADwPwAAAAAAAPA/AAAAAAAA8D8AAAAAAADwPwAAAAAAAPA/AAAAAAAA8D8AAAAAAADwPwAAAAAAAPA/AAAAAAAA8D8AAAAAAADwPwAAAAAAAPA/AAAAAAAA8D8AAAAAAAAAQAAAAAAAAABAAAAAAAAAAEAAAAAAAAAAQAAAAAAAAABAAAAAAAAAAEAAAAAAAAAAQAAAAAAAAABAAAAAAAAAAEAAAAAAAAAAQAAAAAAAAABAAAAAAAAAAEAAAAAAAADwPwAAAAAAAPA/AAAAAAAA8D8AAAAAAADwPwAAAAAAAPA/AAAAAAAA8D8AAAAAAADwPwAAAAAAAPA/AAAAAAAA8D8AAAAAAADwPwAAAAAAAPA/AAAAAAAA8D8AAAAAAADwPwAAAAAAAPA/AAAAAAAA8D8AAAAAAADwPwAAAAAAAPA/AAAAAAAA8D8AAAAAAADwPwAAAAAAAPA/AAAAAAAA8D8AAAAAAADwPwAAAAAAAPA/AAAAAAAA8D8AAAAAAADwPwAAAAAAAPA/",
            "dtype": "f8"
           },
           "yaxis": "y"
          }
         ],
         "name": "0"
        },
        {
         "data": [
          {
           "hovertemplate": "variable=1<br>x=%{x}<br>value=%{y}<extra></extra>",
           "legendgroup": "",
           "line": {
            "color": "#636efa",
            "dash": "solid"
           },
           "marker": {
            "symbol": "circle"
           },
           "mode": "lines",
           "name": "",
           "orientation": "v",
           "showlegend": false,
           "type": "scatter",
           "x": {
            "bdata": "AAAAAAAAAAB7FK5H4XqkP3sUrkfherQ/uB6F61G4vj97FK5H4XrEP5qZmZmZmck/uB6F61G4zj/sUbgehevRP3sUrkfhetQ/CtejcD0K1z+amZmZmZnZPylcj8L1KNw/uB6F61G43j+kcD0K16PgP+xRuB6F6+E/MzMzMzMz4z97FK5H4XrkP8P1KFyPwuU/CtejcD0K5z9SuB6F61HoP5qZmZmZmek/4XoUrkfh6j8pXI/C9SjsP3E9CtejcO0/uB6F61G47j8AAAAAAADwP6RwPQrXo/A/SOF6FK5H8T/sUbgehevxP4/C9Shcj/I/MzMzMzMz8z/Xo3A9CtfzP3sUrkfhevQ/H4XrUbge9T/D9Shcj8L1P2dmZmZmZvY/CtejcD0K9z+uR+F6FK73P1K4HoXrUfg/9ihcj8L1+D+amZmZmZn5Pz4K16NwPfo/4XoUrkfh+j+F61G4HoX7Pylcj8L1KPw/zczMzMzM/D9xPQrXo3D9PxWuR+F6FP4/uB6F61G4/j9cj8L1KFz/PwAAAAAAAABA",
            "dtype": "f8"
           },
           "xaxis": "x",
           "y": {
            "bdata": "AAAAAAAA8D8AAAAAAADwPwAAAAAAAPA/AAAAAAAA8D8AAAAAAADwPwAAAAAAAPA/AAAAAAAA8D8AAAAAAADwPwAAAAAAAPA/AAAAAAAA8D8AAAAAAADwPwAAAAAAAPA/AAAAAAAA8D9VVVVVVVX9PwAAAAAAAABAAAAAAAAAAEAAAAAAAAAAQAAAAAAAAABAAAAAAAAAAEAAAAAAAAAAQAAAAAAAAABAAAAAAAAAAEAAAAAAAAAAQAAAAAAAAABAAAAAAAAAAEBVVVVVVVXxPwAAAAAAAPA/AAAAAAAA8D8AAAAAAADwPwAAAAAAAPA/AAAAAAAA8D8AAAAAAADwPwAAAAAAAPA/AAAAAAAA8D8AAAAAAADwPwAAAAAAAPA/AAAAAAAA8D8AAAAAAADwPwAAAAAAAPA/AAAAAAAA8D8AAAAAAADwPwAAAAAAAPA/AAAAAAAA8D8AAAAAAADwPwAAAAAAAPA/AAAAAAAA8D8AAAAAAADwPwAAAAAAAPA/AAAAAAAA8D8AAAAAAADwPwAAAAAAAPA/",
            "dtype": "f8"
           },
           "yaxis": "y"
          }
         ],
         "name": "1"
        },
        {
         "data": [
          {
           "hovertemplate": "variable=2<br>x=%{x}<br>value=%{y}<extra></extra>",
           "legendgroup": "",
           "line": {
            "color": "#636efa",
            "dash": "solid"
           },
           "marker": {
            "symbol": "circle"
           },
           "mode": "lines",
           "name": "",
           "orientation": "v",
           "showlegend": false,
           "type": "scatter",
           "x": {
            "bdata": "AAAAAAAAAAB7FK5H4XqkP3sUrkfherQ/uB6F61G4vj97FK5H4XrEP5qZmZmZmck/uB6F61G4zj/sUbgehevRP3sUrkfhetQ/CtejcD0K1z+amZmZmZnZPylcj8L1KNw/uB6F61G43j+kcD0K16PgP+xRuB6F6+E/MzMzMzMz4z97FK5H4XrkP8P1KFyPwuU/CtejcD0K5z9SuB6F61HoP5qZmZmZmek/4XoUrkfh6j8pXI/C9SjsP3E9CtejcO0/uB6F61G47j8AAAAAAADwP6RwPQrXo/A/SOF6FK5H8T/sUbgehevxP4/C9Shcj/I/MzMzMzMz8z/Xo3A9CtfzP3sUrkfhevQ/H4XrUbge9T/D9Shcj8L1P2dmZmZmZvY/CtejcD0K9z+uR+F6FK73P1K4HoXrUfg/9ihcj8L1+D+amZmZmZn5Pz4K16NwPfo/4XoUrkfh+j+F61G4HoX7Pylcj8L1KPw/zczMzMzM/D9xPQrXo3D9PxWuR+F6FP4/uB6F61G4/j9cj8L1KFz/PwAAAAAAAABA",
            "dtype": "f8"
           },
           "xaxis": "x",
           "y": {
            "bdata": "AAAAAAAA8D8AAAAAAADwPwAAAAAAAPA/AAAAAAAA8D8AAAAAAADwPwAAAAAAAPA/AAAAAAAA8D8AAAAAAADwPwAAAAAAAPA/AAAAAAAA8D8AAAAAAADwPwAAAAAAAPA/AAAAAAAA8D+9hPYS2kv7P+M4juM4jv8/AAAAAAAAAEAAAAAAAAAAQAAAAAAAAABAAAAAAAAAAEAAAAAAAAAAQAAAAAAAAABAAAAAAAAAAEAAAAAAAAAAQAAAAAAAAABAAAAAAAAAAECE9hLaS6jyP8dxHMdxHPA/AAAAAAAA8D8AAAAAAADwPwAAAAAAAPA/AAAAAAAA8D8AAAAAAADwPwAAAAAAAPA/AAAAAAAA8D8AAAAAAADwPwAAAAAAAPA/AAAAAAAA8D8AAAAAAADwPwAAAAAAAPA/AAAAAAAA8D8AAAAAAADwPwAAAAAAAPA/AAAAAAAA8D8AAAAAAADwPwAAAAAAAPA/AAAAAAAA8D8AAAAAAADwPwAAAAAAAPA/AAAAAAAA8D8AAAAAAADwPwAAAAAAAPA/",
            "dtype": "f8"
           },
           "yaxis": "y"
          }
         ],
         "name": "2"
        },
        {
         "data": [
          {
           "hovertemplate": "variable=3<br>x=%{x}<br>value=%{y}<extra></extra>",
           "legendgroup": "",
           "line": {
            "color": "#636efa",
            "dash": "solid"
           },
           "marker": {
            "symbol": "circle"
           },
           "mode": "lines",
           "name": "",
           "orientation": "v",
           "showlegend": false,
           "type": "scatter",
           "x": {
            "bdata": "AAAAAAAAAAB7FK5H4XqkP3sUrkfherQ/uB6F61G4vj97FK5H4XrEP5qZmZmZmck/uB6F61G4zj/sUbgehevRP3sUrkfhetQ/CtejcD0K1z+amZmZmZnZPylcj8L1KNw/uB6F61G43j+kcD0K16PgP+xRuB6F6+E/MzMzMzMz4z97FK5H4XrkP8P1KFyPwuU/CtejcD0K5z9SuB6F61HoP5qZmZmZmek/4XoUrkfh6j8pXI/C9SjsP3E9CtejcO0/uB6F61G47j8AAAAAAADwP6RwPQrXo/A/SOF6FK5H8T/sUbgehevxP4/C9Shcj/I/MzMzMzMz8z/Xo3A9CtfzP3sUrkfhevQ/H4XrUbge9T/D9Shcj8L1P2dmZmZmZvY/CtejcD0K9z+uR+F6FK73P1K4HoXrUfg/9ihcj8L1+D+amZmZmZn5Pz4K16NwPfo/4XoUrkfh+j+F61G4HoX7Pylcj8L1KPw/zczMzMzM/D9xPQrXo3D9PxWuR+F6FP4/uB6F61G4/j9cj8L1KFz/PwAAAAAAAABA",
            "dtype": "f8"
           },
           "xaxis": "x",
           "y": {
            "bdata": "AAAAAAAA8D8AAAAAAADwPwAAAAAAAPA/AAAAAAAA8D8AAAAAAADwPwAAAAAAAPA/AAAAAAAA8D8AAAAAAADwPwAAAAAAAPA/AAAAAAAA8D8AAAAAAADwPwAAAAAAAPA/AAAAAAAA8D8k5InyuLD5P6YtrpAE2/4/0F5Cewnt/z8AAAAAAAAAQAAAAAAAAABAAAAAAAAAAEAAAAAAAAAAQAAAAAAAAABAAAAAAAAAAEAAAAAAAAAAQAAAAAAAAABAAAAAAAAAAEAxTqzANvTzPzZtcYUkU/A/JrSX0F4C8D8AAAAAAADwPwAAAAAAAPA/AAAAAAAA8D8AAAAAAADwPwAAAAAAAPA/AAAAAAAA8D8AAAAAAADwPwAAAAAAAPA/AAAAAAAA8D8AAAAAAADwPwAAAAAAAPA/AAAAAAAA8D8AAAAAAADwPwAAAAAAAPA/AAAAAAAA8D8AAAAAAADwPwAAAAAAAPA/AAAAAAAA8D8AAAAAAADwPwAAAAAAAPA/AAAAAAAA8D8AAAAAAADwPwAAAAAAAPA/",
            "dtype": "f8"
           },
           "yaxis": "y"
          }
         ],
         "name": "3"
        },
        {
         "data": [
          {
           "hovertemplate": "variable=4<br>x=%{x}<br>value=%{y}<extra></extra>",
           "legendgroup": "",
           "line": {
            "color": "#636efa",
            "dash": "solid"
           },
           "marker": {
            "symbol": "circle"
           },
           "mode": "lines",
           "name": "",
           "orientation": "v",
           "showlegend": false,
           "type": "scatter",
           "x": {
            "bdata": "AAAAAAAAAAB7FK5H4XqkP3sUrkfherQ/uB6F61G4vj97FK5H4XrEP5qZmZmZmck/uB6F61G4zj/sUbgehevRP3sUrkfhetQ/CtejcD0K1z+amZmZmZnZPylcj8L1KNw/uB6F61G43j+kcD0K16PgP+xRuB6F6+E/MzMzMzMz4z97FK5H4XrkP8P1KFyPwuU/CtejcD0K5z9SuB6F61HoP5qZmZmZmek/4XoUrkfh6j8pXI/C9SjsP3E9CtejcO0/uB6F61G47j8AAAAAAADwP6RwPQrXo/A/SOF6FK5H8T/sUbgehevxP4/C9Shcj/I/MzMzMzMz8z/Xo3A9CtfzP3sUrkfhevQ/H4XrUbge9T/D9Shcj8L1P2dmZmZmZvY/CtejcD0K9z+uR+F6FK73P1K4HoXrUfg/9ihcj8L1+D+amZmZmZn5Pz4K16NwPfo/4XoUrkfh+j+F61G4HoX7Pylcj8L1KPw/zczMzMzM/D9xPQrXo3D9PxWuR+F6FP4/uB6F61G4/j9cj8L1KFz/PwAAAAAAAABA",
            "dtype": "f8"
           },
           "xaxis": "x",
           "y": {
            "bdata": "AAAAAAAA8D8AAAAAAADwPwAAAAAAAPA/AAAAAAAA8D8AAAAAAADwPwAAAAAAAPA/AAAAAAAA8D8AAAAAAADwPwAAAAAAAPA/AAAAAAAA8D8AAAAAAADwPwAAAAAAAPA/AAAAAAAA8D/hVH3eymT4P4p6R2KEBv4/FRMeD3m//z8jZeDp1vz/PwAAAAAAAABAAAAAAAAAAEAAAAAAAAAAQAAAAAAAAABAAAAAAAAAAEAAAAAAAAAAQAAAAAAAAABAAAAAAAAAAECsmG2/szT1PwK++wYjovA/t/FG9BoJ8D+u+WGRMgDwPwAAAAAAAPA/AAAAAAAA8D8AAAAAAADwPwAAAAAAAPA/AAAAAAAA8D8AAAAAAADwPwAAAAAAAPA/AAAAAAAA8D8AAAAAAADwPwAAAAAAAPA/AAAAAAAA8D8AAAAAAADwPwAAAAAAAPA/AAAAAAAA8D8AAAAAAADwPwAAAAAAAPA/AAAAAAAA8D8AAAAAAADwPwAAAAAAAPA/AAAAAAAA8D8AAAAAAADwPwAAAAAAAPA/",
            "dtype": "f8"
           },
           "yaxis": "y"
          }
         ],
         "name": "4"
        },
        {
         "data": [
          {
           "hovertemplate": "variable=5<br>x=%{x}<br>value=%{y}<extra></extra>",
           "legendgroup": "",
           "line": {
            "color": "#636efa",
            "dash": "solid"
           },
           "marker": {
            "symbol": "circle"
           },
           "mode": "lines",
           "name": "",
           "orientation": "v",
           "showlegend": false,
           "type": "scatter",
           "x": {
            "bdata": "AAAAAAAAAAB7FK5H4XqkP3sUrkfherQ/uB6F61G4vj97FK5H4XrEP5qZmZmZmck/uB6F61G4zj/sUbgehevRP3sUrkfhetQ/CtejcD0K1z+amZmZmZnZPylcj8L1KNw/uB6F61G43j+kcD0K16PgP+xRuB6F6+E/MzMzMzMz4z97FK5H4XrkP8P1KFyPwuU/CtejcD0K5z9SuB6F61HoP5qZmZmZmek/4XoUrkfh6j8pXI/C9SjsP3E9CtejcO0/uB6F61G47j8AAAAAAADwP6RwPQrXo/A/SOF6FK5H8T/sUbgehevxP4/C9Shcj/I/MzMzMzMz8z/Xo3A9CtfzP3sUrkfhevQ/H4XrUbge9T/D9Shcj8L1P2dmZmZmZvY/CtejcD0K9z+uR+F6FK73P1K4HoXrUfg/9ihcj8L1+D+amZmZmZn5Pz4K16NwPfo/4XoUrkfh+j+F61G4HoX7Pylcj8L1KPw/zczMzMzM/D9xPQrXo3D9PxWuR+F6FP4/uB6F61G4/j9cj8L1KFz/PwAAAAAAAABA",
            "dtype": "f8"
           },
           "xaxis": "x",
           "y": {
            "bdata": "AAAAAAAA8D8AAAAAAADwPwAAAAAAAPA/AAAAAAAA8D8AAAAAAADwPwAAAAAAAPA/AAAAAAAA8D8AAAAAAADwPwAAAAAAAPA/AAAAAAAA8D8AAAAAAADwPwAAAAAAAPA/AAAAAAAA8D8E/5R6yVP3P6VB0nUOJf0/iJJyJI92/z+8NFmdnfL/P4a7+iZ5//8/AAAAAAAAAEAAAAAAAAAAQAAAAAAAAABAAAAAAAAAAEAAAAAAAAAAQAAAAAAAAABAAAAAAAAAAEBYlhqW5mX2PzwlA5aLB/E/jVhd4uIV8D97Ufib8ADwPyQqyDYEAPA/AAAAAAAA8D8AAAAAAADwPwAAAAAAAPA/AAAAAAAA8D8AAAAAAADwPwAAAAAAAPA/AAAAAAAA8D8AAAAAAADwPwAAAAAAAPA/AAAAAAAA8D8AAAAAAADwPwAAAAAAAPA/AAAAAAAA8D8AAAAAAADwPwAAAAAAAPA/AAAAAAAA8D8AAAAAAADwPwAAAAAAAPA/AAAAAAAA8D8AAAAAAADwPwAAAAAAAPA/",
            "dtype": "f8"
           },
           "yaxis": "y"
          }
         ],
         "name": "5"
        },
        {
         "data": [
          {
           "hovertemplate": "variable=6<br>x=%{x}<br>value=%{y}<extra></extra>",
           "legendgroup": "",
           "line": {
            "color": "#636efa",
            "dash": "solid"
           },
           "marker": {
            "symbol": "circle"
           },
           "mode": "lines",
           "name": "",
           "orientation": "v",
           "showlegend": false,
           "type": "scatter",
           "x": {
            "bdata": "AAAAAAAAAAB7FK5H4XqkP3sUrkfherQ/uB6F61G4vj97FK5H4XrEP5qZmZmZmck/uB6F61G4zj/sUbgehevRP3sUrkfhetQ/CtejcD0K1z+amZmZmZnZPylcj8L1KNw/uB6F61G43j+kcD0K16PgP+xRuB6F6+E/MzMzMzMz4z97FK5H4XrkP8P1KFyPwuU/CtejcD0K5z9SuB6F61HoP5qZmZmZmek/4XoUrkfh6j8pXI/C9SjsP3E9CtejcO0/uB6F61G47j8AAAAAAADwP6RwPQrXo/A/SOF6FK5H8T/sUbgehevxP4/C9Shcj/I/MzMzMzMz8z/Xo3A9CtfzP3sUrkfhevQ/H4XrUbge9T/D9Shcj8L1P2dmZmZmZvY/CtejcD0K9z+uR+F6FK73P1K4HoXrUfg/9ihcj8L1+D+amZmZmZn5Pz4K16NwPfo/4XoUrkfh+j+F61G4HoX7Pylcj8L1KPw/zczMzMzM/D9xPQrXo3D9PxWuR+F6FP4/uB6F61G4/j9cj8L1KFz/PwAAAAAAAABA",
            "dtype": "f8"
           },
           "xaxis": "x",
           "y": {
            "bdata": "AAAAAAAA8D8AAAAAAADwPwAAAAAAAPA/AAAAAAAA8D8AAAAAAADwPwAAAAAAAPA/AAAAAAAA8D8AAAAAAADwPwAAAAAAAPA/AAAAAAAA8D8AAAAAAADwPwAAAAAAAPA/AAAAAAAA8D+5TmjE4m/2P+CpFfH9Qvw/7duwNk0V/z+EvxQv+d3/P+w6EplU/f8/QR9/hun//z8AAAAAAAAAQAAAAAAAAABAAAAAAAAAAEAAAAAAAAAAQAAAAAAAAABAAAAAAAAAAEDlaAttp4T3P3LoLKdxgfE/76Gv0iEq8D9oQ2uRrwLwP/qy5ukXAPA/gwPmWQAA8D8AAAAAAADwPwAAAAAAAPA/AAAAAAAA8D8AAAAAAADwPwAAAAAAAPA/AAAAAAAA8D8AAAAAAADwPwAAAAAAAPA/AAAAAAAA8D8AAAAAAADwPwAAAAAAAPA/AAAAAAAA8D8AAAAAAADwPwAAAAAAAPA/AAAAAAAA8D8AAAAAAADwPwAAAAAAAPA/AAAAAAAA8D8AAAAAAADwPwAAAAAAAPA/",
            "dtype": "f8"
           },
           "yaxis": "y"
          }
         ],
         "name": "6"
        },
        {
         "data": [
          {
           "hovertemplate": "variable=7<br>x=%{x}<br>value=%{y}<extra></extra>",
           "legendgroup": "",
           "line": {
            "color": "#636efa",
            "dash": "solid"
           },
           "marker": {
            "symbol": "circle"
           },
           "mode": "lines",
           "name": "",
           "orientation": "v",
           "showlegend": false,
           "type": "scatter",
           "x": {
            "bdata": "AAAAAAAAAAB7FK5H4XqkP3sUrkfherQ/uB6F61G4vj97FK5H4XrEP5qZmZmZmck/uB6F61G4zj/sUbgehevRP3sUrkfhetQ/CtejcD0K1z+amZmZmZnZPylcj8L1KNw/uB6F61G43j+kcD0K16PgP+xRuB6F6+E/MzMzMzMz4z97FK5H4XrkP8P1KFyPwuU/CtejcD0K5z9SuB6F61HoP5qZmZmZmek/4XoUrkfh6j8pXI/C9SjsP3E9CtejcO0/uB6F61G47j8AAAAAAADwP6RwPQrXo/A/SOF6FK5H8T/sUbgehevxP4/C9Shcj/I/MzMzMzMz8z/Xo3A9CtfzP3sUrkfhevQ/H4XrUbge9T/D9Shcj8L1P2dmZmZmZvY/CtejcD0K9z+uR+F6FK73P1K4HoXrUfg/9ihcj8L1+D+amZmZmZn5Pz4K16NwPfo/4XoUrkfh+j+F61G4HoX7Pylcj8L1KPw/zczMzMzM/D9xPQrXo3D9PxWuR+F6FP4/uB6F61G4/j9cj8L1KFz/PwAAAAAAAABA",
            "dtype": "f8"
           },
           "xaxis": "x",
           "y": {
            "bdata": "AAAAAAAA8D8AAAAAAADwPwAAAAAAAPA/AAAAAAAA8D8AAAAAAADwPwAAAAAAAPA/AAAAAAAA8D8AAAAAAADwPwAAAAAAAPA/AAAAAAAA8D8AAAAAAADwPwAAAAAAAPA/AAAAAAAA8D/PgC9/UK/1P28+ErWBZ/s/pVBNnF2g/j+M0JfAqrz/Px9QryEb+P8/qVY6X3v//z/gLxVB/P//PwAAAAAAAABAAAAAAAAAAEAAAAAAAAAAQAAAAAAAAABAAAAAAAAAAED1pPqQn474P40QSCHIDfI/GFUAJQlH8D95Uh6k+QXwPzwSLzhPAPA/1ceQUAIA8D+g1X0HAADwPwAAAAAAAPA/AAAAAAAA8D8AAAAAAADwPwAAAAAAAPA/AAAAAAAA8D8AAAAAAADwPwAAAAAAAPA/AAAAAAAA8D8AAAAAAADwPwAAAAAAAPA/AAAAAAAA8D8AAAAAAADwPwAAAAAAAPA/AAAAAAAA8D8AAAAAAADwPwAAAAAAAPA/AAAAAAAA8D8AAAAAAADwPwAAAAAAAPA/",
            "dtype": "f8"
           },
           "yaxis": "y"
          }
         ],
         "name": "7"
        },
        {
         "data": [
          {
           "hovertemplate": "variable=8<br>x=%{x}<br>value=%{y}<extra></extra>",
           "legendgroup": "",
           "line": {
            "color": "#636efa",
            "dash": "solid"
           },
           "marker": {
            "symbol": "circle"
           },
           "mode": "lines",
           "name": "",
           "orientation": "v",
           "showlegend": false,
           "type": "scatter",
           "x": {
            "bdata": "AAAAAAAAAAB7FK5H4XqkP3sUrkfherQ/uB6F61G4vj97FK5H4XrEP5qZmZmZmck/uB6F61G4zj/sUbgehevRP3sUrkfhetQ/CtejcD0K1z+amZmZmZnZPylcj8L1KNw/uB6F61G43j+kcD0K16PgP+xRuB6F6+E/MzMzMzMz4z97FK5H4XrkP8P1KFyPwuU/CtejcD0K5z9SuB6F61HoP5qZmZmZmek/4XoUrkfh6j8pXI/C9SjsP3E9CtejcO0/uB6F61G47j8AAAAAAADwP6RwPQrXo/A/SOF6FK5H8T/sUbgehevxP4/C9Shcj/I/MzMzMzMz8z/Xo3A9CtfzP3sUrkfhevQ/H4XrUbge9T/D9Shcj8L1P2dmZmZmZvY/CtejcD0K9z+uR+F6FK73P1K4HoXrUfg/9ihcj8L1+D+amZmZmZn5Pz4K16NwPfo/4XoUrkfh+j+F61G4HoX7Pylcj8L1KPw/zczMzMzM/D9xPQrXo3D9PxWuR+F6FP4/uB6F61G4/j9cj8L1KFz/PwAAAAAAAABA",
            "dtype": "f8"
           },
           "xaxis": "x",
           "y": {
            "bdata": "AAAAAAAA8D8AAAAAAADwPwAAAAAAAPA/AAAAAAAA8D8AAAAAAADwPwAAAAAAAPA/AAAAAAAA8D8AAAAAAADwPwAAAAAAAPA/AAAAAAAA8D8AAAAAAADwPwAAAAAAAPA/AAAAAAAA8D/KI8LZ8gr1P2g08nGFlvo/FLcWTMoc/j+Lb7FDrI3/P0OLHoM17v8/Ai1mr0D+/z+x5B3G5v//P6UyLmD///8/AAAAAAAAAEAAAAAAAAAAQAAAAAAAAABAAAAAAAAAAEDrB7D9UoL5P9AIWNRTqvI/qTCko5Zt8D/o5dqfZwvwP2102RjIAPA/Yjs0uQgA8D/maT84AADwP83RnwAAAPA/AAAAAAAA8D8AAAAAAADwPwAAAAAAAPA/AAAAAAAA8D8AAAAAAADwPwAAAAAAAPA/AAAAAAAA8D8AAAAAAADwPwAAAAAAAPA/AAAAAAAA8D8AAAAAAADwPwAAAAAAAPA/AAAAAAAA8D8AAAAAAADwPwAAAAAAAPA/AAAAAAAA8D8AAAAAAADwPwAAAAAAAPA/",
            "dtype": "f8"
           },
           "yaxis": "y"
          }
         ],
         "name": "8"
        },
        {
         "data": [
          {
           "hovertemplate": "variable=9<br>x=%{x}<br>value=%{y}<extra></extra>",
           "legendgroup": "",
           "line": {
            "color": "#636efa",
            "dash": "solid"
           },
           "marker": {
            "symbol": "circle"
           },
           "mode": "lines",
           "name": "",
           "orientation": "v",
           "showlegend": false,
           "type": "scatter",
           "x": {
            "bdata": "AAAAAAAAAAB7FK5H4XqkP3sUrkfherQ/uB6F61G4vj97FK5H4XrEP5qZmZmZmck/uB6F61G4zj/sUbgehevRP3sUrkfhetQ/CtejcD0K1z+amZmZmZnZPylcj8L1KNw/uB6F61G43j+kcD0K16PgP+xRuB6F6+E/MzMzMzMz4z97FK5H4XrkP8P1KFyPwuU/CtejcD0K5z9SuB6F61HoP5qZmZmZmek/4XoUrkfh6j8pXI/C9SjsP3E9CtejcO0/uB6F61G47j8AAAAAAADwP6RwPQrXo/A/SOF6FK5H8T/sUbgehevxP4/C9Shcj/I/MzMzMzMz8z/Xo3A9CtfzP3sUrkfhevQ/H4XrUbge9T/D9Shcj8L1P2dmZmZmZvY/CtejcD0K9z+uR+F6FK73P1K4HoXrUfg/9ihcj8L1+D+amZmZmZn5Pz4K16NwPfo/4XoUrkfh+j+F61G4HoX7Pylcj8L1KPw/zczMzMzM/D9xPQrXo3D9PxWuR+F6FP4/uB6F61G4/j9cj8L1KFz/PwAAAAAAAABA",
            "dtype": "f8"
           },
           "xaxis": "x",
           "y": {
            "bdata": "AAAAAAAA8D8AAAAAAADwPwAAAAAAAPA/AAAAAAAA8D8AAAAAAADwPwAAAAAAAPA/AAAAAAAA8D8AAAAAAADwPwAAAAAAAPA/AAAAAAAA8D8AAAAAAADwPwAAAAAAAPA/AAAAAAAA8D8oqnCsdn30P84c1rLw0fk/1TGjPkiP/T/ndyPsDFH/PwcpLZUn3v8/pqZlTZT7/z/0ujZtoP//P8zkgEb7//8/cQhd5f///z8AAAAAAAAAQAAAAAAAAABAAAAAAAAAAEAidGEVGF/6P+d+a/ylVPM/4hvM+Zee8D/ohYUKnBPwP9IfgcSqAfA/YwfgqxgA8D+DKKntAADwP89zQgUAAPA/fFENAAAA8D8AAAAAAADwPwAAAAAAAPA/AAAAAAAA8D8AAAAAAADwPwAAAAAAAPA/AAAAAAAA8D8AAAAAAADwPwAAAAAAAPA/AAAAAAAA8D8AAAAAAADwPwAAAAAAAPA/AAAAAAAA8D8AAAAAAADwPwAAAAAAAPA/AAAAAAAA8D8AAAAAAADwPwAAAAAAAPA/",
            "dtype": "f8"
           },
           "yaxis": "y"
          }
         ],
         "name": "9"
        },
        {
         "data": [
          {
           "hovertemplate": "variable=10<br>x=%{x}<br>value=%{y}<extra></extra>",
           "legendgroup": "",
           "line": {
            "color": "#636efa",
            "dash": "solid"
           },
           "marker": {
            "symbol": "circle"
           },
           "mode": "lines",
           "name": "",
           "orientation": "v",
           "showlegend": false,
           "type": "scatter",
           "x": {
            "bdata": "AAAAAAAAAAB7FK5H4XqkP3sUrkfherQ/uB6F61G4vj97FK5H4XrEP5qZmZmZmck/uB6F61G4zj/sUbgehevRP3sUrkfhetQ/CtejcD0K1z+amZmZmZnZPylcj8L1KNw/uB6F61G43j+kcD0K16PgP+xRuB6F6+E/MzMzMzMz4z97FK5H4XrkP8P1KFyPwuU/CtejcD0K5z9SuB6F61HoP5qZmZmZmek/4XoUrkfh6j8pXI/C9SjsP3E9CtejcO0/uB6F61G47j8AAAAAAADwP6RwPQrXo/A/SOF6FK5H8T/sUbgehevxP4/C9Shcj/I/MzMzMzMz8z/Xo3A9CtfzP3sUrkfhevQ/H4XrUbge9T/D9Shcj8L1P2dmZmZmZvY/CtejcD0K9z+uR+F6FK73P1K4HoXrUfg/9ihcj8L1+D+amZmZmZn5Pz4K16NwPfo/4XoUrkfh+j+F61G4HoX7Pylcj8L1KPw/zczMzMzM/D9xPQrXo3D9PxWuR+F6FP4/uB6F61G4/j9cj8L1KFz/PwAAAAAAAABA",
            "dtype": "f8"
           },
           "xaxis": "x",
           "y": {
            "bdata": "AAAAAAAA8D8AAAAAAADwPwAAAAAAAPA/AAAAAAAA8D8AAAAAAADwPwAAAAAAAPA/AAAAAAAA8D8AAAAAAADwPwAAAAAAAPA/AAAAAAAA8D8AAAAAAADwPwAAAAAAAPA/AAAAAAAA8D+gXRMwywL0P1578ityGvk/gUcYmOT7/D8hcOGisAf/PwIZTQO8xv8/qwjMhq32/z9xT0K/8/7/Px8aTCLs//8/elg4IP///z9ogY/7////PwAAAAAAAABAAAAAAAAAAEDpdKQkASX7P3UgtZkeCvQ/W42Vxava8D+UZQM7Px/wP2GDOLIpA/A/Hh8hLjoA8D952C3oAgDwPzpYoBgAAPA/rml8AAAA8D8gHAEAAADwPwAAAAAAAPA/AAAAAAAA8D8AAAAAAADwPwAAAAAAAPA/AAAAAAAA8D8AAAAAAADwPwAAAAAAAPA/AAAAAAAA8D8AAAAAAADwPwAAAAAAAPA/AAAAAAAA8D8AAAAAAADwPwAAAAAAAPA/AAAAAAAA8D8AAAAAAADwPwAAAAAAAPA/",
            "dtype": "f8"
           },
           "yaxis": "y"
          }
         ],
         "name": "10"
        },
        {
         "data": [
          {
           "hovertemplate": "variable=11<br>x=%{x}<br>value=%{y}<extra></extra>",
           "legendgroup": "",
           "line": {
            "color": "#636efa",
            "dash": "solid"
           },
           "marker": {
            "symbol": "circle"
           },
           "mode": "lines",
           "name": "",
           "orientation": "v",
           "showlegend": false,
           "type": "scatter",
           "x": {
            "bdata": "AAAAAAAAAAB7FK5H4XqkP3sUrkfherQ/uB6F61G4vj97FK5H4XrEP5qZmZmZmck/uB6F61G4zj/sUbgehevRP3sUrkfhetQ/CtejcD0K1z+amZmZmZnZPylcj8L1KNw/uB6F61G43j+kcD0K16PgP+xRuB6F6+E/MzMzMzMz4z97FK5H4XrkP8P1KFyPwuU/CtejcD0K5z9SuB6F61HoP5qZmZmZmek/4XoUrkfh6j8pXI/C9SjsP3E9CtejcO0/uB6F61G47j8AAAAAAADwP6RwPQrXo/A/SOF6FK5H8T/sUbgehevxP4/C9Shcj/I/MzMzMzMz8z/Xo3A9CtfzP3sUrkfhevQ/H4XrUbge9T/D9Shcj8L1P2dmZmZmZvY/CtejcD0K9z+uR+F6FK73P1K4HoXrUfg/9ihcj8L1+D+amZmZmZn5Pz4K16NwPfo/4XoUrkfh+j+F61G4HoX7Pylcj8L1KPw/zczMzMzM/D9xPQrXo3D9PxWuR+F6FP4/uB6F61G4/j9cj8L1KFz/PwAAAAAAAABA",
            "dtype": "f8"
           },
           "xaxis": "x",
           "y": {
            "bdata": "AAAAAAAA8D8AAAAAAADwPwAAAAAAAPA/AAAAAAAA8D8AAAAAAADwPwAAAAAAAPA/AAAAAAAA8D8AAAAAAADwPwAAAAAAAPA/AAAAAAAA8D8AAAAAAADwPwAAAAAAAPA/AAAAAAAA8D/QP/4Ux5fzP0Ad/4f/b/g/Woryj+xl/D8rgSZhCbP+P78wl8Mdp/8/WcnLRLLu/z+1vGjBkv3/P0rWjrzC//8/OGTm9fv//z+b+gDX////P5GVQv////8/AAAAAAAAAEAO0QCMvNT7PyvRiBD2x/Q/CiItu0Ai8T+h1nkc/C7wP9eOY0mBBfA/RCFcz3gA8D/uSViDBwDwP/HNllQAAPA/Omh/AgAA8D+XYgsAAADwP60XAAAAAPA/AAAAAAAA8D8AAAAAAADwPwAAAAAAAPA/AAAAAAAA8D8AAAAAAADwPwAAAAAAAPA/AAAAAAAA8D8AAAAAAADwPwAAAAAAAPA/AAAAAAAA8D8AAAAAAADwPwAAAAAAAPA/AAAAAAAA8D8AAAAAAADwPwAAAAAAAPA/",
            "dtype": "f8"
           },
           "yaxis": "y"
          }
         ],
         "name": "11"
        },
        {
         "data": [
          {
           "hovertemplate": "variable=12<br>x=%{x}<br>value=%{y}<extra></extra>",
           "legendgroup": "",
           "line": {
            "color": "#636efa",
            "dash": "solid"
           },
           "marker": {
            "symbol": "circle"
           },
           "mode": "lines",
           "name": "",
           "orientation": "v",
           "showlegend": false,
           "type": "scatter",
           "x": {
            "bdata": "AAAAAAAAAAB7FK5H4XqkP3sUrkfherQ/uB6F61G4vj97FK5H4XrEP5qZmZmZmck/uB6F61G4zj/sUbgehevRP3sUrkfhetQ/CtejcD0K1z+amZmZmZnZPylcj8L1KNw/uB6F61G43j+kcD0K16PgP+xRuB6F6+E/MzMzMzMz4z97FK5H4XrkP8P1KFyPwuU/CtejcD0K5z9SuB6F61HoP5qZmZmZmek/4XoUrkfh6j8pXI/C9SjsP3E9CtejcO0/uB6F61G47j8AAAAAAADwP6RwPQrXo/A/SOF6FK5H8T/sUbgehevxP4/C9Shcj/I/MzMzMzMz8z/Xo3A9CtfzP3sUrkfhevQ/H4XrUbge9T/D9Shcj8L1P2dmZmZmZvY/CtejcD0K9z+uR+F6FK73P1K4HoXrUfg/9ihcj8L1+D+amZmZmZn5Pz4K16NwPfo/4XoUrkfh+j+F61G4HoX7Pylcj8L1KPw/zczMzMzM/D9xPQrXo3D9PxWuR+F6FP4/uB6F61G4/j9cj8L1KFz/PwAAAAAAAABA",
            "dtype": "f8"
           },
           "xaxis": "x",
           "y": {
            "bdata": "AAAAAAAA8D8AAAAAAADwPwAAAAAAAPA/AAAAAAAA8D8AAAAAAADwPwAAAAAAAPA/AAAAAAAA8D8AAAAAAADwPwAAAAAAAPA/AAAAAAAA8D8AAAAAAADwPwAAAAAAAPA/AAAAAAAA8D9lVqT06jnzP7wUYwYl0vc/lqzYFPXP+z+mkyaK11T+P0dRdrHgfv8/fiS5osri/z9nKxwyGPv/P4Qqu2hl//8/xQBZbPL//z8JjXwx////P737jPj///8/Q27g/////z+6ZDKQcG/8P6kDFwRNi/U/VLpNXJN18T/g8TxcfUPwP2+fxmD3CPA/jXsHMuQA8D/RCl30EADwP3Cb0e0AAPA/tbBWCQAA8D9luD8AAADwP5YIAQAAAPA/+QEAAAAA8D8AAAAAAADwPwAAAAAAAPA/AAAAAAAA8D8AAAAAAADwPwAAAAAAAPA/AAAAAAAA8D8AAAAAAADwPwAAAAAAAPA/AAAAAAAA8D8AAAAAAADwPwAAAAAAAPA/AAAAAAAA8D8AAAAAAADwPwAAAAAAAPA/",
            "dtype": "f8"
           },
           "yaxis": "y"
          }
         ],
         "name": "12"
        },
        {
         "data": [
          {
           "hovertemplate": "variable=13<br>x=%{x}<br>value=%{y}<extra></extra>",
           "legendgroup": "",
           "line": {
            "color": "#636efa",
            "dash": "solid"
           },
           "marker": {
            "symbol": "circle"
           },
           "mode": "lines",
           "name": "",
           "orientation": "v",
           "showlegend": false,
           "type": "scatter",
           "x": {
            "bdata": "AAAAAAAAAAB7FK5H4XqkP3sUrkfherQ/uB6F61G4vj97FK5H4XrEP5qZmZmZmck/uB6F61G4zj/sUbgehevRP3sUrkfhetQ/CtejcD0K1z+amZmZmZnZPylcj8L1KNw/uB6F61G43j+kcD0K16PgP+xRuB6F6+E/MzMzMzMz4z97FK5H4XrkP8P1KFyPwuU/CtejcD0K5z9SuB6F61HoP5qZmZmZmek/4XoUrkfh6j8pXI/C9SjsP3E9CtejcO0/uB6F61G47j8AAAAAAADwP6RwPQrXo/A/SOF6FK5H8T/sUbgehevxP4/C9Shcj/I/MzMzMzMz8z/Xo3A9CtfzP3sUrkfhevQ/H4XrUbge9T/D9Shcj8L1P2dmZmZmZvY/CtejcD0K9z+uR+F6FK73P1K4HoXrUfg/9ihcj8L1+D+amZmZmZn5Pz4K16NwPfo/4XoUrkfh+j+F61G4HoX7Pylcj8L1KPw/zczMzMzM/D9xPQrXo3D9PxWuR+F6FP4/uB6F61G4/j9cj8L1KFz/PwAAAAAAAABA",
            "dtype": "f8"
           },
           "xaxis": "x",
           "y": {
            "bdata": "AAAAAAAA8D8AAAAAAADwPwAAAAAAAPA/AAAAAAAA8D8AAAAAAADwPwAAAAAAAPA/AAAAAAAA8D8AAAAAAADwPwAAAAAAAPA/AAAAAAAA8D8AAAAAAADwPwAAAAAAAPA/AAAAAAAA8D9jZfuPNufyPxaBQq82QPc/NHMxFvE7+z/FJcww9+79Pwl//e78Tf8/geVI2DLS/z8kB9bjC/f/PxNSF+Ot/v8/FavI69r//z+6WKEQ/f//P/yTX9f///8/Ldun/v///z9OCBQll/b8PyjxydRAUfY/PwDk1qrU8T/YZhrJal3wP0PSDJzaDfA/sqCFf5AB8D/ekOiOIgDwPzyjskMCAPA/+u5gHAAA8D9sogEBAADwP+dBBgAAAPA/2xcAAAAA8D8qAAAAAADwPwAAAAAAAPA/AAAAAAAA8D8AAAAAAADwPwAAAAAAAPA/AAAAAAAA8D8AAAAAAADwPwAAAAAAAPA/AAAAAAAA8D8AAAAAAADwPwAAAAAAAPA/AAAAAAAA8D8AAAAAAADwPwAAAAAAAPA/",
            "dtype": "f8"
           },
           "yaxis": "y"
          }
         ],
         "name": "13"
        },
        {
         "data": [
          {
           "hovertemplate": "variable=14<br>x=%{x}<br>value=%{y}<extra></extra>",
           "legendgroup": "",
           "line": {
            "color": "#636efa",
            "dash": "solid"
           },
           "marker": {
            "symbol": "circle"
           },
           "mode": "lines",
           "name": "",
           "orientation": "v",
           "showlegend": false,
           "type": "scatter",
           "x": {
            "bdata": "AAAAAAAAAAB7FK5H4XqkP3sUrkfherQ/uB6F61G4vj97FK5H4XrEP5qZmZmZmck/uB6F61G4zj/sUbgehevRP3sUrkfhetQ/CtejcD0K1z+amZmZmZnZPylcj8L1KNw/uB6F61G43j+kcD0K16PgP+xRuB6F6+E/MzMzMzMz4z97FK5H4XrkP8P1KFyPwuU/CtejcD0K5z9SuB6F61HoP5qZmZmZmek/4XoUrkfh6j8pXI/C9SjsP3E9CtejcO0/uB6F61G47j8AAAAAAADwP6RwPQrXo/A/SOF6FK5H8T/sUbgehevxP4/C9Shcj/I/MzMzMzMz8z/Xo3A9CtfzP3sUrkfhevQ/H4XrUbge9T/D9Shcj8L1P2dmZmZmZvY/CtejcD0K9z+uR+F6FK73P1K4HoXrUfg/9ihcj8L1+D+amZmZmZn5Pz4K16NwPfo/4XoUrkfh+j+F61G4HoX7Pylcj8L1KPw/zczMzMzM/D9xPQrXo3D9PxWuR+F6FP4/uB6F61G4/j9cj8L1KFz/PwAAAAAAAABA",
            "dtype": "f8"
           },
           "xaxis": "x",
           "y": {
            "bdata": "AAAAAAAA8D8AAAAAAADwPwAAAAAAAPA/AAAAAAAA8D8AAAAAAADwPwAAAAAAAPA/AAAAAAAA8D8AAAAAAADwPwAAAAAAAPA/AAAAAAAA8D8AAAAAAADwPwAAAAAAAPA/AAAAAAAA8D/T6aFxCp7yP07meG5uufY/3l+shEyr+j+LqI2LO4P9P01z42zBFP8/OUD5ZUm8/z8j4yJv6fD/P9Fv/UVo/f8/9D7lv6j//z+9FtNf9///P7KK6mD///8/UM8b+P///z+O88zh3Gv9Pzz1i7cCF/c/El78rFU/8j+M81CzZn3wP9ez0rKBFPA/gHQzxpYC8D/WL+INQQDwP+AtovQEAPA//GhSSgAA8D94k0kDAADwP500GwAAAPA/XJsAAAAA8D8jAgAAAADwPwQAAAAAAPA/AAAAAAAA8D8AAAAAAADwPwAAAAAAAPA/AAAAAAAA8D8AAAAAAADwPwAAAAAAAPA/AAAAAAAA8D8AAAAAAADwPwAAAAAAAPA/AAAAAAAA8D8AAAAAAADwPwAAAAAAAPA/",
            "dtype": "f8"
           },
           "yaxis": "y"
          }
         ],
         "name": "14"
        },
        {
         "data": [
          {
           "hovertemplate": "variable=15<br>x=%{x}<br>value=%{y}<extra></extra>",
           "legendgroup": "",
           "line": {
            "color": "#636efa",
            "dash": "solid"
           },
           "marker": {
            "symbol": "circle"
           },
           "mode": "lines",
           "name": "",
           "orientation": "v",
           "showlegend": false,
           "type": "scatter",
           "x": {
            "bdata": "AAAAAAAAAAB7FK5H4XqkP3sUrkfherQ/uB6F61G4vj97FK5H4XrEP5qZmZmZmck/uB6F61G4zj/sUbgehevRP3sUrkfhetQ/CtejcD0K1z+amZmZmZnZPylcj8L1KNw/uB6F61G43j+kcD0K16PgP+xRuB6F6+E/MzMzMzMz4z97FK5H4XrkP8P1KFyPwuU/CtejcD0K5z9SuB6F61HoP5qZmZmZmek/4XoUrkfh6j8pXI/C9SjsP3E9CtejcO0/uB6F61G47j8AAAAAAADwP6RwPQrXo/A/SOF6FK5H8T/sUbgehevxP4/C9Shcj/I/MzMzMzMz8z/Xo3A9CtfzP3sUrkfhevQ/H4XrUbge9T/D9Shcj8L1P2dmZmZmZvY/CtejcD0K9z+uR+F6FK73P1K4HoXrUfg/9ihcj8L1+D+amZmZmZn5Pz4K16NwPfo/4XoUrkfh+j+F61G4HoX7Pylcj8L1KPw/zczMzMzM/D9xPQrXo3D9PxWuR+F6FP4/uB6F61G4/j9cj8L1KFz/PwAAAAAAAABA",
            "dtype": "f8"
           },
           "xaxis": "x",
           "y": {
            "bdata": "AAAAAAAA8D8AAAAAAADwPwAAAAAAAPA/AAAAAAAA8D8AAAAAAADwPwAAAAAAAPA/AAAAAAAA8D8AAAAAAADwPwAAAAAAAPA/AAAAAAAA8D8AAAAAAADwPwAAAAAAAPA/AAAAAAAA8D+NdUXvEV3yP2C/bzj+PPY/xzq9ygYf+j9LugE7VxP9P9EqubzB0/4/E36SfJig/z/rtPY6KOj/P1RxYE1T+/8/eumZrEj//z8I+y5F6v//P6uoZgv+//8/ke7o3v///z+1Ln8JBdH9Pww8Axvv2fc/Ks/u0ya18j998rQlC6TwP7fU6KZKHfA/XuNvQhUE8D+D0AjecgDwP85lvvYJAPA/iBDZrQAA8D+a+jQJAADwP9oRXwAAAPA/zNICAAAA8D/oDgAAAADwPzEAAAAAAPA/AAAAAAAA8D8AAAAAAADwPwAAAAAAAPA/AAAAAAAA8D8AAAAAAADwPwAAAAAAAPA/AAAAAAAA8D8AAAAAAADwPwAAAAAAAPA/AAAAAAAA8D8AAAAAAADwPwAAAAAAAPA/",
            "dtype": "f8"
           },
           "yaxis": "y"
          }
         ],
         "name": "15"
        },
        {
         "data": [
          {
           "hovertemplate": "variable=16<br>x=%{x}<br>value=%{y}<extra></extra>",
           "legendgroup": "",
           "line": {
            "color": "#636efa",
            "dash": "solid"
           },
           "marker": {
            "symbol": "circle"
           },
           "mode": "lines",
           "name": "",
           "orientation": "v",
           "showlegend": false,
           "type": "scatter",
           "x": {
            "bdata": "AAAAAAAAAAB7FK5H4XqkP3sUrkfherQ/uB6F61G4vj97FK5H4XrEP5qZmZmZmck/uB6F61G4zj/sUbgehevRP3sUrkfhetQ/CtejcD0K1z+amZmZmZnZPylcj8L1KNw/uB6F61G43j+kcD0K16PgP+xRuB6F6+E/MzMzMzMz4z97FK5H4XrkP8P1KFyPwuU/CtejcD0K5z9SuB6F61HoP5qZmZmZmek/4XoUrkfh6j8pXI/C9SjsP3E9CtejcO0/uB6F61G47j8AAAAAAADwP6RwPQrXo/A/SOF6FK5H8T/sUbgehevxP4/C9Shcj/I/MzMzMzMz8z/Xo3A9CtfzP3sUrkfhevQ/H4XrUbge9T/D9Shcj8L1P2dmZmZmZvY/CtejcD0K9z+uR+F6FK73P1K4HoXrUfg/9ihcj8L1+D+amZmZmZn5Pz4K16NwPfo/4XoUrkfh+j+F61G4HoX7Pylcj8L1KPw/zczMzMzM/D9xPQrXo3D9PxWuR+F6FP4/uB6F61G4/j9cj8L1KFz/PwAAAAAAAABA",
            "dtype": "f8"
           },
           "xaxis": "x",
           "y": {
            "bdata": "AAAAAAAA8D8AAAAAAADwPwAAAAAAAPA/AAAAAAAA8D8AAAAAAADwPwAAAAAAAPA/AAAAAAAA8D8AAAAAAADwPwAAAAAAAPA/AAAAAAAA8D8AAAAAAADwPwAAAAAAAPA/AAAAAAAA8D97FqLzMiPyP63i17QayvU/nOELVcqX+T+HuCTlzqD8P4EgmonCi/4/q0ifetp+/z9E4YnTQ9z/P9FJcuwh+P8/uUEty5/+/z8Hwn1Wz///P/Tpsr/6//8/O+P9kP///z9j+hp00yf+P+BuHBajl/g/8IVb/HM18z9EwJba5tHwP7yo8eqZKPA/s/QLlC8G8D9MXJNowADwP7C1tLQSAPA/YTXscwEA8D/LUe0WAADwP+qPGwEAAPA/uIIKAAAA8D/mSQAAAADwP2sBAAAAAPA/BAAAAAAA8D8AAAAAAADwPwAAAAAAAPA/AAAAAAAA8D8AAAAAAADwPwAAAAAAAPA/AAAAAAAA8D8AAAAAAADwPwAAAAAAAPA/AAAAAAAA8D8AAAAAAADwPwAAAAAAAPA/",
            "dtype": "f8"
           },
           "yaxis": "y"
          }
         ],
         "name": "16"
        },
        {
         "data": [
          {
           "hovertemplate": "variable=17<br>x=%{x}<br>value=%{y}<extra></extra>",
           "legendgroup": "",
           "line": {
            "color": "#636efa",
            "dash": "solid"
           },
           "marker": {
            "symbol": "circle"
           },
           "mode": "lines",
           "name": "",
           "orientation": "v",
           "showlegend": false,
           "type": "scatter",
           "x": {
            "bdata": "AAAAAAAAAAB7FK5H4XqkP3sUrkfherQ/uB6F61G4vj97FK5H4XrEP5qZmZmZmck/uB6F61G4zj/sUbgehevRP3sUrkfhetQ/CtejcD0K1z+amZmZmZnZPylcj8L1KNw/uB6F61G43j+kcD0K16PgP+xRuB6F6+E/MzMzMzMz4z97FK5H4XrkP8P1KFyPwuU/CtejcD0K5z9SuB6F61HoP5qZmZmZmek/4XoUrkfh6j8pXI/C9SjsP3E9CtejcO0/uB6F61G47j8AAAAAAADwP6RwPQrXo/A/SOF6FK5H8T/sUbgehevxP4/C9Shcj/I/MzMzMzMz8z/Xo3A9CtfzP3sUrkfhevQ/H4XrUbge9T/D9Shcj8L1P2dmZmZmZvY/CtejcD0K9z+uR+F6FK73P1K4HoXrUfg/9ihcj8L1+D+amZmZmZn5Pz4K16NwPfo/4XoUrkfh+j+F61G4HoX7Pylcj8L1KPw/zczMzMzM/D9xPQrXo3D9PxWuR+F6FP4/uB6F61G4/j9cj8L1KFz/PwAAAAAAAABA",
            "dtype": "f8"
           },
           "xaxis": "x",
           "y": {
            "bdata": "AAAAAAAA8D8AAAAAAADwPwAAAAAAAPA/AAAAAAAA8D8AAAAAAADwPwAAAAAAAPA/AAAAAAAA8D8AAAAAAADwPwAAAAAAAPA/AAAAAAAA8D8AAAAAAADwPwAAAAAAAPA/AAAAAAAA8D/yMKDbge/xP8TDgkABYPU/+Qz7WwAW+T9/HrJx8yz8P8yvvhinPf4/Qti1APpW/z9FG3mnw8z/P4sZoAx+8/8/S0+h3Ir9/z91m5K/nP//Pz6TgIPz//8/I2dxw/7//z9FpJdJ/HH+P8CUSOwNTvk/cQggq1W/8z/Mi1baeQfxP5TRqXbZNvA/mWHO4Q4J8D8wik9cNAHwP0GFbS4hAPA/KQz94wIA8D+XjwI0AADwP70K7QIAAPA/0kMhAAAA8D/4IwEAAADwP3UHAAAAAPA/IgAAAAAA8D8AAAAAAADwPwAAAAAAAPA/AAAAAAAA8D8AAAAAAADwPwAAAAAAAPA/AAAAAAAA8D8AAAAAAADwPwAAAAAAAPA/AAAAAAAA8D8AAAAAAADwPwAAAAAAAPA/",
            "dtype": "f8"
           },
           "yaxis": "y"
          }
         ],
         "name": "17"
        },
        {
         "data": [
          {
           "hovertemplate": "variable=18<br>x=%{x}<br>value=%{y}<extra></extra>",
           "legendgroup": "",
           "line": {
            "color": "#636efa",
            "dash": "solid"
           },
           "marker": {
            "symbol": "circle"
           },
           "mode": "lines",
           "name": "",
           "orientation": "v",
           "showlegend": false,
           "type": "scatter",
           "x": {
            "bdata": "AAAAAAAAAAB7FK5H4XqkP3sUrkfherQ/uB6F61G4vj97FK5H4XrEP5qZmZmZmck/uB6F61G4zj/sUbgehevRP3sUrkfhetQ/CtejcD0K1z+amZmZmZnZPylcj8L1KNw/uB6F61G43j+kcD0K16PgP+xRuB6F6+E/MzMzMzMz4z97FK5H4XrkP8P1KFyPwuU/CtejcD0K5z9SuB6F61HoP5qZmZmZmek/4XoUrkfh6j8pXI/C9SjsP3E9CtejcO0/uB6F61G47j8AAAAAAADwP6RwPQrXo/A/SOF6FK5H8T/sUbgehevxP4/C9Shcj/I/MzMzMzMz8z/Xo3A9CtfzP3sUrkfhevQ/H4XrUbge9T/D9Shcj8L1P2dmZmZmZvY/CtejcD0K9z+uR+F6FK73P1K4HoXrUfg/9ihcj8L1+D+amZmZmZn5Pz4K16NwPfo/4XoUrkfh+j+F61G4HoX7Pylcj8L1KPw/zczMzMzM/D9xPQrXo3D9PxWuR+F6FP4/uB6F61G4/j9cj8L1KFz/PwAAAAAAAABA",
            "dtype": "f8"
           },
           "xaxis": "x",
           "y": {
            "bdata": "AAAAAAAA8D8AAAAAAADwPwAAAAAAAPA/AAAAAAAA8D8AAAAAAADwPwAAAAAAAPA/AAAAAAAA8D8AAAAAAADwPwAAAAAAAPA/AAAAAAAA8D8AAAAAAADwPwAAAAAAAPA/AAAAAAAA8D9ykWY/OMHxP8GzCQz7/fQ/k3a68uCZ+D8Ba/J74bj7P5iVcEFh6v0/NGF6gg4p/z+XhEN6Qbn/P9CUSywM7f8/ZEQ6MN77/z+X+SZwRP//Px45iQ3l//8/CQF04/z//z8Z2mf2GLH+P/1cXEN9+/k/pCMBsalR9D8CLXe+MUXxP211CsN3SPA/BvCW7OEM8D9Abgz02wHwPxiUGh04APA//4oxagUA8D8IcFdtAADwPyUrBAcAAPA/u+lcAAAA8D9K0QMAAADwPysfAAAAAPA/vgAAAAAA8D8DAAAAAADwPwAAAAAAAPA/AAAAAAAA8D8AAAAAAADwPwAAAAAAAPA/AAAAAAAA8D8AAAAAAADwPwAAAAAAAPA/AAAAAAAA8D8AAAAAAADwPwAAAAAAAPA/",
            "dtype": "f8"
           },
           "yaxis": "y"
          }
         ],
         "name": "18"
        },
        {
         "data": [
          {
           "hovertemplate": "variable=19<br>x=%{x}<br>value=%{y}<extra></extra>",
           "legendgroup": "",
           "line": {
            "color": "#636efa",
            "dash": "solid"
           },
           "marker": {
            "symbol": "circle"
           },
           "mode": "lines",
           "name": "",
           "orientation": "v",
           "showlegend": false,
           "type": "scatter",
           "x": {
            "bdata": "AAAAAAAAAAB7FK5H4XqkP3sUrkfherQ/uB6F61G4vj97FK5H4XrEP5qZmZmZmck/uB6F61G4zj/sUbgehevRP3sUrkfhetQ/CtejcD0K1z+amZmZmZnZPylcj8L1KNw/uB6F61G43j+kcD0K16PgP+xRuB6F6+E/MzMzMzMz4z97FK5H4XrkP8P1KFyPwuU/CtejcD0K5z9SuB6F61HoP5qZmZmZmek/4XoUrkfh6j8pXI/C9SjsP3E9CtejcO0/uB6F61G47j8AAAAAAADwP6RwPQrXo/A/SOF6FK5H8T/sUbgehevxP4/C9Shcj/I/MzMzMzMz8z/Xo3A9CtfzP3sUrkfhevQ/H4XrUbge9T/D9Shcj8L1P2dmZmZmZvY/CtejcD0K9z+uR+F6FK73P1K4HoXrUfg/9ihcj8L1+D+amZmZmZn5Pz4K16NwPfo/4XoUrkfh+j+F61G4HoX7Pylcj8L1KPw/zczMzMzM/D9xPQrXo3D9PxWuR+F6FP4/uB6F61G4/j9cj8L1KFz/PwAAAAAAAABA",
            "dtype": "f8"
           },
           "xaxis": "x",
           "y": {
            "bdata": "AAAAAAAA8D8AAAAAAADwPwAAAAAAAPA/AAAAAAAA8D8AAAAAAADwPwAAAAAAAPA/AAAAAAAA8D8AAAAAAADwPwAAAAAAAPA/AAAAAAAA8D8AAAAAAADwPwAAAAAAAPA/AAAAAAAA8D/frU/crZfxP6RvEHVeo/Q/3vs+wH8j+D8MSXUIhEX7P8jnzITkkv0/uws7ZFb1/j/C4E0dbqH/P/E8u4Bv5P8/IQnkK2b5/z9QqNFos/7/P6wOukjK//8/Re136vj//z8wjhp5oeb+PypDcFujnvo/kjSLYRjr9D8iEJaiZYvxP6UiC6bmXfA/BaZFE90R8D8/bGs5xwLwP0ZvKRpbAPA/dGTGowkA8D8e9b7XAADwP5Ebiw8AAPA/2dnqAAAA8D/+PQsAAADwPwNuAAAAAPA/RwMAAAAA8D8TAAAAAADwPwAAAAAAAPA/AAAAAAAA8D8AAAAAAADwPwAAAAAAAPA/AAAAAAAA8D8AAAAAAADwPwAAAAAAAPA/AAAAAAAA8D8AAAAAAADwPwAAAAAAAPA/",
            "dtype": "f8"
           },
           "yaxis": "y"
          }
         ],
         "name": "19"
        },
        {
         "data": [
          {
           "hovertemplate": "variable=20<br>x=%{x}<br>value=%{y}<extra></extra>",
           "legendgroup": "",
           "line": {
            "color": "#636efa",
            "dash": "solid"
           },
           "marker": {
            "symbol": "circle"
           },
           "mode": "lines",
           "name": "",
           "orientation": "v",
           "showlegend": false,
           "type": "scatter",
           "x": {
            "bdata": "AAAAAAAAAAB7FK5H4XqkP3sUrkfherQ/uB6F61G4vj97FK5H4XrEP5qZmZmZmck/uB6F61G4zj/sUbgehevRP3sUrkfhetQ/CtejcD0K1z+amZmZmZnZPylcj8L1KNw/uB6F61G43j+kcD0K16PgP+xRuB6F6+E/MzMzMzMz4z97FK5H4XrkP8P1KFyPwuU/CtejcD0K5z9SuB6F61HoP5qZmZmZmek/4XoUrkfh6j8pXI/C9SjsP3E9CtejcO0/uB6F61G47j8AAAAAAADwP6RwPQrXo/A/SOF6FK5H8T/sUbgehevxP4/C9Shcj/I/MzMzMzMz8z/Xo3A9CtfzP3sUrkfhevQ/H4XrUbge9T/D9Shcj8L1P2dmZmZmZvY/CtejcD0K9z+uR+F6FK73P1K4HoXrUfg/9ihcj8L1+D+amZmZmZn5Pz4K16NwPfo/4XoUrkfh+j+F61G4HoX7Pylcj8L1KPw/zczMzMzM/D9xPQrXo3D9PxWuR+F6FP4/uB6F61G4/j9cj8L1KFz/PwAAAAAAAABA",
            "dtype": "f8"
           },
           "xaxis": "x",
           "y": {
            "bdata": "AAAAAAAA8D8AAAAAAADwPwAAAAAAAPA/AAAAAAAA8D8AAAAAAADwPwAAAAAAAPA/AAAAAAAA8D8AAAAAAADwPwAAAAAAAPA/AAAAAAAA8D8AAAAAAADwPwAAAAAAAPA/AAAAAAAA8D/n6JIRU3LxP1bVUE6PT/Q/3Sgw59Wy9z9EbD0NmdP6P4fj1l0cOP0/2VuHsC+8/j99dCpCFIX/P8YdczlO2f8/hPmIcuj1/z/Ucy490f3/P0lYYc6b//8/oQDaJPH//z+kZIIV6RP/Pz9tZVKXNvs/G84DqxyK9T97bMPcUdrxP93kHQSad/A/BxbnRzoY8D+5XnRDCQTwPwAtlciOAPA/uRGobRAA8D9ISGqTAQDwP20YOiAAAPA/U98iAgAA8D9Q4B0AAADwP61UAQAAAPA/LAwAAAAA8D9XAAAAAADwPwIAAAAAAPA/AAAAAAAA8D8AAAAAAADwPwAAAAAAAPA/AAAAAAAA8D8AAAAAAADwPwAAAAAAAPA/AAAAAAAA8D8AAAAAAADwPwAAAAAAAPA/",
            "dtype": "f8"
           },
           "yaxis": "y"
          }
         ],
         "name": "20"
        },
        {
         "data": [
          {
           "hovertemplate": "variable=21<br>x=%{x}<br>value=%{y}<extra></extra>",
           "legendgroup": "",
           "line": {
            "color": "#636efa",
            "dash": "solid"
           },
           "marker": {
            "symbol": "circle"
           },
           "mode": "lines",
           "name": "",
           "orientation": "v",
           "showlegend": false,
           "type": "scatter",
           "x": {
            "bdata": "AAAAAAAAAAB7FK5H4XqkP3sUrkfherQ/uB6F61G4vj97FK5H4XrEP5qZmZmZmck/uB6F61G4zj/sUbgehevRP3sUrkfhetQ/CtejcD0K1z+amZmZmZnZPylcj8L1KNw/uB6F61G43j+kcD0K16PgP+xRuB6F6+E/MzMzMzMz4z97FK5H4XrkP8P1KFyPwuU/CtejcD0K5z9SuB6F61HoP5qZmZmZmek/4XoUrkfh6j8pXI/C9SjsP3E9CtejcO0/uB6F61G47j8AAAAAAADwP6RwPQrXo/A/SOF6FK5H8T/sUbgehevxP4/C9Shcj/I/MzMzMzMz8z/Xo3A9CtfzP3sUrkfhevQ/H4XrUbge9T/D9Shcj8L1P2dmZmZmZvY/CtejcD0K9z+uR+F6FK73P1K4HoXrUfg/9ihcj8L1+D+amZmZmZn5Pz4K16NwPfo/4XoUrkfh+j+F61G4HoX7Pylcj8L1KPw/zczMzMzM/D9xPQrXo3D9PxWuR+F6FP4/uB6F61G4/j9cj8L1KFz/PwAAAAAAAABA",
            "dtype": "f8"
           },
           "xaxis": "x",
           "y": {
            "bdata": "AAAAAAAA8D8AAAAAAADwPwAAAAAAAPA/AAAAAAAA8D8AAAAAAADwPwAAAAAAAPA/AAAAAAAA8D8AAAAAAADwPwAAAAAAAPA/AAAAAAAA8D8AAAAAAADwPwAAAAAAAPA/AAAAAAAA8D9pqXmKrFDxP31x7Yf+AfQ/FL2LoslH9z+Fv03LtmP6P9yviYfl2vw/tUihTRB+/j+0MspxGWT/P3zRsYlVy/8/htqPlCXx/z/mchfdf/z/P60pyGFP//8/837M6+L//z+gR1KHHTr/P4LoixzQwvs/x2Za5g4t9j+TC7KnEzLyP5YHqUwGlvA/1HvW9Tgg8D9Gv3xwuAXwP6NTEwDZAPA/vaNG9RoA8D/x4kTQAgDwP1PHKD8AAPA/wM6kBAAA8D+Q9UgAAADwP6W1AwAAAPA/jCcAAAAA8D9TAQAAAADwPwkAAAAAAPA/AAAAAAAA8D8AAAAAAADwPwAAAAAAAPA/AAAAAAAA8D8AAAAAAADwPwAAAAAAAPA/AAAAAAAA8D8AAAAAAADwPwAAAAAAAPA/",
            "dtype": "f8"
           },
           "yaxis": "y"
          }
         ],
         "name": "21"
        },
        {
         "data": [
          {
           "hovertemplate": "variable=22<br>x=%{x}<br>value=%{y}<extra></extra>",
           "legendgroup": "",
           "line": {
            "color": "#636efa",
            "dash": "solid"
           },
           "marker": {
            "symbol": "circle"
           },
           "mode": "lines",
           "name": "",
           "orientation": "v",
           "showlegend": false,
           "type": "scatter",
           "x": {
            "bdata": "AAAAAAAAAAB7FK5H4XqkP3sUrkfherQ/uB6F61G4vj97FK5H4XrEP5qZmZmZmck/uB6F61G4zj/sUbgehevRP3sUrkfhetQ/CtejcD0K1z+amZmZmZnZPylcj8L1KNw/uB6F61G43j+kcD0K16PgP+xRuB6F6+E/MzMzMzMz4z97FK5H4XrkP8P1KFyPwuU/CtejcD0K5z9SuB6F61HoP5qZmZmZmek/4XoUrkfh6j8pXI/C9SjsP3E9CtejcO0/uB6F61G47j8AAAAAAADwP6RwPQrXo/A/SOF6FK5H8T/sUbgehevxP4/C9Shcj/I/MzMzMzMz8z/Xo3A9CtfzP3sUrkfhevQ/H4XrUbge9T/D9Shcj8L1P2dmZmZmZvY/CtejcD0K9z+uR+F6FK73P1K4HoXrUfg/9ihcj8L1+D+amZmZmZn5Pz4K16NwPfo/4XoUrkfh+j+F61G4HoX7Pylcj8L1KPw/zczMzMzM/D9xPQrXo3D9PxWuR+F6FP4/uB6F61G4/j9cj8L1KFz/PwAAAAAAAABA",
            "dtype": "f8"
           },
           "xaxis": "x",
           "y": {
            "bdata": "AAAAAAAA8D8AAAAAAADwPwAAAAAAAPA/AAAAAAAA8D8AAAAAAADwPwAAAAAAAPA/AAAAAAAA8D8AAAAAAADwPwAAAAAAAPA/AAAAAAAA8D8AAAAAAADwPwAAAAAAAPA/AAAAAAAA8D/8eBrNTzLxP6CWR38puvM/1gkVDzTi9j94M7xRUfb5P2vpIccJfPw/keMDZ347/j+bPF9ffT7/P+OBTiw9uv8/kwNFKtvq/z9hPKiwm/r/P29A63jX/v8/cR7iVMr//z/d5pbtR1r/Py/R4EwbQ/w/1o135zHS9j+eVfr5pJLyPy/X3baeufA/LeST1x0q8D/5YxKb7gfwP9D6nflAAfA/+AudyyoA8D9AuFrTBADwP84f63UAAPA/eCOFCQAA8D9U8qUAAADwP/l6CQAAAPA/Y3MAAAAA8D+CBAAAAADwPyUAAAAAAPA/AQAAAAAA8D8AAAAAAADwPwAAAAAAAPA/AAAAAAAA8D8AAAAAAADwPwAAAAAAAPA/AAAAAAAA8D8AAAAAAADwPwAAAAAAAPA/",
            "dtype": "f8"
           },
           "yaxis": "y"
          }
         ],
         "name": "22"
        },
        {
         "data": [
          {
           "hovertemplate": "variable=23<br>x=%{x}<br>value=%{y}<extra></extra>",
           "legendgroup": "",
           "line": {
            "color": "#636efa",
            "dash": "solid"
           },
           "marker": {
            "symbol": "circle"
           },
           "mode": "lines",
           "name": "",
           "orientation": "v",
           "showlegend": false,
           "type": "scatter",
           "x": {
            "bdata": "AAAAAAAAAAB7FK5H4XqkP3sUrkfherQ/uB6F61G4vj97FK5H4XrEP5qZmZmZmck/uB6F61G4zj/sUbgehevRP3sUrkfhetQ/CtejcD0K1z+amZmZmZnZPylcj8L1KNw/uB6F61G43j+kcD0K16PgP+xRuB6F6+E/MzMzMzMz4z97FK5H4XrkP8P1KFyPwuU/CtejcD0K5z9SuB6F61HoP5qZmZmZmek/4XoUrkfh6j8pXI/C9SjsP3E9CtejcO0/uB6F61G47j8AAAAAAADwP6RwPQrXo/A/SOF6FK5H8T/sUbgehevxP4/C9Shcj/I/MzMzMzMz8z/Xo3A9CtfzP3sUrkfhevQ/H4XrUbge9T/D9Shcj8L1P2dmZmZmZvY/CtejcD0K9z+uR+F6FK73P1K4HoXrUfg/9ihcj8L1+D+amZmZmZn5Pz4K16NwPfo/4XoUrkfh+j+F61G4HoX7Pylcj8L1KPw/zczMzMzM/D9xPQrXo3D9PxWuR+F6FP4/uB6F61G4/j9cj8L1KFz/PwAAAAAAAABA",
            "dtype": "f8"
           },
           "xaxis": "x",
           "y": {
            "bdata": "AAAAAAAA8D8AAAAAAADwPwAAAAAAAPA/AAAAAAAA8D8AAAAAAADwPwAAAAAAAPA/AAAAAAAA8D8AAAAAAADwPwAAAAAAAPA/AAAAAAAA8D8AAAAAAADwPwAAAAAAAPA/AAAAAAAA8D83qi544BbxP2PkuyKZd/M/048Uh+WB9j/j2m/Ev4v5PyA9qrg9HPw/KIGdhwn1/T/A+SbpVxT/Pz4vUSvKpf8/0x3iL8bi/z/opYAL/Pf/P/2OFN4i/v8/m4Yn26H//z+sKbvOTnX/PzmFYgCRt/w/tKoSj8F39z+0qY3U2PvyP+E4gzXT4vA/LX0DujI28D904qZJyQrwP6wU53zPAfA/8SBb+kEA8D+HM2H9BwDwP4bECdMAAPA/L6ONEgAA8D9sNmMBAADwP+uEFgAAAPA/BTQBAAAA8D+/DQAAAADwP4IAAAAAAPA/BAAAAAAA8D8AAAAAAADwPwAAAAAAAPA/AAAAAAAA8D8AAAAAAADwPwAAAAAAAPA/AAAAAAAA8D8AAAAAAADwPwAAAAAAAPA/",
            "dtype": "f8"
           },
           "yaxis": "y"
          }
         ],
         "name": "23"
        },
        {
         "data": [
          {
           "hovertemplate": "variable=24<br>x=%{x}<br>value=%{y}<extra></extra>",
           "legendgroup": "",
           "line": {
            "color": "#636efa",
            "dash": "solid"
           },
           "marker": {
            "symbol": "circle"
           },
           "mode": "lines",
           "name": "",
           "orientation": "v",
           "showlegend": false,
           "type": "scatter",
           "x": {
            "bdata": "AAAAAAAAAAB7FK5H4XqkP3sUrkfherQ/uB6F61G4vj97FK5H4XrEP5qZmZmZmck/uB6F61G4zj/sUbgehevRP3sUrkfhetQ/CtejcD0K1z+amZmZmZnZPylcj8L1KNw/uB6F61G43j+kcD0K16PgP+xRuB6F6+E/MzMzMzMz4z97FK5H4XrkP8P1KFyPwuU/CtejcD0K5z9SuB6F61HoP5qZmZmZmek/4XoUrkfh6j8pXI/C9SjsP3E9CtejcO0/uB6F61G47j8AAAAAAADwP6RwPQrXo/A/SOF6FK5H8T/sUbgehevxP4/C9Shcj/I/MzMzMzMz8z/Xo3A9CtfzP3sUrkfhevQ/H4XrUbge9T/D9Shcj8L1P2dmZmZmZvY/CtejcD0K9z+uR+F6FK73P1K4HoXrUfg/9ihcj8L1+D+amZmZmZn5Pz4K16NwPfo/4XoUrkfh+j+F61G4HoX7Pylcj8L1KPw/zczMzMzM/D9xPQrXo3D9PxWuR+F6FP4/uB6F61G4/j9cj8L1KFz/PwAAAAAAAABA",
            "dtype": "f8"
           },
           "xaxis": "x",
           "y": {
            "bdata": "AAAAAAAA8D8AAAAAAADwPwAAAAAAAPA/AAAAAAAA8D8AAAAAAADwPwAAAAAAAPA/AAAAAAAA8D8AAAAAAADwPwAAAAAAAPA/AAAAAAAA8D8AAAAAAADwPwAAAAAAAPA/AAAAAAAA8D8t/HIIDv7wPyBEkAThOfM/3Pcq46gm9j9f898uQST5PzwDpB8gvPs/8dgnrkSr/T9S4rAl1uX+P6LR9cvQjf8/0eeMd6XY/z9xOj/0c/T/Py4c8HQc/f8/vNIKB2L//z9eksm6+Iv/P/HeBESGIP0/bQWb6gEc+D9w6U9dWG3zP0N7zBoOEvE/1zy3KcZE8D/0fK/YaQ7wP12eTA6PAvA/cQ4aG2MA8D8QcXjSDADwP/xq5msBAPA/XvuXIgAA8D8natECAADwP2A+MgAAAPA/w/oCAAAA8D9FJgAAAADwP5wBAAAAAPA/DwAAAAAA8D8AAAAAAADwPwAAAAAAAPA/AAAAAAAA8D8AAAAAAADwPwAAAAAAAPA/AAAAAAAA8D8AAAAAAADwPwAAAAAAAPA/",
            "dtype": "f8"
           },
           "yaxis": "y"
          }
         ],
         "name": "24"
        },
        {
         "data": [
          {
           "hovertemplate": "variable=25<br>x=%{x}<br>value=%{y}<extra></extra>",
           "legendgroup": "",
           "line": {
            "color": "#636efa",
            "dash": "solid"
           },
           "marker": {
            "symbol": "circle"
           },
           "mode": "lines",
           "name": "",
           "orientation": "v",
           "showlegend": false,
           "type": "scatter",
           "x": {
            "bdata": "AAAAAAAAAAB7FK5H4XqkP3sUrkfherQ/uB6F61G4vj97FK5H4XrEP5qZmZmZmck/uB6F61G4zj/sUbgehevRP3sUrkfhetQ/CtejcD0K1z+amZmZmZnZPylcj8L1KNw/uB6F61G43j+kcD0K16PgP+xRuB6F6+E/MzMzMzMz4z97FK5H4XrkP8P1KFyPwuU/CtejcD0K5z9SuB6F61HoP5qZmZmZmek/4XoUrkfh6j8pXI/C9SjsP3E9CtejcO0/uB6F61G47j8AAAAAAADwP6RwPQrXo/A/SOF6FK5H8T/sUbgehevxP4/C9Shcj/I/MzMzMzMz8z/Xo3A9CtfzP3sUrkfhevQ/H4XrUbge9T/D9Shcj8L1P2dmZmZmZvY/CtejcD0K9z+uR+F6FK73P1K4HoXrUfg/9ihcj8L1+D+amZmZmZn5Pz4K16NwPfo/4XoUrkfh+j+F61G4HoX7Pylcj8L1KPw/zczMzMzM/D9xPQrXo3D9PxWuR+F6FP4/uB6F61G4/j9cj8L1KFz/PwAAAAAAAABA",
            "dtype": "f8"
           },
           "xaxis": "x",
           "y": {
            "bdata": "AAAAAAAA8D8AAAAAAADwPwAAAAAAAPA/AAAAAAAA8D8AAAAAAADwPwAAAAAAAPA/AAAAAAAA8D8AAAAAAADwPwAAAAAAAPA/AAAAAAAA8D8AAAAAAADwPwAAAAAAAPA/AAAAAAAA8D+yBfIHkufwP3pZfG2eAPM//l0g4kXQ9T+TDeHJAMD4P84hakw6XPs/4kT0esFe/T8CWf7bNrP+P9aaXpY1cv8/E8jEBjzM/z86QD420+//P+x1gSur+/8/izQ6GwH//z9VRIIz757/P6NgjCd/fv0/m4nn1U29+D+gfDYfoebzP8FOTWmxR/E/IITSBStW8D+y4M2e9RLwPwd48RyMA/A/+jx9cJEA8D+iVjYDFADwP29WHV8CAPA/kS8JPgAA8D+XS3cFAADwP7EsagAAAPA/EOsGAAAA8D+lYgAAAADwP6oEAAAAAPA/MAAAAAAA8D8BAAAAAADwPwAAAAAAAPA/AAAAAAAA8D8AAAAAAADwPwAAAAAAAPA/AAAAAAAA8D8AAAAAAADwPwAAAAAAAPA/",
            "dtype": "f8"
           },
           "yaxis": "y"
          }
         ],
         "name": "25"
        },
        {
         "data": [
          {
           "hovertemplate": "variable=26<br>x=%{x}<br>value=%{y}<extra></extra>",
           "legendgroup": "",
           "line": {
            "color": "#636efa",
            "dash": "solid"
           },
           "marker": {
            "symbol": "circle"
           },
           "mode": "lines",
           "name": "",
           "orientation": "v",
           "showlegend": false,
           "type": "scatter",
           "x": {
            "bdata": "AAAAAAAAAAB7FK5H4XqkP3sUrkfherQ/uB6F61G4vj97FK5H4XrEP5qZmZmZmck/uB6F61G4zj/sUbgehevRP3sUrkfhetQ/CtejcD0K1z+amZmZmZnZPylcj8L1KNw/uB6F61G43j+kcD0K16PgP+xRuB6F6+E/MzMzMzMz4z97FK5H4XrkP8P1KFyPwuU/CtejcD0K5z9SuB6F61HoP5qZmZmZmek/4XoUrkfh6j8pXI/C9SjsP3E9CtejcO0/uB6F61G47j8AAAAAAADwP6RwPQrXo/A/SOF6FK5H8T/sUbgehevxP4/C9Shcj/I/MzMzMzMz8z/Xo3A9CtfzP3sUrkfhevQ/H4XrUbge9T/D9Shcj8L1P2dmZmZmZvY/CtejcD0K9z+uR+F6FK73P1K4HoXrUfg/9ihcj8L1+D+amZmZmZn5Pz4K16NwPfo/4XoUrkfh+j+F61G4HoX7Pylcj8L1KPw/zczMzMzM/D9xPQrXo3D9PxWuR+F6FP4/uB6F61G4/j9cj8L1KFz/PwAAAAAAAABA",
            "dtype": "f8"
           },
           "xaxis": "x",
           "y": {
            "bdata": "AAAAAAAA8D8AAAAAAADwPwAAAAAAAPA/AAAAAAAA8D8AAAAAAADwPwAAAAAAAPA/AAAAAAAA8D8AAAAAAADwPwAAAAAAAPA/AAAAAAAA8D8AAAAAAADwPwAAAAAAAPA/AAAAAAAA8D/FqsuQLtPwPxqMS3h3y/I/zfxa64J+9T8izuquGV/4P1/8RDoB/fo/rTw/dwwQ/T/xhnS7xnz+P37WuYPtUv8/SFeiOVO9/z8PAuat5+n/P5pKXByy+f8/ZBMJzXL+/z8ytgKewa7/P8mfx3Ah0v0/DK4ZGiRa+T9EDf3EBGf0P6bYrNQThPE/8Q8Y87dq8D+Np18KlhjwP/0eqTDVBPA/+fodAdEA8D/6UQl3HgDwP+b4dNcDAPA/1Ih1awAA8D+YHi4KAADwP0Tv1QAAAPA/iDAPAAAA8D8D7gAAAADwP38MAAAAAPA/kAAAAAAA8D8FAAAAAADwPwAAAAAAAPA/AAAAAAAA8D8AAAAAAADwPwAAAAAAAPA/AAAAAAAA8D8AAAAAAADwPwAAAAAAAPA/",
            "dtype": "f8"
           },
           "yaxis": "y"
          }
         ],
         "name": "26"
        },
        {
         "data": [
          {
           "hovertemplate": "variable=27<br>x=%{x}<br>value=%{y}<extra></extra>",
           "legendgroup": "",
           "line": {
            "color": "#636efa",
            "dash": "solid"
           },
           "marker": {
            "symbol": "circle"
           },
           "mode": "lines",
           "name": "",
           "orientation": "v",
           "showlegend": false,
           "type": "scatter",
           "x": {
            "bdata": "AAAAAAAAAAB7FK5H4XqkP3sUrkfherQ/uB6F61G4vj97FK5H4XrEP5qZmZmZmck/uB6F61G4zj/sUbgehevRP3sUrkfhetQ/CtejcD0K1z+amZmZmZnZPylcj8L1KNw/uB6F61G43j+kcD0K16PgP+xRuB6F6+E/MzMzMzMz4z97FK5H4XrkP8P1KFyPwuU/CtejcD0K5z9SuB6F61HoP5qZmZmZmek/4XoUrkfh6j8pXI/C9SjsP3E9CtejcO0/uB6F61G47j8AAAAAAADwP6RwPQrXo/A/SOF6FK5H8T/sUbgehevxP4/C9Shcj/I/MzMzMzMz8z/Xo3A9CtfzP3sUrkfhevQ/H4XrUbge9T/D9Shcj8L1P2dmZmZmZvY/CtejcD0K9z+uR+F6FK73P1K4HoXrUfg/9ihcj8L1+D+amZmZmZn5Pz4K16NwPfo/4XoUrkfh+j+F61G4HoX7Pylcj8L1KPw/zczMzMzM/D9xPQrXo3D9PxWuR+F6FP4/uB6F61G4/j9cj8L1KFz/PwAAAAAAAABA",
            "dtype": "f8"
           },
           "xaxis": "x",
           "y": {
            "bdata": "AAAAAAAA8D8AAAAAAADwPwAAAAAAAPA/AAAAAAAA8D8AAAAAAADwPwAAAAAAAPA/AAAAAAAA8D8AAAAAAADwPwAAAAAAAPA/AAAAAAAA8D8AAAAAAADwPwAAAAAAAPA/AAAAAAAA8D9sfFYSrcDwP02ouTsamvI/nJ0NVCYx9T/oYa3+mQH4P+n3AR7Xnvo/w9VJYaq//D95oqaZ3EL+Pxmnk2z9L/8/KNQFjryr/z+nVti7fuL/P07vA+QQ9/8/3UzBDqj9/z82Yd8X6Lv/P4+E0ZkoHP4/S/mTLDLx+T/WY86Uqu30P9OE63t9x/E/ss7YqMaC8D8itYW3eB/wP0/Raxd7BvA/ticetCYB8D9TtPxXLQDwP7GIbA8GAPA/wH51tAAA8D93Z0kSAADwP4tInQEAAPA/bcAfAAAA8D85HgIAAADwP0ofAAAAAPA/jwEAAAAA8D8RAAAAAADwPwAAAAAAAPA/AAAAAAAA8D8AAAAAAADwPwAAAAAAAPA/AAAAAAAA8D8AAAAAAADwPwAAAAAAAPA/",
            "dtype": "f8"
           },
           "yaxis": "y"
          }
         ],
         "name": "27"
        },
        {
         "data": [
          {
           "hovertemplate": "variable=28<br>x=%{x}<br>value=%{y}<extra></extra>",
           "legendgroup": "",
           "line": {
            "color": "#636efa",
            "dash": "solid"
           },
           "marker": {
            "symbol": "circle"
           },
           "mode": "lines",
           "name": "",
           "orientation": "v",
           "showlegend": false,
           "type": "scatter",
           "x": {
            "bdata": "AAAAAAAAAAB7FK5H4XqkP3sUrkfherQ/uB6F61G4vj97FK5H4XrEP5qZmZmZmck/uB6F61G4zj/sUbgehevRP3sUrkfhetQ/CtejcD0K1z+amZmZmZnZPylcj8L1KNw/uB6F61G43j+kcD0K16PgP+xRuB6F6+E/MzMzMzMz4z97FK5H4XrkP8P1KFyPwuU/CtejcD0K5z9SuB6F61HoP5qZmZmZmek/4XoUrkfh6j8pXI/C9SjsP3E9CtejcO0/uB6F61G47j8AAAAAAADwP6RwPQrXo/A/SOF6FK5H8T/sUbgehevxP4/C9Shcj/I/MzMzMzMz8z/Xo3A9CtfzP3sUrkfhevQ/H4XrUbge9T/D9Shcj8L1P2dmZmZmZvY/CtejcD0K9z+uR+F6FK73P1K4HoXrUfg/9ihcj8L1+D+amZmZmZn5Pz4K16NwPfo/4XoUrkfh+j+F61G4HoX7Pylcj8L1KPw/zczMzMzM/D9xPQrXo3D9PxWuR+F6FP4/uB6F61G4/j9cj8L1KFz/PwAAAAAAAABA",
            "dtype": "f8"
           },
           "xaxis": "x",
           "y": {
            "bdata": "AAAAAAAA8D8AAAAAAADwPwAAAAAAAPA/AAAAAAAA8D8AAAAAAADwPwAAAAAAAPA/AAAAAAAA8D8AAAAAAADwPwAAAAAAAPA/AAAAAAAA8D8AAAAAAADwPwAAAAAAAPA/AAAAAAAA8D9d7WNL3a/wP7XH7wQ8bPI/OpDxRffn9D/2YOeGhaf3Pymx+y4NQvo/w0yBXBZu/D9HW7Xq1QX+P+hm1Np4Cf8/VUE0AlOX/z+SExLJZtn/Pz7xsSek8/8/gvaO8Y78/z9wxi0axsb/P5hdsH5bXf4/56ub8VuB+j9Ce6rZknn1P7ZpwG8kEvI/2greELOe8D+e5VF9zyfwPxUsCxKRCPA/MIM9b5gB8D95DOUfQgDwP8DJeVUJAPA/ncS0JgEA8D8iFM0fAADwP8n1AAMAAPA/xYs/AAAA8D9olgQAAADwP95JAAAAAPA/CQQAAAAA8D8xAAAAAADwPwEAAAAAAPA/AAAAAAAA8D8AAAAAAADwPwAAAAAAAPA/AAAAAAAA8D8AAAAAAADwPwAAAAAAAPA/",
            "dtype": "f8"
           },
           "yaxis": "y"
          }
         ],
         "name": "28"
        },
        {
         "data": [
          {
           "hovertemplate": "variable=29<br>x=%{x}<br>value=%{y}<extra></extra>",
           "legendgroup": "",
           "line": {
            "color": "#636efa",
            "dash": "solid"
           },
           "marker": {
            "symbol": "circle"
           },
           "mode": "lines",
           "name": "",
           "orientation": "v",
           "showlegend": false,
           "type": "scatter",
           "x": {
            "bdata": "AAAAAAAAAAB7FK5H4XqkP3sUrkfherQ/uB6F61G4vj97FK5H4XrEP5qZmZmZmck/uB6F61G4zj/sUbgehevRP3sUrkfhetQ/CtejcD0K1z+amZmZmZnZPylcj8L1KNw/uB6F61G43j+kcD0K16PgP+xRuB6F6+E/MzMzMzMz4z97FK5H4XrkP8P1KFyPwuU/CtejcD0K5z9SuB6F61HoP5qZmZmZmek/4XoUrkfh6j8pXI/C9SjsP3E9CtejcO0/uB6F61G47j8AAAAAAADwP6RwPQrXo/A/SOF6FK5H8T/sUbgehevxP4/C9Shcj/I/MzMzMzMz8z/Xo3A9CtfzP3sUrkfhevQ/H4XrUbge9T/D9Shcj8L1P2dmZmZmZvY/CtejcD0K9z+uR+F6FK73P1K4HoXrUfg/9ihcj8L1+D+amZmZmZn5Pz4K16NwPfo/4XoUrkfh+j+F61G4HoX7Pylcj8L1KPw/zczMzMzM/D9xPQrXo3D9PxWuR+F6FP4/uB6F61G4/j9cj8L1KFz/PwAAAAAAAABA",
            "dtype": "f8"
           },
           "xaxis": "x",
           "y": {
            "bdata": "AAAAAAAA8D8AAAAAAADwPwAAAAAAAPA/AAAAAAAA8D8AAAAAAADwPwAAAAAAAPA/AAAAAAAA8D8AAAAAAADwPwAAAAAAAPA/AAAAAAAA8D8AAAAAAADwPwAAAAAAAPA/AAAAAAAA8D/BcWBvlKDwP6lFWaOYQfI/bq4iX76i9D9Z4xn211D3P1rg0oPl5vk/H3TZ38Ab/D/25d+XE8b9P/ALqWeA3/4/cotI/Pt//z8EIefFcM7/Py7cT0hG7/8/QiKAoxL7/z85B+bgrM//Pwid2eKDlv4/5qeJNcAJ+z8vzPhDnAn2P0wyaCEpZPI/LfsnM9q+8D94gFJw0DHwP4Kc2/8sC/A/MrVNNi0C8D8spfemXgDwP798BREOAPA/RTxF1QEA8D9YuLU1AADwP6ZNZwUAAPA/m1R6AAAA8D8wgAkAAADwP5SlAAAAAPA/2wkAAAAA8D+DAAAAAADwPwUAAAAAAPA/AAAAAAAA8D8AAAAAAADwPwAAAAAAAPA/AAAAAAAA8D8AAAAAAADwPwAAAAAAAPA/",
            "dtype": "f8"
           },
           "yaxis": "y"
          }
         ],
         "name": "29"
        },
        {
         "data": [
          {
           "hovertemplate": "variable=30<br>x=%{x}<br>value=%{y}<extra></extra>",
           "legendgroup": "",
           "line": {
            "color": "#636efa",
            "dash": "solid"
           },
           "marker": {
            "symbol": "circle"
           },
           "mode": "lines",
           "name": "",
           "orientation": "v",
           "showlegend": false,
           "type": "scatter",
           "x": {
            "bdata": "AAAAAAAAAAB7FK5H4XqkP3sUrkfherQ/uB6F61G4vj97FK5H4XrEP5qZmZmZmck/uB6F61G4zj/sUbgehevRP3sUrkfhetQ/CtejcD0K1z+amZmZmZnZPylcj8L1KNw/uB6F61G43j+kcD0K16PgP+xRuB6F6+E/MzMzMzMz4z97FK5H4XrkP8P1KFyPwuU/CtejcD0K5z9SuB6F61HoP5qZmZmZmek/4XoUrkfh6j8pXI/C9SjsP3E9CtejcO0/uB6F61G47j8AAAAAAADwP6RwPQrXo/A/SOF6FK5H8T/sUbgehevxP4/C9Shcj/I/MzMzMzMz8z/Xo3A9CtfzP3sUrkfhevQ/H4XrUbge9T/D9Shcj8L1P2dmZmZmZvY/CtejcD0K9z+uR+F6FK73P1K4HoXrUfg/9ihcj8L1+D+amZmZmZn5Pz4K16NwPfo/4XoUrkfh+j+F61G4HoX7Pylcj8L1KPw/zczMzMzM/D9xPQrXo3D9PxWuR+F6FP4/uB6F61G4/j9cj8L1KFz/PwAAAAAAAABA",
            "dtype": "f8"
           },
           "xaxis": "x",
           "y": {
            "bdata": "AAAAAAAA8D8AAAAAAADwPwAAAAAAAPA/AAAAAAAA8D8AAAAAAADwPwAAAAAAAPA/AAAAAAAA8D8AAAAAAADwPwAAAAAAAPA/AAAAAAAA8D8AAAAAAADwPwAAAAAAAPA/AAAAAAAA8D+TW0FurJLwP52Rh8XxGfI/YcAWHUZh9D/+9Eushv32P7ihY+iUjfk/cPgmPA/J+z8JZ5pI94P9PwnN780/sv4/OmRBuadl/z+ANUyPccH/P/5odjnQ6f8/Qpd6jBv5/z9ytRqV3db/P4OqrslnyP4/UxrW4LmJ+z8hyY0gi5z2Px0XlOCSvfI/3KOV5pjj8D/hwynYtT3wP6+S+4hnDvA/xSDiS+0C8D9FhM0zhQDwP4fnNMgUAPA/NgpA2gIA8D/LA1dYAADwP4zWbQkAAPA/XGnjAAAA8D855xIAAADwP3ZiAQAAAPA/1RYAAAAA8D9KAQAAAADwPxAAAAAAAPA/AAAAAAAA8D8AAAAAAADwPwAAAAAAAPA/AAAAAAAA8D8AAAAAAADwPwAAAAAAAPA/",
            "dtype": "f8"
           },
           "yaxis": "y"
          }
         ],
         "name": "30"
        },
        {
         "data": [
          {
           "hovertemplate": "variable=31<br>x=%{x}<br>value=%{y}<extra></extra>",
           "legendgroup": "",
           "line": {
            "color": "#636efa",
            "dash": "solid"
           },
           "marker": {
            "symbol": "circle"
           },
           "mode": "lines",
           "name": "",
           "orientation": "v",
           "showlegend": false,
           "type": "scatter",
           "x": {
            "bdata": "AAAAAAAAAAB7FK5H4XqkP3sUrkfherQ/uB6F61G4vj97FK5H4XrEP5qZmZmZmck/uB6F61G4zj/sUbgehevRP3sUrkfhetQ/CtejcD0K1z+amZmZmZnZPylcj8L1KNw/uB6F61G43j+kcD0K16PgP+xRuB6F6+E/MzMzMzMz4z97FK5H4XrkP8P1KFyPwuU/CtejcD0K5z9SuB6F61HoP5qZmZmZmek/4XoUrkfh6j8pXI/C9SjsP3E9CtejcO0/uB6F61G47j8AAAAAAADwP6RwPQrXo/A/SOF6FK5H8T/sUbgehevxP4/C9Shcj/I/MzMzMzMz8z/Xo3A9CtfzP3sUrkfhevQ/H4XrUbge9T/D9Shcj8L1P2dmZmZmZvY/CtejcD0K9z+uR+F6FK73P1K4HoXrUfg/9ihcj8L1+D+amZmZmZn5Pz4K16NwPfo/4XoUrkfh+j+F61G4HoX7Pylcj8L1KPw/zczMzMzM/D9xPQrXo3D9PxWuR+F6FP4/uB6F61G4/j9cj8L1KFz/PwAAAAAAAABA",
            "dtype": "f8"
           },
           "xaxis": "x",
           "y": {
            "bdata": "AAAAAAAA8D8AAAAAAADwPwAAAAAAAPA/AAAAAAAA8D8AAAAAAADwPwAAAAAAAPA/AAAAAAAA8D8AAAAAAADwPwAAAAAAAPA/AAAAAAAA8D8AAAAAAADwPwAAAAAAAPA/AAAAAAAA8D/CCuRYA4bwPxthSWYO9fE/DSRXIFsj9D8KbGw3gq32P+Jh95tENvk//Db3llt2+z9cePYl4T/9P4oowNbrgf4/p0WKSlFI/z8bWOUoQ7L/P3R1/nEa4/8/Ac4xi4/2/z8IKaE9i9z/P5a8Xn7E8/4/BQQzM94A/D+H+x0ZEjH3P4pdBplMHvM/Zt5qQEoN8T/vJUgVvkvwP7/0zEZcEvA/jKQZU+ID8D+N/c+MuADwP1vKjSYeAPA/2WC/WAQA8D/RGtWNAADwPwBFARAAAPA/IJ2ZAQAA8D9nRyQAAADwPzHYAgAAAPA/eDIAAAAA8D8WAwAAAADwPyoAAAAAAPA/AQAAAAAA8D8AAAAAAADwPwAAAAAAAPA/AAAAAAAA8D8AAAAAAADwPwAAAAAAAPA/",
            "dtype": "f8"
           },
           "yaxis": "y"
          }
         ],
         "name": "31"
        },
        {
         "data": [
          {
           "hovertemplate": "variable=32<br>x=%{x}<br>value=%{y}<extra></extra>",
           "legendgroup": "",
           "line": {
            "color": "#636efa",
            "dash": "solid"
           },
           "marker": {
            "symbol": "circle"
           },
           "mode": "lines",
           "name": "",
           "orientation": "v",
           "showlegend": false,
           "type": "scatter",
           "x": {
            "bdata": "AAAAAAAAAAB7FK5H4XqkP3sUrkfherQ/uB6F61G4vj97FK5H4XrEP5qZmZmZmck/uB6F61G4zj/sUbgehevRP3sUrkfhetQ/CtejcD0K1z+amZmZmZnZPylcj8L1KNw/uB6F61G43j+kcD0K16PgP+xRuB6F6+E/MzMzMzMz4z97FK5H4XrkP8P1KFyPwuU/CtejcD0K5z9SuB6F61HoP5qZmZmZmek/4XoUrkfh6j8pXI/C9SjsP3E9CtejcO0/uB6F61G47j8AAAAAAADwP6RwPQrXo/A/SOF6FK5H8T/sUbgehevxP4/C9Shcj/I/MzMzMzMz8z/Xo3A9CtfzP3sUrkfhevQ/H4XrUbge9T/D9Shcj8L1P2dmZmZmZvY/CtejcD0K9z+uR+F6FK73P1K4HoXrUfg/9ihcj8L1+D+amZmZmZn5Pz4K16NwPfo/4XoUrkfh+j+F61G4HoX7Pylcj8L1KPw/zczMzMzM/D9xPQrXo3D9PxWuR+F6FP4/uB6F61G4/j9cj8L1KFz/PwAAAAAAAABA",
            "dtype": "f8"
           },
           "xaxis": "x",
           "y": {
            "bdata": "AAAAAAAA8D8AAAAAAADwPwAAAAAAAPA/AAAAAAAA8D8AAAAAAADwPwAAAAAAAPA/AAAAAAAA8D8AAAAAAADwPwAAAAAAAPA/AAAAAAAA8D8AAAAAAADwPwAAAAAAAPA/AAAAAAAA8D/zkc/cenrwP1uizUi60vE/iw1UU8zo8z9RtZ2It2D2PwYpte0T4fg/HMm7OvUj+z/DBLIWLvr8P+Y+X0DATv4//2QiL/4n/z/U3F6+xaD/PwZ/ROr92v8/qpI2UVLz/z/EMJ583OD/P3abBBZLGf8/8PjMh/hu/D+gxHAI3MX3P9v8kQgihvM/PFxWvkU88T9IuD5zK1zwP+qaFuopF/A/it9gchcF8D8MJgsL/ADwP/DigAQrAPA/htQ7fwYA8D/K+L3eAADwP9yWfRoAAPA/HevMAgAA8D/hY0MAAADwP3ahBQAAAPA/8moAAAAA8D8JBwAAAADwP2gAAAAAAPA/BAAAAAAA8D8AAAAAAADwPwAAAAAAAPA/AAAAAAAA8D8AAAAAAADwPwAAAAAAAPA/",
            "dtype": "f8"
           },
           "yaxis": "y"
          }
         ],
         "name": "32"
        },
        {
         "data": [
          {
           "hovertemplate": "variable=33<br>x=%{x}<br>value=%{y}<extra></extra>",
           "legendgroup": "",
           "line": {
            "color": "#636efa",
            "dash": "solid"
           },
           "marker": {
            "symbol": "circle"
           },
           "mode": "lines",
           "name": "",
           "orientation": "v",
           "showlegend": false,
           "type": "scatter",
           "x": {
            "bdata": "AAAAAAAAAAB7FK5H4XqkP3sUrkfherQ/uB6F61G4vj97FK5H4XrEP5qZmZmZmck/uB6F61G4zj/sUbgehevRP3sUrkfhetQ/CtejcD0K1z+amZmZmZnZPylcj8L1KNw/uB6F61G43j+kcD0K16PgP+xRuB6F6+E/MzMzMzMz4z97FK5H4XrkP8P1KFyPwuU/CtejcD0K5z9SuB6F61HoP5qZmZmZmek/4XoUrkfh6j8pXI/C9SjsP3E9CtejcO0/uB6F61G47j8AAAAAAADwP6RwPQrXo/A/SOF6FK5H8T/sUbgehevxP4/C9Shcj/I/MzMzMzMz8z/Xo3A9CtfzP3sUrkfhevQ/H4XrUbge9T/D9Shcj8L1P2dmZmZmZvY/CtejcD0K9z+uR+F6FK73P1K4HoXrUfg/9ihcj8L1+D+amZmZmZn5Pz4K16NwPfo/4XoUrkfh+j+F61G4HoX7Pylcj8L1KPw/zczMzMzM/D9xPQrXo3D9PxWuR+F6FP4/uB6F61G4/j9cj8L1KFz/PwAAAAAAAABA",
            "dtype": "f8"
           },
           "xaxis": "x",
           "y": {
            "bdata": "AAAAAAAA8D8AAAAAAADwPwAAAAAAAPA/AAAAAAAA8D8AAAAAAADwPwAAAAAAAPA/AAAAAAAA8D8AAAAAAADwPwAAAAAAAPA/AAAAAAAA8D8AAAAAAADwPwAAAAAAAPA/AAAAAAAA8D8QX0zT92/wP+1hioLFsvE/Zb4h/Gqx8z/QeC/uEBf2P9F6VLIZjvg/NJIhIiHS+j+WKbVrNrP8P8Pmdrn9GP4/RHW8mb0E/z9N5Ddj4Iz/P7PbvRtV0f8/9ttW20Xv/z/te5wh7eP/P8LHjy+eOf8/Wc1jRATU/D9f7ZRNlln4P+RuLau99PM/nco6Kd1w8T+2vXvjQ2/wP3SBGV7yHPA/pccKd5kG8D+bKWGuUwHwPzvo5W88APA/bSdYigkA8D9LfMhWAQDwP8tJ2CoAAPA/w07GBAAA8D97hHkAAADwP//GCgAAAPA/KNoAAAAA8D9cDwAAAADwP/UAAAAAAPA/DAAAAAAA8D8AAAAAAADwPwAAAAAAAPA/AAAAAAAA8D8AAAAAAADwPwAAAAAAAPA/",
            "dtype": "f8"
           },
           "yaxis": "y"
          }
         ],
         "name": "33"
        },
        {
         "data": [
          {
           "hovertemplate": "variable=34<br>x=%{x}<br>value=%{y}<extra></extra>",
           "legendgroup": "",
           "line": {
            "color": "#636efa",
            "dash": "solid"
           },
           "marker": {
            "symbol": "circle"
           },
           "mode": "lines",
           "name": "",
           "orientation": "v",
           "showlegend": false,
           "type": "scatter",
           "x": {
            "bdata": "AAAAAAAAAAB7FK5H4XqkP3sUrkfherQ/uB6F61G4vj97FK5H4XrEP5qZmZmZmck/uB6F61G4zj/sUbgehevRP3sUrkfhetQ/CtejcD0K1z+amZmZmZnZPylcj8L1KNw/uB6F61G43j+kcD0K16PgP+xRuB6F6+E/MzMzMzMz4z97FK5H4XrkP8P1KFyPwuU/CtejcD0K5z9SuB6F61HoP5qZmZmZmek/4XoUrkfh6j8pXI/C9SjsP3E9CtejcO0/uB6F61G47j8AAAAAAADwP6RwPQrXo/A/SOF6FK5H8T/sUbgehevxP4/C9Shcj/I/MzMzMzMz8z/Xo3A9CtfzP3sUrkfhevQ/H4XrUbge9T/D9Shcj8L1P2dmZmZmZvY/CtejcD0K9z+uR+F6FK73P1K4HoXrUfg/9ihcj8L1+D+amZmZmZn5Pz4K16NwPfo/4XoUrkfh+j+F61G4HoX7Pylcj8L1KPw/zczMzMzM/D9xPQrXo3D9PxWuR+F6FP4/uB6F61G4/j9cj8L1KFz/PwAAAAAAAABA",
            "dtype": "f8"
           },
           "xaxis": "x",
           "y": {
            "bdata": "AAAAAAAA8D8AAAAAAADwPwAAAAAAAPA/AAAAAAAA8D8AAAAAAADwPwAAAAAAAPA/AAAAAAAA8D8AAAAAAADwPwAAAAAAAPA/AAAAAAAA8D8AAAAAAADwPwAAAAAAAPA/AAAAAAAA8D/xJI/gYWbwP3SUmhEElfE/+2gDvwp98z810HXcdtD1PzU1ipFlPfg/b8ttqRqB+j/C2MXwTGv8P5evmgPo4P0/aD5kd6fe/j9ocuOMgXb/P3fN4fX8xf8/dkTUAUvq/z+JVdiXz+X/P6uCD7VQVf8/H1JGniUw/T8XAt34+ur4P5SAE5unafQ/YG2zMlqr8T8kAqibUIXwP8TnrufaI/A/Epia+XYI8D+moRgzxAHwP52+crVTAPA/7X4myA0A8D+ILr8FAgDwP+741kMAAPA/BXnyBwAA8D8BQNUAAADwP3QBFAAAAPA/5a0BAAAA8D9CIAAAAADwPygCAAAAAPA/HwAAAAAA8D8BAAAAAADwPwAAAAAAAPA/AAAAAAAA8D8AAAAAAADwPwAAAAAAAPA/",
            "dtype": "f8"
           },
           "yaxis": "y"
          }
         ],
         "name": "34"
        },
        {
         "data": [
          {
           "hovertemplate": "variable=35<br>x=%{x}<br>value=%{y}<extra></extra>",
           "legendgroup": "",
           "line": {
            "color": "#636efa",
            "dash": "solid"
           },
           "marker": {
            "symbol": "circle"
           },
           "mode": "lines",
           "name": "",
           "orientation": "v",
           "showlegend": false,
           "type": "scatter",
           "x": {
            "bdata": "AAAAAAAAAAB7FK5H4XqkP3sUrkfherQ/uB6F61G4vj97FK5H4XrEP5qZmZmZmck/uB6F61G4zj/sUbgehevRP3sUrkfhetQ/CtejcD0K1z+amZmZmZnZPylcj8L1KNw/uB6F61G43j+kcD0K16PgP+xRuB6F6+E/MzMzMzMz4z97FK5H4XrkP8P1KFyPwuU/CtejcD0K5z9SuB6F61HoP5qZmZmZmek/4XoUrkfh6j8pXI/C9SjsP3E9CtejcO0/uB6F61G47j8AAAAAAADwP6RwPQrXo/A/SOF6FK5H8T/sUbgehevxP4/C9Shcj/I/MzMzMzMz8z/Xo3A9CtfzP3sUrkfhevQ/H4XrUbge9T/D9Shcj8L1P2dmZmZmZvY/CtejcD0K9z+uR+F6FK73P1K4HoXrUfg/9ihcj8L1+D+amZmZmZn5Pz4K16NwPfo/4XoUrkfh+j+F61G4HoX7Pylcj8L1KPw/zczMzMzM/D9xPQrXo3D9PxWuR+F6FP4/uB6F61G4/j9cj8L1KFz/PwAAAAAAAABA",
            "dtype": "f8"
           },
           "xaxis": "x",
           "y": {
            "bdata": "AAAAAAAA8D8AAAAAAADwPwAAAAAAAPA/AAAAAAAA8D8AAAAAAADwPwAAAAAAAPA/AAAAAAAA8D8AAAAAAADwPwAAAAAAAPA/AAAAAAAA8D8AAAAAAADwPwAAAAAAAPA/AAAAAAAA8D/ZuVIgo13wP1dhUH5NefE/sfAwloFL8z/6miyO0Iz1P5uL7CsB7/c/C9haVRQx+j8zoD5TviL8P1LXtEnEpv0/heSbStu1/j98vpdHn13/P7KTlr3VuP8/Mw+ZGkLk/z+jr6o3jub/P73MlmblbP8/Z7/A1qGD/T88jXEu2nj5P/V8Op1F5PQ/tUwl1Pvr8T9LTFWSnZ7wP8cMQT8MLPA/MpCUgsAK8D/acb8oUwLwP8GONmtyAPA/h97xmxMA8D+cP50AAwDwPwT+VGkAAPA/Wy7wDAAA8D/BBG0BAADwPwAcJAAAAPA/3DQDAAAA8D9lQQAAAADwP6oEAAAAAPA/SgAAAAAA8D8EAAAAAADwPwAAAAAAAPA/AAAAAAAA8D8AAAAAAADwPwAAAAAAAPA/",
            "dtype": "f8"
           },
           "yaxis": "y"
          }
         ],
         "name": "35"
        },
        {
         "data": [
          {
           "hovertemplate": "variable=36<br>x=%{x}<br>value=%{y}<extra></extra>",
           "legendgroup": "",
           "line": {
            "color": "#636efa",
            "dash": "solid"
           },
           "marker": {
            "symbol": "circle"
           },
           "mode": "lines",
           "name": "",
           "orientation": "v",
           "showlegend": false,
           "type": "scatter",
           "x": {
            "bdata": "AAAAAAAAAAB7FK5H4XqkP3sUrkfherQ/uB6F61G4vj97FK5H4XrEP5qZmZmZmck/uB6F61G4zj/sUbgehevRP3sUrkfhetQ/CtejcD0K1z+amZmZmZnZPylcj8L1KNw/uB6F61G43j+kcD0K16PgP+xRuB6F6+E/MzMzMzMz4z97FK5H4XrkP8P1KFyPwuU/CtejcD0K5z9SuB6F61HoP5qZmZmZmek/4XoUrkfh6j8pXI/C9SjsP3E9CtejcO0/uB6F61G47j8AAAAAAADwP6RwPQrXo/A/SOF6FK5H8T/sUbgehevxP4/C9Shcj/I/MzMzMzMz8z/Xo3A9CtfzP3sUrkfhevQ/H4XrUbge9T/D9Shcj8L1P2dmZmZmZvY/CtejcD0K9z+uR+F6FK73P1K4HoXrUfg/9ihcj8L1+D+amZmZmZn5Pz4K16NwPfo/4XoUrkfh+j+F61G4HoX7Pylcj8L1KPw/zczMzMzM/D9xPQrXo3D9PxWuR+F6FP4/uB6F61G4/j9cj8L1KFz/PwAAAAAAAABA",
            "dtype": "f8"
           },
           "xaxis": "x",
           "y": {
            "bdata": "AAAAAAAA8D8AAAAAAADwPwAAAAAAAPA/AAAAAAAA8D8AAAAAAADwPwAAAAAAAPA/AAAAAAAA8D8AAAAAAADwPwAAAAAAAPA/AAAAAAAA8D8AAAAAAADwPwAAAAAAAPA/AAAAAAAA8D+m7Lndp1XwP7wTzYZ8X/E/Nl8owqcc8z+sN7eDBEz1P7gBdBvxovc/O6/3ojji+T/zdCDQ0Nn7P3SFTbHXav0/+VvT7X6K/j8RBPkpN0L/P60zI87Dqf8/Ypydpgvd/z/xucKALOb/P9VN//3OgP8/4seledfO/T8vZActIgL6P+ny7IXcY/U/9XogfPMy8j/Bm07UeLvwPxJFH6SyNfA/8s+hr4gN8D9JM1sKBwPwP/9zIHyaAPA/EJyWghsA8D9Vj+RiBADwP+cEm6AAAPA/rz+jFAAA8D+OnWICAADwP7uEPwAAAPA/yvIFAAAA8D9agAAAAADwP7oJAAAAAPA/pwAAAAAA8D8KAAAAAADwPwAAAAAAAPA/AAAAAAAA8D8AAAAAAADwPwAAAAAAAPA/",
            "dtype": "f8"
           },
           "yaxis": "y"
          }
         ],
         "name": "36"
        },
        {
         "data": [
          {
           "hovertemplate": "variable=37<br>x=%{x}<br>value=%{y}<extra></extra>",
           "legendgroup": "",
           "line": {
            "color": "#636efa",
            "dash": "solid"
           },
           "marker": {
            "symbol": "circle"
           },
           "mode": "lines",
           "name": "",
           "orientation": "v",
           "showlegend": false,
           "type": "scatter",
           "x": {
            "bdata": "AAAAAAAAAAB7FK5H4XqkP3sUrkfherQ/uB6F61G4vj97FK5H4XrEP5qZmZmZmck/uB6F61G4zj/sUbgehevRP3sUrkfhetQ/CtejcD0K1z+amZmZmZnZPylcj8L1KNw/uB6F61G43j+kcD0K16PgP+xRuB6F6+E/MzMzMzMz4z97FK5H4XrkP8P1KFyPwuU/CtejcD0K5z9SuB6F61HoP5qZmZmZmek/4XoUrkfh6j8pXI/C9SjsP3E9CtejcO0/uB6F61G47j8AAAAAAADwP6RwPQrXo/A/SOF6FK5H8T/sUbgehevxP4/C9Shcj/I/MzMzMzMz8z/Xo3A9CtfzP3sUrkfhevQ/H4XrUbge9T/D9Shcj8L1P2dmZmZmZvY/CtejcD0K9z+uR+F6FK73P1K4HoXrUfg/9ihcj8L1+D+amZmZmZn5Pz4K16NwPfo/4XoUrkfh+j+F61G4HoX7Pylcj8L1KPw/zczMzMzM/D9xPQrXo3D9PxWuR+F6FP4/uB6F61G4/j9cj8L1KFz/PwAAAAAAAABA",
            "dtype": "f8"
           },
           "xaxis": "x",
           "y": {
            "bdata": "AAAAAAAA8D8AAAAAAADwPwAAAAAAAPA/AAAAAAAA8D8AAAAAAADwPwAAAAAAAPA/AAAAAAAA8D8AAAAAAADwPwAAAAAAAPA/AAAAAAAA8D8AAAAAAADwPwAAAAAAAPA/AAAAAAAA8D/uArZUXk7wP5W+h9NuR/E/gz0EtVfw8j9c+lfn+A31P5/AitE1Wfc/pN9t16qU+T/S7mwbxJD7P1cI+yhmLf0/c+MATr1c/j8i/c8OTiT/Pz825zSwmP8/9w0wA4nU/z/kGGdBqOT/P+Afu8Jwkf8/u8E6CjcS/j8s3hmJ5YX6P7V7Bg6T5/U/4pmyHWKA8j8kZresMdzwP8bvT+f9QPA/I/LFWOQQ8D+MoN9X5wPwPzSnmDTOAPA/LUp0FyYA8D/37DNQBgDwP5XTy/AAAPA/2DpNIAAA8D9mAOgDAADwPyIcbQAAAPA/874KAAAA8D+O9AAAAADwP50TAAAAAPA/aQEAAAAA8D8XAAAAAADwPwEAAAAAAPA/AAAAAAAA8D8AAAAAAADwPwAAAAAAAPA/",
            "dtype": "f8"
           },
           "yaxis": "y"
          }
         ],
         "name": "37"
        },
        {
         "data": [
          {
           "hovertemplate": "variable=38<br>x=%{x}<br>value=%{y}<extra></extra>",
           "legendgroup": "",
           "line": {
            "color": "#636efa",
            "dash": "solid"
           },
           "marker": {
            "symbol": "circle"
           },
           "mode": "lines",
           "name": "",
           "orientation": "v",
           "showlegend": false,
           "type": "scatter",
           "x": {
            "bdata": "AAAAAAAAAAB7FK5H4XqkP3sUrkfherQ/uB6F61G4vj97FK5H4XrEP5qZmZmZmck/uB6F61G4zj/sUbgehevRP3sUrkfhetQ/CtejcD0K1z+amZmZmZnZPylcj8L1KNw/uB6F61G43j+kcD0K16PgP+xRuB6F6+E/MzMzMzMz4z97FK5H4XrkP8P1KFyPwuU/CtejcD0K5z9SuB6F61HoP5qZmZmZmek/4XoUrkfh6j8pXI/C9SjsP3E9CtejcO0/uB6F61G47j8AAAAAAADwP6RwPQrXo/A/SOF6FK5H8T/sUbgehevxP4/C9Shcj/I/MzMzMzMz8z/Xo3A9CtfzP3sUrkfhevQ/H4XrUbge9T/D9Shcj8L1P2dmZmZmZvY/CtejcD0K9z+uR+F6FK73P1K4HoXrUfg/9ihcj8L1+D+amZmZmZn5Pz4K16NwPfo/4XoUrkfh+j+F61G4HoX7Pylcj8L1KPw/zczMzMzM/D9xPQrXo3D9PxWuR+F6FP4/uB6F61G4/j9cj8L1KFz/PwAAAAAAAABA",
            "dtype": "f8"
           },
           "xaxis": "x",
           "y": {
            "bdata": "AAAAAAAA8D8AAAAAAADwPwAAAAAAAPA/AAAAAAAA8D8AAAAAAADwPwAAAAAAAPA/AAAAAAAA8D8AAAAAAADwPwAAAAAAAPA/AAAAAAAA8D8AAAAAAADwPwAAAAAAAPA/AAAAAAAA8D9gVn57tkfwPzQYxbMEMfE/kJWs+m3G8j896m/bk9L0P1Vn+lXMEfc/QfVOyYdI+T98XfJz0Uf7P2LlunKx7vw/fTZhK8Us/j8W3RKe7wP/P/1EkyOJhf8/0NPIF53K/z/CKnat+uH/P1z+oWwfn/8/8bpTajxO/j+mP/BYXwP7P/cxRhh2bvY/br+3PFXU8j83eVmaFwHxP9E5mGshTvA/V+lRteoU8D/MgeKw/ATwPxpjMlAQAfA/5lYDGjQA8D88ACX2CADwP2/caWMBAPA/Cx2tMQAA8D9FxUUGAADwP9JZtwAAAPA/YvESAAAA8D9sxQEAAADwP1wmAAAAAPA/7QIAAAAA8D8zAAAAAADwPwMAAAAAAPA/AAAAAAAA8D8AAAAAAADwPwAAAAAAAPA/",
            "dtype": "f8"
           },
           "yaxis": "y"
          }
         ],
         "name": "38"
        },
        {
         "data": [
          {
           "hovertemplate": "variable=39<br>x=%{x}<br>value=%{y}<extra></extra>",
           "legendgroup": "",
           "line": {
            "color": "#636efa",
            "dash": "solid"
           },
           "marker": {
            "symbol": "circle"
           },
           "mode": "lines",
           "name": "",
           "orientation": "v",
           "showlegend": false,
           "type": "scatter",
           "x": {
            "bdata": "AAAAAAAAAAB7FK5H4XqkP3sUrkfherQ/uB6F61G4vj97FK5H4XrEP5qZmZmZmck/uB6F61G4zj/sUbgehevRP3sUrkfhetQ/CtejcD0K1z+amZmZmZnZPylcj8L1KNw/uB6F61G43j+kcD0K16PgP+xRuB6F6+E/MzMzMzMz4z97FK5H4XrkP8P1KFyPwuU/CtejcD0K5z9SuB6F61HoP5qZmZmZmek/4XoUrkfh6j8pXI/C9SjsP3E9CtejcO0/uB6F61G47j8AAAAAAADwP6RwPQrXo/A/SOF6FK5H8T/sUbgehevxP4/C9Shcj/I/MzMzMzMz8z/Xo3A9CtfzP3sUrkfhevQ/H4XrUbge9T/D9Shcj8L1P2dmZmZmZvY/CtejcD0K9z+uR+F6FK73P1K4HoXrUfg/9ihcj8L1+D+amZmZmZn5Pz4K16NwPfo/4XoUrkfh+j+F61G4HoX7Pylcj8L1KPw/zczMzMzM/D9xPQrXo3D9PxWuR+F6FP4/uB6F61G4/j9cj8L1KFz/PwAAAAAAAABA",
            "dtype": "f8"
           },
           "xaxis": "x",
           "y": {
            "bdata": "AAAAAAAA8D8AAAAAAADwPwAAAAAAAPA/AAAAAAAA8D8AAAAAAADwPwAAAAAAAPA/AAAAAAAA8D8AAAAAAADwPwAAAAAAAPA/AAAAAAAA8D8AAAAAAADwPwAAAAAAAPA/AAAAAAAA8D+ktOXSoUHwP7lkHOEgHPE/V7E8H8me8j+iWfS2u5n0PwW0HuquzPY/V1sxn+b9+D/KVUfYK//6P3v5a2b4rvw/xyRe68f6/T89Z7KvLeH+P0grGzdCcP8/vGCC+Sy//z/+z3NmGd7/P3B/nDsiqv8/PGbqKGmD/j95qGc99Xn7P6xeakl+9/Y/agWfGcQu8z/h/yYNeSrxP2WX/BdUXfA/1iImgLUZ8D/g9ILwUAbwP9I8fAhkAfA/wlkYdEYA8D/sinmODADwP8WC+QQCAPA/ooInSwAA8D9Ct+MJAADwP8biLQEAAPA/waQgAAAA8D/BMwMAAADwP/NIAAAAAPA/4QUAAAAA8D9tAAAAAADwPwcAAAAAAPA/AAAAAAAA8D8AAAAAAADwPwAAAAAAAPA/",
            "dtype": "f8"
           },
           "yaxis": "y"
          }
         ],
         "name": "39"
        },
        {
         "data": [
          {
           "hovertemplate": "variable=40<br>x=%{x}<br>value=%{y}<extra></extra>",
           "legendgroup": "",
           "line": {
            "color": "#636efa",
            "dash": "solid"
           },
           "marker": {
            "symbol": "circle"
           },
           "mode": "lines",
           "name": "",
           "orientation": "v",
           "showlegend": false,
           "type": "scatter",
           "x": {
            "bdata": "AAAAAAAAAAB7FK5H4XqkP3sUrkfherQ/uB6F61G4vj97FK5H4XrEP5qZmZmZmck/uB6F61G4zj/sUbgehevRP3sUrkfhetQ/CtejcD0K1z+amZmZmZnZPylcj8L1KNw/uB6F61G43j+kcD0K16PgP+xRuB6F6+E/MzMzMzMz4z97FK5H4XrkP8P1KFyPwuU/CtejcD0K5z9SuB6F61HoP5qZmZmZmek/4XoUrkfh6j8pXI/C9SjsP3E9CtejcO0/uB6F61G47j8AAAAAAADwP6RwPQrXo/A/SOF6FK5H8T/sUbgehevxP4/C9Shcj/I/MzMzMzMz8z/Xo3A9CtfzP3sUrkfhevQ/H4XrUbge9T/D9Shcj8L1P2dmZmZmZvY/CtejcD0K9z+uR+F6FK73P1K4HoXrUfg/9ihcj8L1+D+amZmZmZn5Pz4K16NwPfo/4XoUrkfh+j+F61G4HoX7Pylcj8L1KPw/zczMzMzM/D9xPQrXo3D9PxWuR+F6FP4/uB6F61G4/j9cj8L1KFz/PwAAAAAAAABA",
            "dtype": "f8"
           },
           "xaxis": "x",
           "y": {
            "bdata": "AAAAAAAA8D8AAAAAAADwPwAAAAAAAPA/AAAAAAAA8D8AAAAAAADwPwAAAAAAAPA/AAAAAAAA8D8AAAAAAADwPwAAAAAAAPA/AAAAAAAA8D8AAAAAAADwPwAAAAAAAPA/AAAAAAAA8D92C448EzzwP5V1PUmoCPE/0SualEl58j/b+ogzV2P0P4pOq5PVifY/MwkLgdm0+D9T3WZTALf6P/jrAWd2bvw/bkiVg/jG/T+YevCSH7z+P9d57JPUWP8/gk0ZfiCy/z/E6bx099j/P/wY+S+0sv8/nFWIyz+y/j/5W5xgN+n7P+fFaLiWgfc/AJm0JY2P8z9vBC/ooVjxP+GsgDnQbvA/cBW1GmEf8D+VPHdK7wfwP29H9CTNAfA/y8zeQF4A8D955Z9hEQDwP31KxOUCAPA/UgP5bwAA8D84CFQPAADwP3u05wEAAPA/lxQ3AAAA8D/WpwUAAADwPy+HAAAAAPA/eAsAAAAA8D/hAAAAAADwPxAAAAAAAPA/AQAAAAAA8D8AAAAAAADwPwAAAAAAAPA/",
            "dtype": "f8"
           },
           "yaxis": "y"
          }
         ],
         "name": "40"
        },
        {
         "data": [
          {
           "hovertemplate": "variable=41<br>x=%{x}<br>value=%{y}<extra></extra>",
           "legendgroup": "",
           "line": {
            "color": "#636efa",
            "dash": "solid"
           },
           "marker": {
            "symbol": "circle"
           },
           "mode": "lines",
           "name": "",
           "orientation": "v",
           "showlegend": false,
           "type": "scatter",
           "x": {
            "bdata": "AAAAAAAAAAB7FK5H4XqkP3sUrkfherQ/uB6F61G4vj97FK5H4XrEP5qZmZmZmck/uB6F61G4zj/sUbgehevRP3sUrkfhetQ/CtejcD0K1z+amZmZmZnZPylcj8L1KNw/uB6F61G43j+kcD0K16PgP+xRuB6F6+E/MzMzMzMz4z97FK5H4XrkP8P1KFyPwuU/CtejcD0K5z9SuB6F61HoP5qZmZmZmek/4XoUrkfh6j8pXI/C9SjsP3E9CtejcO0/uB6F61G47j8AAAAAAADwP6RwPQrXo/A/SOF6FK5H8T/sUbgehevxP4/C9Shcj/I/MzMzMzMz8z/Xo3A9CtfzP3sUrkfhevQ/H4XrUbge9T/D9Shcj8L1P2dmZmZmZvY/CtejcD0K9z+uR+F6FK73P1K4HoXrUfg/9ihcj8L1+D+amZmZmZn5Pz4K16NwPfo/4XoUrkfh+j+F61G4HoX7Pylcj8L1KPw/zczMzMzM/D9xPQrXo3D9PxWuR+F6FP4/uB6F61G4/j9cj8L1KFz/PwAAAAAAAABA",
            "dtype": "f8"
           },
           "xaxis": "x",
           "y": {
            "bdata": "AAAAAAAA8D8AAAAAAADwPwAAAAAAAPA/AAAAAAAA8D8AAAAAAADwPwAAAAAAAPA/AAAAAAAA8D8AAAAAAADwPwAAAAAAAPA/AAAAAAAA8D8AAAAAAADwPwAAAAAAAPA/AAAAAAAA8D+rGSXW/jbwP0pGQt2B9vA//Fnzl9FV8j+Qxw2QTS/0P44wH5I2SfY/TBHzOm5t+D+AlwpZdm/6P4oSKQRjLfw/9GQtg4qR/T/lRKVE4ZT+P3QU+Nk+P/8/0/92uWKj/z9uNAYxhtL/P3nBA1QFuf8/zB6tEUDb/j+f09mo3lD8P+qFsGGkC/g/8L3f7XP28z/Q3i3G2YvxP5Uhb1DTgvA/yTUOrgwm8D84FTBp5AnwP80GJQxQAvA/pLKU1HwA8D+aw5bJFwDwPwd6wRoEAPA/BaB0pAAA8D/Xx2EXAADwP8sQBgMAAPA/6iFbAAAA8D87xgkAAADwP5L0AAAAAPA/xxUAAAAA8D/DAQAAAADwPyEAAAAAAPA/AgAAAAAA8D8AAAAAAADwPwAAAAAAAPA/",
            "dtype": "f8"
           },
           "yaxis": "y"
          }
         ],
         "name": "41"
        },
        {
         "data": [
          {
           "hovertemplate": "variable=42<br>x=%{x}<br>value=%{y}<extra></extra>",
           "legendgroup": "",
           "line": {
            "color": "#636efa",
            "dash": "solid"
           },
           "marker": {
            "symbol": "circle"
           },
           "mode": "lines",
           "name": "",
           "orientation": "v",
           "showlegend": false,
           "type": "scatter",
           "x": {
            "bdata": "AAAAAAAAAAB7FK5H4XqkP3sUrkfherQ/uB6F61G4vj97FK5H4XrEP5qZmZmZmck/uB6F61G4zj/sUbgehevRP3sUrkfhetQ/CtejcD0K1z+amZmZmZnZPylcj8L1KNw/uB6F61G43j+kcD0K16PgP+xRuB6F6+E/MzMzMzMz4z97FK5H4XrkP8P1KFyPwuU/CtejcD0K5z9SuB6F61HoP5qZmZmZmek/4XoUrkfh6j8pXI/C9SjsP3E9CtejcO0/uB6F61G47j8AAAAAAADwP6RwPQrXo/A/SOF6FK5H8T/sUbgehevxP4/C9Shcj/I/MzMzMzMz8z/Xo3A9CtfzP3sUrkfhevQ/H4XrUbge9T/D9Shcj8L1P2dmZmZmZvY/CtejcD0K9z+uR+F6FK73P1K4HoXrUfg/9ihcj8L1+D+amZmZmZn5Pz4K16NwPfo/4XoUrkfh+j+F61G4HoX7Pylcj8L1KPw/zczMzMzM/D9xPQrXo3D9PxWuR+F6FP4/uB6F61G4/j9cj8L1KFz/PwAAAAAAAABA",
            "dtype": "f8"
           },
           "xaxis": "x",
           "y": {
            "bdata": "AAAAAAAA8D8AAAAAAADwPwAAAAAAAPA/AAAAAAAA8D8AAAAAAADwPwAAAAAAAPA/AAAAAAAA8D8AAAAAAADwPwAAAAAAAPA/AAAAAAAA8D8AAAAAAADwPwAAAAAAAPA/AAAAAAAA8D94UPfYWTLwP9JU62WW5fA/jPKlF0U08j85/+uphv3zP21/vcHGCvY/rzLX0K4n+D8dTW0rsCj6P5DTxMHx6/s/y246PbFa/T/SBO+dkmv+P/1qt/SEI/8/CLoZYuKS/z9KMaYctsr/P7HzPAs8vf8/PikLI+T+/j9DlEt4ybD8P6jGj/SNlPg/ubnUqx9j9D9MGJsBYsTxP/zf+MSdmfA/pfEGSdot8D+IZvqMPgzwP5/h79XxAvA/gX0QxaMA8D+YcTg1IADwPzYBqb4FAPA/0l9Q7gAA8D/sWSMjAADwPwxguAQAAPA/JwuUAAAA8D/fjRAAAADwP7WwAQAAAPA/WCgAAAAA8D9uAwAAAADwP0QAAAAAAPA/BQAAAAAA8D8AAAAAAADwPwAAAAAAAPA/",
            "dtype": "f8"
           },
           "yaxis": "y"
          }
         ],
         "name": "42"
        },
        {
         "data": [
          {
           "hovertemplate": "variable=43<br>x=%{x}<br>value=%{y}<extra></extra>",
           "legendgroup": "",
           "line": {
            "color": "#636efa",
            "dash": "solid"
           },
           "marker": {
            "symbol": "circle"
           },
           "mode": "lines",
           "name": "",
           "orientation": "v",
           "showlegend": false,
           "type": "scatter",
           "x": {
            "bdata": "AAAAAAAAAAB7FK5H4XqkP3sUrkfherQ/uB6F61G4vj97FK5H4XrEP5qZmZmZmck/uB6F61G4zj/sUbgehevRP3sUrkfhetQ/CtejcD0K1z+amZmZmZnZPylcj8L1KNw/uB6F61G43j+kcD0K16PgP+xRuB6F6+E/MzMzMzMz4z97FK5H4XrkP8P1KFyPwuU/CtejcD0K5z9SuB6F61HoP5qZmZmZmek/4XoUrkfh6j8pXI/C9SjsP3E9CtejcO0/uB6F61G47j8AAAAAAADwP6RwPQrXo/A/SOF6FK5H8T/sUbgehevxP4/C9Shcj/I/MzMzMzMz8z/Xo3A9CtfzP3sUrkfhevQ/H4XrUbge9T/D9Shcj8L1P2dmZmZmZvY/CtejcD0K9z+uR+F6FK73P1K4HoXrUfg/9ihcj8L1+D+amZmZmZn5Pz4K16NwPfo/4XoUrkfh+j+F61G4HoX7Pylcj8L1KPw/zczMzMzM/D9xPQrXo3D9PxWuR+F6FP4/uB6F61G4/j9cj8L1KFz/PwAAAAAAAABA",
            "dtype": "f8"
           },
           "xaxis": "x",
           "y": {
            "bdata": "AAAAAAAA8D8AAAAAAADwPwAAAAAAAPA/AAAAAAAA8D8AAAAAAADwPwAAAAAAAPA/AAAAAAAA8D8AAAAAAADwPwAAAAAAAPA/AAAAAAAA8D8AAAAAAADwPwAAAAAAAPA/AAAAAAAA8D/aUkJ9Gi7wP21uOFzQ1fA/J/vmmYkU8j/TiwAP683zP8PPmu55zvU/t0NSA6Lj9z831IBFy+L5P/Vu0f5Rqvs/n/zvFJ8i/T/fZYKDVkD+P++De8yvBf8/fHgWGpKA/z+NN9Kmd8H/P0evbF52v/8/kelzkJ4d/z/7V4Rf9wj9PxwgiodDG/k/dIUBrBrV9D8cY6yEcwLyP8mtkX5ys/A/KRlb+u428D+wf/+rDQ/wP/RRCV+4A/A/zWka89QA8D+y2fUrKwDwP/G/NfMHAPA/P3MCVQEA8D86xRE0AADwPzVKQQcAAPA/j2fsAAAA8D/6ghsAAADwP87tAgAAAPA/CkkAAAAA8D+CBgAAAADwP4gAAAAAAPA/CgAAAAAA8D8AAAAAAADwPwAAAAAAAPA/",
            "dtype": "f8"
           },
           "yaxis": "y"
          }
         ],
         "name": "43"
        },
        {
         "data": [
          {
           "hovertemplate": "variable=44<br>x=%{x}<br>value=%{y}<extra></extra>",
           "legendgroup": "",
           "line": {
            "color": "#636efa",
            "dash": "solid"
           },
           "marker": {
            "symbol": "circle"
           },
           "mode": "lines",
           "name": "",
           "orientation": "v",
           "showlegend": false,
           "type": "scatter",
           "x": {
            "bdata": "AAAAAAAAAAB7FK5H4XqkP3sUrkfherQ/uB6F61G4vj97FK5H4XrEP5qZmZmZmck/uB6F61G4zj/sUbgehevRP3sUrkfhetQ/CtejcD0K1z+amZmZmZnZPylcj8L1KNw/uB6F61G43j+kcD0K16PgP+xRuB6F6+E/MzMzMzMz4z97FK5H4XrkP8P1KFyPwuU/CtejcD0K5z9SuB6F61HoP5qZmZmZmek/4XoUrkfh6j8pXI/C9SjsP3E9CtejcO0/uB6F61G47j8AAAAAAADwP6RwPQrXo/A/SOF6FK5H8T/sUbgehevxP4/C9Shcj/I/MzMzMzMz8z/Xo3A9CtfzP3sUrkfhevQ/H4XrUbge9T/D9Shcj8L1P2dmZmZmZvY/CtejcD0K9z+uR+F6FK73P1K4HoXrUfg/9ihcj8L1+D+amZmZmZn5Pz4K16NwPfo/4XoUrkfh+j+F61G4HoX7Pylcj8L1KPw/zczMzMzM/D9xPQrXo3D9PxWuR+F6FP4/uB6F61G4/j9cj8L1KFz/PwAAAAAAAABA",
            "dtype": "f8"
           },
           "xaxis": "x",
           "y": {
            "bdata": "AAAAAAAA8D8AAAAAAADwPwAAAAAAAPA/AAAAAAAA8D8AAAAAAADwPwAAAAAAAPA/AAAAAAAA8D8AAAAAAADwPwAAAAAAAPA/AAAAAAAA8D8AAAAAAADwPwAAAAAAAPA/AAAAAAAA8D/sycfgNyrwP8pT4MUbx/A/YjNnJIb28T+vjKgJZKDzPy9aBBpDlPU/uGs7xkuh9z95idHF4J35PzPzmfWuaPs/c+rT6oTp/D86zVgcUhP+P+0qA9/M5f4//e7Ym2hs/z+RHOncu7b/P+CJ9T3Lv/8/dDWhCtk3/z/I+M8qhFn9PzshV8HFnvk/cWEysNJL9T+HljlqPEbyP/EKI1mW0PA/cYxX5XJB8D8BPPiSYxLwP8pkql2qBPA/jWyilBIB8D8tvQlSOQDwP8aMnOIKAPA/D3Ax4gEA8D8J1CVMAADwP3dU/QoAAPA/cnpzAQAA8D9c6ywAAADwPzz6BAAAAPA/cIEAAAAA8D8NDAAAAADwPwgBAAAAAPA/FQAAAAAA8D8BAAAAAADwPwAAAAAAAPA/",
            "dtype": "f8"
           },
           "yaxis": "y"
          }
         ],
         "name": "44"
        },
        {
         "data": [
          {
           "hovertemplate": "variable=45<br>x=%{x}<br>value=%{y}<extra></extra>",
           "legendgroup": "",
           "line": {
            "color": "#636efa",
            "dash": "solid"
           },
           "marker": {
            "symbol": "circle"
           },
           "mode": "lines",
           "name": "",
           "orientation": "v",
           "showlegend": false,
           "type": "scatter",
           "x": {
            "bdata": "AAAAAAAAAAB7FK5H4XqkP3sUrkfherQ/uB6F61G4vj97FK5H4XrEP5qZmZmZmck/uB6F61G4zj/sUbgehevRP3sUrkfhetQ/CtejcD0K1z+amZmZmZnZPylcj8L1KNw/uB6F61G43j+kcD0K16PgP+xRuB6F6+E/MzMzMzMz4z97FK5H4XrkP8P1KFyPwuU/CtejcD0K5z9SuB6F61HoP5qZmZmZmek/4XoUrkfh6j8pXI/C9SjsP3E9CtejcO0/uB6F61G47j8AAAAAAADwP6RwPQrXo/A/SOF6FK5H8T/sUbgehevxP4/C9Shcj/I/MzMzMzMz8z/Xo3A9CtfzP3sUrkfhevQ/H4XrUbge9T/D9Shcj8L1P2dmZmZmZvY/CtejcD0K9z+uR+F6FK73P1K4HoXrUfg/9ihcj8L1+D+amZmZmZn5Pz4K16NwPfo/4XoUrkfh+j+F61G4HoX7Pylcj8L1KPw/zczMzMzM/D9xPQrXo3D9PxWuR+F6FP4/uB6F61G4/j9cj8L1KFz/PwAAAAAAAABA",
            "dtype": "f8"
           },
           "xaxis": "x",
           "y": {
            "bdata": "AAAAAAAA8D8AAAAAAADwPwAAAAAAAPA/AAAAAAAA8D8AAAAAAADwPwAAAAAAAPA/AAAAAAAA8D8AAAAAAADwPwAAAAAAAPA/AAAAAAAA8D8AAAAAAADwPwAAAAAAAPA/AAAAAAAA8D82iTTwqSbwP4RtOBVmufA/cQwZJSPa8T9mYCuo23TzP10gQLQUXPU/Ep7Jqa1g9z9qK0/XBVr5Pyh4x88vJ/s/8W0BqZGv/D/VM/IUrOT9P9/KlsXtw/4//T4Vy2BW/z+J4xgEdar/P8h4ZrVLvv8/AyCksPNN/z+AVZCqoqL9P0twdhAsHvo/Isq2a5rG9T9yCqh93Y/yPzCkDnNP8fA/hBFRT5FN8D+c0lcGVBbwP24BenfPBfA/K9DbP18B8D9kqCxtSwDwP2udPcEOAPA/unM6ogIA8D+rIfxtAADwPxxfaxAAAPA/SPc+AgAA8D/zIUgAAADwP1ROCAAAAPA/1uAAAAAA8D/VFQAAAADwP/MBAAAAAPA/KQAAAAAA8D8DAAAAAADwPwAAAAAAAPA/",
            "dtype": "f8"
           },
           "yaxis": "y"
          }
         ],
         "name": "45"
        },
        {
         "data": [
          {
           "hovertemplate": "variable=46<br>x=%{x}<br>value=%{y}<extra></extra>",
           "legendgroup": "",
           "line": {
            "color": "#636efa",
            "dash": "solid"
           },
           "marker": {
            "symbol": "circle"
           },
           "mode": "lines",
           "name": "",
           "orientation": "v",
           "showlegend": false,
           "type": "scatter",
           "x": {
            "bdata": "AAAAAAAAAAB7FK5H4XqkP3sUrkfherQ/uB6F61G4vj97FK5H4XrEP5qZmZmZmck/uB6F61G4zj/sUbgehevRP3sUrkfhetQ/CtejcD0K1z+amZmZmZnZPylcj8L1KNw/uB6F61G43j+kcD0K16PgP+xRuB6F6+E/MzMzMzMz4z97FK5H4XrkP8P1KFyPwuU/CtejcD0K5z9SuB6F61HoP5qZmZmZmek/4XoUrkfh6j8pXI/C9SjsP3E9CtejcO0/uB6F61G47j8AAAAAAADwP6RwPQrXo/A/SOF6FK5H8T/sUbgehevxP4/C9Shcj/I/MzMzMzMz8z/Xo3A9CtfzP3sUrkfhevQ/H4XrUbge9T/D9Shcj8L1P2dmZmZmZvY/CtejcD0K9z+uR+F6FK73P1K4HoXrUfg/9ihcj8L1+D+amZmZmZn5Pz4K16NwPfo/4XoUrkfh+j+F61G4HoX7Pylcj8L1KPw/zczMzMzM/D9xPQrXo3D9PxWuR+F6FP4/uB6F61G4/j9cj8L1KFz/PwAAAAAAAABA",
            "dtype": "f8"
           },
           "xaxis": "x",
           "y": {
            "bdata": "AAAAAAAA8D8AAAAAAADwPwAAAAAAAPA/AAAAAAAA8D8AAAAAAADwPwAAAAAAAPA/AAAAAAAA8D8AAAAAAADwPwAAAAAAAPA/AAAAAAAA8D8AAAAAAADwPwAAAAAAAPA/AAAAAAAA8D+d//9SaSPwP1/vKgyerPA/AOEsXEq/8T9HgYHAPEvzP59iY8zgJfU/lQ5NN8ch9z8bHgIWTBf5PxZpecn35fo/1rLL6/F0/D9RmeXyi7T9P6jUyq4noP4/tEmDq3k+/z+usxMbl5z/P1aMfgwEu/8/XICh2ERg/z/iFouIl+T9P7a+L6GpmPo/1WbvJaxE9j/S+cutZ9/yP/qYG0/kFfE/IXDOo3hb8D/a7J7j9BrwP6e8rlgwB/A/hZ5H970B8D/XRtJpYgDwP5kyls8TAPA/GTfQpAMA8D9vVAGdAADwP1tvNxgAAPA/RFVtAwAA8D8PCXIAAADwP/efDQAAAPA/S38BAAAA8D/AJgAAAADwP5sDAAAAAPA/TwAAAAAA8D8GAAAAAADwPwAAAAAAAPA/",
            "dtype": "f8"
           },
           "yaxis": "y"
          }
         ],
         "name": "46"
        },
        {
         "data": [
          {
           "hovertemplate": "variable=47<br>x=%{x}<br>value=%{y}<extra></extra>",
           "legendgroup": "",
           "line": {
            "color": "#636efa",
            "dash": "solid"
           },
           "marker": {
            "symbol": "circle"
           },
           "mode": "lines",
           "name": "",
           "orientation": "v",
           "showlegend": false,
           "type": "scatter",
           "x": {
            "bdata": "AAAAAAAAAAB7FK5H4XqkP3sUrkfherQ/uB6F61G4vj97FK5H4XrEP5qZmZmZmck/uB6F61G4zj/sUbgehevRP3sUrkfhetQ/CtejcD0K1z+amZmZmZnZPylcj8L1KNw/uB6F61G43j+kcD0K16PgP+xRuB6F6+E/MzMzMzMz4z97FK5H4XrkP8P1KFyPwuU/CtejcD0K5z9SuB6F61HoP5qZmZmZmek/4XoUrkfh6j8pXI/C9SjsP3E9CtejcO0/uB6F61G47j8AAAAAAADwP6RwPQrXo/A/SOF6FK5H8T/sUbgehevxP4/C9Shcj/I/MzMzMzMz8z/Xo3A9CtfzP3sUrkfhevQ/H4XrUbge9T/D9Shcj8L1P2dmZmZmZvY/CtejcD0K9z+uR+F6FK73P1K4HoXrUfg/9ihcj8L1+D+amZmZmZn5Pz4K16NwPfo/4XoUrkfh+j+F61G4HoX7Pylcj8L1KPw/zczMzMzM/D9xPQrXo3D9PxWuR+F6FP4/uB6F61G4/j9cj8L1KFz/PwAAAAAAAABA",
            "dtype": "f8"
           },
           "xaxis": "x",
           "y": {
            "bdata": "AAAAAAAA8D8AAAAAAADwPwAAAAAAAPA/AAAAAAAA8D8AAAAAAADwPwAAAAAAAPA/AAAAAAAA8D8AAAAAAADwPwAAAAAAAPA/AAAAAAAA8D8AAAAAAADwPwAAAAAAAPA/AAAAAAAA8D9kS3VZbyDwPz1l5aGzoPA/ESxMx+al8T/hiEbxciPzP+0RwTeZ8fQ/KpWRQpbk9j8myFnuwdX4PyB8R18mpfo/2AGfw885/D/B3CF7GYP9P9NOoNGSev4/siLoP7Yk/z+y+xNDGI3/P2aVxNL8tf8/SeXPNxlv/z+PjxpqtB/+P6Eqdd6QDfs/J2uYfC3F9j/RaqaM2TTzP2++5MWaPvE/A7vpbFpr8D/3KG5CXiDwP+ZqZ8zWCPA/oP62NjIC8D/n3fhgfwDwP92leFwaAPA/mlq2/QQA8D/N6afdAADwP4NCSCMAAPA/cdcoBQAA8D++pLEAAADwPw7+FQAAAPA/BIICAAAA8D92QwAAAADwP4kGAAAAAPA/lQAAAAAA8D8MAAAAAADwPwAAAAAAAPA/",
            "dtype": "f8"
           },
           "yaxis": "y"
          }
         ],
         "name": "47"
        },
        {
         "data": [
          {
           "hovertemplate": "variable=48<br>x=%{x}<br>value=%{y}<extra></extra>",
           "legendgroup": "",
           "line": {
            "color": "#636efa",
            "dash": "solid"
           },
           "marker": {
            "symbol": "circle"
           },
           "mode": "lines",
           "name": "",
           "orientation": "v",
           "showlegend": false,
           "type": "scatter",
           "x": {
            "bdata": "AAAAAAAAAAB7FK5H4XqkP3sUrkfherQ/uB6F61G4vj97FK5H4XrEP5qZmZmZmck/uB6F61G4zj/sUbgehevRP3sUrkfhetQ/CtejcD0K1z+amZmZmZnZPylcj8L1KNw/uB6F61G43j+kcD0K16PgP+xRuB6F6+E/MzMzMzMz4z97FK5H4XrkP8P1KFyPwuU/CtejcD0K5z9SuB6F61HoP5qZmZmZmek/4XoUrkfh6j8pXI/C9SjsP3E9CtejcO0/uB6F61G47j8AAAAAAADwP6RwPQrXo/A/SOF6FK5H8T/sUbgehevxP4/C9Shcj/I/MzMzMzMz8z/Xo3A9CtfzP3sUrkfhevQ/H4XrUbge9T/D9Shcj8L1P2dmZmZmZvY/CtejcD0K9z+uR+F6FK73P1K4HoXrUfg/9ihcj8L1+D+amZmZmZn5Pz4K16NwPfo/4XoUrkfh+j+F61G4HoX7Pylcj8L1KPw/zczMzMzM/D9xPQrXo3D9PxWuR+F6FP4/uB6F61G4/j9cj8L1KFz/PwAAAAAAAABA",
            "dtype": "f8"
           },
           "xaxis": "x",
           "y": {
            "bdata": "AAAAAAAA8D8AAAAAAADwPwAAAAAAAPA/AAAAAAAA8D8AAAAAAADwPwAAAAAAAPA/AAAAAAAA8D8AAAAAAADwPwAAAAAAAPA/AAAAAAAA8D8AAAAAAADwPwAAAAAAAPA/AAAAAAAA8D8UdaLstR3wP6Df8+qXlfA/CN4TjuSN8T+yv3ygav3yP6h4PLIvv/Q/u3z/MBep9j+4bUL2cpX4P+a+uYPXZPo/rjPQjFL++z+MchUsfFD9P4MhG99JU/4/0k+gVB0J/z+qhRAQ8Xv/P/tmltM7r/8/UOW5UbR6/z8i9VeMU1T+P5cNqmlVfPs/vjuGKTRH9z+Ni4b7HJDzP8NrS8O2a/E/7JADPWt98D/nms+UqibwP9btNNbNCvA/Fq1OAcAC8D9M3JOeowDwP8szkcciAPA/Fm+cxQYA8D+hIqk1AQDwP0E70DIAAPA/s3WrBwAA8D/46BABAADwP532IgAAAPA/sCEEAAAA8D9XcwAAAADwP50LAAAAAPA/FAEAAAAA8D8XAAAAAADwPwAAAAAAAPA/",
            "dtype": "f8"
           },
           "yaxis": "y"
          }
         ],
         "name": "48"
        },
        {
         "data": [
          {
           "hovertemplate": "variable=49<br>x=%{x}<br>value=%{y}<extra></extra>",
           "legendgroup": "",
           "line": {
            "color": "#636efa",
            "dash": "solid"
           },
           "marker": {
            "symbol": "circle"
           },
           "mode": "lines",
           "name": "",
           "orientation": "v",
           "showlegend": false,
           "type": "scatter",
           "x": {
            "bdata": "AAAAAAAAAAB7FK5H4XqkP3sUrkfherQ/uB6F61G4vj97FK5H4XrEP5qZmZmZmck/uB6F61G4zj/sUbgehevRP3sUrkfhetQ/CtejcD0K1z+amZmZmZnZPylcj8L1KNw/uB6F61G43j+kcD0K16PgP+xRuB6F6+E/MzMzMzMz4z97FK5H4XrkP8P1KFyPwuU/CtejcD0K5z9SuB6F61HoP5qZmZmZmek/4XoUrkfh6j8pXI/C9SjsP3E9CtejcO0/uB6F61G47j8AAAAAAADwP6RwPQrXo/A/SOF6FK5H8T/sUbgehevxP4/C9Shcj/I/MzMzMzMz8z/Xo3A9CtfzP3sUrkfhevQ/H4XrUbge9T/D9Shcj8L1P2dmZmZmZvY/CtejcD0K9z+uR+F6FK73P1K4HoXrUfg/9ihcj8L1+D+amZmZmZn5Pz4K16NwPfo/4XoUrkfh+j+F61G4HoX7Pylcj8L1KPw/zczMzMzM/D9xPQrXo3D9PxWuR+F6FP4/uB6F61G4/j9cj8L1KFz/PwAAAAAAAABA",
            "dtype": "f8"
           },
           "xaxis": "x",
           "y": {
            "bdata": "AAAAAAAA8D8AAAAAAADwPwAAAAAAAPA/AAAAAAAA8D8AAAAAAADwPwAAAAAAAPA/AAAAAAAA8D8AAAAAAADwPwAAAAAAAPA/AAAAAAAA8D8AAAAAAADwPwAAAAAAAPA/AAAAAAAA8D+eufN/NxvwPy/1hQM9i/A/7dPH7zB38T9SGqj4ENnyP0wTnfiVjvQ/p8+IN0Vv9j+YUpQ/aFb4Pxy5YtkjJfo/QSkM2p7C+z8GGvzL2hz9P9Y+o3ZpKv4/sOJLObnr/j/0SKjAHGn/Pye+OfHEpv8/d2khGlGD/z9CoJ7104L+P+li25OM5Ps/Ut4imsvJ9z+UWbInBfHzPxEI7M14nfE/3B94huKR8D/tYAjG9i3wP4uFyswhDfA/fKKU8GsD8D9/mpqo0ADwP38YPoQtAPA/XnwcGwkA8D9Ox1KsAQDwP85OYkgAAPA/gdtDCwAA8D8Iyp0BAADwP8/KNgAAAPA/brMGAAAA8D/ewQAAAADwP0IUAAAAAPA/9QEAAAAA8D8sAAAAAADwPwAAAAAAAPA/",
            "dtype": "f8"
           },
           "yaxis": "y"
          }
         ],
         "name": "49"
        },
        {
         "data": [
          {
           "hovertemplate": "variable=50<br>x=%{x}<br>value=%{y}<extra></extra>",
           "legendgroup": "",
           "line": {
            "color": "#636efa",
            "dash": "solid"
           },
           "marker": {
            "symbol": "circle"
           },
           "mode": "lines",
           "name": "",
           "orientation": "v",
           "showlegend": false,
           "type": "scatter",
           "x": {
            "bdata": "AAAAAAAAAAB7FK5H4XqkP3sUrkfherQ/uB6F61G4vj97FK5H4XrEP5qZmZmZmck/uB6F61G4zj/sUbgehevRP3sUrkfhetQ/CtejcD0K1z+amZmZmZnZPylcj8L1KNw/uB6F61G43j+kcD0K16PgP+xRuB6F6+E/MzMzMzMz4z97FK5H4XrkP8P1KFyPwuU/CtejcD0K5z9SuB6F61HoP5qZmZmZmek/4XoUrkfh6j8pXI/C9SjsP3E9CtejcO0/uB6F61G47j8AAAAAAADwP6RwPQrXo/A/SOF6FK5H8T/sUbgehevxP4/C9Shcj/I/MzMzMzMz8z/Xo3A9CtfzP3sUrkfhevQ/H4XrUbge9T/D9Shcj8L1P2dmZmZmZvY/CtejcD0K9z+uR+F6FK73P1K4HoXrUfg/9ihcj8L1+D+amZmZmZn5Pz4K16NwPfo/4XoUrkfh+j+F61G4HoX7Pylcj8L1KPw/zczMzMzM/D9xPQrXo3D9PxWuR+F6FP4/uB6F61G4/j9cj8L1KFz/PwAAAAAAAABA",
            "dtype": "f8"
           },
           "xaxis": "x",
           "y": {
            "bdata": "AAAAAAAA8D8AAAAAAADwPwAAAAAAAPA/AAAAAAAA8D8AAAAAAADwPwAAAAAAAPA/AAAAAAAA8D8AAAAAAADwPwAAAAAAAPA/AAAAAAAA8D8AAAAAAADwPwAAAAAAAPA/AAAAAAAA8D/2t0gE7xjwP0+2ovuVgfA/HD81Mrph8T+hE6zkU7byP34u1929X/Q/IGljkBo39j+QU7ijqBj4P3UFV+8g5vk/4zM+btaG+z/5Vc8KW+j8P6k3s6APAP4/XmhvbZfM/j++rO1emVT/P5EbD+aanP8/rHU0uCKJ/z+iwopIlqv+PzXTIX3sRfw/rPdRFPtL+D9W543+TFf0P9/Irlgc1PE/0LWeXfqo8D9mPhVXYjbwP8TXwnXgD/A/0L+QRDsE8D/GncRGCAHwPzjQwRw7APA/cwPhIwwA8D/6puNKAgDwP7SuC2YAAPA/drpbEAAA8D/SoGsCAADwP2m1VAAAAPA/YbUKAAAA8D+qQAEAAADwP7oiAAAAAPA/ewMAAAAA8D9SAAAAAADwPwAAAAAAAPA/",
            "dtype": "f8"
           },
           "yaxis": "y"
          }
         ],
         "name": "50"
        },
        {
         "data": [
          {
           "hovertemplate": "variable=51<br>x=%{x}<br>value=%{y}<extra></extra>",
           "legendgroup": "",
           "line": {
            "color": "#636efa",
            "dash": "solid"
           },
           "marker": {
            "symbol": "circle"
           },
           "mode": "lines",
           "name": "",
           "orientation": "v",
           "showlegend": false,
           "type": "scatter",
           "x": {
            "bdata": "AAAAAAAAAAB7FK5H4XqkP3sUrkfherQ/uB6F61G4vj97FK5H4XrEP5qZmZmZmck/uB6F61G4zj/sUbgehevRP3sUrkfhetQ/CtejcD0K1z+amZmZmZnZPylcj8L1KNw/uB6F61G43j+kcD0K16PgP+xRuB6F6+E/MzMzMzMz4z97FK5H4XrkP8P1KFyPwuU/CtejcD0K5z9SuB6F61HoP5qZmZmZmek/4XoUrkfh6j8pXI/C9SjsP3E9CtejcO0/uB6F61G47j8AAAAAAADwP6RwPQrXo/A/SOF6FK5H8T/sUbgehevxP4/C9Shcj/I/MzMzMzMz8z/Xo3A9CtfzP3sUrkfhevQ/H4XrUbge9T/D9Shcj8L1P2dmZmZmZvY/CtejcD0K9z+uR+F6FK73P1K4HoXrUfg/9ihcj8L1+D+amZmZmZn5Pz4K16NwPfo/4XoUrkfh+j+F61G4HoX7Pylcj8L1KPw/zczMzMzM/D9xPQrXo3D9PxWuR+F6FP4/uB6F61G4/j9cj8L1KFz/PwAAAAAAAABA",
            "dtype": "f8"
           },
           "xaxis": "x",
           "y": {
            "bdata": "AAAAAAAA8D8AAAAAAADwPwAAAAAAAPA/AAAAAAAA8D8AAAAAAADwPwAAAAAAAPA/AAAAAAAA8D8AAAAAAADwPwAAAAAAAPA/AAAAAAAA8D8AAAAAAADwPwAAAAAAAPA/AAAAAAAA8D90Cljc1xbwP2agF8WWePA/2AG3kW9N8T8lVsIKIpXyP6vjGFyZMvQ/e4B+qZAA9j94WpQIOdz3P1sjO37hp/k/QOYAQxhL+z/EOsY2IbP8Px1lg1Jb1P0/BBjZQ8ir/j9g18bLZz7/P/YTk+u/kP8/asbhXFWM/z/DJXo4+s7+P4PgVhJKoPw/tzfkFszM+D+VtndAlsL0P5qIYOHVD/I/btUBIe/C8D+Vxr53D0DwPzB1XiIZE/A/l94I9TMF8D9z6/yKTAHwP6eL1jVMAPA/g7f2DRAA8D8e4vgcAwDwP2YEc44AAPA/grl/FwAA8D9L+JQDAADwPwdJgQAAAPA/DOAQAAAA8D9kCgIAAADwP446AAAAAPA/FgYAAAAA8D+VAAAAAADwPwAAAAAAAPA/",
            "dtype": "f8"
           },
           "yaxis": "y"
          }
         ],
         "name": "51"
        },
        {
         "data": [
          {
           "hovertemplate": "variable=52<br>x=%{x}<br>value=%{y}<extra></extra>",
           "legendgroup": "",
           "line": {
            "color": "#636efa",
            "dash": "solid"
           },
           "marker": {
            "symbol": "circle"
           },
           "mode": "lines",
           "name": "",
           "orientation": "v",
           "showlegend": false,
           "type": "scatter",
           "x": {
            "bdata": "AAAAAAAAAAB7FK5H4XqkP3sUrkfherQ/uB6F61G4vj97FK5H4XrEP5qZmZmZmck/uB6F61G4zj/sUbgehevRP3sUrkfhetQ/CtejcD0K1z+amZmZmZnZPylcj8L1KNw/uB6F61G43j+kcD0K16PgP+xRuB6F6+E/MzMzMzMz4z97FK5H4XrkP8P1KFyPwuU/CtejcD0K5z9SuB6F61HoP5qZmZmZmek/4XoUrkfh6j8pXI/C9SjsP3E9CtejcO0/uB6F61G47j8AAAAAAADwP6RwPQrXo/A/SOF6FK5H8T/sUbgehevxP4/C9Shcj/I/MzMzMzMz8z/Xo3A9CtfzP3sUrkfhevQ/H4XrUbge9T/D9Shcj8L1P2dmZmZmZvY/CtejcD0K9z+uR+F6FK73P1K4HoXrUfg/9ihcj8L1+D+amZmZmZn5Pz4K16NwPfo/4XoUrkfh+j+F61G4HoX7Pylcj8L1KPw/zczMzMzM/D9xPQrXo3D9PxWuR+F6FP4/uB6F61G4/j9cj8L1KFz/PwAAAAAAAABA",
            "dtype": "f8"
           },
           "xaxis": "x",
           "y": {
            "bdata": "AAAAAAAA8D8AAAAAAADwPwAAAAAAAPA/AAAAAAAA8D8AAAAAAADwPwAAAAAAAPA/AAAAAAAA8D8AAAAAAADwPwAAAAAAAPA/AAAAAAAA8D8AAAAAAADwPwAAAAAAAPA/AAAAAAAA8D+bhTvS7RTwPxa19CI0cPA/D0tNMkE68T9etM7GanXyP8zyS6IaB/Q/auaOTKDL9T/hNfieHKH3P8t4i6R1avk/QRX3mIAP+z+s7+0BUH38P0lbmPxrp/0/wNJpgF6J/j9Esgy3iyb/P8TjXkc2g/8/+WzqIA+N/z+AcLqWXO3+P64O5SyW8/w/1FlYnVBL+T9N/YhWaTL1P/JgyuLQUPI/WeZ5A//f8D8PjPIaI0vwP7JjFM3cFvA/fsrfw1wG8D+OOpbanwHwP+InqpJhAPA/OWZOERUA8D/0Pg4xBADwPxsu/sQAAPA/JFVpIQAA8D+73T0FAADwP/fswgAAAPA/IT4aAAAA8D/dRgMAAADwPzVhAAAAAPA/dQoAAAAA8D8KAQAAAADwPwAAAAAAAPA/",
            "dtype": "f8"
           },
           "yaxis": "y"
          }
         ],
         "name": "52"
        },
        {
         "data": [
          {
           "hovertemplate": "variable=53<br>x=%{x}<br>value=%{y}<extra></extra>",
           "legendgroup": "",
           "line": {
            "color": "#636efa",
            "dash": "solid"
           },
           "marker": {
            "symbol": "circle"
           },
           "mode": "lines",
           "name": "",
           "orientation": "v",
           "showlegend": false,
           "type": "scatter",
           "x": {
            "bdata": "AAAAAAAAAAB7FK5H4XqkP3sUrkfherQ/uB6F61G4vj97FK5H4XrEP5qZmZmZmck/uB6F61G4zj/sUbgehevRP3sUrkfhetQ/CtejcD0K1z+amZmZmZnZPylcj8L1KNw/uB6F61G43j+kcD0K16PgP+xRuB6F6+E/MzMzMzMz4z97FK5H4XrkP8P1KFyPwuU/CtejcD0K5z9SuB6F61HoP5qZmZmZmek/4XoUrkfh6j8pXI/C9SjsP3E9CtejcO0/uB6F61G47j8AAAAAAADwP6RwPQrXo/A/SOF6FK5H8T/sUbgehevxP4/C9Shcj/I/MzMzMzMz8z/Xo3A9CtfzP3sUrkfhevQ/H4XrUbge9T/D9Shcj8L1P2dmZmZmZvY/CtejcD0K9z+uR+F6FK73P1K4HoXrUfg/9ihcj8L1+D+amZmZmZn5Pz4K16NwPfo/4XoUrkfh+j+F61G4HoX7Pylcj8L1KPw/zczMzMzM/D9xPQrXo3D9PxWuR+F6FP4/uB6F61G4/j9cj8L1KFz/PwAAAAAAAABA",
            "dtype": "f8"
           },
           "xaxis": "x",
           "y": {
            "bdata": "AAAAAAAA8D8AAAAAAADwPwAAAAAAAPA/AAAAAAAA8D8AAAAAAADwPwAAAAAAAPA/AAAAAAAA8D8AAAAAAADwPwAAAAAAAPA/AAAAAAAA8D8AAAAAAADwPwAAAAAAAPA/AAAAAAAA8D9+LwQOLRPwPyAxbZpjaPA/a8q4ESAo8T/NyEYkHlfyP2Y1oh403fM/YxF5wUGY9T92+dwaVWf3Px5bHCHrLfk/ZHG7DynU+j/2gCdXCEf8PykjZiVhef0/itqP825l/j+Rq+eGCw3/P5G71L4AdP8/hSzE4XCL/z+fbrfpFQf/P426YBzaP/0/NK1R8KjG+T8eAKQINqb1P6o29qQtl/I/EWS1c2kA8T+s+MYExVfwPwWNvTc+G/A/6k+dUL0H8D+oE0r4BALwPzw+Shl8APA/EsZzcRsA8D/g9ROZBQDwP1uI/w0BAPA/ABILLwAA8D9a0pYHAADwPweBIgEAAPA/s0woAAAA8D/NMAUAAADwPwOfAAAAAPA/sBEAAAAA8D/TAQAAAADwPwAAAAAAAPA/",
            "dtype": "f8"
           },
           "yaxis": "y"
          }
         ],
         "name": "53"
        },
        {
         "data": [
          {
           "hovertemplate": "variable=54<br>x=%{x}<br>value=%{y}<extra></extra>",
           "legendgroup": "",
           "line": {
            "color": "#636efa",
            "dash": "solid"
           },
           "marker": {
            "symbol": "circle"
           },
           "mode": "lines",
           "name": "",
           "orientation": "v",
           "showlegend": false,
           "type": "scatter",
           "x": {
            "bdata": "AAAAAAAAAAB7FK5H4XqkP3sUrkfherQ/uB6F61G4vj97FK5H4XrEP5qZmZmZmck/uB6F61G4zj/sUbgehevRP3sUrkfhetQ/CtejcD0K1z+amZmZmZnZPylcj8L1KNw/uB6F61G43j+kcD0K16PgP+xRuB6F6+E/MzMzMzMz4z97FK5H4XrkP8P1KFyPwuU/CtejcD0K5z9SuB6F61HoP5qZmZmZmek/4XoUrkfh6j8pXI/C9SjsP3E9CtejcO0/uB6F61G47j8AAAAAAADwP6RwPQrXo/A/SOF6FK5H8T/sUbgehevxP4/C9Shcj/I/MzMzMzMz8z/Xo3A9CtfzP3sUrkfhevQ/H4XrUbge9T/D9Shcj8L1P2dmZmZmZvY/CtejcD0K9z+uR+F6FK73P1K4HoXrUfg/9ihcj8L1+D+amZmZmZn5Pz4K16NwPfo/4XoUrkfh+j+F61G4HoX7Pylcj8L1KPw/zczMzMzM/D9xPQrXo3D9PxWuR+F6FP4/uB6F61G4/j9cj8L1KFz/PwAAAAAAAABA",
            "dtype": "f8"
           },
           "xaxis": "x",
           "y": {
            "bdata": "AAAAAAAA8D8AAAAAAADwPwAAAAAAAPA/AAAAAAAA8D8AAAAAAADwPwAAAAAAAPA/AAAAAAAA8D8AAAAAAADwPwAAAAAAAPA/AAAAAAAA8D8AAAAAAADwPwAAAAAAAPA/AAAAAAAA8D8iKDkNkhHwPyoO+WQbYfA//XeJ+v0W8T9fHtjXLDryP0p3q4bYtPM/W0DM62xm9T+UB9nl4i73P1D0GYtN8vg/XplmwyiZ+j/xWLo8aRD8Pz/UnBBaSv0/KTJYFhBA/j/pGx4x8PH+PwUBlfIiY/8/3j9/FpeH/z8OQzB8eRz/P2kN094zhf0/E2bStQg++j+KKaMmVR32P45LDvv+4vI/c4/PXG4k8T+rWT/QH2bwPzpFEApSIPA/uIAjLV4J8D+0Kw0PfwLwPx8piNecAPA/zSB+fyMA8D/xlBxrBwDwPzTt624BAPA/aXGfQQAA8D9UguAKAADwP3kyrAEAAPA/ZSY9AAAA8D/LHQgAAADwP38AAQAAAPA/dx0AAAAA8D8lAwAAAADwPwAAAAAAAPA/",
            "dtype": "f8"
           },
           "yaxis": "y"
          }
         ],
         "name": "54"
        },
        {
         "data": [
          {
           "hovertemplate": "variable=55<br>x=%{x}<br>value=%{y}<extra></extra>",
           "legendgroup": "",
           "line": {
            "color": "#636efa",
            "dash": "solid"
           },
           "marker": {
            "symbol": "circle"
           },
           "mode": "lines",
           "name": "",
           "orientation": "v",
           "showlegend": false,
           "type": "scatter",
           "x": {
            "bdata": "AAAAAAAAAAB7FK5H4XqkP3sUrkfherQ/uB6F61G4vj97FK5H4XrEP5qZmZmZmck/uB6F61G4zj/sUbgehevRP3sUrkfhetQ/CtejcD0K1z+amZmZmZnZPylcj8L1KNw/uB6F61G43j+kcD0K16PgP+xRuB6F6+E/MzMzMzMz4z97FK5H4XrkP8P1KFyPwuU/CtejcD0K5z9SuB6F61HoP5qZmZmZmek/4XoUrkfh6j8pXI/C9SjsP3E9CtejcO0/uB6F61G47j8AAAAAAADwP6RwPQrXo/A/SOF6FK5H8T/sUbgehevxP4/C9Shcj/I/MzMzMzMz8z/Xo3A9CtfzP3sUrkfhevQ/H4XrUbge9T/D9Shcj8L1P2dmZmZmZvY/CtejcD0K9z+uR+F6FK73P1K4HoXrUfg/9ihcj8L1+D+amZmZmZn5Pz4K16NwPfo/4XoUrkfh+j+F61G4HoX7Pylcj8L1KPw/zczMzMzM/D9xPQrXo3D9PxWuR+F6FP4/uB6F61G4/j9cj8L1KFz/PwAAAAAAAABA",
            "dtype": "f8"
           },
           "xaxis": "x",
           "y": {
            "bdata": "AAAAAAAA8D8AAAAAAADwPwAAAAAAAPA/AAAAAAAA8D8AAAAAAADwPwAAAAAAAPA/AAAAAAAA8D8AAAAAAADwPwAAAAAAAPA/AAAAAAAA8D8AAAAAAADwPwAAAAAAAPA/AAAAAAAA8D84SSibGRDwPwCXl2NSWvA/u/cQeM0G8T9kee44iB7yP1noX936jfM/2vvuYxk29T+lnTNMxff2P2O8C4emt/g/mwH6bZRe+j9SE6bCj9n7P9jnMHN1Gv0/1D6FqVkZ/j8URx0JRdX+P/m1PKOhUP8/TTuvl5qB/z8EIDLR1C3/Pw/010TSw/0/QuC2BLuw+j/cAXkpC5f2P2y3TANINPM/P4H1O01M8T8CeI7qYHbwPw3ECPAuJvA/bGCS80gL8D9+d8O9EQPwPxkpXQjFAPA/yRBAnC0A8D+syyXCCQDwP0mxmu4BAPA/zCa7WgAA8D+Za3APAADwP3aOcAIAAPA/vLxbAAAA8D8tiQwAAADwP0WYAQAAAPA/YjAAAAAA8D9XBQAAAADwPwAAAAAAAPA/",
            "dtype": "f8"
           },
           "yaxis": "y"
          }
         ],
         "name": "55"
        },
        {
         "data": [
          {
           "hovertemplate": "variable=56<br>x=%{x}<br>value=%{y}<extra></extra>",
           "legendgroup": "",
           "line": {
            "color": "#636efa",
            "dash": "solid"
           },
           "marker": {
            "symbol": "circle"
           },
           "mode": "lines",
           "name": "",
           "orientation": "v",
           "showlegend": false,
           "type": "scatter",
           "x": {
            "bdata": "AAAAAAAAAAB7FK5H4XqkP3sUrkfherQ/uB6F61G4vj97FK5H4XrEP5qZmZmZmck/uB6F61G4zj/sUbgehevRP3sUrkfhetQ/CtejcD0K1z+amZmZmZnZPylcj8L1KNw/uB6F61G43j+kcD0K16PgP+xRuB6F6+E/MzMzMzMz4z97FK5H4XrkP8P1KFyPwuU/CtejcD0K5z9SuB6F61HoP5qZmZmZmek/4XoUrkfh6j8pXI/C9SjsP3E9CtejcO0/uB6F61G47j8AAAAAAADwP6RwPQrXo/A/SOF6FK5H8T/sUbgehevxP4/C9Shcj/I/MzMzMzMz8z/Xo3A9CtfzP3sUrkfhevQ/H4XrUbge9T/D9Shcj8L1P2dmZmZmZvY/CtejcD0K9z+uR+F6FK73P1K4HoXrUfg/9ihcj8L1+D+amZmZmZn5Pz4K16NwPfo/4XoUrkfh+j+F61G4HoX7Pylcj8L1KPw/zczMzMzM/D9xPQrXo3D9PxWuR+F6FP4/uB6F61G4/j9cj8L1KFz/PwAAAAAAAABA",
            "dtype": "f8"
           },
           "xaxis": "x",
           "y": {
            "bdata": "AAAAAAAA8D8AAAAAAADwPwAAAAAAAPA/AAAAAAAA8D8AAAAAAADwPwAAAAAAAPA/AAAAAAAA8D8AAAAAAADwPwAAAAAAAPA/AAAAAAAA8D8AAAAAAADwPwAAAAAAAPA/AAAAAAAA8D8tUvLJwA7wP4jxFhMAVPA/WPkoy4H38D8aWDQ7IgTyP8aleXeOaPM/+26LjD4H9T/mGAal+sH2P/Dhjvj9ffg/zwtHi34k+j+IHez6lqL7P7g0yjPR6fw/pCieWWTx/T8W932FF7f+P3GNP+GCPP8/nCHaVpF5/z8RKslpbzv/PzO1wDPx+/0/jxwMVCUe+z9XqpbAixL3P8+DWwL6ivM/iW3WB0R48T846jmBuIjwPwC5vbftLPA/GRNXXYgN8D/yjt4jwQPwP7wo1xn2APA/Ycu7OjoA8D/oI/++DADwP6UHkZUCAPA/wB1jfAAA8D/jpbYVAADwP+TghQMAAPA/jCOIAAAA8D/OIhMAAADwP66BAgAAAPA/YE4AAAAA8D/tCAAAAADwPwAAAAAAAPA/",
            "dtype": "f8"
           },
           "yaxis": "y"
          }
         ],
         "name": "56"
        },
        {
         "data": [
          {
           "hovertemplate": "variable=57<br>x=%{x}<br>value=%{y}<extra></extra>",
           "legendgroup": "",
           "line": {
            "color": "#636efa",
            "dash": "solid"
           },
           "marker": {
            "symbol": "circle"
           },
           "mode": "lines",
           "name": "",
           "orientation": "v",
           "showlegend": false,
           "type": "scatter",
           "x": {
            "bdata": "AAAAAAAAAAB7FK5H4XqkP3sUrkfherQ/uB6F61G4vj97FK5H4XrEP5qZmZmZmck/uB6F61G4zj/sUbgehevRP3sUrkfhetQ/CtejcD0K1z+amZmZmZnZPylcj8L1KNw/uB6F61G43j+kcD0K16PgP+xRuB6F6+E/MzMzMzMz4z97FK5H4XrkP8P1KFyPwuU/CtejcD0K5z9SuB6F61HoP5qZmZmZmek/4XoUrkfh6j8pXI/C9SjsP3E9CtejcO0/uB6F61G47j8AAAAAAADwP6RwPQrXo/A/SOF6FK5H8T/sUbgehevxP4/C9Shcj/I/MzMzMzMz8z/Xo3A9CtfzP3sUrkfhevQ/H4XrUbge9T/D9Shcj8L1P2dmZmZmZvY/CtejcD0K9z+uR+F6FK73P1K4HoXrUfg/9ihcj8L1+D+amZmZmZn5Pz4K16NwPfo/4XoUrkfh+j+F61G4HoX7Pylcj8L1KPw/zczMzMzM/D9xPQrXo3D9PxWuR+F6FP4/uB6F61G4/j9cj8L1KFz/PwAAAAAAAABA",
            "dtype": "f8"
           },
           "xaxis": "x",
           "y": {
            "bdata": "AAAAAAAA8D8AAAAAAADwPwAAAAAAAPA/AAAAAAAA8D8AAAAAAADwPwAAAAAAAPA/AAAAAAAA8D8AAAAAAADwPwAAAAAAAPA/AAAAAAAA8D8AAAAAAADwPwAAAAAAAPA/AAAAAAAA8D+aGD/shA3wP1ysR4EcTvA/yIG+3w7p8D9FsyFo7erxPxGjaf6GRPM/+qO5pNPZ9D/ip9h1gI32P6A1oDBaRfg/krwrfvfq+T+AQST6l2v7Pyp/9jaKuPw/D6pxaUnI/T8b7aT/dpf+P+e97ynOJv8/nC8zA49v/z9JmYrKikX/P+3TmyvWLf4/1kwGNsmF+z8EhHAu/o73P7Kg1Xfy5vM/wObM542o8T9dlCJgWZ3wP5dn/G2pNPA/PSNeWygQ8D/u6/DukQTwP1b2lrMxAfA/B7jh4kkA8D+C4VGJEADwP65XWm4DAPA/mvImqQAA8D9BBUUeAADwP0/xCQUAAPA/U/PHAAAA8D/e4hwAAADwP3HkAwAAAPA/UX0AAAAA8D+3DgAAAADwPwAAAAAAAPA/",
            "dtype": "f8"
           },
           "yaxis": "y"
          }
         ],
         "name": "57"
        },
        {
         "data": [
          {
           "hovertemplate": "variable=58<br>x=%{x}<br>value=%{y}<extra></extra>",
           "legendgroup": "",
           "line": {
            "color": "#636efa",
            "dash": "solid"
           },
           "marker": {
            "symbol": "circle"
           },
           "mode": "lines",
           "name": "",
           "orientation": "v",
           "showlegend": false,
           "type": "scatter",
           "x": {
            "bdata": "AAAAAAAAAAB7FK5H4XqkP3sUrkfherQ/uB6F61G4vj97FK5H4XrEP5qZmZmZmck/uB6F61G4zj/sUbgehevRP3sUrkfhetQ/CtejcD0K1z+amZmZmZnZPylcj8L1KNw/uB6F61G43j+kcD0K16PgP+xRuB6F6+E/MzMzMzMz4z97FK5H4XrkP8P1KFyPwuU/CtejcD0K5z9SuB6F61HoP5qZmZmZmek/4XoUrkfh6j8pXI/C9SjsP3E9CtejcO0/uB6F61G47j8AAAAAAADwP6RwPQrXo/A/SOF6FK5H8T/sUbgehevxP4/C9Shcj/I/MzMzMzMz8z/Xo3A9CtfzP3sUrkfhevQ/H4XrUbge9T/D9Shcj8L1P2dmZmZmZvY/CtejcD0K9z+uR+F6FK73P1K4HoXrUfg/9ihcj8L1+D+amZmZmZn5Pz4K16NwPfo/4XoUrkfh+j+F61G4HoX7Pylcj8L1KPw/zczMzMzM/D9xPQrXo3D9PxWuR+F6FP4/uB6F61G4/j9cj8L1KFz/PwAAAAAAAABA",
            "dtype": "f8"
           },
           "xaxis": "x",
           "y": {
            "bdata": "AAAAAAAA8D8AAAAAAADwPwAAAAAAAPA/AAAAAAAA8D8AAAAAAADwPwAAAAAAAPA/AAAAAAAA8D8AAAAAAADwPwAAAAAAAPA/AAAAAAAA8D8AAAAAAADwPwAAAAAAAPA/AAAAAAAA8D9efYiPYwzwPzQmBkOgSPA//boTQ2nb8D+CJqjY3NLxP/soKHLYIfM/rbZW18+t9D9Q6CSSU1r2Py+vahjADfg/lvg4tg2y+T84PdLeqTT7P7t2RTa8hvw//N8VZCKe/T9/6+pvdHb+PxQh8XOMD/8/XoNwmqVj/z+jiemwYkz/P1U7xyrNWf4/zQfh5ETn+z/ixkhGggv4P05asYz5R/Q/RVloumHd8T/Hgxy8eLTwP/pW3Xh/PfA/viNZLzYT8D+0TUBpiQXwP8om6b15AfA/K12fNF0A8D8zec1QFQDwP3Q074UEAPA/zJJA5AAA8D8e2dcpAADwP/kyJAcAAPA/fcgiAQAA8D89JCsAAADwP6X5BQAAAPA/6cUAAAAA8D/vFwAAAADwPwAAAAAAAPA/",
            "dtype": "f8"
           },
           "yaxis": "y"
          }
         ],
         "name": "58"
        },
        {
         "data": [
          {
           "hovertemplate": "variable=59<br>x=%{x}<br>value=%{y}<extra></extra>",
           "legendgroup": "",
           "line": {
            "color": "#636efa",
            "dash": "solid"
           },
           "marker": {
            "symbol": "circle"
           },
           "mode": "lines",
           "name": "",
           "orientation": "v",
           "showlegend": false,
           "type": "scatter",
           "x": {
            "bdata": "AAAAAAAAAAB7FK5H4XqkP3sUrkfherQ/uB6F61G4vj97FK5H4XrEP5qZmZmZmck/uB6F61G4zj/sUbgehevRP3sUrkfhetQ/CtejcD0K1z+amZmZmZnZPylcj8L1KNw/uB6F61G43j+kcD0K16PgP+xRuB6F6+E/MzMzMzMz4z97FK5H4XrkP8P1KFyPwuU/CtejcD0K5z9SuB6F61HoP5qZmZmZmek/4XoUrkfh6j8pXI/C9SjsP3E9CtejcO0/uB6F61G47j8AAAAAAADwP6RwPQrXo/A/SOF6FK5H8T/sUbgehevxP4/C9Shcj/I/MzMzMzMz8z/Xo3A9CtfzP3sUrkfhevQ/H4XrUbge9T/D9Shcj8L1P2dmZmZmZvY/CtejcD0K9z+uR+F6FK73P1K4HoXrUfg/9ihcj8L1+D+amZmZmZn5Pz4K16NwPfo/4XoUrkfh+j+F61G4HoX7Pylcj8L1KPw/zczMzMzM/D9xPQrXo3D9PxWuR+F6FP4/uB6F61G4/j9cj8L1KFz/PwAAAAAAAABA",
            "dtype": "f8"
           },
           "xaxis": "x",
           "y": {
            "bdata": "AAAAAAAA8D8AAAAAAADwPwAAAAAAAPA/AAAAAAAA8D8AAAAAAADwPwAAAAAAAPA/AAAAAAAA8D8AAAAAAADwPwAAAAAAAPA/AAAAAAAA8D8AAAAAAADwPwAAAAAAAPA/AAAAAAAA8D9s4ex2WgvwP/4WBmuEQ/A/LquqGobO8D+EvAcv5LvxP+3jFip3APM/WorqRyqD9D+t7iM3cCj2Pyf5pFgz1/c/ev0I1c15+T/DOxre4f36PynGUKGBVPw/wPQI1whz/T/XXHUoIlT+PwaFbC3I9v4/8dVi5eVV/z82sGRqLVD/P3PMmf0lgP4/6Ph5u1JC/D/MlXfPNYf4P7HKl/3ArfQ/PHhPbfAW8j/Va3DmTc7wP98SUa+PR/A/rXj+hcAW8D/w+WCJrQbwP9Iyg2nQAfA/H/lE63QA8D9eR3xOGwDwPx/KLOwFAPA/Qc+5MQEA8D9qk2A5AADwP9OACAoAAPA/suaiAQAA8D9Cxz8AAADwP4cSCQAAAPA/4zQBAAAA8D9vJgAAAADwPwAAAAAAAPA/",
            "dtype": "f8"
           },
           "yaxis": "y"
          }
         ],
         "name": "59"
        },
        {
         "data": [
          {
           "hovertemplate": "variable=60<br>x=%{x}<br>value=%{y}<extra></extra>",
           "legendgroup": "",
           "line": {
            "color": "#636efa",
            "dash": "solid"
           },
           "marker": {
            "symbol": "circle"
           },
           "mode": "lines",
           "name": "",
           "orientation": "v",
           "showlegend": false,
           "type": "scatter",
           "x": {
            "bdata": "AAAAAAAAAAB7FK5H4XqkP3sUrkfherQ/uB6F61G4vj97FK5H4XrEP5qZmZmZmck/uB6F61G4zj/sUbgehevRP3sUrkfhetQ/CtejcD0K1z+amZmZmZnZPylcj8L1KNw/uB6F61G43j+kcD0K16PgP+xRuB6F6+E/MzMzMzMz4z97FK5H4XrkP8P1KFyPwuU/CtejcD0K5z9SuB6F61HoP5qZmZmZmek/4XoUrkfh6j8pXI/C9SjsP3E9CtejcO0/uB6F61G47j8AAAAAAADwP6RwPQrXo/A/SOF6FK5H8T/sUbgehevxP4/C9Shcj/I/MzMzMzMz8z/Xo3A9CtfzP3sUrkfhevQ/H4XrUbge9T/D9Shcj8L1P2dmZmZmZvY/CtejcD0K9z+uR+F6FK73P1K4HoXrUfg/9ihcj8L1+D+amZmZmZn5Pz4K16NwPfo/4XoUrkfh+j+F61G4HoX7Pylcj8L1KPw/zczMzMzM/D9xPQrXo3D9PxWuR+F6FP4/uB6F61G4/j9cj8L1KFz/PwAAAAAAAABA",
            "dtype": "f8"
           },
           "xaxis": "x",
           "y": {
            "bdata": "AAAAAAAA8D8AAAAAAADwPwAAAAAAAPA/AAAAAAAA8D8AAAAAAADwPwAAAAAAAPA/AAAAAAAA8D8AAAAAAADwPwAAAAAAAPA/AAAAAAAA8D8AAAAAAADwPwAAAAAAAPA/AAAAAAAA8D9hjnuWZwrwP8CoToHCPvA/NgXMG1vC8D+Qd9SQ96XxP+jOIdVX4PI/eHNxHdpZ9D8jEkck0vf1P0X0l322ofc/Fiq40kJC+T91jJtUU8f6P9k0oIfzIfw/Y2y+FBZH/T+H4pyQkzD+P2UfXC6N3P4/WDWj4F9G/z81C85BHFH/PwXmYP8xof4/OzVVwseW/D9piPwIOgH5Pw7z66HjF/U/BNhkK2NV8j8NqGTlEevwPzNxa2z8UvA/LPsdktca8D+0muICBQjwP6287jc4AvA/rG5I4ZEA8D8xakTGIgDwP2y9XrQHAPA/BsGYlgEA8D8GrhJOAADwP2KC+g0AAPA/3whWAgAA8D82X10AAADwP5ehDQAAAPA/sdwBAAAA8D/5PAAAAADwPwAAAAAAAPA/",
            "dtype": "f8"
           },
           "yaxis": "y"
          }
         ],
         "name": "60"
        },
        {
         "data": [
          {
           "hovertemplate": "variable=61<br>x=%{x}<br>value=%{y}<extra></extra>",
           "legendgroup": "",
           "line": {
            "color": "#636efa",
            "dash": "solid"
           },
           "marker": {
            "symbol": "circle"
           },
           "mode": "lines",
           "name": "",
           "orientation": "v",
           "showlegend": false,
           "type": "scatter",
           "x": {
            "bdata": "AAAAAAAAAAB7FK5H4XqkP3sUrkfherQ/uB6F61G4vj97FK5H4XrEP5qZmZmZmck/uB6F61G4zj/sUbgehevRP3sUrkfhetQ/CtejcD0K1z+amZmZmZnZPylcj8L1KNw/uB6F61G43j+kcD0K16PgP+xRuB6F6+E/MzMzMzMz4z97FK5H4XrkP8P1KFyPwuU/CtejcD0K5z9SuB6F61HoP5qZmZmZmek/4XoUrkfh6j8pXI/C9SjsP3E9CtejcO0/uB6F61G47j8AAAAAAADwP6RwPQrXo/A/SOF6FK5H8T/sUbgehevxP4/C9Shcj/I/MzMzMzMz8z/Xo3A9CtfzP3sUrkfhevQ/H4XrUbge9T/D9Shcj8L1P2dmZmZmZvY/CtejcD0K9z+uR+F6FK73P1K4HoXrUfg/9ihcj8L1+D+amZmZmZn5Pz4K16NwPfo/4XoUrkfh+j+F61G4HoX7Pylcj8L1KPw/zczMzMzM/D9xPQrXo3D9PxWuR+F6FP4/uB6F61G4/j9cj8L1KFz/PwAAAAAAAABA",
            "dtype": "f8"
           },
           "xaxis": "x",
           "y": {
            "bdata": "AAAAAAAA8D8AAAAAAADwPwAAAAAAAPA/AAAAAAAA8D8AAAAAAADwPwAAAAAAAPA/AAAAAAAA8D8AAAAAAADwPwAAAAAAAPA/AAAAAAAA8D8AAAAAAADwPwAAAAAAAPA/AAAAAAAA8D+6B+8OiQnwP5RyV3tUOvA/Uxieg9628D8SLTKhC5HxP7jwRHlvwfI/kHxUi9Yx9D9sFbSwdMj1P6L98hdLbfc/YKQWIXYL+T+ON2LaD5H6Pw19VIop7/s//mCb/2Ia/T+3OG/i3Av+P0OnPKHowP4/k1YxEiM1/z8kURD5W0//PzZsq0pCvf4/RiUYg5Hk/D8beIkEuXj5P5C7DKzlhfU//uWfadmY8j9bbc7t/grxP4BF85zqX/A/E/5VKI0f8D8F9BVYlwnwP8pCrQS0AvA/f4NsFLUA8D9q35gILADwP+eh3fUJAPA/WPgTGQIA8D8hMHNpAADwP1/bURMAAPA/VWhOAwAA8D9ZbYcAAADwP7pGFAAAAPA/xNcCAAAA8D+eXwAAAADwPwAAAAAAAPA/",
            "dtype": "f8"
           },
           "yaxis": "y"
          }
         ],
         "name": "61"
        },
        {
         "data": [
          {
           "hovertemplate": "variable=62<br>x=%{x}<br>value=%{y}<extra></extra>",
           "legendgroup": "",
           "line": {
            "color": "#636efa",
            "dash": "solid"
           },
           "marker": {
            "symbol": "circle"
           },
           "mode": "lines",
           "name": "",
           "orientation": "v",
           "showlegend": false,
           "type": "scatter",
           "x": {
            "bdata": "AAAAAAAAAAB7FK5H4XqkP3sUrkfherQ/uB6F61G4vj97FK5H4XrEP5qZmZmZmck/uB6F61G4zj/sUbgehevRP3sUrkfhetQ/CtejcD0K1z+amZmZmZnZPylcj8L1KNw/uB6F61G43j+kcD0K16PgP+xRuB6F6+E/MzMzMzMz4z97FK5H4XrkP8P1KFyPwuU/CtejcD0K5z9SuB6F61HoP5qZmZmZmek/4XoUrkfh6j8pXI/C9SjsP3E9CtejcO0/uB6F61G47j8AAAAAAADwP6RwPQrXo/A/SOF6FK5H8T/sUbgehevxP4/C9Shcj/I/MzMzMzMz8z/Xo3A9CtfzP3sUrkfhevQ/H4XrUbge9T/D9Shcj8L1P2dmZmZmZvY/CtejcD0K9z+uR+F6FK73P1K4HoXrUfg/9ihcj8L1+D+amZmZmZn5Pz4K16NwPfo/4XoUrkfh+j+F61G4HoX7Pylcj8L1KPw/zczMzMzM/D9xPQrXo3D9PxWuR+F6FP4/uB6F61G4/j9cj8L1KFz/PwAAAAAAAABA",
            "dtype": "f8"
           },
           "xaxis": "x",
           "y": {
            "bdata": "AAAAAAAA8D8AAAAAAADwPwAAAAAAAPA/AAAAAAAA8D8AAAAAAADwPwAAAAAAAPA/AAAAAAAA8D8AAAAAAADwPwAAAAAAAPA/AAAAAAAA8D8AAAAAAADwPwAAAAAAAPA/AAAAAAAA8D8GisopvQjwPylSuLQ0NvA/QLnADwes8D+GTUp7FX3xP7arlnKzo/I/gV7R2BYL9D/cQhbeUpr1PyfumdrxOfc/xKZHzW/V+D/mkAdZJ1v6P/FYiNQ5vPs/+Rsp3Qft/D+dA4rrEub9P0wwUuToo/4/dVFCzT4i/z8pVtBHFUv/P+yApFGm1P4/S4ldWLMr/T9fcfyS6uz5P3809Lc19/U/xJ0U32bh8j+F5bu5Ty7xPxLRdMWBbvA/Bmoh2/Qk8D/RcvDsbAvwP3fOHg9HA/A/nMlTqt8A8D/vRV90NwDwPzVWxMwMAPA/IofPwAIA8D+9QWuNAADwPyNNfxoAAPA/QQekBAAA8D/urMIAAADwP0ffHQAAAPA/rksEAAAA8D9MlAAAAADwPwAAAAAAAPA/",
            "dtype": "f8"
           },
           "yaxis": "y"
          }
         ],
         "name": "62"
        },
        {
         "data": [
          {
           "hovertemplate": "variable=63<br>x=%{x}<br>value=%{y}<extra></extra>",
           "legendgroup": "",
           "line": {
            "color": "#636efa",
            "dash": "solid"
           },
           "marker": {
            "symbol": "circle"
           },
           "mode": "lines",
           "name": "",
           "orientation": "v",
           "showlegend": false,
           "type": "scatter",
           "x": {
            "bdata": "AAAAAAAAAAB7FK5H4XqkP3sUrkfherQ/uB6F61G4vj97FK5H4XrEP5qZmZmZmck/uB6F61G4zj/sUbgehevRP3sUrkfhetQ/CtejcD0K1z+amZmZmZnZPylcj8L1KNw/uB6F61G43j+kcD0K16PgP+xRuB6F6+E/MzMzMzMz4z97FK5H4XrkP8P1KFyPwuU/CtejcD0K5z9SuB6F61HoP5qZmZmZmek/4XoUrkfh6j8pXI/C9SjsP3E9CtejcO0/uB6F61G47j8AAAAAAADwP6RwPQrXo/A/SOF6FK5H8T/sUbgehevxP4/C9Shcj/I/MzMzMzMz8z/Xo3A9CtfzP3sUrkfhevQ/H4XrUbge9T/D9Shcj8L1P2dmZmZmZvY/CtejcD0K9z+uR+F6FK73P1K4HoXrUfg/9ihcj8L1+D+amZmZmZn5Pz4K16NwPfo/4XoUrkfh+j+F61G4HoX7Pylcj8L1KPw/zczMzMzM/D9xPQrXo3D9PxWuR+F6FP4/uB6F61G4/j9cj8L1KFz/PwAAAAAAAABA",
            "dtype": "f8"
           },
           "xaxis": "x",
           "y": {
            "bdata": "AAAAAAAA8D8AAAAAAADwPwAAAAAAAPA/AAAAAAAA8D8AAAAAAADwPwAAAAAAAPA/AAAAAAAA8D8AAAAAAADwPwAAAAAAAPA/AAAAAAAA8D8AAAAAAADwPwAAAAAAAPA/AAAAAAAA8D+qJNFVAgjwP+2XX+hdMvA/yM1j98uh8D+Xn/2sCmrxPysh8XEZh/I/FNUKZ5Ll8z8FEg9pZ231P9wXnbWqB/c/ofKbnzag+D++rj4jqCX6Pz6oYxk5ifs/smcYMRy//D9PmT/SSr/9P75oh2Wdhf4//37HZcIN/z+Qdw1ZbUT/P8LL4tOq5/4/X9m0bkNs/T8LECOFGF36P+0H3LIua/Y/Lkb7eBEv8z/ix5W4PlXxP6Onx/7rfvA/PKjgFiQr8D/teQ8bjw3wPxBjNgX1A/A/A+2G9RIB8D9R5g55RQDwPyfCvloQAPA/mhIklwMA8D8kSV68AADwP+r2EiQAAPA/FE12BgAA8D91dBUBAADwPxWbKwAAAPA/UG0GAAAA8D+U4wAAAADwPwAAAAAAAPA/",
            "dtype": "f8"
           },
           "yaxis": "y"
          }
         ],
         "name": "63"
        },
        {
         "data": [
          {
           "hovertemplate": "variable=64<br>x=%{x}<br>value=%{y}<extra></extra>",
           "legendgroup": "",
           "line": {
            "color": "#636efa",
            "dash": "solid"
           },
           "marker": {
            "symbol": "circle"
           },
           "mode": "lines",
           "name": "",
           "orientation": "v",
           "showlegend": false,
           "type": "scatter",
           "x": {
            "bdata": "AAAAAAAAAAB7FK5H4XqkP3sUrkfherQ/uB6F61G4vj97FK5H4XrEP5qZmZmZmck/uB6F61G4zj/sUbgehevRP3sUrkfhetQ/CtejcD0K1z+amZmZmZnZPylcj8L1KNw/uB6F61G43j+kcD0K16PgP+xRuB6F6+E/MzMzMzMz4z97FK5H4XrkP8P1KFyPwuU/CtejcD0K5z9SuB6F61HoP5qZmZmZmek/4XoUrkfh6j8pXI/C9SjsP3E9CtejcO0/uB6F61G47j8AAAAAAADwP6RwPQrXo/A/SOF6FK5H8T/sUbgehevxP4/C9Shcj/I/MzMzMzMz8z/Xo3A9CtfzP3sUrkfhevQ/H4XrUbge9T/D9Shcj8L1P2dmZmZmZvY/CtejcD0K9z+uR+F6FK73P1K4HoXrUfg/9ihcj8L1+D+amZmZmZn5Pz4K16NwPfo/4XoUrkfh+j+F61G4HoX7Pylcj8L1KPw/zczMzMzM/D9xPQrXo3D9PxWuR+F6FP4/uB6F61G4/j9cj8L1KFz/PwAAAAAAAABA",
            "dtype": "f8"
           },
           "xaxis": "x",
           "y": {
            "bdata": "AAAAAAAA8D8AAAAAAADwPwAAAAAAAPA/AAAAAAAA8D8AAAAAAADwPwAAAAAAAPA/AAAAAAAA8D8AAAAAAADwPwAAAAAAAPA/AAAAAAAA8D8AAAAAAADwPwAAAAAAAPA/AAAAAAAA8D8+3s0jVwfwPypFQyrLLvA/tuvO5CSY8D/xudIx4VfxP826UHuXa/I/lI3ytUDB8z9KH4rXrEH1P7+hje501vY/ZcmIOdBr+D+PISsNn/D5P0Ua7pY6Vvs/gHCPn7aQ/D8wMrDfmZf9Py9wvHoWZv4/OJNjVb33/j/Mmm1Dhjv/P4acQSWZ9v4/vYu7pmem/T/ds5ERosj6P/OAj5ka4fY/iBPkX8+B8z8Q27QVBYDxP6cWp+ZVkfA/AU9jPTIy8D/WFtlGCBDwP04IBw/CBPA/ZIL2elAB8D/V6w2ZVgDwP8yg9McUAPA/qzNxpwQA8D+7HET5AADwP4vowzAAAPA/5wXuCAAA8D8tMYgBAADwP90XPwAAAPA/doYJAAAA8D+5WQEAAADwPwAAAAAAAPA/",
            "dtype": "f8"
           },
           "yaxis": "y"
          }
         ],
         "name": "64"
        },
        {
         "data": [
          {
           "hovertemplate": "variable=65<br>x=%{x}<br>value=%{y}<extra></extra>",
           "legendgroup": "",
           "line": {
            "color": "#636efa",
            "dash": "solid"
           },
           "marker": {
            "symbol": "circle"
           },
           "mode": "lines",
           "name": "",
           "orientation": "v",
           "showlegend": false,
           "type": "scatter",
           "x": {
            "bdata": "AAAAAAAAAAB7FK5H4XqkP3sUrkfherQ/uB6F61G4vj97FK5H4XrEP5qZmZmZmck/uB6F61G4zj/sUbgehevRP3sUrkfhetQ/CtejcD0K1z+amZmZmZnZPylcj8L1KNw/uB6F61G43j+kcD0K16PgP+xRuB6F6+E/MzMzMzMz4z97FK5H4XrkP8P1KFyPwuU/CtejcD0K5z9SuB6F61HoP5qZmZmZmek/4XoUrkfh6j8pXI/C9SjsP3E9CtejcO0/uB6F61G47j8AAAAAAADwP6RwPQrXo/A/SOF6FK5H8T/sUbgehevxP4/C9Shcj/I/MzMzMzMz8z/Xo3A9CtfzP3sUrkfhevQ/H4XrUbge9T/D9Shcj8L1P2dmZmZmZvY/CtejcD0K9z+uR+F6FK73P1K4HoXrUfg/9ihcj8L1+D+amZmZmZn5Pz4K16NwPfo/4XoUrkfh+j+F61G4HoX7Pylcj8L1KPw/zczMzMzM/D9xPQrXo3D9PxWuR+F6FP4/uB6F61G4/j9cj8L1KFz/PwAAAAAAAABA",
            "dtype": "f8"
           },
           "xaxis": "x",
           "y": {
            "bdata": "AAAAAAAA8D8AAAAAAADwPwAAAAAAAPA/AAAAAAAA8D8AAAAAAADwPwAAAAAAAPA/AAAAAAAA8D8AAAAAAADwPwAAAAAAAPA/AAAAAAAA8D8AAAAAAADwPwAAAAAAAPA/AAAAAAAA8D89OKVDugbwP8M/g+F3K/A/4DpR7wmP8D+MEiFuj0bxP1Qv+uMjUfI/W2s3aBme8z9QwDGFHRf1PwcZYTZPpvY/BZKsMUE4+D/gK/6EF7z5PwaMwxxQI/s/v4Mm1uxh/D82yEJPFW/9PxA3IzhlRf4/bHucUz/g/j/izC55fzD/P5R4wbi2Af8/6a/LgFLa/T+J76FB/i77P0snivw1WPc/cLY6J4XZ8z+Rg2iT2a7xPydlqYHupfA/lGhXwDg68D+RLLL14xLwP9wyNNuyBfA/ltoA+JkB8D8ZAlJsawDwP2AxE0QaAPA/gYt8/wUA8D9s48dHAQDwP21CeUEAAPA/zNg/DAAA8D/nAiYCAADwP6SEWgAAAPA/P/0NAAAA8D8eCAIAAADwPwAAAAAAAPA/",
            "dtype": "f8"
           },
           "yaxis": "y"
          }
         ],
         "name": "65"
        },
        {
         "data": [
          {
           "hovertemplate": "variable=66<br>x=%{x}<br>value=%{y}<extra></extra>",
           "legendgroup": "",
           "line": {
            "color": "#636efa",
            "dash": "solid"
           },
           "marker": {
            "symbol": "circle"
           },
           "mode": "lines",
           "name": "",
           "orientation": "v",
           "showlegend": false,
           "type": "scatter",
           "x": {
            "bdata": "AAAAAAAAAAB7FK5H4XqkP3sUrkfherQ/uB6F61G4vj97FK5H4XrEP5qZmZmZmck/uB6F61G4zj/sUbgehevRP3sUrkfhetQ/CtejcD0K1z+amZmZmZnZPylcj8L1KNw/uB6F61G43j+kcD0K16PgP+xRuB6F6+E/MzMzMzMz4z97FK5H4XrkP8P1KFyPwuU/CtejcD0K5z9SuB6F61HoP5qZmZmZmek/4XoUrkfh6j8pXI/C9SjsP3E9CtejcO0/uB6F61G47j8AAAAAAADwP6RwPQrXo/A/SOF6FK5H8T/sUbgehevxP4/C9Shcj/I/MzMzMzMz8z/Xo3A9CtfzP3sUrkfhevQ/H4XrUbge9T/D9Shcj8L1P2dmZmZmZvY/CtejcD0K9z+uR+F6FK73P1K4HoXrUfg/9ihcj8L1+D+amZmZmZn5Pz4K16NwPfo/4XoUrkfh+j+F61G4HoX7Pylcj8L1KPw/zczMzMzM/D9xPQrXo3D9PxWuR+F6FP4/uB6F61G4/j9cj8L1KFz/PwAAAAAAAABA",
            "dtype": "f8"
           },
           "xaxis": "x",
           "y": {
            "bdata": "AAAAAAAA8D8AAAAAAADwPwAAAAAAAPA/AAAAAAAA8D8AAAAAAADwPwAAAAAAAPA/AAAAAAAA8D8AAAAAAADwPwAAAAAAAPA/AAAAAAAA8D8AAAAAAADwPwAAAAAAAPA/AAAAAAAA8D+8MKmBKgbwP5Nh88JfKPA/oH6RlXOG8D93vncqDDbxP1Uvd1C1N/I/tixdRhR88z/IZjuus+30P4BOFr03d/Y/yJjeLY0F+D+G+nCrG4j5P4K64hWK8Po/KL/retMy/D8CSrIj0kX9P/gXDUabI/4/F3seY1jH/j+ls8wtdiP/P1wbuuJECf8/Cvj3MUAI/j9W+kNavY/7P5pIRyq0z/c//0lWQwQ29D/t2uA57+HxP5jdkgvnvPA/PDjcOVND8D+t2jrlLhbwP3D4T6zMBvA/F8YEafEB8D8B2kmjhADwP/7ceAchAPA/wBDfrwcA8D/RTmysAQDwP4YlVVcAAPA/R0yvEAAA8D9lf/0CAADwPyrPgAAAAPA/3V0UAAAA8D82BwMAAADwPwAAAAAAAPA/",
            "dtype": "f8"
           },
           "yaxis": "y"
          }
         ],
         "name": "66"
        },
        {
         "data": [
          {
           "hovertemplate": "variable=67<br>x=%{x}<br>value=%{y}<extra></extra>",
           "legendgroup": "",
           "line": {
            "color": "#636efa",
            "dash": "solid"
           },
           "marker": {
            "symbol": "circle"
           },
           "mode": "lines",
           "name": "",
           "orientation": "v",
           "showlegend": false,
           "type": "scatter",
           "x": {
            "bdata": "AAAAAAAAAAB7FK5H4XqkP3sUrkfherQ/uB6F61G4vj97FK5H4XrEP5qZmZmZmck/uB6F61G4zj/sUbgehevRP3sUrkfhetQ/CtejcD0K1z+amZmZmZnZPylcj8L1KNw/uB6F61G43j+kcD0K16PgP+xRuB6F6+E/MzMzMzMz4z97FK5H4XrkP8P1KFyPwuU/CtejcD0K5z9SuB6F61HoP5qZmZmZmek/4XoUrkfh6j8pXI/C9SjsP3E9CtejcO0/uB6F61G47j8AAAAAAADwP6RwPQrXo/A/SOF6FK5H8T/sUbgehevxP4/C9Shcj/I/MzMzMzMz8z/Xo3A9CtfzP3sUrkfhevQ/H4XrUbge9T/D9Shcj8L1P2dmZmZmZvY/CtejcD0K9z+uR+F6FK73P1K4HoXrUfg/9ihcj8L1+D+amZmZmZn5Pz4K16NwPfo/4XoUrkfh+j+F61G4HoX7Pylcj8L1KPw/zczMzMzM/D9xPQrXo3D9PxWuR+F6FP4/uB6F61G4/j9cj8L1KFz/PwAAAAAAAABA",
            "dtype": "f8"
           },
           "xaxis": "x",
           "y": {
            "bdata": "AAAAAAAA8D8AAAAAAADwPwAAAAAAAPA/AAAAAAAA8D8AAAAAAADwPwAAAAAAAPA/AAAAAAAA8D8AAAAAAADwPwAAAAAAAPA/AAAAAAAA8D8AAAAAAADwPwAAAAAAAPA/AAAAAAAA8D+ykynEpgXwP+ctBcx+JfA/B9U2uFp+8D/cbz6PTibxP6s+drJCH/I/dIEdQSlb8z8aWL14acX0P6P5S0MsSfY/9LZQ+7bT9z8VGslrtFT5P8jS5ZT3vfo/aCHBIH4D/D+k/LUB5Rv9PwyvUrfKAP4/a8Pb1Rit/j+qV0ewhRT/P3xZjsaADf8/tMkM+XMw/j8CGyxHier7PxejytLDRvg/DUL/4wmX9D8m4WbbcxnyP2WLu7Jy1vA/EilJgp9N8D8TmXgj9xnwP9bSMGcVCPA/15mKEFkC8D/YaxUKowDwP7wUhlQpAPA/2DqCzAkA8D9l7LUsAgDwP+e+wXMAAPA/vXOSFgAA8D/NpSEEAADwP9rdtQAAAPA/TmcdAAAA8D8ZeQQAAADwPwAAAAAAAPA/",
            "dtype": "f8"
           },
           "yaxis": "y"
          }
         ],
         "name": "67"
        },
        {
         "data": [
          {
           "hovertemplate": "variable=68<br>x=%{x}<br>value=%{y}<extra></extra>",
           "legendgroup": "",
           "line": {
            "color": "#636efa",
            "dash": "solid"
           },
           "marker": {
            "symbol": "circle"
           },
           "mode": "lines",
           "name": "",
           "orientation": "v",
           "showlegend": false,
           "type": "scatter",
           "x": {
            "bdata": "AAAAAAAAAAB7FK5H4XqkP3sUrkfherQ/uB6F61G4vj97FK5H4XrEP5qZmZmZmck/uB6F61G4zj/sUbgehevRP3sUrkfhetQ/CtejcD0K1z+amZmZmZnZPylcj8L1KNw/uB6F61G43j+kcD0K16PgP+xRuB6F6+E/MzMzMzMz4z97FK5H4XrkP8P1KFyPwuU/CtejcD0K5z9SuB6F61HoP5qZmZmZmek/4XoUrkfh6j8pXI/C9SjsP3E9CtejcO0/uB6F61G47j8AAAAAAADwP6RwPQrXo/A/SOF6FK5H8T/sUbgehevxP4/C9Shcj/I/MzMzMzMz8z/Xo3A9CtfzP3sUrkfhevQ/H4XrUbge9T/D9Shcj8L1P2dmZmZmZvY/CtejcD0K9z+uR+F6FK73P1K4HoXrUfg/9ihcj8L1+D+amZmZmZn5Pz4K16NwPfo/4XoUrkfh+j+F61G4HoX7Pylcj8L1KPw/zczMzMzM/D9xPQrXo3D9PxWuR+F6FP4/uB6F61G4/j9cj8L1KFz/PwAAAAAAAABA",
            "dtype": "f8"
           },
           "xaxis": "x",
           "y": {
            "bdata": "AAAAAAAA8D8AAAAAAADwPwAAAAAAAPA/AAAAAAAA8D8AAAAAAADwPwAAAAAAAPA/AAAAAAAA8D8AAAAAAADwPwAAAAAAAPA/AAAAAAAA8D8AAAAAAADwPwAAAAAAAPA/AAAAAAAA8D/oCzsJLgXwP9rBCT7RIvA//1jjlLh28D+7144gThfxPywBmEbDB/I/gk4uc1A78z+dCLr8OJ70P2Zm9ykqHPY/banQpMCi9z/r0yeT6SH5PxPnCmKmi/o/3sxpQP/T+z8k1SYQYvH8P0D5ReEF3f0/Wnq+SZGR/j9Y3Ki5xwP/P3g+VWWjDv8/pHnhwTVT/j92/0geJT/8P9fB/OyTvPg/yEkMUT789D9TZc9xjlXyP5LbCTvG8vA/uNsFwj1Z8D9YzcknTB7wP+udR6KTCfA//SYNf9MC8D8qJBOMxwDwP1jkFnkzAPA/odMubQwA8D9fXlzPAgDwP7vDgJgAAPA/tmRWHgAA8D9MDKsFAADwPy7Z/gAAAPA/2hsqAAAA8D/zjAYAAADwPwAAAAAAAPA/",
            "dtype": "f8"
           },
           "yaxis": "y"
          }
         ],
         "name": "68"
        },
        {
         "data": [
          {
           "hovertemplate": "variable=69<br>x=%{x}<br>value=%{y}<extra></extra>",
           "legendgroup": "",
           "line": {
            "color": "#636efa",
            "dash": "solid"
           },
           "marker": {
            "symbol": "circle"
           },
           "mode": "lines",
           "name": "",
           "orientation": "v",
           "showlegend": false,
           "type": "scatter",
           "x": {
            "bdata": "AAAAAAAAAAB7FK5H4XqkP3sUrkfherQ/uB6F61G4vj97FK5H4XrEP5qZmZmZmck/uB6F61G4zj/sUbgehevRP3sUrkfhetQ/CtejcD0K1z+amZmZmZnZPylcj8L1KNw/uB6F61G43j+kcD0K16PgP+xRuB6F6+E/MzMzMzMz4z97FK5H4XrkP8P1KFyPwuU/CtejcD0K5z9SuB6F61HoP5qZmZmZmek/4XoUrkfh6j8pXI/C9SjsP3E9CtejcO0/uB6F61G47j8AAAAAAADwP6RwPQrXo/A/SOF6FK5H8T/sUbgehevxP4/C9Shcj/I/MzMzMzMz8z/Xo3A9CtfzP3sUrkfhevQ/H4XrUbge9T/D9Shcj8L1P2dmZmZmZvY/CtejcD0K9z+uR+F6FK73P1K4HoXrUfg/9ihcj8L1+D+amZmZmZn5Pz4K16NwPfo/4XoUrkfh+j+F61G4HoX7Pylcj8L1KPw/zczMzMzM/D9xPQrXo3D9PxWuR+F6FP4/uB6F61G4/j9cj8L1KFz/PwAAAAAAAABA",
            "dtype": "f8"
           },
           "xaxis": "x",
           "y": {
            "bdata": "AAAAAAAA8D8AAAAAAADwPwAAAAAAAPA/AAAAAAAA8D8AAAAAAADwPwAAAAAAAPA/AAAAAAAA8D8AAAAAAADwPwAAAAAAAPA/AAAAAAAA8D8AAAAAAADwPwAAAAAAAPA/AAAAAAAA8D+/8K9kvwTwP7pHxZlTIPA/b2h6wYZv8D/VRkS6AgnxP5ReMpIu8fE/WxOFIoIc8z+1owhLHHj0PyjdZoAu8PU/N+I7h6ty9z8EgvXmwe/4P07AhwqjWfo/XzqhNWik+z8BvGbdXMb8P1In6TVfuP0/08qEn9J0/j/3Z+6vVPH+P5pWW8ThDP8/i8D1HdBw/j8PYSHda438P/wpSKBYMPk/gQgD5DRl9T9rox1cXZbyP+vq6oQXEvE/QSEWflBm8D+sFnDsPiPwP0fY/LVOC/A/HK1sm2MD8D8nhcg38wDwP23xKNA/APA/+Fsvrg8A8D+BYYOcAwDwPwu9vccAAPA/X5eEKAAA8D+rU7kHAADwPxuIYgEAAPA/TNY7AAAA8D+GgwkAAADwPwAAAAAAAPA/",
            "dtype": "f8"
           },
           "yaxis": "y"
          }
         ],
         "name": "69"
        },
        {
         "data": [
          {
           "hovertemplate": "variable=70<br>x=%{x}<br>value=%{y}<extra></extra>",
           "legendgroup": "",
           "line": {
            "color": "#636efa",
            "dash": "solid"
           },
           "marker": {
            "symbol": "circle"
           },
           "mode": "lines",
           "name": "",
           "orientation": "v",
           "showlegend": false,
           "type": "scatter",
           "x": {
            "bdata": "AAAAAAAAAAB7FK5H4XqkP3sUrkfherQ/uB6F61G4vj97FK5H4XrEP5qZmZmZmck/uB6F61G4zj/sUbgehevRP3sUrkfhetQ/CtejcD0K1z+amZmZmZnZPylcj8L1KNw/uB6F61G43j+kcD0K16PgP+xRuB6F6+E/MzMzMzMz4z97FK5H4XrkP8P1KFyPwuU/CtejcD0K5z9SuB6F61HoP5qZmZmZmek/4XoUrkfh6j8pXI/C9SjsP3E9CtejcO0/uB6F61G47j8AAAAAAADwP6RwPQrXo/A/SOF6FK5H8T/sUbgehevxP4/C9Shcj/I/MzMzMzMz8z/Xo3A9CtfzP3sUrkfhevQ/H4XrUbge9T/D9Shcj8L1P2dmZmZmZvY/CtejcD0K9z+uR+F6FK73P1K4HoXrUfg/9ihcj8L1+D+amZmZmZn5Pz4K16NwPfo/4XoUrkfh+j+F61G4HoX7Pylcj8L1KPw/zczMzMzM/D9xPQrXo3D9PxWuR+F6FP4/uB6F61G4/j9cj8L1KFz/PwAAAAAAAABA",
            "dtype": "f8"
           },
           "xaxis": "x",
           "y": {
            "bdata": "AAAAAAAA8D8AAAAAAADwPwAAAAAAAPA/AAAAAAAA8D8AAAAAAADwPwAAAAAAAPA/AAAAAAAA8D8AAAAAAADwPwAAAAAAAPA/AAAAAAAA8D8AAAAAAADwPwAAAAAAAPA/AAAAAAAA8D99Sz7+WQTwP97UTZsCHvA/s9isJ79o8D8TNz+MZPvwP6RLEGF82/E/bR0swbb+8j+t9D1zDVP0P7CmuBA2xfU/7RE8ZHhD9z9Uk0c6Q774P0t6uPD4J/o/lU6gP8l0+z9GVLlJ6Jr8PyOF8yDpkv0/09057e1W/j8updvdQ93+P4lN2CNtCP8/m9Rsk46J/j+COhuJTtX8PwWj0PNPofk/ou5BtGzR9T/XlsaG9NvyP95ov/ScNPE/B4+8nfx08D+avWwI4ijwPy3YGc5ODfA/7xIWrAwE8D+qJi1DJwHwPz7escNOAPA/vxYIsRMA8D8om/ydBADwP7GNIwQBAPA/pFrJNQAA8D+m7nQKAADwP7zD6QEAAPA/HWVUAAAA8D8XtQ0AAADwPwAAAAAAAPA/",
            "dtype": "f8"
           },
           "yaxis": "y"
          }
         ],
         "name": "70"
        },
        {
         "data": [
          {
           "hovertemplate": "variable=71<br>x=%{x}<br>value=%{y}<extra></extra>",
           "legendgroup": "",
           "line": {
            "color": "#636efa",
            "dash": "solid"
           },
           "marker": {
            "symbol": "circle"
           },
           "mode": "lines",
           "name": "",
           "orientation": "v",
           "showlegend": false,
           "type": "scatter",
           "x": {
            "bdata": "AAAAAAAAAAB7FK5H4XqkP3sUrkfherQ/uB6F61G4vj97FK5H4XrEP5qZmZmZmck/uB6F61G4zj/sUbgehevRP3sUrkfhetQ/CtejcD0K1z+amZmZmZnZPylcj8L1KNw/uB6F61G43j+kcD0K16PgP+xRuB6F6+E/MzMzMzMz4z97FK5H4XrkP8P1KFyPwuU/CtejcD0K5z9SuB6F61HoP5qZmZmZmek/4XoUrkfh6j8pXI/C9SjsP3E9CtejcO0/uB6F61G47j8AAAAAAADwP6RwPQrXo/A/SOF6FK5H8T/sUbgehevxP4/C9Shcj/I/MzMzMzMz8z/Xo3A9CtfzP3sUrkfhevQ/H4XrUbge9T/D9Shcj8L1P2dmZmZmZvY/CtejcD0K9z+uR+F6FK73P1K4HoXrUfg/9ihcj8L1+D+amZmZmZn5Pz4K16NwPfo/4XoUrkfh+j+F61G4HoX7Pylcj8L1KPw/zczMzMzM/D9xPQrXo3D9PxWuR+F6FP4/uB6F61G4/j9cj8L1KFz/PwAAAAAAAABA",
            "dtype": "f8"
           },
           "xaxis": "x",
           "y": {
            "bdata": "AAAAAAAA8D8AAAAAAADwPwAAAAAAAPA/AAAAAAAA8D8AAAAAAADwPwAAAAAAAPA/AAAAAAAA8D8AAAAAAADwPwAAAAAAAPA/AAAAAAAA8D8AAAAAAADwPwAAAAAAAPA/AAAAAAAA8D/q/s4P/QPwP9UmMDbbG/A/XOLFAFxi8D/vR9oWbO7wP4CxM8OkxvE/7Vq77ebh8j+8+LSIBi/0P1So7Go9m/U/ONZkcycV9z+XOiuCco34PxaXylyy9vk/1at/hDFF+z94Iy92Fm/8P/YmAui1bP0/+e2VbfQ3/j/qgYWgq8f+P0fFnz9zAf8/ULECP7yd/j/uHcTe0Rb9P0893AjGDvo/8xYYA1JA9j/mzM+MWybzP4a5d7eMWvE/vj1RZ2mF8D/6IFXJSS/wP0dyP/ycD/A/jdzoYNIE8D/yYl8QZQHwPxBKqs5gAPA/WvZGnRgA8D9CQpPfBQDwPwep9VABAPA/yon7RgAA8D/+TBEOAADwP1AHoAIAAPA/AC12AAAA8D8YmRMAAADwPwAAAAAAAPA/",
            "dtype": "f8"
           },
           "yaxis": "y"
          }
         ],
         "name": "71"
        },
        {
         "data": [
          {
           "hovertemplate": "variable=72<br>x=%{x}<br>value=%{y}<extra></extra>",
           "legendgroup": "",
           "line": {
            "color": "#636efa",
            "dash": "solid"
           },
           "marker": {
            "symbol": "circle"
           },
           "mode": "lines",
           "name": "",
           "orientation": "v",
           "showlegend": false,
           "type": "scatter",
           "x": {
            "bdata": "AAAAAAAAAAB7FK5H4XqkP3sUrkfherQ/uB6F61G4vj97FK5H4XrEP5qZmZmZmck/uB6F61G4zj/sUbgehevRP3sUrkfhetQ/CtejcD0K1z+amZmZmZnZPylcj8L1KNw/uB6F61G43j+kcD0K16PgP+xRuB6F6+E/MzMzMzMz4z97FK5H4XrkP8P1KFyPwuU/CtejcD0K5z9SuB6F61HoP5qZmZmZmek/4XoUrkfh6j8pXI/C9SjsP3E9CtejcO0/uB6F61G47j8AAAAAAADwP6RwPQrXo/A/SOF6FK5H8T/sUbgehevxP4/C9Shcj/I/MzMzMzMz8z/Xo3A9CtfzP3sUrkfhevQ/H4XrUbge9T/D9Shcj8L1P2dmZmZmZvY/CtejcD0K9z+uR+F6FK73P1K4HoXrUfg/9ihcj8L1+D+amZmZmZn5Pz4K16NwPfo/4XoUrkfh+j+F61G4HoX7Pylcj8L1KPw/zczMzMzM/D9xPQrXo3D9PxWuR+F6FP4/uB6F61G4/j9cj8L1KFz/PwAAAAAAAABA",
            "dtype": "f8"
           },
           "xaxis": "x",
           "y": {
            "bdata": "AAAAAAAA8D8AAAAAAADwPwAAAAAAAPA/AAAAAAAA8D8AAAAAAADwPwAAAAAAAPA/AAAAAAAA8D8AAAAAAADwPwAAAAAAAPA/AAAAAAAA8D8AAAAAAADwPwAAAAAAAPA/AAAAAAAA8D80YPLjpwPwP+8y1ZHaGfA/5wG00Vdc8D+wKI4nEuLwP0vOnQqgsvE/XySEcwvG8j9O29KmAQz0PxKts+5AcvU/3y3Mcbjn9j+z5sfoU134P2iclo3Yxfk/MlHzFq8V+z9h5Lq3+EL8P5kjLI7XRf0/6x1lbfcX/j+GTI2LobD+P7hS4ZQe+P4/7KaDwqKt/j/BR3W7C1L9P5KWIK8YePo/772pakCx9j+bIeDji3XzP0gNo+EbhPE/A/khcsCX8D9xJKtMjDbwP25KZ0tDEvA/dVzm3bgF8D9OZMoyrgHwP8vvUX92APA/+dNtoR4A8D+yzmJvBwDwP8t9LbIBAPA/cbclXQAA8D++fM8SAADwP3QilAMAAPA/h1SkAAAA8D8W0BsAAADwPwAAAAAAAPA/",
            "dtype": "f8"
           },
           "yaxis": "y"
          }
         ],
         "name": "72"
        },
        {
         "data": [
          {
           "hovertemplate": "variable=73<br>x=%{x}<br>value=%{y}<extra></extra>",
           "legendgroup": "",
           "line": {
            "color": "#636efa",
            "dash": "solid"
           },
           "marker": {
            "symbol": "circle"
           },
           "mode": "lines",
           "name": "",
           "orientation": "v",
           "showlegend": false,
           "type": "scatter",
           "x": {
            "bdata": "AAAAAAAAAAB7FK5H4XqkP3sUrkfherQ/uB6F61G4vj97FK5H4XrEP5qZmZmZmck/uB6F61G4zj/sUbgehevRP3sUrkfhetQ/CtejcD0K1z+amZmZmZnZPylcj8L1KNw/uB6F61G43j+kcD0K16PgP+xRuB6F6+E/MzMzMzMz4z97FK5H4XrkP8P1KFyPwuU/CtejcD0K5z9SuB6F61HoP5qZmZmZmek/4XoUrkfh6j8pXI/C9SjsP3E9CtejcO0/uB6F61G47j8AAAAAAADwP6RwPQrXo/A/SOF6FK5H8T/sUbgehevxP4/C9Shcj/I/MzMzMzMz8z/Xo3A9CtfzP3sUrkfhevQ/H4XrUbge9T/D9Shcj8L1P2dmZmZmZvY/CtejcD0K9z+uR+F6FK73P1K4HoXrUfg/9ihcj8L1+D+amZmZmZn5Pz4K16NwPfo/4XoUrkfh+j+F61G4HoX7Pylcj8L1KPw/zczMzMzM/D9xPQrXo3D9PxWuR+F6FP4/uB6F61G4/j9cj8L1KFz/PwAAAAAAAABA",
            "dtype": "f8"
           },
           "xaxis": "x",
           "y": {
            "bdata": "AAAAAAAA8D8AAAAAAADwPwAAAAAAAPA/AAAAAAAA8D8AAAAAAADwPwAAAAAAAPA/AAAAAAAA8D8AAAAAAADwPwAAAAAAAPA/AAAAAAAA8D8AAAAAAADwPwAAAAAAAPA/AAAAAAAA8D+w6XbUWQPwP3zrIwb+F/A/R3ZJZ61W8D/D58HVT9bwP3B6Iclmn/E/iS19Sh2r8j/l8p70+OnzP1KYHNQ8SvU/LMM3sCq79j8Q+FPf6i34P17YaMlzlfk/lefo/U7m+j+FcASOnxb8P+cUErtfHv0/ZBXqNwj3/T+cwx2FOpj+PyeCMqmW7P4/hBptd4m5/j8WfO5oIIf9P3byiy663Po/TFlCxoUj9z+BRvMob8nzPxarE2d9sfE/1Vvoii2s8D8uFieYwT7wP8V0Z9RMFfA/o3G0xsQG8D88r8V0BALwP4CusXmQAPA/gYX58yUA8D8V9TleCQDwP9mmnCwCAPA/ngiReQAA8D//VgEZAADwP6UU2QQAAPA/BfviAAAA8D91MCcAAADwPwAAAAAAAPA/",
            "dtype": "f8"
           },
           "yaxis": "y"
          }
         ],
         "name": "73"
        },
        {
         "data": [
          {
           "hovertemplate": "variable=74<br>x=%{x}<br>value=%{y}<extra></extra>",
           "legendgroup": "",
           "line": {
            "color": "#636efa",
            "dash": "solid"
           },
           "marker": {
            "symbol": "circle"
           },
           "mode": "lines",
           "name": "",
           "orientation": "v",
           "showlegend": false,
           "type": "scatter",
           "x": {
            "bdata": "AAAAAAAAAAB7FK5H4XqkP3sUrkfherQ/uB6F61G4vj97FK5H4XrEP5qZmZmZmck/uB6F61G4zj/sUbgehevRP3sUrkfhetQ/CtejcD0K1z+amZmZmZnZPylcj8L1KNw/uB6F61G43j+kcD0K16PgP+xRuB6F6+E/MzMzMzMz4z97FK5H4XrkP8P1KFyPwuU/CtejcD0K5z9SuB6F61HoP5qZmZmZmek/4XoUrkfh6j8pXI/C9SjsP3E9CtejcO0/uB6F61G47j8AAAAAAADwP6RwPQrXo/A/SOF6FK5H8T/sUbgehevxP4/C9Shcj/I/MzMzMzMz8z/Xo3A9CtfzP3sUrkfhevQ/H4XrUbge9T/D9Shcj8L1P2dmZmZmZvY/CtejcD0K9z+uR+F6FK73P1K4HoXrUfg/9ihcj8L1+D+amZmZmZn5Pz4K16NwPfo/4XoUrkfh+j+F61G4HoX7Pylcj8L1KPw/zczMzMzM/D9xPQrXo3D9PxWuR+F6FP4/uB6F61G4/j9cj8L1KFz/PwAAAAAAAABA",
            "dtype": "f8"
           },
           "xaxis": "x",
           "y": {
            "bdata": "AAAAAAAA8D8AAAAAAADwPwAAAAAAAPA/AAAAAAAA8D8AAAAAAADwPwAAAAAAAPA/AAAAAAAA8D8AAAAAAADwPwAAAAAAAPA/AAAAAAAA8D8AAAAAAADwPwAAAAAAAPA/AAAAAAAA8D+bAB9JEgPwP5ECWxhDFvA/S2iw0ldR8D8tJMV/HsvwP+z1Qc7xjPE/UvH5lhWR8j+Af8Sn5sjzP+MBPTMtI/U/Ivn4H32P9j+87tsuOv/3P22khm6LZfk/p3qfPR23+j8aGoydGur7P6Q/ZqVf9vw/1BEIAzjV/T9SSMTain7+PxFCG1AA3/4/nr133LTB/j9LGrbsP7b9Px9TTzEzPPs/FMLGvWWW9z8MilKm3SH0PyL7ferg4vE/JfkciN7C8D8mzjywA0jwP5nqaNPFGPA/cLf9SvsH8D8MqrbdaQLwP6SWYHqvAPA/YZeI1C4A8D/VUAvACwDwPzmCFMYCAPA/jAHSnQAA8D+DUA0hAADwPy0ahwYAAPA/KH03AQAA8D+s1jYAAADwPwAAAAAAAPA/",
            "dtype": "f8"
           },
           "yaxis": "y"
          }
         ],
         "name": "74"
        },
        {
         "data": [
          {
           "hovertemplate": "variable=75<br>x=%{x}<br>value=%{y}<extra></extra>",
           "legendgroup": "",
           "line": {
            "color": "#636efa",
            "dash": "solid"
           },
           "marker": {
            "symbol": "circle"
           },
           "mode": "lines",
           "name": "",
           "orientation": "v",
           "showlegend": false,
           "type": "scatter",
           "x": {
            "bdata": "AAAAAAAAAAB7FK5H4XqkP3sUrkfherQ/uB6F61G4vj97FK5H4XrEP5qZmZmZmck/uB6F61G4zj/sUbgehevRP3sUrkfhetQ/CtejcD0K1z+amZmZmZnZPylcj8L1KNw/uB6F61G43j+kcD0K16PgP+xRuB6F6+E/MzMzMzMz4z97FK5H4XrkP8P1KFyPwuU/CtejcD0K5z9SuB6F61HoP5qZmZmZmek/4XoUrkfh6j8pXI/C9SjsP3E9CtejcO0/uB6F61G47j8AAAAAAADwP6RwPQrXo/A/SOF6FK5H8T/sUbgehevxP4/C9Shcj/I/MzMzMzMz8z/Xo3A9CtfzP3sUrkfhevQ/H4XrUbge9T/D9Shcj8L1P2dmZmZmZvY/CtejcD0K9z+uR+F6FK73P1K4HoXrUfg/9ihcj8L1+D+amZmZmZn5Pz4K16NwPfo/4XoUrkfh+j+F61G4HoX7Pylcj8L1KPw/zczMzMzM/D9xPQrXo3D9PxWuR+F6FP4/uB6F61G4/j9cj8L1KFz/PwAAAAAAAABA",
            "dtype": "f8"
           },
           "xaxis": "x",
           "y": {
            "bdata": "AAAAAAAA8D8AAAAAAADwPwAAAAAAAPA/AAAAAAAA8D8AAAAAAADwPwAAAAAAAPA/AAAAAAAA8D8AAAAAAADwPwAAAAAAAPA/AAAAAAAA8D8AAAAAAADwPwAAAAAAAPA/AAAAAAAA8D8aD3O20ALwPwPMHninFPA/vB8PZlJM8D8aq/HHd8DwP9k5ICU6e/E/QE43qe138j8GZBEHxajzPzQg8AoO/fQ/XRWRXq5k9j+Fx+AHRNH3P2OASAMmNvk/+Vvc4SSI+j9xtLOseL37P5fI1QDozfw/LCHZ25ey/T9n0zxQpmP+P2QjMe19z/4/fJKkNGbG/j+XuiZ2o9/9P5GPssgjlvs/gMad0R0J+D8bOkgtnX70P2tSLGZxGPI/kA8yCwPc8D+uoPyrblLwP8JVOL67HPA/3Ui4M2IJ8D9bBL244ALwPxpqkVnUAPA/yqIkjTkA8D9OPG2sDgDwP07fk4UDAPA/C47XywAA8D8ECnMrAADwPwr0vAgAAPA/PsqoAQAA8D/hOUwAAADwPwAAAAAAAPA/",
            "dtype": "f8"
           },
           "yaxis": "y"
          }
         ],
         "name": "75"
        },
        {
         "data": [
          {
           "hovertemplate": "variable=76<br>x=%{x}<br>value=%{y}<extra></extra>",
           "legendgroup": "",
           "line": {
            "color": "#636efa",
            "dash": "solid"
           },
           "marker": {
            "symbol": "circle"
           },
           "mode": "lines",
           "name": "",
           "orientation": "v",
           "showlegend": false,
           "type": "scatter",
           "x": {
            "bdata": "AAAAAAAAAAB7FK5H4XqkP3sUrkfherQ/uB6F61G4vj97FK5H4XrEP5qZmZmZmck/uB6F61G4zj/sUbgehevRP3sUrkfhetQ/CtejcD0K1z+amZmZmZnZPylcj8L1KNw/uB6F61G43j+kcD0K16PgP+xRuB6F6+E/MzMzMzMz4z97FK5H4XrkP8P1KFyPwuU/CtejcD0K5z9SuB6F61HoP5qZmZmZmek/4XoUrkfh6j8pXI/C9SjsP3E9CtejcO0/uB6F61G47j8AAAAAAADwP6RwPQrXo/A/SOF6FK5H8T/sUbgehevxP4/C9Shcj/I/MzMzMzMz8z/Xo3A9CtfzP3sUrkfhevQ/H4XrUbge9T/D9Shcj8L1P2dmZmZmZvY/CtejcD0K9z+uR+F6FK73P1K4HoXrUfg/9ihcj8L1+D+amZmZmZn5Pz4K16NwPfo/4XoUrkfh+j+F61G4HoX7Pylcj8L1KPw/zczMzMzM/D9xPQrXo3D9PxWuR+F6FP4/uB6F61G4/j9cj8L1KFz/PwAAAAAAAABA",
            "dtype": "f8"
           },
           "xaxis": "x",
           "y": {
            "bdata": "AAAAAAAA8D8AAAAAAADwPwAAAAAAAPA/AAAAAAAA8D8AAAAAAADwPwAAAAAAAPA/AAAAAAAA8D8AAAAAAADwPwAAAAAAAPA/AAAAAAAA8D8AAAAAAADwPwAAAAAAAPA/AAAAAAAA8D/MdK2clALwP9iwt/woE/A/0fxYsZhH8D8BHvKRVbbwP8Q/eBI5avE/2aLF/J5f8j9J04JsjonzP8VyxEbb1/Q/E/41wLw69j/YodUQCqT3PxjLqkVJB/k/LUntCHBZ+j+pJEejx5D7P+1GK+8Ipfw/6WsxlDiP/T+9vjopoEf+P+XQerEvvv4/WPLHTtvH/j+mpuf+igP+Pyy09ZVD6vs/vkj1uel6+D9poj5eYN/0P9jBDbFTUvI/JFaTK8z38D90/EHFIF7wPwaBTVs9IfA/qAdb8f8K8D9ROfObawPwP6lUbg4AAfA/N2+xc0YA8D9ndio/EgDwPxaGe3MEAPA/tZf8BQEA8D/Uv9A4AADwP+B1oQsAAPA/us0/AgAA8D/pRWkAAADwPwAAAAAAAPA/",
            "dtype": "f8"
           },
           "yaxis": "y"
          }
         ],
         "name": "76"
        },
        {
         "data": [
          {
           "hovertemplate": "variable=77<br>x=%{x}<br>value=%{y}<extra></extra>",
           "legendgroup": "",
           "line": {
            "color": "#636efa",
            "dash": "solid"
           },
           "marker": {
            "symbol": "circle"
           },
           "mode": "lines",
           "name": "",
           "orientation": "v",
           "showlegend": false,
           "type": "scatter",
           "x": {
            "bdata": "AAAAAAAAAAB7FK5H4XqkP3sUrkfherQ/uB6F61G4vj97FK5H4XrEP5qZmZmZmck/uB6F61G4zj/sUbgehevRP3sUrkfhetQ/CtejcD0K1z+amZmZmZnZPylcj8L1KNw/uB6F61G43j+kcD0K16PgP+xRuB6F6+E/MzMzMzMz4z97FK5H4XrkP8P1KFyPwuU/CtejcD0K5z9SuB6F61HoP5qZmZmZmek/4XoUrkfh6j8pXI/C9SjsP3E9CtejcO0/uB6F61G47j8AAAAAAADwP6RwPQrXo/A/SOF6FK5H8T/sUbgehevxP4/C9Shcj/I/MzMzMzMz8z/Xo3A9CtfzP3sUrkfhevQ/H4XrUbge9T/D9Shcj8L1P2dmZmZmZvY/CtejcD0K9z+uR+F6FK73P1K4HoXrUfg/9ihcj8L1+D+amZmZmZn5Pz4K16NwPfo/4XoUrkfh+j+F61G4HoX7Pylcj8L1KPw/zczMzMzM/D9xPQrXo3D9PxWuR+F6FP4/uB6F61G4/j9cj8L1KFz/PwAAAAAAAABA",
            "dtype": "f8"
           },
           "xaxis": "x",
           "y": {
            "bdata": "AAAAAAAA8D8AAAAAAADwPwAAAAAAAPA/AAAAAAAA8D8AAAAAAADwPwAAAAAAAPA/AAAAAAAA8D8AAAAAAADwPwAAAAAAAPA/AAAAAAAA8D8AAAAAAADwPwAAAAAAAPA/AAAAAAAA8D+9Cr6GXQLwP+LufaLFEfA/OjdJfyZD8D9eVCsAsqzwPz49rxLoWfE/woLXNyNI8j+A6O5GPWvzP6lVLsSQs/Q/TOpOWaYR9j83RYdzjXf3P3nYPjr62Pg/228z7wcr+j9bgySMFGT7PypHd/TRe/w/nERwsSpr/T+clyUviyr+P8+TXtMzq/4/oSRJbU7G/j8pTcIqOyL+P2kv4CxhOPw/ujAD5Qfr+D9C2jR4xkP1P8n/B+akkPI/B+QzCGwW8T98Te1jOmvwPwb2V9laJvA/E5wHq9sM8D9qskxwDQTwP6T9yLIzAfA/7EeF61UA8D+SVuWYFgDwP/1rypkFAPA/lYUcTwEA8D+5vOlJAADwP7dmZQ8AAPA/E/EHAwAA8D/le5AAAADwPwAAAAAAAPA/",
            "dtype": "f8"
           },
           "yaxis": "y"
          }
         ],
         "name": "77"
        },
        {
         "data": [
          {
           "hovertemplate": "variable=78<br>x=%{x}<br>value=%{y}<extra></extra>",
           "legendgroup": "",
           "line": {
            "color": "#636efa",
            "dash": "solid"
           },
           "marker": {
            "symbol": "circle"
           },
           "mode": "lines",
           "name": "",
           "orientation": "v",
           "showlegend": false,
           "type": "scatter",
           "x": {
            "bdata": "AAAAAAAAAAB7FK5H4XqkP3sUrkfherQ/uB6F61G4vj97FK5H4XrEP5qZmZmZmck/uB6F61G4zj/sUbgehevRP3sUrkfhetQ/CtejcD0K1z+amZmZmZnZPylcj8L1KNw/uB6F61G43j+kcD0K16PgP+xRuB6F6+E/MzMzMzMz4z97FK5H4XrkP8P1KFyPwuU/CtejcD0K5z9SuB6F61HoP5qZmZmZmek/4XoUrkfh6j8pXI/C9SjsP3E9CtejcO0/uB6F61G47j8AAAAAAADwP6RwPQrXo/A/SOF6FK5H8T/sUbgehevxP4/C9Shcj/I/MzMzMzMz8z/Xo3A9CtfzP3sUrkfhevQ/H4XrUbge9T/D9Shcj8L1P2dmZmZmZvY/CtejcD0K9z+uR+F6FK73P1K4HoXrUfg/9ihcj8L1+D+amZmZmZn5Pz4K16NwPfo/4XoUrkfh+j+F61G4HoX7Pylcj8L1KPw/zczMzMzM/D9xPQrXo3D9PxWuR+F6FP4/uB6F61G4/j9cj8L1KFz/PwAAAAAAAABA",
            "dtype": "f8"
           },
           "xaxis": "x",
           "y": {
            "bdata": "AAAAAAAA8D8AAAAAAADwPwAAAAAAAPA/AAAAAAAA8D8AAAAAAADwPwAAAAAAAPA/AAAAAAAA8D8AAAAAAADwPwAAAAAAAPA/AAAAAAAA8D8AAAAAAADwPwAAAAAAAPA/AAAAAAAA8D9RLGMJKwLwP3agb4h7EPA/qaeE0vc+8D9oRUZxh6PwP0dz89dASvE/sBB7KnQx8j+LW1gbzE3zP8KIE1cqkPQ/4yT/Bmnp9T+R3Xnpzkv3P+zSbDo9q/g/Wnb9+vT8+T9PD6uYazf7P4lZA+5RUvw/eWjjXH5G/T/hPqqzeQz+P6j6yMCmlv4/Joi7RvbB/j9n8cpt+zv+P40qvc5ggPw/NFay3L1Y+T+au1/EW6v1Pxw1fbZ40/I/fpGBPBU48T/Yfq0i3nnwP12VDuclLPA/XvqsTv0O8D/oRht6yQTwP+lxJYdwAfA/VCsuZ2gA8D/pc8/fGwDwP3Z+YgQHAPA/8QqrqgEA8D+F+K1fAADwPzzDRRQAAPA/4boPBAAA8D/+GsUAAADwPwAAAAAAAPA/",
            "dtype": "f8"
           },
           "yaxis": "y"
          }
         ],
         "name": "78"
        },
        {
         "data": [
          {
           "hovertemplate": "variable=79<br>x=%{x}<br>value=%{y}<extra></extra>",
           "legendgroup": "",
           "line": {
            "color": "#636efa",
            "dash": "solid"
           },
           "marker": {
            "symbol": "circle"
           },
           "mode": "lines",
           "name": "",
           "orientation": "v",
           "showlegend": false,
           "type": "scatter",
           "x": {
            "bdata": "AAAAAAAAAAB7FK5H4XqkP3sUrkfherQ/uB6F61G4vj97FK5H4XrEP5qZmZmZmck/uB6F61G4zj/sUbgehevRP3sUrkfhetQ/CtejcD0K1z+amZmZmZnZPylcj8L1KNw/uB6F61G43j+kcD0K16PgP+xRuB6F6+E/MzMzMzMz4z97FK5H4XrkP8P1KFyPwuU/CtejcD0K5z9SuB6F61HoP5qZmZmZmek/4XoUrkfh6j8pXI/C9SjsP3E9CtejcO0/uB6F61G47j8AAAAAAADwP6RwPQrXo/A/SOF6FK5H8T/sUbgehevxP4/C9Shcj/I/MzMzMzMz8z/Xo3A9CtfzP3sUrkfhevQ/H4XrUbge9T/D9Shcj8L1P2dmZmZmZvY/CtejcD0K9z+uR+F6FK73P1K4HoXrUfg/9ihcj8L1+D+amZmZmZn5Pz4K16NwPfo/4XoUrkfh+j+F61G4HoX7Pylcj8L1KPw/zczMzMzM/D9xPQrXo3D9PxWuR+F6FP4/uB6F61G4/j9cj8L1KFz/PwAAAAAAAABA",
            "dtype": "f8"
           },
           "xaxis": "x",
           "y": {
            "bdata": "AAAAAAAA8D8AAAAAAADwPwAAAAAAAPA/AAAAAAAA8D8AAAAAAADwPwAAAAAAAPA/AAAAAAAA8D8AAAAAAADwPwAAAAAAAPA/AAAAAAAA8D8AAAAAAADwPwAAAAAAAPA/AAAAAAAA8D9aZlbC/AHwPwND7u1ID/A/Ph7g4gg78D+ZYdh90JrwPzvjbUg9O/E/tSDDzYsb8j+V7feFNTHzP8XBwc2jbfQ/77DTdgLC9T9DbUrHziD3P/he/AEWfvg/bjmAyD7P+T92/58l2Ar7PzZ9zwuXKPw/RoXoVUMh/T+6beeQfe39P0Y8iEujgP4/+nn6GAa7/j+EvuN6FFH+P+EtBKI6wvw/nRiKXVzD+T8ha1asmhX2Pz1xR7TXGvM/F57SNfpc8T+NLaDLMIrwP/Ta68qxMvA/Sv8iom0R8D/Q7UViowXwP93FJve3AfA/Irtnan4A8D8byndAIgDwP7kAV8EIAPA/y7XPHAIA8D8IEEN7AADwP19yjhoAAPA/6ZBpBQAA8D/8UgsBAADwPwAAAAAAAPA/",
            "dtype": "f8"
           },
           "yaxis": "y"
          }
         ],
         "name": "79"
        },
        {
         "data": [
          {
           "hovertemplate": "variable=80<br>x=%{x}<br>value=%{y}<extra></extra>",
           "legendgroup": "",
           "line": {
            "color": "#636efa",
            "dash": "solid"
           },
           "marker": {
            "symbol": "circle"
           },
           "mode": "lines",
           "name": "",
           "orientation": "v",
           "showlegend": false,
           "type": "scatter",
           "x": {
            "bdata": "AAAAAAAAAAB7FK5H4XqkP3sUrkfherQ/uB6F61G4vj97FK5H4XrEP5qZmZmZmck/uB6F61G4zj/sUbgehevRP3sUrkfhetQ/CtejcD0K1z+amZmZmZnZPylcj8L1KNw/uB6F61G43j+kcD0K16PgP+xRuB6F6+E/MzMzMzMz4z97FK5H4XrkP8P1KFyPwuU/CtejcD0K5z9SuB6F61HoP5qZmZmZmek/4XoUrkfh6j8pXI/C9SjsP3E9CtejcO0/uB6F61G47j8AAAAAAADwP6RwPQrXo/A/SOF6FK5H8T/sUbgehevxP4/C9Shcj/I/MzMzMzMz8z/Xo3A9CtfzP3sUrkfhevQ/H4XrUbge9T/D9Shcj8L1P2dmZmZmZvY/CtejcD0K9z+uR+F6FK73P1K4HoXrUfg/9ihcj8L1+D+amZmZmZn5Pz4K16NwPfo/4XoUrkfh+j+F61G4HoX7Pylcj8L1KPw/zczMzMzM/D9xPQrXo3D9PxWuR+F6FP4/uB6F61G4/j9cj8L1KFz/PwAAAAAAAABA",
            "dtype": "f8"
           },
           "xaxis": "x",
           "y": {
            "bdata": "AAAAAAAA8D8AAAAAAADwPwAAAAAAAPA/AAAAAAAA8D8AAAAAAADwPwAAAAAAAPA/AAAAAAAA8D8AAAAAAADwPwAAAAAAAPA/AAAAAAAA8D8AAAAAAADwPwAAAAAAAPA/AAAAAAAA8D+vGItX0gHwP44ooTAsDvA/w//IGlY38D9qYCj2h5LwP4D7hXzXLPE/TH3kQmQG8j/gxAU7dBXzP7yVYPT4S/Q/xkKnLXCb9T/WICIHjfb2P3KA3ruHUfg/wHHGNeyh+T+lTEDBZN76PzaQV8yu/vs/zZ3k5Yj7/D9iuuInqM39PzUbEtBCaf4/zNh1ya2x/j+699L4zmH+PzT05Iz4/fw/wFBy7kIq+j/bDn+A7YH2P1+006K9ZvM/qUfcZkyF8T+J8s9KWZzwP4ueaHoTOvA/cHc7VTYU8D/FajpAnwbwP3CwZJ4LAvA/0xhGjJgA8D87j7HuKQDwP3qQReEKAPA/armFqgIA8D+PyQ6eAADwP5B/nSIAAPA/s6MsBwAA8D/QgmgBAADwPwAAAAAAAPA/",
            "dtype": "f8"
           },
           "yaxis": "y"
          }
         ],
         "name": "80"
        },
        {
         "data": [
          {
           "hovertemplate": "variable=81<br>x=%{x}<br>value=%{y}<extra></extra>",
           "legendgroup": "",
           "line": {
            "color": "#636efa",
            "dash": "solid"
           },
           "marker": {
            "symbol": "circle"
           },
           "mode": "lines",
           "name": "",
           "orientation": "v",
           "showlegend": false,
           "type": "scatter",
           "x": {
            "bdata": "AAAAAAAAAAB7FK5H4XqkP3sUrkfherQ/uB6F61G4vj97FK5H4XrEP5qZmZmZmck/uB6F61G4zj/sUbgehevRP3sUrkfhetQ/CtejcD0K1z+amZmZmZnZPylcj8L1KNw/uB6F61G43j+kcD0K16PgP+xRuB6F6+E/MzMzMzMz4z97FK5H4XrkP8P1KFyPwuU/CtejcD0K5z9SuB6F61HoP5qZmZmZmek/4XoUrkfh6j8pXI/C9SjsP3E9CtejcO0/uB6F61G47j8AAAAAAADwP6RwPQrXo/A/SOF6FK5H8T/sUbgehevxP4/C9Shcj/I/MzMzMzMz8z/Xo3A9CtfzP3sUrkfhevQ/H4XrUbge9T/D9Shcj8L1P2dmZmZmZvY/CtejcD0K9z+uR+F6FK73P1K4HoXrUfg/9ihcj8L1+D+amZmZmZn5Pz4K16NwPfo/4XoUrkfh+j+F61G4HoX7Pylcj8L1KPw/zczMzMzM/D9xPQrXo3D9PxWuR+F6FP4/uB6F61G4/j9cj8L1KFz/PwAAAAAAAABA",
            "dtype": "f8"
           },
           "xaxis": "x",
           "y": {
            "bdata": "AAAAAAAA8D8AAAAAAADwPwAAAAAAAPA/AAAAAAAA8D8AAAAAAADwPwAAAAAAAPA/AAAAAAAA8D8AAAAAAADwPwAAAAAAAPA/AAAAAAAA8D8AAAAAAADwPwAAAAAAAPA/AAAAAAAA8D+FfX12qwHwP2FwesojDfA/GRbOFNwz8D/dow3gqIrwP9AaN70JH/E/kvtK0vfx8T/bsUsHg/ryPzZk7ZclK/Q/MqXOja919T/W/ElSCc32P1XqNg6VJfg/6Pd2bgN1+T+kiz4yG7L6PxFdXvql1Ps/dBEY1l3V/D8yjdldCq39P3jvEFedUP4/aftTDhqm/j+YZGx5cm7+P2+i0tezM/0/dLaV0uKM+j/QkA/qsO/2PxQ9QeIXt/M/mCOFVzux8T+mjliUgLDwP58UK7BhQvA/0nC/FGIX8D8VfaOkwQfwP7DAsU1tAvA/6CKaebcA8D+IGJYmMwDwP4H9uncNAPA/3n3AWQMA8D88X8PJAADwP3zw5iwAAPA/XAt2CQAA8D+OheMBAADwPwAAAAAAAPA/",
            "dtype": "f8"
           },
           "yaxis": "y"
          }
         ],
         "name": "81"
        },
        {
         "data": [
          {
           "hovertemplate": "variable=82<br>x=%{x}<br>value=%{y}<extra></extra>",
           "legendgroup": "",
           "line": {
            "color": "#636efa",
            "dash": "solid"
           },
           "marker": {
            "symbol": "circle"
           },
           "mode": "lines",
           "name": "",
           "orientation": "v",
           "showlegend": false,
           "type": "scatter",
           "x": {
            "bdata": "AAAAAAAAAAB7FK5H4XqkP3sUrkfherQ/uB6F61G4vj97FK5H4XrEP5qZmZmZmck/uB6F61G4zj/sUbgehevRP3sUrkfhetQ/CtejcD0K1z+amZmZmZnZPylcj8L1KNw/uB6F61G43j+kcD0K16PgP+xRuB6F6+E/MzMzMzMz4z97FK5H4XrkP8P1KFyPwuU/CtejcD0K5z9SuB6F61HoP5qZmZmZmek/4XoUrkfh6j8pXI/C9SjsP3E9CtejcO0/uB6F61G47j8AAAAAAADwP6RwPQrXo/A/SOF6FK5H8T/sUbgehevxP4/C9Shcj/I/MzMzMzMz8z/Xo3A9CtfzP3sUrkfhevQ/H4XrUbge9T/D9Shcj8L1P2dmZmZmZvY/CtejcD0K9z+uR+F6FK73P1K4HoXrUfg/9ihcj8L1+D+amZmZmZn5Pz4K16NwPfo/4XoUrkfh+j+F61G4HoX7Pylcj8L1KPw/zczMzMzM/D9xPQrXo3D9PxWuR+F6FP4/uB6F61G4/j9cj8L1KFz/PwAAAAAAAABA",
            "dtype": "f8"
           },
           "xaxis": "x",
           "y": {
            "bdata": "AAAAAAAA8D8AAAAAAADwPwAAAAAAAPA/AAAAAAAA8D8AAAAAAADwPwAAAAAAAPA/AAAAAAAA8D8AAAAAAADwPwAAAAAAAPA/AAAAAAAA8D8AAAAAAADwPwAAAAAAAPA/AAAAAAAA8D8TrZDThwHwPyFP3E8uDPA/e61GmZcw8D/FcOh0LoPwP/Ofd4LOEfE/03Sp6kDe8T+kP4jQXODyPwtxzoglC/Q/+0ye3L1Q9T8+X+0JQ6T2P7/NpSVA+vc/hu5X94lI+T+YsXN/BIb6P6tzfayIqvs/Q5RIZ9Cu/D987uiYtIv9PzrALLLJNv4/m3XunHSY/j9IloysRHf+P7D4rrmSY/0/7Fb4OsHq+j8XAar4Nl73P/B5IArEC/Q/7ISBkPPg8T8Wt7x70cbwP2RJfwC1S/A/3M5Invwa8D8flOykDwnwP1ss2hDfAvA/gNOT99sA8D8KWqQtPgDwP8M5pZsQAPA/CYuVMQQA8D8mz20AAQDwPzFP+TkAAPA/dh5qDAAA8D+1EIUCAADwPwAAAAAAAPA/",
            "dtype": "f8"
           },
           "yaxis": "y"
          }
         ],
         "name": "82"
        },
        {
         "data": [
          {
           "hovertemplate": "variable=83<br>x=%{x}<br>value=%{y}<extra></extra>",
           "legendgroup": "",
           "line": {
            "color": "#636efa",
            "dash": "solid"
           },
           "marker": {
            "symbol": "circle"
           },
           "mode": "lines",
           "name": "",
           "orientation": "v",
           "showlegend": false,
           "type": "scatter",
           "x": {
            "bdata": "AAAAAAAAAAB7FK5H4XqkP3sUrkfherQ/uB6F61G4vj97FK5H4XrEP5qZmZmZmck/uB6F61G4zj/sUbgehevRP3sUrkfhetQ/CtejcD0K1z+amZmZmZnZPylcj8L1KNw/uB6F61G43j+kcD0K16PgP+xRuB6F6+E/MzMzMzMz4z97FK5H4XrkP8P1KFyPwuU/CtejcD0K5z9SuB6F61HoP5qZmZmZmek/4XoUrkfh6j8pXI/C9SjsP3E9CtejcO0/uB6F61G47j8AAAAAAADwP6RwPQrXo/A/SOF6FK5H8T/sUbgehevxP4/C9Shcj/I/MzMzMzMz8z/Xo3A9CtfzP3sUrkfhevQ/H4XrUbge9T/D9Shcj8L1P2dmZmZmZvY/CtejcD0K9z+uR+F6FK73P1K4HoXrUfg/9ihcj8L1+D+amZmZmZn5Pz4K16NwPfo/4XoUrkfh+j+F61G4HoX7Pylcj8L1KPw/zczMzMzM/D9xPQrXo3D9PxWuR+F6FP4/uB6F61G4/j9cj8L1KFz/PwAAAAAAAABA",
            "dtype": "f8"
           },
           "xaxis": "x",
           "y": {
            "bdata": "AAAAAAAA8D8AAAAAAADwPwAAAAAAAPA/AAAAAAAA8D8AAAAAAADwPwAAAAAAAPA/AAAAAAAA8D8AAAAAAADwPwAAAAAAAPA/AAAAAAAA8D8AAAAAAADwPwAAAAAAAPA/AAAAAAAA8D8OVHopZwHwP2WW3G1KC/A/UUEWnIUt8D+2V7EfFHzwP1EbsXEgBfE/wDkHIDrL8T+BeqmV/MbyP5n/CJ306/M/KZJYR5gs9T8jlRlPOXz2P7CF1b+Kz/c/cMh6uYQc+T/y+RD4KFr6P/fIO0ZigPs/MvQvS+6H/D9GRHC8tmn9P38ykpTdG/4/6ZX0WuSI/j/iALHHiHz+P9CcI+rFjf0/lMj9qnhD+z+/aGuwysz3P+j7O8uOZPQ/SJOlY50U8j/xdMV5eN/wP1MMSesnVvA/j3vf1BIf8D+oMpvnjgrwP0GM4zRjA/A/RdGn5gYB8D+MvQBUSwDwP+XC02cUAPA/WHRsOgUA8D9neIZEAQDwP8EEg0oAAPA/Mw02EAAA8D8wJ1gDAADwPwAAAAAAAPA/",
            "dtype": "f8"
           },
           "yaxis": "y"
          }
         ],
         "name": "83"
        },
        {
         "data": [
          {
           "hovertemplate": "variable=84<br>x=%{x}<br>value=%{y}<extra></extra>",
           "legendgroup": "",
           "line": {
            "color": "#636efa",
            "dash": "solid"
           },
           "marker": {
            "symbol": "circle"
           },
           "mode": "lines",
           "name": "",
           "orientation": "v",
           "showlegend": false,
           "type": "scatter",
           "x": {
            "bdata": "AAAAAAAAAAB7FK5H4XqkP3sUrkfherQ/uB6F61G4vj97FK5H4XrEP5qZmZmZmck/uB6F61G4zj/sUbgehevRP3sUrkfhetQ/CtejcD0K1z+amZmZmZnZPylcj8L1KNw/uB6F61G43j+kcD0K16PgP+xRuB6F6+E/MzMzMzMz4z97FK5H4XrkP8P1KFyPwuU/CtejcD0K5z9SuB6F61HoP5qZmZmZmek/4XoUrkfh6j8pXI/C9SjsP3E9CtejcO0/uB6F61G47j8AAAAAAADwP6RwPQrXo/A/SOF6FK5H8T/sUbgehevxP4/C9Shcj/I/MzMzMzMz8z/Xo3A9CtfzP3sUrkfhevQ/H4XrUbge9T/D9Shcj8L1P2dmZmZmZvY/CtejcD0K9z+uR+F6FK73P1K4HoXrUfg/9ihcj8L1+D+amZmZmZn5Pz4K16NwPfo/4XoUrkfh+j+F61G4HoX7Pylcj8L1KPw/zczMzMzM/D9xPQrXo3D9PxWuR+F6FP4/uB6F61G4/j9cj8L1KFz/PwAAAAAAAABA",
            "dtype": "f8"
           },
           "xaxis": "x",
           "y": {
            "bdata": "AAAAAAAA8D8AAAAAAADwPwAAAAAAAPA/AAAAAAAA8D8AAAAAAADwPwAAAAAAAPA/AAAAAAAA8D8AAAAAAADwPwAAAAAAAPA/AAAAAAAA8D8AAAAAAADwPwAAAAAAAPA/AAAAAAAA8D+S8Lo4SQHwP4CQpOh2CvA/JyCLOqMq8D8SRx57VXXwP6seSVz6+PA/miPNKt648T8/fOVuXa7yP+8IJbKOzfM/98mS5zsJ9T+IYQgK61T2P4U9UTV2pfc/jf8BDfjw+D/mBCg8kC76P+jGcHo9Vvs/OMKWn8Rg/D+zWn4lIEf9P8xEvaft//0/taknkI13/j8auaUaf37+PzLG0lCGsv0/H5GjkLmW+z+M8VTzszr4P0YxVTAzwfQ/FL+9k1tM8j8kkx1eo/rwP400derWYfA/K/I21rIj8D++5YSxRQzwP88m1k78A/A/6Za9RTkB8D82Qdj1WgDwP2sDiPsYAPA/Bno1fgYA8D8XVASZAQDwPxukWF8AAPA/hMwRFQAA8D8GpWoEAADwPwAAAAAAAPA/",
            "dtype": "f8"
           },
           "yaxis": "y"
          }
         ],
         "name": "84"
        },
        {
         "data": [
          {
           "hovertemplate": "variable=85<br>x=%{x}<br>value=%{y}<extra></extra>",
           "legendgroup": "",
           "line": {
            "color": "#636efa",
            "dash": "solid"
           },
           "marker": {
            "symbol": "circle"
           },
           "mode": "lines",
           "name": "",
           "orientation": "v",
           "showlegend": false,
           "type": "scatter",
           "x": {
            "bdata": "AAAAAAAAAAB7FK5H4XqkP3sUrkfherQ/uB6F61G4vj97FK5H4XrEP5qZmZmZmck/uB6F61G4zj/sUbgehevRP3sUrkfhetQ/CtejcD0K1z+amZmZmZnZPylcj8L1KNw/uB6F61G43j+kcD0K16PgP+xRuB6F6+E/MzMzMzMz4z97FK5H4XrkP8P1KFyPwuU/CtejcD0K5z9SuB6F61HoP5qZmZmZmek/4XoUrkfh6j8pXI/C9SjsP3E9CtejcO0/uB6F61G47j8AAAAAAADwP6RwPQrXo/A/SOF6FK5H8T/sUbgehevxP4/C9Shcj/I/MzMzMzMz8z/Xo3A9CtfzP3sUrkfhevQ/H4XrUbge9T/D9Shcj8L1P2dmZmZmZvY/CtejcD0K9z+uR+F6FK73P1K4HoXrUfg/9ihcj8L1+D+amZmZmZn5Pz4K16NwPfo/4XoUrkfh+j+F61G4HoX7Pylcj8L1KPw/zczMzMzM/D9xPQrXo3D9PxWuR+F6FP4/uB6F61G4/j9cj8L1KFz/PwAAAAAAAABA",
            "dtype": "f8"
           },
           "xaxis": "x",
           "y": {
            "bdata": "AAAAAAAA8D8AAAAAAADwPwAAAAAAAPA/AAAAAAAA8D8AAAAAAADwPwAAAAAAAPA/AAAAAAAA8D8AAAAAAADwPwAAAAAAAPA/AAAAAAAA8D8AAAAAAADwPwAAAAAAAPA/AAAAAAAA8D9fgyHHLQHwP3xm65myCfA/hI9Wue0n8D9D2ttP7m7wP18UOj5X7fA/AgfU5ien8T83DbaNepbyPwYLyK7vr/M/OVAex6Xm9D/xzsLwVi72P3j+qoIDfPc/gnN1w+fF+D+emGRFQQP6P323vU4kLPs/dnv86l85/D95noWn/yP9Py+oC50N4/0/rWgyF5Jk/j9UaObJZH3+P+OS+uES0v0/Z51VHUrk+z/TJGiZO6f4Pw5Nj1RaIfU/fVYJ4UmI8j8XA8zpgBjxP4Z3wXvgbvA/0O9bEOwo8D9C6ebzOg7wP7GkGEOtBPA/4uurNXQB8D8hBep8bQDwP/VIF3seAPA/i6WnCAgA8D+uIXMBAgDwP7ZIfHkAAPA/g15CGwAA8D9R6M0FAADwPwAAAAAAAPA/",
            "dtype": "f8"
           },
           "yaxis": "y"
          }
         ],
         "name": "85"
        },
        {
         "data": [
          {
           "hovertemplate": "variable=86<br>x=%{x}<br>value=%{y}<extra></extra>",
           "legendgroup": "",
           "line": {
            "color": "#636efa",
            "dash": "solid"
           },
           "marker": {
            "symbol": "circle"
           },
           "mode": "lines",
           "name": "",
           "orientation": "v",
           "showlegend": false,
           "type": "scatter",
           "x": {
            "bdata": "AAAAAAAAAAB7FK5H4XqkP3sUrkfherQ/uB6F61G4vj97FK5H4XrEP5qZmZmZmck/uB6F61G4zj/sUbgehevRP3sUrkfhetQ/CtejcD0K1z+amZmZmZnZPylcj8L1KNw/uB6F61G43j+kcD0K16PgP+xRuB6F6+E/MzMzMzMz4z97FK5H4XrkP8P1KFyPwuU/CtejcD0K5z9SuB6F61HoP5qZmZmZmek/4XoUrkfh6j8pXI/C9SjsP3E9CtejcO0/uB6F61G47j8AAAAAAADwP6RwPQrXo/A/SOF6FK5H8T/sUbgehevxP4/C9Shcj/I/MzMzMzMz8z/Xo3A9CtfzP3sUrkfhevQ/H4XrUbge9T/D9Shcj8L1P2dmZmZmZvY/CtejcD0K9z+uR+F6FK73P1K4HoXrUfg/9ihcj8L1+D+amZmZmZn5Pz4K16NwPfo/4XoUrkfh+j+F61G4HoX7Pylcj8L1KPw/zczMzMzM/D9xPQrXo3D9PxWuR+F6FP4/uB6F61G4/j9cj8L1KFz/PwAAAAAAAABA",
            "dtype": "f8"
           },
           "xaxis": "x",
           "y": {
            "bdata": "AAAAAAAA8D8AAAAAAADwPwAAAAAAAPA/AAAAAAAA8D8AAAAAAADwPwAAAAAAAPA/AAAAAAAA8D8AAAAAAADwPwAAAAAAAPA/AAAAAAAA8D8AAAAAAADwPwAAAAAAAPA/AAAAAAAA8D9Cu1mfFAHwPw5liW/8CPA/SRadgmIl8D/glNmS2mjwP8B5uzwy4vA/4/h1UhKW8T9k/rs8T3/yP51vD4QTk/M/THSB49LE9D9sDCmNewj2P91/+FAzU/c/k+GdMVeb+D/DLtlvQtj5P7cM7B8gAvs/lEWrGswR/D+RV4SJYwD9P/HpkzxQxf0//ViQjBFQ/j8XGcanc3n+PwwtcbOu7P0/x9ABdgUs/D+VHYqGrxH5P+GlHaObhPU/YCUYgnvI8j+kgb9PQDnxP/E5fyRlffA/e3+SV88u8D/cJWJbdhDwP68wZ015BfA/Q8EJ/bgB8D+BqTpigwDwPz4OoBAlAPA/8TiH5wkA8D915wyCAgDwPxgxJpoAAPA/aoccIwAA8D/WnJcHAADwPwAAAAAAAPA/",
            "dtype": "f8"
           },
           "yaxis": "y"
          }
         ],
         "name": "86"
        },
        {
         "data": [
          {
           "hovertemplate": "variable=87<br>x=%{x}<br>value=%{y}<extra></extra>",
           "legendgroup": "",
           "line": {
            "color": "#636efa",
            "dash": "solid"
           },
           "marker": {
            "symbol": "circle"
           },
           "mode": "lines",
           "name": "",
           "orientation": "v",
           "showlegend": false,
           "type": "scatter",
           "x": {
            "bdata": "AAAAAAAAAAB7FK5H4XqkP3sUrkfherQ/uB6F61G4vj97FK5H4XrEP5qZmZmZmck/uB6F61G4zj/sUbgehevRP3sUrkfhetQ/CtejcD0K1z+amZmZmZnZPylcj8L1KNw/uB6F61G43j+kcD0K16PgP+xRuB6F6+E/MzMzMzMz4z97FK5H4XrkP8P1KFyPwuU/CtejcD0K5z9SuB6F61HoP5qZmZmZmek/4XoUrkfh6j8pXI/C9SjsP3E9CtejcO0/uB6F61G47j8AAAAAAADwP6RwPQrXo/A/SOF6FK5H8T/sUbgehevxP4/C9Shcj/I/MzMzMzMz8z/Xo3A9CtfzP3sUrkfhevQ/H4XrUbge9T/D9Shcj8L1P2dmZmZmZvY/CtejcD0K9z+uR+F6FK73P1K4HoXrUfg/9ihcj8L1+D+amZmZmZn5Pz4K16NwPfo/4XoUrkfh+j+F61G4HoX7Pylcj8L1KPw/zczMzMzM/D9xPQrXo3D9PxWuR+F6FP4/uB6F61G4/j9cj8L1KFz/PwAAAAAAAABA",
            "dtype": "f8"
           },
           "xaxis": "x",
           "y": {
            "bdata": "AAAAAAAA8D8AAAAAAADwPwAAAAAAAPA/AAAAAAAA8D8AAAAAAADwPwAAAAAAAPA/AAAAAAAA8D8AAAAAAADwPwAAAAAAAPA/AAAAAAAA8D8AAAAAAADwPwAAAAAAAPA/AAAAAAAA8D9WtoOQ/QDwP1WRImpTCPA/+K4dJP8i8D8I0qdjFmPwP6rO+KSG1/A/VY6jjZiF8T9tSo7f1mjyPwUjsi72dvM/SDULMcCj9D+Zb2tCV+P1P723rv0FK/c/aMziOElx+D8eosSCma35P/fBA6c52Po/+WITghTq+z8v67+DWdz8P+cUtXHHpv0/GjbWeik6/j/foBkm4nL+P8UL20+fAv4/RkzYV9pt/D8pLdeMZnn5PxE9kq596vU/cQeyk/kM8z/MhdaYEF3xPxi+v22HjfA/ggAS/G418D8J/tpfABPwP4UKbwlkBvA//d5ZDAkC8D/XHPUvnQDwPxN71OwsAPA/EFz1KgwA8D+mMdcfAwDwP9LBzsIAAPA/TgAILQAA8D9jsOIJAADwPwAAAAAAAPA/",
            "dtype": "f8"
           },
           "yaxis": "y"
          }
         ],
         "name": "87"
        },
        {
         "data": [
          {
           "hovertemplate": "variable=88<br>x=%{x}<br>value=%{y}<extra></extra>",
           "legendgroup": "",
           "line": {
            "color": "#636efa",
            "dash": "solid"
           },
           "marker": {
            "symbol": "circle"
           },
           "mode": "lines",
           "name": "",
           "orientation": "v",
           "showlegend": false,
           "type": "scatter",
           "x": {
            "bdata": "AAAAAAAAAAB7FK5H4XqkP3sUrkfherQ/uB6F61G4vj97FK5H4XrEP5qZmZmZmck/uB6F61G4zj/sUbgehevRP3sUrkfhetQ/CtejcD0K1z+amZmZmZnZPylcj8L1KNw/uB6F61G43j+kcD0K16PgP+xRuB6F6+E/MzMzMzMz4z97FK5H4XrkP8P1KFyPwuU/CtejcD0K5z9SuB6F61HoP5qZmZmZmek/4XoUrkfh6j8pXI/C9SjsP3E9CtejcO0/uB6F61G47j8AAAAAAADwP6RwPQrXo/A/SOF6FK5H8T/sUbgehevxP4/C9Shcj/I/MzMzMzMz8z/Xo3A9CtfzP3sUrkfhevQ/H4XrUbge9T/D9Shcj8L1P2dmZmZmZvY/CtejcD0K9z+uR+F6FK73P1K4HoXrUfg/9ihcj8L1+D+amZmZmZn5Pz4K16NwPfo/4XoUrkfh+j+F61G4HoX7Pylcj8L1KPw/zczMzMzM/D9xPQrXo3D9PxWuR+F6FP4/uB6F61G4/j9cj8L1KFz/PwAAAAAAAABA",
            "dtype": "f8"
           },
           "xaxis": "x",
           "y": {
            "bdata": "AAAAAAAA8D8AAAAAAADwPwAAAAAAAPA/AAAAAAAA8D8AAAAAAADwPwAAAAAAAPA/AAAAAAAA8D8AAAAAAADwPwAAAAAAAPA/AAAAAAAA8D8AAAAAAADwPwAAAAAAAPA/AAAAAAAA8D+HiNRt6ADwP1YY55u2B/A/X7tuTcEg8D+YSOYKnl3wP5CG1upPzfA/yQL+2LV18T/ihnjyDFPyPwok8LeTW/M/98KLnWqD9D8mBgBS6L71Pw2M5KF7A/c//owoUMBH+D9J6Du5S4P5P77K8f54rvo/TOFJ20PC+z+amya+7rf8P7kpx1WEh/0/O2L0g/Ui/j8dHeJa42n+P2LD10krFP4/mlTOUsmp/D9L/5ztw935Pzkq96Z3UvY/kXltjcFV8z+GBzzpH4TxPzlcINdrn/A/Ets239488D+wOThV4hXwPydzF3xxB/A/bSaYAmYC8D/KunyDuwDwP2oi3Ec2APA/bQfK5Q4A8D+GhcTgAwDwP98iOvUAAPA/PDuDOQAA8D8Od9AMAADwPwAAAAAAAPA/",
            "dtype": "f8"
           },
           "yaxis": "y"
          }
         ],
         "name": "88"
        },
        {
         "data": [
          {
           "hovertemplate": "variable=89<br>x=%{x}<br>value=%{y}<extra></extra>",
           "legendgroup": "",
           "line": {
            "color": "#636efa",
            "dash": "solid"
           },
           "marker": {
            "symbol": "circle"
           },
           "mode": "lines",
           "name": "",
           "orientation": "v",
           "showlegend": false,
           "type": "scatter",
           "x": {
            "bdata": "AAAAAAAAAAB7FK5H4XqkP3sUrkfherQ/uB6F61G4vj97FK5H4XrEP5qZmZmZmck/uB6F61G4zj/sUbgehevRP3sUrkfhetQ/CtejcD0K1z+amZmZmZnZPylcj8L1KNw/uB6F61G43j+kcD0K16PgP+xRuB6F6+E/MzMzMzMz4z97FK5H4XrkP8P1KFyPwuU/CtejcD0K5z9SuB6F61HoP5qZmZmZmek/4XoUrkfh6j8pXI/C9SjsP3E9CtejcO0/uB6F61G47j8AAAAAAADwP6RwPQrXo/A/SOF6FK5H8T/sUbgehevxP4/C9Shcj/I/MzMzMzMz8z/Xo3A9CtfzP3sUrkfhevQ/H4XrUbge9T/D9Shcj8L1P2dmZmZmZvY/CtejcD0K9z+uR+F6FK73P1K4HoXrUfg/9ihcj8L1+D+amZmZmZn5Pz4K16NwPfo/4XoUrkfh+j+F61G4HoX7Pylcj8L1KPw/zczMzMzM/D9xPQrXo3D9PxWuR+F6FP4/uB6F61G4/j9cj8L1KFz/PwAAAAAAAABA",
            "dtype": "f8"
           },
           "xaxis": "x",
           "y": {
            "bdata": "AAAAAAAA8D8AAAAAAADwPwAAAAAAAPA/AAAAAAAA8D8AAAAAAADwPwAAAAAAAPA/AAAAAAAA8D8AAAAAAADwPwAAAAAAAPA/AAAAAAAA8D8AAAAAAADwPwAAAAAAAPA/AAAAAAAA8D/RyD4O1QDwPwg8aCclB/A/qahPzqYe8D/XG8L4bVjwP4BExKeJw/A/F/v2lGVm8T/iuSsK7T3yP/gbVjboQPM/ENW6Es9j9D+kbh/gLJv1P7U0BRmU3PY/BjcujL4e+D8I0KbKXVn5P7AZm6rlhPo/DWiGSGSa+z9VumHPL5P8P+e2SDmXZ/0/uzhDh48K/j8c/j0Tp17+P0cDrA2ZIf4/SFS1u+Lf/D9wK1ZSOj76P9jxDW3zu/Y/w2h3y8Oi8z/dr5+lmq7xP7FDNr44s/A/VgWohzRF8D/4Gfd8JhnwP1ODgB2mCPA/eoUvstEC8D/34LQP3wDwPxUvT2JBAPA/oEL5LRIA8D9UidrLBADwP9KuhTMBAPA/ws4nSQAA8D9qB4oQAADwPwAAAAAAAPA/",
            "dtype": "f8"
           },
           "yaxis": "y"
          }
         ],
         "name": "89"
        },
        {
         "data": [
          {
           "hovertemplate": "variable=90<br>x=%{x}<br>value=%{y}<extra></extra>",
           "legendgroup": "",
           "line": {
            "color": "#636efa",
            "dash": "solid"
           },
           "marker": {
            "symbol": "circle"
           },
           "mode": "lines",
           "name": "",
           "orientation": "v",
           "showlegend": false,
           "type": "scatter",
           "x": {
            "bdata": "AAAAAAAAAAB7FK5H4XqkP3sUrkfherQ/uB6F61G4vj97FK5H4XrEP5qZmZmZmck/uB6F61G4zj/sUbgehevRP3sUrkfhetQ/CtejcD0K1z+amZmZmZnZPylcj8L1KNw/uB6F61G43j+kcD0K16PgP+xRuB6F6+E/MzMzMzMz4z97FK5H4XrkP8P1KFyPwuU/CtejcD0K5z9SuB6F61HoP5qZmZmZmek/4XoUrkfh6j8pXI/C9SjsP3E9CtejcO0/uB6F61G47j8AAAAAAADwP6RwPQrXo/A/SOF6FK5H8T/sUbgehevxP4/C9Shcj/I/MzMzMzMz8z/Xo3A9CtfzP3sUrkfhevQ/H4XrUbge9T/D9Shcj8L1P2dmZmZmZvY/CtejcD0K9z+uR+F6FK73P1K4HoXrUfg/9ihcj8L1+D+amZmZmZn5Pz4K16NwPfo/4XoUrkfh+j+F61G4HoX7Pylcj8L1KPw/zczMzMzM/D9xPQrXo3D9PxWuR+F6FP4/uB6F61G4/j9cj8L1KFz/PwAAAAAAAABA",
            "dtype": "f8"
           },
           "xaxis": "x",
           "y": {
            "bdata": "AAAAAAAA8D8AAAAAAADwPwAAAAAAAPA/AAAAAAAA8D8AAAAAAADwPwAAAAAAAPA/AAAAAAAA8D8AAAAAAADwPwAAAAAAAPA/AAAAAAAA8D8AAAAAAADwPwAAAAAAAPA/AAAAAAAA8D8jdyJMwwDwPwp3gD6eBvA/SUYOla0c8D8FhoLDglPwPySrm5kvuvA/2m72QKNX8T8XQWTTcinyP6VmWs7vJvM/hRdUeOpE9D98/tL3Inj1Pw3m+gZPtvY/3olsp0X29z9lRgLz0y/5P7crPZuGW/o/Tzh9Vn9y+z+snJq8KG78PxOl2asPR/0/AptRxA/x/T/ts6rwWVH+P/tMn+0tK/4/Mvb+dUQQ/T8gg/MgTpr6P8sjQDdQJvc/cz6CQOLz8z9vicl3qtzxPxW5ZTgWyfA/AAXRM4dO8D/WBYQY2BzwP8rlv+MGCvA/qgZgJk4D8D/YZoKfCAHwP61aTYZOAPA/3+MEHRYA8D9bbl3pBQDwP3RxN4ABAPA/x6GvXAAA8D8M2EEVAADwPwAAAAAAAPA/",
            "dtype": "f8"
           },
           "yaxis": "y"
          }
         ],
         "name": "90"
        },
        {
         "data": [
          {
           "hovertemplate": "variable=91<br>x=%{x}<br>value=%{y}<extra></extra>",
           "legendgroup": "",
           "line": {
            "color": "#636efa",
            "dash": "solid"
           },
           "marker": {
            "symbol": "circle"
           },
           "mode": "lines",
           "name": "",
           "orientation": "v",
           "showlegend": false,
           "type": "scatter",
           "x": {
            "bdata": "AAAAAAAAAAB7FK5H4XqkP3sUrkfherQ/uB6F61G4vj97FK5H4XrEP5qZmZmZmck/uB6F61G4zj/sUbgehevRP3sUrkfhetQ/CtejcD0K1z+amZmZmZnZPylcj8L1KNw/uB6F61G43j+kcD0K16PgP+xRuB6F6+E/MzMzMzMz4z97FK5H4XrkP8P1KFyPwuU/CtejcD0K5z9SuB6F61HoP5qZmZmZmek/4XoUrkfh6j8pXI/C9SjsP3E9CtejcO0/uB6F61G47j8AAAAAAADwP6RwPQrXo/A/SOF6FK5H8T/sUbgehevxP4/C9Shcj/I/MzMzMzMz8z/Xo3A9CtfzP3sUrkfhevQ/H4XrUbge9T/D9Shcj8L1P2dmZmZmZvY/CtejcD0K9z+uR+F6FK73P1K4HoXrUfg/9ihcj8L1+D+amZmZmZn5Pz4K16NwPfo/4XoUrkfh+j+F61G4HoX7Pylcj8L1KPw/zczMzMzM/D9xPQrXo3D9PxWuR+F6FP4/uB6F61G4/j9cj8L1KFz/PwAAAAAAAABA",
            "dtype": "f8"
           },
           "xaxis": "x",
           "y": {
            "bdata": "AAAAAAAA8D8AAAAAAADwPwAAAAAAAPA/AAAAAAAA8D8AAAAAAADwPwAAAAAAAPA/AAAAAAAA8D8AAAAAAADwPwAAAAAAAPA/AAAAAAAA8D8AAAAAAADwPwAAAAAAAPA/AAAAAAAA8D/HmwMFswDwP7akTSEhBvA/eOP+rNMa8D+MPiMm2U7wP6MLi6E9sfA/AxuHempJ8T/8G4cSmhXyP19c2LKmDfM/7Cjxtbkm9D+0i52OyFX1P6ND2t2rkPY/QmJ4CVfO9z/9tN36sQb5P6AfATdiMvo/oSx0/51K+z9mp+755Ej8P+x4R4P8Jf0/BvGK+ozW/T86/laNJUL+P6qnwGMtMf4//Qi7sRc7/T8kIWQal/H6P3e50rLlkPc/bGaIZO9I9D/fMVczdQ7yP8cAxdwt4fA/DZPv6e9Y8D/DFz98AyHwP86DYk6ZC/A/nbMcqd0D8D+5sIsYOQHwPxs4swheAPA/shd80BoA8D/aNwFDBwDwPwX6T94BAPA/ovP6dAAA8D/jqDUbAADwPwAAAAAAAPA/",
            "dtype": "f8"
           },
           "yaxis": "y"
          }
         ],
         "name": "91"
        },
        {
         "data": [
          {
           "hovertemplate": "variable=92<br>x=%{x}<br>value=%{y}<extra></extra>",
           "legendgroup": "",
           "line": {
            "color": "#636efa",
            "dash": "solid"
           },
           "marker": {
            "symbol": "circle"
           },
           "mode": "lines",
           "name": "",
           "orientation": "v",
           "showlegend": false,
           "type": "scatter",
           "x": {
            "bdata": "AAAAAAAAAAB7FK5H4XqkP3sUrkfherQ/uB6F61G4vj97FK5H4XrEP5qZmZmZmck/uB6F61G4zj/sUbgehevRP3sUrkfhetQ/CtejcD0K1z+amZmZmZnZPylcj8L1KNw/uB6F61G43j+kcD0K16PgP+xRuB6F6+E/MzMzMzMz4z97FK5H4XrkP8P1KFyPwuU/CtejcD0K5z9SuB6F61HoP5qZmZmZmek/4XoUrkfh6j8pXI/C9SjsP3E9CtejcO0/uB6F61G47j8AAAAAAADwP6RwPQrXo/A/SOF6FK5H8T/sUbgehevxP4/C9Shcj/I/MzMzMzMz8z/Xo3A9CtfzP3sUrkfhevQ/H4XrUbge9T/D9Shcj8L1P2dmZmZmZvY/CtejcD0K9z+uR+F6FK73P1K4HoXrUfg/9ihcj8L1+D+amZmZmZn5Pz4K16NwPfo/4XoUrkfh+j+F61G4HoX7Pylcj8L1KPw/zczMzMzM/D9xPQrXo3D9PxWuR+F6FP4/uB6F61G4/j9cj8L1KFz/PwAAAAAAAABA",
            "dtype": "f8"
           },
           "xaxis": "x",
           "y": {
            "bdata": "AAAAAAAA8D8AAAAAAADwPwAAAAAAAPA/AAAAAAAA8D8AAAAAAADwPwAAAAAAAPA/AAAAAAAA8D8AAAAAAADwPwAAAAAAAPA/AAAAAAAA8D8AAAAAAADwPwAAAAAAAPA/AAAAAAAA8D/IDkcZpADwP1YOPB2tBfA/oVYGPRcZ8D+k0Pv+bUrwP3hBC8OvqPA/x7+J/LY78T8qmzijXgLyP1QpbiUJ9fI/GPantDkJ9D86h8eHGzT1P9nqFuOpa/Y/pBTszfOm9z9qrQs/+934Pwcxql9+Cfo/Qazzrsgi+z8CPoprbyP8P4gx5OFrBP0/LWrdhRy7/T+aX+mkMDH+P/W87YLYM/4/ZaantY5g/T9nI2o+wUP7P0ptwYIH+/c/E5Suda2h9D/luxedG0TyPwRyjHuq+/A/I3DOhIlk8D983gkjtiXwP8bguHJjDfA/8jtpyYIE8D8hYzx+cQHwP9eLcEpwAPA/ABOKaiAA8D/ShyHkCADwP5zMXlECAPA/sV8XkwAA8D+AxLAiAADwPwAAAAAAAPA/",
            "dtype": "f8"
           },
           "yaxis": "y"
          }
         ],
         "name": "92"
        },
        {
         "data": [
          {
           "hovertemplate": "variable=93<br>x=%{x}<br>value=%{y}<extra></extra>",
           "legendgroup": "",
           "line": {
            "color": "#636efa",
            "dash": "solid"
           },
           "marker": {
            "symbol": "circle"
           },
           "mode": "lines",
           "name": "",
           "orientation": "v",
           "showlegend": false,
           "type": "scatter",
           "x": {
            "bdata": "AAAAAAAAAAB7FK5H4XqkP3sUrkfherQ/uB6F61G4vj97FK5H4XrEP5qZmZmZmck/uB6F61G4zj/sUbgehevRP3sUrkfhetQ/CtejcD0K1z+amZmZmZnZPylcj8L1KNw/uB6F61G43j+kcD0K16PgP+xRuB6F6+E/MzMzMzMz4z97FK5H4XrkP8P1KFyPwuU/CtejcD0K5z9SuB6F61HoP5qZmZmZmek/4XoUrkfh6j8pXI/C9SjsP3E9CtejcO0/uB6F61G47j8AAAAAAADwP6RwPQrXo/A/SOF6FK5H8T/sUbgehevxP4/C9Shcj/I/MzMzMzMz8z/Xo3A9CtfzP3sUrkfhevQ/H4XrUbge9T/D9Shcj8L1P2dmZmZmZvY/CtejcD0K9z+uR+F6FK73P1K4HoXrUfg/9ihcj8L1+D+amZmZmZn5Pz4K16NwPfo/4XoUrkfh+j+F61G4HoX7Pylcj8L1KPw/zczMzMzM/D9xPQrXo3D9PxWuR+F6FP4/uB6F61G4/j9cj8L1KFz/PwAAAAAAAABA",
            "dtype": "f8"
           },
           "xaxis": "x",
           "y": {
            "bdata": "AAAAAAAA8D8AAAAAAADwPwAAAAAAAPA/AAAAAAAA8D8AAAAAAADwPwAAAAAAAPA/AAAAAAAA8D8AAAAAAADwPwAAAAAAAPA/AAAAAAAA8D8AAAAAAADwPwAAAAAAAPA/AAAAAAAA8D9b4vRrlgDwPyhQIYxBBfA/GiA1hnYX8D/vKHNOPkbwPzQO4CKCoPA/QlBvnoQu8T+bL+53vO/xP3gFwXYT3fI/EZtzYGfs8z8QcVa3GRP1P6giSTRIR/Y/iM/byhyA9z9fUwC4srX4P1TpS3ng4Pk/p+n2RQf7+j/mF19n0v37PwC/Vjxr4vw/8JmVeNKe/T+7Ia0/nx7+P9Rrp5BtM/4/ZbHwx+KA/T/KETD7jJD7P+adQ/YIZPg/Dc7IH8799D/UkHoZuH3yPwYWisC3GPE/zoEdvHBx8D9GmC/C/irwP38R8ghsD/A/CX4/YkAF8D9SCxL1sgHwP7efArqFAPA/tW6VEicA8D9OqgDaCgDwP9zFmd0CAPA/cP9HuAAA8D/Ypg4sAADwPwAAAAAAAPA/",
            "dtype": "f8"
           },
           "yaxis": "y"
          }
         ],
         "name": "93"
        },
        {
         "data": [
          {
           "hovertemplate": "variable=94<br>x=%{x}<br>value=%{y}<extra></extra>",
           "legendgroup": "",
           "line": {
            "color": "#636efa",
            "dash": "solid"
           },
           "marker": {
            "symbol": "circle"
           },
           "mode": "lines",
           "name": "",
           "orientation": "v",
           "showlegend": false,
           "type": "scatter",
           "x": {
            "bdata": "AAAAAAAAAAB7FK5H4XqkP3sUrkfherQ/uB6F61G4vj97FK5H4XrEP5qZmZmZmck/uB6F61G4zj/sUbgehevRP3sUrkfhetQ/CtejcD0K1z+amZmZmZnZPylcj8L1KNw/uB6F61G43j+kcD0K16PgP+xRuB6F6+E/MzMzMzMz4z97FK5H4XrkP8P1KFyPwuU/CtejcD0K5z9SuB6F61HoP5qZmZmZmek/4XoUrkfh6j8pXI/C9SjsP3E9CtejcO0/uB6F61G47j8AAAAAAADwP6RwPQrXo/A/SOF6FK5H8T/sUbgehevxP4/C9Shcj/I/MzMzMzMz8z/Xo3A9CtfzP3sUrkfhevQ/H4XrUbge9T/D9Shcj8L1P2dmZmZmZvY/CtejcD0K9z+uR+F6FK73P1K4HoXrUfg/9ihcj8L1+D+amZmZmZn5Pz4K16NwPfo/4XoUrkfh+j+F61G4HoX7Pylcj8L1KPw/zczMzMzM/D9xPQrXo3D9PxWuR+F6FP4/uB6F61G4/j9cj8L1KFz/PwAAAAAAAABA",
            "dtype": "f8"
           },
           "xaxis": "x",
           "y": {
            "bdata": "AAAAAAAA8D8AAAAAAADwPwAAAAAAAPA/AAAAAAAA8D8AAAAAAADwPwAAAAAAAPA/AAAAAAAA8D8AAAAAAADwPwAAAAAAAPA/AAAAAAAA8D8AAAAAAADwPwAAAAAAAPA/AAAAAAAA8D+T9n/iiQDwP14ZZtPdBPA/B+Zy4u8V8D8Isb41R0LwP9dNIgaxmPA/xCJ6U88h8T+g1nyZr93xPx80qwbCxfI/uVxtqT/Q8z/oE7fkwPL0P2RujMuFI/Y/nKrZltJZ9z8U29kA2434P/yA93CNuPk/eUyBH2HT+j/EP2i3F9j7PxDwCl8HwPw/mUqrssGB/T+IYZLekgr+P5VVU8EnMP4/TGP/QlKc/T9uSse4ztf7P19kO8xAy/g/ShOSnPJc9T9buNJIXbvyP39/H76BOPE/jXoqJ8R/8D+1yWpd7TDwP0fRBnq6EfA/2iIFohkG8D/NYTfG/gHwP8O2FdWeAPA/S8vx9S4A8D9UqA40DQDwP77M94cDAPA/CNIO5gAA8D8FGb43AADwPwAAAAAAAPA/",
            "dtype": "f8"
           },
           "yaxis": "y"
          }
         ],
         "name": "94"
        },
        {
         "data": [
          {
           "hovertemplate": "variable=95<br>x=%{x}<br>value=%{y}<extra></extra>",
           "legendgroup": "",
           "line": {
            "color": "#636efa",
            "dash": "solid"
           },
           "marker": {
            "symbol": "circle"
           },
           "mode": "lines",
           "name": "",
           "orientation": "v",
           "showlegend": false,
           "type": "scatter",
           "x": {
            "bdata": "AAAAAAAAAAB7FK5H4XqkP3sUrkfherQ/uB6F61G4vj97FK5H4XrEP5qZmZmZmck/uB6F61G4zj/sUbgehevRP3sUrkfhetQ/CtejcD0K1z+amZmZmZnZPylcj8L1KNw/uB6F61G43j+kcD0K16PgP+xRuB6F6+E/MzMzMzMz4z97FK5H4XrkP8P1KFyPwuU/CtejcD0K5z9SuB6F61HoP5qZmZmZmek/4XoUrkfh6j8pXI/C9SjsP3E9CtejcO0/uB6F61G47j8AAAAAAADwP6RwPQrXo/A/SOF6FK5H8T/sUbgehevxP4/C9Shcj/I/MzMzMzMz8z/Xo3A9CtfzP3sUrkfhevQ/H4XrUbge9T/D9Shcj8L1P2dmZmZmZvY/CtejcD0K9z+uR+F6FK73P1K4HoXrUfg/9ihcj8L1+D+amZmZmZn5Pz4K16NwPfo/4XoUrkfh+j+F61G4HoX7Pylcj8L1KPw/zczMzMzM/D9xPQrXo3D9PxWuR+F6FP4/uB6F61G4/j9cj8L1KFz/PwAAAAAAAABA",
            "dtype": "f8"
           },
           "xaxis": "x",
           "y": {
            "bdata": "AAAAAAAA8D8AAAAAAADwPwAAAAAAAPA/AAAAAAAA8D8AAAAAAADwPwAAAAAAAPA/AAAAAAAA8D8AAAAAAADwPwAAAAAAAPA/AAAAAAAA8D8AAAAAAADwPwAAAAAAAPA/AAAAAAAA8D8VR5JkfgDwP9fZPWOBBPA/s5I5w4EU8D8dX6z1hT7wPw9jU9E4kfA/HB0GKpMV8T88aKUmNMzxP/TRVkQRr/I/lcbahL+08z8oYiHNDtP0P81ofoNhAPY/ymKOjhU09z92BhFedmb4P4C/UsOJkPk/AHqBFd2r+j9HoWycSLL7P8OxXnNMnfw/OPq99vtj/T8IqdOmKvX9P9hp5BA/Kv4/annh3h6z/T/MlA7YbRn8P3iRSNcMMPk/HOFoWqy+9T++CbaaFP3yP2ERhV40W/E/L/mNOKSP8D9KBbpakzfwPzoTc+5WFPA/7HKZEhIH8D/1G3RjVgLwP1//UCq8APA/rnulSDgA8D+GPTkEEADwPz83T1YEAPA/v5Q3HgEA8D9N00RGAADwPwAAAAAAAPA/",
            "dtype": "f8"
           },
           "yaxis": "y"
          }
         ],
         "name": "95"
        },
        {
         "data": [
          {
           "hovertemplate": "variable=96<br>x=%{x}<br>value=%{y}<extra></extra>",
           "legendgroup": "",
           "line": {
            "color": "#636efa",
            "dash": "solid"
           },
           "marker": {
            "symbol": "circle"
           },
           "mode": "lines",
           "name": "",
           "orientation": "v",
           "showlegend": false,
           "type": "scatter",
           "x": {
            "bdata": "AAAAAAAAAAB7FK5H4XqkP3sUrkfherQ/uB6F61G4vj97FK5H4XrEP5qZmZmZmck/uB6F61G4zj/sUbgehevRP3sUrkfhetQ/CtejcD0K1z+amZmZmZnZPylcj8L1KNw/uB6F61G43j+kcD0K16PgP+xRuB6F6+E/MzMzMzMz4z97FK5H4XrkP8P1KFyPwuU/CtejcD0K5z9SuB6F61HoP5qZmZmZmek/4XoUrkfh6j8pXI/C9SjsP3E9CtejcO0/uB6F61G47j8AAAAAAADwP6RwPQrXo/A/SOF6FK5H8T/sUbgehevxP4/C9Shcj/I/MzMzMzMz8z/Xo3A9CtfzP3sUrkfhevQ/H4XrUbge9T/D9Shcj8L1P2dmZmZmZvY/CtejcD0K9z+uR+F6FK73P1K4HoXrUfg/9ihcj8L1+D+amZmZmZn5Pz4K16NwPfo/4XoUrkfh+j+F61G4HoX7Pylcj8L1KPw/zczMzMzM/D9xPQrXo3D9PxWuR+F6FP4/uB6F61G4/j9cj8L1KFz/PwAAAAAAAABA",
            "dtype": "f8"
           },
           "xaxis": "x",
           "y": {
            "bdata": "AAAAAAAA8D8AAAAAAADwPwAAAAAAAPA/AAAAAAAA8D8AAAAAAADwPwAAAAAAAPA/AAAAAAAA8D8AAAAAAADwPwAAAAAAAPA/AAAAAAAA8D8AAAAAAADwPwAAAAAAAPA/AAAAAAAA8D/0jN3bcwDwP8J+67UrBPA/vWhfsCoT8D+nLXft9zrwP+xBeQcWivA/3sfXSswJ8T9j3Z9TRrvxP3ohSK79mPI/hHwV7uOZ8z9SQ7wlAbT0P2zu5Bra3fU/oPzr2eUO9z+B2tDDhj/4P14sDYPZaPk/BvvshYGE+j+mXDDRbYz7P3aPowRGevw/7xD//JFF/T9cVWeMg979P7w5azLoIf4/vYaaM4zF/T+9vydBY1X8PyILJ1jVkfk/+LZnMX4i9j/tGl3k3ELzP/JgcLn6gPE/O5gwMTOh8D9lwaGVAz/wP6RsuF1KF/A/OFcDoi0I8D9ZkHdruwLwP8eeUFveAPA/YBpFRkMA8D+gnkVfEwDwP6VQeE8FAPA/azzkYgEA8D8QuUNYAADwPwAAAAAAAPA/",
            "dtype": "f8"
           },
           "yaxis": "y"
          }
         ],
         "name": "96"
        },
        {
         "data": [
          {
           "hovertemplate": "variable=97<br>x=%{x}<br>value=%{y}<extra></extra>",
           "legendgroup": "",
           "line": {
            "color": "#636efa",
            "dash": "solid"
           },
           "marker": {
            "symbol": "circle"
           },
           "mode": "lines",
           "name": "",
           "orientation": "v",
           "showlegend": false,
           "type": "scatter",
           "x": {
            "bdata": "AAAAAAAAAAB7FK5H4XqkP3sUrkfherQ/uB6F61G4vj97FK5H4XrEP5qZmZmZmck/uB6F61G4zj/sUbgehevRP3sUrkfhetQ/CtejcD0K1z+amZmZmZnZPylcj8L1KNw/uB6F61G43j+kcD0K16PgP+xRuB6F6+E/MzMzMzMz4z97FK5H4XrkP8P1KFyPwuU/CtejcD0K5z9SuB6F61HoP5qZmZmZmek/4XoUrkfh6j8pXI/C9SjsP3E9CtejcO0/uB6F61G47j8AAAAAAADwP6RwPQrXo/A/SOF6FK5H8T/sUbgehevxP4/C9Shcj/I/MzMzMzMz8z/Xo3A9CtfzP3sUrkfhevQ/H4XrUbge9T/D9Shcj8L1P2dmZmZmZvY/CtejcD0K9z+uR+F6FK73P1K4HoXrUfg/9ihcj8L1+D+amZmZmZn5Pz4K16NwPfo/4XoUrkfh+j+F61G4HoX7Pylcj8L1KPw/zczMzMzM/D9xPQrXo3D9PxWuR+F6FP4/uB6F61G4/j9cj8L1KFz/PwAAAAAAAABA",
            "dtype": "f8"
           },
           "xaxis": "x",
           "y": {
            "bdata": "AAAAAAAA8D8AAAAAAADwPwAAAAAAAPA/AAAAAAAA8D8AAAAAAADwPwAAAAAAAPA/AAAAAAAA8D8AAAAAAADwPwAAAAAAAPA/AAAAAAAA8D8AAAAAAADwPwAAAAAAAPA/AAAAAAAA8D+C1+8zagDwP/BsEk/cA/A/zWnvRukR8D8XfKWZmjfwP1yHQklFg/A/OCZy+Hb+8D/heKZp4qrxP/e4WdKDg/I/mt9Q56l/8z9iHoedlZX0P7A8Ajjuu/U/sqP/cEPq9j9O2PXbDRn4P7WaKl+AQfk/v/QBWFRd+j8I+gSOj2b7P6R/BQX/Vvw/JmdFhJMm/T8rcqZ6uMb9P5lvrZFUF/4/0BFCdd7T/T9ViaCft4v8P+1jNekP8Pk/K6E6J96H9j/lv20IqYzzPwif1Uz+qfE/h9PbCJW08D/u9mFxUkfwPxOtnp6eGvA/YhLHq3AJ8D/gu4SuLwPwP3qw0R4GAfA/gxHnMlAA8D+REzVdFwDwP7V6dHsGAPA/W0WbtgEA8D99xHtuAADwPwAAAAAAAPA/",
            "dtype": "f8"
           },
           "yaxis": "y"
          }
         ],
         "name": "97"
        },
        {
         "data": [
          {
           "hovertemplate": "variable=98<br>x=%{x}<br>value=%{y}<extra></extra>",
           "legendgroup": "",
           "line": {
            "color": "#636efa",
            "dash": "solid"
           },
           "marker": {
            "symbol": "circle"
           },
           "mode": "lines",
           "name": "",
           "orientation": "v",
           "showlegend": false,
           "type": "scatter",
           "x": {
            "bdata": "AAAAAAAAAAB7FK5H4XqkP3sUrkfherQ/uB6F61G4vj97FK5H4XrEP5qZmZmZmck/uB6F61G4zj/sUbgehevRP3sUrkfhetQ/CtejcD0K1z+amZmZmZnZPylcj8L1KNw/uB6F61G43j+kcD0K16PgP+xRuB6F6+E/MzMzMzMz4z97FK5H4XrkP8P1KFyPwuU/CtejcD0K5z9SuB6F61HoP5qZmZmZmek/4XoUrkfh6j8pXI/C9SjsP3E9CtejcO0/uB6F61G47j8AAAAAAADwP6RwPQrXo/A/SOF6FK5H8T/sUbgehevxP4/C9Shcj/I/MzMzMzMz8z/Xo3A9CtfzP3sUrkfhevQ/H4XrUbge9T/D9Shcj8L1P2dmZmZmZvY/CtejcD0K9z+uR+F6FK73P1K4HoXrUfg/9ihcj8L1+D+amZmZmZn5Pz4K16NwPfo/4XoUrkfh+j+F61G4HoX7Pylcj8L1KPw/zczMzMzM/D9xPQrXo3D9PxWuR+F6FP4/uB6F61G4/j9cj8L1KFz/PwAAAAAAAABA",
            "dtype": "f8"
           },
           "xaxis": "x",
           "y": {
            "bdata": "AAAAAAAA8D8AAAAAAADwPwAAAAAAAPA/AAAAAAAA8D8AAAAAAADwPwAAAAAAAPA/AAAAAAAA8D8AAAAAAADwPwAAAAAAAPA/AAAAAAAA8D8AAAAAAADwPwAAAAAAAPA/AAAAAAAA8D/QxgtaYQDwPz30EruSA/A/ynQPOLwQ8D/y5PCSazTwP7YTMlTDfPA/5iRzjo/z8D9lmIHGBJvxP3KvrE2gbvI/Jz9Beg5m8z8EdA7fyXf0P7JInWucmvU/QCRoIC7G9j+C4rULDfP3P58JHKmBGvk//8GeAVs2+j9156iMtUD7PxYgY9KBM/w/Ud6BYQ8H/T+q/Md64q39Pw/NimKyCv4/WvMtaFne/T8AlxBqgbz8PyoW7t1BSvo/M9OcuTfu9j/UE8rAXtrzP0k7Vxhm1vE/dLdeSu/J8D9Yw4vplVDwPwq8IXheHvA/cZjqAuAK8D+reoYztQPwP19WFEM0AfA/n0YxXF8A8D/rfbUZHADwP7BumuMHAPA/shRYHAIA8D+iutOJAADwPwAAAAAAAPA/",
            "dtype": "f8"
           },
           "yaxis": "y"
          }
         ],
         "name": "98"
        },
        {
         "data": [
          {
           "hovertemplate": "variable=99<br>x=%{x}<br>value=%{y}<extra></extra>",
           "legendgroup": "",
           "line": {
            "color": "#636efa",
            "dash": "solid"
           },
           "marker": {
            "symbol": "circle"
           },
           "mode": "lines",
           "name": "",
           "orientation": "v",
           "showlegend": false,
           "type": "scatter",
           "x": {
            "bdata": "AAAAAAAAAAB7FK5H4XqkP3sUrkfherQ/uB6F61G4vj97FK5H4XrEP5qZmZmZmck/uB6F61G4zj/sUbgehevRP3sUrkfhetQ/CtejcD0K1z+amZmZmZnZPylcj8L1KNw/uB6F61G43j+kcD0K16PgP+xRuB6F6+E/MzMzMzMz4z97FK5H4XrkP8P1KFyPwuU/CtejcD0K5z9SuB6F61HoP5qZmZmZmek/4XoUrkfh6j8pXI/C9SjsP3E9CtejcO0/uB6F61G47j8AAAAAAADwP6RwPQrXo/A/SOF6FK5H8T/sUbgehevxP4/C9Shcj/I/MzMzMzMz8z/Xo3A9CtfzP3sUrkfhevQ/H4XrUbge9T/D9Shcj8L1P2dmZmZmZvY/CtejcD0K9z+uR+F6FK73P1K4HoXrUfg/9ihcj8L1+D+amZmZmZn5Pz4K16NwPfo/4XoUrkfh+j+F61G4HoX7Pylcj8L1KPw/zczMzMzM/D9xPQrXo3D9PxWuR+F6FP4/uB6F61G4/j9cj8L1KFz/PwAAAAAAAABA",
            "dtype": "f8"
           },
           "xaxis": "x",
           "y": {
            "bdata": "AAAAAAAA8D8AAAAAAADwPwAAAAAAAPA/AAAAAAAA8D8AAAAAAADwPwAAAAAAAPA/AAAAAAAA8D8AAAAAAADwPwAAAAAAAPA/AAAAAAAA8D8AAAAAAADwPwAAAAAAAPA/AAAAAAAA8D/DGQQ9WQDwP3yDcY5OA/A/KYjzR6IP8D9yIDeNaDHwP9mm0QGNdvA/HGr2gBLp8D8X0hTcqYvxP5mojsxPWvI/APKnuA5N8z81avCRm1r0P20uxDPjefU/JFF2jaWi9j+Zp/J4hc33P9KBoVrg8/g/z2uhjJoP+j9mT2cM5xr7PxN8HzvYD/w/Vi3IjRPn/D9Ay/jXGJT9P5yTmros/P0/ysOGiT/l/T8+mKXQ4uf8P7t85wICoPo/lyegnu5U9z9gw5Kc1Sv0P3WpGpxVBvI/45cp4Wjh8D8wUkWg5VrwPzcw9LKVIvA/gHWu/IAM8D+dApM9TgTwPwo7eLBpAfA/vUWDGnEA8D8D/J60IQDwPzkvyJIJAPA/daydlwIA8D9Ew16rAADwPwAAAAAAAPA/",
            "dtype": "f8"
           },
           "yaxis": "y"
          }
         ],
         "name": "99"
        },
        {
         "data": [
          {
           "hovertemplate": "variable=100<br>x=%{x}<br>value=%{y}<extra></extra>",
           "legendgroup": "",
           "line": {
            "color": "#636efa",
            "dash": "solid"
           },
           "marker": {
            "symbol": "circle"
           },
           "mode": "lines",
           "name": "",
           "orientation": "v",
           "showlegend": false,
           "type": "scatter",
           "x": {
            "bdata": "AAAAAAAAAAB7FK5H4XqkP3sUrkfherQ/uB6F61G4vj97FK5H4XrEP5qZmZmZmck/uB6F61G4zj/sUbgehevRP3sUrkfhetQ/CtejcD0K1z+amZmZmZnZPylcj8L1KNw/uB6F61G43j+kcD0K16PgP+xRuB6F6+E/MzMzMzMz4z97FK5H4XrkP8P1KFyPwuU/CtejcD0K5z9SuB6F61HoP5qZmZmZmek/4XoUrkfh6j8pXI/C9SjsP3E9CtejcO0/uB6F61G47j8AAAAAAADwP6RwPQrXo/A/SOF6FK5H8T/sUbgehevxP4/C9Shcj/I/MzMzMzMz8z/Xo3A9CtfzP3sUrkfhevQ/H4XrUbge9T/D9Shcj8L1P2dmZmZmZvY/CtejcD0K9z+uR+F6FK73P1K4HoXrUfg/9ihcj8L1+D+amZmZmZn5Pz4K16NwPfo/4XoUrkfh+j+F61G4HoX7Pylcj8L1KPw/zczMzMzM/D9xPQrXo3D9PxWuR+F6FP4/uB6F61G4/j9cj8L1KFz/PwAAAAAAAABA",
            "dtype": "f8"
           },
           "xaxis": "x",
           "y": {
            "bdata": "AAAAAAAA8D8AAAAAAADwPwAAAAAAAPA/AAAAAAAA8D8AAAAAAADwPwAAAAAAAPA/AAAAAAAA8D8AAAAAAADwPwAAAAAAAPA/AAAAAAAA8D8AAAAAAADwPwAAAAAAAPA/AAAAAAAA8D9OSBrNUQDwP1/vR2UPA/A/1JvdTJoO8D9alHNWjy7wP7EE60afcPA/VEn+W/ze8D9G5u0vznzxP+lnVwqPRvI/FGDHvKc08z+/wTVcCD70P/M4Tv7AWfU/2Y78Oal/9j9a8jgPeKj3P74LcRufzfg/YwhDnBfp+T/uNGrWKvX6P1U48oIL7Ps/YvwZM63G/D8xpfdAcXn9PwT6BrLr6/0/lTVtZ9Ho/T/BAHiqBw79P6gwjbX58Po/gHiS4WG79z+LgDlF1oD0P9JeKb3rOfI/Uisr1in78D8B7WjpWmbwP/fRdCtRJ/A/2dz/e1kO8D922+VR/QTwP6AtWGynAfA/w3Q/0oUA8D9c8n9SKADwP6hJm5ULAPA/JvqLLAMA8D8VA2TUAADwPwAAAAAAAPA/",
            "dtype": "f8"
           },
           "yaxis": "y"
          }
         ],
         "name": "100"
        },
        {
         "data": [
          {
           "hovertemplate": "variable=101<br>x=%{x}<br>value=%{y}<extra></extra>",
           "legendgroup": "",
           "line": {
            "color": "#636efa",
            "dash": "solid"
           },
           "marker": {
            "symbol": "circle"
           },
           "mode": "lines",
           "name": "",
           "orientation": "v",
           "showlegend": false,
           "type": "scatter",
           "x": {
            "bdata": "AAAAAAAAAAB7FK5H4XqkP3sUrkfherQ/uB6F61G4vj97FK5H4XrEP5qZmZmZmck/uB6F61G4zj/sUbgehevRP3sUrkfhetQ/CtejcD0K1z+amZmZmZnZPylcj8L1KNw/uB6F61G43j+kcD0K16PgP+xRuB6F6+E/MzMzMzMz4z97FK5H4XrkP8P1KFyPwuU/CtejcD0K5z9SuB6F61HoP5qZmZmZmek/4XoUrkfh6j8pXI/C9SjsP3E9CtejcO0/uB6F61G47j8AAAAAAADwP6RwPQrXo/A/SOF6FK5H8T/sUbgehevxP4/C9Shcj/I/MzMzMzMz8z/Xo3A9CtfzP3sUrkfhevQ/H4XrUbge9T/D9Shcj8L1P2dmZmZmZvY/CtejcD0K9z+uR+F6FK73P1K4HoXrUfg/9ihcj8L1+D+amZmZmZn5Pz4K16NwPfo/4XoUrkfh+j+F61G4HoX7Pylcj8L1KPw/zczMzMzM/D9xPQrXo3D9PxWuR+F6FP4/uB6F61G4/j9cj8L1KFz/PwAAAAAAAABA",
            "dtype": "f8"
           },
           "xaxis": "x",
           "y": {
            "bdata": "AAAAAAAA8D8AAAAAAADwPwAAAAAAAPA/AAAAAAAA8D8AAAAAAADwPwAAAAAAAPA/AAAAAAAA8D8AAAAAAADwPwAAAAAAAPA/AAAAAAAA8D8AAAAAAADwPwAAAAAAAPA/AAAAAAAA8D9e6N/7SgDwP2spwOLUAvA/fYwpLqMN8D8/OsHV3SvwPy4xxzL3avA/uJjiwknV8D9T89Vabm7xPxBiP9FaM/I/5rfBqdYc8z+wTIPjDSL0P6GmIis0OvU/RpjShzhd9j92qW+E5YP3P8sVoEbAp/g/BeNkctbC+T8jyTFCh8/6P+FxuGckyPs/21AduOil/D/qNzTn/139P7jvOIkU2v0/djMuI03p/T+JFx91Iy/9P1jYLFXlPPs/NEFaPO8g+D+pnQAdGtn0P8ahQJNBcfI/YPax+VoX8T/OdIfREHPwP88f6uOeLPA/aqym/W8Q8D9arFc+xQXwP13GKZzuAfA/CQg29Z0A8D8E4DgdMADwP5kTsPoNAPA/CQ/43wMA8D9EWmcGAQDwPwAAAAAAAPA/",
            "dtype": "f8"
           },
           "yaxis": "y"
          }
         ],
         "name": "101"
        },
        {
         "data": [
          {
           "hovertemplate": "variable=102<br>x=%{x}<br>value=%{y}<extra></extra>",
           "legendgroup": "",
           "line": {
            "color": "#636efa",
            "dash": "solid"
           },
           "marker": {
            "symbol": "circle"
           },
           "mode": "lines",
           "name": "",
           "orientation": "v",
           "showlegend": false,
           "type": "scatter",
           "x": {
            "bdata": "AAAAAAAAAAB7FK5H4XqkP3sUrkfherQ/uB6F61G4vj97FK5H4XrEP5qZmZmZmck/uB6F61G4zj/sUbgehevRP3sUrkfhetQ/CtejcD0K1z+amZmZmZnZPylcj8L1KNw/uB6F61G43j+kcD0K16PgP+xRuB6F6+E/MzMzMzMz4z97FK5H4XrkP8P1KFyPwuU/CtejcD0K5z9SuB6F61HoP5qZmZmZmek/4XoUrkfh6j8pXI/C9SjsP3E9CtejcO0/uB6F61G47j8AAAAAAADwP6RwPQrXo/A/SOF6FK5H8T/sUbgehevxP4/C9Shcj/I/MzMzMzMz8z/Xo3A9CtfzP3sUrkfhevQ/H4XrUbge9T/D9Shcj8L1P2dmZmZmZvY/CtejcD0K9z+uR+F6FK73P1K4HoXrUfg/9ihcj8L1+D+amZmZmZn5Pz4K16NwPfo/4XoUrkfh+j+F61G4HoX7Pylcj8L1KPw/zczMzMzM/D9xPQrXo3D9PxWuR+F6FP4/uB6F61G4/j9cj8L1KFz/PwAAAAAAAABA",
            "dtype": "f8"
           },
           "xaxis": "x",
           "y": {
            "bdata": "AAAAAAAA8D8AAAAAAADwPwAAAAAAAPA/AAAAAAAA8D8AAAAAAADwPwAAAAAAAPA/AAAAAAAA8D8AAAAAAADwPwAAAAAAAPA/AAAAAAAA8D8AAAAAAADwPwAAAAAAAPA/AAAAAAAA8D+PoRq8RADwP9/Nl7CeAvA/+5dk47sM8D9mjWQKUinwP+dac+6RZfA//yHFb/fL8D+wQ2UIh2DxPxiXMPqvIPI/f8bkq5gF8z8ToyfOqQb0PyDySA47G/U/D2YSvFI79j9Okzldzl/3Py6uze9Fgvg/wP7G9Nqc+T+CDCU6Aqr6P2CmRiYrpPs/2U/iytGE/D9sJYCb10H9P9/EYtHJxv0/iCrKF+7m/T+6zlN1b0v9P5QFNBiUg/s/KUFBiPaE+D8jG11HSzT1P3FT8SVprPI/oJcleCU28T8KMa8fJIHwPxW7yRaOMvA/X9QvpcsS8D+2OlsgqQbwPwdK5ohAAvA/s6M0BLoA8D9mf6lEOQDwP9+g6NIQAPA/9JiHtwQA8D86bTNDAQDwPwAAAAAAAPA/",
            "dtype": "f8"
           },
           "yaxis": "y"
          }
         ],
         "name": "102"
        },
        {
         "data": [
          {
           "hovertemplate": "variable=103<br>x=%{x}<br>value=%{y}<extra></extra>",
           "legendgroup": "",
           "line": {
            "color": "#636efa",
            "dash": "solid"
           },
           "marker": {
            "symbol": "circle"
           },
           "mode": "lines",
           "name": "",
           "orientation": "v",
           "showlegend": false,
           "type": "scatter",
           "x": {
            "bdata": "AAAAAAAAAAB7FK5H4XqkP3sUrkfherQ/uB6F61G4vj97FK5H4XrEP5qZmZmZmck/uB6F61G4zj/sUbgehevRP3sUrkfhetQ/CtejcD0K1z+amZmZmZnZPylcj8L1KNw/uB6F61G43j+kcD0K16PgP+xRuB6F6+E/MzMzMzMz4z97FK5H4XrkP8P1KFyPwuU/CtejcD0K5z9SuB6F61HoP5qZmZmZmek/4XoUrkfh6j8pXI/C9SjsP3E9CtejcO0/uB6F61G47j8AAAAAAADwP6RwPQrXo/A/SOF6FK5H8T/sUbgehevxP4/C9Shcj/I/MzMzMzMz8z/Xo3A9CtfzP3sUrkfhevQ/H4XrUbge9T/D9Shcj8L1P2dmZmZmZvY/CtejcD0K9z+uR+F6FK73P1K4HoXrUfg/9ihcj8L1+D+amZmZmZn5Pz4K16NwPfo/4XoUrkfh+j+F61G4HoX7Pylcj8L1KPw/zczMzMzM/D9xPQrXo3D9PxWuR+F6FP4/uB6F61G4/j9cj8L1KFz/PwAAAAAAAABA",
            "dtype": "f8"
           },
           "xaxis": "x",
           "y": {
            "bdata": "AAAAAAAA8D8AAAAAAADwPwAAAAAAAPA/AAAAAAAA8D8AAAAAAADwPwAAAAAAAPA/AAAAAAAA8D8AAAAAAADwPwAAAAAAAPA/AAAAAAAA8D8AAAAAAADwPwAAAAAAAPA/AAAAAAAA8D/NeKoBPwDwP7L4q35sAvA/te9vc+ML8D8tON0K6ibwP7ITC7xsYPA/GGYLMwLD8D9S+pn2FFPxP2TYkmyLDvI/xCnl+Oru8j9mgAjE2evzP8ESx/HT/PQ/MO8SAvcZ9j9XJw3xMjz3P4bUDOgxXfg/dAghsih3+T+D+TBAoYT6PwGHOn8ngPs/0KjXanNj/D9Fv2zoCSX9P0vBY5Yrsv0/MEMtn+zh/T/Lte4CKWP9P0WW6lfnxPs/iXrsHt3m+D+jokAoBZL1P5ERISFs6/I/SsGbV7JX8T/Fna5Qs5DwP1cgwkgvOfA/0IuRSnQV8D/u24ZsrAfwPylJwqKeAvA/qcq9kNoA8D//03D/QwDwP6g+vDEUAPA/F/vPuQUA8D9aIeWMAQDwPwAAAAAAAPA/",
            "dtype": "f8"
           },
           "yaxis": "y"
          }
         ],
         "name": "103"
        },
        {
         "data": [
          {
           "hovertemplate": "variable=104<br>x=%{x}<br>value=%{y}<extra></extra>",
           "legendgroup": "",
           "line": {
            "color": "#636efa",
            "dash": "solid"
           },
           "marker": {
            "symbol": "circle"
           },
           "mode": "lines",
           "name": "",
           "orientation": "v",
           "showlegend": false,
           "type": "scatter",
           "x": {
            "bdata": "AAAAAAAAAAB7FK5H4XqkP3sUrkfherQ/uB6F61G4vj97FK5H4XrEP5qZmZmZmck/uB6F61G4zj/sUbgehevRP3sUrkfhetQ/CtejcD0K1z+amZmZmZnZPylcj8L1KNw/uB6F61G43j+kcD0K16PgP+xRuB6F6+E/MzMzMzMz4z97FK5H4XrkP8P1KFyPwuU/CtejcD0K5z9SuB6F61HoP5qZmZmZmek/4XoUrkfh6j8pXI/C9SjsP3E9CtejcO0/uB6F61G47j8AAAAAAADwP6RwPQrXo/A/SOF6FK5H8T/sUbgehevxP4/C9Shcj/I/MzMzMzMz8z/Xo3A9CtfzP3sUrkfhevQ/H4XrUbge9T/D9Shcj8L1P2dmZmZmZvY/CtejcD0K9z+uR+F6FK73P1K4HoXrUfg/9ihcj8L1+D+amZmZmZn5Pz4K16NwPfo/4XoUrkfh+j+F61G4HoX7Pylcj8L1KPw/zczMzMzM/D9xPQrXo3D9PxWuR+F6FP4/uB6F61G4/j9cj8L1KFz/PwAAAAAAAABA",
            "dtype": "f8"
           },
           "xaxis": "x",
           "y": {
            "bdata": "AAAAAAAA8D8AAAAAAADwPwAAAAAAAPA/AAAAAAAA8D8AAAAAAADwPwAAAAAAAPA/AAAAAAAA8D8AAAAAAADwPwAAAAAAAPA/AAAAAAAA8D8AAAAAAADwPwAAAAAAAPA/AAAAAAAA8D+kQXLBOQDwP5LajAI+AvA/FOut8xgL8D8kP/8DpCTwPzB+B/aEW/A/cWnd8ma68D/x0HH1FEbxPwJ6FB7q/PE/h9wK0MrY8j8E6HJvm9HzP7jUURf93vQ/8EMlbiT59T+91wVuExn3P+/hjsKFOPg/xCUY58JR+T/doWxyaV/6PyGNyrsgXPs/2qEI8tdB/D8bS3cqpwf9P7q+2YhXnP0/LgDJ8H3a/T++bXgGkHb9PzsbJWrRAPw/Bdf/BBFG+T8cwlxi1fH1P1LqQ4tKLvM//6mk3Cl88T9I9GCK3qHwP/AAK1qUQPA/O+qCiHIY8D9UWbH20gjwP4+7OYUKA/A/ynPrPgAB8D895sGLUADwPz9SkC0YAPA/Lm957gYA8D8hvPjlAQDwPwAAAAAAAPA/",
            "dtype": "f8"
           },
           "yaxis": "y"
          }
         ],
         "name": "104"
        },
        {
         "data": [
          {
           "hovertemplate": "variable=105<br>x=%{x}<br>value=%{y}<extra></extra>",
           "legendgroup": "",
           "line": {
            "color": "#636efa",
            "dash": "solid"
           },
           "marker": {
            "symbol": "circle"
           },
           "mode": "lines",
           "name": "",
           "orientation": "v",
           "showlegend": false,
           "type": "scatter",
           "x": {
            "bdata": "AAAAAAAAAAB7FK5H4XqkP3sUrkfherQ/uB6F61G4vj97FK5H4XrEP5qZmZmZmck/uB6F61G4zj/sUbgehevRP3sUrkfhetQ/CtejcD0K1z+amZmZmZnZPylcj8L1KNw/uB6F61G43j+kcD0K16PgP+xRuB6F6+E/MzMzMzMz4z97FK5H4XrkP8P1KFyPwuU/CtejcD0K5z9SuB6F61HoP5qZmZmZmek/4XoUrkfh6j8pXI/C9SjsP3E9CtejcO0/uB6F61G47j8AAAAAAADwP6RwPQrXo/A/SOF6FK5H8T/sUbgehevxP4/C9Shcj/I/MzMzMzMz8z/Xo3A9CtfzP3sUrkfhevQ/H4XrUbge9T/D9Shcj8L1P2dmZmZmZvY/CtejcD0K9z+uR+F6FK73P1K4HoXrUfg/9ihcj8L1+D+amZmZmZn5Pz4K16NwPfo/4XoUrkfh+j+F61G4HoX7Pylcj8L1KPw/zczMzMzM/D9xPQrXo3D9PxWuR+F6FP4/uB6F61G4/j9cj8L1KFz/PwAAAAAAAABA",
            "dtype": "f8"
           },
           "xaxis": "x",
           "y": {
            "bdata": "AAAAAAAA8D8AAAAAAADwPwAAAAAAAPA/AAAAAAAA8D8AAAAAAADwPwAAAAAAAPA/AAAAAAAA8D8AAAAAAADwPwAAAAAAAPA/AAAAAAAA8D8AAAAAAADwPwAAAAAAAPA/AAAAAAAA8D84B0LxNADwPwGPGPcSAvA/jGg5h1sK8D98bRM4fiLwP/Eekw7YVvA/Bz6pqiKy8D+PDIfmgznxPzhPcBLJ6/E/WuhQejXD8j/A6NB97LfzP+0b07m0wfQ//UsYANrY9T8dT3Lcb/b2P12fDtlCFPg/gj4Ng6ws+T9GzrmPXzr6Pwh3kLIdOPs/0s+7HQkg/D+G3Smmvun8P56fgSdphf0/PJO2FNTQ/T+QaAqr5YX9P+WyQCNUN/w/iiGWuwui+T9bKihWPVP2P/z12Yn5dPM/7r4y1bKj8T8GVWmFx7TwP5jHa5fQSPA/Rb57y88b8D8s06j6IArwP72XdvuFA/A//1eAxysB8D/pEU8wXwDwPxCNG+AcAPA/f6FmXggA8D/K11hRAgDwPwAAAAAAAPA/",
            "dtype": "f8"
           },
           "yaxis": "y"
          }
         ],
         "name": "105"
        },
        {
         "data": [
          {
           "hovertemplate": "variable=106<br>x=%{x}<br>value=%{y}<extra></extra>",
           "legendgroup": "",
           "line": {
            "color": "#636efa",
            "dash": "solid"
           },
           "marker": {
            "symbol": "circle"
           },
           "mode": "lines",
           "name": "",
           "orientation": "v",
           "showlegend": false,
           "type": "scatter",
           "x": {
            "bdata": "AAAAAAAAAAB7FK5H4XqkP3sUrkfherQ/uB6F61G4vj97FK5H4XrEP5qZmZmZmck/uB6F61G4zj/sUbgehevRP3sUrkfhetQ/CtejcD0K1z+amZmZmZnZPylcj8L1KNw/uB6F61G43j+kcD0K16PgP+xRuB6F6+E/MzMzMzMz4z97FK5H4XrkP8P1KFyPwuU/CtejcD0K5z9SuB6F61HoP5qZmZmZmek/4XoUrkfh6j8pXI/C9SjsP3E9CtejcO0/uB6F61G47j8AAAAAAADwP6RwPQrXo/A/SOF6FK5H8T/sUbgehevxP4/C9Shcj/I/MzMzMzMz8z/Xo3A9CtfzP3sUrkfhevQ/H4XrUbge9T/D9Shcj8L1P2dmZmZmZvY/CtejcD0K9z+uR+F6FK73P1K4HoXrUfg/9ihcj8L1+D+amZmZmZn5Pz4K16NwPfo/4XoUrkfh+j+F61G4HoX7Pylcj8L1KPw/zczMzMzM/D9xPQrXo3D9PxWuR+F6FP4/uB6F61G4/j9cj8L1KFz/PwAAAAAAAABA",
            "dtype": "f8"
           },
           "xaxis": "x",
           "y": {
            "bdata": "AAAAAAAA8D8AAAAAAADwPwAAAAAAAPA/AAAAAAAA8D8AAAAAAADwPwAAAAAAAPA/AAAAAAAA8D8AAAAAAADwPwAAAAAAAPA/AAAAAAAA8D8AAAAAAADwPwAAAAAAAPA/AAAAAAAA8D/AQsOHMADwP2G8HBzrAfA/O/AmXqoJ8D8uy/79diDwP/sG4o5jUvA/wgCrajKq8D/gv7C8Xi3xP8C1MVsl2/E/49p5Siiu8j+ol0egyp7zP/WayQ75pPQ/HjeHpRa59T9LIiMiSNT2P/0d/U9q8Pc/DGnALOgH+T9jy1r8hxX6P5JpS8wkFPs/3wKGFhD++z8HtlicXsv8Pwx/Red5bf0/+WYT5x3F/T9fY3NEa5H9P9lxWxt/aPw/QV/rm1T6+T8J2DActLX2P6I+rEJiv/M/Ux1ByXHO8T9yJ5xrkcnwP20k0Mf4UfA/L6VLYZYf8D+6f4klmwvwP0seGAUTBPA/9ccr+l0B8D+08E09cADwP+Z71GYiAPA/nUThEwoA8D/3ZW/SAgDwPwAAAAAAAPA/",
            "dtype": "f8"
           },
           "yaxis": "y"
          }
         ],
         "name": "106"
        },
        {
         "data": [
          {
           "hovertemplate": "variable=107<br>x=%{x}<br>value=%{y}<extra></extra>",
           "legendgroup": "",
           "line": {
            "color": "#636efa",
            "dash": "solid"
           },
           "marker": {
            "symbol": "circle"
           },
           "mode": "lines",
           "name": "",
           "orientation": "v",
           "showlegend": false,
           "type": "scatter",
           "x": {
            "bdata": "AAAAAAAAAAB7FK5H4XqkP3sUrkfherQ/uB6F61G4vj97FK5H4XrEP5qZmZmZmck/uB6F61G4zj/sUbgehevRP3sUrkfhetQ/CtejcD0K1z+amZmZmZnZPylcj8L1KNw/uB6F61G43j+kcD0K16PgP+xRuB6F6+E/MzMzMzMz4z97FK5H4XrkP8P1KFyPwuU/CtejcD0K5z9SuB6F61HoP5qZmZmZmek/4XoUrkfh6j8pXI/C9SjsP3E9CtejcO0/uB6F61G47j8AAAAAAADwP6RwPQrXo/A/SOF6FK5H8T/sUbgehevxP4/C9Shcj/I/MzMzMzMz8z/Xo3A9CtfzP3sUrkfhevQ/H4XrUbge9T/D9Shcj8L1P2dmZmZmZvY/CtejcD0K9z+uR+F6FK73P1K4HoXrUfg/9ihcj8L1+D+amZmZmZn5Pz4K16NwPfo/4XoUrkfh+j+F61G4HoX7Pylcj8L1KPw/zczMzMzM/D9xPQrXo3D9PxWuR+F6FP4/uB6F61G4/j9cj8L1KFz/PwAAAAAAAABA",
            "dtype": "f8"
           },
           "xaxis": "x",
           "y": {
            "bdata": "AAAAAAAA8D8AAAAAAADwPwAAAAAAAPA/AAAAAAAA8D8AAAAAAADwPwAAAAAAAPA/AAAAAAAA8D8AAAAAAADwPwAAAAAAAPA/AAAAAAAA8D8AAAAAAADwPwAAAAAAAPA/AAAAAAAA8D/uuGZ8LADwPxKO/jXGAfA/FS/PtAQJ8D9/6XDAjB7wP4IUjhYlTvA/WgB5V5Oi8D/3Z6Z7oiHxP+FZdxf8yvE/dHIanaCZ8j8Pnz+MM4bzP+VChUfIiPQ/MHb2O9mZ9T/fb30FnLL2PxLIcRr9zPc/zQnHRnjj+D/2GXfG5vD5P1JDlgg88Po/YNvhd/Xb+z+fM6RclKz8PzJmiVmhVP0/NEHaJ4e3/T8PW3hnYZn9P9kLgdBtlPw/tr2vqIJO+j+xRJ3tqBj3P4OGtelgDfQ/n/XZEYj88T85lzepYODwPyzeJzojXPA/K1AwidEj8D/wKLmfRg3wPyU/YduzBPA/BhYEwJcB8D8OEpYNhADwP02NbOMoAPA/ZCXMGgwA8D98/jhtAwDwPwAAAAAAAPA/",
            "dtype": "f8"
           },
           "yaxis": "y"
          }
         ],
         "name": "107"
        },
        {
         "data": [
          {
           "hovertemplate": "variable=108<br>x=%{x}<br>value=%{y}<extra></extra>",
           "legendgroup": "",
           "line": {
            "color": "#636efa",
            "dash": "solid"
           },
           "marker": {
            "symbol": "circle"
           },
           "mode": "lines",
           "name": "",
           "orientation": "v",
           "showlegend": false,
           "type": "scatter",
           "x": {
            "bdata": "AAAAAAAAAAB7FK5H4XqkP3sUrkfherQ/uB6F61G4vj97FK5H4XrEP5qZmZmZmck/uB6F61G4zj/sUbgehevRP3sUrkfhetQ/CtejcD0K1z+amZmZmZnZPylcj8L1KNw/uB6F61G43j+kcD0K16PgP+xRuB6F6+E/MzMzMzMz4z97FK5H4XrkP8P1KFyPwuU/CtejcD0K5z9SuB6F61HoP5qZmZmZmek/4XoUrkfh6j8pXI/C9SjsP3E9CtejcO0/uB6F61G47j8AAAAAAADwP6RwPQrXo/A/SOF6FK5H8T/sUbgehevxP4/C9Shcj/I/MzMzMzMz8z/Xo3A9CtfzP3sUrkfhevQ/H4XrUbge9T/D9Shcj8L1P2dmZmZmZvY/CtejcD0K9z+uR+F6FK73P1K4HoXrUfg/9ihcj8L1+D+amZmZmZn5Pz4K16NwPfo/4XoUrkfh+j+F61G4HoX7Pylcj8L1KPw/zczMzMzM/D9xPQrXo3D9PxWuR+F6FP4/uB6F61G4/j9cj8L1KFz/PwAAAAAAAABA",
            "dtype": "f8"
           },
           "xaxis": "x",
           "y": {
            "bdata": "AAAAAAAA8D8AAAAAAADwPwAAAAAAAPA/AAAAAAAA8D8AAAAAAADwPwAAAAAAAPA/AAAAAAAA8D8AAAAAAADwPwAAAAAAAPA/AAAAAAAA8D8AAAAAAADwPwAAAAAAAPA/AAAAAAAA8D/a2lPHKADwP5KfaA2kAfA/gWUi02kI8D8r1hj9vRzwPyMN91oaSvA/ncWTqUKb8D/55aY3TBbxP8lGtXNKu/E/08+b2JuF8j/7iNr7JG7zP0lwQ5IgbfQ/CdnCkiB79T+O2FQwa5H2P8pt3/37qfc/Jv7S816/+D+8sYmqf8z5P2SpjgJpzPo/3c5ZV8G5+z9udGZWbI38P0bhblD1Ov0/OvQJlDio/T/YbpIwB579PwQn37xFu/w/BGidyT2e+j/MJVXmhXv3P3aBVgzEXvQ/atBc2BIu8j93APiuWvnwPw6mcc5nZ/A/Ol5KhI0o8D8r9ooXKQ/wP0Kf1PZqBfA/od87HtoB8D8729wHmwDwP3fCWHwwAPA/8VPbgA4A8D+1vlomBADwPwAAAAAAAPA/",
            "dtype": "f8"
           },
           "yaxis": "y"
          }
         ],
         "name": "108"
        },
        {
         "data": [
          {
           "hovertemplate": "variable=109<br>x=%{x}<br>value=%{y}<extra></extra>",
           "legendgroup": "",
           "line": {
            "color": "#636efa",
            "dash": "solid"
           },
           "marker": {
            "symbol": "circle"
           },
           "mode": "lines",
           "name": "",
           "orientation": "v",
           "showlegend": false,
           "type": "scatter",
           "x": {
            "bdata": "AAAAAAAAAAB7FK5H4XqkP3sUrkfherQ/uB6F61G4vj97FK5H4XrEP5qZmZmZmck/uB6F61G4zj/sUbgehevRP3sUrkfhetQ/CtejcD0K1z+amZmZmZnZPylcj8L1KNw/uB6F61G43j+kcD0K16PgP+xRuB6F6+E/MzMzMzMz4z97FK5H4XrkP8P1KFyPwuU/CtejcD0K5z9SuB6F61HoP5qZmZmZmek/4XoUrkfh6j8pXI/C9SjsP3E9CtejcO0/uB6F61G47j8AAAAAAADwP6RwPQrXo/A/SOF6FK5H8T/sUbgehevxP4/C9Shcj/I/MzMzMzMz8z/Xo3A9CtfzP3sUrkfhevQ/H4XrUbge9T/D9Shcj8L1P2dmZmZmZvY/CtejcD0K9z+uR+F6FK73P1K4HoXrUfg/9ihcj8L1+D+amZmZmZn5Pz4K16NwPfo/4XoUrkfh+j+F61G4HoX7Pylcj8L1KPw/zczMzMzM/D9xPQrXo3D9PxWuR+F6FP4/uB6F61G4/j9cj8L1KFz/PwAAAAAAAABA",
            "dtype": "f8"
           },
           "xaxis": "x",
           "y": {
            "bdata": "AAAAAAAA8D8AAAAAAADwPwAAAAAAAPA/AAAAAAAA8D8AAAAAAADwPwAAAAAAAPA/AAAAAAAA8D8AAAAAAADwPwAAAAAAAPA/AAAAAAAA8D8AAAAAAADwPwAAAAAAAPA/AAAAAAAA8D8WillhJQDwPw52/m6EAfA/6mcEDNkH8D+riOBDCRvwPzRbpiZBRvA/wrb5rD2U8D9T0CIVWQvxP1jCdqkNrPE/vVg2bRdy8j/UulaunFbzP12dLRsAUvQ/3jXmbOtc9T89JpAytXD2P+1LkJVnh/c//dXJGp6b+D8RbLQXVqj5PzFzafWwqPo/kxlQS3uX+z9T3zEo8m38P0eX5gCKIP0/cdhwBViX/T/Dt560mZ/9P/w7hXQ03fw/zyM1bz/p+j+7GdcFs933P+HYLCpMs/Q/xcpjASpj8j+aaRCjpRTxP8GDsPvfc/A/RQlGptct8D/CTI3MSBHwP7PTRBU7BvA/u8AWOSYC8D+5FhGgtQDwPxRXaV05APA/oQPTVREA8D9uBDsDBQDwPwAAAAAAAPA/",
            "dtype": "f8"
           },
           "yaxis": "y"
          }
         ],
         "name": "109"
        },
        {
         "data": [
          {
           "hovertemplate": "variable=110<br>x=%{x}<br>value=%{y}<extra></extra>",
           "legendgroup": "",
           "line": {
            "color": "#636efa",
            "dash": "solid"
           },
           "marker": {
            "symbol": "circle"
           },
           "mode": "lines",
           "name": "",
           "orientation": "v",
           "showlegend": false,
           "type": "scatter",
           "x": {
            "bdata": "AAAAAAAAAAB7FK5H4XqkP3sUrkfherQ/uB6F61G4vj97FK5H4XrEP5qZmZmZmck/uB6F61G4zj/sUbgehevRP3sUrkfhetQ/CtejcD0K1z+amZmZmZnZPylcj8L1KNw/uB6F61G43j+kcD0K16PgP+xRuB6F6+E/MzMzMzMz4z97FK5H4XrkP8P1KFyPwuU/CtejcD0K5z9SuB6F61HoP5qZmZmZmek/4XoUrkfh6j8pXI/C9SjsP3E9CtejcO0/uB6F61G47j8AAAAAAADwP6RwPQrXo/A/SOF6FK5H8T/sUbgehevxP4/C9Shcj/I/MzMzMzMz8z/Xo3A9CtfzP3sUrkfhevQ/H4XrUbge9T/D9Shcj8L1P2dmZmZmZvY/CtejcD0K9z+uR+F6FK73P1K4HoXrUfg/9ihcj8L1+D+amZmZmZn5Pz4K16NwPfo/4XoUrkfh+j+F61G4HoX7Pylcj8L1KPw/zczMzMzM/D9xPQrXo3D9PxWuR+F6FP4/uB6F61G4/j9cj8L1KFz/PwAAAAAAAABA",
            "dtype": "f8"
           },
           "xaxis": "x",
           "y": {
            "bdata": "AAAAAAAA8D8AAAAAAADwPwAAAAAAAPA/AAAAAAAA8D8AAAAAAADwPwAAAAAAAPA/AAAAAAAA8D8AAAAAAADwPwAAAAAAAPA/AAAAAAAA8D8AAAAAAADwPwAAAAAAAPA/AAAAAAAA8D8zIuBDIgDwP+ArFStnAfA/TtOwvFEH8D/Eny42bRnwP5c9tliXQvA/4hG+wIGN8D/UDmpIxgDxP1JhIP9CnfE/1lfm1BBf8j8M62NomD/zP58pPQ1lN/Q/TsiUgjg/9T+g3ZuEeVD2P/o061VAZfc/PLCrajd4+D/B/PQzbYT5P9pP8cAYhfo/GCducSp1+z/GgAOuME78P3aIfiJyBf0/7pnulgiF/T+2Rn2WU579P8wgMNpt+vw/Db4dpVIv+z9p7vBOmT74P3AabqqrCvU/9W1fCN+b8j9Beh//ZzLxP5wT6dCmgfA/1egAZr4z8D+ZTIGbrBPwP9ZdX0AnB/A/YToiV30C8D9w6NhY1ADwP0vHcbhDAPA/e9LNqxQA8D+5Vh0KBgDwPwAAAAAAAPA/",
            "dtype": "f8"
           },
           "yaxis": "y"
          }
         ],
         "name": "110"
        },
        {
         "data": [
          {
           "hovertemplate": "variable=111<br>x=%{x}<br>value=%{y}<extra></extra>",
           "legendgroup": "",
           "line": {
            "color": "#636efa",
            "dash": "solid"
           },
           "marker": {
            "symbol": "circle"
           },
           "mode": "lines",
           "name": "",
           "orientation": "v",
           "showlegend": false,
           "type": "scatter",
           "x": {
            "bdata": "AAAAAAAAAAB7FK5H4XqkP3sUrkfherQ/uB6F61G4vj97FK5H4XrEP5qZmZmZmck/uB6F61G4zj/sUbgehevRP3sUrkfhetQ/CtejcD0K1z+amZmZmZnZPylcj8L1KNw/uB6F61G43j+kcD0K16PgP+xRuB6F6+E/MzMzMzMz4z97FK5H4XrkP8P1KFyPwuU/CtejcD0K5z9SuB6F61HoP5qZmZmZmek/4XoUrkfh6j8pXI/C9SjsP3E9CtejcO0/uB6F61G47j8AAAAAAADwP6RwPQrXo/A/SOF6FK5H8T/sUbgehevxP4/C9Shcj/I/MzMzMzMz8z/Xo3A9CtfzP3sUrkfhevQ/H4XrUbge9T/D9Shcj8L1P2dmZmZmZvY/CtejcD0K9z+uR+F6FK73P1K4HoXrUfg/9ihcj8L1+D+amZmZmZn5Pz4K16NwPfo/4XoUrkfh+j+F61G4HoX7Pylcj8L1KPw/zczMzMzM/D9xPQrXo3D9PxWuR+F6FP4/uB6F61G4/j9cj8L1KFz/PwAAAAAAAABA",
            "dtype": "f8"
           },
           "xaxis": "x",
           "y": {
            "bdata": "AAAAAAAA8D8AAAAAAADwPwAAAAAAAPA/AAAAAAAA8D8AAAAAAADwPwAAAAAAAPA/AAAAAAAA8D8AAAAAAADwPwAAAAAAAPA/AAAAAAAA8D8AAAAAAADwPwAAAAAAAPA/AAAAAAAA8D+NrNxoHwDwPzD3cBVMAfA/HhsnTNMG8D/rRy6G6BfwP/I+POQaP/A/UP2iVgyH8D8mr1wVkfbwP8OwssfnjvE/g0pbk4VM8j86sGn0FSnzP7KSBpNNHfQ/sUG2ggYi9T9v2K2JtzD2P5gihI+GQ/c/TMhJXixV+D9HnDjgx2D5PwzG7O2kYfo/AVrDdNVS+z9EhkkOMi78Pz4h7Qy/6fw/YXNqy2px/T/3gn68bJr9P0eSjnYqE/0/8MLboFNw+z9bM+7jpZ34Pzpy5DmHZPU/8Hbk0jvY8j/OCmUZyFLxP4QAIPDYkPA/XgrobVE68D/xjPgKXBbwP3zNuNQyCPA/T9K35OAC8D+0DDXF9wDwP6G3AsZPAPA/ojeLlxgA8D/c1kFCBwDwPwAAAAAAAPA/",
            "dtype": "f8"
           },
           "yaxis": "y"
          }
         ],
         "name": "111"
        },
        {
         "data": [
          {
           "hovertemplate": "variable=112<br>x=%{x}<br>value=%{y}<extra></extra>",
           "legendgroup": "",
           "line": {
            "color": "#636efa",
            "dash": "solid"
           },
           "marker": {
            "symbol": "circle"
           },
           "mode": "lines",
           "name": "",
           "orientation": "v",
           "showlegend": false,
           "type": "scatter",
           "x": {
            "bdata": "AAAAAAAAAAB7FK5H4XqkP3sUrkfherQ/uB6F61G4vj97FK5H4XrEP5qZmZmZmck/uB6F61G4zj/sUbgehevRP3sUrkfhetQ/CtejcD0K1z+amZmZmZnZPylcj8L1KNw/uB6F61G43j+kcD0K16PgP+xRuB6F6+E/MzMzMzMz4z97FK5H4XrkP8P1KFyPwuU/CtejcD0K5z9SuB6F61HoP5qZmZmZmek/4XoUrkfh6j8pXI/C9SjsP3E9CtejcO0/uB6F61G47j8AAAAAAADwP6RwPQrXo/A/SOF6FK5H8T/sUbgehevxP4/C9Shcj/I/MzMzMzMz8z/Xo3A9CtfzP3sUrkfhevQ/H4XrUbge9T/D9Shcj8L1P2dmZmZmZvY/CtejcD0K9z+uR+F6FK73P1K4HoXrUfg/9ihcj8L1+D+amZmZmZn5Pz4K16NwPfo/4XoUrkfh+j+F61G4HoX7Pylcj8L1KPw/zczMzMzM/D9xPQrXo3D9PxWuR+F6FP4/uB6F61G4/j9cj8L1KFz/PwAAAAAAAABA",
            "dtype": "f8"
           },
           "xaxis": "x",
           "y": {
            "bdata": "AAAAAAAA8D8AAAAAAADwPwAAAAAAAPA/AAAAAAAA8D8AAAAAAADwPwAAAAAAAPA/AAAAAAAA8D8AAAAAAADwPwAAAAAAAPA/AAAAAAAA8D8AAAAAAADwPwAAAAAAAPA/AAAAAAAA8D9rJcXKHADwP046BwUzAfA//hieKl0G8D/xJB32eRbwP0TOts/JO/A/gW+28tqA8D8F2h7PtuzwP9DCjWL5gPE/+7PiNXM68j+Uo8EiExPzPzBKbte3A/Q/6FE9FFQF9T/h5dyRbhH2P4uH+nE6Ivc/sifNP34y+D+ZL0y8aD35PwoAabJZPvo/lb6Zk4Iw+z+ZZ9vF/w38PwIJZtOAzfw/lDAatpxc/T9TGaIgGpT9Py3Al/mlJ/0/i6z+3y6s+z898a78TPr4P4JtmJl2wPU/caeehEEY8z9iRcqX63XxP4b5DoKUofA/OWi5q6FB8D+SJZJYXxnwP1whYIlhCfA/+6rNd1ID8D/DekyKIAHwP/pgN8ZdAPA//+jGMB0A8D8EnAi0CADwPwAAAAAAAPA/",
            "dtype": "f8"
           },
           "yaxis": "y"
          }
         ],
         "name": "112"
        },
        {
         "data": [
          {
           "hovertemplate": "variable=113<br>x=%{x}<br>value=%{y}<extra></extra>",
           "legendgroup": "",
           "line": {
            "color": "#636efa",
            "dash": "solid"
           },
           "marker": {
            "symbol": "circle"
           },
           "mode": "lines",
           "name": "",
           "orientation": "v",
           "showlegend": false,
           "type": "scatter",
           "x": {
            "bdata": "AAAAAAAAAAB7FK5H4XqkP3sUrkfherQ/uB6F61G4vj97FK5H4XrEP5qZmZmZmck/uB6F61G4zj/sUbgehevRP3sUrkfhetQ/CtejcD0K1z+amZmZmZnZPylcj8L1KNw/uB6F61G43j+kcD0K16PgP+xRuB6F6+E/MzMzMzMz4z97FK5H4XrkP8P1KFyPwuU/CtejcD0K5z9SuB6F61HoP5qZmZmZmek/4XoUrkfh6j8pXI/C9SjsP3E9CtejcO0/uB6F61G47j8AAAAAAADwP6RwPQrXo/A/SOF6FK5H8T/sUbgehevxP4/C9Shcj/I/MzMzMzMz8z/Xo3A9CtfzP3sUrkfhevQ/H4XrUbge9T/D9Shcj8L1P2dmZmZmZvY/CtejcD0K9z+uR+F6FK73P1K4HoXrUfg/9ihcj8L1+D+amZmZmZn5Pz4K16NwPfo/4XoUrkfh+j+F61G4HoX7Pylcj8L1KPw/zczMzMzM/D9xPQrXo3D9PxWuR+F6FP4/uB6F61G4/j9cj8L1KFz/PwAAAAAAAABA",
            "dtype": "f8"
           },
           "xaxis": "x",
           "y": {
            "bdata": "AAAAAAAA8D8AAAAAAADwPwAAAAAAAPA/AAAAAAAA8D8AAAAAAADwPwAAAAAAAPA/AAAAAAAA8D8AAAAAAADwPwAAAAAAAPA/AAAAAAAA8D8AAAAAAADwPwAAAAAAAPA/AAAAAAAA8D+ou4VkGgDwP3XRxNMbAfA/Csr+0O4F8D8jG59XIBXwP4bXfTSiOPA/WrPxKut68D+Azc/XNOPwP0fgNTt1c/E/1jVPU9co8j89bubJjf3yP0MnSQai6vM/2j9g1x/p9D8HTQ/cnfL1P0jDpw5cAfc/7EEOLC4Q+D9DT6cqUhr5P4Us5/U6G/o/6xUGpTcO+z8zkv6you37P9R4zl3GsPw/y6AGI7pG/T+QtPu2jYv9P6ZhK+odOP0/5rJD7N/i+z+Ej4OWDFT5PyFj8uAFHvY/mSLHXudb8z+mScXL9pvxP9hvIiH5s/A/9TVBX8FJ8D9sosuGvxzwPy0D/3e3CvA/zQcb1NMD8D/Mt2NhTwHwPy1DmAFuAPA/+RmakiIA8D+BZRlpCgDwPwAAAAAAAPA/",
            "dtype": "f8"
           },
           "yaxis": "y"
          }
         ],
         "name": "113"
        },
        {
         "data": [
          {
           "hovertemplate": "variable=114<br>x=%{x}<br>value=%{y}<extra></extra>",
           "legendgroup": "",
           "line": {
            "color": "#636efa",
            "dash": "solid"
           },
           "marker": {
            "symbol": "circle"
           },
           "mode": "lines",
           "name": "",
           "orientation": "v",
           "showlegend": false,
           "type": "scatter",
           "x": {
            "bdata": "AAAAAAAAAAB7FK5H4XqkP3sUrkfherQ/uB6F61G4vj97FK5H4XrEP5qZmZmZmck/uB6F61G4zj/sUbgehevRP3sUrkfhetQ/CtejcD0K1z+amZmZmZnZPylcj8L1KNw/uB6F61G43j+kcD0K16PgP+xRuB6F6+E/MzMzMzMz4z97FK5H4XrkP8P1KFyPwuU/CtejcD0K5z9SuB6F61HoP5qZmZmZmek/4XoUrkfh6j8pXI/C9SjsP3E9CtejcO0/uB6F61G47j8AAAAAAADwP6RwPQrXo/A/SOF6FK5H8T/sUbgehevxP4/C9Shcj/I/MzMzMzMz8z/Xo3A9CtfzP3sUrkfhevQ/H4XrUbge9T/D9Shcj8L1P2dmZmZmZvY/CtejcD0K9z+uR+F6FK73P1K4HoXrUfg/9ihcj8L1+D+amZmZmZn5Pz4K16NwPfo/4XoUrkfh+j+F61G4HoX7Pylcj8L1KPw/zczMzMzM/D9xPQrXo3D9PxWuR+F6FP4/uB6F61G4/j9cj8L1KFz/PwAAAAAAAABA",
            "dtype": "f8"
           },
           "xaxis": "x",
           "y": {
            "bdata": "AAAAAAAA8D8AAAAAAADwPwAAAAAAAPA/AAAAAAAA8D8AAAAAAADwPwAAAAAAAPA/AAAAAAAA8D8AAAAAAADwPwAAAAAAAPA/AAAAAAAA8D8AAAAAAADwPwAAAAAAAPA/AAAAAAAA8D/s9XYxGADwP2VWWF4GAfA/R+hlwIcF8D9g1ReL2hPwP2Q/Nj6iNfA/B1Hbpjp18D81vUOgCNrwP6SUGclYZvE/ppnci68X8j+g+ZjGg+jyP2RJ6kwK0vM/Cvu0ZmjN9D+R6cKXRNT1P6UZIFvr4PY/lIO+FT3u9z/xEhFUhvf4P8yValVM+Pk/Kb03Hvrr+j9mxY8fI837P1jJ7H+dk/w/8mb9vtwv/T8Kmv5l9oD9P6U7YYXQRP0/RbqV3W8U/D8CTmfCbqr5P+D79y+3fPY/ZGGytxmj8z8AxMf2C8XxP1LEMronyPA/TXCWJ8RS8D+NGVVrhiDwP9LIiyU5DPA/E16W72YE8D+CXQMahQHwP/sCFcqAAPA//ofn2ygA8D9EGZBsDADwPwAAAAAAAPA/",
            "dtype": "f8"
           },
           "yaxis": "y"
          }
         ],
         "name": "114"
        },
        {
         "data": [
          {
           "hovertemplate": "variable=115<br>x=%{x}<br>value=%{y}<extra></extra>",
           "legendgroup": "",
           "line": {
            "color": "#636efa",
            "dash": "solid"
           },
           "marker": {
            "symbol": "circle"
           },
           "mode": "lines",
           "name": "",
           "orientation": "v",
           "showlegend": false,
           "type": "scatter",
           "x": {
            "bdata": "AAAAAAAAAAB7FK5H4XqkP3sUrkfherQ/uB6F61G4vj97FK5H4XrEP5qZmZmZmck/uB6F61G4zj/sUbgehevRP3sUrkfhetQ/CtejcD0K1z+amZmZmZnZPylcj8L1KNw/uB6F61G43j+kcD0K16PgP+xRuB6F6+E/MzMzMzMz4z97FK5H4XrkP8P1KFyPwuU/CtejcD0K5z9SuB6F61HoP5qZmZmZmek/4XoUrkfh6j8pXI/C9SjsP3E9CtejcO0/uB6F61G47j8AAAAAAADwP6RwPQrXo/A/SOF6FK5H8T/sUbgehevxP4/C9Shcj/I/MzMzMzMz8z/Xo3A9CtfzP3sUrkfhevQ/H4XrUbge9T/D9Shcj8L1P2dmZmZmZvY/CtejcD0K9z+uR+F6FK73P1K4HoXrUfg/9ihcj8L1+D+amZmZmZn5Pz4K16NwPfo/4XoUrkfh+j+F61G4HoX7Pylcj8L1KPw/zczMzMzM/D9xPQrXo3D9PxWuR+F6FP4/uB6F61G4/j9cj8L1KFz/PwAAAAAAAABA",
            "dtype": "f8"
           },
           "xaxis": "x",
           "y": {
            "bdata": "AAAAAAAA8D8AAAAAAADwPwAAAAAAAPA/AAAAAAAA8D8AAAAAAADwPwAAAAAAAPA/AAAAAAAA8D8AAAAAAADwPwAAAAAAAPA/AAAAAAAA8D8AAAAAAADwPwAAAAAAAPA/AAAAAAAA8D9ZqlQtFgDwP74WAITyAPA/txGsgScF8D/R5gl/pxLwPwApSCrIMvA/8iYrH8dv8D+ydsCnL9HwP/g/WY+hWfE/ZmQRifkG8j9b3vz78tPyP1wboNruufM/jOQyWCyy9D8JeLHmYbb1P1iMiDPowPY/DxNlyKvM9z8D+R0rB9X4PxLpZSeR1fk/CziMF8/J+j9yzWbKiKz7P7N3sg4Tdvw/WI9XPhwY/T/Yd+wMgHT9P6sJtsz7Tf0/S7V2sfNA/D9qysN8C/35PwE+rMcE3PY/YZtYGLnt8z+5DMN3SvHxP3LmUWFC3vA/RZlCDr9c8D+7F9G9viTwP4UqkYvrDfA/4LVS9w0F8D87jlGcwgHwP3Z8F3yWAPA/6F3TLzAA8D/dji7LDgDwPwAAAAAAAPA/",
            "dtype": "f8"
           },
           "yaxis": "y"
          }
         ],
         "name": "115"
        },
        {
         "data": [
          {
           "hovertemplate": "variable=116<br>x=%{x}<br>value=%{y}<extra></extra>",
           "legendgroup": "",
           "line": {
            "color": "#636efa",
            "dash": "solid"
           },
           "marker": {
            "symbol": "circle"
           },
           "mode": "lines",
           "name": "",
           "orientation": "v",
           "showlegend": false,
           "type": "scatter",
           "x": {
            "bdata": "AAAAAAAAAAB7FK5H4XqkP3sUrkfherQ/uB6F61G4vj97FK5H4XrEP5qZmZmZmck/uB6F61G4zj/sUbgehevRP3sUrkfhetQ/CtejcD0K1z+amZmZmZnZPylcj8L1KNw/uB6F61G43j+kcD0K16PgP+xRuB6F6+E/MzMzMzMz4z97FK5H4XrkP8P1KFyPwuU/CtejcD0K5z9SuB6F61HoP5qZmZmZmek/4XoUrkfh6j8pXI/C9SjsP3E9CtejcO0/uB6F61G47j8AAAAAAADwP6RwPQrXo/A/SOF6FK5H8T/sUbgehevxP4/C9Shcj/I/MzMzMzMz8z/Xo3A9CtfzP3sUrkfhevQ/H4XrUbge9T/D9Shcj8L1P2dmZmZmZvY/CtejcD0K9z+uR+F6FK73P1K4HoXrUfg/9ihcj8L1+D+amZmZmZn5Pz4K16NwPfo/4XoUrkfh+j+F61G4HoX7Pylcj8L1KPw/zczMzMzM/D9xPQrXo3D9PxWuR+F6FP4/uB6F61G4/j9cj8L1KFz/PwAAAAAAAABA",
            "dtype": "f8"
           },
           "xaxis": "x",
           "y": {
            "bdata": "AAAAAAAA8D8AAAAAAADwPwAAAAAAAPA/AAAAAAAA8D8AAAAAAADwPwAAAAAAAPA/AAAAAAAA8D8AAAAAAADwPwAAAAAAAPA/AAAAAAAA8D8AAAAAAADwPwAAAAAAAPA/AAAAAAAA8D8OtzVUFADwP1J+WybgAPA/bDH0pM0E8D/dZ3svhhHwP1fwV0cSMPA/3YFwXY5q8D8vprx7p8jwP9xQkBxNTfE/kHue/bL28T89E61T2b/yP00CIuFNovM/v2QcPmqX9D9Cg1Pe9Jj1PzPqw1xSofY/Aiow63qr9z97pIZv1rL4P598hn8Ms/k/NY9pUbun+j+A9gfw2ov7P9yuwfMyWPw//mEpgo7//D+uEyOVU2b9P3OioMDcU/0/q52ajYpo/D9vqqIBikv6P7vzDHhjO/c/XbNujpk79D8M+F7jzSDyP5Uh9hhs9vA/fpmmj8hn8D9gT+EmdCnwP/FQDiLUD/A/zDLCVMsF8D8eSKLrCALwPxg5sn+vAPA/AA1ItjgA8D/LMpSTEQDwPwAAAAAAAPA/",
            "dtype": "f8"
           },
           "yaxis": "y"
          }
         ],
         "name": "116"
        },
        {
         "data": [
          {
           "hovertemplate": "variable=117<br>x=%{x}<br>value=%{y}<extra></extra>",
           "legendgroup": "",
           "line": {
            "color": "#636efa",
            "dash": "solid"
           },
           "marker": {
            "symbol": "circle"
           },
           "mode": "lines",
           "name": "",
           "orientation": "v",
           "showlegend": false,
           "type": "scatter",
           "x": {
            "bdata": "AAAAAAAAAAB7FK5H4XqkP3sUrkfherQ/uB6F61G4vj97FK5H4XrEP5qZmZmZmck/uB6F61G4zj/sUbgehevRP3sUrkfhetQ/CtejcD0K1z+amZmZmZnZPylcj8L1KNw/uB6F61G43j+kcD0K16PgP+xRuB6F6+E/MzMzMzMz4z97FK5H4XrkP8P1KFyPwuU/CtejcD0K5z9SuB6F61HoP5qZmZmZmek/4XoUrkfh6j8pXI/C9SjsP3E9CtejcO0/uB6F61G47j8AAAAAAADwP6RwPQrXo/A/SOF6FK5H8T/sUbgehevxP4/C9Shcj/I/MzMzMzMz8z/Xo3A9CtfzP3sUrkfhevQ/H4XrUbge9T/D9Shcj8L1P2dmZmZmZvY/CtejcD0K9z+uR+F6FK73P1K4HoXrUfg/9ihcj8L1+D+amZmZmZn5Pz4K16NwPfo/4XoUrkfh+j+F61G4HoX7Pylcj8L1KPw/zczMzMzM/D9xPQrXo3D9PxWuR+F6FP4/uB6F61G4/j9cj8L1KFz/PwAAAAAAAABA",
            "dtype": "f8"
           },
           "xaxis": "x",
           "y": {
            "bdata": "AAAAAAAA8D8AAAAAAADwPwAAAAAAAPA/AAAAAAAA8D8AAAAAAADwPwAAAAAAAPA/AAAAAAAA8D8AAAAAAADwPwAAAAAAAPA/AAAAAAAA8D8AAAAAAADwPwAAAAAAAPA/AAAAAAAA8D9ya4SiEgDwP366PynPAPA/oOE/wXkE8D+o7l+ldRDwPyLHwfR+LfA/yga6O45l8D9HlqG3bcDwP4FAoApZQfE/P1Q9pdnm8T8Dxsm9NKzyP+Mj8JQli/M/1jzSpyB99D+0QUSJ/Hv1P0NaeYYpgvY/uI2cA6uK9z/of1ex9ZD4P2a0XDLBkPk/0jviOMOF+j+MbbRSIGv7P1rgTz8IOvw/bfWTu0fm/D+c7YALl1b9P7iN/cOuVv0/KsS3AFyL/D+DQFWYoZX6P4yrSE1Fmvc/NXKJQYKM9D/XzMkJrVPyPwcByInIEPE/GaDSn/hz8D8qvldPsy7wP94s8On4EfA/r59js6EG8D8uwEIpWQLwPyGh7EnMAPA/h1GJnEIA8D8hGnzWFADwPwAAAAAAAPA/",
            "dtype": "f8"
           },
           "yaxis": "y"
          }
         ],
         "name": "117"
        },
        {
         "data": [
          {
           "hovertemplate": "variable=118<br>x=%{x}<br>value=%{y}<extra></extra>",
           "legendgroup": "",
           "line": {
            "color": "#636efa",
            "dash": "solid"
           },
           "marker": {
            "symbol": "circle"
           },
           "mode": "lines",
           "name": "",
           "orientation": "v",
           "showlegend": false,
           "type": "scatter",
           "x": {
            "bdata": "AAAAAAAAAAB7FK5H4XqkP3sUrkfherQ/uB6F61G4vj97FK5H4XrEP5qZmZmZmck/uB6F61G4zj/sUbgehevRP3sUrkfhetQ/CtejcD0K1z+amZmZmZnZPylcj8L1KNw/uB6F61G43j+kcD0K16PgP+xRuB6F6+E/MzMzMzMz4z97FK5H4XrkP8P1KFyPwuU/CtejcD0K5z9SuB6F61HoP5qZmZmZmek/4XoUrkfh6j8pXI/C9SjsP3E9CtejcO0/uB6F61G47j8AAAAAAADwP6RwPQrXo/A/SOF6FK5H8T/sUbgehevxP4/C9Shcj/I/MzMzMzMz8z/Xo3A9CtfzP3sUrkfhevQ/H4XrUbge9T/D9Shcj8L1P2dmZmZmZvY/CtejcD0K9z+uR+F6FK73P1K4HoXrUfg/9ihcj8L1+D+amZmZmZn5Pz4K16NwPfo/4XoUrkfh+j+F61G4HoX7Pylcj8L1KPw/zczMzMzM/D9xPQrXo3D9PxWuR+F6FP4/uB6F61G4/j9cj8L1KFz/PwAAAAAAAABA",
            "dtype": "f8"
           },
           "xaxis": "x",
           "y": {
            "bdata": "AAAAAAAA8D8AAAAAAADwPwAAAAAAAPA/AAAAAAAA8D8AAAAAAADwPwAAAAAAAPA/AAAAAAAA8D8AAAAAAADwPwAAAAAAAPA/AAAAAAAA8D8AAAAAAADwPwAAAAAAAPA/AAAAAAAA8D97k/cUEQDwP3pfj3K/APA/iYAJdCsE8D8YxAf2dA/wP+7kF6IMK/A/u0Q/pMRg8D9ERI8EgLjwP45jff7CNfE/3xaNRGvX8T/PMQAxA5nyP+CQpi10dPM/Nl+SIk5j9D9mj4jod1/1P1KY9kxtY/Y/ccL0dzxq9z9cm/lTZm/4P3fv4Nixbvk/FP0k7Opj+j961OhBX0r7P/OBhjidG/w/m2kNjVrM/D9/kI2/bUX9P6QrFSSrVv0/QRA1UZap/D+sUGfZGdv6Pw/PKmEc+Pc/ktasWC3g9D9JUYLu+InyP/aPaKl7LfE/jPXoqmiB8D+kLVnviTTwP+7hInhgFPA/xsTgBpQH8D8oJISXtALwP9FpL17tAPA/WLHWFU4A8D/YKwKnGADwPwAAAAAAAPA/",
            "dtype": "f8"
           },
           "yaxis": "y"
          }
         ],
         "name": "118"
        },
        {
         "data": [
          {
           "hovertemplate": "variable=119<br>x=%{x}<br>value=%{y}<extra></extra>",
           "legendgroup": "",
           "line": {
            "color": "#636efa",
            "dash": "solid"
           },
           "marker": {
            "symbol": "circle"
           },
           "mode": "lines",
           "name": "",
           "orientation": "v",
           "showlegend": false,
           "type": "scatter",
           "x": {
            "bdata": "AAAAAAAAAAB7FK5H4XqkP3sUrkfherQ/uB6F61G4vj97FK5H4XrEP5qZmZmZmck/uB6F61G4zj/sUbgehevRP3sUrkfhetQ/CtejcD0K1z+amZmZmZnZPylcj8L1KNw/uB6F61G43j+kcD0K16PgP+xRuB6F6+E/MzMzMzMz4z97FK5H4XrkP8P1KFyPwuU/CtejcD0K5z9SuB6F61HoP5qZmZmZmek/4XoUrkfh6j8pXI/C9SjsP3E9CtejcO0/uB6F61G47j8AAAAAAADwP6RwPQrXo/A/SOF6FK5H8T/sUbgehevxP4/C9Shcj/I/MzMzMzMz8z/Xo3A9CtfzP3sUrkfhevQ/H4XrUbge9T/D9Shcj8L1P2dmZmZmZvY/CtejcD0K9z+uR+F6FK73P1K4HoXrUfg/9ihcj8L1+D+amZmZmZn5Pz4K16NwPfo/4XoUrkfh+j+F61G4HoX7Pylcj8L1KPw/zczMzMzM/D9xPQrXo3D9PxWuR+F6FP4/uB6F61G4/j9cj8L1KFz/PwAAAAAAAABA",
            "dtype": "f8"
           },
           "xaxis": "x",
           "y": {
            "bdata": "AAAAAAAA8D8AAAAAAADwPwAAAAAAAPA/AAAAAAAA8D8AAAAAAADwPwAAAAAAAPA/AAAAAAAA8D8AAAAAAADwPwAAAAAAAPA/AAAAAAAA8D8AAAAAAADwPwAAAAAAAPA/AAAAAAAA8D94F4yoDwDwPwDcFOqwAPA/JrTjYOID8D/CNpRCgw7wP8E9o865KPA//McLkS9c8D8QoiIZ3LDwPxyc/aeIKvE/UBXvqGXI8T+QM42qQobyP3UFReY3XvM/8vcjOvFJ9D/LD7v0ZUP1PzMF8DodRfY/N6SpkS9K9z/xVhWRKU74P2qt1NPgTPk/mqy6PjZC+j8XkFehnSn7P37lgWz7/Ps/JayKKdix/D8yXnxm+DL9PzATs8AIVP0/NYDL5WzD/D9vtod4yhv7P8Ol3bJdVPg/3k94O0g29T/q3hy4u8PyP24brE6pTPE/RbYEkDOQ8D9eYTHdBjvwP0NZNwESF/A/nx+jkaUI8D/8VQqdHAPwPxfu008TAfA/j90eXFsA8D9NE/AaHQDwPwAAAAAAAPA/",
            "dtype": "f8"
           },
           "yaxis": "y"
          }
         ],
         "name": "119"
        },
        {
         "data": [
          {
           "hovertemplate": "variable=120<br>x=%{x}<br>value=%{y}<extra></extra>",
           "legendgroup": "",
           "line": {
            "color": "#636efa",
            "dash": "solid"
           },
           "marker": {
            "symbol": "circle"
           },
           "mode": "lines",
           "name": "",
           "orientation": "v",
           "showlegend": false,
           "type": "scatter",
           "x": {
            "bdata": "AAAAAAAAAAB7FK5H4XqkP3sUrkfherQ/uB6F61G4vj97FK5H4XrEP5qZmZmZmck/uB6F61G4zj/sUbgehevRP3sUrkfhetQ/CtejcD0K1z+amZmZmZnZPylcj8L1KNw/uB6F61G43j+kcD0K16PgP+xRuB6F6+E/MzMzMzMz4z97FK5H4XrkP8P1KFyPwuU/CtejcD0K5z9SuB6F61HoP5qZmZmZmek/4XoUrkfh6j8pXI/C9SjsP3E9CtejcO0/uB6F61G47j8AAAAAAADwP6RwPQrXo/A/SOF6FK5H8T/sUbgehevxP4/C9Shcj/I/MzMzMzMz8z/Xo3A9CtfzP3sUrkfhevQ/H4XrUbge9T/D9Shcj8L1P2dmZmZmZvY/CtejcD0K9z+uR+F6FK73P1K4HoXrUfg/9ihcj8L1+D+amZmZmZn5Pz4K16NwPfo/4XoUrkfh+j+F61G4HoX7Pylcj8L1KPw/zczMzMzM/D9xPQrXo3D9PxWuR+F6FP4/uB6F61G4/j9cj8L1KFz/PwAAAAAAAABA",
            "dtype": "f8"
           },
           "xaxis": "x",
           "y": {
            "bdata": "AAAAAAAA8D8AAAAAAADwPwAAAAAAAPA/AAAAAAAA8D8AAAAAAADwPwAAAAAAAPA/AAAAAAAA8D8AAAAAAADwPwAAAAAAAPA/AAAAAAAA8D8AAAAAAADwPwAAAAAAAPA/AAAAAAAA8D/vI39aDgDwP/OKX3mjAPA/3xseMZ4D8D+C7XC3nw3wP/G05giFJvA/B4yrC81X8D+a3j25f6nwP2jzqMGnH/E/7uViqMa58T+BSjsu8XPyP4RXbP1uSPM/Ky9yeQgx9D/sYh+fxSf1P5OYIMs4J/Y/4BeGf4Qq9z+cnE97QC34PwDZ/05QK/k/JPCTvagg+j9nyGrv4Aj7P+aNDLwr3vs/qFSGcdCW/D81wn5AVR/9P6LPvs/7Tv0/dqyx0BbZ/D9BcHmhmlf7Px3UWOaDrvg/OznQNnSO9T8uL7ef9wDzP4u4CbJ0bvE/fUp+lXWg8D9UzIobOkLwPye4lWUVGvA/okDk69kJ8D/NY2PIkgPwP79M2cM+AfA/CXzFsGoA8D+8vhJLIgDwPwAAAAAAAPA/",
            "dtype": "f8"
           },
           "yaxis": "y"
          }
         ],
         "name": "120"
        },
        {
         "data": [
          {
           "hovertemplate": "variable=121<br>x=%{x}<br>value=%{y}<extra></extra>",
           "legendgroup": "",
           "line": {
            "color": "#636efa",
            "dash": "solid"
           },
           "marker": {
            "symbol": "circle"
           },
           "mode": "lines",
           "name": "",
           "orientation": "v",
           "showlegend": false,
           "type": "scatter",
           "x": {
            "bdata": "AAAAAAAAAAB7FK5H4XqkP3sUrkfherQ/uB6F61G4vj97FK5H4XrEP5qZmZmZmck/uB6F61G4zj/sUbgehevRP3sUrkfhetQ/CtejcD0K1z+amZmZmZnZPylcj8L1KNw/uB6F61G43j+kcD0K16PgP+xRuB6F6+E/MzMzMzMz4z97FK5H4XrkP8P1KFyPwuU/CtejcD0K5z9SuB6F61HoP5qZmZmZmek/4XoUrkfh6j8pXI/C9SjsP3E9CtejcO0/uB6F61G47j8AAAAAAADwP6RwPQrXo/A/SOF6FK5H8T/sUbgehevxP4/C9Shcj/I/MzMzMzMz8z/Xo3A9CtfzP3sUrkfhevQ/H4XrUbge9T/D9Shcj8L1P2dmZmZmZvY/CtejcD0K9z+uR+F6FK73P1K4HoXrUfg/9ihcj8L1+D+amZmZmZn5Pz4K16NwPfo/4XoUrkfh+j+F61G4HoX7Pylcj8L1KPw/zczMzMzM/D9xPQrXo3D9PxWuR+F6FP4/uB6F61G4/j9cj8L1KFz/PwAAAAAAAABA",
            "dtype": "f8"
           },
           "xaxis": "x",
           "y": {
            "bdata": "AAAAAAAA8D8AAAAAAADwPwAAAAAAAPA/AAAAAAAA8D8AAAAAAADwPwAAAAAAAPA/AAAAAAAA8D8AAAAAAADwPwAAAAAAAPA/AAAAAAAA8D8AAAAAAADwPwAAAAAAAPA/AAAAAAAA8D8+zkgoDQDwP+I1owuXAPA/KPFuk14D8D/bG9KLyQzwP8jDJO5sJPA/d6zYLJtT8D+gjdK1aKLwP70cjBAeFfE/mGtiIYyr8T9zolzGDGLyP3KTkrUXM/M/qBEXa5IY9D9zOp7SlQz1PzWsy2m/CfY/5om/VzsL9z/Rk+IArAz4P31cSkQCCvk/JX7oskX/+T91slhLLuj6P2WLM2g2v/s/e4TsDVJ7/D+Gfyw/oAr9P2P58re1R/0/LDy2gs3q/D9c4df6f477P9wdO84RBvk/qt6KiEfo9T/hi3nppUHzPx7tZtn/kvE/DoxJVUyy8D8zKavmNErwP99eMT5zHfA/NpM+CzUL8D/mqezTGATwPydWwnJwAfA/N/t8XXwA8D/UPJlTKADwPwAAAAAAAPA/",
            "dtype": "f8"
           },
           "yaxis": "y"
          }
         ],
         "name": "121"
        },
        {
         "data": [
          {
           "hovertemplate": "variable=122<br>x=%{x}<br>value=%{y}<extra></extra>",
           "legendgroup": "",
           "line": {
            "color": "#636efa",
            "dash": "solid"
           },
           "marker": {
            "symbol": "circle"
           },
           "mode": "lines",
           "name": "",
           "orientation": "v",
           "showlegend": false,
           "type": "scatter",
           "x": {
            "bdata": "AAAAAAAAAAB7FK5H4XqkP3sUrkfherQ/uB6F61G4vj97FK5H4XrEP5qZmZmZmck/uB6F61G4zj/sUbgehevRP3sUrkfhetQ/CtejcD0K1z+amZmZmZnZPylcj8L1KNw/uB6F61G43j+kcD0K16PgP+xRuB6F6+E/MzMzMzMz4z97FK5H4XrkP8P1KFyPwuU/CtejcD0K5z9SuB6F61HoP5qZmZmZmek/4XoUrkfh6j8pXI/C9SjsP3E9CtejcO0/uB6F61G47j8AAAAAAADwP6RwPQrXo/A/SOF6FK5H8T/sUbgehevxP4/C9Shcj/I/MzMzMzMz8z/Xo3A9CtfzP3sUrkfhevQ/H4XrUbge9T/D9Shcj8L1P2dmZmZmZvY/CtejcD0K9z+uR+F6FK73P1K4HoXrUfg/9ihcj8L1+D+amZmZmZn5Pz4K16NwPfo/4XoUrkfh+j+F61G4HoX7Pylcj8L1KPw/zczMzMzM/D9xPQrXo3D9PxWuR+F6FP4/uB6F61G4/j9cj8L1KFz/PwAAAAAAAABA",
            "dtype": "f8"
           },
           "xaxis": "x",
           "y": {
            "bdata": "AAAAAAAA8D8AAAAAAADwPwAAAAAAAPA/AAAAAAAA8D8AAAAAAADwPwAAAAAAAPA/AAAAAAAA8D8AAAAAAADwPwAAAAAAAPA/AAAAAAAA8D8AAAAAAADwPwAAAAAAAPA/AAAAAAAA8D+RK5cPDADwPxbemY2LAPA/2FqhOyMD8D9SejcBAAzwP0ON5ylwIvA/1zgqHJhP8D9SiK3slJvwP8beDGTpCvE/cAm++rOd8T+RtsGDk1DyP7iyLlUwHvM/ofDXmY0A9D+3/at01fH0PwWCInaw7PU/Ou/kGVTs9j8R2RLubOz3P+tUsn746Pg/fIzpKRDe+T98g9N6isf6P0dqzh0joPs/9Jf8iGpf/D+ynw4s8/T8P0znnv5kPv0/X33sqMv4/D9conRjfcD7P7GASKaUWvk/SNd50E5D9j8MOwXxtYXzP49O9u5quvE/jq4OoNbF8D+jukPACVPwP78fruk0IfA/qqHCSrsM8D8SrwqqsATwP12DnyqpAfA/DDI2tZAA8D8D3n1ULwDwPwAAAAAAAPA/",
            "dtype": "f8"
           },
           "yaxis": "y"
          }
         ],
         "name": "122"
        },
        {
         "data": [
          {
           "hovertemplate": "variable=123<br>x=%{x}<br>value=%{y}<extra></extra>",
           "legendgroup": "",
           "line": {
            "color": "#636efa",
            "dash": "solid"
           },
           "marker": {
            "symbol": "circle"
           },
           "mode": "lines",
           "name": "",
           "orientation": "v",
           "showlegend": false,
           "type": "scatter",
           "x": {
            "bdata": "AAAAAAAAAAB7FK5H4XqkP3sUrkfherQ/uB6F61G4vj97FK5H4XrEP5qZmZmZmck/uB6F61G4zj/sUbgehevRP3sUrkfhetQ/CtejcD0K1z+amZmZmZnZPylcj8L1KNw/uB6F61G43j+kcD0K16PgP+xRuB6F6+E/MzMzMzMz4z97FK5H4XrkP8P1KFyPwuU/CtejcD0K5z9SuB6F61HoP5qZmZmZmek/4XoUrkfh6j8pXI/C9SjsP3E9CtejcO0/uB6F61G47j8AAAAAAADwP6RwPQrXo/A/SOF6FK5H8T/sUbgehevxP4/C9Shcj/I/MzMzMzMz8z/Xo3A9CtfzP3sUrkfhevQ/H4XrUbge9T/D9Shcj8L1P2dmZmZmZvY/CtejcD0K9z+uR+F6FK73P1K4HoXrUfg/9ihcj8L1+D+amZmZmZn5Pz4K16NwPfo/4XoUrkfh+j+F61G4HoX7Pylcj8L1KPw/zczMzMzM/D9xPQrXo3D9PxWuR+F6FP4/uB6F61G4/j9cj8L1KFz/PwAAAAAAAABA",
            "dtype": "f8"
           },
           "xaxis": "x",
           "y": {
            "bdata": "AAAAAAAA8D8AAAAAAADwPwAAAAAAAPA/AAAAAAAA8D8AAAAAAADwPwAAAAAAAPA/AAAAAAAA8D8AAAAAAADwPwAAAAAAAPA/AAAAAAAA8D8AAAAAAADwPwAAAAAAAPA/AAAAAAAA8D+m0EkOCwDwP6CkZ+2AAPA/JzlI4usC8D9F5fNiQgvwP8JZi3WNIPA/OxLED8JL8D/eYERIApXwP4BcwJUHAfE/jjh5IzyQ8T+VDa19gz/yP53D3Ca3CfM/LnAUkfjo8z/fjxtmg9f0P4RPj0ML0PU/TPetsM7N9j8EXILvg8z3P8RjH500yPg/nupI8gq9+T/KW13v+ab6Px0zEwD5gPs/tJc3ZSZD/D+RLpTOZd78PzIaw0Q1M/0/G+NNNUwD/T9RsHN/oe37P/YB+umlq/k/HwJ93w6f9j/wEN9VDM3zP/H/m4PT5PE/yXeJVTTb8D/kR095zFzwP6Fu4JlkJfA/ovKTc3EO8D9N5LhpXAXwPzVhSNHpAfA/6q4nFagA8D/gkPpxNwDwPwAAAAAAAPA/",
            "dtype": "f8"
           },
           "yaxis": "y"
          }
         ],
         "name": "123"
        },
        {
         "data": [
          {
           "hovertemplate": "variable=124<br>x=%{x}<br>value=%{y}<extra></extra>",
           "legendgroup": "",
           "line": {
            "color": "#636efa",
            "dash": "solid"
           },
           "marker": {
            "symbol": "circle"
           },
           "mode": "lines",
           "name": "",
           "orientation": "v",
           "showlegend": false,
           "type": "scatter",
           "x": {
            "bdata": "AAAAAAAAAAB7FK5H4XqkP3sUrkfherQ/uB6F61G4vj97FK5H4XrEP5qZmZmZmck/uB6F61G4zj/sUbgehevRP3sUrkfhetQ/CtejcD0K1z+amZmZmZnZPylcj8L1KNw/uB6F61G43j+kcD0K16PgP+xRuB6F6+E/MzMzMzMz4z97FK5H4XrkP8P1KFyPwuU/CtejcD0K5z9SuB6F61HoP5qZmZmZmek/4XoUrkfh6j8pXI/C9SjsP3E9CtejcO0/uB6F61G47j8AAAAAAADwP6RwPQrXo/A/SOF6FK5H8T/sUbgehevxP4/C9Shcj/I/MzMzMzMz8z/Xo3A9CtfzP3sUrkfhevQ/H4XrUbge9T/D9Shcj8L1P2dmZmZmZvY/CtejcD0K9z+uR+F6FK73P1K4HoXrUfg/9ihcj8L1+D+amZmZmZn5Pz4K16NwPfo/4XoUrkfh+j+F61G4HoX7Pylcj8L1KPw/zczMzMzM/D9xPQrXo3D9PxWuR+F6FP4/uB6F61G4/j9cj8L1KFz/PwAAAAAAAABA",
            "dtype": "f8"
           },
           "xaxis": "x",
           "y": {
            "bdata": "AAAAAAAA8D8AAAAAAADwPwAAAAAAAPA/AAAAAAAA8D8AAAAAAADwPwAAAAAAAPA/AAAAAAAA8D8AAAAAAADwPwAAAAAAAPA/AAAAAAAA8D8AAAAAAADwPwAAAAAAAPA/AAAAAAAA8D+fsW0iCgDwP3isgBp3APA/lDJ1RLgC8D/JhLkFkArwP592y5fDHvA/pLwHTBdI8D/8Q4S/ro7wP74zQ4l29/A/Ja6nkiKD8T/1g8TR2i7yP2RHe3mq9fI/ImQp3dHR8z+VsN6Dnr30PzmC5xrPs/U/hxas86qv9j/eGGKU8az3P5XCExW4p/g/nTiWozic+T+siEfLgIb6P83yTLK+Yfs/4U52MpEm/D87dugQDsf8P4dQRlBPJv0/e7j2kIkK/T/Z+kwpBRb8PxIy9rjs+Pk/Ck6S1wb79j8ACpZUghf0P5sPNr5TEvI/uwKtMIby8D+9NGE5kmfwP1c7i2ENKvA/vV0PxlwQ8D8sfHZrHgbwP2sKyGYzAvA/K7vu5cIA8D/9hAnVQADwPwAAAAAAAPA/",
            "dtype": "f8"
           },
           "yaxis": "y"
          }
         ],
         "name": "124"
        },
        {
         "data": [
          {
           "hovertemplate": "variable=125<br>x=%{x}<br>value=%{y}<extra></extra>",
           "legendgroup": "",
           "line": {
            "color": "#636efa",
            "dash": "solid"
           },
           "marker": {
            "symbol": "circle"
           },
           "mode": "lines",
           "name": "",
           "orientation": "v",
           "showlegend": false,
           "type": "scatter",
           "x": {
            "bdata": "AAAAAAAAAAB7FK5H4XqkP3sUrkfherQ/uB6F61G4vj97FK5H4XrEP5qZmZmZmck/uB6F61G4zj/sUbgehevRP3sUrkfhetQ/CtejcD0K1z+amZmZmZnZPylcj8L1KNw/uB6F61G43j+kcD0K16PgP+xRuB6F6+E/MzMzMzMz4z97FK5H4XrkP8P1KFyPwuU/CtejcD0K5z9SuB6F61HoP5qZmZmZmek/4XoUrkfh6j8pXI/C9SjsP3E9CtejcO0/uB6F61G47j8AAAAAAADwP6RwPQrXo/A/SOF6FK5H8T/sUbgehevxP4/C9Shcj/I/MzMzMzMz8z/Xo3A9CtfzP3sUrkfhevQ/H4XrUbge9T/D9Shcj8L1P2dmZmZmZvY/CtejcD0K9z+uR+F6FK73P1K4HoXrUfg/9ihcj8L1+D+amZmZmZn5Pz4K16NwPfo/4XoUrkfh+j+F61G4HoX7Pylcj8L1KPw/zczMzMzM/D9xPQrXo3D9PxWuR+F6FP4/uB6F61G4/j9cj8L1KFz/PwAAAAAAAABA",
            "dtype": "f8"
           },
           "xaxis": "x",
           "y": {
            "bdata": "AAAAAAAA8D8AAAAAAADwPwAAAAAAAPA/AAAAAAAA8D8AAAAAAADwPwAAAAAAAPA/AAAAAAAA8D8AAAAAAADwPwAAAAAAAPA/AAAAAAAA8D8AAAAAAADwPwAAAAAAAPA/AAAAAAAA8D/gWTlKCQDwPxrUkAVuAPA/McxzI4gC8D87YCpH6AnwP652UWQRHfA/JhFGI5ZE8D+oJKJVmIjwPz5kEyw07vA/nzlLR2V28T8HjQCklx7yP4J7QqAI4vI/H4XICxi78z+DVrWnJaT0PyTahjv7l/U/cwbfqOiR9j+i7oNQto33P6faOzWEh/g/PqFzoJt7+T8LrGPmImb6P5tIyWB6Qvs/tjVEobUJ/D8+BUojAK/8P9bscB7ZF/0/GRxk9bwO/T/2UtTYyTn8P0/mScIeQvo/1YKLirJW9z/e22xZ5WT0P3lTQHoBQ/I/uJQIhu0L8T8QkLCCcXPwP+/bNUI7L/A/jBp7A4MS8D9OiJVG+QbwP+V7AAiHAvA/RT3MnOEA8D/JNPOrSwDwPwAAAAAAAPA/",
            "dtype": "f8"
           },
           "yaxis": "y"
          }
         ],
         "name": "125"
        },
        {
         "data": [
          {
           "hovertemplate": "variable=126<br>x=%{x}<br>value=%{y}<extra></extra>",
           "legendgroup": "",
           "line": {
            "color": "#636efa",
            "dash": "solid"
           },
           "marker": {
            "symbol": "circle"
           },
           "mode": "lines",
           "name": "",
           "orientation": "v",
           "showlegend": false,
           "type": "scatter",
           "x": {
            "bdata": "AAAAAAAAAAB7FK5H4XqkP3sUrkfherQ/uB6F61G4vj97FK5H4XrEP5qZmZmZmck/uB6F61G4zj/sUbgehevRP3sUrkfhetQ/CtejcD0K1z+amZmZmZnZPylcj8L1KNw/uB6F61G43j+kcD0K16PgP+xRuB6F6+E/MzMzMzMz4z97FK5H4XrkP8P1KFyPwuU/CtejcD0K5z9SuB6F61HoP5qZmZmZmek/4XoUrkfh6j8pXI/C9SjsP3E9CtejcO0/uB6F61G47j8AAAAAAADwP6RwPQrXo/A/SOF6FK5H8T/sUbgehevxP4/C9Shcj/I/MzMzMzMz8z/Xo3A9CtfzP3sUrkfhevQ/H4XrUbge9T/D9Shcj8L1P2dmZmZmZvY/CtejcD0K9z+uR+F6FK73P1K4HoXrUfg/9ihcj8L1+D+amZmZmZn5Pz4K16NwPfo/4XoUrkfh+j+F61G4HoX7Pylcj8L1KPw/zczMzMzM/D9xPQrXo3D9PxWuR+F6FP4/uB6F61G4/j9cj8L1KFz/PwAAAAAAAABA",
            "dtype": "f8"
           },
           "xaxis": "x",
           "y": {
            "bdata": "AAAAAAAA8D8AAAAAAADwPwAAAAAAAPA/AAAAAAAA8D8AAAAAAADwPwAAAAAAAPA/AAAAAAAA8D8AAAAAAADwPwAAAAAAAPA/AAAAAAAA8D8AAAAAAADwPwAAAAAAAPA/AAAAAAAA8D+mdAmECADwP1UmZaBlAPA/9FmIRFsC8D9WQG2NSgnwP3PRRrt1G/A/gsBx9TxB8D+JD+wZvYLwP9jva3U+5fA/6XsySAJq8T/MyZkeuA7yPzQz1vLPzvI/RvNFrMmk8z8XS82oF4v0P9fgVNyOfPU/mUwuhod09j8W3E1+0m73P+A73SeaZ/g/P3WjGTZb+T/homzS40X6P3yYD8kxI/s/dGWdlJ3s+z+1naGdTpb8P3BwSP31B/0/G+xG6R0Q/T+KxLQPGFn8PzHMLLYAh/o/lJy5AI2x9z+lH4TY9rT0P/slj1ntdvI/bPf38osn8T9UAxAygoDwP5S66jn7NPA/7sY+eOoU8D/Yb/HW7wfwP5e8iPHlAvA/m8n/vAQB8D/bDesqWADwPwAAAAAAAPA/",
            "dtype": "f8"
           },
           "yaxis": "y"
          }
         ],
         "name": "126"
        },
        {
         "data": [
          {
           "hovertemplate": "variable=127<br>x=%{x}<br>value=%{y}<extra></extra>",
           "legendgroup": "",
           "line": {
            "color": "#636efa",
            "dash": "solid"
           },
           "marker": {
            "symbol": "circle"
           },
           "mode": "lines",
           "name": "",
           "orientation": "v",
           "showlegend": false,
           "type": "scatter",
           "x": {
            "bdata": "AAAAAAAAAAB7FK5H4XqkP3sUrkfherQ/uB6F61G4vj97FK5H4XrEP5qZmZmZmck/uB6F61G4zj/sUbgehevRP3sUrkfhetQ/CtejcD0K1z+amZmZmZnZPylcj8L1KNw/uB6F61G43j+kcD0K16PgP+xRuB6F6+E/MzMzMzMz4z97FK5H4XrkP8P1KFyPwuU/CtejcD0K5z9SuB6F61HoP5qZmZmZmek/4XoUrkfh6j8pXI/C9SjsP3E9CtejcO0/uB6F61G47j8AAAAAAADwP6RwPQrXo/A/SOF6FK5H8T/sUbgehevxP4/C9Shcj/I/MzMzMzMz8z/Xo3A9CtfzP3sUrkfhevQ/H4XrUbge9T/D9Shcj8L1P2dmZmZmZvY/CtejcD0K9z+uR+F6FK73P1K4HoXrUfg/9ihcj8L1+D+amZmZmZn5Pz4K16NwPfo/4XoUrkfh+j+F61G4HoX7Pylcj8L1KPw/zczMzMzM/D9xPQrXo3D9PxWuR+F6FP4/uB6F61G4/j9cj8L1KFz/PwAAAAAAAABA",
            "dtype": "f8"
           },
           "xaxis": "x",
           "y": {
            "bdata": "AAAAAAAA8D8AAAAAAADwPwAAAAAAAPA/AAAAAAAA8D8AAAAAAADwPwAAAAAAAPA/AAAAAAAA8D8AAAAAAADwPwAAAAAAAPA/AAAAAAAA8D8AAAAAAADwPwAAAAAAAPA/AAAAAAAA8D+Sn13OBwDwPyjk1t1dAPA/xJWycDEC8D+kwsZGtgjwP2bf6IjvGfA/mpjSLwo+8D8DhZsnG33wPzciImaT3PA/W5PYo/dd8T98SvVxOv/xP6/YUs3+u/I/BGncT+WO8z+OOFNcc3L0Px8utiyJYfU/IEzJModX9j9m8Y9gRlD3P3DiJfX6R/g/IADwEAo7+T/OZSzfxiX6P7S9ckHqA/s/V94tMlLP+z/xYjGfCn38PwqVyanG9vw/HeEI3eEO/T+y+L/XHXT8P0+8cURmx/o/XhDlDRML+D+6/s11bAf1Pwr1QM4hrvI/bshL/IJF8T9kxeh53Y7wP+BEpFBbO/A/JB6fBpoX8D+2mxFDBQnwPz/+yYJRA/A/WVlD2SwB8D8IB7yMZgDwPwAAAAAAAPA/",
            "dtype": "f8"
           },
           "yaxis": "y"
          }
         ],
         "name": "127"
        },
        {
         "data": [
          {
           "hovertemplate": "variable=128<br>x=%{x}<br>value=%{y}<extra></extra>",
           "legendgroup": "",
           "line": {
            "color": "#636efa",
            "dash": "solid"
           },
           "marker": {
            "symbol": "circle"
           },
           "mode": "lines",
           "name": "",
           "orientation": "v",
           "showlegend": false,
           "type": "scatter",
           "x": {
            "bdata": "AAAAAAAAAAB7FK5H4XqkP3sUrkfherQ/uB6F61G4vj97FK5H4XrEP5qZmZmZmck/uB6F61G4zj/sUbgehevRP3sUrkfhetQ/CtejcD0K1z+amZmZmZnZPylcj8L1KNw/uB6F61G43j+kcD0K16PgP+xRuB6F6+E/MzMzMzMz4z97FK5H4XrkP8P1KFyPwuU/CtejcD0K5z9SuB6F61HoP5qZmZmZmek/4XoUrkfh6j8pXI/C9SjsP3E9CtejcO0/uB6F61G47j8AAAAAAADwP6RwPQrXo/A/SOF6FK5H8T/sUbgehevxP4/C9Shcj/I/MzMzMzMz8z/Xo3A9CtfzP3sUrkfhevQ/H4XrUbge9T/D9Shcj8L1P2dmZmZmZvY/CtejcD0K9z+uR+F6FK73P1K4HoXrUfg/9ihcj8L1+D+amZmZmZn5Pz4K16NwPfo/4XoUrkfh+j+F61G4HoX7Pylcj8L1KPw/zczMzMzM/D9xPQrXo3D9PxWuR+F6FP4/uB6F61G4/j9cj8L1KFz/PwAAAAAAAABA",
            "dtype": "f8"
           },
           "xaxis": "x",
           "y": {
            "bdata": "AAAAAAAA8D8AAAAAAADwPwAAAAAAAPA/AAAAAAAA8D8AAAAAAADwPwAAAAAAAPA/AAAAAAAA8D8AAAAAAADwPwAAAAAAAPA/AAAAAAAA8D8AAAAAAADwPwAAAAAAAPA/AAAAAAAA8D8HgdUnBwDwP4MLuLFWAPA/Fa5zdAoC8D9JgTbpKgjwPyAyH8V9GPA/i4G5TPw68D92uqilsHfwP9BshAgx1PA/htJFcENS8T8zx4/UHPDxP0MgVpCTqfI/BO/oiWl58z87RvaVN1r0Pw3WalXpRvU/sldvSOc69j9mRT4kEjL3P8HKXIWnKPg/SeruWxkb+T8llmMezwX6P713DMCo5Po/Mswv8dux+z85QkjsQ2P8PybpWnFp5Pw/h/Tz4jsL/T+upVZcDYv8PyRcA7MxA/s/zQWm2cVi+D93kGqE8Fv1P8HIfCOi6PI/GwRRm/Nl8T+w7jPXnZ7wP+DBIKVqQvA/sgP2MZka8D853rwCPQrwP/oDYEHLA/A/f0dqlVoB8D87jYYTdwDwPwAAAAAAAPA/",
            "dtype": "f8"
           },
           "yaxis": "y"
          }
         ],
         "name": "128"
        },
        {
         "data": [
          {
           "hovertemplate": "variable=129<br>x=%{x}<br>value=%{y}<extra></extra>",
           "legendgroup": "",
           "line": {
            "color": "#636efa",
            "dash": "solid"
           },
           "marker": {
            "symbol": "circle"
           },
           "mode": "lines",
           "name": "",
           "orientation": "v",
           "showlegend": false,
           "type": "scatter",
           "x": {
            "bdata": "AAAAAAAAAAB7FK5H4XqkP3sUrkfherQ/uB6F61G4vj97FK5H4XrEP5qZmZmZmck/uB6F61G4zj/sUbgehevRP3sUrkfhetQ/CtejcD0K1z+amZmZmZnZPylcj8L1KNw/uB6F61G43j+kcD0K16PgP+xRuB6F6+E/MzMzMzMz4z97FK5H4XrkP8P1KFyPwuU/CtejcD0K5z9SuB6F61HoP5qZmZmZmek/4XoUrkfh6j8pXI/C9SjsP3E9CtejcO0/uB6F61G47j8AAAAAAADwP6RwPQrXo/A/SOF6FK5H8T/sUbgehevxP4/C9Shcj/I/MzMzMzMz8z/Xo3A9CtfzP3sUrkfhevQ/H4XrUbge9T/D9Shcj8L1P2dmZmZmZvY/CtejcD0K9z+uR+F6FK73P1K4HoXrUfg/9ihcj8L1+D+amZmZmZn5Pz4K16NwPfo/4XoUrkfh+j+F61G4HoX7Pylcj8L1KPw/zczMzMzM/D9xPQrXo3D9PxWuR+F6FP4/uB6F61G4/j9cj8L1KFz/PwAAAAAAAABA",
            "dtype": "f8"
           },
           "xaxis": "x",
           "y": {
            "bdata": "AAAAAAAA8D8AAAAAAADwPwAAAAAAAPA/AAAAAAAA8D8AAAAAAADwPwAAAAAAAPA/AAAAAAAA8D8AAAAAAADwPwAAAAAAAPA/AAAAAAAA8D8AAAAAAADwPwAAAAAAAPA/AAAAAAAA8D+sHC6PBgDwP5dAwRBQAPA/z56XH+YB8D88MhjypwfwP3dHFHMfF/A/lik10xE48D/tpJ7Ge3LwP1PCOnAVzPA/d5PxyuNG8T85FOiCXeHxP/vrA6GMl/I/D9Ie8FRk8z8wS18oY0L0P8FHW3muLPU/YCqhVKce9j+QOxDiNRT3P0Xf9KKgCfg/uHihpmX7+D+38nZn/+X5PxdLMOFxxfo/B18FqEKU+z/enPQJCUn8P/y7IlX60Pw/w3D2flwF/T9RLD2lG578P6R2sBtTOvs/7t/GQC24+D8SgnrhIrL1P5BGBo1pJvM/8ox3uP2I8T+69lP/3q/wP+ggx3g5SvA/lMVbKvAd8D9hnAHmmgvwP8o9wdxUBPA/4V0mqI4B8D8PS5EJigDwPwAAAAAAAPA/",
            "dtype": "f8"
           },
           "yaxis": "y"
          }
         ],
         "name": "129"
        },
        {
         "data": [
          {
           "hovertemplate": "variable=130<br>x=%{x}<br>value=%{y}<extra></extra>",
           "legendgroup": "",
           "line": {
            "color": "#636efa",
            "dash": "solid"
           },
           "marker": {
            "symbol": "circle"
           },
           "mode": "lines",
           "name": "",
           "orientation": "v",
           "showlegend": false,
           "type": "scatter",
           "x": {
            "bdata": "AAAAAAAAAAB7FK5H4XqkP3sUrkfherQ/uB6F61G4vj97FK5H4XrEP5qZmZmZmck/uB6F61G4zj/sUbgehevRP3sUrkfhetQ/CtejcD0K1z+amZmZmZnZPylcj8L1KNw/uB6F61G43j+kcD0K16PgP+xRuB6F6+E/MzMzMzMz4z97FK5H4XrkP8P1KFyPwuU/CtejcD0K5z9SuB6F61HoP5qZmZmZmek/4XoUrkfh6j8pXI/C9SjsP3E9CtejcO0/uB6F61G47j8AAAAAAADwP6RwPQrXo/A/SOF6FK5H8T/sUbgehevxP4/C9Shcj/I/MzMzMzMz8z/Xo3A9CtfzP3sUrkfhevQ/H4XrUbge9T/D9Shcj8L1P2dmZmZmZvY/CtejcD0K9z+uR+F6FK73P1K4HoXrUfg/9ihcj8L1+D+amZmZmZn5Pz4K16NwPfo/4XoUrkfh+j+F61G4HoX7Pylcj8L1KPw/zczMzMzM/D9xPQrXo3D9PxWuR+F6FP4/uB6F61G4/j9cj8L1KFz/PwAAAAAAAABA",
            "dtype": "f8"
           },
           "xaxis": "x",
           "y": {
            "bdata": "AAAAAAAA8D8AAAAAAADwPwAAAAAAAPA/AAAAAAAA8D8AAAAAAADwPwAAAAAAAPA/AAAAAAAA8D8AAAAAAADwPwAAAAAAAPA/AAAAAAAA8D8AAAAAAADwPwAAAAAAAPA/AAAAAAAA8D/rYD8DBgDwPzEBgfBJAPA/QakBRcQB8D8locjlLAfwP8uW0KDTFfA/KFnHVkk18D85sW/Iem3wP7pbKLo+xPA/wzSl2NY78T8LD2m/+tLxP1bTB2nohfI/v4y0GqZP8z/ljJzl9Cr0P87QVLbXEvU/yB692cYC9j+rYwagsfb2P0ZUg/zm6vc/+PbydfDb+D9JiOZaWsb5P0owYu1Jpvo/KmOpmI12+z9ae7xXZy78P9duMS6TvPw/6bIvinH9/D+srI52f638PwR48mLHbPs/sbfE99kK+T9jYyMqmgn2P7aJAkdqZ/M//glSk7+u8T8rRJnFvcLwP314NjrZUvA/TPex2Kch8D9vD7YcIw3wP6EiMzLwBPA/POb13MkB8D+Yay7CnwDwPwAAAAAAAPA/",
            "dtype": "f8"
           },
           "yaxis": "y"
          }
         ],
         "name": "130"
        },
        {
         "data": [
          {
           "hovertemplate": "variable=131<br>x=%{x}<br>value=%{y}<extra></extra>",
           "legendgroup": "",
           "line": {
            "color": "#636efa",
            "dash": "solid"
           },
           "marker": {
            "symbol": "circle"
           },
           "mode": "lines",
           "name": "",
           "orientation": "v",
           "showlegend": false,
           "type": "scatter",
           "x": {
            "bdata": "AAAAAAAAAAB7FK5H4XqkP3sUrkfherQ/uB6F61G4vj97FK5H4XrEP5qZmZmZmck/uB6F61G4zj/sUbgehevRP3sUrkfhetQ/CtejcD0K1z+amZmZmZnZPylcj8L1KNw/uB6F61G43j+kcD0K16PgP+xRuB6F6+E/MzMzMzMz4z97FK5H4XrkP8P1KFyPwuU/CtejcD0K5z9SuB6F61HoP5qZmZmZmek/4XoUrkfh6j8pXI/C9SjsP3E9CtejcO0/uB6F61G47j8AAAAAAADwP6RwPQrXo/A/SOF6FK5H8T/sUbgehevxP4/C9Shcj/I/MzMzMzMz8z/Xo3A9CtfzP3sUrkfhevQ/H4XrUbge9T/D9Shcj8L1P2dmZmZmZvY/CtejcD0K9z+uR+F6FK73P1K4HoXrUfg/9ihcj8L1+D+amZmZmZn5Pz4K16NwPfo/4XoUrkfh+j+F61G4HoX7Pylcj8L1KPw/zczMzMzM/D9xPQrXo3D9PxWuR+F6FP4/uB6F61G4/j9cj8L1KFz/PwAAAAAAAABA",
            "dtype": "f8"
           },
           "xaxis": "x",
           "y": {
            "bdata": "AAAAAAAA8D8AAAAAAADwPwAAAAAAAPA/AAAAAAAA8D8AAAAAAADwPwAAAAAAAPA/AAAAAAAA8D8AAAAAAADwPwAAAAAAAPA/AAAAAAAA8D8AAAAAAADwPwAAAAAAAPA/AAAAAAAA8D+j6PmCBQDwPzULTEdEAPA/rMF7uqQB8D9HZ05PuQbwP7j312aZFPA/Reoad6Ey8D88D0v0q2jwPznQTgyrvPA/1ElgxRox8T+cOlPS8sTxP7u4k1aldPI//EiKpFs78z8l7oKf6xP0P0fmtiVk+fQ/TWwHUEXn9T8CNthShdn2P1CLmiZ7zPc/tpQWKru8+D/FF5Jl4qb5P7Es3N40h/o/1CcQfMNY+z/uwmknaxP8P4RJrdFLp/w/MS29Jqbz/D/X/0dXcLn8P+wzTvqWmvs/7VeCWmda+T/zg69H5WH2PzlqW9CMq/M//sZJGFXX8T/Fhir3V9fwP0/LB45cXPA/JOj66skl8D+PC3M+2g7wPwFjD1GfBfA/Hd49Fg0C8D/RFreauADwPwAAAAAAAPA/",
            "dtype": "f8"
           },
           "yaxis": "y"
          }
         ],
         "name": "131"
        },
        {
         "data": [
          {
           "hovertemplate": "variable=132<br>x=%{x}<br>value=%{y}<extra></extra>",
           "legendgroup": "",
           "line": {
            "color": "#636efa",
            "dash": "solid"
           },
           "marker": {
            "symbol": "circle"
           },
           "mode": "lines",
           "name": "",
           "orientation": "v",
           "showlegend": false,
           "type": "scatter",
           "x": {
            "bdata": "AAAAAAAAAAB7FK5H4XqkP3sUrkfherQ/uB6F61G4vj97FK5H4XrEP5qZmZmZmck/uB6F61G4zj/sUbgehevRP3sUrkfhetQ/CtejcD0K1z+amZmZmZnZPylcj8L1KNw/uB6F61G43j+kcD0K16PgP+xRuB6F6+E/MzMzMzMz4z97FK5H4XrkP8P1KFyPwuU/CtejcD0K5z9SuB6F61HoP5qZmZmZmek/4XoUrkfh6j8pXI/C9SjsP3E9CtejcO0/uB6F61G47j8AAAAAAADwP6RwPQrXo/A/SOF6FK5H8T/sUbgehevxP4/C9Shcj/I/MzMzMzMz8z/Xo3A9CtfzP3sUrkfhevQ/H4XrUbge9T/D9Shcj8L1P2dmZmZmZvY/CtejcD0K9z+uR+F6FK73P1K4HoXrUfg/9ihcj8L1+D+amZmZmZn5Pz4K16NwPfo/4XoUrkfh+j+F61G4HoX7Pylcj8L1KPw/zczMzMzM/D9xPQrXo3D9PxWuR+F6FP4/uB6F61G4/j9cj8L1KFz/PwAAAAAAAABA",
            "dtype": "f8"
           },
           "xaxis": "x",
           "y": {
            "bdata": "AAAAAAAA8D8AAAAAAADwPwAAAAAAAPA/AAAAAAAA8D8AAAAAAADwPwAAAAAAAPA/AAAAAAAA8D8AAAAAAADwPwAAAAAAAPA/AAAAAAAA8D8AAAAAAADwPwAAAAAAAPA/AAAAAAAA8D+/7GQNBQDwP9LgLgw/APA/18qIWIcB8D/0RAbATAbwP0ZhyedvE/A/cmC63xgw8D8geHKeDWTwP6dospVYtfA/hAQ+xK0m8T8+O6YJRLfxPybNW9zBY/I/fZBKK3Qn8z8+YgUoRv3zP6ZCEt1S4PQ/iqKfJiLM9T+B50rfsLz2P72aip1drvc/bvzFAMed+D/E3c3DmYf5P1LQrGY2aPo/SouQjOo6+z++pf7SH/j7P0ptXzQ6kfw/j7KZwCLo/D+WKhy+JcL8Px9YnoDUw/s/Vp932nym+T8u77pHjbr2PxwF3Eqv8vM/5lopJdcC8j/Mdf4rzO3wP4zXNVXXZvA/R17i4GAq8D+MiQpTxRDwP9WRXn9kBvA/mJaTT1kC8D+ABZ/71ADwPwAAAAAAAPA/",
            "dtype": "f8"
           },
           "yaxis": "y"
          }
         ],
         "name": "132"
        },
        {
         "data": [
          {
           "hovertemplate": "variable=133<br>x=%{x}<br>value=%{y}<extra></extra>",
           "legendgroup": "",
           "line": {
            "color": "#636efa",
            "dash": "solid"
           },
           "marker": {
            "symbol": "circle"
           },
           "mode": "lines",
           "name": "",
           "orientation": "v",
           "showlegend": false,
           "type": "scatter",
           "x": {
            "bdata": "AAAAAAAAAAB7FK5H4XqkP3sUrkfherQ/uB6F61G4vj97FK5H4XrEP5qZmZmZmck/uB6F61G4zj/sUbgehevRP3sUrkfhetQ/CtejcD0K1z+amZmZmZnZPylcj8L1KNw/uB6F61G43j+kcD0K16PgP+xRuB6F6+E/MzMzMzMz4z97FK5H4XrkP8P1KFyPwuU/CtejcD0K5z9SuB6F61HoP5qZmZmZmek/4XoUrkfh6j8pXI/C9SjsP3E9CtejcO0/uB6F61G47j8AAAAAAADwP6RwPQrXo/A/SOF6FK5H8T/sUbgehevxP4/C9Shcj/I/MzMzMzMz8z/Xo3A9CtfzP3sUrkfhevQ/H4XrUbge9T/D9Shcj8L1P2dmZmZmZvY/CtejcD0K9z+uR+F6FK73P1K4HoXrUfg/9ihcj8L1+D+amZmZmZn5Pz4K16NwPfo/4XoUrkfh+j+F61G4HoX7Pylcj8L1KPw/zczMzMzM/D9xPQrXo3D9PxWuR+F6FP4/uB6F61G4/j9cj8L1KFz/PwAAAAAAAABA",
            "dtype": "f8"
           },
           "xaxis": "x",
           "y": {
            "bdata": "AAAAAAAA8D8AAAAAAADwPwAAAAAAAPA/AAAAAAAA8D8AAAAAAADwPwAAAAAAAPA/AAAAAAAA8D8AAAAAAADwPwAAAAAAAPA/AAAAAAAA8D8AAAAAAADwPwAAAAAAAPA/AAAAAAAA8D+mYZyhBADwP4hW4DY6APA/zXk5+msB8D9VAFPP5gXwP4sAAVBWEvA/3h/HR64t8D/6WBAmnl/wP6GWP45FrvA/6tpbD44c8T/tXAq57KnxPxBakHE8U/I/tLeFT+4T8z9uaYNRA+fzP7XWuu6ix/Q/u4tkxFyx9T9XiHIbNKD2P1aWCMeOkPc/muRhFxV/+D+0okqEgmj5P9uQd/FRSfo/tUJrjwgd+z+OVOrQj9z7P8dfK41yevw/bhDCGA3b/D9ZXOti1sf8P/jjP1Gb6Ps/+TiSAs/u+T+2ZqdxFxP3P7OvRAylPPQ/DYKQvlox8j80aJOLOQbxP7tkibBecvA/9dBUGHgv8D/IsHnb6RLwP5bUzD5CB/A/LTI5oK8C8D81K6JZ9QDwPwAAAAAAAPA/",
            "dtype": "f8"
           },
           "yaxis": "y"
          }
         ],
         "name": "133"
        },
        {
         "data": [
          {
           "hovertemplate": "variable=134<br>x=%{x}<br>value=%{y}<extra></extra>",
           "legendgroup": "",
           "line": {
            "color": "#636efa",
            "dash": "solid"
           },
           "marker": {
            "symbol": "circle"
           },
           "mode": "lines",
           "name": "",
           "orientation": "v",
           "showlegend": false,
           "type": "scatter",
           "x": {
            "bdata": "AAAAAAAAAAB7FK5H4XqkP3sUrkfherQ/uB6F61G4vj97FK5H4XrEP5qZmZmZmck/uB6F61G4zj/sUbgehevRP3sUrkfhetQ/CtejcD0K1z+amZmZmZnZPylcj8L1KNw/uB6F61G43j+kcD0K16PgP+xRuB6F6+E/MzMzMzMz4z97FK5H4XrkP8P1KFyPwuU/CtejcD0K5z9SuB6F61HoP5qZmZmZmek/4XoUrkfh6j8pXI/C9SjsP3E9CtejcO0/uB6F61G47j8AAAAAAADwP6RwPQrXo/A/SOF6FK5H8T/sUbgehevxP4/C9Shcj/I/MzMzMzMz8z/Xo3A9CtfzP3sUrkfhevQ/H4XrUbge9T/D9Shcj8L1P2dmZmZmZvY/CtejcD0K9z+uR+F6FK73P1K4HoXrUfg/9ihcj8L1+D+amZmZmZn5Pz4K16NwPfo/4XoUrkfh+j+F61G4HoX7Pylcj8L1KPw/zczMzMzM/D9xPQrXo3D9PxWuR+F6FP4/uB6F61G4/j9cj8L1KFz/PwAAAAAAAABA",
            "dtype": "f8"
           },
           "xaxis": "x",
           "y": {
            "bdata": "AAAAAAAA8D8AAAAAAADwPwAAAAAAAPA/AAAAAAAA8D8AAAAAAADwPwAAAAAAAPA/AAAAAAAA8D8AAAAAAADwPwAAAAAAAPA/AAAAAAAA8D8AAAAAAADwPwAAAAAAAPA/AAAAAAAA8D/qPM8+BADwP2MYtb81APA/tr0DfVIB8D97rVAahwXwP2KlPNVLEfA/DkSxcWAr8D9XTQ71W1vwP2F3sTZwp/A/gGnB57kS8T+8Sbo565zxP96h1ZETQ/I/ooPItMgA8z9ATQ/vIdHzP3R7TWpTr/Q/qo/HiPSW9T8Slt7PDoT2P320vfMOc/c/7Nf1bKZg+D/XvtOKnkn5PxoR36uKKvo/sLaE3SL/+j8MRpjGxMD7PzHkHHYHY/w/YEgzWIjM/D/2WUOyt8r8PzksBhEOCfw/rBIUDiAz+j8rVYaGB2v3P3C2DGs2ifQ/HnB3OfBi8j87Yx2EvyDxP0sLUgAJf/A/+7j52Rs18D8yPlTbTRXwP/0K/VE7CPA/qprQPRED8D8Blw43GgHwPwAAAAAAAPA/",
            "dtype": "f8"
           },
           "yaxis": "y"
          }
         ],
         "name": "134"
        },
        {
         "data": [
          {
           "hovertemplate": "variable=135<br>x=%{x}<br>value=%{y}<extra></extra>",
           "legendgroup": "",
           "line": {
            "color": "#636efa",
            "dash": "solid"
           },
           "marker": {
            "symbol": "circle"
           },
           "mode": "lines",
           "name": "",
           "orientation": "v",
           "showlegend": false,
           "type": "scatter",
           "x": {
            "bdata": "AAAAAAAAAAB7FK5H4XqkP3sUrkfherQ/uB6F61G4vj97FK5H4XrEP5qZmZmZmck/uB6F61G4zj/sUbgehevRP3sUrkfhetQ/CtejcD0K1z+amZmZmZnZPylcj8L1KNw/uB6F61G43j+kcD0K16PgP+xRuB6F6+E/MzMzMzMz4z97FK5H4XrkP8P1KFyPwuU/CtejcD0K5z9SuB6F61HoP5qZmZmZmek/4XoUrkfh6j8pXI/C9SjsP3E9CtejcO0/uB6F61G47j8AAAAAAADwP6RwPQrXo/A/SOF6FK5H8T/sUbgehevxP4/C9Shcj/I/MzMzMzMz8z/Xo3A9CtfzP3sUrkfhevQ/H4XrUbge9T/D9Shcj8L1P2dmZmZmZvY/CtejcD0K9z+uR+F6FK73P1K4HoXrUfg/9ihcj8L1+D+amZmZmZn5Pz4K16NwPfo/4XoUrkfh+j+F61G4HoX7Pylcj8L1KPw/zczMzMzM/D9xPQrXo3D9PxWuR+F6FP4/uB6F61G4/j9cj8L1KFz/PwAAAAAAAABA",
            "dtype": "f8"
           },
           "xaxis": "x",
           "y": {
            "bdata": "AAAAAAAA8D8AAAAAAADwPwAAAAAAAPA/AAAAAAAA8D8AAAAAAADwPwAAAAAAAPA/AAAAAAAA8D8AAAAAAADwPwAAAAAAAPA/AAAAAAAA8D8AAAAAAADwPwAAAAAAAPA/AAAAAAAA8D/P3z3kAwDwPxcVlJ8xAPA/R4mcwDoB8D8BRItDLQXwP4SDQrZPEPA/nBfwKi4p8D8H1+t/RVfwP1FKedjWoPA/OY9JlS8J8T9IEW3qPZDxP/8fOr1FM/I/84CuAQLu8j+NxqzUoLvzP7RDKl1jl/Q/zqGQzOh89T/JH7O4QGj2P0Vov2DeVfc/3Wsg5HtC+D+QiOWS7yr5Px6UoIbjC/o/WB1kaz7h+j/bi3WZx6T7P5130wsKS/w/lAq0KLW8/D+4zrZf/cr8P24xWEVVJfw/ahl9FUBz+j95WK0V4sH3PzOAPNAg2PQ/CIQYXaKX8j/sZwBzfT3xPxJTnN/tjPA/dpxbZVk78D881KTi9xfwP8+kPsJSCfA/fK1If38D8D/QziwlRAHwPwAAAAAAAPA/",
            "dtype": "f8"
           },
           "yaxis": "y"
          }
         ],
         "name": "135"
        },
        {
         "data": [
          {
           "hovertemplate": "variable=136<br>x=%{x}<br>value=%{y}<extra></extra>",
           "legendgroup": "",
           "line": {
            "color": "#636efa",
            "dash": "solid"
           },
           "marker": {
            "symbol": "circle"
           },
           "mode": "lines",
           "name": "",
           "orientation": "v",
           "showlegend": false,
           "type": "scatter",
           "x": {
            "bdata": "AAAAAAAAAAB7FK5H4XqkP3sUrkfherQ/uB6F61G4vj97FK5H4XrEP5qZmZmZmck/uB6F61G4zj/sUbgehevRP3sUrkfhetQ/CtejcD0K1z+amZmZmZnZPylcj8L1KNw/uB6F61G43j+kcD0K16PgP+xRuB6F6+E/MzMzMzMz4z97FK5H4XrkP8P1KFyPwuU/CtejcD0K5z9SuB6F61HoP5qZmZmZmek/4XoUrkfh6j8pXI/C9SjsP3E9CtejcO0/uB6F61G47j8AAAAAAADwP6RwPQrXo/A/SOF6FK5H8T/sUbgehevxP4/C9Shcj/I/MzMzMzMz8z/Xo3A9CtfzP3sUrkfhevQ/H4XrUbge9T/D9Shcj8L1P2dmZmZmZvY/CtejcD0K9z+uR+F6FK73P1K4HoXrUfg/9ihcj8L1+D+amZmZmZn5Pz4K16NwPfo/4XoUrkfh+j+F61G4HoX7Pylcj8L1KPw/zczMzMzM/D9xPQrXo3D9PxWuR+F6FP4/uB6F61G4/j9cj8L1KFz/PwAAAAAAAABA",
            "dtype": "f8"
           },
           "xaxis": "x",
           "y": {
            "bdata": "AAAAAAAA8D8AAAAAAADwPwAAAAAAAPA/AAAAAAAA8D8AAAAAAADwPwAAAAAAAPA/AAAAAAAA8D8AAAAAAADwPwAAAAAAAPA/AAAAAAAA8D8AAAAAAADwPwAAAAAAAPA/AAAAAAAA8D+ioziRAwDwP9W+688tAPA/79zTpiQB8D+3Zrjy2ATwP+hFijphD/A/0i+7SxYn8D9qQpVFWVPwP3vDpsV3mvA/976MZu3/8D/mnUAv44PxP1ZrK3jRI/I/hXnw35jb8j90qojXfqbzP6k95NLRf/Q/ybaT4jhj9T8jkK+GyUz2PyKE8Tj9OPc/5hbhRJYk+D/2dB4ydwz5P0chZzpf7fk/192I0F/D+j/88Yd+oIj7P1W6KAuKMvw/ypux0bGr/D+46ogT2cj8P3L9J/+dPfw/qROL2Qyv+j/fhI7OLhf4P0porxUXKfU/UanYgnXP8j9R8Z49klzxPzv+/hkmnPA/RCF9/D5C8D927ToY7xrwP1kEquWLCvA/gn0I4PsD8D9jDcnFcwHwPwAAAAAAAPA/",
            "dtype": "f8"
           },
           "yaxis": "y"
          }
         ],
         "name": "136"
        },
        {
         "data": [
          {
           "hovertemplate": "variable=137<br>x=%{x}<br>value=%{y}<extra></extra>",
           "legendgroup": "",
           "line": {
            "color": "#636efa",
            "dash": "solid"
           },
           "marker": {
            "symbol": "circle"
           },
           "mode": "lines",
           "name": "",
           "orientation": "v",
           "showlegend": false,
           "type": "scatter",
           "x": {
            "bdata": "AAAAAAAAAAB7FK5H4XqkP3sUrkfherQ/uB6F61G4vj97FK5H4XrEP5qZmZmZmck/uB6F61G4zj/sUbgehevRP3sUrkfhetQ/CtejcD0K1z+amZmZmZnZPylcj8L1KNw/uB6F61G43j+kcD0K16PgP+xRuB6F6+E/MzMzMzMz4z97FK5H4XrkP8P1KFyPwuU/CtejcD0K5z9SuB6F61HoP5qZmZmZmek/4XoUrkfh6j8pXI/C9SjsP3E9CtejcO0/uB6F61G47j8AAAAAAADwP6RwPQrXo/A/SOF6FK5H8T/sUbgehevxP4/C9Shcj/I/MzMzMzMz8z/Xo3A9CtfzP3sUrkfhevQ/H4XrUbge9T/D9Shcj8L1P2dmZmZmZvY/CtejcD0K9z+uR+F6FK73P1K4HoXrUfg/9ihcj8L1+D+amZmZmZn5Pz4K16NwPfo/4XoUrkfh+j+F61G4HoX7Pylcj8L1KPw/zczMzMzM/D9xPQrXo3D9PxWuR+F6FP4/uB6F61G4/j9cj8L1KFz/PwAAAAAAAABA",
            "dtype": "f8"
           },
           "xaxis": "x",
           "y": {
            "bdata": "AAAAAAAA8D8AAAAAAADwPwAAAAAAAPA/AAAAAAAA8D8AAAAAAADwPwAAAAAAAPA/AAAAAAAA8D8AAAAAAADwPwAAAAAAAPA/AAAAAAAA8D8AAAAAAADwPwAAAAAAAPA/AAAAAAAA8D8IhR5FAwDwP8oSqEoqAPA/cvJyExAB8D9JQnTUiQTwP+Bx6LF/DvA/6i/Ethcl8D9MqDrPlU/wPz4i0VhRlPA/wX/MsPH28D88sKRx2XfxP3n3aUu1FPI/1Gxv/IvJ8j9GMCrOupHzPwhnp9WdaPQ/jq9YGORJ9T/kJSTgqDH2Pz9zU5ZrHPc/PNFMPvYG+D8mCY3aNu74P844XEsAz/k/6MMlToul+j+yRLIIV2z7P79AAO2VGfw/RoHGV5qZ/D/XQxQwesT8P07wzaAYUvw/HPBFOHHm+j9JzV64emr4P2cuKDXCe/U/3ZEHu2YK8z96vs/ZG37xP8xjA5vLrPA/cp6N7ttJ8D+Zw1tEOx7wP2zPpmXqC/A/R6RcA4gE8D+/79/MqQHwPwAAAAAAAPA/",
            "dtype": "f8"
           },
           "yaxis": "y"
          }
         ],
         "name": "137"
        },
        {
         "data": [
          {
           "hovertemplate": "variable=138<br>x=%{x}<br>value=%{y}<extra></extra>",
           "legendgroup": "",
           "line": {
            "color": "#636efa",
            "dash": "solid"
           },
           "marker": {
            "symbol": "circle"
           },
           "mode": "lines",
           "name": "",
           "orientation": "v",
           "showlegend": false,
           "type": "scatter",
           "x": {
            "bdata": "AAAAAAAAAAB7FK5H4XqkP3sUrkfherQ/uB6F61G4vj97FK5H4XrEP5qZmZmZmck/uB6F61G4zj/sUbgehevRP3sUrkfhetQ/CtejcD0K1z+amZmZmZnZPylcj8L1KNw/uB6F61G43j+kcD0K16PgP+xRuB6F6+E/MzMzMzMz4z97FK5H4XrkP8P1KFyPwuU/CtejcD0K5z9SuB6F61HoP5qZmZmZmek/4XoUrkfh6j8pXI/C9SjsP3E9CtejcO0/uB6F61G47j8AAAAAAADwP6RwPQrXo/A/SOF6FK5H8T/sUbgehevxP4/C9Shcj/I/MzMzMzMz8z/Xo3A9CtfzP3sUrkfhevQ/H4XrUbge9T/D9Shcj8L1P2dmZmZmZvY/CtejcD0K9z+uR+F6FK73P1K4HoXrUfg/9ihcj8L1+D+amZmZmZn5Pz4K16NwPfo/4XoUrkfh+j+F61G4HoX7Pylcj8L1KPw/zczMzMzM/D9xPQrXo3D9PxWuR+F6FP4/uB6F61G4/j9cj8L1KFz/PwAAAAAAAABA",
            "dtype": "f8"
           },
           "xaxis": "x",
           "y": {
            "bdata": "AAAAAAAA8D8AAAAAAADwPwAAAAAAAPA/AAAAAAAA8D8AAAAAAADwPwAAAAAAAPA/AAAAAAAA8D8AAAAAAADwPwAAAAAAAPA/AAAAAAAA8D8AAAAAAADwPwAAAAAAAPA/AAAAAAAA8D+w61v/AgDwP0JZKQonAPA/E2wc7PwA8D8DaAGaPwTwP+gWPHSqDfA/oTjxWDEj8D9GACew+UvwPzn1APVhjvA/bxPgzzru8D9ddkYgH2zxP9Xr+8PvBfI/5Gc8B9q38j/TV56QU33zP3+JlW7GUfQ/2Zq2tukw9T9gGNdh3hb2P7uQOYMpAPc/3aMqaJzp9z8MltzcL9D4P5JkewzJsPk/2B1Q1cSH+j/0QcA18k/7P81+PAA7APw/jXDGnYiG/D8oemirDb78P8C1XsP3Yvw/M6++WmQZ+z/CoJk5Wrv4Pw9+EEnCz/U/Wux6/mpI8z/r6rXFNqLxP0stGVb5vvA/dE5hoUBS8D9Yasfb5CHwPwTo3kVyDfA/JLAquCUF8D8uRHEC5wHwPwAAAAAAAPA/",
            "dtype": "f8"
           },
           "yaxis": "y"
          }
         ],
         "name": "138"
        },
        {
         "data": [
          {
           "hovertemplate": "variable=139<br>x=%{x}<br>value=%{y}<extra></extra>",
           "legendgroup": "",
           "line": {
            "color": "#636efa",
            "dash": "solid"
           },
           "marker": {
            "symbol": "circle"
           },
           "mode": "lines",
           "name": "",
           "orientation": "v",
           "showlegend": false,
           "type": "scatter",
           "x": {
            "bdata": "AAAAAAAAAAB7FK5H4XqkP3sUrkfherQ/uB6F61G4vj97FK5H4XrEP5qZmZmZmck/uB6F61G4zj/sUbgehevRP3sUrkfhetQ/CtejcD0K1z+amZmZmZnZPylcj8L1KNw/uB6F61G43j+kcD0K16PgP+xRuB6F6+E/MzMzMzMz4z97FK5H4XrkP8P1KFyPwuU/CtejcD0K5z9SuB6F61HoP5qZmZmZmek/4XoUrkfh6j8pXI/C9SjsP3E9CtejcO0/uB6F61G47j8AAAAAAADwP6RwPQrXo/A/SOF6FK5H8T/sUbgehevxP4/C9Shcj/I/MzMzMzMz8z/Xo3A9CtfzP3sUrkfhevQ/H4XrUbge9T/D9Shcj8L1P2dmZmZmZvY/CtejcD0K9z+uR+F6FK73P1K4HoXrUfg/9ihcj8L1+D+amZmZmZn5Pz4K16NwPfo/4XoUrkfh+j+F61G4HoX7Pylcj8L1KPw/zczMzMzM/D9xPQrXo3D9PxWuR+F6FP4/uB6F61G4/j9cj8L1KFz/PwAAAAAAAABA",
            "dtype": "f8"
           },
           "xaxis": "x",
           "y": {
            "bdata": "AAAAAAAA8D8AAAAAAADwPwAAAAAAAPA/AAAAAAAA8D8AAAAAAADwPwAAAAAAAPA/AAAAAAAA8D8AAAAAAADwPwAAAAAAAPA/AAAAAAAA8D8AAAAAAADwPwAAAAAAAPA/AAAAAAAA8D8RjGm/AgDwP1yROwkkAPA/7WouGOsA8D9Zigv5+QPwP6HHHuHgDPA/jwkYKWIh8D9EOJeFg0jwP8d0mgWoiPA/5zkiJsfl8D8c0PyusmDxP5hCH3N/9/E/7ZGds4Gm8j+W7Z34R2nzPzKpGqZKO/Q/0iBjAkkY9T/YWdqfafz1P6Wcc/s25PY/QUJ5RInM9z88l2JqY7L4P6xtraK7kvk/eY6vDBBq+j/gklN6eDP7P3913oGF5vs/fghnhpRy/D8byMz5vbX8P2Ya7j1vcPw/3a+Uq+hH+z90b2bcagn5P2bVrNuvJPY/9eH/dW6J8z/aCj5v/cjxP5pD9iXL0vA/xm1BmX5b8D9cif4K9SXwP4zon+snD/A/rMbu/NYF8D8D0ntELALwPwAAAAAAAPA/",
            "dtype": "f8"
           },
           "yaxis": "y"
          }
         ],
         "name": "139"
        },
        {
         "data": [
          {
           "hovertemplate": "variable=140<br>x=%{x}<br>value=%{y}<extra></extra>",
           "legendgroup": "",
           "line": {
            "color": "#636efa",
            "dash": "solid"
           },
           "marker": {
            "symbol": "circle"
           },
           "mode": "lines",
           "name": "",
           "orientation": "v",
           "showlegend": false,
           "type": "scatter",
           "x": {
            "bdata": "AAAAAAAAAAB7FK5H4XqkP3sUrkfherQ/uB6F61G4vj97FK5H4XrEP5qZmZmZmck/uB6F61G4zj/sUbgehevRP3sUrkfhetQ/CtejcD0K1z+amZmZmZnZPylcj8L1KNw/uB6F61G43j+kcD0K16PgP+xRuB6F6+E/MzMzMzMz4z97FK5H4XrkP8P1KFyPwuU/CtejcD0K5z9SuB6F61HoP5qZmZmZmek/4XoUrkfh6j8pXI/C9SjsP3E9CtejcO0/uB6F61G47j8AAAAAAADwP6RwPQrXo/A/SOF6FK5H8T/sUbgehevxP4/C9Shcj/I/MzMzMzMz8z/Xo3A9CtfzP3sUrkfhevQ/H4XrUbge9T/D9Shcj8L1P2dmZmZmZvY/CtejcD0K9z+uR+F6FK73P1K4HoXrUfg/9ihcj8L1+D+amZmZmZn5Pz4K16NwPfo/4XoUrkfh+j+F61G4HoX7Pylcj8L1KPw/zczMzMzM/D9xPQrXo3D9PxWuR+F6FP4/uB6F61G4/j9cj8L1KFz/PwAAAAAAAABA",
            "dtype": "f8"
           },
           "xaxis": "x",
           "y": {
            "bdata": "AAAAAAAA8D8AAAAAAADwPwAAAAAAAPA/AAAAAAAA8D8AAAAAAADwPwAAAAAAAPA/AAAAAAAA8D8AAAAAAADwPwAAAAAAAPA/AAAAAAAA8D8AAAAAAADwPwAAAAAAAPA/AAAAAAAA8D//YMuEAgDwPyV8DkMhAPA/bnGmgNoA8D8tAW2ruAPwP+HXll8iDPA/UNq5J6kf8D+kR5H2MUXwPzdeSP4hg/A/uwVgHJXd8D9WT7WWklXxP4tcO+5i6fE/OrwQuIGV8j8poa7hllXzP6ajOYQpJfQ/LeB2PAEA9T+R3lImSuL1P4ZGYe2TyPY/HMPeQL2v9z+ebw6X0pT4P0WKrwfadPk/3CW6VXBM+j8kzMnM7xb7PycXXbOAzPs/fyPQFdRd/D/toxsGs6v8P99faU+zevw/kU+Ypgpy+z+3bQTBVFT5P0TZRn0devY/KG5G4VPN8z+jVSyMh/LxP6k9OqJd6PA/oVCXfqhl8D+fc6/BdSrwP27kqyUQEfA/oJAHBJ4G8D8HFiWJegLwPwAAAAAAAPA/",
            "dtype": "f8"
           },
           "yaxis": "y"
          }
         ],
         "name": "140"
        },
        {
         "data": [
          {
           "hovertemplate": "variable=141<br>x=%{x}<br>value=%{y}<extra></extra>",
           "legendgroup": "",
           "line": {
            "color": "#636efa",
            "dash": "solid"
           },
           "marker": {
            "symbol": "circle"
           },
           "mode": "lines",
           "name": "",
           "orientation": "v",
           "showlegend": false,
           "type": "scatter",
           "x": {
            "bdata": "AAAAAAAAAAB7FK5H4XqkP3sUrkfherQ/uB6F61G4vj97FK5H4XrEP5qZmZmZmck/uB6F61G4zj/sUbgehevRP3sUrkfhetQ/CtejcD0K1z+amZmZmZnZPylcj8L1KNw/uB6F61G43j+kcD0K16PgP+xRuB6F6+E/MzMzMzMz4z97FK5H4XrkP8P1KFyPwuU/CtejcD0K5z9SuB6F61HoP5qZmZmZmek/4XoUrkfh6j8pXI/C9SjsP3E9CtejcO0/uB6F61G47j8AAAAAAADwP6RwPQrXo/A/SOF6FK5H8T/sUbgehevxP4/C9Shcj/I/MzMzMzMz8z/Xo3A9CtfzP3sUrkfhevQ/H4XrUbge9T/D9Shcj8L1P2dmZmZmZvY/CtejcD0K9z+uR+F6FK73P1K4HoXrUfg/9ihcj8L1+D+amZmZmZn5Pz4K16NwPfo/4XoUrkfh+j+F61G4HoX7Pylcj8L1KPw/zczMzMzM/D9xPQrXo3D9PxWuR+F6FP4/uB6F61G4/j9cj8L1KFz/PwAAAAAAAABA",
            "dtype": "f8"
           },
           "xaxis": "x",
           "y": {
            "bdata": "AAAAAAAA8D8AAAAAAADwPwAAAAAAAPA/AAAAAAAA8D8AAAAAAADwPwAAAAAAAPA/AAAAAAAA8D8AAAAAAADwPwAAAAAAAPA/AAAAAAAA8D8AAAAAAADwPwAAAAAAAPA/AAAAAAAA8D8fuw9PAgDwP8c7LrMeAPA/RPgGEMsA8D9G/PZuewPwPznby11uC/A/BPK/XgUe8D/4NbuzA0LwP4k651rOffA/1rXIIaPV8D8IAGJVvUrxP7sy0s6Y2/E/jr1LztiE8j/rmT8pP0LzP8SS0RBiD/Q/W3jnohHo9D86RDJ6f8j1P8u89TpArfY/UYQDuDiT9z+zIz1bfnf4PyhvygwmV/k/gjeH0egu+j/U9zGvXfr6P++BRu82svs/m8KJkltI/D/ASzw1EqD8P9bKTOr3gfw/jl4okd+X+z/vSEi0y5v5P2dqpJWZz/Y/GagjJ/QT9D/V4XJk6R7yP0agK+rN//A/J/viINJw8D+juyq+cS/wP1XJeDQwE/A/OHNUOH0H8D/NEhDh0gLwPwAAAAAAAPA/",
            "dtype": "f8"
           },
           "yaxis": "y"
          }
         ],
         "name": "141"
        },
        {
         "data": [
          {
           "hovertemplate": "variable=142<br>x=%{x}<br>value=%{y}<extra></extra>",
           "legendgroup": "",
           "line": {
            "color": "#636efa",
            "dash": "solid"
           },
           "marker": {
            "symbol": "circle"
           },
           "mode": "lines",
           "name": "",
           "orientation": "v",
           "showlegend": false,
           "type": "scatter",
           "x": {
            "bdata": "AAAAAAAAAAB7FK5H4XqkP3sUrkfherQ/uB6F61G4vj97FK5H4XrEP5qZmZmZmck/uB6F61G4zj/sUbgehevRP3sUrkfhetQ/CtejcD0K1z+amZmZmZnZPylcj8L1KNw/uB6F61G43j+kcD0K16PgP+xRuB6F6+E/MzMzMzMz4z97FK5H4XrkP8P1KFyPwuU/CtejcD0K5z9SuB6F61HoP5qZmZmZmek/4XoUrkfh6j8pXI/C9SjsP3E9CtejcO0/uB6F61G47j8AAAAAAADwP6RwPQrXo/A/SOF6FK5H8T/sUbgehevxP4/C9Shcj/I/MzMzMzMz8z/Xo3A9CtfzP3sUrkfhevQ/H4XrUbge9T/D9Shcj8L1P2dmZmZmZvY/CtejcD0K9z+uR+F6FK73P1K4HoXrUfg/9ihcj8L1+D+amZmZmZn5Pz4K16NwPfo/4XoUrkfh+j+F61G4HoX7Pylcj8L1KPw/zczMzMzM/D9xPQrXo3D9PxWuR+F6FP4/uB6F61G4/j9cj8L1KFz/PwAAAAAAAABA",
            "dtype": "f8"
           },
           "xaxis": "x",
           "y": {
            "bdata": "AAAAAAAA8D8AAAAAAADwPwAAAAAAAPA/AAAAAAAA8D8AAAAAAADwPwAAAAAAAPA/AAAAAAAA8D8AAAAAAADwPwAAAAAAAPA/AAAAAAAA8D8AAAAAAADwPwAAAAAAAPA/AAAAAAAA8D9sZM4dAgDwP0B8fFUcAPA/Vp0+srwA8D/dSjwFQgPwP9devVDECvA/GwQ54XUc8D8RDzJ39z7wP3j8cJ+rePA/24beq+/N8D+NAehtMUDxP7tKcbIfzvE/eds6s4V08j/Y7cGuPy/zP8F93FPz+fM/A/H3cHnQ9D9kquMZCa/1P5cnq7o7kvY/tj3Z8vt29z+WmHKVZ1r4P+DTXF2hOfk/dmFCZXwR+j+doGY4x936P9aoQLyxl/s/UnBhpT0y/D8X51Ny/pL8P7T1bSBwhvw/PdxsKYS5+z8W2HXlj9/5Py+xa2GwJPc/YTK2GB5d9D9fEHERM07yP1N4b2M5GfE/HFVadhB98D9mu7eY9DTwP8AD3NKNFfA/j/YpQncI8D+sdeZ5NgPwPwAAAAAAAPA/",
            "dtype": "f8"
           },
           "yaxis": "y"
          }
         ],
         "name": "142"
        },
        {
         "data": [
          {
           "hovertemplate": "variable=143<br>x=%{x}<br>value=%{y}<extra></extra>",
           "legendgroup": "",
           "line": {
            "color": "#636efa",
            "dash": "solid"
           },
           "marker": {
            "symbol": "circle"
           },
           "mode": "lines",
           "name": "",
           "orientation": "v",
           "showlegend": false,
           "type": "scatter",
           "x": {
            "bdata": "AAAAAAAAAAB7FK5H4XqkP3sUrkfherQ/uB6F61G4vj97FK5H4XrEP5qZmZmZmck/uB6F61G4zj/sUbgehevRP3sUrkfhetQ/CtejcD0K1z+amZmZmZnZPylcj8L1KNw/uB6F61G43j+kcD0K16PgP+xRuB6F6+E/MzMzMzMz4z97FK5H4XrkP8P1KFyPwuU/CtejcD0K5z9SuB6F61HoP5qZmZmZmek/4XoUrkfh6j8pXI/C9SjsP3E9CtejcO0/uB6F61G47j8AAAAAAADwP6RwPQrXo/A/SOF6FK5H8T/sUbgehevxP4/C9Shcj/I/MzMzMzMz8z/Xo3A9CtfzP3sUrkfhevQ/H4XrUbge9T/D9Shcj8L1P2dmZmZmZvY/CtejcD0K9z+uR+F6FK73P1K4HoXrUfg/9ihcj8L1+D+amZmZmZn5Pz4K16NwPfo/4XoUrkfh+j+F61G4HoX7Pylcj8L1KPw/zczMzMzM/D9xPQrXo3D9PxWuR+F6FP4/uB6F61G4/j9cj8L1KFz/PwAAAAAAAABA",
            "dtype": "f8"
           },
           "xaxis": "x",
           "y": {
            "bdata": "AAAAAAAA8D8AAAAAAADwPwAAAAAAAPA/AAAAAAAA8D8AAAAAAADwPwAAAAAAAPA/AAAAAAAA8D8AAAAAAADwPwAAAAAAAPA/AAAAAAAA8D8AAAAAAADwPwAAAAAAAPA/AAAAAAAA8D8V1qfwAQDwP84bKiYaAPA/jNWQVK8A8D+mn14zDAPwPwPZ+7MjCvA/llkXy/ka8D99v2AEDDzwP13i6Fe4c/A/Im5oNnnG8D/y9w5o7TXxP5WOojr2wPE/zn79Jodk8j9IV71TlxzzP1XYp1Xc5PM/VCSg3ze59D8Rgux95pX1P5HsZjiGd/Y/hz3PKQdb9z8uyPkLjz34P7ylPIFNHPk/WUxHvi30+T/QyV8cMcH6P8Angd75fPs/oGD+d4sb/D/YBpxBmIT8P73KXaxNiPw/mh6UWBvX+z8N9+M7bh/6Pwl/KgnuePc/YxgEcJao9D9Xy8C1b4DyP3FotGu9NPE/hR16l3mK8D9OvpjOCjvwP8fsHT8vGPA/C/6fDI8J8D+XbxehpgPwPwAAAAAAAPA/",
            "dtype": "f8"
           },
           "yaxis": "y"
          }
         ],
         "name": "143"
        },
        {
         "data": [
          {
           "hovertemplate": "variable=144<br>x=%{x}<br>value=%{y}<extra></extra>",
           "legendgroup": "",
           "line": {
            "color": "#636efa",
            "dash": "solid"
           },
           "marker": {
            "symbol": "circle"
           },
           "mode": "lines",
           "name": "",
           "orientation": "v",
           "showlegend": false,
           "type": "scatter",
           "x": {
            "bdata": "AAAAAAAAAAB7FK5H4XqkP3sUrkfherQ/uB6F61G4vj97FK5H4XrEP5qZmZmZmck/uB6F61G4zj/sUbgehevRP3sUrkfhetQ/CtejcD0K1z+amZmZmZnZPylcj8L1KNw/uB6F61G43j+kcD0K16PgP+xRuB6F6+E/MzMzMzMz4z97FK5H4XrkP8P1KFyPwuU/CtejcD0K5z9SuB6F61HoP5qZmZmZmek/4XoUrkfh6j8pXI/C9SjsP3E9CtejcO0/uB6F61G47j8AAAAAAADwP6RwPQrXo/A/SOF6FK5H8T/sUbgehevxP4/C9Shcj/I/MzMzMzMz8z/Xo3A9CtfzP3sUrkfhevQ/H4XrUbge9T/D9Shcj8L1P2dmZmZmZvY/CtejcD0K9z+uR+F6FK73P1K4HoXrUfg/9ihcj8L1+D+amZmZmZn5Pz4K16NwPfo/4XoUrkfh+j+F61G4HoX7Pylcj8L1KPw/zczMzMzM/D9xPQrXo3D9PxWuR+F6FP4/uB6F61G4/j9cj8L1KFz/PwAAAAAAAABA",
            "dtype": "f8"
           },
           "xaxis": "x",
           "y": {
            "bdata": "AAAAAAAA8D8AAAAAAADwPwAAAAAAAPA/AAAAAAAA8D8AAAAAAADwPwAAAAAAAPA/AAAAAAAA8D8AAAAAAADwPwAAAAAAAPA/AAAAAAAA8D8AAAAAAADwPwAAAAAAAPA/AAAAAAAA8D85f0THAQDwP/BJsSEYAPA/ZwuA5aIA8D8rOd7B2QLwPw3IYwmMCfA/HM7vQJAZ8D8a1tYnQDnwP5aJRxjzbvA/e69kQz6/8D8xWnHQ7yvxPyUm3QwbtPE/bmvh7NtU8j+Ef+H7RArzP+9HBx8c0PM/isfrJUyi9D8REIIZF331PySQT3YfXfY/fcD0hVo/9z9lRm1u9SD4P3Tc8d4r//g/adftVf/W+T/Bus6zn6T6Px0c1WcXYvs/Rlvz0VQE/D+UZxzY/XT8P3HUdZXAh/w/23b08czw+z+EHH5RQFv6Pw9j4r3gy/c/IMwGERj29D9kr0mypLXyPyR3dPx2UvE/tuu9tSSZ8D+ufoTMwUHwP4b3bUQbG/A/+yA9y8cK8D+Eu8/GJATwPwAAAAAAAPA/",
            "dtype": "f8"
           },
           "yaxis": "y"
          }
         ],
         "name": "144"
        },
        {
         "data": [
          {
           "hovertemplate": "variable=145<br>x=%{x}<br>value=%{y}<extra></extra>",
           "legendgroup": "",
           "line": {
            "color": "#636efa",
            "dash": "solid"
           },
           "marker": {
            "symbol": "circle"
           },
           "mode": "lines",
           "name": "",
           "orientation": "v",
           "showlegend": false,
           "type": "scatter",
           "x": {
            "bdata": "AAAAAAAAAAB7FK5H4XqkP3sUrkfherQ/uB6F61G4vj97FK5H4XrEP5qZmZmZmck/uB6F61G4zj/sUbgehevRP3sUrkfhetQ/CtejcD0K1z+amZmZmZnZPylcj8L1KNw/uB6F61G43j+kcD0K16PgP+xRuB6F6+E/MzMzMzMz4z97FK5H4XrkP8P1KFyPwuU/CtejcD0K5z9SuB6F61HoP5qZmZmZmek/4XoUrkfh6j8pXI/C9SjsP3E9CtejcO0/uB6F61G47j8AAAAAAADwP6RwPQrXo/A/SOF6FK5H8T/sUbgehevxP4/C9Shcj/I/MzMzMzMz8z/Xo3A9CtfzP3sUrkfhevQ/H4XrUbge9T/D9Shcj8L1P2dmZmZmZvY/CtejcD0K9z+uR+F6FK73P1K4HoXrUfg/9ihcj8L1+D+amZmZmZn5Pz4K16NwPfo/4XoUrkfh+j+F61G4HoX7Pylcj8L1KPw/zczMzMzM/D9xPQrXo3D9PxWuR+F6FP4/uB6F61G4/j9cj8L1KFz/PwAAAAAAAABA",
            "dtype": "f8"
           },
           "xaxis": "x",
           "y": {
            "bdata": "AAAAAAAA8D8AAAAAAADwPwAAAAAAAPA/AAAAAAAA8D8AAAAAAADwPwAAAAAAAPA/AAAAAAAA8D8AAAAAAADwPwAAAAAAAPA/AAAAAAAA8D8AAAAAAADwPwAAAAAAAPA/AAAAAAAA8D8SG1ShAQDwP3wU0EQWAPA/iRW5VJcA8D/v1mt8qgLwP+X52tj8CPA/Tai5bzgY8D+yKB+3kjbwPwsiZ3xaavA/Zz78Wj248D8loG04NyLxP1JsdtKMp/E/Eq9cy4JF8j/PLRSNR/jyP3kegrmxu/M/W6NRebWL9D/PUxRbmmT1P6L/lC0HQ/Y/h04KIvYj9z/HXylXmwT4P4qhzb094vg/4qINdfO5+T+ODBQDF4j6P2swUsYRR/s/L3UwNKjs+z+31M82S2T8P16kb+v2hPw/dyGghsQG/D9e3Q8b7JL6P0xua8YaHfg/7+zJkVRF9T/O4mfe0O3yP7YbMECCcvE/mamhDCqp8D+1aU/4J0nwPzWCrURZHvA/zfkBACUM8D8KYS6BsgTwPwAAAAAAAPA/",
            "dtype": "f8"
           },
           "yaxis": "y"
          }
         ],
         "name": "145"
        },
        {
         "data": [
          {
           "hovertemplate": "variable=146<br>x=%{x}<br>value=%{y}<extra></extra>",
           "legendgroup": "",
           "line": {
            "color": "#636efa",
            "dash": "solid"
           },
           "marker": {
            "symbol": "circle"
           },
           "mode": "lines",
           "name": "",
           "orientation": "v",
           "showlegend": false,
           "type": "scatter",
           "x": {
            "bdata": "AAAAAAAAAAB7FK5H4XqkP3sUrkfherQ/uB6F61G4vj97FK5H4XrEP5qZmZmZmck/uB6F61G4zj/sUbgehevRP3sUrkfhetQ/CtejcD0K1z+amZmZmZnZPylcj8L1KNw/uB6F61G43j+kcD0K16PgP+xRuB6F6+E/MzMzMzMz4z97FK5H4XrkP8P1KFyPwuU/CtejcD0K5z9SuB6F61HoP5qZmZmZmek/4XoUrkfh6j8pXI/C9SjsP3E9CtejcO0/uB6F61G47j8AAAAAAADwP6RwPQrXo/A/SOF6FK5H8T/sUbgehevxP4/C9Shcj/I/MzMzMzMz8z/Xo3A9CtfzP3sUrkfhevQ/H4XrUbge9T/D9Shcj8L1P2dmZmZmZvY/CtejcD0K9z+uR+F6FK73P1K4HoXrUfg/9ihcj8L1+D+amZmZmZn5Pz4K16NwPfo/4XoUrkfh+j+F61G4HoX7Pylcj8L1KPw/zczMzMzM/D9xPQrXo3D9PxWuR+F6FP4/uB6F61G4/j9cj8L1KFz/PwAAAAAAAABA",
            "dtype": "f8"
           },
           "xaxis": "x",
           "y": {
            "bdata": "AAAAAAAA8D8AAAAAAADwPwAAAAAAAPA/AAAAAAAA8D8AAAAAAADwPwAAAAAAAPA/AAAAAAAA8D8AAAAAAADwPwAAAAAAAPA/AAAAAAAA8D8AAAAAAADwPwAAAAAAAPA/AAAAAAAA8D9FFY1+AQDwP+dag4wUAPA/UfH/kowA8D9F5LwxfgLwPyr1D7B1CPA/wFSPjPEW8D/aWpaQAjTwP46x7yftZfA/F9t2C3Wx8D9CURg2whjxP74XkzhKm/E/jnYGjHo28j+qpHzvnebyP43yey+cp/M/+4QDDnN19D+W+s6sb0z1P5YGLA89KfY/F/yCC9oI9z8nCKlMgej3P8xA4EeExfg/uT0/Nwyd+T/xA5/Ammv6PxfIydHvK/s/+YTF8pLU+z8Suv5HmlL8P0xuXZYcgPw/Cnm9UjAZ/D9V9CBKY8b6Pxf+x2k0bPg/kdRVC/WV9T8ZTfrJ6yjzPypc3Bj6lPE/zx7+y6K68D/UlHK5TFHwP0qHg0LxIfA/paLWgaoN8D/Rz7mPUQXwPwAAAAAAAPA/",
            "dtype": "f8"
           },
           "yaxis": "y"
          }
         ],
         "name": "146"
        },
        {
         "data": [
          {
           "hovertemplate": "variable=147<br>x=%{x}<br>value=%{y}<extra></extra>",
           "legendgroup": "",
           "line": {
            "color": "#636efa",
            "dash": "solid"
           },
           "marker": {
            "symbol": "circle"
           },
           "mode": "lines",
           "name": "",
           "orientation": "v",
           "showlegend": false,
           "type": "scatter",
           "x": {
            "bdata": "AAAAAAAAAAB7FK5H4XqkP3sUrkfherQ/uB6F61G4vj97FK5H4XrEP5qZmZmZmck/uB6F61G4zj/sUbgehevRP3sUrkfhetQ/CtejcD0K1z+amZmZmZnZPylcj8L1KNw/uB6F61G43j+kcD0K16PgP+xRuB6F6+E/MzMzMzMz4z97FK5H4XrkP8P1KFyPwuU/CtejcD0K5z9SuB6F61HoP5qZmZmZmek/4XoUrkfh6j8pXI/C9SjsP3E9CtejcO0/uB6F61G47j8AAAAAAADwP6RwPQrXo/A/SOF6FK5H8T/sUbgehevxP4/C9Shcj/I/MzMzMzMz8z/Xo3A9CtfzP3sUrkfhevQ/H4XrUbge9T/D9Shcj8L1P2dmZmZmZvY/CtejcD0K9z+uR+F6FK73P1K4HoXrUfg/9ihcj8L1+D+amZmZmZn5Pz4K16NwPfo/4XoUrkfh+j+F61G4HoX7Pylcj8L1KPw/zczMzMzM/D9xPQrXo3D9PxWuR+F6FP4/uB6F61G4/j9cj8L1KFz/PwAAAAAAAABA",
            "dtype": "f8"
           },
           "xaxis": "x",
           "y": {
            "bdata": "AAAAAAAA8D8AAAAAAADwPwAAAAAAAPA/AAAAAAAA8D8AAAAAAADwPwAAAAAAAPA/AAAAAAAA8D8AAAAAAADwPwAAAAAAAPA/AAAAAAAA8D8AAAAAAADwPwAAAAAAAPA/AAAAAAAA8D8w+6teAQDwP14gAvYSAPA/064dkoIA8D9PwmGzVALwP/R7OyL2B/A/9Qpw1LoV8D+LR0GbjjHwP+FXQ8apYfA/K9sv6eOq8D9r8y5kjw/xP8KrGPBRj/E/EPWO+8En8j+2cYwNR9XyP/W1WIzak/M/uGc3F4Rf9D/8/RB1ljT1P8CofcTAD/Y/AGd2Qwbu9j8xv87Cp8z3P8Yj0IsAqfg/j5/gjUuA+T/u78NaLk/6PyqMFti3EPs/m8HxTCG8+z/12NT9AkD8P9a69Ddbefw/A7HvR0Ao/D/+4/B1ovX6P49wlKTNuPg/LFm7MZvn9T+KRwwR5WbzPwXhr5f3ufE/sb7E+qjN8D8AgxCAQFrwP60ap+vrJfA/isdbg1wP8D9F9RjfAwbwPwAAAAAAAPA/",
            "dtype": "f8"
           },
           "yaxis": "y"
          }
         ],
         "name": "147"
        },
        {
         "data": [
          {
           "hovertemplate": "variable=148<br>x=%{x}<br>value=%{y}<extra></extra>",
           "legendgroup": "",
           "line": {
            "color": "#636efa",
            "dash": "solid"
           },
           "marker": {
            "symbol": "circle"
           },
           "mode": "lines",
           "name": "",
           "orientation": "v",
           "showlegend": false,
           "type": "scatter",
           "x": {
            "bdata": "AAAAAAAAAAB7FK5H4XqkP3sUrkfherQ/uB6F61G4vj97FK5H4XrEP5qZmZmZmck/uB6F61G4zj/sUbgehevRP3sUrkfhetQ/CtejcD0K1z+amZmZmZnZPylcj8L1KNw/uB6F61G43j+kcD0K16PgP+xRuB6F6+E/MzMzMzMz4z97FK5H4XrkP8P1KFyPwuU/CtejcD0K5z9SuB6F61HoP5qZmZmZmek/4XoUrkfh6j8pXI/C9SjsP3E9CtejcO0/uB6F61G47j8AAAAAAADwP6RwPQrXo/A/SOF6FK5H8T/sUbgehevxP4/C9Shcj/I/MzMzMzMz8z/Xo3A9CtfzP3sUrkfhevQ/H4XrUbge9T/D9Shcj8L1P2dmZmZmZvY/CtejcD0K9z+uR+F6FK73P1K4HoXrUfg/9ihcj8L1+D+amZmZmZn5Pz4K16NwPfo/4XoUrkfh+j+F61G4HoX7Pylcj8L1KPw/zczMzMzM/D9xPQrXo3D9PxWuR+F6FP4/uB6F61G4/j9cj8L1KFz/PwAAAAAAAABA",
            "dtype": "f8"
           },
           "xaxis": "x",
           "y": {
            "bdata": "AAAAAAAA8D8AAAAAAADwPwAAAAAAAPA/AAAAAAAA8D8AAAAAAADwPwAAAAAAAPA/AAAAAAAA8D8AAAAAAADwPwAAAAAAAPA/AAAAAAAA8D8AAAAAAADwPwAAAAAAAPA/AAAAAAAA8D8W+XJBAQDwP+A1uX4RAPA/UXzPRHkA8D9CG57VLQLwPzAg5Md9B/A/b2MCjJMU8D/2TqPGNS/wP2WFagqPXfA/Do6Ljoik8D/O1wtinQbxPxJEn62ig/E/VYW26VcZ8j+P7wXUQcTyP5OknNxrgPM/IU9qx+dJ9D9Ag9sWDh31P04RC/CR9vU/6DyEv3rT9j8WgRocD7H3P9Tqk36zjPg/WwviQrNj+T+nCxb91DL6P8qfW6hv9fo/dLCFg16j+z8Vu2pxmyz8P+PrTBvacPw/YSFfNiU0/D9GiN8ZsCD7P3Hi5pqPAvk/kXfvreI59j8LFXHJo6fzP5ldCWeR4fE/wKMWUVfi8D9F2gjKFGTwP2aSSaNSKvA/SrAfmj8R8D+e5xONywbwPwAAAAAAAPA/",
            "dtype": "f8"
           },
           "yaxis": "y"
          }
         ],
         "name": "148"
        },
        {
         "data": [
          {
           "hovertemplate": "variable=149<br>x=%{x}<br>value=%{y}<extra></extra>",
           "legendgroup": "",
           "line": {
            "color": "#636efa",
            "dash": "solid"
           },
           "marker": {
            "symbol": "circle"
           },
           "mode": "lines",
           "name": "",
           "orientation": "v",
           "showlegend": false,
           "type": "scatter",
           "x": {
            "bdata": "AAAAAAAAAAB7FK5H4XqkP3sUrkfherQ/uB6F61G4vj97FK5H4XrEP5qZmZmZmck/uB6F61G4zj/sUbgehevRP3sUrkfhetQ/CtejcD0K1z+amZmZmZnZPylcj8L1KNw/uB6F61G43j+kcD0K16PgP+xRuB6F6+E/MzMzMzMz4z97FK5H4XrkP8P1KFyPwuU/CtejcD0K5z9SuB6F61HoP5qZmZmZmek/4XoUrkfh6j8pXI/C9SjsP3E9CtejcO0/uB6F61G47j8AAAAAAADwP6RwPQrXo/A/SOF6FK5H8T/sUbgehevxP4/C9Shcj/I/MzMzMzMz8z/Xo3A9CtfzP3sUrkfhevQ/H4XrUbge9T/D9Shcj8L1P2dmZmZmZvY/CtejcD0K9z+uR+F6FK73P1K4HoXrUfg/9ihcj8L1+D+amZmZmZn5Pz4K16NwPfo/4XoUrkfh+j+F61G4HoX7Pylcj8L1KPw/zczMzMzM/D9xPQrXo3D9PxWuR+F6FP4/uB6F61G4/j9cj8L1KFz/PwAAAAAAAABA",
            "dtype": "f8"
           },
           "xaxis": "x",
           "y": {
            "bdata": "AAAAAAAA8D8AAAAAAADwPwAAAAAAAPA/AAAAAAAA8D8AAAAAAADwPwAAAAAAAPA/AAAAAAAA8D8AAAAAAADwPwAAAAAAAPA/AAAAAAAA8D8AAAAAAADwPwAAAAAAAPA/AAAAAAAA8D86YqkmAQDwPwA2RyQQAPA/a8C2nnAA8D+JKUNvCQLwP/3goz4MB/A/0+VX/3oT8D8ki5QK9yzwP4UXAK+bWfA/vCztm2Ge8D9OwprT6v3wP/3KYyk7ePE/XylEKTsL8j9PtAAyjbPyP7pfCC5PbfM/AkKdUJ009D/diDjy1QX1P3i/Bi6w3fU/gRCqaje59j/vys2qt5X3Py+MEf2dcPg/c/lf+0RH+T+UPVCVkRb6P7qXS50c2vo/sPWi7VSK+z/YOKcBeBj8P3OmcjC+Zvw/YtyDFBA9/D8kXWF3m0f7Py1/67stSfk/4AB+sGKM9j87rPESBuvzPwvD1CfbC/I/03qxCMn48D91IZwl3G7wP2dcg4wvL/A/QV02xlgT8D/PrN/sqgfwPwAAAAAAAPA/",
            "dtype": "f8"
           },
           "yaxis": "y"
          }
         ],
         "name": "149"
        },
        {
         "data": [
          {
           "hovertemplate": "variable=150<br>x=%{x}<br>value=%{y}<extra></extra>",
           "legendgroup": "",
           "line": {
            "color": "#636efa",
            "dash": "solid"
           },
           "marker": {
            "symbol": "circle"
           },
           "mode": "lines",
           "name": "",
           "orientation": "v",
           "showlegend": false,
           "type": "scatter",
           "x": {
            "bdata": "AAAAAAAAAAB7FK5H4XqkP3sUrkfherQ/uB6F61G4vj97FK5H4XrEP5qZmZmZmck/uB6F61G4zj/sUbgehevRP3sUrkfhetQ/CtejcD0K1z+amZmZmZnZPylcj8L1KNw/uB6F61G43j+kcD0K16PgP+xRuB6F6+E/MzMzMzMz4z97FK5H4XrkP8P1KFyPwuU/CtejcD0K5z9SuB6F61HoP5qZmZmZmek/4XoUrkfh6j8pXI/C9SjsP3E9CtejcO0/uB6F61G47j8AAAAAAADwP6RwPQrXo/A/SOF6FK5H8T/sUbgehevxP4/C9Shcj/I/MzMzMzMz8z/Xo3A9CtfzP3sUrkfhevQ/H4XrUbge9T/D9Shcj8L1P2dmZmZmZvY/CtejcD0K9z+uR+F6FK73P1K4HoXrUfg/9ihcj8L1+D+amZmZmZn5Pz4K16NwPfo/4XoUrkfh+j+F61G4HoX7Pylcj8L1KPw/zczMzMzM/D9xPQrXo3D9PxWuR+F6FP4/uB6F61G4/j9cj8L1KFz/PwAAAAAAAABA",
            "dtype": "f8"
           },
           "xaxis": "x",
           "y": {
            "bdata": "AAAAAAAA8D8AAAAAAADwPwAAAAAAAPA/AAAAAAAA8D8AAAAAAADwPwAAAAAAAPA/AAAAAAAA8D8AAAAAAADwPwAAAAAAAPA/AAAAAAAA8D8AAAAAAADwPwAAAAAAAPA/AAAAAAAA8D/xQhsOAQDwP2PMeOQOAPA/CzNKlGgA8D/33YtZ5wHwPwfI7yihBvA/tZWxgXAS8D/V7hdn0SrwPyZPHXbOVfA/xEStt22Y8D/IZk5hdvXwPyeoOh8abfE/MIr7j2r98T8cI+wYKKPyPyKEsY+DWvM/X8+M5KMf9D9455lk7e70PxyQ4xQbxfU/CzoMJjyf9j+DrP6xoXr3PxE7pM3AVPg/jDYOOgIr+T8nAdfXZvr5P/UEjKbDvvo/cy/qCw5x+z+ySIJxqwP8PyJBeBEqW/w/eYW6ZDFD/D+6FK9oe2r7Pxpr95BmjPk/DQu8sK/e9j/gDofS4DD0P3CimsTkOPI/CWa1ohkR8T8lyw8xqnrwP3PAn5SNNPA/uj8yeq0V8D9nfriLpAjwPwAAAAAAAPA/",
            "dtype": "f8"
           },
           "yaxis": "y"
          }
         ],
         "name": "150"
        }
       ],
       "layout": {
        "legend": {
         "tracegroupgap": 0
        },
        "margin": {
         "t": 60
        },
        "sliders": [
         {
          "active": 0,
          "currentvalue": {
           "prefix": "variable="
          },
          "len": 0.9,
          "pad": {
           "b": 10,
           "t": 60
          },
          "steps": [
           {
            "args": [
             [
              "0"
             ],
             {
              "frame": {
               "duration": 0,
               "redraw": false
              },
              "fromcurrent": true,
              "mode": "immediate",
              "transition": {
               "duration": 0,
               "easing": "linear"
              }
             }
            ],
            "label": "0",
            "method": "animate"
           },
           {
            "args": [
             [
              "1"
             ],
             {
              "frame": {
               "duration": 0,
               "redraw": false
              },
              "fromcurrent": true,
              "mode": "immediate",
              "transition": {
               "duration": 0,
               "easing": "linear"
              }
             }
            ],
            "label": "1",
            "method": "animate"
           },
           {
            "args": [
             [
              "2"
             ],
             {
              "frame": {
               "duration": 0,
               "redraw": false
              },
              "fromcurrent": true,
              "mode": "immediate",
              "transition": {
               "duration": 0,
               "easing": "linear"
              }
             }
            ],
            "label": "2",
            "method": "animate"
           },
           {
            "args": [
             [
              "3"
             ],
             {
              "frame": {
               "duration": 0,
               "redraw": false
              },
              "fromcurrent": true,
              "mode": "immediate",
              "transition": {
               "duration": 0,
               "easing": "linear"
              }
             }
            ],
            "label": "3",
            "method": "animate"
           },
           {
            "args": [
             [
              "4"
             ],
             {
              "frame": {
               "duration": 0,
               "redraw": false
              },
              "fromcurrent": true,
              "mode": "immediate",
              "transition": {
               "duration": 0,
               "easing": "linear"
              }
             }
            ],
            "label": "4",
            "method": "animate"
           },
           {
            "args": [
             [
              "5"
             ],
             {
              "frame": {
               "duration": 0,
               "redraw": false
              },
              "fromcurrent": true,
              "mode": "immediate",
              "transition": {
               "duration": 0,
               "easing": "linear"
              }
             }
            ],
            "label": "5",
            "method": "animate"
           },
           {
            "args": [
             [
              "6"
             ],
             {
              "frame": {
               "duration": 0,
               "redraw": false
              },
              "fromcurrent": true,
              "mode": "immediate",
              "transition": {
               "duration": 0,
               "easing": "linear"
              }
             }
            ],
            "label": "6",
            "method": "animate"
           },
           {
            "args": [
             [
              "7"
             ],
             {
              "frame": {
               "duration": 0,
               "redraw": false
              },
              "fromcurrent": true,
              "mode": "immediate",
              "transition": {
               "duration": 0,
               "easing": "linear"
              }
             }
            ],
            "label": "7",
            "method": "animate"
           },
           {
            "args": [
             [
              "8"
             ],
             {
              "frame": {
               "duration": 0,
               "redraw": false
              },
              "fromcurrent": true,
              "mode": "immediate",
              "transition": {
               "duration": 0,
               "easing": "linear"
              }
             }
            ],
            "label": "8",
            "method": "animate"
           },
           {
            "args": [
             [
              "9"
             ],
             {
              "frame": {
               "duration": 0,
               "redraw": false
              },
              "fromcurrent": true,
              "mode": "immediate",
              "transition": {
               "duration": 0,
               "easing": "linear"
              }
             }
            ],
            "label": "9",
            "method": "animate"
           },
           {
            "args": [
             [
              "10"
             ],
             {
              "frame": {
               "duration": 0,
               "redraw": false
              },
              "fromcurrent": true,
              "mode": "immediate",
              "transition": {
               "duration": 0,
               "easing": "linear"
              }
             }
            ],
            "label": "10",
            "method": "animate"
           },
           {
            "args": [
             [
              "11"
             ],
             {
              "frame": {
               "duration": 0,
               "redraw": false
              },
              "fromcurrent": true,
              "mode": "immediate",
              "transition": {
               "duration": 0,
               "easing": "linear"
              }
             }
            ],
            "label": "11",
            "method": "animate"
           },
           {
            "args": [
             [
              "12"
             ],
             {
              "frame": {
               "duration": 0,
               "redraw": false
              },
              "fromcurrent": true,
              "mode": "immediate",
              "transition": {
               "duration": 0,
               "easing": "linear"
              }
             }
            ],
            "label": "12",
            "method": "animate"
           },
           {
            "args": [
             [
              "13"
             ],
             {
              "frame": {
               "duration": 0,
               "redraw": false
              },
              "fromcurrent": true,
              "mode": "immediate",
              "transition": {
               "duration": 0,
               "easing": "linear"
              }
             }
            ],
            "label": "13",
            "method": "animate"
           },
           {
            "args": [
             [
              "14"
             ],
             {
              "frame": {
               "duration": 0,
               "redraw": false
              },
              "fromcurrent": true,
              "mode": "immediate",
              "transition": {
               "duration": 0,
               "easing": "linear"
              }
             }
            ],
            "label": "14",
            "method": "animate"
           },
           {
            "args": [
             [
              "15"
             ],
             {
              "frame": {
               "duration": 0,
               "redraw": false
              },
              "fromcurrent": true,
              "mode": "immediate",
              "transition": {
               "duration": 0,
               "easing": "linear"
              }
             }
            ],
            "label": "15",
            "method": "animate"
           },
           {
            "args": [
             [
              "16"
             ],
             {
              "frame": {
               "duration": 0,
               "redraw": false
              },
              "fromcurrent": true,
              "mode": "immediate",
              "transition": {
               "duration": 0,
               "easing": "linear"
              }
             }
            ],
            "label": "16",
            "method": "animate"
           },
           {
            "args": [
             [
              "17"
             ],
             {
              "frame": {
               "duration": 0,
               "redraw": false
              },
              "fromcurrent": true,
              "mode": "immediate",
              "transition": {
               "duration": 0,
               "easing": "linear"
              }
             }
            ],
            "label": "17",
            "method": "animate"
           },
           {
            "args": [
             [
              "18"
             ],
             {
              "frame": {
               "duration": 0,
               "redraw": false
              },
              "fromcurrent": true,
              "mode": "immediate",
              "transition": {
               "duration": 0,
               "easing": "linear"
              }
             }
            ],
            "label": "18",
            "method": "animate"
           },
           {
            "args": [
             [
              "19"
             ],
             {
              "frame": {
               "duration": 0,
               "redraw": false
              },
              "fromcurrent": true,
              "mode": "immediate",
              "transition": {
               "duration": 0,
               "easing": "linear"
              }
             }
            ],
            "label": "19",
            "method": "animate"
           },
           {
            "args": [
             [
              "20"
             ],
             {
              "frame": {
               "duration": 0,
               "redraw": false
              },
              "fromcurrent": true,
              "mode": "immediate",
              "transition": {
               "duration": 0,
               "easing": "linear"
              }
             }
            ],
            "label": "20",
            "method": "animate"
           },
           {
            "args": [
             [
              "21"
             ],
             {
              "frame": {
               "duration": 0,
               "redraw": false
              },
              "fromcurrent": true,
              "mode": "immediate",
              "transition": {
               "duration": 0,
               "easing": "linear"
              }
             }
            ],
            "label": "21",
            "method": "animate"
           },
           {
            "args": [
             [
              "22"
             ],
             {
              "frame": {
               "duration": 0,
               "redraw": false
              },
              "fromcurrent": true,
              "mode": "immediate",
              "transition": {
               "duration": 0,
               "easing": "linear"
              }
             }
            ],
            "label": "22",
            "method": "animate"
           },
           {
            "args": [
             [
              "23"
             ],
             {
              "frame": {
               "duration": 0,
               "redraw": false
              },
              "fromcurrent": true,
              "mode": "immediate",
              "transition": {
               "duration": 0,
               "easing": "linear"
              }
             }
            ],
            "label": "23",
            "method": "animate"
           },
           {
            "args": [
             [
              "24"
             ],
             {
              "frame": {
               "duration": 0,
               "redraw": false
              },
              "fromcurrent": true,
              "mode": "immediate",
              "transition": {
               "duration": 0,
               "easing": "linear"
              }
             }
            ],
            "label": "24",
            "method": "animate"
           },
           {
            "args": [
             [
              "25"
             ],
             {
              "frame": {
               "duration": 0,
               "redraw": false
              },
              "fromcurrent": true,
              "mode": "immediate",
              "transition": {
               "duration": 0,
               "easing": "linear"
              }
             }
            ],
            "label": "25",
            "method": "animate"
           },
           {
            "args": [
             [
              "26"
             ],
             {
              "frame": {
               "duration": 0,
               "redraw": false
              },
              "fromcurrent": true,
              "mode": "immediate",
              "transition": {
               "duration": 0,
               "easing": "linear"
              }
             }
            ],
            "label": "26",
            "method": "animate"
           },
           {
            "args": [
             [
              "27"
             ],
             {
              "frame": {
               "duration": 0,
               "redraw": false
              },
              "fromcurrent": true,
              "mode": "immediate",
              "transition": {
               "duration": 0,
               "easing": "linear"
              }
             }
            ],
            "label": "27",
            "method": "animate"
           },
           {
            "args": [
             [
              "28"
             ],
             {
              "frame": {
               "duration": 0,
               "redraw": false
              },
              "fromcurrent": true,
              "mode": "immediate",
              "transition": {
               "duration": 0,
               "easing": "linear"
              }
             }
            ],
            "label": "28",
            "method": "animate"
           },
           {
            "args": [
             [
              "29"
             ],
             {
              "frame": {
               "duration": 0,
               "redraw": false
              },
              "fromcurrent": true,
              "mode": "immediate",
              "transition": {
               "duration": 0,
               "easing": "linear"
              }
             }
            ],
            "label": "29",
            "method": "animate"
           },
           {
            "args": [
             [
              "30"
             ],
             {
              "frame": {
               "duration": 0,
               "redraw": false
              },
              "fromcurrent": true,
              "mode": "immediate",
              "transition": {
               "duration": 0,
               "easing": "linear"
              }
             }
            ],
            "label": "30",
            "method": "animate"
           },
           {
            "args": [
             [
              "31"
             ],
             {
              "frame": {
               "duration": 0,
               "redraw": false
              },
              "fromcurrent": true,
              "mode": "immediate",
              "transition": {
               "duration": 0,
               "easing": "linear"
              }
             }
            ],
            "label": "31",
            "method": "animate"
           },
           {
            "args": [
             [
              "32"
             ],
             {
              "frame": {
               "duration": 0,
               "redraw": false
              },
              "fromcurrent": true,
              "mode": "immediate",
              "transition": {
               "duration": 0,
               "easing": "linear"
              }
             }
            ],
            "label": "32",
            "method": "animate"
           },
           {
            "args": [
             [
              "33"
             ],
             {
              "frame": {
               "duration": 0,
               "redraw": false
              },
              "fromcurrent": true,
              "mode": "immediate",
              "transition": {
               "duration": 0,
               "easing": "linear"
              }
             }
            ],
            "label": "33",
            "method": "animate"
           },
           {
            "args": [
             [
              "34"
             ],
             {
              "frame": {
               "duration": 0,
               "redraw": false
              },
              "fromcurrent": true,
              "mode": "immediate",
              "transition": {
               "duration": 0,
               "easing": "linear"
              }
             }
            ],
            "label": "34",
            "method": "animate"
           },
           {
            "args": [
             [
              "35"
             ],
             {
              "frame": {
               "duration": 0,
               "redraw": false
              },
              "fromcurrent": true,
              "mode": "immediate",
              "transition": {
               "duration": 0,
               "easing": "linear"
              }
             }
            ],
            "label": "35",
            "method": "animate"
           },
           {
            "args": [
             [
              "36"
             ],
             {
              "frame": {
               "duration": 0,
               "redraw": false
              },
              "fromcurrent": true,
              "mode": "immediate",
              "transition": {
               "duration": 0,
               "easing": "linear"
              }
             }
            ],
            "label": "36",
            "method": "animate"
           },
           {
            "args": [
             [
              "37"
             ],
             {
              "frame": {
               "duration": 0,
               "redraw": false
              },
              "fromcurrent": true,
              "mode": "immediate",
              "transition": {
               "duration": 0,
               "easing": "linear"
              }
             }
            ],
            "label": "37",
            "method": "animate"
           },
           {
            "args": [
             [
              "38"
             ],
             {
              "frame": {
               "duration": 0,
               "redraw": false
              },
              "fromcurrent": true,
              "mode": "immediate",
              "transition": {
               "duration": 0,
               "easing": "linear"
              }
             }
            ],
            "label": "38",
            "method": "animate"
           },
           {
            "args": [
             [
              "39"
             ],
             {
              "frame": {
               "duration": 0,
               "redraw": false
              },
              "fromcurrent": true,
              "mode": "immediate",
              "transition": {
               "duration": 0,
               "easing": "linear"
              }
             }
            ],
            "label": "39",
            "method": "animate"
           },
           {
            "args": [
             [
              "40"
             ],
             {
              "frame": {
               "duration": 0,
               "redraw": false
              },
              "fromcurrent": true,
              "mode": "immediate",
              "transition": {
               "duration": 0,
               "easing": "linear"
              }
             }
            ],
            "label": "40",
            "method": "animate"
           },
           {
            "args": [
             [
              "41"
             ],
             {
              "frame": {
               "duration": 0,
               "redraw": false
              },
              "fromcurrent": true,
              "mode": "immediate",
              "transition": {
               "duration": 0,
               "easing": "linear"
              }
             }
            ],
            "label": "41",
            "method": "animate"
           },
           {
            "args": [
             [
              "42"
             ],
             {
              "frame": {
               "duration": 0,
               "redraw": false
              },
              "fromcurrent": true,
              "mode": "immediate",
              "transition": {
               "duration": 0,
               "easing": "linear"
              }
             }
            ],
            "label": "42",
            "method": "animate"
           },
           {
            "args": [
             [
              "43"
             ],
             {
              "frame": {
               "duration": 0,
               "redraw": false
              },
              "fromcurrent": true,
              "mode": "immediate",
              "transition": {
               "duration": 0,
               "easing": "linear"
              }
             }
            ],
            "label": "43",
            "method": "animate"
           },
           {
            "args": [
             [
              "44"
             ],
             {
              "frame": {
               "duration": 0,
               "redraw": false
              },
              "fromcurrent": true,
              "mode": "immediate",
              "transition": {
               "duration": 0,
               "easing": "linear"
              }
             }
            ],
            "label": "44",
            "method": "animate"
           },
           {
            "args": [
             [
              "45"
             ],
             {
              "frame": {
               "duration": 0,
               "redraw": false
              },
              "fromcurrent": true,
              "mode": "immediate",
              "transition": {
               "duration": 0,
               "easing": "linear"
              }
             }
            ],
            "label": "45",
            "method": "animate"
           },
           {
            "args": [
             [
              "46"
             ],
             {
              "frame": {
               "duration": 0,
               "redraw": false
              },
              "fromcurrent": true,
              "mode": "immediate",
              "transition": {
               "duration": 0,
               "easing": "linear"
              }
             }
            ],
            "label": "46",
            "method": "animate"
           },
           {
            "args": [
             [
              "47"
             ],
             {
              "frame": {
               "duration": 0,
               "redraw": false
              },
              "fromcurrent": true,
              "mode": "immediate",
              "transition": {
               "duration": 0,
               "easing": "linear"
              }
             }
            ],
            "label": "47",
            "method": "animate"
           },
           {
            "args": [
             [
              "48"
             ],
             {
              "frame": {
               "duration": 0,
               "redraw": false
              },
              "fromcurrent": true,
              "mode": "immediate",
              "transition": {
               "duration": 0,
               "easing": "linear"
              }
             }
            ],
            "label": "48",
            "method": "animate"
           },
           {
            "args": [
             [
              "49"
             ],
             {
              "frame": {
               "duration": 0,
               "redraw": false
              },
              "fromcurrent": true,
              "mode": "immediate",
              "transition": {
               "duration": 0,
               "easing": "linear"
              }
             }
            ],
            "label": "49",
            "method": "animate"
           },
           {
            "args": [
             [
              "50"
             ],
             {
              "frame": {
               "duration": 0,
               "redraw": false
              },
              "fromcurrent": true,
              "mode": "immediate",
              "transition": {
               "duration": 0,
               "easing": "linear"
              }
             }
            ],
            "label": "50",
            "method": "animate"
           },
           {
            "args": [
             [
              "51"
             ],
             {
              "frame": {
               "duration": 0,
               "redraw": false
              },
              "fromcurrent": true,
              "mode": "immediate",
              "transition": {
               "duration": 0,
               "easing": "linear"
              }
             }
            ],
            "label": "51",
            "method": "animate"
           },
           {
            "args": [
             [
              "52"
             ],
             {
              "frame": {
               "duration": 0,
               "redraw": false
              },
              "fromcurrent": true,
              "mode": "immediate",
              "transition": {
               "duration": 0,
               "easing": "linear"
              }
             }
            ],
            "label": "52",
            "method": "animate"
           },
           {
            "args": [
             [
              "53"
             ],
             {
              "frame": {
               "duration": 0,
               "redraw": false
              },
              "fromcurrent": true,
              "mode": "immediate",
              "transition": {
               "duration": 0,
               "easing": "linear"
              }
             }
            ],
            "label": "53",
            "method": "animate"
           },
           {
            "args": [
             [
              "54"
             ],
             {
              "frame": {
               "duration": 0,
               "redraw": false
              },
              "fromcurrent": true,
              "mode": "immediate",
              "transition": {
               "duration": 0,
               "easing": "linear"
              }
             }
            ],
            "label": "54",
            "method": "animate"
           },
           {
            "args": [
             [
              "55"
             ],
             {
              "frame": {
               "duration": 0,
               "redraw": false
              },
              "fromcurrent": true,
              "mode": "immediate",
              "transition": {
               "duration": 0,
               "easing": "linear"
              }
             }
            ],
            "label": "55",
            "method": "animate"
           },
           {
            "args": [
             [
              "56"
             ],
             {
              "frame": {
               "duration": 0,
               "redraw": false
              },
              "fromcurrent": true,
              "mode": "immediate",
              "transition": {
               "duration": 0,
               "easing": "linear"
              }
             }
            ],
            "label": "56",
            "method": "animate"
           },
           {
            "args": [
             [
              "57"
             ],
             {
              "frame": {
               "duration": 0,
               "redraw": false
              },
              "fromcurrent": true,
              "mode": "immediate",
              "transition": {
               "duration": 0,
               "easing": "linear"
              }
             }
            ],
            "label": "57",
            "method": "animate"
           },
           {
            "args": [
             [
              "58"
             ],
             {
              "frame": {
               "duration": 0,
               "redraw": false
              },
              "fromcurrent": true,
              "mode": "immediate",
              "transition": {
               "duration": 0,
               "easing": "linear"
              }
             }
            ],
            "label": "58",
            "method": "animate"
           },
           {
            "args": [
             [
              "59"
             ],
             {
              "frame": {
               "duration": 0,
               "redraw": false
              },
              "fromcurrent": true,
              "mode": "immediate",
              "transition": {
               "duration": 0,
               "easing": "linear"
              }
             }
            ],
            "label": "59",
            "method": "animate"
           },
           {
            "args": [
             [
              "60"
             ],
             {
              "frame": {
               "duration": 0,
               "redraw": false
              },
              "fromcurrent": true,
              "mode": "immediate",
              "transition": {
               "duration": 0,
               "easing": "linear"
              }
             }
            ],
            "label": "60",
            "method": "animate"
           },
           {
            "args": [
             [
              "61"
             ],
             {
              "frame": {
               "duration": 0,
               "redraw": false
              },
              "fromcurrent": true,
              "mode": "immediate",
              "transition": {
               "duration": 0,
               "easing": "linear"
              }
             }
            ],
            "label": "61",
            "method": "animate"
           },
           {
            "args": [
             [
              "62"
             ],
             {
              "frame": {
               "duration": 0,
               "redraw": false
              },
              "fromcurrent": true,
              "mode": "immediate",
              "transition": {
               "duration": 0,
               "easing": "linear"
              }
             }
            ],
            "label": "62",
            "method": "animate"
           },
           {
            "args": [
             [
              "63"
             ],
             {
              "frame": {
               "duration": 0,
               "redraw": false
              },
              "fromcurrent": true,
              "mode": "immediate",
              "transition": {
               "duration": 0,
               "easing": "linear"
              }
             }
            ],
            "label": "63",
            "method": "animate"
           },
           {
            "args": [
             [
              "64"
             ],
             {
              "frame": {
               "duration": 0,
               "redraw": false
              },
              "fromcurrent": true,
              "mode": "immediate",
              "transition": {
               "duration": 0,
               "easing": "linear"
              }
             }
            ],
            "label": "64",
            "method": "animate"
           },
           {
            "args": [
             [
              "65"
             ],
             {
              "frame": {
               "duration": 0,
               "redraw": false
              },
              "fromcurrent": true,
              "mode": "immediate",
              "transition": {
               "duration": 0,
               "easing": "linear"
              }
             }
            ],
            "label": "65",
            "method": "animate"
           },
           {
            "args": [
             [
              "66"
             ],
             {
              "frame": {
               "duration": 0,
               "redraw": false
              },
              "fromcurrent": true,
              "mode": "immediate",
              "transition": {
               "duration": 0,
               "easing": "linear"
              }
             }
            ],
            "label": "66",
            "method": "animate"
           },
           {
            "args": [
             [
              "67"
             ],
             {
              "frame": {
               "duration": 0,
               "redraw": false
              },
              "fromcurrent": true,
              "mode": "immediate",
              "transition": {
               "duration": 0,
               "easing": "linear"
              }
             }
            ],
            "label": "67",
            "method": "animate"
           },
           {
            "args": [
             [
              "68"
             ],
             {
              "frame": {
               "duration": 0,
               "redraw": false
              },
              "fromcurrent": true,
              "mode": "immediate",
              "transition": {
               "duration": 0,
               "easing": "linear"
              }
             }
            ],
            "label": "68",
            "method": "animate"
           },
           {
            "args": [
             [
              "69"
             ],
             {
              "frame": {
               "duration": 0,
               "redraw": false
              },
              "fromcurrent": true,
              "mode": "immediate",
              "transition": {
               "duration": 0,
               "easing": "linear"
              }
             }
            ],
            "label": "69",
            "method": "animate"
           },
           {
            "args": [
             [
              "70"
             ],
             {
              "frame": {
               "duration": 0,
               "redraw": false
              },
              "fromcurrent": true,
              "mode": "immediate",
              "transition": {
               "duration": 0,
               "easing": "linear"
              }
             }
            ],
            "label": "70",
            "method": "animate"
           },
           {
            "args": [
             [
              "71"
             ],
             {
              "frame": {
               "duration": 0,
               "redraw": false
              },
              "fromcurrent": true,
              "mode": "immediate",
              "transition": {
               "duration": 0,
               "easing": "linear"
              }
             }
            ],
            "label": "71",
            "method": "animate"
           },
           {
            "args": [
             [
              "72"
             ],
             {
              "frame": {
               "duration": 0,
               "redraw": false
              },
              "fromcurrent": true,
              "mode": "immediate",
              "transition": {
               "duration": 0,
               "easing": "linear"
              }
             }
            ],
            "label": "72",
            "method": "animate"
           },
           {
            "args": [
             [
              "73"
             ],
             {
              "frame": {
               "duration": 0,
               "redraw": false
              },
              "fromcurrent": true,
              "mode": "immediate",
              "transition": {
               "duration": 0,
               "easing": "linear"
              }
             }
            ],
            "label": "73",
            "method": "animate"
           },
           {
            "args": [
             [
              "74"
             ],
             {
              "frame": {
               "duration": 0,
               "redraw": false
              },
              "fromcurrent": true,
              "mode": "immediate",
              "transition": {
               "duration": 0,
               "easing": "linear"
              }
             }
            ],
            "label": "74",
            "method": "animate"
           },
           {
            "args": [
             [
              "75"
             ],
             {
              "frame": {
               "duration": 0,
               "redraw": false
              },
              "fromcurrent": true,
              "mode": "immediate",
              "transition": {
               "duration": 0,
               "easing": "linear"
              }
             }
            ],
            "label": "75",
            "method": "animate"
           },
           {
            "args": [
             [
              "76"
             ],
             {
              "frame": {
               "duration": 0,
               "redraw": false
              },
              "fromcurrent": true,
              "mode": "immediate",
              "transition": {
               "duration": 0,
               "easing": "linear"
              }
             }
            ],
            "label": "76",
            "method": "animate"
           },
           {
            "args": [
             [
              "77"
             ],
             {
              "frame": {
               "duration": 0,
               "redraw": false
              },
              "fromcurrent": true,
              "mode": "immediate",
              "transition": {
               "duration": 0,
               "easing": "linear"
              }
             }
            ],
            "label": "77",
            "method": "animate"
           },
           {
            "args": [
             [
              "78"
             ],
             {
              "frame": {
               "duration": 0,
               "redraw": false
              },
              "fromcurrent": true,
              "mode": "immediate",
              "transition": {
               "duration": 0,
               "easing": "linear"
              }
             }
            ],
            "label": "78",
            "method": "animate"
           },
           {
            "args": [
             [
              "79"
             ],
             {
              "frame": {
               "duration": 0,
               "redraw": false
              },
              "fromcurrent": true,
              "mode": "immediate",
              "transition": {
               "duration": 0,
               "easing": "linear"
              }
             }
            ],
            "label": "79",
            "method": "animate"
           },
           {
            "args": [
             [
              "80"
             ],
             {
              "frame": {
               "duration": 0,
               "redraw": false
              },
              "fromcurrent": true,
              "mode": "immediate",
              "transition": {
               "duration": 0,
               "easing": "linear"
              }
             }
            ],
            "label": "80",
            "method": "animate"
           },
           {
            "args": [
             [
              "81"
             ],
             {
              "frame": {
               "duration": 0,
               "redraw": false
              },
              "fromcurrent": true,
              "mode": "immediate",
              "transition": {
               "duration": 0,
               "easing": "linear"
              }
             }
            ],
            "label": "81",
            "method": "animate"
           },
           {
            "args": [
             [
              "82"
             ],
             {
              "frame": {
               "duration": 0,
               "redraw": false
              },
              "fromcurrent": true,
              "mode": "immediate",
              "transition": {
               "duration": 0,
               "easing": "linear"
              }
             }
            ],
            "label": "82",
            "method": "animate"
           },
           {
            "args": [
             [
              "83"
             ],
             {
              "frame": {
               "duration": 0,
               "redraw": false
              },
              "fromcurrent": true,
              "mode": "immediate",
              "transition": {
               "duration": 0,
               "easing": "linear"
              }
             }
            ],
            "label": "83",
            "method": "animate"
           },
           {
            "args": [
             [
              "84"
             ],
             {
              "frame": {
               "duration": 0,
               "redraw": false
              },
              "fromcurrent": true,
              "mode": "immediate",
              "transition": {
               "duration": 0,
               "easing": "linear"
              }
             }
            ],
            "label": "84",
            "method": "animate"
           },
           {
            "args": [
             [
              "85"
             ],
             {
              "frame": {
               "duration": 0,
               "redraw": false
              },
              "fromcurrent": true,
              "mode": "immediate",
              "transition": {
               "duration": 0,
               "easing": "linear"
              }
             }
            ],
            "label": "85",
            "method": "animate"
           },
           {
            "args": [
             [
              "86"
             ],
             {
              "frame": {
               "duration": 0,
               "redraw": false
              },
              "fromcurrent": true,
              "mode": "immediate",
              "transition": {
               "duration": 0,
               "easing": "linear"
              }
             }
            ],
            "label": "86",
            "method": "animate"
           },
           {
            "args": [
             [
              "87"
             ],
             {
              "frame": {
               "duration": 0,
               "redraw": false
              },
              "fromcurrent": true,
              "mode": "immediate",
              "transition": {
               "duration": 0,
               "easing": "linear"
              }
             }
            ],
            "label": "87",
            "method": "animate"
           },
           {
            "args": [
             [
              "88"
             ],
             {
              "frame": {
               "duration": 0,
               "redraw": false
              },
              "fromcurrent": true,
              "mode": "immediate",
              "transition": {
               "duration": 0,
               "easing": "linear"
              }
             }
            ],
            "label": "88",
            "method": "animate"
           },
           {
            "args": [
             [
              "89"
             ],
             {
              "frame": {
               "duration": 0,
               "redraw": false
              },
              "fromcurrent": true,
              "mode": "immediate",
              "transition": {
               "duration": 0,
               "easing": "linear"
              }
             }
            ],
            "label": "89",
            "method": "animate"
           },
           {
            "args": [
             [
              "90"
             ],
             {
              "frame": {
               "duration": 0,
               "redraw": false
              },
              "fromcurrent": true,
              "mode": "immediate",
              "transition": {
               "duration": 0,
               "easing": "linear"
              }
             }
            ],
            "label": "90",
            "method": "animate"
           },
           {
            "args": [
             [
              "91"
             ],
             {
              "frame": {
               "duration": 0,
               "redraw": false
              },
              "fromcurrent": true,
              "mode": "immediate",
              "transition": {
               "duration": 0,
               "easing": "linear"
              }
             }
            ],
            "label": "91",
            "method": "animate"
           },
           {
            "args": [
             [
              "92"
             ],
             {
              "frame": {
               "duration": 0,
               "redraw": false
              },
              "fromcurrent": true,
              "mode": "immediate",
              "transition": {
               "duration": 0,
               "easing": "linear"
              }
             }
            ],
            "label": "92",
            "method": "animate"
           },
           {
            "args": [
             [
              "93"
             ],
             {
              "frame": {
               "duration": 0,
               "redraw": false
              },
              "fromcurrent": true,
              "mode": "immediate",
              "transition": {
               "duration": 0,
               "easing": "linear"
              }
             }
            ],
            "label": "93",
            "method": "animate"
           },
           {
            "args": [
             [
              "94"
             ],
             {
              "frame": {
               "duration": 0,
               "redraw": false
              },
              "fromcurrent": true,
              "mode": "immediate",
              "transition": {
               "duration": 0,
               "easing": "linear"
              }
             }
            ],
            "label": "94",
            "method": "animate"
           },
           {
            "args": [
             [
              "95"
             ],
             {
              "frame": {
               "duration": 0,
               "redraw": false
              },
              "fromcurrent": true,
              "mode": "immediate",
              "transition": {
               "duration": 0,
               "easing": "linear"
              }
             }
            ],
            "label": "95",
            "method": "animate"
           },
           {
            "args": [
             [
              "96"
             ],
             {
              "frame": {
               "duration": 0,
               "redraw": false
              },
              "fromcurrent": true,
              "mode": "immediate",
              "transition": {
               "duration": 0,
               "easing": "linear"
              }
             }
            ],
            "label": "96",
            "method": "animate"
           },
           {
            "args": [
             [
              "97"
             ],
             {
              "frame": {
               "duration": 0,
               "redraw": false
              },
              "fromcurrent": true,
              "mode": "immediate",
              "transition": {
               "duration": 0,
               "easing": "linear"
              }
             }
            ],
            "label": "97",
            "method": "animate"
           },
           {
            "args": [
             [
              "98"
             ],
             {
              "frame": {
               "duration": 0,
               "redraw": false
              },
              "fromcurrent": true,
              "mode": "immediate",
              "transition": {
               "duration": 0,
               "easing": "linear"
              }
             }
            ],
            "label": "98",
            "method": "animate"
           },
           {
            "args": [
             [
              "99"
             ],
             {
              "frame": {
               "duration": 0,
               "redraw": false
              },
              "fromcurrent": true,
              "mode": "immediate",
              "transition": {
               "duration": 0,
               "easing": "linear"
              }
             }
            ],
            "label": "99",
            "method": "animate"
           },
           {
            "args": [
             [
              "100"
             ],
             {
              "frame": {
               "duration": 0,
               "redraw": false
              },
              "fromcurrent": true,
              "mode": "immediate",
              "transition": {
               "duration": 0,
               "easing": "linear"
              }
             }
            ],
            "label": "100",
            "method": "animate"
           },
           {
            "args": [
             [
              "101"
             ],
             {
              "frame": {
               "duration": 0,
               "redraw": false
              },
              "fromcurrent": true,
              "mode": "immediate",
              "transition": {
               "duration": 0,
               "easing": "linear"
              }
             }
            ],
            "label": "101",
            "method": "animate"
           },
           {
            "args": [
             [
              "102"
             ],
             {
              "frame": {
               "duration": 0,
               "redraw": false
              },
              "fromcurrent": true,
              "mode": "immediate",
              "transition": {
               "duration": 0,
               "easing": "linear"
              }
             }
            ],
            "label": "102",
            "method": "animate"
           },
           {
            "args": [
             [
              "103"
             ],
             {
              "frame": {
               "duration": 0,
               "redraw": false
              },
              "fromcurrent": true,
              "mode": "immediate",
              "transition": {
               "duration": 0,
               "easing": "linear"
              }
             }
            ],
            "label": "103",
            "method": "animate"
           },
           {
            "args": [
             [
              "104"
             ],
             {
              "frame": {
               "duration": 0,
               "redraw": false
              },
              "fromcurrent": true,
              "mode": "immediate",
              "transition": {
               "duration": 0,
               "easing": "linear"
              }
             }
            ],
            "label": "104",
            "method": "animate"
           },
           {
            "args": [
             [
              "105"
             ],
             {
              "frame": {
               "duration": 0,
               "redraw": false
              },
              "fromcurrent": true,
              "mode": "immediate",
              "transition": {
               "duration": 0,
               "easing": "linear"
              }
             }
            ],
            "label": "105",
            "method": "animate"
           },
           {
            "args": [
             [
              "106"
             ],
             {
              "frame": {
               "duration": 0,
               "redraw": false
              },
              "fromcurrent": true,
              "mode": "immediate",
              "transition": {
               "duration": 0,
               "easing": "linear"
              }
             }
            ],
            "label": "106",
            "method": "animate"
           },
           {
            "args": [
             [
              "107"
             ],
             {
              "frame": {
               "duration": 0,
               "redraw": false
              },
              "fromcurrent": true,
              "mode": "immediate",
              "transition": {
               "duration": 0,
               "easing": "linear"
              }
             }
            ],
            "label": "107",
            "method": "animate"
           },
           {
            "args": [
             [
              "108"
             ],
             {
              "frame": {
               "duration": 0,
               "redraw": false
              },
              "fromcurrent": true,
              "mode": "immediate",
              "transition": {
               "duration": 0,
               "easing": "linear"
              }
             }
            ],
            "label": "108",
            "method": "animate"
           },
           {
            "args": [
             [
              "109"
             ],
             {
              "frame": {
               "duration": 0,
               "redraw": false
              },
              "fromcurrent": true,
              "mode": "immediate",
              "transition": {
               "duration": 0,
               "easing": "linear"
              }
             }
            ],
            "label": "109",
            "method": "animate"
           },
           {
            "args": [
             [
              "110"
             ],
             {
              "frame": {
               "duration": 0,
               "redraw": false
              },
              "fromcurrent": true,
              "mode": "immediate",
              "transition": {
               "duration": 0,
               "easing": "linear"
              }
             }
            ],
            "label": "110",
            "method": "animate"
           },
           {
            "args": [
             [
              "111"
             ],
             {
              "frame": {
               "duration": 0,
               "redraw": false
              },
              "fromcurrent": true,
              "mode": "immediate",
              "transition": {
               "duration": 0,
               "easing": "linear"
              }
             }
            ],
            "label": "111",
            "method": "animate"
           },
           {
            "args": [
             [
              "112"
             ],
             {
              "frame": {
               "duration": 0,
               "redraw": false
              },
              "fromcurrent": true,
              "mode": "immediate",
              "transition": {
               "duration": 0,
               "easing": "linear"
              }
             }
            ],
            "label": "112",
            "method": "animate"
           },
           {
            "args": [
             [
              "113"
             ],
             {
              "frame": {
               "duration": 0,
               "redraw": false
              },
              "fromcurrent": true,
              "mode": "immediate",
              "transition": {
               "duration": 0,
               "easing": "linear"
              }
             }
            ],
            "label": "113",
            "method": "animate"
           },
           {
            "args": [
             [
              "114"
             ],
             {
              "frame": {
               "duration": 0,
               "redraw": false
              },
              "fromcurrent": true,
              "mode": "immediate",
              "transition": {
               "duration": 0,
               "easing": "linear"
              }
             }
            ],
            "label": "114",
            "method": "animate"
           },
           {
            "args": [
             [
              "115"
             ],
             {
              "frame": {
               "duration": 0,
               "redraw": false
              },
              "fromcurrent": true,
              "mode": "immediate",
              "transition": {
               "duration": 0,
               "easing": "linear"
              }
             }
            ],
            "label": "115",
            "method": "animate"
           },
           {
            "args": [
             [
              "116"
             ],
             {
              "frame": {
               "duration": 0,
               "redraw": false
              },
              "fromcurrent": true,
              "mode": "immediate",
              "transition": {
               "duration": 0,
               "easing": "linear"
              }
             }
            ],
            "label": "116",
            "method": "animate"
           },
           {
            "args": [
             [
              "117"
             ],
             {
              "frame": {
               "duration": 0,
               "redraw": false
              },
              "fromcurrent": true,
              "mode": "immediate",
              "transition": {
               "duration": 0,
               "easing": "linear"
              }
             }
            ],
            "label": "117",
            "method": "animate"
           },
           {
            "args": [
             [
              "118"
             ],
             {
              "frame": {
               "duration": 0,
               "redraw": false
              },
              "fromcurrent": true,
              "mode": "immediate",
              "transition": {
               "duration": 0,
               "easing": "linear"
              }
             }
            ],
            "label": "118",
            "method": "animate"
           },
           {
            "args": [
             [
              "119"
             ],
             {
              "frame": {
               "duration": 0,
               "redraw": false
              },
              "fromcurrent": true,
              "mode": "immediate",
              "transition": {
               "duration": 0,
               "easing": "linear"
              }
             }
            ],
            "label": "119",
            "method": "animate"
           },
           {
            "args": [
             [
              "120"
             ],
             {
              "frame": {
               "duration": 0,
               "redraw": false
              },
              "fromcurrent": true,
              "mode": "immediate",
              "transition": {
               "duration": 0,
               "easing": "linear"
              }
             }
            ],
            "label": "120",
            "method": "animate"
           },
           {
            "args": [
             [
              "121"
             ],
             {
              "frame": {
               "duration": 0,
               "redraw": false
              },
              "fromcurrent": true,
              "mode": "immediate",
              "transition": {
               "duration": 0,
               "easing": "linear"
              }
             }
            ],
            "label": "121",
            "method": "animate"
           },
           {
            "args": [
             [
              "122"
             ],
             {
              "frame": {
               "duration": 0,
               "redraw": false
              },
              "fromcurrent": true,
              "mode": "immediate",
              "transition": {
               "duration": 0,
               "easing": "linear"
              }
             }
            ],
            "label": "122",
            "method": "animate"
           },
           {
            "args": [
             [
              "123"
             ],
             {
              "frame": {
               "duration": 0,
               "redraw": false
              },
              "fromcurrent": true,
              "mode": "immediate",
              "transition": {
               "duration": 0,
               "easing": "linear"
              }
             }
            ],
            "label": "123",
            "method": "animate"
           },
           {
            "args": [
             [
              "124"
             ],
             {
              "frame": {
               "duration": 0,
               "redraw": false
              },
              "fromcurrent": true,
              "mode": "immediate",
              "transition": {
               "duration": 0,
               "easing": "linear"
              }
             }
            ],
            "label": "124",
            "method": "animate"
           },
           {
            "args": [
             [
              "125"
             ],
             {
              "frame": {
               "duration": 0,
               "redraw": false
              },
              "fromcurrent": true,
              "mode": "immediate",
              "transition": {
               "duration": 0,
               "easing": "linear"
              }
             }
            ],
            "label": "125",
            "method": "animate"
           },
           {
            "args": [
             [
              "126"
             ],
             {
              "frame": {
               "duration": 0,
               "redraw": false
              },
              "fromcurrent": true,
              "mode": "immediate",
              "transition": {
               "duration": 0,
               "easing": "linear"
              }
             }
            ],
            "label": "126",
            "method": "animate"
           },
           {
            "args": [
             [
              "127"
             ],
             {
              "frame": {
               "duration": 0,
               "redraw": false
              },
              "fromcurrent": true,
              "mode": "immediate",
              "transition": {
               "duration": 0,
               "easing": "linear"
              }
             }
            ],
            "label": "127",
            "method": "animate"
           },
           {
            "args": [
             [
              "128"
             ],
             {
              "frame": {
               "duration": 0,
               "redraw": false
              },
              "fromcurrent": true,
              "mode": "immediate",
              "transition": {
               "duration": 0,
               "easing": "linear"
              }
             }
            ],
            "label": "128",
            "method": "animate"
           },
           {
            "args": [
             [
              "129"
             ],
             {
              "frame": {
               "duration": 0,
               "redraw": false
              },
              "fromcurrent": true,
              "mode": "immediate",
              "transition": {
               "duration": 0,
               "easing": "linear"
              }
             }
            ],
            "label": "129",
            "method": "animate"
           },
           {
            "args": [
             [
              "130"
             ],
             {
              "frame": {
               "duration": 0,
               "redraw": false
              },
              "fromcurrent": true,
              "mode": "immediate",
              "transition": {
               "duration": 0,
               "easing": "linear"
              }
             }
            ],
            "label": "130",
            "method": "animate"
           },
           {
            "args": [
             [
              "131"
             ],
             {
              "frame": {
               "duration": 0,
               "redraw": false
              },
              "fromcurrent": true,
              "mode": "immediate",
              "transition": {
               "duration": 0,
               "easing": "linear"
              }
             }
            ],
            "label": "131",
            "method": "animate"
           },
           {
            "args": [
             [
              "132"
             ],
             {
              "frame": {
               "duration": 0,
               "redraw": false
              },
              "fromcurrent": true,
              "mode": "immediate",
              "transition": {
               "duration": 0,
               "easing": "linear"
              }
             }
            ],
            "label": "132",
            "method": "animate"
           },
           {
            "args": [
             [
              "133"
             ],
             {
              "frame": {
               "duration": 0,
               "redraw": false
              },
              "fromcurrent": true,
              "mode": "immediate",
              "transition": {
               "duration": 0,
               "easing": "linear"
              }
             }
            ],
            "label": "133",
            "method": "animate"
           },
           {
            "args": [
             [
              "134"
             ],
             {
              "frame": {
               "duration": 0,
               "redraw": false
              },
              "fromcurrent": true,
              "mode": "immediate",
              "transition": {
               "duration": 0,
               "easing": "linear"
              }
             }
            ],
            "label": "134",
            "method": "animate"
           },
           {
            "args": [
             [
              "135"
             ],
             {
              "frame": {
               "duration": 0,
               "redraw": false
              },
              "fromcurrent": true,
              "mode": "immediate",
              "transition": {
               "duration": 0,
               "easing": "linear"
              }
             }
            ],
            "label": "135",
            "method": "animate"
           },
           {
            "args": [
             [
              "136"
             ],
             {
              "frame": {
               "duration": 0,
               "redraw": false
              },
              "fromcurrent": true,
              "mode": "immediate",
              "transition": {
               "duration": 0,
               "easing": "linear"
              }
             }
            ],
            "label": "136",
            "method": "animate"
           },
           {
            "args": [
             [
              "137"
             ],
             {
              "frame": {
               "duration": 0,
               "redraw": false
              },
              "fromcurrent": true,
              "mode": "immediate",
              "transition": {
               "duration": 0,
               "easing": "linear"
              }
             }
            ],
            "label": "137",
            "method": "animate"
           },
           {
            "args": [
             [
              "138"
             ],
             {
              "frame": {
               "duration": 0,
               "redraw": false
              },
              "fromcurrent": true,
              "mode": "immediate",
              "transition": {
               "duration": 0,
               "easing": "linear"
              }
             }
            ],
            "label": "138",
            "method": "animate"
           },
           {
            "args": [
             [
              "139"
             ],
             {
              "frame": {
               "duration": 0,
               "redraw": false
              },
              "fromcurrent": true,
              "mode": "immediate",
              "transition": {
               "duration": 0,
               "easing": "linear"
              }
             }
            ],
            "label": "139",
            "method": "animate"
           },
           {
            "args": [
             [
              "140"
             ],
             {
              "frame": {
               "duration": 0,
               "redraw": false
              },
              "fromcurrent": true,
              "mode": "immediate",
              "transition": {
               "duration": 0,
               "easing": "linear"
              }
             }
            ],
            "label": "140",
            "method": "animate"
           },
           {
            "args": [
             [
              "141"
             ],
             {
              "frame": {
               "duration": 0,
               "redraw": false
              },
              "fromcurrent": true,
              "mode": "immediate",
              "transition": {
               "duration": 0,
               "easing": "linear"
              }
             }
            ],
            "label": "141",
            "method": "animate"
           },
           {
            "args": [
             [
              "142"
             ],
             {
              "frame": {
               "duration": 0,
               "redraw": false
              },
              "fromcurrent": true,
              "mode": "immediate",
              "transition": {
               "duration": 0,
               "easing": "linear"
              }
             }
            ],
            "label": "142",
            "method": "animate"
           },
           {
            "args": [
             [
              "143"
             ],
             {
              "frame": {
               "duration": 0,
               "redraw": false
              },
              "fromcurrent": true,
              "mode": "immediate",
              "transition": {
               "duration": 0,
               "easing": "linear"
              }
             }
            ],
            "label": "143",
            "method": "animate"
           },
           {
            "args": [
             [
              "144"
             ],
             {
              "frame": {
               "duration": 0,
               "redraw": false
              },
              "fromcurrent": true,
              "mode": "immediate",
              "transition": {
               "duration": 0,
               "easing": "linear"
              }
             }
            ],
            "label": "144",
            "method": "animate"
           },
           {
            "args": [
             [
              "145"
             ],
             {
              "frame": {
               "duration": 0,
               "redraw": false
              },
              "fromcurrent": true,
              "mode": "immediate",
              "transition": {
               "duration": 0,
               "easing": "linear"
              }
             }
            ],
            "label": "145",
            "method": "animate"
           },
           {
            "args": [
             [
              "146"
             ],
             {
              "frame": {
               "duration": 0,
               "redraw": false
              },
              "fromcurrent": true,
              "mode": "immediate",
              "transition": {
               "duration": 0,
               "easing": "linear"
              }
             }
            ],
            "label": "146",
            "method": "animate"
           },
           {
            "args": [
             [
              "147"
             ],
             {
              "frame": {
               "duration": 0,
               "redraw": false
              },
              "fromcurrent": true,
              "mode": "immediate",
              "transition": {
               "duration": 0,
               "easing": "linear"
              }
             }
            ],
            "label": "147",
            "method": "animate"
           },
           {
            "args": [
             [
              "148"
             ],
             {
              "frame": {
               "duration": 0,
               "redraw": false
              },
              "fromcurrent": true,
              "mode": "immediate",
              "transition": {
               "duration": 0,
               "easing": "linear"
              }
             }
            ],
            "label": "148",
            "method": "animate"
           },
           {
            "args": [
             [
              "149"
             ],
             {
              "frame": {
               "duration": 0,
               "redraw": false
              },
              "fromcurrent": true,
              "mode": "immediate",
              "transition": {
               "duration": 0,
               "easing": "linear"
              }
             }
            ],
            "label": "149",
            "method": "animate"
           },
           {
            "args": [
             [
              "150"
             ],
             {
              "frame": {
               "duration": 0,
               "redraw": false
              },
              "fromcurrent": true,
              "mode": "immediate",
              "transition": {
               "duration": 0,
               "easing": "linear"
              }
             }
            ],
            "label": "150",
            "method": "animate"
           }
          ],
          "x": 0.1,
          "xanchor": "left",
          "y": 0,
          "yanchor": "top"
         }
        ],
        "template": {
         "data": {
          "bar": [
           {
            "error_x": {
             "color": "#2a3f5f"
            },
            "error_y": {
             "color": "#2a3f5f"
            },
            "marker": {
             "line": {
              "color": "#E5ECF6",
              "width": 0.5
             },
             "pattern": {
              "fillmode": "overlay",
              "size": 10,
              "solidity": 0.2
             }
            },
            "type": "bar"
           }
          ],
          "barpolar": [
           {
            "marker": {
             "line": {
              "color": "#E5ECF6",
              "width": 0.5
             },
             "pattern": {
              "fillmode": "overlay",
              "size": 10,
              "solidity": 0.2
             }
            },
            "type": "barpolar"
           }
          ],
          "carpet": [
           {
            "aaxis": {
             "endlinecolor": "#2a3f5f",
             "gridcolor": "white",
             "linecolor": "white",
             "minorgridcolor": "white",
             "startlinecolor": "#2a3f5f"
            },
            "baxis": {
             "endlinecolor": "#2a3f5f",
             "gridcolor": "white",
             "linecolor": "white",
             "minorgridcolor": "white",
             "startlinecolor": "#2a3f5f"
            },
            "type": "carpet"
           }
          ],
          "choropleth": [
           {
            "colorbar": {
             "outlinewidth": 0,
             "ticks": ""
            },
            "type": "choropleth"
           }
          ],
          "contour": [
           {
            "colorbar": {
             "outlinewidth": 0,
             "ticks": ""
            },
            "colorscale": [
             [
              0,
              "#0d0887"
             ],
             [
              0.1111111111111111,
              "#46039f"
             ],
             [
              0.2222222222222222,
              "#7201a8"
             ],
             [
              0.3333333333333333,
              "#9c179e"
             ],
             [
              0.4444444444444444,
              "#bd3786"
             ],
             [
              0.5555555555555556,
              "#d8576b"
             ],
             [
              0.6666666666666666,
              "#ed7953"
             ],
             [
              0.7777777777777778,
              "#fb9f3a"
             ],
             [
              0.8888888888888888,
              "#fdca26"
             ],
             [
              1,
              "#f0f921"
             ]
            ],
            "type": "contour"
           }
          ],
          "contourcarpet": [
           {
            "colorbar": {
             "outlinewidth": 0,
             "ticks": ""
            },
            "type": "contourcarpet"
           }
          ],
          "heatmap": [
           {
            "colorbar": {
             "outlinewidth": 0,
             "ticks": ""
            },
            "colorscale": [
             [
              0,
              "#0d0887"
             ],
             [
              0.1111111111111111,
              "#46039f"
             ],
             [
              0.2222222222222222,
              "#7201a8"
             ],
             [
              0.3333333333333333,
              "#9c179e"
             ],
             [
              0.4444444444444444,
              "#bd3786"
             ],
             [
              0.5555555555555556,
              "#d8576b"
             ],
             [
              0.6666666666666666,
              "#ed7953"
             ],
             [
              0.7777777777777778,
              "#fb9f3a"
             ],
             [
              0.8888888888888888,
              "#fdca26"
             ],
             [
              1,
              "#f0f921"
             ]
            ],
            "type": "heatmap"
           }
          ],
          "histogram": [
           {
            "marker": {
             "pattern": {
              "fillmode": "overlay",
              "size": 10,
              "solidity": 0.2
             }
            },
            "type": "histogram"
           }
          ],
          "histogram2d": [
           {
            "colorbar": {
             "outlinewidth": 0,
             "ticks": ""
            },
            "colorscale": [
             [
              0,
              "#0d0887"
             ],
             [
              0.1111111111111111,
              "#46039f"
             ],
             [
              0.2222222222222222,
              "#7201a8"
             ],
             [
              0.3333333333333333,
              "#9c179e"
             ],
             [
              0.4444444444444444,
              "#bd3786"
             ],
             [
              0.5555555555555556,
              "#d8576b"
             ],
             [
              0.6666666666666666,
              "#ed7953"
             ],
             [
              0.7777777777777778,
              "#fb9f3a"
             ],
             [
              0.8888888888888888,
              "#fdca26"
             ],
             [
              1,
              "#f0f921"
             ]
            ],
            "type": "histogram2d"
           }
          ],
          "histogram2dcontour": [
           {
            "colorbar": {
             "outlinewidth": 0,
             "ticks": ""
            },
            "colorscale": [
             [
              0,
              "#0d0887"
             ],
             [
              0.1111111111111111,
              "#46039f"
             ],
             [
              0.2222222222222222,
              "#7201a8"
             ],
             [
              0.3333333333333333,
              "#9c179e"
             ],
             [
              0.4444444444444444,
              "#bd3786"
             ],
             [
              0.5555555555555556,
              "#d8576b"
             ],
             [
              0.6666666666666666,
              "#ed7953"
             ],
             [
              0.7777777777777778,
              "#fb9f3a"
             ],
             [
              0.8888888888888888,
              "#fdca26"
             ],
             [
              1,
              "#f0f921"
             ]
            ],
            "type": "histogram2dcontour"
           }
          ],
          "mesh3d": [
           {
            "colorbar": {
             "outlinewidth": 0,
             "ticks": ""
            },
            "type": "mesh3d"
           }
          ],
          "parcoords": [
           {
            "line": {
             "colorbar": {
              "outlinewidth": 0,
              "ticks": ""
             }
            },
            "type": "parcoords"
           }
          ],
          "pie": [
           {
            "automargin": true,
            "type": "pie"
           }
          ],
          "scatter": [
           {
            "fillpattern": {
             "fillmode": "overlay",
             "size": 10,
             "solidity": 0.2
            },
            "type": "scatter"
           }
          ],
          "scatter3d": [
           {
            "line": {
             "colorbar": {
              "outlinewidth": 0,
              "ticks": ""
             }
            },
            "marker": {
             "colorbar": {
              "outlinewidth": 0,
              "ticks": ""
             }
            },
            "type": "scatter3d"
           }
          ],
          "scattercarpet": [
           {
            "marker": {
             "colorbar": {
              "outlinewidth": 0,
              "ticks": ""
             }
            },
            "type": "scattercarpet"
           }
          ],
          "scattergeo": [
           {
            "marker": {
             "colorbar": {
              "outlinewidth": 0,
              "ticks": ""
             }
            },
            "type": "scattergeo"
           }
          ],
          "scattergl": [
           {
            "marker": {
             "colorbar": {
              "outlinewidth": 0,
              "ticks": ""
             }
            },
            "type": "scattergl"
           }
          ],
          "scattermap": [
           {
            "marker": {
             "colorbar": {
              "outlinewidth": 0,
              "ticks": ""
             }
            },
            "type": "scattermap"
           }
          ],
          "scattermapbox": [
           {
            "marker": {
             "colorbar": {
              "outlinewidth": 0,
              "ticks": ""
             }
            },
            "type": "scattermapbox"
           }
          ],
          "scatterpolar": [
           {
            "marker": {
             "colorbar": {
              "outlinewidth": 0,
              "ticks": ""
             }
            },
            "type": "scatterpolar"
           }
          ],
          "scatterpolargl": [
           {
            "marker": {
             "colorbar": {
              "outlinewidth": 0,
              "ticks": ""
             }
            },
            "type": "scatterpolargl"
           }
          ],
          "scatterternary": [
           {
            "marker": {
             "colorbar": {
              "outlinewidth": 0,
              "ticks": ""
             }
            },
            "type": "scatterternary"
           }
          ],
          "surface": [
           {
            "colorbar": {
             "outlinewidth": 0,
             "ticks": ""
            },
            "colorscale": [
             [
              0,
              "#0d0887"
             ],
             [
              0.1111111111111111,
              "#46039f"
             ],
             [
              0.2222222222222222,
              "#7201a8"
             ],
             [
              0.3333333333333333,
              "#9c179e"
             ],
             [
              0.4444444444444444,
              "#bd3786"
             ],
             [
              0.5555555555555556,
              "#d8576b"
             ],
             [
              0.6666666666666666,
              "#ed7953"
             ],
             [
              0.7777777777777778,
              "#fb9f3a"
             ],
             [
              0.8888888888888888,
              "#fdca26"
             ],
             [
              1,
              "#f0f921"
             ]
            ],
            "type": "surface"
           }
          ],
          "table": [
           {
            "cells": {
             "fill": {
              "color": "#EBF0F8"
             },
             "line": {
              "color": "white"
             }
            },
            "header": {
             "fill": {
              "color": "#C8D4E3"
             },
             "line": {
              "color": "white"
             }
            },
            "type": "table"
           }
          ]
         },
         "layout": {
          "annotationdefaults": {
           "arrowcolor": "#2a3f5f",
           "arrowhead": 0,
           "arrowwidth": 1
          },
          "autotypenumbers": "strict",
          "coloraxis": {
           "colorbar": {
            "outlinewidth": 0,
            "ticks": ""
           }
          },
          "colorscale": {
           "diverging": [
            [
             0,
             "#8e0152"
            ],
            [
             0.1,
             "#c51b7d"
            ],
            [
             0.2,
             "#de77ae"
            ],
            [
             0.3,
             "#f1b6da"
            ],
            [
             0.4,
             "#fde0ef"
            ],
            [
             0.5,
             "#f7f7f7"
            ],
            [
             0.6,
             "#e6f5d0"
            ],
            [
             0.7,
             "#b8e186"
            ],
            [
             0.8,
             "#7fbc41"
            ],
            [
             0.9,
             "#4d9221"
            ],
            [
             1,
             "#276419"
            ]
           ],
           "sequential": [
            [
             0,
             "#0d0887"
            ],
            [
             0.1111111111111111,
             "#46039f"
            ],
            [
             0.2222222222222222,
             "#7201a8"
            ],
            [
             0.3333333333333333,
             "#9c179e"
            ],
            [
             0.4444444444444444,
             "#bd3786"
            ],
            [
             0.5555555555555556,
             "#d8576b"
            ],
            [
             0.6666666666666666,
             "#ed7953"
            ],
            [
             0.7777777777777778,
             "#fb9f3a"
            ],
            [
             0.8888888888888888,
             "#fdca26"
            ],
            [
             1,
             "#f0f921"
            ]
           ],
           "sequentialminus": [
            [
             0,
             "#0d0887"
            ],
            [
             0.1111111111111111,
             "#46039f"
            ],
            [
             0.2222222222222222,
             "#7201a8"
            ],
            [
             0.3333333333333333,
             "#9c179e"
            ],
            [
             0.4444444444444444,
             "#bd3786"
            ],
            [
             0.5555555555555556,
             "#d8576b"
            ],
            [
             0.6666666666666666,
             "#ed7953"
            ],
            [
             0.7777777777777778,
             "#fb9f3a"
            ],
            [
             0.8888888888888888,
             "#fdca26"
            ],
            [
             1,
             "#f0f921"
            ]
           ]
          },
          "colorway": [
           "#636efa",
           "#EF553B",
           "#00cc96",
           "#ab63fa",
           "#FFA15A",
           "#19d3f3",
           "#FF6692",
           "#B6E880",
           "#FF97FF",
           "#FECB52"
          ],
          "font": {
           "color": "#2a3f5f"
          },
          "geo": {
           "bgcolor": "white",
           "lakecolor": "white",
           "landcolor": "#E5ECF6",
           "showlakes": true,
           "showland": true,
           "subunitcolor": "white"
          },
          "hoverlabel": {
           "align": "left"
          },
          "hovermode": "closest",
          "mapbox": {
           "style": "light"
          },
          "paper_bgcolor": "white",
          "plot_bgcolor": "#E5ECF6",
          "polar": {
           "angularaxis": {
            "gridcolor": "white",
            "linecolor": "white",
            "ticks": ""
           },
           "bgcolor": "#E5ECF6",
           "radialaxis": {
            "gridcolor": "white",
            "linecolor": "white",
            "ticks": ""
           }
          },
          "scene": {
           "xaxis": {
            "backgroundcolor": "#E5ECF6",
            "gridcolor": "white",
            "gridwidth": 2,
            "linecolor": "white",
            "showbackground": true,
            "ticks": "",
            "zerolinecolor": "white"
           },
           "yaxis": {
            "backgroundcolor": "#E5ECF6",
            "gridcolor": "white",
            "gridwidth": 2,
            "linecolor": "white",
            "showbackground": true,
            "ticks": "",
            "zerolinecolor": "white"
           },
           "zaxis": {
            "backgroundcolor": "#E5ECF6",
            "gridcolor": "white",
            "gridwidth": 2,
            "linecolor": "white",
            "showbackground": true,
            "ticks": "",
            "zerolinecolor": "white"
           }
          },
          "shapedefaults": {
           "line": {
            "color": "#2a3f5f"
           }
          },
          "ternary": {
           "aaxis": {
            "gridcolor": "white",
            "linecolor": "white",
            "ticks": ""
           },
           "baxis": {
            "gridcolor": "white",
            "linecolor": "white",
            "ticks": ""
           },
           "bgcolor": "#E5ECF6",
           "caxis": {
            "gridcolor": "white",
            "linecolor": "white",
            "ticks": ""
           }
          },
          "title": {
           "x": 0.05
          },
          "xaxis": {
           "automargin": true,
           "gridcolor": "white",
           "linecolor": "white",
           "ticks": "",
           "title": {
            "standoff": 15
           },
           "zerolinecolor": "white",
           "zerolinewidth": 2
          },
          "yaxis": {
           "automargin": true,
           "gridcolor": "white",
           "linecolor": "white",
           "ticks": "",
           "title": {
            "standoff": 15
           },
           "zerolinecolor": "white",
           "zerolinewidth": 2
          }
         }
        },
        "updatemenus": [
         {
          "buttons": [
           {
            "args": [
             null,
             {
              "frame": {
               "duration": 100,
               "redraw": false
              },
              "fromcurrent": true,
              "mode": "immediate",
              "transition": {
               "duration": 0,
               "easing": "linear"
              }
             }
            ],
            "label": "&#9654;",
            "method": "animate"
           },
           {
            "args": [
             [
              null
             ],
             {
              "frame": {
               "duration": 0,
               "redraw": false
              },
              "fromcurrent": true,
              "mode": "immediate",
              "transition": {
               "duration": 0,
               "easing": "linear"
              }
             }
            ],
            "label": "&#9724;",
            "method": "animate"
           }
          ],
          "direction": "left",
          "pad": {
           "r": 10,
           "t": 70
          },
          "showactive": false,
          "type": "buttons",
          "x": 0.1,
          "xanchor": "right",
          "y": 0,
          "yanchor": "top"
         }
        ],
        "xaxis": {
         "anchor": "y",
         "domain": [
          0,
          1
         ],
         "title": {
          "text": "x"
         }
        },
        "yaxis": {
         "anchor": "x",
         "domain": [
          0,
          1
         ],
         "title": {
          "text": "value"
         }
        }
       }
      },
      "text/html": [
       "<div>            <script src=\"https://cdnjs.cloudflare.com/ajax/libs/mathjax/2.7.5/MathJax.js?config=TeX-AMS-MML_SVG\"></script><script type=\"text/javascript\">if (window.MathJax && window.MathJax.Hub && window.MathJax.Hub.Config) {window.MathJax.Hub.Config({SVG: {font: \"STIX-Web\"}});}</script>                <script type=\"text/javascript\">window.PlotlyConfig = {MathJaxConfig: 'local'};</script>\n",
       "        <script charset=\"utf-8\" src=\"https://cdn.plot.ly/plotly-3.0.1.min.js\"></script>                <div id=\"74e72e0f-4fd0-46df-a82f-371ad10d2133\" class=\"plotly-graph-div\" style=\"height:525px; width:100%;\"></div>            <script type=\"text/javascript\">                window.PLOTLYENV=window.PLOTLYENV || {};                                if (document.getElementById(\"74e72e0f-4fd0-46df-a82f-371ad10d2133\")) {                    Plotly.newPlot(                        \"74e72e0f-4fd0-46df-a82f-371ad10d2133\",                        [{\"hovertemplate\":\"variable=0\\u003cbr\\u003ex=%{x}\\u003cbr\\u003evalue=%{y}\\u003cextra\\u003e\\u003c\\u002fextra\\u003e\",\"legendgroup\":\"\",\"line\":{\"color\":\"#636efa\",\"dash\":\"solid\"},\"marker\":{\"symbol\":\"circle\"},\"mode\":\"lines\",\"name\":\"\",\"orientation\":\"v\",\"showlegend\":false,\"x\":{\"dtype\":\"f8\",\"bdata\":\"AAAAAAAAAAB7FK5H4XqkP3sUrkfherQ\\u002fuB6F61G4vj97FK5H4XrEP5qZmZmZmck\\u002fuB6F61G4zj\\u002fsUbgehevRP3sUrkfhetQ\\u002fCtejcD0K1z+amZmZmZnZPylcj8L1KNw\\u002fuB6F61G43j+kcD0K16PgP+xRuB6F6+E\\u002fMzMzMzMz4z97FK5H4XrkP8P1KFyPwuU\\u002fCtejcD0K5z9SuB6F61HoP5qZmZmZmek\\u002f4XoUrkfh6j8pXI\\u002fC9SjsP3E9CtejcO0\\u002fuB6F61G47j8AAAAAAADwP6RwPQrXo\\u002fA\\u002fSOF6FK5H8T\\u002fsUbgehevxP4\\u002fC9Shcj\\u002fI\\u002fMzMzMzMz8z\\u002fXo3A9CtfzP3sUrkfhevQ\\u002fH4XrUbge9T\\u002fD9Shcj8L1P2dmZmZmZvY\\u002fCtejcD0K9z+uR+F6FK73P1K4HoXrUfg\\u002f9ihcj8L1+D+amZmZmZn5Pz4K16NwPfo\\u002f4XoUrkfh+j+F61G4HoX7Pylcj8L1KPw\\u002fzczMzMzM\\u002fD9xPQrXo3D9PxWuR+F6FP4\\u002fuB6F61G4\\u002fj9cj8L1KFz\\u002fPwAAAAAAAABA\"},\"xaxis\":\"x\",\"y\":{\"dtype\":\"f8\",\"bdata\":\"AAAAAAAA8D8AAAAAAADwPwAAAAAAAPA\\u002fAAAAAAAA8D8AAAAAAADwPwAAAAAAAPA\\u002fAAAAAAAA8D8AAAAAAADwPwAAAAAAAPA\\u002fAAAAAAAA8D8AAAAAAADwPwAAAAAAAPA\\u002fAAAAAAAA8D8AAAAAAAAAQAAAAAAAAABAAAAAAAAAAEAAAAAAAAAAQAAAAAAAAABAAAAAAAAAAEAAAAAAAAAAQAAAAAAAAABAAAAAAAAAAEAAAAAAAAAAQAAAAAAAAABAAAAAAAAAAEAAAAAAAADwPwAAAAAAAPA\\u002fAAAAAAAA8D8AAAAAAADwPwAAAAAAAPA\\u002fAAAAAAAA8D8AAAAAAADwPwAAAAAAAPA\\u002fAAAAAAAA8D8AAAAAAADwPwAAAAAAAPA\\u002fAAAAAAAA8D8AAAAAAADwPwAAAAAAAPA\\u002fAAAAAAAA8D8AAAAAAADwPwAAAAAAAPA\\u002fAAAAAAAA8D8AAAAAAADwPwAAAAAAAPA\\u002fAAAAAAAA8D8AAAAAAADwPwAAAAAAAPA\\u002fAAAAAAAA8D8AAAAAAADwPwAAAAAAAPA\\u002f\"},\"yaxis\":\"y\",\"type\":\"scatter\"}],                        {\"template\":{\"data\":{\"histogram2dcontour\":[{\"type\":\"histogram2dcontour\",\"colorbar\":{\"outlinewidth\":0,\"ticks\":\"\"},\"colorscale\":[[0.0,\"#0d0887\"],[0.1111111111111111,\"#46039f\"],[0.2222222222222222,\"#7201a8\"],[0.3333333333333333,\"#9c179e\"],[0.4444444444444444,\"#bd3786\"],[0.5555555555555556,\"#d8576b\"],[0.6666666666666666,\"#ed7953\"],[0.7777777777777778,\"#fb9f3a\"],[0.8888888888888888,\"#fdca26\"],[1.0,\"#f0f921\"]]}],\"choropleth\":[{\"type\":\"choropleth\",\"colorbar\":{\"outlinewidth\":0,\"ticks\":\"\"}}],\"histogram2d\":[{\"type\":\"histogram2d\",\"colorbar\":{\"outlinewidth\":0,\"ticks\":\"\"},\"colorscale\":[[0.0,\"#0d0887\"],[0.1111111111111111,\"#46039f\"],[0.2222222222222222,\"#7201a8\"],[0.3333333333333333,\"#9c179e\"],[0.4444444444444444,\"#bd3786\"],[0.5555555555555556,\"#d8576b\"],[0.6666666666666666,\"#ed7953\"],[0.7777777777777778,\"#fb9f3a\"],[0.8888888888888888,\"#fdca26\"],[1.0,\"#f0f921\"]]}],\"heatmap\":[{\"type\":\"heatmap\",\"colorbar\":{\"outlinewidth\":0,\"ticks\":\"\"},\"colorscale\":[[0.0,\"#0d0887\"],[0.1111111111111111,\"#46039f\"],[0.2222222222222222,\"#7201a8\"],[0.3333333333333333,\"#9c179e\"],[0.4444444444444444,\"#bd3786\"],[0.5555555555555556,\"#d8576b\"],[0.6666666666666666,\"#ed7953\"],[0.7777777777777778,\"#fb9f3a\"],[0.8888888888888888,\"#fdca26\"],[1.0,\"#f0f921\"]]}],\"contourcarpet\":[{\"type\":\"contourcarpet\",\"colorbar\":{\"outlinewidth\":0,\"ticks\":\"\"}}],\"contour\":[{\"type\":\"contour\",\"colorbar\":{\"outlinewidth\":0,\"ticks\":\"\"},\"colorscale\":[[0.0,\"#0d0887\"],[0.1111111111111111,\"#46039f\"],[0.2222222222222222,\"#7201a8\"],[0.3333333333333333,\"#9c179e\"],[0.4444444444444444,\"#bd3786\"],[0.5555555555555556,\"#d8576b\"],[0.6666666666666666,\"#ed7953\"],[0.7777777777777778,\"#fb9f3a\"],[0.8888888888888888,\"#fdca26\"],[1.0,\"#f0f921\"]]}],\"surface\":[{\"type\":\"surface\",\"colorbar\":{\"outlinewidth\":0,\"ticks\":\"\"},\"colorscale\":[[0.0,\"#0d0887\"],[0.1111111111111111,\"#46039f\"],[0.2222222222222222,\"#7201a8\"],[0.3333333333333333,\"#9c179e\"],[0.4444444444444444,\"#bd3786\"],[0.5555555555555556,\"#d8576b\"],[0.6666666666666666,\"#ed7953\"],[0.7777777777777778,\"#fb9f3a\"],[0.8888888888888888,\"#fdca26\"],[1.0,\"#f0f921\"]]}],\"mesh3d\":[{\"type\":\"mesh3d\",\"colorbar\":{\"outlinewidth\":0,\"ticks\":\"\"}}],\"scatter\":[{\"fillpattern\":{\"fillmode\":\"overlay\",\"size\":10,\"solidity\":0.2},\"type\":\"scatter\"}],\"parcoords\":[{\"type\":\"parcoords\",\"line\":{\"colorbar\":{\"outlinewidth\":0,\"ticks\":\"\"}}}],\"scatterpolargl\":[{\"type\":\"scatterpolargl\",\"marker\":{\"colorbar\":{\"outlinewidth\":0,\"ticks\":\"\"}}}],\"bar\":[{\"error_x\":{\"color\":\"#2a3f5f\"},\"error_y\":{\"color\":\"#2a3f5f\"},\"marker\":{\"line\":{\"color\":\"#E5ECF6\",\"width\":0.5},\"pattern\":{\"fillmode\":\"overlay\",\"size\":10,\"solidity\":0.2}},\"type\":\"bar\"}],\"scattergeo\":[{\"type\":\"scattergeo\",\"marker\":{\"colorbar\":{\"outlinewidth\":0,\"ticks\":\"\"}}}],\"scatterpolar\":[{\"type\":\"scatterpolar\",\"marker\":{\"colorbar\":{\"outlinewidth\":0,\"ticks\":\"\"}}}],\"histogram\":[{\"marker\":{\"pattern\":{\"fillmode\":\"overlay\",\"size\":10,\"solidity\":0.2}},\"type\":\"histogram\"}],\"scattergl\":[{\"type\":\"scattergl\",\"marker\":{\"colorbar\":{\"outlinewidth\":0,\"ticks\":\"\"}}}],\"scatter3d\":[{\"type\":\"scatter3d\",\"line\":{\"colorbar\":{\"outlinewidth\":0,\"ticks\":\"\"}},\"marker\":{\"colorbar\":{\"outlinewidth\":0,\"ticks\":\"\"}}}],\"scattermap\":[{\"type\":\"scattermap\",\"marker\":{\"colorbar\":{\"outlinewidth\":0,\"ticks\":\"\"}}}],\"scattermapbox\":[{\"type\":\"scattermapbox\",\"marker\":{\"colorbar\":{\"outlinewidth\":0,\"ticks\":\"\"}}}],\"scatterternary\":[{\"type\":\"scatterternary\",\"marker\":{\"colorbar\":{\"outlinewidth\":0,\"ticks\":\"\"}}}],\"scattercarpet\":[{\"type\":\"scattercarpet\",\"marker\":{\"colorbar\":{\"outlinewidth\":0,\"ticks\":\"\"}}}],\"carpet\":[{\"aaxis\":{\"endlinecolor\":\"#2a3f5f\",\"gridcolor\":\"white\",\"linecolor\":\"white\",\"minorgridcolor\":\"white\",\"startlinecolor\":\"#2a3f5f\"},\"baxis\":{\"endlinecolor\":\"#2a3f5f\",\"gridcolor\":\"white\",\"linecolor\":\"white\",\"minorgridcolor\":\"white\",\"startlinecolor\":\"#2a3f5f\"},\"type\":\"carpet\"}],\"table\":[{\"cells\":{\"fill\":{\"color\":\"#EBF0F8\"},\"line\":{\"color\":\"white\"}},\"header\":{\"fill\":{\"color\":\"#C8D4E3\"},\"line\":{\"color\":\"white\"}},\"type\":\"table\"}],\"barpolar\":[{\"marker\":{\"line\":{\"color\":\"#E5ECF6\",\"width\":0.5},\"pattern\":{\"fillmode\":\"overlay\",\"size\":10,\"solidity\":0.2}},\"type\":\"barpolar\"}],\"pie\":[{\"automargin\":true,\"type\":\"pie\"}]},\"layout\":{\"autotypenumbers\":\"strict\",\"colorway\":[\"#636efa\",\"#EF553B\",\"#00cc96\",\"#ab63fa\",\"#FFA15A\",\"#19d3f3\",\"#FF6692\",\"#B6E880\",\"#FF97FF\",\"#FECB52\"],\"font\":{\"color\":\"#2a3f5f\"},\"hovermode\":\"closest\",\"hoverlabel\":{\"align\":\"left\"},\"paper_bgcolor\":\"white\",\"plot_bgcolor\":\"#E5ECF6\",\"polar\":{\"bgcolor\":\"#E5ECF6\",\"angularaxis\":{\"gridcolor\":\"white\",\"linecolor\":\"white\",\"ticks\":\"\"},\"radialaxis\":{\"gridcolor\":\"white\",\"linecolor\":\"white\",\"ticks\":\"\"}},\"ternary\":{\"bgcolor\":\"#E5ECF6\",\"aaxis\":{\"gridcolor\":\"white\",\"linecolor\":\"white\",\"ticks\":\"\"},\"baxis\":{\"gridcolor\":\"white\",\"linecolor\":\"white\",\"ticks\":\"\"},\"caxis\":{\"gridcolor\":\"white\",\"linecolor\":\"white\",\"ticks\":\"\"}},\"coloraxis\":{\"colorbar\":{\"outlinewidth\":0,\"ticks\":\"\"}},\"colorscale\":{\"sequential\":[[0.0,\"#0d0887\"],[0.1111111111111111,\"#46039f\"],[0.2222222222222222,\"#7201a8\"],[0.3333333333333333,\"#9c179e\"],[0.4444444444444444,\"#bd3786\"],[0.5555555555555556,\"#d8576b\"],[0.6666666666666666,\"#ed7953\"],[0.7777777777777778,\"#fb9f3a\"],[0.8888888888888888,\"#fdca26\"],[1.0,\"#f0f921\"]],\"sequentialminus\":[[0.0,\"#0d0887\"],[0.1111111111111111,\"#46039f\"],[0.2222222222222222,\"#7201a8\"],[0.3333333333333333,\"#9c179e\"],[0.4444444444444444,\"#bd3786\"],[0.5555555555555556,\"#d8576b\"],[0.6666666666666666,\"#ed7953\"],[0.7777777777777778,\"#fb9f3a\"],[0.8888888888888888,\"#fdca26\"],[1.0,\"#f0f921\"]],\"diverging\":[[0,\"#8e0152\"],[0.1,\"#c51b7d\"],[0.2,\"#de77ae\"],[0.3,\"#f1b6da\"],[0.4,\"#fde0ef\"],[0.5,\"#f7f7f7\"],[0.6,\"#e6f5d0\"],[0.7,\"#b8e186\"],[0.8,\"#7fbc41\"],[0.9,\"#4d9221\"],[1,\"#276419\"]]},\"xaxis\":{\"gridcolor\":\"white\",\"linecolor\":\"white\",\"ticks\":\"\",\"title\":{\"standoff\":15},\"zerolinecolor\":\"white\",\"automargin\":true,\"zerolinewidth\":2},\"yaxis\":{\"gridcolor\":\"white\",\"linecolor\":\"white\",\"ticks\":\"\",\"title\":{\"standoff\":15},\"zerolinecolor\":\"white\",\"automargin\":true,\"zerolinewidth\":2},\"scene\":{\"xaxis\":{\"backgroundcolor\":\"#E5ECF6\",\"gridcolor\":\"white\",\"linecolor\":\"white\",\"showbackground\":true,\"ticks\":\"\",\"zerolinecolor\":\"white\",\"gridwidth\":2},\"yaxis\":{\"backgroundcolor\":\"#E5ECF6\",\"gridcolor\":\"white\",\"linecolor\":\"white\",\"showbackground\":true,\"ticks\":\"\",\"zerolinecolor\":\"white\",\"gridwidth\":2},\"zaxis\":{\"backgroundcolor\":\"#E5ECF6\",\"gridcolor\":\"white\",\"linecolor\":\"white\",\"showbackground\":true,\"ticks\":\"\",\"zerolinecolor\":\"white\",\"gridwidth\":2}},\"shapedefaults\":{\"line\":{\"color\":\"#2a3f5f\"}},\"annotationdefaults\":{\"arrowcolor\":\"#2a3f5f\",\"arrowhead\":0,\"arrowwidth\":1},\"geo\":{\"bgcolor\":\"white\",\"landcolor\":\"#E5ECF6\",\"subunitcolor\":\"white\",\"showland\":true,\"showlakes\":true,\"lakecolor\":\"white\"},\"title\":{\"x\":0.05},\"mapbox\":{\"style\":\"light\"}}},\"xaxis\":{\"anchor\":\"y\",\"domain\":[0.0,1.0],\"title\":{\"text\":\"x\"}},\"yaxis\":{\"anchor\":\"x\",\"domain\":[0.0,1.0],\"title\":{\"text\":\"value\"}},\"legend\":{\"tracegroupgap\":0},\"margin\":{\"t\":60},\"updatemenus\":[{\"buttons\":[{\"args\":[null,{\"frame\":{\"duration\":100,\"redraw\":false},\"mode\":\"immediate\",\"fromcurrent\":true,\"transition\":{\"duration\":0,\"easing\":\"linear\"}}],\"label\":\"&#9654;\",\"method\":\"animate\"},{\"args\":[[null],{\"frame\":{\"duration\":0,\"redraw\":false},\"mode\":\"immediate\",\"fromcurrent\":true,\"transition\":{\"duration\":0,\"easing\":\"linear\"}}],\"label\":\"&#9724;\",\"method\":\"animate\"}],\"direction\":\"left\",\"pad\":{\"r\":10,\"t\":70},\"showactive\":false,\"type\":\"buttons\",\"x\":0.1,\"xanchor\":\"right\",\"y\":0,\"yanchor\":\"top\"}],\"sliders\":[{\"active\":0,\"currentvalue\":{\"prefix\":\"variable=\"},\"len\":0.9,\"pad\":{\"b\":10,\"t\":60},\"steps\":[{\"args\":[[\"0\"],{\"frame\":{\"duration\":0,\"redraw\":false},\"mode\":\"immediate\",\"fromcurrent\":true,\"transition\":{\"duration\":0,\"easing\":\"linear\"}}],\"label\":\"0\",\"method\":\"animate\"},{\"args\":[[\"1\"],{\"frame\":{\"duration\":0,\"redraw\":false},\"mode\":\"immediate\",\"fromcurrent\":true,\"transition\":{\"duration\":0,\"easing\":\"linear\"}}],\"label\":\"1\",\"method\":\"animate\"},{\"args\":[[\"2\"],{\"frame\":{\"duration\":0,\"redraw\":false},\"mode\":\"immediate\",\"fromcurrent\":true,\"transition\":{\"duration\":0,\"easing\":\"linear\"}}],\"label\":\"2\",\"method\":\"animate\"},{\"args\":[[\"3\"],{\"frame\":{\"duration\":0,\"redraw\":false},\"mode\":\"immediate\",\"fromcurrent\":true,\"transition\":{\"duration\":0,\"easing\":\"linear\"}}],\"label\":\"3\",\"method\":\"animate\"},{\"args\":[[\"4\"],{\"frame\":{\"duration\":0,\"redraw\":false},\"mode\":\"immediate\",\"fromcurrent\":true,\"transition\":{\"duration\":0,\"easing\":\"linear\"}}],\"label\":\"4\",\"method\":\"animate\"},{\"args\":[[\"5\"],{\"frame\":{\"duration\":0,\"redraw\":false},\"mode\":\"immediate\",\"fromcurrent\":true,\"transition\":{\"duration\":0,\"easing\":\"linear\"}}],\"label\":\"5\",\"method\":\"animate\"},{\"args\":[[\"6\"],{\"frame\":{\"duration\":0,\"redraw\":false},\"mode\":\"immediate\",\"fromcurrent\":true,\"transition\":{\"duration\":0,\"easing\":\"linear\"}}],\"label\":\"6\",\"method\":\"animate\"},{\"args\":[[\"7\"],{\"frame\":{\"duration\":0,\"redraw\":false},\"mode\":\"immediate\",\"fromcurrent\":true,\"transition\":{\"duration\":0,\"easing\":\"linear\"}}],\"label\":\"7\",\"method\":\"animate\"},{\"args\":[[\"8\"],{\"frame\":{\"duration\":0,\"redraw\":false},\"mode\":\"immediate\",\"fromcurrent\":true,\"transition\":{\"duration\":0,\"easing\":\"linear\"}}],\"label\":\"8\",\"method\":\"animate\"},{\"args\":[[\"9\"],{\"frame\":{\"duration\":0,\"redraw\":false},\"mode\":\"immediate\",\"fromcurrent\":true,\"transition\":{\"duration\":0,\"easing\":\"linear\"}}],\"label\":\"9\",\"method\":\"animate\"},{\"args\":[[\"10\"],{\"frame\":{\"duration\":0,\"redraw\":false},\"mode\":\"immediate\",\"fromcurrent\":true,\"transition\":{\"duration\":0,\"easing\":\"linear\"}}],\"label\":\"10\",\"method\":\"animate\"},{\"args\":[[\"11\"],{\"frame\":{\"duration\":0,\"redraw\":false},\"mode\":\"immediate\",\"fromcurrent\":true,\"transition\":{\"duration\":0,\"easing\":\"linear\"}}],\"label\":\"11\",\"method\":\"animate\"},{\"args\":[[\"12\"],{\"frame\":{\"duration\":0,\"redraw\":false},\"mode\":\"immediate\",\"fromcurrent\":true,\"transition\":{\"duration\":0,\"easing\":\"linear\"}}],\"label\":\"12\",\"method\":\"animate\"},{\"args\":[[\"13\"],{\"frame\":{\"duration\":0,\"redraw\":false},\"mode\":\"immediate\",\"fromcurrent\":true,\"transition\":{\"duration\":0,\"easing\":\"linear\"}}],\"label\":\"13\",\"method\":\"animate\"},{\"args\":[[\"14\"],{\"frame\":{\"duration\":0,\"redraw\":false},\"mode\":\"immediate\",\"fromcurrent\":true,\"transition\":{\"duration\":0,\"easing\":\"linear\"}}],\"label\":\"14\",\"method\":\"animate\"},{\"args\":[[\"15\"],{\"frame\":{\"duration\":0,\"redraw\":false},\"mode\":\"immediate\",\"fromcurrent\":true,\"transition\":{\"duration\":0,\"easing\":\"linear\"}}],\"label\":\"15\",\"method\":\"animate\"},{\"args\":[[\"16\"],{\"frame\":{\"duration\":0,\"redraw\":false},\"mode\":\"immediate\",\"fromcurrent\":true,\"transition\":{\"duration\":0,\"easing\":\"linear\"}}],\"label\":\"16\",\"method\":\"animate\"},{\"args\":[[\"17\"],{\"frame\":{\"duration\":0,\"redraw\":false},\"mode\":\"immediate\",\"fromcurrent\":true,\"transition\":{\"duration\":0,\"easing\":\"linear\"}}],\"label\":\"17\",\"method\":\"animate\"},{\"args\":[[\"18\"],{\"frame\":{\"duration\":0,\"redraw\":false},\"mode\":\"immediate\",\"fromcurrent\":true,\"transition\":{\"duration\":0,\"easing\":\"linear\"}}],\"label\":\"18\",\"method\":\"animate\"},{\"args\":[[\"19\"],{\"frame\":{\"duration\":0,\"redraw\":false},\"mode\":\"immediate\",\"fromcurrent\":true,\"transition\":{\"duration\":0,\"easing\":\"linear\"}}],\"label\":\"19\",\"method\":\"animate\"},{\"args\":[[\"20\"],{\"frame\":{\"duration\":0,\"redraw\":false},\"mode\":\"immediate\",\"fromcurrent\":true,\"transition\":{\"duration\":0,\"easing\":\"linear\"}}],\"label\":\"20\",\"method\":\"animate\"},{\"args\":[[\"21\"],{\"frame\":{\"duration\":0,\"redraw\":false},\"mode\":\"immediate\",\"fromcurrent\":true,\"transition\":{\"duration\":0,\"easing\":\"linear\"}}],\"label\":\"21\",\"method\":\"animate\"},{\"args\":[[\"22\"],{\"frame\":{\"duration\":0,\"redraw\":false},\"mode\":\"immediate\",\"fromcurrent\":true,\"transition\":{\"duration\":0,\"easing\":\"linear\"}}],\"label\":\"22\",\"method\":\"animate\"},{\"args\":[[\"23\"],{\"frame\":{\"duration\":0,\"redraw\":false},\"mode\":\"immediate\",\"fromcurrent\":true,\"transition\":{\"duration\":0,\"easing\":\"linear\"}}],\"label\":\"23\",\"method\":\"animate\"},{\"args\":[[\"24\"],{\"frame\":{\"duration\":0,\"redraw\":false},\"mode\":\"immediate\",\"fromcurrent\":true,\"transition\":{\"duration\":0,\"easing\":\"linear\"}}],\"label\":\"24\",\"method\":\"animate\"},{\"args\":[[\"25\"],{\"frame\":{\"duration\":0,\"redraw\":false},\"mode\":\"immediate\",\"fromcurrent\":true,\"transition\":{\"duration\":0,\"easing\":\"linear\"}}],\"label\":\"25\",\"method\":\"animate\"},{\"args\":[[\"26\"],{\"frame\":{\"duration\":0,\"redraw\":false},\"mode\":\"immediate\",\"fromcurrent\":true,\"transition\":{\"duration\":0,\"easing\":\"linear\"}}],\"label\":\"26\",\"method\":\"animate\"},{\"args\":[[\"27\"],{\"frame\":{\"duration\":0,\"redraw\":false},\"mode\":\"immediate\",\"fromcurrent\":true,\"transition\":{\"duration\":0,\"easing\":\"linear\"}}],\"label\":\"27\",\"method\":\"animate\"},{\"args\":[[\"28\"],{\"frame\":{\"duration\":0,\"redraw\":false},\"mode\":\"immediate\",\"fromcurrent\":true,\"transition\":{\"duration\":0,\"easing\":\"linear\"}}],\"label\":\"28\",\"method\":\"animate\"},{\"args\":[[\"29\"],{\"frame\":{\"duration\":0,\"redraw\":false},\"mode\":\"immediate\",\"fromcurrent\":true,\"transition\":{\"duration\":0,\"easing\":\"linear\"}}],\"label\":\"29\",\"method\":\"animate\"},{\"args\":[[\"30\"],{\"frame\":{\"duration\":0,\"redraw\":false},\"mode\":\"immediate\",\"fromcurrent\":true,\"transition\":{\"duration\":0,\"easing\":\"linear\"}}],\"label\":\"30\",\"method\":\"animate\"},{\"args\":[[\"31\"],{\"frame\":{\"duration\":0,\"redraw\":false},\"mode\":\"immediate\",\"fromcurrent\":true,\"transition\":{\"duration\":0,\"easing\":\"linear\"}}],\"label\":\"31\",\"method\":\"animate\"},{\"args\":[[\"32\"],{\"frame\":{\"duration\":0,\"redraw\":false},\"mode\":\"immediate\",\"fromcurrent\":true,\"transition\":{\"duration\":0,\"easing\":\"linear\"}}],\"label\":\"32\",\"method\":\"animate\"},{\"args\":[[\"33\"],{\"frame\":{\"duration\":0,\"redraw\":false},\"mode\":\"immediate\",\"fromcurrent\":true,\"transition\":{\"duration\":0,\"easing\":\"linear\"}}],\"label\":\"33\",\"method\":\"animate\"},{\"args\":[[\"34\"],{\"frame\":{\"duration\":0,\"redraw\":false},\"mode\":\"immediate\",\"fromcurrent\":true,\"transition\":{\"duration\":0,\"easing\":\"linear\"}}],\"label\":\"34\",\"method\":\"animate\"},{\"args\":[[\"35\"],{\"frame\":{\"duration\":0,\"redraw\":false},\"mode\":\"immediate\",\"fromcurrent\":true,\"transition\":{\"duration\":0,\"easing\":\"linear\"}}],\"label\":\"35\",\"method\":\"animate\"},{\"args\":[[\"36\"],{\"frame\":{\"duration\":0,\"redraw\":false},\"mode\":\"immediate\",\"fromcurrent\":true,\"transition\":{\"duration\":0,\"easing\":\"linear\"}}],\"label\":\"36\",\"method\":\"animate\"},{\"args\":[[\"37\"],{\"frame\":{\"duration\":0,\"redraw\":false},\"mode\":\"immediate\",\"fromcurrent\":true,\"transition\":{\"duration\":0,\"easing\":\"linear\"}}],\"label\":\"37\",\"method\":\"animate\"},{\"args\":[[\"38\"],{\"frame\":{\"duration\":0,\"redraw\":false},\"mode\":\"immediate\",\"fromcurrent\":true,\"transition\":{\"duration\":0,\"easing\":\"linear\"}}],\"label\":\"38\",\"method\":\"animate\"},{\"args\":[[\"39\"],{\"frame\":{\"duration\":0,\"redraw\":false},\"mode\":\"immediate\",\"fromcurrent\":true,\"transition\":{\"duration\":0,\"easing\":\"linear\"}}],\"label\":\"39\",\"method\":\"animate\"},{\"args\":[[\"40\"],{\"frame\":{\"duration\":0,\"redraw\":false},\"mode\":\"immediate\",\"fromcurrent\":true,\"transition\":{\"duration\":0,\"easing\":\"linear\"}}],\"label\":\"40\",\"method\":\"animate\"},{\"args\":[[\"41\"],{\"frame\":{\"duration\":0,\"redraw\":false},\"mode\":\"immediate\",\"fromcurrent\":true,\"transition\":{\"duration\":0,\"easing\":\"linear\"}}],\"label\":\"41\",\"method\":\"animate\"},{\"args\":[[\"42\"],{\"frame\":{\"duration\":0,\"redraw\":false},\"mode\":\"immediate\",\"fromcurrent\":true,\"transition\":{\"duration\":0,\"easing\":\"linear\"}}],\"label\":\"42\",\"method\":\"animate\"},{\"args\":[[\"43\"],{\"frame\":{\"duration\":0,\"redraw\":false},\"mode\":\"immediate\",\"fromcurrent\":true,\"transition\":{\"duration\":0,\"easing\":\"linear\"}}],\"label\":\"43\",\"method\":\"animate\"},{\"args\":[[\"44\"],{\"frame\":{\"duration\":0,\"redraw\":false},\"mode\":\"immediate\",\"fromcurrent\":true,\"transition\":{\"duration\":0,\"easing\":\"linear\"}}],\"label\":\"44\",\"method\":\"animate\"},{\"args\":[[\"45\"],{\"frame\":{\"duration\":0,\"redraw\":false},\"mode\":\"immediate\",\"fromcurrent\":true,\"transition\":{\"duration\":0,\"easing\":\"linear\"}}],\"label\":\"45\",\"method\":\"animate\"},{\"args\":[[\"46\"],{\"frame\":{\"duration\":0,\"redraw\":false},\"mode\":\"immediate\",\"fromcurrent\":true,\"transition\":{\"duration\":0,\"easing\":\"linear\"}}],\"label\":\"46\",\"method\":\"animate\"},{\"args\":[[\"47\"],{\"frame\":{\"duration\":0,\"redraw\":false},\"mode\":\"immediate\",\"fromcurrent\":true,\"transition\":{\"duration\":0,\"easing\":\"linear\"}}],\"label\":\"47\",\"method\":\"animate\"},{\"args\":[[\"48\"],{\"frame\":{\"duration\":0,\"redraw\":false},\"mode\":\"immediate\",\"fromcurrent\":true,\"transition\":{\"duration\":0,\"easing\":\"linear\"}}],\"label\":\"48\",\"method\":\"animate\"},{\"args\":[[\"49\"],{\"frame\":{\"duration\":0,\"redraw\":false},\"mode\":\"immediate\",\"fromcurrent\":true,\"transition\":{\"duration\":0,\"easing\":\"linear\"}}],\"label\":\"49\",\"method\":\"animate\"},{\"args\":[[\"50\"],{\"frame\":{\"duration\":0,\"redraw\":false},\"mode\":\"immediate\",\"fromcurrent\":true,\"transition\":{\"duration\":0,\"easing\":\"linear\"}}],\"label\":\"50\",\"method\":\"animate\"},{\"args\":[[\"51\"],{\"frame\":{\"duration\":0,\"redraw\":false},\"mode\":\"immediate\",\"fromcurrent\":true,\"transition\":{\"duration\":0,\"easing\":\"linear\"}}],\"label\":\"51\",\"method\":\"animate\"},{\"args\":[[\"52\"],{\"frame\":{\"duration\":0,\"redraw\":false},\"mode\":\"immediate\",\"fromcurrent\":true,\"transition\":{\"duration\":0,\"easing\":\"linear\"}}],\"label\":\"52\",\"method\":\"animate\"},{\"args\":[[\"53\"],{\"frame\":{\"duration\":0,\"redraw\":false},\"mode\":\"immediate\",\"fromcurrent\":true,\"transition\":{\"duration\":0,\"easing\":\"linear\"}}],\"label\":\"53\",\"method\":\"animate\"},{\"args\":[[\"54\"],{\"frame\":{\"duration\":0,\"redraw\":false},\"mode\":\"immediate\",\"fromcurrent\":true,\"transition\":{\"duration\":0,\"easing\":\"linear\"}}],\"label\":\"54\",\"method\":\"animate\"},{\"args\":[[\"55\"],{\"frame\":{\"duration\":0,\"redraw\":false},\"mode\":\"immediate\",\"fromcurrent\":true,\"transition\":{\"duration\":0,\"easing\":\"linear\"}}],\"label\":\"55\",\"method\":\"animate\"},{\"args\":[[\"56\"],{\"frame\":{\"duration\":0,\"redraw\":false},\"mode\":\"immediate\",\"fromcurrent\":true,\"transition\":{\"duration\":0,\"easing\":\"linear\"}}],\"label\":\"56\",\"method\":\"animate\"},{\"args\":[[\"57\"],{\"frame\":{\"duration\":0,\"redraw\":false},\"mode\":\"immediate\",\"fromcurrent\":true,\"transition\":{\"duration\":0,\"easing\":\"linear\"}}],\"label\":\"57\",\"method\":\"animate\"},{\"args\":[[\"58\"],{\"frame\":{\"duration\":0,\"redraw\":false},\"mode\":\"immediate\",\"fromcurrent\":true,\"transition\":{\"duration\":0,\"easing\":\"linear\"}}],\"label\":\"58\",\"method\":\"animate\"},{\"args\":[[\"59\"],{\"frame\":{\"duration\":0,\"redraw\":false},\"mode\":\"immediate\",\"fromcurrent\":true,\"transition\":{\"duration\":0,\"easing\":\"linear\"}}],\"label\":\"59\",\"method\":\"animate\"},{\"args\":[[\"60\"],{\"frame\":{\"duration\":0,\"redraw\":false},\"mode\":\"immediate\",\"fromcurrent\":true,\"transition\":{\"duration\":0,\"easing\":\"linear\"}}],\"label\":\"60\",\"method\":\"animate\"},{\"args\":[[\"61\"],{\"frame\":{\"duration\":0,\"redraw\":false},\"mode\":\"immediate\",\"fromcurrent\":true,\"transition\":{\"duration\":0,\"easing\":\"linear\"}}],\"label\":\"61\",\"method\":\"animate\"},{\"args\":[[\"62\"],{\"frame\":{\"duration\":0,\"redraw\":false},\"mode\":\"immediate\",\"fromcurrent\":true,\"transition\":{\"duration\":0,\"easing\":\"linear\"}}],\"label\":\"62\",\"method\":\"animate\"},{\"args\":[[\"63\"],{\"frame\":{\"duration\":0,\"redraw\":false},\"mode\":\"immediate\",\"fromcurrent\":true,\"transition\":{\"duration\":0,\"easing\":\"linear\"}}],\"label\":\"63\",\"method\":\"animate\"},{\"args\":[[\"64\"],{\"frame\":{\"duration\":0,\"redraw\":false},\"mode\":\"immediate\",\"fromcurrent\":true,\"transition\":{\"duration\":0,\"easing\":\"linear\"}}],\"label\":\"64\",\"method\":\"animate\"},{\"args\":[[\"65\"],{\"frame\":{\"duration\":0,\"redraw\":false},\"mode\":\"immediate\",\"fromcurrent\":true,\"transition\":{\"duration\":0,\"easing\":\"linear\"}}],\"label\":\"65\",\"method\":\"animate\"},{\"args\":[[\"66\"],{\"frame\":{\"duration\":0,\"redraw\":false},\"mode\":\"immediate\",\"fromcurrent\":true,\"transition\":{\"duration\":0,\"easing\":\"linear\"}}],\"label\":\"66\",\"method\":\"animate\"},{\"args\":[[\"67\"],{\"frame\":{\"duration\":0,\"redraw\":false},\"mode\":\"immediate\",\"fromcurrent\":true,\"transition\":{\"duration\":0,\"easing\":\"linear\"}}],\"label\":\"67\",\"method\":\"animate\"},{\"args\":[[\"68\"],{\"frame\":{\"duration\":0,\"redraw\":false},\"mode\":\"immediate\",\"fromcurrent\":true,\"transition\":{\"duration\":0,\"easing\":\"linear\"}}],\"label\":\"68\",\"method\":\"animate\"},{\"args\":[[\"69\"],{\"frame\":{\"duration\":0,\"redraw\":false},\"mode\":\"immediate\",\"fromcurrent\":true,\"transition\":{\"duration\":0,\"easing\":\"linear\"}}],\"label\":\"69\",\"method\":\"animate\"},{\"args\":[[\"70\"],{\"frame\":{\"duration\":0,\"redraw\":false},\"mode\":\"immediate\",\"fromcurrent\":true,\"transition\":{\"duration\":0,\"easing\":\"linear\"}}],\"label\":\"70\",\"method\":\"animate\"},{\"args\":[[\"71\"],{\"frame\":{\"duration\":0,\"redraw\":false},\"mode\":\"immediate\",\"fromcurrent\":true,\"transition\":{\"duration\":0,\"easing\":\"linear\"}}],\"label\":\"71\",\"method\":\"animate\"},{\"args\":[[\"72\"],{\"frame\":{\"duration\":0,\"redraw\":false},\"mode\":\"immediate\",\"fromcurrent\":true,\"transition\":{\"duration\":0,\"easing\":\"linear\"}}],\"label\":\"72\",\"method\":\"animate\"},{\"args\":[[\"73\"],{\"frame\":{\"duration\":0,\"redraw\":false},\"mode\":\"immediate\",\"fromcurrent\":true,\"transition\":{\"duration\":0,\"easing\":\"linear\"}}],\"label\":\"73\",\"method\":\"animate\"},{\"args\":[[\"74\"],{\"frame\":{\"duration\":0,\"redraw\":false},\"mode\":\"immediate\",\"fromcurrent\":true,\"transition\":{\"duration\":0,\"easing\":\"linear\"}}],\"label\":\"74\",\"method\":\"animate\"},{\"args\":[[\"75\"],{\"frame\":{\"duration\":0,\"redraw\":false},\"mode\":\"immediate\",\"fromcurrent\":true,\"transition\":{\"duration\":0,\"easing\":\"linear\"}}],\"label\":\"75\",\"method\":\"animate\"},{\"args\":[[\"76\"],{\"frame\":{\"duration\":0,\"redraw\":false},\"mode\":\"immediate\",\"fromcurrent\":true,\"transition\":{\"duration\":0,\"easing\":\"linear\"}}],\"label\":\"76\",\"method\":\"animate\"},{\"args\":[[\"77\"],{\"frame\":{\"duration\":0,\"redraw\":false},\"mode\":\"immediate\",\"fromcurrent\":true,\"transition\":{\"duration\":0,\"easing\":\"linear\"}}],\"label\":\"77\",\"method\":\"animate\"},{\"args\":[[\"78\"],{\"frame\":{\"duration\":0,\"redraw\":false},\"mode\":\"immediate\",\"fromcurrent\":true,\"transition\":{\"duration\":0,\"easing\":\"linear\"}}],\"label\":\"78\",\"method\":\"animate\"},{\"args\":[[\"79\"],{\"frame\":{\"duration\":0,\"redraw\":false},\"mode\":\"immediate\",\"fromcurrent\":true,\"transition\":{\"duration\":0,\"easing\":\"linear\"}}],\"label\":\"79\",\"method\":\"animate\"},{\"args\":[[\"80\"],{\"frame\":{\"duration\":0,\"redraw\":false},\"mode\":\"immediate\",\"fromcurrent\":true,\"transition\":{\"duration\":0,\"easing\":\"linear\"}}],\"label\":\"80\",\"method\":\"animate\"},{\"args\":[[\"81\"],{\"frame\":{\"duration\":0,\"redraw\":false},\"mode\":\"immediate\",\"fromcurrent\":true,\"transition\":{\"duration\":0,\"easing\":\"linear\"}}],\"label\":\"81\",\"method\":\"animate\"},{\"args\":[[\"82\"],{\"frame\":{\"duration\":0,\"redraw\":false},\"mode\":\"immediate\",\"fromcurrent\":true,\"transition\":{\"duration\":0,\"easing\":\"linear\"}}],\"label\":\"82\",\"method\":\"animate\"},{\"args\":[[\"83\"],{\"frame\":{\"duration\":0,\"redraw\":false},\"mode\":\"immediate\",\"fromcurrent\":true,\"transition\":{\"duration\":0,\"easing\":\"linear\"}}],\"label\":\"83\",\"method\":\"animate\"},{\"args\":[[\"84\"],{\"frame\":{\"duration\":0,\"redraw\":false},\"mode\":\"immediate\",\"fromcurrent\":true,\"transition\":{\"duration\":0,\"easing\":\"linear\"}}],\"label\":\"84\",\"method\":\"animate\"},{\"args\":[[\"85\"],{\"frame\":{\"duration\":0,\"redraw\":false},\"mode\":\"immediate\",\"fromcurrent\":true,\"transition\":{\"duration\":0,\"easing\":\"linear\"}}],\"label\":\"85\",\"method\":\"animate\"},{\"args\":[[\"86\"],{\"frame\":{\"duration\":0,\"redraw\":false},\"mode\":\"immediate\",\"fromcurrent\":true,\"transition\":{\"duration\":0,\"easing\":\"linear\"}}],\"label\":\"86\",\"method\":\"animate\"},{\"args\":[[\"87\"],{\"frame\":{\"duration\":0,\"redraw\":false},\"mode\":\"immediate\",\"fromcurrent\":true,\"transition\":{\"duration\":0,\"easing\":\"linear\"}}],\"label\":\"87\",\"method\":\"animate\"},{\"args\":[[\"88\"],{\"frame\":{\"duration\":0,\"redraw\":false},\"mode\":\"immediate\",\"fromcurrent\":true,\"transition\":{\"duration\":0,\"easing\":\"linear\"}}],\"label\":\"88\",\"method\":\"animate\"},{\"args\":[[\"89\"],{\"frame\":{\"duration\":0,\"redraw\":false},\"mode\":\"immediate\",\"fromcurrent\":true,\"transition\":{\"duration\":0,\"easing\":\"linear\"}}],\"label\":\"89\",\"method\":\"animate\"},{\"args\":[[\"90\"],{\"frame\":{\"duration\":0,\"redraw\":false},\"mode\":\"immediate\",\"fromcurrent\":true,\"transition\":{\"duration\":0,\"easing\":\"linear\"}}],\"label\":\"90\",\"method\":\"animate\"},{\"args\":[[\"91\"],{\"frame\":{\"duration\":0,\"redraw\":false},\"mode\":\"immediate\",\"fromcurrent\":true,\"transition\":{\"duration\":0,\"easing\":\"linear\"}}],\"label\":\"91\",\"method\":\"animate\"},{\"args\":[[\"92\"],{\"frame\":{\"duration\":0,\"redraw\":false},\"mode\":\"immediate\",\"fromcurrent\":true,\"transition\":{\"duration\":0,\"easing\":\"linear\"}}],\"label\":\"92\",\"method\":\"animate\"},{\"args\":[[\"93\"],{\"frame\":{\"duration\":0,\"redraw\":false},\"mode\":\"immediate\",\"fromcurrent\":true,\"transition\":{\"duration\":0,\"easing\":\"linear\"}}],\"label\":\"93\",\"method\":\"animate\"},{\"args\":[[\"94\"],{\"frame\":{\"duration\":0,\"redraw\":false},\"mode\":\"immediate\",\"fromcurrent\":true,\"transition\":{\"duration\":0,\"easing\":\"linear\"}}],\"label\":\"94\",\"method\":\"animate\"},{\"args\":[[\"95\"],{\"frame\":{\"duration\":0,\"redraw\":false},\"mode\":\"immediate\",\"fromcurrent\":true,\"transition\":{\"duration\":0,\"easing\":\"linear\"}}],\"label\":\"95\",\"method\":\"animate\"},{\"args\":[[\"96\"],{\"frame\":{\"duration\":0,\"redraw\":false},\"mode\":\"immediate\",\"fromcurrent\":true,\"transition\":{\"duration\":0,\"easing\":\"linear\"}}],\"label\":\"96\",\"method\":\"animate\"},{\"args\":[[\"97\"],{\"frame\":{\"duration\":0,\"redraw\":false},\"mode\":\"immediate\",\"fromcurrent\":true,\"transition\":{\"duration\":0,\"easing\":\"linear\"}}],\"label\":\"97\",\"method\":\"animate\"},{\"args\":[[\"98\"],{\"frame\":{\"duration\":0,\"redraw\":false},\"mode\":\"immediate\",\"fromcurrent\":true,\"transition\":{\"duration\":0,\"easing\":\"linear\"}}],\"label\":\"98\",\"method\":\"animate\"},{\"args\":[[\"99\"],{\"frame\":{\"duration\":0,\"redraw\":false},\"mode\":\"immediate\",\"fromcurrent\":true,\"transition\":{\"duration\":0,\"easing\":\"linear\"}}],\"label\":\"99\",\"method\":\"animate\"},{\"args\":[[\"100\"],{\"frame\":{\"duration\":0,\"redraw\":false},\"mode\":\"immediate\",\"fromcurrent\":true,\"transition\":{\"duration\":0,\"easing\":\"linear\"}}],\"label\":\"100\",\"method\":\"animate\"},{\"args\":[[\"101\"],{\"frame\":{\"duration\":0,\"redraw\":false},\"mode\":\"immediate\",\"fromcurrent\":true,\"transition\":{\"duration\":0,\"easing\":\"linear\"}}],\"label\":\"101\",\"method\":\"animate\"},{\"args\":[[\"102\"],{\"frame\":{\"duration\":0,\"redraw\":false},\"mode\":\"immediate\",\"fromcurrent\":true,\"transition\":{\"duration\":0,\"easing\":\"linear\"}}],\"label\":\"102\",\"method\":\"animate\"},{\"args\":[[\"103\"],{\"frame\":{\"duration\":0,\"redraw\":false},\"mode\":\"immediate\",\"fromcurrent\":true,\"transition\":{\"duration\":0,\"easing\":\"linear\"}}],\"label\":\"103\",\"method\":\"animate\"},{\"args\":[[\"104\"],{\"frame\":{\"duration\":0,\"redraw\":false},\"mode\":\"immediate\",\"fromcurrent\":true,\"transition\":{\"duration\":0,\"easing\":\"linear\"}}],\"label\":\"104\",\"method\":\"animate\"},{\"args\":[[\"105\"],{\"frame\":{\"duration\":0,\"redraw\":false},\"mode\":\"immediate\",\"fromcurrent\":true,\"transition\":{\"duration\":0,\"easing\":\"linear\"}}],\"label\":\"105\",\"method\":\"animate\"},{\"args\":[[\"106\"],{\"frame\":{\"duration\":0,\"redraw\":false},\"mode\":\"immediate\",\"fromcurrent\":true,\"transition\":{\"duration\":0,\"easing\":\"linear\"}}],\"label\":\"106\",\"method\":\"animate\"},{\"args\":[[\"107\"],{\"frame\":{\"duration\":0,\"redraw\":false},\"mode\":\"immediate\",\"fromcurrent\":true,\"transition\":{\"duration\":0,\"easing\":\"linear\"}}],\"label\":\"107\",\"method\":\"animate\"},{\"args\":[[\"108\"],{\"frame\":{\"duration\":0,\"redraw\":false},\"mode\":\"immediate\",\"fromcurrent\":true,\"transition\":{\"duration\":0,\"easing\":\"linear\"}}],\"label\":\"108\",\"method\":\"animate\"},{\"args\":[[\"109\"],{\"frame\":{\"duration\":0,\"redraw\":false},\"mode\":\"immediate\",\"fromcurrent\":true,\"transition\":{\"duration\":0,\"easing\":\"linear\"}}],\"label\":\"109\",\"method\":\"animate\"},{\"args\":[[\"110\"],{\"frame\":{\"duration\":0,\"redraw\":false},\"mode\":\"immediate\",\"fromcurrent\":true,\"transition\":{\"duration\":0,\"easing\":\"linear\"}}],\"label\":\"110\",\"method\":\"animate\"},{\"args\":[[\"111\"],{\"frame\":{\"duration\":0,\"redraw\":false},\"mode\":\"immediate\",\"fromcurrent\":true,\"transition\":{\"duration\":0,\"easing\":\"linear\"}}],\"label\":\"111\",\"method\":\"animate\"},{\"args\":[[\"112\"],{\"frame\":{\"duration\":0,\"redraw\":false},\"mode\":\"immediate\",\"fromcurrent\":true,\"transition\":{\"duration\":0,\"easing\":\"linear\"}}],\"label\":\"112\",\"method\":\"animate\"},{\"args\":[[\"113\"],{\"frame\":{\"duration\":0,\"redraw\":false},\"mode\":\"immediate\",\"fromcurrent\":true,\"transition\":{\"duration\":0,\"easing\":\"linear\"}}],\"label\":\"113\",\"method\":\"animate\"},{\"args\":[[\"114\"],{\"frame\":{\"duration\":0,\"redraw\":false},\"mode\":\"immediate\",\"fromcurrent\":true,\"transition\":{\"duration\":0,\"easing\":\"linear\"}}],\"label\":\"114\",\"method\":\"animate\"},{\"args\":[[\"115\"],{\"frame\":{\"duration\":0,\"redraw\":false},\"mode\":\"immediate\",\"fromcurrent\":true,\"transition\":{\"duration\":0,\"easing\":\"linear\"}}],\"label\":\"115\",\"method\":\"animate\"},{\"args\":[[\"116\"],{\"frame\":{\"duration\":0,\"redraw\":false},\"mode\":\"immediate\",\"fromcurrent\":true,\"transition\":{\"duration\":0,\"easing\":\"linear\"}}],\"label\":\"116\",\"method\":\"animate\"},{\"args\":[[\"117\"],{\"frame\":{\"duration\":0,\"redraw\":false},\"mode\":\"immediate\",\"fromcurrent\":true,\"transition\":{\"duration\":0,\"easing\":\"linear\"}}],\"label\":\"117\",\"method\":\"animate\"},{\"args\":[[\"118\"],{\"frame\":{\"duration\":0,\"redraw\":false},\"mode\":\"immediate\",\"fromcurrent\":true,\"transition\":{\"duration\":0,\"easing\":\"linear\"}}],\"label\":\"118\",\"method\":\"animate\"},{\"args\":[[\"119\"],{\"frame\":{\"duration\":0,\"redraw\":false},\"mode\":\"immediate\",\"fromcurrent\":true,\"transition\":{\"duration\":0,\"easing\":\"linear\"}}],\"label\":\"119\",\"method\":\"animate\"},{\"args\":[[\"120\"],{\"frame\":{\"duration\":0,\"redraw\":false},\"mode\":\"immediate\",\"fromcurrent\":true,\"transition\":{\"duration\":0,\"easing\":\"linear\"}}],\"label\":\"120\",\"method\":\"animate\"},{\"args\":[[\"121\"],{\"frame\":{\"duration\":0,\"redraw\":false},\"mode\":\"immediate\",\"fromcurrent\":true,\"transition\":{\"duration\":0,\"easing\":\"linear\"}}],\"label\":\"121\",\"method\":\"animate\"},{\"args\":[[\"122\"],{\"frame\":{\"duration\":0,\"redraw\":false},\"mode\":\"immediate\",\"fromcurrent\":true,\"transition\":{\"duration\":0,\"easing\":\"linear\"}}],\"label\":\"122\",\"method\":\"animate\"},{\"args\":[[\"123\"],{\"frame\":{\"duration\":0,\"redraw\":false},\"mode\":\"immediate\",\"fromcurrent\":true,\"transition\":{\"duration\":0,\"easing\":\"linear\"}}],\"label\":\"123\",\"method\":\"animate\"},{\"args\":[[\"124\"],{\"frame\":{\"duration\":0,\"redraw\":false},\"mode\":\"immediate\",\"fromcurrent\":true,\"transition\":{\"duration\":0,\"easing\":\"linear\"}}],\"label\":\"124\",\"method\":\"animate\"},{\"args\":[[\"125\"],{\"frame\":{\"duration\":0,\"redraw\":false},\"mode\":\"immediate\",\"fromcurrent\":true,\"transition\":{\"duration\":0,\"easing\":\"linear\"}}],\"label\":\"125\",\"method\":\"animate\"},{\"args\":[[\"126\"],{\"frame\":{\"duration\":0,\"redraw\":false},\"mode\":\"immediate\",\"fromcurrent\":true,\"transition\":{\"duration\":0,\"easing\":\"linear\"}}],\"label\":\"126\",\"method\":\"animate\"},{\"args\":[[\"127\"],{\"frame\":{\"duration\":0,\"redraw\":false},\"mode\":\"immediate\",\"fromcurrent\":true,\"transition\":{\"duration\":0,\"easing\":\"linear\"}}],\"label\":\"127\",\"method\":\"animate\"},{\"args\":[[\"128\"],{\"frame\":{\"duration\":0,\"redraw\":false},\"mode\":\"immediate\",\"fromcurrent\":true,\"transition\":{\"duration\":0,\"easing\":\"linear\"}}],\"label\":\"128\",\"method\":\"animate\"},{\"args\":[[\"129\"],{\"frame\":{\"duration\":0,\"redraw\":false},\"mode\":\"immediate\",\"fromcurrent\":true,\"transition\":{\"duration\":0,\"easing\":\"linear\"}}],\"label\":\"129\",\"method\":\"animate\"},{\"args\":[[\"130\"],{\"frame\":{\"duration\":0,\"redraw\":false},\"mode\":\"immediate\",\"fromcurrent\":true,\"transition\":{\"duration\":0,\"easing\":\"linear\"}}],\"label\":\"130\",\"method\":\"animate\"},{\"args\":[[\"131\"],{\"frame\":{\"duration\":0,\"redraw\":false},\"mode\":\"immediate\",\"fromcurrent\":true,\"transition\":{\"duration\":0,\"easing\":\"linear\"}}],\"label\":\"131\",\"method\":\"animate\"},{\"args\":[[\"132\"],{\"frame\":{\"duration\":0,\"redraw\":false},\"mode\":\"immediate\",\"fromcurrent\":true,\"transition\":{\"duration\":0,\"easing\":\"linear\"}}],\"label\":\"132\",\"method\":\"animate\"},{\"args\":[[\"133\"],{\"frame\":{\"duration\":0,\"redraw\":false},\"mode\":\"immediate\",\"fromcurrent\":true,\"transition\":{\"duration\":0,\"easing\":\"linear\"}}],\"label\":\"133\",\"method\":\"animate\"},{\"args\":[[\"134\"],{\"frame\":{\"duration\":0,\"redraw\":false},\"mode\":\"immediate\",\"fromcurrent\":true,\"transition\":{\"duration\":0,\"easing\":\"linear\"}}],\"label\":\"134\",\"method\":\"animate\"},{\"args\":[[\"135\"],{\"frame\":{\"duration\":0,\"redraw\":false},\"mode\":\"immediate\",\"fromcurrent\":true,\"transition\":{\"duration\":0,\"easing\":\"linear\"}}],\"label\":\"135\",\"method\":\"animate\"},{\"args\":[[\"136\"],{\"frame\":{\"duration\":0,\"redraw\":false},\"mode\":\"immediate\",\"fromcurrent\":true,\"transition\":{\"duration\":0,\"easing\":\"linear\"}}],\"label\":\"136\",\"method\":\"animate\"},{\"args\":[[\"137\"],{\"frame\":{\"duration\":0,\"redraw\":false},\"mode\":\"immediate\",\"fromcurrent\":true,\"transition\":{\"duration\":0,\"easing\":\"linear\"}}],\"label\":\"137\",\"method\":\"animate\"},{\"args\":[[\"138\"],{\"frame\":{\"duration\":0,\"redraw\":false},\"mode\":\"immediate\",\"fromcurrent\":true,\"transition\":{\"duration\":0,\"easing\":\"linear\"}}],\"label\":\"138\",\"method\":\"animate\"},{\"args\":[[\"139\"],{\"frame\":{\"duration\":0,\"redraw\":false},\"mode\":\"immediate\",\"fromcurrent\":true,\"transition\":{\"duration\":0,\"easing\":\"linear\"}}],\"label\":\"139\",\"method\":\"animate\"},{\"args\":[[\"140\"],{\"frame\":{\"duration\":0,\"redraw\":false},\"mode\":\"immediate\",\"fromcurrent\":true,\"transition\":{\"duration\":0,\"easing\":\"linear\"}}],\"label\":\"140\",\"method\":\"animate\"},{\"args\":[[\"141\"],{\"frame\":{\"duration\":0,\"redraw\":false},\"mode\":\"immediate\",\"fromcurrent\":true,\"transition\":{\"duration\":0,\"easing\":\"linear\"}}],\"label\":\"141\",\"method\":\"animate\"},{\"args\":[[\"142\"],{\"frame\":{\"duration\":0,\"redraw\":false},\"mode\":\"immediate\",\"fromcurrent\":true,\"transition\":{\"duration\":0,\"easing\":\"linear\"}}],\"label\":\"142\",\"method\":\"animate\"},{\"args\":[[\"143\"],{\"frame\":{\"duration\":0,\"redraw\":false},\"mode\":\"immediate\",\"fromcurrent\":true,\"transition\":{\"duration\":0,\"easing\":\"linear\"}}],\"label\":\"143\",\"method\":\"animate\"},{\"args\":[[\"144\"],{\"frame\":{\"duration\":0,\"redraw\":false},\"mode\":\"immediate\",\"fromcurrent\":true,\"transition\":{\"duration\":0,\"easing\":\"linear\"}}],\"label\":\"144\",\"method\":\"animate\"},{\"args\":[[\"145\"],{\"frame\":{\"duration\":0,\"redraw\":false},\"mode\":\"immediate\",\"fromcurrent\":true,\"transition\":{\"duration\":0,\"easing\":\"linear\"}}],\"label\":\"145\",\"method\":\"animate\"},{\"args\":[[\"146\"],{\"frame\":{\"duration\":0,\"redraw\":false},\"mode\":\"immediate\",\"fromcurrent\":true,\"transition\":{\"duration\":0,\"easing\":\"linear\"}}],\"label\":\"146\",\"method\":\"animate\"},{\"args\":[[\"147\"],{\"frame\":{\"duration\":0,\"redraw\":false},\"mode\":\"immediate\",\"fromcurrent\":true,\"transition\":{\"duration\":0,\"easing\":\"linear\"}}],\"label\":\"147\",\"method\":\"animate\"},{\"args\":[[\"148\"],{\"frame\":{\"duration\":0,\"redraw\":false},\"mode\":\"immediate\",\"fromcurrent\":true,\"transition\":{\"duration\":0,\"easing\":\"linear\"}}],\"label\":\"148\",\"method\":\"animate\"},{\"args\":[[\"149\"],{\"frame\":{\"duration\":0,\"redraw\":false},\"mode\":\"immediate\",\"fromcurrent\":true,\"transition\":{\"duration\":0,\"easing\":\"linear\"}}],\"label\":\"149\",\"method\":\"animate\"},{\"args\":[[\"150\"],{\"frame\":{\"duration\":0,\"redraw\":false},\"mode\":\"immediate\",\"fromcurrent\":true,\"transition\":{\"duration\":0,\"easing\":\"linear\"}}],\"label\":\"150\",\"method\":\"animate\"}],\"x\":0.1,\"xanchor\":\"left\",\"y\":0,\"yanchor\":\"top\"}]},                        {\"responsive\": true}                    ).then(function(){\n",
       "                            Plotly.addFrames('74e72e0f-4fd0-46df-a82f-371ad10d2133', [{\"data\":[{\"hovertemplate\":\"variable=0\\u003cbr\\u003ex=%{x}\\u003cbr\\u003evalue=%{y}\\u003cextra\\u003e\\u003c\\u002fextra\\u003e\",\"legendgroup\":\"\",\"line\":{\"color\":\"#636efa\",\"dash\":\"solid\"},\"marker\":{\"symbol\":\"circle\"},\"mode\":\"lines\",\"name\":\"\",\"orientation\":\"v\",\"showlegend\":false,\"x\":{\"dtype\":\"f8\",\"bdata\":\"AAAAAAAAAAB7FK5H4XqkP3sUrkfherQ\\u002fuB6F61G4vj97FK5H4XrEP5qZmZmZmck\\u002fuB6F61G4zj\\u002fsUbgehevRP3sUrkfhetQ\\u002fCtejcD0K1z+amZmZmZnZPylcj8L1KNw\\u002fuB6F61G43j+kcD0K16PgP+xRuB6F6+E\\u002fMzMzMzMz4z97FK5H4XrkP8P1KFyPwuU\\u002fCtejcD0K5z9SuB6F61HoP5qZmZmZmek\\u002f4XoUrkfh6j8pXI\\u002fC9SjsP3E9CtejcO0\\u002fuB6F61G47j8AAAAAAADwP6RwPQrXo\\u002fA\\u002fSOF6FK5H8T\\u002fsUbgehevxP4\\u002fC9Shcj\\u002fI\\u002fMzMzMzMz8z\\u002fXo3A9CtfzP3sUrkfhevQ\\u002fH4XrUbge9T\\u002fD9Shcj8L1P2dmZmZmZvY\\u002fCtejcD0K9z+uR+F6FK73P1K4HoXrUfg\\u002f9ihcj8L1+D+amZmZmZn5Pz4K16NwPfo\\u002f4XoUrkfh+j+F61G4HoX7Pylcj8L1KPw\\u002fzczMzMzM\\u002fD9xPQrXo3D9PxWuR+F6FP4\\u002fuB6F61G4\\u002fj9cj8L1KFz\\u002fPwAAAAAAAABA\"},\"xaxis\":\"x\",\"y\":{\"dtype\":\"f8\",\"bdata\":\"AAAAAAAA8D8AAAAAAADwPwAAAAAAAPA\\u002fAAAAAAAA8D8AAAAAAADwPwAAAAAAAPA\\u002fAAAAAAAA8D8AAAAAAADwPwAAAAAAAPA\\u002fAAAAAAAA8D8AAAAAAADwPwAAAAAAAPA\\u002fAAAAAAAA8D8AAAAAAAAAQAAAAAAAAABAAAAAAAAAAEAAAAAAAAAAQAAAAAAAAABAAAAAAAAAAEAAAAAAAAAAQAAAAAAAAABAAAAAAAAAAEAAAAAAAAAAQAAAAAAAAABAAAAAAAAAAEAAAAAAAADwPwAAAAAAAPA\\u002fAAAAAAAA8D8AAAAAAADwPwAAAAAAAPA\\u002fAAAAAAAA8D8AAAAAAADwPwAAAAAAAPA\\u002fAAAAAAAA8D8AAAAAAADwPwAAAAAAAPA\\u002fAAAAAAAA8D8AAAAAAADwPwAAAAAAAPA\\u002fAAAAAAAA8D8AAAAAAADwPwAAAAAAAPA\\u002fAAAAAAAA8D8AAAAAAADwPwAAAAAAAPA\\u002fAAAAAAAA8D8AAAAAAADwPwAAAAAAAPA\\u002fAAAAAAAA8D8AAAAAAADwPwAAAAAAAPA\\u002f\"},\"yaxis\":\"y\",\"type\":\"scatter\"}],\"name\":\"0\"},{\"data\":[{\"hovertemplate\":\"variable=1\\u003cbr\\u003ex=%{x}\\u003cbr\\u003evalue=%{y}\\u003cextra\\u003e\\u003c\\u002fextra\\u003e\",\"legendgroup\":\"\",\"line\":{\"color\":\"#636efa\",\"dash\":\"solid\"},\"marker\":{\"symbol\":\"circle\"},\"mode\":\"lines\",\"name\":\"\",\"orientation\":\"v\",\"showlegend\":false,\"x\":{\"dtype\":\"f8\",\"bdata\":\"AAAAAAAAAAB7FK5H4XqkP3sUrkfherQ\\u002fuB6F61G4vj97FK5H4XrEP5qZmZmZmck\\u002fuB6F61G4zj\\u002fsUbgehevRP3sUrkfhetQ\\u002fCtejcD0K1z+amZmZmZnZPylcj8L1KNw\\u002fuB6F61G43j+kcD0K16PgP+xRuB6F6+E\\u002fMzMzMzMz4z97FK5H4XrkP8P1KFyPwuU\\u002fCtejcD0K5z9SuB6F61HoP5qZmZmZmek\\u002f4XoUrkfh6j8pXI\\u002fC9SjsP3E9CtejcO0\\u002fuB6F61G47j8AAAAAAADwP6RwPQrXo\\u002fA\\u002fSOF6FK5H8T\\u002fsUbgehevxP4\\u002fC9Shcj\\u002fI\\u002fMzMzMzMz8z\\u002fXo3A9CtfzP3sUrkfhevQ\\u002fH4XrUbge9T\\u002fD9Shcj8L1P2dmZmZmZvY\\u002fCtejcD0K9z+uR+F6FK73P1K4HoXrUfg\\u002f9ihcj8L1+D+amZmZmZn5Pz4K16NwPfo\\u002f4XoUrkfh+j+F61G4HoX7Pylcj8L1KPw\\u002fzczMzMzM\\u002fD9xPQrXo3D9PxWuR+F6FP4\\u002fuB6F61G4\\u002fj9cj8L1KFz\\u002fPwAAAAAAAABA\"},\"xaxis\":\"x\",\"y\":{\"dtype\":\"f8\",\"bdata\":\"AAAAAAAA8D8AAAAAAADwPwAAAAAAAPA\\u002fAAAAAAAA8D8AAAAAAADwPwAAAAAAAPA\\u002fAAAAAAAA8D8AAAAAAADwPwAAAAAAAPA\\u002fAAAAAAAA8D8AAAAAAADwPwAAAAAAAPA\\u002fAAAAAAAA8D9VVVVVVVX9PwAAAAAAAABAAAAAAAAAAEAAAAAAAAAAQAAAAAAAAABAAAAAAAAAAEAAAAAAAAAAQAAAAAAAAABAAAAAAAAAAEAAAAAAAAAAQAAAAAAAAABAAAAAAAAAAEBVVVVVVVXxPwAAAAAAAPA\\u002fAAAAAAAA8D8AAAAAAADwPwAAAAAAAPA\\u002fAAAAAAAA8D8AAAAAAADwPwAAAAAAAPA\\u002fAAAAAAAA8D8AAAAAAADwPwAAAAAAAPA\\u002fAAAAAAAA8D8AAAAAAADwPwAAAAAAAPA\\u002fAAAAAAAA8D8AAAAAAADwPwAAAAAAAPA\\u002fAAAAAAAA8D8AAAAAAADwPwAAAAAAAPA\\u002fAAAAAAAA8D8AAAAAAADwPwAAAAAAAPA\\u002fAAAAAAAA8D8AAAAAAADwPwAAAAAAAPA\\u002f\"},\"yaxis\":\"y\",\"type\":\"scatter\"}],\"name\":\"1\"},{\"data\":[{\"hovertemplate\":\"variable=2\\u003cbr\\u003ex=%{x}\\u003cbr\\u003evalue=%{y}\\u003cextra\\u003e\\u003c\\u002fextra\\u003e\",\"legendgroup\":\"\",\"line\":{\"color\":\"#636efa\",\"dash\":\"solid\"},\"marker\":{\"symbol\":\"circle\"},\"mode\":\"lines\",\"name\":\"\",\"orientation\":\"v\",\"showlegend\":false,\"x\":{\"dtype\":\"f8\",\"bdata\":\"AAAAAAAAAAB7FK5H4XqkP3sUrkfherQ\\u002fuB6F61G4vj97FK5H4XrEP5qZmZmZmck\\u002fuB6F61G4zj\\u002fsUbgehevRP3sUrkfhetQ\\u002fCtejcD0K1z+amZmZmZnZPylcj8L1KNw\\u002fuB6F61G43j+kcD0K16PgP+xRuB6F6+E\\u002fMzMzMzMz4z97FK5H4XrkP8P1KFyPwuU\\u002fCtejcD0K5z9SuB6F61HoP5qZmZmZmek\\u002f4XoUrkfh6j8pXI\\u002fC9SjsP3E9CtejcO0\\u002fuB6F61G47j8AAAAAAADwP6RwPQrXo\\u002fA\\u002fSOF6FK5H8T\\u002fsUbgehevxP4\\u002fC9Shcj\\u002fI\\u002fMzMzMzMz8z\\u002fXo3A9CtfzP3sUrkfhevQ\\u002fH4XrUbge9T\\u002fD9Shcj8L1P2dmZmZmZvY\\u002fCtejcD0K9z+uR+F6FK73P1K4HoXrUfg\\u002f9ihcj8L1+D+amZmZmZn5Pz4K16NwPfo\\u002f4XoUrkfh+j+F61G4HoX7Pylcj8L1KPw\\u002fzczMzMzM\\u002fD9xPQrXo3D9PxWuR+F6FP4\\u002fuB6F61G4\\u002fj9cj8L1KFz\\u002fPwAAAAAAAABA\"},\"xaxis\":\"x\",\"y\":{\"dtype\":\"f8\",\"bdata\":\"AAAAAAAA8D8AAAAAAADwPwAAAAAAAPA\\u002fAAAAAAAA8D8AAAAAAADwPwAAAAAAAPA\\u002fAAAAAAAA8D8AAAAAAADwPwAAAAAAAPA\\u002fAAAAAAAA8D8AAAAAAADwPwAAAAAAAPA\\u002fAAAAAAAA8D+9hPYS2kv7P+M4juM4jv8\\u002fAAAAAAAAAEAAAAAAAAAAQAAAAAAAAABAAAAAAAAAAEAAAAAAAAAAQAAAAAAAAABAAAAAAAAAAEAAAAAAAAAAQAAAAAAAAABAAAAAAAAAAECE9hLaS6jyP8dxHMdxHPA\\u002fAAAAAAAA8D8AAAAAAADwPwAAAAAAAPA\\u002fAAAAAAAA8D8AAAAAAADwPwAAAAAAAPA\\u002fAAAAAAAA8D8AAAAAAADwPwAAAAAAAPA\\u002fAAAAAAAA8D8AAAAAAADwPwAAAAAAAPA\\u002fAAAAAAAA8D8AAAAAAADwPwAAAAAAAPA\\u002fAAAAAAAA8D8AAAAAAADwPwAAAAAAAPA\\u002fAAAAAAAA8D8AAAAAAADwPwAAAAAAAPA\\u002fAAAAAAAA8D8AAAAAAADwPwAAAAAAAPA\\u002f\"},\"yaxis\":\"y\",\"type\":\"scatter\"}],\"name\":\"2\"},{\"data\":[{\"hovertemplate\":\"variable=3\\u003cbr\\u003ex=%{x}\\u003cbr\\u003evalue=%{y}\\u003cextra\\u003e\\u003c\\u002fextra\\u003e\",\"legendgroup\":\"\",\"line\":{\"color\":\"#636efa\",\"dash\":\"solid\"},\"marker\":{\"symbol\":\"circle\"},\"mode\":\"lines\",\"name\":\"\",\"orientation\":\"v\",\"showlegend\":false,\"x\":{\"dtype\":\"f8\",\"bdata\":\"AAAAAAAAAAB7FK5H4XqkP3sUrkfherQ\\u002fuB6F61G4vj97FK5H4XrEP5qZmZmZmck\\u002fuB6F61G4zj\\u002fsUbgehevRP3sUrkfhetQ\\u002fCtejcD0K1z+amZmZmZnZPylcj8L1KNw\\u002fuB6F61G43j+kcD0K16PgP+xRuB6F6+E\\u002fMzMzMzMz4z97FK5H4XrkP8P1KFyPwuU\\u002fCtejcD0K5z9SuB6F61HoP5qZmZmZmek\\u002f4XoUrkfh6j8pXI\\u002fC9SjsP3E9CtejcO0\\u002fuB6F61G47j8AAAAAAADwP6RwPQrXo\\u002fA\\u002fSOF6FK5H8T\\u002fsUbgehevxP4\\u002fC9Shcj\\u002fI\\u002fMzMzMzMz8z\\u002fXo3A9CtfzP3sUrkfhevQ\\u002fH4XrUbge9T\\u002fD9Shcj8L1P2dmZmZmZvY\\u002fCtejcD0K9z+uR+F6FK73P1K4HoXrUfg\\u002f9ihcj8L1+D+amZmZmZn5Pz4K16NwPfo\\u002f4XoUrkfh+j+F61G4HoX7Pylcj8L1KPw\\u002fzczMzMzM\\u002fD9xPQrXo3D9PxWuR+F6FP4\\u002fuB6F61G4\\u002fj9cj8L1KFz\\u002fPwAAAAAAAABA\"},\"xaxis\":\"x\",\"y\":{\"dtype\":\"f8\",\"bdata\":\"AAAAAAAA8D8AAAAAAADwPwAAAAAAAPA\\u002fAAAAAAAA8D8AAAAAAADwPwAAAAAAAPA\\u002fAAAAAAAA8D8AAAAAAADwPwAAAAAAAPA\\u002fAAAAAAAA8D8AAAAAAADwPwAAAAAAAPA\\u002fAAAAAAAA8D8k5InyuLD5P6YtrpAE2\\u002f4\\u002f0F5Cewnt\\u002fz8AAAAAAAAAQAAAAAAAAABAAAAAAAAAAEAAAAAAAAAAQAAAAAAAAABAAAAAAAAAAEAAAAAAAAAAQAAAAAAAAABAAAAAAAAAAEAxTqzANvTzPzZtcYUkU\\u002fA\\u002fJrSX0F4C8D8AAAAAAADwPwAAAAAAAPA\\u002fAAAAAAAA8D8AAAAAAADwPwAAAAAAAPA\\u002fAAAAAAAA8D8AAAAAAADwPwAAAAAAAPA\\u002fAAAAAAAA8D8AAAAAAADwPwAAAAAAAPA\\u002fAAAAAAAA8D8AAAAAAADwPwAAAAAAAPA\\u002fAAAAAAAA8D8AAAAAAADwPwAAAAAAAPA\\u002fAAAAAAAA8D8AAAAAAADwPwAAAAAAAPA\\u002fAAAAAAAA8D8AAAAAAADwPwAAAAAAAPA\\u002f\"},\"yaxis\":\"y\",\"type\":\"scatter\"}],\"name\":\"3\"},{\"data\":[{\"hovertemplate\":\"variable=4\\u003cbr\\u003ex=%{x}\\u003cbr\\u003evalue=%{y}\\u003cextra\\u003e\\u003c\\u002fextra\\u003e\",\"legendgroup\":\"\",\"line\":{\"color\":\"#636efa\",\"dash\":\"solid\"},\"marker\":{\"symbol\":\"circle\"},\"mode\":\"lines\",\"name\":\"\",\"orientation\":\"v\",\"showlegend\":false,\"x\":{\"dtype\":\"f8\",\"bdata\":\"AAAAAAAAAAB7FK5H4XqkP3sUrkfherQ\\u002fuB6F61G4vj97FK5H4XrEP5qZmZmZmck\\u002fuB6F61G4zj\\u002fsUbgehevRP3sUrkfhetQ\\u002fCtejcD0K1z+amZmZmZnZPylcj8L1KNw\\u002fuB6F61G43j+kcD0K16PgP+xRuB6F6+E\\u002fMzMzMzMz4z97FK5H4XrkP8P1KFyPwuU\\u002fCtejcD0K5z9SuB6F61HoP5qZmZmZmek\\u002f4XoUrkfh6j8pXI\\u002fC9SjsP3E9CtejcO0\\u002fuB6F61G47j8AAAAAAADwP6RwPQrXo\\u002fA\\u002fSOF6FK5H8T\\u002fsUbgehevxP4\\u002fC9Shcj\\u002fI\\u002fMzMzMzMz8z\\u002fXo3A9CtfzP3sUrkfhevQ\\u002fH4XrUbge9T\\u002fD9Shcj8L1P2dmZmZmZvY\\u002fCtejcD0K9z+uR+F6FK73P1K4HoXrUfg\\u002f9ihcj8L1+D+amZmZmZn5Pz4K16NwPfo\\u002f4XoUrkfh+j+F61G4HoX7Pylcj8L1KPw\\u002fzczMzMzM\\u002fD9xPQrXo3D9PxWuR+F6FP4\\u002fuB6F61G4\\u002fj9cj8L1KFz\\u002fPwAAAAAAAABA\"},\"xaxis\":\"x\",\"y\":{\"dtype\":\"f8\",\"bdata\":\"AAAAAAAA8D8AAAAAAADwPwAAAAAAAPA\\u002fAAAAAAAA8D8AAAAAAADwPwAAAAAAAPA\\u002fAAAAAAAA8D8AAAAAAADwPwAAAAAAAPA\\u002fAAAAAAAA8D8AAAAAAADwPwAAAAAAAPA\\u002fAAAAAAAA8D\\u002fhVH3eymT4P4p6R2KEBv4\\u002fFRMeD3m\\u002f\\u002fz8jZeDp1vz\\u002fPwAAAAAAAABAAAAAAAAAAEAAAAAAAAAAQAAAAAAAAABAAAAAAAAAAEAAAAAAAAAAQAAAAAAAAABAAAAAAAAAAECsmG2\\u002fszT1PwK++wYjovA\\u002ft\\u002fFG9BoJ8D+u+WGRMgDwPwAAAAAAAPA\\u002fAAAAAAAA8D8AAAAAAADwPwAAAAAAAPA\\u002fAAAAAAAA8D8AAAAAAADwPwAAAAAAAPA\\u002fAAAAAAAA8D8AAAAAAADwPwAAAAAAAPA\\u002fAAAAAAAA8D8AAAAAAADwPwAAAAAAAPA\\u002fAAAAAAAA8D8AAAAAAADwPwAAAAAAAPA\\u002fAAAAAAAA8D8AAAAAAADwPwAAAAAAAPA\\u002fAAAAAAAA8D8AAAAAAADwPwAAAAAAAPA\\u002f\"},\"yaxis\":\"y\",\"type\":\"scatter\"}],\"name\":\"4\"},{\"data\":[{\"hovertemplate\":\"variable=5\\u003cbr\\u003ex=%{x}\\u003cbr\\u003evalue=%{y}\\u003cextra\\u003e\\u003c\\u002fextra\\u003e\",\"legendgroup\":\"\",\"line\":{\"color\":\"#636efa\",\"dash\":\"solid\"},\"marker\":{\"symbol\":\"circle\"},\"mode\":\"lines\",\"name\":\"\",\"orientation\":\"v\",\"showlegend\":false,\"x\":{\"dtype\":\"f8\",\"bdata\":\"AAAAAAAAAAB7FK5H4XqkP3sUrkfherQ\\u002fuB6F61G4vj97FK5H4XrEP5qZmZmZmck\\u002fuB6F61G4zj\\u002fsUbgehevRP3sUrkfhetQ\\u002fCtejcD0K1z+amZmZmZnZPylcj8L1KNw\\u002fuB6F61G43j+kcD0K16PgP+xRuB6F6+E\\u002fMzMzMzMz4z97FK5H4XrkP8P1KFyPwuU\\u002fCtejcD0K5z9SuB6F61HoP5qZmZmZmek\\u002f4XoUrkfh6j8pXI\\u002fC9SjsP3E9CtejcO0\\u002fuB6F61G47j8AAAAAAADwP6RwPQrXo\\u002fA\\u002fSOF6FK5H8T\\u002fsUbgehevxP4\\u002fC9Shcj\\u002fI\\u002fMzMzMzMz8z\\u002fXo3A9CtfzP3sUrkfhevQ\\u002fH4XrUbge9T\\u002fD9Shcj8L1P2dmZmZmZvY\\u002fCtejcD0K9z+uR+F6FK73P1K4HoXrUfg\\u002f9ihcj8L1+D+amZmZmZn5Pz4K16NwPfo\\u002f4XoUrkfh+j+F61G4HoX7Pylcj8L1KPw\\u002fzczMzMzM\\u002fD9xPQrXo3D9PxWuR+F6FP4\\u002fuB6F61G4\\u002fj9cj8L1KFz\\u002fPwAAAAAAAABA\"},\"xaxis\":\"x\",\"y\":{\"dtype\":\"f8\",\"bdata\":\"AAAAAAAA8D8AAAAAAADwPwAAAAAAAPA\\u002fAAAAAAAA8D8AAAAAAADwPwAAAAAAAPA\\u002fAAAAAAAA8D8AAAAAAADwPwAAAAAAAPA\\u002fAAAAAAAA8D8AAAAAAADwPwAAAAAAAPA\\u002fAAAAAAAA8D8E\\u002f5R6yVP3P6VB0nUOJf0\\u002fiJJyJI92\\u002fz+8NFmdnfL\\u002fP4a7+iZ5\\u002f\\u002f8\\u002fAAAAAAAAAEAAAAAAAAAAQAAAAAAAAABAAAAAAAAAAEAAAAAAAAAAQAAAAAAAAABAAAAAAAAAAEBYlhqW5mX2PzwlA5aLB\\u002fE\\u002fjVhd4uIV8D97Ufib8ADwPyQqyDYEAPA\\u002fAAAAAAAA8D8AAAAAAADwPwAAAAAAAPA\\u002fAAAAAAAA8D8AAAAAAADwPwAAAAAAAPA\\u002fAAAAAAAA8D8AAAAAAADwPwAAAAAAAPA\\u002fAAAAAAAA8D8AAAAAAADwPwAAAAAAAPA\\u002fAAAAAAAA8D8AAAAAAADwPwAAAAAAAPA\\u002fAAAAAAAA8D8AAAAAAADwPwAAAAAAAPA\\u002fAAAAAAAA8D8AAAAAAADwPwAAAAAAAPA\\u002f\"},\"yaxis\":\"y\",\"type\":\"scatter\"}],\"name\":\"5\"},{\"data\":[{\"hovertemplate\":\"variable=6\\u003cbr\\u003ex=%{x}\\u003cbr\\u003evalue=%{y}\\u003cextra\\u003e\\u003c\\u002fextra\\u003e\",\"legendgroup\":\"\",\"line\":{\"color\":\"#636efa\",\"dash\":\"solid\"},\"marker\":{\"symbol\":\"circle\"},\"mode\":\"lines\",\"name\":\"\",\"orientation\":\"v\",\"showlegend\":false,\"x\":{\"dtype\":\"f8\",\"bdata\":\"AAAAAAAAAAB7FK5H4XqkP3sUrkfherQ\\u002fuB6F61G4vj97FK5H4XrEP5qZmZmZmck\\u002fuB6F61G4zj\\u002fsUbgehevRP3sUrkfhetQ\\u002fCtejcD0K1z+amZmZmZnZPylcj8L1KNw\\u002fuB6F61G43j+kcD0K16PgP+xRuB6F6+E\\u002fMzMzMzMz4z97FK5H4XrkP8P1KFyPwuU\\u002fCtejcD0K5z9SuB6F61HoP5qZmZmZmek\\u002f4XoUrkfh6j8pXI\\u002fC9SjsP3E9CtejcO0\\u002fuB6F61G47j8AAAAAAADwP6RwPQrXo\\u002fA\\u002fSOF6FK5H8T\\u002fsUbgehevxP4\\u002fC9Shcj\\u002fI\\u002fMzMzMzMz8z\\u002fXo3A9CtfzP3sUrkfhevQ\\u002fH4XrUbge9T\\u002fD9Shcj8L1P2dmZmZmZvY\\u002fCtejcD0K9z+uR+F6FK73P1K4HoXrUfg\\u002f9ihcj8L1+D+amZmZmZn5Pz4K16NwPfo\\u002f4XoUrkfh+j+F61G4HoX7Pylcj8L1KPw\\u002fzczMzMzM\\u002fD9xPQrXo3D9PxWuR+F6FP4\\u002fuB6F61G4\\u002fj9cj8L1KFz\\u002fPwAAAAAAAABA\"},\"xaxis\":\"x\",\"y\":{\"dtype\":\"f8\",\"bdata\":\"AAAAAAAA8D8AAAAAAADwPwAAAAAAAPA\\u002fAAAAAAAA8D8AAAAAAADwPwAAAAAAAPA\\u002fAAAAAAAA8D8AAAAAAADwPwAAAAAAAPA\\u002fAAAAAAAA8D8AAAAAAADwPwAAAAAAAPA\\u002fAAAAAAAA8D+5TmjE4m\\u002f2P+CpFfH9Qvw\\u002f7duwNk0V\\u002fz+EvxQv+d3\\u002fP+w6EplU\\u002ff8\\u002fQR9\\u002fhun\\u002f\\u002fz8AAAAAAAAAQAAAAAAAAABAAAAAAAAAAEAAAAAAAAAAQAAAAAAAAABAAAAAAAAAAEDlaAttp4T3P3LoLKdxgfE\\u002f76Gv0iEq8D9oQ2uRrwLwP\\u002fqy5ukXAPA\\u002fgwPmWQAA8D8AAAAAAADwPwAAAAAAAPA\\u002fAAAAAAAA8D8AAAAAAADwPwAAAAAAAPA\\u002fAAAAAAAA8D8AAAAAAADwPwAAAAAAAPA\\u002fAAAAAAAA8D8AAAAAAADwPwAAAAAAAPA\\u002fAAAAAAAA8D8AAAAAAADwPwAAAAAAAPA\\u002fAAAAAAAA8D8AAAAAAADwPwAAAAAAAPA\\u002fAAAAAAAA8D8AAAAAAADwPwAAAAAAAPA\\u002f\"},\"yaxis\":\"y\",\"type\":\"scatter\"}],\"name\":\"6\"},{\"data\":[{\"hovertemplate\":\"variable=7\\u003cbr\\u003ex=%{x}\\u003cbr\\u003evalue=%{y}\\u003cextra\\u003e\\u003c\\u002fextra\\u003e\",\"legendgroup\":\"\",\"line\":{\"color\":\"#636efa\",\"dash\":\"solid\"},\"marker\":{\"symbol\":\"circle\"},\"mode\":\"lines\",\"name\":\"\",\"orientation\":\"v\",\"showlegend\":false,\"x\":{\"dtype\":\"f8\",\"bdata\":\"AAAAAAAAAAB7FK5H4XqkP3sUrkfherQ\\u002fuB6F61G4vj97FK5H4XrEP5qZmZmZmck\\u002fuB6F61G4zj\\u002fsUbgehevRP3sUrkfhetQ\\u002fCtejcD0K1z+amZmZmZnZPylcj8L1KNw\\u002fuB6F61G43j+kcD0K16PgP+xRuB6F6+E\\u002fMzMzMzMz4z97FK5H4XrkP8P1KFyPwuU\\u002fCtejcD0K5z9SuB6F61HoP5qZmZmZmek\\u002f4XoUrkfh6j8pXI\\u002fC9SjsP3E9CtejcO0\\u002fuB6F61G47j8AAAAAAADwP6RwPQrXo\\u002fA\\u002fSOF6FK5H8T\\u002fsUbgehevxP4\\u002fC9Shcj\\u002fI\\u002fMzMzMzMz8z\\u002fXo3A9CtfzP3sUrkfhevQ\\u002fH4XrUbge9T\\u002fD9Shcj8L1P2dmZmZmZvY\\u002fCtejcD0K9z+uR+F6FK73P1K4HoXrUfg\\u002f9ihcj8L1+D+amZmZmZn5Pz4K16NwPfo\\u002f4XoUrkfh+j+F61G4HoX7Pylcj8L1KPw\\u002fzczMzMzM\\u002fD9xPQrXo3D9PxWuR+F6FP4\\u002fuB6F61G4\\u002fj9cj8L1KFz\\u002fPwAAAAAAAABA\"},\"xaxis\":\"x\",\"y\":{\"dtype\":\"f8\",\"bdata\":\"AAAAAAAA8D8AAAAAAADwPwAAAAAAAPA\\u002fAAAAAAAA8D8AAAAAAADwPwAAAAAAAPA\\u002fAAAAAAAA8D8AAAAAAADwPwAAAAAAAPA\\u002fAAAAAAAA8D8AAAAAAADwPwAAAAAAAPA\\u002fAAAAAAAA8D\\u002fPgC9\\u002fUK\\u002f1P28+ErWBZ\\u002fs\\u002fpVBNnF2g\\u002fj+M0JfAqrz\\u002fPx9QryEb+P8\\u002fqVY6X3v\\u002f\\u002fz\\u002fgLxVB\\u002fP\\u002f\\u002fPwAAAAAAAABAAAAAAAAAAEAAAAAAAAAAQAAAAAAAAABAAAAAAAAAAED1pPqQn474P40QSCHIDfI\\u002fGFUAJQlH8D95Uh6k+QXwPzwSLzhPAPA\\u002f1ceQUAIA8D+g1X0HAADwPwAAAAAAAPA\\u002fAAAAAAAA8D8AAAAAAADwPwAAAAAAAPA\\u002fAAAAAAAA8D8AAAAAAADwPwAAAAAAAPA\\u002fAAAAAAAA8D8AAAAAAADwPwAAAAAAAPA\\u002fAAAAAAAA8D8AAAAAAADwPwAAAAAAAPA\\u002fAAAAAAAA8D8AAAAAAADwPwAAAAAAAPA\\u002fAAAAAAAA8D8AAAAAAADwPwAAAAAAAPA\\u002f\"},\"yaxis\":\"y\",\"type\":\"scatter\"}],\"name\":\"7\"},{\"data\":[{\"hovertemplate\":\"variable=8\\u003cbr\\u003ex=%{x}\\u003cbr\\u003evalue=%{y}\\u003cextra\\u003e\\u003c\\u002fextra\\u003e\",\"legendgroup\":\"\",\"line\":{\"color\":\"#636efa\",\"dash\":\"solid\"},\"marker\":{\"symbol\":\"circle\"},\"mode\":\"lines\",\"name\":\"\",\"orientation\":\"v\",\"showlegend\":false,\"x\":{\"dtype\":\"f8\",\"bdata\":\"AAAAAAAAAAB7FK5H4XqkP3sUrkfherQ\\u002fuB6F61G4vj97FK5H4XrEP5qZmZmZmck\\u002fuB6F61G4zj\\u002fsUbgehevRP3sUrkfhetQ\\u002fCtejcD0K1z+amZmZmZnZPylcj8L1KNw\\u002fuB6F61G43j+kcD0K16PgP+xRuB6F6+E\\u002fMzMzMzMz4z97FK5H4XrkP8P1KFyPwuU\\u002fCtejcD0K5z9SuB6F61HoP5qZmZmZmek\\u002f4XoUrkfh6j8pXI\\u002fC9SjsP3E9CtejcO0\\u002fuB6F61G47j8AAAAAAADwP6RwPQrXo\\u002fA\\u002fSOF6FK5H8T\\u002fsUbgehevxP4\\u002fC9Shcj\\u002fI\\u002fMzMzMzMz8z\\u002fXo3A9CtfzP3sUrkfhevQ\\u002fH4XrUbge9T\\u002fD9Shcj8L1P2dmZmZmZvY\\u002fCtejcD0K9z+uR+F6FK73P1K4HoXrUfg\\u002f9ihcj8L1+D+amZmZmZn5Pz4K16NwPfo\\u002f4XoUrkfh+j+F61G4HoX7Pylcj8L1KPw\\u002fzczMzMzM\\u002fD9xPQrXo3D9PxWuR+F6FP4\\u002fuB6F61G4\\u002fj9cj8L1KFz\\u002fPwAAAAAAAABA\"},\"xaxis\":\"x\",\"y\":{\"dtype\":\"f8\",\"bdata\":\"AAAAAAAA8D8AAAAAAADwPwAAAAAAAPA\\u002fAAAAAAAA8D8AAAAAAADwPwAAAAAAAPA\\u002fAAAAAAAA8D8AAAAAAADwPwAAAAAAAPA\\u002fAAAAAAAA8D8AAAAAAADwPwAAAAAAAPA\\u002fAAAAAAAA8D\\u002fKI8LZ8gr1P2g08nGFlvo\\u002fFLcWTMoc\\u002fj+Lb7FDrI3\\u002fP0OLHoM17v8\\u002fAi1mr0D+\\u002fz+x5B3G5v\\u002f\\u002fP6UyLmD\\u002f\\u002f\\u002f8\\u002fAAAAAAAAAEAAAAAAAAAAQAAAAAAAAABAAAAAAAAAAEDrB7D9UoL5P9AIWNRTqvI\\u002fqTCko5Zt8D\\u002fo5dqfZwvwP2102RjIAPA\\u002fYjs0uQgA8D\\u002fmaT84AADwP83RnwAAAPA\\u002fAAAAAAAA8D8AAAAAAADwPwAAAAAAAPA\\u002fAAAAAAAA8D8AAAAAAADwPwAAAAAAAPA\\u002fAAAAAAAA8D8AAAAAAADwPwAAAAAAAPA\\u002fAAAAAAAA8D8AAAAAAADwPwAAAAAAAPA\\u002fAAAAAAAA8D8AAAAAAADwPwAAAAAAAPA\\u002fAAAAAAAA8D8AAAAAAADwPwAAAAAAAPA\\u002f\"},\"yaxis\":\"y\",\"type\":\"scatter\"}],\"name\":\"8\"},{\"data\":[{\"hovertemplate\":\"variable=9\\u003cbr\\u003ex=%{x}\\u003cbr\\u003evalue=%{y}\\u003cextra\\u003e\\u003c\\u002fextra\\u003e\",\"legendgroup\":\"\",\"line\":{\"color\":\"#636efa\",\"dash\":\"solid\"},\"marker\":{\"symbol\":\"circle\"},\"mode\":\"lines\",\"name\":\"\",\"orientation\":\"v\",\"showlegend\":false,\"x\":{\"dtype\":\"f8\",\"bdata\":\"AAAAAAAAAAB7FK5H4XqkP3sUrkfherQ\\u002fuB6F61G4vj97FK5H4XrEP5qZmZmZmck\\u002fuB6F61G4zj\\u002fsUbgehevRP3sUrkfhetQ\\u002fCtejcD0K1z+amZmZmZnZPylcj8L1KNw\\u002fuB6F61G43j+kcD0K16PgP+xRuB6F6+E\\u002fMzMzMzMz4z97FK5H4XrkP8P1KFyPwuU\\u002fCtejcD0K5z9SuB6F61HoP5qZmZmZmek\\u002f4XoUrkfh6j8pXI\\u002fC9SjsP3E9CtejcO0\\u002fuB6F61G47j8AAAAAAADwP6RwPQrXo\\u002fA\\u002fSOF6FK5H8T\\u002fsUbgehevxP4\\u002fC9Shcj\\u002fI\\u002fMzMzMzMz8z\\u002fXo3A9CtfzP3sUrkfhevQ\\u002fH4XrUbge9T\\u002fD9Shcj8L1P2dmZmZmZvY\\u002fCtejcD0K9z+uR+F6FK73P1K4HoXrUfg\\u002f9ihcj8L1+D+amZmZmZn5Pz4K16NwPfo\\u002f4XoUrkfh+j+F61G4HoX7Pylcj8L1KPw\\u002fzczMzMzM\\u002fD9xPQrXo3D9PxWuR+F6FP4\\u002fuB6F61G4\\u002fj9cj8L1KFz\\u002fPwAAAAAAAABA\"},\"xaxis\":\"x\",\"y\":{\"dtype\":\"f8\",\"bdata\":\"AAAAAAAA8D8AAAAAAADwPwAAAAAAAPA\\u002fAAAAAAAA8D8AAAAAAADwPwAAAAAAAPA\\u002fAAAAAAAA8D8AAAAAAADwPwAAAAAAAPA\\u002fAAAAAAAA8D8AAAAAAADwPwAAAAAAAPA\\u002fAAAAAAAA8D8oqnCsdn30P84c1rLw0fk\\u002f1TGjPkiP\\u002fT\\u002fndyPsDFH\\u002fPwcpLZUn3v8\\u002fpqZlTZT7\\u002fz\\u002f0ujZtoP\\u002f\\u002fP8zkgEb7\\u002f\\u002f8\\u002fcQhd5f\\u002f\\u002f\\u002fz8AAAAAAAAAQAAAAAAAAABAAAAAAAAAAEAidGEVGF\\u002f6P+d+a\\u002fylVPM\\u002f4hvM+Zee8D\\u002fohYUKnBPwP9IfgcSqAfA\\u002fYwfgqxgA8D+DKKntAADwP89zQgUAAPA\\u002ffFENAAAA8D8AAAAAAADwPwAAAAAAAPA\\u002fAAAAAAAA8D8AAAAAAADwPwAAAAAAAPA\\u002fAAAAAAAA8D8AAAAAAADwPwAAAAAAAPA\\u002fAAAAAAAA8D8AAAAAAADwPwAAAAAAAPA\\u002fAAAAAAAA8D8AAAAAAADwPwAAAAAAAPA\\u002fAAAAAAAA8D8AAAAAAADwPwAAAAAAAPA\\u002f\"},\"yaxis\":\"y\",\"type\":\"scatter\"}],\"name\":\"9\"},{\"data\":[{\"hovertemplate\":\"variable=10\\u003cbr\\u003ex=%{x}\\u003cbr\\u003evalue=%{y}\\u003cextra\\u003e\\u003c\\u002fextra\\u003e\",\"legendgroup\":\"\",\"line\":{\"color\":\"#636efa\",\"dash\":\"solid\"},\"marker\":{\"symbol\":\"circle\"},\"mode\":\"lines\",\"name\":\"\",\"orientation\":\"v\",\"showlegend\":false,\"x\":{\"dtype\":\"f8\",\"bdata\":\"AAAAAAAAAAB7FK5H4XqkP3sUrkfherQ\\u002fuB6F61G4vj97FK5H4XrEP5qZmZmZmck\\u002fuB6F61G4zj\\u002fsUbgehevRP3sUrkfhetQ\\u002fCtejcD0K1z+amZmZmZnZPylcj8L1KNw\\u002fuB6F61G43j+kcD0K16PgP+xRuB6F6+E\\u002fMzMzMzMz4z97FK5H4XrkP8P1KFyPwuU\\u002fCtejcD0K5z9SuB6F61HoP5qZmZmZmek\\u002f4XoUrkfh6j8pXI\\u002fC9SjsP3E9CtejcO0\\u002fuB6F61G47j8AAAAAAADwP6RwPQrXo\\u002fA\\u002fSOF6FK5H8T\\u002fsUbgehevxP4\\u002fC9Shcj\\u002fI\\u002fMzMzMzMz8z\\u002fXo3A9CtfzP3sUrkfhevQ\\u002fH4XrUbge9T\\u002fD9Shcj8L1P2dmZmZmZvY\\u002fCtejcD0K9z+uR+F6FK73P1K4HoXrUfg\\u002f9ihcj8L1+D+amZmZmZn5Pz4K16NwPfo\\u002f4XoUrkfh+j+F61G4HoX7Pylcj8L1KPw\\u002fzczMzMzM\\u002fD9xPQrXo3D9PxWuR+F6FP4\\u002fuB6F61G4\\u002fj9cj8L1KFz\\u002fPwAAAAAAAABA\"},\"xaxis\":\"x\",\"y\":{\"dtype\":\"f8\",\"bdata\":\"AAAAAAAA8D8AAAAAAADwPwAAAAAAAPA\\u002fAAAAAAAA8D8AAAAAAADwPwAAAAAAAPA\\u002fAAAAAAAA8D8AAAAAAADwPwAAAAAAAPA\\u002fAAAAAAAA8D8AAAAAAADwPwAAAAAAAPA\\u002fAAAAAAAA8D+gXRMwywL0P1578ityGvk\\u002fgUcYmOT7\\u002fD8hcOGisAf\\u002fPwIZTQO8xv8\\u002fqwjMhq32\\u002fz9xT0K\\u002f8\\u002f7\\u002fPx8aTCLs\\u002f\\u002f8\\u002felg4IP\\u002f\\u002f\\u002fz9ogY\\u002f7\\u002f\\u002f\\u002f\\u002fPwAAAAAAAABAAAAAAAAAAEDpdKQkASX7P3UgtZkeCvQ\\u002fW42Vxava8D+UZQM7Px\\u002fwP2GDOLIpA\\u002fA\\u002fHh8hLjoA8D952C3oAgDwPzpYoBgAAPA\\u002frml8AAAA8D8gHAEAAADwPwAAAAAAAPA\\u002fAAAAAAAA8D8AAAAAAADwPwAAAAAAAPA\\u002fAAAAAAAA8D8AAAAAAADwPwAAAAAAAPA\\u002fAAAAAAAA8D8AAAAAAADwPwAAAAAAAPA\\u002fAAAAAAAA8D8AAAAAAADwPwAAAAAAAPA\\u002fAAAAAAAA8D8AAAAAAADwPwAAAAAAAPA\\u002f\"},\"yaxis\":\"y\",\"type\":\"scatter\"}],\"name\":\"10\"},{\"data\":[{\"hovertemplate\":\"variable=11\\u003cbr\\u003ex=%{x}\\u003cbr\\u003evalue=%{y}\\u003cextra\\u003e\\u003c\\u002fextra\\u003e\",\"legendgroup\":\"\",\"line\":{\"color\":\"#636efa\",\"dash\":\"solid\"},\"marker\":{\"symbol\":\"circle\"},\"mode\":\"lines\",\"name\":\"\",\"orientation\":\"v\",\"showlegend\":false,\"x\":{\"dtype\":\"f8\",\"bdata\":\"AAAAAAAAAAB7FK5H4XqkP3sUrkfherQ\\u002fuB6F61G4vj97FK5H4XrEP5qZmZmZmck\\u002fuB6F61G4zj\\u002fsUbgehevRP3sUrkfhetQ\\u002fCtejcD0K1z+amZmZmZnZPylcj8L1KNw\\u002fuB6F61G43j+kcD0K16PgP+xRuB6F6+E\\u002fMzMzMzMz4z97FK5H4XrkP8P1KFyPwuU\\u002fCtejcD0K5z9SuB6F61HoP5qZmZmZmek\\u002f4XoUrkfh6j8pXI\\u002fC9SjsP3E9CtejcO0\\u002fuB6F61G47j8AAAAAAADwP6RwPQrXo\\u002fA\\u002fSOF6FK5H8T\\u002fsUbgehevxP4\\u002fC9Shcj\\u002fI\\u002fMzMzMzMz8z\\u002fXo3A9CtfzP3sUrkfhevQ\\u002fH4XrUbge9T\\u002fD9Shcj8L1P2dmZmZmZvY\\u002fCtejcD0K9z+uR+F6FK73P1K4HoXrUfg\\u002f9ihcj8L1+D+amZmZmZn5Pz4K16NwPfo\\u002f4XoUrkfh+j+F61G4HoX7Pylcj8L1KPw\\u002fzczMzMzM\\u002fD9xPQrXo3D9PxWuR+F6FP4\\u002fuB6F61G4\\u002fj9cj8L1KFz\\u002fPwAAAAAAAABA\"},\"xaxis\":\"x\",\"y\":{\"dtype\":\"f8\",\"bdata\":\"AAAAAAAA8D8AAAAAAADwPwAAAAAAAPA\\u002fAAAAAAAA8D8AAAAAAADwPwAAAAAAAPA\\u002fAAAAAAAA8D8AAAAAAADwPwAAAAAAAPA\\u002fAAAAAAAA8D8AAAAAAADwPwAAAAAAAPA\\u002fAAAAAAAA8D\\u002fQP\\u002f4Ux5fzP0Ad\\u002f4f\\u002fb\\u002fg\\u002fWoryj+xl\\u002fD8rgSZhCbP+P78wl8Mdp\\u002f8\\u002fWcnLRLLu\\u002fz+1vGjBkv3\\u002fP0rWjrzC\\u002f\\u002f8\\u002fOGTm9fv\\u002f\\u002fz+b+gDX\\u002f\\u002f\\u002f\\u002fP5GVQv\\u002f\\u002f\\u002f\\u002f8\\u002fAAAAAAAAAEAO0QCMvNT7PyvRiBD2x\\u002fQ\\u002fCiItu0Ai8T+h1nkc\\u002fC7wP9eOY0mBBfA\\u002fRCFcz3gA8D\\u002fuSViDBwDwP\\u002fHNllQAAPA\\u002fOmh\\u002fAgAA8D+XYgsAAADwP60XAAAAAPA\\u002fAAAAAAAA8D8AAAAAAADwPwAAAAAAAPA\\u002fAAAAAAAA8D8AAAAAAADwPwAAAAAAAPA\\u002fAAAAAAAA8D8AAAAAAADwPwAAAAAAAPA\\u002fAAAAAAAA8D8AAAAAAADwPwAAAAAAAPA\\u002fAAAAAAAA8D8AAAAAAADwPwAAAAAAAPA\\u002f\"},\"yaxis\":\"y\",\"type\":\"scatter\"}],\"name\":\"11\"},{\"data\":[{\"hovertemplate\":\"variable=12\\u003cbr\\u003ex=%{x}\\u003cbr\\u003evalue=%{y}\\u003cextra\\u003e\\u003c\\u002fextra\\u003e\",\"legendgroup\":\"\",\"line\":{\"color\":\"#636efa\",\"dash\":\"solid\"},\"marker\":{\"symbol\":\"circle\"},\"mode\":\"lines\",\"name\":\"\",\"orientation\":\"v\",\"showlegend\":false,\"x\":{\"dtype\":\"f8\",\"bdata\":\"AAAAAAAAAAB7FK5H4XqkP3sUrkfherQ\\u002fuB6F61G4vj97FK5H4XrEP5qZmZmZmck\\u002fuB6F61G4zj\\u002fsUbgehevRP3sUrkfhetQ\\u002fCtejcD0K1z+amZmZmZnZPylcj8L1KNw\\u002fuB6F61G43j+kcD0K16PgP+xRuB6F6+E\\u002fMzMzMzMz4z97FK5H4XrkP8P1KFyPwuU\\u002fCtejcD0K5z9SuB6F61HoP5qZmZmZmek\\u002f4XoUrkfh6j8pXI\\u002fC9SjsP3E9CtejcO0\\u002fuB6F61G47j8AAAAAAADwP6RwPQrXo\\u002fA\\u002fSOF6FK5H8T\\u002fsUbgehevxP4\\u002fC9Shcj\\u002fI\\u002fMzMzMzMz8z\\u002fXo3A9CtfzP3sUrkfhevQ\\u002fH4XrUbge9T\\u002fD9Shcj8L1P2dmZmZmZvY\\u002fCtejcD0K9z+uR+F6FK73P1K4HoXrUfg\\u002f9ihcj8L1+D+amZmZmZn5Pz4K16NwPfo\\u002f4XoUrkfh+j+F61G4HoX7Pylcj8L1KPw\\u002fzczMzMzM\\u002fD9xPQrXo3D9PxWuR+F6FP4\\u002fuB6F61G4\\u002fj9cj8L1KFz\\u002fPwAAAAAAAABA\"},\"xaxis\":\"x\",\"y\":{\"dtype\":\"f8\",\"bdata\":\"AAAAAAAA8D8AAAAAAADwPwAAAAAAAPA\\u002fAAAAAAAA8D8AAAAAAADwPwAAAAAAAPA\\u002fAAAAAAAA8D8AAAAAAADwPwAAAAAAAPA\\u002fAAAAAAAA8D8AAAAAAADwPwAAAAAAAPA\\u002fAAAAAAAA8D9lVqT06jnzP7wUYwYl0vc\\u002flqzYFPXP+z+mkyaK11T+P0dRdrHgfv8\\u002ffiS5osri\\u002fz9nKxwyGPv\\u002fP4Qqu2hl\\u002f\\u002f8\\u002fxQBZbPL\\u002f\\u002fz8JjXwx\\u002f\\u002f\\u002f\\u002fP737jPj\\u002f\\u002f\\u002f8\\u002fQ27g\\u002f\\u002f\\u002f\\u002f\\u002fz+6ZDKQcG\\u002f8P6kDFwRNi\\u002fU\\u002fVLpNXJN18T\\u002fg8TxcfUPwP2+fxmD3CPA\\u002fjXsHMuQA8D\\u002fRCl30EADwP3Cb0e0AAPA\\u002ftbBWCQAA8D9luD8AAADwP5YIAQAAAPA\\u002f+QEAAAAA8D8AAAAAAADwPwAAAAAAAPA\\u002fAAAAAAAA8D8AAAAAAADwPwAAAAAAAPA\\u002fAAAAAAAA8D8AAAAAAADwPwAAAAAAAPA\\u002fAAAAAAAA8D8AAAAAAADwPwAAAAAAAPA\\u002fAAAAAAAA8D8AAAAAAADwPwAAAAAAAPA\\u002f\"},\"yaxis\":\"y\",\"type\":\"scatter\"}],\"name\":\"12\"},{\"data\":[{\"hovertemplate\":\"variable=13\\u003cbr\\u003ex=%{x}\\u003cbr\\u003evalue=%{y}\\u003cextra\\u003e\\u003c\\u002fextra\\u003e\",\"legendgroup\":\"\",\"line\":{\"color\":\"#636efa\",\"dash\":\"solid\"},\"marker\":{\"symbol\":\"circle\"},\"mode\":\"lines\",\"name\":\"\",\"orientation\":\"v\",\"showlegend\":false,\"x\":{\"dtype\":\"f8\",\"bdata\":\"AAAAAAAAAAB7FK5H4XqkP3sUrkfherQ\\u002fuB6F61G4vj97FK5H4XrEP5qZmZmZmck\\u002fuB6F61G4zj\\u002fsUbgehevRP3sUrkfhetQ\\u002fCtejcD0K1z+amZmZmZnZPylcj8L1KNw\\u002fuB6F61G43j+kcD0K16PgP+xRuB6F6+E\\u002fMzMzMzMz4z97FK5H4XrkP8P1KFyPwuU\\u002fCtejcD0K5z9SuB6F61HoP5qZmZmZmek\\u002f4XoUrkfh6j8pXI\\u002fC9SjsP3E9CtejcO0\\u002fuB6F61G47j8AAAAAAADwP6RwPQrXo\\u002fA\\u002fSOF6FK5H8T\\u002fsUbgehevxP4\\u002fC9Shcj\\u002fI\\u002fMzMzMzMz8z\\u002fXo3A9CtfzP3sUrkfhevQ\\u002fH4XrUbge9T\\u002fD9Shcj8L1P2dmZmZmZvY\\u002fCtejcD0K9z+uR+F6FK73P1K4HoXrUfg\\u002f9ihcj8L1+D+amZmZmZn5Pz4K16NwPfo\\u002f4XoUrkfh+j+F61G4HoX7Pylcj8L1KPw\\u002fzczMzMzM\\u002fD9xPQrXo3D9PxWuR+F6FP4\\u002fuB6F61G4\\u002fj9cj8L1KFz\\u002fPwAAAAAAAABA\"},\"xaxis\":\"x\",\"y\":{\"dtype\":\"f8\",\"bdata\":\"AAAAAAAA8D8AAAAAAADwPwAAAAAAAPA\\u002fAAAAAAAA8D8AAAAAAADwPwAAAAAAAPA\\u002fAAAAAAAA8D8AAAAAAADwPwAAAAAAAPA\\u002fAAAAAAAA8D8AAAAAAADwPwAAAAAAAPA\\u002fAAAAAAAA8D9jZfuPNufyPxaBQq82QPc\\u002fNHMxFvE7+z\\u002fFJcww9+79Pwl\\u002f\\u002fe78Tf8\\u002fgeVI2DLS\\u002fz8kB9bjC\\u002ff\\u002fPxNSF+Ot\\u002fv8\\u002fFavI69r\\u002f\\u002fz+6WKEQ\\u002ff\\u002f\\u002fP\\u002fyTX9f\\u002f\\u002f\\u002f8\\u002fLdun\\u002fv\\u002f\\u002f\\u002fz9OCBQll\\u002fb8PyjxydRAUfY\\u002fPwDk1qrU8T\\u002fYZhrJal3wP0PSDJzaDfA\\u002fsqCFf5AB8D\\u002fekOiOIgDwPzyjskMCAPA\\u002f+u5gHAAA8D9sogEBAADwP+dBBgAAAPA\\u002f2xcAAAAA8D8qAAAAAADwPwAAAAAAAPA\\u002fAAAAAAAA8D8AAAAAAADwPwAAAAAAAPA\\u002fAAAAAAAA8D8AAAAAAADwPwAAAAAAAPA\\u002fAAAAAAAA8D8AAAAAAADwPwAAAAAAAPA\\u002fAAAAAAAA8D8AAAAAAADwPwAAAAAAAPA\\u002f\"},\"yaxis\":\"y\",\"type\":\"scatter\"}],\"name\":\"13\"},{\"data\":[{\"hovertemplate\":\"variable=14\\u003cbr\\u003ex=%{x}\\u003cbr\\u003evalue=%{y}\\u003cextra\\u003e\\u003c\\u002fextra\\u003e\",\"legendgroup\":\"\",\"line\":{\"color\":\"#636efa\",\"dash\":\"solid\"},\"marker\":{\"symbol\":\"circle\"},\"mode\":\"lines\",\"name\":\"\",\"orientation\":\"v\",\"showlegend\":false,\"x\":{\"dtype\":\"f8\",\"bdata\":\"AAAAAAAAAAB7FK5H4XqkP3sUrkfherQ\\u002fuB6F61G4vj97FK5H4XrEP5qZmZmZmck\\u002fuB6F61G4zj\\u002fsUbgehevRP3sUrkfhetQ\\u002fCtejcD0K1z+amZmZmZnZPylcj8L1KNw\\u002fuB6F61G43j+kcD0K16PgP+xRuB6F6+E\\u002fMzMzMzMz4z97FK5H4XrkP8P1KFyPwuU\\u002fCtejcD0K5z9SuB6F61HoP5qZmZmZmek\\u002f4XoUrkfh6j8pXI\\u002fC9SjsP3E9CtejcO0\\u002fuB6F61G47j8AAAAAAADwP6RwPQrXo\\u002fA\\u002fSOF6FK5H8T\\u002fsUbgehevxP4\\u002fC9Shcj\\u002fI\\u002fMzMzMzMz8z\\u002fXo3A9CtfzP3sUrkfhevQ\\u002fH4XrUbge9T\\u002fD9Shcj8L1P2dmZmZmZvY\\u002fCtejcD0K9z+uR+F6FK73P1K4HoXrUfg\\u002f9ihcj8L1+D+amZmZmZn5Pz4K16NwPfo\\u002f4XoUrkfh+j+F61G4HoX7Pylcj8L1KPw\\u002fzczMzMzM\\u002fD9xPQrXo3D9PxWuR+F6FP4\\u002fuB6F61G4\\u002fj9cj8L1KFz\\u002fPwAAAAAAAABA\"},\"xaxis\":\"x\",\"y\":{\"dtype\":\"f8\",\"bdata\":\"AAAAAAAA8D8AAAAAAADwPwAAAAAAAPA\\u002fAAAAAAAA8D8AAAAAAADwPwAAAAAAAPA\\u002fAAAAAAAA8D8AAAAAAADwPwAAAAAAAPA\\u002fAAAAAAAA8D8AAAAAAADwPwAAAAAAAPA\\u002fAAAAAAAA8D\\u002fT6aFxCp7yP07meG5uufY\\u002f3l+shEyr+j+LqI2LO4P9P01z42zBFP8\\u002fOUD5ZUm8\\u002fz8j4yJv6fD\\u002fP9Fv\\u002fUVo\\u002ff8\\u002f9D7lv6j\\u002f\\u002fz+9FtNf9\\u002f\\u002f\\u002fP7KK6mD\\u002f\\u002f\\u002f8\\u002fUM8b+P\\u002f\\u002f\\u002fz+O88zh3Gv9Pzz1i7cCF\\u002fc\\u002fEl78rFU\\u002f8j+M81CzZn3wP9ez0rKBFPA\\u002fgHQzxpYC8D\\u002fWL+INQQDwP+AtovQEAPA\\u002f\\u002fGhSSgAA8D94k0kDAADwP500GwAAAPA\\u002fXJsAAAAA8D8jAgAAAADwPwQAAAAAAPA\\u002fAAAAAAAA8D8AAAAAAADwPwAAAAAAAPA\\u002fAAAAAAAA8D8AAAAAAADwPwAAAAAAAPA\\u002fAAAAAAAA8D8AAAAAAADwPwAAAAAAAPA\\u002fAAAAAAAA8D8AAAAAAADwPwAAAAAAAPA\\u002f\"},\"yaxis\":\"y\",\"type\":\"scatter\"}],\"name\":\"14\"},{\"data\":[{\"hovertemplate\":\"variable=15\\u003cbr\\u003ex=%{x}\\u003cbr\\u003evalue=%{y}\\u003cextra\\u003e\\u003c\\u002fextra\\u003e\",\"legendgroup\":\"\",\"line\":{\"color\":\"#636efa\",\"dash\":\"solid\"},\"marker\":{\"symbol\":\"circle\"},\"mode\":\"lines\",\"name\":\"\",\"orientation\":\"v\",\"showlegend\":false,\"x\":{\"dtype\":\"f8\",\"bdata\":\"AAAAAAAAAAB7FK5H4XqkP3sUrkfherQ\\u002fuB6F61G4vj97FK5H4XrEP5qZmZmZmck\\u002fuB6F61G4zj\\u002fsUbgehevRP3sUrkfhetQ\\u002fCtejcD0K1z+amZmZmZnZPylcj8L1KNw\\u002fuB6F61G43j+kcD0K16PgP+xRuB6F6+E\\u002fMzMzMzMz4z97FK5H4XrkP8P1KFyPwuU\\u002fCtejcD0K5z9SuB6F61HoP5qZmZmZmek\\u002f4XoUrkfh6j8pXI\\u002fC9SjsP3E9CtejcO0\\u002fuB6F61G47j8AAAAAAADwP6RwPQrXo\\u002fA\\u002fSOF6FK5H8T\\u002fsUbgehevxP4\\u002fC9Shcj\\u002fI\\u002fMzMzMzMz8z\\u002fXo3A9CtfzP3sUrkfhevQ\\u002fH4XrUbge9T\\u002fD9Shcj8L1P2dmZmZmZvY\\u002fCtejcD0K9z+uR+F6FK73P1K4HoXrUfg\\u002f9ihcj8L1+D+amZmZmZn5Pz4K16NwPfo\\u002f4XoUrkfh+j+F61G4HoX7Pylcj8L1KPw\\u002fzczMzMzM\\u002fD9xPQrXo3D9PxWuR+F6FP4\\u002fuB6F61G4\\u002fj9cj8L1KFz\\u002fPwAAAAAAAABA\"},\"xaxis\":\"x\",\"y\":{\"dtype\":\"f8\",\"bdata\":\"AAAAAAAA8D8AAAAAAADwPwAAAAAAAPA\\u002fAAAAAAAA8D8AAAAAAADwPwAAAAAAAPA\\u002fAAAAAAAA8D8AAAAAAADwPwAAAAAAAPA\\u002fAAAAAAAA8D8AAAAAAADwPwAAAAAAAPA\\u002fAAAAAAAA8D+NdUXvEV3yP2C\\u002fbzj+PPY\\u002fxzq9ygYf+j9LugE7VxP9P9EqubzB0\\u002f4\\u002fE36SfJig\\u002fz\\u002frtPY6KOj\\u002fP1RxYE1T+\\u002f8\\u002feumZrEj\\u002f\\u002fz8I+y5F6v\\u002f\\u002fP6uoZgv+\\u002f\\u002f8\\u002fke7o3v\\u002f\\u002f\\u002fz+1Ln8JBdH9Pww8Axvv2fc\\u002fKs\\u002fu0ya18j998rQlC6TwP7fU6KZKHfA\\u002fXuNvQhUE8D+D0AjecgDwP85lvvYJAPA\\u002fiBDZrQAA8D+a+jQJAADwP9oRXwAAAPA\\u002fzNICAAAA8D\\u002foDgAAAADwPzEAAAAAAPA\\u002fAAAAAAAA8D8AAAAAAADwPwAAAAAAAPA\\u002fAAAAAAAA8D8AAAAAAADwPwAAAAAAAPA\\u002fAAAAAAAA8D8AAAAAAADwPwAAAAAAAPA\\u002fAAAAAAAA8D8AAAAAAADwPwAAAAAAAPA\\u002f\"},\"yaxis\":\"y\",\"type\":\"scatter\"}],\"name\":\"15\"},{\"data\":[{\"hovertemplate\":\"variable=16\\u003cbr\\u003ex=%{x}\\u003cbr\\u003evalue=%{y}\\u003cextra\\u003e\\u003c\\u002fextra\\u003e\",\"legendgroup\":\"\",\"line\":{\"color\":\"#636efa\",\"dash\":\"solid\"},\"marker\":{\"symbol\":\"circle\"},\"mode\":\"lines\",\"name\":\"\",\"orientation\":\"v\",\"showlegend\":false,\"x\":{\"dtype\":\"f8\",\"bdata\":\"AAAAAAAAAAB7FK5H4XqkP3sUrkfherQ\\u002fuB6F61G4vj97FK5H4XrEP5qZmZmZmck\\u002fuB6F61G4zj\\u002fsUbgehevRP3sUrkfhetQ\\u002fCtejcD0K1z+amZmZmZnZPylcj8L1KNw\\u002fuB6F61G43j+kcD0K16PgP+xRuB6F6+E\\u002fMzMzMzMz4z97FK5H4XrkP8P1KFyPwuU\\u002fCtejcD0K5z9SuB6F61HoP5qZmZmZmek\\u002f4XoUrkfh6j8pXI\\u002fC9SjsP3E9CtejcO0\\u002fuB6F61G47j8AAAAAAADwP6RwPQrXo\\u002fA\\u002fSOF6FK5H8T\\u002fsUbgehevxP4\\u002fC9Shcj\\u002fI\\u002fMzMzMzMz8z\\u002fXo3A9CtfzP3sUrkfhevQ\\u002fH4XrUbge9T\\u002fD9Shcj8L1P2dmZmZmZvY\\u002fCtejcD0K9z+uR+F6FK73P1K4HoXrUfg\\u002f9ihcj8L1+D+amZmZmZn5Pz4K16NwPfo\\u002f4XoUrkfh+j+F61G4HoX7Pylcj8L1KPw\\u002fzczMzMzM\\u002fD9xPQrXo3D9PxWuR+F6FP4\\u002fuB6F61G4\\u002fj9cj8L1KFz\\u002fPwAAAAAAAABA\"},\"xaxis\":\"x\",\"y\":{\"dtype\":\"f8\",\"bdata\":\"AAAAAAAA8D8AAAAAAADwPwAAAAAAAPA\\u002fAAAAAAAA8D8AAAAAAADwPwAAAAAAAPA\\u002fAAAAAAAA8D8AAAAAAADwPwAAAAAAAPA\\u002fAAAAAAAA8D8AAAAAAADwPwAAAAAAAPA\\u002fAAAAAAAA8D97FqLzMiPyP63i17QayvU\\u002fnOELVcqX+T+HuCTlzqD8P4EgmonCi\\u002f4\\u002fq0ifetp+\\u002fz9E4YnTQ9z\\u002fP9FJcuwh+P8\\u002fuUEty5\\u002f+\\u002fz8Hwn1Wz\\u002f\\u002f\\u002fP\\u002fTpsr\\u002f6\\u002f\\u002f8\\u002fO+P9kP\\u002f\\u002f\\u002fz9j+hp00yf+P+BuHBajl\\u002fg\\u002f8IVb\\u002fHM18z9EwJba5tHwP7yo8eqZKPA\\u002fs\\u002fQLlC8G8D9MXJNowADwP7C1tLQSAPA\\u002fYTXscwEA8D\\u002fLUe0WAADwP+qPGwEAAPA\\u002fuIIKAAAA8D\\u002fmSQAAAADwP2sBAAAAAPA\\u002fBAAAAAAA8D8AAAAAAADwPwAAAAAAAPA\\u002fAAAAAAAA8D8AAAAAAADwPwAAAAAAAPA\\u002fAAAAAAAA8D8AAAAAAADwPwAAAAAAAPA\\u002fAAAAAAAA8D8AAAAAAADwPwAAAAAAAPA\\u002f\"},\"yaxis\":\"y\",\"type\":\"scatter\"}],\"name\":\"16\"},{\"data\":[{\"hovertemplate\":\"variable=17\\u003cbr\\u003ex=%{x}\\u003cbr\\u003evalue=%{y}\\u003cextra\\u003e\\u003c\\u002fextra\\u003e\",\"legendgroup\":\"\",\"line\":{\"color\":\"#636efa\",\"dash\":\"solid\"},\"marker\":{\"symbol\":\"circle\"},\"mode\":\"lines\",\"name\":\"\",\"orientation\":\"v\",\"showlegend\":false,\"x\":{\"dtype\":\"f8\",\"bdata\":\"AAAAAAAAAAB7FK5H4XqkP3sUrkfherQ\\u002fuB6F61G4vj97FK5H4XrEP5qZmZmZmck\\u002fuB6F61G4zj\\u002fsUbgehevRP3sUrkfhetQ\\u002fCtejcD0K1z+amZmZmZnZPylcj8L1KNw\\u002fuB6F61G43j+kcD0K16PgP+xRuB6F6+E\\u002fMzMzMzMz4z97FK5H4XrkP8P1KFyPwuU\\u002fCtejcD0K5z9SuB6F61HoP5qZmZmZmek\\u002f4XoUrkfh6j8pXI\\u002fC9SjsP3E9CtejcO0\\u002fuB6F61G47j8AAAAAAADwP6RwPQrXo\\u002fA\\u002fSOF6FK5H8T\\u002fsUbgehevxP4\\u002fC9Shcj\\u002fI\\u002fMzMzMzMz8z\\u002fXo3A9CtfzP3sUrkfhevQ\\u002fH4XrUbge9T\\u002fD9Shcj8L1P2dmZmZmZvY\\u002fCtejcD0K9z+uR+F6FK73P1K4HoXrUfg\\u002f9ihcj8L1+D+amZmZmZn5Pz4K16NwPfo\\u002f4XoUrkfh+j+F61G4HoX7Pylcj8L1KPw\\u002fzczMzMzM\\u002fD9xPQrXo3D9PxWuR+F6FP4\\u002fuB6F61G4\\u002fj9cj8L1KFz\\u002fPwAAAAAAAABA\"},\"xaxis\":\"x\",\"y\":{\"dtype\":\"f8\",\"bdata\":\"AAAAAAAA8D8AAAAAAADwPwAAAAAAAPA\\u002fAAAAAAAA8D8AAAAAAADwPwAAAAAAAPA\\u002fAAAAAAAA8D8AAAAAAADwPwAAAAAAAPA\\u002fAAAAAAAA8D8AAAAAAADwPwAAAAAAAPA\\u002fAAAAAAAA8D\\u002fyMKDbge\\u002fxP8TDgkABYPU\\u002f+Qz7WwAW+T9\\u002fHrJx8yz8P8yvvhinPf4\\u002fQti1APpW\\u002fz9FG3mnw8z\\u002fP4sZoAx+8\\u002f8\\u002fS0+h3Ir9\\u002fz91m5K\\u002fnP\\u002f\\u002fPz6TgIPz\\u002f\\u002f8\\u002fI2dxw\\u002f7\\u002f\\u002fz9FpJdJ\\u002fHH+P8CUSOwNTvk\\u002fcQggq1W\\u002f8z\\u002fMi1baeQfxP5TRqXbZNvA\\u002fmWHO4Q4J8D8wik9cNAHwP0GFbS4hAPA\\u002fKQz94wIA8D+XjwI0AADwP70K7QIAAPA\\u002f0kMhAAAA8D\\u002f4IwEAAADwP3UHAAAAAPA\\u002fIgAAAAAA8D8AAAAAAADwPwAAAAAAAPA\\u002fAAAAAAAA8D8AAAAAAADwPwAAAAAAAPA\\u002fAAAAAAAA8D8AAAAAAADwPwAAAAAAAPA\\u002fAAAAAAAA8D8AAAAAAADwPwAAAAAAAPA\\u002f\"},\"yaxis\":\"y\",\"type\":\"scatter\"}],\"name\":\"17\"},{\"data\":[{\"hovertemplate\":\"variable=18\\u003cbr\\u003ex=%{x}\\u003cbr\\u003evalue=%{y}\\u003cextra\\u003e\\u003c\\u002fextra\\u003e\",\"legendgroup\":\"\",\"line\":{\"color\":\"#636efa\",\"dash\":\"solid\"},\"marker\":{\"symbol\":\"circle\"},\"mode\":\"lines\",\"name\":\"\",\"orientation\":\"v\",\"showlegend\":false,\"x\":{\"dtype\":\"f8\",\"bdata\":\"AAAAAAAAAAB7FK5H4XqkP3sUrkfherQ\\u002fuB6F61G4vj97FK5H4XrEP5qZmZmZmck\\u002fuB6F61G4zj\\u002fsUbgehevRP3sUrkfhetQ\\u002fCtejcD0K1z+amZmZmZnZPylcj8L1KNw\\u002fuB6F61G43j+kcD0K16PgP+xRuB6F6+E\\u002fMzMzMzMz4z97FK5H4XrkP8P1KFyPwuU\\u002fCtejcD0K5z9SuB6F61HoP5qZmZmZmek\\u002f4XoUrkfh6j8pXI\\u002fC9SjsP3E9CtejcO0\\u002fuB6F61G47j8AAAAAAADwP6RwPQrXo\\u002fA\\u002fSOF6FK5H8T\\u002fsUbgehevxP4\\u002fC9Shcj\\u002fI\\u002fMzMzMzMz8z\\u002fXo3A9CtfzP3sUrkfhevQ\\u002fH4XrUbge9T\\u002fD9Shcj8L1P2dmZmZmZvY\\u002fCtejcD0K9z+uR+F6FK73P1K4HoXrUfg\\u002f9ihcj8L1+D+amZmZmZn5Pz4K16NwPfo\\u002f4XoUrkfh+j+F61G4HoX7Pylcj8L1KPw\\u002fzczMzMzM\\u002fD9xPQrXo3D9PxWuR+F6FP4\\u002fuB6F61G4\\u002fj9cj8L1KFz\\u002fPwAAAAAAAABA\"},\"xaxis\":\"x\",\"y\":{\"dtype\":\"f8\",\"bdata\":\"AAAAAAAA8D8AAAAAAADwPwAAAAAAAPA\\u002fAAAAAAAA8D8AAAAAAADwPwAAAAAAAPA\\u002fAAAAAAAA8D8AAAAAAADwPwAAAAAAAPA\\u002fAAAAAAAA8D8AAAAAAADwPwAAAAAAAPA\\u002fAAAAAAAA8D9ykWY\\u002fOMHxP8GzCQz7\\u002ffQ\\u002fk3a68uCZ+D8Ba\\u002fJ74bj7P5iVcEFh6v0\\u002fNGF6gg4p\\u002fz+XhEN6Qbn\\u002fP9CUSywM7f8\\u002fZEQ6MN77\\u002fz+X+SZwRP\\u002f\\u002fPx45iQ3l\\u002f\\u002f8\\u002fCQF04\\u002fz\\u002f\\u002fz8Z2mf2GLH+P\\u002f1cXEN9+\\u002fk\\u002fpCMBsalR9D8CLXe+MUXxP211CsN3SPA\\u002fBvCW7OEM8D9Abgz02wHwPxiUGh04APA\\u002f\\u002f4oxagUA8D8IcFdtAADwPyUrBAcAAPA\\u002fu+lcAAAA8D9K0QMAAADwPysfAAAAAPA\\u002fvgAAAAAA8D8DAAAAAADwPwAAAAAAAPA\\u002fAAAAAAAA8D8AAAAAAADwPwAAAAAAAPA\\u002fAAAAAAAA8D8AAAAAAADwPwAAAAAAAPA\\u002fAAAAAAAA8D8AAAAAAADwPwAAAAAAAPA\\u002f\"},\"yaxis\":\"y\",\"type\":\"scatter\"}],\"name\":\"18\"},{\"data\":[{\"hovertemplate\":\"variable=19\\u003cbr\\u003ex=%{x}\\u003cbr\\u003evalue=%{y}\\u003cextra\\u003e\\u003c\\u002fextra\\u003e\",\"legendgroup\":\"\",\"line\":{\"color\":\"#636efa\",\"dash\":\"solid\"},\"marker\":{\"symbol\":\"circle\"},\"mode\":\"lines\",\"name\":\"\",\"orientation\":\"v\",\"showlegend\":false,\"x\":{\"dtype\":\"f8\",\"bdata\":\"AAAAAAAAAAB7FK5H4XqkP3sUrkfherQ\\u002fuB6F61G4vj97FK5H4XrEP5qZmZmZmck\\u002fuB6F61G4zj\\u002fsUbgehevRP3sUrkfhetQ\\u002fCtejcD0K1z+amZmZmZnZPylcj8L1KNw\\u002fuB6F61G43j+kcD0K16PgP+xRuB6F6+E\\u002fMzMzMzMz4z97FK5H4XrkP8P1KFyPwuU\\u002fCtejcD0K5z9SuB6F61HoP5qZmZmZmek\\u002f4XoUrkfh6j8pXI\\u002fC9SjsP3E9CtejcO0\\u002fuB6F61G47j8AAAAAAADwP6RwPQrXo\\u002fA\\u002fSOF6FK5H8T\\u002fsUbgehevxP4\\u002fC9Shcj\\u002fI\\u002fMzMzMzMz8z\\u002fXo3A9CtfzP3sUrkfhevQ\\u002fH4XrUbge9T\\u002fD9Shcj8L1P2dmZmZmZvY\\u002fCtejcD0K9z+uR+F6FK73P1K4HoXrUfg\\u002f9ihcj8L1+D+amZmZmZn5Pz4K16NwPfo\\u002f4XoUrkfh+j+F61G4HoX7Pylcj8L1KPw\\u002fzczMzMzM\\u002fD9xPQrXo3D9PxWuR+F6FP4\\u002fuB6F61G4\\u002fj9cj8L1KFz\\u002fPwAAAAAAAABA\"},\"xaxis\":\"x\",\"y\":{\"dtype\":\"f8\",\"bdata\":\"AAAAAAAA8D8AAAAAAADwPwAAAAAAAPA\\u002fAAAAAAAA8D8AAAAAAADwPwAAAAAAAPA\\u002fAAAAAAAA8D8AAAAAAADwPwAAAAAAAPA\\u002fAAAAAAAA8D8AAAAAAADwPwAAAAAAAPA\\u002fAAAAAAAA8D\\u002ffrU\\u002fcrZfxP6RvEHVeo\\u002fQ\\u002f3vs+wH8j+D8MSXUIhEX7P8jnzITkkv0\\u002fuws7ZFb1\\u002fj\\u002fC4E0dbqH\\u002fP\\u002fE8u4Bv5P8\\u002fIQnkK2b5\\u002fz9QqNFos\\u002f7\\u002fP6wOukjK\\u002f\\u002f8\\u002fRe136vj\\u002f\\u002fz8wjhp5oeb+PypDcFujnvo\\u002fkjSLYRjr9D8iEJaiZYvxP6UiC6bmXfA\\u002fBaZFE90R8D8\\u002fbGs5xwLwP0ZvKRpbAPA\\u002fdGTGowkA8D8e9b7XAADwP5Ebiw8AAPA\\u002f2dnqAAAA8D\\u002f+PQsAAADwPwNuAAAAAPA\\u002fRwMAAAAA8D8TAAAAAADwPwAAAAAAAPA\\u002fAAAAAAAA8D8AAAAAAADwPwAAAAAAAPA\\u002fAAAAAAAA8D8AAAAAAADwPwAAAAAAAPA\\u002fAAAAAAAA8D8AAAAAAADwPwAAAAAAAPA\\u002f\"},\"yaxis\":\"y\",\"type\":\"scatter\"}],\"name\":\"19\"},{\"data\":[{\"hovertemplate\":\"variable=20\\u003cbr\\u003ex=%{x}\\u003cbr\\u003evalue=%{y}\\u003cextra\\u003e\\u003c\\u002fextra\\u003e\",\"legendgroup\":\"\",\"line\":{\"color\":\"#636efa\",\"dash\":\"solid\"},\"marker\":{\"symbol\":\"circle\"},\"mode\":\"lines\",\"name\":\"\",\"orientation\":\"v\",\"showlegend\":false,\"x\":{\"dtype\":\"f8\",\"bdata\":\"AAAAAAAAAAB7FK5H4XqkP3sUrkfherQ\\u002fuB6F61G4vj97FK5H4XrEP5qZmZmZmck\\u002fuB6F61G4zj\\u002fsUbgehevRP3sUrkfhetQ\\u002fCtejcD0K1z+amZmZmZnZPylcj8L1KNw\\u002fuB6F61G43j+kcD0K16PgP+xRuB6F6+E\\u002fMzMzMzMz4z97FK5H4XrkP8P1KFyPwuU\\u002fCtejcD0K5z9SuB6F61HoP5qZmZmZmek\\u002f4XoUrkfh6j8pXI\\u002fC9SjsP3E9CtejcO0\\u002fuB6F61G47j8AAAAAAADwP6RwPQrXo\\u002fA\\u002fSOF6FK5H8T\\u002fsUbgehevxP4\\u002fC9Shcj\\u002fI\\u002fMzMzMzMz8z\\u002fXo3A9CtfzP3sUrkfhevQ\\u002fH4XrUbge9T\\u002fD9Shcj8L1P2dmZmZmZvY\\u002fCtejcD0K9z+uR+F6FK73P1K4HoXrUfg\\u002f9ihcj8L1+D+amZmZmZn5Pz4K16NwPfo\\u002f4XoUrkfh+j+F61G4HoX7Pylcj8L1KPw\\u002fzczMzMzM\\u002fD9xPQrXo3D9PxWuR+F6FP4\\u002fuB6F61G4\\u002fj9cj8L1KFz\\u002fPwAAAAAAAABA\"},\"xaxis\":\"x\",\"y\":{\"dtype\":\"f8\",\"bdata\":\"AAAAAAAA8D8AAAAAAADwPwAAAAAAAPA\\u002fAAAAAAAA8D8AAAAAAADwPwAAAAAAAPA\\u002fAAAAAAAA8D8AAAAAAADwPwAAAAAAAPA\\u002fAAAAAAAA8D8AAAAAAADwPwAAAAAAAPA\\u002fAAAAAAAA8D\\u002fn6JIRU3LxP1bVUE6PT\\u002fQ\\u002f3Sgw59Wy9z9EbD0NmdP6P4fj1l0cOP0\\u002f2VuHsC+8\\u002fj99dCpCFIX\\u002fP8YdczlO2f8\\u002fhPmIcuj1\\u002fz\\u002fUcy490f3\\u002fP0lYYc6b\\u002f\\u002f8\\u002foQDaJPH\\u002f\\u002fz+kZIIV6RP\\u002fPz9tZVKXNvs\\u002fG84DqxyK9T97bMPcUdrxP93kHQSad\\u002fA\\u002fBxbnRzoY8D+5XnRDCQTwPwAtlciOAPA\\u002fuRGobRAA8D9ISGqTAQDwP20YOiAAAPA\\u002fU98iAgAA8D9Q4B0AAADwP61UAQAAAPA\\u002fLAwAAAAA8D9XAAAAAADwPwIAAAAAAPA\\u002fAAAAAAAA8D8AAAAAAADwPwAAAAAAAPA\\u002fAAAAAAAA8D8AAAAAAADwPwAAAAAAAPA\\u002fAAAAAAAA8D8AAAAAAADwPwAAAAAAAPA\\u002f\"},\"yaxis\":\"y\",\"type\":\"scatter\"}],\"name\":\"20\"},{\"data\":[{\"hovertemplate\":\"variable=21\\u003cbr\\u003ex=%{x}\\u003cbr\\u003evalue=%{y}\\u003cextra\\u003e\\u003c\\u002fextra\\u003e\",\"legendgroup\":\"\",\"line\":{\"color\":\"#636efa\",\"dash\":\"solid\"},\"marker\":{\"symbol\":\"circle\"},\"mode\":\"lines\",\"name\":\"\",\"orientation\":\"v\",\"showlegend\":false,\"x\":{\"dtype\":\"f8\",\"bdata\":\"AAAAAAAAAAB7FK5H4XqkP3sUrkfherQ\\u002fuB6F61G4vj97FK5H4XrEP5qZmZmZmck\\u002fuB6F61G4zj\\u002fsUbgehevRP3sUrkfhetQ\\u002fCtejcD0K1z+amZmZmZnZPylcj8L1KNw\\u002fuB6F61G43j+kcD0K16PgP+xRuB6F6+E\\u002fMzMzMzMz4z97FK5H4XrkP8P1KFyPwuU\\u002fCtejcD0K5z9SuB6F61HoP5qZmZmZmek\\u002f4XoUrkfh6j8pXI\\u002fC9SjsP3E9CtejcO0\\u002fuB6F61G47j8AAAAAAADwP6RwPQrXo\\u002fA\\u002fSOF6FK5H8T\\u002fsUbgehevxP4\\u002fC9Shcj\\u002fI\\u002fMzMzMzMz8z\\u002fXo3A9CtfzP3sUrkfhevQ\\u002fH4XrUbge9T\\u002fD9Shcj8L1P2dmZmZmZvY\\u002fCtejcD0K9z+uR+F6FK73P1K4HoXrUfg\\u002f9ihcj8L1+D+amZmZmZn5Pz4K16NwPfo\\u002f4XoUrkfh+j+F61G4HoX7Pylcj8L1KPw\\u002fzczMzMzM\\u002fD9xPQrXo3D9PxWuR+F6FP4\\u002fuB6F61G4\\u002fj9cj8L1KFz\\u002fPwAAAAAAAABA\"},\"xaxis\":\"x\",\"y\":{\"dtype\":\"f8\",\"bdata\":\"AAAAAAAA8D8AAAAAAADwPwAAAAAAAPA\\u002fAAAAAAAA8D8AAAAAAADwPwAAAAAAAPA\\u002fAAAAAAAA8D8AAAAAAADwPwAAAAAAAPA\\u002fAAAAAAAA8D8AAAAAAADwPwAAAAAAAPA\\u002fAAAAAAAA8D9pqXmKrFDxP31x7Yf+AfQ\\u002fFL2LoslH9z+Fv03LtmP6P9yviYfl2vw\\u002ftUihTRB+\\u002fj+0MspxGWT\\u002fP3zRsYlVy\\u002f8\\u002fhtqPlCXx\\u002fz\\u002fmchfdf\\u002fz\\u002fP60pyGFP\\u002f\\u002f8\\u002f837M6+L\\u002f\\u002fz+gR1KHHTr\\u002fP4LoixzQwvs\\u002fx2Za5g4t9j+TC7KnEzLyP5YHqUwGlvA\\u002f1HvW9Tgg8D9Gv3xwuAXwP6NTEwDZAPA\\u002fvaNG9RoA8D\\u002fx4kTQAgDwP1PHKD8AAPA\\u002fwM6kBAAA8D+Q9UgAAADwP6W1AwAAAPA\\u002fjCcAAAAA8D9TAQAAAADwPwkAAAAAAPA\\u002fAAAAAAAA8D8AAAAAAADwPwAAAAAAAPA\\u002fAAAAAAAA8D8AAAAAAADwPwAAAAAAAPA\\u002fAAAAAAAA8D8AAAAAAADwPwAAAAAAAPA\\u002f\"},\"yaxis\":\"y\",\"type\":\"scatter\"}],\"name\":\"21\"},{\"data\":[{\"hovertemplate\":\"variable=22\\u003cbr\\u003ex=%{x}\\u003cbr\\u003evalue=%{y}\\u003cextra\\u003e\\u003c\\u002fextra\\u003e\",\"legendgroup\":\"\",\"line\":{\"color\":\"#636efa\",\"dash\":\"solid\"},\"marker\":{\"symbol\":\"circle\"},\"mode\":\"lines\",\"name\":\"\",\"orientation\":\"v\",\"showlegend\":false,\"x\":{\"dtype\":\"f8\",\"bdata\":\"AAAAAAAAAAB7FK5H4XqkP3sUrkfherQ\\u002fuB6F61G4vj97FK5H4XrEP5qZmZmZmck\\u002fuB6F61G4zj\\u002fsUbgehevRP3sUrkfhetQ\\u002fCtejcD0K1z+amZmZmZnZPylcj8L1KNw\\u002fuB6F61G43j+kcD0K16PgP+xRuB6F6+E\\u002fMzMzMzMz4z97FK5H4XrkP8P1KFyPwuU\\u002fCtejcD0K5z9SuB6F61HoP5qZmZmZmek\\u002f4XoUrkfh6j8pXI\\u002fC9SjsP3E9CtejcO0\\u002fuB6F61G47j8AAAAAAADwP6RwPQrXo\\u002fA\\u002fSOF6FK5H8T\\u002fsUbgehevxP4\\u002fC9Shcj\\u002fI\\u002fMzMzMzMz8z\\u002fXo3A9CtfzP3sUrkfhevQ\\u002fH4XrUbge9T\\u002fD9Shcj8L1P2dmZmZmZvY\\u002fCtejcD0K9z+uR+F6FK73P1K4HoXrUfg\\u002f9ihcj8L1+D+amZmZmZn5Pz4K16NwPfo\\u002f4XoUrkfh+j+F61G4HoX7Pylcj8L1KPw\\u002fzczMzMzM\\u002fD9xPQrXo3D9PxWuR+F6FP4\\u002fuB6F61G4\\u002fj9cj8L1KFz\\u002fPwAAAAAAAABA\"},\"xaxis\":\"x\",\"y\":{\"dtype\":\"f8\",\"bdata\":\"AAAAAAAA8D8AAAAAAADwPwAAAAAAAPA\\u002fAAAAAAAA8D8AAAAAAADwPwAAAAAAAPA\\u002fAAAAAAAA8D8AAAAAAADwPwAAAAAAAPA\\u002fAAAAAAAA8D8AAAAAAADwPwAAAAAAAPA\\u002fAAAAAAAA8D\\u002f8eBrNTzLxP6CWR38puvM\\u002f1gkVDzTi9j94M7xRUfb5P2vpIccJfPw\\u002fkeMDZ347\\u002fj+bPF9ffT7\\u002fP+OBTiw9uv8\\u002fkwNFKtvq\\u002fz9hPKiwm\\u002fr\\u002fP29A63jX\\u002fv8\\u002fcR7iVMr\\u002f\\u002fz\\u002fd5pbtR1r\\u002fPy\\u002fR4EwbQ\\u002fw\\u002f1o135zHS9j+eVfr5pJLyPy\\u002fX3baeufA\\u002fLeST1x0q8D\\u002f5YxKb7gfwP9D6nflAAfA\\u002f+AudyyoA8D9AuFrTBADwP84f63UAAPA\\u002feCOFCQAA8D9U8qUAAADwP\\u002fl6CQAAAPA\\u002fY3MAAAAA8D+CBAAAAADwPyUAAAAAAPA\\u002fAQAAAAAA8D8AAAAAAADwPwAAAAAAAPA\\u002fAAAAAAAA8D8AAAAAAADwPwAAAAAAAPA\\u002fAAAAAAAA8D8AAAAAAADwPwAAAAAAAPA\\u002f\"},\"yaxis\":\"y\",\"type\":\"scatter\"}],\"name\":\"22\"},{\"data\":[{\"hovertemplate\":\"variable=23\\u003cbr\\u003ex=%{x}\\u003cbr\\u003evalue=%{y}\\u003cextra\\u003e\\u003c\\u002fextra\\u003e\",\"legendgroup\":\"\",\"line\":{\"color\":\"#636efa\",\"dash\":\"solid\"},\"marker\":{\"symbol\":\"circle\"},\"mode\":\"lines\",\"name\":\"\",\"orientation\":\"v\",\"showlegend\":false,\"x\":{\"dtype\":\"f8\",\"bdata\":\"AAAAAAAAAAB7FK5H4XqkP3sUrkfherQ\\u002fuB6F61G4vj97FK5H4XrEP5qZmZmZmck\\u002fuB6F61G4zj\\u002fsUbgehevRP3sUrkfhetQ\\u002fCtejcD0K1z+amZmZmZnZPylcj8L1KNw\\u002fuB6F61G43j+kcD0K16PgP+xRuB6F6+E\\u002fMzMzMzMz4z97FK5H4XrkP8P1KFyPwuU\\u002fCtejcD0K5z9SuB6F61HoP5qZmZmZmek\\u002f4XoUrkfh6j8pXI\\u002fC9SjsP3E9CtejcO0\\u002fuB6F61G47j8AAAAAAADwP6RwPQrXo\\u002fA\\u002fSOF6FK5H8T\\u002fsUbgehevxP4\\u002fC9Shcj\\u002fI\\u002fMzMzMzMz8z\\u002fXo3A9CtfzP3sUrkfhevQ\\u002fH4XrUbge9T\\u002fD9Shcj8L1P2dmZmZmZvY\\u002fCtejcD0K9z+uR+F6FK73P1K4HoXrUfg\\u002f9ihcj8L1+D+amZmZmZn5Pz4K16NwPfo\\u002f4XoUrkfh+j+F61G4HoX7Pylcj8L1KPw\\u002fzczMzMzM\\u002fD9xPQrXo3D9PxWuR+F6FP4\\u002fuB6F61G4\\u002fj9cj8L1KFz\\u002fPwAAAAAAAABA\"},\"xaxis\":\"x\",\"y\":{\"dtype\":\"f8\",\"bdata\":\"AAAAAAAA8D8AAAAAAADwPwAAAAAAAPA\\u002fAAAAAAAA8D8AAAAAAADwPwAAAAAAAPA\\u002fAAAAAAAA8D8AAAAAAADwPwAAAAAAAPA\\u002fAAAAAAAA8D8AAAAAAADwPwAAAAAAAPA\\u002fAAAAAAAA8D83qi544BbxP2PkuyKZd\\u002fM\\u002f048Uh+WB9j\\u002fj2m\\u002fEv4v5PyA9qrg9HPw\\u002fKIGdhwn1\\u002fT\\u002fA+SbpVxT\\u002fPz4vUSvKpf8\\u002f0x3iL8bi\\u002fz\\u002fopYAL\\u002fPf\\u002fP\\u002f2OFN4i\\u002fv8\\u002fm4Yn26H\\u002f\\u002fz+sKbvOTnX\\u002fPzmFYgCRt\\u002fw\\u002ftKoSj8F39z+0qY3U2PvyP+E4gzXT4vA\\u002fLX0DujI28D904qZJyQrwP6wU53zPAfA\\u002f8SBb+kEA8D+HM2H9BwDwP4bECdMAAPA\\u002fL6ONEgAA8D9sNmMBAADwP+uEFgAAAPA\\u002fBTQBAAAA8D+\\u002fDQAAAADwP4IAAAAAAPA\\u002fBAAAAAAA8D8AAAAAAADwPwAAAAAAAPA\\u002fAAAAAAAA8D8AAAAAAADwPwAAAAAAAPA\\u002fAAAAAAAA8D8AAAAAAADwPwAAAAAAAPA\\u002f\"},\"yaxis\":\"y\",\"type\":\"scatter\"}],\"name\":\"23\"},{\"data\":[{\"hovertemplate\":\"variable=24\\u003cbr\\u003ex=%{x}\\u003cbr\\u003evalue=%{y}\\u003cextra\\u003e\\u003c\\u002fextra\\u003e\",\"legendgroup\":\"\",\"line\":{\"color\":\"#636efa\",\"dash\":\"solid\"},\"marker\":{\"symbol\":\"circle\"},\"mode\":\"lines\",\"name\":\"\",\"orientation\":\"v\",\"showlegend\":false,\"x\":{\"dtype\":\"f8\",\"bdata\":\"AAAAAAAAAAB7FK5H4XqkP3sUrkfherQ\\u002fuB6F61G4vj97FK5H4XrEP5qZmZmZmck\\u002fuB6F61G4zj\\u002fsUbgehevRP3sUrkfhetQ\\u002fCtejcD0K1z+amZmZmZnZPylcj8L1KNw\\u002fuB6F61G43j+kcD0K16PgP+xRuB6F6+E\\u002fMzMzMzMz4z97FK5H4XrkP8P1KFyPwuU\\u002fCtejcD0K5z9SuB6F61HoP5qZmZmZmek\\u002f4XoUrkfh6j8pXI\\u002fC9SjsP3E9CtejcO0\\u002fuB6F61G47j8AAAAAAADwP6RwPQrXo\\u002fA\\u002fSOF6FK5H8T\\u002fsUbgehevxP4\\u002fC9Shcj\\u002fI\\u002fMzMzMzMz8z\\u002fXo3A9CtfzP3sUrkfhevQ\\u002fH4XrUbge9T\\u002fD9Shcj8L1P2dmZmZmZvY\\u002fCtejcD0K9z+uR+F6FK73P1K4HoXrUfg\\u002f9ihcj8L1+D+amZmZmZn5Pz4K16NwPfo\\u002f4XoUrkfh+j+F61G4HoX7Pylcj8L1KPw\\u002fzczMzMzM\\u002fD9xPQrXo3D9PxWuR+F6FP4\\u002fuB6F61G4\\u002fj9cj8L1KFz\\u002fPwAAAAAAAABA\"},\"xaxis\":\"x\",\"y\":{\"dtype\":\"f8\",\"bdata\":\"AAAAAAAA8D8AAAAAAADwPwAAAAAAAPA\\u002fAAAAAAAA8D8AAAAAAADwPwAAAAAAAPA\\u002fAAAAAAAA8D8AAAAAAADwPwAAAAAAAPA\\u002fAAAAAAAA8D8AAAAAAADwPwAAAAAAAPA\\u002fAAAAAAAA8D8t\\u002fHIIDv7wPyBEkAThOfM\\u002f3Pcq46gm9j9f898uQST5PzwDpB8gvPs\\u002f8dgnrkSr\\u002fT9S4rAl1uX+P6LR9cvQjf8\\u002f0eeMd6XY\\u002fz9xOj\\u002f0c\\u002fT\\u002fPy4c8HQc\\u002ff8\\u002fvNIKB2L\\u002f\\u002fz9eksm6+Iv\\u002fP\\u002fHeBESGIP0\\u002fbQWb6gEc+D9w6U9dWG3zP0N7zBoOEvE\\u002f1zy3KcZE8D\\u002f0fK\\u002fYaQ7wP12eTA6PAvA\\u002fcQ4aG2MA8D8QcXjSDADwP\\u002fxq5msBAPA\\u002fXvuXIgAA8D8natECAADwP2A+MgAAAPA\\u002fw\\u002foCAAAA8D9FJgAAAADwP5wBAAAAAPA\\u002fDwAAAAAA8D8AAAAAAADwPwAAAAAAAPA\\u002fAAAAAAAA8D8AAAAAAADwPwAAAAAAAPA\\u002fAAAAAAAA8D8AAAAAAADwPwAAAAAAAPA\\u002f\"},\"yaxis\":\"y\",\"type\":\"scatter\"}],\"name\":\"24\"},{\"data\":[{\"hovertemplate\":\"variable=25\\u003cbr\\u003ex=%{x}\\u003cbr\\u003evalue=%{y}\\u003cextra\\u003e\\u003c\\u002fextra\\u003e\",\"legendgroup\":\"\",\"line\":{\"color\":\"#636efa\",\"dash\":\"solid\"},\"marker\":{\"symbol\":\"circle\"},\"mode\":\"lines\",\"name\":\"\",\"orientation\":\"v\",\"showlegend\":false,\"x\":{\"dtype\":\"f8\",\"bdata\":\"AAAAAAAAAAB7FK5H4XqkP3sUrkfherQ\\u002fuB6F61G4vj97FK5H4XrEP5qZmZmZmck\\u002fuB6F61G4zj\\u002fsUbgehevRP3sUrkfhetQ\\u002fCtejcD0K1z+amZmZmZnZPylcj8L1KNw\\u002fuB6F61G43j+kcD0K16PgP+xRuB6F6+E\\u002fMzMzMzMz4z97FK5H4XrkP8P1KFyPwuU\\u002fCtejcD0K5z9SuB6F61HoP5qZmZmZmek\\u002f4XoUrkfh6j8pXI\\u002fC9SjsP3E9CtejcO0\\u002fuB6F61G47j8AAAAAAADwP6RwPQrXo\\u002fA\\u002fSOF6FK5H8T\\u002fsUbgehevxP4\\u002fC9Shcj\\u002fI\\u002fMzMzMzMz8z\\u002fXo3A9CtfzP3sUrkfhevQ\\u002fH4XrUbge9T\\u002fD9Shcj8L1P2dmZmZmZvY\\u002fCtejcD0K9z+uR+F6FK73P1K4HoXrUfg\\u002f9ihcj8L1+D+amZmZmZn5Pz4K16NwPfo\\u002f4XoUrkfh+j+F61G4HoX7Pylcj8L1KPw\\u002fzczMzMzM\\u002fD9xPQrXo3D9PxWuR+F6FP4\\u002fuB6F61G4\\u002fj9cj8L1KFz\\u002fPwAAAAAAAABA\"},\"xaxis\":\"x\",\"y\":{\"dtype\":\"f8\",\"bdata\":\"AAAAAAAA8D8AAAAAAADwPwAAAAAAAPA\\u002fAAAAAAAA8D8AAAAAAADwPwAAAAAAAPA\\u002fAAAAAAAA8D8AAAAAAADwPwAAAAAAAPA\\u002fAAAAAAAA8D8AAAAAAADwPwAAAAAAAPA\\u002fAAAAAAAA8D+yBfIHkufwP3pZfG2eAPM\\u002f\\u002fl0g4kXQ9T+TDeHJAMD4P84hakw6XPs\\u002f4kT0esFe\\u002fT8CWf7bNrP+P9aaXpY1cv8\\u002fE8jEBjzM\\u002fz86QD420+\\u002f\\u002fP+x1gSur+\\u002f8\\u002fizQ6GwH\\u002f\\u002fz9VRIIz757\\u002fP6NgjCd\\u002ffv0\\u002fm4nn1U29+D+gfDYfoebzP8FOTWmxR\\u002fE\\u002fIITSBStW8D+y4M2e9RLwPwd48RyMA\\u002fA\\u002f+jx9cJEA8D+iVjYDFADwP29WHV8CAPA\\u002fkS8JPgAA8D+XS3cFAADwP7EsagAAAPA\\u002fEOsGAAAA8D+lYgAAAADwP6oEAAAAAPA\\u002fMAAAAAAA8D8BAAAAAADwPwAAAAAAAPA\\u002fAAAAAAAA8D8AAAAAAADwPwAAAAAAAPA\\u002fAAAAAAAA8D8AAAAAAADwPwAAAAAAAPA\\u002f\"},\"yaxis\":\"y\",\"type\":\"scatter\"}],\"name\":\"25\"},{\"data\":[{\"hovertemplate\":\"variable=26\\u003cbr\\u003ex=%{x}\\u003cbr\\u003evalue=%{y}\\u003cextra\\u003e\\u003c\\u002fextra\\u003e\",\"legendgroup\":\"\",\"line\":{\"color\":\"#636efa\",\"dash\":\"solid\"},\"marker\":{\"symbol\":\"circle\"},\"mode\":\"lines\",\"name\":\"\",\"orientation\":\"v\",\"showlegend\":false,\"x\":{\"dtype\":\"f8\",\"bdata\":\"AAAAAAAAAAB7FK5H4XqkP3sUrkfherQ\\u002fuB6F61G4vj97FK5H4XrEP5qZmZmZmck\\u002fuB6F61G4zj\\u002fsUbgehevRP3sUrkfhetQ\\u002fCtejcD0K1z+amZmZmZnZPylcj8L1KNw\\u002fuB6F61G43j+kcD0K16PgP+xRuB6F6+E\\u002fMzMzMzMz4z97FK5H4XrkP8P1KFyPwuU\\u002fCtejcD0K5z9SuB6F61HoP5qZmZmZmek\\u002f4XoUrkfh6j8pXI\\u002fC9SjsP3E9CtejcO0\\u002fuB6F61G47j8AAAAAAADwP6RwPQrXo\\u002fA\\u002fSOF6FK5H8T\\u002fsUbgehevxP4\\u002fC9Shcj\\u002fI\\u002fMzMzMzMz8z\\u002fXo3A9CtfzP3sUrkfhevQ\\u002fH4XrUbge9T\\u002fD9Shcj8L1P2dmZmZmZvY\\u002fCtejcD0K9z+uR+F6FK73P1K4HoXrUfg\\u002f9ihcj8L1+D+amZmZmZn5Pz4K16NwPfo\\u002f4XoUrkfh+j+F61G4HoX7Pylcj8L1KPw\\u002fzczMzMzM\\u002fD9xPQrXo3D9PxWuR+F6FP4\\u002fuB6F61G4\\u002fj9cj8L1KFz\\u002fPwAAAAAAAABA\"},\"xaxis\":\"x\",\"y\":{\"dtype\":\"f8\",\"bdata\":\"AAAAAAAA8D8AAAAAAADwPwAAAAAAAPA\\u002fAAAAAAAA8D8AAAAAAADwPwAAAAAAAPA\\u002fAAAAAAAA8D8AAAAAAADwPwAAAAAAAPA\\u002fAAAAAAAA8D8AAAAAAADwPwAAAAAAAPA\\u002fAAAAAAAA8D\\u002fFqsuQLtPwPxqMS3h3y\\u002fI\\u002fzfxa64J+9T8izuquGV\\u002f4P1\\u002f8RDoB\\u002ffo\\u002frTw\\u002fdwwQ\\u002fT\\u002fxhnS7xnz+P37WuYPtUv8\\u002fSFeiOVO9\\u002fz8PAuat5+n\\u002fP5pKXByy+f8\\u002fZBMJzXL+\\u002fz8ytgKewa7\\u002fP8mfx3Ah0v0\\u002fDK4ZGiRa+T9EDf3EBGf0P6bYrNQThPE\\u002f8Q8Y87dq8D+Np18KlhjwP\\u002f0eqTDVBPA\\u002f+fodAdEA8D\\u002f6UQl3HgDwP+b4dNcDAPA\\u002f1Ih1awAA8D+YHi4KAADwP0Tv1QAAAPA\\u002fiDAPAAAA8D8D7gAAAADwP38MAAAAAPA\\u002fkAAAAAAA8D8FAAAAAADwPwAAAAAAAPA\\u002fAAAAAAAA8D8AAAAAAADwPwAAAAAAAPA\\u002fAAAAAAAA8D8AAAAAAADwPwAAAAAAAPA\\u002f\"},\"yaxis\":\"y\",\"type\":\"scatter\"}],\"name\":\"26\"},{\"data\":[{\"hovertemplate\":\"variable=27\\u003cbr\\u003ex=%{x}\\u003cbr\\u003evalue=%{y}\\u003cextra\\u003e\\u003c\\u002fextra\\u003e\",\"legendgroup\":\"\",\"line\":{\"color\":\"#636efa\",\"dash\":\"solid\"},\"marker\":{\"symbol\":\"circle\"},\"mode\":\"lines\",\"name\":\"\",\"orientation\":\"v\",\"showlegend\":false,\"x\":{\"dtype\":\"f8\",\"bdata\":\"AAAAAAAAAAB7FK5H4XqkP3sUrkfherQ\\u002fuB6F61G4vj97FK5H4XrEP5qZmZmZmck\\u002fuB6F61G4zj\\u002fsUbgehevRP3sUrkfhetQ\\u002fCtejcD0K1z+amZmZmZnZPylcj8L1KNw\\u002fuB6F61G43j+kcD0K16PgP+xRuB6F6+E\\u002fMzMzMzMz4z97FK5H4XrkP8P1KFyPwuU\\u002fCtejcD0K5z9SuB6F61HoP5qZmZmZmek\\u002f4XoUrkfh6j8pXI\\u002fC9SjsP3E9CtejcO0\\u002fuB6F61G47j8AAAAAAADwP6RwPQrXo\\u002fA\\u002fSOF6FK5H8T\\u002fsUbgehevxP4\\u002fC9Shcj\\u002fI\\u002fMzMzMzMz8z\\u002fXo3A9CtfzP3sUrkfhevQ\\u002fH4XrUbge9T\\u002fD9Shcj8L1P2dmZmZmZvY\\u002fCtejcD0K9z+uR+F6FK73P1K4HoXrUfg\\u002f9ihcj8L1+D+amZmZmZn5Pz4K16NwPfo\\u002f4XoUrkfh+j+F61G4HoX7Pylcj8L1KPw\\u002fzczMzMzM\\u002fD9xPQrXo3D9PxWuR+F6FP4\\u002fuB6F61G4\\u002fj9cj8L1KFz\\u002fPwAAAAAAAABA\"},\"xaxis\":\"x\",\"y\":{\"dtype\":\"f8\",\"bdata\":\"AAAAAAAA8D8AAAAAAADwPwAAAAAAAPA\\u002fAAAAAAAA8D8AAAAAAADwPwAAAAAAAPA\\u002fAAAAAAAA8D8AAAAAAADwPwAAAAAAAPA\\u002fAAAAAAAA8D8AAAAAAADwPwAAAAAAAPA\\u002fAAAAAAAA8D9sfFYSrcDwP02ouTsamvI\\u002fnJ0NVCYx9T\\u002foYa3+mQH4P+n3AR7Xnvo\\u002fw9VJYaq\\u002f\\u002fD95oqaZ3EL+Pxmnk2z9L\\u002f8\\u002fKNQFjryr\\u002fz+nVti7fuL\\u002fP07vA+QQ9\\u002f8\\u002f3UzBDqj9\\u002fz82Yd8X6Lv\\u002fP4+E0ZkoHP4\\u002fS\\u002fmTLDLx+T\\u002fWY86Uqu30P9OE63t9x\\u002fE\\u002fss7YqMaC8D8itYW3eB\\u002fwP0\\u002fRaxd7BvA\\u002fticetCYB8D9TtPxXLQDwP7GIbA8GAPA\\u002fwH51tAAA8D93Z0kSAADwP4tInQEAAPA\\u002fbcAfAAAA8D85HgIAAADwP0ofAAAAAPA\\u002fjwEAAAAA8D8RAAAAAADwPwAAAAAAAPA\\u002fAAAAAAAA8D8AAAAAAADwPwAAAAAAAPA\\u002fAAAAAAAA8D8AAAAAAADwPwAAAAAAAPA\\u002f\"},\"yaxis\":\"y\",\"type\":\"scatter\"}],\"name\":\"27\"},{\"data\":[{\"hovertemplate\":\"variable=28\\u003cbr\\u003ex=%{x}\\u003cbr\\u003evalue=%{y}\\u003cextra\\u003e\\u003c\\u002fextra\\u003e\",\"legendgroup\":\"\",\"line\":{\"color\":\"#636efa\",\"dash\":\"solid\"},\"marker\":{\"symbol\":\"circle\"},\"mode\":\"lines\",\"name\":\"\",\"orientation\":\"v\",\"showlegend\":false,\"x\":{\"dtype\":\"f8\",\"bdata\":\"AAAAAAAAAAB7FK5H4XqkP3sUrkfherQ\\u002fuB6F61G4vj97FK5H4XrEP5qZmZmZmck\\u002fuB6F61G4zj\\u002fsUbgehevRP3sUrkfhetQ\\u002fCtejcD0K1z+amZmZmZnZPylcj8L1KNw\\u002fuB6F61G43j+kcD0K16PgP+xRuB6F6+E\\u002fMzMzMzMz4z97FK5H4XrkP8P1KFyPwuU\\u002fCtejcD0K5z9SuB6F61HoP5qZmZmZmek\\u002f4XoUrkfh6j8pXI\\u002fC9SjsP3E9CtejcO0\\u002fuB6F61G47j8AAAAAAADwP6RwPQrXo\\u002fA\\u002fSOF6FK5H8T\\u002fsUbgehevxP4\\u002fC9Shcj\\u002fI\\u002fMzMzMzMz8z\\u002fXo3A9CtfzP3sUrkfhevQ\\u002fH4XrUbge9T\\u002fD9Shcj8L1P2dmZmZmZvY\\u002fCtejcD0K9z+uR+F6FK73P1K4HoXrUfg\\u002f9ihcj8L1+D+amZmZmZn5Pz4K16NwPfo\\u002f4XoUrkfh+j+F61G4HoX7Pylcj8L1KPw\\u002fzczMzMzM\\u002fD9xPQrXo3D9PxWuR+F6FP4\\u002fuB6F61G4\\u002fj9cj8L1KFz\\u002fPwAAAAAAAABA\"},\"xaxis\":\"x\",\"y\":{\"dtype\":\"f8\",\"bdata\":\"AAAAAAAA8D8AAAAAAADwPwAAAAAAAPA\\u002fAAAAAAAA8D8AAAAAAADwPwAAAAAAAPA\\u002fAAAAAAAA8D8AAAAAAADwPwAAAAAAAPA\\u002fAAAAAAAA8D8AAAAAAADwPwAAAAAAAPA\\u002fAAAAAAAA8D9d7WNL3a\\u002fwP7XH7wQ8bPI\\u002fOpDxRffn9D\\u002f2YOeGhaf3Pymx+y4NQvo\\u002fw0yBXBZu\\u002fD9HW7Xq1QX+P+hm1Np4Cf8\\u002fVUE0AlOX\\u002fz+SExLJZtn\\u002fPz7xsSek8\\u002f8\\u002fgvaO8Y78\\u002fz9wxi0axsb\\u002fP5hdsH5bXf4\\u002f56ub8VuB+j9Ce6rZknn1P7ZpwG8kEvI\\u002f2greELOe8D+e5VF9zyfwPxUsCxKRCPA\\u002fMIM9b5gB8D95DOUfQgDwP8DJeVUJAPA\\u002fncS0JgEA8D8iFM0fAADwP8n1AAMAAPA\\u002fxYs\\u002fAAAA8D9olgQAAADwP95JAAAAAPA\\u002fCQQAAAAA8D8xAAAAAADwPwEAAAAAAPA\\u002fAAAAAAAA8D8AAAAAAADwPwAAAAAAAPA\\u002fAAAAAAAA8D8AAAAAAADwPwAAAAAAAPA\\u002f\"},\"yaxis\":\"y\",\"type\":\"scatter\"}],\"name\":\"28\"},{\"data\":[{\"hovertemplate\":\"variable=29\\u003cbr\\u003ex=%{x}\\u003cbr\\u003evalue=%{y}\\u003cextra\\u003e\\u003c\\u002fextra\\u003e\",\"legendgroup\":\"\",\"line\":{\"color\":\"#636efa\",\"dash\":\"solid\"},\"marker\":{\"symbol\":\"circle\"},\"mode\":\"lines\",\"name\":\"\",\"orientation\":\"v\",\"showlegend\":false,\"x\":{\"dtype\":\"f8\",\"bdata\":\"AAAAAAAAAAB7FK5H4XqkP3sUrkfherQ\\u002fuB6F61G4vj97FK5H4XrEP5qZmZmZmck\\u002fuB6F61G4zj\\u002fsUbgehevRP3sUrkfhetQ\\u002fCtejcD0K1z+amZmZmZnZPylcj8L1KNw\\u002fuB6F61G43j+kcD0K16PgP+xRuB6F6+E\\u002fMzMzMzMz4z97FK5H4XrkP8P1KFyPwuU\\u002fCtejcD0K5z9SuB6F61HoP5qZmZmZmek\\u002f4XoUrkfh6j8pXI\\u002fC9SjsP3E9CtejcO0\\u002fuB6F61G47j8AAAAAAADwP6RwPQrXo\\u002fA\\u002fSOF6FK5H8T\\u002fsUbgehevxP4\\u002fC9Shcj\\u002fI\\u002fMzMzMzMz8z\\u002fXo3A9CtfzP3sUrkfhevQ\\u002fH4XrUbge9T\\u002fD9Shcj8L1P2dmZmZmZvY\\u002fCtejcD0K9z+uR+F6FK73P1K4HoXrUfg\\u002f9ihcj8L1+D+amZmZmZn5Pz4K16NwPfo\\u002f4XoUrkfh+j+F61G4HoX7Pylcj8L1KPw\\u002fzczMzMzM\\u002fD9xPQrXo3D9PxWuR+F6FP4\\u002fuB6F61G4\\u002fj9cj8L1KFz\\u002fPwAAAAAAAABA\"},\"xaxis\":\"x\",\"y\":{\"dtype\":\"f8\",\"bdata\":\"AAAAAAAA8D8AAAAAAADwPwAAAAAAAPA\\u002fAAAAAAAA8D8AAAAAAADwPwAAAAAAAPA\\u002fAAAAAAAA8D8AAAAAAADwPwAAAAAAAPA\\u002fAAAAAAAA8D8AAAAAAADwPwAAAAAAAPA\\u002fAAAAAAAA8D\\u002fBcWBvlKDwP6lFWaOYQfI\\u002fbq4iX76i9D9Z4xn211D3P1rg0oPl5vk\\u002fH3TZ38Ab\\u002fD\\u002f25d+XE8b9P\\u002fALqWeA3\\u002f4\\u002fcotI\\u002fPt\\u002f\\u002fz8EIefFcM7\\u002fPy7cT0hG7\\u002f8\\u002fQiKAoxL7\\u002fz85B+bgrM\\u002f\\u002fPwid2eKDlv4\\u002f5qeJNcAJ+z8vzPhDnAn2P0wyaCEpZPI\\u002fLfsnM9q+8D94gFJw0DHwP4Kc2\\u002f8sC\\u002fA\\u002fMrVNNi0C8D8spfemXgDwP798BREOAPA\\u002fRTxF1QEA8D9YuLU1AADwP6ZNZwUAAPA\\u002fm1R6AAAA8D8wgAkAAADwP5SlAAAAAPA\\u002f2wkAAAAA8D+DAAAAAADwPwUAAAAAAPA\\u002fAAAAAAAA8D8AAAAAAADwPwAAAAAAAPA\\u002fAAAAAAAA8D8AAAAAAADwPwAAAAAAAPA\\u002f\"},\"yaxis\":\"y\",\"type\":\"scatter\"}],\"name\":\"29\"},{\"data\":[{\"hovertemplate\":\"variable=30\\u003cbr\\u003ex=%{x}\\u003cbr\\u003evalue=%{y}\\u003cextra\\u003e\\u003c\\u002fextra\\u003e\",\"legendgroup\":\"\",\"line\":{\"color\":\"#636efa\",\"dash\":\"solid\"},\"marker\":{\"symbol\":\"circle\"},\"mode\":\"lines\",\"name\":\"\",\"orientation\":\"v\",\"showlegend\":false,\"x\":{\"dtype\":\"f8\",\"bdata\":\"AAAAAAAAAAB7FK5H4XqkP3sUrkfherQ\\u002fuB6F61G4vj97FK5H4XrEP5qZmZmZmck\\u002fuB6F61G4zj\\u002fsUbgehevRP3sUrkfhetQ\\u002fCtejcD0K1z+amZmZmZnZPylcj8L1KNw\\u002fuB6F61G43j+kcD0K16PgP+xRuB6F6+E\\u002fMzMzMzMz4z97FK5H4XrkP8P1KFyPwuU\\u002fCtejcD0K5z9SuB6F61HoP5qZmZmZmek\\u002f4XoUrkfh6j8pXI\\u002fC9SjsP3E9CtejcO0\\u002fuB6F61G47j8AAAAAAADwP6RwPQrXo\\u002fA\\u002fSOF6FK5H8T\\u002fsUbgehevxP4\\u002fC9Shcj\\u002fI\\u002fMzMzMzMz8z\\u002fXo3A9CtfzP3sUrkfhevQ\\u002fH4XrUbge9T\\u002fD9Shcj8L1P2dmZmZmZvY\\u002fCtejcD0K9z+uR+F6FK73P1K4HoXrUfg\\u002f9ihcj8L1+D+amZmZmZn5Pz4K16NwPfo\\u002f4XoUrkfh+j+F61G4HoX7Pylcj8L1KPw\\u002fzczMzMzM\\u002fD9xPQrXo3D9PxWuR+F6FP4\\u002fuB6F61G4\\u002fj9cj8L1KFz\\u002fPwAAAAAAAABA\"},\"xaxis\":\"x\",\"y\":{\"dtype\":\"f8\",\"bdata\":\"AAAAAAAA8D8AAAAAAADwPwAAAAAAAPA\\u002fAAAAAAAA8D8AAAAAAADwPwAAAAAAAPA\\u002fAAAAAAAA8D8AAAAAAADwPwAAAAAAAPA\\u002fAAAAAAAA8D8AAAAAAADwPwAAAAAAAPA\\u002fAAAAAAAA8D+TW0FurJLwP52Rh8XxGfI\\u002fYcAWHUZh9D\\u002f+9Eushv32P7ihY+iUjfk\\u002fcPgmPA\\u002fJ+z8JZ5pI94P9PwnN780\\u002fsv4\\u002fOmRBuadl\\u002fz+ANUyPccH\\u002fP\\u002f5odjnQ6f8\\u002fQpd6jBv5\\u002fz9ytRqV3db\\u002fP4OqrslnyP4\\u002fUxrW4LmJ+z8hyY0gi5z2Px0XlOCSvfI\\u002f3KOV5pjj8D\\u002fhwynYtT3wP6+S+4hnDvA\\u002fxSDiS+0C8D9FhM0zhQDwP4fnNMgUAPA\\u002fNgpA2gIA8D\\u002fLA1dYAADwP4zWbQkAAPA\\u002fXGnjAAAA8D855xIAAADwP3ZiAQAAAPA\\u002f1RYAAAAA8D9KAQAAAADwPxAAAAAAAPA\\u002fAAAAAAAA8D8AAAAAAADwPwAAAAAAAPA\\u002fAAAAAAAA8D8AAAAAAADwPwAAAAAAAPA\\u002f\"},\"yaxis\":\"y\",\"type\":\"scatter\"}],\"name\":\"30\"},{\"data\":[{\"hovertemplate\":\"variable=31\\u003cbr\\u003ex=%{x}\\u003cbr\\u003evalue=%{y}\\u003cextra\\u003e\\u003c\\u002fextra\\u003e\",\"legendgroup\":\"\",\"line\":{\"color\":\"#636efa\",\"dash\":\"solid\"},\"marker\":{\"symbol\":\"circle\"},\"mode\":\"lines\",\"name\":\"\",\"orientation\":\"v\",\"showlegend\":false,\"x\":{\"dtype\":\"f8\",\"bdata\":\"AAAAAAAAAAB7FK5H4XqkP3sUrkfherQ\\u002fuB6F61G4vj97FK5H4XrEP5qZmZmZmck\\u002fuB6F61G4zj\\u002fsUbgehevRP3sUrkfhetQ\\u002fCtejcD0K1z+amZmZmZnZPylcj8L1KNw\\u002fuB6F61G43j+kcD0K16PgP+xRuB6F6+E\\u002fMzMzMzMz4z97FK5H4XrkP8P1KFyPwuU\\u002fCtejcD0K5z9SuB6F61HoP5qZmZmZmek\\u002f4XoUrkfh6j8pXI\\u002fC9SjsP3E9CtejcO0\\u002fuB6F61G47j8AAAAAAADwP6RwPQrXo\\u002fA\\u002fSOF6FK5H8T\\u002fsUbgehevxP4\\u002fC9Shcj\\u002fI\\u002fMzMzMzMz8z\\u002fXo3A9CtfzP3sUrkfhevQ\\u002fH4XrUbge9T\\u002fD9Shcj8L1P2dmZmZmZvY\\u002fCtejcD0K9z+uR+F6FK73P1K4HoXrUfg\\u002f9ihcj8L1+D+amZmZmZn5Pz4K16NwPfo\\u002f4XoUrkfh+j+F61G4HoX7Pylcj8L1KPw\\u002fzczMzMzM\\u002fD9xPQrXo3D9PxWuR+F6FP4\\u002fuB6F61G4\\u002fj9cj8L1KFz\\u002fPwAAAAAAAABA\"},\"xaxis\":\"x\",\"y\":{\"dtype\":\"f8\",\"bdata\":\"AAAAAAAA8D8AAAAAAADwPwAAAAAAAPA\\u002fAAAAAAAA8D8AAAAAAADwPwAAAAAAAPA\\u002fAAAAAAAA8D8AAAAAAADwPwAAAAAAAPA\\u002fAAAAAAAA8D8AAAAAAADwPwAAAAAAAPA\\u002fAAAAAAAA8D\\u002fCCuRYA4bwPxthSWYO9fE\\u002fDSRXIFsj9D8KbGw3gq32P+Jh95tENvk\\u002f\\u002fDb3llt2+z9cePYl4T\\u002f9P4oowNbrgf4\\u002fp0WKSlFI\\u002fz8bWOUoQ7L\\u002fP3R1\\u002fnEa4\\u002f8\\u002fAc4xi4\\u002f2\\u002fz8IKaE9i9z\\u002fP5a8Xn7E8\\u002f4\\u002fBQQzM94A\\u002fD+H+x0ZEjH3P4pdBplMHvM\\u002fZt5qQEoN8T\\u002fvJUgVvkvwP7\\u002f0zEZcEvA\\u002fjKQZU+ID8D+N\\u002fc+MuADwP1vKjSYeAPA\\u002f2WC\\u002fWAQA8D\\u002fRGtWNAADwPwBFARAAAPA\\u002fIJ2ZAQAA8D9nRyQAAADwPzHYAgAAAPA\\u002feDIAAAAA8D8WAwAAAADwPyoAAAAAAPA\\u002fAQAAAAAA8D8AAAAAAADwPwAAAAAAAPA\\u002fAAAAAAAA8D8AAAAAAADwPwAAAAAAAPA\\u002f\"},\"yaxis\":\"y\",\"type\":\"scatter\"}],\"name\":\"31\"},{\"data\":[{\"hovertemplate\":\"variable=32\\u003cbr\\u003ex=%{x}\\u003cbr\\u003evalue=%{y}\\u003cextra\\u003e\\u003c\\u002fextra\\u003e\",\"legendgroup\":\"\",\"line\":{\"color\":\"#636efa\",\"dash\":\"solid\"},\"marker\":{\"symbol\":\"circle\"},\"mode\":\"lines\",\"name\":\"\",\"orientation\":\"v\",\"showlegend\":false,\"x\":{\"dtype\":\"f8\",\"bdata\":\"AAAAAAAAAAB7FK5H4XqkP3sUrkfherQ\\u002fuB6F61G4vj97FK5H4XrEP5qZmZmZmck\\u002fuB6F61G4zj\\u002fsUbgehevRP3sUrkfhetQ\\u002fCtejcD0K1z+amZmZmZnZPylcj8L1KNw\\u002fuB6F61G43j+kcD0K16PgP+xRuB6F6+E\\u002fMzMzMzMz4z97FK5H4XrkP8P1KFyPwuU\\u002fCtejcD0K5z9SuB6F61HoP5qZmZmZmek\\u002f4XoUrkfh6j8pXI\\u002fC9SjsP3E9CtejcO0\\u002fuB6F61G47j8AAAAAAADwP6RwPQrXo\\u002fA\\u002fSOF6FK5H8T\\u002fsUbgehevxP4\\u002fC9Shcj\\u002fI\\u002fMzMzMzMz8z\\u002fXo3A9CtfzP3sUrkfhevQ\\u002fH4XrUbge9T\\u002fD9Shcj8L1P2dmZmZmZvY\\u002fCtejcD0K9z+uR+F6FK73P1K4HoXrUfg\\u002f9ihcj8L1+D+amZmZmZn5Pz4K16NwPfo\\u002f4XoUrkfh+j+F61G4HoX7Pylcj8L1KPw\\u002fzczMzMzM\\u002fD9xPQrXo3D9PxWuR+F6FP4\\u002fuB6F61G4\\u002fj9cj8L1KFz\\u002fPwAAAAAAAABA\"},\"xaxis\":\"x\",\"y\":{\"dtype\":\"f8\",\"bdata\":\"AAAAAAAA8D8AAAAAAADwPwAAAAAAAPA\\u002fAAAAAAAA8D8AAAAAAADwPwAAAAAAAPA\\u002fAAAAAAAA8D8AAAAAAADwPwAAAAAAAPA\\u002fAAAAAAAA8D8AAAAAAADwPwAAAAAAAPA\\u002fAAAAAAAA8D\\u002fzkc\\u002fcenrwP1uizUi60vE\\u002fiw1UU8zo8z9RtZ2It2D2PwYpte0T4fg\\u002fHMm7OvUj+z\\u002fDBLIWLvr8P+Y+X0DATv4\\u002f\\u002f2QiL\\u002f4n\\u002fz\\u002fU3F6+xaD\\u002fPwZ\\u002fROr92v8\\u002fqpI2UVLz\\u002fz\\u002fEMJ583OD\\u002fP3abBBZLGf8\\u002f8PjMh\\u002fhu\\u002fD+gxHAI3MX3P9v8kQgihvM\\u002fPFxWvkU88T9IuD5zK1zwP+qaFuopF\\u002fA\\u002fit9gchcF8D8MJgsL\\u002fADwP\\u002fDigAQrAPA\\u002fhtQ7fwYA8D\\u002fK+L3eAADwP9yWfRoAAPA\\u002fHevMAgAA8D\\u002fhY0MAAADwP3ahBQAAAPA\\u002f8moAAAAA8D8JBwAAAADwP2gAAAAAAPA\\u002fBAAAAAAA8D8AAAAAAADwPwAAAAAAAPA\\u002fAAAAAAAA8D8AAAAAAADwPwAAAAAAAPA\\u002f\"},\"yaxis\":\"y\",\"type\":\"scatter\"}],\"name\":\"32\"},{\"data\":[{\"hovertemplate\":\"variable=33\\u003cbr\\u003ex=%{x}\\u003cbr\\u003evalue=%{y}\\u003cextra\\u003e\\u003c\\u002fextra\\u003e\",\"legendgroup\":\"\",\"line\":{\"color\":\"#636efa\",\"dash\":\"solid\"},\"marker\":{\"symbol\":\"circle\"},\"mode\":\"lines\",\"name\":\"\",\"orientation\":\"v\",\"showlegend\":false,\"x\":{\"dtype\":\"f8\",\"bdata\":\"AAAAAAAAAAB7FK5H4XqkP3sUrkfherQ\\u002fuB6F61G4vj97FK5H4XrEP5qZmZmZmck\\u002fuB6F61G4zj\\u002fsUbgehevRP3sUrkfhetQ\\u002fCtejcD0K1z+amZmZmZnZPylcj8L1KNw\\u002fuB6F61G43j+kcD0K16PgP+xRuB6F6+E\\u002fMzMzMzMz4z97FK5H4XrkP8P1KFyPwuU\\u002fCtejcD0K5z9SuB6F61HoP5qZmZmZmek\\u002f4XoUrkfh6j8pXI\\u002fC9SjsP3E9CtejcO0\\u002fuB6F61G47j8AAAAAAADwP6RwPQrXo\\u002fA\\u002fSOF6FK5H8T\\u002fsUbgehevxP4\\u002fC9Shcj\\u002fI\\u002fMzMzMzMz8z\\u002fXo3A9CtfzP3sUrkfhevQ\\u002fH4XrUbge9T\\u002fD9Shcj8L1P2dmZmZmZvY\\u002fCtejcD0K9z+uR+F6FK73P1K4HoXrUfg\\u002f9ihcj8L1+D+amZmZmZn5Pz4K16NwPfo\\u002f4XoUrkfh+j+F61G4HoX7Pylcj8L1KPw\\u002fzczMzMzM\\u002fD9xPQrXo3D9PxWuR+F6FP4\\u002fuB6F61G4\\u002fj9cj8L1KFz\\u002fPwAAAAAAAABA\"},\"xaxis\":\"x\",\"y\":{\"dtype\":\"f8\",\"bdata\":\"AAAAAAAA8D8AAAAAAADwPwAAAAAAAPA\\u002fAAAAAAAA8D8AAAAAAADwPwAAAAAAAPA\\u002fAAAAAAAA8D8AAAAAAADwPwAAAAAAAPA\\u002fAAAAAAAA8D8AAAAAAADwPwAAAAAAAPA\\u002fAAAAAAAA8D8QX0zT92\\u002fwP+1hioLFsvE\\u002fZb4h\\u002fGqx8z\\u002fQeC\\u002fuEBf2P9F6VLIZjvg\\u002fNJIhIiHS+j+WKbVrNrP8P8Pmdrn9GP4\\u002fRHW8mb0E\\u002fz9N5Ddj4Iz\\u002fP7PbvRtV0f8\\u002f9ttW20Xv\\u002fz\\u002fte5wh7eP\\u002fP8LHjy+eOf8\\u002fWc1jRATU\\u002fD9f7ZRNlln4P+RuLau99PM\\u002fnco6Kd1w8T+2vXvjQ2\\u002fwP3SBGV7yHPA\\u002fpccKd5kG8D+bKWGuUwHwPzvo5W88APA\\u002fbSdYigkA8D9LfMhWAQDwP8tJ2CoAAPA\\u002fw07GBAAA8D97hHkAAADwP\\u002f\\u002fGCgAAAPA\\u002fKNoAAAAA8D9cDwAAAADwP\\u002fUAAAAAAPA\\u002fDAAAAAAA8D8AAAAAAADwPwAAAAAAAPA\\u002fAAAAAAAA8D8AAAAAAADwPwAAAAAAAPA\\u002f\"},\"yaxis\":\"y\",\"type\":\"scatter\"}],\"name\":\"33\"},{\"data\":[{\"hovertemplate\":\"variable=34\\u003cbr\\u003ex=%{x}\\u003cbr\\u003evalue=%{y}\\u003cextra\\u003e\\u003c\\u002fextra\\u003e\",\"legendgroup\":\"\",\"line\":{\"color\":\"#636efa\",\"dash\":\"solid\"},\"marker\":{\"symbol\":\"circle\"},\"mode\":\"lines\",\"name\":\"\",\"orientation\":\"v\",\"showlegend\":false,\"x\":{\"dtype\":\"f8\",\"bdata\":\"AAAAAAAAAAB7FK5H4XqkP3sUrkfherQ\\u002fuB6F61G4vj97FK5H4XrEP5qZmZmZmck\\u002fuB6F61G4zj\\u002fsUbgehevRP3sUrkfhetQ\\u002fCtejcD0K1z+amZmZmZnZPylcj8L1KNw\\u002fuB6F61G43j+kcD0K16PgP+xRuB6F6+E\\u002fMzMzMzMz4z97FK5H4XrkP8P1KFyPwuU\\u002fCtejcD0K5z9SuB6F61HoP5qZmZmZmek\\u002f4XoUrkfh6j8pXI\\u002fC9SjsP3E9CtejcO0\\u002fuB6F61G47j8AAAAAAADwP6RwPQrXo\\u002fA\\u002fSOF6FK5H8T\\u002fsUbgehevxP4\\u002fC9Shcj\\u002fI\\u002fMzMzMzMz8z\\u002fXo3A9CtfzP3sUrkfhevQ\\u002fH4XrUbge9T\\u002fD9Shcj8L1P2dmZmZmZvY\\u002fCtejcD0K9z+uR+F6FK73P1K4HoXrUfg\\u002f9ihcj8L1+D+amZmZmZn5Pz4K16NwPfo\\u002f4XoUrkfh+j+F61G4HoX7Pylcj8L1KPw\\u002fzczMzMzM\\u002fD9xPQrXo3D9PxWuR+F6FP4\\u002fuB6F61G4\\u002fj9cj8L1KFz\\u002fPwAAAAAAAABA\"},\"xaxis\":\"x\",\"y\":{\"dtype\":\"f8\",\"bdata\":\"AAAAAAAA8D8AAAAAAADwPwAAAAAAAPA\\u002fAAAAAAAA8D8AAAAAAADwPwAAAAAAAPA\\u002fAAAAAAAA8D8AAAAAAADwPwAAAAAAAPA\\u002fAAAAAAAA8D8AAAAAAADwPwAAAAAAAPA\\u002fAAAAAAAA8D\\u002fxJI\\u002fgYWbwP3SUmhEElfE\\u002f+2gDvwp98z810HXcdtD1PzU1ipFlPfg\\u002fb8ttqRqB+j\\u002fC2MXwTGv8P5evmgPo4P0\\u002faD5kd6fe\\u002fj9ocuOMgXb\\u002fP3fN4fX8xf8\\u002fdkTUAUvq\\u002fz+JVdiXz+X\\u002fP6uCD7VQVf8\\u002fH1JGniUw\\u002fT8XAt34+ur4P5SAE5unafQ\\u002fYG2zMlqr8T8kAqibUIXwP8TnrufaI\\u002fA\\u002fEpia+XYI8D+moRgzxAHwP52+crVTAPA\\u002f7X4myA0A8D+ILr8FAgDwP+741kMAAPA\\u002fBXnyBwAA8D8BQNUAAADwP3QBFAAAAPA\\u002f5a0BAAAA8D9CIAAAAADwPygCAAAAAPA\\u002fHwAAAAAA8D8BAAAAAADwPwAAAAAAAPA\\u002fAAAAAAAA8D8AAAAAAADwPwAAAAAAAPA\\u002f\"},\"yaxis\":\"y\",\"type\":\"scatter\"}],\"name\":\"34\"},{\"data\":[{\"hovertemplate\":\"variable=35\\u003cbr\\u003ex=%{x}\\u003cbr\\u003evalue=%{y}\\u003cextra\\u003e\\u003c\\u002fextra\\u003e\",\"legendgroup\":\"\",\"line\":{\"color\":\"#636efa\",\"dash\":\"solid\"},\"marker\":{\"symbol\":\"circle\"},\"mode\":\"lines\",\"name\":\"\",\"orientation\":\"v\",\"showlegend\":false,\"x\":{\"dtype\":\"f8\",\"bdata\":\"AAAAAAAAAAB7FK5H4XqkP3sUrkfherQ\\u002fuB6F61G4vj97FK5H4XrEP5qZmZmZmck\\u002fuB6F61G4zj\\u002fsUbgehevRP3sUrkfhetQ\\u002fCtejcD0K1z+amZmZmZnZPylcj8L1KNw\\u002fuB6F61G43j+kcD0K16PgP+xRuB6F6+E\\u002fMzMzMzMz4z97FK5H4XrkP8P1KFyPwuU\\u002fCtejcD0K5z9SuB6F61HoP5qZmZmZmek\\u002f4XoUrkfh6j8pXI\\u002fC9SjsP3E9CtejcO0\\u002fuB6F61G47j8AAAAAAADwP6RwPQrXo\\u002fA\\u002fSOF6FK5H8T\\u002fsUbgehevxP4\\u002fC9Shcj\\u002fI\\u002fMzMzMzMz8z\\u002fXo3A9CtfzP3sUrkfhevQ\\u002fH4XrUbge9T\\u002fD9Shcj8L1P2dmZmZmZvY\\u002fCtejcD0K9z+uR+F6FK73P1K4HoXrUfg\\u002f9ihcj8L1+D+amZmZmZn5Pz4K16NwPfo\\u002f4XoUrkfh+j+F61G4HoX7Pylcj8L1KPw\\u002fzczMzMzM\\u002fD9xPQrXo3D9PxWuR+F6FP4\\u002fuB6F61G4\\u002fj9cj8L1KFz\\u002fPwAAAAAAAABA\"},\"xaxis\":\"x\",\"y\":{\"dtype\":\"f8\",\"bdata\":\"AAAAAAAA8D8AAAAAAADwPwAAAAAAAPA\\u002fAAAAAAAA8D8AAAAAAADwPwAAAAAAAPA\\u002fAAAAAAAA8D8AAAAAAADwPwAAAAAAAPA\\u002fAAAAAAAA8D8AAAAAAADwPwAAAAAAAPA\\u002fAAAAAAAA8D\\u002fZuVIgo13wP1dhUH5NefE\\u002fsfAwloFL8z\\u002f6miyO0Iz1P5uL7CsB7\\u002fc\\u002fC9haVRQx+j8zoD5TviL8P1LXtEnEpv0\\u002fheSbStu1\\u002fj98vpdHn13\\u002fP7KTlr3VuP8\\u002fMw+ZGkLk\\u002fz+jr6o3jub\\u002fP73MlmblbP8\\u002fZ7\\u002fA1qGD\\u002fT88jXEu2nj5P\\u002fV8Op1F5PQ\\u002ftUwl1Pvr8T9LTFWSnZ7wP8cMQT8MLPA\\u002fMpCUgsAK8D\\u002facb8oUwLwP8GONmtyAPA\\u002fh97xmxMA8D+cP50AAwDwPwT+VGkAAPA\\u002fWy7wDAAA8D\\u002fBBG0BAADwPwAcJAAAAPA\\u002f3DQDAAAA8D9lQQAAAADwP6oEAAAAAPA\\u002fSgAAAAAA8D8EAAAAAADwPwAAAAAAAPA\\u002fAAAAAAAA8D8AAAAAAADwPwAAAAAAAPA\\u002f\"},\"yaxis\":\"y\",\"type\":\"scatter\"}],\"name\":\"35\"},{\"data\":[{\"hovertemplate\":\"variable=36\\u003cbr\\u003ex=%{x}\\u003cbr\\u003evalue=%{y}\\u003cextra\\u003e\\u003c\\u002fextra\\u003e\",\"legendgroup\":\"\",\"line\":{\"color\":\"#636efa\",\"dash\":\"solid\"},\"marker\":{\"symbol\":\"circle\"},\"mode\":\"lines\",\"name\":\"\",\"orientation\":\"v\",\"showlegend\":false,\"x\":{\"dtype\":\"f8\",\"bdata\":\"AAAAAAAAAAB7FK5H4XqkP3sUrkfherQ\\u002fuB6F61G4vj97FK5H4XrEP5qZmZmZmck\\u002fuB6F61G4zj\\u002fsUbgehevRP3sUrkfhetQ\\u002fCtejcD0K1z+amZmZmZnZPylcj8L1KNw\\u002fuB6F61G43j+kcD0K16PgP+xRuB6F6+E\\u002fMzMzMzMz4z97FK5H4XrkP8P1KFyPwuU\\u002fCtejcD0K5z9SuB6F61HoP5qZmZmZmek\\u002f4XoUrkfh6j8pXI\\u002fC9SjsP3E9CtejcO0\\u002fuB6F61G47j8AAAAAAADwP6RwPQrXo\\u002fA\\u002fSOF6FK5H8T\\u002fsUbgehevxP4\\u002fC9Shcj\\u002fI\\u002fMzMzMzMz8z\\u002fXo3A9CtfzP3sUrkfhevQ\\u002fH4XrUbge9T\\u002fD9Shcj8L1P2dmZmZmZvY\\u002fCtejcD0K9z+uR+F6FK73P1K4HoXrUfg\\u002f9ihcj8L1+D+amZmZmZn5Pz4K16NwPfo\\u002f4XoUrkfh+j+F61G4HoX7Pylcj8L1KPw\\u002fzczMzMzM\\u002fD9xPQrXo3D9PxWuR+F6FP4\\u002fuB6F61G4\\u002fj9cj8L1KFz\\u002fPwAAAAAAAABA\"},\"xaxis\":\"x\",\"y\":{\"dtype\":\"f8\",\"bdata\":\"AAAAAAAA8D8AAAAAAADwPwAAAAAAAPA\\u002fAAAAAAAA8D8AAAAAAADwPwAAAAAAAPA\\u002fAAAAAAAA8D8AAAAAAADwPwAAAAAAAPA\\u002fAAAAAAAA8D8AAAAAAADwPwAAAAAAAPA\\u002fAAAAAAAA8D+m7Lndp1XwP7wTzYZ8X\\u002fE\\u002fNl8owqcc8z+sN7eDBEz1P7gBdBvxovc\\u002fO6\\u002f3ojji+T\\u002fzdCDQ0Nn7P3SFTbHXav0\\u002f+VvT7X6K\\u002fj8RBPkpN0L\\u002fP60zI87Dqf8\\u002fYpydpgvd\\u002fz\\u002fxucKALOb\\u002fP9VN\\u002f\\u002f3OgP8\\u002f4seledfO\\u002fT8vZActIgL6P+ny7IXcY\\u002fU\\u002f9XogfPMy8j\\u002fBm07UeLvwPxJFH6SyNfA\\u002f8s+hr4gN8D9JM1sKBwPwP\\u002f9zIHyaAPA\\u002fEJyWghsA8D9Vj+RiBADwP+cEm6AAAPA\\u002frz+jFAAA8D+OnWICAADwP7uEPwAAAPA\\u002fyvIFAAAA8D9agAAAAADwP7oJAAAAAPA\\u002fpwAAAAAA8D8KAAAAAADwPwAAAAAAAPA\\u002fAAAAAAAA8D8AAAAAAADwPwAAAAAAAPA\\u002f\"},\"yaxis\":\"y\",\"type\":\"scatter\"}],\"name\":\"36\"},{\"data\":[{\"hovertemplate\":\"variable=37\\u003cbr\\u003ex=%{x}\\u003cbr\\u003evalue=%{y}\\u003cextra\\u003e\\u003c\\u002fextra\\u003e\",\"legendgroup\":\"\",\"line\":{\"color\":\"#636efa\",\"dash\":\"solid\"},\"marker\":{\"symbol\":\"circle\"},\"mode\":\"lines\",\"name\":\"\",\"orientation\":\"v\",\"showlegend\":false,\"x\":{\"dtype\":\"f8\",\"bdata\":\"AAAAAAAAAAB7FK5H4XqkP3sUrkfherQ\\u002fuB6F61G4vj97FK5H4XrEP5qZmZmZmck\\u002fuB6F61G4zj\\u002fsUbgehevRP3sUrkfhetQ\\u002fCtejcD0K1z+amZmZmZnZPylcj8L1KNw\\u002fuB6F61G43j+kcD0K16PgP+xRuB6F6+E\\u002fMzMzMzMz4z97FK5H4XrkP8P1KFyPwuU\\u002fCtejcD0K5z9SuB6F61HoP5qZmZmZmek\\u002f4XoUrkfh6j8pXI\\u002fC9SjsP3E9CtejcO0\\u002fuB6F61G47j8AAAAAAADwP6RwPQrXo\\u002fA\\u002fSOF6FK5H8T\\u002fsUbgehevxP4\\u002fC9Shcj\\u002fI\\u002fMzMzMzMz8z\\u002fXo3A9CtfzP3sUrkfhevQ\\u002fH4XrUbge9T\\u002fD9Shcj8L1P2dmZmZmZvY\\u002fCtejcD0K9z+uR+F6FK73P1K4HoXrUfg\\u002f9ihcj8L1+D+amZmZmZn5Pz4K16NwPfo\\u002f4XoUrkfh+j+F61G4HoX7Pylcj8L1KPw\\u002fzczMzMzM\\u002fD9xPQrXo3D9PxWuR+F6FP4\\u002fuB6F61G4\\u002fj9cj8L1KFz\\u002fPwAAAAAAAABA\"},\"xaxis\":\"x\",\"y\":{\"dtype\":\"f8\",\"bdata\":\"AAAAAAAA8D8AAAAAAADwPwAAAAAAAPA\\u002fAAAAAAAA8D8AAAAAAADwPwAAAAAAAPA\\u002fAAAAAAAA8D8AAAAAAADwPwAAAAAAAPA\\u002fAAAAAAAA8D8AAAAAAADwPwAAAAAAAPA\\u002fAAAAAAAA8D\\u002fuArZUXk7wP5W+h9NuR\\u002fE\\u002fgz0EtVfw8j9c+lfn+A31P5\\u002fAitE1Wfc\\u002fpN9t16qU+T\\u002fS7mwbxJD7P1cI+yhmLf0\\u002fc+MATr1c\\u002fj8i\\u002fc8OTiT\\u002fPz825zSwmP8\\u002f9w0wA4nU\\u002fz\\u002fkGGdBqOT\\u002fP+Afu8Jwkf8\\u002fu8E6CjcS\\u002fj8s3hmJ5YX6P7V7Bg6T5\\u002fU\\u002f4pmyHWKA8j8kZresMdzwP8bvT+f9QPA\\u002fI\\u002fLFWOQQ8D+MoN9X5wPwPzSnmDTOAPA\\u002fLUp0FyYA8D\\u002f37DNQBgDwP5XTy\\u002fAAAPA\\u002f2DpNIAAA8D9mAOgDAADwPyIcbQAAAPA\\u002f874KAAAA8D+O9AAAAADwP50TAAAAAPA\\u002faQEAAAAA8D8XAAAAAADwPwEAAAAAAPA\\u002fAAAAAAAA8D8AAAAAAADwPwAAAAAAAPA\\u002f\"},\"yaxis\":\"y\",\"type\":\"scatter\"}],\"name\":\"37\"},{\"data\":[{\"hovertemplate\":\"variable=38\\u003cbr\\u003ex=%{x}\\u003cbr\\u003evalue=%{y}\\u003cextra\\u003e\\u003c\\u002fextra\\u003e\",\"legendgroup\":\"\",\"line\":{\"color\":\"#636efa\",\"dash\":\"solid\"},\"marker\":{\"symbol\":\"circle\"},\"mode\":\"lines\",\"name\":\"\",\"orientation\":\"v\",\"showlegend\":false,\"x\":{\"dtype\":\"f8\",\"bdata\":\"AAAAAAAAAAB7FK5H4XqkP3sUrkfherQ\\u002fuB6F61G4vj97FK5H4XrEP5qZmZmZmck\\u002fuB6F61G4zj\\u002fsUbgehevRP3sUrkfhetQ\\u002fCtejcD0K1z+amZmZmZnZPylcj8L1KNw\\u002fuB6F61G43j+kcD0K16PgP+xRuB6F6+E\\u002fMzMzMzMz4z97FK5H4XrkP8P1KFyPwuU\\u002fCtejcD0K5z9SuB6F61HoP5qZmZmZmek\\u002f4XoUrkfh6j8pXI\\u002fC9SjsP3E9CtejcO0\\u002fuB6F61G47j8AAAAAAADwP6RwPQrXo\\u002fA\\u002fSOF6FK5H8T\\u002fsUbgehevxP4\\u002fC9Shcj\\u002fI\\u002fMzMzMzMz8z\\u002fXo3A9CtfzP3sUrkfhevQ\\u002fH4XrUbge9T\\u002fD9Shcj8L1P2dmZmZmZvY\\u002fCtejcD0K9z+uR+F6FK73P1K4HoXrUfg\\u002f9ihcj8L1+D+amZmZmZn5Pz4K16NwPfo\\u002f4XoUrkfh+j+F61G4HoX7Pylcj8L1KPw\\u002fzczMzMzM\\u002fD9xPQrXo3D9PxWuR+F6FP4\\u002fuB6F61G4\\u002fj9cj8L1KFz\\u002fPwAAAAAAAABA\"},\"xaxis\":\"x\",\"y\":{\"dtype\":\"f8\",\"bdata\":\"AAAAAAAA8D8AAAAAAADwPwAAAAAAAPA\\u002fAAAAAAAA8D8AAAAAAADwPwAAAAAAAPA\\u002fAAAAAAAA8D8AAAAAAADwPwAAAAAAAPA\\u002fAAAAAAAA8D8AAAAAAADwPwAAAAAAAPA\\u002fAAAAAAAA8D9gVn57tkfwPzQYxbMEMfE\\u002fkJWs+m3G8j896m\\u002fbk9L0P1Vn+lXMEfc\\u002fQfVOyYdI+T98XfJz0Uf7P2LlunKx7vw\\u002ffTZhK8Us\\u002fj8W3RKe7wP\\u002fP\\u002f1EkyOJhf8\\u002f0NPIF53K\\u002fz\\u002fCKnat+uH\\u002fP1z+oWwfn\\u002f8\\u002f8bpTajxO\\u002fj+mP\\u002fBYXwP7P\\u002fcxRhh2bvY\\u002fbr+3PFXU8j83eVmaFwHxP9E5mGshTvA\\u002fV+lRteoU8D\\u002fMgeKw\\u002fATwPxpjMlAQAfA\\u002f5lYDGjQA8D88ACX2CADwP2\\u002fcaWMBAPA\\u002fCx2tMQAA8D9FxUUGAADwP9JZtwAAAPA\\u002fYvESAAAA8D9sxQEAAADwP1wmAAAAAPA\\u002f7QIAAAAA8D8zAAAAAADwPwMAAAAAAPA\\u002fAAAAAAAA8D8AAAAAAADwPwAAAAAAAPA\\u002f\"},\"yaxis\":\"y\",\"type\":\"scatter\"}],\"name\":\"38\"},{\"data\":[{\"hovertemplate\":\"variable=39\\u003cbr\\u003ex=%{x}\\u003cbr\\u003evalue=%{y}\\u003cextra\\u003e\\u003c\\u002fextra\\u003e\",\"legendgroup\":\"\",\"line\":{\"color\":\"#636efa\",\"dash\":\"solid\"},\"marker\":{\"symbol\":\"circle\"},\"mode\":\"lines\",\"name\":\"\",\"orientation\":\"v\",\"showlegend\":false,\"x\":{\"dtype\":\"f8\",\"bdata\":\"AAAAAAAAAAB7FK5H4XqkP3sUrkfherQ\\u002fuB6F61G4vj97FK5H4XrEP5qZmZmZmck\\u002fuB6F61G4zj\\u002fsUbgehevRP3sUrkfhetQ\\u002fCtejcD0K1z+amZmZmZnZPylcj8L1KNw\\u002fuB6F61G43j+kcD0K16PgP+xRuB6F6+E\\u002fMzMzMzMz4z97FK5H4XrkP8P1KFyPwuU\\u002fCtejcD0K5z9SuB6F61HoP5qZmZmZmek\\u002f4XoUrkfh6j8pXI\\u002fC9SjsP3E9CtejcO0\\u002fuB6F61G47j8AAAAAAADwP6RwPQrXo\\u002fA\\u002fSOF6FK5H8T\\u002fsUbgehevxP4\\u002fC9Shcj\\u002fI\\u002fMzMzMzMz8z\\u002fXo3A9CtfzP3sUrkfhevQ\\u002fH4XrUbge9T\\u002fD9Shcj8L1P2dmZmZmZvY\\u002fCtejcD0K9z+uR+F6FK73P1K4HoXrUfg\\u002f9ihcj8L1+D+amZmZmZn5Pz4K16NwPfo\\u002f4XoUrkfh+j+F61G4HoX7Pylcj8L1KPw\\u002fzczMzMzM\\u002fD9xPQrXo3D9PxWuR+F6FP4\\u002fuB6F61G4\\u002fj9cj8L1KFz\\u002fPwAAAAAAAABA\"},\"xaxis\":\"x\",\"y\":{\"dtype\":\"f8\",\"bdata\":\"AAAAAAAA8D8AAAAAAADwPwAAAAAAAPA\\u002fAAAAAAAA8D8AAAAAAADwPwAAAAAAAPA\\u002fAAAAAAAA8D8AAAAAAADwPwAAAAAAAPA\\u002fAAAAAAAA8D8AAAAAAADwPwAAAAAAAPA\\u002fAAAAAAAA8D+ktOXSoUHwP7lkHOEgHPE\\u002fV7E8H8me8j+iWfS2u5n0PwW0HuquzPY\\u002fV1sxn+b9+D\\u002fKVUfYK\\u002f\\u002f6P3v5a2b4rvw\\u002fxyRe68f6\\u002fT89Z7KvLeH+P0grGzdCcP8\\u002fvGCC+Sy\\u002f\\u002fz\\u002f+z3NmGd7\\u002fP3B\\u002fnDsiqv8\\u002fPGbqKGmD\\u002fj95qGc99Xn7P6xeakl+9\\u002fY\\u002fagWfGcQu8z\\u002fh\\u002fyYNeSrxP2WX\\u002fBdUXfA\\u002f1iImgLUZ8D\\u002fg9ILwUAbwP9I8fAhkAfA\\u002fwlkYdEYA8D\\u002fsinmODADwP8WC+QQCAPA\\u002fooInSwAA8D9Ct+MJAADwP8biLQEAAPA\\u002fwaQgAAAA8D\\u002fBMwMAAADwP\\u002fNIAAAAAPA\\u002f4QUAAAAA8D9tAAAAAADwPwcAAAAAAPA\\u002fAAAAAAAA8D8AAAAAAADwPwAAAAAAAPA\\u002f\"},\"yaxis\":\"y\",\"type\":\"scatter\"}],\"name\":\"39\"},{\"data\":[{\"hovertemplate\":\"variable=40\\u003cbr\\u003ex=%{x}\\u003cbr\\u003evalue=%{y}\\u003cextra\\u003e\\u003c\\u002fextra\\u003e\",\"legendgroup\":\"\",\"line\":{\"color\":\"#636efa\",\"dash\":\"solid\"},\"marker\":{\"symbol\":\"circle\"},\"mode\":\"lines\",\"name\":\"\",\"orientation\":\"v\",\"showlegend\":false,\"x\":{\"dtype\":\"f8\",\"bdata\":\"AAAAAAAAAAB7FK5H4XqkP3sUrkfherQ\\u002fuB6F61G4vj97FK5H4XrEP5qZmZmZmck\\u002fuB6F61G4zj\\u002fsUbgehevRP3sUrkfhetQ\\u002fCtejcD0K1z+amZmZmZnZPylcj8L1KNw\\u002fuB6F61G43j+kcD0K16PgP+xRuB6F6+E\\u002fMzMzMzMz4z97FK5H4XrkP8P1KFyPwuU\\u002fCtejcD0K5z9SuB6F61HoP5qZmZmZmek\\u002f4XoUrkfh6j8pXI\\u002fC9SjsP3E9CtejcO0\\u002fuB6F61G47j8AAAAAAADwP6RwPQrXo\\u002fA\\u002fSOF6FK5H8T\\u002fsUbgehevxP4\\u002fC9Shcj\\u002fI\\u002fMzMzMzMz8z\\u002fXo3A9CtfzP3sUrkfhevQ\\u002fH4XrUbge9T\\u002fD9Shcj8L1P2dmZmZmZvY\\u002fCtejcD0K9z+uR+F6FK73P1K4HoXrUfg\\u002f9ihcj8L1+D+amZmZmZn5Pz4K16NwPfo\\u002f4XoUrkfh+j+F61G4HoX7Pylcj8L1KPw\\u002fzczMzMzM\\u002fD9xPQrXo3D9PxWuR+F6FP4\\u002fuB6F61G4\\u002fj9cj8L1KFz\\u002fPwAAAAAAAABA\"},\"xaxis\":\"x\",\"y\":{\"dtype\":\"f8\",\"bdata\":\"AAAAAAAA8D8AAAAAAADwPwAAAAAAAPA\\u002fAAAAAAAA8D8AAAAAAADwPwAAAAAAAPA\\u002fAAAAAAAA8D8AAAAAAADwPwAAAAAAAPA\\u002fAAAAAAAA8D8AAAAAAADwPwAAAAAAAPA\\u002fAAAAAAAA8D92C448EzzwP5V1PUmoCPE\\u002f0SualEl58j\\u002fb+ogzV2P0P4pOq5PVifY\\u002fMwkLgdm0+D9T3WZTALf6P\\u002fjrAWd2bvw\\u002fbkiVg\\u002fjG\\u002fT+YevCSH7z+P9d57JPUWP8\\u002fgk0ZfiCy\\u002fz\\u002fE6bx099j\\u002fP\\u002fwY+S+0sv8\\u002fnFWIyz+y\\u002fj\\u002f5W5xgN+n7P+fFaLiWgfc\\u002fAJm0JY2P8z9vBC\\u002fooVjxP+GsgDnQbvA\\u002fcBW1GmEf8D+VPHdK7wfwP29H9CTNAfA\\u002fy8zeQF4A8D955Z9hEQDwP31KxOUCAPA\\u002fUgP5bwAA8D84CFQPAADwP3u05wEAAPA\\u002flxQ3AAAA8D\\u002fWpwUAAADwPy+HAAAAAPA\\u002feAsAAAAA8D\\u002fhAAAAAADwPxAAAAAAAPA\\u002fAQAAAAAA8D8AAAAAAADwPwAAAAAAAPA\\u002f\"},\"yaxis\":\"y\",\"type\":\"scatter\"}],\"name\":\"40\"},{\"data\":[{\"hovertemplate\":\"variable=41\\u003cbr\\u003ex=%{x}\\u003cbr\\u003evalue=%{y}\\u003cextra\\u003e\\u003c\\u002fextra\\u003e\",\"legendgroup\":\"\",\"line\":{\"color\":\"#636efa\",\"dash\":\"solid\"},\"marker\":{\"symbol\":\"circle\"},\"mode\":\"lines\",\"name\":\"\",\"orientation\":\"v\",\"showlegend\":false,\"x\":{\"dtype\":\"f8\",\"bdata\":\"AAAAAAAAAAB7FK5H4XqkP3sUrkfherQ\\u002fuB6F61G4vj97FK5H4XrEP5qZmZmZmck\\u002fuB6F61G4zj\\u002fsUbgehevRP3sUrkfhetQ\\u002fCtejcD0K1z+amZmZmZnZPylcj8L1KNw\\u002fuB6F61G43j+kcD0K16PgP+xRuB6F6+E\\u002fMzMzMzMz4z97FK5H4XrkP8P1KFyPwuU\\u002fCtejcD0K5z9SuB6F61HoP5qZmZmZmek\\u002f4XoUrkfh6j8pXI\\u002fC9SjsP3E9CtejcO0\\u002fuB6F61G47j8AAAAAAADwP6RwPQrXo\\u002fA\\u002fSOF6FK5H8T\\u002fsUbgehevxP4\\u002fC9Shcj\\u002fI\\u002fMzMzMzMz8z\\u002fXo3A9CtfzP3sUrkfhevQ\\u002fH4XrUbge9T\\u002fD9Shcj8L1P2dmZmZmZvY\\u002fCtejcD0K9z+uR+F6FK73P1K4HoXrUfg\\u002f9ihcj8L1+D+amZmZmZn5Pz4K16NwPfo\\u002f4XoUrkfh+j+F61G4HoX7Pylcj8L1KPw\\u002fzczMzMzM\\u002fD9xPQrXo3D9PxWuR+F6FP4\\u002fuB6F61G4\\u002fj9cj8L1KFz\\u002fPwAAAAAAAABA\"},\"xaxis\":\"x\",\"y\":{\"dtype\":\"f8\",\"bdata\":\"AAAAAAAA8D8AAAAAAADwPwAAAAAAAPA\\u002fAAAAAAAA8D8AAAAAAADwPwAAAAAAAPA\\u002fAAAAAAAA8D8AAAAAAADwPwAAAAAAAPA\\u002fAAAAAAAA8D8AAAAAAADwPwAAAAAAAPA\\u002fAAAAAAAA8D+rGSXW\\u002fjbwP0pGQt2B9vA\\u002f\\u002fFnzl9FV8j+Qxw2QTS\\u002f0P44wH5I2SfY\\u002fTBHzOm5t+D+AlwpZdm\\u002f6P4oSKQRjLfw\\u002f9GQtg4qR\\u002fT\\u002flRKVE4ZT+P3QU+Nk+P\\u002f8\\u002f0\\u002f92uWKj\\u002fz9uNAYxhtL\\u002fP3nBA1QFuf8\\u002fzB6tEUDb\\u002fj+f09mo3lD8P+qFsGGkC\\u002fg\\u002f8L3f7XP28z\\u002fQ3i3G2YvxP5Uhb1DTgvA\\u002fyTUOrgwm8D84FTBp5AnwP80GJQxQAvA\\u002fpLKU1HwA8D+aw5bJFwDwPwd6wRoEAPA\\u002fBaB0pAAA8D\\u002fXx2EXAADwP8sQBgMAAPA\\u002f6iFbAAAA8D87xgkAAADwP5L0AAAAAPA\\u002fxxUAAAAA8D\\u002fDAQAAAADwPyEAAAAAAPA\\u002fAgAAAAAA8D8AAAAAAADwPwAAAAAAAPA\\u002f\"},\"yaxis\":\"y\",\"type\":\"scatter\"}],\"name\":\"41\"},{\"data\":[{\"hovertemplate\":\"variable=42\\u003cbr\\u003ex=%{x}\\u003cbr\\u003evalue=%{y}\\u003cextra\\u003e\\u003c\\u002fextra\\u003e\",\"legendgroup\":\"\",\"line\":{\"color\":\"#636efa\",\"dash\":\"solid\"},\"marker\":{\"symbol\":\"circle\"},\"mode\":\"lines\",\"name\":\"\",\"orientation\":\"v\",\"showlegend\":false,\"x\":{\"dtype\":\"f8\",\"bdata\":\"AAAAAAAAAAB7FK5H4XqkP3sUrkfherQ\\u002fuB6F61G4vj97FK5H4XrEP5qZmZmZmck\\u002fuB6F61G4zj\\u002fsUbgehevRP3sUrkfhetQ\\u002fCtejcD0K1z+amZmZmZnZPylcj8L1KNw\\u002fuB6F61G43j+kcD0K16PgP+xRuB6F6+E\\u002fMzMzMzMz4z97FK5H4XrkP8P1KFyPwuU\\u002fCtejcD0K5z9SuB6F61HoP5qZmZmZmek\\u002f4XoUrkfh6j8pXI\\u002fC9SjsP3E9CtejcO0\\u002fuB6F61G47j8AAAAAAADwP6RwPQrXo\\u002fA\\u002fSOF6FK5H8T\\u002fsUbgehevxP4\\u002fC9Shcj\\u002fI\\u002fMzMzMzMz8z\\u002fXo3A9CtfzP3sUrkfhevQ\\u002fH4XrUbge9T\\u002fD9Shcj8L1P2dmZmZmZvY\\u002fCtejcD0K9z+uR+F6FK73P1K4HoXrUfg\\u002f9ihcj8L1+D+amZmZmZn5Pz4K16NwPfo\\u002f4XoUrkfh+j+F61G4HoX7Pylcj8L1KPw\\u002fzczMzMzM\\u002fD9xPQrXo3D9PxWuR+F6FP4\\u002fuB6F61G4\\u002fj9cj8L1KFz\\u002fPwAAAAAAAABA\"},\"xaxis\":\"x\",\"y\":{\"dtype\":\"f8\",\"bdata\":\"AAAAAAAA8D8AAAAAAADwPwAAAAAAAPA\\u002fAAAAAAAA8D8AAAAAAADwPwAAAAAAAPA\\u002fAAAAAAAA8D8AAAAAAADwPwAAAAAAAPA\\u002fAAAAAAAA8D8AAAAAAADwPwAAAAAAAPA\\u002fAAAAAAAA8D94UPfYWTLwP9JU62WW5fA\\u002fjPKlF0U08j85\\u002f+uphv3zP21\\u002fvcHGCvY\\u002frzLX0K4n+D8dTW0rsCj6P5DTxMHx6\\u002fs\\u002fy246PbFa\\u002fT\\u002fSBO+dkmv+P\\u002f1qt\\u002fSEI\\u002f8\\u002fCLoZYuKS\\u002fz9KMaYctsr\\u002fP7HzPAs8vf8\\u002fPikLI+T+\\u002fj9DlEt4ybD8P6jGj\\u002fSNlPg\\u002fubnUqx9j9D9MGJsBYsTxP\\u002fzf+MSdmfA\\u002fpfEGSdot8D+IZvqMPgzwP5\\u002fh79XxAvA\\u002fgX0QxaMA8D+YcTg1IADwPzYBqb4FAPA\\u002f0l9Q7gAA8D\\u002fsWSMjAADwPwxguAQAAPA\\u002fJwuUAAAA8D\\u002ffjRAAAADwP7WwAQAAAPA\\u002fWCgAAAAA8D9uAwAAAADwP0QAAAAAAPA\\u002fBQAAAAAA8D8AAAAAAADwPwAAAAAAAPA\\u002f\"},\"yaxis\":\"y\",\"type\":\"scatter\"}],\"name\":\"42\"},{\"data\":[{\"hovertemplate\":\"variable=43\\u003cbr\\u003ex=%{x}\\u003cbr\\u003evalue=%{y}\\u003cextra\\u003e\\u003c\\u002fextra\\u003e\",\"legendgroup\":\"\",\"line\":{\"color\":\"#636efa\",\"dash\":\"solid\"},\"marker\":{\"symbol\":\"circle\"},\"mode\":\"lines\",\"name\":\"\",\"orientation\":\"v\",\"showlegend\":false,\"x\":{\"dtype\":\"f8\",\"bdata\":\"AAAAAAAAAAB7FK5H4XqkP3sUrkfherQ\\u002fuB6F61G4vj97FK5H4XrEP5qZmZmZmck\\u002fuB6F61G4zj\\u002fsUbgehevRP3sUrkfhetQ\\u002fCtejcD0K1z+amZmZmZnZPylcj8L1KNw\\u002fuB6F61G43j+kcD0K16PgP+xRuB6F6+E\\u002fMzMzMzMz4z97FK5H4XrkP8P1KFyPwuU\\u002fCtejcD0K5z9SuB6F61HoP5qZmZmZmek\\u002f4XoUrkfh6j8pXI\\u002fC9SjsP3E9CtejcO0\\u002fuB6F61G47j8AAAAAAADwP6RwPQrXo\\u002fA\\u002fSOF6FK5H8T\\u002fsUbgehevxP4\\u002fC9Shcj\\u002fI\\u002fMzMzMzMz8z\\u002fXo3A9CtfzP3sUrkfhevQ\\u002fH4XrUbge9T\\u002fD9Shcj8L1P2dmZmZmZvY\\u002fCtejcD0K9z+uR+F6FK73P1K4HoXrUfg\\u002f9ihcj8L1+D+amZmZmZn5Pz4K16NwPfo\\u002f4XoUrkfh+j+F61G4HoX7Pylcj8L1KPw\\u002fzczMzMzM\\u002fD9xPQrXo3D9PxWuR+F6FP4\\u002fuB6F61G4\\u002fj9cj8L1KFz\\u002fPwAAAAAAAABA\"},\"xaxis\":\"x\",\"y\":{\"dtype\":\"f8\",\"bdata\":\"AAAAAAAA8D8AAAAAAADwPwAAAAAAAPA\\u002fAAAAAAAA8D8AAAAAAADwPwAAAAAAAPA\\u002fAAAAAAAA8D8AAAAAAADwPwAAAAAAAPA\\u002fAAAAAAAA8D8AAAAAAADwPwAAAAAAAPA\\u002fAAAAAAAA8D\\u002faUkJ9Gi7wP21uOFzQ1fA\\u002fJ\\u002fvmmYkU8j\\u002fTiwAP683zP8PPmu55zvU\\u002ft0NSA6Lj9z831IBFy+L5P\\u002fVu0f5Rqvs\\u002fn\\u002fzvFJ8i\\u002fT\\u002ffZYKDVkD+P++De8yvBf8\\u002ffHgWGpKA\\u002fz+NN9Kmd8H\\u002fP0evbF52v\\u002f8\\u002fkelzkJ4d\\u002fz\\u002f7V4Rf9wj9PxwgiodDG\\u002fk\\u002fdIUBrBrV9D8cY6yEcwLyP8mtkX5ys\\u002fA\\u002fKRlb+u428D+wf\\u002f+rDQ\\u002fwP\\u002fRRCV+4A\\u002fA\\u002fzWka89QA8D+y2fUrKwDwP\\u002fG\\u002fNfMHAPA\\u002fP3MCVQEA8D86xRE0AADwPzVKQQcAAPA\\u002fj2fsAAAA8D\\u002f6ghsAAADwP87tAgAAAPA\\u002fCkkAAAAA8D+CBgAAAADwP4gAAAAAAPA\\u002fCgAAAAAA8D8AAAAAAADwPwAAAAAAAPA\\u002f\"},\"yaxis\":\"y\",\"type\":\"scatter\"}],\"name\":\"43\"},{\"data\":[{\"hovertemplate\":\"variable=44\\u003cbr\\u003ex=%{x}\\u003cbr\\u003evalue=%{y}\\u003cextra\\u003e\\u003c\\u002fextra\\u003e\",\"legendgroup\":\"\",\"line\":{\"color\":\"#636efa\",\"dash\":\"solid\"},\"marker\":{\"symbol\":\"circle\"},\"mode\":\"lines\",\"name\":\"\",\"orientation\":\"v\",\"showlegend\":false,\"x\":{\"dtype\":\"f8\",\"bdata\":\"AAAAAAAAAAB7FK5H4XqkP3sUrkfherQ\\u002fuB6F61G4vj97FK5H4XrEP5qZmZmZmck\\u002fuB6F61G4zj\\u002fsUbgehevRP3sUrkfhetQ\\u002fCtejcD0K1z+amZmZmZnZPylcj8L1KNw\\u002fuB6F61G43j+kcD0K16PgP+xRuB6F6+E\\u002fMzMzMzMz4z97FK5H4XrkP8P1KFyPwuU\\u002fCtejcD0K5z9SuB6F61HoP5qZmZmZmek\\u002f4XoUrkfh6j8pXI\\u002fC9SjsP3E9CtejcO0\\u002fuB6F61G47j8AAAAAAADwP6RwPQrXo\\u002fA\\u002fSOF6FK5H8T\\u002fsUbgehevxP4\\u002fC9Shcj\\u002fI\\u002fMzMzMzMz8z\\u002fXo3A9CtfzP3sUrkfhevQ\\u002fH4XrUbge9T\\u002fD9Shcj8L1P2dmZmZmZvY\\u002fCtejcD0K9z+uR+F6FK73P1K4HoXrUfg\\u002f9ihcj8L1+D+amZmZmZn5Pz4K16NwPfo\\u002f4XoUrkfh+j+F61G4HoX7Pylcj8L1KPw\\u002fzczMzMzM\\u002fD9xPQrXo3D9PxWuR+F6FP4\\u002fuB6F61G4\\u002fj9cj8L1KFz\\u002fPwAAAAAAAABA\"},\"xaxis\":\"x\",\"y\":{\"dtype\":\"f8\",\"bdata\":\"AAAAAAAA8D8AAAAAAADwPwAAAAAAAPA\\u002fAAAAAAAA8D8AAAAAAADwPwAAAAAAAPA\\u002fAAAAAAAA8D8AAAAAAADwPwAAAAAAAPA\\u002fAAAAAAAA8D8AAAAAAADwPwAAAAAAAPA\\u002fAAAAAAAA8D\\u002fsycfgNyrwP8pT4MUbx\\u002fA\\u002fYjNnJIb28T+vjKgJZKDzPy9aBBpDlPU\\u002fuGs7xkuh9z95idHF4J35PzPzmfWuaPs\\u002fc+rT6oTp\\u002fD86zVgcUhP+P+0qA9\\u002fM5f4\\u002f\\u002fe7Ym2hs\\u002fz+RHOncu7b\\u002fP+CJ9T3Lv\\u002f8\\u002fdDWhCtk3\\u002fz\\u002fI+M8qhFn9PzshV8HFnvk\\u002fcWEysNJL9T+HljlqPEbyP\\u002fEKI1mW0PA\\u002fcYxX5XJB8D8BPPiSYxLwP8pkql2qBPA\\u002fjWyilBIB8D8tvQlSOQDwP8aMnOIKAPA\\u002fD3Ax4gEA8D8J1CVMAADwP3dU\\u002fQoAAPA\\u002fcnpzAQAA8D9c6ywAAADwPzz6BAAAAPA\\u002fcIEAAAAA8D8NDAAAAADwPwgBAAAAAPA\\u002fFQAAAAAA8D8BAAAAAADwPwAAAAAAAPA\\u002f\"},\"yaxis\":\"y\",\"type\":\"scatter\"}],\"name\":\"44\"},{\"data\":[{\"hovertemplate\":\"variable=45\\u003cbr\\u003ex=%{x}\\u003cbr\\u003evalue=%{y}\\u003cextra\\u003e\\u003c\\u002fextra\\u003e\",\"legendgroup\":\"\",\"line\":{\"color\":\"#636efa\",\"dash\":\"solid\"},\"marker\":{\"symbol\":\"circle\"},\"mode\":\"lines\",\"name\":\"\",\"orientation\":\"v\",\"showlegend\":false,\"x\":{\"dtype\":\"f8\",\"bdata\":\"AAAAAAAAAAB7FK5H4XqkP3sUrkfherQ\\u002fuB6F61G4vj97FK5H4XrEP5qZmZmZmck\\u002fuB6F61G4zj\\u002fsUbgehevRP3sUrkfhetQ\\u002fCtejcD0K1z+amZmZmZnZPylcj8L1KNw\\u002fuB6F61G43j+kcD0K16PgP+xRuB6F6+E\\u002fMzMzMzMz4z97FK5H4XrkP8P1KFyPwuU\\u002fCtejcD0K5z9SuB6F61HoP5qZmZmZmek\\u002f4XoUrkfh6j8pXI\\u002fC9SjsP3E9CtejcO0\\u002fuB6F61G47j8AAAAAAADwP6RwPQrXo\\u002fA\\u002fSOF6FK5H8T\\u002fsUbgehevxP4\\u002fC9Shcj\\u002fI\\u002fMzMzMzMz8z\\u002fXo3A9CtfzP3sUrkfhevQ\\u002fH4XrUbge9T\\u002fD9Shcj8L1P2dmZmZmZvY\\u002fCtejcD0K9z+uR+F6FK73P1K4HoXrUfg\\u002f9ihcj8L1+D+amZmZmZn5Pz4K16NwPfo\\u002f4XoUrkfh+j+F61G4HoX7Pylcj8L1KPw\\u002fzczMzMzM\\u002fD9xPQrXo3D9PxWuR+F6FP4\\u002fuB6F61G4\\u002fj9cj8L1KFz\\u002fPwAAAAAAAABA\"},\"xaxis\":\"x\",\"y\":{\"dtype\":\"f8\",\"bdata\":\"AAAAAAAA8D8AAAAAAADwPwAAAAAAAPA\\u002fAAAAAAAA8D8AAAAAAADwPwAAAAAAAPA\\u002fAAAAAAAA8D8AAAAAAADwPwAAAAAAAPA\\u002fAAAAAAAA8D8AAAAAAADwPwAAAAAAAPA\\u002fAAAAAAAA8D82iTTwqSbwP4RtOBVmufA\\u002fcQwZJSPa8T9mYCuo23TzP10gQLQUXPU\\u002fEp7Jqa1g9z9qK0\\u002fXBVr5Pyh4x88vJ\\u002fs\\u002f8W0BqZGv\\u002fD\\u002fVM\\u002fIUrOT9P9\\u002fKlsXtw\\u002f4\\u002f\\u002fT4Vy2BW\\u002fz+J4xgEdar\\u002fP8h4ZrVLvv8\\u002fAyCksPNN\\u002fz+AVZCqoqL9P0twdhAsHvo\\u002fIsq2a5rG9T9yCqh93Y\\u002fyPzCkDnNP8fA\\u002fhBFRT5FN8D+c0lcGVBbwP24BenfPBfA\\u002fK9DbP18B8D9kqCxtSwDwP2udPcEOAPA\\u002funM6ogIA8D+rIfxtAADwPxxfaxAAAPA\\u002fSPc+AgAA8D\\u002fzIUgAAADwP1ROCAAAAPA\\u002f1uAAAAAA8D\\u002fVFQAAAADwP\\u002fMBAAAAAPA\\u002fKQAAAAAA8D8DAAAAAADwPwAAAAAAAPA\\u002f\"},\"yaxis\":\"y\",\"type\":\"scatter\"}],\"name\":\"45\"},{\"data\":[{\"hovertemplate\":\"variable=46\\u003cbr\\u003ex=%{x}\\u003cbr\\u003evalue=%{y}\\u003cextra\\u003e\\u003c\\u002fextra\\u003e\",\"legendgroup\":\"\",\"line\":{\"color\":\"#636efa\",\"dash\":\"solid\"},\"marker\":{\"symbol\":\"circle\"},\"mode\":\"lines\",\"name\":\"\",\"orientation\":\"v\",\"showlegend\":false,\"x\":{\"dtype\":\"f8\",\"bdata\":\"AAAAAAAAAAB7FK5H4XqkP3sUrkfherQ\\u002fuB6F61G4vj97FK5H4XrEP5qZmZmZmck\\u002fuB6F61G4zj\\u002fsUbgehevRP3sUrkfhetQ\\u002fCtejcD0K1z+amZmZmZnZPylcj8L1KNw\\u002fuB6F61G43j+kcD0K16PgP+xRuB6F6+E\\u002fMzMzMzMz4z97FK5H4XrkP8P1KFyPwuU\\u002fCtejcD0K5z9SuB6F61HoP5qZmZmZmek\\u002f4XoUrkfh6j8pXI\\u002fC9SjsP3E9CtejcO0\\u002fuB6F61G47j8AAAAAAADwP6RwPQrXo\\u002fA\\u002fSOF6FK5H8T\\u002fsUbgehevxP4\\u002fC9Shcj\\u002fI\\u002fMzMzMzMz8z\\u002fXo3A9CtfzP3sUrkfhevQ\\u002fH4XrUbge9T\\u002fD9Shcj8L1P2dmZmZmZvY\\u002fCtejcD0K9z+uR+F6FK73P1K4HoXrUfg\\u002f9ihcj8L1+D+amZmZmZn5Pz4K16NwPfo\\u002f4XoUrkfh+j+F61G4HoX7Pylcj8L1KPw\\u002fzczMzMzM\\u002fD9xPQrXo3D9PxWuR+F6FP4\\u002fuB6F61G4\\u002fj9cj8L1KFz\\u002fPwAAAAAAAABA\"},\"xaxis\":\"x\",\"y\":{\"dtype\":\"f8\",\"bdata\":\"AAAAAAAA8D8AAAAAAADwPwAAAAAAAPA\\u002fAAAAAAAA8D8AAAAAAADwPwAAAAAAAPA\\u002fAAAAAAAA8D8AAAAAAADwPwAAAAAAAPA\\u002fAAAAAAAA8D8AAAAAAADwPwAAAAAAAPA\\u002fAAAAAAAA8D+d\\u002f\\u002f9SaSPwP1\\u002fvKgyerPA\\u002fAOEsXEq\\u002f8T9HgYHAPEvzP59iY8zgJfU\\u002flQ5NN8ch9z8bHgIWTBf5PxZpecn35fo\\u002f1rLL6\\u002fF0\\u002fD9RmeXyi7T9P6jUyq4noP4\\u002ftEmDq3k+\\u002fz+usxMbl5z\\u002fP1aMfgwEu\\u002f8\\u002fXICh2ERg\\u002fz\\u002fiFouIl+T9P7a+L6GpmPo\\u002f1WbvJaxE9j\\u002fS+cutZ9\\u002fyP\\u002fqYG0\\u002fkFfE\\u002fIXDOo3hb8D\\u002fa7J7j9BrwP6e8rlgwB\\u002fA\\u002fhZ5H970B8D\\u002fXRtJpYgDwP5kyls8TAPA\\u002fGTfQpAMA8D9vVAGdAADwP1tvNxgAAPA\\u002fRFVtAwAA8D8PCXIAAADwP\\u002fefDQAAAPA\\u002fS38BAAAA8D\\u002fAJgAAAADwP5sDAAAAAPA\\u002fTwAAAAAA8D8GAAAAAADwPwAAAAAAAPA\\u002f\"},\"yaxis\":\"y\",\"type\":\"scatter\"}],\"name\":\"46\"},{\"data\":[{\"hovertemplate\":\"variable=47\\u003cbr\\u003ex=%{x}\\u003cbr\\u003evalue=%{y}\\u003cextra\\u003e\\u003c\\u002fextra\\u003e\",\"legendgroup\":\"\",\"line\":{\"color\":\"#636efa\",\"dash\":\"solid\"},\"marker\":{\"symbol\":\"circle\"},\"mode\":\"lines\",\"name\":\"\",\"orientation\":\"v\",\"showlegend\":false,\"x\":{\"dtype\":\"f8\",\"bdata\":\"AAAAAAAAAAB7FK5H4XqkP3sUrkfherQ\\u002fuB6F61G4vj97FK5H4XrEP5qZmZmZmck\\u002fuB6F61G4zj\\u002fsUbgehevRP3sUrkfhetQ\\u002fCtejcD0K1z+amZmZmZnZPylcj8L1KNw\\u002fuB6F61G43j+kcD0K16PgP+xRuB6F6+E\\u002fMzMzMzMz4z97FK5H4XrkP8P1KFyPwuU\\u002fCtejcD0K5z9SuB6F61HoP5qZmZmZmek\\u002f4XoUrkfh6j8pXI\\u002fC9SjsP3E9CtejcO0\\u002fuB6F61G47j8AAAAAAADwP6RwPQrXo\\u002fA\\u002fSOF6FK5H8T\\u002fsUbgehevxP4\\u002fC9Shcj\\u002fI\\u002fMzMzMzMz8z\\u002fXo3A9CtfzP3sUrkfhevQ\\u002fH4XrUbge9T\\u002fD9Shcj8L1P2dmZmZmZvY\\u002fCtejcD0K9z+uR+F6FK73P1K4HoXrUfg\\u002f9ihcj8L1+D+amZmZmZn5Pz4K16NwPfo\\u002f4XoUrkfh+j+F61G4HoX7Pylcj8L1KPw\\u002fzczMzMzM\\u002fD9xPQrXo3D9PxWuR+F6FP4\\u002fuB6F61G4\\u002fj9cj8L1KFz\\u002fPwAAAAAAAABA\"},\"xaxis\":\"x\",\"y\":{\"dtype\":\"f8\",\"bdata\":\"AAAAAAAA8D8AAAAAAADwPwAAAAAAAPA\\u002fAAAAAAAA8D8AAAAAAADwPwAAAAAAAPA\\u002fAAAAAAAA8D8AAAAAAADwPwAAAAAAAPA\\u002fAAAAAAAA8D8AAAAAAADwPwAAAAAAAPA\\u002fAAAAAAAA8D9kS3VZbyDwPz1l5aGzoPA\\u002fESxMx+al8T\\u002fhiEbxciPzP+0RwTeZ8fQ\\u002fKpWRQpbk9j8myFnuwdX4PyB8R18mpfo\\u002f2AGfw885\\u002fD\\u002fB3CF7GYP9P9NOoNGSev4\\u002fsiLoP7Yk\\u002fz+y+xNDGI3\\u002fP2aVxNL8tf8\\u002fSeXPNxlv\\u002fz+PjxpqtB\\u002f+P6Eqdd6QDfs\\u002fJ2uYfC3F9j\\u002fRaqaM2TTzP2++5MWaPvE\\u002fA7vpbFpr8D\\u002f3KG5CXiDwP+ZqZ8zWCPA\\u002foP62NjIC8D\\u002fn3fhgfwDwP92leFwaAPA\\u002fmlq2\\u002fQQA8D\\u002fN6afdAADwP4NCSCMAAPA\\u002fcdcoBQAA8D++pLEAAADwPw7+FQAAAPA\\u002fBIICAAAA8D92QwAAAADwP4kGAAAAAPA\\u002flQAAAAAA8D8MAAAAAADwPwAAAAAAAPA\\u002f\"},\"yaxis\":\"y\",\"type\":\"scatter\"}],\"name\":\"47\"},{\"data\":[{\"hovertemplate\":\"variable=48\\u003cbr\\u003ex=%{x}\\u003cbr\\u003evalue=%{y}\\u003cextra\\u003e\\u003c\\u002fextra\\u003e\",\"legendgroup\":\"\",\"line\":{\"color\":\"#636efa\",\"dash\":\"solid\"},\"marker\":{\"symbol\":\"circle\"},\"mode\":\"lines\",\"name\":\"\",\"orientation\":\"v\",\"showlegend\":false,\"x\":{\"dtype\":\"f8\",\"bdata\":\"AAAAAAAAAAB7FK5H4XqkP3sUrkfherQ\\u002fuB6F61G4vj97FK5H4XrEP5qZmZmZmck\\u002fuB6F61G4zj\\u002fsUbgehevRP3sUrkfhetQ\\u002fCtejcD0K1z+amZmZmZnZPylcj8L1KNw\\u002fuB6F61G43j+kcD0K16PgP+xRuB6F6+E\\u002fMzMzMzMz4z97FK5H4XrkP8P1KFyPwuU\\u002fCtejcD0K5z9SuB6F61HoP5qZmZmZmek\\u002f4XoUrkfh6j8pXI\\u002fC9SjsP3E9CtejcO0\\u002fuB6F61G47j8AAAAAAADwP6RwPQrXo\\u002fA\\u002fSOF6FK5H8T\\u002fsUbgehevxP4\\u002fC9Shcj\\u002fI\\u002fMzMzMzMz8z\\u002fXo3A9CtfzP3sUrkfhevQ\\u002fH4XrUbge9T\\u002fD9Shcj8L1P2dmZmZmZvY\\u002fCtejcD0K9z+uR+F6FK73P1K4HoXrUfg\\u002f9ihcj8L1+D+amZmZmZn5Pz4K16NwPfo\\u002f4XoUrkfh+j+F61G4HoX7Pylcj8L1KPw\\u002fzczMzMzM\\u002fD9xPQrXo3D9PxWuR+F6FP4\\u002fuB6F61G4\\u002fj9cj8L1KFz\\u002fPwAAAAAAAABA\"},\"xaxis\":\"x\",\"y\":{\"dtype\":\"f8\",\"bdata\":\"AAAAAAAA8D8AAAAAAADwPwAAAAAAAPA\\u002fAAAAAAAA8D8AAAAAAADwPwAAAAAAAPA\\u002fAAAAAAAA8D8AAAAAAADwPwAAAAAAAPA\\u002fAAAAAAAA8D8AAAAAAADwPwAAAAAAAPA\\u002fAAAAAAAA8D8UdaLstR3wP6Df8+qXlfA\\u002fCN4TjuSN8T+yv3ygav3yP6h4PLIvv\\u002fQ\\u002fu3z\\u002fMBep9j+4bUL2cpX4P+a+uYPXZPo\\u002frjPQjFL++z+MchUsfFD9P4MhG99JU\\u002f4\\u002f0k+gVB0J\\u002fz+qhRAQ8Xv\\u002fP\\u002ftmltM7r\\u002f8\\u002fUOW5UbR6\\u002fz8i9VeMU1T+P5cNqmlVfPs\\u002fvjuGKTRH9z+Ni4b7HJDzP8NrS8O2a\\u002fE\\u002f7JADPWt98D\\u002fnms+UqibwP9btNNbNCvA\\u002fFq1OAcAC8D9M3JOeowDwP8szkcciAPA\\u002fFm+cxQYA8D+hIqk1AQDwP0E70DIAAPA\\u002fs3WrBwAA8D\\u002f46BABAADwP532IgAAAPA\\u002fsCEEAAAA8D9XcwAAAADwP50LAAAAAPA\\u002fFAEAAAAA8D8XAAAAAADwPwAAAAAAAPA\\u002f\"},\"yaxis\":\"y\",\"type\":\"scatter\"}],\"name\":\"48\"},{\"data\":[{\"hovertemplate\":\"variable=49\\u003cbr\\u003ex=%{x}\\u003cbr\\u003evalue=%{y}\\u003cextra\\u003e\\u003c\\u002fextra\\u003e\",\"legendgroup\":\"\",\"line\":{\"color\":\"#636efa\",\"dash\":\"solid\"},\"marker\":{\"symbol\":\"circle\"},\"mode\":\"lines\",\"name\":\"\",\"orientation\":\"v\",\"showlegend\":false,\"x\":{\"dtype\":\"f8\",\"bdata\":\"AAAAAAAAAAB7FK5H4XqkP3sUrkfherQ\\u002fuB6F61G4vj97FK5H4XrEP5qZmZmZmck\\u002fuB6F61G4zj\\u002fsUbgehevRP3sUrkfhetQ\\u002fCtejcD0K1z+amZmZmZnZPylcj8L1KNw\\u002fuB6F61G43j+kcD0K16PgP+xRuB6F6+E\\u002fMzMzMzMz4z97FK5H4XrkP8P1KFyPwuU\\u002fCtejcD0K5z9SuB6F61HoP5qZmZmZmek\\u002f4XoUrkfh6j8pXI\\u002fC9SjsP3E9CtejcO0\\u002fuB6F61G47j8AAAAAAADwP6RwPQrXo\\u002fA\\u002fSOF6FK5H8T\\u002fsUbgehevxP4\\u002fC9Shcj\\u002fI\\u002fMzMzMzMz8z\\u002fXo3A9CtfzP3sUrkfhevQ\\u002fH4XrUbge9T\\u002fD9Shcj8L1P2dmZmZmZvY\\u002fCtejcD0K9z+uR+F6FK73P1K4HoXrUfg\\u002f9ihcj8L1+D+amZmZmZn5Pz4K16NwPfo\\u002f4XoUrkfh+j+F61G4HoX7Pylcj8L1KPw\\u002fzczMzMzM\\u002fD9xPQrXo3D9PxWuR+F6FP4\\u002fuB6F61G4\\u002fj9cj8L1KFz\\u002fPwAAAAAAAABA\"},\"xaxis\":\"x\",\"y\":{\"dtype\":\"f8\",\"bdata\":\"AAAAAAAA8D8AAAAAAADwPwAAAAAAAPA\\u002fAAAAAAAA8D8AAAAAAADwPwAAAAAAAPA\\u002fAAAAAAAA8D8AAAAAAADwPwAAAAAAAPA\\u002fAAAAAAAA8D8AAAAAAADwPwAAAAAAAPA\\u002fAAAAAAAA8D+eufN\\u002fNxvwPy\\u002f1hQM9i\\u002fA\\u002f7dPH7zB38T9SGqj4ENnyP0wTnfiVjvQ\\u002fp8+IN0Vv9j+YUpQ\\u002faFb4Pxy5YtkjJfo\\u002fQSkM2p7C+z8GGvzL2hz9P9Y+o3ZpKv4\\u002fsOJLObnr\\u002fj\\u002f0SKjAHGn\\u002fPye+OfHEpv8\\u002fd2khGlGD\\u002fz9CoJ7104L+P+li25OM5Ps\\u002fUt4imsvJ9z+UWbInBfHzPxEI7M14nfE\\u002f3B94huKR8D\\u002ftYAjG9i3wP4uFyswhDfA\\u002ffKKU8GsD8D9\\u002fmpqo0ADwP38YPoQtAPA\\u002fXnwcGwkA8D9Ox1KsAQDwP85OYkgAAPA\\u002fgdtDCwAA8D8Iyp0BAADwP8\\u002fKNgAAAPA\\u002fbrMGAAAA8D\\u002fewQAAAADwP0IUAAAAAPA\\u002f9QEAAAAA8D8sAAAAAADwPwAAAAAAAPA\\u002f\"},\"yaxis\":\"y\",\"type\":\"scatter\"}],\"name\":\"49\"},{\"data\":[{\"hovertemplate\":\"variable=50\\u003cbr\\u003ex=%{x}\\u003cbr\\u003evalue=%{y}\\u003cextra\\u003e\\u003c\\u002fextra\\u003e\",\"legendgroup\":\"\",\"line\":{\"color\":\"#636efa\",\"dash\":\"solid\"},\"marker\":{\"symbol\":\"circle\"},\"mode\":\"lines\",\"name\":\"\",\"orientation\":\"v\",\"showlegend\":false,\"x\":{\"dtype\":\"f8\",\"bdata\":\"AAAAAAAAAAB7FK5H4XqkP3sUrkfherQ\\u002fuB6F61G4vj97FK5H4XrEP5qZmZmZmck\\u002fuB6F61G4zj\\u002fsUbgehevRP3sUrkfhetQ\\u002fCtejcD0K1z+amZmZmZnZPylcj8L1KNw\\u002fuB6F61G43j+kcD0K16PgP+xRuB6F6+E\\u002fMzMzMzMz4z97FK5H4XrkP8P1KFyPwuU\\u002fCtejcD0K5z9SuB6F61HoP5qZmZmZmek\\u002f4XoUrkfh6j8pXI\\u002fC9SjsP3E9CtejcO0\\u002fuB6F61G47j8AAAAAAADwP6RwPQrXo\\u002fA\\u002fSOF6FK5H8T\\u002fsUbgehevxP4\\u002fC9Shcj\\u002fI\\u002fMzMzMzMz8z\\u002fXo3A9CtfzP3sUrkfhevQ\\u002fH4XrUbge9T\\u002fD9Shcj8L1P2dmZmZmZvY\\u002fCtejcD0K9z+uR+F6FK73P1K4HoXrUfg\\u002f9ihcj8L1+D+amZmZmZn5Pz4K16NwPfo\\u002f4XoUrkfh+j+F61G4HoX7Pylcj8L1KPw\\u002fzczMzMzM\\u002fD9xPQrXo3D9PxWuR+F6FP4\\u002fuB6F61G4\\u002fj9cj8L1KFz\\u002fPwAAAAAAAABA\"},\"xaxis\":\"x\",\"y\":{\"dtype\":\"f8\",\"bdata\":\"AAAAAAAA8D8AAAAAAADwPwAAAAAAAPA\\u002fAAAAAAAA8D8AAAAAAADwPwAAAAAAAPA\\u002fAAAAAAAA8D8AAAAAAADwPwAAAAAAAPA\\u002fAAAAAAAA8D8AAAAAAADwPwAAAAAAAPA\\u002fAAAAAAAA8D\\u002f2t0gE7xjwP0+2ovuVgfA\\u002fHD81Mrph8T+hE6zkU7byP34u1929X\\u002fQ\\u002fIGljkBo39j+QU7ijqBj4P3UFV+8g5vk\\u002f4zM+btaG+z\\u002f5Vc8KW+j8P6k3s6APAP4\\u002fXmhvbZfM\\u002fj++rO1emVT\\u002fP5EbD+aanP8\\u002frHU0uCKJ\\u002fz+iwopIlqv+PzXTIX3sRfw\\u002frPdRFPtL+D9W543+TFf0P9\\u002fIrlgc1PE\\u002f0LWeXfqo8D9mPhVXYjbwP8TXwnXgD\\u002fA\\u002f0L+QRDsE8D\\u002fGncRGCAHwPzjQwRw7APA\\u002fcwPhIwwA8D\\u002f6puNKAgDwP7SuC2YAAPA\\u002fdrpbEAAA8D\\u002fSoGsCAADwP2m1VAAAAPA\\u002fYbUKAAAA8D+qQAEAAADwP7oiAAAAAPA\\u002fewMAAAAA8D9SAAAAAADwPwAAAAAAAPA\\u002f\"},\"yaxis\":\"y\",\"type\":\"scatter\"}],\"name\":\"50\"},{\"data\":[{\"hovertemplate\":\"variable=51\\u003cbr\\u003ex=%{x}\\u003cbr\\u003evalue=%{y}\\u003cextra\\u003e\\u003c\\u002fextra\\u003e\",\"legendgroup\":\"\",\"line\":{\"color\":\"#636efa\",\"dash\":\"solid\"},\"marker\":{\"symbol\":\"circle\"},\"mode\":\"lines\",\"name\":\"\",\"orientation\":\"v\",\"showlegend\":false,\"x\":{\"dtype\":\"f8\",\"bdata\":\"AAAAAAAAAAB7FK5H4XqkP3sUrkfherQ\\u002fuB6F61G4vj97FK5H4XrEP5qZmZmZmck\\u002fuB6F61G4zj\\u002fsUbgehevRP3sUrkfhetQ\\u002fCtejcD0K1z+amZmZmZnZPylcj8L1KNw\\u002fuB6F61G43j+kcD0K16PgP+xRuB6F6+E\\u002fMzMzMzMz4z97FK5H4XrkP8P1KFyPwuU\\u002fCtejcD0K5z9SuB6F61HoP5qZmZmZmek\\u002f4XoUrkfh6j8pXI\\u002fC9SjsP3E9CtejcO0\\u002fuB6F61G47j8AAAAAAADwP6RwPQrXo\\u002fA\\u002fSOF6FK5H8T\\u002fsUbgehevxP4\\u002fC9Shcj\\u002fI\\u002fMzMzMzMz8z\\u002fXo3A9CtfzP3sUrkfhevQ\\u002fH4XrUbge9T\\u002fD9Shcj8L1P2dmZmZmZvY\\u002fCtejcD0K9z+uR+F6FK73P1K4HoXrUfg\\u002f9ihcj8L1+D+amZmZmZn5Pz4K16NwPfo\\u002f4XoUrkfh+j+F61G4HoX7Pylcj8L1KPw\\u002fzczMzMzM\\u002fD9xPQrXo3D9PxWuR+F6FP4\\u002fuB6F61G4\\u002fj9cj8L1KFz\\u002fPwAAAAAAAABA\"},\"xaxis\":\"x\",\"y\":{\"dtype\":\"f8\",\"bdata\":\"AAAAAAAA8D8AAAAAAADwPwAAAAAAAPA\\u002fAAAAAAAA8D8AAAAAAADwPwAAAAAAAPA\\u002fAAAAAAAA8D8AAAAAAADwPwAAAAAAAPA\\u002fAAAAAAAA8D8AAAAAAADwPwAAAAAAAPA\\u002fAAAAAAAA8D90Cljc1xbwP2agF8WWePA\\u002f2AG3kW9N8T8lVsIKIpXyP6vjGFyZMvQ\\u002fe4B+qZAA9j94WpQIOdz3P1sjO37hp\\u002fk\\u002fQOYAQxhL+z\\u002fEOsY2IbP8Px1lg1Jb1P0\\u002fBBjZQ8ir\\u002fj9g18bLZz7\\u002fP\\u002fYTk+u\\u002fkP8\\u002fasbhXFWM\\u002fz\\u002fDJXo4+s7+P4PgVhJKoPw\\u002ftzfkFszM+D+VtndAlsL0P5qIYOHVD\\u002fI\\u002fbtUBIe\\u002fC8D+Vxr53D0DwPzB1XiIZE\\u002fA\\u002fl94I9TMF8D9z6\\u002fyKTAHwP6eL1jVMAPA\\u002fg7f2DRAA8D8e4vgcAwDwP2YEc44AAPA\\u002fgrl\\u002fFwAA8D9L+JQDAADwPwdJgQAAAPA\\u002fDOAQAAAA8D9kCgIAAADwP446AAAAAPA\\u002fFgYAAAAA8D+VAAAAAADwPwAAAAAAAPA\\u002f\"},\"yaxis\":\"y\",\"type\":\"scatter\"}],\"name\":\"51\"},{\"data\":[{\"hovertemplate\":\"variable=52\\u003cbr\\u003ex=%{x}\\u003cbr\\u003evalue=%{y}\\u003cextra\\u003e\\u003c\\u002fextra\\u003e\",\"legendgroup\":\"\",\"line\":{\"color\":\"#636efa\",\"dash\":\"solid\"},\"marker\":{\"symbol\":\"circle\"},\"mode\":\"lines\",\"name\":\"\",\"orientation\":\"v\",\"showlegend\":false,\"x\":{\"dtype\":\"f8\",\"bdata\":\"AAAAAAAAAAB7FK5H4XqkP3sUrkfherQ\\u002fuB6F61G4vj97FK5H4XrEP5qZmZmZmck\\u002fuB6F61G4zj\\u002fsUbgehevRP3sUrkfhetQ\\u002fCtejcD0K1z+amZmZmZnZPylcj8L1KNw\\u002fuB6F61G43j+kcD0K16PgP+xRuB6F6+E\\u002fMzMzMzMz4z97FK5H4XrkP8P1KFyPwuU\\u002fCtejcD0K5z9SuB6F61HoP5qZmZmZmek\\u002f4XoUrkfh6j8pXI\\u002fC9SjsP3E9CtejcO0\\u002fuB6F61G47j8AAAAAAADwP6RwPQrXo\\u002fA\\u002fSOF6FK5H8T\\u002fsUbgehevxP4\\u002fC9Shcj\\u002fI\\u002fMzMzMzMz8z\\u002fXo3A9CtfzP3sUrkfhevQ\\u002fH4XrUbge9T\\u002fD9Shcj8L1P2dmZmZmZvY\\u002fCtejcD0K9z+uR+F6FK73P1K4HoXrUfg\\u002f9ihcj8L1+D+amZmZmZn5Pz4K16NwPfo\\u002f4XoUrkfh+j+F61G4HoX7Pylcj8L1KPw\\u002fzczMzMzM\\u002fD9xPQrXo3D9PxWuR+F6FP4\\u002fuB6F61G4\\u002fj9cj8L1KFz\\u002fPwAAAAAAAABA\"},\"xaxis\":\"x\",\"y\":{\"dtype\":\"f8\",\"bdata\":\"AAAAAAAA8D8AAAAAAADwPwAAAAAAAPA\\u002fAAAAAAAA8D8AAAAAAADwPwAAAAAAAPA\\u002fAAAAAAAA8D8AAAAAAADwPwAAAAAAAPA\\u002fAAAAAAAA8D8AAAAAAADwPwAAAAAAAPA\\u002fAAAAAAAA8D+bhTvS7RTwPxa19CI0cPA\\u002fD0tNMkE68T9etM7GanXyP8zyS6IaB\\u002fQ\\u002fauaOTKDL9T\\u002fhNfieHKH3P8t4i6R1avk\\u002fQRX3mIAP+z+s7+0BUH38P0lbmPxrp\\u002f0\\u002fwNJpgF6J\\u002fj9Esgy3iyb\\u002fP8TjXkc2g\\u002f8\\u002f+WzqIA+N\\u002fz+AcLqWXO3+P64O5SyW8\\u002fw\\u002f1FlYnVBL+T9N\\u002fYhWaTL1P\\u002fJgyuLQUPI\\u002fWeZ5A\\u002f\\u002ff8D8PjPIaI0vwP7JjFM3cFvA\\u002ffsrfw1wG8D+OOpbanwHwP+InqpJhAPA\\u002fOWZOERUA8D\\u002f0Pg4xBADwPxsu\\u002fsQAAPA\\u002fJFVpIQAA8D+73T0FAADwP\\u002ffswgAAAPA\\u002fIT4aAAAA8D\\u002fdRgMAAADwPzVhAAAAAPA\\u002fdQoAAAAA8D8KAQAAAADwPwAAAAAAAPA\\u002f\"},\"yaxis\":\"y\",\"type\":\"scatter\"}],\"name\":\"52\"},{\"data\":[{\"hovertemplate\":\"variable=53\\u003cbr\\u003ex=%{x}\\u003cbr\\u003evalue=%{y}\\u003cextra\\u003e\\u003c\\u002fextra\\u003e\",\"legendgroup\":\"\",\"line\":{\"color\":\"#636efa\",\"dash\":\"solid\"},\"marker\":{\"symbol\":\"circle\"},\"mode\":\"lines\",\"name\":\"\",\"orientation\":\"v\",\"showlegend\":false,\"x\":{\"dtype\":\"f8\",\"bdata\":\"AAAAAAAAAAB7FK5H4XqkP3sUrkfherQ\\u002fuB6F61G4vj97FK5H4XrEP5qZmZmZmck\\u002fuB6F61G4zj\\u002fsUbgehevRP3sUrkfhetQ\\u002fCtejcD0K1z+amZmZmZnZPylcj8L1KNw\\u002fuB6F61G43j+kcD0K16PgP+xRuB6F6+E\\u002fMzMzMzMz4z97FK5H4XrkP8P1KFyPwuU\\u002fCtejcD0K5z9SuB6F61HoP5qZmZmZmek\\u002f4XoUrkfh6j8pXI\\u002fC9SjsP3E9CtejcO0\\u002fuB6F61G47j8AAAAAAADwP6RwPQrXo\\u002fA\\u002fSOF6FK5H8T\\u002fsUbgehevxP4\\u002fC9Shcj\\u002fI\\u002fMzMzMzMz8z\\u002fXo3A9CtfzP3sUrkfhevQ\\u002fH4XrUbge9T\\u002fD9Shcj8L1P2dmZmZmZvY\\u002fCtejcD0K9z+uR+F6FK73P1K4HoXrUfg\\u002f9ihcj8L1+D+amZmZmZn5Pz4K16NwPfo\\u002f4XoUrkfh+j+F61G4HoX7Pylcj8L1KPw\\u002fzczMzMzM\\u002fD9xPQrXo3D9PxWuR+F6FP4\\u002fuB6F61G4\\u002fj9cj8L1KFz\\u002fPwAAAAAAAABA\"},\"xaxis\":\"x\",\"y\":{\"dtype\":\"f8\",\"bdata\":\"AAAAAAAA8D8AAAAAAADwPwAAAAAAAPA\\u002fAAAAAAAA8D8AAAAAAADwPwAAAAAAAPA\\u002fAAAAAAAA8D8AAAAAAADwPwAAAAAAAPA\\u002fAAAAAAAA8D8AAAAAAADwPwAAAAAAAPA\\u002fAAAAAAAA8D9+LwQOLRPwPyAxbZpjaPA\\u002fa8q4ESAo8T\\u002fNyEYkHlfyP2Y1oh403fM\\u002fYxF5wUGY9T92+dwaVWf3Px5bHCHrLfk\\u002fZHG7DynU+j\\u002f2gCdXCEf8PykjZiVhef0\\u002fitqP825l\\u002fj+Rq+eGCw3\\u002fP5G71L4AdP8\\u002fhSzE4XCL\\u002fz+fbrfpFQf\\u002fP426YBzaP\\u002f0\\u002fNK1R8KjG+T8eAKQINqb1P6o29qQtl\\u002fI\\u002fEWS1c2kA8T+s+MYExVfwPwWNvTc+G\\u002fA\\u002f6k+dUL0H8D+oE0r4BALwPzw+Shl8APA\\u002fEsZzcRsA8D\\u002fg9ROZBQDwP1uI\\u002fw0BAPA\\u002fABILLwAA8D9a0pYHAADwPweBIgEAAPA\\u002fs0woAAAA8D\\u002fNMAUAAADwPwOfAAAAAPA\\u002fsBEAAAAA8D\\u002fTAQAAAADwPwAAAAAAAPA\\u002f\"},\"yaxis\":\"y\",\"type\":\"scatter\"}],\"name\":\"53\"},{\"data\":[{\"hovertemplate\":\"variable=54\\u003cbr\\u003ex=%{x}\\u003cbr\\u003evalue=%{y}\\u003cextra\\u003e\\u003c\\u002fextra\\u003e\",\"legendgroup\":\"\",\"line\":{\"color\":\"#636efa\",\"dash\":\"solid\"},\"marker\":{\"symbol\":\"circle\"},\"mode\":\"lines\",\"name\":\"\",\"orientation\":\"v\",\"showlegend\":false,\"x\":{\"dtype\":\"f8\",\"bdata\":\"AAAAAAAAAAB7FK5H4XqkP3sUrkfherQ\\u002fuB6F61G4vj97FK5H4XrEP5qZmZmZmck\\u002fuB6F61G4zj\\u002fsUbgehevRP3sUrkfhetQ\\u002fCtejcD0K1z+amZmZmZnZPylcj8L1KNw\\u002fuB6F61G43j+kcD0K16PgP+xRuB6F6+E\\u002fMzMzMzMz4z97FK5H4XrkP8P1KFyPwuU\\u002fCtejcD0K5z9SuB6F61HoP5qZmZmZmek\\u002f4XoUrkfh6j8pXI\\u002fC9SjsP3E9CtejcO0\\u002fuB6F61G47j8AAAAAAADwP6RwPQrXo\\u002fA\\u002fSOF6FK5H8T\\u002fsUbgehevxP4\\u002fC9Shcj\\u002fI\\u002fMzMzMzMz8z\\u002fXo3A9CtfzP3sUrkfhevQ\\u002fH4XrUbge9T\\u002fD9Shcj8L1P2dmZmZmZvY\\u002fCtejcD0K9z+uR+F6FK73P1K4HoXrUfg\\u002f9ihcj8L1+D+amZmZmZn5Pz4K16NwPfo\\u002f4XoUrkfh+j+F61G4HoX7Pylcj8L1KPw\\u002fzczMzMzM\\u002fD9xPQrXo3D9PxWuR+F6FP4\\u002fuB6F61G4\\u002fj9cj8L1KFz\\u002fPwAAAAAAAABA\"},\"xaxis\":\"x\",\"y\":{\"dtype\":\"f8\",\"bdata\":\"AAAAAAAA8D8AAAAAAADwPwAAAAAAAPA\\u002fAAAAAAAA8D8AAAAAAADwPwAAAAAAAPA\\u002fAAAAAAAA8D8AAAAAAADwPwAAAAAAAPA\\u002fAAAAAAAA8D8AAAAAAADwPwAAAAAAAPA\\u002fAAAAAAAA8D8iKDkNkhHwPyoO+WQbYfA\\u002f\\u002fXeJ+v0W8T9fHtjXLDryP0p3q4bYtPM\\u002fW0DM62xm9T+UB9nl4i73P1D0GYtN8vg\\u002fXplmwyiZ+j\\u002fxWLo8aRD8Pz\\u002fUnBBaSv0\\u002fKTJYFhBA\\u002fj\\u002fpGx4x8PH+PwUBlfIiY\\u002f8\\u002f3j9\\u002fFpeH\\u002fz8OQzB8eRz\\u002fP2kN094zhf0\\u002fE2bStQg++j+KKaMmVR32P45LDvv+4vI\\u002fc4\\u002fPXG4k8T+rWT\\u002fQH2bwPzpFEApSIPA\\u002fuIAjLV4J8D+0Kw0PfwLwPx8piNecAPA\\u002fzSB+fyMA8D\\u002fxlBxrBwDwPzTt624BAPA\\u002faXGfQQAA8D9UguAKAADwP3kyrAEAAPA\\u002fZSY9AAAA8D\\u002fLHQgAAADwP38AAQAAAPA\\u002fdx0AAAAA8D8lAwAAAADwPwAAAAAAAPA\\u002f\"},\"yaxis\":\"y\",\"type\":\"scatter\"}],\"name\":\"54\"},{\"data\":[{\"hovertemplate\":\"variable=55\\u003cbr\\u003ex=%{x}\\u003cbr\\u003evalue=%{y}\\u003cextra\\u003e\\u003c\\u002fextra\\u003e\",\"legendgroup\":\"\",\"line\":{\"color\":\"#636efa\",\"dash\":\"solid\"},\"marker\":{\"symbol\":\"circle\"},\"mode\":\"lines\",\"name\":\"\",\"orientation\":\"v\",\"showlegend\":false,\"x\":{\"dtype\":\"f8\",\"bdata\":\"AAAAAAAAAAB7FK5H4XqkP3sUrkfherQ\\u002fuB6F61G4vj97FK5H4XrEP5qZmZmZmck\\u002fuB6F61G4zj\\u002fsUbgehevRP3sUrkfhetQ\\u002fCtejcD0K1z+amZmZmZnZPylcj8L1KNw\\u002fuB6F61G43j+kcD0K16PgP+xRuB6F6+E\\u002fMzMzMzMz4z97FK5H4XrkP8P1KFyPwuU\\u002fCtejcD0K5z9SuB6F61HoP5qZmZmZmek\\u002f4XoUrkfh6j8pXI\\u002fC9SjsP3E9CtejcO0\\u002fuB6F61G47j8AAAAAAADwP6RwPQrXo\\u002fA\\u002fSOF6FK5H8T\\u002fsUbgehevxP4\\u002fC9Shcj\\u002fI\\u002fMzMzMzMz8z\\u002fXo3A9CtfzP3sUrkfhevQ\\u002fH4XrUbge9T\\u002fD9Shcj8L1P2dmZmZmZvY\\u002fCtejcD0K9z+uR+F6FK73P1K4HoXrUfg\\u002f9ihcj8L1+D+amZmZmZn5Pz4K16NwPfo\\u002f4XoUrkfh+j+F61G4HoX7Pylcj8L1KPw\\u002fzczMzMzM\\u002fD9xPQrXo3D9PxWuR+F6FP4\\u002fuB6F61G4\\u002fj9cj8L1KFz\\u002fPwAAAAAAAABA\"},\"xaxis\":\"x\",\"y\":{\"dtype\":\"f8\",\"bdata\":\"AAAAAAAA8D8AAAAAAADwPwAAAAAAAPA\\u002fAAAAAAAA8D8AAAAAAADwPwAAAAAAAPA\\u002fAAAAAAAA8D8AAAAAAADwPwAAAAAAAPA\\u002fAAAAAAAA8D8AAAAAAADwPwAAAAAAAPA\\u002fAAAAAAAA8D84SSibGRDwPwCXl2NSWvA\\u002fu\\u002fcQeM0G8T9kee44iB7yP1noX936jfM\\u002f2vvuYxk29T+lnTNMxff2P2O8C4emt\\u002fg\\u002fmwH6bZRe+j9SE6bCj9n7P9jnMHN1Gv0\\u002f1D6FqVkZ\\u002fj8URx0JRdX+P\\u002fm1PKOhUP8\\u002fTTuvl5qB\\u002fz8EIDLR1C3\\u002fPw\\u002f010TSw\\u002f0\\u002fQuC2BLuw+j\\u002fcAXkpC5f2P2y3TANINPM\\u002fP4H1O01M8T8CeI7qYHbwPw3ECPAuJvA\\u002fbGCS80gL8D9+d8O9EQPwPxkpXQjFAPA\\u002fyRBAnC0A8D+syyXCCQDwP0mxmu4BAPA\\u002fzCa7WgAA8D+Za3APAADwP3aOcAIAAPA\\u002fvLxbAAAA8D8tiQwAAADwP0WYAQAAAPA\\u002fYjAAAAAA8D9XBQAAAADwPwAAAAAAAPA\\u002f\"},\"yaxis\":\"y\",\"type\":\"scatter\"}],\"name\":\"55\"},{\"data\":[{\"hovertemplate\":\"variable=56\\u003cbr\\u003ex=%{x}\\u003cbr\\u003evalue=%{y}\\u003cextra\\u003e\\u003c\\u002fextra\\u003e\",\"legendgroup\":\"\",\"line\":{\"color\":\"#636efa\",\"dash\":\"solid\"},\"marker\":{\"symbol\":\"circle\"},\"mode\":\"lines\",\"name\":\"\",\"orientation\":\"v\",\"showlegend\":false,\"x\":{\"dtype\":\"f8\",\"bdata\":\"AAAAAAAAAAB7FK5H4XqkP3sUrkfherQ\\u002fuB6F61G4vj97FK5H4XrEP5qZmZmZmck\\u002fuB6F61G4zj\\u002fsUbgehevRP3sUrkfhetQ\\u002fCtejcD0K1z+amZmZmZnZPylcj8L1KNw\\u002fuB6F61G43j+kcD0K16PgP+xRuB6F6+E\\u002fMzMzMzMz4z97FK5H4XrkP8P1KFyPwuU\\u002fCtejcD0K5z9SuB6F61HoP5qZmZmZmek\\u002f4XoUrkfh6j8pXI\\u002fC9SjsP3E9CtejcO0\\u002fuB6F61G47j8AAAAAAADwP6RwPQrXo\\u002fA\\u002fSOF6FK5H8T\\u002fsUbgehevxP4\\u002fC9Shcj\\u002fI\\u002fMzMzMzMz8z\\u002fXo3A9CtfzP3sUrkfhevQ\\u002fH4XrUbge9T\\u002fD9Shcj8L1P2dmZmZmZvY\\u002fCtejcD0K9z+uR+F6FK73P1K4HoXrUfg\\u002f9ihcj8L1+D+amZmZmZn5Pz4K16NwPfo\\u002f4XoUrkfh+j+F61G4HoX7Pylcj8L1KPw\\u002fzczMzMzM\\u002fD9xPQrXo3D9PxWuR+F6FP4\\u002fuB6F61G4\\u002fj9cj8L1KFz\\u002fPwAAAAAAAABA\"},\"xaxis\":\"x\",\"y\":{\"dtype\":\"f8\",\"bdata\":\"AAAAAAAA8D8AAAAAAADwPwAAAAAAAPA\\u002fAAAAAAAA8D8AAAAAAADwPwAAAAAAAPA\\u002fAAAAAAAA8D8AAAAAAADwPwAAAAAAAPA\\u002fAAAAAAAA8D8AAAAAAADwPwAAAAAAAPA\\u002fAAAAAAAA8D8tUvLJwA7wP4jxFhMAVPA\\u002fWPkoy4H38D8aWDQ7IgTyP8aleXeOaPM\\u002f+26LjD4H9T\\u002fmGAal+sH2P\\u002fDhjvj9ffg\\u002fzwtHi34k+j+IHez6lqL7P7g0yjPR6fw\\u002fpCieWWTx\\u002fT8W932FF7f+P3GNP+GCPP8\\u002fnCHaVpF5\\u002fz8RKslpbzv\\u002fPzO1wDPx+\\u002f0\\u002fjxwMVCUe+z9XqpbAixL3P8+DWwL6ivM\\u002fiW3WB0R48T846jmBuIjwPwC5vbftLPA\\u002fGRNXXYgN8D\\u002fyjt4jwQPwP7wo1xn2APA\\u002fYcu7OjoA8D\\u002foI\\u002f++DADwP6UHkZUCAPA\\u002fwB1jfAAA8D\\u002fjpbYVAADwP+TghQMAAPA\\u002fjCOIAAAA8D\\u002fOIhMAAADwP66BAgAAAPA\\u002fYE4AAAAA8D\\u002ftCAAAAADwPwAAAAAAAPA\\u002f\"},\"yaxis\":\"y\",\"type\":\"scatter\"}],\"name\":\"56\"},{\"data\":[{\"hovertemplate\":\"variable=57\\u003cbr\\u003ex=%{x}\\u003cbr\\u003evalue=%{y}\\u003cextra\\u003e\\u003c\\u002fextra\\u003e\",\"legendgroup\":\"\",\"line\":{\"color\":\"#636efa\",\"dash\":\"solid\"},\"marker\":{\"symbol\":\"circle\"},\"mode\":\"lines\",\"name\":\"\",\"orientation\":\"v\",\"showlegend\":false,\"x\":{\"dtype\":\"f8\",\"bdata\":\"AAAAAAAAAAB7FK5H4XqkP3sUrkfherQ\\u002fuB6F61G4vj97FK5H4XrEP5qZmZmZmck\\u002fuB6F61G4zj\\u002fsUbgehevRP3sUrkfhetQ\\u002fCtejcD0K1z+amZmZmZnZPylcj8L1KNw\\u002fuB6F61G43j+kcD0K16PgP+xRuB6F6+E\\u002fMzMzMzMz4z97FK5H4XrkP8P1KFyPwuU\\u002fCtejcD0K5z9SuB6F61HoP5qZmZmZmek\\u002f4XoUrkfh6j8pXI\\u002fC9SjsP3E9CtejcO0\\u002fuB6F61G47j8AAAAAAADwP6RwPQrXo\\u002fA\\u002fSOF6FK5H8T\\u002fsUbgehevxP4\\u002fC9Shcj\\u002fI\\u002fMzMzMzMz8z\\u002fXo3A9CtfzP3sUrkfhevQ\\u002fH4XrUbge9T\\u002fD9Shcj8L1P2dmZmZmZvY\\u002fCtejcD0K9z+uR+F6FK73P1K4HoXrUfg\\u002f9ihcj8L1+D+amZmZmZn5Pz4K16NwPfo\\u002f4XoUrkfh+j+F61G4HoX7Pylcj8L1KPw\\u002fzczMzMzM\\u002fD9xPQrXo3D9PxWuR+F6FP4\\u002fuB6F61G4\\u002fj9cj8L1KFz\\u002fPwAAAAAAAABA\"},\"xaxis\":\"x\",\"y\":{\"dtype\":\"f8\",\"bdata\":\"AAAAAAAA8D8AAAAAAADwPwAAAAAAAPA\\u002fAAAAAAAA8D8AAAAAAADwPwAAAAAAAPA\\u002fAAAAAAAA8D8AAAAAAADwPwAAAAAAAPA\\u002fAAAAAAAA8D8AAAAAAADwPwAAAAAAAPA\\u002fAAAAAAAA8D+aGD\\u002fshA3wP1ysR4EcTvA\\u002fyIG+3w7p8D9FsyFo7erxPxGjaf6GRPM\\u002f+qO5pNPZ9D\\u002fip9h1gI32P6A1oDBaRfg\\u002fkrwrfvfq+T+AQST6l2v7Pyp\\u002f9jaKuPw\\u002fD6pxaUnI\\u002fT8b7aT\\u002fdpf+P+e97ynOJv8\\u002fnC8zA49v\\u002fz9JmYrKikX\\u002fP+3TmyvWLf4\\u002f1kwGNsmF+z8EhHAu\\u002fo73P7Kg1Xfy5vM\\u002fwObM542o8T9dlCJgWZ3wP5dn\\u002fG2pNPA\\u002fPSNeWygQ8D\\u002fu6\\u002fDukQTwP1b2lrMxAfA\\u002fB7jh4kkA8D+C4VGJEADwP65XWm4DAPA\\u002fmvImqQAA8D9BBUUeAADwP0\\u002fxCQUAAPA\\u002fU\\u002fPHAAAA8D\\u002fe4hwAAADwP3HkAwAAAPA\\u002fUX0AAAAA8D+3DgAAAADwPwAAAAAAAPA\\u002f\"},\"yaxis\":\"y\",\"type\":\"scatter\"}],\"name\":\"57\"},{\"data\":[{\"hovertemplate\":\"variable=58\\u003cbr\\u003ex=%{x}\\u003cbr\\u003evalue=%{y}\\u003cextra\\u003e\\u003c\\u002fextra\\u003e\",\"legendgroup\":\"\",\"line\":{\"color\":\"#636efa\",\"dash\":\"solid\"},\"marker\":{\"symbol\":\"circle\"},\"mode\":\"lines\",\"name\":\"\",\"orientation\":\"v\",\"showlegend\":false,\"x\":{\"dtype\":\"f8\",\"bdata\":\"AAAAAAAAAAB7FK5H4XqkP3sUrkfherQ\\u002fuB6F61G4vj97FK5H4XrEP5qZmZmZmck\\u002fuB6F61G4zj\\u002fsUbgehevRP3sUrkfhetQ\\u002fCtejcD0K1z+amZmZmZnZPylcj8L1KNw\\u002fuB6F61G43j+kcD0K16PgP+xRuB6F6+E\\u002fMzMzMzMz4z97FK5H4XrkP8P1KFyPwuU\\u002fCtejcD0K5z9SuB6F61HoP5qZmZmZmek\\u002f4XoUrkfh6j8pXI\\u002fC9SjsP3E9CtejcO0\\u002fuB6F61G47j8AAAAAAADwP6RwPQrXo\\u002fA\\u002fSOF6FK5H8T\\u002fsUbgehevxP4\\u002fC9Shcj\\u002fI\\u002fMzMzMzMz8z\\u002fXo3A9CtfzP3sUrkfhevQ\\u002fH4XrUbge9T\\u002fD9Shcj8L1P2dmZmZmZvY\\u002fCtejcD0K9z+uR+F6FK73P1K4HoXrUfg\\u002f9ihcj8L1+D+amZmZmZn5Pz4K16NwPfo\\u002f4XoUrkfh+j+F61G4HoX7Pylcj8L1KPw\\u002fzczMzMzM\\u002fD9xPQrXo3D9PxWuR+F6FP4\\u002fuB6F61G4\\u002fj9cj8L1KFz\\u002fPwAAAAAAAABA\"},\"xaxis\":\"x\",\"y\":{\"dtype\":\"f8\",\"bdata\":\"AAAAAAAA8D8AAAAAAADwPwAAAAAAAPA\\u002fAAAAAAAA8D8AAAAAAADwPwAAAAAAAPA\\u002fAAAAAAAA8D8AAAAAAADwPwAAAAAAAPA\\u002fAAAAAAAA8D8AAAAAAADwPwAAAAAAAPA\\u002fAAAAAAAA8D9efYiPYwzwPzQmBkOgSPA\\u002f\\u002fboTQ2nb8D+CJqjY3NLxP\\u002fsoKHLYIfM\\u002frbZW18+t9D9Q6CSSU1r2Py+vahjADfg\\u002flvg4tg2y+T84PdLeqTT7P7t2RTa8hvw\\u002f\\u002fN8VZCKe\\u002fT9\\u002f6+pvdHb+PxQh8XOMD\\u002f8\\u002fXoNwmqVj\\u002fz+jiemwYkz\\u002fP1U7xyrNWf4\\u002fzQfh5ETn+z\\u002fixkhGggv4P05asYz5R\\u002fQ\\u002fRVloumHd8T\\u002fHgxy8eLTwP\\u002fpW3Xh\\u002fPfA\\u002fviNZLzYT8D+0TUBpiQXwP8om6b15AfA\\u002fK12fNF0A8D8zec1QFQDwP3Q074UEAPA\\u002fzJJA5AAA8D8e2dcpAADwP\\u002fkyJAcAAPA\\u002ffcgiAQAA8D89JCsAAADwP6X5BQAAAPA\\u002f6cUAAAAA8D\\u002fvFwAAAADwPwAAAAAAAPA\\u002f\"},\"yaxis\":\"y\",\"type\":\"scatter\"}],\"name\":\"58\"},{\"data\":[{\"hovertemplate\":\"variable=59\\u003cbr\\u003ex=%{x}\\u003cbr\\u003evalue=%{y}\\u003cextra\\u003e\\u003c\\u002fextra\\u003e\",\"legendgroup\":\"\",\"line\":{\"color\":\"#636efa\",\"dash\":\"solid\"},\"marker\":{\"symbol\":\"circle\"},\"mode\":\"lines\",\"name\":\"\",\"orientation\":\"v\",\"showlegend\":false,\"x\":{\"dtype\":\"f8\",\"bdata\":\"AAAAAAAAAAB7FK5H4XqkP3sUrkfherQ\\u002fuB6F61G4vj97FK5H4XrEP5qZmZmZmck\\u002fuB6F61G4zj\\u002fsUbgehevRP3sUrkfhetQ\\u002fCtejcD0K1z+amZmZmZnZPylcj8L1KNw\\u002fuB6F61G43j+kcD0K16PgP+xRuB6F6+E\\u002fMzMzMzMz4z97FK5H4XrkP8P1KFyPwuU\\u002fCtejcD0K5z9SuB6F61HoP5qZmZmZmek\\u002f4XoUrkfh6j8pXI\\u002fC9SjsP3E9CtejcO0\\u002fuB6F61G47j8AAAAAAADwP6RwPQrXo\\u002fA\\u002fSOF6FK5H8T\\u002fsUbgehevxP4\\u002fC9Shcj\\u002fI\\u002fMzMzMzMz8z\\u002fXo3A9CtfzP3sUrkfhevQ\\u002fH4XrUbge9T\\u002fD9Shcj8L1P2dmZmZmZvY\\u002fCtejcD0K9z+uR+F6FK73P1K4HoXrUfg\\u002f9ihcj8L1+D+amZmZmZn5Pz4K16NwPfo\\u002f4XoUrkfh+j+F61G4HoX7Pylcj8L1KPw\\u002fzczMzMzM\\u002fD9xPQrXo3D9PxWuR+F6FP4\\u002fuB6F61G4\\u002fj9cj8L1KFz\\u002fPwAAAAAAAABA\"},\"xaxis\":\"x\",\"y\":{\"dtype\":\"f8\",\"bdata\":\"AAAAAAAA8D8AAAAAAADwPwAAAAAAAPA\\u002fAAAAAAAA8D8AAAAAAADwPwAAAAAAAPA\\u002fAAAAAAAA8D8AAAAAAADwPwAAAAAAAPA\\u002fAAAAAAAA8D8AAAAAAADwPwAAAAAAAPA\\u002fAAAAAAAA8D9s4ex2WgvwP\\u002f4WBmuEQ\\u002fA\\u002fLquqGobO8D+EvAcv5LvxP+3jFip3APM\\u002fWorqRyqD9D+t7iM3cCj2Pyf5pFgz1\\u002fc\\u002fev0I1c15+T\\u002fDOxre4f36PynGUKGBVPw\\u002fwPQI1whz\\u002fT\\u002fXXHUoIlT+PwaFbC3I9v4\\u002f8dVi5eVV\\u002fz82sGRqLVD\\u002fP3PMmf0lgP4\\u002f6Ph5u1JC\\u002fD\\u002fMlXfPNYf4P7HKl\\u002f3ArfQ\\u002fPHhPbfAW8j\\u002fVa3DmTc7wP98SUa+PR\\u002fA\\u002frXj+hcAW8D\\u002fw+WCJrQbwP9Iyg2nQAfA\\u002fH\\u002flE63QA8D9eR3xOGwDwPx\\u002fKLOwFAPA\\u002fQc+5MQEA8D9qk2A5AADwP9OACAoAAPA\\u002fsuaiAQAA8D9Cxz8AAADwP4cSCQAAAPA\\u002f4zQBAAAA8D9vJgAAAADwPwAAAAAAAPA\\u002f\"},\"yaxis\":\"y\",\"type\":\"scatter\"}],\"name\":\"59\"},{\"data\":[{\"hovertemplate\":\"variable=60\\u003cbr\\u003ex=%{x}\\u003cbr\\u003evalue=%{y}\\u003cextra\\u003e\\u003c\\u002fextra\\u003e\",\"legendgroup\":\"\",\"line\":{\"color\":\"#636efa\",\"dash\":\"solid\"},\"marker\":{\"symbol\":\"circle\"},\"mode\":\"lines\",\"name\":\"\",\"orientation\":\"v\",\"showlegend\":false,\"x\":{\"dtype\":\"f8\",\"bdata\":\"AAAAAAAAAAB7FK5H4XqkP3sUrkfherQ\\u002fuB6F61G4vj97FK5H4XrEP5qZmZmZmck\\u002fuB6F61G4zj\\u002fsUbgehevRP3sUrkfhetQ\\u002fCtejcD0K1z+amZmZmZnZPylcj8L1KNw\\u002fuB6F61G43j+kcD0K16PgP+xRuB6F6+E\\u002fMzMzMzMz4z97FK5H4XrkP8P1KFyPwuU\\u002fCtejcD0K5z9SuB6F61HoP5qZmZmZmek\\u002f4XoUrkfh6j8pXI\\u002fC9SjsP3E9CtejcO0\\u002fuB6F61G47j8AAAAAAADwP6RwPQrXo\\u002fA\\u002fSOF6FK5H8T\\u002fsUbgehevxP4\\u002fC9Shcj\\u002fI\\u002fMzMzMzMz8z\\u002fXo3A9CtfzP3sUrkfhevQ\\u002fH4XrUbge9T\\u002fD9Shcj8L1P2dmZmZmZvY\\u002fCtejcD0K9z+uR+F6FK73P1K4HoXrUfg\\u002f9ihcj8L1+D+amZmZmZn5Pz4K16NwPfo\\u002f4XoUrkfh+j+F61G4HoX7Pylcj8L1KPw\\u002fzczMzMzM\\u002fD9xPQrXo3D9PxWuR+F6FP4\\u002fuB6F61G4\\u002fj9cj8L1KFz\\u002fPwAAAAAAAABA\"},\"xaxis\":\"x\",\"y\":{\"dtype\":\"f8\",\"bdata\":\"AAAAAAAA8D8AAAAAAADwPwAAAAAAAPA\\u002fAAAAAAAA8D8AAAAAAADwPwAAAAAAAPA\\u002fAAAAAAAA8D8AAAAAAADwPwAAAAAAAPA\\u002fAAAAAAAA8D8AAAAAAADwPwAAAAAAAPA\\u002fAAAAAAAA8D9hjnuWZwrwP8CoToHCPvA\\u002fNgXMG1vC8D+Qd9SQ96XxP+jOIdVX4PI\\u002feHNxHdpZ9D8jEkck0vf1P0X0l322ofc\\u002fFiq40kJC+T91jJtUU8f6P9k0oIfzIfw\\u002fY2y+FBZH\\u002fT+H4pyQkzD+P2UfXC6N3P4\\u002fWDWj4F9G\\u002fz81C85BHFH\\u002fPwXmYP8xof4\\u002fOzVVwseW\\u002fD9piPwIOgH5Pw7z66HjF\\u002fU\\u002fBNhkK2NV8j8NqGTlEevwPzNxa2z8UvA\\u002fLPsdktca8D+0muICBQjwP6287jc4AvA\\u002frG5I4ZEA8D8xakTGIgDwP2y9XrQHAPA\\u002fBsGYlgEA8D8GrhJOAADwP2KC+g0AAPA\\u002f3whWAgAA8D82X10AAADwP5ehDQAAAPA\\u002fsdwBAAAA8D\\u002f5PAAAAADwPwAAAAAAAPA\\u002f\"},\"yaxis\":\"y\",\"type\":\"scatter\"}],\"name\":\"60\"},{\"data\":[{\"hovertemplate\":\"variable=61\\u003cbr\\u003ex=%{x}\\u003cbr\\u003evalue=%{y}\\u003cextra\\u003e\\u003c\\u002fextra\\u003e\",\"legendgroup\":\"\",\"line\":{\"color\":\"#636efa\",\"dash\":\"solid\"},\"marker\":{\"symbol\":\"circle\"},\"mode\":\"lines\",\"name\":\"\",\"orientation\":\"v\",\"showlegend\":false,\"x\":{\"dtype\":\"f8\",\"bdata\":\"AAAAAAAAAAB7FK5H4XqkP3sUrkfherQ\\u002fuB6F61G4vj97FK5H4XrEP5qZmZmZmck\\u002fuB6F61G4zj\\u002fsUbgehevRP3sUrkfhetQ\\u002fCtejcD0K1z+amZmZmZnZPylcj8L1KNw\\u002fuB6F61G43j+kcD0K16PgP+xRuB6F6+E\\u002fMzMzMzMz4z97FK5H4XrkP8P1KFyPwuU\\u002fCtejcD0K5z9SuB6F61HoP5qZmZmZmek\\u002f4XoUrkfh6j8pXI\\u002fC9SjsP3E9CtejcO0\\u002fuB6F61G47j8AAAAAAADwP6RwPQrXo\\u002fA\\u002fSOF6FK5H8T\\u002fsUbgehevxP4\\u002fC9Shcj\\u002fI\\u002fMzMzMzMz8z\\u002fXo3A9CtfzP3sUrkfhevQ\\u002fH4XrUbge9T\\u002fD9Shcj8L1P2dmZmZmZvY\\u002fCtejcD0K9z+uR+F6FK73P1K4HoXrUfg\\u002f9ihcj8L1+D+amZmZmZn5Pz4K16NwPfo\\u002f4XoUrkfh+j+F61G4HoX7Pylcj8L1KPw\\u002fzczMzMzM\\u002fD9xPQrXo3D9PxWuR+F6FP4\\u002fuB6F61G4\\u002fj9cj8L1KFz\\u002fPwAAAAAAAABA\"},\"xaxis\":\"x\",\"y\":{\"dtype\":\"f8\",\"bdata\":\"AAAAAAAA8D8AAAAAAADwPwAAAAAAAPA\\u002fAAAAAAAA8D8AAAAAAADwPwAAAAAAAPA\\u002fAAAAAAAA8D8AAAAAAADwPwAAAAAAAPA\\u002fAAAAAAAA8D8AAAAAAADwPwAAAAAAAPA\\u002fAAAAAAAA8D+6B+8OiQnwP5RyV3tUOvA\\u002fUxieg9628D8SLTKhC5HxP7jwRHlvwfI\\u002fkHxUi9Yx9D9sFbSwdMj1P6L98hdLbfc\\u002fYKQWIXYL+T+ON2LaD5H6Pw19VIop7\\u002fs\\u002f\\u002fmCb\\u002f2Ia\\u002fT+3OG\\u002fi3Av+P0OnPKHowP4\\u002fk1YxEiM1\\u002fz8kURD5W0\\u002f\\u002fPzZsq0pCvf4\\u002fRiUYg5Hk\\u002fD8beIkEuXj5P5C7DKzlhfU\\u002f\\u002fuWfadmY8j9bbc7t\\u002fgrxP4BF85zqX\\u002fA\\u002fE\\u002f5VKI0f8D8F9BVYlwnwP8pCrQS0AvA\\u002ff4NsFLUA8D9q35gILADwP+eh3fUJAPA\\u002fWPgTGQIA8D8hMHNpAADwP1\\u002fbURMAAPA\\u002fVWhOAwAA8D9ZbYcAAADwP7pGFAAAAPA\\u002fxNcCAAAA8D+eXwAAAADwPwAAAAAAAPA\\u002f\"},\"yaxis\":\"y\",\"type\":\"scatter\"}],\"name\":\"61\"},{\"data\":[{\"hovertemplate\":\"variable=62\\u003cbr\\u003ex=%{x}\\u003cbr\\u003evalue=%{y}\\u003cextra\\u003e\\u003c\\u002fextra\\u003e\",\"legendgroup\":\"\",\"line\":{\"color\":\"#636efa\",\"dash\":\"solid\"},\"marker\":{\"symbol\":\"circle\"},\"mode\":\"lines\",\"name\":\"\",\"orientation\":\"v\",\"showlegend\":false,\"x\":{\"dtype\":\"f8\",\"bdata\":\"AAAAAAAAAAB7FK5H4XqkP3sUrkfherQ\\u002fuB6F61G4vj97FK5H4XrEP5qZmZmZmck\\u002fuB6F61G4zj\\u002fsUbgehevRP3sUrkfhetQ\\u002fCtejcD0K1z+amZmZmZnZPylcj8L1KNw\\u002fuB6F61G43j+kcD0K16PgP+xRuB6F6+E\\u002fMzMzMzMz4z97FK5H4XrkP8P1KFyPwuU\\u002fCtejcD0K5z9SuB6F61HoP5qZmZmZmek\\u002f4XoUrkfh6j8pXI\\u002fC9SjsP3E9CtejcO0\\u002fuB6F61G47j8AAAAAAADwP6RwPQrXo\\u002fA\\u002fSOF6FK5H8T\\u002fsUbgehevxP4\\u002fC9Shcj\\u002fI\\u002fMzMzMzMz8z\\u002fXo3A9CtfzP3sUrkfhevQ\\u002fH4XrUbge9T\\u002fD9Shcj8L1P2dmZmZmZvY\\u002fCtejcD0K9z+uR+F6FK73P1K4HoXrUfg\\u002f9ihcj8L1+D+amZmZmZn5Pz4K16NwPfo\\u002f4XoUrkfh+j+F61G4HoX7Pylcj8L1KPw\\u002fzczMzMzM\\u002fD9xPQrXo3D9PxWuR+F6FP4\\u002fuB6F61G4\\u002fj9cj8L1KFz\\u002fPwAAAAAAAABA\"},\"xaxis\":\"x\",\"y\":{\"dtype\":\"f8\",\"bdata\":\"AAAAAAAA8D8AAAAAAADwPwAAAAAAAPA\\u002fAAAAAAAA8D8AAAAAAADwPwAAAAAAAPA\\u002fAAAAAAAA8D8AAAAAAADwPwAAAAAAAPA\\u002fAAAAAAAA8D8AAAAAAADwPwAAAAAAAPA\\u002fAAAAAAAA8D8GisopvQjwPylSuLQ0NvA\\u002fQLnADwes8D+GTUp7FX3xP7arlnKzo\\u002fI\\u002fgV7R2BYL9D\\u002fcQhbeUpr1PyfumdrxOfc\\u002fxKZHzW\\u002fV+D\\u002fmkAdZJ1v6P\\u002fFYiNQ5vPs\\u002f+Rsp3Qft\\u002fD+dA4rrEub9P0wwUuToo\\u002f4\\u002fdVFCzT4i\\u002fz8pVtBHFUv\\u002fP+yApFGm1P4\\u002fS4ldWLMr\\u002fT9fcfyS6uz5P3809Lc19\\u002fU\\u002fxJ0U32bh8j+F5bu5Ty7xPxLRdMWBbvA\\u002fBmoh2\\u002fQk8D\\u002fRcvDsbAvwP3fOHg9HA\\u002fA\\u002fnMlTqt8A8D\\u002fvRV90NwDwPzVWxMwMAPA\\u002fIofPwAIA8D+9QWuNAADwPyNNfxoAAPA\\u002fQQekBAAA8D\\u002furMIAAADwP0ffHQAAAPA\\u002frksEAAAA8D9MlAAAAADwPwAAAAAAAPA\\u002f\"},\"yaxis\":\"y\",\"type\":\"scatter\"}],\"name\":\"62\"},{\"data\":[{\"hovertemplate\":\"variable=63\\u003cbr\\u003ex=%{x}\\u003cbr\\u003evalue=%{y}\\u003cextra\\u003e\\u003c\\u002fextra\\u003e\",\"legendgroup\":\"\",\"line\":{\"color\":\"#636efa\",\"dash\":\"solid\"},\"marker\":{\"symbol\":\"circle\"},\"mode\":\"lines\",\"name\":\"\",\"orientation\":\"v\",\"showlegend\":false,\"x\":{\"dtype\":\"f8\",\"bdata\":\"AAAAAAAAAAB7FK5H4XqkP3sUrkfherQ\\u002fuB6F61G4vj97FK5H4XrEP5qZmZmZmck\\u002fuB6F61G4zj\\u002fsUbgehevRP3sUrkfhetQ\\u002fCtejcD0K1z+amZmZmZnZPylcj8L1KNw\\u002fuB6F61G43j+kcD0K16PgP+xRuB6F6+E\\u002fMzMzMzMz4z97FK5H4XrkP8P1KFyPwuU\\u002fCtejcD0K5z9SuB6F61HoP5qZmZmZmek\\u002f4XoUrkfh6j8pXI\\u002fC9SjsP3E9CtejcO0\\u002fuB6F61G47j8AAAAAAADwP6RwPQrXo\\u002fA\\u002fSOF6FK5H8T\\u002fsUbgehevxP4\\u002fC9Shcj\\u002fI\\u002fMzMzMzMz8z\\u002fXo3A9CtfzP3sUrkfhevQ\\u002fH4XrUbge9T\\u002fD9Shcj8L1P2dmZmZmZvY\\u002fCtejcD0K9z+uR+F6FK73P1K4HoXrUfg\\u002f9ihcj8L1+D+amZmZmZn5Pz4K16NwPfo\\u002f4XoUrkfh+j+F61G4HoX7Pylcj8L1KPw\\u002fzczMzMzM\\u002fD9xPQrXo3D9PxWuR+F6FP4\\u002fuB6F61G4\\u002fj9cj8L1KFz\\u002fPwAAAAAAAABA\"},\"xaxis\":\"x\",\"y\":{\"dtype\":\"f8\",\"bdata\":\"AAAAAAAA8D8AAAAAAADwPwAAAAAAAPA\\u002fAAAAAAAA8D8AAAAAAADwPwAAAAAAAPA\\u002fAAAAAAAA8D8AAAAAAADwPwAAAAAAAPA\\u002fAAAAAAAA8D8AAAAAAADwPwAAAAAAAPA\\u002fAAAAAAAA8D+qJNFVAgjwP+2XX+hdMvA\\u002fyM1j98uh8D+Xn\\u002f2sCmrxPysh8XEZh\\u002fI\\u002fFNUKZ5Ll8z8FEg9pZ231P9wXnbWqB\\u002fc\\u002fofKbnzag+D++rj4jqCX6Pz6oYxk5ifs\\u002fsmcYMRy\\u002f\\u002fD9PmT\\u002fSSr\\u002f9P75oh2Wdhf4\\u002f\\u002f37HZcIN\\u002fz+Qdw1ZbUT\\u002fP8LL4tOq5\\u002f4\\u002fX9m0bkNs\\u002fT8LECOFGF36P+0H3LIua\\u002fY\\u002fLkb7eBEv8z\\u002fix5W4PlXxP6Onx\\u002f7rfvA\\u002fPKjgFiQr8D\\u002fteQ8bjw3wPxBjNgX1A\\u002fA\\u002fA+2G9RIB8D9R5g55RQDwPyfCvloQAPA\\u002fmhIklwMA8D8kSV68AADwP+r2EiQAAPA\\u002fFE12BgAA8D91dBUBAADwPxWbKwAAAPA\\u002fUG0GAAAA8D+U4wAAAADwPwAAAAAAAPA\\u002f\"},\"yaxis\":\"y\",\"type\":\"scatter\"}],\"name\":\"63\"},{\"data\":[{\"hovertemplate\":\"variable=64\\u003cbr\\u003ex=%{x}\\u003cbr\\u003evalue=%{y}\\u003cextra\\u003e\\u003c\\u002fextra\\u003e\",\"legendgroup\":\"\",\"line\":{\"color\":\"#636efa\",\"dash\":\"solid\"},\"marker\":{\"symbol\":\"circle\"},\"mode\":\"lines\",\"name\":\"\",\"orientation\":\"v\",\"showlegend\":false,\"x\":{\"dtype\":\"f8\",\"bdata\":\"AAAAAAAAAAB7FK5H4XqkP3sUrkfherQ\\u002fuB6F61G4vj97FK5H4XrEP5qZmZmZmck\\u002fuB6F61G4zj\\u002fsUbgehevRP3sUrkfhetQ\\u002fCtejcD0K1z+amZmZmZnZPylcj8L1KNw\\u002fuB6F61G43j+kcD0K16PgP+xRuB6F6+E\\u002fMzMzMzMz4z97FK5H4XrkP8P1KFyPwuU\\u002fCtejcD0K5z9SuB6F61HoP5qZmZmZmek\\u002f4XoUrkfh6j8pXI\\u002fC9SjsP3E9CtejcO0\\u002fuB6F61G47j8AAAAAAADwP6RwPQrXo\\u002fA\\u002fSOF6FK5H8T\\u002fsUbgehevxP4\\u002fC9Shcj\\u002fI\\u002fMzMzMzMz8z\\u002fXo3A9CtfzP3sUrkfhevQ\\u002fH4XrUbge9T\\u002fD9Shcj8L1P2dmZmZmZvY\\u002fCtejcD0K9z+uR+F6FK73P1K4HoXrUfg\\u002f9ihcj8L1+D+amZmZmZn5Pz4K16NwPfo\\u002f4XoUrkfh+j+F61G4HoX7Pylcj8L1KPw\\u002fzczMzMzM\\u002fD9xPQrXo3D9PxWuR+F6FP4\\u002fuB6F61G4\\u002fj9cj8L1KFz\\u002fPwAAAAAAAABA\"},\"xaxis\":\"x\",\"y\":{\"dtype\":\"f8\",\"bdata\":\"AAAAAAAA8D8AAAAAAADwPwAAAAAAAPA\\u002fAAAAAAAA8D8AAAAAAADwPwAAAAAAAPA\\u002fAAAAAAAA8D8AAAAAAADwPwAAAAAAAPA\\u002fAAAAAAAA8D8AAAAAAADwPwAAAAAAAPA\\u002fAAAAAAAA8D8+3s0jVwfwPypFQyrLLvA\\u002ftuvO5CSY8D\\u002fxudIx4VfxP826UHuXa\\u002fI\\u002flI3ytUDB8z9KH4rXrEH1P7+hje501vY\\u002fZcmIOdBr+D+PISsNn\\u002fD5P0Ua7pY6Vvs\\u002fgHCPn7aQ\\u002fD8wMrDfmZf9Py9wvHoWZv4\\u002fOJNjVb33\\u002fj\\u002fMmm1Dhjv\\u002fP4acQSWZ9v4\\u002fvYu7pmem\\u002fT\\u002fds5ERosj6P\\u002fOAj5ka4fY\\u002fiBPkX8+B8z8Q27QVBYDxP6cWp+ZVkfA\\u002fAU9jPTIy8D\\u002fWFtlGCBDwP04IBw\\u002fCBPA\\u002fZIL2elAB8D\\u002fV6w2ZVgDwP8yg9McUAPA\\u002fqzNxpwQA8D+7HET5AADwP4vowzAAAPA\\u002f5wXuCAAA8D8tMYgBAADwP90XPwAAAPA\\u002fdoYJAAAA8D+5WQEAAADwPwAAAAAAAPA\\u002f\"},\"yaxis\":\"y\",\"type\":\"scatter\"}],\"name\":\"64\"},{\"data\":[{\"hovertemplate\":\"variable=65\\u003cbr\\u003ex=%{x}\\u003cbr\\u003evalue=%{y}\\u003cextra\\u003e\\u003c\\u002fextra\\u003e\",\"legendgroup\":\"\",\"line\":{\"color\":\"#636efa\",\"dash\":\"solid\"},\"marker\":{\"symbol\":\"circle\"},\"mode\":\"lines\",\"name\":\"\",\"orientation\":\"v\",\"showlegend\":false,\"x\":{\"dtype\":\"f8\",\"bdata\":\"AAAAAAAAAAB7FK5H4XqkP3sUrkfherQ\\u002fuB6F61G4vj97FK5H4XrEP5qZmZmZmck\\u002fuB6F61G4zj\\u002fsUbgehevRP3sUrkfhetQ\\u002fCtejcD0K1z+amZmZmZnZPylcj8L1KNw\\u002fuB6F61G43j+kcD0K16PgP+xRuB6F6+E\\u002fMzMzMzMz4z97FK5H4XrkP8P1KFyPwuU\\u002fCtejcD0K5z9SuB6F61HoP5qZmZmZmek\\u002f4XoUrkfh6j8pXI\\u002fC9SjsP3E9CtejcO0\\u002fuB6F61G47j8AAAAAAADwP6RwPQrXo\\u002fA\\u002fSOF6FK5H8T\\u002fsUbgehevxP4\\u002fC9Shcj\\u002fI\\u002fMzMzMzMz8z\\u002fXo3A9CtfzP3sUrkfhevQ\\u002fH4XrUbge9T\\u002fD9Shcj8L1P2dmZmZmZvY\\u002fCtejcD0K9z+uR+F6FK73P1K4HoXrUfg\\u002f9ihcj8L1+D+amZmZmZn5Pz4K16NwPfo\\u002f4XoUrkfh+j+F61G4HoX7Pylcj8L1KPw\\u002fzczMzMzM\\u002fD9xPQrXo3D9PxWuR+F6FP4\\u002fuB6F61G4\\u002fj9cj8L1KFz\\u002fPwAAAAAAAABA\"},\"xaxis\":\"x\",\"y\":{\"dtype\":\"f8\",\"bdata\":\"AAAAAAAA8D8AAAAAAADwPwAAAAAAAPA\\u002fAAAAAAAA8D8AAAAAAADwPwAAAAAAAPA\\u002fAAAAAAAA8D8AAAAAAADwPwAAAAAAAPA\\u002fAAAAAAAA8D8AAAAAAADwPwAAAAAAAPA\\u002fAAAAAAAA8D89OKVDugbwP8M\\u002fg+F3K\\u002fA\\u002f4DpR7wmP8D+MEiFuj0bxP1Qv+uMjUfI\\u002fW2s3aBme8z9QwDGFHRf1PwcZYTZPpvY\\u002fBZKsMUE4+D\\u002fgK\\u002f6EF7z5PwaMwxxQI\\u002fs\\u002fv4Mm1uxh\\u002fD82yEJPFW\\u002f9PxA3IzhlRf4\\u002fbHucUz\\u002fg\\u002fj\\u002fizC55fzD\\u002fP5R4wbi2Af8\\u002f6a\\u002fLgFLa\\u002fT+J76FB\\u002fi77P0snivw1WPc\\u002fcLY6J4XZ8z+Rg2iT2a7xPydlqYHupfA\\u002flGhXwDg68D+RLLL14xLwP9wyNNuyBfA\\u002fltoA+JkB8D8ZAlJsawDwP2AxE0QaAPA\\u002fgYt8\\u002fwUA8D9s48dHAQDwP21CeUEAAPA\\u002fzNg\\u002fDAAA8D\\u002fnAiYCAADwP6SEWgAAAPA\\u002fP\\u002f0NAAAA8D8eCAIAAADwPwAAAAAAAPA\\u002f\"},\"yaxis\":\"y\",\"type\":\"scatter\"}],\"name\":\"65\"},{\"data\":[{\"hovertemplate\":\"variable=66\\u003cbr\\u003ex=%{x}\\u003cbr\\u003evalue=%{y}\\u003cextra\\u003e\\u003c\\u002fextra\\u003e\",\"legendgroup\":\"\",\"line\":{\"color\":\"#636efa\",\"dash\":\"solid\"},\"marker\":{\"symbol\":\"circle\"},\"mode\":\"lines\",\"name\":\"\",\"orientation\":\"v\",\"showlegend\":false,\"x\":{\"dtype\":\"f8\",\"bdata\":\"AAAAAAAAAAB7FK5H4XqkP3sUrkfherQ\\u002fuB6F61G4vj97FK5H4XrEP5qZmZmZmck\\u002fuB6F61G4zj\\u002fsUbgehevRP3sUrkfhetQ\\u002fCtejcD0K1z+amZmZmZnZPylcj8L1KNw\\u002fuB6F61G43j+kcD0K16PgP+xRuB6F6+E\\u002fMzMzMzMz4z97FK5H4XrkP8P1KFyPwuU\\u002fCtejcD0K5z9SuB6F61HoP5qZmZmZmek\\u002f4XoUrkfh6j8pXI\\u002fC9SjsP3E9CtejcO0\\u002fuB6F61G47j8AAAAAAADwP6RwPQrXo\\u002fA\\u002fSOF6FK5H8T\\u002fsUbgehevxP4\\u002fC9Shcj\\u002fI\\u002fMzMzMzMz8z\\u002fXo3A9CtfzP3sUrkfhevQ\\u002fH4XrUbge9T\\u002fD9Shcj8L1P2dmZmZmZvY\\u002fCtejcD0K9z+uR+F6FK73P1K4HoXrUfg\\u002f9ihcj8L1+D+amZmZmZn5Pz4K16NwPfo\\u002f4XoUrkfh+j+F61G4HoX7Pylcj8L1KPw\\u002fzczMzMzM\\u002fD9xPQrXo3D9PxWuR+F6FP4\\u002fuB6F61G4\\u002fj9cj8L1KFz\\u002fPwAAAAAAAABA\"},\"xaxis\":\"x\",\"y\":{\"dtype\":\"f8\",\"bdata\":\"AAAAAAAA8D8AAAAAAADwPwAAAAAAAPA\\u002fAAAAAAAA8D8AAAAAAADwPwAAAAAAAPA\\u002fAAAAAAAA8D8AAAAAAADwPwAAAAAAAPA\\u002fAAAAAAAA8D8AAAAAAADwPwAAAAAAAPA\\u002fAAAAAAAA8D+8MKmBKgbwP5Nh88JfKPA\\u002foH6RlXOG8D93vncqDDbxP1Uvd1C1N\\u002fI\\u002ftixdRhR88z\\u002fIZjuus+30P4BOFr03d\\u002fY\\u002fyJjeLY0F+D+G+nCrG4j5P4K64hWK8Po\\u002fKL\\u002fretMy\\u002fD8CSrIj0kX9P\\u002fgXDUabI\\u002f4\\u002fF3seY1jH\\u002fj+ls8wtdiP\\u002fP1wbuuJECf8\\u002fCvj3MUAI\\u002fj9W+kNavY\\u002f7P5pIRyq0z\\u002fc\\u002f\\u002f0lWQwQ29D\\u002ft2uA57+HxP5jdkgvnvPA\\u002fPDjcOVND8D+t2jrlLhbwP3D4T6zMBvA\\u002fF8YEafEB8D8B2kmjhADwP\\u002f7ceAchAPA\\u002fwBDfrwcA8D\\u002fRTmysAQDwP4YlVVcAAPA\\u002fR0yvEAAA8D9lf\\u002f0CAADwPyrPgAAAAPA\\u002f3V0UAAAA8D82BwMAAADwPwAAAAAAAPA\\u002f\"},\"yaxis\":\"y\",\"type\":\"scatter\"}],\"name\":\"66\"},{\"data\":[{\"hovertemplate\":\"variable=67\\u003cbr\\u003ex=%{x}\\u003cbr\\u003evalue=%{y}\\u003cextra\\u003e\\u003c\\u002fextra\\u003e\",\"legendgroup\":\"\",\"line\":{\"color\":\"#636efa\",\"dash\":\"solid\"},\"marker\":{\"symbol\":\"circle\"},\"mode\":\"lines\",\"name\":\"\",\"orientation\":\"v\",\"showlegend\":false,\"x\":{\"dtype\":\"f8\",\"bdata\":\"AAAAAAAAAAB7FK5H4XqkP3sUrkfherQ\\u002fuB6F61G4vj97FK5H4XrEP5qZmZmZmck\\u002fuB6F61G4zj\\u002fsUbgehevRP3sUrkfhetQ\\u002fCtejcD0K1z+amZmZmZnZPylcj8L1KNw\\u002fuB6F61G43j+kcD0K16PgP+xRuB6F6+E\\u002fMzMzMzMz4z97FK5H4XrkP8P1KFyPwuU\\u002fCtejcD0K5z9SuB6F61HoP5qZmZmZmek\\u002f4XoUrkfh6j8pXI\\u002fC9SjsP3E9CtejcO0\\u002fuB6F61G47j8AAAAAAADwP6RwPQrXo\\u002fA\\u002fSOF6FK5H8T\\u002fsUbgehevxP4\\u002fC9Shcj\\u002fI\\u002fMzMzMzMz8z\\u002fXo3A9CtfzP3sUrkfhevQ\\u002fH4XrUbge9T\\u002fD9Shcj8L1P2dmZmZmZvY\\u002fCtejcD0K9z+uR+F6FK73P1K4HoXrUfg\\u002f9ihcj8L1+D+amZmZmZn5Pz4K16NwPfo\\u002f4XoUrkfh+j+F61G4HoX7Pylcj8L1KPw\\u002fzczMzMzM\\u002fD9xPQrXo3D9PxWuR+F6FP4\\u002fuB6F61G4\\u002fj9cj8L1KFz\\u002fPwAAAAAAAABA\"},\"xaxis\":\"x\",\"y\":{\"dtype\":\"f8\",\"bdata\":\"AAAAAAAA8D8AAAAAAADwPwAAAAAAAPA\\u002fAAAAAAAA8D8AAAAAAADwPwAAAAAAAPA\\u002fAAAAAAAA8D8AAAAAAADwPwAAAAAAAPA\\u002fAAAAAAAA8D8AAAAAAADwPwAAAAAAAPA\\u002fAAAAAAAA8D+ykynEpgXwP+ctBcx+JfA\\u002fB9U2uFp+8D\\u002fcbz6PTibxP6s+drJCH\\u002fI\\u002fdIEdQSlb8z8aWL14acX0P6P5S0MsSfY\\u002f9LZQ+7bT9z8VGslrtFT5P8jS5ZT3vfo\\u002faCHBIH4D\\u002fD+k\\u002fLUB5Rv9PwyvUrfKAP4\\u002fa8Pb1Rit\\u002fj+qV0ewhRT\\u002fP3xZjsaADf8\\u002ftMkM+XMw\\u002fj8CGyxHier7PxejytLDRvg\\u002fDUL\\u002f4wmX9D8m4WbbcxnyP2WLu7Jy1vA\\u002fEilJgp9N8D8TmXgj9xnwP9bSMGcVCPA\\u002f15mKEFkC8D\\u002fYaxUKowDwP7wUhlQpAPA\\u002f2DqCzAkA8D9l7LUsAgDwP+e+wXMAAPA\\u002fvXOSFgAA8D\\u002fNpSEEAADwP9rdtQAAAPA\\u002fTmcdAAAA8D8ZeQQAAADwPwAAAAAAAPA\\u002f\"},\"yaxis\":\"y\",\"type\":\"scatter\"}],\"name\":\"67\"},{\"data\":[{\"hovertemplate\":\"variable=68\\u003cbr\\u003ex=%{x}\\u003cbr\\u003evalue=%{y}\\u003cextra\\u003e\\u003c\\u002fextra\\u003e\",\"legendgroup\":\"\",\"line\":{\"color\":\"#636efa\",\"dash\":\"solid\"},\"marker\":{\"symbol\":\"circle\"},\"mode\":\"lines\",\"name\":\"\",\"orientation\":\"v\",\"showlegend\":false,\"x\":{\"dtype\":\"f8\",\"bdata\":\"AAAAAAAAAAB7FK5H4XqkP3sUrkfherQ\\u002fuB6F61G4vj97FK5H4XrEP5qZmZmZmck\\u002fuB6F61G4zj\\u002fsUbgehevRP3sUrkfhetQ\\u002fCtejcD0K1z+amZmZmZnZPylcj8L1KNw\\u002fuB6F61G43j+kcD0K16PgP+xRuB6F6+E\\u002fMzMzMzMz4z97FK5H4XrkP8P1KFyPwuU\\u002fCtejcD0K5z9SuB6F61HoP5qZmZmZmek\\u002f4XoUrkfh6j8pXI\\u002fC9SjsP3E9CtejcO0\\u002fuB6F61G47j8AAAAAAADwP6RwPQrXo\\u002fA\\u002fSOF6FK5H8T\\u002fsUbgehevxP4\\u002fC9Shcj\\u002fI\\u002fMzMzMzMz8z\\u002fXo3A9CtfzP3sUrkfhevQ\\u002fH4XrUbge9T\\u002fD9Shcj8L1P2dmZmZmZvY\\u002fCtejcD0K9z+uR+F6FK73P1K4HoXrUfg\\u002f9ihcj8L1+D+amZmZmZn5Pz4K16NwPfo\\u002f4XoUrkfh+j+F61G4HoX7Pylcj8L1KPw\\u002fzczMzMzM\\u002fD9xPQrXo3D9PxWuR+F6FP4\\u002fuB6F61G4\\u002fj9cj8L1KFz\\u002fPwAAAAAAAABA\"},\"xaxis\":\"x\",\"y\":{\"dtype\":\"f8\",\"bdata\":\"AAAAAAAA8D8AAAAAAADwPwAAAAAAAPA\\u002fAAAAAAAA8D8AAAAAAADwPwAAAAAAAPA\\u002fAAAAAAAA8D8AAAAAAADwPwAAAAAAAPA\\u002fAAAAAAAA8D8AAAAAAADwPwAAAAAAAPA\\u002fAAAAAAAA8D\\u002foCzsJLgXwP9rBCT7RIvA\\u002f\\u002f1jjlLh28D+7144gThfxPywBmEbDB\\u002fI\\u002fgk4uc1A78z+dCLr8OJ70P2Zm9ykqHPY\\u002fbanQpMCi9z\\u002fr0yeT6SH5PxPnCmKmi\\u002fo\\u002f3sxpQP\\u002fT+z8k1SYQYvH8P0D5ReEF3f0\\u002fWnq+SZGR\\u002fj9Y3Ki5xwP\\u002fP3g+VWWjDv8\\u002fpHnhwTVT\\u002fj92\\u002f0geJT\\u002f8P9fB\\u002fOyTvPg\\u002fyEkMUT789D9TZc9xjlXyP5LbCTvG8vA\\u002fuNsFwj1Z8D9YzcknTB7wP+udR6KTCfA\\u002f\\u002fSYNf9MC8D8qJBOMxwDwP1jkFnkzAPA\\u002fodMubQwA8D9fXlzPAgDwP7vDgJgAAPA\\u002ftmRWHgAA8D9MDKsFAADwPy7Z\\u002fgAAAPA\\u002f2hsqAAAA8D\\u002fzjAYAAADwPwAAAAAAAPA\\u002f\"},\"yaxis\":\"y\",\"type\":\"scatter\"}],\"name\":\"68\"},{\"data\":[{\"hovertemplate\":\"variable=69\\u003cbr\\u003ex=%{x}\\u003cbr\\u003evalue=%{y}\\u003cextra\\u003e\\u003c\\u002fextra\\u003e\",\"legendgroup\":\"\",\"line\":{\"color\":\"#636efa\",\"dash\":\"solid\"},\"marker\":{\"symbol\":\"circle\"},\"mode\":\"lines\",\"name\":\"\",\"orientation\":\"v\",\"showlegend\":false,\"x\":{\"dtype\":\"f8\",\"bdata\":\"AAAAAAAAAAB7FK5H4XqkP3sUrkfherQ\\u002fuB6F61G4vj97FK5H4XrEP5qZmZmZmck\\u002fuB6F61G4zj\\u002fsUbgehevRP3sUrkfhetQ\\u002fCtejcD0K1z+amZmZmZnZPylcj8L1KNw\\u002fuB6F61G43j+kcD0K16PgP+xRuB6F6+E\\u002fMzMzMzMz4z97FK5H4XrkP8P1KFyPwuU\\u002fCtejcD0K5z9SuB6F61HoP5qZmZmZmek\\u002f4XoUrkfh6j8pXI\\u002fC9SjsP3E9CtejcO0\\u002fuB6F61G47j8AAAAAAADwP6RwPQrXo\\u002fA\\u002fSOF6FK5H8T\\u002fsUbgehevxP4\\u002fC9Shcj\\u002fI\\u002fMzMzMzMz8z\\u002fXo3A9CtfzP3sUrkfhevQ\\u002fH4XrUbge9T\\u002fD9Shcj8L1P2dmZmZmZvY\\u002fCtejcD0K9z+uR+F6FK73P1K4HoXrUfg\\u002f9ihcj8L1+D+amZmZmZn5Pz4K16NwPfo\\u002f4XoUrkfh+j+F61G4HoX7Pylcj8L1KPw\\u002fzczMzMzM\\u002fD9xPQrXo3D9PxWuR+F6FP4\\u002fuB6F61G4\\u002fj9cj8L1KFz\\u002fPwAAAAAAAABA\"},\"xaxis\":\"x\",\"y\":{\"dtype\":\"f8\",\"bdata\":\"AAAAAAAA8D8AAAAAAADwPwAAAAAAAPA\\u002fAAAAAAAA8D8AAAAAAADwPwAAAAAAAPA\\u002fAAAAAAAA8D8AAAAAAADwPwAAAAAAAPA\\u002fAAAAAAAA8D8AAAAAAADwPwAAAAAAAPA\\u002fAAAAAAAA8D+\\u002f8K9kvwTwP7pHxZlTIPA\\u002fb2h6wYZv8D\\u002fVRkS6AgnxP5ReMpIu8fE\\u002fWxOFIoIc8z+1owhLHHj0PyjdZoAu8PU\\u002fN+I7h6ty9z8EgvXmwe\\u002f4P07AhwqjWfo\\u002fXzqhNWik+z8BvGbdXMb8P1In6TVfuP0\\u002f08qEn9J0\\u002fj\\u002f3Z+6vVPH+P5pWW8ThDP8\\u002fi8D1HdBw\\u002fj8PYSHda438P\\u002fwpSKBYMPk\\u002fgQgD5DRl9T9rox1cXZbyP+vq6oQXEvE\\u002fQSEWflBm8D+sFnDsPiPwP0fY\\u002fLVOC\\u002fA\\u002fHK1sm2MD8D8nhcg38wDwP23xKNA\\u002fAPA\\u002f+Fsvrg8A8D+BYYOcAwDwPwu9vccAAPA\\u002fX5eEKAAA8D+rU7kHAADwPxuIYgEAAPA\\u002fTNY7AAAA8D+GgwkAAADwPwAAAAAAAPA\\u002f\"},\"yaxis\":\"y\",\"type\":\"scatter\"}],\"name\":\"69\"},{\"data\":[{\"hovertemplate\":\"variable=70\\u003cbr\\u003ex=%{x}\\u003cbr\\u003evalue=%{y}\\u003cextra\\u003e\\u003c\\u002fextra\\u003e\",\"legendgroup\":\"\",\"line\":{\"color\":\"#636efa\",\"dash\":\"solid\"},\"marker\":{\"symbol\":\"circle\"},\"mode\":\"lines\",\"name\":\"\",\"orientation\":\"v\",\"showlegend\":false,\"x\":{\"dtype\":\"f8\",\"bdata\":\"AAAAAAAAAAB7FK5H4XqkP3sUrkfherQ\\u002fuB6F61G4vj97FK5H4XrEP5qZmZmZmck\\u002fuB6F61G4zj\\u002fsUbgehevRP3sUrkfhetQ\\u002fCtejcD0K1z+amZmZmZnZPylcj8L1KNw\\u002fuB6F61G43j+kcD0K16PgP+xRuB6F6+E\\u002fMzMzMzMz4z97FK5H4XrkP8P1KFyPwuU\\u002fCtejcD0K5z9SuB6F61HoP5qZmZmZmek\\u002f4XoUrkfh6j8pXI\\u002fC9SjsP3E9CtejcO0\\u002fuB6F61G47j8AAAAAAADwP6RwPQrXo\\u002fA\\u002fSOF6FK5H8T\\u002fsUbgehevxP4\\u002fC9Shcj\\u002fI\\u002fMzMzMzMz8z\\u002fXo3A9CtfzP3sUrkfhevQ\\u002fH4XrUbge9T\\u002fD9Shcj8L1P2dmZmZmZvY\\u002fCtejcD0K9z+uR+F6FK73P1K4HoXrUfg\\u002f9ihcj8L1+D+amZmZmZn5Pz4K16NwPfo\\u002f4XoUrkfh+j+F61G4HoX7Pylcj8L1KPw\\u002fzczMzMzM\\u002fD9xPQrXo3D9PxWuR+F6FP4\\u002fuB6F61G4\\u002fj9cj8L1KFz\\u002fPwAAAAAAAABA\"},\"xaxis\":\"x\",\"y\":{\"dtype\":\"f8\",\"bdata\":\"AAAAAAAA8D8AAAAAAADwPwAAAAAAAPA\\u002fAAAAAAAA8D8AAAAAAADwPwAAAAAAAPA\\u002fAAAAAAAA8D8AAAAAAADwPwAAAAAAAPA\\u002fAAAAAAAA8D8AAAAAAADwPwAAAAAAAPA\\u002fAAAAAAAA8D99Sz7+WQTwP97UTZsCHvA\\u002fs9isJ79o8D8TNz+MZPvwP6RLEGF82\\u002fE\\u002fbR0swbb+8j+t9D1zDVP0P7CmuBA2xfU\\u002f7RE8ZHhD9z9Uk0c6Q774P0t6uPD4J\\u002fo\\u002flU6gP8l0+z9GVLlJ6Jr8PyOF8yDpkv0\\u002f09057e1W\\u002fj8updvdQ93+P4lN2CNtCP8\\u002fm9Rsk46J\\u002fj+COhuJTtX8PwWj0PNPofk\\u002fou5BtGzR9T\\u002fXlsaG9NvyP95ov\\u002fScNPE\\u002fB4+8nfx08D+avWwI4ijwPy3YGc5ODfA\\u002f7xIWrAwE8D+qJi1DJwHwPz7escNOAPA\\u002fvxYIsRMA8D8om\\u002fydBADwP7GNIwQBAPA\\u002fpFrJNQAA8D+m7nQKAADwP7zD6QEAAPA\\u002fHWVUAAAA8D8XtQ0AAADwPwAAAAAAAPA\\u002f\"},\"yaxis\":\"y\",\"type\":\"scatter\"}],\"name\":\"70\"},{\"data\":[{\"hovertemplate\":\"variable=71\\u003cbr\\u003ex=%{x}\\u003cbr\\u003evalue=%{y}\\u003cextra\\u003e\\u003c\\u002fextra\\u003e\",\"legendgroup\":\"\",\"line\":{\"color\":\"#636efa\",\"dash\":\"solid\"},\"marker\":{\"symbol\":\"circle\"},\"mode\":\"lines\",\"name\":\"\",\"orientation\":\"v\",\"showlegend\":false,\"x\":{\"dtype\":\"f8\",\"bdata\":\"AAAAAAAAAAB7FK5H4XqkP3sUrkfherQ\\u002fuB6F61G4vj97FK5H4XrEP5qZmZmZmck\\u002fuB6F61G4zj\\u002fsUbgehevRP3sUrkfhetQ\\u002fCtejcD0K1z+amZmZmZnZPylcj8L1KNw\\u002fuB6F61G43j+kcD0K16PgP+xRuB6F6+E\\u002fMzMzMzMz4z97FK5H4XrkP8P1KFyPwuU\\u002fCtejcD0K5z9SuB6F61HoP5qZmZmZmek\\u002f4XoUrkfh6j8pXI\\u002fC9SjsP3E9CtejcO0\\u002fuB6F61G47j8AAAAAAADwP6RwPQrXo\\u002fA\\u002fSOF6FK5H8T\\u002fsUbgehevxP4\\u002fC9Shcj\\u002fI\\u002fMzMzMzMz8z\\u002fXo3A9CtfzP3sUrkfhevQ\\u002fH4XrUbge9T\\u002fD9Shcj8L1P2dmZmZmZvY\\u002fCtejcD0K9z+uR+F6FK73P1K4HoXrUfg\\u002f9ihcj8L1+D+amZmZmZn5Pz4K16NwPfo\\u002f4XoUrkfh+j+F61G4HoX7Pylcj8L1KPw\\u002fzczMzMzM\\u002fD9xPQrXo3D9PxWuR+F6FP4\\u002fuB6F61G4\\u002fj9cj8L1KFz\\u002fPwAAAAAAAABA\"},\"xaxis\":\"x\",\"y\":{\"dtype\":\"f8\",\"bdata\":\"AAAAAAAA8D8AAAAAAADwPwAAAAAAAPA\\u002fAAAAAAAA8D8AAAAAAADwPwAAAAAAAPA\\u002fAAAAAAAA8D8AAAAAAADwPwAAAAAAAPA\\u002fAAAAAAAA8D8AAAAAAADwPwAAAAAAAPA\\u002fAAAAAAAA8D\\u002fq\\u002fs4P\\u002fQPwP9UmMDbbG\\u002fA\\u002fXOLFAFxi8D\\u002fvR9oWbO7wP4CxM8OkxvE\\u002f7Vq77ebh8j+8+LSIBi\\u002f0P1So7Go9m\\u002fU\\u002fONZkcycV9z+XOiuCco34PxaXylyy9vk\\u002f1at\\u002fhDFF+z94Iy92Fm\\u002f8P\\u002fYmAui1bP0\\u002f+e2VbfQ3\\u002fj\\u002fqgYWgq8f+P0fFnz9zAf8\\u002fULECP7yd\\u002fj\\u002fuHcTe0Rb9P0893AjGDvo\\u002f8xYYA1JA9j\\u002fmzM+MWybzP4a5d7eMWvE\\u002fvj1RZ2mF8D\\u002f6IFXJSS\\u002fwP0dyP\\u002fycD\\u002fA\\u002fjdzoYNIE8D\\u002fyYl8QZQHwPxBKqs5gAPA\\u002fWvZGnRgA8D9CQpPfBQDwPwep9VABAPA\\u002fyon7RgAA8D\\u002f+TBEOAADwP1AHoAIAAPA\\u002fAC12AAAA8D8YmRMAAADwPwAAAAAAAPA\\u002f\"},\"yaxis\":\"y\",\"type\":\"scatter\"}],\"name\":\"71\"},{\"data\":[{\"hovertemplate\":\"variable=72\\u003cbr\\u003ex=%{x}\\u003cbr\\u003evalue=%{y}\\u003cextra\\u003e\\u003c\\u002fextra\\u003e\",\"legendgroup\":\"\",\"line\":{\"color\":\"#636efa\",\"dash\":\"solid\"},\"marker\":{\"symbol\":\"circle\"},\"mode\":\"lines\",\"name\":\"\",\"orientation\":\"v\",\"showlegend\":false,\"x\":{\"dtype\":\"f8\",\"bdata\":\"AAAAAAAAAAB7FK5H4XqkP3sUrkfherQ\\u002fuB6F61G4vj97FK5H4XrEP5qZmZmZmck\\u002fuB6F61G4zj\\u002fsUbgehevRP3sUrkfhetQ\\u002fCtejcD0K1z+amZmZmZnZPylcj8L1KNw\\u002fuB6F61G43j+kcD0K16PgP+xRuB6F6+E\\u002fMzMzMzMz4z97FK5H4XrkP8P1KFyPwuU\\u002fCtejcD0K5z9SuB6F61HoP5qZmZmZmek\\u002f4XoUrkfh6j8pXI\\u002fC9SjsP3E9CtejcO0\\u002fuB6F61G47j8AAAAAAADwP6RwPQrXo\\u002fA\\u002fSOF6FK5H8T\\u002fsUbgehevxP4\\u002fC9Shcj\\u002fI\\u002fMzMzMzMz8z\\u002fXo3A9CtfzP3sUrkfhevQ\\u002fH4XrUbge9T\\u002fD9Shcj8L1P2dmZmZmZvY\\u002fCtejcD0K9z+uR+F6FK73P1K4HoXrUfg\\u002f9ihcj8L1+D+amZmZmZn5Pz4K16NwPfo\\u002f4XoUrkfh+j+F61G4HoX7Pylcj8L1KPw\\u002fzczMzMzM\\u002fD9xPQrXo3D9PxWuR+F6FP4\\u002fuB6F61G4\\u002fj9cj8L1KFz\\u002fPwAAAAAAAABA\"},\"xaxis\":\"x\",\"y\":{\"dtype\":\"f8\",\"bdata\":\"AAAAAAAA8D8AAAAAAADwPwAAAAAAAPA\\u002fAAAAAAAA8D8AAAAAAADwPwAAAAAAAPA\\u002fAAAAAAAA8D8AAAAAAADwPwAAAAAAAPA\\u002fAAAAAAAA8D8AAAAAAADwPwAAAAAAAPA\\u002fAAAAAAAA8D80YPLjpwPwP+8y1ZHaGfA\\u002f5wG00Vdc8D+wKI4nEuLwP0vOnQqgsvE\\u002fXySEcwvG8j9O29KmAQz0PxKts+5AcvU\\u002f3y3Mcbjn9j+z5sfoU134P2iclo3Yxfk\\u002fMlHzFq8V+z9h5Lq3+EL8P5kjLI7XRf0\\u002f6x1lbfcX\\u002fj+GTI2LobD+P7hS4ZQe+P4\\u002f7KaDwqKt\\u002fj\\u002fBR3W7C1L9P5KWIK8YePo\\u002f772pakCx9j+bIeDji3XzP0gNo+EbhPE\\u002fA\\u002fkhcsCX8D9xJKtMjDbwP25KZ0tDEvA\\u002fdVzm3bgF8D9OZMoyrgHwP8vvUX92APA\\u002f+dNtoR4A8D+yzmJvBwDwP8t9LbIBAPA\\u002fcbclXQAA8D++fM8SAADwP3QilAMAAPA\\u002fh1SkAAAA8D8W0BsAAADwPwAAAAAAAPA\\u002f\"},\"yaxis\":\"y\",\"type\":\"scatter\"}],\"name\":\"72\"},{\"data\":[{\"hovertemplate\":\"variable=73\\u003cbr\\u003ex=%{x}\\u003cbr\\u003evalue=%{y}\\u003cextra\\u003e\\u003c\\u002fextra\\u003e\",\"legendgroup\":\"\",\"line\":{\"color\":\"#636efa\",\"dash\":\"solid\"},\"marker\":{\"symbol\":\"circle\"},\"mode\":\"lines\",\"name\":\"\",\"orientation\":\"v\",\"showlegend\":false,\"x\":{\"dtype\":\"f8\",\"bdata\":\"AAAAAAAAAAB7FK5H4XqkP3sUrkfherQ\\u002fuB6F61G4vj97FK5H4XrEP5qZmZmZmck\\u002fuB6F61G4zj\\u002fsUbgehevRP3sUrkfhetQ\\u002fCtejcD0K1z+amZmZmZnZPylcj8L1KNw\\u002fuB6F61G43j+kcD0K16PgP+xRuB6F6+E\\u002fMzMzMzMz4z97FK5H4XrkP8P1KFyPwuU\\u002fCtejcD0K5z9SuB6F61HoP5qZmZmZmek\\u002f4XoUrkfh6j8pXI\\u002fC9SjsP3E9CtejcO0\\u002fuB6F61G47j8AAAAAAADwP6RwPQrXo\\u002fA\\u002fSOF6FK5H8T\\u002fsUbgehevxP4\\u002fC9Shcj\\u002fI\\u002fMzMzMzMz8z\\u002fXo3A9CtfzP3sUrkfhevQ\\u002fH4XrUbge9T\\u002fD9Shcj8L1P2dmZmZmZvY\\u002fCtejcD0K9z+uR+F6FK73P1K4HoXrUfg\\u002f9ihcj8L1+D+amZmZmZn5Pz4K16NwPfo\\u002f4XoUrkfh+j+F61G4HoX7Pylcj8L1KPw\\u002fzczMzMzM\\u002fD9xPQrXo3D9PxWuR+F6FP4\\u002fuB6F61G4\\u002fj9cj8L1KFz\\u002fPwAAAAAAAABA\"},\"xaxis\":\"x\",\"y\":{\"dtype\":\"f8\",\"bdata\":\"AAAAAAAA8D8AAAAAAADwPwAAAAAAAPA\\u002fAAAAAAAA8D8AAAAAAADwPwAAAAAAAPA\\u002fAAAAAAAA8D8AAAAAAADwPwAAAAAAAPA\\u002fAAAAAAAA8D8AAAAAAADwPwAAAAAAAPA\\u002fAAAAAAAA8D+w6XbUWQPwP3zrIwb+F\\u002fA\\u002fR3ZJZ61W8D\\u002fD58HVT9bwP3B6Iclmn\\u002fE\\u002fiS19Sh2r8j\\u002fl8p70+OnzP1KYHNQ8SvU\\u002fLMM3sCq79j8Q+FPf6i34P17YaMlzlfk\\u002flefo\\u002fU7m+j+FcASOnxb8P+cUErtfHv0\\u002fZBXqNwj3\\u002fT+cwx2FOpj+PyeCMqmW7P4\\u002fhBptd4m5\\u002fj8WfO5oIIf9P3byiy663Po\\u002fTFlCxoUj9z+BRvMob8nzPxarE2d9sfE\\u002f1Vvoii2s8D8uFieYwT7wP8V0Z9RMFfA\\u002fo3G0xsQG8D88r8V0BALwP4CusXmQAPA\\u002fgYX58yUA8D8V9TleCQDwP9mmnCwCAPA\\u002fngiReQAA8D\\u002f\\u002fVgEZAADwP6UU2QQAAPA\\u002fBfviAAAA8D91MCcAAADwPwAAAAAAAPA\\u002f\"},\"yaxis\":\"y\",\"type\":\"scatter\"}],\"name\":\"73\"},{\"data\":[{\"hovertemplate\":\"variable=74\\u003cbr\\u003ex=%{x}\\u003cbr\\u003evalue=%{y}\\u003cextra\\u003e\\u003c\\u002fextra\\u003e\",\"legendgroup\":\"\",\"line\":{\"color\":\"#636efa\",\"dash\":\"solid\"},\"marker\":{\"symbol\":\"circle\"},\"mode\":\"lines\",\"name\":\"\",\"orientation\":\"v\",\"showlegend\":false,\"x\":{\"dtype\":\"f8\",\"bdata\":\"AAAAAAAAAAB7FK5H4XqkP3sUrkfherQ\\u002fuB6F61G4vj97FK5H4XrEP5qZmZmZmck\\u002fuB6F61G4zj\\u002fsUbgehevRP3sUrkfhetQ\\u002fCtejcD0K1z+amZmZmZnZPylcj8L1KNw\\u002fuB6F61G43j+kcD0K16PgP+xRuB6F6+E\\u002fMzMzMzMz4z97FK5H4XrkP8P1KFyPwuU\\u002fCtejcD0K5z9SuB6F61HoP5qZmZmZmek\\u002f4XoUrkfh6j8pXI\\u002fC9SjsP3E9CtejcO0\\u002fuB6F61G47j8AAAAAAADwP6RwPQrXo\\u002fA\\u002fSOF6FK5H8T\\u002fsUbgehevxP4\\u002fC9Shcj\\u002fI\\u002fMzMzMzMz8z\\u002fXo3A9CtfzP3sUrkfhevQ\\u002fH4XrUbge9T\\u002fD9Shcj8L1P2dmZmZmZvY\\u002fCtejcD0K9z+uR+F6FK73P1K4HoXrUfg\\u002f9ihcj8L1+D+amZmZmZn5Pz4K16NwPfo\\u002f4XoUrkfh+j+F61G4HoX7Pylcj8L1KPw\\u002fzczMzMzM\\u002fD9xPQrXo3D9PxWuR+F6FP4\\u002fuB6F61G4\\u002fj9cj8L1KFz\\u002fPwAAAAAAAABA\"},\"xaxis\":\"x\",\"y\":{\"dtype\":\"f8\",\"bdata\":\"AAAAAAAA8D8AAAAAAADwPwAAAAAAAPA\\u002fAAAAAAAA8D8AAAAAAADwPwAAAAAAAPA\\u002fAAAAAAAA8D8AAAAAAADwPwAAAAAAAPA\\u002fAAAAAAAA8D8AAAAAAADwPwAAAAAAAPA\\u002fAAAAAAAA8D+bAB9JEgPwP5ECWxhDFvA\\u002fS2iw0ldR8D8tJMV\\u002fHsvwP+z1Qc7xjPE\\u002fUvH5lhWR8j+Af8Sn5sjzP+MBPTMtI\\u002fU\\u002fIvn4H32P9j+87tsuOv\\u002f3P22khm6LZfk\\u002fp3qfPR23+j8aGoydGur7P6Q\\u002fZqVf9vw\\u002f1BEIAzjV\\u002fT9SSMTain7+PxFCG1AA3\\u002f4\\u002fnr133LTB\\u002fj9LGrbsP7b9Px9TTzEzPPs\\u002fFMLGvWWW9z8MilKm3SH0PyL7ferg4vE\\u002fJfkciN7C8D8mzjywA0jwP5nqaNPFGPA\\u002fcLf9SvsH8D8MqrbdaQLwP6SWYHqvAPA\\u002fYZeI1C4A8D\\u002fVUAvACwDwPzmCFMYCAPA\\u002fjAHSnQAA8D+DUA0hAADwPy0ahwYAAPA\\u002fKH03AQAA8D+s1jYAAADwPwAAAAAAAPA\\u002f\"},\"yaxis\":\"y\",\"type\":\"scatter\"}],\"name\":\"74\"},{\"data\":[{\"hovertemplate\":\"variable=75\\u003cbr\\u003ex=%{x}\\u003cbr\\u003evalue=%{y}\\u003cextra\\u003e\\u003c\\u002fextra\\u003e\",\"legendgroup\":\"\",\"line\":{\"color\":\"#636efa\",\"dash\":\"solid\"},\"marker\":{\"symbol\":\"circle\"},\"mode\":\"lines\",\"name\":\"\",\"orientation\":\"v\",\"showlegend\":false,\"x\":{\"dtype\":\"f8\",\"bdata\":\"AAAAAAAAAAB7FK5H4XqkP3sUrkfherQ\\u002fuB6F61G4vj97FK5H4XrEP5qZmZmZmck\\u002fuB6F61G4zj\\u002fsUbgehevRP3sUrkfhetQ\\u002fCtejcD0K1z+amZmZmZnZPylcj8L1KNw\\u002fuB6F61G43j+kcD0K16PgP+xRuB6F6+E\\u002fMzMzMzMz4z97FK5H4XrkP8P1KFyPwuU\\u002fCtejcD0K5z9SuB6F61HoP5qZmZmZmek\\u002f4XoUrkfh6j8pXI\\u002fC9SjsP3E9CtejcO0\\u002fuB6F61G47j8AAAAAAADwP6RwPQrXo\\u002fA\\u002fSOF6FK5H8T\\u002fsUbgehevxP4\\u002fC9Shcj\\u002fI\\u002fMzMzMzMz8z\\u002fXo3A9CtfzP3sUrkfhevQ\\u002fH4XrUbge9T\\u002fD9Shcj8L1P2dmZmZmZvY\\u002fCtejcD0K9z+uR+F6FK73P1K4HoXrUfg\\u002f9ihcj8L1+D+amZmZmZn5Pz4K16NwPfo\\u002f4XoUrkfh+j+F61G4HoX7Pylcj8L1KPw\\u002fzczMzMzM\\u002fD9xPQrXo3D9PxWuR+F6FP4\\u002fuB6F61G4\\u002fj9cj8L1KFz\\u002fPwAAAAAAAABA\"},\"xaxis\":\"x\",\"y\":{\"dtype\":\"f8\",\"bdata\":\"AAAAAAAA8D8AAAAAAADwPwAAAAAAAPA\\u002fAAAAAAAA8D8AAAAAAADwPwAAAAAAAPA\\u002fAAAAAAAA8D8AAAAAAADwPwAAAAAAAPA\\u002fAAAAAAAA8D8AAAAAAADwPwAAAAAAAPA\\u002fAAAAAAAA8D8aD3O20ALwPwPMHninFPA\\u002fvB8PZlJM8D8aq\\u002fHHd8DwP9k5ICU6e\\u002fE\\u002fQE43qe138j8GZBEHxajzPzQg8AoO\\u002ffQ\\u002fXRWRXq5k9j+Fx+AHRNH3P2OASAMmNvk\\u002f+Vvc4SSI+j9xtLOseL37P5fI1QDozfw\\u002fLCHZ25ey\\u002fT9n0zxQpmP+P2QjMe19z\\u002f4\\u002ffJKkNGbG\\u002fj+XuiZ2o9\\u002f9P5GPssgjlvs\\u002fgMad0R0J+D8bOkgtnX70P2tSLGZxGPI\\u002fkA8yCwPc8D+uoPyrblLwP8JVOL67HPA\\u002f3Ui4M2IJ8D9bBL244ALwPxpqkVnUAPA\\u002fyqIkjTkA8D9OPG2sDgDwP07fk4UDAPA\\u002fC47XywAA8D8ECnMrAADwPwr0vAgAAPA\\u002fPsqoAQAA8D\\u002fhOUwAAADwPwAAAAAAAPA\\u002f\"},\"yaxis\":\"y\",\"type\":\"scatter\"}],\"name\":\"75\"},{\"data\":[{\"hovertemplate\":\"variable=76\\u003cbr\\u003ex=%{x}\\u003cbr\\u003evalue=%{y}\\u003cextra\\u003e\\u003c\\u002fextra\\u003e\",\"legendgroup\":\"\",\"line\":{\"color\":\"#636efa\",\"dash\":\"solid\"},\"marker\":{\"symbol\":\"circle\"},\"mode\":\"lines\",\"name\":\"\",\"orientation\":\"v\",\"showlegend\":false,\"x\":{\"dtype\":\"f8\",\"bdata\":\"AAAAAAAAAAB7FK5H4XqkP3sUrkfherQ\\u002fuB6F61G4vj97FK5H4XrEP5qZmZmZmck\\u002fuB6F61G4zj\\u002fsUbgehevRP3sUrkfhetQ\\u002fCtejcD0K1z+amZmZmZnZPylcj8L1KNw\\u002fuB6F61G43j+kcD0K16PgP+xRuB6F6+E\\u002fMzMzMzMz4z97FK5H4XrkP8P1KFyPwuU\\u002fCtejcD0K5z9SuB6F61HoP5qZmZmZmek\\u002f4XoUrkfh6j8pXI\\u002fC9SjsP3E9CtejcO0\\u002fuB6F61G47j8AAAAAAADwP6RwPQrXo\\u002fA\\u002fSOF6FK5H8T\\u002fsUbgehevxP4\\u002fC9Shcj\\u002fI\\u002fMzMzMzMz8z\\u002fXo3A9CtfzP3sUrkfhevQ\\u002fH4XrUbge9T\\u002fD9Shcj8L1P2dmZmZmZvY\\u002fCtejcD0K9z+uR+F6FK73P1K4HoXrUfg\\u002f9ihcj8L1+D+amZmZmZn5Pz4K16NwPfo\\u002f4XoUrkfh+j+F61G4HoX7Pylcj8L1KPw\\u002fzczMzMzM\\u002fD9xPQrXo3D9PxWuR+F6FP4\\u002fuB6F61G4\\u002fj9cj8L1KFz\\u002fPwAAAAAAAABA\"},\"xaxis\":\"x\",\"y\":{\"dtype\":\"f8\",\"bdata\":\"AAAAAAAA8D8AAAAAAADwPwAAAAAAAPA\\u002fAAAAAAAA8D8AAAAAAADwPwAAAAAAAPA\\u002fAAAAAAAA8D8AAAAAAADwPwAAAAAAAPA\\u002fAAAAAAAA8D8AAAAAAADwPwAAAAAAAPA\\u002fAAAAAAAA8D\\u002fMdK2clALwP9iwt\\u002fwoE\\u002fA\\u002f0fxYsZhH8D8BHvKRVbbwP8Q\\u002feBI5avE\\u002f2aLF\\u002fJ5f8j9J04JsjonzP8VyxEbb1\\u002fQ\\u002fE\\u002f41wLw69j\\u002fYodUQCqT3PxjLqkVJB\\u002fk\\u002fLUntCHBZ+j+pJEejx5D7P+1GK+8Ipfw\\u002f6WsxlDiP\\u002fT+9vjopoEf+P+XQerEvvv4\\u002fWPLHTtvH\\u002fj+mpuf+igP+Pyy09ZVD6vs\\u002fvkj1uel6+D9poj5eYN\\u002f0P9jBDbFTUvI\\u002fJFaTK8z38D90\\u002fEHFIF7wPwaBTVs9IfA\\u002fqAdb8f8K8D9ROfObawPwP6lUbg4AAfA\\u002fN2+xc0YA8D9ndio\\u002fEgDwPxaGe3MEAPA\\u002ftZf8BQEA8D\\u002fUv9A4AADwP+B1oQsAAPA\\u002fus0\\u002fAgAA8D\\u002fpRWkAAADwPwAAAAAAAPA\\u002f\"},\"yaxis\":\"y\",\"type\":\"scatter\"}],\"name\":\"76\"},{\"data\":[{\"hovertemplate\":\"variable=77\\u003cbr\\u003ex=%{x}\\u003cbr\\u003evalue=%{y}\\u003cextra\\u003e\\u003c\\u002fextra\\u003e\",\"legendgroup\":\"\",\"line\":{\"color\":\"#636efa\",\"dash\":\"solid\"},\"marker\":{\"symbol\":\"circle\"},\"mode\":\"lines\",\"name\":\"\",\"orientation\":\"v\",\"showlegend\":false,\"x\":{\"dtype\":\"f8\",\"bdata\":\"AAAAAAAAAAB7FK5H4XqkP3sUrkfherQ\\u002fuB6F61G4vj97FK5H4XrEP5qZmZmZmck\\u002fuB6F61G4zj\\u002fsUbgehevRP3sUrkfhetQ\\u002fCtejcD0K1z+amZmZmZnZPylcj8L1KNw\\u002fuB6F61G43j+kcD0K16PgP+xRuB6F6+E\\u002fMzMzMzMz4z97FK5H4XrkP8P1KFyPwuU\\u002fCtejcD0K5z9SuB6F61HoP5qZmZmZmek\\u002f4XoUrkfh6j8pXI\\u002fC9SjsP3E9CtejcO0\\u002fuB6F61G47j8AAAAAAADwP6RwPQrXo\\u002fA\\u002fSOF6FK5H8T\\u002fsUbgehevxP4\\u002fC9Shcj\\u002fI\\u002fMzMzMzMz8z\\u002fXo3A9CtfzP3sUrkfhevQ\\u002fH4XrUbge9T\\u002fD9Shcj8L1P2dmZmZmZvY\\u002fCtejcD0K9z+uR+F6FK73P1K4HoXrUfg\\u002f9ihcj8L1+D+amZmZmZn5Pz4K16NwPfo\\u002f4XoUrkfh+j+F61G4HoX7Pylcj8L1KPw\\u002fzczMzMzM\\u002fD9xPQrXo3D9PxWuR+F6FP4\\u002fuB6F61G4\\u002fj9cj8L1KFz\\u002fPwAAAAAAAABA\"},\"xaxis\":\"x\",\"y\":{\"dtype\":\"f8\",\"bdata\":\"AAAAAAAA8D8AAAAAAADwPwAAAAAAAPA\\u002fAAAAAAAA8D8AAAAAAADwPwAAAAAAAPA\\u002fAAAAAAAA8D8AAAAAAADwPwAAAAAAAPA\\u002fAAAAAAAA8D8AAAAAAADwPwAAAAAAAPA\\u002fAAAAAAAA8D+9Cr6GXQLwP+LufaLFEfA\\u002fOjdJfyZD8D9eVCsAsqzwPz49rxLoWfE\\u002fwoLXNyNI8j+A6O5GPWvzP6lVLsSQs\\u002fQ\\u002fTOpOWaYR9j83RYdzjXf3P3nYPjr62Pg\\u002f228z7wcr+j9bgySMFGT7PypHd\\u002fTRe\\u002fw\\u002fnERwsSpr\\u002fT+clyUviyr+P8+TXtMzq\\u002f4\\u002foSRJbU7G\\u002fj8pTcIqOyL+P2kv4CxhOPw\\u002fujAD5Qfr+D9C2jR4xkP1P8n\\u002fB+akkPI\\u002fB+QzCGwW8T98Te1jOmvwPwb2V9laJvA\\u002fE5wHq9sM8D9qskxwDQTwP6T9yLIzAfA\\u002f7EeF61UA8D+SVuWYFgDwP\\u002f1rypkFAPA\\u002flYUcTwEA8D+5vOlJAADwP7dmZQ8AAPA\\u002fE\\u002fEHAwAA8D\\u002fle5AAAADwPwAAAAAAAPA\\u002f\"},\"yaxis\":\"y\",\"type\":\"scatter\"}],\"name\":\"77\"},{\"data\":[{\"hovertemplate\":\"variable=78\\u003cbr\\u003ex=%{x}\\u003cbr\\u003evalue=%{y}\\u003cextra\\u003e\\u003c\\u002fextra\\u003e\",\"legendgroup\":\"\",\"line\":{\"color\":\"#636efa\",\"dash\":\"solid\"},\"marker\":{\"symbol\":\"circle\"},\"mode\":\"lines\",\"name\":\"\",\"orientation\":\"v\",\"showlegend\":false,\"x\":{\"dtype\":\"f8\",\"bdata\":\"AAAAAAAAAAB7FK5H4XqkP3sUrkfherQ\\u002fuB6F61G4vj97FK5H4XrEP5qZmZmZmck\\u002fuB6F61G4zj\\u002fsUbgehevRP3sUrkfhetQ\\u002fCtejcD0K1z+amZmZmZnZPylcj8L1KNw\\u002fuB6F61G43j+kcD0K16PgP+xRuB6F6+E\\u002fMzMzMzMz4z97FK5H4XrkP8P1KFyPwuU\\u002fCtejcD0K5z9SuB6F61HoP5qZmZmZmek\\u002f4XoUrkfh6j8pXI\\u002fC9SjsP3E9CtejcO0\\u002fuB6F61G47j8AAAAAAADwP6RwPQrXo\\u002fA\\u002fSOF6FK5H8T\\u002fsUbgehevxP4\\u002fC9Shcj\\u002fI\\u002fMzMzMzMz8z\\u002fXo3A9CtfzP3sUrkfhevQ\\u002fH4XrUbge9T\\u002fD9Shcj8L1P2dmZmZmZvY\\u002fCtejcD0K9z+uR+F6FK73P1K4HoXrUfg\\u002f9ihcj8L1+D+amZmZmZn5Pz4K16NwPfo\\u002f4XoUrkfh+j+F61G4HoX7Pylcj8L1KPw\\u002fzczMzMzM\\u002fD9xPQrXo3D9PxWuR+F6FP4\\u002fuB6F61G4\\u002fj9cj8L1KFz\\u002fPwAAAAAAAABA\"},\"xaxis\":\"x\",\"y\":{\"dtype\":\"f8\",\"bdata\":\"AAAAAAAA8D8AAAAAAADwPwAAAAAAAPA\\u002fAAAAAAAA8D8AAAAAAADwPwAAAAAAAPA\\u002fAAAAAAAA8D8AAAAAAADwPwAAAAAAAPA\\u002fAAAAAAAA8D8AAAAAAADwPwAAAAAAAPA\\u002fAAAAAAAA8D9RLGMJKwLwP3agb4h7EPA\\u002fqaeE0vc+8D9oRUZxh6PwP0dz89dASvE\\u002fsBB7KnQx8j+LW1gbzE3zP8KIE1cqkPQ\\u002f4yT\\u002fBmnp9T+R3Xnpzkv3P+zSbDo9q\\u002fg\\u002fWnb9+vT8+T9PD6uYazf7P4lZA+5RUvw\\u002feWjjXH5G\\u002fT\\u002fhPqqzeQz+P6j6yMCmlv4\\u002fJoi7RvbB\\u002fj9n8cpt+zv+P40qvc5ggPw\\u002fNFay3L1Y+T+au1\\u002fEW6v1Pxw1fbZ40\\u002fI\\u002ffpGBPBU48T\\u002fYfq0i3nnwP12VDuclLPA\\u002fXvqsTv0O8D\\u002foRht6yQTwP+lxJYdwAfA\\u002fVCsuZ2gA8D\\u002fpc8\\u002ffGwDwP3Z+YgQHAPA\\u002f8QqrqgEA8D+F+K1fAADwPzzDRRQAAPA\\u002f4boPBAAA8D\\u002f+GsUAAADwPwAAAAAAAPA\\u002f\"},\"yaxis\":\"y\",\"type\":\"scatter\"}],\"name\":\"78\"},{\"data\":[{\"hovertemplate\":\"variable=79\\u003cbr\\u003ex=%{x}\\u003cbr\\u003evalue=%{y}\\u003cextra\\u003e\\u003c\\u002fextra\\u003e\",\"legendgroup\":\"\",\"line\":{\"color\":\"#636efa\",\"dash\":\"solid\"},\"marker\":{\"symbol\":\"circle\"},\"mode\":\"lines\",\"name\":\"\",\"orientation\":\"v\",\"showlegend\":false,\"x\":{\"dtype\":\"f8\",\"bdata\":\"AAAAAAAAAAB7FK5H4XqkP3sUrkfherQ\\u002fuB6F61G4vj97FK5H4XrEP5qZmZmZmck\\u002fuB6F61G4zj\\u002fsUbgehevRP3sUrkfhetQ\\u002fCtejcD0K1z+amZmZmZnZPylcj8L1KNw\\u002fuB6F61G43j+kcD0K16PgP+xRuB6F6+E\\u002fMzMzMzMz4z97FK5H4XrkP8P1KFyPwuU\\u002fCtejcD0K5z9SuB6F61HoP5qZmZmZmek\\u002f4XoUrkfh6j8pXI\\u002fC9SjsP3E9CtejcO0\\u002fuB6F61G47j8AAAAAAADwP6RwPQrXo\\u002fA\\u002fSOF6FK5H8T\\u002fsUbgehevxP4\\u002fC9Shcj\\u002fI\\u002fMzMzMzMz8z\\u002fXo3A9CtfzP3sUrkfhevQ\\u002fH4XrUbge9T\\u002fD9Shcj8L1P2dmZmZmZvY\\u002fCtejcD0K9z+uR+F6FK73P1K4HoXrUfg\\u002f9ihcj8L1+D+amZmZmZn5Pz4K16NwPfo\\u002f4XoUrkfh+j+F61G4HoX7Pylcj8L1KPw\\u002fzczMzMzM\\u002fD9xPQrXo3D9PxWuR+F6FP4\\u002fuB6F61G4\\u002fj9cj8L1KFz\\u002fPwAAAAAAAABA\"},\"xaxis\":\"x\",\"y\":{\"dtype\":\"f8\",\"bdata\":\"AAAAAAAA8D8AAAAAAADwPwAAAAAAAPA\\u002fAAAAAAAA8D8AAAAAAADwPwAAAAAAAPA\\u002fAAAAAAAA8D8AAAAAAADwPwAAAAAAAPA\\u002fAAAAAAAA8D8AAAAAAADwPwAAAAAAAPA\\u002fAAAAAAAA8D9aZlbC\\u002fAHwPwND7u1ID\\u002fA\\u002fPh7g4gg78D+ZYdh90JrwPzvjbUg9O\\u002fE\\u002ftSDDzYsb8j+V7feFNTHzP8XBwc2jbfQ\\u002f77DTdgLC9T9DbUrHziD3P\\u002fhe\\u002fAEWfvg\\u002fbjmAyD7P+T92\\u002f58l2Ar7PzZ9zwuXKPw\\u002fRoXoVUMh\\u002fT+6beeQfe39P0Y8iEujgP4\\u002f+nn6GAa7\\u002fj+EvuN6FFH+P+EtBKI6wvw\\u002fnRiKXVzD+T8ha1asmhX2Pz1xR7TXGvM\\u002fF57SNfpc8T+NLaDLMIrwP\\u002fTa68qxMvA\\u002fSv8iom0R8D\\u002fQ7UViowXwP93FJve3AfA\\u002fIrtnan4A8D8byndAIgDwP7kAV8EIAPA\\u002fy7XPHAIA8D8IEEN7AADwP19yjhoAAPA\\u002f6ZBpBQAA8D\\u002f8UgsBAADwPwAAAAAAAPA\\u002f\"},\"yaxis\":\"y\",\"type\":\"scatter\"}],\"name\":\"79\"},{\"data\":[{\"hovertemplate\":\"variable=80\\u003cbr\\u003ex=%{x}\\u003cbr\\u003evalue=%{y}\\u003cextra\\u003e\\u003c\\u002fextra\\u003e\",\"legendgroup\":\"\",\"line\":{\"color\":\"#636efa\",\"dash\":\"solid\"},\"marker\":{\"symbol\":\"circle\"},\"mode\":\"lines\",\"name\":\"\",\"orientation\":\"v\",\"showlegend\":false,\"x\":{\"dtype\":\"f8\",\"bdata\":\"AAAAAAAAAAB7FK5H4XqkP3sUrkfherQ\\u002fuB6F61G4vj97FK5H4XrEP5qZmZmZmck\\u002fuB6F61G4zj\\u002fsUbgehevRP3sUrkfhetQ\\u002fCtejcD0K1z+amZmZmZnZPylcj8L1KNw\\u002fuB6F61G43j+kcD0K16PgP+xRuB6F6+E\\u002fMzMzMzMz4z97FK5H4XrkP8P1KFyPwuU\\u002fCtejcD0K5z9SuB6F61HoP5qZmZmZmek\\u002f4XoUrkfh6j8pXI\\u002fC9SjsP3E9CtejcO0\\u002fuB6F61G47j8AAAAAAADwP6RwPQrXo\\u002fA\\u002fSOF6FK5H8T\\u002fsUbgehevxP4\\u002fC9Shcj\\u002fI\\u002fMzMzMzMz8z\\u002fXo3A9CtfzP3sUrkfhevQ\\u002fH4XrUbge9T\\u002fD9Shcj8L1P2dmZmZmZvY\\u002fCtejcD0K9z+uR+F6FK73P1K4HoXrUfg\\u002f9ihcj8L1+D+amZmZmZn5Pz4K16NwPfo\\u002f4XoUrkfh+j+F61G4HoX7Pylcj8L1KPw\\u002fzczMzMzM\\u002fD9xPQrXo3D9PxWuR+F6FP4\\u002fuB6F61G4\\u002fj9cj8L1KFz\\u002fPwAAAAAAAABA\"},\"xaxis\":\"x\",\"y\":{\"dtype\":\"f8\",\"bdata\":\"AAAAAAAA8D8AAAAAAADwPwAAAAAAAPA\\u002fAAAAAAAA8D8AAAAAAADwPwAAAAAAAPA\\u002fAAAAAAAA8D8AAAAAAADwPwAAAAAAAPA\\u002fAAAAAAAA8D8AAAAAAADwPwAAAAAAAPA\\u002fAAAAAAAA8D+vGItX0gHwP44ooTAsDvA\\u002fw\\u002f\\u002fIGlY38D9qYCj2h5LwP4D7hXzXLPE\\u002fTH3kQmQG8j\\u002fgxAU7dBXzP7yVYPT4S\\u002fQ\\u002fxkKnLXCb9T\\u002fWICIHjfb2P3KA3ruHUfg\\u002fwHHGNeyh+T+lTEDBZN76PzaQV8yu\\u002fvs\\u002fzZ3k5Yj7\\u002fD9iuuInqM39PzUbEtBCaf4\\u002fzNh1ya2x\\u002fj+699L4zmH+PzT05Iz4\\u002ffw\\u002fwFBy7kIq+j\\u002fbDn+A7YH2P1+006K9ZvM\\u002fqUfcZkyF8T+J8s9KWZzwP4ueaHoTOvA\\u002fcHc7VTYU8D\\u002fFajpAnwbwP3CwZJ4LAvA\\u002f0xhGjJgA8D87j7HuKQDwP3qQReEKAPA\\u002farmFqgIA8D+PyQ6eAADwP5B\\u002fnSIAAPA\\u002fs6MsBwAA8D\\u002fQgmgBAADwPwAAAAAAAPA\\u002f\"},\"yaxis\":\"y\",\"type\":\"scatter\"}],\"name\":\"80\"},{\"data\":[{\"hovertemplate\":\"variable=81\\u003cbr\\u003ex=%{x}\\u003cbr\\u003evalue=%{y}\\u003cextra\\u003e\\u003c\\u002fextra\\u003e\",\"legendgroup\":\"\",\"line\":{\"color\":\"#636efa\",\"dash\":\"solid\"},\"marker\":{\"symbol\":\"circle\"},\"mode\":\"lines\",\"name\":\"\",\"orientation\":\"v\",\"showlegend\":false,\"x\":{\"dtype\":\"f8\",\"bdata\":\"AAAAAAAAAAB7FK5H4XqkP3sUrkfherQ\\u002fuB6F61G4vj97FK5H4XrEP5qZmZmZmck\\u002fuB6F61G4zj\\u002fsUbgehevRP3sUrkfhetQ\\u002fCtejcD0K1z+amZmZmZnZPylcj8L1KNw\\u002fuB6F61G43j+kcD0K16PgP+xRuB6F6+E\\u002fMzMzMzMz4z97FK5H4XrkP8P1KFyPwuU\\u002fCtejcD0K5z9SuB6F61HoP5qZmZmZmek\\u002f4XoUrkfh6j8pXI\\u002fC9SjsP3E9CtejcO0\\u002fuB6F61G47j8AAAAAAADwP6RwPQrXo\\u002fA\\u002fSOF6FK5H8T\\u002fsUbgehevxP4\\u002fC9Shcj\\u002fI\\u002fMzMzMzMz8z\\u002fXo3A9CtfzP3sUrkfhevQ\\u002fH4XrUbge9T\\u002fD9Shcj8L1P2dmZmZmZvY\\u002fCtejcD0K9z+uR+F6FK73P1K4HoXrUfg\\u002f9ihcj8L1+D+amZmZmZn5Pz4K16NwPfo\\u002f4XoUrkfh+j+F61G4HoX7Pylcj8L1KPw\\u002fzczMzMzM\\u002fD9xPQrXo3D9PxWuR+F6FP4\\u002fuB6F61G4\\u002fj9cj8L1KFz\\u002fPwAAAAAAAABA\"},\"xaxis\":\"x\",\"y\":{\"dtype\":\"f8\",\"bdata\":\"AAAAAAAA8D8AAAAAAADwPwAAAAAAAPA\\u002fAAAAAAAA8D8AAAAAAADwPwAAAAAAAPA\\u002fAAAAAAAA8D8AAAAAAADwPwAAAAAAAPA\\u002fAAAAAAAA8D8AAAAAAADwPwAAAAAAAPA\\u002fAAAAAAAA8D+FfX12qwHwP2FwesojDfA\\u002fGRbOFNwz8D\\u002fdow3gqIrwP9AaN70JH\\u002fE\\u002fkvtK0vfx8T\\u002fbsUsHg\\u002fryPzZk7ZclK\\u002fQ\\u002fMqXOja919T\\u002fW\\u002fElSCc32P1XqNg6VJfg\\u002f6Pd2bgN1+T+kiz4yG7L6PxFdXvql1Ps\\u002fdBEY1l3V\\u002fD8yjdldCq39P3jvEFedUP4\\u002faftTDhqm\\u002fj+YZGx5cm7+P2+i0tezM\\u002f0\\u002fdLaV0uKM+j\\u002fQkA\\u002fqsO\\u002f2PxQ9QeIXt\\u002fM\\u002fmCOFVzux8T+mjliUgLDwP58UK7BhQvA\\u002f0nC\\u002fFGIX8D8VfaOkwQfwP7DAsU1tAvA\\u002f6CKaebcA8D+IGJYmMwDwP4H9uncNAPA\\u002f3n3AWQMA8D88X8PJAADwP3zw5iwAAPA\\u002fXAt2CQAA8D+OheMBAADwPwAAAAAAAPA\\u002f\"},\"yaxis\":\"y\",\"type\":\"scatter\"}],\"name\":\"81\"},{\"data\":[{\"hovertemplate\":\"variable=82\\u003cbr\\u003ex=%{x}\\u003cbr\\u003evalue=%{y}\\u003cextra\\u003e\\u003c\\u002fextra\\u003e\",\"legendgroup\":\"\",\"line\":{\"color\":\"#636efa\",\"dash\":\"solid\"},\"marker\":{\"symbol\":\"circle\"},\"mode\":\"lines\",\"name\":\"\",\"orientation\":\"v\",\"showlegend\":false,\"x\":{\"dtype\":\"f8\",\"bdata\":\"AAAAAAAAAAB7FK5H4XqkP3sUrkfherQ\\u002fuB6F61G4vj97FK5H4XrEP5qZmZmZmck\\u002fuB6F61G4zj\\u002fsUbgehevRP3sUrkfhetQ\\u002fCtejcD0K1z+amZmZmZnZPylcj8L1KNw\\u002fuB6F61G43j+kcD0K16PgP+xRuB6F6+E\\u002fMzMzMzMz4z97FK5H4XrkP8P1KFyPwuU\\u002fCtejcD0K5z9SuB6F61HoP5qZmZmZmek\\u002f4XoUrkfh6j8pXI\\u002fC9SjsP3E9CtejcO0\\u002fuB6F61G47j8AAAAAAADwP6RwPQrXo\\u002fA\\u002fSOF6FK5H8T\\u002fsUbgehevxP4\\u002fC9Shcj\\u002fI\\u002fMzMzMzMz8z\\u002fXo3A9CtfzP3sUrkfhevQ\\u002fH4XrUbge9T\\u002fD9Shcj8L1P2dmZmZmZvY\\u002fCtejcD0K9z+uR+F6FK73P1K4HoXrUfg\\u002f9ihcj8L1+D+amZmZmZn5Pz4K16NwPfo\\u002f4XoUrkfh+j+F61G4HoX7Pylcj8L1KPw\\u002fzczMzMzM\\u002fD9xPQrXo3D9PxWuR+F6FP4\\u002fuB6F61G4\\u002fj9cj8L1KFz\\u002fPwAAAAAAAABA\"},\"xaxis\":\"x\",\"y\":{\"dtype\":\"f8\",\"bdata\":\"AAAAAAAA8D8AAAAAAADwPwAAAAAAAPA\\u002fAAAAAAAA8D8AAAAAAADwPwAAAAAAAPA\\u002fAAAAAAAA8D8AAAAAAADwPwAAAAAAAPA\\u002fAAAAAAAA8D8AAAAAAADwPwAAAAAAAPA\\u002fAAAAAAAA8D8TrZDThwHwPyFP3E8uDPA\\u002fe61GmZcw8D\\u002fFcOh0LoPwP\\u002fOfd4LOEfE\\u002f03Sp6kDe8T+kP4jQXODyPwtxzoglC\\u002fQ\\u002f+0ye3L1Q9T8+X+0JQ6T2P7\\u002fNpSVA+vc\\u002fhu5X94lI+T+YsXN\\u002fBIb6P6tzfayIqvs\\u002fQ5RIZ9Cu\\u002fD987uiYtIv9PzrALLLJNv4\\u002fm3XunHSY\\u002fj9IloysRHf+P7D4rrmSY\\u002f0\\u002f7Fb4OsHq+j8XAar4Nl73P\\u002fB5IArEC\\u002fQ\\u002f7ISBkPPg8T8Wt7x70cbwP2RJfwC1S\\u002fA\\u002f3M5Invwa8D8flOykDwnwP1ss2hDfAvA\\u002fgNOT99sA8D8KWqQtPgDwP8M5pZsQAPA\\u002fCYuVMQQA8D8mz20AAQDwPzFP+TkAAPA\\u002fdh5qDAAA8D+1EIUCAADwPwAAAAAAAPA\\u002f\"},\"yaxis\":\"y\",\"type\":\"scatter\"}],\"name\":\"82\"},{\"data\":[{\"hovertemplate\":\"variable=83\\u003cbr\\u003ex=%{x}\\u003cbr\\u003evalue=%{y}\\u003cextra\\u003e\\u003c\\u002fextra\\u003e\",\"legendgroup\":\"\",\"line\":{\"color\":\"#636efa\",\"dash\":\"solid\"},\"marker\":{\"symbol\":\"circle\"},\"mode\":\"lines\",\"name\":\"\",\"orientation\":\"v\",\"showlegend\":false,\"x\":{\"dtype\":\"f8\",\"bdata\":\"AAAAAAAAAAB7FK5H4XqkP3sUrkfherQ\\u002fuB6F61G4vj97FK5H4XrEP5qZmZmZmck\\u002fuB6F61G4zj\\u002fsUbgehevRP3sUrkfhetQ\\u002fCtejcD0K1z+amZmZmZnZPylcj8L1KNw\\u002fuB6F61G43j+kcD0K16PgP+xRuB6F6+E\\u002fMzMzMzMz4z97FK5H4XrkP8P1KFyPwuU\\u002fCtejcD0K5z9SuB6F61HoP5qZmZmZmek\\u002f4XoUrkfh6j8pXI\\u002fC9SjsP3E9CtejcO0\\u002fuB6F61G47j8AAAAAAADwP6RwPQrXo\\u002fA\\u002fSOF6FK5H8T\\u002fsUbgehevxP4\\u002fC9Shcj\\u002fI\\u002fMzMzMzMz8z\\u002fXo3A9CtfzP3sUrkfhevQ\\u002fH4XrUbge9T\\u002fD9Shcj8L1P2dmZmZmZvY\\u002fCtejcD0K9z+uR+F6FK73P1K4HoXrUfg\\u002f9ihcj8L1+D+amZmZmZn5Pz4K16NwPfo\\u002f4XoUrkfh+j+F61G4HoX7Pylcj8L1KPw\\u002fzczMzMzM\\u002fD9xPQrXo3D9PxWuR+F6FP4\\u002fuB6F61G4\\u002fj9cj8L1KFz\\u002fPwAAAAAAAABA\"},\"xaxis\":\"x\",\"y\":{\"dtype\":\"f8\",\"bdata\":\"AAAAAAAA8D8AAAAAAADwPwAAAAAAAPA\\u002fAAAAAAAA8D8AAAAAAADwPwAAAAAAAPA\\u002fAAAAAAAA8D8AAAAAAADwPwAAAAAAAPA\\u002fAAAAAAAA8D8AAAAAAADwPwAAAAAAAPA\\u002fAAAAAAAA8D8OVHopZwHwP2WW3G1KC\\u002fA\\u002fUUEWnIUt8D+2V7EfFHzwP1EbsXEgBfE\\u002fwDkHIDrL8T+BeqmV\\u002fMbyP5n\\u002fCJ306\\u002fM\\u002fKZJYR5gs9T8jlRlPOXz2P7CF1b+Kz\\u002fc\\u002fcMh6uYQc+T\\u002fy+RD4KFr6P\\u002ffIO0ZigPs\\u002fMvQvS+6H\\u002fD9GRHC8tmn9P38ykpTdG\\u002f4\\u002f6ZX0WuSI\\u002fj\\u002fiALHHiHz+P9CcI+rFjf0\\u002flMj9qnhD+z+\\u002faGuwysz3P+j7O8uOZPQ\\u002fSJOlY50U8j\\u002fxdMV5eN\\u002fwP1MMSesnVvA\\u002fj3vf1BIf8D+oMpvnjgrwP0GM4zRjA\\u002fA\\u002fRdGn5gYB8D+MvQBUSwDwP+XC02cUAPA\\u002fWHRsOgUA8D9neIZEAQDwP8EEg0oAAPA\\u002fMw02EAAA8D8wJ1gDAADwPwAAAAAAAPA\\u002f\"},\"yaxis\":\"y\",\"type\":\"scatter\"}],\"name\":\"83\"},{\"data\":[{\"hovertemplate\":\"variable=84\\u003cbr\\u003ex=%{x}\\u003cbr\\u003evalue=%{y}\\u003cextra\\u003e\\u003c\\u002fextra\\u003e\",\"legendgroup\":\"\",\"line\":{\"color\":\"#636efa\",\"dash\":\"solid\"},\"marker\":{\"symbol\":\"circle\"},\"mode\":\"lines\",\"name\":\"\",\"orientation\":\"v\",\"showlegend\":false,\"x\":{\"dtype\":\"f8\",\"bdata\":\"AAAAAAAAAAB7FK5H4XqkP3sUrkfherQ\\u002fuB6F61G4vj97FK5H4XrEP5qZmZmZmck\\u002fuB6F61G4zj\\u002fsUbgehevRP3sUrkfhetQ\\u002fCtejcD0K1z+amZmZmZnZPylcj8L1KNw\\u002fuB6F61G43j+kcD0K16PgP+xRuB6F6+E\\u002fMzMzMzMz4z97FK5H4XrkP8P1KFyPwuU\\u002fCtejcD0K5z9SuB6F61HoP5qZmZmZmek\\u002f4XoUrkfh6j8pXI\\u002fC9SjsP3E9CtejcO0\\u002fuB6F61G47j8AAAAAAADwP6RwPQrXo\\u002fA\\u002fSOF6FK5H8T\\u002fsUbgehevxP4\\u002fC9Shcj\\u002fI\\u002fMzMzMzMz8z\\u002fXo3A9CtfzP3sUrkfhevQ\\u002fH4XrUbge9T\\u002fD9Shcj8L1P2dmZmZmZvY\\u002fCtejcD0K9z+uR+F6FK73P1K4HoXrUfg\\u002f9ihcj8L1+D+amZmZmZn5Pz4K16NwPfo\\u002f4XoUrkfh+j+F61G4HoX7Pylcj8L1KPw\\u002fzczMzMzM\\u002fD9xPQrXo3D9PxWuR+F6FP4\\u002fuB6F61G4\\u002fj9cj8L1KFz\\u002fPwAAAAAAAABA\"},\"xaxis\":\"x\",\"y\":{\"dtype\":\"f8\",\"bdata\":\"AAAAAAAA8D8AAAAAAADwPwAAAAAAAPA\\u002fAAAAAAAA8D8AAAAAAADwPwAAAAAAAPA\\u002fAAAAAAAA8D8AAAAAAADwPwAAAAAAAPA\\u002fAAAAAAAA8D8AAAAAAADwPwAAAAAAAPA\\u002fAAAAAAAA8D+S8Lo4SQHwP4CQpOh2CvA\\u002fJyCLOqMq8D8SRx57VXXwP6seSVz6+PA\\u002fmiPNKt648T8\\u002ffOVuXa7yP+8IJbKOzfM\\u002f98mS5zsJ9T+IYQgK61T2P4U9UTV2pfc\\u002fjf8BDfjw+D\\u002fmBCg8kC76P+jGcHo9Vvs\\u002fOMKWn8Rg\\u002fD+zWn4lIEf9P8xEvaft\\u002f\\u002f0\\u002ftaknkI13\\u002fj8auaUaf37+PzLG0lCGsv0\\u002fH5GjkLmW+z+M8VTzszr4P0YxVTAzwfQ\\u002fFL+9k1tM8j8kkx1eo\\u002frwP400derWYfA\\u002fK\\u002fI21rIj8D++5YSxRQzwP88m1k78A\\u002fA\\u002f6Za9RTkB8D82Qdj1WgDwP2sDiPsYAPA\\u002fBno1fgYA8D8XVASZAQDwPxukWF8AAPA\\u002fhMwRFQAA8D8GpWoEAADwPwAAAAAAAPA\\u002f\"},\"yaxis\":\"y\",\"type\":\"scatter\"}],\"name\":\"84\"},{\"data\":[{\"hovertemplate\":\"variable=85\\u003cbr\\u003ex=%{x}\\u003cbr\\u003evalue=%{y}\\u003cextra\\u003e\\u003c\\u002fextra\\u003e\",\"legendgroup\":\"\",\"line\":{\"color\":\"#636efa\",\"dash\":\"solid\"},\"marker\":{\"symbol\":\"circle\"},\"mode\":\"lines\",\"name\":\"\",\"orientation\":\"v\",\"showlegend\":false,\"x\":{\"dtype\":\"f8\",\"bdata\":\"AAAAAAAAAAB7FK5H4XqkP3sUrkfherQ\\u002fuB6F61G4vj97FK5H4XrEP5qZmZmZmck\\u002fuB6F61G4zj\\u002fsUbgehevRP3sUrkfhetQ\\u002fCtejcD0K1z+amZmZmZnZPylcj8L1KNw\\u002fuB6F61G43j+kcD0K16PgP+xRuB6F6+E\\u002fMzMzMzMz4z97FK5H4XrkP8P1KFyPwuU\\u002fCtejcD0K5z9SuB6F61HoP5qZmZmZmek\\u002f4XoUrkfh6j8pXI\\u002fC9SjsP3E9CtejcO0\\u002fuB6F61G47j8AAAAAAADwP6RwPQrXo\\u002fA\\u002fSOF6FK5H8T\\u002fsUbgehevxP4\\u002fC9Shcj\\u002fI\\u002fMzMzMzMz8z\\u002fXo3A9CtfzP3sUrkfhevQ\\u002fH4XrUbge9T\\u002fD9Shcj8L1P2dmZmZmZvY\\u002fCtejcD0K9z+uR+F6FK73P1K4HoXrUfg\\u002f9ihcj8L1+D+amZmZmZn5Pz4K16NwPfo\\u002f4XoUrkfh+j+F61G4HoX7Pylcj8L1KPw\\u002fzczMzMzM\\u002fD9xPQrXo3D9PxWuR+F6FP4\\u002fuB6F61G4\\u002fj9cj8L1KFz\\u002fPwAAAAAAAABA\"},\"xaxis\":\"x\",\"y\":{\"dtype\":\"f8\",\"bdata\":\"AAAAAAAA8D8AAAAAAADwPwAAAAAAAPA\\u002fAAAAAAAA8D8AAAAAAADwPwAAAAAAAPA\\u002fAAAAAAAA8D8AAAAAAADwPwAAAAAAAPA\\u002fAAAAAAAA8D8AAAAAAADwPwAAAAAAAPA\\u002fAAAAAAAA8D9fgyHHLQHwP3xm65myCfA\\u002fhI9Wue0n8D9D2ttP7m7wP18UOj5X7fA\\u002fAgfU5ien8T83DbaNepbyPwYLyK7vr\\u002fM\\u002fOVAex6Xm9D\\u002fxzsLwVi72P3j+qoIDfPc\\u002fgnN1w+fF+D+emGRFQQP6P323vU4kLPs\\u002fdnv86l85\\u002fD95noWn\\u002fyP9Py+oC50N4\\u002f0\\u002frWgyF5Jk\\u002fj9UaObJZH3+P+OS+uES0v0\\u002fZ51VHUrk+z\\u002fTJGiZO6f4Pw5Nj1RaIfU\\u002ffVYJ4UmI8j8XA8zpgBjxP4Z3wXvgbvA\\u002f0O9bEOwo8D9C6ebzOg7wP7GkGEOtBPA\\u002f4uurNXQB8D8hBep8bQDwP\\u002fVIF3seAPA\\u002fi6WnCAgA8D+uIXMBAgDwP7ZIfHkAAPA\\u002fg15CGwAA8D9R6M0FAADwPwAAAAAAAPA\\u002f\"},\"yaxis\":\"y\",\"type\":\"scatter\"}],\"name\":\"85\"},{\"data\":[{\"hovertemplate\":\"variable=86\\u003cbr\\u003ex=%{x}\\u003cbr\\u003evalue=%{y}\\u003cextra\\u003e\\u003c\\u002fextra\\u003e\",\"legendgroup\":\"\",\"line\":{\"color\":\"#636efa\",\"dash\":\"solid\"},\"marker\":{\"symbol\":\"circle\"},\"mode\":\"lines\",\"name\":\"\",\"orientation\":\"v\",\"showlegend\":false,\"x\":{\"dtype\":\"f8\",\"bdata\":\"AAAAAAAAAAB7FK5H4XqkP3sUrkfherQ\\u002fuB6F61G4vj97FK5H4XrEP5qZmZmZmck\\u002fuB6F61G4zj\\u002fsUbgehevRP3sUrkfhetQ\\u002fCtejcD0K1z+amZmZmZnZPylcj8L1KNw\\u002fuB6F61G43j+kcD0K16PgP+xRuB6F6+E\\u002fMzMzMzMz4z97FK5H4XrkP8P1KFyPwuU\\u002fCtejcD0K5z9SuB6F61HoP5qZmZmZmek\\u002f4XoUrkfh6j8pXI\\u002fC9SjsP3E9CtejcO0\\u002fuB6F61G47j8AAAAAAADwP6RwPQrXo\\u002fA\\u002fSOF6FK5H8T\\u002fsUbgehevxP4\\u002fC9Shcj\\u002fI\\u002fMzMzMzMz8z\\u002fXo3A9CtfzP3sUrkfhevQ\\u002fH4XrUbge9T\\u002fD9Shcj8L1P2dmZmZmZvY\\u002fCtejcD0K9z+uR+F6FK73P1K4HoXrUfg\\u002f9ihcj8L1+D+amZmZmZn5Pz4K16NwPfo\\u002f4XoUrkfh+j+F61G4HoX7Pylcj8L1KPw\\u002fzczMzMzM\\u002fD9xPQrXo3D9PxWuR+F6FP4\\u002fuB6F61G4\\u002fj9cj8L1KFz\\u002fPwAAAAAAAABA\"},\"xaxis\":\"x\",\"y\":{\"dtype\":\"f8\",\"bdata\":\"AAAAAAAA8D8AAAAAAADwPwAAAAAAAPA\\u002fAAAAAAAA8D8AAAAAAADwPwAAAAAAAPA\\u002fAAAAAAAA8D8AAAAAAADwPwAAAAAAAPA\\u002fAAAAAAAA8D8AAAAAAADwPwAAAAAAAPA\\u002fAAAAAAAA8D9Cu1mfFAHwPw5liW\\u002f8CPA\\u002fSRadgmIl8D\\u002fglNmS2mjwP8B5uzwy4vA\\u002f4\\u002fh1UhKW8T9k\\u002frs8T3\\u002fyP51vD4QTk\\u002fM\\u002fTHSB49LE9D9sDCmNewj2P91\\u002f+FAzU\\u002fc\\u002fk+GdMVeb+D\\u002fDLtlvQtj5P7cM7B8gAvs\\u002flEWrGswR\\u002fD+RV4SJYwD9P\\u002fHpkzxQxf0\\u002f\\u002fViQjBFQ\\u002fj8XGcanc3n+PwwtcbOu7P0\\u002fx9ABdgUs\\u002fD+VHYqGrxH5P+GlHaObhPU\\u002fYCUYgnvI8j+kgb9PQDnxP\\u002fE5fyRlffA\\u002fe3+SV88u8D\\u002fcJWJbdhDwP68wZ015BfA\\u002fQ8EJ\\u002fbgB8D+BqTpigwDwPz4OoBAlAPA\\u002f8TiH5wkA8D915wyCAgDwPxgxJpoAAPA\\u002faoccIwAA8D\\u002fWnJcHAADwPwAAAAAAAPA\\u002f\"},\"yaxis\":\"y\",\"type\":\"scatter\"}],\"name\":\"86\"},{\"data\":[{\"hovertemplate\":\"variable=87\\u003cbr\\u003ex=%{x}\\u003cbr\\u003evalue=%{y}\\u003cextra\\u003e\\u003c\\u002fextra\\u003e\",\"legendgroup\":\"\",\"line\":{\"color\":\"#636efa\",\"dash\":\"solid\"},\"marker\":{\"symbol\":\"circle\"},\"mode\":\"lines\",\"name\":\"\",\"orientation\":\"v\",\"showlegend\":false,\"x\":{\"dtype\":\"f8\",\"bdata\":\"AAAAAAAAAAB7FK5H4XqkP3sUrkfherQ\\u002fuB6F61G4vj97FK5H4XrEP5qZmZmZmck\\u002fuB6F61G4zj\\u002fsUbgehevRP3sUrkfhetQ\\u002fCtejcD0K1z+amZmZmZnZPylcj8L1KNw\\u002fuB6F61G43j+kcD0K16PgP+xRuB6F6+E\\u002fMzMzMzMz4z97FK5H4XrkP8P1KFyPwuU\\u002fCtejcD0K5z9SuB6F61HoP5qZmZmZmek\\u002f4XoUrkfh6j8pXI\\u002fC9SjsP3E9CtejcO0\\u002fuB6F61G47j8AAAAAAADwP6RwPQrXo\\u002fA\\u002fSOF6FK5H8T\\u002fsUbgehevxP4\\u002fC9Shcj\\u002fI\\u002fMzMzMzMz8z\\u002fXo3A9CtfzP3sUrkfhevQ\\u002fH4XrUbge9T\\u002fD9Shcj8L1P2dmZmZmZvY\\u002fCtejcD0K9z+uR+F6FK73P1K4HoXrUfg\\u002f9ihcj8L1+D+amZmZmZn5Pz4K16NwPfo\\u002f4XoUrkfh+j+F61G4HoX7Pylcj8L1KPw\\u002fzczMzMzM\\u002fD9xPQrXo3D9PxWuR+F6FP4\\u002fuB6F61G4\\u002fj9cj8L1KFz\\u002fPwAAAAAAAABA\"},\"xaxis\":\"x\",\"y\":{\"dtype\":\"f8\",\"bdata\":\"AAAAAAAA8D8AAAAAAADwPwAAAAAAAPA\\u002fAAAAAAAA8D8AAAAAAADwPwAAAAAAAPA\\u002fAAAAAAAA8D8AAAAAAADwPwAAAAAAAPA\\u002fAAAAAAAA8D8AAAAAAADwPwAAAAAAAPA\\u002fAAAAAAAA8D9WtoOQ\\u002fQDwP1WRImpTCPA\\u002f+K4dJP8i8D8I0qdjFmPwP6rO+KSG1\\u002fA\\u002fVY6jjZiF8T9tSo7f1mjyPwUjsi72dvM\\u002fSDULMcCj9D+Zb2tCV+P1P723rv0FK\\u002fc\\u002faMziOElx+D8eosSCma35P\\u002ffBA6c52Po\\u002f+WITghTq+z8v67+DWdz8P+cUtXHHpv0\\u002fGjbWeik6\\u002fj\\u002ffoBkm4nL+P8UL20+fAv4\\u002fRkzYV9pt\\u002fD8pLdeMZnn5PxE9kq596vU\\u002fcQeyk\\u002fkM8z\\u002fMhdaYEF3xPxi+v22HjfA\\u002fggAS\\u002fG418D8J\\u002ftpfABPwP4UKbwlkBvA\\u002f\\u002fd5ZDAkC8D\\u002fXHPUvnQDwPxN71OwsAPA\\u002fEFz1KgwA8D+mMdcfAwDwP9LBzsIAAPA\\u002fTgAILQAA8D9jsOIJAADwPwAAAAAAAPA\\u002f\"},\"yaxis\":\"y\",\"type\":\"scatter\"}],\"name\":\"87\"},{\"data\":[{\"hovertemplate\":\"variable=88\\u003cbr\\u003ex=%{x}\\u003cbr\\u003evalue=%{y}\\u003cextra\\u003e\\u003c\\u002fextra\\u003e\",\"legendgroup\":\"\",\"line\":{\"color\":\"#636efa\",\"dash\":\"solid\"},\"marker\":{\"symbol\":\"circle\"},\"mode\":\"lines\",\"name\":\"\",\"orientation\":\"v\",\"showlegend\":false,\"x\":{\"dtype\":\"f8\",\"bdata\":\"AAAAAAAAAAB7FK5H4XqkP3sUrkfherQ\\u002fuB6F61G4vj97FK5H4XrEP5qZmZmZmck\\u002fuB6F61G4zj\\u002fsUbgehevRP3sUrkfhetQ\\u002fCtejcD0K1z+amZmZmZnZPylcj8L1KNw\\u002fuB6F61G43j+kcD0K16PgP+xRuB6F6+E\\u002fMzMzMzMz4z97FK5H4XrkP8P1KFyPwuU\\u002fCtejcD0K5z9SuB6F61HoP5qZmZmZmek\\u002f4XoUrkfh6j8pXI\\u002fC9SjsP3E9CtejcO0\\u002fuB6F61G47j8AAAAAAADwP6RwPQrXo\\u002fA\\u002fSOF6FK5H8T\\u002fsUbgehevxP4\\u002fC9Shcj\\u002fI\\u002fMzMzMzMz8z\\u002fXo3A9CtfzP3sUrkfhevQ\\u002fH4XrUbge9T\\u002fD9Shcj8L1P2dmZmZmZvY\\u002fCtejcD0K9z+uR+F6FK73P1K4HoXrUfg\\u002f9ihcj8L1+D+amZmZmZn5Pz4K16NwPfo\\u002f4XoUrkfh+j+F61G4HoX7Pylcj8L1KPw\\u002fzczMzMzM\\u002fD9xPQrXo3D9PxWuR+F6FP4\\u002fuB6F61G4\\u002fj9cj8L1KFz\\u002fPwAAAAAAAABA\"},\"xaxis\":\"x\",\"y\":{\"dtype\":\"f8\",\"bdata\":\"AAAAAAAA8D8AAAAAAADwPwAAAAAAAPA\\u002fAAAAAAAA8D8AAAAAAADwPwAAAAAAAPA\\u002fAAAAAAAA8D8AAAAAAADwPwAAAAAAAPA\\u002fAAAAAAAA8D8AAAAAAADwPwAAAAAAAPA\\u002fAAAAAAAA8D+HiNRt6ADwP1YY55u2B\\u002fA\\u002fX7tuTcEg8D+YSOYKnl3wP5CG1upPzfA\\u002fyQL+2LV18T\\u002fihnjyDFPyPwok8LeTW\\u002fM\\u002f98KLnWqD9D8mBgBS6L71Pw2M5KF7A\\u002fc\\u002f\\u002fowoUMBH+D9J6Du5S4P5P77K8f54rvo\\u002fTOFJ20PC+z+amya+7rf8P7kpx1WEh\\u002f0\\u002fO2L0g\\u002fUi\\u002fj8dHeJa42n+P2LD10krFP4\\u002fmlTOUsmp\\u002fD9L\\u002f5ztw935Pzkq96Z3UvY\\u002fkXltjcFV8z+GBzzpH4TxPzlcINdrn\\u002fA\\u002fEts239488D+wOThV4hXwPydzF3xxB\\u002fA\\u002fbSaYAmYC8D\\u002fKunyDuwDwP2oi3Ec2APA\\u002fbQfK5Q4A8D+GhcTgAwDwP98iOvUAAPA\\u002fPDuDOQAA8D8Od9AMAADwPwAAAAAAAPA\\u002f\"},\"yaxis\":\"y\",\"type\":\"scatter\"}],\"name\":\"88\"},{\"data\":[{\"hovertemplate\":\"variable=89\\u003cbr\\u003ex=%{x}\\u003cbr\\u003evalue=%{y}\\u003cextra\\u003e\\u003c\\u002fextra\\u003e\",\"legendgroup\":\"\",\"line\":{\"color\":\"#636efa\",\"dash\":\"solid\"},\"marker\":{\"symbol\":\"circle\"},\"mode\":\"lines\",\"name\":\"\",\"orientation\":\"v\",\"showlegend\":false,\"x\":{\"dtype\":\"f8\",\"bdata\":\"AAAAAAAAAAB7FK5H4XqkP3sUrkfherQ\\u002fuB6F61G4vj97FK5H4XrEP5qZmZmZmck\\u002fuB6F61G4zj\\u002fsUbgehevRP3sUrkfhetQ\\u002fCtejcD0K1z+amZmZmZnZPylcj8L1KNw\\u002fuB6F61G43j+kcD0K16PgP+xRuB6F6+E\\u002fMzMzMzMz4z97FK5H4XrkP8P1KFyPwuU\\u002fCtejcD0K5z9SuB6F61HoP5qZmZmZmek\\u002f4XoUrkfh6j8pXI\\u002fC9SjsP3E9CtejcO0\\u002fuB6F61G47j8AAAAAAADwP6RwPQrXo\\u002fA\\u002fSOF6FK5H8T\\u002fsUbgehevxP4\\u002fC9Shcj\\u002fI\\u002fMzMzMzMz8z\\u002fXo3A9CtfzP3sUrkfhevQ\\u002fH4XrUbge9T\\u002fD9Shcj8L1P2dmZmZmZvY\\u002fCtejcD0K9z+uR+F6FK73P1K4HoXrUfg\\u002f9ihcj8L1+D+amZmZmZn5Pz4K16NwPfo\\u002f4XoUrkfh+j+F61G4HoX7Pylcj8L1KPw\\u002fzczMzMzM\\u002fD9xPQrXo3D9PxWuR+F6FP4\\u002fuB6F61G4\\u002fj9cj8L1KFz\\u002fPwAAAAAAAABA\"},\"xaxis\":\"x\",\"y\":{\"dtype\":\"f8\",\"bdata\":\"AAAAAAAA8D8AAAAAAADwPwAAAAAAAPA\\u002fAAAAAAAA8D8AAAAAAADwPwAAAAAAAPA\\u002fAAAAAAAA8D8AAAAAAADwPwAAAAAAAPA\\u002fAAAAAAAA8D8AAAAAAADwPwAAAAAAAPA\\u002fAAAAAAAA8D\\u002fRyD4O1QDwPwg8aCclB\\u002fA\\u002fqahPzqYe8D\\u002fXG8L4bVjwP4BExKeJw\\u002fA\\u002fF\\u002fv2lGVm8T\\u002fiuSsK7T3yP\\u002fgbVjboQPM\\u002fENW6Es9j9D+kbh\\u002fgLJv1P7U0BRmU3PY\\u002fBjcujL4e+D8I0KbKXVn5P7AZm6rlhPo\\u002fDWiGSGSa+z9VumHPL5P8P+e2SDmXZ\\u002f0\\u002fuzhDh48K\\u002fj8c\\u002fj0Tp17+P0cDrA2ZIf4\\u002fSFS1u+Lf\\u002fD9wK1ZSOj76P9jxDW3zu\\u002fY\\u002fw2h3y8Oi8z\\u002fdr5+lmq7xP7FDNr44s\\u002fA\\u002fVgWohzRF8D\\u002f4Gfd8JhnwP1ODgB2mCPA\\u002feoUvstEC8D\\u002f34LQP3wDwPxUvT2JBAPA\\u002foEL5LRIA8D9UidrLBADwP9KuhTMBAPA\\u002fws4nSQAA8D9qB4oQAADwPwAAAAAAAPA\\u002f\"},\"yaxis\":\"y\",\"type\":\"scatter\"}],\"name\":\"89\"},{\"data\":[{\"hovertemplate\":\"variable=90\\u003cbr\\u003ex=%{x}\\u003cbr\\u003evalue=%{y}\\u003cextra\\u003e\\u003c\\u002fextra\\u003e\",\"legendgroup\":\"\",\"line\":{\"color\":\"#636efa\",\"dash\":\"solid\"},\"marker\":{\"symbol\":\"circle\"},\"mode\":\"lines\",\"name\":\"\",\"orientation\":\"v\",\"showlegend\":false,\"x\":{\"dtype\":\"f8\",\"bdata\":\"AAAAAAAAAAB7FK5H4XqkP3sUrkfherQ\\u002fuB6F61G4vj97FK5H4XrEP5qZmZmZmck\\u002fuB6F61G4zj\\u002fsUbgehevRP3sUrkfhetQ\\u002fCtejcD0K1z+amZmZmZnZPylcj8L1KNw\\u002fuB6F61G43j+kcD0K16PgP+xRuB6F6+E\\u002fMzMzMzMz4z97FK5H4XrkP8P1KFyPwuU\\u002fCtejcD0K5z9SuB6F61HoP5qZmZmZmek\\u002f4XoUrkfh6j8pXI\\u002fC9SjsP3E9CtejcO0\\u002fuB6F61G47j8AAAAAAADwP6RwPQrXo\\u002fA\\u002fSOF6FK5H8T\\u002fsUbgehevxP4\\u002fC9Shcj\\u002fI\\u002fMzMzMzMz8z\\u002fXo3A9CtfzP3sUrkfhevQ\\u002fH4XrUbge9T\\u002fD9Shcj8L1P2dmZmZmZvY\\u002fCtejcD0K9z+uR+F6FK73P1K4HoXrUfg\\u002f9ihcj8L1+D+amZmZmZn5Pz4K16NwPfo\\u002f4XoUrkfh+j+F61G4HoX7Pylcj8L1KPw\\u002fzczMzMzM\\u002fD9xPQrXo3D9PxWuR+F6FP4\\u002fuB6F61G4\\u002fj9cj8L1KFz\\u002fPwAAAAAAAABA\"},\"xaxis\":\"x\",\"y\":{\"dtype\":\"f8\",\"bdata\":\"AAAAAAAA8D8AAAAAAADwPwAAAAAAAPA\\u002fAAAAAAAA8D8AAAAAAADwPwAAAAAAAPA\\u002fAAAAAAAA8D8AAAAAAADwPwAAAAAAAPA\\u002fAAAAAAAA8D8AAAAAAADwPwAAAAAAAPA\\u002fAAAAAAAA8D8jdyJMwwDwPwp3gD6eBvA\\u002fSUYOla0c8D8FhoLDglPwPySrm5kvuvA\\u002f2m72QKNX8T8XQWTTcinyP6VmWs7vJvM\\u002fhRdUeOpE9D98\\u002ftL3Inj1Pw3m+gZPtvY\\u002f3olsp0X29z9lRgLz0y\\u002f5P7crPZuGW\\u002fo\\u002fTzh9Vn9y+z+snJq8KG78PxOl2asPR\\u002f0\\u002fAptRxA\\u002fx\\u002fT\\u002fts6rwWVH+P\\u002ftMn+0tK\\u002f4\\u002fMvb+dUQQ\\u002fT8gg\\u002fMgTpr6P8sjQDdQJvc\\u002fcz6CQOLz8z9vicl3qtzxPxW5ZTgWyfA\\u002fAAXRM4dO8D\\u002fWBYQY2BzwP8rlv+MGCvA\\u002fqgZgJk4D8D\\u002fYZoKfCAHwP61aTYZOAPA\\u002f3+MEHRYA8D9bbl3pBQDwP3RxN4ABAPA\\u002fx6GvXAAA8D8M2EEVAADwPwAAAAAAAPA\\u002f\"},\"yaxis\":\"y\",\"type\":\"scatter\"}],\"name\":\"90\"},{\"data\":[{\"hovertemplate\":\"variable=91\\u003cbr\\u003ex=%{x}\\u003cbr\\u003evalue=%{y}\\u003cextra\\u003e\\u003c\\u002fextra\\u003e\",\"legendgroup\":\"\",\"line\":{\"color\":\"#636efa\",\"dash\":\"solid\"},\"marker\":{\"symbol\":\"circle\"},\"mode\":\"lines\",\"name\":\"\",\"orientation\":\"v\",\"showlegend\":false,\"x\":{\"dtype\":\"f8\",\"bdata\":\"AAAAAAAAAAB7FK5H4XqkP3sUrkfherQ\\u002fuB6F61G4vj97FK5H4XrEP5qZmZmZmck\\u002fuB6F61G4zj\\u002fsUbgehevRP3sUrkfhetQ\\u002fCtejcD0K1z+amZmZmZnZPylcj8L1KNw\\u002fuB6F61G43j+kcD0K16PgP+xRuB6F6+E\\u002fMzMzMzMz4z97FK5H4XrkP8P1KFyPwuU\\u002fCtejcD0K5z9SuB6F61HoP5qZmZmZmek\\u002f4XoUrkfh6j8pXI\\u002fC9SjsP3E9CtejcO0\\u002fuB6F61G47j8AAAAAAADwP6RwPQrXo\\u002fA\\u002fSOF6FK5H8T\\u002fsUbgehevxP4\\u002fC9Shcj\\u002fI\\u002fMzMzMzMz8z\\u002fXo3A9CtfzP3sUrkfhevQ\\u002fH4XrUbge9T\\u002fD9Shcj8L1P2dmZmZmZvY\\u002fCtejcD0K9z+uR+F6FK73P1K4HoXrUfg\\u002f9ihcj8L1+D+amZmZmZn5Pz4K16NwPfo\\u002f4XoUrkfh+j+F61G4HoX7Pylcj8L1KPw\\u002fzczMzMzM\\u002fD9xPQrXo3D9PxWuR+F6FP4\\u002fuB6F61G4\\u002fj9cj8L1KFz\\u002fPwAAAAAAAABA\"},\"xaxis\":\"x\",\"y\":{\"dtype\":\"f8\",\"bdata\":\"AAAAAAAA8D8AAAAAAADwPwAAAAAAAPA\\u002fAAAAAAAA8D8AAAAAAADwPwAAAAAAAPA\\u002fAAAAAAAA8D8AAAAAAADwPwAAAAAAAPA\\u002fAAAAAAAA8D8AAAAAAADwPwAAAAAAAPA\\u002fAAAAAAAA8D\\u002fHmwMFswDwP7akTSEhBvA\\u002feOP+rNMa8D+MPiMm2U7wP6MLi6E9sfA\\u002fAxuHempJ8T\\u002f8G4cSmhXyP19c2LKmDfM\\u002f7Cjxtbkm9D+0i52OyFX1P6ND2t2rkPY\\u002fQmJ4CVfO9z\\u002f9tN36sQb5P6AfATdiMvo\\u002foSx0\\u002f51K+z9mp+755Ej8P+x4R4P8Jf0\\u002fBvGK+ozW\\u002fT86\\u002flaNJUL+P6qnwGMtMf4\\u002f\\u002fQi7sRc7\\u002fT8kIWQal\\u002fH6P3e50rLlkPc\\u002fbGaIZO9I9D\\u002ffMVczdQ7yP8cAxdwt4fA\\u002fDZPv6e9Y8D\\u002fDFz98AyHwP86DYk6ZC\\u002fA\\u002fnbMcqd0D8D+5sIsYOQHwPxs4swheAPA\\u002fshd80BoA8D\\u002faNwFDBwDwPwX6T94BAPA\\u002fovP6dAAA8D\\u002fjqDUbAADwPwAAAAAAAPA\\u002f\"},\"yaxis\":\"y\",\"type\":\"scatter\"}],\"name\":\"91\"},{\"data\":[{\"hovertemplate\":\"variable=92\\u003cbr\\u003ex=%{x}\\u003cbr\\u003evalue=%{y}\\u003cextra\\u003e\\u003c\\u002fextra\\u003e\",\"legendgroup\":\"\",\"line\":{\"color\":\"#636efa\",\"dash\":\"solid\"},\"marker\":{\"symbol\":\"circle\"},\"mode\":\"lines\",\"name\":\"\",\"orientation\":\"v\",\"showlegend\":false,\"x\":{\"dtype\":\"f8\",\"bdata\":\"AAAAAAAAAAB7FK5H4XqkP3sUrkfherQ\\u002fuB6F61G4vj97FK5H4XrEP5qZmZmZmck\\u002fuB6F61G4zj\\u002fsUbgehevRP3sUrkfhetQ\\u002fCtejcD0K1z+amZmZmZnZPylcj8L1KNw\\u002fuB6F61G43j+kcD0K16PgP+xRuB6F6+E\\u002fMzMzMzMz4z97FK5H4XrkP8P1KFyPwuU\\u002fCtejcD0K5z9SuB6F61HoP5qZmZmZmek\\u002f4XoUrkfh6j8pXI\\u002fC9SjsP3E9CtejcO0\\u002fuB6F61G47j8AAAAAAADwP6RwPQrXo\\u002fA\\u002fSOF6FK5H8T\\u002fsUbgehevxP4\\u002fC9Shcj\\u002fI\\u002fMzMzMzMz8z\\u002fXo3A9CtfzP3sUrkfhevQ\\u002fH4XrUbge9T\\u002fD9Shcj8L1P2dmZmZmZvY\\u002fCtejcD0K9z+uR+F6FK73P1K4HoXrUfg\\u002f9ihcj8L1+D+amZmZmZn5Pz4K16NwPfo\\u002f4XoUrkfh+j+F61G4HoX7Pylcj8L1KPw\\u002fzczMzMzM\\u002fD9xPQrXo3D9PxWuR+F6FP4\\u002fuB6F61G4\\u002fj9cj8L1KFz\\u002fPwAAAAAAAABA\"},\"xaxis\":\"x\",\"y\":{\"dtype\":\"f8\",\"bdata\":\"AAAAAAAA8D8AAAAAAADwPwAAAAAAAPA\\u002fAAAAAAAA8D8AAAAAAADwPwAAAAAAAPA\\u002fAAAAAAAA8D8AAAAAAADwPwAAAAAAAPA\\u002fAAAAAAAA8D8AAAAAAADwPwAAAAAAAPA\\u002fAAAAAAAA8D\\u002fIDkcZpADwP1YOPB2tBfA\\u002foVYGPRcZ8D+k0Pv+bUrwP3hBC8OvqPA\\u002fx7+J\\u002fLY78T8qmzijXgLyP1QpbiUJ9fI\\u002fGPantDkJ9D86h8eHGzT1P9nqFuOpa\\u002fY\\u002fpBTszfOm9z9qrQs\\u002f+934Pwcxql9+Cfo\\u002fQazzrsgi+z8CPoprbyP8P4gx5OFrBP0\\u002fLWrdhRy7\\u002fT+aX+mkMDH+P\\u002fW87YLYM\\u002f4\\u002fZaantY5g\\u002fT9nI2o+wUP7P0ptwYIH+\\u002fc\\u002fE5Suda2h9D\\u002fluxedG0TyPwRyjHuq+\\u002fA\\u002fI3DOhIlk8D983gkjtiXwP8bguHJjDfA\\u002f8jtpyYIE8D8hYzx+cQHwP9eLcEpwAPA\\u002fABOKaiAA8D\\u002fShyHkCADwP5zMXlECAPA\\u002fsV8XkwAA8D+AxLAiAADwPwAAAAAAAPA\\u002f\"},\"yaxis\":\"y\",\"type\":\"scatter\"}],\"name\":\"92\"},{\"data\":[{\"hovertemplate\":\"variable=93\\u003cbr\\u003ex=%{x}\\u003cbr\\u003evalue=%{y}\\u003cextra\\u003e\\u003c\\u002fextra\\u003e\",\"legendgroup\":\"\",\"line\":{\"color\":\"#636efa\",\"dash\":\"solid\"},\"marker\":{\"symbol\":\"circle\"},\"mode\":\"lines\",\"name\":\"\",\"orientation\":\"v\",\"showlegend\":false,\"x\":{\"dtype\":\"f8\",\"bdata\":\"AAAAAAAAAAB7FK5H4XqkP3sUrkfherQ\\u002fuB6F61G4vj97FK5H4XrEP5qZmZmZmck\\u002fuB6F61G4zj\\u002fsUbgehevRP3sUrkfhetQ\\u002fCtejcD0K1z+amZmZmZnZPylcj8L1KNw\\u002fuB6F61G43j+kcD0K16PgP+xRuB6F6+E\\u002fMzMzMzMz4z97FK5H4XrkP8P1KFyPwuU\\u002fCtejcD0K5z9SuB6F61HoP5qZmZmZmek\\u002f4XoUrkfh6j8pXI\\u002fC9SjsP3E9CtejcO0\\u002fuB6F61G47j8AAAAAAADwP6RwPQrXo\\u002fA\\u002fSOF6FK5H8T\\u002fsUbgehevxP4\\u002fC9Shcj\\u002fI\\u002fMzMzMzMz8z\\u002fXo3A9CtfzP3sUrkfhevQ\\u002fH4XrUbge9T\\u002fD9Shcj8L1P2dmZmZmZvY\\u002fCtejcD0K9z+uR+F6FK73P1K4HoXrUfg\\u002f9ihcj8L1+D+amZmZmZn5Pz4K16NwPfo\\u002f4XoUrkfh+j+F61G4HoX7Pylcj8L1KPw\\u002fzczMzMzM\\u002fD9xPQrXo3D9PxWuR+F6FP4\\u002fuB6F61G4\\u002fj9cj8L1KFz\\u002fPwAAAAAAAABA\"},\"xaxis\":\"x\",\"y\":{\"dtype\":\"f8\",\"bdata\":\"AAAAAAAA8D8AAAAAAADwPwAAAAAAAPA\\u002fAAAAAAAA8D8AAAAAAADwPwAAAAAAAPA\\u002fAAAAAAAA8D8AAAAAAADwPwAAAAAAAPA\\u002fAAAAAAAA8D8AAAAAAADwPwAAAAAAAPA\\u002fAAAAAAAA8D9b4vRrlgDwPyhQIYxBBfA\\u002fGiA1hnYX8D\\u002fvKHNOPkbwPzQO4CKCoPA\\u002fQlBvnoQu8T+bL+53vO\\u002fxP3gFwXYT3fI\\u002fEZtzYGfs8z8QcVa3GRP1P6giSTRIR\\u002fY\\u002fiM\\u002fbyhyA9z9fUwC4srX4P1TpS3ng4Pk\\u002fp+n2RQf7+j\\u002fmF19n0v37PwC\\u002fVjxr4vw\\u002f8JmVeNKe\\u002fT+7Ia0\\u002fnx7+P9Rrp5BtM\\u002f4\\u002fZbHwx+KA\\u002fT\\u002fKETD7jJD7P+adQ\\u002fYIZPg\\u002fDc7IH8799D\\u002fUkHoZuH3yPwYWisC3GPE\\u002fzoEdvHBx8D9GmC\\u002fC\\u002firwP38R8ghsD\\u002fA\\u002fCX4\\u002fYkAF8D9SCxL1sgHwP7efArqFAPA\\u002ftW6VEicA8D9OqgDaCgDwP9zFmd0CAPA\\u002fcP9HuAAA8D\\u002fYpg4sAADwPwAAAAAAAPA\\u002f\"},\"yaxis\":\"y\",\"type\":\"scatter\"}],\"name\":\"93\"},{\"data\":[{\"hovertemplate\":\"variable=94\\u003cbr\\u003ex=%{x}\\u003cbr\\u003evalue=%{y}\\u003cextra\\u003e\\u003c\\u002fextra\\u003e\",\"legendgroup\":\"\",\"line\":{\"color\":\"#636efa\",\"dash\":\"solid\"},\"marker\":{\"symbol\":\"circle\"},\"mode\":\"lines\",\"name\":\"\",\"orientation\":\"v\",\"showlegend\":false,\"x\":{\"dtype\":\"f8\",\"bdata\":\"AAAAAAAAAAB7FK5H4XqkP3sUrkfherQ\\u002fuB6F61G4vj97FK5H4XrEP5qZmZmZmck\\u002fuB6F61G4zj\\u002fsUbgehevRP3sUrkfhetQ\\u002fCtejcD0K1z+amZmZmZnZPylcj8L1KNw\\u002fuB6F61G43j+kcD0K16PgP+xRuB6F6+E\\u002fMzMzMzMz4z97FK5H4XrkP8P1KFyPwuU\\u002fCtejcD0K5z9SuB6F61HoP5qZmZmZmek\\u002f4XoUrkfh6j8pXI\\u002fC9SjsP3E9CtejcO0\\u002fuB6F61G47j8AAAAAAADwP6RwPQrXo\\u002fA\\u002fSOF6FK5H8T\\u002fsUbgehevxP4\\u002fC9Shcj\\u002fI\\u002fMzMzMzMz8z\\u002fXo3A9CtfzP3sUrkfhevQ\\u002fH4XrUbge9T\\u002fD9Shcj8L1P2dmZmZmZvY\\u002fCtejcD0K9z+uR+F6FK73P1K4HoXrUfg\\u002f9ihcj8L1+D+amZmZmZn5Pz4K16NwPfo\\u002f4XoUrkfh+j+F61G4HoX7Pylcj8L1KPw\\u002fzczMzMzM\\u002fD9xPQrXo3D9PxWuR+F6FP4\\u002fuB6F61G4\\u002fj9cj8L1KFz\\u002fPwAAAAAAAABA\"},\"xaxis\":\"x\",\"y\":{\"dtype\":\"f8\",\"bdata\":\"AAAAAAAA8D8AAAAAAADwPwAAAAAAAPA\\u002fAAAAAAAA8D8AAAAAAADwPwAAAAAAAPA\\u002fAAAAAAAA8D8AAAAAAADwPwAAAAAAAPA\\u002fAAAAAAAA8D8AAAAAAADwPwAAAAAAAPA\\u002fAAAAAAAA8D+T9n\\u002fiiQDwP14ZZtPdBPA\\u002fB+Zy4u8V8D8Isb41R0LwP9dNIgaxmPA\\u002fxCJ6U88h8T+g1nyZr93xPx80qwbCxfI\\u002fuVxtqT\\u002fQ8z\\u002foE7fkwPL0P2RujMuFI\\u002fY\\u002fnKrZltJZ9z8U29kA2434P\\u002fyA93CNuPk\\u002feUyBH2HT+j\\u002fEP2i3F9j7PxDwCl8HwPw\\u002fmUqrssGB\\u002fT+IYZLekgr+P5VVU8EnMP4\\u002fTGP\\u002fQlKc\\u002fT9uSse4ztf7P19kO8xAy\\u002fg\\u002fShOSnPJc9T9buNJIXbvyP39\\u002fH76BOPE\\u002fjXoqJ8R\\u002f8D+1yWpd7TDwP0fRBnq6EfA\\u002f2iIFohkG8D\\u002fNYTfG\\u002fgHwP8O2FdWeAPA\\u002fS8vx9S4A8D9UqA40DQDwP77M94cDAPA\\u002fCNIO5gAA8D8FGb43AADwPwAAAAAAAPA\\u002f\"},\"yaxis\":\"y\",\"type\":\"scatter\"}],\"name\":\"94\"},{\"data\":[{\"hovertemplate\":\"variable=95\\u003cbr\\u003ex=%{x}\\u003cbr\\u003evalue=%{y}\\u003cextra\\u003e\\u003c\\u002fextra\\u003e\",\"legendgroup\":\"\",\"line\":{\"color\":\"#636efa\",\"dash\":\"solid\"},\"marker\":{\"symbol\":\"circle\"},\"mode\":\"lines\",\"name\":\"\",\"orientation\":\"v\",\"showlegend\":false,\"x\":{\"dtype\":\"f8\",\"bdata\":\"AAAAAAAAAAB7FK5H4XqkP3sUrkfherQ\\u002fuB6F61G4vj97FK5H4XrEP5qZmZmZmck\\u002fuB6F61G4zj\\u002fsUbgehevRP3sUrkfhetQ\\u002fCtejcD0K1z+amZmZmZnZPylcj8L1KNw\\u002fuB6F61G43j+kcD0K16PgP+xRuB6F6+E\\u002fMzMzMzMz4z97FK5H4XrkP8P1KFyPwuU\\u002fCtejcD0K5z9SuB6F61HoP5qZmZmZmek\\u002f4XoUrkfh6j8pXI\\u002fC9SjsP3E9CtejcO0\\u002fuB6F61G47j8AAAAAAADwP6RwPQrXo\\u002fA\\u002fSOF6FK5H8T\\u002fsUbgehevxP4\\u002fC9Shcj\\u002fI\\u002fMzMzMzMz8z\\u002fXo3A9CtfzP3sUrkfhevQ\\u002fH4XrUbge9T\\u002fD9Shcj8L1P2dmZmZmZvY\\u002fCtejcD0K9z+uR+F6FK73P1K4HoXrUfg\\u002f9ihcj8L1+D+amZmZmZn5Pz4K16NwPfo\\u002f4XoUrkfh+j+F61G4HoX7Pylcj8L1KPw\\u002fzczMzMzM\\u002fD9xPQrXo3D9PxWuR+F6FP4\\u002fuB6F61G4\\u002fj9cj8L1KFz\\u002fPwAAAAAAAABA\"},\"xaxis\":\"x\",\"y\":{\"dtype\":\"f8\",\"bdata\":\"AAAAAAAA8D8AAAAAAADwPwAAAAAAAPA\\u002fAAAAAAAA8D8AAAAAAADwPwAAAAAAAPA\\u002fAAAAAAAA8D8AAAAAAADwPwAAAAAAAPA\\u002fAAAAAAAA8D8AAAAAAADwPwAAAAAAAPA\\u002fAAAAAAAA8D8VR5JkfgDwP9fZPWOBBPA\\u002fs5I5w4EU8D8dX6z1hT7wPw9jU9E4kfA\\u002fHB0GKpMV8T88aKUmNMzxP\\u002fTRVkQRr\\u002fI\\u002flcbahL+08z8oYiHNDtP0P81ofoNhAPY\\u002fymKOjhU09z92BhFedmb4P4C\\u002fUsOJkPk\\u002fAHqBFd2r+j9HoWycSLL7P8OxXnNMnfw\\u002fOPq99vtj\\u002fT8IqdOmKvX9P9hp5BA\\u002fKv4\\u002fannh3h6z\\u002fT\\u002fMlA7YbRn8P3iRSNcMMPk\\u002fHOFoWqy+9T++CbaaFP3yP2ERhV40W\\u002fE\\u002fL\\u002fmNOKSP8D9KBbpakzfwPzoTc+5WFPA\\u002f7HKZEhIH8D\\u002f1G3RjVgLwP1\\u002f\\u002fUCq8APA\\u002frnulSDgA8D+GPTkEEADwPz83T1YEAPA\\u002fv5Q3HgEA8D9N00RGAADwPwAAAAAAAPA\\u002f\"},\"yaxis\":\"y\",\"type\":\"scatter\"}],\"name\":\"95\"},{\"data\":[{\"hovertemplate\":\"variable=96\\u003cbr\\u003ex=%{x}\\u003cbr\\u003evalue=%{y}\\u003cextra\\u003e\\u003c\\u002fextra\\u003e\",\"legendgroup\":\"\",\"line\":{\"color\":\"#636efa\",\"dash\":\"solid\"},\"marker\":{\"symbol\":\"circle\"},\"mode\":\"lines\",\"name\":\"\",\"orientation\":\"v\",\"showlegend\":false,\"x\":{\"dtype\":\"f8\",\"bdata\":\"AAAAAAAAAAB7FK5H4XqkP3sUrkfherQ\\u002fuB6F61G4vj97FK5H4XrEP5qZmZmZmck\\u002fuB6F61G4zj\\u002fsUbgehevRP3sUrkfhetQ\\u002fCtejcD0K1z+amZmZmZnZPylcj8L1KNw\\u002fuB6F61G43j+kcD0K16PgP+xRuB6F6+E\\u002fMzMzMzMz4z97FK5H4XrkP8P1KFyPwuU\\u002fCtejcD0K5z9SuB6F61HoP5qZmZmZmek\\u002f4XoUrkfh6j8pXI\\u002fC9SjsP3E9CtejcO0\\u002fuB6F61G47j8AAAAAAADwP6RwPQrXo\\u002fA\\u002fSOF6FK5H8T\\u002fsUbgehevxP4\\u002fC9Shcj\\u002fI\\u002fMzMzMzMz8z\\u002fXo3A9CtfzP3sUrkfhevQ\\u002fH4XrUbge9T\\u002fD9Shcj8L1P2dmZmZmZvY\\u002fCtejcD0K9z+uR+F6FK73P1K4HoXrUfg\\u002f9ihcj8L1+D+amZmZmZn5Pz4K16NwPfo\\u002f4XoUrkfh+j+F61G4HoX7Pylcj8L1KPw\\u002fzczMzMzM\\u002fD9xPQrXo3D9PxWuR+F6FP4\\u002fuB6F61G4\\u002fj9cj8L1KFz\\u002fPwAAAAAAAABA\"},\"xaxis\":\"x\",\"y\":{\"dtype\":\"f8\",\"bdata\":\"AAAAAAAA8D8AAAAAAADwPwAAAAAAAPA\\u002fAAAAAAAA8D8AAAAAAADwPwAAAAAAAPA\\u002fAAAAAAAA8D8AAAAAAADwPwAAAAAAAPA\\u002fAAAAAAAA8D8AAAAAAADwPwAAAAAAAPA\\u002fAAAAAAAA8D\\u002f0jN3bcwDwP8J+67UrBPA\\u002fvWhfsCoT8D+nLXft9zrwP+xBeQcWivA\\u002f3sfXSswJ8T9j3Z9TRrvxP3ohSK79mPI\\u002fhHwV7uOZ8z9SQ7wlAbT0P2zu5Bra3fU\\u002foPzr2eUO9z+B2tDDhj\\u002f4P14sDYPZaPk\\u002fBvvshYGE+j+mXDDRbYz7P3aPowRGevw\\u002f7xD\\u002f\\u002fJFF\\u002fT9cVWeMg979P7w5azLoIf4\\u002fvYaaM4zF\\u002fT+9vydBY1X8PyILJ1jVkfk\\u002f+LZnMX4i9j\\u002ftGl3k3ELzP\\u002fJgcLn6gPE\\u002fO5gwMTOh8D9lwaGVAz\\u002fwP6RsuF1KF\\u002fA\\u002fOFcDoi0I8D9ZkHdruwLwP8eeUFveAPA\\u002fYBpFRkMA8D+gnkVfEwDwP6VQeE8FAPA\\u002fazzkYgEA8D8QuUNYAADwPwAAAAAAAPA\\u002f\"},\"yaxis\":\"y\",\"type\":\"scatter\"}],\"name\":\"96\"},{\"data\":[{\"hovertemplate\":\"variable=97\\u003cbr\\u003ex=%{x}\\u003cbr\\u003evalue=%{y}\\u003cextra\\u003e\\u003c\\u002fextra\\u003e\",\"legendgroup\":\"\",\"line\":{\"color\":\"#636efa\",\"dash\":\"solid\"},\"marker\":{\"symbol\":\"circle\"},\"mode\":\"lines\",\"name\":\"\",\"orientation\":\"v\",\"showlegend\":false,\"x\":{\"dtype\":\"f8\",\"bdata\":\"AAAAAAAAAAB7FK5H4XqkP3sUrkfherQ\\u002fuB6F61G4vj97FK5H4XrEP5qZmZmZmck\\u002fuB6F61G4zj\\u002fsUbgehevRP3sUrkfhetQ\\u002fCtejcD0K1z+amZmZmZnZPylcj8L1KNw\\u002fuB6F61G43j+kcD0K16PgP+xRuB6F6+E\\u002fMzMzMzMz4z97FK5H4XrkP8P1KFyPwuU\\u002fCtejcD0K5z9SuB6F61HoP5qZmZmZmek\\u002f4XoUrkfh6j8pXI\\u002fC9SjsP3E9CtejcO0\\u002fuB6F61G47j8AAAAAAADwP6RwPQrXo\\u002fA\\u002fSOF6FK5H8T\\u002fsUbgehevxP4\\u002fC9Shcj\\u002fI\\u002fMzMzMzMz8z\\u002fXo3A9CtfzP3sUrkfhevQ\\u002fH4XrUbge9T\\u002fD9Shcj8L1P2dmZmZmZvY\\u002fCtejcD0K9z+uR+F6FK73P1K4HoXrUfg\\u002f9ihcj8L1+D+amZmZmZn5Pz4K16NwPfo\\u002f4XoUrkfh+j+F61G4HoX7Pylcj8L1KPw\\u002fzczMzMzM\\u002fD9xPQrXo3D9PxWuR+F6FP4\\u002fuB6F61G4\\u002fj9cj8L1KFz\\u002fPwAAAAAAAABA\"},\"xaxis\":\"x\",\"y\":{\"dtype\":\"f8\",\"bdata\":\"AAAAAAAA8D8AAAAAAADwPwAAAAAAAPA\\u002fAAAAAAAA8D8AAAAAAADwPwAAAAAAAPA\\u002fAAAAAAAA8D8AAAAAAADwPwAAAAAAAPA\\u002fAAAAAAAA8D8AAAAAAADwPwAAAAAAAPA\\u002fAAAAAAAA8D+C1+8zagDwP\\u002fBsEk\\u002fcA\\u002fA\\u002fzWnvRukR8D8XfKWZmjfwP1yHQklFg\\u002fA\\u002fOCZy+Hb+8D\\u002fheKZp4qrxP\\u002fe4WdKDg\\u002fI\\u002fmt9Q56l\\u002f8z9iHoedlZX0P7A8Ajjuu\\u002fU\\u002fsqP\\u002fcEPq9j9O2PXbDRn4P7WaKl+AQfk\\u002fv\\u002fQBWFRd+j8I+gSOj2b7P6R\\u002fBQX\\u002fVvw\\u002fJmdFhJMm\\u002fT8rcqZ6uMb9P5lvrZFUF\\u002f4\\u002f0BFCdd7T\\u002fT9ViaCft4v8P+1jNekP8Pk\\u002fK6E6J96H9j\\u002flv20IqYzzPwif1Uz+qfE\\u002fh9PbCJW08D\\u002fu9mFxUkfwPxOtnp6eGvA\\u002fYhLHq3AJ8D\\u002fgu4SuLwPwP3qw0R4GAfA\\u002fgxHnMlAA8D+REzVdFwDwP7V6dHsGAPA\\u002fW0WbtgEA8D99xHtuAADwPwAAAAAAAPA\\u002f\"},\"yaxis\":\"y\",\"type\":\"scatter\"}],\"name\":\"97\"},{\"data\":[{\"hovertemplate\":\"variable=98\\u003cbr\\u003ex=%{x}\\u003cbr\\u003evalue=%{y}\\u003cextra\\u003e\\u003c\\u002fextra\\u003e\",\"legendgroup\":\"\",\"line\":{\"color\":\"#636efa\",\"dash\":\"solid\"},\"marker\":{\"symbol\":\"circle\"},\"mode\":\"lines\",\"name\":\"\",\"orientation\":\"v\",\"showlegend\":false,\"x\":{\"dtype\":\"f8\",\"bdata\":\"AAAAAAAAAAB7FK5H4XqkP3sUrkfherQ\\u002fuB6F61G4vj97FK5H4XrEP5qZmZmZmck\\u002fuB6F61G4zj\\u002fsUbgehevRP3sUrkfhetQ\\u002fCtejcD0K1z+amZmZmZnZPylcj8L1KNw\\u002fuB6F61G43j+kcD0K16PgP+xRuB6F6+E\\u002fMzMzMzMz4z97FK5H4XrkP8P1KFyPwuU\\u002fCtejcD0K5z9SuB6F61HoP5qZmZmZmek\\u002f4XoUrkfh6j8pXI\\u002fC9SjsP3E9CtejcO0\\u002fuB6F61G47j8AAAAAAADwP6RwPQrXo\\u002fA\\u002fSOF6FK5H8T\\u002fsUbgehevxP4\\u002fC9Shcj\\u002fI\\u002fMzMzMzMz8z\\u002fXo3A9CtfzP3sUrkfhevQ\\u002fH4XrUbge9T\\u002fD9Shcj8L1P2dmZmZmZvY\\u002fCtejcD0K9z+uR+F6FK73P1K4HoXrUfg\\u002f9ihcj8L1+D+amZmZmZn5Pz4K16NwPfo\\u002f4XoUrkfh+j+F61G4HoX7Pylcj8L1KPw\\u002fzczMzMzM\\u002fD9xPQrXo3D9PxWuR+F6FP4\\u002fuB6F61G4\\u002fj9cj8L1KFz\\u002fPwAAAAAAAABA\"},\"xaxis\":\"x\",\"y\":{\"dtype\":\"f8\",\"bdata\":\"AAAAAAAA8D8AAAAAAADwPwAAAAAAAPA\\u002fAAAAAAAA8D8AAAAAAADwPwAAAAAAAPA\\u002fAAAAAAAA8D8AAAAAAADwPwAAAAAAAPA\\u002fAAAAAAAA8D8AAAAAAADwPwAAAAAAAPA\\u002fAAAAAAAA8D\\u002fQxgtaYQDwPz30EruSA\\u002fA\\u002fynQPOLwQ8D\\u002fy5PCSazTwP7YTMlTDfPA\\u002f5iRzjo\\u002fz8D9lmIHGBJvxP3KvrE2gbvI\\u002fJz9Beg5m8z8EdA7fyXf0P7JInWucmvU\\u002fQCRoIC7G9j+C4rULDfP3P58JHKmBGvk\\u002f\\u002f8GeAVs2+j9156iMtUD7PxYgY9KBM\\u002fw\\u002fUd6BYQ8H\\u002fT+q\\u002fMd64q39Pw\\u002fNimKyCv4\\u002fWvMtaFne\\u002fT8AlxBqgbz8PyoW7t1BSvo\\u002fM9OcuTfu9j\\u002fUE8rAXtrzP0k7Vxhm1vE\\u002fdLdeSu\\u002fJ8D9Yw4vplVDwPwq8IXheHvA\\u002fcZjqAuAK8D+reoYztQPwP19WFEM0AfA\\u002fn0YxXF8A8D\\u002frfbUZHADwP7BumuMHAPA\\u002fshRYHAIA8D+iutOJAADwPwAAAAAAAPA\\u002f\"},\"yaxis\":\"y\",\"type\":\"scatter\"}],\"name\":\"98\"},{\"data\":[{\"hovertemplate\":\"variable=99\\u003cbr\\u003ex=%{x}\\u003cbr\\u003evalue=%{y}\\u003cextra\\u003e\\u003c\\u002fextra\\u003e\",\"legendgroup\":\"\",\"line\":{\"color\":\"#636efa\",\"dash\":\"solid\"},\"marker\":{\"symbol\":\"circle\"},\"mode\":\"lines\",\"name\":\"\",\"orientation\":\"v\",\"showlegend\":false,\"x\":{\"dtype\":\"f8\",\"bdata\":\"AAAAAAAAAAB7FK5H4XqkP3sUrkfherQ\\u002fuB6F61G4vj97FK5H4XrEP5qZmZmZmck\\u002fuB6F61G4zj\\u002fsUbgehevRP3sUrkfhetQ\\u002fCtejcD0K1z+amZmZmZnZPylcj8L1KNw\\u002fuB6F61G43j+kcD0K16PgP+xRuB6F6+E\\u002fMzMzMzMz4z97FK5H4XrkP8P1KFyPwuU\\u002fCtejcD0K5z9SuB6F61HoP5qZmZmZmek\\u002f4XoUrkfh6j8pXI\\u002fC9SjsP3E9CtejcO0\\u002fuB6F61G47j8AAAAAAADwP6RwPQrXo\\u002fA\\u002fSOF6FK5H8T\\u002fsUbgehevxP4\\u002fC9Shcj\\u002fI\\u002fMzMzMzMz8z\\u002fXo3A9CtfzP3sUrkfhevQ\\u002fH4XrUbge9T\\u002fD9Shcj8L1P2dmZmZmZvY\\u002fCtejcD0K9z+uR+F6FK73P1K4HoXrUfg\\u002f9ihcj8L1+D+amZmZmZn5Pz4K16NwPfo\\u002f4XoUrkfh+j+F61G4HoX7Pylcj8L1KPw\\u002fzczMzMzM\\u002fD9xPQrXo3D9PxWuR+F6FP4\\u002fuB6F61G4\\u002fj9cj8L1KFz\\u002fPwAAAAAAAABA\"},\"xaxis\":\"x\",\"y\":{\"dtype\":\"f8\",\"bdata\":\"AAAAAAAA8D8AAAAAAADwPwAAAAAAAPA\\u002fAAAAAAAA8D8AAAAAAADwPwAAAAAAAPA\\u002fAAAAAAAA8D8AAAAAAADwPwAAAAAAAPA\\u002fAAAAAAAA8D8AAAAAAADwPwAAAAAAAPA\\u002fAAAAAAAA8D\\u002fDGQQ9WQDwP3yDcY5OA\\u002fA\\u002fKYjzR6IP8D9yIDeNaDHwP9mm0QGNdvA\\u002fHGr2gBLp8D8X0hTcqYvxP5mojsxPWvI\\u002fAPKnuA5N8z81avCRm1r0P20uxDPjefU\\u002fJFF2jaWi9j+Zp\\u002fJ4hc33P9KBoVrg8\\u002fg\\u002fz2uhjJoP+j9mT2cM5xr7PxN8HzvYD\\u002fw\\u002fVi3IjRPn\\u002fD9Ay\\u002fjXGJT9P5yTmros\\u002fP0\\u002fysOGiT\\u002fl\\u002fT8+mKXQ4uf8P7t85wICoPo\\u002flyegnu5U9z9gw5Kc1Sv0P3WpGpxVBvI\\u002f45cp4Wjh8D8wUkWg5VrwPzcw9LKVIvA\\u002fgHWu\\u002fIAM8D+dApM9TgTwPwo7eLBpAfA\\u002fvUWDGnEA8D8D\\u002fJ60IQDwPzkvyJIJAPA\\u002fdaydlwIA8D9Ew16rAADwPwAAAAAAAPA\\u002f\"},\"yaxis\":\"y\",\"type\":\"scatter\"}],\"name\":\"99\"},{\"data\":[{\"hovertemplate\":\"variable=100\\u003cbr\\u003ex=%{x}\\u003cbr\\u003evalue=%{y}\\u003cextra\\u003e\\u003c\\u002fextra\\u003e\",\"legendgroup\":\"\",\"line\":{\"color\":\"#636efa\",\"dash\":\"solid\"},\"marker\":{\"symbol\":\"circle\"},\"mode\":\"lines\",\"name\":\"\",\"orientation\":\"v\",\"showlegend\":false,\"x\":{\"dtype\":\"f8\",\"bdata\":\"AAAAAAAAAAB7FK5H4XqkP3sUrkfherQ\\u002fuB6F61G4vj97FK5H4XrEP5qZmZmZmck\\u002fuB6F61G4zj\\u002fsUbgehevRP3sUrkfhetQ\\u002fCtejcD0K1z+amZmZmZnZPylcj8L1KNw\\u002fuB6F61G43j+kcD0K16PgP+xRuB6F6+E\\u002fMzMzMzMz4z97FK5H4XrkP8P1KFyPwuU\\u002fCtejcD0K5z9SuB6F61HoP5qZmZmZmek\\u002f4XoUrkfh6j8pXI\\u002fC9SjsP3E9CtejcO0\\u002fuB6F61G47j8AAAAAAADwP6RwPQrXo\\u002fA\\u002fSOF6FK5H8T\\u002fsUbgehevxP4\\u002fC9Shcj\\u002fI\\u002fMzMzMzMz8z\\u002fXo3A9CtfzP3sUrkfhevQ\\u002fH4XrUbge9T\\u002fD9Shcj8L1P2dmZmZmZvY\\u002fCtejcD0K9z+uR+F6FK73P1K4HoXrUfg\\u002f9ihcj8L1+D+amZmZmZn5Pz4K16NwPfo\\u002f4XoUrkfh+j+F61G4HoX7Pylcj8L1KPw\\u002fzczMzMzM\\u002fD9xPQrXo3D9PxWuR+F6FP4\\u002fuB6F61G4\\u002fj9cj8L1KFz\\u002fPwAAAAAAAABA\"},\"xaxis\":\"x\",\"y\":{\"dtype\":\"f8\",\"bdata\":\"AAAAAAAA8D8AAAAAAADwPwAAAAAAAPA\\u002fAAAAAAAA8D8AAAAAAADwPwAAAAAAAPA\\u002fAAAAAAAA8D8AAAAAAADwPwAAAAAAAPA\\u002fAAAAAAAA8D8AAAAAAADwPwAAAAAAAPA\\u002fAAAAAAAA8D9OSBrNUQDwP1\\u002fvR2UPA\\u002fA\\u002f1JvdTJoO8D9alHNWjy7wP7EE60afcPA\\u002fVEn+W\\u002fze8D9G5u0vznzxP+lnVwqPRvI\\u002fFGDHvKc08z+\\u002fwTVcCD70P\\u002fM4Tv7AWfU\\u002f2Y78Oal\\u002f9j9a8jgPeKj3P74LcRufzfg\\u002fYwhDnBfp+T\\u002fuNGrWKvX6P1U48oIL7Ps\\u002fYvwZM63G\\u002fD8xpfdAcXn9PwT6BrLr6\\u002f0\\u002flTVtZ9Ho\\u002fT\\u002fBAHiqBw79P6gwjbX58Po\\u002fgHiS4WG79z+LgDlF1oD0P9JeKb3rOfI\\u002fUisr1in78D8B7WjpWmbwP\\u002ffRdCtRJ\\u002fA\\u002f2dz\\u002fe1kO8D922+VR\\u002fQTwP6AtWGynAfA\\u002fw3Q\\u002f0oUA8D9c8n9SKADwP6hJm5ULAPA\\u002fJvqLLAMA8D8VA2TUAADwPwAAAAAAAPA\\u002f\"},\"yaxis\":\"y\",\"type\":\"scatter\"}],\"name\":\"100\"},{\"data\":[{\"hovertemplate\":\"variable=101\\u003cbr\\u003ex=%{x}\\u003cbr\\u003evalue=%{y}\\u003cextra\\u003e\\u003c\\u002fextra\\u003e\",\"legendgroup\":\"\",\"line\":{\"color\":\"#636efa\",\"dash\":\"solid\"},\"marker\":{\"symbol\":\"circle\"},\"mode\":\"lines\",\"name\":\"\",\"orientation\":\"v\",\"showlegend\":false,\"x\":{\"dtype\":\"f8\",\"bdata\":\"AAAAAAAAAAB7FK5H4XqkP3sUrkfherQ\\u002fuB6F61G4vj97FK5H4XrEP5qZmZmZmck\\u002fuB6F61G4zj\\u002fsUbgehevRP3sUrkfhetQ\\u002fCtejcD0K1z+amZmZmZnZPylcj8L1KNw\\u002fuB6F61G43j+kcD0K16PgP+xRuB6F6+E\\u002fMzMzMzMz4z97FK5H4XrkP8P1KFyPwuU\\u002fCtejcD0K5z9SuB6F61HoP5qZmZmZmek\\u002f4XoUrkfh6j8pXI\\u002fC9SjsP3E9CtejcO0\\u002fuB6F61G47j8AAAAAAADwP6RwPQrXo\\u002fA\\u002fSOF6FK5H8T\\u002fsUbgehevxP4\\u002fC9Shcj\\u002fI\\u002fMzMzMzMz8z\\u002fXo3A9CtfzP3sUrkfhevQ\\u002fH4XrUbge9T\\u002fD9Shcj8L1P2dmZmZmZvY\\u002fCtejcD0K9z+uR+F6FK73P1K4HoXrUfg\\u002f9ihcj8L1+D+amZmZmZn5Pz4K16NwPfo\\u002f4XoUrkfh+j+F61G4HoX7Pylcj8L1KPw\\u002fzczMzMzM\\u002fD9xPQrXo3D9PxWuR+F6FP4\\u002fuB6F61G4\\u002fj9cj8L1KFz\\u002fPwAAAAAAAABA\"},\"xaxis\":\"x\",\"y\":{\"dtype\":\"f8\",\"bdata\":\"AAAAAAAA8D8AAAAAAADwPwAAAAAAAPA\\u002fAAAAAAAA8D8AAAAAAADwPwAAAAAAAPA\\u002fAAAAAAAA8D8AAAAAAADwPwAAAAAAAPA\\u002fAAAAAAAA8D8AAAAAAADwPwAAAAAAAPA\\u002fAAAAAAAA8D9e6N\\u002f7SgDwP2spwOLUAvA\\u002ffYwpLqMN8D8\\u002fOsHV3SvwPy4xxzL3avA\\u002fuJjiwknV8D9T89Vabm7xPxBiP9FaM\\u002fI\\u002f5rfBqdYc8z+wTIPjDSL0P6GmIis0OvU\\u002fRpjShzhd9j92qW+E5YP3P8sVoEbAp\\u002fg\\u002fBeNkctbC+T8jyTFCh8\\u002f6P+FxuGckyPs\\u002f21AduOil\\u002fD\\u002fqNzTn\\u002f139P7jvOIkU2v0\\u002fdjMuI03p\\u002fT+JFx91Iy\\u002f9P1jYLFXlPPs\\u002fNEFaPO8g+D+pnQAdGtn0P8ahQJNBcfI\\u002fYPax+VoX8T\\u002fOdIfREHPwP88f6uOeLPA\\u002faqym\\u002fW8Q8D9arFc+xQXwP13GKZzuAfA\\u002fCQg29Z0A8D8E4DgdMADwP5kTsPoNAPA\\u002fCQ\\u002f43wMA8D9EWmcGAQDwPwAAAAAAAPA\\u002f\"},\"yaxis\":\"y\",\"type\":\"scatter\"}],\"name\":\"101\"},{\"data\":[{\"hovertemplate\":\"variable=102\\u003cbr\\u003ex=%{x}\\u003cbr\\u003evalue=%{y}\\u003cextra\\u003e\\u003c\\u002fextra\\u003e\",\"legendgroup\":\"\",\"line\":{\"color\":\"#636efa\",\"dash\":\"solid\"},\"marker\":{\"symbol\":\"circle\"},\"mode\":\"lines\",\"name\":\"\",\"orientation\":\"v\",\"showlegend\":false,\"x\":{\"dtype\":\"f8\",\"bdata\":\"AAAAAAAAAAB7FK5H4XqkP3sUrkfherQ\\u002fuB6F61G4vj97FK5H4XrEP5qZmZmZmck\\u002fuB6F61G4zj\\u002fsUbgehevRP3sUrkfhetQ\\u002fCtejcD0K1z+amZmZmZnZPylcj8L1KNw\\u002fuB6F61G43j+kcD0K16PgP+xRuB6F6+E\\u002fMzMzMzMz4z97FK5H4XrkP8P1KFyPwuU\\u002fCtejcD0K5z9SuB6F61HoP5qZmZmZmek\\u002f4XoUrkfh6j8pXI\\u002fC9SjsP3E9CtejcO0\\u002fuB6F61G47j8AAAAAAADwP6RwPQrXo\\u002fA\\u002fSOF6FK5H8T\\u002fsUbgehevxP4\\u002fC9Shcj\\u002fI\\u002fMzMzMzMz8z\\u002fXo3A9CtfzP3sUrkfhevQ\\u002fH4XrUbge9T\\u002fD9Shcj8L1P2dmZmZmZvY\\u002fCtejcD0K9z+uR+F6FK73P1K4HoXrUfg\\u002f9ihcj8L1+D+amZmZmZn5Pz4K16NwPfo\\u002f4XoUrkfh+j+F61G4HoX7Pylcj8L1KPw\\u002fzczMzMzM\\u002fD9xPQrXo3D9PxWuR+F6FP4\\u002fuB6F61G4\\u002fj9cj8L1KFz\\u002fPwAAAAAAAABA\"},\"xaxis\":\"x\",\"y\":{\"dtype\":\"f8\",\"bdata\":\"AAAAAAAA8D8AAAAAAADwPwAAAAAAAPA\\u002fAAAAAAAA8D8AAAAAAADwPwAAAAAAAPA\\u002fAAAAAAAA8D8AAAAAAADwPwAAAAAAAPA\\u002fAAAAAAAA8D8AAAAAAADwPwAAAAAAAPA\\u002fAAAAAAAA8D+PoRq8RADwP9\\u002fNl7CeAvA\\u002f+5dk47sM8D9mjWQKUinwP+dac+6RZfA\\u002f\\u002fyHFb\\u002ffL8D+wQ2UIh2DxPxiXMPqvIPI\\u002ff8bkq5gF8z8ToyfOqQb0PyDySA47G\\u002fU\\u002fD2YSvFI79j9Okzldzl\\u002f3Py6uze9Fgvg\\u002fwP7G9Nqc+T+CDCU6Aqr6P2CmRiYrpPs\\u002f2U\\u002fiytGE\\u002fD9sJYCb10H9P9\\u002fEYtHJxv0\\u002fiCrKF+7m\\u002fT+6zlN1b0v9P5QFNBiUg\\u002fs\\u002fKUFBiPaE+D8jG11HSzT1P3FT8SVprPI\\u002foJcleCU28T8KMa8fJIHwPxW7yRaOMvA\\u002fX9QvpcsS8D+2OlsgqQbwPwdK5ohAAvA\\u002fs6M0BLoA8D9mf6lEOQDwP9+g6NIQAPA\\u002f9JiHtwQA8D86bTNDAQDwPwAAAAAAAPA\\u002f\"},\"yaxis\":\"y\",\"type\":\"scatter\"}],\"name\":\"102\"},{\"data\":[{\"hovertemplate\":\"variable=103\\u003cbr\\u003ex=%{x}\\u003cbr\\u003evalue=%{y}\\u003cextra\\u003e\\u003c\\u002fextra\\u003e\",\"legendgroup\":\"\",\"line\":{\"color\":\"#636efa\",\"dash\":\"solid\"},\"marker\":{\"symbol\":\"circle\"},\"mode\":\"lines\",\"name\":\"\",\"orientation\":\"v\",\"showlegend\":false,\"x\":{\"dtype\":\"f8\",\"bdata\":\"AAAAAAAAAAB7FK5H4XqkP3sUrkfherQ\\u002fuB6F61G4vj97FK5H4XrEP5qZmZmZmck\\u002fuB6F61G4zj\\u002fsUbgehevRP3sUrkfhetQ\\u002fCtejcD0K1z+amZmZmZnZPylcj8L1KNw\\u002fuB6F61G43j+kcD0K16PgP+xRuB6F6+E\\u002fMzMzMzMz4z97FK5H4XrkP8P1KFyPwuU\\u002fCtejcD0K5z9SuB6F61HoP5qZmZmZmek\\u002f4XoUrkfh6j8pXI\\u002fC9SjsP3E9CtejcO0\\u002fuB6F61G47j8AAAAAAADwP6RwPQrXo\\u002fA\\u002fSOF6FK5H8T\\u002fsUbgehevxP4\\u002fC9Shcj\\u002fI\\u002fMzMzMzMz8z\\u002fXo3A9CtfzP3sUrkfhevQ\\u002fH4XrUbge9T\\u002fD9Shcj8L1P2dmZmZmZvY\\u002fCtejcD0K9z+uR+F6FK73P1K4HoXrUfg\\u002f9ihcj8L1+D+amZmZmZn5Pz4K16NwPfo\\u002f4XoUrkfh+j+F61G4HoX7Pylcj8L1KPw\\u002fzczMzMzM\\u002fD9xPQrXo3D9PxWuR+F6FP4\\u002fuB6F61G4\\u002fj9cj8L1KFz\\u002fPwAAAAAAAABA\"},\"xaxis\":\"x\",\"y\":{\"dtype\":\"f8\",\"bdata\":\"AAAAAAAA8D8AAAAAAADwPwAAAAAAAPA\\u002fAAAAAAAA8D8AAAAAAADwPwAAAAAAAPA\\u002fAAAAAAAA8D8AAAAAAADwPwAAAAAAAPA\\u002fAAAAAAAA8D8AAAAAAADwPwAAAAAAAPA\\u002fAAAAAAAA8D\\u002fNeKoBPwDwP7L4q35sAvA\\u002fte9vc+ML8D8tON0K6ibwP7ITC7xsYPA\\u002fGGYLMwLD8D9S+pn2FFPxP2TYkmyLDvI\\u002fxCnl+Oru8j9mgAjE2evzP8ESx\\u002fHT\\u002fPQ\\u002fMO8SAvcZ9j9XJw3xMjz3P4bUDOgxXfg\\u002fdAghsih3+T+D+TBAoYT6PwGHOn8ngPs\\u002f0KjXanNj\\u002fD9Fv2zoCSX9P0vBY5Yrsv0\\u002fMEMtn+zh\\u002fT\\u002fLte4CKWP9P0WW6lfnxPs\\u002fiXrsHt3m+D+jokAoBZL1P5ERISFs6\\u002fI\\u002fSsGbV7JX8T\\u002fFna5Qs5DwP1cgwkgvOfA\\u002f0IuRSnQV8D\\u002fu24ZsrAfwPylJwqKeAvA\\u002fqcq9kNoA8D\\u002f\\u002f03D\\u002fQwDwP6g+vDEUAPA\\u002fF\\u002fvPuQUA8D9aIeWMAQDwPwAAAAAAAPA\\u002f\"},\"yaxis\":\"y\",\"type\":\"scatter\"}],\"name\":\"103\"},{\"data\":[{\"hovertemplate\":\"variable=104\\u003cbr\\u003ex=%{x}\\u003cbr\\u003evalue=%{y}\\u003cextra\\u003e\\u003c\\u002fextra\\u003e\",\"legendgroup\":\"\",\"line\":{\"color\":\"#636efa\",\"dash\":\"solid\"},\"marker\":{\"symbol\":\"circle\"},\"mode\":\"lines\",\"name\":\"\",\"orientation\":\"v\",\"showlegend\":false,\"x\":{\"dtype\":\"f8\",\"bdata\":\"AAAAAAAAAAB7FK5H4XqkP3sUrkfherQ\\u002fuB6F61G4vj97FK5H4XrEP5qZmZmZmck\\u002fuB6F61G4zj\\u002fsUbgehevRP3sUrkfhetQ\\u002fCtejcD0K1z+amZmZmZnZPylcj8L1KNw\\u002fuB6F61G43j+kcD0K16PgP+xRuB6F6+E\\u002fMzMzMzMz4z97FK5H4XrkP8P1KFyPwuU\\u002fCtejcD0K5z9SuB6F61HoP5qZmZmZmek\\u002f4XoUrkfh6j8pXI\\u002fC9SjsP3E9CtejcO0\\u002fuB6F61G47j8AAAAAAADwP6RwPQrXo\\u002fA\\u002fSOF6FK5H8T\\u002fsUbgehevxP4\\u002fC9Shcj\\u002fI\\u002fMzMzMzMz8z\\u002fXo3A9CtfzP3sUrkfhevQ\\u002fH4XrUbge9T\\u002fD9Shcj8L1P2dmZmZmZvY\\u002fCtejcD0K9z+uR+F6FK73P1K4HoXrUfg\\u002f9ihcj8L1+D+amZmZmZn5Pz4K16NwPfo\\u002f4XoUrkfh+j+F61G4HoX7Pylcj8L1KPw\\u002fzczMzMzM\\u002fD9xPQrXo3D9PxWuR+F6FP4\\u002fuB6F61G4\\u002fj9cj8L1KFz\\u002fPwAAAAAAAABA\"},\"xaxis\":\"x\",\"y\":{\"dtype\":\"f8\",\"bdata\":\"AAAAAAAA8D8AAAAAAADwPwAAAAAAAPA\\u002fAAAAAAAA8D8AAAAAAADwPwAAAAAAAPA\\u002fAAAAAAAA8D8AAAAAAADwPwAAAAAAAPA\\u002fAAAAAAAA8D8AAAAAAADwPwAAAAAAAPA\\u002fAAAAAAAA8D+kQXLBOQDwP5LajAI+AvA\\u002fFOut8xgL8D8kP\\u002f8DpCTwPzB+B\\u002faEW\\u002fA\\u002fcWnd8ma68D\\u002fx0HH1FEbxPwJ6FB7q\\u002fPE\\u002fh9wK0MrY8j8E6HJvm9HzP7jUURf93vQ\\u002f8EMlbiT59T+91wVuExn3P+\\u002fhjsKFOPg\\u002fxCUY58JR+T\\u002fdoWxyaV\\u002f6PyGNyrsgXPs\\u002f2qEI8tdB\\u002fD8bS3cqpwf9P7q+2YhXnP0\\u002fLgDJ8H3a\\u002fT++bXgGkHb9PzsbJWrRAPw\\u002fBdf\\u002fBBFG+T8cwlxi1fH1P1LqQ4tKLvM\\u002f\\u002f6mk3Cl88T9I9GCK3qHwP\\u002fAAK1qUQPA\\u002fO+qCiHIY8D9UWbH20gjwP4+7OYUKA\\u002fA\\u002fynPrPgAB8D895sGLUADwPz9SkC0YAPA\\u002fLm957gYA8D8hvPjlAQDwPwAAAAAAAPA\\u002f\"},\"yaxis\":\"y\",\"type\":\"scatter\"}],\"name\":\"104\"},{\"data\":[{\"hovertemplate\":\"variable=105\\u003cbr\\u003ex=%{x}\\u003cbr\\u003evalue=%{y}\\u003cextra\\u003e\\u003c\\u002fextra\\u003e\",\"legendgroup\":\"\",\"line\":{\"color\":\"#636efa\",\"dash\":\"solid\"},\"marker\":{\"symbol\":\"circle\"},\"mode\":\"lines\",\"name\":\"\",\"orientation\":\"v\",\"showlegend\":false,\"x\":{\"dtype\":\"f8\",\"bdata\":\"AAAAAAAAAAB7FK5H4XqkP3sUrkfherQ\\u002fuB6F61G4vj97FK5H4XrEP5qZmZmZmck\\u002fuB6F61G4zj\\u002fsUbgehevRP3sUrkfhetQ\\u002fCtejcD0K1z+amZmZmZnZPylcj8L1KNw\\u002fuB6F61G43j+kcD0K16PgP+xRuB6F6+E\\u002fMzMzMzMz4z97FK5H4XrkP8P1KFyPwuU\\u002fCtejcD0K5z9SuB6F61HoP5qZmZmZmek\\u002f4XoUrkfh6j8pXI\\u002fC9SjsP3E9CtejcO0\\u002fuB6F61G47j8AAAAAAADwP6RwPQrXo\\u002fA\\u002fSOF6FK5H8T\\u002fsUbgehevxP4\\u002fC9Shcj\\u002fI\\u002fMzMzMzMz8z\\u002fXo3A9CtfzP3sUrkfhevQ\\u002fH4XrUbge9T\\u002fD9Shcj8L1P2dmZmZmZvY\\u002fCtejcD0K9z+uR+F6FK73P1K4HoXrUfg\\u002f9ihcj8L1+D+amZmZmZn5Pz4K16NwPfo\\u002f4XoUrkfh+j+F61G4HoX7Pylcj8L1KPw\\u002fzczMzMzM\\u002fD9xPQrXo3D9PxWuR+F6FP4\\u002fuB6F61G4\\u002fj9cj8L1KFz\\u002fPwAAAAAAAABA\"},\"xaxis\":\"x\",\"y\":{\"dtype\":\"f8\",\"bdata\":\"AAAAAAAA8D8AAAAAAADwPwAAAAAAAPA\\u002fAAAAAAAA8D8AAAAAAADwPwAAAAAAAPA\\u002fAAAAAAAA8D8AAAAAAADwPwAAAAAAAPA\\u002fAAAAAAAA8D8AAAAAAADwPwAAAAAAAPA\\u002fAAAAAAAA8D84B0LxNADwPwGPGPcSAvA\\u002fjGg5h1sK8D98bRM4fiLwP\\u002fEekw7YVvA\\u002fBz6pqiKy8D+PDIfmgznxPzhPcBLJ6\\u002fE\\u002fWuhQejXD8j\\u002fA6NB97LfzP+0b07m0wfQ\\u002f\\u002fUsYANrY9T8dT3Lcb\\u002fb2P12fDtlCFPg\\u002fgj4Ng6ws+T9GzrmPXzr6Pwh3kLIdOPs\\u002f0s+7HQkg\\u002fD+G3Smmvun8P56fgSdphf0\\u002fPJO2FNTQ\\u002fT+QaAqr5YX9P+WyQCNUN\\u002fw\\u002fiiGWuwui+T9bKihWPVP2P\\u002fz12Yn5dPM\\u002f7r4y1bKj8T8GVWmFx7TwP5jHa5fQSPA\\u002fRb57y88b8D8s06j6IArwP72XdvuFA\\u002fA\\u002f\\u002f1eAxysB8D\\u002fpEU8wXwDwPxCNG+AcAPA\\u002ff6FmXggA8D\\u002fK11hRAgDwPwAAAAAAAPA\\u002f\"},\"yaxis\":\"y\",\"type\":\"scatter\"}],\"name\":\"105\"},{\"data\":[{\"hovertemplate\":\"variable=106\\u003cbr\\u003ex=%{x}\\u003cbr\\u003evalue=%{y}\\u003cextra\\u003e\\u003c\\u002fextra\\u003e\",\"legendgroup\":\"\",\"line\":{\"color\":\"#636efa\",\"dash\":\"solid\"},\"marker\":{\"symbol\":\"circle\"},\"mode\":\"lines\",\"name\":\"\",\"orientation\":\"v\",\"showlegend\":false,\"x\":{\"dtype\":\"f8\",\"bdata\":\"AAAAAAAAAAB7FK5H4XqkP3sUrkfherQ\\u002fuB6F61G4vj97FK5H4XrEP5qZmZmZmck\\u002fuB6F61G4zj\\u002fsUbgehevRP3sUrkfhetQ\\u002fCtejcD0K1z+amZmZmZnZPylcj8L1KNw\\u002fuB6F61G43j+kcD0K16PgP+xRuB6F6+E\\u002fMzMzMzMz4z97FK5H4XrkP8P1KFyPwuU\\u002fCtejcD0K5z9SuB6F61HoP5qZmZmZmek\\u002f4XoUrkfh6j8pXI\\u002fC9SjsP3E9CtejcO0\\u002fuB6F61G47j8AAAAAAADwP6RwPQrXo\\u002fA\\u002fSOF6FK5H8T\\u002fsUbgehevxP4\\u002fC9Shcj\\u002fI\\u002fMzMzMzMz8z\\u002fXo3A9CtfzP3sUrkfhevQ\\u002fH4XrUbge9T\\u002fD9Shcj8L1P2dmZmZmZvY\\u002fCtejcD0K9z+uR+F6FK73P1K4HoXrUfg\\u002f9ihcj8L1+D+amZmZmZn5Pz4K16NwPfo\\u002f4XoUrkfh+j+F61G4HoX7Pylcj8L1KPw\\u002fzczMzMzM\\u002fD9xPQrXo3D9PxWuR+F6FP4\\u002fuB6F61G4\\u002fj9cj8L1KFz\\u002fPwAAAAAAAABA\"},\"xaxis\":\"x\",\"y\":{\"dtype\":\"f8\",\"bdata\":\"AAAAAAAA8D8AAAAAAADwPwAAAAAAAPA\\u002fAAAAAAAA8D8AAAAAAADwPwAAAAAAAPA\\u002fAAAAAAAA8D8AAAAAAADwPwAAAAAAAPA\\u002fAAAAAAAA8D8AAAAAAADwPwAAAAAAAPA\\u002fAAAAAAAA8D\\u002fAQsOHMADwP2G8HBzrAfA\\u002fO\\u002fAmXqoJ8D8uy\\u002f79diDwP\\u002fsG4o5jUvA\\u002fwgCrajKq8D\\u002fgv7C8Xi3xP8C1MVsl2\\u002fE\\u002f49p5Siiu8j+ol0egyp7zP\\u002fWayQ75pPQ\\u002fHjeHpRa59T9LIiMiSNT2P\\u002f0d\\u002fU9q8Pc\\u002fDGnALOgH+T9jy1r8hxX6P5JpS8wkFPs\\u002f3wKGFhD++z8HtlicXsv8Pwx\\u002fRed5bf0\\u002f+WYT5x3F\\u002fT9fY3NEa5H9P9lxWxt\\u002faPw\\u002fQV\\u002frm1T6+T8J2DActLX2P6I+rEJiv\\u002fM\\u002fUx1ByXHO8T9yJ5xrkcnwP20k0Mf4UfA\\u002fL6VLYZYf8D+6f4klmwvwP0seGAUTBPA\\u002f9ccr+l0B8D+08E09cADwP+Z71GYiAPA\\u002fnUThEwoA8D\\u002f3ZW\\u002fSAgDwPwAAAAAAAPA\\u002f\"},\"yaxis\":\"y\",\"type\":\"scatter\"}],\"name\":\"106\"},{\"data\":[{\"hovertemplate\":\"variable=107\\u003cbr\\u003ex=%{x}\\u003cbr\\u003evalue=%{y}\\u003cextra\\u003e\\u003c\\u002fextra\\u003e\",\"legendgroup\":\"\",\"line\":{\"color\":\"#636efa\",\"dash\":\"solid\"},\"marker\":{\"symbol\":\"circle\"},\"mode\":\"lines\",\"name\":\"\",\"orientation\":\"v\",\"showlegend\":false,\"x\":{\"dtype\":\"f8\",\"bdata\":\"AAAAAAAAAAB7FK5H4XqkP3sUrkfherQ\\u002fuB6F61G4vj97FK5H4XrEP5qZmZmZmck\\u002fuB6F61G4zj\\u002fsUbgehevRP3sUrkfhetQ\\u002fCtejcD0K1z+amZmZmZnZPylcj8L1KNw\\u002fuB6F61G43j+kcD0K16PgP+xRuB6F6+E\\u002fMzMzMzMz4z97FK5H4XrkP8P1KFyPwuU\\u002fCtejcD0K5z9SuB6F61HoP5qZmZmZmek\\u002f4XoUrkfh6j8pXI\\u002fC9SjsP3E9CtejcO0\\u002fuB6F61G47j8AAAAAAADwP6RwPQrXo\\u002fA\\u002fSOF6FK5H8T\\u002fsUbgehevxP4\\u002fC9Shcj\\u002fI\\u002fMzMzMzMz8z\\u002fXo3A9CtfzP3sUrkfhevQ\\u002fH4XrUbge9T\\u002fD9Shcj8L1P2dmZmZmZvY\\u002fCtejcD0K9z+uR+F6FK73P1K4HoXrUfg\\u002f9ihcj8L1+D+amZmZmZn5Pz4K16NwPfo\\u002f4XoUrkfh+j+F61G4HoX7Pylcj8L1KPw\\u002fzczMzMzM\\u002fD9xPQrXo3D9PxWuR+F6FP4\\u002fuB6F61G4\\u002fj9cj8L1KFz\\u002fPwAAAAAAAABA\"},\"xaxis\":\"x\",\"y\":{\"dtype\":\"f8\",\"bdata\":\"AAAAAAAA8D8AAAAAAADwPwAAAAAAAPA\\u002fAAAAAAAA8D8AAAAAAADwPwAAAAAAAPA\\u002fAAAAAAAA8D8AAAAAAADwPwAAAAAAAPA\\u002fAAAAAAAA8D8AAAAAAADwPwAAAAAAAPA\\u002fAAAAAAAA8D\\u002fuuGZ8LADwPxKO\\u002fjXGAfA\\u002fFS\\u002fPtAQJ8D9\\u002f6XDAjB7wP4IUjhYlTvA\\u002fWgB5V5Oi8D\\u002f3Z6Z7oiHxP+FZdxf8yvE\\u002fdHIanaCZ8j8Pnz+MM4bzP+VChUfIiPQ\\u002fMHb2O9mZ9T\\u002ffb30FnLL2PxLIcRr9zPc\\u002fzQnHRnjj+D\\u002f2GXfG5vD5P1JDlgg88Po\\u002fYNvhd\\u002fXb+z+fM6RclKz8PzJmiVmhVP0\\u002fNEHaJ4e3\\u002fT8PW3hnYZn9P9kLgdBtlPw\\u002ftr2vqIJO+j+xRJ3tqBj3P4OGtelgDfQ\\u002fn\\u002fXZEYj88T85lzepYODwPyzeJzojXPA\\u002fK1AwidEj8D\\u002fwKLmfRg3wPyU\\u002fYduzBPA\\u002fBhYEwJcB8D8OEpYNhADwP02NbOMoAPA\\u002fZCXMGgwA8D98\\u002fjhtAwDwPwAAAAAAAPA\\u002f\"},\"yaxis\":\"y\",\"type\":\"scatter\"}],\"name\":\"107\"},{\"data\":[{\"hovertemplate\":\"variable=108\\u003cbr\\u003ex=%{x}\\u003cbr\\u003evalue=%{y}\\u003cextra\\u003e\\u003c\\u002fextra\\u003e\",\"legendgroup\":\"\",\"line\":{\"color\":\"#636efa\",\"dash\":\"solid\"},\"marker\":{\"symbol\":\"circle\"},\"mode\":\"lines\",\"name\":\"\",\"orientation\":\"v\",\"showlegend\":false,\"x\":{\"dtype\":\"f8\",\"bdata\":\"AAAAAAAAAAB7FK5H4XqkP3sUrkfherQ\\u002fuB6F61G4vj97FK5H4XrEP5qZmZmZmck\\u002fuB6F61G4zj\\u002fsUbgehevRP3sUrkfhetQ\\u002fCtejcD0K1z+amZmZmZnZPylcj8L1KNw\\u002fuB6F61G43j+kcD0K16PgP+xRuB6F6+E\\u002fMzMzMzMz4z97FK5H4XrkP8P1KFyPwuU\\u002fCtejcD0K5z9SuB6F61HoP5qZmZmZmek\\u002f4XoUrkfh6j8pXI\\u002fC9SjsP3E9CtejcO0\\u002fuB6F61G47j8AAAAAAADwP6RwPQrXo\\u002fA\\u002fSOF6FK5H8T\\u002fsUbgehevxP4\\u002fC9Shcj\\u002fI\\u002fMzMzMzMz8z\\u002fXo3A9CtfzP3sUrkfhevQ\\u002fH4XrUbge9T\\u002fD9Shcj8L1P2dmZmZmZvY\\u002fCtejcD0K9z+uR+F6FK73P1K4HoXrUfg\\u002f9ihcj8L1+D+amZmZmZn5Pz4K16NwPfo\\u002f4XoUrkfh+j+F61G4HoX7Pylcj8L1KPw\\u002fzczMzMzM\\u002fD9xPQrXo3D9PxWuR+F6FP4\\u002fuB6F61G4\\u002fj9cj8L1KFz\\u002fPwAAAAAAAABA\"},\"xaxis\":\"x\",\"y\":{\"dtype\":\"f8\",\"bdata\":\"AAAAAAAA8D8AAAAAAADwPwAAAAAAAPA\\u002fAAAAAAAA8D8AAAAAAADwPwAAAAAAAPA\\u002fAAAAAAAA8D8AAAAAAADwPwAAAAAAAPA\\u002fAAAAAAAA8D8AAAAAAADwPwAAAAAAAPA\\u002fAAAAAAAA8D\\u002fa2lPHKADwP5KfaA2kAfA\\u002fgWUi02kI8D8r1hj9vRzwPyMN91oaSvA\\u002fncWTqUKb8D\\u002f55aY3TBbxP8lGtXNKu\\u002fE\\u002f08+b2JuF8j\\u002f7iNr7JG7zP0lwQ5IgbfQ\\u002fCdnCkiB79T+O2FQwa5H2P8pt3\\u002f37qfc\\u002fJv7S816\\u002f+D+8sYmqf8z5P2SpjgJpzPo\\u002f3c5ZV8G5+z9udGZWbI38P0bhblD1Ov0\\u002fOvQJlDio\\u002fT\\u002fYbpIwB579PwQn37xFu\\u002fw\\u002fBGidyT2e+j\\u002fMJVXmhXv3P3aBVgzEXvQ\\u002fatBc2BIu8j93APiuWvnwPw6mcc5nZ\\u002fA\\u002fOl5KhI0o8D8r9ooXKQ\\u002fwP0Kf1PZqBfA\\u002fod87HtoB8D8729wHmwDwP3fCWHwwAPA\\u002f8VPbgA4A8D+1vlomBADwPwAAAAAAAPA\\u002f\"},\"yaxis\":\"y\",\"type\":\"scatter\"}],\"name\":\"108\"},{\"data\":[{\"hovertemplate\":\"variable=109\\u003cbr\\u003ex=%{x}\\u003cbr\\u003evalue=%{y}\\u003cextra\\u003e\\u003c\\u002fextra\\u003e\",\"legendgroup\":\"\",\"line\":{\"color\":\"#636efa\",\"dash\":\"solid\"},\"marker\":{\"symbol\":\"circle\"},\"mode\":\"lines\",\"name\":\"\",\"orientation\":\"v\",\"showlegend\":false,\"x\":{\"dtype\":\"f8\",\"bdata\":\"AAAAAAAAAAB7FK5H4XqkP3sUrkfherQ\\u002fuB6F61G4vj97FK5H4XrEP5qZmZmZmck\\u002fuB6F61G4zj\\u002fsUbgehevRP3sUrkfhetQ\\u002fCtejcD0K1z+amZmZmZnZPylcj8L1KNw\\u002fuB6F61G43j+kcD0K16PgP+xRuB6F6+E\\u002fMzMzMzMz4z97FK5H4XrkP8P1KFyPwuU\\u002fCtejcD0K5z9SuB6F61HoP5qZmZmZmek\\u002f4XoUrkfh6j8pXI\\u002fC9SjsP3E9CtejcO0\\u002fuB6F61G47j8AAAAAAADwP6RwPQrXo\\u002fA\\u002fSOF6FK5H8T\\u002fsUbgehevxP4\\u002fC9Shcj\\u002fI\\u002fMzMzMzMz8z\\u002fXo3A9CtfzP3sUrkfhevQ\\u002fH4XrUbge9T\\u002fD9Shcj8L1P2dmZmZmZvY\\u002fCtejcD0K9z+uR+F6FK73P1K4HoXrUfg\\u002f9ihcj8L1+D+amZmZmZn5Pz4K16NwPfo\\u002f4XoUrkfh+j+F61G4HoX7Pylcj8L1KPw\\u002fzczMzMzM\\u002fD9xPQrXo3D9PxWuR+F6FP4\\u002fuB6F61G4\\u002fj9cj8L1KFz\\u002fPwAAAAAAAABA\"},\"xaxis\":\"x\",\"y\":{\"dtype\":\"f8\",\"bdata\":\"AAAAAAAA8D8AAAAAAADwPwAAAAAAAPA\\u002fAAAAAAAA8D8AAAAAAADwPwAAAAAAAPA\\u002fAAAAAAAA8D8AAAAAAADwPwAAAAAAAPA\\u002fAAAAAAAA8D8AAAAAAADwPwAAAAAAAPA\\u002fAAAAAAAA8D8WillhJQDwPw52\\u002fm6EAfA\\u002f6mcEDNkH8D+riOBDCRvwPzRbpiZBRvA\\u002fwrb5rD2U8D9T0CIVWQvxP1jCdqkNrPE\\u002fvVg2bRdy8j\\u002fUulaunFbzP12dLRsAUvQ\\u002f3jXmbOtc9T89JpAytXD2P+1LkJVnh\\u002fc\\u002f\\u002fdXJGp6b+D8RbLQXVqj5PzFzafWwqPo\\u002fkxlQS3uX+z9T3zEo8m38P0eX5gCKIP0\\u002fcdhwBViX\\u002fT\\u002fDt560mZ\\u002f9P\\u002fw7hXQ03fw\\u002fzyM1bz\\u002fp+j+7GdcFs933P+HYLCpMs\\u002fQ\\u002fxcpjASpj8j+aaRCjpRTxP8GDsPvfc\\u002fA\\u002fRQlGptct8D\\u002fCTI3MSBHwP7PTRBU7BvA\\u002fu8AWOSYC8D+5FhGgtQDwPxRXaV05APA\\u002foQPTVREA8D9uBDsDBQDwPwAAAAAAAPA\\u002f\"},\"yaxis\":\"y\",\"type\":\"scatter\"}],\"name\":\"109\"},{\"data\":[{\"hovertemplate\":\"variable=110\\u003cbr\\u003ex=%{x}\\u003cbr\\u003evalue=%{y}\\u003cextra\\u003e\\u003c\\u002fextra\\u003e\",\"legendgroup\":\"\",\"line\":{\"color\":\"#636efa\",\"dash\":\"solid\"},\"marker\":{\"symbol\":\"circle\"},\"mode\":\"lines\",\"name\":\"\",\"orientation\":\"v\",\"showlegend\":false,\"x\":{\"dtype\":\"f8\",\"bdata\":\"AAAAAAAAAAB7FK5H4XqkP3sUrkfherQ\\u002fuB6F61G4vj97FK5H4XrEP5qZmZmZmck\\u002fuB6F61G4zj\\u002fsUbgehevRP3sUrkfhetQ\\u002fCtejcD0K1z+amZmZmZnZPylcj8L1KNw\\u002fuB6F61G43j+kcD0K16PgP+xRuB6F6+E\\u002fMzMzMzMz4z97FK5H4XrkP8P1KFyPwuU\\u002fCtejcD0K5z9SuB6F61HoP5qZmZmZmek\\u002f4XoUrkfh6j8pXI\\u002fC9SjsP3E9CtejcO0\\u002fuB6F61G47j8AAAAAAADwP6RwPQrXo\\u002fA\\u002fSOF6FK5H8T\\u002fsUbgehevxP4\\u002fC9Shcj\\u002fI\\u002fMzMzMzMz8z\\u002fXo3A9CtfzP3sUrkfhevQ\\u002fH4XrUbge9T\\u002fD9Shcj8L1P2dmZmZmZvY\\u002fCtejcD0K9z+uR+F6FK73P1K4HoXrUfg\\u002f9ihcj8L1+D+amZmZmZn5Pz4K16NwPfo\\u002f4XoUrkfh+j+F61G4HoX7Pylcj8L1KPw\\u002fzczMzMzM\\u002fD9xPQrXo3D9PxWuR+F6FP4\\u002fuB6F61G4\\u002fj9cj8L1KFz\\u002fPwAAAAAAAABA\"},\"xaxis\":\"x\",\"y\":{\"dtype\":\"f8\",\"bdata\":\"AAAAAAAA8D8AAAAAAADwPwAAAAAAAPA\\u002fAAAAAAAA8D8AAAAAAADwPwAAAAAAAPA\\u002fAAAAAAAA8D8AAAAAAADwPwAAAAAAAPA\\u002fAAAAAAAA8D8AAAAAAADwPwAAAAAAAPA\\u002fAAAAAAAA8D8zIuBDIgDwP+ArFStnAfA\\u002fTtOwvFEH8D\\u002fEny42bRnwP5c9tliXQvA\\u002f4hG+wIGN8D\\u002fUDmpIxgDxP1JhIP9CnfE\\u002f1lfm1BBf8j8M62NomD\\u002fzP58pPQ1lN\\u002fQ\\u002fTsiUgjg\\u002f9T+g3ZuEeVD2P\\u002fo061VAZfc\\u002fPLCrajd4+D\\u002fB\\u002fPQzbYT5P9pP8cAYhfo\\u002fGCducSp1+z\\u002fGgAOuME78P3aIfiJyBf0\\u002f7pnulgiF\\u002fT+2Rn2WU579P8wgMNpt+vw\\u002fDb4dpVIv+z9p7vBOmT74P3AabqqrCvU\\u002f9W1fCN+b8j9Beh\\u002f\\u002fZzLxP5wT6dCmgfA\\u002f1egAZr4z8D+ZTIGbrBPwP9ZdX0AnB\\u002fA\\u002fYToiV30C8D9w6NhY1ADwP0vHcbhDAPA\\u002fe9LNqxQA8D+5Vh0KBgDwPwAAAAAAAPA\\u002f\"},\"yaxis\":\"y\",\"type\":\"scatter\"}],\"name\":\"110\"},{\"data\":[{\"hovertemplate\":\"variable=111\\u003cbr\\u003ex=%{x}\\u003cbr\\u003evalue=%{y}\\u003cextra\\u003e\\u003c\\u002fextra\\u003e\",\"legendgroup\":\"\",\"line\":{\"color\":\"#636efa\",\"dash\":\"solid\"},\"marker\":{\"symbol\":\"circle\"},\"mode\":\"lines\",\"name\":\"\",\"orientation\":\"v\",\"showlegend\":false,\"x\":{\"dtype\":\"f8\",\"bdata\":\"AAAAAAAAAAB7FK5H4XqkP3sUrkfherQ\\u002fuB6F61G4vj97FK5H4XrEP5qZmZmZmck\\u002fuB6F61G4zj\\u002fsUbgehevRP3sUrkfhetQ\\u002fCtejcD0K1z+amZmZmZnZPylcj8L1KNw\\u002fuB6F61G43j+kcD0K16PgP+xRuB6F6+E\\u002fMzMzMzMz4z97FK5H4XrkP8P1KFyPwuU\\u002fCtejcD0K5z9SuB6F61HoP5qZmZmZmek\\u002f4XoUrkfh6j8pXI\\u002fC9SjsP3E9CtejcO0\\u002fuB6F61G47j8AAAAAAADwP6RwPQrXo\\u002fA\\u002fSOF6FK5H8T\\u002fsUbgehevxP4\\u002fC9Shcj\\u002fI\\u002fMzMzMzMz8z\\u002fXo3A9CtfzP3sUrkfhevQ\\u002fH4XrUbge9T\\u002fD9Shcj8L1P2dmZmZmZvY\\u002fCtejcD0K9z+uR+F6FK73P1K4HoXrUfg\\u002f9ihcj8L1+D+amZmZmZn5Pz4K16NwPfo\\u002f4XoUrkfh+j+F61G4HoX7Pylcj8L1KPw\\u002fzczMzMzM\\u002fD9xPQrXo3D9PxWuR+F6FP4\\u002fuB6F61G4\\u002fj9cj8L1KFz\\u002fPwAAAAAAAABA\"},\"xaxis\":\"x\",\"y\":{\"dtype\":\"f8\",\"bdata\":\"AAAAAAAA8D8AAAAAAADwPwAAAAAAAPA\\u002fAAAAAAAA8D8AAAAAAADwPwAAAAAAAPA\\u002fAAAAAAAA8D8AAAAAAADwPwAAAAAAAPA\\u002fAAAAAAAA8D8AAAAAAADwPwAAAAAAAPA\\u002fAAAAAAAA8D+NrNxoHwDwPzD3cBVMAfA\\u002fHhsnTNMG8D\\u002frRy6G6BfwP\\u002fI+POQaP\\u002fA\\u002fUP2iVgyH8D8mr1wVkfbwP8OwssfnjvE\\u002fg0pbk4VM8j86sGn0FSnzP7KSBpNNHfQ\\u002fsUG2ggYi9T9v2K2JtzD2P5gihI+GQ\\u002fc\\u002fTMhJXixV+D9HnDjgx2D5PwzG7O2kYfo\\u002fAVrDdNVS+z9EhkkOMi78Pz4h7Qy\\u002f6fw\\u002fYXNqy2px\\u002fT\\u002f3gn68bJr9P0eSjnYqE\\u002f0\\u002f8MLboFNw+z9bM+7jpZ34Pzpy5DmHZPU\\u002f8Hbk0jvY8j\\u002fOCmUZyFLxP4QAIPDYkPA\\u002fXgrobVE68D\\u002fxjPgKXBbwP3zNuNQyCPA\\u002fT9K35OAC8D+0DDXF9wDwP6G3AsZPAPA\\u002fojeLlxgA8D\\u002fc1kFCBwDwPwAAAAAAAPA\\u002f\"},\"yaxis\":\"y\",\"type\":\"scatter\"}],\"name\":\"111\"},{\"data\":[{\"hovertemplate\":\"variable=112\\u003cbr\\u003ex=%{x}\\u003cbr\\u003evalue=%{y}\\u003cextra\\u003e\\u003c\\u002fextra\\u003e\",\"legendgroup\":\"\",\"line\":{\"color\":\"#636efa\",\"dash\":\"solid\"},\"marker\":{\"symbol\":\"circle\"},\"mode\":\"lines\",\"name\":\"\",\"orientation\":\"v\",\"showlegend\":false,\"x\":{\"dtype\":\"f8\",\"bdata\":\"AAAAAAAAAAB7FK5H4XqkP3sUrkfherQ\\u002fuB6F61G4vj97FK5H4XrEP5qZmZmZmck\\u002fuB6F61G4zj\\u002fsUbgehevRP3sUrkfhetQ\\u002fCtejcD0K1z+amZmZmZnZPylcj8L1KNw\\u002fuB6F61G43j+kcD0K16PgP+xRuB6F6+E\\u002fMzMzMzMz4z97FK5H4XrkP8P1KFyPwuU\\u002fCtejcD0K5z9SuB6F61HoP5qZmZmZmek\\u002f4XoUrkfh6j8pXI\\u002fC9SjsP3E9CtejcO0\\u002fuB6F61G47j8AAAAAAADwP6RwPQrXo\\u002fA\\u002fSOF6FK5H8T\\u002fsUbgehevxP4\\u002fC9Shcj\\u002fI\\u002fMzMzMzMz8z\\u002fXo3A9CtfzP3sUrkfhevQ\\u002fH4XrUbge9T\\u002fD9Shcj8L1P2dmZmZmZvY\\u002fCtejcD0K9z+uR+F6FK73P1K4HoXrUfg\\u002f9ihcj8L1+D+amZmZmZn5Pz4K16NwPfo\\u002f4XoUrkfh+j+F61G4HoX7Pylcj8L1KPw\\u002fzczMzMzM\\u002fD9xPQrXo3D9PxWuR+F6FP4\\u002fuB6F61G4\\u002fj9cj8L1KFz\\u002fPwAAAAAAAABA\"},\"xaxis\":\"x\",\"y\":{\"dtype\":\"f8\",\"bdata\":\"AAAAAAAA8D8AAAAAAADwPwAAAAAAAPA\\u002fAAAAAAAA8D8AAAAAAADwPwAAAAAAAPA\\u002fAAAAAAAA8D8AAAAAAADwPwAAAAAAAPA\\u002fAAAAAAAA8D8AAAAAAADwPwAAAAAAAPA\\u002fAAAAAAAA8D9rJcXKHADwP046BwUzAfA\\u002f\\u002fhieKl0G8D\\u002fxJB32eRbwP0TOts\\u002fJO\\u002fA\\u002fgW+28tqA8D8F2h7PtuzwP9DCjWL5gPE\\u002f+7PiNXM68j+Uo8EiExPzPzBKbte3A\\u002fQ\\u002f6FE9FFQF9T\\u002fh5dyRbhH2P4uH+nE6Ivc\\u002fsifNP34y+D+ZL0y8aD35PwoAabJZPvo\\u002flb6Zk4Iw+z+ZZ9vF\\u002fw38PwIJZtOAzfw\\u002flDAatpxc\\u002fT9TGaIgGpT9Py3Al\\u002fmlJ\\u002f0\\u002fi6z+3y6s+z898a78TPr4P4JtmJl2wPU\\u002fcaeehEEY8z9iRcqX63XxP4b5DoKUofA\\u002fOWi5q6FB8D+SJZJYXxnwP1whYIlhCfA\\u002f+6rNd1ID8D\\u002fDekyKIAHwP\\u002fpgN8ZdAPA\\u002f\\u002f+jGMB0A8D8EnAi0CADwPwAAAAAAAPA\\u002f\"},\"yaxis\":\"y\",\"type\":\"scatter\"}],\"name\":\"112\"},{\"data\":[{\"hovertemplate\":\"variable=113\\u003cbr\\u003ex=%{x}\\u003cbr\\u003evalue=%{y}\\u003cextra\\u003e\\u003c\\u002fextra\\u003e\",\"legendgroup\":\"\",\"line\":{\"color\":\"#636efa\",\"dash\":\"solid\"},\"marker\":{\"symbol\":\"circle\"},\"mode\":\"lines\",\"name\":\"\",\"orientation\":\"v\",\"showlegend\":false,\"x\":{\"dtype\":\"f8\",\"bdata\":\"AAAAAAAAAAB7FK5H4XqkP3sUrkfherQ\\u002fuB6F61G4vj97FK5H4XrEP5qZmZmZmck\\u002fuB6F61G4zj\\u002fsUbgehevRP3sUrkfhetQ\\u002fCtejcD0K1z+amZmZmZnZPylcj8L1KNw\\u002fuB6F61G43j+kcD0K16PgP+xRuB6F6+E\\u002fMzMzMzMz4z97FK5H4XrkP8P1KFyPwuU\\u002fCtejcD0K5z9SuB6F61HoP5qZmZmZmek\\u002f4XoUrkfh6j8pXI\\u002fC9SjsP3E9CtejcO0\\u002fuB6F61G47j8AAAAAAADwP6RwPQrXo\\u002fA\\u002fSOF6FK5H8T\\u002fsUbgehevxP4\\u002fC9Shcj\\u002fI\\u002fMzMzMzMz8z\\u002fXo3A9CtfzP3sUrkfhevQ\\u002fH4XrUbge9T\\u002fD9Shcj8L1P2dmZmZmZvY\\u002fCtejcD0K9z+uR+F6FK73P1K4HoXrUfg\\u002f9ihcj8L1+D+amZmZmZn5Pz4K16NwPfo\\u002f4XoUrkfh+j+F61G4HoX7Pylcj8L1KPw\\u002fzczMzMzM\\u002fD9xPQrXo3D9PxWuR+F6FP4\\u002fuB6F61G4\\u002fj9cj8L1KFz\\u002fPwAAAAAAAABA\"},\"xaxis\":\"x\",\"y\":{\"dtype\":\"f8\",\"bdata\":\"AAAAAAAA8D8AAAAAAADwPwAAAAAAAPA\\u002fAAAAAAAA8D8AAAAAAADwPwAAAAAAAPA\\u002fAAAAAAAA8D8AAAAAAADwPwAAAAAAAPA\\u002fAAAAAAAA8D8AAAAAAADwPwAAAAAAAPA\\u002fAAAAAAAA8D+ou4VkGgDwP3XRxNMbAfA\\u002fCsr+0O4F8D8jG59XIBXwP4bXfTSiOPA\\u002fWrPxKut68D+Azc\\u002fXNOPwP0fgNTt1c\\u002fE\\u002f1jVPU9co8j89bubJjf3yP0MnSQai6vM\\u002f2j9g1x\\u002fp9D8HTQ\\u002fcnfL1P0jDpw5cAfc\\u002f7EEOLC4Q+D9DT6cqUhr5P4Us5\\u002fU6G\\u002fo\\u002f6xUGpTcO+z8zkv6you37P9R4zl3GsPw\\u002fy6AGI7pG\\u002fT+QtPu2jYv9P6ZhK+odOP0\\u002f5rJD7N\\u002fi+z+Ej4OWDFT5PyFj8uAFHvY\\u002fmSLHXudb8z+mScXL9pvxP9hvIiH5s\\u002fA\\u002f9TVBX8FJ8D9sosuGvxzwPy0D\\u002f3e3CvA\\u002fzQcb1NMD8D\\u002fMt2NhTwHwPy1DmAFuAPA\\u002f+RmakiIA8D+BZRlpCgDwPwAAAAAAAPA\\u002f\"},\"yaxis\":\"y\",\"type\":\"scatter\"}],\"name\":\"113\"},{\"data\":[{\"hovertemplate\":\"variable=114\\u003cbr\\u003ex=%{x}\\u003cbr\\u003evalue=%{y}\\u003cextra\\u003e\\u003c\\u002fextra\\u003e\",\"legendgroup\":\"\",\"line\":{\"color\":\"#636efa\",\"dash\":\"solid\"},\"marker\":{\"symbol\":\"circle\"},\"mode\":\"lines\",\"name\":\"\",\"orientation\":\"v\",\"showlegend\":false,\"x\":{\"dtype\":\"f8\",\"bdata\":\"AAAAAAAAAAB7FK5H4XqkP3sUrkfherQ\\u002fuB6F61G4vj97FK5H4XrEP5qZmZmZmck\\u002fuB6F61G4zj\\u002fsUbgehevRP3sUrkfhetQ\\u002fCtejcD0K1z+amZmZmZnZPylcj8L1KNw\\u002fuB6F61G43j+kcD0K16PgP+xRuB6F6+E\\u002fMzMzMzMz4z97FK5H4XrkP8P1KFyPwuU\\u002fCtejcD0K5z9SuB6F61HoP5qZmZmZmek\\u002f4XoUrkfh6j8pXI\\u002fC9SjsP3E9CtejcO0\\u002fuB6F61G47j8AAAAAAADwP6RwPQrXo\\u002fA\\u002fSOF6FK5H8T\\u002fsUbgehevxP4\\u002fC9Shcj\\u002fI\\u002fMzMzMzMz8z\\u002fXo3A9CtfzP3sUrkfhevQ\\u002fH4XrUbge9T\\u002fD9Shcj8L1P2dmZmZmZvY\\u002fCtejcD0K9z+uR+F6FK73P1K4HoXrUfg\\u002f9ihcj8L1+D+amZmZmZn5Pz4K16NwPfo\\u002f4XoUrkfh+j+F61G4HoX7Pylcj8L1KPw\\u002fzczMzMzM\\u002fD9xPQrXo3D9PxWuR+F6FP4\\u002fuB6F61G4\\u002fj9cj8L1KFz\\u002fPwAAAAAAAABA\"},\"xaxis\":\"x\",\"y\":{\"dtype\":\"f8\",\"bdata\":\"AAAAAAAA8D8AAAAAAADwPwAAAAAAAPA\\u002fAAAAAAAA8D8AAAAAAADwPwAAAAAAAPA\\u002fAAAAAAAA8D8AAAAAAADwPwAAAAAAAPA\\u002fAAAAAAAA8D8AAAAAAADwPwAAAAAAAPA\\u002fAAAAAAAA8D\\u002fs9XYxGADwP2VWWF4GAfA\\u002fR+hlwIcF8D9g1ReL2hPwP2Q\\u002fNj6iNfA\\u002fB1Hbpjp18D81vUOgCNrwP6SUGclYZvE\\u002fppnci68X8j+g+ZjGg+jyP2RJ6kwK0vM\\u002fCvu0ZmjN9D+R6cKXRNT1P6UZIFvr4PY\\u002flIO+FT3u9z\\u002fxEhFUhvf4P8yValVM+Pk\\u002fKb03Hvrr+j9mxY8fI837P1jJ7H+dk\\u002fw\\u002f8mb9vtwv\\u002fT8Kmv5l9oD9P6U7YYXQRP0\\u002fRbqV3W8U\\u002fD8CTmfCbqr5P+D79y+3fPY\\u002fZGGytxmj8z8AxMf2C8XxP1LEMronyPA\\u002fTXCWJ8RS8D+NGVVrhiDwP9LIiyU5DPA\\u002fE16W72YE8D+CXQMahQHwP\\u002fsCFcqAAPA\\u002f\\u002fofn2ygA8D9EGZBsDADwPwAAAAAAAPA\\u002f\"},\"yaxis\":\"y\",\"type\":\"scatter\"}],\"name\":\"114\"},{\"data\":[{\"hovertemplate\":\"variable=115\\u003cbr\\u003ex=%{x}\\u003cbr\\u003evalue=%{y}\\u003cextra\\u003e\\u003c\\u002fextra\\u003e\",\"legendgroup\":\"\",\"line\":{\"color\":\"#636efa\",\"dash\":\"solid\"},\"marker\":{\"symbol\":\"circle\"},\"mode\":\"lines\",\"name\":\"\",\"orientation\":\"v\",\"showlegend\":false,\"x\":{\"dtype\":\"f8\",\"bdata\":\"AAAAAAAAAAB7FK5H4XqkP3sUrkfherQ\\u002fuB6F61G4vj97FK5H4XrEP5qZmZmZmck\\u002fuB6F61G4zj\\u002fsUbgehevRP3sUrkfhetQ\\u002fCtejcD0K1z+amZmZmZnZPylcj8L1KNw\\u002fuB6F61G43j+kcD0K16PgP+xRuB6F6+E\\u002fMzMzMzMz4z97FK5H4XrkP8P1KFyPwuU\\u002fCtejcD0K5z9SuB6F61HoP5qZmZmZmek\\u002f4XoUrkfh6j8pXI\\u002fC9SjsP3E9CtejcO0\\u002fuB6F61G47j8AAAAAAADwP6RwPQrXo\\u002fA\\u002fSOF6FK5H8T\\u002fsUbgehevxP4\\u002fC9Shcj\\u002fI\\u002fMzMzMzMz8z\\u002fXo3A9CtfzP3sUrkfhevQ\\u002fH4XrUbge9T\\u002fD9Shcj8L1P2dmZmZmZvY\\u002fCtejcD0K9z+uR+F6FK73P1K4HoXrUfg\\u002f9ihcj8L1+D+amZmZmZn5Pz4K16NwPfo\\u002f4XoUrkfh+j+F61G4HoX7Pylcj8L1KPw\\u002fzczMzMzM\\u002fD9xPQrXo3D9PxWuR+F6FP4\\u002fuB6F61G4\\u002fj9cj8L1KFz\\u002fPwAAAAAAAABA\"},\"xaxis\":\"x\",\"y\":{\"dtype\":\"f8\",\"bdata\":\"AAAAAAAA8D8AAAAAAADwPwAAAAAAAPA\\u002fAAAAAAAA8D8AAAAAAADwPwAAAAAAAPA\\u002fAAAAAAAA8D8AAAAAAADwPwAAAAAAAPA\\u002fAAAAAAAA8D8AAAAAAADwPwAAAAAAAPA\\u002fAAAAAAAA8D9ZqlQtFgDwP74WAITyAPA\\u002ftxGsgScF8D\\u002fR5gl\\u002fpxLwPwApSCrIMvA\\u002f8iYrH8dv8D+ydsCnL9HwP\\u002fg\\u002fWY+hWfE\\u002fZmQRifkG8j9b3vz78tPyP1wboNruufM\\u002fjOQyWCyy9D8JeLHmYbb1P1iMiDPowPY\\u002fDxNlyKvM9z8D+R0rB9X4PxLpZSeR1fk\\u002fCziMF8\\u002fJ+j9yzWbKiKz7P7N3sg4Tdvw\\u002fWI9XPhwY\\u002fT\\u002fYd+wMgHT9P6sJtsz7Tf0\\u002fS7V2sfNA\\u002fD9qysN8C\\u002f35PwE+rMcE3PY\\u002fYZtYGLnt8z+5DMN3SvHxP3LmUWFC3vA\\u002fRZlCDr9c8D+7F9G9viTwP4UqkYvrDfA\\u002f4LVS9w0F8D87jlGcwgHwP3Z8F3yWAPA\\u002f6F3TLzAA8D\\u002fdji7LDgDwPwAAAAAAAPA\\u002f\"},\"yaxis\":\"y\",\"type\":\"scatter\"}],\"name\":\"115\"},{\"data\":[{\"hovertemplate\":\"variable=116\\u003cbr\\u003ex=%{x}\\u003cbr\\u003evalue=%{y}\\u003cextra\\u003e\\u003c\\u002fextra\\u003e\",\"legendgroup\":\"\",\"line\":{\"color\":\"#636efa\",\"dash\":\"solid\"},\"marker\":{\"symbol\":\"circle\"},\"mode\":\"lines\",\"name\":\"\",\"orientation\":\"v\",\"showlegend\":false,\"x\":{\"dtype\":\"f8\",\"bdata\":\"AAAAAAAAAAB7FK5H4XqkP3sUrkfherQ\\u002fuB6F61G4vj97FK5H4XrEP5qZmZmZmck\\u002fuB6F61G4zj\\u002fsUbgehevRP3sUrkfhetQ\\u002fCtejcD0K1z+amZmZmZnZPylcj8L1KNw\\u002fuB6F61G43j+kcD0K16PgP+xRuB6F6+E\\u002fMzMzMzMz4z97FK5H4XrkP8P1KFyPwuU\\u002fCtejcD0K5z9SuB6F61HoP5qZmZmZmek\\u002f4XoUrkfh6j8pXI\\u002fC9SjsP3E9CtejcO0\\u002fuB6F61G47j8AAAAAAADwP6RwPQrXo\\u002fA\\u002fSOF6FK5H8T\\u002fsUbgehevxP4\\u002fC9Shcj\\u002fI\\u002fMzMzMzMz8z\\u002fXo3A9CtfzP3sUrkfhevQ\\u002fH4XrUbge9T\\u002fD9Shcj8L1P2dmZmZmZvY\\u002fCtejcD0K9z+uR+F6FK73P1K4HoXrUfg\\u002f9ihcj8L1+D+amZmZmZn5Pz4K16NwPfo\\u002f4XoUrkfh+j+F61G4HoX7Pylcj8L1KPw\\u002fzczMzMzM\\u002fD9xPQrXo3D9PxWuR+F6FP4\\u002fuB6F61G4\\u002fj9cj8L1KFz\\u002fPwAAAAAAAABA\"},\"xaxis\":\"x\",\"y\":{\"dtype\":\"f8\",\"bdata\":\"AAAAAAAA8D8AAAAAAADwPwAAAAAAAPA\\u002fAAAAAAAA8D8AAAAAAADwPwAAAAAAAPA\\u002fAAAAAAAA8D8AAAAAAADwPwAAAAAAAPA\\u002fAAAAAAAA8D8AAAAAAADwPwAAAAAAAPA\\u002fAAAAAAAA8D8OtzVUFADwP1J+WybgAPA\\u002fbDH0pM0E8D\\u002fdZ3svhhHwP1fwV0cSMPA\\u002f3YFwXY5q8D8vprx7p8jwP9xQkBxNTfE\\u002fkHue\\u002fbL28T89E61T2b\\u002fyP00CIuFNovM\\u002fv2QcPmqX9D9Cg1Pe9Jj1PzPqw1xSofY\\u002fAiow63qr9z97pIZv1rL4P598hn8Ms\\u002fk\\u002fNY9pUbun+j+A9gfw2ov7P9yuwfMyWPw\\u002f\\u002fmEpgo7\\u002f\\u002fD+uEyOVU2b9P3OioMDcU\\u002f0\\u002fq52ajYpo\\u002fD9vqqIBikv6P7vzDHhjO\\u002fc\\u002fXbNujpk79D8M+F7jzSDyP5Uh9hhs9vA\\u002ffpmmj8hn8D9gT+EmdCnwP\\u002fFQDiLUD\\u002fA\\u002fzDLCVMsF8D8eSKLrCALwPxg5sn+vAPA\\u002fAA1ItjgA8D\\u002fLMpSTEQDwPwAAAAAAAPA\\u002f\"},\"yaxis\":\"y\",\"type\":\"scatter\"}],\"name\":\"116\"},{\"data\":[{\"hovertemplate\":\"variable=117\\u003cbr\\u003ex=%{x}\\u003cbr\\u003evalue=%{y}\\u003cextra\\u003e\\u003c\\u002fextra\\u003e\",\"legendgroup\":\"\",\"line\":{\"color\":\"#636efa\",\"dash\":\"solid\"},\"marker\":{\"symbol\":\"circle\"},\"mode\":\"lines\",\"name\":\"\",\"orientation\":\"v\",\"showlegend\":false,\"x\":{\"dtype\":\"f8\",\"bdata\":\"AAAAAAAAAAB7FK5H4XqkP3sUrkfherQ\\u002fuB6F61G4vj97FK5H4XrEP5qZmZmZmck\\u002fuB6F61G4zj\\u002fsUbgehevRP3sUrkfhetQ\\u002fCtejcD0K1z+amZmZmZnZPylcj8L1KNw\\u002fuB6F61G43j+kcD0K16PgP+xRuB6F6+E\\u002fMzMzMzMz4z97FK5H4XrkP8P1KFyPwuU\\u002fCtejcD0K5z9SuB6F61HoP5qZmZmZmek\\u002f4XoUrkfh6j8pXI\\u002fC9SjsP3E9CtejcO0\\u002fuB6F61G47j8AAAAAAADwP6RwPQrXo\\u002fA\\u002fSOF6FK5H8T\\u002fsUbgehevxP4\\u002fC9Shcj\\u002fI\\u002fMzMzMzMz8z\\u002fXo3A9CtfzP3sUrkfhevQ\\u002fH4XrUbge9T\\u002fD9Shcj8L1P2dmZmZmZvY\\u002fCtejcD0K9z+uR+F6FK73P1K4HoXrUfg\\u002f9ihcj8L1+D+amZmZmZn5Pz4K16NwPfo\\u002f4XoUrkfh+j+F61G4HoX7Pylcj8L1KPw\\u002fzczMzMzM\\u002fD9xPQrXo3D9PxWuR+F6FP4\\u002fuB6F61G4\\u002fj9cj8L1KFz\\u002fPwAAAAAAAABA\"},\"xaxis\":\"x\",\"y\":{\"dtype\":\"f8\",\"bdata\":\"AAAAAAAA8D8AAAAAAADwPwAAAAAAAPA\\u002fAAAAAAAA8D8AAAAAAADwPwAAAAAAAPA\\u002fAAAAAAAA8D8AAAAAAADwPwAAAAAAAPA\\u002fAAAAAAAA8D8AAAAAAADwPwAAAAAAAPA\\u002fAAAAAAAA8D9ya4SiEgDwP366PynPAPA\\u002foOE\\u002fwXkE8D+o7l+ldRDwPyLHwfR+LfA\\u002fyga6O45l8D9HlqG3bcDwP4FAoApZQfE\\u002fP1Q9pdnm8T8Dxsm9NKzyP+Mj8JQli\\u002fM\\u002f1jzSpyB99D+0QUSJ\\u002fHv1P0NaeYYpgvY\\u002fuI2cA6uK9z\\u002fof1ex9ZD4P2a0XDLBkPk\\u002f0jviOMOF+j+MbbRSIGv7P1rgTz8IOvw\\u002fbfWTu0fm\\u002fD+c7YALl1b9P7iN\\u002fcOuVv0\\u002fKsS3AFyL\\u002fD+DQFWYoZX6P4yrSE1Fmvc\\u002fNXKJQYKM9D\\u002fXzMkJrVPyPwcByInIEPE\\u002fGaDSn\\u002fhz8D8qvldPsy7wP94s8On4EfA\\u002fr59js6EG8D8uwEIpWQLwPyGh7EnMAPA\\u002fh1GJnEIA8D8hGnzWFADwPwAAAAAAAPA\\u002f\"},\"yaxis\":\"y\",\"type\":\"scatter\"}],\"name\":\"117\"},{\"data\":[{\"hovertemplate\":\"variable=118\\u003cbr\\u003ex=%{x}\\u003cbr\\u003evalue=%{y}\\u003cextra\\u003e\\u003c\\u002fextra\\u003e\",\"legendgroup\":\"\",\"line\":{\"color\":\"#636efa\",\"dash\":\"solid\"},\"marker\":{\"symbol\":\"circle\"},\"mode\":\"lines\",\"name\":\"\",\"orientation\":\"v\",\"showlegend\":false,\"x\":{\"dtype\":\"f8\",\"bdata\":\"AAAAAAAAAAB7FK5H4XqkP3sUrkfherQ\\u002fuB6F61G4vj97FK5H4XrEP5qZmZmZmck\\u002fuB6F61G4zj\\u002fsUbgehevRP3sUrkfhetQ\\u002fCtejcD0K1z+amZmZmZnZPylcj8L1KNw\\u002fuB6F61G43j+kcD0K16PgP+xRuB6F6+E\\u002fMzMzMzMz4z97FK5H4XrkP8P1KFyPwuU\\u002fCtejcD0K5z9SuB6F61HoP5qZmZmZmek\\u002f4XoUrkfh6j8pXI\\u002fC9SjsP3E9CtejcO0\\u002fuB6F61G47j8AAAAAAADwP6RwPQrXo\\u002fA\\u002fSOF6FK5H8T\\u002fsUbgehevxP4\\u002fC9Shcj\\u002fI\\u002fMzMzMzMz8z\\u002fXo3A9CtfzP3sUrkfhevQ\\u002fH4XrUbge9T\\u002fD9Shcj8L1P2dmZmZmZvY\\u002fCtejcD0K9z+uR+F6FK73P1K4HoXrUfg\\u002f9ihcj8L1+D+amZmZmZn5Pz4K16NwPfo\\u002f4XoUrkfh+j+F61G4HoX7Pylcj8L1KPw\\u002fzczMzMzM\\u002fD9xPQrXo3D9PxWuR+F6FP4\\u002fuB6F61G4\\u002fj9cj8L1KFz\\u002fPwAAAAAAAABA\"},\"xaxis\":\"x\",\"y\":{\"dtype\":\"f8\",\"bdata\":\"AAAAAAAA8D8AAAAAAADwPwAAAAAAAPA\\u002fAAAAAAAA8D8AAAAAAADwPwAAAAAAAPA\\u002fAAAAAAAA8D8AAAAAAADwPwAAAAAAAPA\\u002fAAAAAAAA8D8AAAAAAADwPwAAAAAAAPA\\u002fAAAAAAAA8D97k\\u002fcUEQDwP3pfj3K\\u002fAPA\\u002fiYAJdCsE8D8YxAf2dA\\u002fwP+7kF6IMK\\u002fA\\u002fu0Q\\u002fpMRg8D9ERI8EgLjwP45jff7CNfE\\u002f3xaNRGvX8T\\u002fPMQAxA5nyP+CQpi10dPM\\u002fNl+SIk5j9D9mj4jod1\\u002f1P1KY9kxtY\\u002fY\\u002fccL0dzxq9z9cm\\u002flTZm\\u002f4P3fv4Nixbvk\\u002fFP0k7Opj+j961OhBX0r7P\\u002fOBhjidG\\u002fw\\u002fm2kNjVrM\\u002fD9\\u002fkI2\\u002fbUX9P6QrFSSrVv0\\u002fQRA1UZap\\u002fD+sUGfZGdv6Pw\\u002fPKmEc+Pc\\u002fktasWC3g9D9JUYLu+InyP\\u002faPaKl7LfE\\u002fjPXoqmiB8D+kLVnviTTwP+7hInhgFPA\\u002fxsTgBpQH8D8oJISXtALwP9FpL17tAPA\\u002fWLHWFU4A8D\\u002fYKwKnGADwPwAAAAAAAPA\\u002f\"},\"yaxis\":\"y\",\"type\":\"scatter\"}],\"name\":\"118\"},{\"data\":[{\"hovertemplate\":\"variable=119\\u003cbr\\u003ex=%{x}\\u003cbr\\u003evalue=%{y}\\u003cextra\\u003e\\u003c\\u002fextra\\u003e\",\"legendgroup\":\"\",\"line\":{\"color\":\"#636efa\",\"dash\":\"solid\"},\"marker\":{\"symbol\":\"circle\"},\"mode\":\"lines\",\"name\":\"\",\"orientation\":\"v\",\"showlegend\":false,\"x\":{\"dtype\":\"f8\",\"bdata\":\"AAAAAAAAAAB7FK5H4XqkP3sUrkfherQ\\u002fuB6F61G4vj97FK5H4XrEP5qZmZmZmck\\u002fuB6F61G4zj\\u002fsUbgehevRP3sUrkfhetQ\\u002fCtejcD0K1z+amZmZmZnZPylcj8L1KNw\\u002fuB6F61G43j+kcD0K16PgP+xRuB6F6+E\\u002fMzMzMzMz4z97FK5H4XrkP8P1KFyPwuU\\u002fCtejcD0K5z9SuB6F61HoP5qZmZmZmek\\u002f4XoUrkfh6j8pXI\\u002fC9SjsP3E9CtejcO0\\u002fuB6F61G47j8AAAAAAADwP6RwPQrXo\\u002fA\\u002fSOF6FK5H8T\\u002fsUbgehevxP4\\u002fC9Shcj\\u002fI\\u002fMzMzMzMz8z\\u002fXo3A9CtfzP3sUrkfhevQ\\u002fH4XrUbge9T\\u002fD9Shcj8L1P2dmZmZmZvY\\u002fCtejcD0K9z+uR+F6FK73P1K4HoXrUfg\\u002f9ihcj8L1+D+amZmZmZn5Pz4K16NwPfo\\u002f4XoUrkfh+j+F61G4HoX7Pylcj8L1KPw\\u002fzczMzMzM\\u002fD9xPQrXo3D9PxWuR+F6FP4\\u002fuB6F61G4\\u002fj9cj8L1KFz\\u002fPwAAAAAAAABA\"},\"xaxis\":\"x\",\"y\":{\"dtype\":\"f8\",\"bdata\":\"AAAAAAAA8D8AAAAAAADwPwAAAAAAAPA\\u002fAAAAAAAA8D8AAAAAAADwPwAAAAAAAPA\\u002fAAAAAAAA8D8AAAAAAADwPwAAAAAAAPA\\u002fAAAAAAAA8D8AAAAAAADwPwAAAAAAAPA\\u002fAAAAAAAA8D94F4yoDwDwPwDcFOqwAPA\\u002fJrTjYOID8D\\u002fCNpRCgw7wP8E9o865KPA\\u002f\\u002fMcLkS9c8D8QoiIZ3LDwPxyc\\u002faeIKvE\\u002fUBXvqGXI8T+QM42qQobyP3UFReY3XvM\\u002f8vcjOvFJ9D\\u002fLD7v0ZUP1PzMF8DodRfY\\u002fN6SpkS9K9z\\u002fxVhWRKU74P2qt1NPgTPk\\u002fmqy6PjZC+j8XkFehnSn7P37lgWz7\\u002fPs\\u002fJayKKdix\\u002fD8yXnxm+DL9PzATs8AIVP0\\u002fNYDL5WzD\\u002fD9vtod4yhv7P8Ol3bJdVPg\\u002f3k94O0g29T\\u002fq3hy4u8PyP24brE6pTPE\\u002fRbYEkDOQ8D9eYTHdBjvwP0NZNwESF\\u002fA\\u002fnx+jkaUI8D\\u002f8VQqdHAPwPxfu008TAfA\\u002fj90eXFsA8D9NE\\u002fAaHQDwPwAAAAAAAPA\\u002f\"},\"yaxis\":\"y\",\"type\":\"scatter\"}],\"name\":\"119\"},{\"data\":[{\"hovertemplate\":\"variable=120\\u003cbr\\u003ex=%{x}\\u003cbr\\u003evalue=%{y}\\u003cextra\\u003e\\u003c\\u002fextra\\u003e\",\"legendgroup\":\"\",\"line\":{\"color\":\"#636efa\",\"dash\":\"solid\"},\"marker\":{\"symbol\":\"circle\"},\"mode\":\"lines\",\"name\":\"\",\"orientation\":\"v\",\"showlegend\":false,\"x\":{\"dtype\":\"f8\",\"bdata\":\"AAAAAAAAAAB7FK5H4XqkP3sUrkfherQ\\u002fuB6F61G4vj97FK5H4XrEP5qZmZmZmck\\u002fuB6F61G4zj\\u002fsUbgehevRP3sUrkfhetQ\\u002fCtejcD0K1z+amZmZmZnZPylcj8L1KNw\\u002fuB6F61G43j+kcD0K16PgP+xRuB6F6+E\\u002fMzMzMzMz4z97FK5H4XrkP8P1KFyPwuU\\u002fCtejcD0K5z9SuB6F61HoP5qZmZmZmek\\u002f4XoUrkfh6j8pXI\\u002fC9SjsP3E9CtejcO0\\u002fuB6F61G47j8AAAAAAADwP6RwPQrXo\\u002fA\\u002fSOF6FK5H8T\\u002fsUbgehevxP4\\u002fC9Shcj\\u002fI\\u002fMzMzMzMz8z\\u002fXo3A9CtfzP3sUrkfhevQ\\u002fH4XrUbge9T\\u002fD9Shcj8L1P2dmZmZmZvY\\u002fCtejcD0K9z+uR+F6FK73P1K4HoXrUfg\\u002f9ihcj8L1+D+amZmZmZn5Pz4K16NwPfo\\u002f4XoUrkfh+j+F61G4HoX7Pylcj8L1KPw\\u002fzczMzMzM\\u002fD9xPQrXo3D9PxWuR+F6FP4\\u002fuB6F61G4\\u002fj9cj8L1KFz\\u002fPwAAAAAAAABA\"},\"xaxis\":\"x\",\"y\":{\"dtype\":\"f8\",\"bdata\":\"AAAAAAAA8D8AAAAAAADwPwAAAAAAAPA\\u002fAAAAAAAA8D8AAAAAAADwPwAAAAAAAPA\\u002fAAAAAAAA8D8AAAAAAADwPwAAAAAAAPA\\u002fAAAAAAAA8D8AAAAAAADwPwAAAAAAAPA\\u002fAAAAAAAA8D\\u002fvI39aDgDwP\\u002fOKX3mjAPA\\u002f3xseMZ4D8D+C7XC3nw3wP\\u002fG05giFJvA\\u002fB4yrC81X8D+a3j25f6nwP2jzqMGnH\\u002fE\\u002f7uViqMa58T+BSjsu8XPyP4RXbP1uSPM\\u002fKy9yeQgx9D\\u002fsYh+fxSf1P5OYIMs4J\\u002fY\\u002f4BeGf4Qq9z+cnE97QC34PwDZ\\u002f05QK\\u002fk\\u002fJPCTvagg+j9nyGrv4Aj7P+aNDLwr3vs\\u002fqFSGcdCW\\u002fD81wn5AVR\\u002f9P6LPvs\\u002f7Tv0\\u002fdqyx0BbZ\\u002fD9BcHmhmlf7Px3UWOaDrvg\\u002fOznQNnSO9T8uL7ef9wDzP4u4CbJ0bvE\\u002ffUp+lXWg8D9UzIobOkLwPye4lWUVGvA\\u002fokDk69kJ8D\\u002fNY2PIkgPwP79M2cM+AfA\\u002fCXzFsGoA8D+8vhJLIgDwPwAAAAAAAPA\\u002f\"},\"yaxis\":\"y\",\"type\":\"scatter\"}],\"name\":\"120\"},{\"data\":[{\"hovertemplate\":\"variable=121\\u003cbr\\u003ex=%{x}\\u003cbr\\u003evalue=%{y}\\u003cextra\\u003e\\u003c\\u002fextra\\u003e\",\"legendgroup\":\"\",\"line\":{\"color\":\"#636efa\",\"dash\":\"solid\"},\"marker\":{\"symbol\":\"circle\"},\"mode\":\"lines\",\"name\":\"\",\"orientation\":\"v\",\"showlegend\":false,\"x\":{\"dtype\":\"f8\",\"bdata\":\"AAAAAAAAAAB7FK5H4XqkP3sUrkfherQ\\u002fuB6F61G4vj97FK5H4XrEP5qZmZmZmck\\u002fuB6F61G4zj\\u002fsUbgehevRP3sUrkfhetQ\\u002fCtejcD0K1z+amZmZmZnZPylcj8L1KNw\\u002fuB6F61G43j+kcD0K16PgP+xRuB6F6+E\\u002fMzMzMzMz4z97FK5H4XrkP8P1KFyPwuU\\u002fCtejcD0K5z9SuB6F61HoP5qZmZmZmek\\u002f4XoUrkfh6j8pXI\\u002fC9SjsP3E9CtejcO0\\u002fuB6F61G47j8AAAAAAADwP6RwPQrXo\\u002fA\\u002fSOF6FK5H8T\\u002fsUbgehevxP4\\u002fC9Shcj\\u002fI\\u002fMzMzMzMz8z\\u002fXo3A9CtfzP3sUrkfhevQ\\u002fH4XrUbge9T\\u002fD9Shcj8L1P2dmZmZmZvY\\u002fCtejcD0K9z+uR+F6FK73P1K4HoXrUfg\\u002f9ihcj8L1+D+amZmZmZn5Pz4K16NwPfo\\u002f4XoUrkfh+j+F61G4HoX7Pylcj8L1KPw\\u002fzczMzMzM\\u002fD9xPQrXo3D9PxWuR+F6FP4\\u002fuB6F61G4\\u002fj9cj8L1KFz\\u002fPwAAAAAAAABA\"},\"xaxis\":\"x\",\"y\":{\"dtype\":\"f8\",\"bdata\":\"AAAAAAAA8D8AAAAAAADwPwAAAAAAAPA\\u002fAAAAAAAA8D8AAAAAAADwPwAAAAAAAPA\\u002fAAAAAAAA8D8AAAAAAADwPwAAAAAAAPA\\u002fAAAAAAAA8D8AAAAAAADwPwAAAAAAAPA\\u002fAAAAAAAA8D8+zkgoDQDwP+I1owuXAPA\\u002fKPFuk14D8D\\u002fbG9KLyQzwP8jDJO5sJPA\\u002fd6zYLJtT8D+gjdK1aKLwP70cjBAeFfE\\u002fmGtiIYyr8T9zolzGDGLyP3KTkrUXM\\u002fM\\u002fqBEXa5IY9D9zOp7SlQz1PzWsy2m\\u002fCfY\\u002f5om\\u002fVzsL9z\\u002fRk+IArAz4P31cSkQCCvk\\u002fJX7oskX\\u002f+T91slhLLuj6P2WLM2g2v\\u002fs\\u002fe4TsDVJ7\\u002fD+Gfyw\\u002foAr9P2P58re1R\\u002f0\\u002fLDy2gs3q\\u002fD9c4df6f477P9wdO84RBvk\\u002fqt6KiEfo9T\\u002fhi3nppUHzPx7tZtn\\u002fkvE\\u002fDoxJVUyy8D8zKavmNErwP99eMT5zHfA\\u002fNpM+CzUL8D\\u002fmqezTGATwPydWwnJwAfA\\u002fN\\u002ft8XXwA8D\\u002fUPJlTKADwPwAAAAAAAPA\\u002f\"},\"yaxis\":\"y\",\"type\":\"scatter\"}],\"name\":\"121\"},{\"data\":[{\"hovertemplate\":\"variable=122\\u003cbr\\u003ex=%{x}\\u003cbr\\u003evalue=%{y}\\u003cextra\\u003e\\u003c\\u002fextra\\u003e\",\"legendgroup\":\"\",\"line\":{\"color\":\"#636efa\",\"dash\":\"solid\"},\"marker\":{\"symbol\":\"circle\"},\"mode\":\"lines\",\"name\":\"\",\"orientation\":\"v\",\"showlegend\":false,\"x\":{\"dtype\":\"f8\",\"bdata\":\"AAAAAAAAAAB7FK5H4XqkP3sUrkfherQ\\u002fuB6F61G4vj97FK5H4XrEP5qZmZmZmck\\u002fuB6F61G4zj\\u002fsUbgehevRP3sUrkfhetQ\\u002fCtejcD0K1z+amZmZmZnZPylcj8L1KNw\\u002fuB6F61G43j+kcD0K16PgP+xRuB6F6+E\\u002fMzMzMzMz4z97FK5H4XrkP8P1KFyPwuU\\u002fCtejcD0K5z9SuB6F61HoP5qZmZmZmek\\u002f4XoUrkfh6j8pXI\\u002fC9SjsP3E9CtejcO0\\u002fuB6F61G47j8AAAAAAADwP6RwPQrXo\\u002fA\\u002fSOF6FK5H8T\\u002fsUbgehevxP4\\u002fC9Shcj\\u002fI\\u002fMzMzMzMz8z\\u002fXo3A9CtfzP3sUrkfhevQ\\u002fH4XrUbge9T\\u002fD9Shcj8L1P2dmZmZmZvY\\u002fCtejcD0K9z+uR+F6FK73P1K4HoXrUfg\\u002f9ihcj8L1+D+amZmZmZn5Pz4K16NwPfo\\u002f4XoUrkfh+j+F61G4HoX7Pylcj8L1KPw\\u002fzczMzMzM\\u002fD9xPQrXo3D9PxWuR+F6FP4\\u002fuB6F61G4\\u002fj9cj8L1KFz\\u002fPwAAAAAAAABA\"},\"xaxis\":\"x\",\"y\":{\"dtype\":\"f8\",\"bdata\":\"AAAAAAAA8D8AAAAAAADwPwAAAAAAAPA\\u002fAAAAAAAA8D8AAAAAAADwPwAAAAAAAPA\\u002fAAAAAAAA8D8AAAAAAADwPwAAAAAAAPA\\u002fAAAAAAAA8D8AAAAAAADwPwAAAAAAAPA\\u002fAAAAAAAA8D+RK5cPDADwPxbemY2LAPA\\u002f2FqhOyMD8D9SejcBAAzwP0ON5ylwIvA\\u002f1zgqHJhP8D9SiK3slJvwP8beDGTpCvE\\u002fcAm++rOd8T+RtsGDk1DyP7iyLlUwHvM\\u002fofDXmY0A9D+3\\u002fat01fH0PwWCInaw7PU\\u002fOu\\u002fkGVTs9j8R2RLubOz3P+tUsn746Pg\\u002ffIzpKRDe+T98g9N6isf6P0dqzh0joPs\\u002f9Jf8iGpf\\u002fD+ynw4s8\\u002fT8P0znnv5kPv0\\u002fX33sqMv4\\u002fD9conRjfcD7P7GASKaUWvk\\u002fSNd50E5D9j8MOwXxtYXzP49O9u5quvE\\u002fjq4OoNbF8D+jukPACVPwP78fruk0IfA\\u002fqqHCSrsM8D8SrwqqsATwP12DnyqpAfA\\u002fDDI2tZAA8D8D3n1ULwDwPwAAAAAAAPA\\u002f\"},\"yaxis\":\"y\",\"type\":\"scatter\"}],\"name\":\"122\"},{\"data\":[{\"hovertemplate\":\"variable=123\\u003cbr\\u003ex=%{x}\\u003cbr\\u003evalue=%{y}\\u003cextra\\u003e\\u003c\\u002fextra\\u003e\",\"legendgroup\":\"\",\"line\":{\"color\":\"#636efa\",\"dash\":\"solid\"},\"marker\":{\"symbol\":\"circle\"},\"mode\":\"lines\",\"name\":\"\",\"orientation\":\"v\",\"showlegend\":false,\"x\":{\"dtype\":\"f8\",\"bdata\":\"AAAAAAAAAAB7FK5H4XqkP3sUrkfherQ\\u002fuB6F61G4vj97FK5H4XrEP5qZmZmZmck\\u002fuB6F61G4zj\\u002fsUbgehevRP3sUrkfhetQ\\u002fCtejcD0K1z+amZmZmZnZPylcj8L1KNw\\u002fuB6F61G43j+kcD0K16PgP+xRuB6F6+E\\u002fMzMzMzMz4z97FK5H4XrkP8P1KFyPwuU\\u002fCtejcD0K5z9SuB6F61HoP5qZmZmZmek\\u002f4XoUrkfh6j8pXI\\u002fC9SjsP3E9CtejcO0\\u002fuB6F61G47j8AAAAAAADwP6RwPQrXo\\u002fA\\u002fSOF6FK5H8T\\u002fsUbgehevxP4\\u002fC9Shcj\\u002fI\\u002fMzMzMzMz8z\\u002fXo3A9CtfzP3sUrkfhevQ\\u002fH4XrUbge9T\\u002fD9Shcj8L1P2dmZmZmZvY\\u002fCtejcD0K9z+uR+F6FK73P1K4HoXrUfg\\u002f9ihcj8L1+D+amZmZmZn5Pz4K16NwPfo\\u002f4XoUrkfh+j+F61G4HoX7Pylcj8L1KPw\\u002fzczMzMzM\\u002fD9xPQrXo3D9PxWuR+F6FP4\\u002fuB6F61G4\\u002fj9cj8L1KFz\\u002fPwAAAAAAAABA\"},\"xaxis\":\"x\",\"y\":{\"dtype\":\"f8\",\"bdata\":\"AAAAAAAA8D8AAAAAAADwPwAAAAAAAPA\\u002fAAAAAAAA8D8AAAAAAADwPwAAAAAAAPA\\u002fAAAAAAAA8D8AAAAAAADwPwAAAAAAAPA\\u002fAAAAAAAA8D8AAAAAAADwPwAAAAAAAPA\\u002fAAAAAAAA8D+m0EkOCwDwP6CkZ+2AAPA\\u002fJzlI4usC8D9F5fNiQgvwP8JZi3WNIPA\\u002fOxLED8JL8D\\u002feYERIApXwP4BcwJUHAfE\\u002fjjh5IzyQ8T+VDa19gz\\u002fyP53D3Ca3CfM\\u002fLnAUkfjo8z\\u002ffjxtmg9f0P4RPj0ML0PU\\u002fTPetsM7N9j8EXILvg8z3P8RjH500yPg\\u002fnupI8gq9+T\\u002fKW13v+ab6Px0zEwD5gPs\\u002ftJc3ZSZD\\u002fD+RLpTOZd78PzIaw0Q1M\\u002f0\\u002fG+NNNUwD\\u002fT9RsHN\\u002foe37P\\u002fYB+umlq\\u002fk\\u002fHwJ93w6f9j\\u002fwEN9VDM3zP\\u002fH\\u002fm4PT5PE\\u002fyXeJVTTb8D\\u002fkR095zFzwP6Fu4JlkJfA\\u002fovKTc3EO8D9N5LhpXAXwPzVhSNHpAfA\\u002f6q4nFagA8D\\u002fgkPpxNwDwPwAAAAAAAPA\\u002f\"},\"yaxis\":\"y\",\"type\":\"scatter\"}],\"name\":\"123\"},{\"data\":[{\"hovertemplate\":\"variable=124\\u003cbr\\u003ex=%{x}\\u003cbr\\u003evalue=%{y}\\u003cextra\\u003e\\u003c\\u002fextra\\u003e\",\"legendgroup\":\"\",\"line\":{\"color\":\"#636efa\",\"dash\":\"solid\"},\"marker\":{\"symbol\":\"circle\"},\"mode\":\"lines\",\"name\":\"\",\"orientation\":\"v\",\"showlegend\":false,\"x\":{\"dtype\":\"f8\",\"bdata\":\"AAAAAAAAAAB7FK5H4XqkP3sUrkfherQ\\u002fuB6F61G4vj97FK5H4XrEP5qZmZmZmck\\u002fuB6F61G4zj\\u002fsUbgehevRP3sUrkfhetQ\\u002fCtejcD0K1z+amZmZmZnZPylcj8L1KNw\\u002fuB6F61G43j+kcD0K16PgP+xRuB6F6+E\\u002fMzMzMzMz4z97FK5H4XrkP8P1KFyPwuU\\u002fCtejcD0K5z9SuB6F61HoP5qZmZmZmek\\u002f4XoUrkfh6j8pXI\\u002fC9SjsP3E9CtejcO0\\u002fuB6F61G47j8AAAAAAADwP6RwPQrXo\\u002fA\\u002fSOF6FK5H8T\\u002fsUbgehevxP4\\u002fC9Shcj\\u002fI\\u002fMzMzMzMz8z\\u002fXo3A9CtfzP3sUrkfhevQ\\u002fH4XrUbge9T\\u002fD9Shcj8L1P2dmZmZmZvY\\u002fCtejcD0K9z+uR+F6FK73P1K4HoXrUfg\\u002f9ihcj8L1+D+amZmZmZn5Pz4K16NwPfo\\u002f4XoUrkfh+j+F61G4HoX7Pylcj8L1KPw\\u002fzczMzMzM\\u002fD9xPQrXo3D9PxWuR+F6FP4\\u002fuB6F61G4\\u002fj9cj8L1KFz\\u002fPwAAAAAAAABA\"},\"xaxis\":\"x\",\"y\":{\"dtype\":\"f8\",\"bdata\":\"AAAAAAAA8D8AAAAAAADwPwAAAAAAAPA\\u002fAAAAAAAA8D8AAAAAAADwPwAAAAAAAPA\\u002fAAAAAAAA8D8AAAAAAADwPwAAAAAAAPA\\u002fAAAAAAAA8D8AAAAAAADwPwAAAAAAAPA\\u002fAAAAAAAA8D+fsW0iCgDwP3isgBp3APA\\u002flDJ1RLgC8D\\u002fJhLkFkArwP592y5fDHvA\\u002fpLwHTBdI8D\\u002f8Q4S\\u002fro7wP74zQ4l29\\u002fA\\u002fJa6nkiKD8T\\u002f1g8TR2i7yP2RHe3mq9fI\\u002fImQp3dHR8z+VsN6Dnr30PzmC5xrPs\\u002fU\\u002fhxas86qv9j\\u002feGGKU8az3P5XCExW4p\\u002fg\\u002fnTiWozic+T+siEfLgIb6P83yTLK+Yfs\\u002f4U52MpEm\\u002fD87dugQDsf8P4dQRlBPJv0\\u002fe7j2kIkK\\u002fT\\u002fZ+kwpBRb8PxIy9rjs+Pk\\u002fCk6S1wb79j8ACpZUghf0P5sPNr5TEvI\\u002fuwKtMIby8D+9NGE5kmfwP1c7i2ENKvA\\u002fvV0PxlwQ8D8sfHZrHgbwP2sKyGYzAvA\\u002fK7vu5cIA8D\\u002f9hAnVQADwPwAAAAAAAPA\\u002f\"},\"yaxis\":\"y\",\"type\":\"scatter\"}],\"name\":\"124\"},{\"data\":[{\"hovertemplate\":\"variable=125\\u003cbr\\u003ex=%{x}\\u003cbr\\u003evalue=%{y}\\u003cextra\\u003e\\u003c\\u002fextra\\u003e\",\"legendgroup\":\"\",\"line\":{\"color\":\"#636efa\",\"dash\":\"solid\"},\"marker\":{\"symbol\":\"circle\"},\"mode\":\"lines\",\"name\":\"\",\"orientation\":\"v\",\"showlegend\":false,\"x\":{\"dtype\":\"f8\",\"bdata\":\"AAAAAAAAAAB7FK5H4XqkP3sUrkfherQ\\u002fuB6F61G4vj97FK5H4XrEP5qZmZmZmck\\u002fuB6F61G4zj\\u002fsUbgehevRP3sUrkfhetQ\\u002fCtejcD0K1z+amZmZmZnZPylcj8L1KNw\\u002fuB6F61G43j+kcD0K16PgP+xRuB6F6+E\\u002fMzMzMzMz4z97FK5H4XrkP8P1KFyPwuU\\u002fCtejcD0K5z9SuB6F61HoP5qZmZmZmek\\u002f4XoUrkfh6j8pXI\\u002fC9SjsP3E9CtejcO0\\u002fuB6F61G47j8AAAAAAADwP6RwPQrXo\\u002fA\\u002fSOF6FK5H8T\\u002fsUbgehevxP4\\u002fC9Shcj\\u002fI\\u002fMzMzMzMz8z\\u002fXo3A9CtfzP3sUrkfhevQ\\u002fH4XrUbge9T\\u002fD9Shcj8L1P2dmZmZmZvY\\u002fCtejcD0K9z+uR+F6FK73P1K4HoXrUfg\\u002f9ihcj8L1+D+amZmZmZn5Pz4K16NwPfo\\u002f4XoUrkfh+j+F61G4HoX7Pylcj8L1KPw\\u002fzczMzMzM\\u002fD9xPQrXo3D9PxWuR+F6FP4\\u002fuB6F61G4\\u002fj9cj8L1KFz\\u002fPwAAAAAAAABA\"},\"xaxis\":\"x\",\"y\":{\"dtype\":\"f8\",\"bdata\":\"AAAAAAAA8D8AAAAAAADwPwAAAAAAAPA\\u002fAAAAAAAA8D8AAAAAAADwPwAAAAAAAPA\\u002fAAAAAAAA8D8AAAAAAADwPwAAAAAAAPA\\u002fAAAAAAAA8D8AAAAAAADwPwAAAAAAAPA\\u002fAAAAAAAA8D\\u002fgWTlKCQDwPxrUkAVuAPA\\u002fMcxzI4gC8D87YCpH6AnwP652UWQRHfA\\u002fJhFGI5ZE8D+oJKJVmIjwPz5kEyw07vA\\u002fnzlLR2V28T8HjQCklx7yP4J7QqAI4vI\\u002fH4XICxi78z+DVrWnJaT0PyTahjv7l\\u002fU\\u002fcwbfqOiR9j+i7oNQto33P6faOzWEh\\u002fg\\u002fPqFzoJt7+T8LrGPmImb6P5tIyWB6Qvs\\u002ftjVEobUJ\\u002fD8+BUojAK\\u002f8P9bscB7ZF\\u002f0\\u002fGRxk9bwO\\u002fT\\u002f2UtTYyTn8P0\\u002fmScIeQvo\\u002f1YKLirJW9z\\u002fe22xZ5WT0P3lTQHoBQ\\u002fI\\u002fuJQIhu0L8T8QkLCCcXPwP+\\u002fbNUI7L\\u002fA\\u002fjBp7A4MS8D9OiJVG+QbwP+V7AAiHAvA\\u002fRT3MnOEA8D\\u002fJNPOrSwDwPwAAAAAAAPA\\u002f\"},\"yaxis\":\"y\",\"type\":\"scatter\"}],\"name\":\"125\"},{\"data\":[{\"hovertemplate\":\"variable=126\\u003cbr\\u003ex=%{x}\\u003cbr\\u003evalue=%{y}\\u003cextra\\u003e\\u003c\\u002fextra\\u003e\",\"legendgroup\":\"\",\"line\":{\"color\":\"#636efa\",\"dash\":\"solid\"},\"marker\":{\"symbol\":\"circle\"},\"mode\":\"lines\",\"name\":\"\",\"orientation\":\"v\",\"showlegend\":false,\"x\":{\"dtype\":\"f8\",\"bdata\":\"AAAAAAAAAAB7FK5H4XqkP3sUrkfherQ\\u002fuB6F61G4vj97FK5H4XrEP5qZmZmZmck\\u002fuB6F61G4zj\\u002fsUbgehevRP3sUrkfhetQ\\u002fCtejcD0K1z+amZmZmZnZPylcj8L1KNw\\u002fuB6F61G43j+kcD0K16PgP+xRuB6F6+E\\u002fMzMzMzMz4z97FK5H4XrkP8P1KFyPwuU\\u002fCtejcD0K5z9SuB6F61HoP5qZmZmZmek\\u002f4XoUrkfh6j8pXI\\u002fC9SjsP3E9CtejcO0\\u002fuB6F61G47j8AAAAAAADwP6RwPQrXo\\u002fA\\u002fSOF6FK5H8T\\u002fsUbgehevxP4\\u002fC9Shcj\\u002fI\\u002fMzMzMzMz8z\\u002fXo3A9CtfzP3sUrkfhevQ\\u002fH4XrUbge9T\\u002fD9Shcj8L1P2dmZmZmZvY\\u002fCtejcD0K9z+uR+F6FK73P1K4HoXrUfg\\u002f9ihcj8L1+D+amZmZmZn5Pz4K16NwPfo\\u002f4XoUrkfh+j+F61G4HoX7Pylcj8L1KPw\\u002fzczMzMzM\\u002fD9xPQrXo3D9PxWuR+F6FP4\\u002fuB6F61G4\\u002fj9cj8L1KFz\\u002fPwAAAAAAAABA\"},\"xaxis\":\"x\",\"y\":{\"dtype\":\"f8\",\"bdata\":\"AAAAAAAA8D8AAAAAAADwPwAAAAAAAPA\\u002fAAAAAAAA8D8AAAAAAADwPwAAAAAAAPA\\u002fAAAAAAAA8D8AAAAAAADwPwAAAAAAAPA\\u002fAAAAAAAA8D8AAAAAAADwPwAAAAAAAPA\\u002fAAAAAAAA8D+mdAmECADwP1UmZaBlAPA\\u002f9FmIRFsC8D9WQG2NSgnwP3PRRrt1G\\u002fA\\u002fgsBx9TxB8D+JD+wZvYLwP9jva3U+5fA\\u002f6XsySAJq8T\\u002fMyZkeuA7yPzQz1vLPzvI\\u002fRvNFrMmk8z8XS82oF4v0P9fgVNyOfPU\\u002fmUwuhod09j8W3E1+0m73P+A73SeaZ\\u002fg\\u002fP3WjGTZb+T\\u002fhomzS40X6P3yYD8kxI\\u002fs\\u002fdGWdlJ3s+z+1naGdTpb8P3BwSP31B\\u002f0\\u002fG+xG6R0Q\\u002fT+KxLQPGFn8PzHMLLYAh\\u002fo\\u002flJy5AI2x9z+lH4TY9rT0P\\u002fslj1ntdvI\\u002fbPf38osn8T9UAxAygoDwP5S66jn7NPA\\u002f7sY+eOoU8D\\u002fYb\\u002fHW7wfwP5e8iPHlAvA\\u002fm8n\\u002fvAQB8D\\u002fbDesqWADwPwAAAAAAAPA\\u002f\"},\"yaxis\":\"y\",\"type\":\"scatter\"}],\"name\":\"126\"},{\"data\":[{\"hovertemplate\":\"variable=127\\u003cbr\\u003ex=%{x}\\u003cbr\\u003evalue=%{y}\\u003cextra\\u003e\\u003c\\u002fextra\\u003e\",\"legendgroup\":\"\",\"line\":{\"color\":\"#636efa\",\"dash\":\"solid\"},\"marker\":{\"symbol\":\"circle\"},\"mode\":\"lines\",\"name\":\"\",\"orientation\":\"v\",\"showlegend\":false,\"x\":{\"dtype\":\"f8\",\"bdata\":\"AAAAAAAAAAB7FK5H4XqkP3sUrkfherQ\\u002fuB6F61G4vj97FK5H4XrEP5qZmZmZmck\\u002fuB6F61G4zj\\u002fsUbgehevRP3sUrkfhetQ\\u002fCtejcD0K1z+amZmZmZnZPylcj8L1KNw\\u002fuB6F61G43j+kcD0K16PgP+xRuB6F6+E\\u002fMzMzMzMz4z97FK5H4XrkP8P1KFyPwuU\\u002fCtejcD0K5z9SuB6F61HoP5qZmZmZmek\\u002f4XoUrkfh6j8pXI\\u002fC9SjsP3E9CtejcO0\\u002fuB6F61G47j8AAAAAAADwP6RwPQrXo\\u002fA\\u002fSOF6FK5H8T\\u002fsUbgehevxP4\\u002fC9Shcj\\u002fI\\u002fMzMzMzMz8z\\u002fXo3A9CtfzP3sUrkfhevQ\\u002fH4XrUbge9T\\u002fD9Shcj8L1P2dmZmZmZvY\\u002fCtejcD0K9z+uR+F6FK73P1K4HoXrUfg\\u002f9ihcj8L1+D+amZmZmZn5Pz4K16NwPfo\\u002f4XoUrkfh+j+F61G4HoX7Pylcj8L1KPw\\u002fzczMzMzM\\u002fD9xPQrXo3D9PxWuR+F6FP4\\u002fuB6F61G4\\u002fj9cj8L1KFz\\u002fPwAAAAAAAABA\"},\"xaxis\":\"x\",\"y\":{\"dtype\":\"f8\",\"bdata\":\"AAAAAAAA8D8AAAAAAADwPwAAAAAAAPA\\u002fAAAAAAAA8D8AAAAAAADwPwAAAAAAAPA\\u002fAAAAAAAA8D8AAAAAAADwPwAAAAAAAPA\\u002fAAAAAAAA8D8AAAAAAADwPwAAAAAAAPA\\u002fAAAAAAAA8D+Sn13OBwDwPyjk1t1dAPA\\u002fxJWycDEC8D+kwsZGtgjwP2bf6IjvGfA\\u002fmpjSLwo+8D8DhZsnG33wPzciImaT3PA\\u002fW5PYo\\u002fdd8T98SvVxOv\\u002fxP6\\u002fYUs3+u\\u002fI\\u002fBGncT+WO8z+OOFNcc3L0Px8utiyJYfU\\u002fIEzJModX9j9m8Y9gRlD3P3DiJfX6R\\u002fg\\u002fIADwEAo7+T\\u002fOZSzfxiX6P7S9ckHqA\\u002fs\\u002fV94tMlLP+z\\u002fxYjGfCn38PwqVyanG9vw\\u002fHeEI3eEO\\u002fT+y+L\\u002fXHXT8P0+8cURmx\\u002fo\\u002fXhDlDRML+D+6\\u002fs11bAf1Pwr1QM4hrvI\\u002fbshL\\u002fIJF8T9kxeh53Y7wP+BEpFBbO\\u002fA\\u002fJB6fBpoX8D+2mxFDBQnwPz\\u002f+yYJRA\\u002fA\\u002fWVlD2SwB8D8IB7yMZgDwPwAAAAAAAPA\\u002f\"},\"yaxis\":\"y\",\"type\":\"scatter\"}],\"name\":\"127\"},{\"data\":[{\"hovertemplate\":\"variable=128\\u003cbr\\u003ex=%{x}\\u003cbr\\u003evalue=%{y}\\u003cextra\\u003e\\u003c\\u002fextra\\u003e\",\"legendgroup\":\"\",\"line\":{\"color\":\"#636efa\",\"dash\":\"solid\"},\"marker\":{\"symbol\":\"circle\"},\"mode\":\"lines\",\"name\":\"\",\"orientation\":\"v\",\"showlegend\":false,\"x\":{\"dtype\":\"f8\",\"bdata\":\"AAAAAAAAAAB7FK5H4XqkP3sUrkfherQ\\u002fuB6F61G4vj97FK5H4XrEP5qZmZmZmck\\u002fuB6F61G4zj\\u002fsUbgehevRP3sUrkfhetQ\\u002fCtejcD0K1z+amZmZmZnZPylcj8L1KNw\\u002fuB6F61G43j+kcD0K16PgP+xRuB6F6+E\\u002fMzMzMzMz4z97FK5H4XrkP8P1KFyPwuU\\u002fCtejcD0K5z9SuB6F61HoP5qZmZmZmek\\u002f4XoUrkfh6j8pXI\\u002fC9SjsP3E9CtejcO0\\u002fuB6F61G47j8AAAAAAADwP6RwPQrXo\\u002fA\\u002fSOF6FK5H8T\\u002fsUbgehevxP4\\u002fC9Shcj\\u002fI\\u002fMzMzMzMz8z\\u002fXo3A9CtfzP3sUrkfhevQ\\u002fH4XrUbge9T\\u002fD9Shcj8L1P2dmZmZmZvY\\u002fCtejcD0K9z+uR+F6FK73P1K4HoXrUfg\\u002f9ihcj8L1+D+amZmZmZn5Pz4K16NwPfo\\u002f4XoUrkfh+j+F61G4HoX7Pylcj8L1KPw\\u002fzczMzMzM\\u002fD9xPQrXo3D9PxWuR+F6FP4\\u002fuB6F61G4\\u002fj9cj8L1KFz\\u002fPwAAAAAAAABA\"},\"xaxis\":\"x\",\"y\":{\"dtype\":\"f8\",\"bdata\":\"AAAAAAAA8D8AAAAAAADwPwAAAAAAAPA\\u002fAAAAAAAA8D8AAAAAAADwPwAAAAAAAPA\\u002fAAAAAAAA8D8AAAAAAADwPwAAAAAAAPA\\u002fAAAAAAAA8D8AAAAAAADwPwAAAAAAAPA\\u002fAAAAAAAA8D8HgdUnBwDwP4MLuLFWAPA\\u002fFa5zdAoC8D9JgTbpKgjwPyAyH8V9GPA\\u002fi4G5TPw68D92uqilsHfwP9BshAgx1PA\\u002fhtJFcENS8T8zx4\\u002fUHPDxP0MgVpCTqfI\\u002fBO\\u002foiWl58z87RvaVN1r0Pw3WalXpRvU\\u002fsldvSOc69j9mRT4kEjL3P8HKXIWnKPg\\u002fSeruWxkb+T8llmMezwX6P713DMCo5Po\\u002fMswv8dux+z85QkjsQ2P8PybpWnFp5Pw\\u002fh\\u002fTz4jsL\\u002fT+upVZcDYv8PyRcA7MxA\\u002fs\\u002fzQWm2cVi+D93kGqE8Fv1P8HIfCOi6PI\\u002fGwRRm\\u002fNl8T+w7jPXnZ7wP+DBIKVqQvA\\u002fsgP2MZka8D853rwCPQrwP\\u002foDYEHLA\\u002fA\\u002ff0dqlVoB8D87jYYTdwDwPwAAAAAAAPA\\u002f\"},\"yaxis\":\"y\",\"type\":\"scatter\"}],\"name\":\"128\"},{\"data\":[{\"hovertemplate\":\"variable=129\\u003cbr\\u003ex=%{x}\\u003cbr\\u003evalue=%{y}\\u003cextra\\u003e\\u003c\\u002fextra\\u003e\",\"legendgroup\":\"\",\"line\":{\"color\":\"#636efa\",\"dash\":\"solid\"},\"marker\":{\"symbol\":\"circle\"},\"mode\":\"lines\",\"name\":\"\",\"orientation\":\"v\",\"showlegend\":false,\"x\":{\"dtype\":\"f8\",\"bdata\":\"AAAAAAAAAAB7FK5H4XqkP3sUrkfherQ\\u002fuB6F61G4vj97FK5H4XrEP5qZmZmZmck\\u002fuB6F61G4zj\\u002fsUbgehevRP3sUrkfhetQ\\u002fCtejcD0K1z+amZmZmZnZPylcj8L1KNw\\u002fuB6F61G43j+kcD0K16PgP+xRuB6F6+E\\u002fMzMzMzMz4z97FK5H4XrkP8P1KFyPwuU\\u002fCtejcD0K5z9SuB6F61HoP5qZmZmZmek\\u002f4XoUrkfh6j8pXI\\u002fC9SjsP3E9CtejcO0\\u002fuB6F61G47j8AAAAAAADwP6RwPQrXo\\u002fA\\u002fSOF6FK5H8T\\u002fsUbgehevxP4\\u002fC9Shcj\\u002fI\\u002fMzMzMzMz8z\\u002fXo3A9CtfzP3sUrkfhevQ\\u002fH4XrUbge9T\\u002fD9Shcj8L1P2dmZmZmZvY\\u002fCtejcD0K9z+uR+F6FK73P1K4HoXrUfg\\u002f9ihcj8L1+D+amZmZmZn5Pz4K16NwPfo\\u002f4XoUrkfh+j+F61G4HoX7Pylcj8L1KPw\\u002fzczMzMzM\\u002fD9xPQrXo3D9PxWuR+F6FP4\\u002fuB6F61G4\\u002fj9cj8L1KFz\\u002fPwAAAAAAAABA\"},\"xaxis\":\"x\",\"y\":{\"dtype\":\"f8\",\"bdata\":\"AAAAAAAA8D8AAAAAAADwPwAAAAAAAPA\\u002fAAAAAAAA8D8AAAAAAADwPwAAAAAAAPA\\u002fAAAAAAAA8D8AAAAAAADwPwAAAAAAAPA\\u002fAAAAAAAA8D8AAAAAAADwPwAAAAAAAPA\\u002fAAAAAAAA8D+sHC6PBgDwP5dAwRBQAPA\\u002fz56XH+YB8D88MhjypwfwP3dHFHMfF\\u002fA\\u002flik10xE48D\\u002ftpJ7Ge3LwP1PCOnAVzPA\\u002fd5PxyuNG8T85FOiCXeHxP\\u002fvrA6GMl\\u002fI\\u002fD9Ie8FRk8z8wS18oY0L0P8FHW3muLPU\\u002fYCqhVKce9j+QOxDiNRT3P0Xf9KKgCfg\\u002fuHihpmX7+D+38nZn\\u002f+X5PxdLMOFxxfo\\u002fB18FqEKU+z\\u002fenPQJCUn8P\\u002fy7IlX60Pw\\u002fw3D2flwF\\u002fT9RLD2lG578P6R2sBtTOvs\\u002f7t\\u002fGQC24+D8SgnrhIrL1P5BGBo1pJvM\\u002f8ox3uP2I8T+69lP\\u002f3q\\u002fwP+ggx3g5SvA\\u002flMVbKvAd8D9hnAHmmgvwP8o9wdxUBPA\\u002f4V0mqI4B8D8PS5EJigDwPwAAAAAAAPA\\u002f\"},\"yaxis\":\"y\",\"type\":\"scatter\"}],\"name\":\"129\"},{\"data\":[{\"hovertemplate\":\"variable=130\\u003cbr\\u003ex=%{x}\\u003cbr\\u003evalue=%{y}\\u003cextra\\u003e\\u003c\\u002fextra\\u003e\",\"legendgroup\":\"\",\"line\":{\"color\":\"#636efa\",\"dash\":\"solid\"},\"marker\":{\"symbol\":\"circle\"},\"mode\":\"lines\",\"name\":\"\",\"orientation\":\"v\",\"showlegend\":false,\"x\":{\"dtype\":\"f8\",\"bdata\":\"AAAAAAAAAAB7FK5H4XqkP3sUrkfherQ\\u002fuB6F61G4vj97FK5H4XrEP5qZmZmZmck\\u002fuB6F61G4zj\\u002fsUbgehevRP3sUrkfhetQ\\u002fCtejcD0K1z+amZmZmZnZPylcj8L1KNw\\u002fuB6F61G43j+kcD0K16PgP+xRuB6F6+E\\u002fMzMzMzMz4z97FK5H4XrkP8P1KFyPwuU\\u002fCtejcD0K5z9SuB6F61HoP5qZmZmZmek\\u002f4XoUrkfh6j8pXI\\u002fC9SjsP3E9CtejcO0\\u002fuB6F61G47j8AAAAAAADwP6RwPQrXo\\u002fA\\u002fSOF6FK5H8T\\u002fsUbgehevxP4\\u002fC9Shcj\\u002fI\\u002fMzMzMzMz8z\\u002fXo3A9CtfzP3sUrkfhevQ\\u002fH4XrUbge9T\\u002fD9Shcj8L1P2dmZmZmZvY\\u002fCtejcD0K9z+uR+F6FK73P1K4HoXrUfg\\u002f9ihcj8L1+D+amZmZmZn5Pz4K16NwPfo\\u002f4XoUrkfh+j+F61G4HoX7Pylcj8L1KPw\\u002fzczMzMzM\\u002fD9xPQrXo3D9PxWuR+F6FP4\\u002fuB6F61G4\\u002fj9cj8L1KFz\\u002fPwAAAAAAAABA\"},\"xaxis\":\"x\",\"y\":{\"dtype\":\"f8\",\"bdata\":\"AAAAAAAA8D8AAAAAAADwPwAAAAAAAPA\\u002fAAAAAAAA8D8AAAAAAADwPwAAAAAAAPA\\u002fAAAAAAAA8D8AAAAAAADwPwAAAAAAAPA\\u002fAAAAAAAA8D8AAAAAAADwPwAAAAAAAPA\\u002fAAAAAAAA8D\\u002frYD8DBgDwPzEBgfBJAPA\\u002fQakBRcQB8D8locjlLAfwP8uW0KDTFfA\\u002fKFnHVkk18D85sW\\u002fIem3wP7pbKLo+xPA\\u002fwzSl2NY78T8LD2m\\u002f+tLxP1bTB2nohfI\\u002fv4y0GqZP8z\\u002fljJzl9Cr0P87QVLbXEvU\\u002fyB692cYC9j+rYwagsfb2P0ZUg\\u002fzm6vc\\u002f+PbydfDb+D9JiOZaWsb5P0owYu1Jpvo\\u002fKmOpmI12+z9ae7xXZy78P9duMS6TvPw\\u002f6bIvinH9\\u002fD+srI52f638PwR48mLHbPs\\u002fsbfE99kK+T9jYyMqmgn2P7aJAkdqZ\\u002fM\\u002f\\u002fglSk7+u8T8rRJnFvcLwP314NjrZUvA\\u002fTPex2Kch8D9vD7YcIw3wP6EiMzLwBPA\\u002fPOb13MkB8D+Yay7CnwDwPwAAAAAAAPA\\u002f\"},\"yaxis\":\"y\",\"type\":\"scatter\"}],\"name\":\"130\"},{\"data\":[{\"hovertemplate\":\"variable=131\\u003cbr\\u003ex=%{x}\\u003cbr\\u003evalue=%{y}\\u003cextra\\u003e\\u003c\\u002fextra\\u003e\",\"legendgroup\":\"\",\"line\":{\"color\":\"#636efa\",\"dash\":\"solid\"},\"marker\":{\"symbol\":\"circle\"},\"mode\":\"lines\",\"name\":\"\",\"orientation\":\"v\",\"showlegend\":false,\"x\":{\"dtype\":\"f8\",\"bdata\":\"AAAAAAAAAAB7FK5H4XqkP3sUrkfherQ\\u002fuB6F61G4vj97FK5H4XrEP5qZmZmZmck\\u002fuB6F61G4zj\\u002fsUbgehevRP3sUrkfhetQ\\u002fCtejcD0K1z+amZmZmZnZPylcj8L1KNw\\u002fuB6F61G43j+kcD0K16PgP+xRuB6F6+E\\u002fMzMzMzMz4z97FK5H4XrkP8P1KFyPwuU\\u002fCtejcD0K5z9SuB6F61HoP5qZmZmZmek\\u002f4XoUrkfh6j8pXI\\u002fC9SjsP3E9CtejcO0\\u002fuB6F61G47j8AAAAAAADwP6RwPQrXo\\u002fA\\u002fSOF6FK5H8T\\u002fsUbgehevxP4\\u002fC9Shcj\\u002fI\\u002fMzMzMzMz8z\\u002fXo3A9CtfzP3sUrkfhevQ\\u002fH4XrUbge9T\\u002fD9Shcj8L1P2dmZmZmZvY\\u002fCtejcD0K9z+uR+F6FK73P1K4HoXrUfg\\u002f9ihcj8L1+D+amZmZmZn5Pz4K16NwPfo\\u002f4XoUrkfh+j+F61G4HoX7Pylcj8L1KPw\\u002fzczMzMzM\\u002fD9xPQrXo3D9PxWuR+F6FP4\\u002fuB6F61G4\\u002fj9cj8L1KFz\\u002fPwAAAAAAAABA\"},\"xaxis\":\"x\",\"y\":{\"dtype\":\"f8\",\"bdata\":\"AAAAAAAA8D8AAAAAAADwPwAAAAAAAPA\\u002fAAAAAAAA8D8AAAAAAADwPwAAAAAAAPA\\u002fAAAAAAAA8D8AAAAAAADwPwAAAAAAAPA\\u002fAAAAAAAA8D8AAAAAAADwPwAAAAAAAPA\\u002fAAAAAAAA8D+j6PmCBQDwPzULTEdEAPA\\u002frMF7uqQB8D9HZ05PuQbwP7j312aZFPA\\u002fReoad6Ey8D88D0v0q2jwPznQTgyrvPA\\u002f1ElgxRox8T+cOlPS8sTxP7u4k1aldPI\\u002f\\u002fEiKpFs78z8l7oKf6xP0P0fmtiVk+fQ\\u002fTWwHUEXn9T8CNthShdn2P1CLmiZ7zPc\\u002ftpQWKru8+D\\u002fFF5Jl4qb5P7Es3N40h\\u002fo\\u002f1CcQfMNY+z\\u002fuwmknaxP8P4RJrdFLp\\u002fw\\u002fMS29Jqbz\\u002fD\\u002fX\\u002f0dXcLn8P+wzTvqWmvs\\u002f7VeCWmda+T\\u002fzg69H5WH2PzlqW9CMq\\u002fM\\u002f\\u002fsZJGFXX8T\\u002fFhir3V9fwP0\\u002fLB45cXPA\\u002fJOj66skl8D+PC3M+2g7wPwFjD1GfBfA\\u002fHd49Fg0C8D\\u002fRFreauADwPwAAAAAAAPA\\u002f\"},\"yaxis\":\"y\",\"type\":\"scatter\"}],\"name\":\"131\"},{\"data\":[{\"hovertemplate\":\"variable=132\\u003cbr\\u003ex=%{x}\\u003cbr\\u003evalue=%{y}\\u003cextra\\u003e\\u003c\\u002fextra\\u003e\",\"legendgroup\":\"\",\"line\":{\"color\":\"#636efa\",\"dash\":\"solid\"},\"marker\":{\"symbol\":\"circle\"},\"mode\":\"lines\",\"name\":\"\",\"orientation\":\"v\",\"showlegend\":false,\"x\":{\"dtype\":\"f8\",\"bdata\":\"AAAAAAAAAAB7FK5H4XqkP3sUrkfherQ\\u002fuB6F61G4vj97FK5H4XrEP5qZmZmZmck\\u002fuB6F61G4zj\\u002fsUbgehevRP3sUrkfhetQ\\u002fCtejcD0K1z+amZmZmZnZPylcj8L1KNw\\u002fuB6F61G43j+kcD0K16PgP+xRuB6F6+E\\u002fMzMzMzMz4z97FK5H4XrkP8P1KFyPwuU\\u002fCtejcD0K5z9SuB6F61HoP5qZmZmZmek\\u002f4XoUrkfh6j8pXI\\u002fC9SjsP3E9CtejcO0\\u002fuB6F61G47j8AAAAAAADwP6RwPQrXo\\u002fA\\u002fSOF6FK5H8T\\u002fsUbgehevxP4\\u002fC9Shcj\\u002fI\\u002fMzMzMzMz8z\\u002fXo3A9CtfzP3sUrkfhevQ\\u002fH4XrUbge9T\\u002fD9Shcj8L1P2dmZmZmZvY\\u002fCtejcD0K9z+uR+F6FK73P1K4HoXrUfg\\u002f9ihcj8L1+D+amZmZmZn5Pz4K16NwPfo\\u002f4XoUrkfh+j+F61G4HoX7Pylcj8L1KPw\\u002fzczMzMzM\\u002fD9xPQrXo3D9PxWuR+F6FP4\\u002fuB6F61G4\\u002fj9cj8L1KFz\\u002fPwAAAAAAAABA\"},\"xaxis\":\"x\",\"y\":{\"dtype\":\"f8\",\"bdata\":\"AAAAAAAA8D8AAAAAAADwPwAAAAAAAPA\\u002fAAAAAAAA8D8AAAAAAADwPwAAAAAAAPA\\u002fAAAAAAAA8D8AAAAAAADwPwAAAAAAAPA\\u002fAAAAAAAA8D8AAAAAAADwPwAAAAAAAPA\\u002fAAAAAAAA8D+\\u002f7GQNBQDwP9LgLgw\\u002fAPA\\u002f18qIWIcB8D\\u002f0RAbATAbwP0ZhyedvE\\u002fA\\u002fcmC63xgw8D8geHKeDWTwP6dospVYtfA\\u002fhAQ+xK0m8T8+O6YJRLfxPybNW9zBY\\u002fI\\u002ffZBKK3Qn8z8+YgUoRv3zP6ZCEt1S4PQ\\u002fiqKfJiLM9T+B50rfsLz2P72aip1drvc\\u002fbvzFAMed+D\\u002fE3c3DmYf5P1LQrGY2aPo\\u002fSouQjOo6+z++pf7SH\\u002fj7P0ptXzQ6kfw\\u002fj7KZwCLo\\u002fD+WKhy+JcL8Px9YnoDUw\\u002fs\\u002fVp932nym+T8u77pHjbr2PxwF3Eqv8vM\\u002f5lopJdcC8j\\u002fMdf4rzO3wP4zXNVXXZvA\\u002fR17i4GAq8D+MiQpTxRDwP9WRXn9kBvA\\u002fmJaTT1kC8D+ABZ\\u002f71ADwPwAAAAAAAPA\\u002f\"},\"yaxis\":\"y\",\"type\":\"scatter\"}],\"name\":\"132\"},{\"data\":[{\"hovertemplate\":\"variable=133\\u003cbr\\u003ex=%{x}\\u003cbr\\u003evalue=%{y}\\u003cextra\\u003e\\u003c\\u002fextra\\u003e\",\"legendgroup\":\"\",\"line\":{\"color\":\"#636efa\",\"dash\":\"solid\"},\"marker\":{\"symbol\":\"circle\"},\"mode\":\"lines\",\"name\":\"\",\"orientation\":\"v\",\"showlegend\":false,\"x\":{\"dtype\":\"f8\",\"bdata\":\"AAAAAAAAAAB7FK5H4XqkP3sUrkfherQ\\u002fuB6F61G4vj97FK5H4XrEP5qZmZmZmck\\u002fuB6F61G4zj\\u002fsUbgehevRP3sUrkfhetQ\\u002fCtejcD0K1z+amZmZmZnZPylcj8L1KNw\\u002fuB6F61G43j+kcD0K16PgP+xRuB6F6+E\\u002fMzMzMzMz4z97FK5H4XrkP8P1KFyPwuU\\u002fCtejcD0K5z9SuB6F61HoP5qZmZmZmek\\u002f4XoUrkfh6j8pXI\\u002fC9SjsP3E9CtejcO0\\u002fuB6F61G47j8AAAAAAADwP6RwPQrXo\\u002fA\\u002fSOF6FK5H8T\\u002fsUbgehevxP4\\u002fC9Shcj\\u002fI\\u002fMzMzMzMz8z\\u002fXo3A9CtfzP3sUrkfhevQ\\u002fH4XrUbge9T\\u002fD9Shcj8L1P2dmZmZmZvY\\u002fCtejcD0K9z+uR+F6FK73P1K4HoXrUfg\\u002f9ihcj8L1+D+amZmZmZn5Pz4K16NwPfo\\u002f4XoUrkfh+j+F61G4HoX7Pylcj8L1KPw\\u002fzczMzMzM\\u002fD9xPQrXo3D9PxWuR+F6FP4\\u002fuB6F61G4\\u002fj9cj8L1KFz\\u002fPwAAAAAAAABA\"},\"xaxis\":\"x\",\"y\":{\"dtype\":\"f8\",\"bdata\":\"AAAAAAAA8D8AAAAAAADwPwAAAAAAAPA\\u002fAAAAAAAA8D8AAAAAAADwPwAAAAAAAPA\\u002fAAAAAAAA8D8AAAAAAADwPwAAAAAAAPA\\u002fAAAAAAAA8D8AAAAAAADwPwAAAAAAAPA\\u002fAAAAAAAA8D+mYZyhBADwP4hW4DY6APA\\u002fzXk5+msB8D9VAFPP5gXwP4sAAVBWEvA\\u002f3h\\u002fHR64t8D\\u002f6WBAmnl\\u002fwP6GWP45FrvA\\u002f6tpbD44c8T\\u002ftXAq57KnxPxBakHE8U\\u002fI\\u002ftLeFT+4T8z9uaYNRA+fzP7XWuu6ix\\u002fQ\\u002fu4tkxFyx9T9XiHIbNKD2P1aWCMeOkPc\\u002fmuRhFxV\\u002f+D+0okqEgmj5P9uQd\\u002fFRSfo\\u002ftUJrjwgd+z+OVOrQj9z7P8dfK41yevw\\u002fbhDCGA3b\\u002fD9ZXOti1sf8P\\u002fjjP1Gb6Ps\\u002f+TiSAs\\u002fu+T+2ZqdxFxP3P7OvRAylPPQ\\u002fDYKQvlox8j80aJOLOQbxP7tkibBecvA\\u002f9dBUGHgv8D\\u002fIsHnb6RLwP5bUzD5CB\\u002fA\\u002fLTI5oK8C8D81K6JZ9QDwPwAAAAAAAPA\\u002f\"},\"yaxis\":\"y\",\"type\":\"scatter\"}],\"name\":\"133\"},{\"data\":[{\"hovertemplate\":\"variable=134\\u003cbr\\u003ex=%{x}\\u003cbr\\u003evalue=%{y}\\u003cextra\\u003e\\u003c\\u002fextra\\u003e\",\"legendgroup\":\"\",\"line\":{\"color\":\"#636efa\",\"dash\":\"solid\"},\"marker\":{\"symbol\":\"circle\"},\"mode\":\"lines\",\"name\":\"\",\"orientation\":\"v\",\"showlegend\":false,\"x\":{\"dtype\":\"f8\",\"bdata\":\"AAAAAAAAAAB7FK5H4XqkP3sUrkfherQ\\u002fuB6F61G4vj97FK5H4XrEP5qZmZmZmck\\u002fuB6F61G4zj\\u002fsUbgehevRP3sUrkfhetQ\\u002fCtejcD0K1z+amZmZmZnZPylcj8L1KNw\\u002fuB6F61G43j+kcD0K16PgP+xRuB6F6+E\\u002fMzMzMzMz4z97FK5H4XrkP8P1KFyPwuU\\u002fCtejcD0K5z9SuB6F61HoP5qZmZmZmek\\u002f4XoUrkfh6j8pXI\\u002fC9SjsP3E9CtejcO0\\u002fuB6F61G47j8AAAAAAADwP6RwPQrXo\\u002fA\\u002fSOF6FK5H8T\\u002fsUbgehevxP4\\u002fC9Shcj\\u002fI\\u002fMzMzMzMz8z\\u002fXo3A9CtfzP3sUrkfhevQ\\u002fH4XrUbge9T\\u002fD9Shcj8L1P2dmZmZmZvY\\u002fCtejcD0K9z+uR+F6FK73P1K4HoXrUfg\\u002f9ihcj8L1+D+amZmZmZn5Pz4K16NwPfo\\u002f4XoUrkfh+j+F61G4HoX7Pylcj8L1KPw\\u002fzczMzMzM\\u002fD9xPQrXo3D9PxWuR+F6FP4\\u002fuB6F61G4\\u002fj9cj8L1KFz\\u002fPwAAAAAAAABA\"},\"xaxis\":\"x\",\"y\":{\"dtype\":\"f8\",\"bdata\":\"AAAAAAAA8D8AAAAAAADwPwAAAAAAAPA\\u002fAAAAAAAA8D8AAAAAAADwPwAAAAAAAPA\\u002fAAAAAAAA8D8AAAAAAADwPwAAAAAAAPA\\u002fAAAAAAAA8D8AAAAAAADwPwAAAAAAAPA\\u002fAAAAAAAA8D\\u002fqPM8+BADwP2MYtb81APA\\u002ftr0DfVIB8D97rVAahwXwP2KlPNVLEfA\\u002fDkSxcWAr8D9XTQ71W1vwP2F3sTZwp\\u002fA\\u002fgGnB57kS8T+8Sbo565zxP96h1ZETQ\\u002fI\\u002fooPItMgA8z9ATQ\\u002fvIdHzP3R7TWpTr\\u002fQ\\u002fqo\\u002fHiPSW9T8Slt7PDoT2P320vfMOc\\u002fc\\u002f7Nf1bKZg+D\\u002fXvtOKnkn5PxoR36uKKvo\\u002fsLaE3SL\\u002f+j8MRpjGxMD7PzHkHHYHY\\u002fw\\u002fYEgzWIjM\\u002fD\\u002f2WUOyt8r8PzksBhEOCfw\\u002frBIUDiAz+j8rVYaGB2v3P3C2DGs2ifQ\\u002fHnB3OfBi8j87Yx2EvyDxP0sLUgAJf\\u002fA\\u002f+7j52Rs18D8yPlTbTRXwP\\u002f0K\\u002fVE7CPA\\u002fqprQPRED8D8Blw43GgHwPwAAAAAAAPA\\u002f\"},\"yaxis\":\"y\",\"type\":\"scatter\"}],\"name\":\"134\"},{\"data\":[{\"hovertemplate\":\"variable=135\\u003cbr\\u003ex=%{x}\\u003cbr\\u003evalue=%{y}\\u003cextra\\u003e\\u003c\\u002fextra\\u003e\",\"legendgroup\":\"\",\"line\":{\"color\":\"#636efa\",\"dash\":\"solid\"},\"marker\":{\"symbol\":\"circle\"},\"mode\":\"lines\",\"name\":\"\",\"orientation\":\"v\",\"showlegend\":false,\"x\":{\"dtype\":\"f8\",\"bdata\":\"AAAAAAAAAAB7FK5H4XqkP3sUrkfherQ\\u002fuB6F61G4vj97FK5H4XrEP5qZmZmZmck\\u002fuB6F61G4zj\\u002fsUbgehevRP3sUrkfhetQ\\u002fCtejcD0K1z+amZmZmZnZPylcj8L1KNw\\u002fuB6F61G43j+kcD0K16PgP+xRuB6F6+E\\u002fMzMzMzMz4z97FK5H4XrkP8P1KFyPwuU\\u002fCtejcD0K5z9SuB6F61HoP5qZmZmZmek\\u002f4XoUrkfh6j8pXI\\u002fC9SjsP3E9CtejcO0\\u002fuB6F61G47j8AAAAAAADwP6RwPQrXo\\u002fA\\u002fSOF6FK5H8T\\u002fsUbgehevxP4\\u002fC9Shcj\\u002fI\\u002fMzMzMzMz8z\\u002fXo3A9CtfzP3sUrkfhevQ\\u002fH4XrUbge9T\\u002fD9Shcj8L1P2dmZmZmZvY\\u002fCtejcD0K9z+uR+F6FK73P1K4HoXrUfg\\u002f9ihcj8L1+D+amZmZmZn5Pz4K16NwPfo\\u002f4XoUrkfh+j+F61G4HoX7Pylcj8L1KPw\\u002fzczMzMzM\\u002fD9xPQrXo3D9PxWuR+F6FP4\\u002fuB6F61G4\\u002fj9cj8L1KFz\\u002fPwAAAAAAAABA\"},\"xaxis\":\"x\",\"y\":{\"dtype\":\"f8\",\"bdata\":\"AAAAAAAA8D8AAAAAAADwPwAAAAAAAPA\\u002fAAAAAAAA8D8AAAAAAADwPwAAAAAAAPA\\u002fAAAAAAAA8D8AAAAAAADwPwAAAAAAAPA\\u002fAAAAAAAA8D8AAAAAAADwPwAAAAAAAPA\\u002fAAAAAAAA8D\\u002fP3z3kAwDwPxcVlJ8xAPA\\u002fR4mcwDoB8D8BRItDLQXwP4SDQrZPEPA\\u002fnBfwKi4p8D8H1+t\\u002fRVfwP1FKedjWoPA\\u002fOY9JlS8J8T9IEW3qPZDxP\\u002f8fOr1FM\\u002fI\\u002f84CuAQLu8j+NxqzUoLvzP7RDKl1jl\\u002fQ\\u002fzqGQzOh89T\\u002fJH7O4QGj2P0Vov2DeVfc\\u002f3Wsg5HtC+D+QiOWS7yr5Px6UoIbjC\\u002fo\\u002fWB1kaz7h+j\\u002fbi3WZx6T7P5130wsKS\\u002fw\\u002flAq0KLW8\\u002fD+4zrZf\\u002fcr8P24xWEVVJfw\\u002fahl9FUBz+j95WK0V4sH3PzOAPNAg2PQ\\u002fCIQYXaKX8j\\u002fsZwBzfT3xPxJTnN\\u002ftjPA\\u002fdpxbZVk78D881KTi9xfwP8+kPsJSCfA\\u002ffK1If38D8D\\u002fQziwlRAHwPwAAAAAAAPA\\u002f\"},\"yaxis\":\"y\",\"type\":\"scatter\"}],\"name\":\"135\"},{\"data\":[{\"hovertemplate\":\"variable=136\\u003cbr\\u003ex=%{x}\\u003cbr\\u003evalue=%{y}\\u003cextra\\u003e\\u003c\\u002fextra\\u003e\",\"legendgroup\":\"\",\"line\":{\"color\":\"#636efa\",\"dash\":\"solid\"},\"marker\":{\"symbol\":\"circle\"},\"mode\":\"lines\",\"name\":\"\",\"orientation\":\"v\",\"showlegend\":false,\"x\":{\"dtype\":\"f8\",\"bdata\":\"AAAAAAAAAAB7FK5H4XqkP3sUrkfherQ\\u002fuB6F61G4vj97FK5H4XrEP5qZmZmZmck\\u002fuB6F61G4zj\\u002fsUbgehevRP3sUrkfhetQ\\u002fCtejcD0K1z+amZmZmZnZPylcj8L1KNw\\u002fuB6F61G43j+kcD0K16PgP+xRuB6F6+E\\u002fMzMzMzMz4z97FK5H4XrkP8P1KFyPwuU\\u002fCtejcD0K5z9SuB6F61HoP5qZmZmZmek\\u002f4XoUrkfh6j8pXI\\u002fC9SjsP3E9CtejcO0\\u002fuB6F61G47j8AAAAAAADwP6RwPQrXo\\u002fA\\u002fSOF6FK5H8T\\u002fsUbgehevxP4\\u002fC9Shcj\\u002fI\\u002fMzMzMzMz8z\\u002fXo3A9CtfzP3sUrkfhevQ\\u002fH4XrUbge9T\\u002fD9Shcj8L1P2dmZmZmZvY\\u002fCtejcD0K9z+uR+F6FK73P1K4HoXrUfg\\u002f9ihcj8L1+D+amZmZmZn5Pz4K16NwPfo\\u002f4XoUrkfh+j+F61G4HoX7Pylcj8L1KPw\\u002fzczMzMzM\\u002fD9xPQrXo3D9PxWuR+F6FP4\\u002fuB6F61G4\\u002fj9cj8L1KFz\\u002fPwAAAAAAAABA\"},\"xaxis\":\"x\",\"y\":{\"dtype\":\"f8\",\"bdata\":\"AAAAAAAA8D8AAAAAAADwPwAAAAAAAPA\\u002fAAAAAAAA8D8AAAAAAADwPwAAAAAAAPA\\u002fAAAAAAAA8D8AAAAAAADwPwAAAAAAAPA\\u002fAAAAAAAA8D8AAAAAAADwPwAAAAAAAPA\\u002fAAAAAAAA8D+ioziRAwDwP9W+688tAPA\\u002f79zTpiQB8D+3Zrjy2ATwP+hFijphD\\u002fA\\u002f0i+7SxYn8D9qQpVFWVPwP3vDpsV3mvA\\u002f976MZu3\\u002f8D\\u002fmnUAv44PxP1ZrK3jRI\\u002fI\\u002fhXnw35jb8j90qojXfqbzP6k95NLRf\\u002fQ\\u002fybaT4jhj9T8jkK+GyUz2PyKE8Tj9OPc\\u002f5hbhRJYk+D\\u002f2dB4ydwz5P0chZzpf7fk\\u002f192I0F\\u002fD+j\\u002f88Yd+oIj7P1W6KAuKMvw\\u002fypux0bGr\\u002fD+46ogT2cj8P3L9J\\u002f+dPfw\\u002fqROL2Qyv+j\\u002ffhI7OLhf4P0porxUXKfU\\u002fUanYgnXP8j9R8Z49klzxPzv+\\u002fhkmnPA\\u002fRCF9\\u002fD5C8D927ToY7xrwP1kEquWLCvA\\u002fgn0I4PsD8D9jDcnFcwHwPwAAAAAAAPA\\u002f\"},\"yaxis\":\"y\",\"type\":\"scatter\"}],\"name\":\"136\"},{\"data\":[{\"hovertemplate\":\"variable=137\\u003cbr\\u003ex=%{x}\\u003cbr\\u003evalue=%{y}\\u003cextra\\u003e\\u003c\\u002fextra\\u003e\",\"legendgroup\":\"\",\"line\":{\"color\":\"#636efa\",\"dash\":\"solid\"},\"marker\":{\"symbol\":\"circle\"},\"mode\":\"lines\",\"name\":\"\",\"orientation\":\"v\",\"showlegend\":false,\"x\":{\"dtype\":\"f8\",\"bdata\":\"AAAAAAAAAAB7FK5H4XqkP3sUrkfherQ\\u002fuB6F61G4vj97FK5H4XrEP5qZmZmZmck\\u002fuB6F61G4zj\\u002fsUbgehevRP3sUrkfhetQ\\u002fCtejcD0K1z+amZmZmZnZPylcj8L1KNw\\u002fuB6F61G43j+kcD0K16PgP+xRuB6F6+E\\u002fMzMzMzMz4z97FK5H4XrkP8P1KFyPwuU\\u002fCtejcD0K5z9SuB6F61HoP5qZmZmZmek\\u002f4XoUrkfh6j8pXI\\u002fC9SjsP3E9CtejcO0\\u002fuB6F61G47j8AAAAAAADwP6RwPQrXo\\u002fA\\u002fSOF6FK5H8T\\u002fsUbgehevxP4\\u002fC9Shcj\\u002fI\\u002fMzMzMzMz8z\\u002fXo3A9CtfzP3sUrkfhevQ\\u002fH4XrUbge9T\\u002fD9Shcj8L1P2dmZmZmZvY\\u002fCtejcD0K9z+uR+F6FK73P1K4HoXrUfg\\u002f9ihcj8L1+D+amZmZmZn5Pz4K16NwPfo\\u002f4XoUrkfh+j+F61G4HoX7Pylcj8L1KPw\\u002fzczMzMzM\\u002fD9xPQrXo3D9PxWuR+F6FP4\\u002fuB6F61G4\\u002fj9cj8L1KFz\\u002fPwAAAAAAAABA\"},\"xaxis\":\"x\",\"y\":{\"dtype\":\"f8\",\"bdata\":\"AAAAAAAA8D8AAAAAAADwPwAAAAAAAPA\\u002fAAAAAAAA8D8AAAAAAADwPwAAAAAAAPA\\u002fAAAAAAAA8D8AAAAAAADwPwAAAAAAAPA\\u002fAAAAAAAA8D8AAAAAAADwPwAAAAAAAPA\\u002fAAAAAAAA8D8IhR5FAwDwP8oSqEoqAPA\\u002fcvJyExAB8D9JQnTUiQTwP+Bx6LF\\u002fDvA\\u002f6i\\u002fEthcl8D9MqDrPlU\\u002fwPz4i0VhRlPA\\u002fwX\\u002fMsPH28D88sKRx2XfxP3n3aUu1FPI\\u002f1Gxv\\u002fIvJ8j9GMCrOupHzPwhnp9WdaPQ\\u002fjq9YGORJ9T\\u002fkJSTgqDH2Pz9zU5ZrHPc\\u002fPNFMPvYG+D8mCY3aNu74P844XEsAz\\u002fk\\u002f6MMlToul+j+yRLIIV2z7P79AAO2VGfw\\u002fRoHGV5qZ\\u002fD\\u002fXQxQwesT8P07wzaAYUvw\\u002fHPBFOHHm+j9JzV64emr4P2cuKDXCe\\u002fU\\u002f3ZEHu2YK8z96vs\\u002fZG37xP8xjA5vLrPA\\u002fcp6N7ttJ8D+Zw1tEOx7wP2zPpmXqC\\u002fA\\u002fR6RcA4gE8D+\\u002f79\\u002fMqQHwPwAAAAAAAPA\\u002f\"},\"yaxis\":\"y\",\"type\":\"scatter\"}],\"name\":\"137\"},{\"data\":[{\"hovertemplate\":\"variable=138\\u003cbr\\u003ex=%{x}\\u003cbr\\u003evalue=%{y}\\u003cextra\\u003e\\u003c\\u002fextra\\u003e\",\"legendgroup\":\"\",\"line\":{\"color\":\"#636efa\",\"dash\":\"solid\"},\"marker\":{\"symbol\":\"circle\"},\"mode\":\"lines\",\"name\":\"\",\"orientation\":\"v\",\"showlegend\":false,\"x\":{\"dtype\":\"f8\",\"bdata\":\"AAAAAAAAAAB7FK5H4XqkP3sUrkfherQ\\u002fuB6F61G4vj97FK5H4XrEP5qZmZmZmck\\u002fuB6F61G4zj\\u002fsUbgehevRP3sUrkfhetQ\\u002fCtejcD0K1z+amZmZmZnZPylcj8L1KNw\\u002fuB6F61G43j+kcD0K16PgP+xRuB6F6+E\\u002fMzMzMzMz4z97FK5H4XrkP8P1KFyPwuU\\u002fCtejcD0K5z9SuB6F61HoP5qZmZmZmek\\u002f4XoUrkfh6j8pXI\\u002fC9SjsP3E9CtejcO0\\u002fuB6F61G47j8AAAAAAADwP6RwPQrXo\\u002fA\\u002fSOF6FK5H8T\\u002fsUbgehevxP4\\u002fC9Shcj\\u002fI\\u002fMzMzMzMz8z\\u002fXo3A9CtfzP3sUrkfhevQ\\u002fH4XrUbge9T\\u002fD9Shcj8L1P2dmZmZmZvY\\u002fCtejcD0K9z+uR+F6FK73P1K4HoXrUfg\\u002f9ihcj8L1+D+amZmZmZn5Pz4K16NwPfo\\u002f4XoUrkfh+j+F61G4HoX7Pylcj8L1KPw\\u002fzczMzMzM\\u002fD9xPQrXo3D9PxWuR+F6FP4\\u002fuB6F61G4\\u002fj9cj8L1KFz\\u002fPwAAAAAAAABA\"},\"xaxis\":\"x\",\"y\":{\"dtype\":\"f8\",\"bdata\":\"AAAAAAAA8D8AAAAAAADwPwAAAAAAAPA\\u002fAAAAAAAA8D8AAAAAAADwPwAAAAAAAPA\\u002fAAAAAAAA8D8AAAAAAADwPwAAAAAAAPA\\u002fAAAAAAAA8D8AAAAAAADwPwAAAAAAAPA\\u002fAAAAAAAA8D+w61v\\u002fAgDwP0JZKQonAPA\\u002fE2wc7PwA8D8DaAGaPwTwP+gWPHSqDfA\\u002foTjxWDEj8D9GACew+UvwPzn1APVhjvA\\u002fbxPgzzru8D9ddkYgH2zxP9Xr+8PvBfI\\u002f5Gc8B9q38j\\u002fTV56QU33zP3+JlW7GUfQ\\u002f2Zq2tukw9T9gGNdh3hb2P7uQOYMpAPc\\u002f3aMqaJzp9z8MltzcL9D4P5JkewzJsPk\\u002f2B1Q1cSH+j\\u002f0QcA18k\\u002f7P81+PAA7APw\\u002fjXDGnYiG\\u002fD8oemirDb78P8C1XsP3Yvw\\u002fM6++WmQZ+z\\u002fCoJk5Wrv4Pw9+EEnCz\\u002fU\\u002fWux6\\u002fmpI8z\\u002fr6rXFNqLxP0stGVb5vvA\\u002fdE5hoUBS8D9Yasfb5CHwPwTo3kVyDfA\\u002fJLAquCUF8D8uRHEC5wHwPwAAAAAAAPA\\u002f\"},\"yaxis\":\"y\",\"type\":\"scatter\"}],\"name\":\"138\"},{\"data\":[{\"hovertemplate\":\"variable=139\\u003cbr\\u003ex=%{x}\\u003cbr\\u003evalue=%{y}\\u003cextra\\u003e\\u003c\\u002fextra\\u003e\",\"legendgroup\":\"\",\"line\":{\"color\":\"#636efa\",\"dash\":\"solid\"},\"marker\":{\"symbol\":\"circle\"},\"mode\":\"lines\",\"name\":\"\",\"orientation\":\"v\",\"showlegend\":false,\"x\":{\"dtype\":\"f8\",\"bdata\":\"AAAAAAAAAAB7FK5H4XqkP3sUrkfherQ\\u002fuB6F61G4vj97FK5H4XrEP5qZmZmZmck\\u002fuB6F61G4zj\\u002fsUbgehevRP3sUrkfhetQ\\u002fCtejcD0K1z+amZmZmZnZPylcj8L1KNw\\u002fuB6F61G43j+kcD0K16PgP+xRuB6F6+E\\u002fMzMzMzMz4z97FK5H4XrkP8P1KFyPwuU\\u002fCtejcD0K5z9SuB6F61HoP5qZmZmZmek\\u002f4XoUrkfh6j8pXI\\u002fC9SjsP3E9CtejcO0\\u002fuB6F61G47j8AAAAAAADwP6RwPQrXo\\u002fA\\u002fSOF6FK5H8T\\u002fsUbgehevxP4\\u002fC9Shcj\\u002fI\\u002fMzMzMzMz8z\\u002fXo3A9CtfzP3sUrkfhevQ\\u002fH4XrUbge9T\\u002fD9Shcj8L1P2dmZmZmZvY\\u002fCtejcD0K9z+uR+F6FK73P1K4HoXrUfg\\u002f9ihcj8L1+D+amZmZmZn5Pz4K16NwPfo\\u002f4XoUrkfh+j+F61G4HoX7Pylcj8L1KPw\\u002fzczMzMzM\\u002fD9xPQrXo3D9PxWuR+F6FP4\\u002fuB6F61G4\\u002fj9cj8L1KFz\\u002fPwAAAAAAAABA\"},\"xaxis\":\"x\",\"y\":{\"dtype\":\"f8\",\"bdata\":\"AAAAAAAA8D8AAAAAAADwPwAAAAAAAPA\\u002fAAAAAAAA8D8AAAAAAADwPwAAAAAAAPA\\u002fAAAAAAAA8D8AAAAAAADwPwAAAAAAAPA\\u002fAAAAAAAA8D8AAAAAAADwPwAAAAAAAPA\\u002fAAAAAAAA8D8RjGm\\u002fAgDwP1yROwkkAPA\\u002f7WouGOsA8D9Zigv5+QPwP6HHHuHgDPA\\u002fjwkYKWIh8D9EOJeFg0jwP8d0mgWoiPA\\u002f5zkiJsfl8D8c0PyusmDxP5hCH3N\\u002f9\\u002fE\\u002f7ZGds4Gm8j+W7Z34R2nzPzKpGqZKO\\u002fQ\\u002f0iBjAkkY9T\\u002fYWdqfafz1P6Wcc\\u002fs25PY\\u002fQUJ5RInM9z88l2JqY7L4P6xtraK7kvk\\u002feY6vDBBq+j\\u002fgklN6eDP7P3913oGF5vs\\u002ffghnhpRy\\u002fD8byMz5vbX8P2Ya7j1vcPw\\u002f3a+Uq+hH+z90b2bcagn5P2bVrNuvJPY\\u002f9eH\\u002fdW6J8z\\u002faCj5v\\u002fcjxP5pD9iXL0vA\\u002fxm1BmX5b8D9cif4K9SXwP4zon+snD\\u002fA\\u002frMbu\\u002fNYF8D8D0ntELALwPwAAAAAAAPA\\u002f\"},\"yaxis\":\"y\",\"type\":\"scatter\"}],\"name\":\"139\"},{\"data\":[{\"hovertemplate\":\"variable=140\\u003cbr\\u003ex=%{x}\\u003cbr\\u003evalue=%{y}\\u003cextra\\u003e\\u003c\\u002fextra\\u003e\",\"legendgroup\":\"\",\"line\":{\"color\":\"#636efa\",\"dash\":\"solid\"},\"marker\":{\"symbol\":\"circle\"},\"mode\":\"lines\",\"name\":\"\",\"orientation\":\"v\",\"showlegend\":false,\"x\":{\"dtype\":\"f8\",\"bdata\":\"AAAAAAAAAAB7FK5H4XqkP3sUrkfherQ\\u002fuB6F61G4vj97FK5H4XrEP5qZmZmZmck\\u002fuB6F61G4zj\\u002fsUbgehevRP3sUrkfhetQ\\u002fCtejcD0K1z+amZmZmZnZPylcj8L1KNw\\u002fuB6F61G43j+kcD0K16PgP+xRuB6F6+E\\u002fMzMzMzMz4z97FK5H4XrkP8P1KFyPwuU\\u002fCtejcD0K5z9SuB6F61HoP5qZmZmZmek\\u002f4XoUrkfh6j8pXI\\u002fC9SjsP3E9CtejcO0\\u002fuB6F61G47j8AAAAAAADwP6RwPQrXo\\u002fA\\u002fSOF6FK5H8T\\u002fsUbgehevxP4\\u002fC9Shcj\\u002fI\\u002fMzMzMzMz8z\\u002fXo3A9CtfzP3sUrkfhevQ\\u002fH4XrUbge9T\\u002fD9Shcj8L1P2dmZmZmZvY\\u002fCtejcD0K9z+uR+F6FK73P1K4HoXrUfg\\u002f9ihcj8L1+D+amZmZmZn5Pz4K16NwPfo\\u002f4XoUrkfh+j+F61G4HoX7Pylcj8L1KPw\\u002fzczMzMzM\\u002fD9xPQrXo3D9PxWuR+F6FP4\\u002fuB6F61G4\\u002fj9cj8L1KFz\\u002fPwAAAAAAAABA\"},\"xaxis\":\"x\",\"y\":{\"dtype\":\"f8\",\"bdata\":\"AAAAAAAA8D8AAAAAAADwPwAAAAAAAPA\\u002fAAAAAAAA8D8AAAAAAADwPwAAAAAAAPA\\u002fAAAAAAAA8D8AAAAAAADwPwAAAAAAAPA\\u002fAAAAAAAA8D8AAAAAAADwPwAAAAAAAPA\\u002fAAAAAAAA8D\\u002f\\u002fYMuEAgDwPyV8DkMhAPA\\u002fbnGmgNoA8D8tAW2ruAPwP+HXll8iDPA\\u002fUNq5J6kf8D+kR5H2MUXwPzdeSP4hg\\u002fA\\u002fuwVgHJXd8D9WT7WWklXxP4tcO+5i6fE\\u002fOrwQuIGV8j8poa7hllXzP6ajOYQpJfQ\\u002fLeB2PAEA9T+R3lImSuL1P4ZGYe2TyPY\\u002fHMPeQL2v9z+ebw6X0pT4P0WKrwfadPk\\u002f3CW6VXBM+j8kzMnM7xb7PycXXbOAzPs\\u002ffyPQFdRd\\u002fD\\u002ftoxsGs6v8P99faU+zevw\\u002fkU+Ypgpy+z+3bQTBVFT5P0TZRn0devY\\u002fKG5G4VPN8z+jVSyMh\\u002fLxP6k9OqJd6PA\\u002foVCXfqhl8D+fc6\\u002fBdSrwP27kqyUQEfA\\u002foJAHBJ4G8D8HFiWJegLwPwAAAAAAAPA\\u002f\"},\"yaxis\":\"y\",\"type\":\"scatter\"}],\"name\":\"140\"},{\"data\":[{\"hovertemplate\":\"variable=141\\u003cbr\\u003ex=%{x}\\u003cbr\\u003evalue=%{y}\\u003cextra\\u003e\\u003c\\u002fextra\\u003e\",\"legendgroup\":\"\",\"line\":{\"color\":\"#636efa\",\"dash\":\"solid\"},\"marker\":{\"symbol\":\"circle\"},\"mode\":\"lines\",\"name\":\"\",\"orientation\":\"v\",\"showlegend\":false,\"x\":{\"dtype\":\"f8\",\"bdata\":\"AAAAAAAAAAB7FK5H4XqkP3sUrkfherQ\\u002fuB6F61G4vj97FK5H4XrEP5qZmZmZmck\\u002fuB6F61G4zj\\u002fsUbgehevRP3sUrkfhetQ\\u002fCtejcD0K1z+amZmZmZnZPylcj8L1KNw\\u002fuB6F61G43j+kcD0K16PgP+xRuB6F6+E\\u002fMzMzMzMz4z97FK5H4XrkP8P1KFyPwuU\\u002fCtejcD0K5z9SuB6F61HoP5qZmZmZmek\\u002f4XoUrkfh6j8pXI\\u002fC9SjsP3E9CtejcO0\\u002fuB6F61G47j8AAAAAAADwP6RwPQrXo\\u002fA\\u002fSOF6FK5H8T\\u002fsUbgehevxP4\\u002fC9Shcj\\u002fI\\u002fMzMzMzMz8z\\u002fXo3A9CtfzP3sUrkfhevQ\\u002fH4XrUbge9T\\u002fD9Shcj8L1P2dmZmZmZvY\\u002fCtejcD0K9z+uR+F6FK73P1K4HoXrUfg\\u002f9ihcj8L1+D+amZmZmZn5Pz4K16NwPfo\\u002f4XoUrkfh+j+F61G4HoX7Pylcj8L1KPw\\u002fzczMzMzM\\u002fD9xPQrXo3D9PxWuR+F6FP4\\u002fuB6F61G4\\u002fj9cj8L1KFz\\u002fPwAAAAAAAABA\"},\"xaxis\":\"x\",\"y\":{\"dtype\":\"f8\",\"bdata\":\"AAAAAAAA8D8AAAAAAADwPwAAAAAAAPA\\u002fAAAAAAAA8D8AAAAAAADwPwAAAAAAAPA\\u002fAAAAAAAA8D8AAAAAAADwPwAAAAAAAPA\\u002fAAAAAAAA8D8AAAAAAADwPwAAAAAAAPA\\u002fAAAAAAAA8D8fuw9PAgDwP8c7LrMeAPA\\u002fRPgGEMsA8D9G\\u002fPZuewPwPznby11uC\\u002fA\\u002fBPK\\u002fXgUe8D\\u002f4NbuzA0LwP4k651rOffA\\u002f1rXIIaPV8D8IAGJVvUrxP7sy0s6Y2\\u002fE\\u002fjr1LztiE8j\\u002frmT8pP0LzP8SS0RBiD\\u002fQ\\u002fW3jnohHo9D86RDJ6f8j1P8u89TpArfY\\u002fUYQDuDiT9z+zIz1bfnf4PyhvygwmV\\u002fk\\u002fgjeH0egu+j\\u002fU9zGvXfr6P++BRu82svs\\u002fm8KJkltI\\u002fD\\u002fASzw1EqD8P9bKTOr3gfw\\u002fjl4okd+X+z\\u002fvSEi0y5v5P2dqpJWZz\\u002fY\\u002fGagjJ\\u002fQT9D\\u002fV4XJk6R7yP0agK+rN\\u002f\\u002fA\\u002fJ\\u002fviINJw8D+juyq+cS\\u002fwP1XJeDQwE\\u002fA\\u002fOHNUOH0H8D\\u002fNEhDh0gLwPwAAAAAAAPA\\u002f\"},\"yaxis\":\"y\",\"type\":\"scatter\"}],\"name\":\"141\"},{\"data\":[{\"hovertemplate\":\"variable=142\\u003cbr\\u003ex=%{x}\\u003cbr\\u003evalue=%{y}\\u003cextra\\u003e\\u003c\\u002fextra\\u003e\",\"legendgroup\":\"\",\"line\":{\"color\":\"#636efa\",\"dash\":\"solid\"},\"marker\":{\"symbol\":\"circle\"},\"mode\":\"lines\",\"name\":\"\",\"orientation\":\"v\",\"showlegend\":false,\"x\":{\"dtype\":\"f8\",\"bdata\":\"AAAAAAAAAAB7FK5H4XqkP3sUrkfherQ\\u002fuB6F61G4vj97FK5H4XrEP5qZmZmZmck\\u002fuB6F61G4zj\\u002fsUbgehevRP3sUrkfhetQ\\u002fCtejcD0K1z+amZmZmZnZPylcj8L1KNw\\u002fuB6F61G43j+kcD0K16PgP+xRuB6F6+E\\u002fMzMzMzMz4z97FK5H4XrkP8P1KFyPwuU\\u002fCtejcD0K5z9SuB6F61HoP5qZmZmZmek\\u002f4XoUrkfh6j8pXI\\u002fC9SjsP3E9CtejcO0\\u002fuB6F61G47j8AAAAAAADwP6RwPQrXo\\u002fA\\u002fSOF6FK5H8T\\u002fsUbgehevxP4\\u002fC9Shcj\\u002fI\\u002fMzMzMzMz8z\\u002fXo3A9CtfzP3sUrkfhevQ\\u002fH4XrUbge9T\\u002fD9Shcj8L1P2dmZmZmZvY\\u002fCtejcD0K9z+uR+F6FK73P1K4HoXrUfg\\u002f9ihcj8L1+D+amZmZmZn5Pz4K16NwPfo\\u002f4XoUrkfh+j+F61G4HoX7Pylcj8L1KPw\\u002fzczMzMzM\\u002fD9xPQrXo3D9PxWuR+F6FP4\\u002fuB6F61G4\\u002fj9cj8L1KFz\\u002fPwAAAAAAAABA\"},\"xaxis\":\"x\",\"y\":{\"dtype\":\"f8\",\"bdata\":\"AAAAAAAA8D8AAAAAAADwPwAAAAAAAPA\\u002fAAAAAAAA8D8AAAAAAADwPwAAAAAAAPA\\u002fAAAAAAAA8D8AAAAAAADwPwAAAAAAAPA\\u002fAAAAAAAA8D8AAAAAAADwPwAAAAAAAPA\\u002fAAAAAAAA8D9sZM4dAgDwP0B8fFUcAPA\\u002fVp0+srwA8D\\u002fdSjwFQgPwP9devVDECvA\\u002fGwQ54XUc8D8RDzJ39z7wP3j8cJ+rePA\\u002f24beq+\\u002fN8D+NAehtMUDxP7tKcbIfzvE\\u002feds6s4V08j\\u002fY7cGuPy\\u002fzP8F93FPz+fM\\u002fA\\u002fH3cHnQ9D9kquMZCa\\u002f1P5cnq7o7kvY\\u002ftj3Z8vt29z+WmHKVZ1r4P+DTXF2hOfk\\u002fdmFCZXwR+j+doGY4x936P9aoQLyxl\\u002fs\\u002fUnBhpT0y\\u002fD8X51Ny\\u002fpL8P7T1bSBwhvw\\u002fPdxsKYS5+z8W2HXlj9\\u002f5Py+xa2GwJPc\\u002fYTK2GB5d9D9fEHERM07yP1N4b2M5GfE\\u002fHFVadhB98D9mu7eY9DTwP8AD3NKNFfA\\u002fj\\u002fYpQncI8D+sdeZ5NgPwPwAAAAAAAPA\\u002f\"},\"yaxis\":\"y\",\"type\":\"scatter\"}],\"name\":\"142\"},{\"data\":[{\"hovertemplate\":\"variable=143\\u003cbr\\u003ex=%{x}\\u003cbr\\u003evalue=%{y}\\u003cextra\\u003e\\u003c\\u002fextra\\u003e\",\"legendgroup\":\"\",\"line\":{\"color\":\"#636efa\",\"dash\":\"solid\"},\"marker\":{\"symbol\":\"circle\"},\"mode\":\"lines\",\"name\":\"\",\"orientation\":\"v\",\"showlegend\":false,\"x\":{\"dtype\":\"f8\",\"bdata\":\"AAAAAAAAAAB7FK5H4XqkP3sUrkfherQ\\u002fuB6F61G4vj97FK5H4XrEP5qZmZmZmck\\u002fuB6F61G4zj\\u002fsUbgehevRP3sUrkfhetQ\\u002fCtejcD0K1z+amZmZmZnZPylcj8L1KNw\\u002fuB6F61G43j+kcD0K16PgP+xRuB6F6+E\\u002fMzMzMzMz4z97FK5H4XrkP8P1KFyPwuU\\u002fCtejcD0K5z9SuB6F61HoP5qZmZmZmek\\u002f4XoUrkfh6j8pXI\\u002fC9SjsP3E9CtejcO0\\u002fuB6F61G47j8AAAAAAADwP6RwPQrXo\\u002fA\\u002fSOF6FK5H8T\\u002fsUbgehevxP4\\u002fC9Shcj\\u002fI\\u002fMzMzMzMz8z\\u002fXo3A9CtfzP3sUrkfhevQ\\u002fH4XrUbge9T\\u002fD9Shcj8L1P2dmZmZmZvY\\u002fCtejcD0K9z+uR+F6FK73P1K4HoXrUfg\\u002f9ihcj8L1+D+amZmZmZn5Pz4K16NwPfo\\u002f4XoUrkfh+j+F61G4HoX7Pylcj8L1KPw\\u002fzczMzMzM\\u002fD9xPQrXo3D9PxWuR+F6FP4\\u002fuB6F61G4\\u002fj9cj8L1KFz\\u002fPwAAAAAAAABA\"},\"xaxis\":\"x\",\"y\":{\"dtype\":\"f8\",\"bdata\":\"AAAAAAAA8D8AAAAAAADwPwAAAAAAAPA\\u002fAAAAAAAA8D8AAAAAAADwPwAAAAAAAPA\\u002fAAAAAAAA8D8AAAAAAADwPwAAAAAAAPA\\u002fAAAAAAAA8D8AAAAAAADwPwAAAAAAAPA\\u002fAAAAAAAA8D8V1qfwAQDwP84bKiYaAPA\\u002fjNWQVK8A8D+mn14zDAPwPwPZ+7MjCvA\\u002fllkXy\\u002fka8D99v2AEDDzwP13i6Fe4c\\u002fA\\u002fIm5oNnnG8D\\u002fy9w5o7TXxP5WOojr2wPE\\u002fzn79Jodk8j9IV71TlxzzP1XYp1Xc5PM\\u002fVCSg3ze59D8Rgux95pX1P5HsZjiGd\\u002fY\\u002fhz3PKQdb9z8uyPkLjz34P7ylPIFNHPk\\u002fWUxHvi30+T\\u002fQyV8cMcH6P8Angd75fPs\\u002foGD+d4sb\\u002fD\\u002fYBpxBmIT8P73KXaxNiPw\\u002fmh6UWBvX+z8N9+M7bh\\u002f6Pwl\\u002fKgnuePc\\u002fYxgEcJao9D9Xy8C1b4DyP3FotGu9NPE\\u002fhR16l3mK8D9OvpjOCjvwP8fsHT8vGPA\\u002fC\\u002f6fDI8J8D+XbxehpgPwPwAAAAAAAPA\\u002f\"},\"yaxis\":\"y\",\"type\":\"scatter\"}],\"name\":\"143\"},{\"data\":[{\"hovertemplate\":\"variable=144\\u003cbr\\u003ex=%{x}\\u003cbr\\u003evalue=%{y}\\u003cextra\\u003e\\u003c\\u002fextra\\u003e\",\"legendgroup\":\"\",\"line\":{\"color\":\"#636efa\",\"dash\":\"solid\"},\"marker\":{\"symbol\":\"circle\"},\"mode\":\"lines\",\"name\":\"\",\"orientation\":\"v\",\"showlegend\":false,\"x\":{\"dtype\":\"f8\",\"bdata\":\"AAAAAAAAAAB7FK5H4XqkP3sUrkfherQ\\u002fuB6F61G4vj97FK5H4XrEP5qZmZmZmck\\u002fuB6F61G4zj\\u002fsUbgehevRP3sUrkfhetQ\\u002fCtejcD0K1z+amZmZmZnZPylcj8L1KNw\\u002fuB6F61G43j+kcD0K16PgP+xRuB6F6+E\\u002fMzMzMzMz4z97FK5H4XrkP8P1KFyPwuU\\u002fCtejcD0K5z9SuB6F61HoP5qZmZmZmek\\u002f4XoUrkfh6j8pXI\\u002fC9SjsP3E9CtejcO0\\u002fuB6F61G47j8AAAAAAADwP6RwPQrXo\\u002fA\\u002fSOF6FK5H8T\\u002fsUbgehevxP4\\u002fC9Shcj\\u002fI\\u002fMzMzMzMz8z\\u002fXo3A9CtfzP3sUrkfhevQ\\u002fH4XrUbge9T\\u002fD9Shcj8L1P2dmZmZmZvY\\u002fCtejcD0K9z+uR+F6FK73P1K4HoXrUfg\\u002f9ihcj8L1+D+amZmZmZn5Pz4K16NwPfo\\u002f4XoUrkfh+j+F61G4HoX7Pylcj8L1KPw\\u002fzczMzMzM\\u002fD9xPQrXo3D9PxWuR+F6FP4\\u002fuB6F61G4\\u002fj9cj8L1KFz\\u002fPwAAAAAAAABA\"},\"xaxis\":\"x\",\"y\":{\"dtype\":\"f8\",\"bdata\":\"AAAAAAAA8D8AAAAAAADwPwAAAAAAAPA\\u002fAAAAAAAA8D8AAAAAAADwPwAAAAAAAPA\\u002fAAAAAAAA8D8AAAAAAADwPwAAAAAAAPA\\u002fAAAAAAAA8D8AAAAAAADwPwAAAAAAAPA\\u002fAAAAAAAA8D85f0THAQDwP\\u002fBJsSEYAPA\\u002fZwuA5aIA8D8rOd7B2QLwPw3IYwmMCfA\\u002fHM7vQJAZ8D8a1tYnQDnwP5aJRxjzbvA\\u002fe69kQz6\\u002f8D8xWnHQ7yvxPyUm3QwbtPE\\u002fbmvh7NtU8j+Ef+H7RArzP+9HBx8c0PM\\u002fisfrJUyi9D8REIIZF331PySQT3YfXfY\\u002ffcD0hVo\\u002f9z9lRm1u9SD4P3Tc8d4r\\u002f\\u002fg\\u002fadftVf\\u002fW+T\\u002fBus6zn6T6Px0c1WcXYvs\\u002fRlvz0VQE\\u002fD+UZxzY\\u002fXT8P3HUdZXAh\\u002fw\\u002f23b08czw+z+EHH5RQFv6Pw9j4r3gy\\u002fc\\u002fIMwGERj29D9kr0mypLXyPyR3dPx2UvE\\u002ftuu9tSSZ8D+ufoTMwUHwP4b3bUQbG\\u002fA\\u002f+yA9y8cK8D+Eu8\\u002fGJATwPwAAAAAAAPA\\u002f\"},\"yaxis\":\"y\",\"type\":\"scatter\"}],\"name\":\"144\"},{\"data\":[{\"hovertemplate\":\"variable=145\\u003cbr\\u003ex=%{x}\\u003cbr\\u003evalue=%{y}\\u003cextra\\u003e\\u003c\\u002fextra\\u003e\",\"legendgroup\":\"\",\"line\":{\"color\":\"#636efa\",\"dash\":\"solid\"},\"marker\":{\"symbol\":\"circle\"},\"mode\":\"lines\",\"name\":\"\",\"orientation\":\"v\",\"showlegend\":false,\"x\":{\"dtype\":\"f8\",\"bdata\":\"AAAAAAAAAAB7FK5H4XqkP3sUrkfherQ\\u002fuB6F61G4vj97FK5H4XrEP5qZmZmZmck\\u002fuB6F61G4zj\\u002fsUbgehevRP3sUrkfhetQ\\u002fCtejcD0K1z+amZmZmZnZPylcj8L1KNw\\u002fuB6F61G43j+kcD0K16PgP+xRuB6F6+E\\u002fMzMzMzMz4z97FK5H4XrkP8P1KFyPwuU\\u002fCtejcD0K5z9SuB6F61HoP5qZmZmZmek\\u002f4XoUrkfh6j8pXI\\u002fC9SjsP3E9CtejcO0\\u002fuB6F61G47j8AAAAAAADwP6RwPQrXo\\u002fA\\u002fSOF6FK5H8T\\u002fsUbgehevxP4\\u002fC9Shcj\\u002fI\\u002fMzMzMzMz8z\\u002fXo3A9CtfzP3sUrkfhevQ\\u002fH4XrUbge9T\\u002fD9Shcj8L1P2dmZmZmZvY\\u002fCtejcD0K9z+uR+F6FK73P1K4HoXrUfg\\u002f9ihcj8L1+D+amZmZmZn5Pz4K16NwPfo\\u002f4XoUrkfh+j+F61G4HoX7Pylcj8L1KPw\\u002fzczMzMzM\\u002fD9xPQrXo3D9PxWuR+F6FP4\\u002fuB6F61G4\\u002fj9cj8L1KFz\\u002fPwAAAAAAAABA\"},\"xaxis\":\"x\",\"y\":{\"dtype\":\"f8\",\"bdata\":\"AAAAAAAA8D8AAAAAAADwPwAAAAAAAPA\\u002fAAAAAAAA8D8AAAAAAADwPwAAAAAAAPA\\u002fAAAAAAAA8D8AAAAAAADwPwAAAAAAAPA\\u002fAAAAAAAA8D8AAAAAAADwPwAAAAAAAPA\\u002fAAAAAAAA8D8SG1ShAQDwP3wU0EQWAPA\\u002fiRW5VJcA8D\\u002fv1mt8qgLwP+X52tj8CPA\\u002fTai5bzgY8D+yKB+3kjbwPwsiZ3xaavA\\u002fZz78Wj248D8loG04NyLxP1JsdtKMp\\u002fE\\u002fEq9cy4JF8j\\u002fPLRSNR\\u002fjyP3kegrmxu\\u002fM\\u002fW6NRebWL9D\\u002fPUxRbmmT1P6L\\u002flC0HQ\\u002fY\\u002fh04KIvYj9z\\u002fHXylXmwT4P4qhzb094vg\\u002f4qINdfO5+T+ODBQDF4j6P2swUsYRR\\u002fs\\u002fL3UwNKjs+z+31M82S2T8P16kb+v2hPw\\u002fdyGghsQG\\u002fD9e3Q8b7JL6P0xua8YaHfg\\u002f7+zJkVRF9T\\u002fO4mfe0O3yP7YbMECCcvE\\u002fmamhDCqp8D+1aU\\u002f4J0nwPzWCrURZHvA\\u002fzfkBACUM8D8KYS6BsgTwPwAAAAAAAPA\\u002f\"},\"yaxis\":\"y\",\"type\":\"scatter\"}],\"name\":\"145\"},{\"data\":[{\"hovertemplate\":\"variable=146\\u003cbr\\u003ex=%{x}\\u003cbr\\u003evalue=%{y}\\u003cextra\\u003e\\u003c\\u002fextra\\u003e\",\"legendgroup\":\"\",\"line\":{\"color\":\"#636efa\",\"dash\":\"solid\"},\"marker\":{\"symbol\":\"circle\"},\"mode\":\"lines\",\"name\":\"\",\"orientation\":\"v\",\"showlegend\":false,\"x\":{\"dtype\":\"f8\",\"bdata\":\"AAAAAAAAAAB7FK5H4XqkP3sUrkfherQ\\u002fuB6F61G4vj97FK5H4XrEP5qZmZmZmck\\u002fuB6F61G4zj\\u002fsUbgehevRP3sUrkfhetQ\\u002fCtejcD0K1z+amZmZmZnZPylcj8L1KNw\\u002fuB6F61G43j+kcD0K16PgP+xRuB6F6+E\\u002fMzMzMzMz4z97FK5H4XrkP8P1KFyPwuU\\u002fCtejcD0K5z9SuB6F61HoP5qZmZmZmek\\u002f4XoUrkfh6j8pXI\\u002fC9SjsP3E9CtejcO0\\u002fuB6F61G47j8AAAAAAADwP6RwPQrXo\\u002fA\\u002fSOF6FK5H8T\\u002fsUbgehevxP4\\u002fC9Shcj\\u002fI\\u002fMzMzMzMz8z\\u002fXo3A9CtfzP3sUrkfhevQ\\u002fH4XrUbge9T\\u002fD9Shcj8L1P2dmZmZmZvY\\u002fCtejcD0K9z+uR+F6FK73P1K4HoXrUfg\\u002f9ihcj8L1+D+amZmZmZn5Pz4K16NwPfo\\u002f4XoUrkfh+j+F61G4HoX7Pylcj8L1KPw\\u002fzczMzMzM\\u002fD9xPQrXo3D9PxWuR+F6FP4\\u002fuB6F61G4\\u002fj9cj8L1KFz\\u002fPwAAAAAAAABA\"},\"xaxis\":\"x\",\"y\":{\"dtype\":\"f8\",\"bdata\":\"AAAAAAAA8D8AAAAAAADwPwAAAAAAAPA\\u002fAAAAAAAA8D8AAAAAAADwPwAAAAAAAPA\\u002fAAAAAAAA8D8AAAAAAADwPwAAAAAAAPA\\u002fAAAAAAAA8D8AAAAAAADwPwAAAAAAAPA\\u002fAAAAAAAA8D9FFY1+AQDwP+dag4wUAPA\\u002fUfH\\u002fkowA8D9F5LwxfgLwPyr1D7B1CPA\\u002fwFSPjPEW8D\\u002faWpaQAjTwP46x7yftZfA\\u002fF9t2C3Wx8D9CURg2whjxP74XkzhKm\\u002fE\\u002fjnYGjHo28j+qpHzvnebyP43yey+cp\\u002fM\\u002f+4QDDnN19D+W+s6sb0z1P5YGLA89KfY\\u002fF\\u002fyCC9oI9z8nCKlMgej3P8xA4EeExfg\\u002fuT0\\u002fNwyd+T\\u002fxA5\\u002fAmmv6PxfIydHvK\\u002fs\\u002f+YTF8pLU+z8Suv5HmlL8P0xuXZYcgPw\\u002fCnm9UjAZ\\u002fD9V9CBKY8b6Pxf+x2k0bPg\\u002fkdRVC\\u002fWV9T8ZTfrJ6yjzPypc3Bj6lPE\\u002fzx7+y6K68D\\u002fUlHK5TFHwP0qHg0LxIfA\\u002fpaLWgaoN8D\\u002fRz7mPUQXwPwAAAAAAAPA\\u002f\"},\"yaxis\":\"y\",\"type\":\"scatter\"}],\"name\":\"146\"},{\"data\":[{\"hovertemplate\":\"variable=147\\u003cbr\\u003ex=%{x}\\u003cbr\\u003evalue=%{y}\\u003cextra\\u003e\\u003c\\u002fextra\\u003e\",\"legendgroup\":\"\",\"line\":{\"color\":\"#636efa\",\"dash\":\"solid\"},\"marker\":{\"symbol\":\"circle\"},\"mode\":\"lines\",\"name\":\"\",\"orientation\":\"v\",\"showlegend\":false,\"x\":{\"dtype\":\"f8\",\"bdata\":\"AAAAAAAAAAB7FK5H4XqkP3sUrkfherQ\\u002fuB6F61G4vj97FK5H4XrEP5qZmZmZmck\\u002fuB6F61G4zj\\u002fsUbgehevRP3sUrkfhetQ\\u002fCtejcD0K1z+amZmZmZnZPylcj8L1KNw\\u002fuB6F61G43j+kcD0K16PgP+xRuB6F6+E\\u002fMzMzMzMz4z97FK5H4XrkP8P1KFyPwuU\\u002fCtejcD0K5z9SuB6F61HoP5qZmZmZmek\\u002f4XoUrkfh6j8pXI\\u002fC9SjsP3E9CtejcO0\\u002fuB6F61G47j8AAAAAAADwP6RwPQrXo\\u002fA\\u002fSOF6FK5H8T\\u002fsUbgehevxP4\\u002fC9Shcj\\u002fI\\u002fMzMzMzMz8z\\u002fXo3A9CtfzP3sUrkfhevQ\\u002fH4XrUbge9T\\u002fD9Shcj8L1P2dmZmZmZvY\\u002fCtejcD0K9z+uR+F6FK73P1K4HoXrUfg\\u002f9ihcj8L1+D+amZmZmZn5Pz4K16NwPfo\\u002f4XoUrkfh+j+F61G4HoX7Pylcj8L1KPw\\u002fzczMzMzM\\u002fD9xPQrXo3D9PxWuR+F6FP4\\u002fuB6F61G4\\u002fj9cj8L1KFz\\u002fPwAAAAAAAABA\"},\"xaxis\":\"x\",\"y\":{\"dtype\":\"f8\",\"bdata\":\"AAAAAAAA8D8AAAAAAADwPwAAAAAAAPA\\u002fAAAAAAAA8D8AAAAAAADwPwAAAAAAAPA\\u002fAAAAAAAA8D8AAAAAAADwPwAAAAAAAPA\\u002fAAAAAAAA8D8AAAAAAADwPwAAAAAAAPA\\u002fAAAAAAAA8D8w+6teAQDwP14gAvYSAPA\\u002f064dkoIA8D9PwmGzVALwP\\u002fR7OyL2B\\u002fA\\u002f9Qpw1LoV8D+LR0GbjjHwP+FXQ8apYfA\\u002fK9sv6eOq8D9r8y5kjw\\u002fxP8KrGPBRj\\u002fE\\u002fEPWO+8En8j+2cYwNR9XyP\\u002fW1WIzak\\u002fM\\u002fuGc3F4Rf9D\\u002f8\\u002fRB1ljT1P8CofcTAD\\u002fY\\u002fAGd2Qwbu9j8xv87Cp8z3P8Yj0IsAqfg\\u002fj5\\u002fgjUuA+T\\u002fu78NaLk\\u002f6PyqMFti3EPs\\u002fm8HxTCG8+z\\u002f12NT9AkD8P9a69Ddbefw\\u002fA7HvR0Ao\\u002fD\\u002f+4\\u002fB1ovX6P49wlKTNuPg\\u002fLFm7MZvn9T+KRwwR5WbzPwXhr5f3ufE\\u002fsb7E+qjN8D8AgxCAQFrwP60ap+vrJfA\\u002fisdbg1wP8D9F9RjfAwbwPwAAAAAAAPA\\u002f\"},\"yaxis\":\"y\",\"type\":\"scatter\"}],\"name\":\"147\"},{\"data\":[{\"hovertemplate\":\"variable=148\\u003cbr\\u003ex=%{x}\\u003cbr\\u003evalue=%{y}\\u003cextra\\u003e\\u003c\\u002fextra\\u003e\",\"legendgroup\":\"\",\"line\":{\"color\":\"#636efa\",\"dash\":\"solid\"},\"marker\":{\"symbol\":\"circle\"},\"mode\":\"lines\",\"name\":\"\",\"orientation\":\"v\",\"showlegend\":false,\"x\":{\"dtype\":\"f8\",\"bdata\":\"AAAAAAAAAAB7FK5H4XqkP3sUrkfherQ\\u002fuB6F61G4vj97FK5H4XrEP5qZmZmZmck\\u002fuB6F61G4zj\\u002fsUbgehevRP3sUrkfhetQ\\u002fCtejcD0K1z+amZmZmZnZPylcj8L1KNw\\u002fuB6F61G43j+kcD0K16PgP+xRuB6F6+E\\u002fMzMzMzMz4z97FK5H4XrkP8P1KFyPwuU\\u002fCtejcD0K5z9SuB6F61HoP5qZmZmZmek\\u002f4XoUrkfh6j8pXI\\u002fC9SjsP3E9CtejcO0\\u002fuB6F61G47j8AAAAAAADwP6RwPQrXo\\u002fA\\u002fSOF6FK5H8T\\u002fsUbgehevxP4\\u002fC9Shcj\\u002fI\\u002fMzMzMzMz8z\\u002fXo3A9CtfzP3sUrkfhevQ\\u002fH4XrUbge9T\\u002fD9Shcj8L1P2dmZmZmZvY\\u002fCtejcD0K9z+uR+F6FK73P1K4HoXrUfg\\u002f9ihcj8L1+D+amZmZmZn5Pz4K16NwPfo\\u002f4XoUrkfh+j+F61G4HoX7Pylcj8L1KPw\\u002fzczMzMzM\\u002fD9xPQrXo3D9PxWuR+F6FP4\\u002fuB6F61G4\\u002fj9cj8L1KFz\\u002fPwAAAAAAAABA\"},\"xaxis\":\"x\",\"y\":{\"dtype\":\"f8\",\"bdata\":\"AAAAAAAA8D8AAAAAAADwPwAAAAAAAPA\\u002fAAAAAAAA8D8AAAAAAADwPwAAAAAAAPA\\u002fAAAAAAAA8D8AAAAAAADwPwAAAAAAAPA\\u002fAAAAAAAA8D8AAAAAAADwPwAAAAAAAPA\\u002fAAAAAAAA8D8W+XJBAQDwP+A1uX4RAPA\\u002fUXzPRHkA8D9CG57VLQLwPzAg5Md9B\\u002fA\\u002fb2MCjJMU8D\\u002f2TqPGNS\\u002fwP2WFagqPXfA\\u002fDo6Ljoik8D\\u002fO1wtinQbxPxJEn62ig\\u002fE\\u002fVYW26VcZ8j+P7wXUQcTyP5OknNxrgPM\\u002fIU9qx+dJ9D9Ag9sWDh31P04RC\\u002fCR9vU\\u002f6DyEv3rT9j8WgRocD7H3P9Tqk36zjPg\\u002fWwviQrNj+T+nCxb91DL6P8qfW6hv9fo\\u002fdLCFg16j+z8Vu2pxmyz8P+PrTBvacPw\\u002fYSFfNiU0\\u002fD9GiN8ZsCD7P3Hi5pqPAvk\\u002fkXfvreI59j8LFXHJo6fzP5ldCWeR4fE\\u002fwKMWUVfi8D9F2gjKFGTwP2aSSaNSKvA\\u002fSrAfmj8R8D+e5xONywbwPwAAAAAAAPA\\u002f\"},\"yaxis\":\"y\",\"type\":\"scatter\"}],\"name\":\"148\"},{\"data\":[{\"hovertemplate\":\"variable=149\\u003cbr\\u003ex=%{x}\\u003cbr\\u003evalue=%{y}\\u003cextra\\u003e\\u003c\\u002fextra\\u003e\",\"legendgroup\":\"\",\"line\":{\"color\":\"#636efa\",\"dash\":\"solid\"},\"marker\":{\"symbol\":\"circle\"},\"mode\":\"lines\",\"name\":\"\",\"orientation\":\"v\",\"showlegend\":false,\"x\":{\"dtype\":\"f8\",\"bdata\":\"AAAAAAAAAAB7FK5H4XqkP3sUrkfherQ\\u002fuB6F61G4vj97FK5H4XrEP5qZmZmZmck\\u002fuB6F61G4zj\\u002fsUbgehevRP3sUrkfhetQ\\u002fCtejcD0K1z+amZmZmZnZPylcj8L1KNw\\u002fuB6F61G43j+kcD0K16PgP+xRuB6F6+E\\u002fMzMzMzMz4z97FK5H4XrkP8P1KFyPwuU\\u002fCtejcD0K5z9SuB6F61HoP5qZmZmZmek\\u002f4XoUrkfh6j8pXI\\u002fC9SjsP3E9CtejcO0\\u002fuB6F61G47j8AAAAAAADwP6RwPQrXo\\u002fA\\u002fSOF6FK5H8T\\u002fsUbgehevxP4\\u002fC9Shcj\\u002fI\\u002fMzMzMzMz8z\\u002fXo3A9CtfzP3sUrkfhevQ\\u002fH4XrUbge9T\\u002fD9Shcj8L1P2dmZmZmZvY\\u002fCtejcD0K9z+uR+F6FK73P1K4HoXrUfg\\u002f9ihcj8L1+D+amZmZmZn5Pz4K16NwPfo\\u002f4XoUrkfh+j+F61G4HoX7Pylcj8L1KPw\\u002fzczMzMzM\\u002fD9xPQrXo3D9PxWuR+F6FP4\\u002fuB6F61G4\\u002fj9cj8L1KFz\\u002fPwAAAAAAAABA\"},\"xaxis\":\"x\",\"y\":{\"dtype\":\"f8\",\"bdata\":\"AAAAAAAA8D8AAAAAAADwPwAAAAAAAPA\\u002fAAAAAAAA8D8AAAAAAADwPwAAAAAAAPA\\u002fAAAAAAAA8D8AAAAAAADwPwAAAAAAAPA\\u002fAAAAAAAA8D8AAAAAAADwPwAAAAAAAPA\\u002fAAAAAAAA8D86YqkmAQDwPwA2RyQQAPA\\u002fa8C2nnAA8D+JKUNvCQLwP\\u002f3goz4MB\\u002fA\\u002f0+VX\\u002f3oT8D8ki5QK9yzwP4UXAK+bWfA\\u002fvCztm2Ge8D9OwprT6v3wP\\u002f3KYyk7ePE\\u002fXylEKTsL8j9PtAAyjbPyP7pfCC5PbfM\\u002fAkKdUJ009D\\u002fdiDjy1QX1P3i\\u002fBi6w3fU\\u002fgRCqaje59j\\u002fvys2qt5X3Py+MEf2dcPg\\u002fc\\u002flf+0RH+T+UPVCVkRb6P7qXS50c2vo\\u002fsPWi7VSK+z\\u002fYOKcBeBj8P3OmcjC+Zvw\\u002fYtyDFBA9\\u002fD8kXWF3m0f7Py1\\u002f67stSfk\\u002f4AB+sGKM9j87rPESBuvzPwvD1CfbC\\u002fI\\u002f03qxCMn48D91IZwl3G7wP2dcg4wvL\\u002fA\\u002fQV02xlgT8D\\u002fPrN\\u002fsqgfwPwAAAAAAAPA\\u002f\"},\"yaxis\":\"y\",\"type\":\"scatter\"}],\"name\":\"149\"},{\"data\":[{\"hovertemplate\":\"variable=150\\u003cbr\\u003ex=%{x}\\u003cbr\\u003evalue=%{y}\\u003cextra\\u003e\\u003c\\u002fextra\\u003e\",\"legendgroup\":\"\",\"line\":{\"color\":\"#636efa\",\"dash\":\"solid\"},\"marker\":{\"symbol\":\"circle\"},\"mode\":\"lines\",\"name\":\"\",\"orientation\":\"v\",\"showlegend\":false,\"x\":{\"dtype\":\"f8\",\"bdata\":\"AAAAAAAAAAB7FK5H4XqkP3sUrkfherQ\\u002fuB6F61G4vj97FK5H4XrEP5qZmZmZmck\\u002fuB6F61G4zj\\u002fsUbgehevRP3sUrkfhetQ\\u002fCtejcD0K1z+amZmZmZnZPylcj8L1KNw\\u002fuB6F61G43j+kcD0K16PgP+xRuB6F6+E\\u002fMzMzMzMz4z97FK5H4XrkP8P1KFyPwuU\\u002fCtejcD0K5z9SuB6F61HoP5qZmZmZmek\\u002f4XoUrkfh6j8pXI\\u002fC9SjsP3E9CtejcO0\\u002fuB6F61G47j8AAAAAAADwP6RwPQrXo\\u002fA\\u002fSOF6FK5H8T\\u002fsUbgehevxP4\\u002fC9Shcj\\u002fI\\u002fMzMzMzMz8z\\u002fXo3A9CtfzP3sUrkfhevQ\\u002fH4XrUbge9T\\u002fD9Shcj8L1P2dmZmZmZvY\\u002fCtejcD0K9z+uR+F6FK73P1K4HoXrUfg\\u002f9ihcj8L1+D+amZmZmZn5Pz4K16NwPfo\\u002f4XoUrkfh+j+F61G4HoX7Pylcj8L1KPw\\u002fzczMzMzM\\u002fD9xPQrXo3D9PxWuR+F6FP4\\u002fuB6F61G4\\u002fj9cj8L1KFz\\u002fPwAAAAAAAABA\"},\"xaxis\":\"x\",\"y\":{\"dtype\":\"f8\",\"bdata\":\"AAAAAAAA8D8AAAAAAADwPwAAAAAAAPA\\u002fAAAAAAAA8D8AAAAAAADwPwAAAAAAAPA\\u002fAAAAAAAA8D8AAAAAAADwPwAAAAAAAPA\\u002fAAAAAAAA8D8AAAAAAADwPwAAAAAAAPA\\u002fAAAAAAAA8D\\u002fxQhsOAQDwP2PMeOQOAPA\\u002fCzNKlGgA8D\\u002f33YtZ5wHwPwfI7yihBvA\\u002ftZWxgXAS8D\\u002fV7hdn0SrwPyZPHXbOVfA\\u002fxEStt22Y8D\\u002fIZk5hdvXwPyeoOh8abfE\\u002fMIr7j2r98T8cI+wYKKPyPyKEsY+DWvM\\u002fX8+M5KMf9D9455lk7e70PxyQ4xQbxfU\\u002fCzoMJjyf9j+DrP6xoXr3PxE7pM3AVPg\\u002fjDYOOgIr+T8nAdfXZvr5P\\u002fUEjKbDvvo\\u002fcy\\u002fqCw5x+z+ySIJxqwP8PyJBeBEqW\\u002fw\\u002feYW6ZDFD\\u002fD+6FK9oe2r7Pxpr95BmjPk\\u002fDQu8sK\\u002fe9j\\u002fgDofS4DD0P3CimsTkOPI\\u002fCWa1ohkR8T8lyw8xqnrwP3PAn5SNNPA\\u002fuj8yeq0V8D9nfriLpAjwPwAAAAAAAPA\\u002f\"},\"yaxis\":\"y\",\"type\":\"scatter\"}],\"name\":\"150\"}]);\n",
       "                        }).then(function(){\n",
       "                            \n",
       "var gd = document.getElementById('74e72e0f-4fd0-46df-a82f-371ad10d2133');\n",
       "var x = new MutationObserver(function (mutations, observer) {{\n",
       "        var display = window.getComputedStyle(gd).display;\n",
       "        if (!display || display === 'none') {{\n",
       "            console.log([gd, 'removed!']);\n",
       "            Plotly.purge(gd);\n",
       "            observer.disconnect();\n",
       "        }}\n",
       "}});\n",
       "\n",
       "// Listen for the removal of the full notebook cells\n",
       "var notebookContainer = gd.closest('#notebook-container');\n",
       "if (notebookContainer) {{\n",
       "    x.observe(notebookContainer, {childList: true});\n",
       "}}\n",
       "\n",
       "// Listen for the clearing of the current output cell\n",
       "var outputEl = gd.closest('.output');\n",
       "if (outputEl) {{\n",
       "    x.observe(outputEl, {childList: true});\n",
       "}}\n",
       "\n",
       "                        })                };            </script>        </div>"
      ]
     },
     "metadata": {},
     "output_type": "display_data"
    }
   ],
   "source": [
    "make_convection_animation(u.T, 51, 150, 0, 2)"
   ]
  },
  {
   "cell_type": "code",
   "execution_count": null,
   "metadata": {},
   "outputs": [],
   "source": []
  }
 ],
 "metadata": {
  "kernelspec": {
   "display_name": "sci.venv",
   "language": "python",
   "name": "python3"
  },
  "language_info": {
   "codemirror_mode": {
    "name": "ipython",
    "version": 3
   },
   "file_extension": ".py",
   "mimetype": "text/x-python",
   "name": "python",
   "nbconvert_exporter": "python",
   "pygments_lexer": "ipython3",
   "version": "3.11.5"
  }
 },
 "nbformat": 4,
 "nbformat_minor": 2
}
